{
 "cells": [
  {
   "cell_type": "markdown",
   "metadata": {},
   "source": [
    "# This notebook ..."
   ]
  },
  {
   "cell_type": "code",
   "execution_count": 1,
   "metadata": {},
   "outputs": [],
   "source": [
    "import pathlib\n",
    "import sys\n",
    "import yaml\n",
    "\n",
    "import pandas as pd\n",
    "import torch\n",
    "import torch.optim as optim\n",
    "import mlflow\n",
    "import optuna\n",
    "import joblib"
   ]
  },
  {
   "cell_type": "markdown",
   "metadata": {},
   "source": [
    "## Read config"
   ]
  },
  {
   "cell_type": "code",
   "execution_count": 2,
   "metadata": {},
   "outputs": [],
   "source": [
    "with open(pathlib.Path('.').absolute().parent.parent / \"config.yml\", \"r\") as file:\n",
    "    config = yaml.safe_load(file)"
   ]
  },
  {
   "cell_type": "markdown",
   "metadata": {},
   "source": [
    "## Import virtual_stain_flow software "
   ]
  },
  {
   "cell_type": "code",
   "execution_count": 3,
   "metadata": {},
   "outputs": [
    {
     "name": "stdout",
     "output_type": "stream",
     "text": [
      "/home/weishanli/Waylab/pediatric_cancer_atlas_analysis\n"
     ]
    }
   ],
   "source": [
    "sys.path.append(config['paths']['software_path'])\n",
    "print(str(pathlib.Path('.').absolute().parent.parent))\n",
    "\n",
    "## Dataset\n",
    "from virtual_stain_flow.datasets.PatchDataset import PatchDataset\n",
    "from virtual_stain_flow.datasets.CachedDataset import CachedDataset\n",
    "\n",
    "## FNet training\n",
    "from virtual_stain_flow.models.fnet import FNet\n",
    "from virtual_stain_flow.trainers.Trainer import Trainer\n",
    "\n",
    "## wGaN training\n",
    "from virtual_stain_flow.models.unet import UNet\n",
    "from virtual_stain_flow.models.discriminator import GlobalDiscriminator\n",
    "from virtual_stain_flow.trainers.WGaNTrainer import WGaNTrainer\n",
    "\n",
    "## wGaN losses\n",
    "from virtual_stain_flow.losses.GradientPenaltyLoss import GradientPenaltyLoss\n",
    "from virtual_stain_flow.losses.DiscriminatorLoss import DiscriminatorLoss\n",
    "from virtual_stain_flow.losses.GeneratorLoss import GeneratorLoss\n",
    "\n",
    "from virtual_stain_flow.transforms.MinMaxNormalize import MinMaxNormalize\n",
    "from virtual_stain_flow.transforms.PixelDepthTransform import PixelDepthTransform\n",
    "\n",
    "## Metrics\n",
    "from virtual_stain_flow.metrics.MetricsWrapper import MetricsWrapper\n",
    "from virtual_stain_flow.metrics.PSNR import PSNR\n",
    "from virtual_stain_flow.metrics.SSIM import SSIM\n",
    "\n",
    "## callback\n",
    "from virtual_stain_flow.callbacks.MlflowLogger import MlflowLogger\n",
    "from virtual_stain_flow.callbacks.IntermediatePlot import IntermediatePatchPlot"
   ]
  },
  {
   "cell_type": "markdown",
   "metadata": {},
   "source": [
    "## Define paths and other train parameters"
   ]
  },
  {
   "cell_type": "code",
   "execution_count": 4,
   "metadata": {},
   "outputs": [],
   "source": [
    "## Loaddata for train\n",
    "LOADDATA_FILE_PATH = pathlib.Path('.').absolute().parent.parent \\\n",
    "    / '0.data_preprocessing' / 'data_split_loaddata' / 'loaddata_train.csv'\n",
    "assert LOADDATA_FILE_PATH.exists()\n",
    "SC_FEATURES_DIR = pathlib.Path(config['paths']['sc_features_path'])\n",
    "\n",
    "## Output directories\n",
    "MLFLOW_DIR = pathlib.Path('.').absolute() / 'optuna_mlflow'\n",
    "MLFLOW_DIR.mkdir(parents=True, exist_ok=True)\n",
    "\n",
    "OPTUNA_JOBLIB_DIR = pathlib.Path('.').absolute() / 'optuna_joblib'\n",
    "OPTUNA_JOBLIB_DIR.mkdir(parents=True, exist_ok=True)\n",
    "\n",
    "## Basic data generation, model convolutional depth and max epoch definition\n",
    "PATCH_SIZE = 256\n",
    "DEPTH = 5\n",
    "EPOCHS = 1_000\n",
    "\n",
    "## Channels for input and target are read from config\n",
    "INPUT_CHANNEL_NAMES = config['data']['input_channel_keys']\n",
    "TARGET_CHANNEL_NAMES = config['data']['target_channel_keys']"
   ]
  },
  {
   "cell_type": "markdown",
   "metadata": {},
   "source": [
    "## Defines how the train data will be divided to train models on two levels of confluence"
   ]
  },
  {
   "cell_type": "code",
   "execution_count": null,
   "metadata": {},
   "outputs": [],
   "source": [
    "DATA_GROUPING = {\n",
    "    'high_confluence': {\n",
    "        'seeding_density': [12_000, 8_000]\n",
    "    },\n",
    "    'low_confluence': {\n",
    "        'seeding_density': [4_000, 2_000, 1_000]\n",
    "    }\n",
    "}"
   ]
  },
  {
   "cell_type": "markdown",
   "metadata": {},
   "source": [
    "## Define optimization objectives"
   ]
  },
  {
   "cell_type": "code",
   "execution_count": 5,
   "metadata": {},
   "outputs": [],
   "source": [
    "import gc\n",
    "def free_gpu_memory():\n",
    "    gc.collect()\n",
    "    torch.cuda.empty_cache()\n",
    "\n",
    "def objective(trial, dataset, channel_name, confluence_group_name):\n",
    "    \n",
    "    ## Suggest hyperparameters\n",
    "    lr = trial.suggest_float(\"lr\", 1e-5, 1e-2, log=True) # adam optimizer learning rate\n",
    "    beta0 = trial.suggest_float('beta0', 0.5, 0.9) # adam optimizer beta 0\n",
    "    beta1 = trial.suggest_float('beta1', 0.9, 0.999) # adam optimizer beta 1\n",
    "    betas = (beta0, beta1)\n",
    "\n",
    "    batch_size = trial.suggest_int('batch_size', 16, 64, step=16)\n",
    "    patience = trial.suggest_int('patience', 5, 20) # early stop patience\n",
    "\n",
    "    conv_depth = trial.suggest_int('conv_depth', 3, 5) # convolutional depth for fnet model\n",
    "\n",
    "    ## Setup model and optimizer\n",
    "    model = FNet(depth=conv_depth)\n",
    "    optimizer = optim.Adam(model.parameters(), lr=lr, betas=betas)\n",
    "    \n",
    "    ## Metrics to be computed (and logged)\n",
    "    metric_fns = {\n",
    "        \"mse_loss\": MetricsWrapper(_metric_name='mse', module=torch.nn.MSELoss()),\n",
    "        \"ssim_loss\": SSIM(_metric_name=\"ssim\"),\n",
    "        \"psnr_loss\": PSNR(_metric_name=\"psnr\"),\n",
    "    }\n",
    "\n",
    "    ## Params to log with mlflow\n",
    "    params = {\n",
    "            \"lr\": lr,\n",
    "            \"beta0\": beta0,\n",
    "            \"beta1\": beta1,\n",
    "            \"depth\": conv_depth,\n",
    "            \"patch_size\": PATCH_SIZE,\n",
    "            \"batch_size\": batch_size,\n",
    "            \"epochs\": EPOCHS,\n",
    "            \"patience\": patience,\n",
    "            \"channel_name\": channel_name,\n",
    "        }\n",
    "\n",
    "    ## mlflow logger callback\n",
    "    mlflow_logger_callback = MlflowLogger(\n",
    "        name='mlflow_logger',\n",
    "        mlflow_uri=MLFLOW_DIR / 'mlruns',\n",
    "        mlflow_experiment_name=f'FNet_optimize_{confluence_group_name}',\n",
    "        mlflow_start_run_args={'run_name': f'FNet_optimize_{confluence_group_name}_{channel_name}', 'nested': True},\n",
    "        mlflow_log_params_args=params\n",
    "    )\n",
    "    \n",
    "    ## Trainer\n",
    "    trainer = Trainer(\n",
    "        model = model,\n",
    "        optimizer = optimizer,\n",
    "        backprop_loss = torch.nn.L1Loss(), # MAE loss for backpropagation\n",
    "        dataset = dataset,\n",
    "        batch_size = batch_size,\n",
    "        epochs = EPOCHS,\n",
    "        patience = patience,\n",
    "        callbacks=[mlflow_logger_callback],\n",
    "        metrics=metric_fns,\n",
    "        device = 'cuda',\n",
    "        early_termination_metric='L1Loss'\n",
    "    )\n",
    "\n",
    "    # Train the model and log validation loss\n",
    "    trainer.train()\n",
    "    val_loss = trainer.best_loss\n",
    "\n",
    "    del model\n",
    "    del optimizer\n",
    "    del metric_fns\n",
    "    del mlflow_logger_callback\n",
    "    del trainer\n",
    "    \n",
    "    free_gpu_memory()\n",
    "\n",
    "    return val_loss"
   ]
  },
  {
   "cell_type": "code",
   "execution_count": 7,
   "metadata": {},
   "outputs": [
    {
     "name": "stderr",
     "output_type": "stream",
     "text": [
      "[I 2025-02-20 12:46:38,697] A new study created in memory with name: FNet_optimize_OrigDNA_high_confluence\n"
     ]
    },
    {
     "name": "stdout",
     "output_type": "stream",
     "text": [
      "Beginning optimization for channel: OrigDNA for high_confluence\n"
     ]
    },
    {
     "name": "stderr",
     "output_type": "stream",
     "text": [
      "2025/02/20 12:46:39 INFO mlflow.tracking.fluent: Experiment with name 'FNet_optimize_high_confluence' does not exist. Creating a new experiment.\n"
     ]
    },
    {
     "name": "stdout",
     "output_type": "stream",
     "text": [
      "Early termination at epoch 99 with best validation metric 0.025294281542301178\n"
     ]
    },
    {
     "name": "stderr",
     "output_type": "stream",
     "text": [
      "[I 2025-02-20 12:47:49,143] Trial 0 finished with value: 0.025294281542301178 and parameters: {'lr': 0.0001329291894316216, 'beta0': 0.8802857225639664, 'beta1': 0.9724674002393291, 'batch_size': 48, 'patience': 7, 'conv_depth': 3}. Best is trial 0 with value: 0.025294281542301178.\n"
     ]
    },
    {
     "name": "stdout",
     "output_type": "stream",
     "text": [
      "Early termination at epoch 359 with best validation metric 0.0612393319606781\n"
     ]
    },
    {
     "name": "stderr",
     "output_type": "stream",
     "text": [
      "[I 2025-02-20 12:52:52,325] Trial 1 finished with value: 0.0612393319606781 and parameters: {'lr': 1.493656855461762e-05, 'beta0': 0.846470458309974, 'beta1': 0.9595103861625777, 'batch_size': 48, 'patience': 5, 'conv_depth': 5}. Best is trial 0 with value: 0.025294281542301178.\n"
     ]
    },
    {
     "name": "stdout",
     "output_type": "stream",
     "text": [
      "Early termination at epoch 14 with best validation metric 0.029144490137696266\n"
     ]
    },
    {
     "name": "stderr",
     "output_type": "stream",
     "text": [
      "[I 2025-02-20 12:53:03,600] Trial 2 finished with value: 0.029144490137696266 and parameters: {'lr': 0.00314288089084011, 'beta0': 0.5849356442713105, 'beta1': 0.918000671753503, 'batch_size': 16, 'patience': 9, 'conv_depth': 4}. Best is trial 0 with value: 0.025294281542301178.\n"
     ]
    },
    {
     "name": "stdout",
     "output_type": "stream",
     "text": [
      "Early termination at epoch 65 with best validation metric 0.017240589018911123\n"
     ]
    },
    {
     "name": "stderr",
     "output_type": "stream",
     "text": [
      "[I 2025-02-20 12:53:54,357] Trial 3 finished with value: 0.017240589018911123 and parameters: {'lr': 0.00019762189340280086, 'beta0': 0.6164916560792167, 'beta1': 0.9605734365775156, 'batch_size': 16, 'patience': 9, 'conv_depth': 4}. Best is trial 3 with value: 0.017240589018911123.\n"
     ]
    },
    {
     "name": "stdout",
     "output_type": "stream",
     "text": [
      "Early termination at epoch 77 with best validation metric 0.02355814538896084\n"
     ]
    },
    {
     "name": "stderr",
     "output_type": "stream",
     "text": [
      "[I 2025-02-20 12:54:48,201] Trial 4 finished with value: 0.02355814538896084 and parameters: {'lr': 0.00023345864076016249, 'beta0': 0.8140703845572055, 'beta1': 0.9197677044336776, 'batch_size': 48, 'patience': 14, 'conv_depth': 3}. Best is trial 3 with value: 0.017240589018911123.\n"
     ]
    },
    {
     "name": "stdout",
     "output_type": "stream",
     "text": [
      "Early termination at epoch 94 with best validation metric 0.021949496120214462\n"
     ]
    },
    {
     "name": "stderr",
     "output_type": "stream",
     "text": [
      "[I 2025-02-20 12:56:06,545] Trial 5 finished with value: 0.021949496120214462 and parameters: {'lr': 0.0006647135865318024, 'beta0': 0.5682096494749166, 'beta1': 0.9064401077055427, 'batch_size': 64, 'patience': 20, 'conv_depth': 5}. Best is trial 3 with value: 0.017240589018911123.\n"
     ]
    },
    {
     "name": "stdout",
     "output_type": "stream",
     "text": [
      "Early termination at epoch 115 with best validation metric 0.023089293390512466\n"
     ]
    },
    {
     "name": "stderr",
     "output_type": "stream",
     "text": [
      "[I 2025-02-20 12:57:32,778] Trial 6 finished with value: 0.023089293390512466 and parameters: {'lr': 8.200518402245828e-05, 'beta0': 0.5390688456025535, 'beta1': 0.9677390696247036, 'batch_size': 32, 'patience': 6, 'conv_depth': 4}. Best is trial 3 with value: 0.017240589018911123.\n"
     ]
    },
    {
     "name": "stdout",
     "output_type": "stream",
     "text": [
      "Early termination at epoch 13 with best validation metric 0.39817190170288086\n"
     ]
    },
    {
     "name": "stderr",
     "output_type": "stream",
     "text": [
      "[I 2025-02-20 12:57:42,427] Trial 7 finished with value: 0.39817190170288086 and parameters: {'lr': 1.2681352169084594e-05, 'beta0': 0.8637281608315128, 'beta1': 0.9256192181784016, 'batch_size': 48, 'patience': 9, 'conv_depth': 4}. Best is trial 3 with value: 0.017240589018911123.\n"
     ]
    },
    {
     "name": "stdout",
     "output_type": "stream",
     "text": [
      "Early termination at epoch 96 with best validation metric 0.01977679878473282\n"
     ]
    },
    {
     "name": "stderr",
     "output_type": "stream",
     "text": [
      "[I 2025-02-20 12:58:56,806] Trial 8 finished with value: 0.01977679878473282 and parameters: {'lr': 0.00043664735929796326, 'beta0': 0.5739417822102109, 'beta1': 0.9959888781486913, 'batch_size': 64, 'patience': 20, 'conv_depth': 5}. Best is trial 3 with value: 0.017240589018911123.\n"
     ]
    },
    {
     "name": "stdout",
     "output_type": "stream",
     "text": [
      "Early termination at epoch 17 with best validation metric 0.02676104661077261\n"
     ]
    },
    {
     "name": "stderr",
     "output_type": "stream",
     "text": [
      "[I 2025-02-20 12:59:08,066] Trial 9 finished with value: 0.02676104661077261 and parameters: {'lr': 0.0006218704727769079, 'beta0': 0.8687496940092467, 'beta1': 0.90876075770314, 'batch_size': 16, 'patience': 5, 'conv_depth': 3}. Best is trial 3 with value: 0.017240589018911123.\n"
     ]
    },
    {
     "name": "stdout",
     "output_type": "stream",
     "text": [
      "Early termination at epoch 21 with best validation metric 0.03451451286673546\n"
     ]
    },
    {
     "name": "stderr",
     "output_type": "stream",
     "text": [
      "[I 2025-02-20 12:59:23,427] Trial 10 finished with value: 0.03451451286673546 and parameters: {'lr': 0.0068455702672729195, 'beta0': 0.6849450723082012, 'beta1': 0.9425677426519817, 'batch_size': 32, 'patience': 14, 'conv_depth': 4}. Best is trial 3 with value: 0.017240589018911123.\n"
     ]
    },
    {
     "name": "stdout",
     "output_type": "stream",
     "text": [
      "Early termination at epoch 66 with best validation metric 0.03145650774240494\n"
     ]
    },
    {
     "name": "stderr",
     "output_type": "stream",
     "text": [
      "[I 2025-02-20 13:00:14,670] Trial 11 finished with value: 0.03145650774240494 and parameters: {'lr': 0.0011699870383462653, 'beta0': 0.6465310512513722, 'beta1': 0.9937492257626248, 'batch_size': 64, 'patience': 20, 'conv_depth': 5}. Best is trial 3 with value: 0.017240589018911123.\n"
     ]
    },
    {
     "name": "stdout",
     "output_type": "stream",
     "text": [
      "Early termination at epoch 162 with best validation metric 0.029659803956747055\n"
     ]
    },
    {
     "name": "stderr",
     "output_type": "stream",
     "text": [
      "[I 2025-02-20 13:02:24,402] Trial 12 finished with value: 0.029659803956747055 and parameters: {'lr': 5.840845983076413e-05, 'beta0': 0.6176868105011113, 'beta1': 0.997712899247881, 'batch_size': 16, 'patience': 17, 'conv_depth': 5}. Best is trial 3 with value: 0.017240589018911123.\n"
     ]
    },
    {
     "name": "stdout",
     "output_type": "stream",
     "text": [
      "Early termination at epoch 89 with best validation metric 0.018268335610628128\n"
     ]
    },
    {
     "name": "stderr",
     "output_type": "stream",
     "text": [
      "[I 2025-02-20 13:03:28,524] Trial 13 finished with value: 0.018268335610628128 and parameters: {'lr': 0.0002977814406874223, 'beta0': 0.5027601438631395, 'beta1': 0.9831148451439575, 'batch_size': 32, 'patience': 11, 'conv_depth': 4}. Best is trial 3 with value: 0.017240589018911123.\n"
     ]
    },
    {
     "name": "stdout",
     "output_type": "stream",
     "text": [
      "Early termination at epoch 198 with best validation metric 0.028614740818738937\n"
     ]
    },
    {
     "name": "stderr",
     "output_type": "stream",
     "text": [
      "[I 2025-02-20 13:05:50,798] Trial 14 finished with value: 0.028614740818738937 and parameters: {'lr': 4.930045630352758e-05, 'beta0': 0.5134343539737888, 'beta1': 0.9784715688808749, 'batch_size': 32, 'patience': 11, 'conv_depth': 4}. Best is trial 3 with value: 0.017240589018911123.\n"
     ]
    },
    {
     "name": "stdout",
     "output_type": "stream",
     "text": [
      "Early termination at epoch 21 with best validation metric 0.03273880202323198\n"
     ]
    },
    {
     "name": "stderr",
     "output_type": "stream",
     "text": [
      "[I 2025-02-20 13:06:06,249] Trial 15 finished with value: 0.03273880202323198 and parameters: {'lr': 0.001558597254588861, 'beta0': 0.767537435652893, 'beta1': 0.9467971750180406, 'batch_size': 16, 'patience': 11, 'conv_depth': 4}. Best is trial 3 with value: 0.017240589018911123.\n"
     ]
    },
    {
     "name": "stdout",
     "output_type": "stream",
     "text": [
      "Early termination at epoch 85 with best validation metric 0.02576204389333725\n"
     ]
    },
    {
     "name": "stderr",
     "output_type": "stream",
     "text": [
      "[I 2025-02-20 13:07:07,514] Trial 16 finished with value: 0.02576204389333725 and parameters: {'lr': 0.00019326842211595807, 'beta0': 0.7139164877985044, 'beta1': 0.9826052428591093, 'batch_size': 32, 'patience': 8, 'conv_depth': 4}. Best is trial 3 with value: 0.017240589018911123.\n"
     ]
    },
    {
     "name": "stdout",
     "output_type": "stream",
     "text": [
      "Early termination at epoch 199 with best validation metric 0.024932499043643475\n"
     ]
    },
    {
     "name": "stderr",
     "output_type": "stream",
     "text": [
      "[I 2025-02-20 13:09:16,155] Trial 17 finished with value: 0.024932499043643475 and parameters: {'lr': 2.5834571471514228e-05, 'beta0': 0.6432122777149687, 'beta1': 0.9562555375901495, 'batch_size': 16, 'patience': 11, 'conv_depth': 3}. Best is trial 3 with value: 0.017240589018911123.\n"
     ]
    },
    {
     "name": "stdout",
     "output_type": "stream",
     "text": [
      "Early termination at epoch 88 with best validation metric 0.0243043452501297\n"
     ]
    },
    {
     "name": "stderr",
     "output_type": "stream",
     "text": [
      "[I 2025-02-20 13:10:13,617] Trial 18 finished with value: 0.0243043452501297 and parameters: {'lr': 0.00011903546832305287, 'beta0': 0.5036961372494166, 'beta1': 0.9317271448250604, 'batch_size': 32, 'patience': 13, 'conv_depth': 3}. Best is trial 3 with value: 0.017240589018911123.\n"
     ]
    },
    {
     "name": "stdout",
     "output_type": "stream",
     "text": [
      "Early termination at epoch 44 with best validation metric 0.023937159217894077\n"
     ]
    },
    {
     "name": "stderr",
     "output_type": "stream",
     "text": [
      "[I 2025-02-20 13:10:45,560] Trial 19 finished with value: 0.023937159217894077 and parameters: {'lr': 0.00036844377914545105, 'beta0': 0.7019794665105347, 'beta1': 0.98311438767879, 'batch_size': 16, 'patience': 16, 'conv_depth': 4}. Best is trial 3 with value: 0.017240589018911123.\n"
     ]
    },
    {
     "name": "stdout",
     "output_type": "stream",
     "text": [
      "Early termination at epoch 37 with best validation metric 0.026506461203098297\n"
     ]
    },
    {
     "name": "stderr",
     "output_type": "stream",
     "text": [
      "[I 2025-02-20 13:11:12,393] Trial 20 finished with value: 0.026506461203098297 and parameters: {'lr': 0.001464996009379671, 'beta0': 0.7462445361850244, 'beta1': 0.9634112634301673, 'batch_size': 32, 'patience': 9, 'conv_depth': 4}. Best is trial 3 with value: 0.017240589018911123.\n"
     ]
    },
    {
     "name": "stdout",
     "output_type": "stream",
     "text": [
      "Early termination at epoch 130 with best validation metric 0.023869413882493973\n"
     ]
    },
    {
     "name": "stderr",
     "output_type": "stream",
     "text": [
      "[I 2025-02-20 13:12:52,703] Trial 21 finished with value: 0.023869413882493973 and parameters: {'lr': 0.00043790227851905515, 'beta0': 0.5655391426378134, 'beta1': 0.9886776455970878, 'batch_size': 64, 'patience': 18, 'conv_depth': 5}. Best is trial 3 with value: 0.017240589018911123.\n"
     ]
    },
    {
     "name": "stdout",
     "output_type": "stream",
     "text": [
      "Early termination at epoch 97 with best validation metric 0.023024629801511765\n"
     ]
    },
    {
     "name": "stderr",
     "output_type": "stream",
     "text": [
      "[I 2025-02-20 13:14:08,313] Trial 22 finished with value: 0.023024629801511765 and parameters: {'lr': 0.00027821939372306756, 'beta0': 0.605628146584948, 'beta1': 0.9730374883014722, 'batch_size': 48, 'patience': 12, 'conv_depth': 5}. Best is trial 3 with value: 0.017240589018911123.\n"
     ]
    },
    {
     "name": "stdout",
     "output_type": "stream",
     "text": [
      "Early termination at epoch 104 with best validation metric 0.02090122178196907\n"
     ]
    },
    {
     "name": "stderr",
     "output_type": "stream",
     "text": [
      "[I 2025-02-20 13:15:22,914] Trial 23 finished with value: 0.02090122178196907 and parameters: {'lr': 0.0007447098912613391, 'beta0': 0.5381269114667261, 'beta1': 0.9898756497871241, 'batch_size': 64, 'patience': 10, 'conv_depth': 4}. Best is trial 3 with value: 0.017240589018911123.\n"
     ]
    },
    {
     "name": "stdout",
     "output_type": "stream",
     "text": [
      "Early termination at epoch 136 with best validation metric 0.025196876376867294\n"
     ]
    },
    {
     "name": "stderr",
     "output_type": "stream",
     "text": [
      "[I 2025-02-20 13:17:10,259] Trial 24 finished with value: 0.025196876376867294 and parameters: {'lr': 0.0001328249646127944, 'beta0': 0.5348188652510704, 'beta1': 0.9986441241236188, 'batch_size': 32, 'patience': 15, 'conv_depth': 5}. Best is trial 3 with value: 0.017240589018911123.\n"
     ]
    },
    {
     "name": "stdout",
     "output_type": "stream",
     "text": [
      "Early termination at epoch 36 with best validation metric 0.03287139907479286\n"
     ]
    },
    {
     "name": "stderr",
     "output_type": "stream",
     "text": [
      "[I 2025-02-20 13:17:36,307] Trial 25 finished with value: 0.03287139907479286 and parameters: {'lr': 0.002847056432699501, 'beta0': 0.6534115793027115, 'beta1': 0.9539166007235608, 'batch_size': 48, 'patience': 13, 'conv_depth': 4}. Best is trial 3 with value: 0.017240589018911123.\n"
     ]
    },
    {
     "name": "stdout",
     "output_type": "stream",
     "text": [
      "Early termination at epoch 47 with best validation metric 0.022771689109504223\n"
     ]
    },
    {
     "name": "stderr",
     "output_type": "stream",
     "text": [
      "[I 2025-02-20 13:18:14,332] Trial 26 finished with value: 0.022771689109504223 and parameters: {'lr': 0.0003787900600032642, 'beta0': 0.5997243035939409, 'beta1': 0.9403162803782406, 'batch_size': 16, 'patience': 7, 'conv_depth': 5}. Best is trial 3 with value: 0.017240589018911123.\n"
     ]
    },
    {
     "name": "stdout",
     "output_type": "stream",
     "text": [
      "Early termination at epoch 73 with best validation metric 0.026232317090034485\n"
     ]
    },
    {
     "name": "stderr",
     "output_type": "stream",
     "text": [
      "[I 2025-02-20 13:19:07,114] Trial 27 finished with value: 0.026232317090034485 and parameters: {'lr': 0.00019067594876368463, 'beta0': 0.5616432477311758, 'beta1': 0.9813504510686343, 'batch_size': 32, 'patience': 12, 'conv_depth': 4}. Best is trial 3 with value: 0.017240589018911123.\n"
     ]
    },
    {
     "name": "stdout",
     "output_type": "stream",
     "text": [
      "Early termination at epoch 295 with best validation metric 0.05203187093138695\n"
     ]
    },
    {
     "name": "stderr",
     "output_type": "stream",
     "text": [
      "[I 2025-02-20 13:22:37,828] Trial 28 finished with value: 0.05203187093138695 and parameters: {'lr': 3.6774243652469156e-05, 'beta0': 0.6190487937598588, 'beta1': 0.9761640501421683, 'batch_size': 64, 'patience': 10, 'conv_depth': 4}. Best is trial 3 with value: 0.017240589018911123.\n"
     ]
    },
    {
     "name": "stdout",
     "output_type": "stream",
     "text": [
      "Early termination at epoch 134 with best validation metric 0.021416977047920227\n"
     ]
    },
    {
     "name": "stderr",
     "output_type": "stream",
     "text": [
      "[I 2025-02-20 13:24:05,283] Trial 29 finished with value: 0.021416977047920227 and parameters: {'lr': 8.92289194503604e-05, 'beta0': 0.5025395285982495, 'beta1': 0.9714185862402939, 'batch_size': 48, 'patience': 7, 'conv_depth': 3}. Best is trial 3 with value: 0.017240589018911123.\n"
     ]
    },
    {
     "name": "stdout",
     "output_type": "stream",
     "text": [
      "Early termination at epoch 73 with best validation metric 0.019076544791460037\n"
     ]
    },
    {
     "name": "stderr",
     "output_type": "stream",
     "text": [
      "[I 2025-02-20 13:25:04,052] Trial 30 finished with value: 0.019076544791460037 and parameters: {'lr': 0.0009168796087475416, 'beta0': 0.6671185587341844, 'beta1': 0.9893082018384451, 'batch_size': 16, 'patience': 18, 'conv_depth': 5}. Best is trial 3 with value: 0.017240589018911123.\n"
     ]
    },
    {
     "name": "stdout",
     "output_type": "stream",
     "text": [
      "Early termination at epoch 93 with best validation metric 0.02031700173392892\n"
     ]
    },
    {
     "name": "stderr",
     "output_type": "stream",
     "text": [
      "[I 2025-02-20 13:26:18,632] Trial 31 finished with value: 0.02031700173392892 and parameters: {'lr': 0.0009148490280452163, 'beta0': 0.6655944833610806, 'beta1': 0.9863233626855945, 'batch_size': 16, 'patience': 19, 'conv_depth': 5}. Best is trial 3 with value: 0.017240589018911123.\n"
     ]
    },
    {
     "name": "stdout",
     "output_type": "stream",
     "text": [
      "Early termination at epoch 93 with best validation metric 0.020658585242927074\n"
     ]
    },
    {
     "name": "stderr",
     "output_type": "stream",
     "text": [
      "[I 2025-02-20 13:27:33,281] Trial 32 finished with value: 0.020658585242927074 and parameters: {'lr': 0.000417892074122399, 'beta0': 0.6249248569259906, 'beta1': 0.9910407277303527, 'batch_size': 16, 'patience': 19, 'conv_depth': 5}. Best is trial 3 with value: 0.017240589018911123.\n"
     ]
    },
    {
     "name": "stdout",
     "output_type": "stream",
     "text": [
      "Early termination at epoch 74 with best validation metric 0.01853246707469225\n"
     ]
    },
    {
     "name": "stderr",
     "output_type": "stream",
     "text": [
      "[I 2025-02-20 13:28:32,705] Trial 33 finished with value: 0.01853246707469225 and parameters: {'lr': 0.0025080443718387413, 'beta0': 0.5796938122933974, 'beta1': 0.9655514402247164, 'batch_size': 16, 'patience': 19, 'conv_depth': 5}. Best is trial 3 with value: 0.017240589018911123.\n"
     ]
    },
    {
     "name": "stdout",
     "output_type": "stream",
     "text": [
      "Early termination at epoch 64 with best validation metric 0.02356813009828329\n"
     ]
    },
    {
     "name": "stderr",
     "output_type": "stream",
     "text": [
      "[I 2025-02-20 13:29:18,989] Trial 34 finished with value: 0.02356813009828329 and parameters: {'lr': 0.0033151416861245107, 'beta0': 0.6728914761837381, 'beta1': 0.9645187212153056, 'batch_size': 16, 'patience': 17, 'conv_depth': 4}. Best is trial 3 with value: 0.017240589018911123.\n"
     ]
    },
    {
     "name": "stdout",
     "output_type": "stream",
     "text": [
      "Early termination at epoch 45 with best validation metric 0.024075092747807503\n"
     ]
    },
    {
     "name": "stderr",
     "output_type": "stream",
     "text": [
      "[I 2025-02-20 13:29:55,320] Trial 35 finished with value: 0.024075092747807503 and parameters: {'lr': 0.002377161616527986, 'beta0': 0.5915359392536803, 'beta1': 0.9604195553176985, 'batch_size': 16, 'patience': 15, 'conv_depth': 5}. Best is trial 3 with value: 0.017240589018911123.\n"
     ]
    },
    {
     "name": "stdout",
     "output_type": "stream",
     "text": [
      "Early termination at epoch 56 with best validation metric 0.029898601584136486\n"
     ]
    },
    {
     "name": "stderr",
     "output_type": "stream",
     "text": [
      "[I 2025-02-20 13:30:40,377] Trial 36 finished with value: 0.029898601584136486 and parameters: {'lr': 0.003847795686822939, 'beta0': 0.5507734410092329, 'beta1': 0.9693724686340288, 'batch_size': 16, 'patience': 18, 'conv_depth': 5}. Best is trial 3 with value: 0.017240589018911123.\n"
     ]
    },
    {
     "name": "stdout",
     "output_type": "stream",
     "text": [
      "Early termination at epoch 29 with best validation metric 0.03360360115766525\n"
     ]
    },
    {
     "name": "stderr",
     "output_type": "stream",
     "text": [
      "[I 2025-02-20 13:31:01,469] Trial 37 finished with value: 0.03360360115766525 and parameters: {'lr': 0.009028658835380617, 'beta0': 0.7211926269488216, 'beta1': 0.9543353146901071, 'batch_size': 16, 'patience': 8, 'conv_depth': 4}. Best is trial 3 with value: 0.017240589018911123.\n"
     ]
    },
    {
     "name": "stdout",
     "output_type": "stream",
     "text": [
      "Early termination at epoch 41 with best validation metric 0.023978661745786667\n"
     ]
    },
    {
     "name": "stderr",
     "output_type": "stream",
     "text": [
      "[I 2025-02-20 13:31:31,167] Trial 38 finished with value: 0.023978661745786667 and parameters: {'lr': 0.0049488071825507145, 'beta0': 0.8263926369800461, 'beta1': 0.9738159739424833, 'batch_size': 32, 'patience': 10, 'conv_depth': 4}. Best is trial 3 with value: 0.017240589018911123.\n"
     ]
    },
    {
     "name": "stdout",
     "output_type": "stream",
     "text": [
      "Early termination at epoch 69 with best validation metric 0.026766935363411903\n"
     ]
    },
    {
     "name": "stderr",
     "output_type": "stream",
     "text": [
      "[I 2025-02-20 13:32:26,583] Trial 39 finished with value: 0.026766935363411903 and parameters: {'lr': 0.0018638281044943653, 'beta0': 0.579300860911713, 'beta1': 0.9650501924095344, 'batch_size': 16, 'patience': 19, 'conv_depth': 5}. Best is trial 3 with value: 0.017240589018911123.\n"
     ]
    },
    {
     "name": "stdout",
     "output_type": "stream",
     "text": [
      "Early termination at epoch 68 with best validation metric 0.020480994135141373\n"
     ]
    },
    {
     "name": "stderr",
     "output_type": "stream",
     "text": [
      "[I 2025-02-20 13:33:10,671] Trial 40 finished with value: 0.020480994135141373 and parameters: {'lr': 0.0010542409871883054, 'beta0': 0.5214824583459724, 'beta1': 0.9495624791059273, 'batch_size': 16, 'patience': 16, 'conv_depth': 3}. Best is trial 3 with value: 0.017240589018911123.\n"
     ]
    },
    {
     "name": "stdout",
     "output_type": "stream",
     "text": [
      "Early termination at epoch 150 with best validation metric 0.019258970394730568\n"
     ]
    },
    {
     "name": "stderr",
     "output_type": "stream",
     "text": [
      "[I 2025-02-20 13:35:08,637] Trial 41 finished with value: 0.019258970394730568 and parameters: {'lr': 0.0005821253714574065, 'beta0': 0.5775711770866532, 'beta1': 0.9935846505283698, 'batch_size': 32, 'patience': 20, 'conv_depth': 5}. Best is trial 3 with value: 0.017240589018911123.\n"
     ]
    },
    {
     "name": "stdout",
     "output_type": "stream",
     "text": [
      "Early termination at epoch 100 with best validation metric 0.02331887185573578\n"
     ]
    },
    {
     "name": "stderr",
     "output_type": "stream",
     "text": [
      "[I 2025-02-20 13:36:27,416] Trial 42 finished with value: 0.02331887185573578 and parameters: {'lr': 0.0002013366359666775, 'beta0': 0.5848918648409042, 'beta1': 0.9858185987440908, 'batch_size': 32, 'patience': 20, 'conv_depth': 5}. Best is trial 3 with value: 0.017240589018911123.\n"
     ]
    },
    {
     "name": "stdout",
     "output_type": "stream",
     "text": [
      "Early termination at epoch 90 with best validation metric 0.02157367765903473\n"
     ]
    },
    {
     "name": "stderr",
     "output_type": "stream",
     "text": [
      "[I 2025-02-20 13:37:38,362] Trial 43 finished with value: 0.02157367765903473 and parameters: {'lr': 0.0005379016206697822, 'beta0': 0.6310909737545258, 'beta1': 0.9925070403747362, 'batch_size': 32, 'patience': 18, 'conv_depth': 5}. Best is trial 3 with value: 0.017240589018911123.\n"
     ]
    },
    {
     "name": "stdout",
     "output_type": "stream",
     "text": [
      "Early termination at epoch 93 with best validation metric 0.022512618452310562\n"
     ]
    },
    {
     "name": "stderr",
     "output_type": "stream",
     "text": [
      "[I 2025-02-20 13:38:51,742] Trial 44 finished with value: 0.022512618452310562 and parameters: {'lr': 0.000269991257708174, 'beta0': 0.5535174361787001, 'beta1': 0.9781542634888764, 'batch_size': 32, 'patience': 19, 'conv_depth': 5}. Best is trial 3 with value: 0.017240589018911123.\n"
     ]
    },
    {
     "name": "stdout",
     "output_type": "stream",
     "text": [
      "Early termination at epoch 82 with best validation metric 0.018812382593750954\n"
     ]
    },
    {
     "name": "stderr",
     "output_type": "stream",
     "text": [
      "[I 2025-02-20 13:39:57,535] Trial 45 finished with value: 0.018812382593750954 and parameters: {'lr': 0.0006681138627511604, 'beta0': 0.6019687520605063, 'beta1': 0.980587125527257, 'batch_size': 16, 'patience': 20, 'conv_depth': 5}. Best is trial 3 with value: 0.017240589018911123.\n"
     ]
    },
    {
     "name": "stdout",
     "output_type": "stream",
     "text": [
      "Early termination at epoch 74 with best validation metric 0.020382455550134182\n"
     ]
    },
    {
     "name": "stderr",
     "output_type": "stream",
     "text": [
      "[I 2025-02-20 13:40:56,933] Trial 46 finished with value: 0.020382455550134182 and parameters: {'lr': 0.0008883975141717194, 'beta0': 0.897295474554602, 'beta1': 0.9684282245340482, 'batch_size': 16, 'patience': 17, 'conv_depth': 5}. Best is trial 3 with value: 0.017240589018911123.\n"
     ]
    },
    {
     "name": "stdout",
     "output_type": "stream",
     "text": [
      "Early termination at epoch 32 with best validation metric 0.031647938303649426\n"
     ]
    },
    {
     "name": "stderr",
     "output_type": "stream",
     "text": [
      "[I 2025-02-20 13:41:20,216] Trial 47 finished with value: 0.031647938303649426 and parameters: {'lr': 0.0019719909053560283, 'beta0': 0.6826123425381146, 'beta1': 0.959347573879325, 'batch_size': 16, 'patience': 8, 'conv_depth': 4}. Best is trial 3 with value: 0.017240589018911123.\n"
     ]
    },
    {
     "name": "stdout",
     "output_type": "stream",
     "text": [
      "Early termination at epoch 60 with best validation metric 0.0240689879283309\n"
     ]
    },
    {
     "name": "stderr",
     "output_type": "stream",
     "text": [
      "[I 2025-02-20 13:42:03,611] Trial 48 finished with value: 0.0240689879283309 and parameters: {'lr': 0.001351850279931171, 'beta0': 0.6527886026657144, 'beta1': 0.9795913147401563, 'batch_size': 16, 'patience': 18, 'conv_depth': 4}. Best is trial 3 with value: 0.017240589018911123.\n"
     ]
    },
    {
     "name": "stdout",
     "output_type": "stream",
     "text": [
      "Early termination at epoch 56 with best validation metric 0.023462465032935143\n"
     ]
    },
    {
     "name": "stderr",
     "output_type": "stream",
     "text": [
      "[I 2025-02-20 13:42:48,672] Trial 49 finished with value: 0.023462465032935143 and parameters: {'lr': 0.0007256940433793487, 'beta0': 0.6118104877083614, 'beta1': 0.9743172967959578, 'batch_size': 16, 'patience': 5, 'conv_depth': 5}. Best is trial 3 with value: 0.017240589018911123.\n",
      "[I 2025-02-20 13:42:48,856] A new study created in memory with name: FNet_optimize_OrigER_high_confluence\n"
     ]
    },
    {
     "name": "stdout",
     "output_type": "stream",
     "text": [
      "Best trial for channel OrigDNA:\n",
      "  Validation Loss: 0.017240589018911123\n",
      "  Hyperparameters: {'lr': 0.00019762189340280086, 'beta0': 0.6164916560792167, 'beta1': 0.9605734365775156, 'batch_size': 16, 'patience': 9, 'conv_depth': 4}\n",
      "Beginning optimization for channel: OrigER for high_confluence\n",
      "Early termination at epoch 90 with best validation metric 0.023784637451171875\n"
     ]
    },
    {
     "name": "stderr",
     "output_type": "stream",
     "text": [
      "[I 2025-02-20 13:43:47,643] Trial 0 finished with value: 0.023784637451171875 and parameters: {'lr': 0.0001329291894316216, 'beta0': 0.8802857225639664, 'beta1': 0.9724674002393291, 'batch_size': 48, 'patience': 7, 'conv_depth': 3}. Best is trial 0 with value: 0.023784637451171875.\n"
     ]
    },
    {
     "name": "stdout",
     "output_type": "stream",
     "text": [
      "Early termination at epoch 11 with best validation metric 0.3674294650554657\n"
     ]
    },
    {
     "name": "stderr",
     "output_type": "stream",
     "text": [
      "[I 2025-02-20 13:43:56,736] Trial 1 finished with value: 0.3674294650554657 and parameters: {'lr': 1.493656855461762e-05, 'beta0': 0.846470458309974, 'beta1': 0.9595103861625777, 'batch_size': 48, 'patience': 5, 'conv_depth': 5}. Best is trial 0 with value: 0.023784637451171875.\n"
     ]
    },
    {
     "name": "stdout",
     "output_type": "stream",
     "text": [
      "Early termination at epoch 22 with best validation metric 0.03690500557422638\n"
     ]
    },
    {
     "name": "stderr",
     "output_type": "stream",
     "text": [
      "[I 2025-02-20 13:44:12,877] Trial 2 finished with value: 0.03690500557422638 and parameters: {'lr': 0.00314288089084011, 'beta0': 0.5849356442713105, 'beta1': 0.918000671753503, 'batch_size': 16, 'patience': 9, 'conv_depth': 4}. Best is trial 0 with value: 0.023784637451171875.\n"
     ]
    },
    {
     "name": "stdout",
     "output_type": "stream",
     "text": [
      "Early termination at epoch 48 with best validation metric 0.02875759545713663\n"
     ]
    },
    {
     "name": "stderr",
     "output_type": "stream",
     "text": [
      "[I 2025-02-20 13:44:47,653] Trial 3 finished with value: 0.02875759545713663 and parameters: {'lr': 0.00019762189340280086, 'beta0': 0.6164916560792167, 'beta1': 0.9605734365775156, 'batch_size': 16, 'patience': 9, 'conv_depth': 4}. Best is trial 0 with value: 0.023784637451171875.\n"
     ]
    },
    {
     "name": "stdout",
     "output_type": "stream",
     "text": [
      "Early termination at epoch 60 with best validation metric 0.02890288643538952\n"
     ]
    },
    {
     "name": "stderr",
     "output_type": "stream",
     "text": [
      "[I 2025-02-20 13:45:26,920] Trial 4 finished with value: 0.02890288643538952 and parameters: {'lr': 0.00023345864076016249, 'beta0': 0.8140703845572055, 'beta1': 0.9197677044336776, 'batch_size': 48, 'patience': 14, 'conv_depth': 3}. Best is trial 0 with value: 0.023784637451171875.\n"
     ]
    },
    {
     "name": "stdout",
     "output_type": "stream",
     "text": [
      "Early termination at epoch 80 with best validation metric 0.023029347881674767\n"
     ]
    },
    {
     "name": "stderr",
     "output_type": "stream",
     "text": [
      "[I 2025-02-20 13:46:29,207] Trial 5 finished with value: 0.023029347881674767 and parameters: {'lr': 0.0006647135865318024, 'beta0': 0.5682096494749166, 'beta1': 0.9064401077055427, 'batch_size': 64, 'patience': 20, 'conv_depth': 5}. Best is trial 5 with value: 0.023029347881674767.\n"
     ]
    },
    {
     "name": "stdout",
     "output_type": "stream",
     "text": [
      "Early termination at epoch 88 with best validation metric 0.025814300402998924\n"
     ]
    },
    {
     "name": "stderr",
     "output_type": "stream",
     "text": [
      "[I 2025-02-20 13:47:32,856] Trial 6 finished with value: 0.025814300402998924 and parameters: {'lr': 8.200518402245828e-05, 'beta0': 0.5390688456025535, 'beta1': 0.9677390696247036, 'batch_size': 32, 'patience': 6, 'conv_depth': 4}. Best is trial 5 with value: 0.023029347881674767.\n"
     ]
    },
    {
     "name": "stdout",
     "output_type": "stream",
     "text": [
      "Early termination at epoch 360 with best validation metric 0.043606095016002655\n"
     ]
    },
    {
     "name": "stderr",
     "output_type": "stream",
     "text": [
      "[I 2025-02-20 13:51:50,485] Trial 7 finished with value: 0.043606095016002655 and parameters: {'lr': 1.2681352169084594e-05, 'beta0': 0.8637281608315128, 'beta1': 0.9256192181784016, 'batch_size': 48, 'patience': 9, 'conv_depth': 4}. Best is trial 5 with value: 0.023029347881674767.\n"
     ]
    },
    {
     "name": "stdout",
     "output_type": "stream",
     "text": [
      "Early termination at epoch 140 with best validation metric 0.02350616082549095\n"
     ]
    },
    {
     "name": "stderr",
     "output_type": "stream",
     "text": [
      "[I 2025-02-20 13:53:38,966] Trial 8 finished with value: 0.02350616082549095 and parameters: {'lr': 0.00043664735929796326, 'beta0': 0.5739417822102109, 'beta1': 0.9959888781486913, 'batch_size': 64, 'patience': 20, 'conv_depth': 5}. Best is trial 5 with value: 0.023029347881674767.\n"
     ]
    },
    {
     "name": "stdout",
     "output_type": "stream",
     "text": [
      "Early termination at epoch 12 with best validation metric 0.03855997323989868\n"
     ]
    },
    {
     "name": "stderr",
     "output_type": "stream",
     "text": [
      "[I 2025-02-20 13:53:47,031] Trial 9 finished with value: 0.03855997323989868 and parameters: {'lr': 0.0006218704727769079, 'beta0': 0.8687496940092467, 'beta1': 0.90876075770314, 'batch_size': 16, 'patience': 5, 'conv_depth': 3}. Best is trial 5 with value: 0.023029347881674767.\n"
     ]
    },
    {
     "name": "stdout",
     "output_type": "stream",
     "text": [
      "Early termination at epoch 69 with best validation metric 0.03176378458738327\n"
     ]
    },
    {
     "name": "stderr",
     "output_type": "stream",
     "text": [
      "[I 2025-02-20 13:54:40,490] Trial 10 finished with value: 0.03176378458738327 and parameters: {'lr': 0.007329034530653055, 'beta0': 0.6893309285818674, 'beta1': 0.9365041484993887, 'batch_size': 64, 'patience': 20, 'conv_depth': 5}. Best is trial 5 with value: 0.023029347881674767.\n"
     ]
    },
    {
     "name": "stdout",
     "output_type": "stream",
     "text": [
      "Early termination at epoch 93 with best validation metric 0.026404913514852524\n"
     ]
    },
    {
     "name": "stderr",
     "output_type": "stream",
     "text": [
      "[I 2025-02-20 13:55:52,867] Trial 11 finished with value: 0.026404913514852524 and parameters: {'lr': 0.0011699870383462653, 'beta0': 0.5042726118615525, 'beta1': 0.9937492257626248, 'batch_size': 64, 'patience': 20, 'conv_depth': 5}. Best is trial 5 with value: 0.023029347881674767.\n"
     ]
    },
    {
     "name": "stdout",
     "output_type": "stream",
     "text": [
      "Early termination at epoch 60 with best validation metric 0.026876505464315414\n"
     ]
    },
    {
     "name": "stderr",
     "output_type": "stream",
     "text": [
      "[I 2025-02-20 13:56:39,808] Trial 12 finished with value: 0.026876505464315414 and parameters: {'lr': 0.0012307357270847695, 'beta0': 0.6553114397524481, 'beta1': 0.9948396413158568, 'batch_size': 64, 'patience': 16, 'conv_depth': 5}. Best is trial 5 with value: 0.023029347881674767.\n"
     ]
    },
    {
     "name": "stdout",
     "output_type": "stream",
     "text": [
      "Early termination at epoch 220 with best validation metric 0.02903100475668907\n"
     ]
    },
    {
     "name": "stderr",
     "output_type": "stream",
     "text": [
      "[I 2025-02-20 13:59:29,427] Trial 13 finished with value: 0.02903100475668907 and parameters: {'lr': 5.19880339466954e-05, 'beta0': 0.7583425762812964, 'beta1': 0.9397554675745082, 'batch_size': 64, 'patience': 17, 'conv_depth': 5}. Best is trial 5 with value: 0.023029347881674767.\n"
     ]
    },
    {
     "name": "stdout",
     "output_type": "stream",
     "text": [
      "Early termination at epoch 74 with best validation metric 0.022426506504416466\n"
     ]
    },
    {
     "name": "stderr",
     "output_type": "stream",
     "text": [
      "[I 2025-02-20 14:00:28,215] Trial 14 finished with value: 0.022426506504416466 and parameters: {'lr': 0.0005865741130439002, 'beta0': 0.5799079094317888, 'beta1': 0.9019642045300428, 'batch_size': 32, 'patience': 18, 'conv_depth': 5}. Best is trial 14 with value: 0.022426506504416466.\n"
     ]
    },
    {
     "name": "stdout",
     "output_type": "stream",
     "text": [
      "Early termination at epoch 35 with best validation metric 0.03316469490528107\n"
     ]
    },
    {
     "name": "stderr",
     "output_type": "stream",
     "text": [
      "[I 2025-02-20 14:00:53,720] Trial 15 finished with value: 0.03316469490528107 and parameters: {'lr': 0.0021643584456856177, 'beta0': 0.6308462258130115, 'beta1': 0.9025293999862438, 'batch_size': 32, 'patience': 17, 'conv_depth': 4}. Best is trial 14 with value: 0.022426506504416466.\n"
     ]
    },
    {
     "name": "stdout",
     "output_type": "stream",
     "text": [
      "Early termination at epoch 67 with best validation metric 0.025464314967393875\n"
     ]
    },
    {
     "name": "stderr",
     "output_type": "stream",
     "text": [
      "[I 2025-02-20 14:01:46,731] Trial 16 finished with value: 0.025464314967393875 and parameters: {'lr': 0.0005403290887924732, 'beta0': 0.505756842299721, 'beta1': 0.9014258410708162, 'batch_size': 32, 'patience': 14, 'conv_depth': 5}. Best is trial 14 with value: 0.022426506504416466.\n"
     ]
    },
    {
     "name": "stdout",
     "output_type": "stream",
     "text": [
      "Early termination at epoch 48 with best validation metric 0.03227002173662186\n"
     ]
    },
    {
     "name": "stderr",
     "output_type": "stream",
     "text": [
      "[I 2025-02-20 14:02:24,912] Trial 17 finished with value: 0.03227002173662186 and parameters: {'lr': 0.00529387027052947, 'beta0': 0.7272061098519709, 'beta1': 0.9317641676833619, 'batch_size': 32, 'patience': 18, 'conv_depth': 5}. Best is trial 14 with value: 0.022426506504416466.\n"
     ]
    },
    {
     "name": "stdout",
     "output_type": "stream",
     "text": [
      "Early termination at epoch 13 with best validation metric 0.18222486972808838\n"
     ]
    },
    {
     "name": "stderr",
     "output_type": "stream",
     "text": [
      "[I 2025-02-20 14:02:35,517] Trial 18 finished with value: 0.18222486972808838 and parameters: {'lr': 3.844615260400127e-05, 'beta0': 0.5650415638181954, 'beta1': 0.913078326232069, 'batch_size': 48, 'patience': 12, 'conv_depth': 5}. Best is trial 14 with value: 0.022426506504416466.\n"
     ]
    },
    {
     "name": "stdout",
     "output_type": "stream",
     "text": [
      "Early termination at epoch 62 with best validation metric 0.02847137302160263\n"
     ]
    },
    {
     "name": "stderr",
     "output_type": "stream",
     "text": [
      "[I 2025-02-20 14:03:20,476] Trial 19 finished with value: 0.02847137302160263 and parameters: {'lr': 0.0010233137624656074, 'beta0': 0.6738616867986352, 'beta1': 0.945507456892577, 'batch_size': 32, 'patience': 18, 'conv_depth': 4}. Best is trial 14 with value: 0.022426506504416466.\n"
     ]
    },
    {
     "name": "stdout",
     "output_type": "stream",
     "text": [
      "Early termination at epoch 33 with best validation metric 0.03923418931663036\n"
     ]
    },
    {
     "name": "stderr",
     "output_type": "stream",
     "text": [
      "[I 2025-02-20 14:03:44,545] Trial 20 finished with value: 0.03923418931663036 and parameters: {'lr': 0.0026239370299810084, 'beta0': 0.6125657038315837, 'beta1': 0.9260782761565347, 'batch_size': 16, 'patience': 14, 'conv_depth': 4}. Best is trial 14 with value: 0.022426506504416466.\n"
     ]
    },
    {
     "name": "stdout",
     "output_type": "stream",
     "text": [
      "Early termination at epoch 118 with best validation metric 0.025323938578367233\n"
     ]
    },
    {
     "name": "stderr",
     "output_type": "stream",
     "text": [
      "[I 2025-02-20 14:05:16,037] Trial 21 finished with value: 0.025323938578367233 and parameters: {'lr': 0.00043855819535432297, 'beta0': 0.5737802904372572, 'beta1': 0.9824490066328136, 'batch_size': 64, 'patience': 20, 'conv_depth': 5}. Best is trial 14 with value: 0.022426506504416466.\n"
     ]
    },
    {
     "name": "stdout",
     "output_type": "stream",
     "text": [
      "Early termination at epoch 99 with best validation metric 0.022378839552402496\n"
     ]
    },
    {
     "name": "stderr",
     "output_type": "stream",
     "text": [
      "[I 2025-02-20 14:06:33,054] Trial 22 finished with value: 0.022378839552402496 and parameters: {'lr': 0.00034297062876209567, 'beta0': 0.5408085405718104, 'beta1': 0.9499299010144964, 'batch_size': 64, 'patience': 19, 'conv_depth': 5}. Best is trial 22 with value: 0.022378839552402496.\n"
     ]
    },
    {
     "name": "stdout",
     "output_type": "stream",
     "text": [
      "Early termination at epoch 140 with best validation metric 0.023929834365844727\n"
     ]
    },
    {
     "name": "stderr",
     "output_type": "stream",
     "text": [
      "[I 2025-02-20 14:08:22,265] Trial 23 finished with value: 0.023929834365844727 and parameters: {'lr': 0.00012635894355163347, 'beta0': 0.5360696211789711, 'beta1': 0.9527159448663216, 'batch_size': 48, 'patience': 18, 'conv_depth': 5}. Best is trial 22 with value: 0.022378839552402496.\n"
     ]
    },
    {
     "name": "stdout",
     "output_type": "stream",
     "text": [
      "Early termination at epoch 108 with best validation metric 0.021456316113471985\n"
     ]
    },
    {
     "name": "stderr",
     "output_type": "stream",
     "text": [
      "[I 2025-02-20 14:09:45,957] Trial 24 finished with value: 0.021456316113471985 and parameters: {'lr': 0.0003061084769246849, 'beta0': 0.5366657446475197, 'beta1': 0.9099870437537624, 'batch_size': 64, 'patience': 19, 'conv_depth': 5}. Best is trial 24 with value: 0.021456316113471985.\n"
     ]
    },
    {
     "name": "stdout",
     "output_type": "stream",
     "text": [
      "Early termination at epoch 95 with best validation metric 0.024286989122629166\n"
     ]
    },
    {
     "name": "stderr",
     "output_type": "stream",
     "text": [
      "[I 2025-02-20 14:11:00,298] Trial 25 finished with value: 0.024286989122629166 and parameters: {'lr': 0.0002149908902316006, 'beta0': 0.5327524619699702, 'beta1': 0.9450963111361476, 'batch_size': 48, 'patience': 16, 'conv_depth': 5}. Best is trial 24 with value: 0.021456316113471985.\n"
     ]
    },
    {
     "name": "stdout",
     "output_type": "stream",
     "text": [
      "Early termination at epoch 76 with best validation metric 0.02498103305697441\n"
     ]
    },
    {
     "name": "stderr",
     "output_type": "stream",
     "text": [
      "[I 2025-02-20 14:12:00,535] Trial 26 finished with value: 0.02498103305697441 and parameters: {'lr': 0.00028187073355078986, 'beta0': 0.644997559831217, 'beta1': 0.9154908027934878, 'batch_size': 32, 'patience': 12, 'conv_depth': 5}. Best is trial 24 with value: 0.021456316113471985.\n"
     ]
    },
    {
     "name": "stdout",
     "output_type": "stream",
     "text": [
      "Early termination at epoch 125 with best validation metric 0.02335275523364544\n"
     ]
    },
    {
     "name": "stderr",
     "output_type": "stream",
     "text": [
      "[I 2025-02-20 14:13:30,211] Trial 27 finished with value: 0.02335275523364544 and parameters: {'lr': 0.00012323041302644475, 'beta0': 0.6056709965325403, 'beta1': 0.9263814224756641, 'batch_size': 64, 'patience': 19, 'conv_depth': 4}. Best is trial 24 with value: 0.021456316113471985.\n"
     ]
    },
    {
     "name": "stdout",
     "output_type": "stream",
     "text": [
      "Early termination at epoch 45 with best validation metric 0.025912251323461533\n"
     ]
    },
    {
     "name": "stderr",
     "output_type": "stream",
     "text": [
      "[I 2025-02-20 14:14:05,734] Trial 28 finished with value: 0.025912251323461533 and parameters: {'lr': 0.0008782509981169723, 'beta0': 0.5407138813100187, 'beta1': 0.9516552583684214, 'batch_size': 48, 'patience': 16, 'conv_depth': 5}. Best is trial 24 with value: 0.021456316113471985.\n"
     ]
    },
    {
     "name": "stdout",
     "output_type": "stream",
     "text": [
      "Early termination at epoch 70 with best validation metric 0.02492951974272728\n"
     ]
    },
    {
     "name": "stderr",
     "output_type": "stream",
     "text": [
      "[I 2025-02-20 14:14:51,662] Trial 29 finished with value: 0.02492951974272728 and parameters: {'lr': 0.0016024042535733383, 'beta0': 0.5036765399731984, 'beta1': 0.98052832829834, 'batch_size': 64, 'patience': 15, 'conv_depth': 3}. Best is trial 24 with value: 0.021456316113471985.\n"
     ]
    },
    {
     "name": "stdout",
     "output_type": "stream",
     "text": [
      "Early termination at epoch 129 with best validation metric 0.027681216597557068\n"
     ]
    },
    {
     "name": "stderr",
     "output_type": "stream",
     "text": [
      "[I 2025-02-20 14:16:32,337] Trial 30 finished with value: 0.027681216597557068 and parameters: {'lr': 7.676313359945787e-05, 'beta0': 0.7366849379399733, 'beta1': 0.9098096627123341, 'batch_size': 48, 'patience': 19, 'conv_depth': 5}. Best is trial 24 with value: 0.021456316113471985.\n"
     ]
    },
    {
     "name": "stdout",
     "output_type": "stream",
     "text": [
      "Early termination at epoch 77 with best validation metric 0.0275191068649292\n"
     ]
    },
    {
     "name": "stderr",
     "output_type": "stream",
     "text": [
      "[I 2025-02-20 14:17:32,096] Trial 31 finished with value: 0.0275191068649292 and parameters: {'lr': 0.0006978124757864855, 'beta0': 0.5573372852846896, 'beta1': 0.905489039415982, 'batch_size': 64, 'patience': 19, 'conv_depth': 5}. Best is trial 24 with value: 0.021456316113471985.\n"
     ]
    },
    {
     "name": "stdout",
     "output_type": "stream",
     "text": [
      "Early termination at epoch 79 with best validation metric 0.02657000720500946\n"
     ]
    },
    {
     "name": "stderr",
     "output_type": "stream",
     "text": [
      "[I 2025-02-20 14:18:33,629] Trial 32 finished with value: 0.02657000720500946 and parameters: {'lr': 0.0003463470065525901, 'beta0': 0.6079207538165652, 'beta1': 0.9015831028313318, 'batch_size': 64, 'patience': 18, 'conv_depth': 5}. Best is trial 24 with value: 0.021456316113471985.\n"
     ]
    },
    {
     "name": "stdout",
     "output_type": "stream",
     "text": [
      "Early termination at epoch 129 with best validation metric 0.02470904402434826\n"
     ]
    },
    {
     "name": "stderr",
     "output_type": "stream",
     "text": [
      "[I 2025-02-20 14:20:13,699] Trial 33 finished with value: 0.02470904402434826 and parameters: {'lr': 0.000178843138142574, 'beta0': 0.5940081175197105, 'beta1': 0.910555813374939, 'batch_size': 64, 'patience': 17, 'conv_depth': 5}. Best is trial 24 with value: 0.021456316113471985.\n"
     ]
    },
    {
     "name": "stdout",
     "output_type": "stream",
     "text": [
      "Early termination at epoch 90 with best validation metric 0.023774897679686546\n"
     ]
    },
    {
     "name": "stderr",
     "output_type": "stream",
     "text": [
      "[I 2025-02-20 14:21:23,535] Trial 34 finished with value: 0.023774897679686546 and parameters: {'lr': 0.000337101538345852, 'beta0': 0.5578762922958932, 'beta1': 0.9214966374985514, 'batch_size': 64, 'patience': 19, 'conv_depth': 5}. Best is trial 24 with value: 0.021456316113471985.\n"
     ]
    },
    {
     "name": "stdout",
     "output_type": "stream",
     "text": [
      "Early termination at epoch 287 with best validation metric 0.032989948987960815\n"
     ]
    },
    {
     "name": "stderr",
     "output_type": "stream",
     "text": [
      "[I 2025-02-20 14:25:06,836] Trial 35 finished with value: 0.032989948987960815 and parameters: {'lr': 2.3964483219461982e-05, 'beta0': 0.5206562565901101, 'beta1': 0.9582624970460764, 'batch_size': 48, 'patience': 10, 'conv_depth': 5}. Best is trial 24 with value: 0.021456316113471985.\n"
     ]
    },
    {
     "name": "stdout",
     "output_type": "stream",
     "text": [
      "Early termination at epoch 46 with best validation metric 0.024650156497955322\n"
     ]
    },
    {
     "name": "stderr",
     "output_type": "stream",
     "text": [
      "[I 2025-02-20 14:25:40,211] Trial 36 finished with value: 0.024650156497955322 and parameters: {'lr': 0.0007518463515282397, 'beta0': 0.5811269874672497, 'beta1': 0.9177505820623448, 'batch_size': 32, 'patience': 19, 'conv_depth': 4}. Best is trial 24 with value: 0.021456316113471985.\n"
     ]
    },
    {
     "name": "stdout",
     "output_type": "stream",
     "text": [
      "Early termination at epoch 26 with best validation metric 0.025846270844340324\n"
     ]
    },
    {
     "name": "stderr",
     "output_type": "stream",
     "text": [
      "[I 2025-02-20 14:25:59,251] Trial 37 finished with value: 0.025846270844340324 and parameters: {'lr': 0.0018240609776205342, 'beta0': 0.5519380674950862, 'beta1': 0.966746785034704, 'batch_size': 16, 'patience': 17, 'conv_depth': 4}. Best is trial 24 with value: 0.021456316113471985.\n"
     ]
    },
    {
     "name": "stdout",
     "output_type": "stream",
     "text": [
      "Early termination at epoch 55 with best validation metric 0.03430958837270737\n"
     ]
    },
    {
     "name": "stderr",
     "output_type": "stream",
     "text": [
      "[I 2025-02-20 14:26:42,036] Trial 38 finished with value: 0.03430958837270737 and parameters: {'lr': 0.004389571168867925, 'beta0': 0.7897235538903333, 'beta1': 0.9319895220003591, 'batch_size': 64, 'patience': 20, 'conv_depth': 5}. Best is trial 24 with value: 0.021456316113471985.\n"
     ]
    },
    {
     "name": "stdout",
     "output_type": "stream",
     "text": [
      "Early termination at epoch 86 with best validation metric 0.024865176528692245\n"
     ]
    },
    {
     "name": "stderr",
     "output_type": "stream",
     "text": [
      "[I 2025-02-20 14:27:49,288] Trial 39 finished with value: 0.024865176528692245 and parameters: {'lr': 0.0004665960444926518, 'beta0': 0.6336991297583745, 'beta1': 0.9056480122009771, 'batch_size': 48, 'patience': 15, 'conv_depth': 5}. Best is trial 24 with value: 0.021456316113471985.\n"
     ]
    },
    {
     "name": "stdout",
     "output_type": "stream",
     "text": [
      "Early termination at epoch 132 with best validation metric 0.02436184696853161\n"
     ]
    },
    {
     "name": "stderr",
     "output_type": "stream",
     "text": [
      "[I 2025-02-20 14:29:23,866] Trial 40 finished with value: 0.02436184696853161 and parameters: {'lr': 0.00015925103581419992, 'beta0': 0.5225203210049645, 'beta1': 0.9195060039273718, 'batch_size': 64, 'patience': 18, 'conv_depth': 4}. Best is trial 24 with value: 0.021456316113471985.\n"
     ]
    },
    {
     "name": "stdout",
     "output_type": "stream",
     "text": [
      "Early termination at epoch 165 with best validation metric 0.025955889374017715\n"
     ]
    },
    {
     "name": "stderr",
     "output_type": "stream",
     "text": [
      "[I 2025-02-20 14:31:11,766] Trial 41 finished with value: 0.025955889374017715 and parameters: {'lr': 0.00014187163113611276, 'beta0': 0.6018702539896957, 'beta1': 0.9249330879513532, 'batch_size': 64, 'patience': 19, 'conv_depth': 3}. Best is trial 24 with value: 0.021456316113471985.\n"
     ]
    },
    {
     "name": "stdout",
     "output_type": "stream",
     "text": [
      "Early termination at epoch 194 with best validation metric 0.02941592037677765\n"
     ]
    },
    {
     "name": "stderr",
     "output_type": "stream",
     "text": [
      "[I 2025-02-20 14:33:18,493] Trial 42 finished with value: 0.02941592037677765 and parameters: {'lr': 8.768966094962177e-05, 'beta0': 0.5873121904170739, 'beta1': 0.9141902707810222, 'batch_size': 64, 'patience': 20, 'conv_depth': 3}. Best is trial 24 with value: 0.021456316113471985.\n"
     ]
    },
    {
     "name": "stdout",
     "output_type": "stream",
     "text": [
      "Early termination at epoch 95 with best validation metric 0.02582714520394802\n"
     ]
    },
    {
     "name": "stderr",
     "output_type": "stream",
     "text": [
      "[I 2025-02-20 14:34:26,876] Trial 43 finished with value: 0.02582714520394802 and parameters: {'lr': 0.00026434108651462996, 'beta0': 0.6220541082929083, 'beta1': 0.9316333127378918, 'batch_size': 64, 'patience': 19, 'conv_depth': 4}. Best is trial 24 with value: 0.021456316113471985.\n"
     ]
    },
    {
     "name": "stdout",
     "output_type": "stream",
     "text": [
      "Early termination at epoch 110 with best validation metric 0.0286954827606678\n"
     ]
    },
    {
     "name": "stderr",
     "output_type": "stream",
     "text": [
      "[I 2025-02-20 14:35:52,411] Trial 44 finished with value: 0.0286954827606678 and parameters: {'lr': 9.909009348653614e-05, 'beta0': 0.6588092177091037, 'beta1': 0.9060359492236026, 'batch_size': 64, 'patience': 7, 'conv_depth': 5}. Best is trial 24 with value: 0.021456316113471985.\n"
     ]
    },
    {
     "name": "stdout",
     "output_type": "stream",
     "text": [
      "Early termination at epoch 85 with best validation metric 0.026634342968463898\n"
     ]
    },
    {
     "name": "stderr",
     "output_type": "stream",
     "text": [
      "[I 2025-02-20 14:36:53,524] Trial 45 finished with value: 0.026634342968463898 and parameters: {'lr': 0.0003531510915649586, 'beta0': 0.5747836214746171, 'beta1': 0.9397953702458814, 'batch_size': 64, 'patience': 20, 'conv_depth': 4}. Best is trial 24 with value: 0.021456316113471985.\n"
     ]
    },
    {
     "name": "stdout",
     "output_type": "stream",
     "text": [
      "Early termination at epoch 237 with best validation metric 0.026724569499492645\n"
     ]
    },
    {
     "name": "stderr",
     "output_type": "stream",
     "text": [
      "[I 2025-02-20 14:39:56,287] Trial 46 finished with value: 0.026724569499492645 and parameters: {'lr': 5.4374469952975364e-05, 'beta0': 0.897295474554602, 'beta1': 0.9006924492611755, 'batch_size': 64, 'patience': 17, 'conv_depth': 5}. Best is trial 24 with value: 0.021456316113471985.\n"
     ]
    },
    {
     "name": "stdout",
     "output_type": "stream",
     "text": [
      "Early termination at epoch 62 with best validation metric 0.02390684187412262\n"
     ]
    },
    {
     "name": "stderr",
     "output_type": "stream",
     "text": [
      "[I 2025-02-20 14:40:45,696] Trial 47 finished with value: 0.02390684187412262 and parameters: {'lr': 0.0005630441930093773, 'beta0': 0.5455660748707006, 'beta1': 0.9095982915168148, 'batch_size': 32, 'patience': 18, 'conv_depth': 5}. Best is trial 24 with value: 0.021456316113471985.\n"
     ]
    },
    {
     "name": "stdout",
     "output_type": "stream",
     "text": [
      "Early termination at epoch 94 with best validation metric 0.02587149664759636\n"
     ]
    },
    {
     "name": "stderr",
     "output_type": "stream",
     "text": [
      "[I 2025-02-20 14:41:53,247] Trial 48 finished with value: 0.02587149664759636 and parameters: {'lr': 0.00023922618482545056, 'beta0': 0.5178558570289545, 'beta1': 0.9216481138513193, 'batch_size': 48, 'patience': 19, 'conv_depth': 4}. Best is trial 24 with value: 0.021456316113471985.\n"
     ]
    },
    {
     "name": "stdout",
     "output_type": "stream",
     "text": [
      "Early termination at epoch 83 with best validation metric 0.03057773970067501\n"
     ]
    },
    {
     "name": "stderr",
     "output_type": "stream",
     "text": [
      "[I 2025-02-20 14:42:57,917] Trial 49 finished with value: 0.03057773970067501 and parameters: {'lr': 0.0014212653206925258, 'beta0': 0.5868745003369037, 'beta1': 0.927840569167226, 'batch_size': 64, 'patience': 20, 'conv_depth': 5}. Best is trial 24 with value: 0.021456316113471985.\n"
     ]
    },
    {
     "name": "stdout",
     "output_type": "stream",
     "text": [
      "Best trial for channel OrigER:\n",
      "  Validation Loss: 0.021456316113471985\n",
      "  Hyperparameters: {'lr': 0.0003061084769246849, 'beta0': 0.5366657446475197, 'beta1': 0.9099870437537624, 'batch_size': 64, 'patience': 19, 'conv_depth': 5}\n"
     ]
    },
    {
     "name": "stderr",
     "output_type": "stream",
     "text": [
      "[I 2025-02-20 14:42:58,278] A new study created in memory with name: FNet_optimize_OrigAGP_high_confluence\n"
     ]
    },
    {
     "name": "stdout",
     "output_type": "stream",
     "text": [
      "Beginning optimization for channel: OrigAGP for high_confluence\n",
      "Early termination at epoch 108 with best validation metric 0.0033663527574390173\n"
     ]
    },
    {
     "name": "stderr",
     "output_type": "stream",
     "text": [
      "[I 2025-02-20 14:44:08,713] Trial 0 finished with value: 0.0033663527574390173 and parameters: {'lr': 0.0001329291894316216, 'beta0': 0.8802857225639664, 'beta1': 0.9724674002393291, 'batch_size': 48, 'patience': 7, 'conv_depth': 3}. Best is trial 0 with value: 0.0033663527574390173.\n"
     ]
    },
    {
     "name": "stdout",
     "output_type": "stream",
     "text": [
      "Early termination at epoch 645 with best validation metric 0.004160955548286438\n"
     ]
    },
    {
     "name": "stderr",
     "output_type": "stream",
     "text": [
      "[I 2025-02-20 14:52:28,094] Trial 1 finished with value: 0.004160955548286438 and parameters: {'lr': 1.493656855461762e-05, 'beta0': 0.846470458309974, 'beta1': 0.9595103861625777, 'batch_size': 48, 'patience': 5, 'conv_depth': 5}. Best is trial 0 with value: 0.0033663527574390173.\n"
     ]
    },
    {
     "name": "stdout",
     "output_type": "stream",
     "text": [
      "Early termination at epoch 14 with best validation metric 0.005553297232836485\n"
     ]
    },
    {
     "name": "stderr",
     "output_type": "stream",
     "text": [
      "[I 2025-02-20 14:52:38,577] Trial 2 finished with value: 0.005553297232836485 and parameters: {'lr': 0.00314288089084011, 'beta0': 0.5849356442713105, 'beta1': 0.918000671753503, 'batch_size': 16, 'patience': 9, 'conv_depth': 4}. Best is trial 0 with value: 0.0033663527574390173.\n"
     ]
    },
    {
     "name": "stdout",
     "output_type": "stream",
     "text": [
      "Early termination at epoch 75 with best validation metric 0.003522461513057351\n"
     ]
    },
    {
     "name": "stderr",
     "output_type": "stream",
     "text": [
      "[I 2025-02-20 14:53:32,776] Trial 3 finished with value: 0.003522461513057351 and parameters: {'lr': 0.00019762189340280086, 'beta0': 0.6164916560792167, 'beta1': 0.9605734365775156, 'batch_size': 16, 'patience': 9, 'conv_depth': 4}. Best is trial 0 with value: 0.0033663527574390173.\n"
     ]
    },
    {
     "name": "stdout",
     "output_type": "stream",
     "text": [
      "Early termination at epoch 140 with best validation metric 0.003342000301927328\n"
     ]
    },
    {
     "name": "stderr",
     "output_type": "stream",
     "text": [
      "[I 2025-02-20 14:55:03,870] Trial 4 finished with value: 0.003342000301927328 and parameters: {'lr': 0.00023345864076016249, 'beta0': 0.8140703845572055, 'beta1': 0.9197677044336776, 'batch_size': 48, 'patience': 14, 'conv_depth': 3}. Best is trial 4 with value: 0.003342000301927328.\n"
     ]
    },
    {
     "name": "stdout",
     "output_type": "stream",
     "text": [
      "Early termination at epoch 131 with best validation metric 0.003398872446268797\n"
     ]
    },
    {
     "name": "stderr",
     "output_type": "stream",
     "text": [
      "[I 2025-02-20 14:56:45,328] Trial 5 finished with value: 0.003398872446268797 and parameters: {'lr': 0.0006647135865318024, 'beta0': 0.5682096494749166, 'beta1': 0.9064401077055427, 'batch_size': 64, 'patience': 20, 'conv_depth': 5}. Best is trial 4 with value: 0.003342000301927328.\n"
     ]
    },
    {
     "name": "stdout",
     "output_type": "stream",
     "text": [
      "Early termination at epoch 136 with best validation metric 0.0036025827284902334\n"
     ]
    },
    {
     "name": "stderr",
     "output_type": "stream",
     "text": [
      "[I 2025-02-20 14:58:23,262] Trial 6 finished with value: 0.0036025827284902334 and parameters: {'lr': 8.200518402245828e-05, 'beta0': 0.5390688456025535, 'beta1': 0.9677390696247036, 'batch_size': 32, 'patience': 6, 'conv_depth': 4}. Best is trial 4 with value: 0.003342000301927328.\n"
     ]
    },
    {
     "name": "stdout",
     "output_type": "stream",
     "text": [
      "Early termination at epoch 10 with best validation metric 0.3675991892814636\n"
     ]
    },
    {
     "name": "stderr",
     "output_type": "stream",
     "text": [
      "[I 2025-02-20 14:58:30,802] Trial 7 finished with value: 0.3675991892814636 and parameters: {'lr': 1.2681352169084594e-05, 'beta0': 0.8637281608315128, 'beta1': 0.9256192181784016, 'batch_size': 48, 'patience': 9, 'conv_depth': 4}. Best is trial 4 with value: 0.003342000301927328.\n"
     ]
    },
    {
     "name": "stdout",
     "output_type": "stream",
     "text": [
      "Early termination at epoch 183 with best validation metric 0.0037272057961672544\n"
     ]
    },
    {
     "name": "stderr",
     "output_type": "stream",
     "text": [
      "[I 2025-02-20 15:00:52,359] Trial 8 finished with value: 0.0037272057961672544 and parameters: {'lr': 0.00043664735929796326, 'beta0': 0.5739417822102109, 'beta1': 0.9959888781486913, 'batch_size': 64, 'patience': 20, 'conv_depth': 5}. Best is trial 4 with value: 0.003342000301927328.\n"
     ]
    },
    {
     "name": "stdout",
     "output_type": "stream",
     "text": [
      "Early termination at epoch 15 with best validation metric 0.004845039453357458\n"
     ]
    },
    {
     "name": "stderr",
     "output_type": "stream",
     "text": [
      "[I 2025-02-20 15:01:02,610] Trial 9 finished with value: 0.004845039453357458 and parameters: {'lr': 0.0006218704727769079, 'beta0': 0.8687496940092467, 'beta1': 0.90876075770314, 'batch_size': 16, 'patience': 5, 'conv_depth': 3}. Best is trial 4 with value: 0.003342000301927328.\n"
     ]
    },
    {
     "name": "stdout",
     "output_type": "stream",
     "text": [
      "Early termination at epoch 24 with best validation metric 0.008776489645242691\n"
     ]
    },
    {
     "name": "stderr",
     "output_type": "stream",
     "text": [
      "[I 2025-02-20 15:01:20,076] Trial 10 finished with value: 0.008776489645242691 and parameters: {'lr': 0.0068455702672729195, 'beta0': 0.7699188271527112, 'beta1': 0.9365041484993887, 'batch_size': 32, 'patience': 15, 'conv_depth': 3}. Best is trial 4 with value: 0.003342000301927328.\n"
     ]
    },
    {
     "name": "stdout",
     "output_type": "stream",
     "text": [
      "Early termination at epoch 263 with best validation metric 0.0036334414035081863\n"
     ]
    },
    {
     "name": "stderr",
     "output_type": "stream",
     "text": [
      "[I 2025-02-20 15:04:26,163] Trial 11 finished with value: 0.0036334414035081863 and parameters: {'lr': 6.114825606221511e-05, 'beta0': 0.7551887020844243, 'beta1': 0.9822647913852, 'batch_size': 48, 'patience': 15, 'conv_depth': 3}. Best is trial 4 with value: 0.003342000301927328.\n"
     ]
    },
    {
     "name": "stdout",
     "output_type": "stream",
     "text": [
      "Early termination at epoch 176 with best validation metric 0.0037382941227406263\n"
     ]
    },
    {
     "name": "stderr",
     "output_type": "stream",
     "text": [
      "[I 2025-02-20 15:06:31,639] Trial 12 finished with value: 0.0037382941227406263 and parameters: {'lr': 9.317718328447869e-05, 'beta0': 0.7814513959373568, 'beta1': 0.9418670308188571, 'batch_size': 48, 'patience': 14, 'conv_depth': 3}. Best is trial 4 with value: 0.003342000301927328.\n"
     ]
    },
    {
     "name": "stdout",
     "output_type": "stream",
     "text": [
      "Early termination at epoch 83 with best validation metric 0.003232428804039955\n"
     ]
    },
    {
     "name": "stderr",
     "output_type": "stream",
     "text": [
      "[I 2025-02-20 15:07:31,032] Trial 13 finished with value: 0.003232428804039955 and parameters: {'lr': 0.001882500662848259, 'beta0': 0.6899290250892546, 'beta1': 0.9781807201384287, 'batch_size': 64, 'patience': 12, 'conv_depth': 3}. Best is trial 13 with value: 0.003232428804039955.\n"
     ]
    },
    {
     "name": "stdout",
     "output_type": "stream",
     "text": [
      "Early termination at epoch 47 with best validation metric 0.004557033069431782\n"
     ]
    },
    {
     "name": "stderr",
     "output_type": "stream",
     "text": [
      "[I 2025-02-20 15:08:05,160] Trial 14 finished with value: 0.004557033069431782 and parameters: {'lr': 0.0017308046051123392, 'beta0': 0.6691495338850298, 'beta1': 0.9476475608036362, 'batch_size': 64, 'patience': 12, 'conv_depth': 3}. Best is trial 13 with value: 0.003232428804039955.\n"
     ]
    },
    {
     "name": "stdout",
     "output_type": "stream",
     "text": [
      "Early termination at epoch 54 with best validation metric 0.004539806395769119\n"
     ]
    },
    {
     "name": "stderr",
     "output_type": "stream",
     "text": [
      "[I 2025-02-20 15:08:47,461] Trial 15 finished with value: 0.004539806395769119 and parameters: {'lr': 0.001558597254588861, 'beta0': 0.6977724406624698, 'beta1': 0.9901189616421775, 'batch_size': 64, 'patience': 17, 'conv_depth': 4}. Best is trial 13 with value: 0.003232428804039955.\n"
     ]
    },
    {
     "name": "stdout",
     "output_type": "stream",
     "text": [
      "Early termination at epoch 34 with best validation metric 0.005583757068961859\n"
     ]
    },
    {
     "name": "stderr",
     "output_type": "stream",
     "text": [
      "[I 2025-02-20 15:09:11,677] Trial 16 finished with value: 0.005583757068961859 and parameters: {'lr': 0.008038348512441899, 'beta0': 0.642550817149089, 'beta1': 0.9318746240366109, 'batch_size': 32, 'patience': 11, 'conv_depth': 3}. Best is trial 13 with value: 0.003232428804039955.\n"
     ]
    },
    {
     "name": "stdout",
     "output_type": "stream",
     "text": [
      "Early termination at epoch 53 with best validation metric 0.00415996415540576\n"
     ]
    },
    {
     "name": "stderr",
     "output_type": "stream",
     "text": [
      "[I 2025-02-20 15:09:50,235] Trial 17 finished with value: 0.00415996415540576 and parameters: {'lr': 0.0013238713461620074, 'beta0': 0.8159862754125332, 'beta1': 0.9812267530654826, 'batch_size': 64, 'patience': 17, 'conv_depth': 3}. Best is trial 13 with value: 0.003232428804039955.\n"
     ]
    },
    {
     "name": "stdout",
     "output_type": "stream",
     "text": [
      "Early termination at epoch 758 with best validation metric 0.003360915929079056\n"
     ]
    },
    {
     "name": "stderr",
     "output_type": "stream",
     "text": [
      "[I 2025-02-20 15:18:42,363] Trial 18 finished with value: 0.003360915929079056 and parameters: {'lr': 2.418092849725909e-05, 'beta0': 0.7157375503055701, 'beta1': 0.9528920639802418, 'batch_size': 64, 'patience': 11, 'conv_depth': 3}. Best is trial 13 with value: 0.003232428804039955.\n"
     ]
    },
    {
     "name": "stdout",
     "output_type": "stream",
     "text": [
      "Early termination at epoch 100 with best validation metric 0.0036517432890832424\n"
     ]
    },
    {
     "name": "stderr",
     "output_type": "stream",
     "text": [
      "[I 2025-02-20 15:19:59,882] Trial 19 finished with value: 0.0036517432890832424 and parameters: {'lr': 0.00023727891272042867, 'beta0': 0.728471564150001, 'beta1': 0.9199742695278285, 'batch_size': 48, 'patience': 17, 'conv_depth': 4}. Best is trial 13 with value: 0.003232428804039955.\n"
     ]
    },
    {
     "name": "stdout",
     "output_type": "stream",
     "text": [
      "Early termination at epoch 38 with best validation metric 0.004430721513926983\n"
     ]
    },
    {
     "name": "stderr",
     "output_type": "stream",
     "text": [
      "[I 2025-02-20 15:20:29,645] Trial 20 finished with value: 0.004430721513926983 and parameters: {'lr': 0.004218429289125419, 'beta0': 0.8220850370012587, 'beta1': 0.9013047422237115, 'batch_size': 32, 'patience': 13, 'conv_depth': 4}. Best is trial 13 with value: 0.003232428804039955.\n"
     ]
    },
    {
     "name": "stdout",
     "output_type": "stream",
     "text": [
      "Early termination at epoch 18 with best validation metric 0.363463819026947\n"
     ]
    },
    {
     "name": "stderr",
     "output_type": "stream",
     "text": [
      "[I 2025-02-20 15:20:42,669] Trial 21 finished with value: 0.363463819026947 and parameters: {'lr': 3.6416491072993635e-05, 'beta0': 0.7076029099400503, 'beta1': 0.9546173127041906, 'batch_size': 64, 'patience': 11, 'conv_depth': 3}. Best is trial 13 with value: 0.003232428804039955.\n"
     ]
    },
    {
     "name": "stdout",
     "output_type": "stream",
     "text": [
      "Early termination at epoch 614 with best validation metric 0.003952973056584597\n"
     ]
    },
    {
     "name": "stderr",
     "output_type": "stream",
     "text": [
      "[I 2025-02-20 15:28:01,447] Trial 22 finished with value: 0.003952973056584597 and parameters: {'lr': 2.833501154087724e-05, 'beta0': 0.6910782783363728, 'beta1': 0.9710955086968684, 'batch_size': 64, 'patience': 12, 'conv_depth': 3}. Best is trial 13 with value: 0.003232428804039955.\n"
     ]
    },
    {
     "name": "stdout",
     "output_type": "stream",
     "text": [
      "Early termination at epoch 12 with best validation metric 0.380110502243042\n"
     ]
    },
    {
     "name": "stderr",
     "output_type": "stream",
     "text": [
      "[I 2025-02-20 15:28:10,529] Trial 23 finished with value: 0.380110502243042 and parameters: {'lr': 3.079801215451547e-05, 'beta0': 0.6498303336822151, 'beta1': 0.9529534029482443, 'batch_size': 64, 'patience': 11, 'conv_depth': 3}. Best is trial 13 with value: 0.003232428804039955.\n"
     ]
    },
    {
     "name": "stdout",
     "output_type": "stream",
     "text": [
      "Early termination at epoch 44 with best validation metric 0.004364870488643646\n"
     ]
    },
    {
     "name": "stderr",
     "output_type": "stream",
     "text": [
      "[I 2025-02-20 15:28:42,072] Trial 24 finished with value: 0.004364870488643646 and parameters: {'lr': 0.0010674067045324646, 'beta0': 0.7376663139042376, 'beta1': 0.9450551466964637, 'batch_size': 48, 'patience': 14, 'conv_depth': 3}. Best is trial 13 with value: 0.003232428804039955.\n"
     ]
    },
    {
     "name": "stdout",
     "output_type": "stream",
     "text": [
      "Early termination at epoch 68 with best validation metric 0.004194457083940506\n"
     ]
    },
    {
     "name": "stderr",
     "output_type": "stream",
     "text": [
      "[I 2025-02-20 15:29:30,789] Trial 25 finished with value: 0.004194457083940506 and parameters: {'lr': 0.0003760247058290934, 'beta0': 0.8188594294596833, 'beta1': 0.9813817377276066, 'batch_size': 64, 'patience': 8, 'conv_depth': 3}. Best is trial 13 with value: 0.003232428804039955.\n"
     ]
    },
    {
     "name": "stdout",
     "output_type": "stream",
     "text": [
      "Early termination at epoch 28 with best validation metric 0.006119424011558294\n"
     ]
    },
    {
     "name": "stderr",
     "output_type": "stream",
     "text": [
      "[I 2025-02-20 15:29:50,944] Trial 26 finished with value: 0.006119424011558294 and parameters: {'lr': 0.002417496070984855, 'beta0': 0.5046483846510211, 'beta1': 0.9343553615266457, 'batch_size': 48, 'patience': 10, 'conv_depth': 3}. Best is trial 13 with value: 0.003232428804039955.\n"
     ]
    },
    {
     "name": "stdout",
     "output_type": "stream",
     "text": [
      "Early termination at epoch 81 with best validation metric 0.003686500247567892\n"
     ]
    },
    {
     "name": "stderr",
     "output_type": "stream",
     "text": [
      "[I 2025-02-20 15:30:54,245] Trial 27 finished with value: 0.003686500247567892 and parameters: {'lr': 0.0007835321599615088, 'beta0': 0.7801151332999178, 'beta1': 0.9656576061373913, 'batch_size': 64, 'patience': 15, 'conv_depth': 4}. Best is trial 13 with value: 0.003232428804039955.\n"
     ]
    },
    {
     "name": "stdout",
     "output_type": "stream",
     "text": [
      "Early termination at epoch 110 with best validation metric 0.0037363795563578606\n"
     ]
    },
    {
     "name": "stderr",
     "output_type": "stream",
     "text": [
      "[I 2025-02-20 15:32:11,830] Trial 28 finished with value: 0.0037363795563578606 and parameters: {'lr': 0.00021893802105508835, 'beta0': 0.6230301108244162, 'beta1': 0.9160447844178911, 'batch_size': 64, 'patience': 13, 'conv_depth': 3}. Best is trial 13 with value: 0.003232428804039955.\n"
     ]
    },
    {
     "name": "stdout",
     "output_type": "stream",
     "text": [
      "Early termination at epoch 248 with best validation metric 0.0035317465662956238\n"
     ]
    },
    {
     "name": "stderr",
     "output_type": "stream",
     "text": [
      "[I 2025-02-20 15:35:06,518] Trial 29 finished with value: 0.0035317465662956238 and parameters: {'lr': 5.2737954759792473e-05, 'beta0': 0.8989879313923892, 'beta1': 0.9753877569053859, 'batch_size': 48, 'patience': 7, 'conv_depth': 3}. Best is trial 13 with value: 0.003232428804039955.\n"
     ]
    },
    {
     "name": "stdout",
     "output_type": "stream",
     "text": [
      "Early termination at epoch 143 with best validation metric 0.0031673384364694357\n"
     ]
    },
    {
     "name": "stderr",
     "output_type": "stream",
     "text": [
      "[I 2025-02-20 15:36:47,496] Trial 30 finished with value: 0.0031673384364694357 and parameters: {'lr': 0.00014342109961351407, 'beta0': 0.6726190618259837, 'beta1': 0.927132023285376, 'batch_size': 48, 'patience': 18, 'conv_depth': 3}. Best is trial 30 with value: 0.0031673384364694357.\n"
     ]
    },
    {
     "name": "stdout",
     "output_type": "stream",
     "text": [
      "Early termination at epoch 180 with best validation metric 0.0031514361035078764\n"
     ]
    },
    {
     "name": "stderr",
     "output_type": "stream",
     "text": [
      "[I 2025-02-20 15:38:56,349] Trial 31 finished with value: 0.0031514361035078764 and parameters: {'lr': 0.0001357770468399879, 'beta0': 0.6673982024709064, 'beta1': 0.9273499219851837, 'batch_size': 48, 'patience': 18, 'conv_depth': 3}. Best is trial 31 with value: 0.0031514361035078764.\n"
     ]
    },
    {
     "name": "stdout",
     "output_type": "stream",
     "text": [
      "Early termination at epoch 129 with best validation metric 0.0035777657758444548\n"
     ]
    },
    {
     "name": "stderr",
     "output_type": "stream",
     "text": [
      "[I 2025-02-20 15:40:28,292] Trial 32 finished with value: 0.0035777657758444548 and parameters: {'lr': 0.00014711084854238476, 'beta0': 0.6750040301518732, 'beta1': 0.9278657715393241, 'batch_size': 48, 'patience': 18, 'conv_depth': 3}. Best is trial 31 with value: 0.0031514361035078764.\n"
     ]
    },
    {
     "name": "stdout",
     "output_type": "stream",
     "text": [
      "Early termination at epoch 125 with best validation metric 0.0037048140075057745\n"
     ]
    },
    {
     "name": "stderr",
     "output_type": "stream",
     "text": [
      "[I 2025-02-20 15:41:57,127] Trial 33 finished with value: 0.0037048140075057745 and parameters: {'lr': 0.00012323332296650498, 'beta0': 0.6046605844608544, 'beta1': 0.923774155969293, 'batch_size': 48, 'patience': 19, 'conv_depth': 3}. Best is trial 31 with value: 0.0031514361035078764.\n"
     ]
    },
    {
     "name": "stdout",
     "output_type": "stream",
     "text": [
      "Early termination at epoch 62 with best validation metric 0.003767387941479683\n"
     ]
    },
    {
     "name": "stderr",
     "output_type": "stream",
     "text": [
      "[I 2025-02-20 15:42:41,561] Trial 34 finished with value: 0.003767387941479683 and parameters: {'lr': 0.00031775261041269704, 'beta0': 0.6558269950127296, 'beta1': 0.9118931422641231, 'batch_size': 32, 'patience': 16, 'conv_depth': 3}. Best is trial 31 with value: 0.0031514361035078764.\n"
     ]
    },
    {
     "name": "stdout",
     "output_type": "stream",
     "text": [
      "Early termination at epoch 119 with best validation metric 0.003275807946920395\n"
     ]
    },
    {
     "name": "stderr",
     "output_type": "stream",
     "text": [
      "[I 2025-02-20 15:44:22,588] Trial 35 finished with value: 0.003275807946920395 and parameters: {'lr': 0.00015653852081982936, 'beta0': 0.6753529226725244, 'beta1': 0.9412377204205898, 'batch_size': 48, 'patience': 16, 'conv_depth': 5}. Best is trial 31 with value: 0.0031514361035078764.\n"
     ]
    },
    {
     "name": "stdout",
     "output_type": "stream",
     "text": [
      "Early termination at epoch 143 with best validation metric 0.00333295576274395\n"
     ]
    },
    {
     "name": "stderr",
     "output_type": "stream",
     "text": [
      "[I 2025-02-20 15:46:24,718] Trial 36 finished with value: 0.00333295576274395 and parameters: {'lr': 0.0001730757074248062, 'beta0': 0.6800414977225189, 'beta1': 0.9419138520254962, 'batch_size': 32, 'patience': 19, 'conv_depth': 5}. Best is trial 31 with value: 0.0031514361035078764.\n"
     ]
    },
    {
     "name": "stdout",
     "output_type": "stream",
     "text": [
      "Early termination at epoch 149 with best validation metric 0.003194162156432867\n"
     ]
    },
    {
     "name": "stderr",
     "output_type": "stream",
     "text": [
      "[I 2025-02-20 15:48:29,553] Trial 37 finished with value: 0.003194162156432867 and parameters: {'lr': 0.00011297266341659384, 'beta0': 0.6327004460217492, 'beta1': 0.9313056285456675, 'batch_size': 48, 'patience': 18, 'conv_depth': 5}. Best is trial 31 with value: 0.0031514361035078764.\n"
     ]
    },
    {
     "name": "stdout",
     "output_type": "stream",
     "text": [
      "Early termination at epoch 155 with best validation metric 0.0034628044813871384\n"
     ]
    },
    {
     "name": "stderr",
     "output_type": "stream",
     "text": [
      "[I 2025-02-20 15:50:39,905] Trial 38 finished with value: 0.0034628044813871384 and parameters: {'lr': 0.00010559275901947047, 'beta0': 0.6185903677357198, 'beta1': 0.9292921735381386, 'batch_size': 48, 'patience': 18, 'conv_depth': 5}. Best is trial 31 with value: 0.0031514361035078764.\n"
     ]
    },
    {
     "name": "stdout",
     "output_type": "stream",
     "text": [
      "Early termination at epoch 152 with best validation metric 0.00340776180382818\n"
     ]
    },
    {
     "name": "stderr",
     "output_type": "stream",
     "text": [
      "[I 2025-02-20 15:52:38,198] Trial 39 finished with value: 0.00340776180382818 and parameters: {'lr': 6.260108179344418e-05, 'beta0': 0.5940276367070443, 'beta1': 0.9607140538677509, 'batch_size': 16, 'patience': 18, 'conv_depth': 4}. Best is trial 31 with value: 0.0031514361035078764.\n"
     ]
    },
    {
     "name": "stdout",
     "output_type": "stream",
     "text": [
      "Early termination at epoch 98 with best validation metric 0.003371927421540022\n"
     ]
    },
    {
     "name": "stderr",
     "output_type": "stream",
     "text": [
      "[I 2025-02-20 15:54:01,047] Trial 40 finished with value: 0.003371927421540022 and parameters: {'lr': 0.0004529547753595415, 'beta0': 0.6339430318447434, 'beta1': 0.9140763903621171, 'batch_size': 48, 'patience': 19, 'conv_depth': 5}. Best is trial 31 with value: 0.0031514361035078764.\n"
     ]
    },
    {
     "name": "stdout",
     "output_type": "stream",
     "text": [
      "Early termination at epoch 129 with best validation metric 0.0033865366131067276\n"
     ]
    },
    {
     "name": "stderr",
     "output_type": "stream",
     "text": [
      "[I 2025-02-20 15:55:50,186] Trial 41 finished with value: 0.0033865366131067276 and parameters: {'lr': 0.00015704968188314653, 'beta0': 0.6635202322384647, 'beta1': 0.921258132038848, 'batch_size': 48, 'patience': 16, 'conv_depth': 5}. Best is trial 31 with value: 0.0031514361035078764.\n"
     ]
    },
    {
     "name": "stdout",
     "output_type": "stream",
     "text": [
      "Early termination at epoch 118 with best validation metric 0.003468818962574005\n"
     ]
    },
    {
     "name": "stderr",
     "output_type": "stream",
     "text": [
      "[I 2025-02-20 15:57:26,073] Trial 42 finished with value: 0.003468818962574005 and parameters: {'lr': 0.0002831071180579395, 'beta0': 0.5584846570294197, 'beta1': 0.9378561919224673, 'batch_size': 48, 'patience': 20, 'conv_depth': 5}. Best is trial 31 with value: 0.0031514361035078764.\n"
     ]
    },
    {
     "name": "stdout",
     "output_type": "stream",
     "text": [
      "Early termination at epoch 184 with best validation metric 0.003640451468527317\n"
     ]
    },
    {
     "name": "stderr",
     "output_type": "stream",
     "text": [
      "[I 2025-02-20 15:59:49,434] Trial 43 finished with value: 0.003640451468527317 and parameters: {'lr': 7.734821997334467e-05, 'beta0': 0.6896311911438259, 'beta1': 0.9386657751088977, 'batch_size': 48, 'patience': 16, 'conv_depth': 5}. Best is trial 31 with value: 0.0031514361035078764.\n"
     ]
    },
    {
     "name": "stdout",
     "output_type": "stream",
     "text": [
      "Early termination at epoch 177 with best validation metric 0.003764750435948372\n"
     ]
    },
    {
     "name": "stderr",
     "output_type": "stream",
     "text": [
      "[I 2025-02-20 16:02:09,175] Trial 44 finished with value: 0.003764750435948372 and parameters: {'lr': 4.159662344057841e-05, 'beta0': 0.6393174774181718, 'beta1': 0.9313501600485873, 'batch_size': 32, 'patience': 18, 'conv_depth': 5}. Best is trial 31 with value: 0.0031514361035078764.\n"
     ]
    },
    {
     "name": "stdout",
     "output_type": "stream",
     "text": [
      "Early termination at epoch 20 with best validation metric 0.4110216498374939\n"
     ]
    },
    {
     "name": "stderr",
     "output_type": "stream",
     "text": [
      "[I 2025-02-20 16:02:25,250] Trial 45 finished with value: 0.4110216498374939 and parameters: {'lr': 1.7128683608578842e-05, 'beta0': 0.7453380895606279, 'beta1': 0.9251064610858855, 'batch_size': 48, 'patience': 19, 'conv_depth': 5}. Best is trial 31 with value: 0.0031514361035078764.\n"
     ]
    },
    {
     "name": "stdout",
     "output_type": "stream",
     "text": [
      "Early termination at epoch 72 with best validation metric 0.0036617382429540157\n"
     ]
    },
    {
     "name": "stderr",
     "output_type": "stream",
     "text": [
      "[I 2025-02-20 16:03:17,052] Trial 46 finished with value: 0.0036617382429540157 and parameters: {'lr': 0.0005770150667827985, 'beta0': 0.7075020053473469, 'beta1': 0.9452929089867161, 'batch_size': 48, 'patience': 17, 'conv_depth': 4}. Best is trial 31 with value: 0.0031514361035078764.\n"
     ]
    },
    {
     "name": "stdout",
     "output_type": "stream",
     "text": [
      "Early termination at epoch 156 with best validation metric 0.0031283448915928602\n"
     ]
    },
    {
     "name": "stderr",
     "output_type": "stream",
     "text": [
      "[I 2025-02-20 16:05:09,622] Trial 47 finished with value: 0.0031283448915928602 and parameters: {'lr': 0.00011749586521344646, 'beta0': 0.5930600865237524, 'beta1': 0.9339101780122476, 'batch_size': 32, 'patience': 15, 'conv_depth': 4}. Best is trial 47 with value: 0.0031283448915928602.\n"
     ]
    },
    {
     "name": "stdout",
     "output_type": "stream",
     "text": [
      "Early termination at epoch 139 with best validation metric 0.003337626112625003\n"
     ]
    },
    {
     "name": "stderr",
     "output_type": "stream",
     "text": [
      "[I 2025-02-20 16:06:49,937] Trial 48 finished with value: 0.003337626112625003 and parameters: {'lr': 8.604468756437865e-05, 'beta0': 0.5852902067797118, 'beta1': 0.9332292552852137, 'batch_size': 32, 'patience': 15, 'conv_depth': 4}. Best is trial 47 with value: 0.0031283448915928602.\n"
     ]
    },
    {
     "name": "stdout",
     "output_type": "stream",
     "text": [
      "Early termination at epoch 158 with best validation metric 0.0033565839985385537\n"
     ]
    },
    {
     "name": "stderr",
     "output_type": "stream",
     "text": [
      "[I 2025-02-20 16:08:43,925] Trial 49 finished with value: 0.0033565839985385537 and parameters: {'lr': 0.00012365739084486643, 'beta0': 0.5458230359485807, 'beta1': 0.9970046818685367, 'batch_size': 16, 'patience': 14, 'conv_depth': 4}. Best is trial 47 with value: 0.0031283448915928602.\n",
      "[I 2025-02-20 16:08:44,098] A new study created in memory with name: FNet_optimize_OrigMito_high_confluence\n"
     ]
    },
    {
     "name": "stdout",
     "output_type": "stream",
     "text": [
      "Best trial for channel OrigAGP:\n",
      "  Validation Loss: 0.0031283448915928602\n",
      "  Hyperparameters: {'lr': 0.00011749586521344646, 'beta0': 0.5930600865237524, 'beta1': 0.9339101780122476, 'batch_size': 32, 'patience': 15, 'conv_depth': 4}\n",
      "Beginning optimization for channel: OrigMito for high_confluence\n",
      "Early termination at epoch 60 with best validation metric 0.07190456241369247\n"
     ]
    },
    {
     "name": "stderr",
     "output_type": "stream",
     "text": [
      "[I 2025-02-20 16:09:23,389] Trial 0 finished with value: 0.07190456241369247 and parameters: {'lr': 0.0001329291894316216, 'beta0': 0.8802857225639664, 'beta1': 0.9724674002393291, 'batch_size': 48, 'patience': 7, 'conv_depth': 3}. Best is trial 0 with value: 0.07190456241369247.\n"
     ]
    },
    {
     "name": "stdout",
     "output_type": "stream",
     "text": [
      "Early termination at epoch 6 with best validation metric 0.28768229484558105\n"
     ]
    },
    {
     "name": "stderr",
     "output_type": "stream",
     "text": [
      "[I 2025-02-20 16:09:28,652] Trial 1 finished with value: 0.28768229484558105 and parameters: {'lr': 1.493656855461762e-05, 'beta0': 0.846470458309974, 'beta1': 0.9595103861625777, 'batch_size': 48, 'patience': 5, 'conv_depth': 5}. Best is trial 0 with value: 0.07190456241369247.\n"
     ]
    },
    {
     "name": "stdout",
     "output_type": "stream",
     "text": [
      "Early termination at epoch 25 with best validation metric 0.07722784951329231\n"
     ]
    },
    {
     "name": "stderr",
     "output_type": "stream",
     "text": [
      "[I 2025-02-20 16:09:47,066] Trial 2 finished with value: 0.07722784951329231 and parameters: {'lr': 0.00314288089084011, 'beta0': 0.5849356442713105, 'beta1': 0.918000671753503, 'batch_size': 16, 'patience': 9, 'conv_depth': 4}. Best is trial 0 with value: 0.07190456241369247.\n"
     ]
    },
    {
     "name": "stdout",
     "output_type": "stream",
     "text": [
      "Early termination at epoch 26 with best validation metric 0.07069950923323631\n"
     ]
    },
    {
     "name": "stderr",
     "output_type": "stream",
     "text": [
      "[I 2025-02-20 16:10:07,725] Trial 3 finished with value: 0.07069950923323631 and parameters: {'lr': 0.00019762189340280086, 'beta0': 0.6164916560792167, 'beta1': 0.9605734365775156, 'batch_size': 16, 'patience': 9, 'conv_depth': 4}. Best is trial 3 with value: 0.07069950923323631.\n"
     ]
    },
    {
     "name": "stdout",
     "output_type": "stream",
     "text": [
      "Early termination at epoch 46 with best validation metric 0.07428165525197983\n"
     ]
    },
    {
     "name": "stderr",
     "output_type": "stream",
     "text": [
      "[I 2025-02-20 16:10:41,223] Trial 4 finished with value: 0.07428165525197983 and parameters: {'lr': 0.00023345864076016249, 'beta0': 0.8140703845572055, 'beta1': 0.9197677044336776, 'batch_size': 48, 'patience': 14, 'conv_depth': 3}. Best is trial 3 with value: 0.07069950923323631.\n"
     ]
    },
    {
     "name": "stdout",
     "output_type": "stream",
     "text": [
      "Early termination at epoch 63 with best validation metric 0.07363550364971161\n"
     ]
    },
    {
     "name": "stderr",
     "output_type": "stream",
     "text": [
      "[I 2025-02-20 16:11:34,745] Trial 5 finished with value: 0.07363550364971161 and parameters: {'lr': 0.0006647135865318024, 'beta0': 0.5682096494749166, 'beta1': 0.9064401077055427, 'batch_size': 64, 'patience': 20, 'conv_depth': 5}. Best is trial 3 with value: 0.07069950923323631.\n"
     ]
    },
    {
     "name": "stdout",
     "output_type": "stream",
     "text": [
      "Early termination at epoch 53 with best validation metric 0.0754595398902893\n"
     ]
    },
    {
     "name": "stderr",
     "output_type": "stream",
     "text": [
      "[I 2025-02-20 16:12:16,686] Trial 6 finished with value: 0.0754595398902893 and parameters: {'lr': 8.200518402245828e-05, 'beta0': 0.5390688456025535, 'beta1': 0.9677390696247036, 'batch_size': 32, 'patience': 6, 'conv_depth': 4}. Best is trial 3 with value: 0.07069950923323631.\n"
     ]
    },
    {
     "name": "stdout",
     "output_type": "stream",
     "text": [
      "Early termination at epoch 15 with best validation metric 0.23272979259490967\n"
     ]
    },
    {
     "name": "stderr",
     "output_type": "stream",
     "text": [
      "[I 2025-02-20 16:12:28,841] Trial 7 finished with value: 0.23272979259490967 and parameters: {'lr': 1.2681352169084594e-05, 'beta0': 0.8637281608315128, 'beta1': 0.9256192181784016, 'batch_size': 48, 'patience': 9, 'conv_depth': 4}. Best is trial 3 with value: 0.07069950923323631.\n"
     ]
    },
    {
     "name": "stdout",
     "output_type": "stream",
     "text": [
      "Early termination at epoch 53 with best validation metric 0.08442835509777069\n"
     ]
    },
    {
     "name": "stderr",
     "output_type": "stream",
     "text": [
      "[I 2025-02-20 16:13:13,891] Trial 8 finished with value: 0.08442835509777069 and parameters: {'lr': 0.00043664735929796326, 'beta0': 0.5739417822102109, 'beta1': 0.9959888781486913, 'batch_size': 64, 'patience': 20, 'conv_depth': 5}. Best is trial 3 with value: 0.07069950923323631.\n"
     ]
    },
    {
     "name": "stdout",
     "output_type": "stream",
     "text": [
      "Early termination at epoch 17 with best validation metric 0.07047038525342941\n"
     ]
    },
    {
     "name": "stderr",
     "output_type": "stream",
     "text": [
      "[I 2025-02-20 16:13:25,732] Trial 9 finished with value: 0.07047038525342941 and parameters: {'lr': 0.0006218704727769079, 'beta0': 0.8687496940092467, 'beta1': 0.90876075770314, 'batch_size': 16, 'patience': 5, 'conv_depth': 3}. Best is trial 9 with value: 0.07047038525342941.\n"
     ]
    },
    {
     "name": "stdout",
     "output_type": "stream",
     "text": [
      "Early termination at epoch 38 with best validation metric 0.0973273515701294\n"
     ]
    },
    {
     "name": "stderr",
     "output_type": "stream",
     "text": [
      "[I 2025-02-20 16:13:54,116] Trial 10 finished with value: 0.0973273515701294 and parameters: {'lr': 0.007251008615423025, 'beta0': 0.7263744283783626, 'beta1': 0.9365041484993887, 'batch_size': 32, 'patience': 14, 'conv_depth': 3}. Best is trial 9 with value: 0.07047038525342941.\n"
     ]
    },
    {
     "name": "stdout",
     "output_type": "stream",
     "text": [
      "Early termination at epoch 35 with best validation metric 0.0695396140217781\n"
     ]
    },
    {
     "name": "stderr",
     "output_type": "stream",
     "text": [
      "[I 2025-02-20 16:14:19,793] Trial 11 finished with value: 0.0695396140217781 and parameters: {'lr': 0.0015407716137978513, 'beta0': 0.6737149869533111, 'beta1': 0.9479469023270556, 'batch_size': 16, 'patience': 11, 'conv_depth': 3}. Best is trial 11 with value: 0.0695396140217781.\n"
     ]
    },
    {
     "name": "stdout",
     "output_type": "stream",
     "text": [
      "Early termination at epoch 40 with best validation metric 0.0726001001894474\n"
     ]
    },
    {
     "name": "stderr",
     "output_type": "stream",
     "text": [
      "[I 2025-02-20 16:14:48,770] Trial 12 finished with value: 0.0726001001894474 and parameters: {'lr': 0.0012429832838063393, 'beta0': 0.695245068670381, 'beta1': 0.9467986866591369, 'batch_size': 16, 'patience': 12, 'conv_depth': 3}. Best is trial 11 with value: 0.0695396140217781.\n"
     ]
    },
    {
     "name": "stdout",
     "output_type": "stream",
     "text": [
      "Early termination at epoch 33 with best validation metric 0.07975590229034424\n"
     ]
    },
    {
     "name": "stderr",
     "output_type": "stream",
     "text": [
      "[I 2025-02-20 16:15:12,280] Trial 13 finished with value: 0.07975590229034424 and parameters: {'lr': 0.001600126711741844, 'beta0': 0.754152835388996, 'beta1': 0.9902797555985758, 'batch_size': 32, 'patience': 17, 'conv_depth': 3}. Best is trial 11 with value: 0.0695396140217781.\n"
     ]
    },
    {
     "name": "stdout",
     "output_type": "stream",
     "text": [
      "Early termination at epoch 28 with best validation metric 0.09511040896177292\n"
     ]
    },
    {
     "name": "stderr",
     "output_type": "stream",
     "text": [
      "[I 2025-02-20 16:15:32,488] Trial 14 finished with value: 0.09511040896177292 and parameters: {'lr': 0.008451316782083659, 'beta0': 0.6651456263915391, 'beta1': 0.9015704298939722, 'batch_size': 16, 'patience': 11, 'conv_depth': 3}. Best is trial 11 with value: 0.0695396140217781.\n"
     ]
    },
    {
     "name": "stdout",
     "output_type": "stream",
     "text": [
      "Early termination at epoch 33 with best validation metric 0.07523531094193459\n"
     ]
    },
    {
     "name": "stderr",
     "output_type": "stream",
     "text": [
      "[I 2025-02-20 16:15:59,015] Trial 15 finished with value: 0.07523531094193459 and parameters: {'lr': 0.002510542922743904, 'beta0': 0.7584656548298411, 'beta1': 0.940095184717273, 'batch_size': 16, 'patience': 16, 'conv_depth': 4}. Best is trial 11 with value: 0.0695396140217781.\n"
     ]
    },
    {
     "name": "stdout",
     "output_type": "stream",
     "text": [
      "Early termination at epoch 25 with best validation metric 0.07060044258832932\n"
     ]
    },
    {
     "name": "stderr",
     "output_type": "stream",
     "text": [
      "[I 2025-02-20 16:16:16,935] Trial 16 finished with value: 0.07060044258832932 and parameters: {'lr': 0.00075775488936619, 'beta0': 0.8045436922164886, 'beta1': 0.9799985374102692, 'batch_size': 32, 'patience': 7, 'conv_depth': 3}. Best is trial 11 with value: 0.0695396140217781.\n"
     ]
    },
    {
     "name": "stdout",
     "output_type": "stream",
     "text": [
      "Early termination at epoch 71 with best validation metric 0.08463171496987343\n"
     ]
    },
    {
     "name": "stderr",
     "output_type": "stream",
     "text": [
      "[I 2025-02-20 16:17:04,819] Trial 17 finished with value: 0.08463171496987343 and parameters: {'lr': 4.661894279170508e-05, 'beta0': 0.6456770260214693, 'beta1': 0.9317641676833619, 'batch_size': 16, 'patience': 10, 'conv_depth': 3}. Best is trial 11 with value: 0.0695396140217781.\n"
     ]
    },
    {
     "name": "stdout",
     "output_type": "stream",
     "text": [
      "Early termination at epoch 8 with best validation metric 0.1219220981001854\n"
     ]
    },
    {
     "name": "stderr",
     "output_type": "stream",
     "text": [
      "[I 2025-02-20 16:17:10,638] Trial 18 finished with value: 0.1219220981001854 and parameters: {'lr': 0.004172034049383968, 'beta0': 0.7932883498008539, 'beta1': 0.951878818643729, 'batch_size': 32, 'patience': 5, 'conv_depth': 3}. Best is trial 11 with value: 0.0695396140217781.\n"
     ]
    },
    {
     "name": "stdout",
     "output_type": "stream",
     "text": [
      "Early termination at epoch 38 with best validation metric 0.07221566140651703\n"
     ]
    },
    {
     "name": "stderr",
     "output_type": "stream",
     "text": [
      "[I 2025-02-20 16:17:40,255] Trial 19 finished with value: 0.07221566140651703 and parameters: {'lr': 0.00042958462384387396, 'beta0': 0.5083654265933615, 'beta1': 0.913034473567475, 'batch_size': 16, 'patience': 14, 'conv_depth': 4}. Best is trial 11 with value: 0.0695396140217781.\n"
     ]
    },
    {
     "name": "stdout",
     "output_type": "stream",
     "text": [
      "Early termination at epoch 53 with best validation metric 0.08286129683256149\n"
     ]
    },
    {
     "name": "stderr",
     "output_type": "stream",
     "text": [
      "[I 2025-02-20 16:18:20,174] Trial 20 finished with value: 0.08286129683256149 and parameters: {'lr': 0.0013722804249137286, 'beta0': 0.6683041078613244, 'beta1': 0.9255567841594613, 'batch_size': 32, 'patience': 18, 'conv_depth': 4}. Best is trial 11 with value: 0.0695396140217781.\n"
     ]
    },
    {
     "name": "stdout",
     "output_type": "stream",
     "text": [
      "Early termination at epoch 38 with best validation metric 0.06784364581108093\n"
     ]
    },
    {
     "name": "stderr",
     "output_type": "stream",
     "text": [
      "[I 2025-02-20 16:18:45,693] Trial 21 finished with value: 0.06784364581108093 and parameters: {'lr': 0.0007410226817937143, 'beta0': 0.8220409524104492, 'beta1': 0.9787918669165963, 'batch_size': 32, 'patience': 7, 'conv_depth': 3}. Best is trial 21 with value: 0.06784364581108093.\n"
     ]
    },
    {
     "name": "stdout",
     "output_type": "stream",
     "text": [
      "Early termination at epoch 24 with best validation metric 0.07005791738629341\n"
     ]
    },
    {
     "name": "stderr",
     "output_type": "stream",
     "text": [
      "[I 2025-02-20 16:19:02,034] Trial 22 finished with value: 0.07005791738629341 and parameters: {'lr': 0.0008226717747968005, 'beta0': 0.8416335373287579, 'beta1': 0.9798863582828223, 'batch_size': 16, 'patience': 7, 'conv_depth': 3}. Best is trial 21 with value: 0.06784364581108093.\n"
     ]
    },
    {
     "name": "stdout",
     "output_type": "stream",
     "text": [
      "Early termination at epoch 44 with best validation metric 0.07658009976148605\n"
     ]
    },
    {
     "name": "stderr",
     "output_type": "stream",
     "text": [
      "[I 2025-02-20 16:19:31,726] Trial 23 finished with value: 0.07658009976148605 and parameters: {'lr': 0.001002136695364582, 'beta0': 0.7523359710996154, 'beta1': 0.9853754818492987, 'batch_size': 32, 'patience': 8, 'conv_depth': 3}. Best is trial 21 with value: 0.06784364581108093.\n"
     ]
    },
    {
     "name": "stdout",
     "output_type": "stream",
     "text": [
      "Early termination at epoch 17 with best validation metric 0.08590316027402878\n"
     ]
    },
    {
     "name": "stderr",
     "output_type": "stream",
     "text": [
      "[I 2025-02-20 16:19:43,088] Trial 24 finished with value: 0.08590316027402878 and parameters: {'lr': 0.001988270889280958, 'beta0': 0.8309269770147732, 'beta1': 0.9758286473980141, 'batch_size': 16, 'patience': 11, 'conv_depth': 3}. Best is trial 21 with value: 0.06784364581108093.\n"
     ]
    },
    {
     "name": "stdout",
     "output_type": "stream",
     "text": [
      "Early termination at epoch 31 with best validation metric 0.06822304427623749\n"
     ]
    },
    {
     "name": "stderr",
     "output_type": "stream",
     "text": [
      "[I 2025-02-20 16:20:03,982] Trial 25 finished with value: 0.06822304427623749 and parameters: {'lr': 0.00040939822582824515, 'beta0': 0.8901843449583284, 'beta1': 0.9986263130561193, 'batch_size': 32, 'patience': 8, 'conv_depth': 3}. Best is trial 21 with value: 0.06784364581108093.\n"
     ]
    },
    {
     "name": "stdout",
     "output_type": "stream",
     "text": [
      "Early termination at epoch 39 with best validation metric 0.07245292514562607\n"
     ]
    },
    {
     "name": "stderr",
     "output_type": "stream",
     "text": [
      "[I 2025-02-20 16:20:30,423] Trial 26 finished with value: 0.07245292514562607 and parameters: {'lr': 0.00037210529889049077, 'beta0': 0.8973191859587819, 'beta1': 0.9983904357199211, 'batch_size': 32, 'patience': 12, 'conv_depth': 3}. Best is trial 21 with value: 0.06784364581108093.\n"
     ]
    },
    {
     "name": "stdout",
     "output_type": "stream",
     "text": [
      "Early termination at epoch 22 with best validation metric 0.0882081612944603\n"
     ]
    },
    {
     "name": "stderr",
     "output_type": "stream",
     "text": [
      "[I 2025-02-20 16:20:46,975] Trial 27 finished with value: 0.0882081612944603 and parameters: {'lr': 0.00419232480308837, 'beta0': 0.7801151332999178, 'beta1': 0.9889729129622002, 'batch_size': 48, 'patience': 10, 'conv_depth': 4}. Best is trial 21 with value: 0.06784364581108093.\n"
     ]
    },
    {
     "name": "stdout",
     "output_type": "stream",
     "text": [
      "Early termination at epoch 42 with best validation metric 0.07382314652204514\n"
     ]
    },
    {
     "name": "stderr",
     "output_type": "stream",
     "text": [
      "[I 2025-02-20 16:21:15,561] Trial 28 finished with value: 0.07382314652204514 and parameters: {'lr': 9.936871842770718e-05, 'beta0': 0.7289911604961354, 'beta1': 0.9640865643649518, 'batch_size': 32, 'patience': 8, 'conv_depth': 3}. Best is trial 21 with value: 0.06784364581108093.\n"
     ]
    },
    {
     "name": "stdout",
     "output_type": "stream",
     "text": [
      "Early termination at epoch 50 with best validation metric 0.07569266855716705\n"
     ]
    },
    {
     "name": "stderr",
     "output_type": "stream",
     "text": [
      "[I 2025-02-20 16:21:49,228] Trial 29 finished with value: 0.07569266855716705 and parameters: {'lr': 0.00016696842491504472, 'beta0': 0.8989879313923892, 'beta1': 0.9469305302824594, 'batch_size': 48, 'patience': 7, 'conv_depth': 3}. Best is trial 21 with value: 0.06784364581108093.\n"
     ]
    },
    {
     "name": "stdout",
     "output_type": "stream",
     "text": [
      "Early termination at epoch 34 with best validation metric 0.08551250398159027\n"
     ]
    },
    {
     "name": "stderr",
     "output_type": "stream",
     "text": [
      "[I 2025-02-20 16:22:12,431] Trial 30 finished with value: 0.08551250398159027 and parameters: {'lr': 0.0002651874480286638, 'beta0': 0.7011285903546304, 'beta1': 0.9716779077924358, 'batch_size': 32, 'patience': 13, 'conv_depth': 3}. Best is trial 21 with value: 0.06784364581108093.\n"
     ]
    },
    {
     "name": "stdout",
     "output_type": "stream",
     "text": [
      "Early termination at epoch 31 with best validation metric 0.07786673307418823\n"
     ]
    },
    {
     "name": "stderr",
     "output_type": "stream",
     "text": [
      "[I 2025-02-20 16:22:33,321] Trial 31 finished with value: 0.07786673307418823 and parameters: {'lr': 0.000902391906034524, 'beta0': 0.8473938022074495, 'beta1': 0.9812753184835705, 'batch_size': 16, 'patience': 7, 'conv_depth': 3}. Best is trial 21 with value: 0.06784364581108093.\n"
     ]
    },
    {
     "name": "stdout",
     "output_type": "stream",
     "text": [
      "Early termination at epoch 22 with best validation metric 0.07677070051431656\n"
     ]
    },
    {
     "name": "stderr",
     "output_type": "stream",
     "text": [
      "[I 2025-02-20 16:22:48,176] Trial 32 finished with value: 0.07677070051431656 and parameters: {'lr': 0.0005177535405686373, 'beta0': 0.8324436789693755, 'beta1': 0.9541946297613397, 'batch_size': 16, 'patience': 6, 'conv_depth': 3}. Best is trial 21 with value: 0.06784364581108093.\n"
     ]
    },
    {
     "name": "stdout",
     "output_type": "stream",
     "text": [
      "Early termination at epoch 23 with best validation metric 0.07827109098434448\n"
     ]
    },
    {
     "name": "stderr",
     "output_type": "stream",
     "text": [
      "[I 2025-02-20 16:23:03,695] Trial 33 finished with value: 0.07827109098434448 and parameters: {'lr': 0.0016967613938434535, 'beta0': 0.8700505870963768, 'beta1': 0.9738901352654662, 'batch_size': 32, 'patience': 8, 'conv_depth': 3}. Best is trial 21 with value: 0.06784364581108093.\n"
     ]
    },
    {
     "name": "stdout",
     "output_type": "stream",
     "text": [
      "Early termination at epoch 64 with best validation metric 0.07787687703967094\n"
     ]
    },
    {
     "name": "stderr",
     "output_type": "stream",
     "text": [
      "[I 2025-02-20 16:23:46,454] Trial 34 finished with value: 0.07787687703967094 and parameters: {'lr': 2.5166458181536978e-05, 'beta0': 0.8478893601236113, 'beta1': 0.9943365035312763, 'batch_size': 16, 'patience': 10, 'conv_depth': 3}. Best is trial 21 with value: 0.06784364581108093.\n"
     ]
    },
    {
     "name": "stdout",
     "output_type": "stream",
     "text": [
      "Early termination at epoch 34 with best validation metric 0.07719607651233673\n"
     ]
    },
    {
     "name": "stderr",
     "output_type": "stream",
     "text": [
      "[I 2025-02-20 16:24:09,289] Trial 35 finished with value: 0.07719607651233673 and parameters: {'lr': 0.00033732087537856266, 'beta0': 0.6337522611259587, 'beta1': 0.9564893709437974, 'batch_size': 48, 'patience': 6, 'conv_depth': 3}. Best is trial 21 with value: 0.06784364581108093.\n"
     ]
    },
    {
     "name": "stdout",
     "output_type": "stream",
     "text": [
      "Early termination at epoch 40 with best validation metric 0.08405911922454834\n"
     ]
    },
    {
     "name": "stderr",
     "output_type": "stream",
     "text": [
      "[I 2025-02-20 16:24:38,464] Trial 36 finished with value: 0.08405911922454834 and parameters: {'lr': 0.0031510318952333066, 'beta0': 0.8194781719762956, 'beta1': 0.9804399725379261, 'batch_size': 64, 'patience': 9, 'conv_depth': 4}. Best is trial 21 with value: 0.06784364581108093.\n"
     ]
    },
    {
     "name": "stdout",
     "output_type": "stream",
     "text": [
      "Early termination at epoch 23 with best validation metric 0.07512650638818741\n"
     ]
    },
    {
     "name": "stderr",
     "output_type": "stream",
     "text": [
      "[I 2025-02-20 16:24:57,550] Trial 37 finished with value: 0.07512650638818741 and parameters: {'lr': 0.001023810064274687, 'beta0': 0.6017784236220411, 'beta1': 0.96458146181044, 'batch_size': 16, 'patience': 8, 'conv_depth': 5}. Best is trial 21 with value: 0.06784364581108093.\n"
     ]
    },
    {
     "name": "stdout",
     "output_type": "stream",
     "text": [
      "Early termination at epoch 33 with best validation metric 0.07835721969604492\n"
     ]
    },
    {
     "name": "stderr",
     "output_type": "stream",
     "text": [
      "[I 2025-02-20 16:25:19,500] Trial 38 finished with value: 0.07835721969604492 and parameters: {'lr': 0.0001496595302870725, 'beta0': 0.781968457333619, 'beta1': 0.9884301754946058, 'batch_size': 32, 'patience': 7, 'conv_depth': 3}. Best is trial 21 with value: 0.06784364581108093.\n"
     ]
    },
    {
     "name": "stdout",
     "output_type": "stream",
     "text": [
      "Early termination at epoch 55 with best validation metric 0.07334685325622559\n"
     ]
    },
    {
     "name": "stderr",
     "output_type": "stream",
     "text": [
      "[I 2025-02-20 16:25:59,507] Trial 39 finished with value: 0.07334685325622559 and parameters: {'lr': 0.0002719626076439709, 'beta0': 0.8927060760533782, 'beta1': 0.9679521298205069, 'batch_size': 48, 'patience': 11, 'conv_depth': 4}. Best is trial 21 with value: 0.06784364581108093.\n"
     ]
    },
    {
     "name": "stdout",
     "output_type": "stream",
     "text": [
      "Early termination at epoch 13 with best validation metric 0.07944576069712639\n"
     ]
    },
    {
     "name": "stderr",
     "output_type": "stream",
     "text": [
      "[I 2025-02-20 16:26:08,264] Trial 40 finished with value: 0.07944576069712639 and parameters: {'lr': 0.0006403067271899217, 'beta0': 0.8588022097115702, 'beta1': 0.9595656736305912, 'batch_size': 16, 'patience': 5, 'conv_depth': 3}. Best is trial 21 with value: 0.06784364581108093.\n"
     ]
    },
    {
     "name": "stdout",
     "output_type": "stream",
     "text": [
      "Early termination at epoch 31 with best validation metric 0.0692589320242405\n"
     ]
    },
    {
     "name": "stderr",
     "output_type": "stream",
     "text": [
      "[I 2025-02-20 16:26:28,662] Trial 41 finished with value: 0.0692589320242405 and parameters: {'lr': 0.0006000697288753808, 'beta0': 0.8693922791100775, 'beta1': 0.9402405178309667, 'batch_size': 16, 'patience': 6, 'conv_depth': 3}. Best is trial 21 with value: 0.06784364581108093.\n"
     ]
    },
    {
     "name": "stdout",
     "output_type": "stream",
     "text": [
      "Early termination at epoch 9 with best validation metric 0.10207486152648926\n"
     ]
    },
    {
     "name": "stderr",
     "output_type": "stream",
     "text": [
      "[I 2025-02-20 16:26:34,780] Trial 42 finished with value: 0.10207486152648926 and parameters: {'lr': 0.0007683881935365995, 'beta0': 0.8310807594621051, 'beta1': 0.9450644889289448, 'batch_size': 16, 'patience': 6, 'conv_depth': 3}. Best is trial 21 with value: 0.06784364581108093.\n"
     ]
    },
    {
     "name": "stdout",
     "output_type": "stream",
     "text": [
      "Early termination at epoch 23 with best validation metric 0.06704781204462051\n"
     ]
    },
    {
     "name": "stderr",
     "output_type": "stream",
     "text": [
      "[I 2025-02-20 16:26:50,031] Trial 43 finished with value: 0.06704781204462051 and parameters: {'lr': 0.0005224667902305882, 'beta0': 0.8789493631484051, 'beta1': 0.9396990807383642, 'batch_size': 16, 'patience': 9, 'conv_depth': 3}. Best is trial 43 with value: 0.06704781204462051.\n"
     ]
    },
    {
     "name": "stdout",
     "output_type": "stream",
     "text": [
      "Early termination at epoch 27 with best validation metric 0.0698324553668499\n"
     ]
    },
    {
     "name": "stderr",
     "output_type": "stream",
     "text": [
      "[I 2025-02-20 16:27:08,402] Trial 44 finished with value: 0.0698324553668499 and parameters: {'lr': 0.0005138995246264576, 'beta0': 0.8814519906459282, 'beta1': 0.938024057404404, 'batch_size': 16, 'patience': 9, 'conv_depth': 3}. Best is trial 43 with value: 0.06704781204462051.\n"
     ]
    },
    {
     "name": "stdout",
     "output_type": "stream",
     "text": [
      "Early termination at epoch 39 with best validation metric 0.06916912645101547\n"
     ]
    },
    {
     "name": "stderr",
     "output_type": "stream",
     "text": [
      "[I 2025-02-20 16:27:36,845] Trial 45 finished with value: 0.06916912645101547 and parameters: {'lr': 0.00020194725144068518, 'beta0': 0.8598482679674861, 'beta1': 0.9318323735545714, 'batch_size': 32, 'patience': 10, 'conv_depth': 3}. Best is trial 43 with value: 0.06704781204462051.\n"
     ]
    },
    {
     "name": "stdout",
     "output_type": "stream",
     "text": [
      "Early termination at epoch 29 with best validation metric 0.07704882323741913\n"
     ]
    },
    {
     "name": "stderr",
     "output_type": "stream",
     "text": [
      "[I 2025-02-20 16:27:59,711] Trial 46 finished with value: 0.07704882323741913 and parameters: {'lr': 0.0002230670625186837, 'beta0': 0.8777920392588625, 'beta1': 0.9306186122270288, 'batch_size': 32, 'patience': 9, 'conv_depth': 4}. Best is trial 43 with value: 0.06704781204462051.\n"
     ]
    },
    {
     "name": "stdout",
     "output_type": "stream",
     "text": [
      "Early termination at epoch 54 with best validation metric 0.08388739824295044\n"
     ]
    },
    {
     "name": "stderr",
     "output_type": "stream",
     "text": [
      "[I 2025-02-20 16:28:38,157] Trial 47 finished with value: 0.08388739824295044 and parameters: {'lr': 9.42900050310544e-05, 'beta0': 0.8588327770318553, 'beta1': 0.9210202700228809, 'batch_size': 32, 'patience': 8, 'conv_depth': 3}. Best is trial 43 with value: 0.06704781204462051.\n"
     ]
    },
    {
     "name": "stdout",
     "output_type": "stream",
     "text": [
      "Early termination at epoch 41 with best validation metric 0.07025716453790665\n"
     ]
    },
    {
     "name": "stderr",
     "output_type": "stream",
     "text": [
      "[I 2025-02-20 16:29:07,252] Trial 48 finished with value: 0.07025716453790665 and parameters: {'lr': 0.00012206718699055329, 'beta0': 0.8069660929929179, 'beta1': 0.9406081624731745, 'batch_size': 48, 'patience': 10, 'conv_depth': 3}. Best is trial 43 with value: 0.06704781204462051.\n"
     ]
    },
    {
     "name": "stdout",
     "output_type": "stream",
     "text": [
      "Early termination at epoch 6 with best validation metric 0.2024654597043991\n"
     ]
    },
    {
     "name": "stderr",
     "output_type": "stream",
     "text": [
      "[I 2025-02-20 16:29:11,814] Trial 49 finished with value: 0.2024654597043991 and parameters: {'lr': 7.355017368396928e-05, 'beta0': 0.8819872445487633, 'beta1': 0.9305120837656512, 'batch_size': 32, 'patience': 5, 'conv_depth': 3}. Best is trial 43 with value: 0.06704781204462051.\n",
      "[I 2025-02-20 16:29:12,005] A new study created in memory with name: FNet_optimize_OrigRNA_high_confluence\n"
     ]
    },
    {
     "name": "stdout",
     "output_type": "stream",
     "text": [
      "Best trial for channel OrigMito:\n",
      "  Validation Loss: 0.06704781204462051\n",
      "  Hyperparameters: {'lr': 0.0005224667902305882, 'beta0': 0.8789493631484051, 'beta1': 0.9396990807383642, 'batch_size': 16, 'patience': 9, 'conv_depth': 3}\n",
      "Beginning optimization for channel: OrigRNA for high_confluence\n",
      "Early termination at epoch 8 with best validation metric 0.39395517110824585\n"
     ]
    },
    {
     "name": "stderr",
     "output_type": "stream",
     "text": [
      "[I 2025-02-20 16:29:17,896] Trial 0 finished with value: 0.39395517110824585 and parameters: {'lr': 0.0001329291894316216, 'beta0': 0.8802857225639664, 'beta1': 0.9724674002393291, 'batch_size': 48, 'patience': 7, 'conv_depth': 3}. Best is trial 0 with value: 0.39395517110824585.\n"
     ]
    },
    {
     "name": "stdout",
     "output_type": "stream",
     "text": [
      "Early termination at epoch 328 with best validation metric 0.04954323172569275\n"
     ]
    },
    {
     "name": "stderr",
     "output_type": "stream",
     "text": [
      "[I 2025-02-20 16:36:30,560] Trial 1 finished with value: 0.04954323172569275 and parameters: {'lr': 1.493656855461762e-05, 'beta0': 0.846470458309974, 'beta1': 0.9595103861625777, 'batch_size': 48, 'patience': 5, 'conv_depth': 5}. Best is trial 1 with value: 0.04954323172569275.\n"
     ]
    },
    {
     "name": "stdout",
     "output_type": "stream",
     "text": [
      "Early termination at epoch 13 with best validation metric 0.04184385575354099\n"
     ]
    },
    {
     "name": "stderr",
     "output_type": "stream",
     "text": [
      "[I 2025-02-20 16:36:53,204] Trial 2 finished with value: 0.04184385575354099 and parameters: {'lr': 0.00314288089084011, 'beta0': 0.5849356442713105, 'beta1': 0.918000671753503, 'batch_size': 16, 'patience': 9, 'conv_depth': 4}. Best is trial 2 with value: 0.04184385575354099.\n"
     ]
    },
    {
     "name": "stdout",
     "output_type": "stream",
     "text": [
      "Early termination at epoch 42 with best validation metric 0.02344963699579239\n"
     ]
    },
    {
     "name": "stderr",
     "output_type": "stream",
     "text": [
      "[I 2025-02-20 16:37:39,538] Trial 3 finished with value: 0.02344963699579239 and parameters: {'lr': 0.00019762189340280086, 'beta0': 0.6164916560792167, 'beta1': 0.9605734365775156, 'batch_size': 16, 'patience': 9, 'conv_depth': 4}. Best is trial 3 with value: 0.02344963699579239.\n"
     ]
    },
    {
     "name": "stdout",
     "output_type": "stream",
     "text": [
      "Early termination at epoch 86 with best validation metric 0.021710222586989403\n"
     ]
    },
    {
     "name": "stderr",
     "output_type": "stream",
     "text": [
      "[I 2025-02-20 16:38:41,391] Trial 4 finished with value: 0.021710222586989403 and parameters: {'lr': 0.00023345864076016249, 'beta0': 0.8140703845572055, 'beta1': 0.9197677044336776, 'batch_size': 48, 'patience': 14, 'conv_depth': 3}. Best is trial 4 with value: 0.021710222586989403.\n"
     ]
    },
    {
     "name": "stdout",
     "output_type": "stream",
     "text": [
      "Early termination at epoch 118 with best validation metric 0.023203937336802483\n"
     ]
    },
    {
     "name": "stderr",
     "output_type": "stream",
     "text": [
      "[I 2025-02-20 16:40:21,499] Trial 5 finished with value: 0.023203937336802483 and parameters: {'lr': 0.0006647135865318024, 'beta0': 0.5682096494749166, 'beta1': 0.9064401077055427, 'batch_size': 64, 'patience': 20, 'conv_depth': 5}. Best is trial 4 with value: 0.021710222586989403.\n"
     ]
    },
    {
     "name": "stdout",
     "output_type": "stream",
     "text": [
      "Early termination at epoch 99 with best validation metric 0.021180782467126846\n"
     ]
    },
    {
     "name": "stderr",
     "output_type": "stream",
     "text": [
      "[I 2025-02-20 16:41:39,831] Trial 6 finished with value: 0.021180782467126846 and parameters: {'lr': 8.200518402245828e-05, 'beta0': 0.5390688456025535, 'beta1': 0.9677390696247036, 'batch_size': 32, 'patience': 6, 'conv_depth': 4}. Best is trial 6 with value: 0.021180782467126846.\n"
     ]
    },
    {
     "name": "stdout",
     "output_type": "stream",
     "text": [
      "Early termination at epoch 10 with best validation metric 0.3061140775680542\n"
     ]
    },
    {
     "name": "stderr",
     "output_type": "stream",
     "text": [
      "[I 2025-02-20 16:41:48,160] Trial 7 finished with value: 0.3061140775680542 and parameters: {'lr': 1.2681352169084594e-05, 'beta0': 0.8637281608315128, 'beta1': 0.9256192181784016, 'batch_size': 48, 'patience': 9, 'conv_depth': 4}. Best is trial 6 with value: 0.021180782467126846.\n"
     ]
    },
    {
     "name": "stdout",
     "output_type": "stream",
     "text": [
      "Early termination at epoch 74 with best validation metric 0.023985840380191803\n"
     ]
    },
    {
     "name": "stderr",
     "output_type": "stream",
     "text": [
      "[I 2025-02-20 16:42:51,402] Trial 8 finished with value: 0.023985840380191803 and parameters: {'lr': 0.00043664735929796326, 'beta0': 0.5739417822102109, 'beta1': 0.9959888781486913, 'batch_size': 64, 'patience': 20, 'conv_depth': 5}. Best is trial 6 with value: 0.021180782467126846.\n"
     ]
    },
    {
     "name": "stdout",
     "output_type": "stream",
     "text": [
      "Early termination at epoch 33 with best validation metric 0.020993614569306374\n"
     ]
    },
    {
     "name": "stderr",
     "output_type": "stream",
     "text": [
      "[I 2025-02-20 16:43:15,207] Trial 9 finished with value: 0.020993614569306374 and parameters: {'lr': 0.0006218704727769079, 'beta0': 0.8687496940092467, 'beta1': 0.90876075770314, 'batch_size': 16, 'patience': 5, 'conv_depth': 3}. Best is trial 9 with value: 0.020993614569306374.\n"
     ]
    },
    {
     "name": "stdout",
     "output_type": "stream",
     "text": [
      "Early termination at epoch 50 with best validation metric 0.03011273592710495\n"
     ]
    },
    {
     "name": "stderr",
     "output_type": "stream",
     "text": [
      "[I 2025-02-20 16:43:51,078] Trial 10 finished with value: 0.03011273592710495 and parameters: {'lr': 0.007251008615423025, 'beta0': 0.7263744283783626, 'beta1': 0.9365041484993887, 'batch_size': 32, 'patience': 14, 'conv_depth': 3}. Best is trial 9 with value: 0.020993614569306374.\n"
     ]
    },
    {
     "name": "stdout",
     "output_type": "stream",
     "text": [
      "Early termination at epoch 100 with best validation metric 0.026932401582598686\n"
     ]
    },
    {
     "name": "stderr",
     "output_type": "stream",
     "text": [
      "[I 2025-02-20 16:45:02,471] Trial 11 finished with value: 0.026932401582598686 and parameters: {'lr': 5.83889111222153e-05, 'beta0': 0.5044028672002467, 'beta1': 0.9795643255265343, 'batch_size': 32, 'patience': 5, 'conv_depth': 3}. Best is trial 9 with value: 0.020993614569306374.\n"
     ]
    },
    {
     "name": "stdout",
     "output_type": "stream",
     "text": [
      "Early termination at epoch 39 with best validation metric 0.02713057119399309\n"
     ]
    },
    {
     "name": "stderr",
     "output_type": "stream",
     "text": [
      "[I 2025-02-20 16:45:33,052] Trial 12 finished with value: 0.02713057119399309 and parameters: {'lr': 0.001617592210904135, 'beta0': 0.7369602457523448, 'beta1': 0.9437098985377517, 'batch_size': 16, 'patience': 12, 'conv_depth': 4}. Best is trial 9 with value: 0.020993614569306374.\n"
     ]
    },
    {
     "name": "stdout",
     "output_type": "stream",
     "text": [
      "Early termination at epoch 121 with best validation metric 0.02263261005282402\n"
     ]
    },
    {
     "name": "stderr",
     "output_type": "stream",
     "text": [
      "[I 2025-02-20 16:46:59,482] Trial 13 finished with value: 0.02263261005282402 and parameters: {'lr': 5.642378801765123e-05, 'beta0': 0.6639759114544537, 'beta1': 0.985376156163027, 'batch_size': 32, 'patience': 7, 'conv_depth': 3}. Best is trial 9 with value: 0.020993614569306374.\n"
     ]
    },
    {
     "name": "stdout",
     "output_type": "stream",
     "text": [
      "Early termination at epoch 35 with best validation metric 0.024632052518427372\n"
     ]
    },
    {
     "name": "stderr",
     "output_type": "stream",
     "text": [
      "[I 2025-02-20 16:47:27,621] Trial 14 finished with value: 0.024632052518427372 and parameters: {'lr': 0.0011532482041984732, 'beta0': 0.8012897576105888, 'beta1': 0.9005829530160471, 'batch_size': 16, 'patience': 11, 'conv_depth': 4}. Best is trial 9 with value: 0.020993614569306374.\n"
     ]
    },
    {
     "name": "stdout",
     "output_type": "stream",
     "text": [
      "Early termination at epoch 86 with best validation metric 0.02524547651410103\n"
     ]
    },
    {
     "name": "stderr",
     "output_type": "stream",
     "text": [
      "[I 2025-02-20 16:48:36,120] Trial 15 finished with value: 0.02524547651410103 and parameters: {'lr': 6.968366472262222e-05, 'beta0': 0.6667698433310002, 'beta1': 0.9577394882426664, 'batch_size': 32, 'patience': 17, 'conv_depth': 4}. Best is trial 9 with value: 0.020993614569306374.\n"
     ]
    },
    {
     "name": "stdout",
     "output_type": "stream",
     "text": [
      "Early termination at epoch 126 with best validation metric 0.020420369692146778\n"
     ]
    },
    {
     "name": "stderr",
     "output_type": "stream",
     "text": [
      "[I 2025-02-20 16:50:04,293] Trial 16 finished with value: 0.020420369692146778 and parameters: {'lr': 2.9686604307577388e-05, 'beta0': 0.5196735553074572, 'beta1': 0.9407881601588884, 'batch_size': 16, 'patience': 7, 'conv_depth': 3}. Best is trial 16 with value: 0.020420369692146778.\n"
     ]
    },
    {
     "name": "stdout",
     "output_type": "stream",
     "text": [
      "Early termination at epoch 20 with best validation metric 0.02465682290494442\n"
     ]
    },
    {
     "name": "stderr",
     "output_type": "stream",
     "text": [
      "[I 2025-02-20 16:50:18,774] Trial 17 finished with value: 0.02465682290494442 and parameters: {'lr': 0.0006196976876962261, 'beta0': 0.7756623291939448, 'beta1': 0.933546502264544, 'batch_size': 16, 'patience': 8, 'conv_depth': 3}. Best is trial 16 with value: 0.020420369692146778.\n"
     ]
    },
    {
     "name": "stdout",
     "output_type": "stream",
     "text": [
      "Early termination at epoch 163 with best validation metric 0.022699994035065174\n"
     ]
    },
    {
     "name": "stderr",
     "output_type": "stream",
     "text": [
      "[I 2025-02-20 16:52:13,460] Trial 18 finished with value: 0.022699994035065174 and parameters: {'lr': 2.418092849725909e-05, 'beta0': 0.6406086632532847, 'beta1': 0.9472405047636141, 'batch_size': 16, 'patience': 11, 'conv_depth': 3}. Best is trial 16 with value: 0.020420369692146778.\n"
     ]
    },
    {
     "name": "stdout",
     "output_type": "stream",
     "text": [
      "Early termination at epoch 107 with best validation metric 0.020156322047114372\n"
     ]
    },
    {
     "name": "stderr",
     "output_type": "stream",
     "text": [
      "[I 2025-02-20 16:53:28,018] Trial 19 finished with value: 0.020156322047114372 and parameters: {'lr': 3.0402238177274705e-05, 'beta0': 0.713971493192405, 'beta1': 0.9112023828261607, 'batch_size': 16, 'patience': 5, 'conv_depth': 3}. Best is trial 19 with value: 0.020156322047114372.\n"
     ]
    },
    {
     "name": "stdout",
     "output_type": "stream",
     "text": [
      "Early termination at epoch 8 with best validation metric 0.31910115480422974\n"
     ]
    },
    {
     "name": "stderr",
     "output_type": "stream",
     "text": [
      "[I 2025-02-20 16:53:33,605] Trial 20 finished with value: 0.31910115480422974 and parameters: {'lr': 2.81835638356176e-05, 'beta0': 0.7029002131594223, 'beta1': 0.9310323600650121, 'batch_size': 32, 'patience': 7, 'conv_depth': 3}. Best is trial 19 with value: 0.020156322047114372.\n"
     ]
    },
    {
     "name": "stdout",
     "output_type": "stream",
     "text": [
      "Early termination at epoch 135 with best validation metric 0.023522524163126945\n"
     ]
    },
    {
     "name": "stderr",
     "output_type": "stream",
     "text": [
      "[I 2025-02-20 16:55:01,336] Trial 21 finished with value: 0.023522524163126945 and parameters: {'lr': 2.69225292741445e-05, 'beta0': 0.7614090977947321, 'beta1': 0.9119634039478303, 'batch_size': 16, 'patience': 5, 'conv_depth': 3}. Best is trial 19 with value: 0.020156322047114372.\n"
     ]
    },
    {
     "name": "stdout",
     "output_type": "stream",
     "text": [
      "Early termination at epoch 40 with best validation metric 0.01837955415248871\n"
     ]
    },
    {
     "name": "stderr",
     "output_type": "stream",
     "text": [
      "[I 2025-02-20 16:55:28,222] Trial 22 finished with value: 0.01837955415248871 and parameters: {'lr': 0.0001255670671737317, 'beta0': 0.8183471047574293, 'beta1': 0.9123311454952704, 'batch_size': 16, 'patience': 6, 'conv_depth': 3}. Best is trial 22 with value: 0.01837955415248871.\n"
     ]
    },
    {
     "name": "stdout",
     "output_type": "stream",
     "text": [
      "Early termination at epoch 50 with best validation metric 0.022071700543165207\n"
     ]
    },
    {
     "name": "stderr",
     "output_type": "stream",
     "text": [
      "[I 2025-02-20 16:56:00,810] Trial 23 finished with value: 0.022071700543165207 and parameters: {'lr': 0.00011989771164734558, 'beta0': 0.827730237227956, 'beta1': 0.9226082548317838, 'batch_size': 16, 'patience': 8, 'conv_depth': 3}. Best is trial 22 with value: 0.01837955415248871.\n"
     ]
    },
    {
     "name": "stdout",
     "output_type": "stream",
     "text": [
      "Early termination at epoch 95 with best validation metric 0.01874302700161934\n"
     ]
    },
    {
     "name": "stderr",
     "output_type": "stream",
     "text": [
      "[I 2025-02-20 16:57:02,601] Trial 24 finished with value: 0.01874302700161934 and parameters: {'lr': 4.5164594450094275e-05, 'beta0': 0.7791030903700832, 'beta1': 0.9021984016807252, 'batch_size': 16, 'patience': 6, 'conv_depth': 3}. Best is trial 22 with value: 0.01837955415248871.\n"
     ]
    },
    {
     "name": "stdout",
     "output_type": "stream",
     "text": [
      "Early termination at epoch 128 with best validation metric 0.021637704223394394\n"
     ]
    },
    {
     "name": "stderr",
     "output_type": "stream",
     "text": [
      "[I 2025-02-20 16:58:26,901] Trial 25 finished with value: 0.021637704223394394 and parameters: {'lr': 4.699248835151017e-05, 'beta0': 0.7828299908042616, 'beta1': 0.9016146574238906, 'batch_size': 32, 'patience': 10, 'conv_depth': 3}. Best is trial 22 with value: 0.01837955415248871.\n"
     ]
    },
    {
     "name": "stdout",
     "output_type": "stream",
     "text": [
      "Early termination at epoch 51 with best validation metric 0.020314915105700493\n"
     ]
    },
    {
     "name": "stderr",
     "output_type": "stream",
     "text": [
      "[I 2025-02-20 16:59:00,436] Trial 26 finished with value: 0.020314915105700493 and parameters: {'lr': 0.00011788672068111753, 'beta0': 0.7420801035288099, 'beta1': 0.9136685818621348, 'batch_size': 16, 'patience': 6, 'conv_depth': 3}. Best is trial 22 with value: 0.01837955415248871.\n"
     ]
    },
    {
     "name": "stdout",
     "output_type": "stream",
     "text": [
      "Early termination at epoch 8 with best validation metric 0.4286155700683594\n"
     ]
    },
    {
     "name": "stderr",
     "output_type": "stream",
     "text": [
      "[I 2025-02-20 16:59:06,729] Trial 27 finished with value: 0.4286155700683594 and parameters: {'lr': 1.1953502920232737e-05, 'beta0': 0.7027688350733025, 'beta1': 0.9263814224756641, 'batch_size': 32, 'patience': 6, 'conv_depth': 4}. Best is trial 22 with value: 0.01837955415248871.\n"
     ]
    },
    {
     "name": "stdout",
     "output_type": "stream",
     "text": [
      "Early termination at epoch 91 with best validation metric 0.025028182193636894\n"
     ]
    },
    {
     "name": "stderr",
     "output_type": "stream",
     "text": [
      "[I 2025-02-20 17:00:05,843] Trial 28 finished with value: 0.025028182193636894 and parameters: {'lr': 4.089112739917575e-05, 'beta0': 0.7979037160396821, 'beta1': 0.9148646017088029, 'batch_size': 16, 'patience': 15, 'conv_depth': 3}. Best is trial 22 with value: 0.01837955415248871.\n"
     ]
    },
    {
     "name": "stdout",
     "output_type": "stream",
     "text": [
      "Early termination at epoch 55 with best validation metric 0.022997453808784485\n"
     ]
    },
    {
     "name": "stderr",
     "output_type": "stream",
     "text": [
      "[I 2025-02-20 17:00:42,084] Trial 29 finished with value: 0.022997453808784485 and parameters: {'lr': 0.00017284956986151823, 'beta0': 0.8989879313923892, 'beta1': 0.9066497299176686, 'batch_size': 48, 'patience': 8, 'conv_depth': 3}. Best is trial 22 with value: 0.01837955415248871.\n"
     ]
    },
    {
     "name": "stdout",
     "output_type": "stream",
     "text": [
      "Early termination at epoch 62 with best validation metric 0.020232141949236393\n"
     ]
    },
    {
     "name": "stderr",
     "output_type": "stream",
     "text": [
      "[I 2025-02-20 17:01:22,479] Trial 30 finished with value: 0.020232141949236393 and parameters: {'lr': 0.00013089733714340162, 'beta0': 0.836319268585301, 'beta1': 0.9052104359825085, 'batch_size': 16, 'patience': 18, 'conv_depth': 3}. Best is trial 22 with value: 0.01837955415248871.\n"
     ]
    },
    {
     "name": "stdout",
     "output_type": "stream",
     "text": [
      "Early termination at epoch 56 with best validation metric 0.023074626922607422\n"
     ]
    },
    {
     "name": "stderr",
     "output_type": "stream",
     "text": [
      "[I 2025-02-20 17:01:58,868] Trial 31 finished with value: 0.023074626922607422 and parameters: {'lr': 0.000304222218682814, 'beta0': 0.8296101647202679, 'beta1': 0.9008457098085039, 'batch_size': 16, 'patience': 18, 'conv_depth': 3}. Best is trial 22 with value: 0.01837955415248871.\n"
     ]
    },
    {
     "name": "stdout",
     "output_type": "stream",
     "text": [
      "Early termination at epoch 62 with best validation metric 0.02163634914904833\n"
     ]
    },
    {
     "name": "stderr",
     "output_type": "stream",
     "text": [
      "[I 2025-02-20 17:02:39,170] Trial 32 finished with value: 0.02163634914904833 and parameters: {'lr': 0.0001046803628902248, 'beta0': 0.8425751059010468, 'beta1': 0.9080712069980434, 'batch_size': 16, 'patience': 17, 'conv_depth': 3}. Best is trial 22 with value: 0.01837955415248871.\n"
     ]
    },
    {
     "name": "stdout",
     "output_type": "stream",
     "text": [
      "Early termination at epoch 181 with best validation metric 0.022816363722085953\n"
     ]
    },
    {
     "name": "stderr",
     "output_type": "stream",
     "text": [
      "[I 2025-02-20 17:04:36,293] Trial 33 finished with value: 0.022816363722085953 and parameters: {'lr': 1.8068076437276746e-05, 'beta0': 0.7637661805880608, 'beta1': 0.918360218152952, 'batch_size': 16, 'patience': 6, 'conv_depth': 3}. Best is trial 22 with value: 0.01837955415248871.\n"
     ]
    },
    {
     "name": "stdout",
     "output_type": "stream",
     "text": [
      "Early termination at epoch 121 with best validation metric 0.020998136140406132\n"
     ]
    },
    {
     "name": "stderr",
     "output_type": "stream",
     "text": [
      "[I 2025-02-20 17:05:54,618] Trial 34 finished with value: 0.020998136140406132 and parameters: {'lr': 3.7807507329170765e-05, 'beta0': 0.8573627645337432, 'beta1': 0.9130780231014969, 'batch_size': 16, 'patience': 15, 'conv_depth': 3}. Best is trial 22 with value: 0.01837955415248871.\n"
     ]
    },
    {
     "name": "stdout",
     "output_type": "stream",
     "text": [
      "Early termination at epoch 45 with best validation metric 0.018853352405130863\n"
     ]
    },
    {
     "name": "stderr",
     "output_type": "stream",
     "text": [
      "[I 2025-02-20 17:06:31,065] Trial 35 finished with value: 0.018853352405130863 and parameters: {'lr': 0.00016766749574702625, 'beta0': 0.8905987299557228, 'beta1': 0.9285948355906347, 'batch_size': 16, 'patience': 13, 'conv_depth': 5}. Best is trial 22 with value: 0.01837955415248871.\n"
     ]
    },
    {
     "name": "stdout",
     "output_type": "stream",
     "text": [
      "Early termination at epoch 50 with best validation metric 0.02001716010272503\n"
     ]
    },
    {
     "name": "stderr",
     "output_type": "stream",
     "text": [
      "[I 2025-02-20 17:07:10,882] Trial 36 finished with value: 0.02001716010272503 and parameters: {'lr': 0.00031664305390946855, 'beta0': 0.8916438215830478, 'beta1': 0.9286819244741357, 'batch_size': 32, 'patience': 13, 'conv_depth': 5}. Best is trial 22 with value: 0.01837955415248871.\n"
     ]
    },
    {
     "name": "stdout",
     "output_type": "stream",
     "text": [
      "Early termination at epoch 93 with best validation metric 0.022330064326524734\n"
     ]
    },
    {
     "name": "stderr",
     "output_type": "stream",
     "text": [
      "[I 2025-02-20 17:08:24,709] Trial 37 finished with value: 0.022330064326524734 and parameters: {'lr': 0.00042788722318118464, 'beta0': 0.8972995156784536, 'beta1': 0.92928480596484, 'batch_size': 32, 'patience': 13, 'conv_depth': 5}. Best is trial 22 with value: 0.01837955415248871.\n"
     ]
    },
    {
     "name": "stdout",
     "output_type": "stream",
     "text": [
      "Early termination at epoch 83 with best validation metric 0.018520135432481766\n"
     ]
    },
    {
     "name": "stderr",
     "output_type": "stream",
     "text": [
      "[I 2025-02-20 17:09:30,137] Trial 38 finished with value: 0.018520135432481766 and parameters: {'lr': 0.00021705654939085378, 'beta0': 0.8811039568044744, 'beta1': 0.9540795834364235, 'batch_size': 48, 'patience': 13, 'conv_depth': 5}. Best is trial 22 with value: 0.01837955415248871.\n"
     ]
    },
    {
     "name": "stdout",
     "output_type": "stream",
     "text": [
      "Early termination at epoch 71 with best validation metric 0.023316368460655212\n"
     ]
    },
    {
     "name": "stderr",
     "output_type": "stream",
     "text": [
      "[I 2025-02-20 17:10:25,684] Trial 39 finished with value: 0.023316368460655212 and parameters: {'lr': 0.00018879594723747364, 'beta0': 0.8662822413060389, 'beta1': 0.9508185928678792, 'batch_size': 48, 'patience': 12, 'conv_depth': 5}. Best is trial 22 with value: 0.01837955415248871.\n"
     ]
    },
    {
     "name": "stdout",
     "output_type": "stream",
     "text": [
      "Early termination at epoch 182 with best validation metric 0.023292526602745056\n"
     ]
    },
    {
     "name": "stderr",
     "output_type": "stream",
     "text": [
      "[I 2025-02-20 17:12:46,557] Trial 40 finished with value: 0.023292526602745056 and parameters: {'lr': 7.924338064333532e-05, 'beta0': 0.8130516106066932, 'beta1': 0.9562399262322501, 'batch_size': 64, 'patience': 10, 'conv_depth': 5}. Best is trial 22 with value: 0.01837955415248871.\n"
     ]
    },
    {
     "name": "stdout",
     "output_type": "stream",
     "text": [
      "Early termination at epoch 50 with best validation metric 0.022801129147410393\n"
     ]
    },
    {
     "name": "stderr",
     "output_type": "stream",
     "text": [
      "[I 2025-02-20 17:13:26,253] Trial 41 finished with value: 0.022801129147410393 and parameters: {'lr': 0.0002534184313785047, 'beta0': 0.8847993267335006, 'beta1': 0.9647312745517596, 'batch_size': 48, 'patience': 13, 'conv_depth': 5}. Best is trial 22 with value: 0.01837955415248871.\n"
     ]
    },
    {
     "name": "stdout",
     "output_type": "stream",
     "text": [
      "Early termination at epoch 83 with best validation metric 0.023089122027158737\n"
     ]
    },
    {
     "name": "stderr",
     "output_type": "stream",
     "text": [
      "[I 2025-02-20 17:14:31,593] Trial 42 finished with value: 0.023089122027158737 and parameters: {'lr': 0.00034907839108893663, 'beta0': 0.8794846985834597, 'beta1': 0.9369089386347329, 'batch_size': 48, 'patience': 14, 'conv_depth': 5}. Best is trial 22 with value: 0.01837955415248871.\n"
     ]
    },
    {
     "name": "stdout",
     "output_type": "stream",
     "text": [
      "Early termination at epoch 100 with best validation metric 0.02377651259303093\n"
     ]
    },
    {
     "name": "stderr",
     "output_type": "stream",
     "text": [
      "[I 2025-02-20 17:15:50,134] Trial 43 finished with value: 0.02377651259303093 and parameters: {'lr': 0.00017952347320873729, 'beta0': 0.8488418542743364, 'beta1': 0.9230832886069092, 'batch_size': 48, 'patience': 15, 'conv_depth': 5}. Best is trial 22 with value: 0.01837955415248871.\n"
     ]
    },
    {
     "name": "stdout",
     "output_type": "stream",
     "text": [
      "Early termination at epoch 26 with best validation metric 0.0366489440202713\n"
     ]
    },
    {
     "name": "stderr",
     "output_type": "stream",
     "text": [
      "[I 2025-02-20 17:16:10,836] Trial 44 finished with value: 0.0366489440202713 and parameters: {'lr': 0.0010923180324420914, 'beta0': 0.8806424924071308, 'beta1': 0.9523450684790238, 'batch_size': 64, 'patience': 11, 'conv_depth': 5}. Best is trial 22 with value: 0.01837955415248871.\n"
     ]
    },
    {
     "name": "stdout",
     "output_type": "stream",
     "text": [
      "Early termination at epoch 85 with best validation metric 0.018649403005838394\n"
     ]
    },
    {
     "name": "stderr",
     "output_type": "stream",
     "text": [
      "[I 2025-02-20 17:17:18,529] Trial 45 finished with value: 0.018649403005838394 and parameters: {'lr': 8.672532720869874e-05, 'beta0': 0.8183554603529374, 'beta1': 0.9187240706169937, 'batch_size': 32, 'patience': 14, 'conv_depth': 5}. Best is trial 22 with value: 0.01837955415248871.\n"
     ]
    },
    {
     "name": "stdout",
     "output_type": "stream",
     "text": [
      "Early termination at epoch 127 with best validation metric 0.024301424622535706\n"
     ]
    },
    {
     "name": "stderr",
     "output_type": "stream",
     "text": [
      "[I 2025-02-20 17:18:57,457] Trial 46 finished with value: 0.024301424622535706 and parameters: {'lr': 7.712926810955805e-05, 'beta0': 0.8167383298697409, 'beta1': 0.9185006075411694, 'batch_size': 48, 'patience': 14, 'conv_depth': 5}. Best is trial 22 with value: 0.01837955415248871.\n"
     ]
    },
    {
     "name": "stdout",
     "output_type": "stream",
     "text": [
      "Early termination at epoch 66 with best validation metric 0.02200244925916195\n"
     ]
    },
    {
     "name": "stderr",
     "output_type": "stream",
     "text": [
      "[I 2025-02-20 17:19:49,875] Trial 47 finished with value: 0.02200244925916195 and parameters: {'lr': 0.00015840502738486407, 'beta0': 0.7876576969297029, 'beta1': 0.9635466140058463, 'batch_size': 32, 'patience': 16, 'conv_depth': 5}. Best is trial 22 with value: 0.01837955415248871.\n"
     ]
    },
    {
     "name": "stdout",
     "output_type": "stream",
     "text": [
      "Early termination at epoch 83 with best validation metric 0.02187497913837433\n"
     ]
    },
    {
     "name": "stderr",
     "output_type": "stream",
     "text": [
      "[I 2025-02-20 17:20:49,787] Trial 48 finished with value: 0.02187497913837433 and parameters: {'lr': 9.626792178002097e-05, 'beta0': 0.8601044876455147, 'beta1': 0.9223371419587253, 'batch_size': 48, 'patience': 12, 'conv_depth': 4}. Best is trial 22 with value: 0.01837955415248871.\n"
     ]
    },
    {
     "name": "stdout",
     "output_type": "stream",
     "text": [
      "Early termination at epoch 122 with best validation metric 0.022703256458044052\n"
     ]
    },
    {
     "name": "stderr",
     "output_type": "stream",
     "text": [
      "[I 2025-02-20 17:22:17,890] Trial 49 finished with value: 0.022703256458044052 and parameters: {'lr': 6.0728576266486277e-05, 'beta0': 0.8142649212795795, 'beta1': 0.9743172967959578, 'batch_size': 32, 'patience': 10, 'conv_depth': 4}. Best is trial 22 with value: 0.01837955415248871.\n"
     ]
    },
    {
     "name": "stdout",
     "output_type": "stream",
     "text": [
      "Best trial for channel OrigRNA:\n",
      "  Validation Loss: 0.01837955415248871\n",
      "  Hyperparameters: {'lr': 0.0001255670671737317, 'beta0': 0.8183471047574293, 'beta1': 0.9123311454952704, 'batch_size': 16, 'patience': 6, 'conv_depth': 3}\n"
     ]
    },
    {
     "name": "stderr",
     "output_type": "stream",
     "text": [
      "[I 2025-02-20 17:22:19,549] A new study created in memory with name: FNet_optimize_OrigDNA_low_confluence\n",
      "2025/02/20 17:22:19 INFO mlflow.tracking.fluent: Experiment with name 'FNet_optimize_low_confluence' does not exist. Creating a new experiment.\n"
     ]
    },
    {
     "name": "stdout",
     "output_type": "stream",
     "text": [
      "Beginning optimization for channel: OrigDNA for low_confluence\n",
      "Early termination at epoch 89 with best validation metric 0.008186796680092812\n"
     ]
    },
    {
     "name": "stderr",
     "output_type": "stream",
     "text": [
      "[I 2025-02-20 17:23:47,182] Trial 0 finished with value: 0.008186796680092812 and parameters: {'lr': 0.0001329291894316216, 'beta0': 0.8802857225639664, 'beta1': 0.9724674002393291, 'batch_size': 48, 'patience': 7, 'conv_depth': 3}. Best is trial 0 with value: 0.008186796680092812.\n"
     ]
    },
    {
     "name": "stdout",
     "output_type": "stream",
     "text": [
      "Early termination at epoch 68 with best validation metric 0.352630078792572\n"
     ]
    },
    {
     "name": "stderr",
     "output_type": "stream",
     "text": [
      "[I 2025-02-20 17:25:06,484] Trial 1 finished with value: 0.352630078792572 and parameters: {'lr': 1.493656855461762e-05, 'beta0': 0.846470458309974, 'beta1': 0.9595103861625777, 'batch_size': 48, 'patience': 5, 'conv_depth': 5}. Best is trial 0 with value: 0.008186796680092812.\n"
     ]
    },
    {
     "name": "stdout",
     "output_type": "stream",
     "text": [
      "Early termination at epoch 18 with best validation metric 0.009473218427350124\n"
     ]
    },
    {
     "name": "stderr",
     "output_type": "stream",
     "text": [
      "[I 2025-02-20 17:25:26,234] Trial 2 finished with value: 0.009473218427350124 and parameters: {'lr': 0.00314288089084011, 'beta0': 0.5849356442713105, 'beta1': 0.918000671753503, 'batch_size': 16, 'patience': 9, 'conv_depth': 4}. Best is trial 0 with value: 0.008186796680092812.\n"
     ]
    },
    {
     "name": "stdout",
     "output_type": "stream",
     "text": [
      "Early termination at epoch 50 with best validation metric 0.007884148508310318\n"
     ]
    },
    {
     "name": "stderr",
     "output_type": "stream",
     "text": [
      "[I 2025-02-20 17:26:20,321] Trial 3 finished with value: 0.007884148508310318 and parameters: {'lr': 0.00019762189340280086, 'beta0': 0.6164916560792167, 'beta1': 0.9605734365775156, 'batch_size': 16, 'patience': 9, 'conv_depth': 4}. Best is trial 3 with value: 0.007884148508310318.\n"
     ]
    },
    {
     "name": "stdout",
     "output_type": "stream",
     "text": [
      "Early termination at epoch 70 with best validation metric 0.00755662377923727\n"
     ]
    },
    {
     "name": "stderr",
     "output_type": "stream",
     "text": [
      "[I 2025-02-20 17:27:28,440] Trial 4 finished with value: 0.00755662377923727 and parameters: {'lr': 0.00023345864076016249, 'beta0': 0.8140703845572055, 'beta1': 0.9197677044336776, 'batch_size': 48, 'patience': 14, 'conv_depth': 3}. Best is trial 4 with value: 0.00755662377923727.\n"
     ]
    },
    {
     "name": "stdout",
     "output_type": "stream",
     "text": [
      "Early termination at epoch 87 with best validation metric 0.009777513332664967\n"
     ]
    },
    {
     "name": "stderr",
     "output_type": "stream",
     "text": [
      "[I 2025-02-20 17:29:08,886] Trial 5 finished with value: 0.009777513332664967 and parameters: {'lr': 0.0006647135865318024, 'beta0': 0.5682096494749166, 'beta1': 0.9064401077055427, 'batch_size': 64, 'patience': 20, 'conv_depth': 5}. Best is trial 4 with value: 0.00755662377923727.\n"
     ]
    },
    {
     "name": "stdout",
     "output_type": "stream",
     "text": [
      "Early termination at epoch 82 with best validation metric 0.011756842490285635\n"
     ]
    },
    {
     "name": "stderr",
     "output_type": "stream",
     "text": [
      "[I 2025-02-20 17:30:37,539] Trial 6 finished with value: 0.011756842490285635 and parameters: {'lr': 8.200518402245828e-05, 'beta0': 0.5390688456025535, 'beta1': 0.9677390696247036, 'batch_size': 32, 'patience': 6, 'conv_depth': 4}. Best is trial 4 with value: 0.00755662377923727.\n"
     ]
    },
    {
     "name": "stdout",
     "output_type": "stream",
     "text": [
      "Early termination at epoch 10 with best validation metric 0.36059319972991943\n"
     ]
    },
    {
     "name": "stderr",
     "output_type": "stream",
     "text": [
      "[I 2025-02-20 17:30:48,623] Trial 7 finished with value: 0.36059319972991943 and parameters: {'lr': 1.2681352169084594e-05, 'beta0': 0.8637281608315128, 'beta1': 0.9256192181784016, 'batch_size': 48, 'patience': 9, 'conv_depth': 4}. Best is trial 4 with value: 0.00755662377923727.\n"
     ]
    },
    {
     "name": "stdout",
     "output_type": "stream",
     "text": [
      "Early termination at epoch 155 with best validation metric 0.009305275976657867\n"
     ]
    },
    {
     "name": "stderr",
     "output_type": "stream",
     "text": [
      "[I 2025-02-20 17:33:46,998] Trial 8 finished with value: 0.009305275976657867 and parameters: {'lr': 0.00043664735929796326, 'beta0': 0.5739417822102109, 'beta1': 0.9959888781486913, 'batch_size': 64, 'patience': 20, 'conv_depth': 5}. Best is trial 4 with value: 0.00755662377923727.\n"
     ]
    },
    {
     "name": "stdout",
     "output_type": "stream",
     "text": [
      "Early termination at epoch 15 with best validation metric 0.009903394617140293\n"
     ]
    },
    {
     "name": "stderr",
     "output_type": "stream",
     "text": [
      "[I 2025-02-20 17:34:01,770] Trial 9 finished with value: 0.009903394617140293 and parameters: {'lr': 0.0006218704727769079, 'beta0': 0.8687496940092467, 'beta1': 0.90876075770314, 'batch_size': 16, 'patience': 5, 'conv_depth': 3}. Best is trial 4 with value: 0.00755662377923727.\n"
     ]
    },
    {
     "name": "stdout",
     "output_type": "stream",
     "text": [
      "Early termination at epoch 21 with best validation metric 0.011734284926205873\n"
     ]
    },
    {
     "name": "stderr",
     "output_type": "stream",
     "text": [
      "[I 2025-02-20 17:34:22,541] Trial 10 finished with value: 0.011734284926205873 and parameters: {'lr': 0.0068455702672729195, 'beta0': 0.7699188271527112, 'beta1': 0.9365041484993887, 'batch_size': 32, 'patience': 15, 'conv_depth': 3}. Best is trial 4 with value: 0.00755662377923727.\n"
     ]
    },
    {
     "name": "stdout",
     "output_type": "stream",
     "text": [
      "Early termination at epoch 114 with best validation metric 0.011180021800100803\n"
     ]
    },
    {
     "name": "stderr",
     "output_type": "stream",
     "text": [
      "[I 2025-02-20 17:36:14,109] Trial 11 finished with value: 0.011180021800100803 and parameters: {'lr': 8.269220336409842e-05, 'beta0': 0.656981156841053, 'beta1': 0.9400850377053419, 'batch_size': 32, 'patience': 13, 'conv_depth': 3}. Best is trial 4 with value: 0.00755662377923727.\n"
     ]
    },
    {
     "name": "stdout",
     "output_type": "stream",
     "text": [
      "Early termination at epoch 92 with best validation metric 0.009648306916157404\n"
     ]
    },
    {
     "name": "stderr",
     "output_type": "stream",
     "text": [
      "[I 2025-02-20 17:37:53,463] Trial 12 finished with value: 0.009648306916157404 and parameters: {'lr': 0.0001981276004842843, 'beta0': 0.7122148600702268, 'beta1': 0.9498582039653429, 'batch_size': 16, 'patience': 16, 'conv_depth': 4}. Best is trial 4 with value: 0.00755662377923727.\n"
     ]
    },
    {
     "name": "stdout",
     "output_type": "stream",
     "text": [
      "Early termination at epoch 37 with best validation metric 0.013362273573875427\n"
     ]
    },
    {
     "name": "stderr",
     "output_type": "stream",
     "text": [
      "[I 2025-02-20 17:38:29,718] Trial 13 finished with value: 0.013362273573875427 and parameters: {'lr': 0.001882500662848259, 'beta0': 0.6550376816255843, 'beta1': 0.9813247594306211, 'batch_size': 48, 'patience': 11, 'conv_depth': 3}. Best is trial 4 with value: 0.00755662377923727.\n"
     ]
    },
    {
     "name": "stdout",
     "output_type": "stream",
     "text": [
      "Early termination at epoch 157 with best validation metric 0.008852314203977585\n"
     ]
    },
    {
     "name": "stderr",
     "output_type": "stream",
     "text": [
      "[I 2025-02-20 17:41:18,975] Trial 14 finished with value: 0.008852314203977585 and parameters: {'lr': 4.125864031253815e-05, 'beta0': 0.8012897576105888, 'beta1': 0.9511831334175153, 'batch_size': 32, 'patience': 13, 'conv_depth': 4}. Best is trial 4 with value: 0.00755662377923727.\n"
     ]
    },
    {
     "name": "stdout",
     "output_type": "stream",
     "text": [
      "Early termination at epoch 20 with best validation metric 0.01676396280527115\n"
     ]
    },
    {
     "name": "stderr",
     "output_type": "stream",
     "text": [
      "[I 2025-02-20 17:41:40,647] Trial 15 finished with value: 0.01676396280527115 and parameters: {'lr': 0.001558597254588861, 'beta0': 0.7335015787625135, 'beta1': 0.9283238840110316, 'batch_size': 64, 'patience': 17, 'conv_depth': 4}. Best is trial 4 with value: 0.00755662377923727.\n"
     ]
    },
    {
     "name": "stdout",
     "output_type": "stream",
     "text": [
      "Early termination at epoch 148 with best validation metric 0.012257487823565802\n"
     ]
    },
    {
     "name": "stderr",
     "output_type": "stream",
     "text": [
      "[I 2025-02-20 17:44:03,832] Trial 16 finished with value: 0.012257487823565802 and parameters: {'lr': 3.265448438212806e-05, 'beta0': 0.6578970621354815, 'beta1': 0.9845584229484139, 'batch_size': 16, 'patience': 11, 'conv_depth': 3}. Best is trial 4 with value: 0.00755662377923727.\n"
     ]
    },
    {
     "name": "stdout",
     "output_type": "stream",
     "text": [
      "Early termination at epoch 68 with best validation metric 0.008462787140160799\n"
     ]
    },
    {
     "name": "stderr",
     "output_type": "stream",
     "text": [
      "[I 2025-02-20 17:45:24,450] Trial 17 finished with value: 0.008462787140160799 and parameters: {'lr': 0.00028571338635402965, 'beta0': 0.7997962447691979, 'beta1': 0.9423592552856228, 'batch_size': 32, 'patience': 9, 'conv_depth': 5}. Best is trial 4 with value: 0.00755662377923727.\n"
     ]
    },
    {
     "name": "stdout",
     "output_type": "stream",
     "text": [
      "Early termination at epoch 45 with best validation metric 0.01338930893689394\n"
     ]
    },
    {
     "name": "stderr",
     "output_type": "stream",
     "text": [
      "[I 2025-02-20 17:46:08,429] Trial 18 finished with value: 0.01338930893689394 and parameters: {'lr': 0.000971742719411695, 'beta0': 0.6163494763359443, 'beta1': 0.9602297907109031, 'batch_size': 48, 'patience': 11, 'conv_depth': 3}. Best is trial 4 with value: 0.00755662377923727.\n"
     ]
    },
    {
     "name": "stdout",
     "output_type": "stream",
     "text": [
      "Early termination at epoch 111 with best validation metric 0.00944953877478838\n"
     ]
    },
    {
     "name": "stderr",
     "output_type": "stream",
     "text": [
      "[I 2025-02-20 17:48:06,950] Trial 19 finished with value: 0.00944953877478838 and parameters: {'lr': 0.00016088441378276893, 'beta0': 0.506136167078804, 'beta1': 0.9000934081435041, 'batch_size': 64, 'patience': 18, 'conv_depth': 4}. Best is trial 4 with value: 0.00755662377923727.\n"
     ]
    },
    {
     "name": "stdout",
     "output_type": "stream",
     "text": [
      "Early termination at epoch 68 with best validation metric 0.009837146072338024\n"
     ]
    },
    {
     "name": "stderr",
     "output_type": "stream",
     "text": [
      "[I 2025-02-20 17:49:20,554] Trial 20 finished with value: 0.009837146072338024 and parameters: {'lr': 5.0248082995195274e-05, 'beta0': 0.7530963394888353, 'beta1': 0.9172908679299973, 'batch_size': 16, 'patience': 14, 'conv_depth': 4}. Best is trial 4 with value: 0.00755662377923727.\n"
     ]
    },
    {
     "name": "stdout",
     "output_type": "stream",
     "text": [
      "Early termination at epoch 82 with best validation metric 0.00992092676460743\n"
     ]
    },
    {
     "name": "stderr",
     "output_type": "stream",
     "text": [
      "[I 2025-02-20 17:50:40,397] Trial 21 finished with value: 0.00992092676460743 and parameters: {'lr': 0.00014257019749408883, 'beta0': 0.8873150780506097, 'beta1': 0.9711936008956377, 'batch_size': 48, 'patience': 8, 'conv_depth': 3}. Best is trial 4 with value: 0.00755662377923727.\n"
     ]
    },
    {
     "name": "stdout",
     "output_type": "stream",
     "text": [
      "Early termination at epoch 45 with best validation metric 0.010699884966015816\n"
     ]
    },
    {
     "name": "stderr",
     "output_type": "stream",
     "text": [
      "[I 2025-02-20 17:51:24,415] Trial 22 finished with value: 0.010699884966015816 and parameters: {'lr': 0.000303768738618868, 'beta0': 0.8183471047574293, 'beta1': 0.9784347240604979, 'batch_size': 48, 'patience': 7, 'conv_depth': 3}. Best is trial 4 with value: 0.00755662377923727.\n"
     ]
    },
    {
     "name": "stdout",
     "output_type": "stream",
     "text": [
      "Early termination at epoch 104 with best validation metric 0.009199433960020542\n"
     ]
    },
    {
     "name": "stderr",
     "output_type": "stream",
     "text": [
      "[I 2025-02-20 17:53:05,637] Trial 23 finished with value: 0.009199433960020542 and parameters: {'lr': 9.969328672462414e-05, 'beta0': 0.8917628454441373, 'beta1': 0.9600692897247636, 'batch_size': 48, 'patience': 7, 'conv_depth': 3}. Best is trial 4 with value: 0.00755662377923727.\n"
     ]
    },
    {
     "name": "stdout",
     "output_type": "stream",
     "text": [
      "Early termination at epoch 71 with best validation metric 0.007223958615213633\n"
     ]
    },
    {
     "name": "stderr",
     "output_type": "stream",
     "text": [
      "[I 2025-02-20 17:54:15,212] Trial 24 finished with value: 0.007223958615213633 and parameters: {'lr': 0.0003066896833954173, 'beta0': 0.8414944520300442, 'beta1': 0.9955956178250306, 'batch_size': 32, 'patience': 11, 'conv_depth': 3}. Best is trial 24 with value: 0.007223958615213633.\n"
     ]
    },
    {
     "name": "stdout",
     "output_type": "stream",
     "text": [
      "Early termination at epoch 62 with best validation metric 0.0054696425795555115\n"
     ]
    },
    {
     "name": "stderr",
     "output_type": "stream",
     "text": [
      "[I 2025-02-20 17:55:16,017] Trial 25 finished with value: 0.0054696425795555115 and parameters: {'lr': 0.0004159618855331135, 'beta0': 0.826543853873432, 'beta1': 0.9986263130561193, 'batch_size': 32, 'patience': 12, 'conv_depth': 3}. Best is trial 25 with value: 0.0054696425795555115.\n"
     ]
    },
    {
     "name": "stdout",
     "output_type": "stream",
     "text": [
      "Early termination at epoch 66 with best validation metric 0.011079804506152868\n"
     ]
    },
    {
     "name": "stderr",
     "output_type": "stream",
     "text": [
      "[I 2025-02-20 17:56:20,737] Trial 26 finished with value: 0.011079804506152868 and parameters: {'lr': 0.00044401859530258903, 'beta0': 0.8354417314809381, 'beta1': 0.9983904357199211, 'batch_size': 32, 'patience': 12, 'conv_depth': 3}. Best is trial 25 with value: 0.0054696425795555115.\n"
     ]
    },
    {
     "name": "stdout",
     "output_type": "stream",
     "text": [
      "Early termination at epoch 33 with best validation metric 0.02144914772361517\n"
     ]
    },
    {
     "name": "stderr",
     "output_type": "stream",
     "text": [
      "[I 2025-02-20 17:56:53,250] Trial 27 finished with value: 0.02144914772361517 and parameters: {'lr': 0.001584061398974276, 'beta0': 0.7801151332999178, 'beta1': 0.9889901283708534, 'batch_size': 32, 'patience': 14, 'conv_depth': 3}. Best is trial 25 with value: 0.0054696425795555115.\n"
     ]
    },
    {
     "name": "stdout",
     "output_type": "stream",
     "text": [
      "Early termination at epoch 51 with best validation metric 0.00869931373745203\n"
     ]
    },
    {
     "name": "stderr",
     "output_type": "stream",
     "text": [
      "[I 2025-02-20 17:57:43,329] Trial 28 finished with value: 0.00869931373745203 and parameters: {'lr': 0.0009470421819020967, 'beta0': 0.8257575473674716, 'beta1': 0.9923553427092947, 'batch_size': 32, 'patience': 12, 'conv_depth': 3}. Best is trial 25 with value: 0.0054696425795555115.\n"
     ]
    },
    {
     "name": "stdout",
     "output_type": "stream",
     "text": [
      "Early termination at epoch 84 with best validation metric 0.011009626556187868\n"
     ]
    },
    {
     "name": "stderr",
     "output_type": "stream",
     "text": [
      "[I 2025-02-20 17:59:05,622] Trial 29 finished with value: 0.011009626556187868 and parameters: {'lr': 0.0002988158213541253, 'beta0': 0.7427722130301873, 'beta1': 0.9768848614180182, 'batch_size': 32, 'patience': 15, 'conv_depth': 3}. Best is trial 25 with value: 0.0054696425795555115.\n"
     ]
    },
    {
     "name": "stdout",
     "output_type": "stream",
     "text": [
      "Early termination at epoch 24 with best validation metric 0.013425780460238457\n"
     ]
    },
    {
     "name": "stderr",
     "output_type": "stream",
     "text": [
      "[I 2025-02-20 17:59:29,235] Trial 30 finished with value: 0.013425780460238457 and parameters: {'lr': 0.003446963728248024, 'beta0': 0.8520104938890753, 'beta1': 0.9868237616710412, 'batch_size': 48, 'patience': 11, 'conv_depth': 3}. Best is trial 25 with value: 0.0054696425795555115.\n"
     ]
    },
    {
     "name": "stdout",
     "output_type": "stream",
     "text": [
      "Early termination at epoch 49 with best validation metric 0.00748327374458313\n"
     ]
    },
    {
     "name": "stderr",
     "output_type": "stream",
     "text": [
      "[I 2025-02-20 18:00:16,930] Trial 31 finished with value: 0.00748327374458313 and parameters: {'lr': 0.00020748236860757693, 'beta0': 0.6798299866535443, 'beta1': 0.9670290314166974, 'batch_size': 16, 'patience': 10, 'conv_depth': 3}. Best is trial 25 with value: 0.0054696425795555115.\n"
     ]
    },
    {
     "name": "stdout",
     "output_type": "stream",
     "text": [
      "Early termination at epoch 55 with best validation metric 0.00767807678009073\n"
     ]
    },
    {
     "name": "stderr",
     "output_type": "stream",
     "text": [
      "[I 2025-02-20 18:01:10,391] Trial 32 finished with value: 0.00767807678009073 and parameters: {'lr': 0.0004926225485443314, 'beta0': 0.6990187534472682, 'beta1': 0.9915940432233843, 'batch_size': 16, 'patience': 10, 'conv_depth': 3}. Best is trial 25 with value: 0.0054696425795555115.\n"
     ]
    },
    {
     "name": "stdout",
     "output_type": "stream",
     "text": [
      "Early termination at epoch 64 with best validation metric 0.00703341793268919\n"
     ]
    },
    {
     "name": "stderr",
     "output_type": "stream",
     "text": [
      "[I 2025-02-20 18:02:13,146] Trial 33 finished with value: 0.00703341793268919 and parameters: {'lr': 0.00024281827848024023, 'beta0': 0.6920021728161769, 'beta1': 0.9669071131671367, 'batch_size': 32, 'patience': 10, 'conv_depth': 3}. Best is trial 25 with value: 0.0054696425795555115.\n"
     ]
    },
    {
     "name": "stdout",
     "output_type": "stream",
     "text": [
      "Early termination at epoch 91 with best validation metric 0.008611401543021202\n"
     ]
    },
    {
     "name": "stderr",
     "output_type": "stream",
     "text": [
      "[I 2025-02-20 18:03:42,360] Trial 34 finished with value: 0.008611401543021202 and parameters: {'lr': 0.00011783144883106883, 'beta0': 0.6872074729525601, 'beta1': 0.96579298735062, 'batch_size': 32, 'patience': 10, 'conv_depth': 3}. Best is trial 25 with value: 0.0054696425795555115.\n"
     ]
    },
    {
     "name": "stdout",
     "output_type": "stream",
     "text": [
      "Early termination at epoch 147 with best validation metric 0.008932207711040974\n"
     ]
    },
    {
     "name": "stderr",
     "output_type": "stream",
     "text": [
      "[I 2025-02-20 18:06:04,718] Trial 35 finished with value: 0.008932207711040974 and parameters: {'lr': 2.3964483219461982e-05, 'beta0': 0.6776830819059019, 'beta1': 0.9746736291895467, 'batch_size': 16, 'patience': 10, 'conv_depth': 3}. Best is trial 25 with value: 0.0054696425795555115.\n"
     ]
    },
    {
     "name": "stdout",
     "output_type": "stream",
     "text": [
      "Early termination at epoch 135 with best validation metric 0.008914007805287838\n"
     ]
    },
    {
     "name": "stderr",
     "output_type": "stream",
     "text": [
      "[I 2025-02-20 18:08:16,791] Trial 36 finished with value: 0.008914007805287838 and parameters: {'lr': 6.324837485187583e-05, 'beta0': 0.7177085624783399, 'beta1': 0.9525267050750144, 'batch_size': 32, 'patience': 12, 'conv_depth': 3}. Best is trial 25 with value: 0.0054696425795555115.\n"
     ]
    },
    {
     "name": "stdout",
     "output_type": "stream",
     "text": [
      "Early termination at epoch 51 with best validation metric 0.007102218301345904\n"
     ]
    },
    {
     "name": "stderr",
     "output_type": "stream",
     "text": [
      "[I 2025-02-20 18:09:06,358] Trial 37 finished with value: 0.007102218301345904 and parameters: {'lr': 0.000829682834903254, 'beta0': 0.6235790934775883, 'beta1': 0.966746785034704, 'batch_size': 16, 'patience': 8, 'conv_depth': 3}. Best is trial 25 with value: 0.0054696425795555115.\n"
     ]
    },
    {
     "name": "stdout",
     "output_type": "stream",
     "text": [
      "Early termination at epoch 65 with best validation metric 0.009827081114053726\n"
     ]
    },
    {
     "name": "stderr",
     "output_type": "stream",
     "text": [
      "[I 2025-02-20 18:10:16,605] Trial 38 finished with value: 0.009827081114053726 and parameters: {'lr': 0.0008533889729763774, 'beta0': 0.6103723536704692, 'beta1': 0.9838780265208201, 'batch_size': 32, 'patience': 8, 'conv_depth': 4}. Best is trial 25 with value: 0.0054696425795555115.\n"
     ]
    },
    {
     "name": "stdout",
     "output_type": "stream",
     "text": [
      "Early termination at epoch 13 with best validation metric 0.013737545038263002\n"
     ]
    },
    {
     "name": "stderr",
     "output_type": "stream",
     "text": [
      "[I 2025-02-20 18:10:29,485] Trial 39 finished with value: 0.013737545038263002 and parameters: {'lr': 0.002898054069015263, 'beta0': 0.6364867835376996, 'beta1': 0.9985366557230251, 'batch_size': 16, 'patience': 8, 'conv_depth': 3}. Best is trial 25 with value: 0.0054696425795555115.\n"
     ]
    },
    {
     "name": "stdout",
     "output_type": "stream",
     "text": [
      "Early termination at epoch 21 with best validation metric 0.01984148845076561\n"
     ]
    },
    {
     "name": "stderr",
     "output_type": "stream",
     "text": [
      "[I 2025-02-20 18:10:50,282] Trial 40 finished with value: 0.01984148845076561 and parameters: {'lr': 0.0006403067271899217, 'beta0': 0.7753260691262907, 'beta1': 0.9560086583515189, 'batch_size': 32, 'patience': 6, 'conv_depth': 3}. Best is trial 25 with value: 0.0054696425795555115.\n"
     ]
    },
    {
     "name": "stdout",
     "output_type": "stream",
     "text": [
      "Early termination at epoch 51 with best validation metric 0.00677720798800389\n"
     ]
    },
    {
     "name": "stderr",
     "output_type": "stream",
     "text": [
      "[I 2025-02-20 18:11:39,858] Trial 41 finished with value: 0.00677720798800389 and parameters: {'lr': 0.00023051166762545424, 'beta0': 0.5933842034812777, 'beta1': 0.9673060404876856, 'batch_size': 16, 'patience': 9, 'conv_depth': 3}. Best is trial 25 with value: 0.0054696425795555115.\n"
     ]
    },
    {
     "name": "stdout",
     "output_type": "stream",
     "text": [
      "Early termination at epoch 48 with best validation metric 0.006925835118939479\n"
     ]
    },
    {
     "name": "stderr",
     "output_type": "stream",
     "text": [
      "[I 2025-02-20 18:12:26,488] Trial 42 finished with value: 0.006925835118939479 and parameters: {'lr': 0.00039335755255404705, 'beta0': 0.5858986737072303, 'beta1': 0.9710613909773674, 'batch_size': 16, 'patience': 9, 'conv_depth': 3}. Best is trial 25 with value: 0.0054696425795555115.\n"
     ]
    },
    {
     "name": "stdout",
     "output_type": "stream",
     "text": [
      "Early termination at epoch 60 with best validation metric 0.009453636594116688\n"
     ]
    },
    {
     "name": "stderr",
     "output_type": "stream",
     "text": [
      "[I 2025-02-20 18:13:24,732] Trial 43 finished with value: 0.009453636594116688 and parameters: {'lr': 0.0003861769081394896, 'beta0': 0.551369137119736, 'beta1': 0.970068274815608, 'batch_size': 16, 'patience': 9, 'conv_depth': 3}. Best is trial 25 with value: 0.0054696425795555115.\n"
     ]
    },
    {
     "name": "stdout",
     "output_type": "stream",
     "text": [
      "Early termination at epoch 41 with best validation metric 0.00653406713778774\n"
     ]
    },
    {
     "name": "stderr",
     "output_type": "stream",
     "text": [
      "[I 2025-02-20 18:14:04,633] Trial 44 finished with value: 0.00653406713778774 and parameters: {'lr': 0.000541288331432928, 'beta0': 0.579546370026221, 'beta1': 0.9629343166943408, 'batch_size': 16, 'patience': 6, 'conv_depth': 3}. Best is trial 25 with value: 0.0054696425795555115.\n"
     ]
    },
    {
     "name": "stdout",
     "output_type": "stream",
     "text": [
      "Early termination at epoch 47 with best validation metric 0.010170406972368559\n"
     ]
    },
    {
     "name": "stderr",
     "output_type": "stream",
     "text": [
      "[I 2025-02-20 18:14:50,300] Trial 45 finished with value: 0.010170406972368559 and parameters: {'lr': 0.000163272075229061, 'beta0': 0.5904107954377982, 'beta1': 0.9635890795702772, 'batch_size': 16, 'patience': 5, 'conv_depth': 3}. Best is trial 25 with value: 0.0054696425795555115.\n"
     ]
    },
    {
     "name": "stdout",
     "output_type": "stream",
     "text": [
      "Early termination at epoch 49 with best validation metric 0.005585825070738792\n"
     ]
    },
    {
     "name": "stderr",
     "output_type": "stream",
     "text": [
      "[I 2025-02-20 18:15:37,892] Trial 46 finished with value: 0.005585825070738792 and parameters: {'lr': 0.0005694049704158337, 'beta0': 0.5087566059280533, 'beta1': 0.956136289844797, 'batch_size': 16, 'patience': 6, 'conv_depth': 3}. Best is trial 25 with value: 0.0054696425795555115.\n"
     ]
    },
    {
     "name": "stdout",
     "output_type": "stream",
     "text": [
      "Early termination at epoch 18 with best validation metric 0.01437234009305636\n"
     ]
    },
    {
     "name": "stderr",
     "output_type": "stream",
     "text": [
      "[I 2025-02-20 18:15:57,631] Trial 47 finished with value: 0.01437234009305636 and parameters: {'lr': 0.0012309139223715747, 'beta0': 0.5058909282884761, 'beta1': 0.9452033709923785, 'batch_size': 16, 'patience': 6, 'conv_depth': 4}. Best is trial 25 with value: 0.0054696425795555115.\n"
     ]
    },
    {
     "name": "stdout",
     "output_type": "stream",
     "text": [
      "Early termination at epoch 28 with best validation metric 0.011365409009158611\n"
     ]
    },
    {
     "name": "stderr",
     "output_type": "stream",
     "text": [
      "[I 2025-02-20 18:16:31,730] Trial 48 finished with value: 0.011365409009158611 and parameters: {'lr': 0.000586503502414207, 'beta0': 0.5341021164741263, 'beta1': 0.9572618123058717, 'batch_size': 16, 'patience': 7, 'conv_depth': 5}. Best is trial 25 with value: 0.0054696425795555115.\n"
     ]
    },
    {
     "name": "stdout",
     "output_type": "stream",
     "text": [
      "Early termination at epoch 25 with best validation metric 0.00856618583202362\n"
     ]
    },
    {
     "name": "stderr",
     "output_type": "stream",
     "text": [
      "[I 2025-02-20 18:16:56,262] Trial 49 finished with value: 0.00856618583202362 and parameters: {'lr': 0.00039654830039262363, 'beta0': 0.5918511454822172, 'beta1': 0.9743172967959578, 'batch_size': 16, 'patience': 5, 'conv_depth': 3}. Best is trial 25 with value: 0.0054696425795555115.\n"
     ]
    },
    {
     "name": "stdout",
     "output_type": "stream",
     "text": [
      "Best trial for channel OrigDNA:\n",
      "  Validation Loss: 0.0054696425795555115\n",
      "  Hyperparameters: {'lr': 0.0004159618855331135, 'beta0': 0.826543853873432, 'beta1': 0.9986263130561193, 'batch_size': 32, 'patience': 12, 'conv_depth': 3}\n"
     ]
    },
    {
     "name": "stderr",
     "output_type": "stream",
     "text": [
      "[I 2025-02-20 18:16:56,718] A new study created in memory with name: FNet_optimize_OrigER_low_confluence\n"
     ]
    },
    {
     "name": "stdout",
     "output_type": "stream",
     "text": [
      "Beginning optimization for channel: OrigER for low_confluence\n",
      "Early termination at epoch 98 with best validation metric 0.015398210845887661\n"
     ]
    },
    {
     "name": "stderr",
     "output_type": "stream",
     "text": [
      "[I 2025-02-20 18:18:33,474] Trial 0 finished with value: 0.015398210845887661 and parameters: {'lr': 0.0001329291894316216, 'beta0': 0.8802857225639664, 'beta1': 0.9724674002393291, 'batch_size': 48, 'patience': 7, 'conv_depth': 3}. Best is trial 0 with value: 0.015398210845887661.\n"
     ]
    },
    {
     "name": "stdout",
     "output_type": "stream",
     "text": [
      "Early termination at epoch 6 with best validation metric 0.4436904191970825\n"
     ]
    },
    {
     "name": "stderr",
     "output_type": "stream",
     "text": [
      "[I 2025-02-20 18:18:41,047] Trial 1 finished with value: 0.4436904191970825 and parameters: {'lr': 1.493656855461762e-05, 'beta0': 0.846470458309974, 'beta1': 0.9595103861625777, 'batch_size': 48, 'patience': 5, 'conv_depth': 5}. Best is trial 0 with value: 0.015398210845887661.\n"
     ]
    },
    {
     "name": "stdout",
     "output_type": "stream",
     "text": [
      "Early termination at epoch 22 with best validation metric 0.02803920830289523\n"
     ]
    },
    {
     "name": "stderr",
     "output_type": "stream",
     "text": [
      "[I 2025-02-20 18:19:05,193] Trial 2 finished with value: 0.02803920830289523 and parameters: {'lr': 0.00314288089084011, 'beta0': 0.5849356442713105, 'beta1': 0.918000671753503, 'batch_size': 16, 'patience': 9, 'conv_depth': 4}. Best is trial 0 with value: 0.015398210845887661.\n"
     ]
    },
    {
     "name": "stdout",
     "output_type": "stream",
     "text": [
      "Early termination at epoch 53 with best validation metric 0.018482763941089313\n"
     ]
    },
    {
     "name": "stderr",
     "output_type": "stream",
     "text": [
      "[I 2025-02-20 18:20:02,884] Trial 3 finished with value: 0.018482763941089313 and parameters: {'lr': 0.00019762189340280086, 'beta0': 0.6164916560792167, 'beta1': 0.9605734365775156, 'batch_size': 16, 'patience': 9, 'conv_depth': 4}. Best is trial 0 with value: 0.015398210845887661.\n"
     ]
    },
    {
     "name": "stdout",
     "output_type": "stream",
     "text": [
      "Early termination at epoch 87 with best validation metric 0.017565572634339333\n"
     ]
    },
    {
     "name": "stderr",
     "output_type": "stream",
     "text": [
      "[I 2025-02-20 18:21:28,662] Trial 4 finished with value: 0.017565572634339333 and parameters: {'lr': 0.00023345864076016249, 'beta0': 0.8140703845572055, 'beta1': 0.9197677044336776, 'batch_size': 48, 'patience': 14, 'conv_depth': 3}. Best is trial 0 with value: 0.015398210845887661.\n"
     ]
    },
    {
     "name": "stdout",
     "output_type": "stream",
     "text": [
      "Early termination at epoch 74 with best validation metric 0.020372679457068443\n"
     ]
    },
    {
     "name": "stderr",
     "output_type": "stream",
     "text": [
      "[I 2025-02-20 18:22:55,278] Trial 5 finished with value: 0.020372679457068443 and parameters: {'lr': 0.0006647135865318024, 'beta0': 0.5682096494749166, 'beta1': 0.9064401077055427, 'batch_size': 64, 'patience': 20, 'conv_depth': 5}. Best is trial 0 with value: 0.015398210845887661.\n"
     ]
    },
    {
     "name": "stdout",
     "output_type": "stream",
     "text": [
      "Early termination at epoch 73 with best validation metric 0.02057068981230259\n"
     ]
    },
    {
     "name": "stderr",
     "output_type": "stream",
     "text": [
      "[I 2025-02-20 18:24:15,470] Trial 6 finished with value: 0.02057068981230259 and parameters: {'lr': 8.200518402245828e-05, 'beta0': 0.5390688456025535, 'beta1': 0.9677390696247036, 'batch_size': 32, 'patience': 6, 'conv_depth': 4}. Best is trial 0 with value: 0.015398210845887661.\n"
     ]
    },
    {
     "name": "stdout",
     "output_type": "stream",
     "text": [
      "Early termination at epoch 10 with best validation metric 0.4704328179359436\n"
     ]
    },
    {
     "name": "stderr",
     "output_type": "stream",
     "text": [
      "[I 2025-02-20 18:24:26,644] Trial 7 finished with value: 0.4704328179359436 and parameters: {'lr': 1.2681352169084594e-05, 'beta0': 0.8637281608315128, 'beta1': 0.9256192181784016, 'batch_size': 48, 'patience': 9, 'conv_depth': 4}. Best is trial 0 with value: 0.015398210845887661.\n"
     ]
    },
    {
     "name": "stdout",
     "output_type": "stream",
     "text": [
      "Early termination at epoch 106 with best validation metric 0.013516980223357677\n"
     ]
    },
    {
     "name": "stderr",
     "output_type": "stream",
     "text": [
      "[I 2025-02-20 18:26:30,019] Trial 8 finished with value: 0.013516980223357677 and parameters: {'lr': 0.00043664735929796326, 'beta0': 0.5739417822102109, 'beta1': 0.9959888781486913, 'batch_size': 64, 'patience': 20, 'conv_depth': 5}. Best is trial 8 with value: 0.013516980223357677.\n"
     ]
    },
    {
     "name": "stdout",
     "output_type": "stream",
     "text": [
      "Early termination at epoch 15 with best validation metric 0.0168506217499574\n"
     ]
    },
    {
     "name": "stderr",
     "output_type": "stream",
     "text": [
      "[I 2025-02-20 18:26:44,893] Trial 9 finished with value: 0.0168506217499574 and parameters: {'lr': 0.0006218704727769079, 'beta0': 0.8687496940092467, 'beta1': 0.90876075770314, 'batch_size': 16, 'patience': 5, 'conv_depth': 3}. Best is trial 8 with value: 0.013516980223357677.\n"
     ]
    },
    {
     "name": "stdout",
     "output_type": "stream",
     "text": [
      "Early termination at epoch 35 with best validation metric 0.04035833105444908\n"
     ]
    },
    {
     "name": "stderr",
     "output_type": "stream",
     "text": [
      "[I 2025-02-20 18:27:25,967] Trial 10 finished with value: 0.04035833105444908 and parameters: {'lr': 0.0068455702672729195, 'beta0': 0.6893309285818674, 'beta1': 0.9959841739679987, 'batch_size': 64, 'patience': 20, 'conv_depth': 5}. Best is trial 8 with value: 0.013516980223357677.\n"
     ]
    },
    {
     "name": "stdout",
     "output_type": "stream",
     "text": [
      "Early termination at epoch 179 with best validation metric 0.02041657641530037\n"
     ]
    },
    {
     "name": "stderr",
     "output_type": "stream",
     "text": [
      "[I 2025-02-20 18:30:22,034] Trial 11 finished with value: 0.02041657641530037 and parameters: {'lr': 6.114825606221511e-05, 'beta0': 0.7496334108689462, 'beta1': 0.9946900494485549, 'batch_size': 64, 'patience': 16, 'conv_depth': 3}. Best is trial 8 with value: 0.013516980223357677.\n"
     ]
    },
    {
     "name": "stdout",
     "output_type": "stream",
     "text": [
      "Early termination at epoch 39 with best validation metric 0.017777273431420326\n"
     ]
    },
    {
     "name": "stderr",
     "output_type": "stream",
     "text": [
      "[I 2025-02-20 18:31:09,197] Trial 12 finished with value: 0.017777273431420326 and parameters: {'lr': 0.0012307357270847695, 'beta0': 0.66444038354759, 'beta1': 0.9793940207999982, 'batch_size': 32, 'patience': 17, 'conv_depth': 5}. Best is trial 8 with value: 0.013516980223357677.\n"
     ]
    },
    {
     "name": "stdout",
     "output_type": "stream",
     "text": [
      "Early termination at epoch 211 with best validation metric 0.017220858484506607\n"
     ]
    },
    {
     "name": "stderr",
     "output_type": "stream",
     "text": [
      "[I 2025-02-20 18:34:36,351] Trial 13 finished with value: 0.017220858484506607 and parameters: {'lr': 6.323728543271072e-05, 'beta0': 0.5029364979267934, 'beta1': 0.9803769332531147, 'batch_size': 64, 'patience': 12, 'conv_depth': 3}. Best is trial 8 with value: 0.013516980223357677.\n"
     ]
    },
    {
     "name": "stdout",
     "output_type": "stream",
     "text": [
      "Early termination at epoch 101 with best validation metric 0.01759115792810917\n"
     ]
    },
    {
     "name": "stderr",
     "output_type": "stream",
     "text": [
      "[I 2025-02-20 18:36:26,106] Trial 14 finished with value: 0.01759115792810917 and parameters: {'lr': 0.00011038251665362917, 'beta0': 0.7450693165578981, 'beta1': 0.9371780251045739, 'batch_size': 48, 'patience': 12, 'conv_depth': 4}. Best is trial 8 with value: 0.013516980223357677.\n"
     ]
    },
    {
     "name": "stdout",
     "output_type": "stream",
     "text": [
      "Early termination at epoch 48 with best validation metric 0.017134008929133415\n"
     ]
    },
    {
     "name": "stderr",
     "output_type": "stream",
     "text": [
      "[I 2025-02-20 18:37:13,825] Trial 15 finished with value: 0.017134008929133415 and parameters: {'lr': 0.001558597254588861, 'beta0': 0.7790993697021663, 'beta1': 0.9808641268309046, 'batch_size': 32, 'patience': 17, 'conv_depth': 3}. Best is trial 8 with value: 0.013516980223357677.\n"
     ]
    },
    {
     "name": "stdout",
     "output_type": "stream",
     "text": [
      "Early termination at epoch 308 with best validation metric 0.020433634519577026\n"
     ]
    },
    {
     "name": "stderr",
     "output_type": "stream",
     "text": [
      "[I 2025-02-20 18:43:11,588] Trial 16 finished with value: 0.020433634519577026 and parameters: {'lr': 2.9686604307577388e-05, 'beta0': 0.628557699748773, 'beta1': 0.9457493610817117, 'batch_size': 64, 'patience': 8, 'conv_depth': 5}. Best is trial 8 with value: 0.013516980223357677.\n"
     ]
    },
    {
     "name": "stdout",
     "output_type": "stream",
     "text": [
      "Early termination at epoch 41 with best validation metric 0.01960090734064579\n"
     ]
    },
    {
     "name": "stderr",
     "output_type": "stream",
     "text": [
      "[I 2025-02-20 18:43:56,304] Trial 17 finished with value: 0.01960090734064579 and parameters: {'lr': 0.0004746743333525441, 'beta0': 0.7180551181775754, 'beta1': 0.9881379001127167, 'batch_size': 48, 'patience': 14, 'conv_depth': 4}. Best is trial 8 with value: 0.013516980223357677.\n"
     ]
    },
    {
     "name": "stdout",
     "output_type": "stream",
     "text": [
      "Early termination at epoch 107 with best validation metric 0.018078818917274475\n"
     ]
    },
    {
     "name": "stderr",
     "output_type": "stream",
     "text": [
      "[I 2025-02-20 18:46:00,772] Trial 18 finished with value: 0.018078818917274475 and parameters: {'lr': 0.00022620848145860526, 'beta0': 0.6434649577455097, 'beta1': 0.9703333019903956, 'batch_size': 64, 'patience': 11, 'conv_depth': 5}. Best is trial 8 with value: 0.013516980223357677.\n"
     ]
    },
    {
     "name": "stdout",
     "output_type": "stream",
     "text": [
      "Early termination at epoch 185 with best validation metric 0.031858574599027634\n"
     ]
    },
    {
     "name": "stderr",
     "output_type": "stream",
     "text": [
      "[I 2025-02-20 18:49:02,586] Trial 19 finished with value: 0.031858574599027634 and parameters: {'lr': 3.539636508273651e-05, 'beta0': 0.8045365790478947, 'beta1': 0.9981173045036978, 'batch_size': 48, 'patience': 7, 'conv_depth': 3}. Best is trial 8 with value: 0.013516980223357677.\n"
     ]
    },
    {
     "name": "stdout",
     "output_type": "stream",
     "text": [
      "Early termination at epoch 36 with best validation metric 0.02578585036098957\n"
     ]
    },
    {
     "name": "stderr",
     "output_type": "stream",
     "text": [
      "[I 2025-02-20 18:49:42,013] Trial 20 finished with value: 0.02578585036098957 and parameters: {'lr': 0.001464996009379671, 'beta0': 0.8948713080712991, 'beta1': 0.9711491880333495, 'batch_size': 32, 'patience': 18, 'conv_depth': 4}. Best is trial 8 with value: 0.013516980223357677.\n"
     ]
    },
    {
     "name": "stdout",
     "output_type": "stream",
     "text": [
      "Early termination at epoch 20 with best validation metric 0.019394713764389355\n"
     ]
    },
    {
     "name": "stderr",
     "output_type": "stream",
     "text": [
      "[I 2025-02-20 18:50:01,708] Trial 21 finished with value: 0.019394713764389355 and parameters: {'lr': 0.00048781469879145785, 'beta0': 0.8873150780506097, 'beta1': 0.9043854222783333, 'batch_size': 16, 'patience': 5, 'conv_depth': 3}. Best is trial 8 with value: 0.013516980223357677.\n"
     ]
    },
    {
     "name": "stdout",
     "output_type": "stream",
     "text": [
      "Early termination at epoch 22 with best validation metric 0.01851756777614355\n"
     ]
    },
    {
     "name": "stderr",
     "output_type": "stream",
     "text": [
      "[I 2025-02-20 18:50:23,771] Trial 22 finished with value: 0.01851756777614355 and parameters: {'lr': 0.0007674324950895845, 'beta0': 0.8358809749363386, 'beta1': 0.9407034873326561, 'batch_size': 32, 'patience': 7, 'conv_depth': 3}. Best is trial 8 with value: 0.013516980223357677.\n"
     ]
    },
    {
     "name": "stdout",
     "output_type": "stream",
     "text": [
      "Early termination at epoch 51 with best validation metric 0.013694433495402336\n"
     ]
    },
    {
     "name": "stderr",
     "output_type": "stream",
     "text": [
      "[I 2025-02-20 18:51:13,408] Trial 23 finished with value: 0.013694433495402336 and parameters: {'lr': 0.00038037625134183946, 'beta0': 0.7785171952479325, 'beta1': 0.9528532615001388, 'batch_size': 16, 'patience': 10, 'conv_depth': 3}. Best is trial 8 with value: 0.013516980223357677.\n"
     ]
    },
    {
     "name": "stdout",
     "output_type": "stream",
     "text": [
      "Early termination at epoch 75 with best validation metric 0.01633807271718979\n"
     ]
    },
    {
     "name": "stderr",
     "output_type": "stream",
     "text": [
      "[I 2025-02-20 18:52:27,331] Trial 24 finished with value: 0.01633807271718979 and parameters: {'lr': 0.00015235894024296162, 'beta0': 0.7828887399060529, 'beta1': 0.9546775413276107, 'batch_size': 48, 'patience': 10, 'conv_depth': 3}. Best is trial 8 with value: 0.013516980223357677.\n"
     ]
    },
    {
     "name": "stdout",
     "output_type": "stream",
     "text": [
      "Early termination at epoch 61 with best validation metric 0.02069120854139328\n"
     ]
    },
    {
     "name": "stderr",
     "output_type": "stream",
     "text": [
      "[I 2025-02-20 18:53:34,204] Trial 25 finished with value: 0.02069120854139328 and parameters: {'lr': 0.00040560195347261494, 'beta0': 0.7071269550661432, 'beta1': 0.9865156813791627, 'batch_size': 32, 'patience': 13, 'conv_depth': 4}. Best is trial 8 with value: 0.013516980223357677.\n"
     ]
    },
    {
     "name": "stdout",
     "output_type": "stream",
     "text": [
      "Early termination at epoch 61 with best validation metric 0.015524342656135559\n"
     ]
    },
    {
     "name": "stderr",
     "output_type": "stream",
     "text": [
      "[I 2025-02-20 18:54:34,562] Trial 26 finished with value: 0.015524342656135559 and parameters: {'lr': 0.00034690249535126663, 'beta0': 0.7391076286754956, 'beta1': 0.9496581186564552, 'batch_size': 64, 'patience': 11, 'conv_depth': 3}. Best is trial 8 with value: 0.013516980223357677.\n"
     ]
    },
    {
     "name": "stdout",
     "output_type": "stream",
     "text": [
      "Early termination at epoch 17 with best validation metric 0.030433767785628636\n"
     ]
    },
    {
     "name": "stderr",
     "output_type": "stream",
     "text": [
      "[I 2025-02-20 18:54:51,350] Trial 27 finished with value: 0.030433767785628636 and parameters: {'lr': 0.002580505231317946, 'beta0': 0.6719898235665421, 'beta1': 0.9639959480502344, 'batch_size': 16, 'patience': 7, 'conv_depth': 3}. Best is trial 8 with value: 0.013516980223357677.\n"
     ]
    },
    {
     "name": "stdout",
     "output_type": "stream",
     "text": [
      "Early termination at epoch 94 with best validation metric 0.013307971879839897\n"
     ]
    },
    {
     "name": "stderr",
     "output_type": "stream",
     "text": [
      "[I 2025-02-20 18:56:33,321] Trial 28 finished with value: 0.013307971879839897 and parameters: {'lr': 0.00012838310124461665, 'beta0': 0.791684049467852, 'beta1': 0.9338332729297085, 'batch_size': 48, 'patience': 10, 'conv_depth': 4}. Best is trial 28 with value: 0.013307971879839897.\n"
     ]
    },
    {
     "name": "stdout",
     "output_type": "stream",
     "text": [
      "Early termination at epoch 98 with best validation metric 0.016231130808591843\n"
     ]
    },
    {
     "name": "stderr",
     "output_type": "stream",
     "text": [
      "[I 2025-02-20 18:58:28,905] Trial 29 finished with value: 0.016231130808591843 and parameters: {'lr': 0.0001094319469478099, 'beta0': 0.775960186264427, 'beta1': 0.9318914578266524, 'batch_size': 48, 'patience': 15, 'conv_depth': 5}. Best is trial 28 with value: 0.013307971879839897.\n"
     ]
    },
    {
     "name": "stdout",
     "output_type": "stream",
     "text": [
      "Early termination at epoch 32 with best validation metric 0.030780639499425888\n"
     ]
    },
    {
     "name": "stderr",
     "output_type": "stream",
     "text": [
      "[I 2025-02-20 18:59:03,702] Trial 30 finished with value: 0.030780639499425888 and parameters: {'lr': 0.009951314028231273, 'beta0': 0.8235599012621595, 'beta1': 0.9337938636394765, 'batch_size': 64, 'patience': 11, 'conv_depth': 4}. Best is trial 28 with value: 0.013307971879839897.\n"
     ]
    },
    {
     "name": "stdout",
     "output_type": "stream",
     "text": [
      "Early termination at epoch 223 with best validation metric 0.01883949153125286\n"
     ]
    },
    {
     "name": "stderr",
     "output_type": "stream",
     "text": [
      "[I 2025-02-20 19:03:05,662] Trial 31 finished with value: 0.01883949153125286 and parameters: {'lr': 3.3869929775781456e-05, 'beta0': 0.8597961703603032, 'beta1': 0.9540222848254987, 'batch_size': 48, 'patience': 10, 'conv_depth': 4}. Best is trial 28 with value: 0.013307971879839897.\n"
     ]
    },
    {
     "name": "stdout",
     "output_type": "stream",
     "text": [
      "Early termination at epoch 55 with best validation metric 0.01920989528298378\n"
     ]
    },
    {
     "name": "stderr",
     "output_type": "stream",
     "text": [
      "[I 2025-02-20 19:04:05,394] Trial 32 finished with value: 0.01920989528298378 and parameters: {'lr': 0.0002832373848437947, 'beta0': 0.8016507202716828, 'beta1': 0.9437825413320001, 'batch_size': 48, 'patience': 8, 'conv_depth': 4}. Best is trial 28 with value: 0.013307971879839897.\n"
     ]
    },
    {
     "name": "stdout",
     "output_type": "stream",
     "text": [
      "Early termination at epoch 74 with best validation metric 0.01811002753674984\n"
     ]
    },
    {
     "name": "stderr",
     "output_type": "stream",
     "text": [
      "[I 2025-02-20 19:05:18,969] Trial 33 finished with value: 0.01811002753674984 and parameters: {'lr': 0.00016832244476673854, 'beta0': 0.5981460227897449, 'beta1': 0.9284808469141798, 'batch_size': 48, 'patience': 9, 'conv_depth': 3}. Best is trial 28 with value: 0.013307971879839897.\n"
     ]
    },
    {
     "name": "stdout",
     "output_type": "stream",
     "text": [
      "Early termination at epoch 31 with best validation metric 0.016465367283672094\n"
     ]
    },
    {
     "name": "stderr",
     "output_type": "stream",
     "text": [
      "[I 2025-02-20 19:05:56,829] Trial 34 finished with value: 0.016465367283672094 and parameters: {'lr': 0.000999122125167432, 'beta0': 0.8421762142976074, 'beta1': 0.9605579199275033, 'batch_size': 32, 'patience': 10, 'conv_depth': 5}. Best is trial 28 with value: 0.013307971879839897.\n"
     ]
    },
    {
     "name": "stdout",
     "output_type": "stream",
     "text": [
      "Early termination at epoch 35 with best validation metric 0.015326240410407385\n"
     ]
    },
    {
     "name": "stderr",
     "output_type": "stream",
     "text": [
      "[I 2025-02-20 19:06:34,948] Trial 35 finished with value: 0.015326240410407385 and parameters: {'lr': 0.00012542639076924445, 'beta0': 0.550948339289335, 'beta1': 0.9220949748066317, 'batch_size': 16, 'patience': 8, 'conv_depth': 4}. Best is trial 28 with value: 0.013307971879839897.\n"
     ]
    },
    {
     "name": "stdout",
     "output_type": "stream",
     "text": [
      "Early termination at epoch 27 with best validation metric 0.02180737319091956\n"
     ]
    },
    {
     "name": "stderr",
     "output_type": "stream",
     "text": [
      "[I 2025-02-20 19:07:04,331] Trial 36 finished with value: 0.02180737319091956 and parameters: {'lr': 0.00029663366529809497, 'beta0': 0.5507734410092329, 'beta1': 0.916317794133937, 'batch_size': 16, 'patience': 8, 'conv_depth': 4}. Best is trial 28 with value: 0.013307971879839897.\n"
     ]
    },
    {
     "name": "stdout",
     "output_type": "stream",
     "text": [
      "Early termination at epoch 79 with best validation metric 0.01726994321992\n"
     ]
    },
    {
     "name": "stderr",
     "output_type": "stream",
     "text": [
      "[I 2025-02-20 19:08:29,700] Trial 37 finished with value: 0.01726994321992 and parameters: {'lr': 4.965774129570432e-05, 'beta0': 0.5014585751538106, 'beta1': 0.9232187570644323, 'batch_size': 16, 'patience': 9, 'conv_depth': 4}. Best is trial 28 with value: 0.013307971879839897.\n"
     ]
    },
    {
     "name": "stdout",
     "output_type": "stream",
     "text": [
      "Early termination at epoch 141 with best validation metric 0.016477271914482117\n"
     ]
    },
    {
     "name": "stderr",
     "output_type": "stream",
     "text": [
      "[I 2025-02-20 19:11:01,730] Trial 38 finished with value: 0.016477271914482117 and parameters: {'lr': 2.14538993324492e-05, 'beta0': 0.5276404910342835, 'beta1': 0.9098649956663089, 'batch_size': 16, 'patience': 13, 'conv_depth': 4}. Best is trial 28 with value: 0.013307971879839897.\n"
     ]
    },
    {
     "name": "stdout",
     "output_type": "stream",
     "text": [
      "Early termination at epoch 50 with best validation metric 0.013318146578967571\n"
     ]
    },
    {
     "name": "stderr",
     "output_type": "stream",
     "text": [
      "[I 2025-02-20 19:12:02,244] Trial 39 finished with value: 0.013318146578967571 and parameters: {'lr': 0.00011095265697572543, 'beta0': 0.591995609936992, 'beta1': 0.9002755199709483, 'batch_size': 16, 'patience': 10, 'conv_depth': 5}. Best is trial 28 with value: 0.013307971879839897.\n"
     ]
    },
    {
     "name": "stdout",
     "output_type": "stream",
     "text": [
      "Early termination at epoch 74 with best validation metric 0.014607607076565424\n"
     ]
    },
    {
     "name": "stderr",
     "output_type": "stream",
     "text": [
      "[I 2025-02-20 19:13:31,413] Trial 40 finished with value: 0.014607607076565424 and parameters: {'lr': 8.129424856823595e-05, 'beta0': 0.574484778955214, 'beta1': 0.9153634968312794, 'batch_size': 16, 'patience': 19, 'conv_depth': 5}. Best is trial 28 with value: 0.013307971879839897.\n"
     ]
    },
    {
     "name": "stdout",
     "output_type": "stream",
     "text": [
      "Early termination at epoch 72 with best validation metric 0.0170947490260005\n"
     ]
    },
    {
     "name": "stderr",
     "output_type": "stream",
     "text": [
      "[I 2025-02-20 19:14:58,248] Trial 41 finished with value: 0.0170947490260005 and parameters: {'lr': 8.600963744968845e-05, 'beta0': 0.5847121792006474, 'beta1': 0.9175611306712983, 'batch_size': 16, 'patience': 18, 'conv_depth': 5}. Best is trial 28 with value: 0.013307971879839897.\n"
     ]
    },
    {
     "name": "stdout",
     "output_type": "stream",
     "text": [
      "Early termination at epoch 85 with best validation metric 0.01755427693327268\n"
     ]
    },
    {
     "name": "stderr",
     "output_type": "stream",
     "text": [
      "[I 2025-02-20 19:16:40,768] Trial 42 finished with value: 0.01755427693327268 and parameters: {'lr': 0.00020877673697598117, 'beta0': 0.6139384308085276, 'beta1': 0.903771898903509, 'batch_size': 16, 'patience': 19, 'conv_depth': 5}. Best is trial 28 with value: 0.013307971879839897.\n"
     ]
    },
    {
     "name": "stdout",
     "output_type": "stream",
     "text": [
      "Early termination at epoch 85 with best validation metric 0.015360843079785505\n"
     ]
    },
    {
     "name": "stderr",
     "output_type": "stream",
     "text": [
      "[I 2025-02-20 19:18:23,241] Trial 43 finished with value: 0.015360843079785505 and parameters: {'lr': 7.641970316309387e-05, 'beta0': 0.5806742339589936, 'beta1': 0.9121487328297305, 'batch_size': 16, 'patience': 19, 'conv_depth': 5}. Best is trial 28 with value: 0.013307971879839897.\n"
     ]
    },
    {
     "name": "stdout",
     "output_type": "stream",
     "text": [
      "Early termination at epoch 154 with best validation metric 0.009109806269407272\n"
     ]
    },
    {
     "name": "stderr",
     "output_type": "stream",
     "text": [
      "[I 2025-02-20 19:21:26,889] Trial 44 finished with value: 0.009109806269407272 and parameters: {'lr': 4.278284300241956e-05, 'beta0': 0.5668729567021265, 'beta1': 0.9014915605910088, 'batch_size': 32, 'patience': 20, 'conv_depth': 5}. Best is trial 44 with value: 0.009109806269407272.\n"
     ]
    },
    {
     "name": "stdout",
     "output_type": "stream",
     "text": [
      "Early termination at epoch 291 with best validation metric 0.019490943290293217\n"
     ]
    },
    {
     "name": "stderr",
     "output_type": "stream",
     "text": [
      "[I 2025-02-20 19:27:12,915] Trial 45 finished with value: 0.019490943290293217 and parameters: {'lr': 1.7128683608578842e-05, 'beta0': 0.6456912848157275, 'beta1': 0.90051228844096, 'batch_size': 32, 'patience': 20, 'conv_depth': 5}. Best is trial 44 with value: 0.009109806269407272.\n"
     ]
    },
    {
     "name": "stdout",
     "output_type": "stream",
     "text": [
      "Early termination at epoch 115 with best validation metric 0.017948752269148827\n"
     ]
    },
    {
     "name": "stderr",
     "output_type": "stream",
     "text": [
      "[I 2025-02-20 19:29:29,904] Trial 46 finished with value: 0.017948752269148827 and parameters: {'lr': 5.4374469952975364e-05, 'beta0': 0.6020260345030616, 'beta1': 0.90103051296648, 'batch_size': 32, 'patience': 12, 'conv_depth': 5}. Best is trial 44 with value: 0.009109806269407272.\n"
     ]
    },
    {
     "name": "stdout",
     "output_type": "stream",
     "text": [
      "Early termination at epoch 44 with best validation metric 0.018787370063364506\n"
     ]
    },
    {
     "name": "stderr",
     "output_type": "stream",
     "text": [
      "[I 2025-02-20 19:30:22,797] Trial 47 finished with value: 0.018787370063364506 and parameters: {'lr': 0.0005892426670466188, 'beta0': 0.5367476486341004, 'beta1': 0.9770195492595752, 'batch_size': 32, 'patience': 10, 'conv_depth': 5}. Best is trial 44 with value: 0.009109806269407272.\n"
     ]
    },
    {
     "name": "stdout",
     "output_type": "stream",
     "text": [
      "Early termination at epoch 16 with best validation metric 0.27133291959762573\n"
     ]
    },
    {
     "name": "stderr",
     "output_type": "stream",
     "text": [
      "[I 2025-02-20 19:30:42,358] Trial 48 finished with value: 0.27133291959762573 and parameters: {'lr': 4.142562910607609e-05, 'beta0': 0.564921416836416, 'beta1': 0.911644661883676, 'batch_size': 32, 'patience': 15, 'conv_depth': 5}. Best is trial 44 with value: 0.009109806269407272.\n"
     ]
    },
    {
     "name": "stdout",
     "output_type": "stream",
     "text": [
      "Early termination at epoch 400 with best validation metric 0.01736459508538246\n"
     ]
    },
    {
     "name": "stderr",
     "output_type": "stream",
     "text": [
      "[I 2025-02-20 19:38:23,853] Trial 49 finished with value: 0.01736459508538246 and parameters: {'lr': 2.296301944700363e-05, 'beta0': 0.5261058317942086, 'beta1': 0.927840569167226, 'batch_size': 64, 'patience': 11, 'conv_depth': 5}. Best is trial 44 with value: 0.009109806269407272.\n"
     ]
    },
    {
     "name": "stdout",
     "output_type": "stream",
     "text": [
      "Best trial for channel OrigER:\n",
      "  Validation Loss: 0.009109806269407272\n",
      "  Hyperparameters: {'lr': 4.278284300241956e-05, 'beta0': 0.5668729567021265, 'beta1': 0.9014915605910088, 'batch_size': 32, 'patience': 20, 'conv_depth': 5}\n"
     ]
    },
    {
     "name": "stderr",
     "output_type": "stream",
     "text": [
      "[I 2025-02-20 19:38:24,437] A new study created in memory with name: FNet_optimize_OrigAGP_low_confluence\n"
     ]
    },
    {
     "name": "stdout",
     "output_type": "stream",
     "text": [
      "Beginning optimization for channel: OrigAGP for low_confluence\n",
      "Early termination at epoch 90 with best validation metric 0.0025399946607649326\n"
     ]
    },
    {
     "name": "stderr",
     "output_type": "stream",
     "text": [
      "[I 2025-02-20 19:39:53,000] Trial 0 finished with value: 0.0025399946607649326 and parameters: {'lr': 0.0001329291894316216, 'beta0': 0.8802857225639664, 'beta1': 0.9724674002393291, 'batch_size': 48, 'patience': 7, 'conv_depth': 3}. Best is trial 0 with value: 0.0025399946607649326.\n"
     ]
    },
    {
     "name": "stdout",
     "output_type": "stream",
     "text": [
      "Early termination at epoch 513 with best validation metric 0.002779250731691718\n"
     ]
    },
    {
     "name": "stderr",
     "output_type": "stream",
     "text": [
      "[I 2025-02-20 19:49:52,294] Trial 1 finished with value: 0.002779250731691718 and parameters: {'lr': 1.493656855461762e-05, 'beta0': 0.846470458309974, 'beta1': 0.9595103861625777, 'batch_size': 48, 'patience': 5, 'conv_depth': 5}. Best is trial 0 with value: 0.0025399946607649326.\n"
     ]
    },
    {
     "name": "stdout",
     "output_type": "stream",
     "text": [
      "Early termination at epoch 16 with best validation metric 0.004340120901664098\n"
     ]
    },
    {
     "name": "stderr",
     "output_type": "stream",
     "text": [
      "[I 2025-02-20 19:50:09,953] Trial 2 finished with value: 0.004340120901664098 and parameters: {'lr': 0.00314288089084011, 'beta0': 0.5849356442713105, 'beta1': 0.918000671753503, 'batch_size': 16, 'patience': 9, 'conv_depth': 4}. Best is trial 0 with value: 0.0025399946607649326.\n"
     ]
    },
    {
     "name": "stdout",
     "output_type": "stream",
     "text": [
      "Early termination at epoch 40 with best validation metric 0.0022742556563268104\n"
     ]
    },
    {
     "name": "stderr",
     "output_type": "stream",
     "text": [
      "[I 2025-02-20 19:50:53,821] Trial 3 finished with value: 0.0022742556563268104 and parameters: {'lr': 0.00019762189340280086, 'beta0': 0.6164916560792167, 'beta1': 0.9605734365775156, 'batch_size': 16, 'patience': 9, 'conv_depth': 4}. Best is trial 3 with value: 0.0022742556563268104.\n"
     ]
    },
    {
     "name": "stdout",
     "output_type": "stream",
     "text": [
      "Early termination at epoch 55 with best validation metric 0.0027704923413693905\n"
     ]
    },
    {
     "name": "stderr",
     "output_type": "stream",
     "text": [
      "[I 2025-02-20 19:51:47,937] Trial 4 finished with value: 0.0027704923413693905 and parameters: {'lr': 0.00023345864076016249, 'beta0': 0.8140703845572055, 'beta1': 0.9197677044336776, 'batch_size': 48, 'patience': 14, 'conv_depth': 3}. Best is trial 3 with value: 0.0022742556563268104.\n"
     ]
    },
    {
     "name": "stdout",
     "output_type": "stream",
     "text": [
      "Early termination at epoch 72 with best validation metric 0.00225723790936172\n"
     ]
    },
    {
     "name": "stderr",
     "output_type": "stream",
     "text": [
      "[I 2025-02-20 19:53:11,592] Trial 5 finished with value: 0.00225723790936172 and parameters: {'lr': 0.0006647135865318024, 'beta0': 0.5682096494749166, 'beta1': 0.9064401077055427, 'batch_size': 64, 'patience': 20, 'conv_depth': 5}. Best is trial 5 with value: 0.00225723790936172.\n"
     ]
    },
    {
     "name": "stdout",
     "output_type": "stream",
     "text": [
      "Early termination at epoch 98 with best validation metric 0.0019771313527598977\n"
     ]
    },
    {
     "name": "stderr",
     "output_type": "stream",
     "text": [
      "[I 2025-02-20 19:54:57,717] Trial 6 finished with value: 0.0019771313527598977 and parameters: {'lr': 8.200518402245828e-05, 'beta0': 0.5390688456025535, 'beta1': 0.9677390696247036, 'batch_size': 32, 'patience': 6, 'conv_depth': 4}. Best is trial 6 with value: 0.0019771313527598977.\n"
     ]
    },
    {
     "name": "stdout",
     "output_type": "stream",
     "text": [
      "Early termination at epoch 709 with best validation metric 0.0021957994904369116\n"
     ]
    },
    {
     "name": "stderr",
     "output_type": "stream",
     "text": [
      "[I 2025-02-20 20:07:39,998] Trial 7 finished with value: 0.0021957994904369116 and parameters: {'lr': 1.2681352169084594e-05, 'beta0': 0.8637281608315128, 'beta1': 0.9256192181784016, 'batch_size': 48, 'patience': 9, 'conv_depth': 4}. Best is trial 6 with value: 0.0019771313527598977.\n"
     ]
    },
    {
     "name": "stdout",
     "output_type": "stream",
     "text": [
      "Early termination at epoch 135 with best validation metric 0.002111370675265789\n"
     ]
    },
    {
     "name": "stderr",
     "output_type": "stream",
     "text": [
      "[I 2025-02-20 20:10:16,507] Trial 8 finished with value: 0.002111370675265789 and parameters: {'lr': 0.00043664735929796326, 'beta0': 0.5739417822102109, 'beta1': 0.9959888781486913, 'batch_size': 64, 'patience': 20, 'conv_depth': 5}. Best is trial 6 with value: 0.0019771313527598977.\n"
     ]
    },
    {
     "name": "stdout",
     "output_type": "stream",
     "text": [
      "Early termination at epoch 19 with best validation metric 0.003454355988651514\n"
     ]
    },
    {
     "name": "stderr",
     "output_type": "stream",
     "text": [
      "[I 2025-02-20 20:10:35,249] Trial 9 finished with value: 0.003454355988651514 and parameters: {'lr': 0.0006218704727769079, 'beta0': 0.8687496940092467, 'beta1': 0.90876075770314, 'batch_size': 16, 'patience': 5, 'conv_depth': 3}. Best is trial 6 with value: 0.0019771313527598977.\n"
     ]
    },
    {
     "name": "stdout",
     "output_type": "stream",
     "text": [
      "Early termination at epoch 188 with best validation metric 0.0018449635826982558\n"
     ]
    },
    {
     "name": "stderr",
     "output_type": "stream",
     "text": [
      "[I 2025-02-20 20:13:58,374] Trial 10 finished with value: 0.0018449635826982558 and parameters: {'lr': 5.467213291194758e-05, 'beta0': 0.5023988731823268, 'beta1': 0.9894065277856435, 'batch_size': 32, 'patience': 14, 'conv_depth': 4}. Best is trial 10 with value: 0.0018449635826982558.\n"
     ]
    },
    {
     "name": "stdout",
     "output_type": "stream",
     "text": [
      "Early termination at epoch 224 with best validation metric 0.0025817531859502196\n"
     ]
    },
    {
     "name": "stderr",
     "output_type": "stream",
     "text": [
      "[I 2025-02-20 20:18:00,740] Trial 11 finished with value: 0.0025817531859502196 and parameters: {'lr': 4.601810925917157e-05, 'beta0': 0.5044028672002467, 'beta1': 0.9902724290764204, 'batch_size': 32, 'patience': 14, 'conv_depth': 4}. Best is trial 10 with value: 0.0018449635826982558.\n"
     ]
    },
    {
     "name": "stdout",
     "output_type": "stream",
     "text": [
      "Early termination at epoch 199 with best validation metric 0.0021199226612225175\n"
     ]
    },
    {
     "name": "stderr",
     "output_type": "stream",
     "text": [
      "[I 2025-02-20 20:21:36,080] Trial 12 finished with value: 0.0021199226612225175 and parameters: {'lr': 6.159474590220515e-05, 'beta0': 0.698461478517961, 'beta1': 0.9793940207999982, 'batch_size': 32, 'patience': 16, 'conv_depth': 4}. Best is trial 10 with value: 0.0018449635826982558.\n"
     ]
    },
    {
     "name": "stdout",
     "output_type": "stream",
     "text": [
      "Early termination at epoch 160 with best validation metric 0.002292686142027378\n"
     ]
    },
    {
     "name": "stderr",
     "output_type": "stream",
     "text": [
      "[I 2025-02-20 20:24:29,356] Trial 13 finished with value: 0.002292686142027378 and parameters: {'lr': 4.441279673315895e-05, 'beta0': 0.5014046149145843, 'beta1': 0.9393116648597638, 'batch_size': 32, 'patience': 12, 'conv_depth': 4}. Best is trial 10 with value: 0.0018449635826982558.\n"
     ]
    },
    {
     "name": "stdout",
     "output_type": "stream",
     "text": [
      "Early termination at epoch 44 with best validation metric 0.0026918331859633327\n"
     ]
    },
    {
     "name": "stderr",
     "output_type": "stream",
     "text": [
      "[I 2025-02-20 20:25:17,242] Trial 14 finished with value: 0.0026918331859633327 and parameters: {'lr': 0.002069055008696335, 'beta0': 0.6651456263915391, 'beta1': 0.9784715688808749, 'batch_size': 32, 'patience': 17, 'conv_depth': 4}. Best is trial 10 with value: 0.0018449635826982558.\n"
     ]
    },
    {
     "name": "stdout",
     "output_type": "stream",
     "text": [
      "Early termination at epoch 44 with best validation metric 0.0038769047241657972\n"
     ]
    },
    {
     "name": "stderr",
     "output_type": "stream",
     "text": [
      "[I 2025-02-20 20:26:00,519] Trial 15 finished with value: 0.0038769047241657972 and parameters: {'lr': 0.009956055660659048, 'beta0': 0.7742568415170963, 'beta1': 0.9491927696448118, 'batch_size': 32, 'patience': 12, 'conv_depth': 3}. Best is trial 10 with value: 0.0018449635826982558.\n"
     ]
    },
    {
     "name": "stdout",
     "output_type": "stream",
     "text": [
      "Early termination at epoch 65 with best validation metric 0.0021275413067390523\n"
     ]
    },
    {
     "name": "stderr",
     "output_type": "stream",
     "text": [
      "[I 2025-02-20 20:27:19,212] Trial 16 finished with value: 0.0021275413067390523 and parameters: {'lr': 8.884098646757594e-05, 'beta0': 0.538504151480571, 'beta1': 0.9671276743819608, 'batch_size': 16, 'patience': 11, 'conv_depth': 5}. Best is trial 10 with value: 0.0018449635826982558.\n"
     ]
    },
    {
     "name": "stdout",
     "output_type": "stream",
     "text": [
      "Early termination at epoch 301 with best validation metric 0.0019786512129940093\n"
     ]
    },
    {
     "name": "stderr",
     "output_type": "stream",
     "text": [
      "[I 2025-02-20 20:32:45,451] Trial 17 finished with value: 0.0019786512129940093 and parameters: {'lr': 2.6763462195916093e-05, 'beta0': 0.6431447374890165, 'beta1': 0.9860240810675125, 'batch_size': 32, 'patience': 17, 'conv_depth': 4}. Best is trial 10 with value: 0.0018449635826982558.\n"
     ]
    },
    {
     "name": "stdout",
     "output_type": "stream",
     "text": [
      "Early termination at epoch 688 with best validation metric 0.0022594179026782513\n"
     ]
    },
    {
     "name": "stderr",
     "output_type": "stream",
     "text": [
      "[I 2025-02-20 20:46:09,235] Trial 18 finished with value: 0.0022594179026782513 and parameters: {'lr': 2.418092849725909e-05, 'beta0': 0.7494485249404571, 'beta1': 0.9972859295210027, 'batch_size': 48, 'patience': 15, 'conv_depth': 5}. Best is trial 10 with value: 0.0018449635826982558.\n"
     ]
    },
    {
     "name": "stdout",
     "output_type": "stream",
     "text": [
      "Early termination at epoch 54 with best validation metric 0.0021672649309039116\n"
     ]
    },
    {
     "name": "stderr",
     "output_type": "stream",
     "text": [
      "[I 2025-02-20 20:47:01,803] Trial 19 finished with value: 0.0021672649309039116 and parameters: {'lr': 0.0001014055866401481, 'beta0': 0.5374109070266472, 'beta1': 0.945507456892577, 'batch_size': 16, 'patience': 7, 'conv_depth': 3}. Best is trial 10 with value: 0.0018449635826982558.\n"
     ]
    },
    {
     "name": "stdout",
     "output_type": "stream",
     "text": [
      "Early termination at epoch 51 with best validation metric 0.003219352103769779\n"
     ]
    },
    {
     "name": "stderr",
     "output_type": "stream",
     "text": [
      "[I 2025-02-20 20:47:57,226] Trial 20 finished with value: 0.003219352103769779 and parameters: {'lr': 0.001464996009379671, 'beta0': 0.6125657038315837, 'beta1': 0.9608148619725642, 'batch_size': 32, 'patience': 11, 'conv_depth': 4}. Best is trial 10 with value: 0.0018449635826982558.\n"
     ]
    },
    {
     "name": "stdout",
     "output_type": "stream",
     "text": [
      "Early termination at epoch 292 with best validation metric 0.0018814592622220516\n"
     ]
    },
    {
     "name": "stderr",
     "output_type": "stream",
     "text": [
      "[I 2025-02-20 20:53:13,240] Trial 21 finished with value: 0.0018814592622220516 and parameters: {'lr': 2.7525315152788467e-05, 'beta0': 0.6630999797058008, 'beta1': 0.9851439458683614, 'batch_size': 32, 'patience': 18, 'conv_depth': 4}. Best is trial 10 with value: 0.0018449635826982558.\n"
     ]
    },
    {
     "name": "stdout",
     "output_type": "stream",
     "text": [
      "Early termination at epoch 293 with best validation metric 0.002452732063829899\n"
     ]
    },
    {
     "name": "stderr",
     "output_type": "stream",
     "text": [
      "[I 2025-02-20 20:58:30,533] Trial 22 finished with value: 0.002452732063829899 and parameters: {'lr': 2.795360154315685e-05, 'beta0': 0.7085001549536818, 'beta1': 0.9845831987456961, 'batch_size': 32, 'patience': 18, 'conv_depth': 4}. Best is trial 10 with value: 0.0018449635826982558.\n"
     ]
    },
    {
     "name": "stdout",
     "output_type": "stream",
     "text": [
      "Early termination at epoch 19 with best validation metric 0.386668398976326\n"
     ]
    },
    {
     "name": "stderr",
     "output_type": "stream",
     "text": [
      "[I 2025-02-20 20:58:51,590] Trial 23 finished with value: 0.386668398976326 and parameters: {'lr': 1.0713046209785751e-05, 'beta0': 0.5360696211789711, 'beta1': 0.9738202667817337, 'batch_size': 32, 'patience': 18, 'conv_depth': 4}. Best is trial 10 with value: 0.0018449635826982558.\n"
     ]
    },
    {
     "name": "stdout",
     "output_type": "stream",
     "text": [
      "Early termination at epoch 223 with best validation metric 0.0021753842011094093\n"
     ]
    },
    {
     "name": "stderr",
     "output_type": "stream",
     "text": [
      "[I 2025-02-20 21:02:51,555] Trial 24 finished with value: 0.0021753842011094093 and parameters: {'lr': 7.034136954179081e-05, 'beta0': 0.6734773017288379, 'beta1': 0.9888367128311126, 'batch_size': 48, 'patience': 13, 'conv_depth': 4}. Best is trial 10 with value: 0.0018449635826982558.\n"
     ]
    },
    {
     "name": "stdout",
     "output_type": "stream",
     "text": [
      "Early termination at epoch 119 with best validation metric 0.0024139733286574483\n"
     ]
    },
    {
     "name": "stderr",
     "output_type": "stream",
     "text": [
      "[I 2025-02-20 21:05:00,594] Trial 25 finished with value: 0.0024139733286574483 and parameters: {'lr': 0.0001612001847307954, 'beta0': 0.6143728202193982, 'beta1': 0.969231491307562, 'batch_size': 32, 'patience': 19, 'conv_depth': 4}. Best is trial 10 with value: 0.0018449635826982558.\n"
     ]
    },
    {
     "name": "stdout",
     "output_type": "stream",
     "text": [
      "Early termination at epoch 151 with best validation metric 0.0019932367528478303\n"
     ]
    },
    {
     "name": "stderr",
     "output_type": "stream",
     "text": [
      "[I 2025-02-20 21:07:27,420] Trial 26 finished with value: 0.0019932367528478303 and parameters: {'lr': 3.865302496696875e-05, 'beta0': 0.5489719425850169, 'beta1': 0.9815066492390504, 'batch_size': 16, 'patience': 15, 'conv_depth': 3}. Best is trial 10 with value: 0.0018449635826982558.\n"
     ]
    },
    {
     "name": "stdout",
     "output_type": "stream",
     "text": [
      "Early termination at epoch 55 with best validation metric 0.0025482893688604236\n"
     ]
    },
    {
     "name": "stderr",
     "output_type": "stream",
     "text": [
      "[I 2025-02-20 21:08:33,124] Trial 27 finished with value: 0.0025482893688604236 and parameters: {'lr': 0.00029407880593658356, 'beta0': 0.5000968962039648, 'beta1': 0.9975843807598549, 'batch_size': 32, 'patience': 7, 'conv_depth': 5}. Best is trial 10 with value: 0.0018449635826982558.\n"
     ]
    },
    {
     "name": "stdout",
     "output_type": "stream",
     "text": [
      "Early termination at epoch 429 with best validation metric 0.002455673413351178\n"
     ]
    },
    {
     "name": "stderr",
     "output_type": "stream",
     "text": [
      "[I 2025-02-20 21:16:14,364] Trial 28 finished with value: 0.002455673413351178 and parameters: {'lr': 2.238652700086494e-05, 'beta0': 0.5941466092321488, 'beta1': 0.9551822954905105, 'batch_size': 48, 'patience': 10, 'conv_depth': 4}. Best is trial 10 with value: 0.0018449635826982558.\n"
     ]
    },
    {
     "name": "stdout",
     "output_type": "stream",
     "text": [
      "Early termination at epoch 130 with best validation metric 0.0021105266641825438\n"
     ]
    },
    {
     "name": "stderr",
     "output_type": "stream",
     "text": [
      "[I 2025-02-20 21:18:22,248] Trial 29 finished with value: 0.0021105266641825438 and parameters: {'lr': 0.0001189166615897765, 'beta0': 0.8989879313923892, 'beta1': 0.9687087187197314, 'batch_size': 48, 'patience': 16, 'conv_depth': 3}. Best is trial 10 with value: 0.0018449635826982558.\n"
     ]
    },
    {
     "name": "stdout",
     "output_type": "stream",
     "text": [
      "Early termination at epoch 77 with best validation metric 0.002161128679290414\n"
     ]
    },
    {
     "name": "stderr",
     "output_type": "stream",
     "text": [
      "[I 2025-02-20 21:19:46,229] Trial 30 finished with value: 0.002161128679290414 and parameters: {'lr': 6.778560840516932e-05, 'beta0': 0.7366849379399733, 'beta1': 0.9765344363388155, 'batch_size': 16, 'patience': 6, 'conv_depth': 4}. Best is trial 10 with value: 0.0018449635826982558.\n"
     ]
    },
    {
     "name": "stdout",
     "output_type": "stream",
     "text": [
      "Early termination at epoch 401 with best validation metric 0.0019280723063275218\n"
     ]
    },
    {
     "name": "stderr",
     "output_type": "stream",
     "text": [
      "[I 2025-02-20 21:27:00,621] Trial 31 finished with value: 0.0019280723063275218 and parameters: {'lr': 1.9516721487487976e-05, 'beta0': 0.6467310163464405, 'beta1': 0.9879690864275495, 'batch_size': 32, 'patience': 17, 'conv_depth': 4}. Best is trial 10 with value: 0.0018449635826982558.\n"
     ]
    },
    {
     "name": "stdout",
     "output_type": "stream",
     "text": [
      "Early termination at epoch 474 with best validation metric 0.0019024403300136328\n"
     ]
    },
    {
     "name": "stderr",
     "output_type": "stream",
     "text": [
      "[I 2025-02-20 21:35:34,261] Trial 32 finished with value: 0.0019024403300136328 and parameters: {'lr': 1.72904030318778e-05, 'beta0': 0.646268005320155, 'beta1': 0.9910407277303527, 'batch_size': 32, 'patience': 18, 'conv_depth': 4}. Best is trial 10 with value: 0.0018449635826982558.\n"
     ]
    },
    {
     "name": "stdout",
     "output_type": "stream",
     "text": [
      "Early termination at epoch 461 with best validation metric 0.001665051735471934\n"
     ]
    },
    {
     "name": "stderr",
     "output_type": "stream",
     "text": [
      "[I 2025-02-20 21:43:53,551] Trial 33 finished with value: 0.001665051735471934 and parameters: {'lr': 1.7029220818287743e-05, 'beta0': 0.6495119391103025, 'beta1': 0.9923362783550648, 'batch_size': 32, 'patience': 18, 'conv_depth': 4}. Best is trial 33 with value: 0.001665051735471934.\n"
     ]
    },
    {
     "name": "stdout",
     "output_type": "stream",
     "text": [
      "Early termination at epoch 537 with best validation metric 0.0018242555088363588\n"
     ]
    },
    {
     "name": "stderr",
     "output_type": "stream",
     "text": [
      "[I 2025-02-20 21:53:33,985] Trial 34 finished with value: 0.0018242555088363588 and parameters: {'lr': 1.6008074614151707e-05, 'beta0': 0.7039900322707852, 'beta1': 0.9947459518005396, 'batch_size': 32, 'patience': 19, 'conv_depth': 4}. Best is trial 33 with value: 0.001665051735471934.\n"
     ]
    },
    {
     "name": "stdout",
     "output_type": "stream",
     "text": [
      "Early termination at epoch 614 with best validation metric 0.002188927843235433\n"
     ]
    },
    {
     "name": "stderr",
     "output_type": "stream",
     "text": [
      "[I 2025-02-20 22:04:39,072] Trial 35 finished with value: 0.002188927843235433 and parameters: {'lr': 1.0321804872842865e-05, 'beta0': 0.7022953319382044, 'beta1': 0.9915384669785621, 'batch_size': 32, 'patience': 20, 'conv_depth': 4}. Best is trial 33 with value: 0.001665051735471934.\n"
     ]
    },
    {
     "name": "stdout",
     "output_type": "stream",
     "text": [
      "Early termination at epoch 220 with best validation metric 0.0018229288592313726\n"
     ]
    },
    {
     "name": "stderr",
     "output_type": "stream",
     "text": [
      "[I 2025-02-20 22:08:37,332] Trial 36 finished with value: 0.0018229288592313726 and parameters: {'lr': 3.7868628020713014e-05, 'beta0': 0.7955697211501718, 'beta1': 0.9980029153699448, 'batch_size': 16, 'patience': 19, 'conv_depth': 4}. Best is trial 33 with value: 0.001665051735471934.\n"
     ]
    },
    {
     "name": "stdout",
     "output_type": "stream",
     "text": [
      "Early termination at epoch 430 with best validation metric 0.002190958553304275\n"
     ]
    },
    {
     "name": "stderr",
     "output_type": "stream",
     "text": [
      "[I 2025-02-20 22:17:15,975] Trial 37 finished with value: 0.002190958553304275 and parameters: {'lr': 1.5679545338761538e-05, 'beta0': 0.8326260583026784, 'beta1': 0.9987968644970714, 'batch_size': 16, 'patience': 19, 'conv_depth': 5}. Best is trial 33 with value: 0.001665051735471934.\n"
     ]
    },
    {
     "name": "stdout",
     "output_type": "stream",
     "text": [
      "Early termination at epoch 144 with best validation metric 0.0020327584352344275\n"
     ]
    },
    {
     "name": "stderr",
     "output_type": "stream",
     "text": [
      "[I 2025-02-20 22:19:51,681] Trial 38 finished with value: 0.0020327584352344275 and parameters: {'lr': 3.313430064983483e-05, 'beta0': 0.781968457333619, 'beta1': 0.9350349038129121, 'batch_size': 16, 'patience': 19, 'conv_depth': 4}. Best is trial 33 with value: 0.001665051735471934.\n"
     ]
    },
    {
     "name": "stdout",
     "output_type": "stream",
     "text": [
      "Early termination at epoch 261 with best validation metric 0.002031437586992979\n"
     ]
    },
    {
     "name": "stderr",
     "output_type": "stream",
     "text": [
      "[I 2025-02-20 22:24:05,198] Trial 39 finished with value: 0.002031437586992979 and parameters: {'lr': 1.4533896418630676e-05, 'beta0': 0.7991760388478643, 'beta1': 0.9942322594718276, 'batch_size': 16, 'patience': 16, 'conv_depth': 3}. Best is trial 33 with value: 0.001665051735471934.\n"
     ]
    },
    {
     "name": "stdout",
     "output_type": "stream",
     "text": [
      "Early termination at epoch 369 with best validation metric 0.0018528108485043049\n"
     ]
    },
    {
     "name": "stderr",
     "output_type": "stream",
     "text": [
      "[I 2025-02-20 22:30:39,835] Trial 40 finished with value: 0.0018528108485043049 and parameters: {'lr': 4.512321561849628e-05, 'beta0': 0.7210726837200708, 'beta1': 0.9830826190254225, 'batch_size': 64, 'patience': 19, 'conv_depth': 4}. Best is trial 33 with value: 0.001665051735471934.\n"
     ]
    },
    {
     "name": "stdout",
     "output_type": "stream",
     "text": [
      "Early termination at epoch 318 with best validation metric 0.0018876554677262902\n"
     ]
    },
    {
     "name": "stderr",
     "output_type": "stream",
     "text": [
      "[I 2025-02-20 22:36:19,601] Trial 41 finished with value: 0.0018876554677262902 and parameters: {'lr': 5.4487567005127266e-05, 'beta0': 0.7352451161002083, 'beta1': 0.9825752800688973, 'batch_size': 64, 'patience': 19, 'conv_depth': 4}. Best is trial 33 with value: 0.001665051735471934.\n"
     ]
    },
    {
     "name": "stdout",
     "output_type": "stream",
     "text": [
      "Early termination at epoch 582 with best validation metric 0.0022557072807103395\n"
     ]
    },
    {
     "name": "stderr",
     "output_type": "stream",
     "text": [
      "[I 2025-02-20 22:46:42,040] Trial 42 finished with value: 0.0022557072807103395 and parameters: {'lr': 3.504591614404188e-05, 'beta0': 0.752330215415374, 'beta1': 0.994322609519144, 'batch_size': 64, 'patience': 20, 'conv_depth': 4}. Best is trial 33 with value: 0.001665051735471934.\n"
     ]
    },
    {
     "name": "stdout",
     "output_type": "stream",
     "text": [
      "Early termination at epoch 165 with best validation metric 0.0018024189630523324\n"
     ]
    },
    {
     "name": "stderr",
     "output_type": "stream",
     "text": [
      "[I 2025-02-20 22:49:39,260] Trial 43 finished with value: 0.0018024189630523324 and parameters: {'lr': 0.000174644210881111, 'beta0': 0.8310471860500493, 'beta1': 0.9922573690564248, 'batch_size': 48, 'patience': 20, 'conv_depth': 4}. Best is trial 33 with value: 0.001665051735471934.\n"
     ]
    },
    {
     "name": "stdout",
     "output_type": "stream",
     "text": [
      "Early termination at epoch 177 with best validation metric 0.0021065801847726107\n"
     ]
    },
    {
     "name": "stderr",
     "output_type": "stream",
     "text": [
      "[I 2025-02-20 22:52:48,949] Trial 44 finished with value: 0.0021065801847726107 and parameters: {'lr': 0.0001960708571829439, 'beta0': 0.8159428452701075, 'beta1': 0.9989907134727596, 'batch_size': 48, 'patience': 20, 'conv_depth': 4}. Best is trial 33 with value: 0.001665051735471934.\n"
     ]
    },
    {
     "name": "stdout",
     "output_type": "stream",
     "text": [
      "Early termination at epoch 90 with best validation metric 0.0023058075457811356\n"
     ]
    },
    {
     "name": "stderr",
     "output_type": "stream",
     "text": [
      "[I 2025-02-20 22:54:25,811] Trial 45 finished with value: 0.0023058075457811356 and parameters: {'lr': 0.0003279607973137028, 'beta0': 0.8252866513611835, 'beta1': 0.992094565483656, 'batch_size': 48, 'patience': 17, 'conv_depth': 4}. Best is trial 33 with value: 0.001665051735471934.\n"
     ]
    },
    {
     "name": "stdout",
     "output_type": "stream",
     "text": [
      "Early termination at epoch 141 with best validation metric 0.0017949342727661133\n"
     ]
    },
    {
     "name": "stderr",
     "output_type": "stream",
     "text": [
      "[I 2025-02-20 22:56:57,522] Trial 46 finished with value: 0.0017949342727661133 and parameters: {'lr': 0.00015059939408566562, 'beta0': 0.847725658691555, 'beta1': 0.9747009343933427, 'batch_size': 48, 'patience': 14, 'conv_depth': 4}. Best is trial 33 with value: 0.001665051735471934.\n"
     ]
    },
    {
     "name": "stdout",
     "output_type": "stream",
     "text": [
      "Early termination at epoch 69 with best validation metric 0.0024292832240462303\n"
     ]
    },
    {
     "name": "stderr",
     "output_type": "stream",
     "text": [
      "[I 2025-02-20 22:58:12,132] Trial 47 finished with value: 0.0024292832240462303 and parameters: {'lr': 0.0009249292298802226, 'beta0': 0.8562597364222782, 'beta1': 0.9740119699492154, 'batch_size': 48, 'patience': 18, 'conv_depth': 4}. Best is trial 33 with value: 0.001665051735471934.\n"
     ]
    },
    {
     "name": "stdout",
     "output_type": "stream",
     "text": [
      "Early termination at epoch 160 with best validation metric 0.002135495189577341\n"
     ]
    },
    {
     "name": "stderr",
     "output_type": "stream",
     "text": [
      "[I 2025-02-20 23:01:04,321] Trial 48 finished with value: 0.002135495189577341 and parameters: {'lr': 0.00013167176342364188, 'beta0': 0.8836564864733911, 'beta1': 0.9795163115549421, 'batch_size': 48, 'patience': 20, 'conv_depth': 4}. Best is trial 33 with value: 0.001665051735471934.\n"
     ]
    },
    {
     "name": "stdout",
     "output_type": "stream",
     "text": [
      "Early termination at epoch 60 with best validation metric 0.002450993051752448\n"
     ]
    },
    {
     "name": "stderr",
     "output_type": "stream",
     "text": [
      "[I 2025-02-20 23:02:09,324] Trial 49 finished with value: 0.002450993051752448 and parameters: {'lr': 0.0006319250869133286, 'beta0': 0.8358649552699582, 'beta1': 0.9938776187409727, 'batch_size': 48, 'patience': 15, 'conv_depth': 4}. Best is trial 33 with value: 0.001665051735471934.\n"
     ]
    },
    {
     "name": "stdout",
     "output_type": "stream",
     "text": [
      "Best trial for channel OrigAGP:\n",
      "  Validation Loss: 0.001665051735471934\n",
      "  Hyperparameters: {'lr': 1.7029220818287743e-05, 'beta0': 0.6495119391103025, 'beta1': 0.9923362783550648, 'batch_size': 32, 'patience': 18, 'conv_depth': 4}\n"
     ]
    },
    {
     "name": "stderr",
     "output_type": "stream",
     "text": [
      "[I 2025-02-20 23:02:09,687] A new study created in memory with name: FNet_optimize_OrigMito_low_confluence\n"
     ]
    },
    {
     "name": "stdout",
     "output_type": "stream",
     "text": [
      "Beginning optimization for channel: OrigMito for low_confluence\n",
      "Early termination at epoch 47 with best validation metric 0.04301482439041138\n"
     ]
    },
    {
     "name": "stderr",
     "output_type": "stream",
     "text": [
      "[I 2025-02-20 23:02:56,072] Trial 0 finished with value: 0.04301482439041138 and parameters: {'lr': 0.0001329291894316216, 'beta0': 0.8802857225639664, 'beta1': 0.9724674002393291, 'batch_size': 48, 'patience': 7, 'conv_depth': 3}. Best is trial 0 with value: 0.04301482439041138.\n"
     ]
    },
    {
     "name": "stdout",
     "output_type": "stream",
     "text": [
      "Early termination at epoch 6 with best validation metric 0.26343223452568054\n"
     ]
    },
    {
     "name": "stderr",
     "output_type": "stream",
     "text": [
      "[I 2025-02-20 23:03:03,733] Trial 1 finished with value: 0.26343223452568054 and parameters: {'lr': 1.493656855461762e-05, 'beta0': 0.846470458309974, 'beta1': 0.9595103861625777, 'batch_size': 48, 'patience': 5, 'conv_depth': 5}. Best is trial 0 with value: 0.04301482439041138.\n"
     ]
    },
    {
     "name": "stdout",
     "output_type": "stream",
     "text": [
      "Early termination at epoch 33 with best validation metric 0.04755008717377981\n"
     ]
    },
    {
     "name": "stderr",
     "output_type": "stream",
     "text": [
      "[I 2025-02-20 23:03:39,689] Trial 2 finished with value: 0.04755008717377981 and parameters: {'lr': 0.00314288089084011, 'beta0': 0.5849356442713105, 'beta1': 0.918000671753503, 'batch_size': 16, 'patience': 9, 'conv_depth': 4}. Best is trial 0 with value: 0.04301482439041138.\n"
     ]
    },
    {
     "name": "stdout",
     "output_type": "stream",
     "text": [
      "Early termination at epoch 33 with best validation metric 0.048507717748483024\n"
     ]
    },
    {
     "name": "stderr",
     "output_type": "stream",
     "text": [
      "[I 2025-02-20 23:04:15,670] Trial 3 finished with value: 0.048507717748483024 and parameters: {'lr': 0.00019762189340280086, 'beta0': 0.6164916560792167, 'beta1': 0.9605734365775156, 'batch_size': 16, 'patience': 9, 'conv_depth': 4}. Best is trial 0 with value: 0.04301482439041138.\n"
     ]
    },
    {
     "name": "stdout",
     "output_type": "stream",
     "text": [
      "Early termination at epoch 50 with best validation metric 0.0364944189786911\n"
     ]
    },
    {
     "name": "stderr",
     "output_type": "stream",
     "text": [
      "[I 2025-02-20 23:05:04,778] Trial 4 finished with value: 0.0364944189786911 and parameters: {'lr': 0.00023345864076016249, 'beta0': 0.8140703845572055, 'beta1': 0.9197677044336776, 'batch_size': 48, 'patience': 14, 'conv_depth': 3}. Best is trial 4 with value: 0.0364944189786911.\n"
     ]
    },
    {
     "name": "stdout",
     "output_type": "stream",
     "text": [
      "Early termination at epoch 90 with best validation metric 0.04334500804543495\n"
     ]
    },
    {
     "name": "stderr",
     "output_type": "stream",
     "text": [
      "[I 2025-02-20 23:06:49,135] Trial 5 finished with value: 0.04334500804543495 and parameters: {'lr': 0.0006647135865318024, 'beta0': 0.5682096494749166, 'beta1': 0.9064401077055427, 'batch_size': 64, 'patience': 20, 'conv_depth': 5}. Best is trial 4 with value: 0.0364944189786911.\n"
     ]
    },
    {
     "name": "stdout",
     "output_type": "stream",
     "text": [
      "Early termination at epoch 21 with best validation metric 0.07051123678684235\n"
     ]
    },
    {
     "name": "stderr",
     "output_type": "stream",
     "text": [
      "[I 2025-02-20 23:07:12,213] Trial 6 finished with value: 0.07051123678684235 and parameters: {'lr': 8.200518402245828e-05, 'beta0': 0.5390688456025535, 'beta1': 0.9677390696247036, 'batch_size': 32, 'patience': 6, 'conv_depth': 4}. Best is trial 4 with value: 0.0364944189786911.\n"
     ]
    },
    {
     "name": "stdout",
     "output_type": "stream",
     "text": [
      "Early termination at epoch 254 with best validation metric 0.052038781344890594\n"
     ]
    },
    {
     "name": "stderr",
     "output_type": "stream",
     "text": [
      "[I 2025-02-20 23:11:44,508] Trial 7 finished with value: 0.052038781344890594 and parameters: {'lr': 1.2681352169084594e-05, 'beta0': 0.8637281608315128, 'beta1': 0.9256192181784016, 'batch_size': 48, 'patience': 9, 'conv_depth': 4}. Best is trial 4 with value: 0.0364944189786911.\n"
     ]
    },
    {
     "name": "stdout",
     "output_type": "stream",
     "text": [
      "Early termination at epoch 90 with best validation metric 0.04109340161085129\n"
     ]
    },
    {
     "name": "stderr",
     "output_type": "stream",
     "text": [
      "[I 2025-02-20 23:13:29,055] Trial 8 finished with value: 0.04109340161085129 and parameters: {'lr': 0.00043664735929796326, 'beta0': 0.5739417822102109, 'beta1': 0.9959888781486913, 'batch_size': 64, 'patience': 20, 'conv_depth': 5}. Best is trial 4 with value: 0.0364944189786911.\n"
     ]
    },
    {
     "name": "stdout",
     "output_type": "stream",
     "text": [
      "Early termination at epoch 8 with best validation metric 0.11556184788544972\n"
     ]
    },
    {
     "name": "stderr",
     "output_type": "stream",
     "text": [
      "[I 2025-02-20 23:13:37,215] Trial 9 finished with value: 0.11556184788544972 and parameters: {'lr': 0.0006218704727769079, 'beta0': 0.8687496940092467, 'beta1': 0.90876075770314, 'batch_size': 16, 'patience': 5, 'conv_depth': 3}. Best is trial 4 with value: 0.0364944189786911.\n"
     ]
    },
    {
     "name": "stdout",
     "output_type": "stream",
     "text": [
      "Early termination at epoch 38 with best validation metric 0.06325558945536613\n"
     ]
    },
    {
     "name": "stderr",
     "output_type": "stream",
     "text": [
      "[I 2025-02-20 23:14:14,656] Trial 10 finished with value: 0.06325558945536613 and parameters: {'lr': 0.0068455702672729195, 'beta0': 0.7699188271527112, 'beta1': 0.9365041484993887, 'batch_size': 32, 'patience': 15, 'conv_depth': 3}. Best is trial 4 with value: 0.0364944189786911.\n"
     ]
    },
    {
     "name": "stdout",
     "output_type": "stream",
     "text": [
      "Early termination at epoch 75 with best validation metric 0.051080260425806046\n"
     ]
    },
    {
     "name": "stderr",
     "output_type": "stream",
     "text": [
      "[I 2025-02-20 23:15:41,769] Trial 11 finished with value: 0.051080260425806046 and parameters: {'lr': 0.0012063574037730366, 'beta0': 0.6703888071772833, 'beta1': 0.9937492257626248, 'batch_size': 64, 'patience': 20, 'conv_depth': 5}. Best is trial 4 with value: 0.0364944189786911.\n"
     ]
    },
    {
     "name": "stdout",
     "output_type": "stream",
     "text": [
      "Early termination at epoch 122 with best validation metric 0.0352998711168766\n"
     ]
    },
    {
     "name": "stderr",
     "output_type": "stream",
     "text": [
      "[I 2025-02-20 23:17:41,282] Trial 12 finished with value: 0.0352998711168766 and parameters: {'lr': 5.281845643346632e-05, 'beta0': 0.7150525006967121, 'beta1': 0.9948396413158568, 'batch_size': 64, 'patience': 16, 'conv_depth': 3}. Best is trial 12 with value: 0.0352998711168766.\n"
     ]
    },
    {
     "name": "stdout",
     "output_type": "stream",
     "text": [
      "Early termination at epoch 146 with best validation metric 0.039113376289606094\n"
     ]
    },
    {
     "name": "stderr",
     "output_type": "stream",
     "text": [
      "[I 2025-02-20 23:20:03,778] Trial 13 finished with value: 0.039113376289606094 and parameters: {'lr': 4.441279673315895e-05, 'beta0': 0.7583425762812964, 'beta1': 0.9412107260876053, 'batch_size': 64, 'patience': 15, 'conv_depth': 3}. Best is trial 12 with value: 0.0352998711168766.\n"
     ]
    },
    {
     "name": "stdout",
     "output_type": "stream",
     "text": [
      "Early termination at epoch 153 with best validation metric 0.03982893005013466\n"
     ]
    },
    {
     "name": "stderr",
     "output_type": "stream",
     "text": [
      "[I 2025-02-20 23:22:32,998] Trial 14 finished with value: 0.03982893005013466 and parameters: {'lr': 2.187826668204124e-05, 'beta0': 0.7674503158256253, 'beta1': 0.9812671077471163, 'batch_size': 48, 'patience': 15, 'conv_depth': 3}. Best is trial 12 with value: 0.0352998711168766.\n"
     ]
    },
    {
     "name": "stdout",
     "output_type": "stream",
     "text": [
      "Early termination at epoch 78 with best validation metric 0.04549705982208252\n"
     ]
    },
    {
     "name": "stderr",
     "output_type": "stream",
     "text": [
      "[I 2025-02-20 23:23:49,543] Trial 15 finished with value: 0.04549705982208252 and parameters: {'lr': 5.416602106482636e-05, 'beta0': 0.7096180494226023, 'beta1': 0.9484991364299578, 'batch_size': 32, 'patience': 13, 'conv_depth': 3}. Best is trial 12 with value: 0.0352998711168766.\n"
     ]
    },
    {
     "name": "stdout",
     "output_type": "stream",
     "text": [
      "Early termination at epoch 114 with best validation metric 0.04269573464989662\n"
     ]
    },
    {
     "name": "stderr",
     "output_type": "stream",
     "text": [
      "[I 2025-02-20 23:25:51,572] Trial 16 finished with value: 0.04269573464989662 and parameters: {'lr': 0.0002205122975432932, 'beta0': 0.8129061294568871, 'beta1': 0.9318746240366109, 'batch_size': 64, 'patience': 17, 'conv_depth': 4}. Best is trial 12 with value: 0.0352998711168766.\n"
     ]
    },
    {
     "name": "stdout",
     "output_type": "stream",
     "text": [
      "Early termination at epoch 215 with best validation metric 0.034418508410453796\n"
     ]
    },
    {
     "name": "stderr",
     "output_type": "stream",
     "text": [
      "[I 2025-02-20 23:29:21,719] Trial 17 finished with value: 0.034418508410453796 and parameters: {'lr': 2.8536872173972552e-05, 'beta0': 0.6935096430992, 'beta1': 0.9812267530654826, 'batch_size': 48, 'patience': 17, 'conv_depth': 3}. Best is trial 17 with value: 0.034418508410453796.\n"
     ]
    },
    {
     "name": "stdout",
     "output_type": "stream",
     "text": [
      "Early termination at epoch 186 with best validation metric 0.04811987653374672\n"
     ]
    },
    {
     "name": "stderr",
     "output_type": "stream",
     "text": [
      "[I 2025-02-20 23:32:23,293] Trial 18 finished with value: 0.04811987653374672 and parameters: {'lr': 3.1738798731345854e-05, 'beta0': 0.6680961739266084, 'beta1': 0.982359118164712, 'batch_size': 64, 'patience': 17, 'conv_depth': 3}. Best is trial 17 with value: 0.034418508410453796.\n"
     ]
    },
    {
     "name": "stdout",
     "output_type": "stream",
     "text": [
      "Early termination at epoch 90 with best validation metric 0.04277355223894119\n"
     ]
    },
    {
     "name": "stderr",
     "output_type": "stream",
     "text": [
      "[I 2025-02-20 23:33:59,952] Trial 19 finished with value: 0.04277355223894119 and parameters: {'lr': 9.112084128938676e-05, 'beta0': 0.6981848409989485, 'beta1': 0.9860515739916277, 'batch_size': 48, 'patience': 18, 'conv_depth': 4}. Best is trial 17 with value: 0.034418508410453796.\n"
     ]
    },
    {
     "name": "stdout",
     "output_type": "stream",
     "text": [
      "Early termination at epoch 259 with best validation metric 0.04640282317996025\n"
     ]
    },
    {
     "name": "stderr",
     "output_type": "stream",
     "text": [
      "[I 2025-02-20 23:38:13,533] Trial 20 finished with value: 0.04640282317996025 and parameters: {'lr': 1.0055933489914876e-05, 'beta0': 0.636620037974197, 'beta1': 0.9739675344442518, 'batch_size': 32, 'patience': 11, 'conv_depth': 3}. Best is trial 17 with value: 0.034418508410453796.\n"
     ]
    },
    {
     "name": "stdout",
     "output_type": "stream",
     "text": [
      "Early termination at epoch 235 with best validation metric 0.0488818883895874\n"
     ]
    },
    {
     "name": "stderr",
     "output_type": "stream",
     "text": [
      "[I 2025-02-20 23:42:02,909] Trial 21 finished with value: 0.0488818883895874 and parameters: {'lr': 2.843626633619657e-05, 'beta0': 0.7343986246525319, 'beta1': 0.9989166579535809, 'batch_size': 48, 'patience': 14, 'conv_depth': 3}. Best is trial 17 with value: 0.034418508410453796.\n"
     ]
    },
    {
     "name": "stdout",
     "output_type": "stream",
     "text": [
      "Early termination at epoch 104 with best validation metric 0.043470315635204315\n"
     ]
    },
    {
     "name": "stderr",
     "output_type": "stream",
     "text": [
      "[I 2025-02-20 23:43:44,613] Trial 22 finished with value: 0.043470315635204315 and parameters: {'lr': 7.601614646752211e-05, 'beta0': 0.8029134982516699, 'beta1': 0.9890968586504196, 'batch_size': 48, 'patience': 12, 'conv_depth': 3}. Best is trial 17 with value: 0.034418508410453796.\n"
     ]
    },
    {
     "name": "stdout",
     "output_type": "stream",
     "text": [
      "Early termination at epoch 112 with best validation metric 0.04106032848358154\n"
     ]
    },
    {
     "name": "stderr",
     "output_type": "stream",
     "text": [
      "[I 2025-02-20 23:45:34,116] Trial 23 finished with value: 0.04106032848358154 and parameters: {'lr': 0.0001648531759202014, 'beta0': 0.8046780515991195, 'beta1': 0.9529534029482443, 'batch_size': 48, 'patience': 17, 'conv_depth': 3}. Best is trial 17 with value: 0.034418508410453796.\n"
     ]
    },
    {
     "name": "stdout",
     "output_type": "stream",
     "text": [
      "Early termination at epoch 75 with best validation metric 0.0419958159327507\n"
     ]
    },
    {
     "name": "stderr",
     "output_type": "stream",
     "text": [
      "[I 2025-02-20 23:46:47,539] Trial 24 finished with value: 0.0419958159327507 and parameters: {'lr': 0.001407937326605003, 'beta0': 0.7139969496159101, 'beta1': 0.9008823002350344, 'batch_size': 64, 'patience': 18, 'conv_depth': 3}. Best is trial 17 with value: 0.034418508410453796.\n"
     ]
    },
    {
     "name": "stdout",
     "output_type": "stream",
     "text": [
      "Early termination at epoch 46 with best validation metric 0.043041856959462166\n"
     ]
    },
    {
     "name": "stderr",
     "output_type": "stream",
     "text": [
      "[I 2025-02-20 23:47:32,834] Trial 25 finished with value: 0.043041856959462166 and parameters: {'lr': 0.00035131410317955656, 'beta0': 0.6651262955914667, 'beta1': 0.9778124640644215, 'batch_size': 32, 'patience': 13, 'conv_depth': 3}. Best is trial 17 with value: 0.034418508410453796.\n"
     ]
    },
    {
     "name": "stdout",
     "output_type": "stream",
     "text": [
      "Early termination at epoch 141 with best validation metric 0.04698960855603218\n"
     ]
    },
    {
     "name": "stderr",
     "output_type": "stream",
     "text": [
      "[I 2025-02-20 23:50:04,361] Trial 26 finished with value: 0.04698960855603218 and parameters: {'lr': 3.948657823783087e-05, 'beta0': 0.5046483846510211, 'beta1': 0.9230698884741295, 'batch_size': 48, 'patience': 16, 'conv_depth': 4}. Best is trial 17 with value: 0.034418508410453796.\n"
     ]
    },
    {
     "name": "stdout",
     "output_type": "stream",
     "text": [
      "Early termination at epoch 86 with best validation metric 0.04548833519220352\n"
     ]
    },
    {
     "name": "stderr",
     "output_type": "stream",
     "text": [
      "[I 2025-02-20 23:51:28,397] Trial 27 finished with value: 0.04548833519220352 and parameters: {'lr': 0.00013239907693282424, 'beta0': 0.8229467001448154, 'beta1': 0.9656576061373913, 'batch_size': 64, 'patience': 11, 'conv_depth': 3}. Best is trial 17 with value: 0.034418508410453796.\n"
     ]
    },
    {
     "name": "stdout",
     "output_type": "stream",
     "text": [
      "Early termination at epoch 244 with best validation metric 0.03622163087129593\n"
     ]
    },
    {
     "name": "stderr",
     "output_type": "stream",
     "text": [
      "[I 2025-02-20 23:55:49,739] Trial 28 finished with value: 0.03622163087129593 and parameters: {'lr': 2.194868370469496e-05, 'beta0': 0.6287698920142617, 'beta1': 0.9431136740117135, 'batch_size': 48, 'patience': 18, 'conv_depth': 4}. Best is trial 17 with value: 0.034418508410453796.\n"
     ]
    },
    {
     "name": "stdout",
     "output_type": "stream",
     "text": [
      "Early termination at epoch 159 with best validation metric 0.04035564139485359\n"
     ]
    },
    {
     "name": "stderr",
     "output_type": "stream",
     "text": [
      "[I 2025-02-20 23:58:41,805] Trial 29 finished with value: 0.04035564139485359 and parameters: {'lr': 1.9733121447957718e-05, 'beta0': 0.6276706588684509, 'beta1': 0.9515855258519486, 'batch_size': 32, 'patience': 19, 'conv_depth': 4}. Best is trial 17 with value: 0.034418508410453796.\n"
     ]
    },
    {
     "name": "stdout",
     "output_type": "stream",
     "text": [
      "Early termination at epoch 165 with best validation metric 0.041623715311288834\n"
     ]
    },
    {
     "name": "stderr",
     "output_type": "stream",
     "text": [
      "[I 2025-02-21 00:01:38,727] Trial 30 finished with value: 0.041623715311288834 and parameters: {'lr': 2.1861994619019452e-05, 'beta0': 0.6827200092063582, 'beta1': 0.9427313666813982, 'batch_size': 48, 'patience': 18, 'conv_depth': 4}. Best is trial 17 with value: 0.034418508410453796.\n"
     ]
    },
    {
     "name": "stdout",
     "output_type": "stream",
     "text": [
      "Early termination at epoch 110 with best validation metric 0.04723837226629257\n"
     ]
    },
    {
     "name": "stderr",
     "output_type": "stream",
     "text": [
      "[I 2025-02-21 00:03:26,249] Trial 31 finished with value: 0.04723837226629257 and parameters: {'lr': 5.8830213533846906e-05, 'beta0': 0.8997653976350741, 'beta1': 0.9170681602498203, 'batch_size': 48, 'patience': 16, 'conv_depth': 3}. Best is trial 17 with value: 0.034418508410453796.\n"
     ]
    },
    {
     "name": "stdout",
     "output_type": "stream",
     "text": [
      "Early termination at epoch 93 with best validation metric 0.04029255732893944\n"
     ]
    },
    {
     "name": "stderr",
     "output_type": "stream",
     "text": [
      "[I 2025-02-21 00:04:57,136] Trial 32 finished with value: 0.04029255732893944 and parameters: {'lr': 0.000119185012805002, 'beta0': 0.736646016600478, 'beta1': 0.9910407277303527, 'batch_size': 48, 'patience': 14, 'conv_depth': 3}. Best is trial 17 with value: 0.034418508410453796.\n"
     ]
    },
    {
     "name": "stdout",
     "output_type": "stream",
     "text": [
      "Early termination at epoch 208 with best validation metric 0.049823686480522156\n"
     ]
    },
    {
     "name": "stderr",
     "output_type": "stream",
     "text": [
      "[I 2025-02-21 00:08:58,714] Trial 33 finished with value: 0.049823686480522156 and parameters: {'lr': 1.551465750776011e-05, 'beta0': 0.6446764954288792, 'beta1': 0.9307935703679022, 'batch_size': 48, 'patience': 16, 'conv_depth': 5}. Best is trial 17 with value: 0.034418508410453796.\n"
     ]
    },
    {
     "name": "stdout",
     "output_type": "stream",
     "text": [
      "Early termination at epoch 175 with best validation metric 0.03771284222602844\n"
     ]
    },
    {
     "name": "stderr",
     "output_type": "stream",
     "text": [
      "[I 2025-02-21 00:11:49,371] Trial 34 finished with value: 0.03771284222602844 and parameters: {'lr': 2.9729636178004566e-05, 'beta0': 0.602026613583083, 'beta1': 0.9707072148581232, 'batch_size': 48, 'patience': 19, 'conv_depth': 3}. Best is trial 17 with value: 0.034418508410453796.\n"
     ]
    },
    {
     "name": "stdout",
     "output_type": "stream",
     "text": [
      "Early termination at epoch 63 with best validation metric 0.0414503812789917\n"
     ]
    },
    {
     "name": "stderr",
     "output_type": "stream",
     "text": [
      "[I 2025-02-21 00:12:51,028] Trial 35 finished with value: 0.0414503812789917 and parameters: {'lr': 0.00021642995415912663, 'beta0': 0.8349104520549255, 'beta1': 0.9593060729476663, 'batch_size': 64, 'patience': 14, 'conv_depth': 3}. Best is trial 17 with value: 0.034418508410453796.\n"
     ]
    },
    {
     "name": "stdout",
     "output_type": "stream",
     "text": [
      "Early termination at epoch 131 with best validation metric 0.04043324664235115\n"
     ]
    },
    {
     "name": "stderr",
     "output_type": "stream",
     "text": [
      "[I 2025-02-21 00:15:26,206] Trial 36 finished with value: 0.04043324664235115 and parameters: {'lr': 6.324837485187583e-05, 'beta0': 0.7867885942365611, 'beta1': 0.9135541870494287, 'batch_size': 32, 'patience': 19, 'conv_depth': 5}. Best is trial 17 with value: 0.034418508410453796.\n"
     ]
    },
    {
     "name": "stdout",
     "output_type": "stream",
     "text": [
      "Early termination at epoch 149 with best validation metric 0.04549472282330195\n"
     ]
    },
    {
     "name": "stderr",
     "output_type": "stream",
     "text": [
      "[I 2025-02-21 00:18:07,580] Trial 37 finished with value: 0.04549472282330195 and parameters: {'lr': 1.519642899328929e-05, 'beta0': 0.5956834798310511, 'beta1': 0.9257163757399083, 'batch_size': 16, 'patience': 16, 'conv_depth': 4}. Best is trial 17 with value: 0.034418508410453796.\n"
     ]
    },
    {
     "name": "stdout",
     "output_type": "stream",
     "text": [
      "Early termination at epoch 99 with best validation metric 0.04519047960639\n"
     ]
    },
    {
     "name": "stderr",
     "output_type": "stream",
     "text": [
      "[I 2025-02-21 00:19:53,862] Trial 38 finished with value: 0.04519047960639 and parameters: {'lr': 4.0204673743688515e-05, 'beta0': 0.5437476001425967, 'beta1': 0.9590333184706384, 'batch_size': 48, 'patience': 17, 'conv_depth': 4}. Best is trial 17 with value: 0.034418508410453796.\n"
     ]
    },
    {
     "name": "stdout",
     "output_type": "stream",
     "text": [
      "Early termination at epoch 79 with best validation metric 0.04482424631714821\n"
     ]
    },
    {
     "name": "stderr",
     "output_type": "stream",
     "text": [
      "[I 2025-02-21 00:21:11,164] Trial 39 finished with value: 0.04482424631714821 and parameters: {'lr': 9.12449684654239e-05, 'beta0': 0.7339564946127792, 'beta1': 0.9641545787538615, 'batch_size': 64, 'patience': 8, 'conv_depth': 3}. Best is trial 17 with value: 0.034418508410453796.\n"
     ]
    },
    {
     "name": "stdout",
     "output_type": "stream",
     "text": [
      "Early termination at epoch 352 with best validation metric 0.06339017301797867\n"
     ]
    },
    {
     "name": "stderr",
     "output_type": "stream",
     "text": [
      "[I 2025-02-21 00:27:26,997] Trial 40 finished with value: 0.06339017301797867 and parameters: {'lr': 1.0331809551518237e-05, 'beta0': 0.6556692469665121, 'beta1': 0.9448137803102012, 'batch_size': 64, 'patience': 12, 'conv_depth': 4}. Best is trial 17 with value: 0.034418508410453796.\n"
     ]
    },
    {
     "name": "stdout",
     "output_type": "stream",
     "text": [
      "Early termination at epoch 175 with best validation metric 0.03909855708479881\n"
     ]
    },
    {
     "name": "stderr",
     "output_type": "stream",
     "text": [
      "[I 2025-02-21 00:30:17,965] Trial 41 finished with value: 0.03909855708479881 and parameters: {'lr': 3.071036624657985e-05, 'beta0': 0.6048642195523516, 'beta1': 0.9730722505939264, 'batch_size': 48, 'patience': 19, 'conv_depth': 3}. Best is trial 17 with value: 0.034418508410453796.\n"
     ]
    },
    {
     "name": "stdout",
     "output_type": "stream",
     "text": [
      "Early termination at epoch 217 with best validation metric 0.042515214532613754\n"
     ]
    },
    {
     "name": "stderr",
     "output_type": "stream",
     "text": [
      "[I 2025-02-21 00:33:49,638] Trial 42 finished with value: 0.042515214532613754 and parameters: {'lr': 2.303145684445403e-05, 'beta0': 0.5584846570294197, 'beta1': 0.9840444355787518, 'batch_size': 48, 'patience': 18, 'conv_depth': 3}. Best is trial 17 with value: 0.034418508410453796.\n"
     ]
    },
    {
     "name": "stdout",
     "output_type": "stream",
     "text": [
      "Early termination at epoch 137 with best validation metric 0.0415053516626358\n"
     ]
    },
    {
     "name": "stderr",
     "output_type": "stream",
     "text": [
      "[I 2025-02-21 00:36:03,280] Trial 43 finished with value: 0.0415053516626358 and parameters: {'lr': 4.328621196135693e-05, 'beta0': 0.6157685545352537, 'beta1': 0.9697824221019411, 'batch_size': 48, 'patience': 19, 'conv_depth': 3}. Best is trial 17 with value: 0.034418508410453796.\n"
     ]
    },
    {
     "name": "stdout",
     "output_type": "stream",
     "text": [
      "Early termination at epoch 58 with best validation metric 0.033537473529577255\n"
     ]
    },
    {
     "name": "stderr",
     "output_type": "stream",
     "text": [
      "[I 2025-02-21 00:37:00,530] Trial 44 finished with value: 0.033537473529577255 and parameters: {'lr': 0.0007831057009505531, 'beta0': 0.5805761050715783, 'beta1': 0.9795631535158718, 'batch_size': 32, 'patience': 20, 'conv_depth': 3}. Best is trial 44 with value: 0.033537473529577255.\n"
     ]
    },
    {
     "name": "stdout",
     "output_type": "stream",
     "text": [
      "Early termination at epoch 57 with best validation metric 0.026197060011327267\n"
     ]
    },
    {
     "name": "stderr",
     "output_type": "stream",
     "text": [
      "[I 2025-02-21 00:38:08,621] Trial 45 finished with value: 0.026197060011327267 and parameters: {'lr': 0.0013174765068724348, 'beta0': 0.5806647325859121, 'beta1': 0.9942273868270526, 'batch_size': 32, 'patience': 20, 'conv_depth': 5}. Best is trial 45 with value: 0.026197060011327267.\n"
     ]
    },
    {
     "name": "stdout",
     "output_type": "stream",
     "text": [
      "Early termination at epoch 69 with best validation metric 0.04146161675453186\n"
     ]
    },
    {
     "name": "stderr",
     "output_type": "stream",
     "text": [
      "[I 2025-02-21 00:39:30,748] Trial 46 finished with value: 0.04146161675453186 and parameters: {'lr': 0.0016353534841541547, 'beta0': 0.5087566059280533, 'beta1': 0.992668734643753, 'batch_size': 32, 'patience': 20, 'conv_depth': 5}. Best is trial 45 with value: 0.026197060011327267.\n"
     ]
    },
    {
     "name": "stdout",
     "output_type": "stream",
     "text": [
      "Early termination at epoch 55 with best validation metric 0.04139135964214802\n"
     ]
    },
    {
     "name": "stderr",
     "output_type": "stream",
     "text": [
      "[I 2025-02-21 00:40:36,498] Trial 47 finished with value: 0.04139135964214802 and parameters: {'lr': 0.000933022420765376, 'beta0': 0.579932795277502, 'beta1': 0.978888684776435, 'batch_size': 32, 'patience': 20, 'conv_depth': 5}. Best is trial 45 with value: 0.026197060011327267.\n"
     ]
    },
    {
     "name": "stdout",
     "output_type": "stream",
     "text": [
      "Early termination at epoch 71 with best validation metric 0.048616728434960045\n"
     ]
    },
    {
     "name": "stderr",
     "output_type": "stream",
     "text": [
      "[I 2025-02-21 00:42:02,214] Trial 48 finished with value: 0.048616728434960045 and parameters: {'lr': 0.002429517871662959, 'beta0': 0.5358310806631744, 'beta1': 0.998736903632584, 'batch_size': 16, 'patience': 20, 'conv_depth': 5}. Best is trial 45 with value: 0.026197060011327267.\n"
     ]
    },
    {
     "name": "stdout",
     "output_type": "stream",
     "text": [
      "Early termination at epoch 51 with best validation metric 0.043213958851993084\n"
     ]
    },
    {
     "name": "stderr",
     "output_type": "stream",
     "text": [
      "[I 2025-02-21 00:42:57,618] Trial 49 finished with value: 0.043213958851993084 and parameters: {'lr': 0.0046329548760061495, 'beta0': 0.6939596090319781, 'beta1': 0.9881937868289065, 'batch_size': 32, 'patience': 18, 'conv_depth': 4}. Best is trial 45 with value: 0.026197060011327267.\n"
     ]
    },
    {
     "name": "stdout",
     "output_type": "stream",
     "text": [
      "Best trial for channel OrigMito:\n",
      "  Validation Loss: 0.026197060011327267\n",
      "  Hyperparameters: {'lr': 0.0013174765068724348, 'beta0': 0.5806647325859121, 'beta1': 0.9942273868270526, 'batch_size': 32, 'patience': 20, 'conv_depth': 5}\n"
     ]
    },
    {
     "name": "stderr",
     "output_type": "stream",
     "text": [
      "[I 2025-02-21 00:42:58,090] A new study created in memory with name: FNet_optimize_OrigRNA_low_confluence\n"
     ]
    },
    {
     "name": "stdout",
     "output_type": "stream",
     "text": [
      "Beginning optimization for channel: OrigRNA for low_confluence\n",
      "Early termination at epoch 98 with best validation metric 0.011307488195598125\n"
     ]
    },
    {
     "name": "stderr",
     "output_type": "stream",
     "text": [
      "[I 2025-02-21 00:44:33,816] Trial 0 finished with value: 0.011307488195598125 and parameters: {'lr': 0.0001329291894316216, 'beta0': 0.8802857225639664, 'beta1': 0.9724674002393291, 'batch_size': 48, 'patience': 7, 'conv_depth': 3}. Best is trial 0 with value: 0.011307488195598125.\n"
     ]
    },
    {
     "name": "stdout",
     "output_type": "stream",
     "text": [
      "Early termination at epoch 6 with best validation metric 0.25261226296424866\n"
     ]
    },
    {
     "name": "stderr",
     "output_type": "stream",
     "text": [
      "[I 2025-02-21 00:44:41,487] Trial 1 finished with value: 0.25261226296424866 and parameters: {'lr': 1.493656855461762e-05, 'beta0': 0.846470458309974, 'beta1': 0.9595103861625777, 'batch_size': 48, 'patience': 5, 'conv_depth': 5}. Best is trial 0 with value: 0.011307488195598125.\n"
     ]
    },
    {
     "name": "stdout",
     "output_type": "stream",
     "text": [
      "Early termination at epoch 24 with best validation metric 0.019107266639669735\n"
     ]
    },
    {
     "name": "stderr",
     "output_type": "stream",
     "text": [
      "[I 2025-02-21 00:45:07,739] Trial 2 finished with value: 0.019107266639669735 and parameters: {'lr': 0.00314288089084011, 'beta0': 0.5849356442713105, 'beta1': 0.918000671753503, 'batch_size': 16, 'patience': 9, 'conv_depth': 4}. Best is trial 0 with value: 0.011307488195598125.\n"
     ]
    },
    {
     "name": "stdout",
     "output_type": "stream",
     "text": [
      "Early termination at epoch 51 with best validation metric 0.00995242844025294\n"
     ]
    },
    {
     "name": "stderr",
     "output_type": "stream",
     "text": [
      "[I 2025-02-21 00:46:03,009] Trial 3 finished with value: 0.00995242844025294 and parameters: {'lr': 0.00019762189340280086, 'beta0': 0.6164916560792167, 'beta1': 0.9605734365775156, 'batch_size': 16, 'patience': 9, 'conv_depth': 4}. Best is trial 3 with value: 0.00995242844025294.\n"
     ]
    },
    {
     "name": "stdout",
     "output_type": "stream",
     "text": [
      "Early termination at epoch 79 with best validation metric 0.008959959261119366\n"
     ]
    },
    {
     "name": "stderr",
     "output_type": "stream",
     "text": [
      "[I 2025-02-21 00:47:20,168] Trial 4 finished with value: 0.008959959261119366 and parameters: {'lr': 0.00023345864076016249, 'beta0': 0.8140703845572055, 'beta1': 0.9197677044336776, 'batch_size': 48, 'patience': 14, 'conv_depth': 3}. Best is trial 4 with value: 0.008959959261119366.\n"
     ]
    },
    {
     "name": "stdout",
     "output_type": "stream",
     "text": [
      "Early termination at epoch 79 with best validation metric 0.011038904078304768\n"
     ]
    },
    {
     "name": "stderr",
     "output_type": "stream",
     "text": [
      "[I 2025-02-21 00:48:51,690] Trial 5 finished with value: 0.011038904078304768 and parameters: {'lr': 0.0006647135865318024, 'beta0': 0.5682096494749166, 'beta1': 0.9064401077055427, 'batch_size': 64, 'patience': 20, 'conv_depth': 5}. Best is trial 4 with value: 0.008959959261119366.\n"
     ]
    },
    {
     "name": "stdout",
     "output_type": "stream",
     "text": [
      "Early termination at epoch 79 with best validation metric 0.01315411739051342\n"
     ]
    },
    {
     "name": "stderr",
     "output_type": "stream",
     "text": [
      "[I 2025-02-21 00:50:17,191] Trial 6 finished with value: 0.01315411739051342 and parameters: {'lr': 8.200518402245828e-05, 'beta0': 0.5390688456025535, 'beta1': 0.9677390696247036, 'batch_size': 32, 'patience': 6, 'conv_depth': 4}. Best is trial 4 with value: 0.008959959261119366.\n"
     ]
    },
    {
     "name": "stdout",
     "output_type": "stream",
     "text": [
      "Early termination at epoch 649 with best validation metric 0.01069862674921751\n"
     ]
    },
    {
     "name": "stderr",
     "output_type": "stream",
     "text": [
      "[I 2025-02-21 01:01:52,129] Trial 7 finished with value: 0.01069862674921751 and parameters: {'lr': 1.2681352169084594e-05, 'beta0': 0.8637281608315128, 'beta1': 0.9256192181784016, 'batch_size': 48, 'patience': 9, 'conv_depth': 4}. Best is trial 4 with value: 0.008959959261119366.\n"
     ]
    },
    {
     "name": "stdout",
     "output_type": "stream",
     "text": [
      "Early termination at epoch 79 with best validation metric 0.011044906452298164\n"
     ]
    },
    {
     "name": "stderr",
     "output_type": "stream",
     "text": [
      "[I 2025-02-21 01:03:23,700] Trial 8 finished with value: 0.011044906452298164 and parameters: {'lr': 0.00043664735929796326, 'beta0': 0.5739417822102109, 'beta1': 0.9959888781486913, 'batch_size': 64, 'patience': 20, 'conv_depth': 5}. Best is trial 4 with value: 0.008959959261119366.\n"
     ]
    },
    {
     "name": "stdout",
     "output_type": "stream",
     "text": [
      "Early termination at epoch 8 with best validation metric 0.06344013661146164\n"
     ]
    },
    {
     "name": "stderr",
     "output_type": "stream",
     "text": [
      "[I 2025-02-21 01:03:31,761] Trial 9 finished with value: 0.06344013661146164 and parameters: {'lr': 0.0006218704727769079, 'beta0': 0.8687496940092467, 'beta1': 0.90876075770314, 'batch_size': 16, 'patience': 5, 'conv_depth': 3}. Best is trial 4 with value: 0.008959959261119366.\n"
     ]
    },
    {
     "name": "stdout",
     "output_type": "stream",
     "text": [
      "Early termination at epoch 28 with best validation metric 0.029924352653324604\n"
     ]
    },
    {
     "name": "stderr",
     "output_type": "stream",
     "text": [
      "[I 2025-02-21 01:03:59,388] Trial 10 finished with value: 0.029924352653324604 and parameters: {'lr': 0.0068455702672729195, 'beta0': 0.7699188271527112, 'beta1': 0.9365041484993887, 'batch_size': 32, 'patience': 15, 'conv_depth': 3}. Best is trial 4 with value: 0.008959959261119366.\n"
     ]
    },
    {
     "name": "stdout",
     "output_type": "stream",
     "text": [
      "Early termination at epoch 90 with best validation metric 0.008683084975928068\n"
     ]
    },
    {
     "name": "stderr",
     "output_type": "stream",
     "text": [
      "[I 2025-02-21 01:05:27,623] Trial 11 finished with value: 0.008683084975928068 and parameters: {'lr': 8.269220336409842e-05, 'beta0': 0.656981156841053, 'beta1': 0.9400850377053419, 'batch_size': 32, 'patience': 13, 'conv_depth': 3}. Best is trial 11 with value: 0.008683084975928068.\n"
     ]
    },
    {
     "name": "stdout",
     "output_type": "stream",
     "text": [
      "Early termination at epoch 164 with best validation metric 0.010249760001897812\n"
     ]
    },
    {
     "name": "stderr",
     "output_type": "stream",
     "text": [
      "[I 2025-02-21 01:08:08,174] Trial 12 finished with value: 0.010249760001897812 and parameters: {'lr': 4.373131801271045e-05, 'beta0': 0.6838980572599914, 'beta1': 0.9339090833800379, 'batch_size': 32, 'patience': 14, 'conv_depth': 3}. Best is trial 11 with value: 0.008683084975928068.\n"
     ]
    },
    {
     "name": "stdout",
     "output_type": "stream",
     "text": [
      "Early termination at epoch 227 with best validation metric 0.012150845490396023\n"
     ]
    },
    {
     "name": "stderr",
     "output_type": "stream",
     "text": [
      "[I 2025-02-21 01:11:49,716] Trial 13 finished with value: 0.012150845490396023 and parameters: {'lr': 4.441279673315895e-05, 'beta0': 0.7237971285026253, 'beta1': 0.9467858994451713, 'batch_size': 48, 'patience': 17, 'conv_depth': 3}. Best is trial 11 with value: 0.008683084975928068.\n"
     ]
    },
    {
     "name": "stdout",
     "output_type": "stream",
     "text": [
      "Early termination at epoch 13 with best validation metric 0.07101986557245255\n"
     ]
    },
    {
     "name": "stderr",
     "output_type": "stream",
     "text": [
      "[I 2025-02-21 01:12:02,761] Trial 14 finished with value: 0.07101986557245255 and parameters: {'lr': 0.0012690764532532696, 'beta0': 0.6651456263915391, 'beta1': 0.945424706875257, 'batch_size': 32, 'patience': 12, 'conv_depth': 3}. Best is trial 11 with value: 0.008683084975928068.\n"
     ]
    },
    {
     "name": "stdout",
     "output_type": "stream",
     "text": [
      "Early termination at epoch 220 with best validation metric 0.012173879891633987\n"
     ]
    },
    {
     "name": "stderr",
     "output_type": "stream",
     "text": [
      "[I 2025-02-21 01:15:57,869] Trial 15 finished with value: 0.012173879891633987 and parameters: {'lr': 5.3009284579253595e-05, 'beta0': 0.8054622236713855, 'beta1': 0.9201581507358216, 'batch_size': 64, 'patience': 12, 'conv_depth': 4}. Best is trial 11 with value: 0.008683084975928068.\n"
     ]
    },
    {
     "name": "stdout",
     "output_type": "stream",
     "text": [
      "Early termination at epoch 94 with best validation metric 0.007802309934049845\n"
     ]
    },
    {
     "name": "stderr",
     "output_type": "stream",
     "text": [
      "[I 2025-02-21 01:17:29,726] Trial 16 finished with value: 0.007802309934049845 and parameters: {'lr': 0.0002205122975432932, 'beta0': 0.745101454578926, 'beta1': 0.9287199644501165, 'batch_size': 48, 'patience': 17, 'conv_depth': 3}. Best is trial 16 with value: 0.007802309934049845.\n"
     ]
    },
    {
     "name": "stdout",
     "output_type": "stream",
     "text": [
      "Early termination at epoch 52 with best validation metric 0.013261477928608656\n"
     ]
    },
    {
     "name": "stderr",
     "output_type": "stream",
     "text": [
      "[I 2025-02-21 01:18:20,837] Trial 17 finished with value: 0.013261477928608656 and parameters: {'lr': 0.0012686702206849189, 'beta0': 0.7351582805538555, 'beta1': 0.9347361955912962, 'batch_size': 32, 'patience': 17, 'conv_depth': 3}. Best is trial 16 with value: 0.007802309934049845.\n"
     ]
    },
    {
     "name": "stdout",
     "output_type": "stream",
     "text": [
      "Early termination at epoch 428 with best validation metric 0.009975201450288296\n"
     ]
    },
    {
     "name": "stderr",
     "output_type": "stream",
     "text": [
      "[I 2025-02-21 01:25:17,966] Trial 18 finished with value: 0.009975201450288296 and parameters: {'lr': 2.418092849725909e-05, 'beta0': 0.6406086632532847, 'beta1': 0.9807890258252944, 'batch_size': 48, 'patience': 17, 'conv_depth': 3}. Best is trial 16 with value: 0.007802309934049845.\n"
     ]
    },
    {
     "name": "stdout",
     "output_type": "stream",
     "text": [
      "Early termination at epoch 91 with best validation metric 0.01409459998831153\n"
     ]
    },
    {
     "name": "stderr",
     "output_type": "stream",
     "text": [
      "[I 2025-02-21 01:26:56,393] Trial 19 finished with value: 0.01409459998831153 and parameters: {'lr': 0.00010203994906897142, 'beta0': 0.5083654265933615, 'beta1': 0.9001435516976282, 'batch_size': 32, 'patience': 18, 'conv_depth': 4}. Best is trial 16 with value: 0.007802309934049845.\n"
     ]
    },
    {
     "name": "stdout",
     "output_type": "stream",
     "text": [
      "Early termination at epoch 33 with best validation metric 0.009343120579918226\n"
     ]
    },
    {
     "name": "stderr",
     "output_type": "stream",
     "text": [
      "[I 2025-02-21 01:27:32,303] Trial 20 finished with value: 0.009343120579918226 and parameters: {'lr': 0.00025448194297104373, 'beta0': 0.7455900962144065, 'beta1': 0.9527858166390952, 'batch_size': 16, 'patience': 11, 'conv_depth': 4}. Best is trial 16 with value: 0.007802309934049845.\n"
     ]
    },
    {
     "name": "stdout",
     "output_type": "stream",
     "text": [
      "Early termination at epoch 80 with best validation metric 0.008432974107563496\n"
     ]
    },
    {
     "name": "stderr",
     "output_type": "stream",
     "text": [
      "[I 2025-02-21 01:28:50,662] Trial 21 finished with value: 0.008432974107563496 and parameters: {'lr': 0.00018215726905706296, 'beta0': 0.7998435694053583, 'beta1': 0.9258780644274724, 'batch_size': 48, 'patience': 14, 'conv_depth': 3}. Best is trial 16 with value: 0.007802309934049845.\n"
     ]
    },
    {
     "name": "stdout",
     "output_type": "stream",
     "text": [
      "Early termination at epoch 92 with best validation metric 0.010557131841778755\n"
     ]
    },
    {
     "name": "stderr",
     "output_type": "stream",
     "text": [
      "[I 2025-02-21 01:30:20,743] Trial 22 finished with value: 0.010557131841778755 and parameters: {'lr': 0.0001441905068954889, 'beta0': 0.7782245728412979, 'beta1': 0.9297653211909639, 'batch_size': 48, 'patience': 15, 'conv_depth': 3}. Best is trial 16 with value: 0.007802309934049845.\n"
     ]
    },
    {
     "name": "stdout",
     "output_type": "stream",
     "text": [
      "Early termination at epoch 37 with best validation metric 0.06466380506753922\n"
     ]
    },
    {
     "name": "stderr",
     "output_type": "stream",
     "text": [
      "[I 2025-02-21 01:30:57,057] Trial 23 finished with value: 0.06466380506753922 and parameters: {'lr': 0.0003890549486242303, 'beta0': 0.7022342573302668, 'beta1': 0.9396773705490457, 'batch_size': 64, 'patience': 14, 'conv_depth': 3}. Best is trial 16 with value: 0.007802309934049845.\n"
     ]
    },
    {
     "name": "stdout",
     "output_type": "stream",
     "text": [
      "Early termination at epoch 150 with best validation metric 0.012680035084486008\n"
     ]
    },
    {
     "name": "stderr",
     "output_type": "stream",
     "text": [
      "[I 2025-02-21 01:33:23,677] Trial 24 finished with value: 0.012680035084486008 and parameters: {'lr': 7.677867799226251e-05, 'beta0': 0.8217934233116063, 'beta1': 0.9257393011272974, 'batch_size': 48, 'patience': 16, 'conv_depth': 3}. Best is trial 16 with value: 0.007802309934049845.\n"
     ]
    },
    {
     "name": "stdout",
     "output_type": "stream",
     "text": [
      "Early termination at epoch 228 with best validation metric 0.008874312974512577\n"
     ]
    },
    {
     "name": "stderr",
     "output_type": "stream",
     "text": [
      "[I 2025-02-21 01:37:06,972] Trial 25 finished with value: 0.008874312974512577 and parameters: {'lr': 2.5233118858941546e-05, 'beta0': 0.7625366397880535, 'beta1': 0.9130901922148343, 'batch_size': 32, 'patience': 11, 'conv_depth': 3}. Best is trial 16 with value: 0.007802309934049845.\n"
     ]
    },
    {
     "name": "stdout",
     "output_type": "stream",
     "text": [
      "Early termination at epoch 55 with best validation metric 0.012413818389177322\n"
     ]
    },
    {
     "name": "stderr",
     "output_type": "stream",
     "text": [
      "[I 2025-02-21 01:38:00,962] Trial 26 finished with value: 0.012413818389177322 and parameters: {'lr': 0.0009850460028734158, 'beta0': 0.644997559831217, 'beta1': 0.9427736245676911, 'batch_size': 48, 'patience': 13, 'conv_depth': 3}. Best is trial 16 with value: 0.007802309934049845.\n"
     ]
    },
    {
     "name": "stdout",
     "output_type": "stream",
     "text": [
      "Early termination at epoch 83 with best validation metric 0.010713557712733746\n"
     ]
    },
    {
     "name": "stderr",
     "output_type": "stream",
     "text": [
      "[I 2025-02-21 01:39:29,898] Trial 27 finished with value: 0.010713557712733746 and parameters: {'lr': 0.00017872767137777908, 'beta0': 0.7096183749033755, 'beta1': 0.9525860540187855, 'batch_size': 64, 'patience': 16, 'conv_depth': 4}. Best is trial 16 with value: 0.007802309934049845.\n"
     ]
    },
    {
     "name": "stdout",
     "output_type": "stream",
     "text": [
      "Early termination at epoch 64 with best validation metric 0.009969639591872692\n"
     ]
    },
    {
     "name": "stderr",
     "output_type": "stream",
     "text": [
      "[I 2025-02-21 01:40:32,767] Trial 28 finished with value: 0.009969639591872692 and parameters: {'lr': 0.00031420810203848217, 'beta0': 0.6765235748974956, 'beta1': 0.9293451786667039, 'batch_size': 32, 'patience': 18, 'conv_depth': 3}. Best is trial 16 with value: 0.007802309934049845.\n"
     ]
    },
    {
     "name": "stdout",
     "output_type": "stream",
     "text": [
      "Early termination at epoch 124 with best validation metric 0.010101620107889175\n"
     ]
    },
    {
     "name": "stderr",
     "output_type": "stream",
     "text": [
      "[I 2025-02-21 01:42:33,986] Trial 29 finished with value: 0.010101620107889175 and parameters: {'lr': 0.00011977538577427107, 'beta0': 0.8989879313923892, 'beta1': 0.98052832829834, 'batch_size': 48, 'patience': 19, 'conv_depth': 3}. Best is trial 16 with value: 0.007802309934049845.\n"
     ]
    },
    {
     "name": "stdout",
     "output_type": "stream",
     "text": [
      "Early termination at epoch 34 with best validation metric 0.017479518428444862\n"
     ]
    },
    {
     "name": "stderr",
     "output_type": "stream",
     "text": [
      "[I 2025-02-21 01:43:07,490] Trial 30 finished with value: 0.017479518428444862 and parameters: {'lr': 0.0026070604931289054, 'beta0': 0.7966688135417409, 'beta1': 0.9137154859417325, 'batch_size': 48, 'patience': 10, 'conv_depth': 3}. Best is trial 16 with value: 0.007802309934049845.\n"
     ]
    },
    {
     "name": "stdout",
     "output_type": "stream",
     "text": [
      "Early termination at epoch 190 with best validation metric 0.012277780566364527\n"
     ]
    },
    {
     "name": "stderr",
     "output_type": "stream",
     "text": [
      "[I 2025-02-21 01:46:13,440] Trial 31 finished with value: 0.012277780566364527 and parameters: {'lr': 3.3869929775781456e-05, 'beta0': 0.7553794698106955, 'beta1': 0.9117255489828906, 'batch_size': 32, 'patience': 11, 'conv_depth': 3}. Best is trial 16 with value: 0.007802309934049845.\n"
     ]
    },
    {
     "name": "stdout",
     "output_type": "stream",
     "text": [
      "Early termination at epoch 251 with best validation metric 0.011746105272322893\n"
     ]
    },
    {
     "name": "stderr",
     "output_type": "stream",
     "text": [
      "[I 2025-02-21 01:50:19,117] Trial 32 finished with value: 0.011746105272322893 and parameters: {'lr': 1.93022310018332e-05, 'beta0': 0.8443906755934991, 'beta1': 0.9017571266694402, 'batch_size': 32, 'patience': 13, 'conv_depth': 3}. Best is trial 16 with value: 0.007802309934049845.\n"
     ]
    },
    {
     "name": "stdout",
     "output_type": "stream",
     "text": [
      "Early termination at epoch 118 with best validation metric 0.007915196940302849\n"
     ]
    },
    {
     "name": "stderr",
     "output_type": "stream",
     "text": [
      "[I 2025-02-21 01:52:14,859] Trial 33 finished with value: 0.007915196940302849 and parameters: {'lr': 6.851020285017313e-05, 'beta0': 0.7748302646833588, 'beta1': 0.923774155969293, 'batch_size': 32, 'patience': 11, 'conv_depth': 3}. Best is trial 16 with value: 0.007802309934049845.\n"
     ]
    },
    {
     "name": "stdout",
     "output_type": "stream",
     "text": [
      "Early termination at epoch 62 with best validation metric 0.01128405953447024\n"
     ]
    },
    {
     "name": "stderr",
     "output_type": "stream",
     "text": [
      "[I 2025-02-21 01:53:15,144] Trial 34 finished with value: 0.01128405953447024 and parameters: {'lr': 6.824691451864732e-05, 'beta0': 0.7852710145260194, 'beta1': 0.9249567455625556, 'batch_size': 16, 'patience': 8, 'conv_depth': 3}. Best is trial 16 with value: 0.007802309934049845.\n"
     ]
    },
    {
     "name": "stdout",
     "output_type": "stream",
     "text": [
      "Early termination at epoch 80 with best validation metric 0.010950434021651745\n"
     ]
    },
    {
     "name": "stderr",
     "output_type": "stream",
     "text": [
      "[I 2025-02-21 01:54:33,545] Trial 35 finished with value: 0.010950434021651745 and parameters: {'lr': 0.0001414811763452695, 'beta0': 0.620110277360008, 'beta1': 0.9199912631260243, 'batch_size': 48, 'patience': 15, 'conv_depth': 3}. Best is trial 16 with value: 0.007802309934049845.\n"
     ]
    },
    {
     "name": "stdout",
     "output_type": "stream",
     "text": [
      "Early termination at epoch 90 with best validation metric 0.012080584652721882\n"
     ]
    },
    {
     "name": "stderr",
     "output_type": "stream",
     "text": [
      "[I 2025-02-21 01:56:10,930] Trial 36 finished with value: 0.012080584652721882 and parameters: {'lr': 9.915487315730385e-05, 'beta0': 0.8285976658241543, 'beta1': 0.9397700704458206, 'batch_size': 32, 'patience': 13, 'conv_depth': 4}. Best is trial 16 with value: 0.007802309934049845.\n"
     ]
    },
    {
     "name": "stdout",
     "output_type": "stream",
     "text": [
      "Early termination at epoch 54 with best validation metric 0.01405024342238903\n"
     ]
    },
    {
     "name": "stderr",
     "output_type": "stream",
     "text": [
      "[I 2025-02-21 01:57:14,242] Trial 37 finished with value: 0.01405024342238903 and parameters: {'lr': 0.00023190736770244887, 'beta0': 0.7182825981193973, 'beta1': 0.9310602025856561, 'batch_size': 48, 'patience': 10, 'conv_depth': 5}. Best is trial 16 with value: 0.007802309934049845.\n"
     ]
    },
    {
     "name": "stdout",
     "output_type": "stream",
     "text": [
      "Early termination at epoch 87 with best validation metric 0.010937366634607315\n"
     ]
    },
    {
     "name": "stderr",
     "output_type": "stream",
     "text": [
      "[I 2025-02-21 01:58:38,623] Trial 38 finished with value: 0.010937366634607315 and parameters: {'lr': 0.0001674929381326739, 'beta0': 0.845272712481826, 'beta1': 0.9590012903674937, 'batch_size': 16, 'patience': 12, 'conv_depth': 3}. Best is trial 16 with value: 0.007802309934049845.\n"
     ]
    },
    {
     "name": "stdout",
     "output_type": "stream",
     "text": [
      "Early termination at epoch 8 with best validation metric 0.3239539861679077\n"
     ]
    },
    {
     "name": "stderr",
     "output_type": "stream",
     "text": [
      "[I 2025-02-21 01:58:47,574] Trial 39 finished with value: 0.3239539861679077 and parameters: {'lr': 6.224413007004888e-05, 'beta0': 0.6017882423461942, 'beta1': 0.9237046929533669, 'batch_size': 48, 'patience': 7, 'conv_depth': 4}. Best is trial 16 with value: 0.007802309934049845.\n"
     ]
    },
    {
     "name": "stdout",
     "output_type": "stream",
     "text": [
      "Early termination at epoch 28 with best validation metric 0.015256139915436506\n"
     ]
    },
    {
     "name": "stderr",
     "output_type": "stream",
     "text": [
      "[I 2025-02-21 01:59:15,263] Trial 40 finished with value: 0.015256139915436506 and parameters: {'lr': 0.00050398071507233, 'beta0': 0.6908476557097549, 'beta1': 0.9511802170018686, 'batch_size': 32, 'patience': 10, 'conv_depth': 3}. Best is trial 16 with value: 0.007802309934049845.\n"
     ]
    },
    {
     "name": "stdout",
     "output_type": "stream",
     "text": [
      "Early termination at epoch 195 with best validation metric 0.010282501578330994\n"
     ]
    },
    {
     "name": "stderr",
     "output_type": "stream",
     "text": [
      "[I 2025-02-21 02:02:26,345] Trial 41 finished with value: 0.010282501578330994 and parameters: {'lr': 2.414116296414883e-05, 'beta0': 0.7657277616447723, 'beta1': 0.9148554312795505, 'batch_size': 32, 'patience': 11, 'conv_depth': 3}. Best is trial 16 with value: 0.007802309934049845.\n"
     ]
    },
    {
     "name": "stdout",
     "output_type": "stream",
     "text": [
      "Early termination at epoch 176 with best validation metric 0.008256370667368174\n"
     ]
    },
    {
     "name": "stderr",
     "output_type": "stream",
     "text": [
      "[I 2025-02-21 02:05:18,941] Trial 42 finished with value: 0.008256370667368174 and parameters: {'lr': 3.3792717726412656e-05, 'beta0': 0.7465782368697589, 'beta1': 0.9072265915052313, 'batch_size': 32, 'patience': 9, 'conv_depth': 3}. Best is trial 16 with value: 0.007802309934049845.\n"
     ]
    },
    {
     "name": "stdout",
     "output_type": "stream",
     "text": [
      "Early termination at epoch 10 with best validation metric 0.44712211191654205\n"
     ]
    },
    {
     "name": "stderr",
     "output_type": "stream",
     "text": [
      "[I 2025-02-21 02:05:29,083] Trial 43 finished with value: 0.44712211191654205 and parameters: {'lr': 1.1555256204260661e-05, 'beta0': 0.7314276998752599, 'beta1': 0.9046023366413439, 'batch_size': 32, 'patience': 9, 'conv_depth': 3}. Best is trial 16 with value: 0.007802309934049845.\n"
     ]
    },
    {
     "name": "stdout",
     "output_type": "stream",
     "text": [
      "Early termination at epoch 142 with best validation metric 0.011307931039482355\n"
     ]
    },
    {
     "name": "stderr",
     "output_type": "stream",
     "text": [
      "[I 2025-02-21 02:07:48,329] Trial 44 finished with value: 0.011307931039482355 and parameters: {'lr': 3.8153949885643794e-05, 'beta0': 0.7948691449846986, 'beta1': 0.9079313059971414, 'batch_size': 32, 'patience': 8, 'conv_depth': 3}. Best is trial 16 with value: 0.007802309934049845.\n"
     ]
    },
    {
     "name": "stdout",
     "output_type": "stream",
     "text": [
      "Early termination at epoch 368 with best validation metric 0.014149576425552368\n"
     ]
    },
    {
     "name": "stderr",
     "output_type": "stream",
     "text": [
      "[I 2025-02-21 02:13:47,165] Trial 45 finished with value: 0.014149576425552368 and parameters: {'lr': 1.7128683608578842e-05, 'beta0': 0.7490155544735456, 'beta1': 0.9177451613846426, 'batch_size': 48, 'patience': 8, 'conv_depth': 3}. Best is trial 16 with value: 0.007802309934049845.\n"
     ]
    },
    {
     "name": "stdout",
     "output_type": "stream",
     "text": [
      "Early termination at epoch 78 with best validation metric 0.007608745014294982\n"
     ]
    },
    {
     "name": "stderr",
     "output_type": "stream",
     "text": [
      "[I 2025-02-21 02:15:11,555] Trial 46 finished with value: 0.007608745014294982 and parameters: {'lr': 8.683717750721345e-05, 'beta0': 0.6513543410289212, 'beta1': 0.9353240725137701, 'batch_size': 16, 'patience': 14, 'conv_depth': 4}. Best is trial 46 with value: 0.007608745014294982.\n"
     ]
    },
    {
     "name": "stdout",
     "output_type": "stream",
     "text": [
      "Early termination at epoch 111 with best validation metric 0.009648630395531654\n"
     ]
    },
    {
     "name": "stderr",
     "output_type": "stream",
     "text": [
      "[I 2025-02-21 02:17:25,138] Trial 47 finished with value: 0.009648630395531654 and parameters: {'lr': 3.409219911318886e-05, 'beta0': 0.8120284237765668, 'beta1': 0.9231513121020677, 'batch_size': 16, 'patience': 14, 'conv_depth': 5}. Best is trial 46 with value: 0.007608745014294982.\n"
     ]
    },
    {
     "name": "stdout",
     "output_type": "stream",
     "text": [
      "Early termination at epoch 85 with best validation metric 0.008079479836548368\n"
     ]
    },
    {
     "name": "stderr",
     "output_type": "stream",
     "text": [
      "[I 2025-02-21 02:18:57,053] Trial 48 finished with value: 0.008079479836548368 and parameters: {'lr': 0.00033198967374893103, 'beta0': 0.7783547221751052, 'beta1': 0.9332292552852137, 'batch_size': 16, 'patience': 16, 'conv_depth': 4}. Best is trial 46 with value: 0.007608745014294982.\n"
     ]
    },
    {
     "name": "stdout",
     "output_type": "stream",
     "text": [
      "Early termination at epoch 91 with best validation metric 0.01106931579609712\n"
     ]
    },
    {
     "name": "stderr",
     "output_type": "stream",
     "text": [
      "[I 2025-02-21 02:20:35,424] Trial 49 finished with value: 0.01106931579609712 and parameters: {'lr': 0.00030384226118136134, 'beta0': 0.7412980394447174, 'beta1': 0.9349063637927016, 'batch_size': 16, 'patience': 16, 'conv_depth': 4}. Best is trial 46 with value: 0.007608745014294982.\n"
     ]
    },
    {
     "name": "stdout",
     "output_type": "stream",
     "text": [
      "Best trial for channel OrigRNA:\n",
      "  Validation Loss: 0.007608745014294982\n",
      "  Hyperparameters: {'lr': 8.683717750721345e-05, 'beta0': 0.6513543410289212, 'beta1': 0.9353240725137701, 'batch_size': 16, 'patience': 14, 'conv_depth': 4}\n"
     ]
    }
   ],
   "source": [
    "RUN_EXTRA = False\n",
    "loaddata_df = pd.read_csv(LOADDATA_FILE_PATH)\n",
    "\n",
    "for confluence_group_name, conditions in DATA_GROUPING.items():\n",
    "\n",
    "    ## Load dataset\n",
    "    loaddata_condition_df = loaddata_df.copy()\n",
    "    for condition, values in conditions.items():\n",
    "        loaddata_condition_df = loaddata_condition_df[\n",
    "            loaddata_condition_df[condition].isin(values)\n",
    "        ]\n",
    "\n",
    "    sc_features = pd.DataFrame()\n",
    "    for plate in loaddata_condition_df['Metadata_Plate'].unique():\n",
    "        sc_features_parquet = SC_FEATURES_DIR / f'{plate}_sc_normalized.parquet'\n",
    "        if not sc_features_parquet.exists():\n",
    "            print(f'{sc_features_parquet} does not exist, skipping...')\n",
    "            continue \n",
    "        else:\n",
    "            sc_features = pd.concat([\n",
    "                sc_features, \n",
    "                pd.read_parquet(\n",
    "                    sc_features_parquet,\n",
    "                    columns=['Metadata_Plate', 'Metadata_Well', 'Metadata_Site', 'Metadata_Cells_Location_Center_X', 'Metadata_Cells_Location_Center_Y']\n",
    "                )\n",
    "            ])\n",
    "\n",
    "    ## Create patch dataset\n",
    "    pds = PatchDataset(\n",
    "        _loaddata_csv=loaddata_condition_df,\n",
    "        _sc_feature=sc_features,\n",
    "        _input_channel_keys=INPUT_CHANNEL_NAMES,\n",
    "        _target_channel_keys=TARGET_CHANNEL_NAMES,\n",
    "        _input_transform=PixelDepthTransform(src_bit_depth=16, target_bit_depth=8, _always_apply=True),\n",
    "        _target_transform=MinMaxNormalize(_normalization_factor=(2 ** 16) - 1, _always_apply=True),\n",
    "        patch_size=PATCH_SIZE,\n",
    "        verbose=False,\n",
    "        patch_generation_method=\"random_cell\",\n",
    "        patch_generation_random_seed=42\n",
    "    )\n",
    "\n",
    "    for channel_name in TARGET_CHANNEL_NAMES:\n",
    "\n",
    "        ## Cache dataset of channel\n",
    "        pds.set_input_channel_keys(INPUT_CHANNEL_NAMES)\n",
    "        pds.set_target_channel_keys(channel_name)\n",
    "        cds = CachedDataset(\n",
    "            dataset=pds,\n",
    "            prefill_cache=True\n",
    "        )\n",
    "\n",
    "        print(f\"Beginning optimization for channel: {channel_name} for {confluence_group_name}\")\n",
    "\n",
    "        # Load the existing study for the current channel\n",
    "        study_path = OPTUNA_JOBLIB_DIR / f\"FNet_optimize_{channel_name}_{confluence_group_name}.joblib\"\n",
    "        if study_path.exists():\n",
    "            if RUN_EXTRA:\n",
    "                study = joblib.load(study_path)\n",
    "            else:\n",
    "                print(\"Skipping optimization due to existing joblib...\")\n",
    "                continue\n",
    "        else:\n",
    "            study = optuna.create_study(\n",
    "                direction=\"minimize\",\n",
    "                study_name=f\"FNet_optimize_{channel_name}_{confluence_group_name}\",\n",
    "                sampler=optuna.samplers.TPESampler(seed=42)\n",
    "            )\n",
    "\n",
    "        # Optimize the objective function for the current channel\n",
    "        study.optimize(lambda trial: objective(trial, cds, channel_name, confluence_group_name), n_trials=50)\n",
    "\n",
    "        # Save the updated study for the current channel\n",
    "        joblib.dump(study, study_path)\n",
    "\n",
    "        # Print best trial results\n",
    "        print(f\"Best trial for channel {channel_name}:\")\n",
    "        print(f\"  Validation Loss: {study.best_trial.value}\")\n",
    "        print(f\"  Hyperparameters: {study.best_trial.params}\")"
   ]
  }
 ],
 "metadata": {
  "kernelspec": {
   "display_name": "speckle_analysis",
   "language": "python",
   "name": "python3"
  },
  "language_info": {
   "codemirror_mode": {
    "name": "ipython",
    "version": 3
   },
   "file_extension": ".py",
   "mimetype": "text/x-python",
   "name": "python",
   "nbconvert_exporter": "python",
   "pygments_lexer": "ipython3",
   "version": "3.11.11"
  }
 },
 "nbformat": 4,
 "nbformat_minor": 2
}
