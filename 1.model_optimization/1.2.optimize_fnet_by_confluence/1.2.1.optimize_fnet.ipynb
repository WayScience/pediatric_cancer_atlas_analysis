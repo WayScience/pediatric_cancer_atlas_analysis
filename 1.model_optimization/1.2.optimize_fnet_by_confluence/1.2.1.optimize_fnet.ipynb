{
 "cells": [
  {
   "cell_type": "markdown",
   "metadata": {},
   "source": [
    "# This notebook carries out hyperparameter optimization of the FNet model on two datasets (high and low confluence level) of U2-OS cell painting image data "
   ]
  },
  {
   "cell_type": "code",
   "execution_count": 1,
   "metadata": {},
   "outputs": [],
   "source": [
    "import pathlib\n",
    "import sys\n",
    "import yaml\n",
    "\n",
    "import pandas as pd\n",
    "import torch\n",
    "import torch.optim as optim\n",
    "import mlflow\n",
    "import optuna\n",
    "import joblib"
   ]
  },
  {
   "cell_type": "markdown",
   "metadata": {},
   "source": [
    "## Read config"
   ]
  },
  {
   "cell_type": "code",
   "execution_count": 2,
   "metadata": {},
   "outputs": [],
   "source": [
    "with open(pathlib.Path('.').absolute().parent.parent / \"config.yml\", \"r\") as file:\n",
    "    config = yaml.safe_load(file)"
   ]
  },
  {
   "cell_type": "markdown",
   "metadata": {},
   "source": [
    "## Import virtual_stain_flow software "
   ]
  },
  {
   "cell_type": "code",
   "execution_count": 3,
   "metadata": {},
   "outputs": [
    {
     "name": "stdout",
     "output_type": "stream",
     "text": [
      "/home/weishanli/Waylab/pediatric_cancer_atlas_analysis\n"
     ]
    }
   ],
   "source": [
    "sys.path.append(config['paths']['software_path'])\n",
    "print(str(pathlib.Path('.').absolute().parent.parent))\n",
    "\n",
    "## Dataset\n",
    "from virtual_stain_flow.datasets.PatchDataset import PatchDataset\n",
    "from virtual_stain_flow.datasets.CachedDataset import CachedDataset\n",
    "\n",
    "## FNet training\n",
    "from virtual_stain_flow.models.fnet import FNet\n",
    "from virtual_stain_flow.trainers.Trainer import Trainer\n",
    "\n",
    "## wGaN training\n",
    "from virtual_stain_flow.models.unet import UNet\n",
    "from virtual_stain_flow.models.discriminator import GlobalDiscriminator\n",
    "from virtual_stain_flow.trainers.WGaNTrainer import WGaNTrainer\n",
    "\n",
    "## wGaN losses\n",
    "from virtual_stain_flow.losses.GradientPenaltyLoss import GradientPenaltyLoss\n",
    "from virtual_stain_flow.losses.DiscriminatorLoss import DiscriminatorLoss\n",
    "from virtual_stain_flow.losses.GeneratorLoss import GeneratorLoss\n",
    "\n",
    "from virtual_stain_flow.transforms.MinMaxNormalize import MinMaxNormalize\n",
    "from virtual_stain_flow.transforms.PixelDepthTransform import PixelDepthTransform\n",
    "\n",
    "## Metrics\n",
    "from virtual_stain_flow.metrics.MetricsWrapper import MetricsWrapper\n",
    "from virtual_stain_flow.metrics.PSNR import PSNR\n",
    "from virtual_stain_flow.metrics.SSIM import SSIM\n",
    "\n",
    "## callback\n",
    "from virtual_stain_flow.callbacks.MlflowLogger import MlflowLogger\n",
    "from virtual_stain_flow.callbacks.IntermediatePlot import IntermediatePatchPlot"
   ]
  },
  {
   "cell_type": "markdown",
   "metadata": {},
   "source": [
    "## Define paths and other train parameters"
   ]
  },
  {
   "cell_type": "code",
   "execution_count": 4,
   "metadata": {},
   "outputs": [],
   "source": [
    "## Loaddata for train\n",
    "LOADDATA_FILE_PATH = pathlib.Path('.').absolute().parent.parent \\\n",
    "    / '0.data_preprocessing' / 'data_split_loaddata' / 'loaddata_train.csv'\n",
    "assert LOADDATA_FILE_PATH.exists()\n",
    "SC_FEATURES_DIR = pathlib.Path(config['paths']['sc_features_path'])\n",
    "\n",
    "## Output directories\n",
    "MLFLOW_DIR = pathlib.Path('.').absolute() / 'optuna_mlflow'\n",
    "MLFLOW_DIR.mkdir(parents=True, exist_ok=True)\n",
    "\n",
    "OPTUNA_JOBLIB_DIR = pathlib.Path('.').absolute() / 'optuna_joblib'\n",
    "OPTUNA_JOBLIB_DIR.mkdir(parents=True, exist_ok=True)\n",
    "\n",
    "## Basic data generation, model convolutional depth and max epoch definition\n",
    "PATCH_SIZE = 256\n",
    "DEPTH = 5\n",
    "EPOCHS = 1_000\n",
    "\n",
    "## Channels for input and target are read from config\n",
    "INPUT_CHANNEL_NAMES = config['data']['input_channel_keys']\n",
    "TARGET_CHANNEL_NAMES = config['data']['target_channel_keys']"
   ]
  },
  {
   "cell_type": "markdown",
   "metadata": {},
   "source": [
    "## Defines how the train data will be divided to train models on two levels of confluence"
   ]
  },
  {
   "cell_type": "code",
   "execution_count": 5,
   "metadata": {},
   "outputs": [],
   "source": [
    "DATA_GROUPING = {\n",
    "    'high_confluence': {\n",
    "        'seeding_density': [12_000, 8_000]\n",
    "    },\n",
    "    'low_confluence': {\n",
    "        'seeding_density': [4_000, 2_000, 1_000]\n",
    "    }\n",
    "}"
   ]
  },
  {
   "cell_type": "markdown",
   "metadata": {},
   "source": [
    "## Define optimization objectives"
   ]
  },
  {
   "cell_type": "code",
   "execution_count": 6,
   "metadata": {},
   "outputs": [],
   "source": [
    "import gc\n",
    "def free_gpu_memory():\n",
    "    gc.collect()\n",
    "    torch.cuda.empty_cache()\n",
    "\n",
    "def objective(trial, dataset, channel_name, confluence_group_name):\n",
    "    \n",
    "    ## Suggest hyperparameters\n",
    "    lr = trial.suggest_float(\"lr\", 1e-5, 1e-2, log=True) # adam optimizer learning rate\n",
    "    beta0 = trial.suggest_float('beta0', 0.5, 0.9) # adam optimizer beta 0\n",
    "    beta1 = trial.suggest_float('beta1', 0.9, 0.999) # adam optimizer beta 1\n",
    "    betas = (beta0, beta1)\n",
    "\n",
    "    batch_size = trial.suggest_int('batch_size', 16, 64, step=16)\n",
    "    patience = trial.suggest_int('patience', 5, 20) # early stop patience\n",
    "\n",
    "    conv_depth = trial.suggest_int('conv_depth', 3, 5) # convolutional depth for fnet model\n",
    "\n",
    "    ## Setup model and optimizer\n",
    "    model = FNet(depth=conv_depth)\n",
    "    optimizer = optim.Adam(model.parameters(), lr=lr, betas=betas)\n",
    "    \n",
    "    ## Metrics to be computed (and logged)\n",
    "    metric_fns = {\n",
    "        \"mse_loss\": MetricsWrapper(_metric_name='mse', module=torch.nn.MSELoss()),\n",
    "        \"ssim_loss\": SSIM(_metric_name=\"ssim\"),\n",
    "        \"psnr_loss\": PSNR(_metric_name=\"psnr\"),\n",
    "    }\n",
    "\n",
    "    ## Params to log with mlflow\n",
    "    params = {\n",
    "            \"lr\": lr,\n",
    "            \"beta0\": beta0,\n",
    "            \"beta1\": beta1,\n",
    "            \"depth\": conv_depth,\n",
    "            \"patch_size\": PATCH_SIZE,\n",
    "            \"batch_size\": batch_size,\n",
    "            \"epochs\": EPOCHS,\n",
    "            \"patience\": patience,\n",
    "            \"channel_name\": channel_name,\n",
    "        }\n",
    "\n",
    "    ## mlflow logger callback\n",
    "    mlflow_logger_callback = MlflowLogger(\n",
    "        name='mlflow_logger',\n",
    "        mlflow_uri=MLFLOW_DIR / 'mlruns',\n",
    "        mlflow_experiment_name=f'FNet_optimize_{confluence_group_name}',\n",
    "        mlflow_start_run_args={'run_name': f'FNet_optimize_{confluence_group_name}_{channel_name}', 'nested': True},\n",
    "        mlflow_log_params_args=params\n",
    "    )\n",
    "    \n",
    "    ## Trainer\n",
    "    trainer = Trainer(\n",
    "        model = model,\n",
    "        optimizer = optimizer,\n",
    "        backprop_loss = torch.nn.L1Loss(), # MAE loss for backpropagation\n",
    "        dataset = dataset,\n",
    "        batch_size = batch_size,\n",
    "        epochs = EPOCHS,\n",
    "        patience = patience,\n",
    "        callbacks=[mlflow_logger_callback],\n",
    "        metrics=metric_fns,\n",
    "        device = 'cuda',\n",
    "        early_termination_metric='L1Loss'\n",
    "    )\n",
    "\n",
    "    # Train the model and log validation loss\n",
    "    trainer.train()\n",
    "    val_loss = trainer.best_loss\n",
    "\n",
    "    del model\n",
    "    del optimizer\n",
    "    del metric_fns\n",
    "    del mlflow_logger_callback\n",
    "    del trainer\n",
    "    \n",
    "    free_gpu_memory()\n",
    "\n",
    "    return val_loss"
   ]
  },
  {
   "cell_type": "code",
   "execution_count": null,
   "metadata": {},
   "outputs": [
    {
     "name": "stdout",
     "output_type": "stream",
     "text": [
      "Beginning optimization for channel: OrigDNA for high_confluence\n",
      "Best trial for channel OrigDNA:\n",
      "  Validation Loss: 0.016428549215197562\n",
      "  Hyperparameters: {'lr': 0.0027501521311678614, 'beta0': 0.8688225992072988, 'beta1': 0.9654164885801781, 'batch_size': 48, 'patience': 16, 'conv_depth': 4}\n",
      "Beginning optimization for channel: OrigER for high_confluence\n",
      "Best trial for channel OrigER:\n",
      "  Validation Loss: 0.020866319803254946\n",
      "  Hyperparameters: {'lr': 0.00044118732609755304, 'beta0': 0.8125413329356658, 'beta1': 0.9146557494825732, 'batch_size': 32, 'patience': 12, 'conv_depth': 3}\n",
      "Beginning optimization for channel: OrigAGP for high_confluence\n",
      "Best trial for channel OrigAGP:\n",
      "  Validation Loss: 0.0029262731383953777\n",
      "  Hyperparameters: {'lr': 0.0005690482786963295, 'beta0': 0.8951555358866697, 'beta1': 0.9770467004930141, 'batch_size': 32, 'patience': 15, 'conv_depth': 4}\n",
      "Beginning optimization for channel: OrigMito for high_confluence\n",
      "Best trial for channel OrigMito:\n",
      "  Validation Loss: 0.06562353727909234\n",
      "  Hyperparameters: {'lr': 8.989081354219003e-05, 'beta0': 0.6470384526146977, 'beta1': 0.9467986866591369, 'batch_size': 16, 'patience': 11, 'conv_depth': 3}\n",
      "Beginning optimization for channel: OrigRNA for high_confluence\n",
      "Early termination at epoch 71 with best validation metric 0.021730351394840648\n"
     ]
    },
    {
     "name": "stderr",
     "output_type": "stream",
     "text": [
      "[I 2025-02-24 11:43:16,198] Trial 40 finished with value: 0.021730351394840648 and parameters: {'lr': 1.772614340347159e-05, 'beta0': 0.5557377030226409, 'beta1': 0.9568994594386054, 'batch_size': 32, 'patience': 16, 'conv_depth': 4}. Best is trial 22 with value: 0.018208095517296057.\n"
     ]
    },
    {
     "name": "stdout",
     "output_type": "stream",
     "text": [
      "Saved study after trial 41/50\n",
      "Early termination at epoch 19 with best validation metric 0.021327024591820582\n"
     ]
    },
    {
     "name": "stderr",
     "output_type": "stream",
     "text": [
      "[I 2025-02-24 11:45:24,892] Trial 41 finished with value: 0.021327024591820582 and parameters: {'lr': 0.0005968014329520707, 'beta0': 0.5226302895685019, 'beta1': 0.9616949003421518, 'batch_size': 32, 'patience': 10, 'conv_depth': 4}. Best is trial 22 with value: 0.018208095517296057.\n"
     ]
    },
    {
     "name": "stdout",
     "output_type": "stream",
     "text": [
      "Saved study after trial 42/50\n",
      "Early termination at epoch 19 with best validation metric 0.021322220829980715\n"
     ]
    },
    {
     "name": "stderr",
     "output_type": "stream",
     "text": [
      "[I 2025-02-24 11:47:30,227] Trial 42 finished with value: 0.021322220829980715 and parameters: {'lr': 0.0005446125250142762, 'beta0': 0.5118102970405872, 'beta1': 0.9501023585168793, 'batch_size': 32, 'patience': 8, 'conv_depth': 4}. Best is trial 22 with value: 0.018208095517296057.\n"
     ]
    },
    {
     "name": "stdout",
     "output_type": "stream",
     "text": [
      "Saved study after trial 43/50\n",
      "Early termination at epoch 26 with best validation metric 0.02020496129989624\n"
     ]
    },
    {
     "name": "stderr",
     "output_type": "stream",
     "text": [
      "[I 2025-02-24 11:50:15,029] Trial 43 finished with value: 0.02020496129989624 and parameters: {'lr': 0.0010954446897144027, 'beta0': 0.5853078496293329, 'beta1': 0.9643626370748626, 'batch_size': 32, 'patience': 11, 'conv_depth': 4}. Best is trial 22 with value: 0.018208095517296057.\n"
     ]
    },
    {
     "name": "stdout",
     "output_type": "stream",
     "text": [
      "Saved study after trial 44/50\n",
      "Early termination at epoch 23 with best validation metric 0.01910466471543679\n"
     ]
    },
    {
     "name": "stderr",
     "output_type": "stream",
     "text": [
      "[I 2025-02-24 11:52:50,658] Trial 44 finished with value: 0.01910466471543679 and parameters: {'lr': 0.0007857761456162243, 'beta0': 0.554279190817587, 'beta1': 0.9717307789190429, 'batch_size': 16, 'patience': 10, 'conv_depth': 4}. Best is trial 22 with value: 0.018208095517296057.\n"
     ]
    },
    {
     "name": "stdout",
     "output_type": "stream",
     "text": [
      "Saved study after trial 45/50\n",
      "Early termination at epoch 53 with best validation metric 0.022582872211933135\n"
     ]
    },
    {
     "name": "stderr",
     "output_type": "stream",
     "text": [
      "[I 2025-02-24 11:58:47,414] Trial 45 finished with value: 0.022582872211933135 and parameters: {'lr': 5.140840844680733e-05, 'beta0': 0.5761523655942854, 'beta1': 0.9900927570302988, 'batch_size': 48, 'patience': 6, 'conv_depth': 4}. Best is trial 22 with value: 0.018208095517296057.\n"
     ]
    },
    {
     "name": "stdout",
     "output_type": "stream",
     "text": [
      "Saved study after trial 46/50\n",
      "Early termination at epoch 32 with best validation metric 0.021780822159988538\n"
     ]
    },
    {
     "name": "stderr",
     "output_type": "stream",
     "text": [
      "[I 2025-02-24 12:02:24,207] Trial 46 finished with value: 0.021780822159988538 and parameters: {'lr': 8.78838626071496e-05, 'beta0': 0.5957048056030901, 'beta1': 0.9758954853510688, 'batch_size': 32, 'patience': 9, 'conv_depth': 4}. Best is trial 22 with value: 0.018208095517296057.\n"
     ]
    },
    {
     "name": "stdout",
     "output_type": "stream",
     "text": [
      "Saved study after trial 47/50\n",
      "Early termination at epoch 9 with best validation metric 0.0339939514031777\n"
     ]
    },
    {
     "name": "stderr",
     "output_type": "stream",
     "text": [
      "[I 2025-02-24 12:03:18,882] Trial 47 finished with value: 0.0339939514031777 and parameters: {'lr': 0.002171625075779576, 'beta0': 0.5237093395116549, 'beta1': 0.9464291636751252, 'batch_size': 16, 'patience': 7, 'conv_depth': 3}. Best is trial 22 with value: 0.018208095517296057.\n"
     ]
    },
    {
     "name": "stdout",
     "output_type": "stream",
     "text": [
      "Saved study after trial 48/50\n",
      "Early termination at epoch 31 with best validation metric 0.01986798138490745\n"
     ]
    },
    {
     "name": "stderr",
     "output_type": "stream",
     "text": [
      "[I 2025-02-24 12:06:48,033] Trial 48 finished with value: 0.01986798138490745 and parameters: {'lr': 0.0003850276776217557, 'beta0': 0.5010671845109125, 'beta1': 0.9590130679605796, 'batch_size': 32, 'patience': 13, 'conv_depth': 4}. Best is trial 22 with value: 0.018208095517296057.\n"
     ]
    },
    {
     "name": "stdout",
     "output_type": "stream",
     "text": [
      "Saved study after trial 49/50\n",
      "Early termination at epoch 12 with best validation metric 0.043712835758924484\n"
     ]
    },
    {
     "name": "stderr",
     "output_type": "stream",
     "text": [
      "[I 2025-02-24 12:08:08,889] Trial 49 finished with value: 0.043712835758924484 and parameters: {'lr': 0.0046329548760061495, 'beta0': 0.7198382290544856, 'beta1': 0.9115847891951097, 'batch_size': 48, 'patience': 8, 'conv_depth': 4}. Best is trial 22 with value: 0.018208095517296057.\n"
     ]
    },
    {
     "name": "stdout",
     "output_type": "stream",
     "text": [
      "Saved study after trial 50/50\n",
      "Best trial for channel OrigRNA:\n",
      "  Validation Loss: 0.018208095517296057\n",
      "  Hyperparameters: {'lr': 0.00033644987497421396, 'beta0': 0.5353649663793699, 'beta1': 0.983729923826148, 'batch_size': 16, 'patience': 8, 'conv_depth': 4}\n"
     ]
    },
    {
     "name": "stderr",
     "output_type": "stream",
     "text": [
      "[I 2025-02-24 12:08:30,923] A new study created in memory with name: FNet_optimize_OrigDNA_low_confluence\n",
      "2025/02/24 12:08:30 INFO mlflow.tracking.fluent: Experiment with name 'FNet_optimize_low_confluence' does not exist. Creating a new experiment.\n"
     ]
    },
    {
     "name": "stdout",
     "output_type": "stream",
     "text": [
      "Beginning optimization for channel: OrigDNA for low_confluence\n",
      "Early termination at epoch 43 with best validation metric 0.008035529338355576\n"
     ]
    },
    {
     "name": "stderr",
     "output_type": "stream",
     "text": [
      "[I 2025-02-24 12:14:17,884] Trial 0 finished with value: 0.008035529338355576 and parameters: {'lr': 0.0001329291894316216, 'beta0': 0.8802857225639664, 'beta1': 0.9724674002393291, 'batch_size': 48, 'patience': 7, 'conv_depth': 3}. Best is trial 0 with value: 0.008035529338355576.\n"
     ]
    },
    {
     "name": "stdout",
     "output_type": "stream",
     "text": [
      "Saved study after trial 1/50\n",
      "Early termination at epoch 92 with best validation metric 0.010575706139206886\n"
     ]
    },
    {
     "name": "stderr",
     "output_type": "stream",
     "text": [
      "[I 2025-02-24 12:29:33,683] Trial 1 finished with value: 0.010575706139206886 and parameters: {'lr': 1.493656855461762e-05, 'beta0': 0.846470458309974, 'beta1': 0.9595103861625777, 'batch_size': 48, 'patience': 5, 'conv_depth': 5}. Best is trial 0 with value: 0.008035529338355576.\n"
     ]
    },
    {
     "name": "stdout",
     "output_type": "stream",
     "text": [
      "Saved study after trial 2/50\n",
      "Early termination at epoch 23 with best validation metric 0.012746693860543402\n"
     ]
    },
    {
     "name": "stderr",
     "output_type": "stream",
     "text": [
      "[I 2025-02-24 12:32:55,315] Trial 2 finished with value: 0.012746693860543402 and parameters: {'lr': 0.00314288089084011, 'beta0': 0.5849356442713105, 'beta1': 0.918000671753503, 'batch_size': 16, 'patience': 9, 'conv_depth': 4}. Best is trial 0 with value: 0.008035529338355576.\n"
     ]
    },
    {
     "name": "stdout",
     "output_type": "stream",
     "text": [
      "Saved study after trial 3/50\n",
      "Early termination at epoch 26 with best validation metric 0.007553461252858764\n"
     ]
    },
    {
     "name": "stderr",
     "output_type": "stream",
     "text": [
      "[I 2025-02-24 12:36:43,510] Trial 3 finished with value: 0.007553461252858764 and parameters: {'lr': 0.00019762189340280086, 'beta0': 0.6164916560792167, 'beta1': 0.9605734365775156, 'batch_size': 16, 'patience': 9, 'conv_depth': 4}. Best is trial 3 with value: 0.007553461252858764.\n"
     ]
    },
    {
     "name": "stdout",
     "output_type": "stream",
     "text": [
      "Saved study after trial 4/50\n",
      "Early termination at epoch 34 with best validation metric 0.009042989329567977\n"
     ]
    },
    {
     "name": "stderr",
     "output_type": "stream",
     "text": [
      "[I 2025-02-24 12:41:13,706] Trial 4 finished with value: 0.009042989329567977 and parameters: {'lr': 0.00023345864076016249, 'beta0': 0.8140703845572055, 'beta1': 0.9197677044336776, 'batch_size': 48, 'patience': 14, 'conv_depth': 3}. Best is trial 3 with value: 0.007553461252858764.\n"
     ]
    },
    {
     "name": "stdout",
     "output_type": "stream",
     "text": [
      "Saved study after trial 5/50\n",
      "Early termination at epoch 100 with best validation metric 0.007387913949787617\n"
     ]
    },
    {
     "name": "stderr",
     "output_type": "stream",
     "text": [
      "[I 2025-02-24 12:57:29,421] Trial 5 finished with value: 0.007387913949787617 and parameters: {'lr': 0.0006647135865318024, 'beta0': 0.5682096494749166, 'beta1': 0.9064401077055427, 'batch_size': 64, 'patience': 20, 'conv_depth': 5}. Best is trial 5 with value: 0.007387913949787617.\n"
     ]
    },
    {
     "name": "stdout",
     "output_type": "stream",
     "text": [
      "Saved study after trial 6/50\n",
      "Early termination at epoch 27 with best validation metric 0.008296259539201855\n"
     ]
    },
    {
     "name": "stderr",
     "output_type": "stream",
     "text": [
      "[I 2025-02-24 13:01:43,443] Trial 6 finished with value: 0.008296259539201855 and parameters: {'lr': 8.200518402245828e-05, 'beta0': 0.5390688456025535, 'beta1': 0.9677390696247036, 'batch_size': 32, 'patience': 6, 'conv_depth': 4}. Best is trial 5 with value: 0.007387913949787617.\n"
     ]
    },
    {
     "name": "stdout",
     "output_type": "stream",
     "text": [
      "Saved study after trial 7/50\n",
      "Early termination at epoch 97 with best validation metric 0.010699762563620294\n"
     ]
    },
    {
     "name": "stderr",
     "output_type": "stream",
     "text": [
      "[I 2025-02-24 13:16:26,309] Trial 7 finished with value: 0.010699762563620294 and parameters: {'lr': 1.2681352169084594e-05, 'beta0': 0.8637281608315128, 'beta1': 0.9256192181784016, 'batch_size': 48, 'patience': 9, 'conv_depth': 4}. Best is trial 5 with value: 0.007387913949787617.\n"
     ]
    },
    {
     "name": "stdout",
     "output_type": "stream",
     "text": [
      "Saved study after trial 8/50\n",
      "Early termination at epoch 49 with best validation metric 0.007953303679823876\n"
     ]
    },
    {
     "name": "stderr",
     "output_type": "stream",
     "text": [
      "[I 2025-02-24 13:24:05,440] Trial 8 finished with value: 0.007953303679823876 and parameters: {'lr': 0.00043664735929796326, 'beta0': 0.5739417822102109, 'beta1': 0.9959888781486913, 'batch_size': 64, 'patience': 20, 'conv_depth': 5}. Best is trial 5 with value: 0.007387913949787617.\n"
     ]
    },
    {
     "name": "stdout",
     "output_type": "stream",
     "text": [
      "Saved study after trial 9/50\n",
      "Early termination at epoch 13 with best validation metric 0.00878856059065775\n"
     ]
    },
    {
     "name": "stderr",
     "output_type": "stream",
     "text": [
      "[I 2025-02-24 13:25:47,891] Trial 9 finished with value: 0.00878856059065775 and parameters: {'lr': 0.0006218704727769079, 'beta0': 0.8687496940092467, 'beta1': 0.90876075770314, 'batch_size': 16, 'patience': 5, 'conv_depth': 3}. Best is trial 5 with value: 0.007387913949787617.\n"
     ]
    },
    {
     "name": "stdout",
     "output_type": "stream",
     "text": [
      "Saved study after trial 10/50\n",
      "Early termination at epoch 38 with best validation metric 0.011357606761157513\n"
     ]
    },
    {
     "name": "stderr",
     "output_type": "stream",
     "text": [
      "[I 2025-02-24 13:31:44,037] Trial 10 finished with value: 0.011357606761157513 and parameters: {'lr': 0.007329034530653055, 'beta0': 0.6893309285818674, 'beta1': 0.9365041484993887, 'batch_size': 64, 'patience': 20, 'conv_depth': 5}. Best is trial 5 with value: 0.007387913949787617.\n"
     ]
    },
    {
     "name": "stdout",
     "output_type": "stream",
     "text": [
      "Saved study after trial 11/50\n",
      "Early termination at epoch 28 with best validation metric 0.008940675947815179\n"
     ]
    },
    {
     "name": "stderr",
     "output_type": "stream",
     "text": [
      "[I 2025-02-24 13:35:49,533] Trial 11 finished with value: 0.008940675947815179 and parameters: {'lr': 0.0011488619645263537, 'beta0': 0.656981156841053, 'beta1': 0.9436381664836138, 'batch_size': 32, 'patience': 15, 'conv_depth': 4}. Best is trial 5 with value: 0.007387913949787617.\n"
     ]
    },
    {
     "name": "stdout",
     "output_type": "stream",
     "text": [
      "Saved study after trial 12/50\n",
      "Early termination at epoch 74 with best validation metric 0.007582028788563453\n"
     ]
    },
    {
     "name": "stderr",
     "output_type": "stream",
     "text": [
      "[I 2025-02-24 13:47:48,831] Trial 12 finished with value: 0.007582028788563453 and parameters: {'lr': 5.840845983076413e-05, 'beta0': 0.6168953862007945, 'beta1': 0.9030614145075334, 'batch_size': 16, 'patience': 17, 'conv_depth': 5}. Best is trial 5 with value: 0.007387913949787617.\n"
     ]
    },
    {
     "name": "stdout",
     "output_type": "stream",
     "text": [
      "Saved study after trial 13/50\n",
      "Early termination at epoch 35 with best validation metric 0.007631248561665416\n"
     ]
    },
    {
     "name": "stderr",
     "output_type": "stream",
     "text": [
      "[I 2025-02-24 13:52:54,879] Trial 13 finished with value: 0.007631248561665416 and parameters: {'lr': 0.0012002089712213873, 'beta0': 0.5025926464628493, 'beta1': 0.9813247594306211, 'batch_size': 32, 'patience': 11, 'conv_depth': 4}. Best is trial 5 with value: 0.007387913949787617.\n"
     ]
    },
    {
     "name": "stdout",
     "output_type": "stream",
     "text": [
      "Saved study after trial 14/50\n",
      "Early termination at epoch 118 with best validation metric 0.009635067172348499\n"
     ]
    },
    {
     "name": "stderr",
     "output_type": "stream",
     "text": [
      "[I 2025-02-24 14:12:06,508] Trial 14 finished with value: 0.009635067172348499 and parameters: {'lr': 3.8995923536629464e-05, 'beta0': 0.735333074693347, 'beta1': 0.9511831334175153, 'batch_size': 64, 'patience': 12, 'conv_depth': 5}. Best is trial 5 with value: 0.007387913949787617.\n"
     ]
    },
    {
     "name": "stdout",
     "output_type": "stream",
     "text": [
      "Saved study after trial 15/50\n",
      "Early termination at epoch 108 with best validation metric 0.008198786806315184\n"
     ]
    },
    {
     "name": "stderr",
     "output_type": "stream",
     "text": [
      "[I 2025-02-24 14:27:53,238] Trial 15 finished with value: 0.008198786806315184 and parameters: {'lr': 0.00020624835931819076, 'beta0': 0.7495982889359164, 'beta1': 0.9544534813628934, 'batch_size': 32, 'patience': 17, 'conv_depth': 4}. Best is trial 5 with value: 0.007387913949787617.\n"
     ]
    },
    {
     "name": "stdout",
     "output_type": "stream",
     "text": [
      "Saved study after trial 16/50\n",
      "Early termination at epoch 16 with best validation metric 0.010132829413602227\n"
     ]
    },
    {
     "name": "stderr",
     "output_type": "stream",
     "text": [
      "[I 2025-02-24 14:30:13,608] Trial 16 finished with value: 0.010132829413602227 and parameters: {'lr': 0.002048249970420226, 'beta0': 0.6340658899931897, 'beta1': 0.9402953821265098, 'batch_size': 16, 'patience': 10, 'conv_depth': 4}. Best is trial 5 with value: 0.007387913949787617.\n"
     ]
    },
    {
     "name": "stdout",
     "output_type": "stream",
     "text": [
      "Saved study after trial 17/50\n",
      "Early termination at epoch 40 with best validation metric 0.007559697423130274\n"
     ]
    },
    {
     "name": "stderr",
     "output_type": "stream",
     "text": [
      "[I 2025-02-24 14:36:28,571] Trial 17 finished with value: 0.007559697423130274 and parameters: {'lr': 0.0005189670572878397, 'beta0': 0.5641842030502261, 'beta1': 0.9317641676833619, 'batch_size': 64, 'patience': 14, 'conv_depth': 5}. Best is trial 5 with value: 0.007387913949787617.\n"
     ]
    },
    {
     "name": "stdout",
     "output_type": "stream",
     "text": [
      "Saved study after trial 18/50\n",
      "Early termination at epoch 110 with best validation metric 0.008521367396627153\n"
     ]
    },
    {
     "name": "stderr",
     "output_type": "stream",
     "text": [
      "[I 2025-02-24 14:51:18,689] Trial 18 finished with value: 0.008521367396627153 and parameters: {'lr': 0.006496560363487984, 'beta0': 0.505934708420506, 'beta1': 0.9858629987667143, 'batch_size': 48, 'patience': 18, 'conv_depth': 3}. Best is trial 5 with value: 0.007387913949787617.\n"
     ]
    },
    {
     "name": "stdout",
     "output_type": "stream",
     "text": [
      "Saved study after trial 19/50\n",
      "Early termination at epoch 26 with best validation metric 0.008620181865990163\n"
     ]
    },
    {
     "name": "stderr",
     "output_type": "stream",
     "text": [
      "[I 2025-02-24 14:55:24,280] Trial 19 finished with value: 0.008620181865990163 and parameters: {'lr': 0.001097591533005445, 'beta0': 0.6899828939311071, 'beta1': 0.9674895593708143, 'batch_size': 32, 'patience': 7, 'conv_depth': 4}. Best is trial 5 with value: 0.007387913949787617.\n"
     ]
    },
    {
     "name": "stdout",
     "output_type": "stream",
     "text": [
      "Saved study after trial 20/50\n",
      "Early termination at epoch 31 with best validation metric 0.00815384597272465\n"
     ]
    },
    {
     "name": "stderr",
     "output_type": "stream",
     "text": [
      "[I 2025-02-24 15:00:35,185] Trial 20 finished with value: 0.00815384597272465 and parameters: {'lr': 0.00012370315815937372, 'beta0': 0.6125657038315837, 'beta1': 0.9013047422237115, 'batch_size': 16, 'patience': 12, 'conv_depth': 5}. Best is trial 5 with value: 0.007387913949787617.\n"
     ]
    },
    {
     "name": "stdout",
     "output_type": "stream",
     "text": [
      "Saved study after trial 21/50\n",
      "Early termination at epoch 40 with best validation metric 0.008081551548093558\n"
     ]
    },
    {
     "name": "stderr",
     "output_type": "stream",
     "text": [
      "[I 2025-02-24 15:07:01,303] Trial 21 finished with value: 0.008081551548093558 and parameters: {'lr': 0.0005029864592887008, 'beta0': 0.5596049415674799, 'beta1': 0.930727822440709, 'batch_size': 64, 'patience': 14, 'conv_depth': 5}. Best is trial 5 with value: 0.007387913949787617.\n"
     ]
    },
    {
     "name": "stdout",
     "output_type": "stream",
     "text": [
      "Saved study after trial 22/50\n",
      "Early termination at epoch 50 with best validation metric 0.008024249970912934\n"
     ]
    },
    {
     "name": "stderr",
     "output_type": "stream",
     "text": [
      "[I 2025-02-24 15:15:27,409] Trial 22 finished with value: 0.008024249970912934 and parameters: {'lr': 0.00030540794348878373, 'beta0': 0.5445366404751468, 'beta1': 0.915570134695928, 'batch_size': 64, 'patience': 16, 'conv_depth': 5}. Best is trial 5 with value: 0.007387913949787617.\n"
     ]
    },
    {
     "name": "stdout",
     "output_type": "stream",
     "text": [
      "Saved study after trial 23/50\n",
      "Early termination at epoch 107 with best validation metric 0.007883422449231148\n"
     ]
    },
    {
     "name": "stderr",
     "output_type": "stream",
     "text": [
      "[I 2025-02-24 15:32:44,375] Trial 23 finished with value: 0.007883422449231148 and parameters: {'lr': 0.000658584103075398, 'beta0': 0.5916622345023854, 'beta1': 0.9282354402094714, 'batch_size': 64, 'patience': 19, 'conv_depth': 5}. Best is trial 5 with value: 0.007387913949787617.\n"
     ]
    },
    {
     "name": "stdout",
     "output_type": "stream",
     "text": [
      "Saved study after trial 24/50\n",
      "Early termination at epoch 38 with best validation metric 0.010605998151004315\n"
     ]
    },
    {
     "name": "stderr",
     "output_type": "stream",
     "text": [
      "[I 2025-02-24 15:38:55,001] Trial 24 finished with value: 0.010605998151004315 and parameters: {'lr': 0.002430789219547611, 'beta0': 0.6581359660747139, 'beta1': 0.9462592827153148, 'batch_size': 64, 'patience': 14, 'conv_depth': 5}. Best is trial 5 with value: 0.007387913949787617.\n"
     ]
    },
    {
     "name": "stdout",
     "output_type": "stream",
     "text": [
      "Saved study after trial 25/50\n",
      "Early termination at epoch 42 with best validation metric 0.008349344267376832\n"
     ]
    },
    {
     "name": "stderr",
     "output_type": "stream",
     "text": [
      "[I 2025-02-24 15:45:00,504] Trial 25 finished with value: 0.008349344267376832 and parameters: {'lr': 0.00015070134306102918, 'beta0': 0.5323182407898288, 'beta1': 0.9611425128552223, 'batch_size': 48, 'patience': 8, 'conv_depth': 4}. Best is trial 5 with value: 0.007387913949787617.\n"
     ]
    },
    {
     "name": "stdout",
     "output_type": "stream",
     "text": [
      "Saved study after trial 26/50\n",
      "Early termination at epoch 97 with best validation metric 0.01094699688255787\n"
     ]
    },
    {
     "name": "stderr",
     "output_type": "stream",
     "text": [
      "[I 2025-02-24 16:00:08,858] Trial 26 finished with value: 0.01094699688255787 and parameters: {'lr': 2.6080133988987214e-05, 'beta0': 0.644997559831217, 'beta1': 0.911591152964344, 'batch_size': 64, 'patience': 11, 'conv_depth': 5}. Best is trial 5 with value: 0.007387913949787617.\n"
     ]
    },
    {
     "name": "stdout",
     "output_type": "stream",
     "text": [
      "Saved study after trial 27/50\n",
      "Early termination at epoch 52 with best validation metric 0.007498738622026784\n"
     ]
    },
    {
     "name": "stderr",
     "output_type": "stream",
     "text": [
      "[I 2025-02-24 16:08:13,252] Trial 27 finished with value: 0.007498738622026784 and parameters: {'lr': 0.0003677203518753607, 'beta0': 0.6026471096102741, 'beta1': 0.9372200104540841, 'batch_size': 48, 'patience': 13, 'conv_depth': 4}. Best is trial 5 with value: 0.007387913949787617.\n"
     ]
    },
    {
     "name": "stdout",
     "output_type": "stream",
     "text": [
      "Saved study after trial 28/50\n",
      "Early termination at epoch 62 with best validation metric 0.00949437849755798\n"
     ]
    },
    {
     "name": "stderr",
     "output_type": "stream",
     "text": [
      "[I 2025-02-24 16:18:00,307] Trial 28 finished with value: 0.00949437849755798 and parameters: {'lr': 7.438245119204326e-05, 'beta0': 0.7177776799846676, 'beta1': 0.9743188549209502, 'batch_size': 48, 'patience': 10, 'conv_depth': 4}. Best is trial 5 with value: 0.007387913949787617.\n"
     ]
    },
    {
     "name": "stdout",
     "output_type": "stream",
     "text": [
      "Saved study after trial 29/50\n",
      "Early termination at epoch 31 with best validation metric 0.00830618473701179\n"
     ]
    },
    {
     "name": "stderr",
     "output_type": "stream",
     "text": [
      "[I 2025-02-24 16:22:11,920] Trial 29 finished with value: 0.00830618473701179 and parameters: {'lr': 0.0001240653648670346, 'beta0': 0.7759710886560623, 'beta1': 0.9579800023808108, 'batch_size': 32, 'patience': 7, 'conv_depth': 3}. Best is trial 5 with value: 0.007387913949787617.\n"
     ]
    },
    {
     "name": "stdout",
     "output_type": "stream",
     "text": [
      "Saved study after trial 30/50\n",
      "Early termination at epoch 59 with best validation metric 0.007995350153318473\n"
     ]
    },
    {
     "name": "stderr",
     "output_type": "stream",
     "text": [
      "[I 2025-02-24 16:30:45,494] Trial 30 finished with value: 0.007995350153318473 and parameters: {'lr': 0.0002726559631435009, 'beta0': 0.6090991879027191, 'beta1': 0.9222618136594866, 'batch_size': 48, 'patience': 13, 'conv_depth': 4}. Best is trial 5 with value: 0.007387913949787617.\n"
     ]
    },
    {
     "name": "stdout",
     "output_type": "stream",
     "text": [
      "Saved study after trial 31/50\n",
      "Early termination at epoch 25 with best validation metric 0.008002585079520941\n"
     ]
    },
    {
     "name": "stderr",
     "output_type": "stream",
     "text": [
      "[I 2025-02-24 16:34:23,152] Trial 31 finished with value: 0.008002585079520941 and parameters: {'lr': 0.0007876035344662914, 'beta0': 0.5609584006311973, 'beta1': 0.9352833220919234, 'batch_size': 64, 'patience': 13, 'conv_depth': 4}. Best is trial 5 with value: 0.007387913949787617.\n"
     ]
    },
    {
     "name": "stdout",
     "output_type": "stream",
     "text": [
      "Saved study after trial 32/50\n",
      "Early termination at epoch 36 with best validation metric 0.007714375520923308\n"
     ]
    },
    {
     "name": "stderr",
     "output_type": "stream",
     "text": [
      "[I 2025-02-24 16:39:37,195] Trial 32 finished with value: 0.007714375520923308 and parameters: {'lr': 0.000417892074122399, 'beta0': 0.5897896513491915, 'beta1': 0.9341919722629929, 'batch_size': 48, 'patience': 16, 'conv_depth': 4}. Best is trial 5 with value: 0.007387913949787617.\n"
     ]
    },
    {
     "name": "stdout",
     "output_type": "stream",
     "text": [
      "Saved study after trial 33/50\n",
      "Early termination at epoch 55 with best validation metric 0.00877225399017334\n"
     ]
    },
    {
     "name": "stderr",
     "output_type": "stream",
     "text": [
      "[I 2025-02-24 16:48:12,439] Trial 33 finished with value: 0.00877225399017334 and parameters: {'lr': 0.00016996431180240433, 'beta0': 0.5203858796513477, 'beta1': 0.9440467478449834, 'batch_size': 64, 'patience': 15, 'conv_depth': 5}. Best is trial 5 with value: 0.007387913949787617.\n"
     ]
    },
    {
     "name": "stdout",
     "output_type": "stream",
     "text": [
      "Saved study after trial 34/50\n",
      "Early termination at epoch 43 with best validation metric 0.007392994261213711\n"
     ]
    },
    {
     "name": "stderr",
     "output_type": "stream",
     "text": [
      "[I 2025-02-24 16:54:27,342] Trial 34 finished with value: 0.007392994261213711 and parameters: {'lr': 0.0003403877941636253, 'beta0': 0.6728914761837381, 'beta1': 0.9501354790154747, 'batch_size': 48, 'patience': 11, 'conv_depth': 4}. Best is trial 5 with value: 0.007387913949787617.\n"
     ]
    },
    {
     "name": "stdout",
     "output_type": "stream",
     "text": [
      "Saved study after trial 35/50\n",
      "Early termination at epoch 25 with best validation metric 0.00796783555831228\n"
     ]
    },
    {
     "name": "stderr",
     "output_type": "stream",
     "text": [
      "[I 2025-02-24 16:58:13,314] Trial 35 finished with value: 0.00796783555831228 and parameters: {'lr': 0.0003278452418151445, 'beta0': 0.6731716250009738, 'beta1': 0.9611278022732466, 'batch_size': 48, 'patience': 9, 'conv_depth': 4}. Best is trial 5 with value: 0.007387913949787617.\n"
     ]
    },
    {
     "name": "stdout",
     "output_type": "stream",
     "text": [
      "Saved study after trial 36/50\n",
      "Early termination at epoch 24 with best validation metric 0.012800297300730432\n"
     ]
    },
    {
     "name": "stderr",
     "output_type": "stream",
     "text": [
      "[I 2025-02-24 17:01:37,886] Trial 36 finished with value: 0.012800297300730432 and parameters: {'lr': 0.0018498162101106119, 'beta0': 0.6199072881890422, 'beta1': 0.9506826369835824, 'batch_size': 48, 'patience': 8, 'conv_depth': 3}. Best is trial 5 with value: 0.007387913949787617.\n"
     ]
    },
    {
     "name": "stdout",
     "output_type": "stream",
     "text": [
      "Saved study after trial 37/50\n",
      "Early termination at epoch 68 with best validation metric 0.0085086756651955\n"
     ]
    },
    {
     "name": "stderr",
     "output_type": "stream",
     "text": [
      "[I 2025-02-24 17:11:48,465] Trial 37 finished with value: 0.0085086756651955 and parameters: {'lr': 9.278581975244915e-05, 'beta0': 0.5954308744805473, 'beta1': 0.966746785034704, 'batch_size': 48, 'patience': 10, 'conv_depth': 4}. Best is trial 5 with value: 0.007387913949787617.\n"
     ]
    },
    {
     "name": "stdout",
     "output_type": "stream",
     "text": [
      "Saved study after trial 38/50\n",
      "Early termination at epoch 35 with best validation metric 0.013182518165558576\n"
     ]
    },
    {
     "name": "stderr",
     "output_type": "stream",
     "text": [
      "[I 2025-02-24 17:16:27,387] Trial 38 finished with value: 0.013182518165558576 and parameters: {'lr': 0.004650630626557471, 'beta0': 0.6707198603342435, 'beta1': 0.9787535900861613, 'batch_size': 32, 'patience': 11, 'conv_depth': 3}. Best is trial 5 with value: 0.007387913949787617.\n"
     ]
    },
    {
     "name": "stdout",
     "output_type": "stream",
     "text": [
      "Saved study after trial 39/50\n",
      "Early termination at epoch 13 with best validation metric 0.008344353642314672\n"
     ]
    },
    {
     "name": "stderr",
     "output_type": "stream",
     "text": [
      "[I 2025-02-24 17:18:20,827] Trial 39 finished with value: 0.008344353642314672 and parameters: {'lr': 0.0008493976413291627, 'beta0': 0.6327283463664054, 'beta1': 0.9237046929533669, 'batch_size': 48, 'patience': 6, 'conv_depth': 4}. Best is trial 5 with value: 0.007387913949787617.\n"
     ]
    },
    {
     "name": "stdout",
     "output_type": "stream",
     "text": [
      "Saved study after trial 40/50\n",
      "Early termination at epoch 40 with best validation metric 0.006997640710324049\n"
     ]
    },
    {
     "name": "stderr",
     "output_type": "stream",
     "text": [
      "[I 2025-02-24 17:24:11,249] Trial 40 finished with value: 0.006997640710324049 and parameters: {'lr': 0.00021838392116433974, 'beta0': 0.7125694767313748, 'beta1': 0.9567083181229777, 'batch_size': 32, 'patience': 8, 'conv_depth': 4}. Best is trial 40 with value: 0.006997640710324049.\n"
     ]
    },
    {
     "name": "stdout",
     "output_type": "stream",
     "text": [
      "Saved study after trial 41/50\n",
      "Early termination at epoch 44 with best validation metric 0.0070405715439272555\n"
     ]
    },
    {
     "name": "stderr",
     "output_type": "stream",
     "text": [
      "[I 2025-02-24 17:30:36,557] Trial 41 finished with value: 0.0070405715439272555 and parameters: {'lr': 0.00024420458066158314, 'beta0': 0.7070879092951167, 'beta1': 0.9630231232019442, 'batch_size': 16, 'patience': 9, 'conv_depth': 4}. Best is trial 40 with value: 0.006997640710324049.\n"
     ]
    },
    {
     "name": "stdout",
     "output_type": "stream",
     "text": [
      "Saved study after trial 42/50\n",
      "Early termination at epoch 28 with best validation metric 0.006893532644761236\n"
     ]
    },
    {
     "name": "stderr",
     "output_type": "stream",
     "text": [
      "[I 2025-02-24 17:34:41,803] Trial 42 finished with value: 0.006893532644761236 and parameters: {'lr': 0.0003419003386968369, 'beta0': 0.7783801077281268, 'beta1': 0.9539743861406965, 'batch_size': 16, 'patience': 8, 'conv_depth': 4}. Best is trial 42 with value: 0.006893532644761236.\n"
     ]
    },
    {
     "name": "stdout",
     "output_type": "stream",
     "text": [
      "Saved study after trial 43/50\n",
      "Early termination at epoch 49 with best validation metric 0.006974411687176479\n"
     ]
    },
    {
     "name": "stderr",
     "output_type": "stream",
     "text": [
      "[I 2025-02-24 17:41:50,755] Trial 43 finished with value: 0.006974411687176479 and parameters: {'lr': 0.00023124435307151319, 'beta0': 0.8119016968297944, 'beta1': 0.9550530106169806, 'batch_size': 16, 'patience': 8, 'conv_depth': 4}. Best is trial 42 with value: 0.006893532644761236.\n"
     ]
    },
    {
     "name": "stdout",
     "output_type": "stream",
     "text": [
      "Saved study after trial 44/50\n",
      "Early termination at epoch 21 with best validation metric 0.007980775651767066\n"
     ]
    },
    {
     "name": "stderr",
     "output_type": "stream",
     "text": [
      "[I 2025-02-24 17:44:54,814] Trial 44 finished with value: 0.007980775651767066 and parameters: {'lr': 0.00022801956773530317, 'beta0': 0.8040308757491246, 'beta1': 0.9709227977101004, 'batch_size': 16, 'patience': 6, 'conv_depth': 4}. Best is trial 42 with value: 0.006893532644761236.\n"
     ]
    },
    {
     "name": "stdout",
     "output_type": "stream",
     "text": [
      "Saved study after trial 45/50\n",
      "Early termination at epoch 33 with best validation metric 0.007053247040235682\n"
     ]
    },
    {
     "name": "stderr",
     "output_type": "stream",
     "text": [
      "[I 2025-02-24 17:49:43,836] Trial 45 finished with value: 0.007053247040235682 and parameters: {'lr': 0.000214391962028338, 'beta0': 0.8150526698005561, 'beta1': 0.9557907058656379, 'batch_size': 16, 'patience': 8, 'conv_depth': 4}. Best is trial 42 with value: 0.006893532644761236.\n"
     ]
    },
    {
     "name": "stdout",
     "output_type": "stream",
     "text": [
      "Saved study after trial 46/50\n",
      "Early termination at epoch 44 with best validation metric 0.007840898280080996\n"
     ]
    },
    {
     "name": "stderr",
     "output_type": "stream",
     "text": [
      "[I 2025-02-24 17:56:08,995] Trial 46 finished with value: 0.007840898280080996 and parameters: {'lr': 9.608573528473936e-05, 'beta0': 0.897295474554602, 'beta1': 0.9567860730100433, 'batch_size': 16, 'patience': 8, 'conv_depth': 4}. Best is trial 42 with value: 0.006893532644761236.\n"
     ]
    },
    {
     "name": "stdout",
     "output_type": "stream",
     "text": [
      "Saved study after trial 47/50\n",
      "Early termination at epoch 28 with best validation metric 0.008163050209221086\n"
     ]
    },
    {
     "name": "stderr",
     "output_type": "stream",
     "text": [
      "[I 2025-02-24 18:00:14,248] Trial 47 finished with value: 0.008163050209221086 and parameters: {'lr': 5.646112919521688e-05, 'beta0': 0.8256351447909944, 'beta1': 0.9638384805147278, 'batch_size': 16, 'patience': 5, 'conv_depth': 4}. Best is trial 42 with value: 0.006893532644761236.\n"
     ]
    },
    {
     "name": "stdout",
     "output_type": "stream",
     "text": [
      "Saved study after trial 48/50\n",
      "Early termination at epoch 38 with best validation metric 0.007545648240729382\n"
     ]
    },
    {
     "name": "stderr",
     "output_type": "stream",
     "text": [
      "[I 2025-02-24 18:05:46,951] Trial 48 finished with value: 0.007545648240729382 and parameters: {'lr': 0.00018874239328877965, 'beta0': 0.7783547221751052, 'beta1': 0.9542917641777481, 'batch_size': 16, 'patience': 7, 'conv_depth': 4}. Best is trial 42 with value: 0.006893532644761236.\n"
     ]
    },
    {
     "name": "stdout",
     "output_type": "stream",
     "text": [
      "Saved study after trial 49/50\n",
      "Early termination at epoch 52 with best validation metric 0.007529607924975847\n"
     ]
    },
    {
     "name": "stderr",
     "output_type": "stream",
     "text": [
      "[I 2025-02-24 18:13:22,250] Trial 49 finished with value: 0.007529607924975847 and parameters: {'lr': 0.00012825590622774418, 'beta0': 0.7673161645078129, 'beta1': 0.9467890748997714, 'batch_size': 16, 'patience': 9, 'conv_depth': 4}. Best is trial 42 with value: 0.006893532644761236.\n"
     ]
    },
    {
     "name": "stdout",
     "output_type": "stream",
     "text": [
      "Saved study after trial 50/50\n",
      "Best trial for channel OrigDNA:\n",
      "  Validation Loss: 0.006893532644761236\n",
      "  Hyperparameters: {'lr': 0.0003419003386968369, 'beta0': 0.7783801077281268, 'beta1': 0.9539743861406965, 'batch_size': 16, 'patience': 8, 'conv_depth': 4}\n"
     ]
    },
    {
     "name": "stderr",
     "output_type": "stream",
     "text": [
      "[I 2025-02-24 18:13:24,727] A new study created in memory with name: FNet_optimize_OrigER_low_confluence\n"
     ]
    },
    {
     "name": "stdout",
     "output_type": "stream",
     "text": [
      "Beginning optimization for channel: OrigER for low_confluence\n",
      "Early termination at epoch 41 with best validation metric 0.01487285936517375\n"
     ]
    },
    {
     "name": "stderr",
     "output_type": "stream",
     "text": [
      "[I 2025-02-24 18:18:49,799] Trial 0 finished with value: 0.01487285936517375 and parameters: {'lr': 0.0001329291894316216, 'beta0': 0.8802857225639664, 'beta1': 0.9724674002393291, 'batch_size': 48, 'patience': 7, 'conv_depth': 3}. Best is trial 0 with value: 0.01487285936517375.\n"
     ]
    },
    {
     "name": "stdout",
     "output_type": "stream",
     "text": [
      "Saved study after trial 1/50\n",
      "Early termination at epoch 72 with best validation metric 0.018402135531817163\n"
     ]
    },
    {
     "name": "stderr",
     "output_type": "stream",
     "text": [
      "[I 2025-02-24 18:30:07,246] Trial 1 finished with value: 0.018402135531817163 and parameters: {'lr': 1.493656855461762e-05, 'beta0': 0.846470458309974, 'beta1': 0.9595103861625777, 'batch_size': 48, 'patience': 5, 'conv_depth': 5}. Best is trial 0 with value: 0.01487285936517375.\n"
     ]
    },
    {
     "name": "stdout",
     "output_type": "stream",
     "text": [
      "Saved study after trial 2/50\n",
      "Early termination at epoch 24 with best validation metric 0.023898042934505564\n"
     ]
    },
    {
     "name": "stderr",
     "output_type": "stream",
     "text": [
      "[I 2025-02-24 18:33:37,420] Trial 2 finished with value: 0.023898042934505564 and parameters: {'lr': 0.00314288089084011, 'beta0': 0.5849356442713105, 'beta1': 0.918000671753503, 'batch_size': 16, 'patience': 9, 'conv_depth': 4}. Best is trial 0 with value: 0.01487285936517375.\n"
     ]
    },
    {
     "name": "stdout",
     "output_type": "stream",
     "text": [
      "Saved study after trial 3/50\n",
      "Early termination at epoch 34 with best validation metric 0.014980274840797248\n"
     ]
    },
    {
     "name": "stderr",
     "output_type": "stream",
     "text": [
      "[I 2025-02-24 18:38:35,172] Trial 3 finished with value: 0.014980274840797248 and parameters: {'lr': 0.00019762189340280086, 'beta0': 0.6164916560792167, 'beta1': 0.9605734365775156, 'batch_size': 16, 'patience': 9, 'conv_depth': 4}. Best is trial 0 with value: 0.01487285936517375.\n"
     ]
    },
    {
     "name": "stdout",
     "output_type": "stream",
     "text": [
      "Saved study after trial 4/50\n",
      "Early termination at epoch 35 with best validation metric 0.015395636271153177\n"
     ]
    },
    {
     "name": "stderr",
     "output_type": "stream",
     "text": [
      "[I 2025-02-24 18:43:12,694] Trial 4 finished with value: 0.015395636271153177 and parameters: {'lr': 0.00023345864076016249, 'beta0': 0.8140703845572055, 'beta1': 0.9197677044336776, 'batch_size': 48, 'patience': 14, 'conv_depth': 3}. Best is trial 0 with value: 0.01487285936517375.\n"
     ]
    },
    {
     "name": "stdout",
     "output_type": "stream",
     "text": [
      "Saved study after trial 5/50\n",
      "Early termination at epoch 62 with best validation metric 0.015073596499860287\n"
     ]
    },
    {
     "name": "stderr",
     "output_type": "stream",
     "text": [
      "[I 2025-02-24 18:52:54,375] Trial 5 finished with value: 0.015073596499860287 and parameters: {'lr': 0.0006647135865318024, 'beta0': 0.5682096494749166, 'beta1': 0.9064401077055427, 'batch_size': 64, 'patience': 20, 'conv_depth': 5}. Best is trial 0 with value: 0.01487285936517375.\n"
     ]
    },
    {
     "name": "stdout",
     "output_type": "stream",
     "text": [
      "Saved study after trial 6/50\n",
      "Early termination at epoch 28 with best validation metric 0.0160194581374526\n"
     ]
    },
    {
     "name": "stderr",
     "output_type": "stream",
     "text": [
      "[I 2025-02-24 18:56:59,765] Trial 6 finished with value: 0.0160194581374526 and parameters: {'lr': 8.200518402245828e-05, 'beta0': 0.5390688456025535, 'beta1': 0.9677390696247036, 'batch_size': 32, 'patience': 6, 'conv_depth': 4}. Best is trial 0 with value: 0.01487285936517375.\n"
     ]
    },
    {
     "name": "stdout",
     "output_type": "stream",
     "text": [
      "Saved study after trial 7/50\n",
      "Early termination at epoch 100 with best validation metric 0.016184706773076738\n"
     ]
    },
    {
     "name": "stderr",
     "output_type": "stream",
     "text": [
      "[I 2025-02-24 19:11:29,507] Trial 7 finished with value: 0.016184706773076738 and parameters: {'lr': 1.2681352169084594e-05, 'beta0': 0.8637281608315128, 'beta1': 0.9256192181784016, 'batch_size': 48, 'patience': 9, 'conv_depth': 4}. Best is trial 0 with value: 0.01487285936517375.\n"
     ]
    },
    {
     "name": "stdout",
     "output_type": "stream",
     "text": [
      "Saved study after trial 8/50\n",
      "Early termination at epoch 53 with best validation metric 0.015442042984068394\n"
     ]
    },
    {
     "name": "stderr",
     "output_type": "stream",
     "text": [
      "[I 2025-02-24 19:19:47,267] Trial 8 finished with value: 0.015442042984068394 and parameters: {'lr': 0.00043664735929796326, 'beta0': 0.5739417822102109, 'beta1': 0.9959888781486913, 'batch_size': 64, 'patience': 20, 'conv_depth': 5}. Best is trial 0 with value: 0.01487285936517375.\n"
     ]
    },
    {
     "name": "stdout",
     "output_type": "stream",
     "text": [
      "Saved study after trial 9/50\n",
      "Early termination at epoch 9 with best validation metric 0.019257484150952416\n"
     ]
    },
    {
     "name": "stderr",
     "output_type": "stream",
     "text": [
      "[I 2025-02-24 19:20:58,286] Trial 9 finished with value: 0.019257484150952416 and parameters: {'lr': 0.0006218704727769079, 'beta0': 0.8687496940092467, 'beta1': 0.90876075770314, 'batch_size': 16, 'patience': 5, 'conv_depth': 3}. Best is trial 0 with value: 0.01487285936517375.\n"
     ]
    },
    {
     "name": "stdout",
     "output_type": "stream",
     "text": [
      "Saved study after trial 10/50\n",
      "Early termination at epoch 16 with best validation metric 0.02681635469198227\n"
     ]
    },
    {
     "name": "stderr",
     "output_type": "stream",
     "text": [
      "[I 2025-02-24 19:23:05,324] Trial 10 finished with value: 0.02681635469198227 and parameters: {'lr': 0.0068455702672729195, 'beta0': 0.723540359302987, 'beta1': 0.9906087573135777, 'batch_size': 32, 'patience': 14, 'conv_depth': 3}. Best is trial 0 with value: 0.01487285936517375.\n"
     ]
    },
    {
     "name": "stdout",
     "output_type": "stream",
     "text": [
      "Saved study after trial 11/50\n",
      "Early termination at epoch 55 with best validation metric 0.014328091125935315\n"
     ]
    },
    {
     "name": "stderr",
     "output_type": "stream",
     "text": [
      "[I 2025-02-24 19:30:22,142] Trial 11 finished with value: 0.014328091125935315 and parameters: {'lr': 7.18046873406319e-05, 'beta0': 0.6748125749264994, 'beta1': 0.9737214290456229, 'batch_size': 32, 'patience': 10, 'conv_depth': 3}. Best is trial 11 with value: 0.014328091125935315.\n"
     ]
    },
    {
     "name": "stdout",
     "output_type": "stream",
     "text": [
      "Saved study after trial 12/50\n",
      "Early termination at epoch 70 with best validation metric 0.017263684514909984\n"
     ]
    },
    {
     "name": "stderr",
     "output_type": "stream",
     "text": [
      "[I 2025-02-24 19:39:38,262] Trial 12 finished with value: 0.017263684514909984 and parameters: {'lr': 4.401221219313826e-05, 'beta0': 0.695283026623079, 'beta1': 0.9785489704402699, 'batch_size': 32, 'patience': 11, 'conv_depth': 3}. Best is trial 11 with value: 0.014328091125935315.\n"
     ]
    },
    {
     "name": "stdout",
     "output_type": "stream",
     "text": [
      "Saved study after trial 13/50\n",
      "Early termination at epoch 88 with best validation metric 0.01513431580471141\n"
     ]
    },
    {
     "name": "stderr",
     "output_type": "stream",
     "text": [
      "[I 2025-02-24 19:51:15,362] Trial 13 finished with value: 0.01513431580471141 and parameters: {'lr': 5.798828244014344e-05, 'beta0': 0.7516495050993751, 'beta1': 0.943247791491741, 'batch_size': 48, 'patience': 12, 'conv_depth': 3}. Best is trial 11 with value: 0.014328091125935315.\n"
     ]
    },
    {
     "name": "stdout",
     "output_type": "stream",
     "text": [
      "Saved study after trial 14/50\n",
      "Early termination at epoch 36 with best validation metric 0.014709743950515986\n"
     ]
    },
    {
     "name": "stderr",
     "output_type": "stream",
     "text": [
      "[I 2025-02-24 19:56:01,446] Trial 14 finished with value: 0.014709743950515986 and parameters: {'lr': 0.00011038251665362917, 'beta0': 0.663932511405382, 'beta1': 0.9438324463314899, 'batch_size': 32, 'patience': 7, 'conv_depth': 3}. Best is trial 11 with value: 0.014328091125935315.\n"
     ]
    },
    {
     "name": "stdout",
     "output_type": "stream",
     "text": [
      "Saved study after trial 15/50\n",
      "Early termination at epoch 67 with best validation metric 0.0183141534216702\n"
     ]
    },
    {
     "name": "stderr",
     "output_type": "stream",
     "text": [
      "[I 2025-02-24 20:05:46,223] Trial 15 finished with value: 0.0183141534216702 and parameters: {'lr': 2.4041110909890757e-05, 'beta0': 0.6657978239005176, 'beta1': 0.9417780101825407, 'batch_size': 32, 'patience': 17, 'conv_depth': 4}. Best is trial 11 with value: 0.014328091125935315.\n"
     ]
    },
    {
     "name": "stdout",
     "output_type": "stream",
     "text": [
      "Saved study after trial 16/50\n",
      "Early termination at epoch 10 with best validation metric 0.02090940997004509\n"
     ]
    },
    {
     "name": "stderr",
     "output_type": "stream",
     "text": [
      "[I 2025-02-24 20:07:05,793] Trial 16 finished with value: 0.02090940997004509 and parameters: {'lr': 0.0014463051350748612, 'beta0': 0.6429399420748426, 'beta1': 0.9512416516523925, 'batch_size': 32, 'patience': 8, 'conv_depth': 3}. Best is trial 11 with value: 0.014328091125935315.\n"
     ]
    },
    {
     "name": "stdout",
     "output_type": "stream",
     "text": [
      "Saved study after trial 17/50\n",
      "Early termination at epoch 39 with best validation metric 0.015239730722417957\n"
     ]
    },
    {
     "name": "stderr",
     "output_type": "stream",
     "text": [
      "[I 2025-02-24 20:12:12,016] Trial 17 finished with value: 0.015239730722417957 and parameters: {'lr': 0.0001029909934284852, 'beta0': 0.7756623291939448, 'beta1': 0.9347173333142399, 'batch_size': 16, 'patience': 11, 'conv_depth': 3}. Best is trial 11 with value: 0.014328091125935315.\n"
     ]
    },
    {
     "name": "stdout",
     "output_type": "stream",
     "text": [
      "Saved study after trial 18/50\n",
      "Early termination at epoch 80 with best validation metric 0.016693324502557515\n"
     ]
    },
    {
     "name": "stderr",
     "output_type": "stream",
     "text": [
      "[I 2025-02-24 20:22:45,796] Trial 18 finished with value: 0.016693324502557515 and parameters: {'lr': 3.712052790518846e-05, 'beta0': 0.6887545278975021, 'beta1': 0.9829422839725696, 'batch_size': 32, 'patience': 14, 'conv_depth': 3}. Best is trial 11 with value: 0.014328091125935315.\n"
     ]
    },
    {
     "name": "stdout",
     "output_type": "stream",
     "text": [
      "Saved study after trial 19/50\n",
      "Early termination at epoch 10 with best validation metric 0.028004741198138186\n"
     ]
    },
    {
     "name": "stderr",
     "output_type": "stream",
     "text": [
      "[I 2025-02-24 20:24:13,670] Trial 19 finished with value: 0.028004741198138186 and parameters: {'lr': 0.001311645299105619, 'beta0': 0.5083654265933615, 'beta1': 0.9523837752211909, 'batch_size': 16, 'patience': 7, 'conv_depth': 4}. Best is trial 11 with value: 0.014328091125935315.\n"
     ]
    },
    {
     "name": "stdout",
     "output_type": "stream",
     "text": [
      "Saved study after trial 20/50\n",
      "Early termination at epoch 52 with best validation metric 0.01575802033767104\n"
     ]
    },
    {
     "name": "stderr",
     "output_type": "stream",
     "text": [
      "[I 2025-02-24 20:31:48,220] Trial 20 finished with value: 0.01575802033767104 and parameters: {'lr': 2.6924859635302664e-05, 'beta0': 0.632147684627727, 'beta1': 0.9335098611013507, 'batch_size': 32, 'patience': 10, 'conv_depth': 4}. Best is trial 11 with value: 0.014328091125935315.\n"
     ]
    },
    {
     "name": "stdout",
     "output_type": "stream",
     "text": [
      "Saved study after trial 21/50\n",
      "Early termination at epoch 42 with best validation metric 0.016350594216159413\n"
     ]
    },
    {
     "name": "stderr",
     "output_type": "stream",
     "text": [
      "[I 2025-02-24 20:37:21,384] Trial 21 finished with value: 0.016350594216159413 and parameters: {'lr': 0.00014154362929008342, 'beta0': 0.7844956023752008, 'beta1': 0.973856366346794, 'batch_size': 48, 'patience': 7, 'conv_depth': 3}. Best is trial 11 with value: 0.014328091125935315.\n"
     ]
    },
    {
     "name": "stdout",
     "output_type": "stream",
     "text": [
      "Saved study after trial 22/50\n",
      "Early termination at epoch 43 with best validation metric 0.015892966650426388\n"
     ]
    },
    {
     "name": "stderr",
     "output_type": "stream",
     "text": [
      "[I 2025-02-24 20:43:03,619] Trial 22 finished with value: 0.015892966650426388 and parameters: {'lr': 9.175814292112453e-05, 'beta0': 0.7270775859930179, 'beta1': 0.9669319050519536, 'batch_size': 64, 'patience': 7, 'conv_depth': 3}. Best is trial 11 with value: 0.014328091125935315.\n"
     ]
    },
    {
     "name": "stdout",
     "output_type": "stream",
     "text": [
      "Saved study after trial 23/50\n",
      "Early termination at epoch 41 with best validation metric 0.014941376633942127\n"
     ]
    },
    {
     "name": "stderr",
     "output_type": "stream",
     "text": [
      "[I 2025-02-24 20:48:28,805] Trial 23 finished with value: 0.014941376633942127 and parameters: {'lr': 0.00027518137885975227, 'beta0': 0.6613580160053659, 'beta1': 0.9861865195688125, 'batch_size': 48, 'patience': 8, 'conv_depth': 3}. Best is trial 11 with value: 0.014328091125935315.\n"
     ]
    },
    {
     "name": "stdout",
     "output_type": "stream",
     "text": [
      "Saved study after trial 24/50\n",
      "Early termination at epoch 18 with best validation metric 0.014721457008272409\n"
     ]
    },
    {
     "name": "stderr",
     "output_type": "stream",
     "text": [
      "[I 2025-02-24 20:50:52,011] Trial 24 finished with value: 0.014721457008272409 and parameters: {'lr': 0.00014745919209803812, 'beta0': 0.6069439886026196, 'beta1': 0.9722337567763338, 'batch_size': 32, 'patience': 6, 'conv_depth': 3}. Best is trial 11 with value: 0.014328091125935315.\n"
     ]
    },
    {
     "name": "stdout",
     "output_type": "stream",
     "text": [
      "Saved study after trial 25/50\n",
      "Early termination at epoch 47 with best validation metric 0.016063548810780048\n"
     ]
    },
    {
     "name": "stderr",
     "output_type": "stream",
     "text": [
      "[I 2025-02-24 20:57:05,821] Trial 25 finished with value: 0.016063548810780048 and parameters: {'lr': 6.229821976335228e-05, 'beta0': 0.6141414513549436, 'beta1': 0.9561182550326754, 'batch_size': 32, 'patience': 5, 'conv_depth': 3}. Best is trial 11 with value: 0.014328091125935315.\n"
     ]
    },
    {
     "name": "stdout",
     "output_type": "stream",
     "text": [
      "Saved study after trial 26/50\n",
      "Early termination at epoch 26 with best validation metric 0.01580449230968952\n"
     ]
    },
    {
     "name": "stderr",
     "output_type": "stream",
     "text": [
      "[I 2025-02-24 21:00:32,755] Trial 26 finished with value: 0.01580449230968952 and parameters: {'lr': 0.0003893566378915579, 'beta0': 0.5965034367491711, 'beta1': 0.9983904357199211, 'batch_size': 32, 'patience': 10, 'conv_depth': 3}. Best is trial 11 with value: 0.014328091125935315.\n"
     ]
    },
    {
     "name": "stdout",
     "output_type": "stream",
     "text": [
      "Saved study after trial 27/50\n",
      "Early termination at epoch 24 with best validation metric 0.015474805049598217\n"
     ]
    },
    {
     "name": "stderr",
     "output_type": "stream",
     "text": [
      "[I 2025-02-24 21:04:03,008] Trial 27 finished with value: 0.015474805049598217 and parameters: {'lr': 0.00019067594876368463, 'beta0': 0.6654919324785349, 'beta1': 0.9454483632007488, 'batch_size': 32, 'patience': 6, 'conv_depth': 4}. Best is trial 11 with value: 0.014328091125935315.\n"
     ]
    },
    {
     "name": "stdout",
     "output_type": "stream",
     "text": [
      "Saved study after trial 28/50\n",
      "Early termination at epoch 73 with best validation metric 0.014168287088212213\n"
     ]
    },
    {
     "name": "stderr",
     "output_type": "stream",
     "text": [
      "[I 2025-02-24 21:13:36,135] Trial 28 finished with value: 0.014168287088212213 and parameters: {'lr': 3.0042242414350954e-05, 'beta0': 0.5479976048972254, 'beta1': 0.9677604446378554, 'batch_size': 16, 'patience': 13, 'conv_depth': 3}. Best is trial 28 with value: 0.014168287088212213.\n"
     ]
    },
    {
     "name": "stdout",
     "output_type": "stream",
     "text": [
      "Saved study after trial 29/50\n",
      "Early termination at epoch 85 with best validation metric 0.014210974062351804\n"
     ]
    },
    {
     "name": "stderr",
     "output_type": "stream",
     "text": [
      "[I 2025-02-24 21:24:43,221] Trial 29 finished with value: 0.014210974062351804 and parameters: {'lr': 1.9725336037004648e-05, 'beta0': 0.5050997483884869, 'beta1': 0.9693704245901902, 'batch_size': 16, 'patience': 16, 'conv_depth': 3}. Best is trial 28 with value: 0.014168287088212213.\n"
     ]
    },
    {
     "name": "stdout",
     "output_type": "stream",
     "text": [
      "Saved study after trial 30/50\n",
      "Early termination at epoch 123 with best validation metric 0.01572662224306872\n"
     ]
    },
    {
     "name": "stderr",
     "output_type": "stream",
     "text": [
      "[I 2025-02-24 21:40:48,449] Trial 30 finished with value: 0.01572662224306872 and parameters: {'lr': 1.876877458668536e-05, 'beta0': 0.5036509004223116, 'beta1': 0.9646060638516132, 'batch_size': 16, 'patience': 16, 'conv_depth': 3}. Best is trial 28 with value: 0.014168287088212213.\n"
     ]
    },
    {
     "name": "stdout",
     "output_type": "stream",
     "text": [
      "Saved study after trial 31/50\n",
      "Early termination at epoch 144 with best validation metric 0.016120969660972293\n"
     ]
    },
    {
     "name": "stderr",
     "output_type": "stream",
     "text": [
      "[I 2025-02-24 21:59:38,368] Trial 31 finished with value: 0.016120969660972293 and parameters: {'lr': 1.0531668678012371e-05, 'beta0': 0.5433471289441532, 'beta1': 0.9756465793885875, 'batch_size': 16, 'patience': 16, 'conv_depth': 3}. Best is trial 28 with value: 0.014168287088212213.\n"
     ]
    },
    {
     "name": "stdout",
     "output_type": "stream",
     "text": [
      "Saved study after trial 32/50\n",
      "Early termination at epoch 67 with best validation metric 0.015124109965798101\n"
     ]
    },
    {
     "name": "stderr",
     "output_type": "stream",
     "text": [
      "[I 2025-02-24 22:08:24,284] Trial 32 finished with value: 0.015124109965798101 and parameters: {'lr': 3.28005119584126e-05, 'beta0': 0.5402213777388812, 'beta1': 0.9598396066097037, 'batch_size': 16, 'patience': 13, 'conv_depth': 3}. Best is trial 28 with value: 0.014168287088212213.\n"
     ]
    },
    {
     "name": "stdout",
     "output_type": "stream",
     "text": [
      "Saved study after trial 33/50\n",
      "Early termination at epoch 117 with best validation metric 0.015456165554688164\n"
     ]
    },
    {
     "name": "stderr",
     "output_type": "stream",
     "text": [
      "[I 2025-02-24 22:23:42,413] Trial 33 finished with value: 0.015456165554688164 and parameters: {'lr': 1.9200134301785817e-05, 'beta0': 0.526164586545078, 'beta1': 0.9820896633848264, 'batch_size': 16, 'patience': 17, 'conv_depth': 3}. Best is trial 28 with value: 0.014168287088212213.\n"
     ]
    },
    {
     "name": "stdout",
     "output_type": "stream",
     "text": [
      "Saved study after trial 34/50\n",
      "Early termination at epoch 41 with best validation metric 0.014248873107135296\n"
     ]
    },
    {
     "name": "stderr",
     "output_type": "stream",
     "text": [
      "[I 2025-02-24 22:29:04,253] Trial 34 finished with value: 0.014248873107135296 and parameters: {'lr': 5.1687631850385105e-05, 'beta0': 0.5676566680760727, 'beta1': 0.9704104435442656, 'batch_size': 16, 'patience': 12, 'conv_depth': 3}. Best is trial 28 with value: 0.014168287088212213.\n"
     ]
    },
    {
     "name": "stdout",
     "output_type": "stream",
     "text": [
      "Saved study after trial 35/50\n",
      "Early termination at epoch 43 with best validation metric 0.016357078265986945\n"
     ]
    },
    {
     "name": "stderr",
     "output_type": "stream",
     "text": [
      "[I 2025-02-24 22:34:41,796] Trial 35 finished with value: 0.016357078265986945 and parameters: {'lr': 5.127563344790234e-05, 'beta0': 0.5611523765044939, 'beta1': 0.9698997048993626, 'batch_size': 16, 'patience': 13, 'conv_depth': 3}. Best is trial 28 with value: 0.014168287088212213.\n"
     ]
    },
    {
     "name": "stdout",
     "output_type": "stream",
     "text": [
      "Saved study after trial 36/50\n",
      "Early termination at epoch 52 with best validation metric 0.015936755722290592\n"
     ]
    },
    {
     "name": "stderr",
     "output_type": "stream",
     "text": [
      "[I 2025-02-24 22:42:16,695] Trial 36 finished with value: 0.015936755722290592 and parameters: {'lr': 1.7087812442731533e-05, 'beta0': 0.5001141893159928, 'beta1': 0.9620984856354106, 'batch_size': 16, 'patience': 15, 'conv_depth': 4}. Best is trial 28 with value: 0.014168287088212213.\n"
     ]
    },
    {
     "name": "stdout",
     "output_type": "stream",
     "text": [
      "Saved study after trial 37/50\n",
      "Early termination at epoch 50 with best validation metric 0.014948560415129913\n"
     ]
    },
    {
     "name": "stderr",
     "output_type": "stream",
     "text": [
      "[I 2025-02-24 22:50:22,752] Trial 37 finished with value: 0.014948560415129913 and parameters: {'lr': 7.135825089085744e-05, 'beta0': 0.5864217803879359, 'beta1': 0.9780237400569897, 'batch_size': 16, 'patience': 12, 'conv_depth': 5}. Best is trial 28 with value: 0.014168287088212213.\n"
     ]
    },
    {
     "name": "stdout",
     "output_type": "stream",
     "text": [
      "Saved study after trial 38/50\n",
      "Early termination at epoch 95 with best validation metric 0.01498393057600448\n"
     ]
    },
    {
     "name": "stderr",
     "output_type": "stream",
     "text": [
      "[I 2025-02-24 23:02:48,201] Trial 38 finished with value: 0.01498393057600448 and parameters: {'lr': 2.9402845911401816e-05, 'beta0': 0.5530104288169903, 'beta1': 0.9887359178489393, 'batch_size': 16, 'patience': 18, 'conv_depth': 3}. Best is trial 28 with value: 0.014168287088212213.\n"
     ]
    },
    {
     "name": "stdout",
     "output_type": "stream",
     "text": [
      "Saved study after trial 39/50\n",
      "Early termination at epoch 57 with best validation metric 0.015496812858863881\n"
     ]
    },
    {
     "name": "stderr",
     "output_type": "stream",
     "text": [
      "[I 2025-02-24 23:11:06,755] Trial 39 finished with value: 0.015496812858863881 and parameters: {'lr': 1.4773701488439736e-05, 'beta0': 0.5277958591323855, 'beta1': 0.9546986356984954, 'batch_size': 16, 'patience': 11, 'conv_depth': 4}. Best is trial 28 with value: 0.014168287088212213.\n"
     ]
    },
    {
     "name": "stdout",
     "output_type": "stream",
     "text": [
      "Saved study after trial 40/50\n",
      "Early termination at epoch 165 with best validation metric 0.016314605398005562\n"
     ]
    },
    {
     "name": "stderr",
     "output_type": "stream",
     "text": [
      "[I 2025-02-24 23:32:41,789] Trial 40 finished with value: 0.016314605398005562 and parameters: {'lr': 1.0230601881840214e-05, 'beta0': 0.5782824910774981, 'beta1': 0.9689228933112807, 'batch_size': 16, 'patience': 19, 'conv_depth': 3}. Best is trial 28 with value: 0.014168287088212213.\n"
     ]
    },
    {
     "name": "stdout",
     "output_type": "stream",
     "text": [
      "Saved study after trial 41/50\n",
      "Early termination at epoch 56 with best validation metric 0.014744036242757974\n"
     ]
    },
    {
     "name": "stderr",
     "output_type": "stream",
     "text": [
      "[I 2025-02-24 23:40:01,491] Trial 41 finished with value: 0.014744036242757974 and parameters: {'lr': 4.0566597477314135e-05, 'beta0': 0.6403725213757576, 'beta1': 0.9582558501302255, 'batch_size': 16, 'patience': 10, 'conv_depth': 3}. Best is trial 28 with value: 0.014168287088212213.\n"
     ]
    },
    {
     "name": "stdout",
     "output_type": "stream",
     "text": [
      "Saved study after trial 42/50\n",
      "Early termination at epoch 35 with best validation metric 0.016005716845393182\n"
     ]
    },
    {
     "name": "stderr",
     "output_type": "stream",
     "text": [
      "[I 2025-02-24 23:44:39,528] Trial 42 finished with value: 0.016005716845393182 and parameters: {'lr': 0.00011287244689762841, 'beta0': 0.520509658374898, 'beta1': 0.9383200058657798, 'batch_size': 32, 'patience': 15, 'conv_depth': 3}. Best is trial 28 with value: 0.014168287088212213.\n"
     ]
    },
    {
     "name": "stdout",
     "output_type": "stream",
     "text": [
      "Saved study after trial 43/50\n",
      "Early termination at epoch 46 with best validation metric 0.01604528009499374\n"
     ]
    },
    {
     "name": "stderr",
     "output_type": "stream",
     "text": [
      "[I 2025-02-24 23:50:40,829] Trial 43 finished with value: 0.01604528009499374 and parameters: {'lr': 7.790619515290915e-05, 'beta0': 0.7238067427460568, 'beta1': 0.9472590248261027, 'batch_size': 16, 'patience': 13, 'conv_depth': 3}. Best is trial 28 with value: 0.014168287088212213.\n"
     ]
    },
    {
     "name": "stdout",
     "output_type": "stream",
     "text": [
      "Saved study after trial 44/50\n",
      "Early termination at epoch 39 with best validation metric 0.015702072996646166\n"
     ]
    },
    {
     "name": "stderr",
     "output_type": "stream",
     "text": [
      "[I 2025-02-24 23:55:50,806] Trial 44 finished with value: 0.015702072996646166 and parameters: {'lr': 5.0058698485261804e-05, 'beta0': 0.5645096847701945, 'beta1': 0.9255308300855382, 'batch_size': 32, 'patience': 9, 'conv_depth': 3}. Best is trial 28 with value: 0.014168287088212213.\n"
     ]
    },
    {
     "name": "stdout",
     "output_type": "stream",
     "text": [
      "Saved study after trial 45/50\n",
      "Early termination at epoch 58 with best validation metric 0.013481746476731803\n"
     ]
    },
    {
     "name": "stderr",
     "output_type": "stream",
     "text": [
      "[I 2025-02-25 00:03:26,494] Trial 45 finished with value: 0.013481746476731803 and parameters: {'lr': 0.00020493669723429056, 'beta0': 0.6825716340701502, 'beta1': 0.963578107487935, 'batch_size': 16, 'patience': 15, 'conv_depth': 3}. Best is trial 45 with value: 0.013481746476731803.\n"
     ]
    },
    {
     "name": "stdout",
     "output_type": "stream",
     "text": [
      "Saved study after trial 46/50\n",
      "Early termination at epoch 56 with best validation metric 0.01388723163032218\n"
     ]
    },
    {
     "name": "stderr",
     "output_type": "stream",
     "text": [
      "[I 2025-02-25 00:11:36,631] Trial 46 finished with value: 0.01388723163032218 and parameters: {'lr': 0.00017352144810290327, 'beta0': 0.897295474554602, 'beta1': 0.9644788509037481, 'batch_size': 16, 'patience': 15, 'conv_depth': 4}. Best is trial 45 with value: 0.013481746476731803.\n"
     ]
    },
    {
     "name": "stdout",
     "output_type": "stream",
     "text": [
      "Saved study after trial 47/50\n",
      "Early termination at epoch 61 with best validation metric 0.01405004274688269\n"
     ]
    },
    {
     "name": "stderr",
     "output_type": "stream",
     "text": [
      "[I 2025-02-25 00:21:29,885] Trial 47 finished with value: 0.01405004274688269 and parameters: {'lr': 0.00017819979590421068, 'beta0': 0.8442602078027228, 'beta1': 0.9636294127418924, 'batch_size': 16, 'patience': 15, 'conv_depth': 5}. Best is trial 45 with value: 0.013481746476731803.\n"
     ]
    },
    {
     "name": "stdout",
     "output_type": "stream",
     "text": [
      "Saved study after trial 48/50\n",
      "Early termination at epoch 28 with best validation metric 0.01585175278351495\n"
     ]
    },
    {
     "name": "stderr",
     "output_type": "stream",
     "text": [
      "[I 2025-02-25 00:26:02,350] Trial 48 finished with value: 0.01585175278351495 and parameters: {'lr': 0.0005009586517720581, 'beta0': 0.886518210291152, 'beta1': 0.9636883399310149, 'batch_size': 16, 'patience': 15, 'conv_depth': 5}. Best is trial 45 with value: 0.013481746476731803.\n"
     ]
    },
    {
     "name": "stdout",
     "output_type": "stream",
     "text": [
      "Saved study after trial 49/50\n",
      "Early termination at epoch 43 with best validation metric 0.013674672693014145\n"
     ]
    },
    {
     "name": "stderr",
     "output_type": "stream",
     "text": [
      "[I 2025-02-25 00:33:00,550] Trial 49 finished with value: 0.013674672693014145 and parameters: {'lr': 0.0002401595939857567, 'beta0': 0.8302468618693862, 'beta1': 0.9657688633409095, 'batch_size': 16, 'patience': 16, 'conv_depth': 5}. Best is trial 45 with value: 0.013481746476731803.\n"
     ]
    },
    {
     "name": "stdout",
     "output_type": "stream",
     "text": [
      "Saved study after trial 50/50\n",
      "Best trial for channel OrigER:\n",
      "  Validation Loss: 0.013481746476731803\n",
      "  Hyperparameters: {'lr': 0.00020493669723429056, 'beta0': 0.6825716340701502, 'beta1': 0.963578107487935, 'batch_size': 16, 'patience': 15, 'conv_depth': 3}\n"
     ]
    },
    {
     "name": "stderr",
     "output_type": "stream",
     "text": [
      "[I 2025-02-25 00:33:03,403] A new study created in memory with name: FNet_optimize_OrigAGP_low_confluence\n"
     ]
    },
    {
     "name": "stdout",
     "output_type": "stream",
     "text": [
      "Beginning optimization for channel: OrigAGP for low_confluence\n",
      "Early termination at epoch 32 with best validation metric 0.002086294216236898\n"
     ]
    },
    {
     "name": "stderr",
     "output_type": "stream",
     "text": [
      "[I 2025-02-25 00:37:17,493] Trial 0 finished with value: 0.002086294216236898 and parameters: {'lr': 0.0001329291894316216, 'beta0': 0.8802857225639664, 'beta1': 0.9724674002393291, 'batch_size': 48, 'patience': 7, 'conv_depth': 3}. Best is trial 0 with value: 0.002086294216236898.\n"
     ]
    },
    {
     "name": "stdout",
     "output_type": "stream",
     "text": [
      "Saved study after trial 1/50\n",
      "Early termination at epoch 108 with best validation metric 0.002237351844087243\n"
     ]
    },
    {
     "name": "stderr",
     "output_type": "stream",
     "text": [
      "[I 2025-02-25 00:54:14,799] Trial 1 finished with value: 0.002237351844087243 and parameters: {'lr': 1.493656855461762e-05, 'beta0': 0.846470458309974, 'beta1': 0.9595103861625777, 'batch_size': 48, 'patience': 5, 'conv_depth': 5}. Best is trial 0 with value: 0.002086294216236898.\n"
     ]
    },
    {
     "name": "stdout",
     "output_type": "stream",
     "text": [
      "Saved study after trial 2/50\n",
      "Early termination at epoch 17 with best validation metric 0.003010017589028729\n"
     ]
    },
    {
     "name": "stderr",
     "output_type": "stream",
     "text": [
      "[I 2025-02-25 00:56:43,671] Trial 2 finished with value: 0.003010017589028729 and parameters: {'lr': 0.00314288089084011, 'beta0': 0.5849356442713105, 'beta1': 0.918000671753503, 'batch_size': 16, 'patience': 9, 'conv_depth': 4}. Best is trial 0 with value: 0.002086294216236898.\n"
     ]
    },
    {
     "name": "stdout",
     "output_type": "stream",
     "text": [
      "Saved study after trial 3/50\n",
      "Early termination at epoch 19 with best validation metric 0.00223179997900795\n"
     ]
    },
    {
     "name": "stderr",
     "output_type": "stream",
     "text": [
      "[I 2025-02-25 00:59:30,056] Trial 3 finished with value: 0.00223179997900795 and parameters: {'lr': 0.00019762189340280086, 'beta0': 0.6164916560792167, 'beta1': 0.9605734365775156, 'batch_size': 16, 'patience': 9, 'conv_depth': 4}. Best is trial 0 with value: 0.002086294216236898.\n"
     ]
    },
    {
     "name": "stdout",
     "output_type": "stream",
     "text": [
      "Saved study after trial 4/50\n",
      "Early termination at epoch 47 with best validation metric 0.0018942754250019789\n"
     ]
    },
    {
     "name": "stderr",
     "output_type": "stream",
     "text": [
      "[I 2025-02-25 01:05:43,119] Trial 4 finished with value: 0.0018942754250019789 and parameters: {'lr': 0.00023345864076016249, 'beta0': 0.8140703845572055, 'beta1': 0.9197677044336776, 'batch_size': 48, 'patience': 14, 'conv_depth': 3}. Best is trial 4 with value: 0.0018942754250019789.\n"
     ]
    },
    {
     "name": "stdout",
     "output_type": "stream",
     "text": [
      "Saved study after trial 5/50\n",
      "Early termination at epoch 31 with best validation metric 0.0024860397446900607\n"
     ]
    },
    {
     "name": "stderr",
     "output_type": "stream",
     "text": [
      "[I 2025-02-25 01:10:33,468] Trial 5 finished with value: 0.0024860397446900607 and parameters: {'lr': 0.0006647135865318024, 'beta0': 0.5682096494749166, 'beta1': 0.9064401077055427, 'batch_size': 64, 'patience': 20, 'conv_depth': 5}. Best is trial 4 with value: 0.0018942754250019789.\n"
     ]
    },
    {
     "name": "stdout",
     "output_type": "stream",
     "text": [
      "Saved study after trial 6/50\n",
      "Early termination at epoch 40 with best validation metric 0.0021392400842159985\n"
     ]
    },
    {
     "name": "stderr",
     "output_type": "stream",
     "text": [
      "[I 2025-02-25 01:16:22,677] Trial 6 finished with value: 0.0021392400842159985 and parameters: {'lr': 8.200518402245828e-05, 'beta0': 0.5390688456025535, 'beta1': 0.9677390696247036, 'batch_size': 32, 'patience': 6, 'conv_depth': 4}. Best is trial 4 with value: 0.0018942754250019789.\n"
     ]
    },
    {
     "name": "stdout",
     "output_type": "stream",
     "text": [
      "Saved study after trial 7/50\n",
      "Early termination at epoch 122 with best validation metric 0.002314295819295304\n"
     ]
    },
    {
     "name": "stderr",
     "output_type": "stream",
     "text": [
      "[I 2025-02-25 01:34:03,788] Trial 7 finished with value: 0.002314295819295304 and parameters: {'lr': 1.2681352169084594e-05, 'beta0': 0.8637281608315128, 'beta1': 0.9256192181784016, 'batch_size': 48, 'patience': 9, 'conv_depth': 4}. Best is trial 4 with value: 0.0018942754250019789.\n"
     ]
    },
    {
     "name": "stdout",
     "output_type": "stream",
     "text": [
      "Saved study after trial 8/50\n",
      "Early termination at epoch 70 with best validation metric 0.0020235928473994135\n"
     ]
    },
    {
     "name": "stderr",
     "output_type": "stream",
     "text": [
      "[I 2025-02-25 01:44:59,421] Trial 8 finished with value: 0.0020235928473994135 and parameters: {'lr': 0.00043664735929796326, 'beta0': 0.5739417822102109, 'beta1': 0.9959888781486913, 'batch_size': 64, 'patience': 20, 'conv_depth': 5}. Best is trial 4 with value: 0.0018942754250019789.\n"
     ]
    },
    {
     "name": "stdout",
     "output_type": "stream",
     "text": [
      "Saved study after trial 9/50\n",
      "Early termination at epoch 16 with best validation metric 0.0021380558364877573\n"
     ]
    },
    {
     "name": "stderr",
     "output_type": "stream",
     "text": [
      "[I 2025-02-25 01:47:05,249] Trial 9 finished with value: 0.0021380558364877573 and parameters: {'lr': 0.0006218704727769079, 'beta0': 0.8687496940092467, 'beta1': 0.90876075770314, 'batch_size': 16, 'patience': 5, 'conv_depth': 3}. Best is trial 4 with value: 0.0018942754250019789.\n"
     ]
    },
    {
     "name": "stdout",
     "output_type": "stream",
     "text": [
      "Saved study after trial 10/50\n",
      "Early termination at epoch 35 with best validation metric 0.0037839216878637672\n"
     ]
    },
    {
     "name": "stderr",
     "output_type": "stream",
     "text": [
      "[I 2025-02-25 01:51:42,339] Trial 10 finished with value: 0.0037839216878637672 and parameters: {'lr': 0.0068455702672729195, 'beta0': 0.7699188271527112, 'beta1': 0.9365041484993887, 'batch_size': 32, 'patience': 15, 'conv_depth': 3}. Best is trial 4 with value: 0.0018942754250019789.\n"
     ]
    },
    {
     "name": "stdout",
     "output_type": "stream",
     "text": [
      "Saved study after trial 11/50\n",
      "Early termination at epoch 49 with best validation metric 0.0026277455035597086\n"
     ]
    },
    {
     "name": "stderr",
     "output_type": "stream",
     "text": [
      "[I 2025-02-25 01:59:21,423] Trial 11 finished with value: 0.0026277455035597086 and parameters: {'lr': 0.0012063574037730366, 'beta0': 0.6703888071772833, 'beta1': 0.9937492257626248, 'batch_size': 64, 'patience': 20, 'conv_depth': 5}. Best is trial 4 with value: 0.0018942754250019789.\n"
     ]
    },
    {
     "name": "stdout",
     "output_type": "stream",
     "text": [
      "Saved study after trial 12/50\n",
      "Early termination at epoch 140 with best validation metric 0.0019516822649165988\n"
     ]
    },
    {
     "name": "stderr",
     "output_type": "stream",
     "text": [
      "[I 2025-02-25 02:17:53,470] Trial 12 finished with value: 0.0019516822649165988 and parameters: {'lr': 5.281845643346632e-05, 'beta0': 0.7150525006967121, 'beta1': 0.9948396413158568, 'batch_size': 64, 'patience': 16, 'conv_depth': 3}. Best is trial 4 with value: 0.0018942754250019789.\n"
     ]
    },
    {
     "name": "stdout",
     "output_type": "stream",
     "text": [
      "Saved study after trial 13/50\n",
      "Early termination at epoch 172 with best validation metric 0.0020454064942896366\n"
     ]
    },
    {
     "name": "stderr",
     "output_type": "stream",
     "text": [
      "[I 2025-02-25 02:40:40,260] Trial 13 finished with value: 0.0020454064942896366 and parameters: {'lr': 4.441279673315895e-05, 'beta0': 0.7583425762812964, 'beta1': 0.9412107260876053, 'batch_size': 64, 'patience': 15, 'conv_depth': 3}. Best is trial 4 with value: 0.0018942754250019789.\n"
     ]
    },
    {
     "name": "stdout",
     "output_type": "stream",
     "text": [
      "Saved study after trial 14/50\n",
      "Early termination at epoch 180 with best validation metric 0.0020216456947049926\n"
     ]
    },
    {
     "name": "stderr",
     "output_type": "stream",
     "text": [
      "[I 2025-02-25 03:04:29,554] Trial 14 finished with value: 0.0020216456947049926 and parameters: {'lr': 2.187826668204124e-05, 'beta0': 0.7674503158256253, 'beta1': 0.9812671077471163, 'batch_size': 48, 'patience': 15, 'conv_depth': 3}. Best is trial 4 with value: 0.0018942754250019789.\n"
     ]
    },
    {
     "name": "stdout",
     "output_type": "stream",
     "text": [
      "Saved study after trial 15/50\n",
      "Early termination at epoch 55 with best validation metric 0.00206638501258567\n"
     ]
    },
    {
     "name": "stderr",
     "output_type": "stream",
     "text": [
      "[I 2025-02-25 03:11:45,409] Trial 15 finished with value: 0.00206638501258567 and parameters: {'lr': 5.416602106482636e-05, 'beta0': 0.7096180494226023, 'beta1': 0.9484991364299578, 'batch_size': 32, 'patience': 13, 'conv_depth': 3}. Best is trial 4 with value: 0.0018942754250019789.\n"
     ]
    },
    {
     "name": "stdout",
     "output_type": "stream",
     "text": [
      "Saved study after trial 16/50\n",
      "Early termination at epoch 44 with best validation metric 0.002144875191152096\n"
     ]
    },
    {
     "name": "stderr",
     "output_type": "stream",
     "text": [
      "[I 2025-02-25 03:18:08,137] Trial 16 finished with value: 0.002144875191152096 and parameters: {'lr': 0.0002205122975432932, 'beta0': 0.8129061294568871, 'beta1': 0.9318746240366109, 'batch_size': 64, 'patience': 17, 'conv_depth': 4}. Best is trial 4 with value: 0.0018942754250019789.\n"
     ]
    },
    {
     "name": "stdout",
     "output_type": "stream",
     "text": [
      "Saved study after trial 17/50\n",
      "Early termination at epoch 127 with best validation metric 0.0019285381339224322\n"
     ]
    },
    {
     "name": "stderr",
     "output_type": "stream",
     "text": [
      "[I 2025-02-25 03:34:56,707] Trial 17 finished with value: 0.0019285381339224322 and parameters: {'lr': 2.8536872173972552e-05, 'beta0': 0.6935096430992, 'beta1': 0.9812267530654826, 'batch_size': 48, 'patience': 17, 'conv_depth': 3}. Best is trial 4 with value: 0.0018942754250019789.\n"
     ]
    },
    {
     "name": "stdout",
     "output_type": "stream",
     "text": [
      "Saved study after trial 18/50\n",
      "Early termination at epoch 112 with best validation metric 0.0021278405828135355\n"
     ]
    },
    {
     "name": "stderr",
     "output_type": "stream",
     "text": [
      "[I 2025-02-25 03:49:46,008] Trial 18 finished with value: 0.0021278405828135355 and parameters: {'lr': 2.418092849725909e-05, 'beta0': 0.6463832132089642, 'beta1': 0.9202152816989657, 'batch_size': 48, 'patience': 12, 'conv_depth': 3}. Best is trial 4 with value: 0.0018942754250019789.\n"
     ]
    },
    {
     "name": "stdout",
     "output_type": "stream",
     "text": [
      "Saved study after trial 19/50\n",
      "Early termination at epoch 31 with best validation metric 0.0024966430617496373\n"
     ]
    },
    {
     "name": "stderr",
     "output_type": "stream",
     "text": [
      "[I 2025-02-25 03:54:16,943] Trial 19 finished with value: 0.0024966430617496373 and parameters: {'lr': 0.0016263290418960029, 'beta0': 0.8059945790401394, 'beta1': 0.98311438767879, 'batch_size': 32, 'patience': 18, 'conv_depth': 4}. Best is trial 4 with value: 0.0018942754250019789.\n"
     ]
    },
    {
     "name": "stdout",
     "output_type": "stream",
     "text": [
      "Saved study after trial 20/50\n",
      "Early termination at epoch 79 with best validation metric 0.0021768295472221716\n"
     ]
    },
    {
     "name": "stderr",
     "output_type": "stream",
     "text": [
      "[I 2025-02-25 04:04:44,728] Trial 20 finished with value: 0.0021768295472221716 and parameters: {'lr': 9.785798129439226e-05, 'beta0': 0.685225062757794, 'beta1': 0.9013047422237115, 'batch_size': 48, 'patience': 13, 'conv_depth': 3}. Best is trial 4 with value: 0.0018942754250019789.\n"
     ]
    },
    {
     "name": "stdout",
     "output_type": "stream",
     "text": [
      "Saved study after trial 21/50\n",
      "Early termination at epoch 193 with best validation metric 0.0020714296959340574\n"
     ]
    },
    {
     "name": "stderr",
     "output_type": "stream",
     "text": [
      "[I 2025-02-25 04:30:18,684] Trial 21 finished with value: 0.0020714296959340574 and parameters: {'lr': 3.840865630868052e-05, 'beta0': 0.7184494805462578, 'beta1': 0.9859129203374862, 'batch_size': 64, 'patience': 17, 'conv_depth': 3}. Best is trial 4 with value: 0.0018942754250019789.\n"
     ]
    },
    {
     "name": "stdout",
     "output_type": "stream",
     "text": [
      "Saved study after trial 22/50\n",
      "Early termination at epoch 108 with best validation metric 0.0018905981310776301\n"
     ]
    },
    {
     "name": "stderr",
     "output_type": "stream",
     "text": [
      "[I 2025-02-25 04:44:36,278] Trial 22 finished with value: 0.0018905981310776301 and parameters: {'lr': 7.601614646752211e-05, 'beta0': 0.7448355924622251, 'beta1': 0.9958876159875368, 'batch_size': 48, 'patience': 18, 'conv_depth': 3}. Best is trial 22 with value: 0.0018905981310776301.\n"
     ]
    },
    {
     "name": "stdout",
     "output_type": "stream",
     "text": [
      "Saved study after trial 23/50\n",
      "Early termination at epoch 76 with best validation metric 0.001750842368762408\n"
     ]
    },
    {
     "name": "stderr",
     "output_type": "stream",
     "text": [
      "[I 2025-02-25 04:54:39,907] Trial 23 finished with value: 0.001750842368762408 and parameters: {'lr': 0.00020700423684988692, 'beta0': 0.8113751577963516, 'beta1': 0.9776028044835365, 'batch_size': 48, 'patience': 18, 'conv_depth': 3}. Best is trial 23 with value: 0.001750842368762408.\n"
     ]
    },
    {
     "name": "stdout",
     "output_type": "stream",
     "text": [
      "Saved study after trial 24/50\n",
      "Early termination at epoch 59 with best validation metric 0.0019022108587835515\n"
     ]
    },
    {
     "name": "stderr",
     "output_type": "stream",
     "text": [
      "[I 2025-02-25 05:02:28,261] Trial 24 finished with value: 0.0019022108587835515 and parameters: {'lr': 0.00027352695827432275, 'beta0': 0.8154730906683186, 'beta1': 0.9720024145214223, 'batch_size': 48, 'patience': 18, 'conv_depth': 3}. Best is trial 23 with value: 0.001750842368762408.\n"
     ]
    },
    {
     "name": "stdout",
     "output_type": "stream",
     "text": [
      "Saved study after trial 25/50\n",
      "Early termination at epoch 61 with best validation metric 0.0018551298999227583\n"
     ]
    },
    {
     "name": "stderr",
     "output_type": "stream",
     "text": [
      "[I 2025-02-25 05:10:31,341] Trial 25 finished with value: 0.0018551298999227583 and parameters: {'lr': 0.00011901201418035821, 'beta0': 0.7498673788033164, 'beta1': 0.9513637133611755, 'batch_size': 32, 'patience': 11, 'conv_depth': 3}. Best is trial 23 with value: 0.001750842368762408.\n"
     ]
    },
    {
     "name": "stdout",
     "output_type": "stream",
     "text": [
      "Saved study after trial 26/50\n",
      "Early termination at epoch 45 with best validation metric 0.0019385838881134988\n"
     ]
    },
    {
     "name": "stderr",
     "output_type": "stream",
     "text": [
      "[I 2025-02-25 05:17:04,162] Trial 26 finished with value: 0.0019385838881134988 and parameters: {'lr': 0.00011668975382467694, 'beta0': 0.7438309002966608, 'beta1': 0.9541439673682495, 'batch_size': 32, 'patience': 11, 'conv_depth': 4}. Best is trial 23 with value: 0.001750842368762408.\n"
     ]
    },
    {
     "name": "stdout",
     "output_type": "stream",
     "text": [
      "Saved study after trial 27/50\n",
      "Early termination at epoch 43 with best validation metric 0.002128072932828218\n"
     ]
    },
    {
     "name": "stderr",
     "output_type": "stream",
     "text": [
      "[I 2025-02-25 05:22:44,889] Trial 27 finished with value: 0.002128072932828218 and parameters: {'lr': 7.665616224782823e-05, 'beta0': 0.7801151332999178, 'beta1': 0.9895845861270708, 'batch_size': 32, 'patience': 11, 'conv_depth': 3}. Best is trial 23 with value: 0.001750842368762408.\n"
     ]
    },
    {
     "name": "stdout",
     "output_type": "stream",
     "text": [
      "Saved study after trial 28/50\n",
      "Early termination at epoch 109 with best validation metric 0.001870553963817656\n"
     ]
    },
    {
     "name": "stderr",
     "output_type": "stream",
     "text": [
      "[I 2025-02-25 05:38:35,716] Trial 28 finished with value: 0.001870553963817656 and parameters: {'lr': 0.00014981021344071476, 'beta0': 0.7306441496217031, 'beta1': 0.998965890287899, 'batch_size': 32, 'patience': 18, 'conv_depth': 4}. Best is trial 23 with value: 0.001750842368762408.\n"
     ]
    },
    {
     "name": "stdout",
     "output_type": "stream",
     "text": [
      "Saved study after trial 29/50\n",
      "Early termination at epoch 59 with best validation metric 0.0019084219937212765\n"
     ]
    },
    {
     "name": "stderr",
     "output_type": "stream",
     "text": [
      "[I 2025-02-25 05:47:10,631] Trial 29 finished with value: 0.0019084219937212765 and parameters: {'lr': 0.00013482389588228137, 'beta0': 0.8989879313923892, 'beta1': 0.97532651534271, 'batch_size': 32, 'patience': 10, 'conv_depth': 4}. Best is trial 23 with value: 0.001750842368762408.\n"
     ]
    },
    {
     "name": "stdout",
     "output_type": "stream",
     "text": [
      "Saved study after trial 30/50\n",
      "Early termination at epoch 37 with best validation metric 0.001829400480920939\n"
     ]
    },
    {
     "name": "stderr",
     "output_type": "stream",
     "text": [
      "[I 2025-02-25 05:52:34,533] Trial 30 finished with value: 0.001829400480920939 and parameters: {'lr': 0.00037433889275553334, 'beta0': 0.6515387101112664, 'beta1': 0.968794187970979, 'batch_size': 16, 'patience': 7, 'conv_depth': 4}. Best is trial 23 with value: 0.001750842368762408.\n"
     ]
    },
    {
     "name": "stdout",
     "output_type": "stream",
     "text": [
      "Saved study after trial 31/50\n",
      "Early termination at epoch 20 with best validation metric 0.0020907217220060134\n"
     ]
    },
    {
     "name": "stderr",
     "output_type": "stream",
     "text": [
      "[I 2025-02-25 05:55:29,770] Trial 31 finished with value: 0.0020907217220060134 and parameters: {'lr': 0.0004456250818980064, 'beta0': 0.6469348516971666, 'beta1': 0.9651735773535053, 'batch_size': 16, 'patience': 7, 'conv_depth': 4}. Best is trial 23 with value: 0.001750842368762408.\n"
     ]
    },
    {
     "name": "stdout",
     "output_type": "stream",
     "text": [
      "Saved study after trial 32/50\n",
      "Early termination at epoch 98 with best validation metric 0.0018355057354232198\n"
     ]
    },
    {
     "name": "stderr",
     "output_type": "stream",
     "text": [
      "[I 2025-02-25 06:11:22,015] Trial 32 finished with value: 0.0018355057354232198 and parameters: {'lr': 0.0001534412716638003, 'beta0': 0.7322125991420521, 'beta1': 0.9510463269540625, 'batch_size': 16, 'patience': 19, 'conv_depth': 5}. Best is trial 23 with value: 0.001750842368762408.\n"
     ]
    },
    {
     "name": "stdout",
     "output_type": "stream",
     "text": [
      "Saved study after trial 33/50\n",
      "Early termination at epoch 20 with best validation metric 0.002249554761587397\n"
     ]
    },
    {
     "name": "stderr",
     "output_type": "stream",
     "text": [
      "[I 2025-02-25 06:14:36,742] Trial 33 finished with value: 0.002249554761587397 and parameters: {'lr': 0.0003445240079923399, 'beta0': 0.7920106565555004, 'beta1': 0.949131796760247, 'batch_size': 16, 'patience': 7, 'conv_depth': 5}. Best is trial 23 with value: 0.001750842368762408.\n"
     ]
    },
    {
     "name": "stdout",
     "output_type": "stream",
     "text": [
      "Saved study after trial 34/50\n",
      "Early termination at epoch 16 with best validation metric 0.0022672546451519195\n"
     ]
    },
    {
     "name": "stderr",
     "output_type": "stream",
     "text": [
      "[I 2025-02-25 06:17:12,659] Trial 34 finished with value: 0.0022672546451519195 and parameters: {'lr': 0.0008176438651960472, 'beta0': 0.845633704370954, 'beta1': 0.9578260322279792, 'batch_size': 16, 'patience': 8, 'conv_depth': 5}. Best is trial 23 with value: 0.001750842368762408.\n"
     ]
    },
    {
     "name": "stdout",
     "output_type": "stream",
     "text": [
      "Saved study after trial 35/50\n",
      "Early termination at epoch 48 with best validation metric 0.0018688276667441976\n"
     ]
    },
    {
     "name": "stderr",
     "output_type": "stream",
     "text": [
      "[I 2025-02-25 06:24:59,277] Trial 35 finished with value: 0.0018688276667441976 and parameters: {'lr': 0.00016877423282859896, 'beta0': 0.6548899361966785, 'beta1': 0.9649756957311761, 'batch_size': 16, 'patience': 8, 'conv_depth': 5}. Best is trial 23 with value: 0.001750842368762408.\n"
     ]
    },
    {
     "name": "stdout",
     "output_type": "stream",
     "text": [
      "Saved study after trial 36/50\n",
      "Early termination at epoch 44 with best validation metric 0.0017507594556694752\n"
     ]
    },
    {
     "name": "stderr",
     "output_type": "stream",
     "text": [
      "[I 2025-02-25 06:32:07,110] Trial 36 finished with value: 0.0017507594556694752 and parameters: {'lr': 0.0003464934029604173, 'beta0': 0.5026835747994041, 'beta1': 0.9436081600804647, 'batch_size': 16, 'patience': 19, 'conv_depth': 5}. Best is trial 36 with value: 0.0017507594556694752.\n"
     ]
    },
    {
     "name": "stdout",
     "output_type": "stream",
     "text": [
      "Saved study after trial 37/50\n",
      "Early termination at epoch 37 with best validation metric 0.0022121260285769637\n"
     ]
    },
    {
     "name": "stderr",
     "output_type": "stream",
     "text": [
      "[I 2025-02-25 06:38:06,586] Trial 37 finished with value: 0.0022121260285769637 and parameters: {'lr': 0.002054611427054195, 'beta0': 0.5015875544655202, 'beta1': 0.9410286880529428, 'batch_size': 16, 'patience': 19, 'conv_depth': 5}. Best is trial 36 with value: 0.0017507594556694752.\n"
     ]
    },
    {
     "name": "stdout",
     "output_type": "stream",
     "text": [
      "Saved study after trial 38/50\n",
      "Early termination at epoch 62 with best validation metric 0.0016903299103049857\n"
     ]
    },
    {
     "name": "stderr",
     "output_type": "stream",
     "text": [
      "[I 2025-02-25 06:48:09,201] Trial 38 finished with value: 0.0016903299103049857 and parameters: {'lr': 0.0003172162078172074, 'beta0': 0.6076649540080956, 'beta1': 0.9434924713645615, 'batch_size': 16, 'patience': 19, 'conv_depth': 5}. Best is trial 38 with value: 0.0016903299103049857.\n"
     ]
    },
    {
     "name": "stdout",
     "output_type": "stream",
     "text": [
      "Saved study after trial 39/50\n",
      "Early termination at epoch 47 with best validation metric 0.0018465399411261867\n"
     ]
    },
    {
     "name": "stderr",
     "output_type": "stream",
     "text": [
      "[I 2025-02-25 06:55:45,963] Trial 39 finished with value: 0.0018465399411261867 and parameters: {'lr': 0.00039001775526054414, 'beta0': 0.6017882423461942, 'beta1': 0.9750345222177677, 'batch_size': 16, 'patience': 19, 'conv_depth': 5}. Best is trial 38 with value: 0.0016903299103049857.\n"
     ]
    },
    {
     "name": "stdout",
     "output_type": "stream",
     "text": [
      "Saved study after trial 40/50\n",
      "Early termination at epoch 40 with best validation metric 0.0022781579877789084\n"
     ]
    },
    {
     "name": "stderr",
     "output_type": "stream",
     "text": [
      "[I 2025-02-25 07:02:14,794] Trial 40 finished with value: 0.0022781579877789084 and parameters: {'lr': 0.0009500405685238478, 'beta0': 0.5388400275965203, 'beta1': 0.9286091442156648, 'batch_size': 16, 'patience': 16, 'conv_depth': 5}. Best is trial 38 with value: 0.0016903299103049857.\n"
     ]
    },
    {
     "name": "stdout",
     "output_type": "stream",
     "text": [
      "Saved study after trial 41/50\n",
      "Early termination at epoch 27 with best validation metric 0.002284044516272843\n"
     ]
    },
    {
     "name": "stderr",
     "output_type": "stream",
     "text": [
      "[I 2025-02-25 07:06:37,404] Trial 41 finished with value: 0.002284044516272843 and parameters: {'lr': 0.0005398212646876043, 'beta0': 0.6249143523144638, 'beta1': 0.9425117433136045, 'batch_size': 16, 'patience': 19, 'conv_depth': 5}. Best is trial 38 with value: 0.0016903299103049857.\n"
     ]
    },
    {
     "name": "stdout",
     "output_type": "stream",
     "text": [
      "Saved study after trial 42/50\n",
      "Early termination at epoch 64 with best validation metric 0.0018160118856222222\n"
     ]
    },
    {
     "name": "stderr",
     "output_type": "stream",
     "text": [
      "[I 2025-02-25 07:16:59,326] Trial 42 finished with value: 0.0018160118856222222 and parameters: {'lr': 0.00024908367239731853, 'beta0': 0.5361117208812672, 'beta1': 0.9578805118250507, 'batch_size': 16, 'patience': 20, 'conv_depth': 5}. Best is trial 38 with value: 0.0016903299103049857.\n"
     ]
    },
    {
     "name": "stdout",
     "output_type": "stream",
     "text": [
      "Saved study after trial 43/50\n",
      "Early termination at epoch 55 with best validation metric 0.0017277578529166547\n"
     ]
    },
    {
     "name": "stderr",
     "output_type": "stream",
     "text": [
      "[I 2025-02-25 07:25:53,658] Trial 43 finished with value: 0.0017277578529166547 and parameters: {'lr': 0.0002739114389181749, 'beta0': 0.5451838094388259, 'beta1': 0.958937704329144, 'batch_size': 16, 'patience': 20, 'conv_depth': 5}. Best is trial 38 with value: 0.0016903299103049857.\n"
     ]
    },
    {
     "name": "stdout",
     "output_type": "stream",
     "text": [
      "Saved study after trial 44/50\n",
      "Early termination at epoch 80 with best validation metric 0.0017362122889608145\n"
     ]
    },
    {
     "name": "stderr",
     "output_type": "stream",
     "text": [
      "[I 2025-02-25 07:38:50,894] Trial 44 finished with value: 0.0017362122889608145 and parameters: {'lr': 0.00026339519059047546, 'beta0': 0.5021834301509251, 'beta1': 0.9611078874971718, 'batch_size': 16, 'patience': 20, 'conv_depth': 5}. Best is trial 38 with value: 0.0016903299103049857.\n"
     ]
    },
    {
     "name": "stdout",
     "output_type": "stream",
     "text": [
      "Saved study after trial 45/50\n",
      "Early termination at epoch 42 with best validation metric 0.001815524430161244\n"
     ]
    },
    {
     "name": "stderr",
     "output_type": "stream",
     "text": [
      "[I 2025-02-25 07:45:39,114] Trial 45 finished with value: 0.001815524430161244 and parameters: {'lr': 0.0003019563212429499, 'beta0': 0.5039211461821134, 'beta1': 0.9451114305999937, 'batch_size': 16, 'patience': 20, 'conv_depth': 5}. Best is trial 38 with value: 0.0016903299103049857.\n"
     ]
    },
    {
     "name": "stdout",
     "output_type": "stream",
     "text": [
      "Saved study after trial 46/50\n",
      "Early termination at epoch 46 with best validation metric 0.0018545403390338546\n"
     ]
    },
    {
     "name": "stderr",
     "output_type": "stream",
     "text": [
      "[I 2025-02-25 07:53:06,164] Trial 46 finished with value: 0.0018545403390338546 and parameters: {'lr': 0.0005770150667827985, 'beta0': 0.5595294013178294, 'beta1': 0.9368269390374034, 'batch_size': 16, 'patience': 19, 'conv_depth': 5}. Best is trial 38 with value: 0.0016903299103049857.\n"
     ]
    },
    {
     "name": "stdout",
     "output_type": "stream",
     "text": [
      "Saved study after trial 47/50\n",
      "Early termination at epoch 85 with best validation metric 0.0017399501459869115\n"
     ]
    },
    {
     "name": "stderr",
     "output_type": "stream",
     "text": [
      "[I 2025-02-25 08:06:51,972] Trial 47 finished with value: 0.0017399501459869115 and parameters: {'lr': 0.00019031398239274702, 'beta0': 0.5157110100582939, 'beta1': 0.9609849897505037, 'batch_size': 16, 'patience': 20, 'conv_depth': 5}. Best is trial 38 with value: 0.0016903299103049857.\n"
     ]
    },
    {
     "name": "stdout",
     "output_type": "stream",
     "text": [
      "Saved study after trial 48/50\n",
      "Early termination at epoch 28 with best validation metric 0.0020051613621609775\n"
     ]
    },
    {
     "name": "stderr",
     "output_type": "stream",
     "text": [
      "[I 2025-02-25 08:11:24,279] Trial 48 finished with value: 0.0020051613621609775 and parameters: {'lr': 0.0008342548605606136, 'beta0': 0.5204483535122505, 'beta1': 0.962065086220449, 'batch_size': 16, 'patience': 20, 'conv_depth': 5}. Best is trial 38 with value: 0.0016903299103049857.\n"
     ]
    },
    {
     "name": "stdout",
     "output_type": "stream",
     "text": [
      "Saved study after trial 49/50\n",
      "Early termination at epoch 38 with best validation metric 0.003759042347634309\n"
     ]
    },
    {
     "name": "stderr",
     "output_type": "stream",
     "text": [
      "[I 2025-02-25 08:17:33,292] Trial 49 finished with value: 0.003759042347634309 and parameters: {'lr': 0.0046329548760061495, 'beta0': 0.5594837774931251, 'beta1': 0.9553147033478214, 'batch_size': 16, 'patience': 20, 'conv_depth': 5}. Best is trial 38 with value: 0.0016903299103049857.\n"
     ]
    },
    {
     "name": "stdout",
     "output_type": "stream",
     "text": [
      "Saved study after trial 50/50\n",
      "Best trial for channel OrigAGP:\n",
      "  Validation Loss: 0.0016903299103049857\n",
      "  Hyperparameters: {'lr': 0.0003172162078172074, 'beta0': 0.6076649540080956, 'beta1': 0.9434924713645615, 'batch_size': 16, 'patience': 19, 'conv_depth': 5}\n"
     ]
    },
    {
     "name": "stderr",
     "output_type": "stream",
     "text": [
      "[I 2025-02-25 08:17:35,009] A new study created in memory with name: FNet_optimize_OrigMito_low_confluence\n"
     ]
    },
    {
     "name": "stdout",
     "output_type": "stream",
     "text": [
      "Beginning optimization for channel: OrigMito for low_confluence\n",
      "Early termination at epoch 32 with best validation metric 0.03895239904522896\n"
     ]
    },
    {
     "name": "stderr",
     "output_type": "stream",
     "text": [
      "[I 2025-02-25 08:21:48,964] Trial 0 finished with value: 0.03895239904522896 and parameters: {'lr': 0.0001329291894316216, 'beta0': 0.8802857225639664, 'beta1': 0.9724674002393291, 'batch_size': 48, 'patience': 7, 'conv_depth': 3}. Best is trial 0 with value: 0.03895239904522896.\n"
     ]
    },
    {
     "name": "stdout",
     "output_type": "stream",
     "text": [
      "Saved study after trial 1/50\n",
      "Early termination at epoch 38 with best validation metric 0.04879397792475564\n"
     ]
    },
    {
     "name": "stderr",
     "output_type": "stream",
     "text": [
      "[I 2025-02-25 08:27:46,902] Trial 1 finished with value: 0.04879397792475564 and parameters: {'lr': 1.493656855461762e-05, 'beta0': 0.846470458309974, 'beta1': 0.9595103861625777, 'batch_size': 48, 'patience': 5, 'conv_depth': 5}. Best is trial 0 with value: 0.03895239904522896.\n"
     ]
    },
    {
     "name": "stdout",
     "output_type": "stream",
     "text": [
      "Saved study after trial 2/50\n",
      "Early termination at epoch 23 with best validation metric 0.044973029509971015\n"
     ]
    },
    {
     "name": "stderr",
     "output_type": "stream",
     "text": [
      "[I 2025-02-25 08:31:08,353] Trial 2 finished with value: 0.044973029509971015 and parameters: {'lr': 0.00314288089084011, 'beta0': 0.5849356442713105, 'beta1': 0.918000671753503, 'batch_size': 16, 'patience': 9, 'conv_depth': 4}. Best is trial 0 with value: 0.03895239904522896.\n"
     ]
    },
    {
     "name": "stdout",
     "output_type": "stream",
     "text": [
      "Saved study after trial 3/50\n",
      "Early termination at epoch 44 with best validation metric 0.038784569815585486\n"
     ]
    },
    {
     "name": "stderr",
     "output_type": "stream",
     "text": [
      "[I 2025-02-25 08:37:33,489] Trial 3 finished with value: 0.038784569815585486 and parameters: {'lr': 0.00019762189340280086, 'beta0': 0.6164916560792167, 'beta1': 0.9605734365775156, 'batch_size': 16, 'patience': 9, 'conv_depth': 4}. Best is trial 3 with value: 0.038784569815585486.\n"
     ]
    },
    {
     "name": "stdout",
     "output_type": "stream",
     "text": [
      "Saved study after trial 4/50\n",
      "Early termination at epoch 41 with best validation metric 0.04084474007998194\n"
     ]
    },
    {
     "name": "stderr",
     "output_type": "stream",
     "text": [
      "[I 2025-02-25 08:42:58,796] Trial 4 finished with value: 0.04084474007998194 and parameters: {'lr': 0.00023345864076016249, 'beta0': 0.8140703845572055, 'beta1': 0.9197677044336776, 'batch_size': 48, 'patience': 14, 'conv_depth': 3}. Best is trial 3 with value: 0.038784569815585486.\n"
     ]
    },
    {
     "name": "stdout",
     "output_type": "stream",
     "text": [
      "Saved study after trial 5/50\n",
      "Early termination at epoch 80 with best validation metric 0.03560031801462173\n"
     ]
    },
    {
     "name": "stderr",
     "output_type": "stream",
     "text": [
      "[I 2025-02-25 08:55:29,239] Trial 5 finished with value: 0.03560031801462173 and parameters: {'lr': 0.0006647135865318024, 'beta0': 0.5682096494749166, 'beta1': 0.9064401077055427, 'batch_size': 64, 'patience': 20, 'conv_depth': 5}. Best is trial 5 with value: 0.03560031801462173.\n"
     ]
    },
    {
     "name": "stdout",
     "output_type": "stream",
     "text": [
      "Saved study after trial 6/50\n",
      "Early termination at epoch 19 with best validation metric 0.04187108464539051\n"
     ]
    },
    {
     "name": "stderr",
     "output_type": "stream",
     "text": [
      "[I 2025-02-25 08:58:15,962] Trial 6 finished with value: 0.04187108464539051 and parameters: {'lr': 8.200518402245828e-05, 'beta0': 0.5390688456025535, 'beta1': 0.9677390696247036, 'batch_size': 32, 'patience': 6, 'conv_depth': 4}. Best is trial 5 with value: 0.03560031801462173.\n"
     ]
    },
    {
     "name": "stdout",
     "output_type": "stream",
     "text": [
      "Saved study after trial 7/50\n",
      "Early termination at epoch 65 with best validation metric 0.04372251592576504\n"
     ]
    },
    {
     "name": "stderr",
     "output_type": "stream",
     "text": [
      "[I 2025-02-25 09:07:41,365] Trial 7 finished with value: 0.04372251592576504 and parameters: {'lr': 1.2681352169084594e-05, 'beta0': 0.8637281608315128, 'beta1': 0.9256192181784016, 'batch_size': 48, 'patience': 9, 'conv_depth': 4}. Best is trial 5 with value: 0.03560031801462173.\n"
     ]
    },
    {
     "name": "stdout",
     "output_type": "stream",
     "text": [
      "Saved study after trial 8/50\n",
      "Early termination at epoch 85 with best validation metric 0.0383660577237606\n"
     ]
    },
    {
     "name": "stderr",
     "output_type": "stream",
     "text": [
      "[I 2025-02-25 09:20:59,320] Trial 8 finished with value: 0.0383660577237606 and parameters: {'lr': 0.00043664735929796326, 'beta0': 0.5739417822102109, 'beta1': 0.9959888781486913, 'batch_size': 64, 'patience': 20, 'conv_depth': 5}. Best is trial 5 with value: 0.03560031801462173.\n"
     ]
    },
    {
     "name": "stdout",
     "output_type": "stream",
     "text": [
      "Saved study after trial 9/50\n",
      "Early termination at epoch 13 with best validation metric 0.0391110310232953\n"
     ]
    },
    {
     "name": "stderr",
     "output_type": "stream",
     "text": [
      "[I 2025-02-25 09:22:41,744] Trial 9 finished with value: 0.0391110310232953 and parameters: {'lr': 0.0006218704727769079, 'beta0': 0.8687496940092467, 'beta1': 0.90876075770314, 'batch_size': 16, 'patience': 5, 'conv_depth': 3}. Best is trial 5 with value: 0.03560031801462173.\n"
     ]
    },
    {
     "name": "stdout",
     "output_type": "stream",
     "text": [
      "Saved study after trial 10/50\n",
      "Early termination at epoch 73 with best validation metric 0.04877614080905914\n"
     ]
    },
    {
     "name": "stderr",
     "output_type": "stream",
     "text": [
      "[I 2025-02-25 09:34:04,766] Trial 10 finished with value: 0.04877614080905914 and parameters: {'lr': 0.007329034530653055, 'beta0': 0.6893309285818674, 'beta1': 0.9365041484993887, 'batch_size': 64, 'patience': 20, 'conv_depth': 5}. Best is trial 5 with value: 0.03560031801462173.\n"
     ]
    },
    {
     "name": "stdout",
     "output_type": "stream",
     "text": [
      "Saved study after trial 11/50\n",
      "Early termination at epoch 46 with best validation metric 0.04169386327266693\n"
     ]
    },
    {
     "name": "stderr",
     "output_type": "stream",
     "text": [
      "[I 2025-02-25 09:41:16,864] Trial 11 finished with value: 0.04169386327266693 and parameters: {'lr': 0.0011699870383462653, 'beta0': 0.5042726118615525, 'beta1': 0.9937492257626248, 'batch_size': 64, 'patience': 20, 'conv_depth': 5}. Best is trial 5 with value: 0.03560031801462173.\n"
     ]
    },
    {
     "name": "stdout",
     "output_type": "stream",
     "text": [
      "Saved study after trial 12/50\n",
      "Early termination at epoch 37 with best validation metric 0.0482336550951004\n"
     ]
    },
    {
     "name": "stderr",
     "output_type": "stream",
     "text": [
      "[I 2025-02-25 09:47:04,320] Trial 12 finished with value: 0.0482336550951004 and parameters: {'lr': 0.0012307357270847695, 'beta0': 0.6553114397524481, 'beta1': 0.9948396413158568, 'batch_size': 64, 'patience': 16, 'conv_depth': 5}. Best is trial 5 with value: 0.03560031801462173.\n"
     ]
    },
    {
     "name": "stdout",
     "output_type": "stream",
     "text": [
      "Saved study after trial 13/50\n",
      "Early termination at epoch 114 with best validation metric 0.04201593026518822\n"
     ]
    },
    {
     "name": "stderr",
     "output_type": "stream",
     "text": [
      "[I 2025-02-25 10:05:48,372] Trial 13 finished with value: 0.04201593026518822 and parameters: {'lr': 5.19880339466954e-05, 'beta0': 0.7583425762812964, 'beta1': 0.9397554675745082, 'batch_size': 64, 'patience': 17, 'conv_depth': 5}. Best is trial 5 with value: 0.03560031801462173.\n"
     ]
    },
    {
     "name": "stdout",
     "output_type": "stream",
     "text": [
      "Saved study after trial 14/50\n",
      "Early termination at epoch 52 with best validation metric 0.037500256486237046\n"
     ]
    },
    {
     "name": "stderr",
     "output_type": "stream",
     "text": [
      "[I 2025-02-25 10:14:46,369] Trial 14 finished with value: 0.037500256486237046 and parameters: {'lr': 0.0005865741130439002, 'beta0': 0.5799079094317888, 'beta1': 0.9019642045300428, 'batch_size': 32, 'patience': 18, 'conv_depth': 5}. Best is trial 5 with value: 0.03560031801462173.\n"
     ]
    },
    {
     "name": "stdout",
     "output_type": "stream",
     "text": [
      "Saved study after trial 15/50\n",
      "Early termination at epoch 44 with best validation metric 0.04060394167900085\n"
     ]
    },
    {
     "name": "stderr",
     "output_type": "stream",
     "text": [
      "[I 2025-02-25 10:21:39,572] Trial 15 finished with value: 0.04060394167900085 and parameters: {'lr': 0.0021643584456856177, 'beta0': 0.6308462258130115, 'beta1': 0.9025293999862438, 'batch_size': 32, 'patience': 17, 'conv_depth': 4}. Best is trial 5 with value: 0.03560031801462173.\n"
     ]
    },
    {
     "name": "stdout",
     "output_type": "stream",
     "text": [
      "Saved study after trial 16/50\n",
      "Early termination at epoch 57 with best validation metric 0.03850736357271671\n"
     ]
    },
    {
     "name": "stderr",
     "output_type": "stream",
     "text": [
      "[I 2025-02-25 10:31:16,508] Trial 16 finished with value: 0.03850736357271671 and parameters: {'lr': 0.0005403290887924732, 'beta0': 0.505756842299721, 'beta1': 0.9014258410708162, 'batch_size': 32, 'patience': 14, 'conv_depth': 5}. Best is trial 5 with value: 0.03560031801462173.\n"
     ]
    },
    {
     "name": "stdout",
     "output_type": "stream",
     "text": [
      "Saved study after trial 17/50\n",
      "Early termination at epoch 75 with best validation metric 0.0424591738730669\n"
     ]
    },
    {
     "name": "stderr",
     "output_type": "stream",
     "text": [
      "[I 2025-02-25 10:43:50,498] Trial 17 finished with value: 0.0424591738730669 and parameters: {'lr': 0.00529387027052947, 'beta0': 0.7272061098519709, 'beta1': 0.9317641676833619, 'batch_size': 32, 'patience': 18, 'conv_depth': 5}. Best is trial 5 with value: 0.03560031801462173.\n"
     ]
    },
    {
     "name": "stdout",
     "output_type": "stream",
     "text": [
      "Saved study after trial 18/50\n",
      "Early termination at epoch 49 with best validation metric 0.045149696724755425\n"
     ]
    },
    {
     "name": "stderr",
     "output_type": "stream",
     "text": [
      "[I 2025-02-25 10:52:30,508] Trial 18 finished with value: 0.045149696724755425 and parameters: {'lr': 3.844615260400127e-05, 'beta0': 0.5650415638181954, 'beta1': 0.913078326232069, 'batch_size': 48, 'patience': 12, 'conv_depth': 5}. Best is trial 5 with value: 0.03560031801462173.\n"
     ]
    },
    {
     "name": "stdout",
     "output_type": "stream",
     "text": [
      "Saved study after trial 19/50\n",
      "Early termination at epoch 39 with best validation metric 0.039020232111215594\n"
     ]
    },
    {
     "name": "stderr",
     "output_type": "stream",
     "text": [
      "[I 2025-02-25 10:58:51,366] Trial 19 finished with value: 0.039020232111215594 and parameters: {'lr': 0.0010233137624656074, 'beta0': 0.6738616867986352, 'beta1': 0.945507456892577, 'batch_size': 32, 'patience': 18, 'conv_depth': 4}. Best is trial 5 with value: 0.03560031801462173.\n"
     ]
    },
    {
     "name": "stdout",
     "output_type": "stream",
     "text": [
      "Saved study after trial 20/50\n",
      "Early termination at epoch 47 with best validation metric 0.039069811372380504\n"
     ]
    },
    {
     "name": "stderr",
     "output_type": "stream",
     "text": [
      "[I 2025-02-25 11:06:27,623] Trial 20 finished with value: 0.039069811372380504 and parameters: {'lr': 0.0026239370299810084, 'beta0': 0.6125657038315837, 'beta1': 0.9260782761565347, 'batch_size': 16, 'patience': 14, 'conv_depth': 4}. Best is trial 5 with value: 0.03560031801462173.\n"
     ]
    },
    {
     "name": "stdout",
     "output_type": "stream",
     "text": [
      "Saved study after trial 21/50\n",
      "Early termination at epoch 90 with best validation metric 0.04045398980379104\n"
     ]
    },
    {
     "name": "stderr",
     "output_type": "stream",
     "text": [
      "[I 2025-02-25 11:21:43,152] Trial 21 finished with value: 0.04045398980379104 and parameters: {'lr': 0.00043855819535432297, 'beta0': 0.5737802904372572, 'beta1': 0.9824490066328136, 'batch_size': 64, 'patience': 20, 'conv_depth': 5}. Best is trial 5 with value: 0.03560031801462173.\n"
     ]
    },
    {
     "name": "stdout",
     "output_type": "stream",
     "text": [
      "Saved study after trial 22/50\n",
      "Early termination at epoch 100 with best validation metric 0.03741924166679382\n"
     ]
    },
    {
     "name": "stderr",
     "output_type": "stream",
     "text": [
      "[I 2025-02-25 11:37:48,529] Trial 22 finished with value: 0.03741924166679382 and parameters: {'lr': 0.00034297062876209567, 'beta0': 0.5408085405718104, 'beta1': 0.9499299010144964, 'batch_size': 64, 'patience': 19, 'conv_depth': 5}. Best is trial 5 with value: 0.03560031801462173.\n"
     ]
    },
    {
     "name": "stdout",
     "output_type": "stream",
     "text": [
      "Saved study after trial 23/50\n",
      "Early termination at epoch 49 with best validation metric 0.0433134851711137\n"
     ]
    },
    {
     "name": "stderr",
     "output_type": "stream",
     "text": [
      "[I 2025-02-25 11:45:44,579] Trial 23 finished with value: 0.0433134851711137 and parameters: {'lr': 0.00012635894355163347, 'beta0': 0.5360696211789711, 'beta1': 0.9527159448663216, 'batch_size': 48, 'patience': 18, 'conv_depth': 5}. Best is trial 5 with value: 0.03560031801462173.\n"
     ]
    },
    {
     "name": "stdout",
     "output_type": "stream",
     "text": [
      "Saved study after trial 24/50\n",
      "Early termination at epoch 74 with best validation metric 0.037078699469566344\n"
     ]
    },
    {
     "name": "stderr",
     "output_type": "stream",
     "text": [
      "[I 2025-02-25 11:57:46,404] Trial 24 finished with value: 0.037078699469566344 and parameters: {'lr': 0.0003061084769246849, 'beta0': 0.5366657446475197, 'beta1': 0.9099870437537624, 'batch_size': 64, 'patience': 19, 'conv_depth': 5}. Best is trial 5 with value: 0.03560031801462173.\n"
     ]
    },
    {
     "name": "stdout",
     "output_type": "stream",
     "text": [
      "Saved study after trial 25/50\n",
      "Early termination at epoch 52 with best validation metric 0.03891232311725616\n"
     ]
    },
    {
     "name": "stderr",
     "output_type": "stream",
     "text": [
      "[I 2025-02-25 12:06:36,956] Trial 25 finished with value: 0.03891232311725616 and parameters: {'lr': 0.0002149908902316006, 'beta0': 0.5327524619699702, 'beta1': 0.9450963111361476, 'batch_size': 64, 'patience': 16, 'conv_depth': 5}. Best is trial 5 with value: 0.03560031801462173.\n"
     ]
    },
    {
     "name": "stdout",
     "output_type": "stream",
     "text": [
      "Saved study after trial 26/50\n",
      "Early termination at epoch 85 with best validation metric 0.038495227694511414\n"
     ]
    },
    {
     "name": "stderr",
     "output_type": "stream",
     "text": [
      "[I 2025-02-25 12:20:19,098] Trial 26 finished with value: 0.038495227694511414 and parameters: {'lr': 0.00028187073355078986, 'beta0': 0.644997559831217, 'beta1': 0.911591152964344, 'batch_size': 64, 'patience': 19, 'conv_depth': 5}. Best is trial 5 with value: 0.03560031801462173.\n"
     ]
    },
    {
     "name": "stdout",
     "output_type": "stream",
     "text": [
      "Saved study after trial 27/50\n",
      "Early termination at epoch 33 with best validation metric 0.043614763766527176\n"
     ]
    },
    {
     "name": "stderr",
     "output_type": "stream",
     "text": [
      "[I 2025-02-25 12:25:14,661] Trial 27 finished with value: 0.043614763766527176 and parameters: {'lr': 0.0008881000347529895, 'beta0': 0.6054978493977052, 'beta1': 0.9525860540187855, 'batch_size': 64, 'patience': 12, 'conv_depth': 4}. Best is trial 5 with value: 0.03560031801462173.\n"
     ]
    },
    {
     "name": "stdout",
     "output_type": "stream",
     "text": [
      "Saved study after trial 28/50\n",
      "Early termination at epoch 35 with best validation metric 0.04988319203257561\n"
     ]
    },
    {
     "name": "stderr",
     "output_type": "stream",
     "text": [
      "[I 2025-02-25 12:30:52,600] Trial 28 finished with value: 0.04988319203257561 and parameters: {'lr': 0.0016007889875793906, 'beta0': 0.5432158747204385, 'beta1': 0.9338332729297085, 'batch_size': 64, 'patience': 16, 'conv_depth': 5}. Best is trial 5 with value: 0.03560031801462173.\n"
     ]
    },
    {
     "name": "stdout",
     "output_type": "stream",
     "text": [
      "Saved study after trial 29/50\n",
      "Early termination at epoch 43 with best validation metric 0.03833371454051563\n"
     ]
    },
    {
     "name": "stderr",
     "output_type": "stream",
     "text": [
      "[I 2025-02-25 12:36:45,858] Trial 29 finished with value: 0.03833371454051563 and parameters: {'lr': 0.00012667616103524457, 'beta0': 0.5036765399731984, 'beta1': 0.98052832829834, 'batch_size': 48, 'patience': 19, 'conv_depth': 3}. Best is trial 5 with value: 0.03560031801462173.\n"
     ]
    },
    {
     "name": "stdout",
     "output_type": "stream",
     "text": [
      "Saved study after trial 30/50\n",
      "Early termination at epoch 83 with best validation metric 0.04215780485953603\n"
     ]
    },
    {
     "name": "stderr",
     "output_type": "stream",
     "text": [
      "[I 2025-02-25 12:50:10,784] Trial 30 finished with value: 0.04215780485953603 and parameters: {'lr': 7.676313359945787e-05, 'beta0': 0.7366849379399733, 'beta1': 0.9279620868504063, 'batch_size': 48, 'patience': 15, 'conv_depth': 5}. Best is trial 5 with value: 0.03560031801462173.\n"
     ]
    },
    {
     "name": "stdout",
     "output_type": "stream",
     "text": [
      "Saved study after trial 31/50\n",
      "Early termination at epoch 42 with best validation metric 0.03848246484994888\n"
     ]
    },
    {
     "name": "stderr",
     "output_type": "stream",
     "text": [
      "[I 2025-02-25 12:56:55,725] Trial 31 finished with value: 0.03848246484994888 and parameters: {'lr': 0.0006978124757864855, 'beta0': 0.5573372852846896, 'beta1': 0.9068017558305861, 'batch_size': 64, 'patience': 19, 'conv_depth': 5}. Best is trial 5 with value: 0.03560031801462173.\n"
     ]
    },
    {
     "name": "stdout",
     "output_type": "stream",
     "text": [
      "Saved study after trial 32/50\n",
      "Early termination at epoch 80 with best validation metric 0.0348689505564315\n"
     ]
    },
    {
     "name": "stderr",
     "output_type": "stream",
     "text": [
      "[I 2025-02-25 13:09:51,300] Trial 32 finished with value: 0.0348689505564315 and parameters: {'lr': 0.0003463470065525901, 'beta0': 0.6079207538165652, 'beta1': 0.9186439694375996, 'batch_size': 48, 'patience': 18, 'conv_depth': 5}. Best is trial 32 with value: 0.0348689505564315.\n"
     ]
    },
    {
     "name": "stdout",
     "output_type": "stream",
     "text": [
      "Saved study after trial 33/50\n",
      "Early termination at epoch 40 with best validation metric 0.04130732374531882\n"
     ]
    },
    {
     "name": "stderr",
     "output_type": "stream",
     "text": [
      "[I 2025-02-25 13:16:18,357] Trial 33 finished with value: 0.04130732374531882 and parameters: {'lr': 0.00041811486658479646, 'beta0': 0.6003733955498726, 'beta1': 0.9156581004029919, 'batch_size': 48, 'patience': 17, 'conv_depth': 5}. Best is trial 32 with value: 0.0348689505564315.\n"
     ]
    },
    {
     "name": "stdout",
     "output_type": "stream",
     "text": [
      "Saved study after trial 34/50\n",
      "Early termination at epoch 59 with best validation metric 0.03822725340723991\n"
     ]
    },
    {
     "name": "stderr",
     "output_type": "stream",
     "text": [
      "[I 2025-02-25 13:25:44,967] Trial 34 finished with value: 0.03822725340723991 and parameters: {'lr': 0.000320823035196787, 'beta0': 0.5213294562320545, 'beta1': 0.9169583000661451, 'batch_size': 64, 'patience': 19, 'conv_depth': 5}. Best is trial 32 with value: 0.0348689505564315.\n"
     ]
    },
    {
     "name": "stdout",
     "output_type": "stream",
     "text": [
      "Saved study after trial 35/50\n",
      "Early termination at epoch 63 with best validation metric 0.03978141450456211\n"
     ]
    },
    {
     "name": "stderr",
     "output_type": "stream",
     "text": [
      "[I 2025-02-25 13:35:52,521] Trial 35 finished with value: 0.03978141450456211 and parameters: {'lr': 0.00016107033383267025, 'beta0': 0.591414272386611, 'beta1': 0.9220949748066317, 'batch_size': 48, 'patience': 19, 'conv_depth': 5}. Best is trial 32 with value: 0.0348689505564315.\n"
     ]
    },
    {
     "name": "stdout",
     "output_type": "stream",
     "text": [
      "Saved study after trial 36/50\n",
      "Early termination at epoch 38 with best validation metric 0.044271717220544814\n"
     ]
    },
    {
     "name": "stderr",
     "output_type": "stream",
     "text": [
      "[I 2025-02-25 13:41:32,476] Trial 36 finished with value: 0.044271717220544814 and parameters: {'lr': 2.2815493564622794e-05, 'beta0': 0.5507734410092329, 'beta1': 0.9581110016504906, 'batch_size': 64, 'patience': 11, 'conv_depth': 4}. Best is trial 32 with value: 0.0348689505564315.\n"
     ]
    },
    {
     "name": "stdout",
     "output_type": "stream",
     "text": [
      "Saved study after trial 37/50\n",
      "Early termination at epoch 44 with best validation metric 0.041616621613502505\n"
     ]
    },
    {
     "name": "stderr",
     "output_type": "stream",
     "text": [
      "[I 2025-02-25 13:48:05,832] Trial 37 finished with value: 0.041616621613502505 and parameters: {'lr': 0.00026532283237799, 'beta0': 0.6239931546649639, 'beta1': 0.966746785034704, 'batch_size': 64, 'patience': 17, 'conv_depth': 4}. Best is trial 32 with value: 0.0348689505564315.\n"
     ]
    },
    {
     "name": "stdout",
     "output_type": "stream",
     "text": [
      "Saved study after trial 38/50\n",
      "Early termination at epoch 54 with best validation metric 0.03742066291826112\n"
     ]
    },
    {
     "name": "stderr",
     "output_type": "stream",
     "text": [
      "[I 2025-02-25 13:56:48,298] Trial 38 finished with value: 0.03742066291826112 and parameters: {'lr': 0.0003360893229634181, 'beta0': 0.8263926369800461, 'beta1': 0.9070371137811246, 'batch_size': 48, 'patience': 15, 'conv_depth': 5}. Best is trial 32 with value: 0.0348689505564315.\n"
     ]
    },
    {
     "name": "stdout",
     "output_type": "stream",
     "text": [
      "Saved study after trial 39/50\n",
      "Early termination at epoch 18 with best validation metric 0.043354885280132295\n"
     ]
    },
    {
     "name": "stderr",
     "output_type": "stream",
     "text": [
      "[I 2025-02-25 13:59:42,006] Trial 39 finished with value: 0.043354885280132295 and parameters: {'lr': 0.00010283285816138688, 'beta0': 0.5229525291855717, 'beta1': 0.9208805643323908, 'batch_size': 64, 'patience': 8, 'conv_depth': 5}. Best is trial 32 with value: 0.0348689505564315.\n"
     ]
    },
    {
     "name": "stdout",
     "output_type": "stream",
     "text": [
      "Saved study after trial 40/50\n",
      "Early termination at epoch 103 with best validation metric 0.04390637416924749\n"
     ]
    },
    {
     "name": "stderr",
     "output_type": "stream",
     "text": [
      "[I 2025-02-25 14:15:01,930] Trial 40 finished with value: 0.04390637416924749 and parameters: {'lr': 0.00018218960765893305, 'beta0': 0.6560888181606725, 'beta1': 0.9417138872942731, 'batch_size': 48, 'patience': 20, 'conv_depth': 4}. Best is trial 32 with value: 0.0348689505564315.\n"
     ]
    },
    {
     "name": "stdout",
     "output_type": "stream",
     "text": [
      "Saved study after trial 41/50\n",
      "Early termination at epoch 94 with best validation metric 0.03459448872932366\n"
     ]
    },
    {
     "name": "stderr",
     "output_type": "stream",
     "text": [
      "[I 2025-02-25 14:30:09,887] Trial 41 finished with value: 0.03459448872932366 and parameters: {'lr': 0.00035246584843102514, 'beta0': 0.8122138489908639, 'beta1': 0.9066713063126841, 'batch_size': 48, 'patience': 15, 'conv_depth': 5}. Best is trial 41 with value: 0.03459448872932366.\n"
     ]
    },
    {
     "name": "stdout",
     "output_type": "stream",
     "text": [
      "Saved study after trial 42/50\n",
      "Early termination at epoch 77 with best validation metric 0.03462832314627511\n"
     ]
    },
    {
     "name": "stderr",
     "output_type": "stream",
     "text": [
      "[I 2025-02-25 14:42:58,378] Trial 42 finished with value: 0.03462832314627511 and parameters: {'lr': 0.0007683881935365995, 'beta0': 0.7591093674260362, 'beta1': 0.9113529521062271, 'batch_size': 48, 'patience': 18, 'conv_depth': 5}. Best is trial 41 with value: 0.03459448872932366.\n"
     ]
    },
    {
     "name": "stdout",
     "output_type": "stream",
     "text": [
      "Saved study after trial 43/50\n",
      "Early termination at epoch 51 with best validation metric 0.038666902376072745\n"
     ]
    },
    {
     "name": "stderr",
     "output_type": "stream",
     "text": [
      "[I 2025-02-25 14:51:14,923] Trial 43 finished with value: 0.038666902376072745 and parameters: {'lr': 0.0015975751555049524, 'beta0': 0.7921280520160917, 'beta1': 0.9101047127633047, 'batch_size': 48, 'patience': 15, 'conv_depth': 5}. Best is trial 41 with value: 0.03459448872932366.\n"
     ]
    },
    {
     "name": "stdout",
     "output_type": "stream",
     "text": [
      "Saved study after trial 44/50\n",
      "Early termination at epoch 35 with best validation metric 0.03855571842619351\n"
     ]
    },
    {
     "name": "stderr",
     "output_type": "stream",
     "text": [
      "[I 2025-02-25 14:56:53,607] Trial 44 finished with value: 0.03855571842619351 and parameters: {'lr': 0.0007831057009505531, 'beta0': 0.7853655486676323, 'beta1': 0.9058507359377969, 'batch_size': 48, 'patience': 13, 'conv_depth': 5}. Best is trial 41 with value: 0.03459448872932366.\n"
     ]
    },
    {
     "name": "stdout",
     "output_type": "stream",
     "text": [
      "Saved study after trial 45/50\n",
      "Early termination at epoch 63 with best validation metric 0.036443459136145454\n"
     ]
    },
    {
     "name": "stderr",
     "output_type": "stream",
     "text": [
      "[I 2025-02-25 15:07:01,201] Trial 45 finished with value: 0.036443459136145454 and parameters: {'lr': 0.0005416311797715736, 'beta0': 0.8234241626665839, 'beta1': 0.914256812131162, 'batch_size': 48, 'patience': 18, 'conv_depth': 5}. Best is trial 41 with value: 0.03459448872932366.\n"
     ]
    },
    {
     "name": "stdout",
     "output_type": "stream",
     "text": [
      "Saved study after trial 46/50\n",
      "Early termination at epoch 62 with best validation metric 0.03529511285679681\n"
     ]
    },
    {
     "name": "stderr",
     "output_type": "stream",
     "text": [
      "[I 2025-02-25 15:17:08,226] Trial 46 finished with value: 0.03529511285679681 and parameters: {'lr': 0.0005121626054444679, 'beta0': 0.897295474554602, 'beta1': 0.9156316559216244, 'batch_size': 48, 'patience': 16, 'conv_depth': 5}. Best is trial 41 with value: 0.03459448872932366.\n"
     ]
    },
    {
     "name": "stdout",
     "output_type": "stream",
     "text": [
      "Saved study after trial 47/50\n",
      "Early termination at epoch 36 with best validation metric 0.04673372634819576\n"
     ]
    },
    {
     "name": "stderr",
     "output_type": "stream",
     "text": [
      "[I 2025-02-25 15:22:30,926] Trial 47 finished with value: 0.04673372634819576 and parameters: {'lr': 0.0038914407939830233, 'beta0': 0.8442602078027228, 'beta1': 0.92177886594858, 'batch_size': 48, 'patience': 16, 'conv_depth': 3}. Best is trial 41 with value: 0.03459448872932366.\n"
     ]
    },
    {
     "name": "stdout",
     "output_type": "stream",
     "text": [
      "Saved study after trial 48/50\n",
      "Early termination at epoch 43 with best validation metric 0.04334005266427994\n"
     ]
    },
    {
     "name": "stderr",
     "output_type": "stream",
     "text": [
      "[I 2025-02-25 15:30:14,252] Trial 48 finished with value: 0.04334005266427994 and parameters: {'lr': 0.0015705427261672815, 'beta0': 0.8940058968760212, 'beta1': 0.9012459609631569, 'batch_size': 32, 'patience': 17, 'conv_depth': 5}. Best is trial 41 with value: 0.03459448872932366.\n"
     ]
    },
    {
     "name": "stdout",
     "output_type": "stream",
     "text": [
      "Saved study after trial 49/50\n",
      "Early termination at epoch 33 with best validation metric 0.04431449994444847\n"
     ]
    },
    {
     "name": "stderr",
     "output_type": "stream",
     "text": [
      "[I 2025-02-25 15:35:42,047] Trial 49 finished with value: 0.04431449994444847 and parameters: {'lr': 0.0011967068501830998, 'beta0': 0.7154205359145287, 'beta1': 0.917824030113473, 'batch_size': 48, 'patience': 15, 'conv_depth': 5}. Best is trial 41 with value: 0.03459448872932366.\n"
     ]
    },
    {
     "name": "stdout",
     "output_type": "stream",
     "text": [
      "Saved study after trial 50/50\n",
      "Best trial for channel OrigMito:\n",
      "  Validation Loss: 0.03459448872932366\n",
      "  Hyperparameters: {'lr': 0.00035246584843102514, 'beta0': 0.8122138489908639, 'beta1': 0.9066713063126841, 'batch_size': 48, 'patience': 15, 'conv_depth': 5}\n"
     ]
    },
    {
     "name": "stderr",
     "output_type": "stream",
     "text": [
      "[I 2025-02-25 15:35:44,454] A new study created in memory with name: FNet_optimize_OrigRNA_low_confluence\n"
     ]
    },
    {
     "name": "stdout",
     "output_type": "stream",
     "text": [
      "Beginning optimization for channel: OrigRNA for low_confluence\n",
      "Early termination at epoch 46 with best validation metric 0.01103804845895086\n"
     ]
    },
    {
     "name": "stderr",
     "output_type": "stream",
     "text": [
      "[I 2025-02-25 15:41:50,917] Trial 0 finished with value: 0.01103804845895086 and parameters: {'lr': 0.0001329291894316216, 'beta0': 0.8802857225639664, 'beta1': 0.9724674002393291, 'batch_size': 48, 'patience': 7, 'conv_depth': 3}. Best is trial 0 with value: 0.01103804845895086.\n"
     ]
    },
    {
     "name": "stdout",
     "output_type": "stream",
     "text": [
      "Saved study after trial 1/50\n",
      "Early termination at epoch 77 with best validation metric 0.012825051189533301\n"
     ]
    },
    {
     "name": "stderr",
     "output_type": "stream",
     "text": [
      "[I 2025-02-25 15:53:54,900] Trial 1 finished with value: 0.012825051189533301 and parameters: {'lr': 1.493656855461762e-05, 'beta0': 0.846470458309974, 'beta1': 0.9595103861625777, 'batch_size': 48, 'patience': 5, 'conv_depth': 5}. Best is trial 0 with value: 0.01103804845895086.\n"
     ]
    },
    {
     "name": "stdout",
     "output_type": "stream",
     "text": [
      "Saved study after trial 2/50\n",
      "Early termination at epoch 20 with best validation metric 0.012398740668830118\n"
     ]
    },
    {
     "name": "stderr",
     "output_type": "stream",
     "text": [
      "[I 2025-02-25 15:56:57,234] Trial 2 finished with value: 0.012398740668830118 and parameters: {'lr': 0.00314288089084011, 'beta0': 0.5849356442713105, 'beta1': 0.918000671753503, 'batch_size': 16, 'patience': 9, 'conv_depth': 4}. Best is trial 0 with value: 0.01103804845895086.\n"
     ]
    },
    {
     "name": "stdout",
     "output_type": "stream",
     "text": [
      "Saved study after trial 3/50\n",
      "Early termination at epoch 53 with best validation metric 0.009493274957333741\n"
     ]
    },
    {
     "name": "stderr",
     "output_type": "stream",
     "text": [
      "[I 2025-02-25 16:05:01,663] Trial 3 finished with value: 0.009493274957333741 and parameters: {'lr': 0.00019762189340280086, 'beta0': 0.6164916560792167, 'beta1': 0.9605734365775156, 'batch_size': 16, 'patience': 9, 'conv_depth': 4}. Best is trial 3 with value: 0.009493274957333741.\n"
     ]
    },
    {
     "name": "stdout",
     "output_type": "stream",
     "text": [
      "Saved study after trial 4/50\n",
      "Early termination at epoch 39 with best validation metric 0.010385028618787016\n"
     ]
    },
    {
     "name": "stderr",
     "output_type": "stream",
     "text": [
      "[I 2025-02-25 16:10:22,321] Trial 4 finished with value: 0.010385028618787016 and parameters: {'lr': 0.00023345864076016249, 'beta0': 0.8140703845572055, 'beta1': 0.9197677044336776, 'batch_size': 48, 'patience': 14, 'conv_depth': 3}. Best is trial 3 with value: 0.009493274957333741.\n"
     ]
    },
    {
     "name": "stdout",
     "output_type": "stream",
     "text": [
      "Saved study after trial 5/50\n",
      "Early termination at epoch 42 with best validation metric 0.011186661012470723\n"
     ]
    },
    {
     "name": "stderr",
     "output_type": "stream",
     "text": [
      "[I 2025-02-25 16:17:11,621] Trial 5 finished with value: 0.011186661012470723 and parameters: {'lr': 0.0006647135865318024, 'beta0': 0.5682096494749166, 'beta1': 0.9064401077055427, 'batch_size': 64, 'patience': 20, 'conv_depth': 5}. Best is trial 3 with value: 0.009493274957333741.\n"
     ]
    },
    {
     "name": "stdout",
     "output_type": "stream",
     "text": [
      "Saved study after trial 6/50\n",
      "Early termination at epoch 26 with best validation metric 0.011410806328058243\n"
     ]
    },
    {
     "name": "stderr",
     "output_type": "stream",
     "text": [
      "[I 2025-02-25 16:21:07,209] Trial 6 finished with value: 0.011410806328058243 and parameters: {'lr': 8.200518402245828e-05, 'beta0': 0.5390688456025535, 'beta1': 0.9677390696247036, 'batch_size': 32, 'patience': 6, 'conv_depth': 4}. Best is trial 3 with value: 0.009493274957333741.\n"
     ]
    },
    {
     "name": "stdout",
     "output_type": "stream",
     "text": [
      "Saved study after trial 7/50\n",
      "Early termination at epoch 102 with best validation metric 0.011297466166849648\n"
     ]
    },
    {
     "name": "stderr",
     "output_type": "stream",
     "text": [
      "[I 2025-02-25 16:36:45,579] Trial 7 finished with value: 0.011297466166849648 and parameters: {'lr': 1.2681352169084594e-05, 'beta0': 0.8637281608315128, 'beta1': 0.9256192181784016, 'batch_size': 48, 'patience': 9, 'conv_depth': 4}. Best is trial 3 with value: 0.009493274957333741.\n"
     ]
    },
    {
     "name": "stdout",
     "output_type": "stream",
     "text": [
      "Saved study after trial 8/50\n",
      "Early termination at epoch 59 with best validation metric 0.009622641932219267\n"
     ]
    },
    {
     "name": "stderr",
     "output_type": "stream",
     "text": [
      "[I 2025-02-25 16:46:33,405] Trial 8 finished with value: 0.009622641932219267 and parameters: {'lr': 0.00043664735929796326, 'beta0': 0.5739417822102109, 'beta1': 0.9959888781486913, 'batch_size': 64, 'patience': 20, 'conv_depth': 5}. Best is trial 3 with value: 0.009493274957333741.\n"
     ]
    },
    {
     "name": "stdout",
     "output_type": "stream",
     "text": [
      "Saved study after trial 9/50\n",
      "Early termination at epoch 15 with best validation metric 0.010425330213222065\n"
     ]
    },
    {
     "name": "stderr",
     "output_type": "stream",
     "text": [
      "[I 2025-02-25 16:48:48,307] Trial 9 finished with value: 0.010425330213222065 and parameters: {'lr': 0.0006218704727769079, 'beta0': 0.8687496940092467, 'beta1': 0.90876075770314, 'batch_size': 16, 'patience': 5, 'conv_depth': 3}. Best is trial 3 with value: 0.009493274957333741.\n"
     ]
    },
    {
     "name": "stdout",
     "output_type": "stream",
     "text": [
      "Saved study after trial 10/50\n"
     ]
    }
   ],
   "source": [
    "N_TRIALS = 50  # Total trials\n",
    "loaddata_df = pd.read_csv(LOADDATA_FILE_PATH)\n",
    "\n",
    "for confluence_group_name, conditions in DATA_GROUPING.items():\n",
    "\n",
    "    ## Load dataset\n",
    "    loaddata_condition_df = loaddata_df.copy()\n",
    "    for condition, values in conditions.items():\n",
    "        loaddata_condition_df = loaddata_condition_df[\n",
    "            loaddata_condition_df[condition].isin(values)\n",
    "        ]\n",
    "\n",
    "    sc_features = pd.DataFrame()\n",
    "    for plate in loaddata_condition_df['Metadata_Plate'].unique():\n",
    "        sc_features_parquet = SC_FEATURES_DIR / f'{plate}_sc_normalized.parquet'\n",
    "        if not sc_features_parquet.exists():\n",
    "            print(f'{sc_features_parquet} does not exist, skipping...')\n",
    "            continue \n",
    "        else:\n",
    "            sc_features = pd.concat([\n",
    "                sc_features, \n",
    "                pd.read_parquet(\n",
    "                    sc_features_parquet,\n",
    "                    columns=['Metadata_Plate', 'Metadata_Well', 'Metadata_Site', 'Metadata_Cells_Location_Center_X', 'Metadata_Cells_Location_Center_Y']\n",
    "                )\n",
    "            ])\n",
    "\n",
    "    ## Create patch dataset\n",
    "    pds = PatchDataset(\n",
    "        _loaddata_csv=loaddata_condition_df,\n",
    "        _sc_feature=sc_features,\n",
    "        _input_channel_keys=INPUT_CHANNEL_NAMES,\n",
    "        _target_channel_keys=TARGET_CHANNEL_NAMES,\n",
    "        _input_transform=PixelDepthTransform(src_bit_depth=16, target_bit_depth=8, _always_apply=True),\n",
    "        _target_transform=MinMaxNormalize(_normalization_factor=(2 ** 16) - 1, _always_apply=True),\n",
    "        patch_size=PATCH_SIZE,\n",
    "        verbose=False,\n",
    "        patch_generation_method=\"random_cell\",\n",
    "        n_expected_patches_per_img=50,\n",
    "        patch_generation_random_seed=42\n",
    "    )\n",
    "\n",
    "    for channel_name in TARGET_CHANNEL_NAMES:\n",
    "\n",
    "        ## Cache dataset of channel\n",
    "        pds.set_input_channel_keys(INPUT_CHANNEL_NAMES)\n",
    "        pds.set_target_channel_keys(channel_name)\n",
    "        cds = CachedDataset(\n",
    "            dataset=pds,\n",
    "            prefill_cache=True\n",
    "        )\n",
    "\n",
    "        print(f\"Beginning optimization for channel: {channel_name} for {confluence_group_name}\")\n",
    "\n",
    "        # Load the existing study for the current channel\n",
    "        study_path = OPTUNA_JOBLIB_DIR / f\"FNet_optimize_{channel_name}_{confluence_group_name}.joblib\"\n",
    "\n",
    "        if study_path.exists():\n",
    "            study = joblib.load(study_path)\n",
    "            completed_trials = len(study.trials)  # completed trials\n",
    "        else:\n",
    "            study = optuna.create_study(\n",
    "                direction=\"minimize\",\n",
    "                study_name=f\"FNet_optimize_{channel_name}_{confluence_group_name}\",\n",
    "                sampler=optuna.samplers.TPESampler(seed=42)\n",
    "            )\n",
    "            completed_trials = 0  # New experiment\n",
    "            \n",
    "        # Resume optimization from where it left off\n",
    "        trials_remaining = N_TRIALS - completed_trials\n",
    "        if trials_remaining > 0:\n",
    "            for _ in range(trials_remaining):\n",
    "                study.optimize(lambda trial: objective(trial, cds, channel_name, confluence_group_name), n_trials=1)\n",
    "                joblib.dump(study, study_path)  # Save study after every trial\n",
    "                print(f\"Saved study after trial {len(study.trials)}/{N_TRIALS}\")\n",
    "\n",
    "        # Print best trial results\n",
    "        \n",
    "        print(f\"Best trial for channel {channel_name}:\")\n",
    "        print(f\"  Validation Loss: {study.best_trial.value}\")\n",
    "        print(f\"  Hyperparameters: {study.best_trial.params}\")"
   ]
  }
 ],
 "metadata": {
  "kernelspec": {
   "display_name": "speckle_analysis",
   "language": "python",
   "name": "python3"
  },
  "language_info": {
   "codemirror_mode": {
    "name": "ipython",
    "version": 3
   },
   "file_extension": ".py",
   "mimetype": "text/x-python",
   "name": "python",
   "nbconvert_exporter": "python",
   "pygments_lexer": "ipython3",
   "version": "3.11.11"
  }
 },
 "nbformat": 4,
 "nbformat_minor": 2
}
