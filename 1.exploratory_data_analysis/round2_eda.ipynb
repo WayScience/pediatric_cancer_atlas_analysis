{
 "cells": [
  {
   "cell_type": "markdown",
   "metadata": {
    "jukit_cell_id": "lM8dYQPBT5"
   },
   "source": [
    "# Explore Round 2 Data Patterns\n",
    "An exploration of the round 2 data to understand prominent patterns."
   ]
  },
  {
   "cell_type": "code",
   "execution_count": 1,
   "metadata": {
    "execution": {
     "iopub.execute_input": "2025-07-03T22:08:44.102580Z",
     "iopub.status.busy": "2025-07-03T22:08:44.102375Z",
     "iopub.status.idle": "2025-07-03T22:08:46.955817Z",
     "shell.execute_reply": "2025-07-03T22:08:46.955488Z"
    },
    "jukit_cell_id": "chKOlruhvo"
   },
   "outputs": [
    {
     "name": "stderr",
     "output_type": "stream",
     "text": [
      "/home/camo/projects/pediatric_cancer_atlas_analysis/1.exploratory_data_analysis/.venv/lib/python3.11/site-packages/tqdm/auto.py:21: TqdmWarning: IProgress not found. Please update jupyter and ipywidgets. See https://ipywidgets.readthedocs.io/en/stable/user_install.html\n",
      "  from .autonotebook import tqdm as notebook_tqdm\n"
     ]
    }
   ],
   "source": [
    "import pathlib\n",
    "\n",
    "import kaleido\n",
    "import pandas as pd\n",
    "import plotly.express as px\n",
    "import plotly.io as pio\n",
    "from umap import UMAP"
   ]
  },
  {
   "cell_type": "markdown",
   "metadata": {
    "jukit_cell_id": "fodzHP9szp"
   },
   "source": [
    "## Find the root of the git repo on the host system"
   ]
  },
  {
   "cell_type": "code",
   "execution_count": 2,
   "metadata": {
    "execution": {
     "iopub.execute_input": "2025-07-03T22:08:46.957306Z",
     "iopub.status.busy": "2025-07-03T22:08:46.957132Z",
     "iopub.status.idle": "2025-07-03T22:08:46.959562Z",
     "shell.execute_reply": "2025-07-03T22:08:46.959295Z"
    },
    "jukit_cell_id": "RPnfSxTAVa"
   },
   "outputs": [],
   "source": [
    "# Get the current working directory\n",
    "cwd = pathlib.Path.cwd()\n",
    "\n",
    "if (cwd / \".git\").is_dir():\n",
    "    root_dir = cwd\n",
    "\n",
    "else:\n",
    "    root_dir = None\n",
    "    for parent in cwd.parents:\n",
    "        if (parent / \".git\").is_dir():\n",
    "            root_dir = parent\n",
    "            break\n",
    "\n",
    "# Check if a Git root directory was found\n",
    "if root_dir is None:\n",
    "    raise FileNotFoundError(\"No Git root directory found.\")"
   ]
  },
  {
   "cell_type": "markdown",
   "metadata": {
    "jukit_cell_id": "UzvLnM8utC"
   },
   "source": [
    "# Inputs"
   ]
  },
  {
   "cell_type": "code",
   "execution_count": 3,
   "metadata": {
    "execution": {
     "iopub.execute_input": "2025-07-03T22:08:46.960582Z",
     "iopub.status.busy": "2025-07-03T22:08:46.960483Z",
     "iopub.status.idle": "2025-07-03T22:09:27.127642Z",
     "shell.execute_reply": "2025-07-03T22:09:27.127224Z"
    },
    "jukit_cell_id": "hploOEYYGN"
   },
   "outputs": [],
   "source": [
    "pilot_path = root_dir / \"big_drive/alsf/ALSF_pilot_data\"\n",
    "\n",
    "round2_profiles_path = (\n",
    "    pilot_path / \"preprocessed_profiles_Round_2_data/Round_2_data\"\n",
    ").resolve(strict=True)\n",
    "\n",
    "common_cols = None\n",
    "\n",
    "for pq_file in list(round2_profiles_path.rglob(\"*feature_selected.parquet\")):\n",
    "    cols = pd.read_parquet(pq_file).columns\n",
    "    if common_cols is None:\n",
    "        common_cols = set(cols)\n",
    "\n",
    "    else:\n",
    "        common_cols &= set(cols)\n",
    "\n",
    "round2df = pd.concat(\n",
    "    [\n",
    "        pd.read_parquet(pq_file, columns=common_cols)\n",
    "        for pq_file in round2_profiles_path.rglob(\"*feature_selected.parquet\")\n",
    "    ],\n",
    "    axis=0,\n",
    ")"
   ]
  },
  {
   "cell_type": "code",
   "execution_count": 4,
   "metadata": {
    "execution": {
     "iopub.execute_input": "2025-07-03T22:09:27.129063Z",
     "iopub.status.busy": "2025-07-03T22:09:27.128952Z",
     "iopub.status.idle": "2025-07-03T22:09:27.131232Z",
     "shell.execute_reply": "2025-07-03T22:09:27.130977Z"
    },
    "jukit_cell_id": "aVI8vugmwG"
   },
   "outputs": [],
   "source": [
    "round2_figure_path = pathlib.Path(\"round2_figures_path\")\n",
    "\n",
    "int_figure_path = round2_figure_path / \"interactive_figures\"\n",
    "int_figure_path.mkdir(parents=True, exist_ok=True)\n",
    "\n",
    "static_figure_path = round2_figure_path / \"static_figures\"\n",
    "static_figure_path.mkdir(parents=True, exist_ok=True)"
   ]
  },
  {
   "cell_type": "markdown",
   "metadata": {
    "jukit_cell_id": "LoSAqYPOTT"
   },
   "source": [
    "# High-Level Data Characteristics"
   ]
  },
  {
   "cell_type": "code",
   "execution_count": 5,
   "metadata": {
    "execution": {
     "iopub.execute_input": "2025-07-03T22:09:27.132151Z",
     "iopub.status.busy": "2025-07-03T22:09:27.132056Z",
     "iopub.status.idle": "2025-07-03T22:09:27.133908Z",
     "shell.execute_reply": "2025-07-03T22:09:27.133662Z"
    },
    "jukit_cell_id": "sW5ZMw6kqN"
   },
   "outputs": [
    {
     "name": "stdout",
     "output_type": "stream",
     "text": [
      "(1050944, 445)\n"
     ]
    }
   ],
   "source": [
    "print(round2df.shape)"
   ]
  },
  {
   "cell_type": "code",
   "execution_count": 6,
   "metadata": {
    "execution": {
     "iopub.execute_input": "2025-07-03T22:09:27.134880Z",
     "iopub.status.busy": "2025-07-03T22:09:27.134705Z",
     "iopub.status.idle": "2025-07-03T22:09:27.488146Z",
     "shell.execute_reply": "2025-07-03T22:09:27.487793Z"
    },
    "jukit_cell_id": "QGVlS1LFBd"
   },
   "outputs": [
    {
     "name": "stdout",
     "output_type": "stream",
     "text": [
      "Are there any NaN entries?\n"
     ]
    },
    {
     "name": "stdout",
     "output_type": "stream",
     "text": [
      "Answer: False\n"
     ]
    }
   ],
   "source": [
    "print(\"Are there any NaN entries?\")\n",
    "print(f\"Answer: {round2df.isna().any().any()}\")"
   ]
  },
  {
   "cell_type": "markdown",
   "metadata": {
    "jukit_cell_id": "BiLzGTCOop"
   },
   "source": [
    "## Metadata Exploration"
   ]
  },
  {
   "cell_type": "code",
   "execution_count": 7,
   "metadata": {
    "execution": {
     "iopub.execute_input": "2025-07-03T22:09:27.489354Z",
     "iopub.status.busy": "2025-07-03T22:09:27.489209Z",
     "iopub.status.idle": "2025-07-03T22:09:27.521705Z",
     "shell.execute_reply": "2025-07-03T22:09:27.521393Z"
    },
    "jukit_cell_id": "bkvItDJtwz"
   },
   "outputs": [
    {
     "data": {
      "text/plain": [
       "array(['BR00145438', 'BR00145440', 'BR00145439', 'BR00145818',\n",
       "       'BR00145817', 'BR00145816'], dtype=object)"
      ]
     },
     "execution_count": 7,
     "metadata": {},
     "output_type": "execute_result"
    }
   ],
   "source": [
    "round2df[\"Metadata_Plate\"].unique()"
   ]
  },
  {
   "cell_type": "code",
   "execution_count": 8,
   "metadata": {
    "execution": {
     "iopub.execute_input": "2025-07-03T22:09:27.522918Z",
     "iopub.status.busy": "2025-07-03T22:09:27.522808Z",
     "iopub.status.idle": "2025-07-03T22:09:27.527999Z",
     "shell.execute_reply": "2025-07-03T22:09:27.527700Z"
    },
    "jukit_cell_id": "u1vbFm46Nk"
   },
   "outputs": [
    {
     "data": {
      "text/plain": [
       "array([24, 72, 48])"
      ]
     },
     "execution_count": 8,
     "metadata": {},
     "output_type": "execute_result"
    }
   ],
   "source": [
    "round2df[\"Metadata_time_point\"].unique()"
   ]
  },
  {
   "cell_type": "code",
   "execution_count": 9,
   "metadata": {
    "execution": {
     "iopub.execute_input": "2025-07-03T22:09:27.528949Z",
     "iopub.status.busy": "2025-07-03T22:09:27.528846Z",
     "iopub.status.idle": "2025-07-03T22:09:27.534120Z",
     "shell.execute_reply": "2025-07-03T22:09:27.533828Z"
    },
    "jukit_cell_id": "FD0QX97dxp"
   },
   "outputs": [
    {
     "name": "stdout",
     "output_type": "stream",
     "text": [
      "\n",
      "Unique timepoints:\n"
     ]
    },
    {
     "data": {
      "text/plain": [
       "array([24, 72, 48])"
      ]
     },
     "execution_count": 9,
     "metadata": {},
     "output_type": "execute_result"
    }
   ],
   "source": [
    "print(\"\\nUnique timepoints:\")\n",
    "round2df[\"Metadata_time_point\"].unique()"
   ]
  },
  {
   "cell_type": "code",
   "execution_count": 10,
   "metadata": {
    "execution": {
     "iopub.execute_input": "2025-07-03T22:09:27.535172Z",
     "iopub.status.busy": "2025-07-03T22:09:27.534957Z",
     "iopub.status.idle": "2025-07-03T22:09:27.540267Z",
     "shell.execute_reply": "2025-07-03T22:09:27.539989Z"
    },
    "jukit_cell_id": "bQ8nuxMNiR"
   },
   "outputs": [
    {
     "name": "stdout",
     "output_type": "stream",
     "text": [
      "\n",
      "Unique Seeding Densities:\n"
     ]
    },
    {
     "data": {
      "text/plain": [
       "array([ 1000,  2000,  4000,  8000, 12000])"
      ]
     },
     "execution_count": 10,
     "metadata": {},
     "output_type": "execute_result"
    }
   ],
   "source": [
    "print(\"\\nUnique Seeding Densities:\")\n",
    "round2df[\"Metadata_seeding_density\"].unique()"
   ]
  },
  {
   "cell_type": "code",
   "execution_count": 11,
   "metadata": {
    "execution": {
     "iopub.execute_input": "2025-07-03T22:09:27.541310Z",
     "iopub.status.busy": "2025-07-03T22:09:27.541145Z",
     "iopub.status.idle": "2025-07-03T22:09:27.546636Z",
     "shell.execute_reply": "2025-07-03T22:09:27.546353Z"
    },
    "jukit_cell_id": "4gr4EFd0uD"
   },
   "outputs": [
    {
     "data": {
      "text/plain": [
       "Metadata_seeding_density\n",
       "12000    353135\n",
       "8000     301038\n",
       "4000     211533\n",
       "2000     119399\n",
       "1000      65839\n",
       "Name: count, dtype: int64"
      ]
     },
     "execution_count": 11,
     "metadata": {},
     "output_type": "execute_result"
    }
   ],
   "source": [
    "round2df[\"Metadata_seeding_density\"].value_counts()"
   ]
  },
  {
   "cell_type": "code",
   "execution_count": 12,
   "metadata": {
    "execution": {
     "iopub.execute_input": "2025-07-03T22:09:27.547611Z",
     "iopub.status.busy": "2025-07-03T22:09:27.547510Z",
     "iopub.status.idle": "2025-07-03T22:09:27.572716Z",
     "shell.execute_reply": "2025-07-03T22:09:27.572418Z"
    },
    "jukit_cell_id": "ApqdsLAWPX"
   },
   "outputs": [
    {
     "data": {
      "text/plain": [
       "array(['A-673', 'SKNMC', 'CHP-212', 'NB-1', 'KPNYN', 'SHSY5Y', 'U2-OS',\n",
       "       'SKNDZ', 'CHLA-10', 'CHLA-25', 'CHLA-113', 'CHLA-200', 'CHLA-218'],\n",
       "      dtype=object)"
      ]
     },
     "execution_count": 12,
     "metadata": {},
     "output_type": "execute_result"
    }
   ],
   "source": [
    "round2df[\"Metadata_cell_line\"].unique()"
   ]
  },
  {
   "cell_type": "code",
   "execution_count": 13,
   "metadata": {
    "execution": {
     "iopub.execute_input": "2025-07-03T22:09:27.573633Z",
     "iopub.status.busy": "2025-07-03T22:09:27.573532Z",
     "iopub.status.idle": "2025-07-03T22:09:27.578554Z",
     "shell.execute_reply": "2025-07-03T22:09:27.578272Z"
    },
    "jukit_cell_id": "qrhKm33V6n"
   },
   "outputs": [
    {
     "data": {
      "text/plain": [
       "844"
      ]
     },
     "execution_count": 13,
     "metadata": {},
     "output_type": "execute_result"
    }
   ],
   "source": [
    "round2df[\"Metadata_Image_Count_Cells\"].nunique()"
   ]
  },
  {
   "cell_type": "code",
   "execution_count": 14,
   "metadata": {
    "execution": {
     "iopub.execute_input": "2025-07-03T22:09:27.579586Z",
     "iopub.status.busy": "2025-07-03T22:09:27.579365Z",
     "iopub.status.idle": "2025-07-03T22:09:27.609597Z",
     "shell.execute_reply": "2025-07-03T22:09:27.609312Z"
    },
    "jukit_cell_id": "003J5TqTgq"
   },
   "outputs": [
    {
     "data": {
      "text/plain": [
       "Metadata_Plate\n",
       "BR00145440    387332\n",
       "BR00145439    225179\n",
       "BR00145818    155145\n",
       "BR00145438    137004\n",
       "BR00145817     82987\n",
       "BR00145816     63297\n",
       "Name: count, dtype: int64"
      ]
     },
     "execution_count": 14,
     "metadata": {},
     "output_type": "execute_result"
    }
   ],
   "source": [
    "round2df[\"Metadata_Plate\"].value_counts()"
   ]
  },
  {
   "cell_type": "markdown",
   "metadata": {
    "jukit_cell_id": "4wuYOqL58c"
   },
   "source": [
    "# UMAP Figures"
   ]
  },
  {
   "cell_type": "code",
   "execution_count": 15,
   "metadata": {
    "execution": {
     "iopub.execute_input": "2025-07-03T22:09:27.610687Z",
     "iopub.status.busy": "2025-07-03T22:09:27.610566Z",
     "iopub.status.idle": "2025-07-03T22:09:49.734360Z",
     "shell.execute_reply": "2025-07-03T22:09:49.733985Z"
    },
    "jukit_cell_id": "L34lE7aARC"
   },
   "outputs": [
    {
     "name": "stderr",
     "output_type": "stream",
     "text": [
      "/home/camo/projects/pediatric_cancer_atlas_analysis/1.exploratory_data_analysis/.venv/lib/python3.11/site-packages/umap/umap_.py:1952: UserWarning: n_jobs value 1 overridden to 1 by setting random_state. Use no seed for parallelism.\n",
      "  warn(\n"
     ]
    }
   ],
   "source": [
    "vdf = round2df.groupby(\n",
    "    [\"Metadata_cell_line\", \"Metadata_seeding_density\", \"Metadata_time_point\"]\n",
    ").sample(n=50, random_state=0)\n",
    "\n",
    "umap_obj = UMAP(random_state=0)\n",
    "umapdf = umap_obj.fit_transform(\n",
    "    vdf.loc[:, ~vdf.columns.str.contains(\"metadata\", case=False)]\n",
    ")\n",
    "umapdf = pd.DataFrame(umapdf, columns=[\"umap0\", \"umap1\"])\n",
    "umapdf = umapdf.assign(\n",
    "    Metadata_cell_line=vdf[\"Metadata_cell_line\"].reset_index(drop=True),\n",
    "    Metadata_seeding_density=vdf[\"Metadata_seeding_density\"].reset_index(drop=True),\n",
    "    Metadata_time_point=vdf[\"Metadata_time_point\"].reset_index(drop=True),\n",
    ")\n",
    "umapdf[\"Metadata_seeding_density\"] = umapdf[\"Metadata_seeding_density\"].astype(str)\n",
    "umapdf[\"Metadata_time_point\"] = umapdf[\"Metadata_time_point\"].astype(str)"
   ]
  },
  {
   "cell_type": "code",
   "execution_count": 16,
   "metadata": {
    "execution": {
     "iopub.execute_input": "2025-07-03T22:09:49.735859Z",
     "iopub.status.busy": "2025-07-03T22:09:49.735750Z",
     "iopub.status.idle": "2025-07-03T22:09:53.690750Z",
     "shell.execute_reply": "2025-07-03T22:09:53.690404Z"
    },
    "jukit_cell_id": "ieSDyFKFQC"
   },
   "outputs": [
    {
     "data": {
      "text/plain": [
       "PosixPath('/home/camo/projects/pediatric_cancer_atlas_analysis/1.exploratory_data_analysis/.venv/lib/python3.11/site-packages/choreographer/cli/browser_exe/chrome-linux64/chrome')"
      ]
     },
     "execution_count": 16,
     "metadata": {},
     "output_type": "execute_result"
    }
   ],
   "source": [
    "# Needed to display in chrome\n",
    "kaleido.get_chrome_sync()"
   ]
  },
  {
   "cell_type": "code",
   "execution_count": 17,
   "metadata": {
    "execution": {
     "iopub.execute_input": "2025-07-03T22:09:53.691874Z",
     "iopub.status.busy": "2025-07-03T22:09:53.691774Z",
     "iopub.status.idle": "2025-07-03T22:09:56.361920Z",
     "shell.execute_reply": "2025-07-03T22:09:56.361561Z"
    },
    "jukit_cell_id": "OZ5YdxJEuG"
   },
   "outputs": [
    {
     "data": {
      "application/vnd.plotly.v1+json": {
       "config": {
        "plotlyServerURL": "https://plot.ly"
       },
       "data": [
        {
         "hovertemplate": "Metadata_cell_line=A-673<br>umap0=%{x}<br>umap1=%{y}<extra></extra>",
         "legendgroup": "A-673",
         "marker": {
          "color": "#2E91E5",
          "symbol": "circle"
         },
         "mode": "markers",
         "name": "A-673",
         "showlegend": true,
         "type": "scattergl",
         "x": {
          "bdata": "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",
          "dtype": "f4"
         },
         "xaxis": "x",
         "y": {
          "bdata": "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",
          "dtype": "f4"
         },
         "yaxis": "y"
        },
        {
         "hovertemplate": "Metadata_cell_line=CHLA-10<br>umap0=%{x}<br>umap1=%{y}<extra></extra>",
         "legendgroup": "CHLA-10",
         "marker": {
          "color": "#E15F99",
          "symbol": "circle"
         },
         "mode": "markers",
         "name": "CHLA-10",
         "showlegend": true,
         "type": "scattergl",
         "x": {
          "bdata": "/lDbwO79rMDA/NLAWJSQwPz0scAC3v7AAl2qwJl4lcBICLPAa1H3wKtKj8D3283Ak0DcwP1R4cBpzcDA+X+gwCnLjMDzTv3ABSufwHZGo8CiSO/A/s26wAy5n8BeMK7AKLjHwBThxsAlEsfAVfvswH+ZxMBAUwDBcjvNwP7flMDnGmPA+2iOwPjA8MB5/rHAtYHjwPST58CK56rAfJR4wKjR3sBR0PLACIrjwEHDp8C86O7AhPztwEeam8BtTrbAqi2jwJt4A8G95cnAPFTswCRjycBZMajAFsORwLRaxsBZRgzBk4rzwByTlsBYjMrAov5ywIIvt8B/UJTAn/m7wB0h6MBFqPHAXyN9wHE2qMBrvtDAu3n4wBOvksA5XNLA2Jf5wM2Zv8C/A9DApPDzwAyh7cCgVsTAEurmwNly4cC82OPAkS0EwUqvwcB0VerAJKIIwbeP0sAj4fjAIJb3wN+668DuprjAS6UIwTV9nsDwlt/A6DqIwLWx98AacJfAb5iqwIsW/sAomO7AmHv3wBi2DcEHq+zAi779wBJpucBQMNPAnWj+wHAM+8CMJwDBCIqPwFbd48AhrQHBnCcFwRvp+cDIpvXAaHqhwAxGDsFbuafAvmLYwF3V7sAmYQ3BgO/XwJCy+cBcV5jAl5j9wPM7+8ARU9/AuiTkwA0xAsG8xADBZOi6wJQf1sCvwLrAPCkAwUoKi8ClDaLAgJC0wFC7AcFWUNvAinjxwJYaAcGTqPLAHgCbwCHG9sCCQ7TAmAiywH2s78B4hPnAGqsAwWuAs8Al/vzAVlojQWoopcBqcr7AVD3CwEfkscDqud3AcGnZwM1uBMH65o7AUueSwKiYq8BqFuHA03/vwC2rlMC88b7AAP3EwHVIjsCr3eDAMBjhwOVSnMC0vL3AeXnUwGRcocCA/Y7AtsPqwP3EqsA7ir/AVowJwWv9tcBykCNB0+CXwN4Hs8D32u7AiKXMwGpGxsChIg3BLa6QwFqBq8D7iarAyhiiwALlrcBdRQDBzM2IwFRqsMCYRdzAMFm9wLbtlcBEvKfAeDWjwD1o+sBPmLXAsZfOwGTzxMBlPNvAKwiiwCw1s8B3+IfAxSfdwJHkCsHveKbAEZv/wOEFBcGGGdvAHr6VwP1B78CUx+rApUOrwDDwc8B/qlvAXj8BwdEit8DCB9XAGSHawKR0q8BYxfzAzXXkwJbaqcA8i6/ARtffwDdogcB6WKTAqyrywJTUrsA8pxHBjtrOwCVoBcGK93HAxoDbwJNftcAYcOHAQHbcwI0d2MA+7+7AMsvGwGJU3MCspb3AKfXvwNdcpMD4zdrAX40IwU9rmMBubqzAnGwMwQ7mAsHYNAHBGSMAwU6hyMDalPjAQwcCwUIRh8DL+gDBhEbgwO4hwMDcjLvAMA4AwYg/8sAub/TA6Kr5wK+308B/h9bAEJLwwEjN8cBm3vDAz20Dwf6eysAkdgDBPnO0wBHYrMBUbdjAAdyxwFenDcF0rwLByWXVwOUK5MD+sNzAHhEBwRmvCcGAc+zAtEUJwQiOCcH+IOnACLXDwBXP/cBRWebA7Gv+wDAZDsGu8gfBzZ/9wHw7/8A3QQLBGGqQwFp6zcB4CJDAT6oAwW1Ir8CNoMLAZ0kNwfFrtMC0/6jAwdwAwZpKqsDyxujA4FbCwPRy9sBYaJrAgxKtwPcErMBRzKzARaTPwNhV5MA2LOHAOOWHwBgRscDXTMHAD4aHwOW60MBf8gHB61+awGjl/MB7RQvB7F27wHl/q8Dr5MTA4GDAwGU/tsDjKPnATHqGwNeqI0HUbJLAvY/1wJFIAME1YiNBtyyswEGlmMBzW8TAwS7DwAB79MC9nKPAfTelwBeZ4MCxHeLACJ3hwC7p6cA5k53AYobRwDwQAsF3UwDBcvXnwPXk1cBubq7AGly0wL/Xh8BaIu/A/D4CwYVo0sDlacjAzKPKwP2b+cDKuwXB1vP5wEtQC8FGuMTA9QCmwGBt6MDKJ/HADI3rwEUOA8HZc7XAmZcPwcW+lcDKIpDAF70DwXwXusD2aPTAKUsDwVdt98DiycbAJFzzwM088sCx/prAIIYCwYMB5cApC+DAVFkEwb/g0cCe37nA3V+zwDgw7cA4NY/AkMDswOjxy8C5zfDAdwXAwCi3wsACatPA0s4AwVK19cBQwPrAUXwOwZ3aDcHWir/A89fXwFMkx8AKAr7AJ0OPwGGUmsDVVNfA/oHLwEDd8cDLz+DAQmsAwZ/DDMHPyevA2pTcwNTp4cC7fPLAy378wKTWDcGrhQXBlAq8wCkk9cB2+QvBBP3zwMFa78D1T/HAdnDBwAuU78DtiAfBJ7QHwQgD/cDjqgbBnMSowBR208CwGArBKYa8wEfJzMCjM/rADlKUwPzmpcCJGwPB5PHIwIv+AMGBK9zA/kSswKMdt8CmDdfACum9wGW2tMBudKfA9g+lwJfWIEH1JiJBrPAhQfHeysD3A8fAN4MDwW/hBsEhx4rAu6qrwGn+icDts87ASwj4wLldAMG9/NTAjRoiQeJ42cCqJ8bAHpnSwAkigMA5VdDAfrUBwa7j9cBQasXAeXndwJ9i6MC5OwDBFgfuwGMQqsBAXrnAW//AwAxKwsAQLvTA2lmUwIvz4cAVTsrAd1CrwA7dIUHV6LfAtRTNwAmNpMDF0LLAC3fjwMQ+u8DmE+vAii33wFcV4sAYYabALIbawBwfBMHbUv/ApwXMwKvmw8CSkLLA87T4wDl6/cCFy9LA5lvGwN+7zsDv2NfAyXrCwHKr78Be2tTAfpCbwFYO8sBZrcHAtd71wGlT2MCyvrLAWpvMwHcyrMBHDRLBTaHQwB5OscAYbgPB+6EQwVbVBMG1RsHA5RsKwcgh8sDldtPA9OrrwOiJ+8BnSLHAd6i6wH1o28AjVLbAVWXcwOpjz8D16ADBSAzqwOImBsE7bpDA4+3MwGVwhsBsJM/Am2rrwIw2ccA/McTAJHv8wHW14cAYAwDBYGW8wGwq88C4u/fAkfQBwRQq3cCZ4wrBzGmEwIyIB8FmFZ/AuUKOwMQ+yMBEv5DAR6r3wDGB98BA/QjB7kn5wJr0A8HO+czAzWGQwGLMDMFW1gvBRRzGwPZIxsBO2cvAcoSwwCTApcCmogfBZcECwYaT68DU8fHAm+sCwRvy+MAgsNfAP9wNwb4b9MAOUY3ATyuLwARK2MCsLvvAFILMwBYAzcBNzv3AgdTlwCFR5MBEJuLAIAiwwL1C2sDi5QHBWLoDwTnO08B5lr3A2CLCwPKS5MDMo9HAF3u3wLUGsMA6yOrA1tOvwCwL18AWBq7AEoAAwfl+6sAKbs7AQk3VwA+6lMDvGObAxbgAwYjz0sB3C+XABe2+wPST4cAdj9jAu37cwNNlzsAPWKzAm4evwGas08BXxQLBFZTxwHP3zMC0/QPBDOTywI2k0MBu/OXAORa1wE1wssAPwrzA8KwiQY9uD8FJtAbBaFKnwEc3BMHYFJPA5x0IwY3Lu8AwneDAoO3BwNXiq8BzF/DALM6ywNbXjcAPkpTA0juLwLm74sANUavAxOivwPiZCsF4s43AkT7wwHtFBMGqW9TA3nO5wHWf4cDjIq3AaCXzwPyx6MAs3trA6rzNwKzQpsDsoHPAkon6wEWacsDn6qrAUpGjwFeTj8CstsHAa6v2wIUkscCPxMrAwga9wDlh18ALV8fA8MXWwCAI/sDg0hDBNSX7wD9GrsBANA7BRCDwwIX098BuVg/BtE+WwFGwCMFsLfjAi5EHwad3AsFiruLAf2O3wHin8MDitgfBO6CxwJnpqsBz7X/ABToEwTd0BMEwMQbBMyX7wLp/68AqIc7AZsbiwODzwcDONZXA5bEBwbuvCMELOIbAm1/3wC4pjcBus3DAl48HwWksjMAbfrPAVbEHwW+Tj8BCOZvAOrL8wAxD58DUqMDA9m20wGNcv8C9xgzBq/vzwLFrjMDtDgbBU7oLwSXkisBBIbXARIT9wPdfA8GOJfzA",
          "dtype": "f4"
         },
         "xaxis": "x",
         "y": {
          "bdata": "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",
          "dtype": "f4"
         },
         "yaxis": "y"
        },
        {
         "hovertemplate": "Metadata_cell_line=CHLA-113<br>umap0=%{x}<br>umap1=%{y}<extra></extra>",
         "legendgroup": "CHLA-113",
         "marker": {
          "color": "#1CA71C",
          "symbol": "circle"
         },
         "mode": "markers",
         "name": "CHLA-113",
         "showlegend": true,
         "type": "scattergl",
         "x": {
          "bdata": "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",
          "dtype": "f4"
         },
         "xaxis": "x",
         "y": {
          "bdata": "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",
          "dtype": "f4"
         },
         "yaxis": "y"
        },
        {
         "hovertemplate": "Metadata_cell_line=CHLA-200<br>umap0=%{x}<br>umap1=%{y}<extra></extra>",
         "legendgroup": "CHLA-200",
         "marker": {
          "color": "#FB0D0D",
          "symbol": "circle"
         },
         "mode": "markers",
         "name": "CHLA-200",
         "showlegend": true,
         "type": "scattergl",
         "x": {
          "bdata": "djOAwJjJecAfJqDAqQSuwFLGfMAbZ6rABd1/wFuW0cAiFXvAo9N6wIx2lcATjpjAbFQFwb5JlcCN6qPAGQiWwE72q8D4eJ7AAaW/wFuvp8Bq+Z3A80WawLNnfcDHqbjAiX27wIv7ksBS06PA/9mmwNsElsD8GHbAwKGbwHeZkcDj/sTAqRKrwEmJfsBb+YPAowqRwEwanMBEQ4fAOWvBwLHPe8B/iI3AmfGowLxyeMB8dJvAHtCXwGjBlMCmPerAmeWgwAGgoMCOjY/ADMmpwOv7zMAmf7/AXOGNwEhakMAzRrXAatitwCASk8Dur43A9y2dwNQNqsDIJI7AkkqAwDDueMBguo3AfJuDwJncrcDVwbHAFnuNwPhghsAh1/fAuIxpwNGeicA6to7A2FukwMqdscAsM5PAtDMCwXQGpcBAcLTAgQt/wODIh8AucazAyKunwOe9q8BVHJfAMrkLwS6dzcBknIrAVD2RwJPwjMDTxpvAHPOrwIfH/8Cyh77A2JjbwLd16sBQTnvAr/eNwCaOpsCxdc3A/cDiwKQyq8B+bavAkCGrwHm4j8CRS83AOCjlwNbynsDo55fAWyGJwC5rq8BnA3HAM8KywFlno8CaEK/Ave/dwN/G1sDxaOrA9PSRwBmhqsBOHP/A0c6UwK471cChiqzANGdxwAGtfMAMfrLATfLQwIbbjsDfuJbAaxQEwfVdisC2j8fARkixwCSCgsBS4p/ANI2dwKfpisDe8Y/A/s75wGj2jMCYiQbBkjfPwKpWs8De5sbA4t9swHbib8AT1u3Ak+TDwMgphsDQE5bAhcaYwEkXucB4M6rAGqqlwDxKj8DEp9LAWQeWwNrZn8AlG9nALGKlwC4UmMDaXKXAunOnwDvBmMBKrY7ABeWhwBAo98CNwdPA8/N7wE2WecCKYo7AyvOjwJTFzMDylZbA6ByHwHfUpsAXkIXA3yGRwIVZjsA6aHHAAf+DwL+wXsAVfI3AZzSiwFUup8B7oJ7AmTK1wPm4nsAdSaHApsGRwJEAkcBuxY/A9JSAwKdrqcDFgKHA1e6rwHiYycCJbKjARuj5wJDsucBWY4nAndePwLosh8AD9KHAn+mNwFe/acA2sprAGEG6wMI7rcBdF5/A6mKkwIehh8Cv7grBfsuvwJjPlcBy4Z7A/b6wwBd8csALp5DACsyNwFcSjMAtbHjAg0mDwFMbg8Byh7zA6XcCwRoxccCjOr7AN86hwBOVpMA1sPnAR5CswFWJqsA1f+7AP6ygwG3al8C13djAif6NwDSv0sBCjrXA1bqPwF3J68BXJYLAzf2vwNoYnsCxeJfAKH33wNxk8sArBInAT8mMwIPapMC34MzAJwyWwKHSocBkW47ASV6CwK18acCEJKnAqMqBwJnHxcCDx6rACZ+SwPXZ0MCZ5M3ANLTXwE1T/cDxfavAPf/GwF+uvMCwhNTAxaPAwNEnscDS4avAhhePwDlmscAjmGrAAp3EwPYj2MBgX5PAIa+lwNXxlcARQevApNaPwIbJ2cAU5KvAOf5rwIemk8BLGcbAXBrtwD87rcD6pbfAICzBwNL65MB8vqnAxVLQwJeWCsH/npvADH6awK5CAMFt6KTA9OWwwFHeocB23ZHABK+HwHQ9rsD2MpXALCzJwCXdncB48Y3A5fC3wIVTvMBIuJnA9ey9wH5b8cBxpo3AT+zgwGFFusBPrMjA7lqewHin/8BFW43AXnmfwMLImcCnyKbAACOiwC3va8A5YZfAOmSUwLR/r8A+jqDANEuOwL82j8CiOo/A3L2MwLYVm8DRvI7AEZKrwN0uj8Cjo53AFG/iwHBW0MAOV4PAmEOPwOZeoMAmWZ/AWN6UwOBsysDJeAvBmM4FwW8T8cDJQojA682wwGUmCsG5BL/AaTfzwEsmxMBUCWjAkjvOwLNNnMAawM3Asf6wwCg2ncD2doXAse63wAd9e8AfygPB9FV9wNqSA8HCRpHALQi0wBa55cAVT3XAKP+kwNfErcCbB8DAW3jswEsx8sAzHJ/AeDabwPjNk8DlqpDAhHDEwBa+ucAAZ9LAod6iwD3prsCLw5/Ao46fwDoEjsANssPAB8jiwItykMBOlpDAMnqDwGTLvcDtQ47Auuu5wMYwzsCFBpHA0Du9wKDng8DU37DAXtifwMHijsBqdr3ADM/8wE4C2cBbnX3AMjCpwKaBfsDqU5fAzYGtwPrXjcDWh6TAiTjGwEX/hcDY/s7ASFGiwHrrqsCASbTAXUjDwOVyeMA3YcLAV/rTwGyZn8DLDILASpwDwY4cicCr68vAusX9wDFUr8DPtL/Az/G6wDxIrcAOSKDAMyP7wGmeh8CgDJXAJHDuwGd9rMBSStrA57TEwOEppcCv12jATAvMwESvxMAKa9PARECDwAh5pMCQSMjAT0XOwNesnsClGdXAZbyLwJSKt8AuA4HADjGfwO1O0cDchqfAqaXJwCK+mcD7IYPAgQOewI7h5MCY8pDAsXq5wAcqosD2d6HAffjqwGV8fMAWQq/AgJG4wLxhmcDyH7rAtsEZwec2mcAyc5DAhl+ewF2DmMBaSI/AP4qjwORmxcDiPZ/AGMafwKF/hMCj7qDAmyyCwDYbbsBtldHAegC9wNyTr8DJ6gzB0f2hwO2locBQJtXAlAOAwIRt1MD/GbvARhjjwCDB18Cl/wHBH6bawA48b8Agk7bACLegwCFTC8ET67XA7HmwwOy2tsCaDJjAmN7UwAMe4MBgnqfA1ivUwPPduMBAQqPAmi2EwHfrtMArI/jAjMqswE0faMBv+XzA7JkIwZZG58DBJcbAeGN+wG3AlcAdHJzAv/XmwDgRscB3i9vABFrxwDrn1sBQ4bzAxAPlwLU52MAYiJHAB4a0wIJWhsDTIdPAF8/DwE1j1cDzgNzAEtPtwDu0qsC+JtvA7D6ywNldocCLb5XAIKOnwDZEAsFVrrPAo9RfwOO9oMA/A2vAEKCRwKny4MDSGdTAW+LYwDMyz8Ctd9jA7FPAwByJrsAwQQPBpfGzwPaNuMDwiPrA0mfTwIGAwcChA5nAfI2hwEvCmMBW6wrBycvewLuBAMGs7grB1GyDwAaUtMCHGM3AAQ+UwHlSkcDtFM7AETqOwD5Qk8DExJDAigP5wJgkk8A6C9DAT0S8wBETBMFCVPrA1rq6wNIst8AJG7HAZbPrwAaw6MB2Q7fADUuIwP3+3sDmh/HAyHTFwNRbr8C0xLfACgGtwLoYxMCoQNrARhiIwNuWf8DAkLLAOv6QwC4C6cBG6fHAi92swNlosMA4c/7ATBqSwKMdBMEwX+/AddWTwAyZ3sCSmuzAPsuPwNZUt8AKzo7AxcrKwDTZ18DEzsHAQy2LwNqg68D0b37AflSkwKJfkcDftILA6RXFwKzf1cDWxnfAz0iewLKky8Aa6JzAUdfOwM7ar8ApZpvASvXhwD8ejsD8oaHAaVPxwBbKmsB0f7nAwui8wF/4osCAydPAdSEJwebWlsDpjt7AHP+0wNImosCGVKDAaDbrwEME2cC1GJDAfn+dwEypn8Cw+NPAdTnpwDugrcBLGc/AUye9wPX4tsCn35vA0E2UwJsYwcCbDPvA3Ez2wFERtcDwxLTAY2jGwOcyAMFenJnAM2m3wAsysMDBZoPAeK/NwNLihcDZaJrANHy4wDk3A8FRuPXAq2eowKGSzsCZguvAdVqTwA/tBsGPFafAwfD6wCDJxMD8Ac/At5rXwJZysMApKsPA5vv1wCIGtMCpiMTAKs/PwM6z1cCnqQTBcl/jwCOjnMBaW8XAO5/wwN58m8BcD7HANtncwGrNBsGTOq7An4cFwfnzs8ASXgLBPRH1wNMS2MB/ltHAawfOwBNBl8BcYuXAcJ2twCn1/8BZRq7An6YDwd3k9cBK1/LAq437wGdssMA4547AeZjEwIiG88Dk+L7AjIDnwIBFrsBnE5rAn7ZswOWCz8A25t/AuIKLwMvf+sCufq3Ajm6iwLLI/MAq3qrA",
          "dtype": "f4"
         },
         "xaxis": "x",
         "y": {
          "bdata": "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",
          "dtype": "f4"
         },
         "yaxis": "y"
        },
        {
         "hovertemplate": "Metadata_cell_line=CHLA-218<br>umap0=%{x}<br>umap1=%{y}<extra></extra>",
         "legendgroup": "CHLA-218",
         "marker": {
          "color": "#DA16FF",
          "symbol": "circle"
         },
         "mode": "markers",
         "name": "CHLA-218",
         "showlegend": true,
         "type": "scattergl",
         "x": {
          "bdata": "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",
          "dtype": "f4"
         },
         "xaxis": "x",
         "y": {
          "bdata": "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",
          "dtype": "f4"
         },
         "yaxis": "y"
        },
        {
         "hovertemplate": "Metadata_cell_line=CHLA-25<br>umap0=%{x}<br>umap1=%{y}<extra></extra>",
         "legendgroup": "CHLA-25",
         "marker": {
          "color": "#222A2A",
          "symbol": "circle"
         },
         "mode": "markers",
         "name": "CHLA-25",
         "showlegend": true,
         "type": "scattergl",
         "x": {
          "bdata": "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",
          "dtype": "f4"
         },
         "xaxis": "x",
         "y": {
          "bdata": "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",
          "dtype": "f4"
         },
         "yaxis": "y"
        },
        {
         "hovertemplate": "Metadata_cell_line=CHP-212<br>umap0=%{x}<br>umap1=%{y}<extra></extra>",
         "legendgroup": "CHP-212",
         "marker": {
          "color": "#B68100",
          "symbol": "circle"
         },
         "mode": "markers",
         "name": "CHP-212",
         "showlegend": true,
         "type": "scattergl",
         "x": {
          "bdata": "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",
          "dtype": "f4"
         },
         "xaxis": "x",
         "y": {
          "bdata": "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",
          "dtype": "f4"
         },
         "yaxis": "y"
        },
        {
         "hovertemplate": "Metadata_cell_line=KPNYN<br>umap0=%{x}<br>umap1=%{y}<extra></extra>",
         "legendgroup": "KPNYN",
         "marker": {
          "color": "#750D86",
          "symbol": "circle"
         },
         "mode": "markers",
         "name": "KPNYN",
         "showlegend": true,
         "type": "scattergl",
         "x": {
          "bdata": "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",
          "dtype": "f4"
         },
         "xaxis": "x",
         "y": {
          "bdata": "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",
          "dtype": "f4"
         },
         "yaxis": "y"
        },
        {
         "hovertemplate": "Metadata_cell_line=NB-1<br>umap0=%{x}<br>umap1=%{y}<extra></extra>",
         "legendgroup": "NB-1",
         "marker": {
          "color": "#EB663B",
          "symbol": "circle"
         },
         "mode": "markers",
         "name": "NB-1",
         "showlegend": true,
         "type": "scattergl",
         "x": {
          "bdata": "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",
          "dtype": "f4"
         },
         "xaxis": "x",
         "y": {
          "bdata": "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",
          "dtype": "f4"
         },
         "yaxis": "y"
        },
        {
         "hovertemplate": "Metadata_cell_line=SHSY5Y<br>umap0=%{x}<br>umap1=%{y}<extra></extra>",
         "legendgroup": "SHSY5Y",
         "marker": {
          "color": "#511CFB",
          "symbol": "circle"
         },
         "mode": "markers",
         "name": "SHSY5Y",
         "showlegend": true,
         "type": "scattergl",
         "x": {
          "bdata": "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",
          "dtype": "f4"
         },
         "xaxis": "x",
         "y": {
          "bdata": "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",
          "dtype": "f4"
         },
         "yaxis": "y"
        },
        {
         "hovertemplate": "Metadata_cell_line=SKNDZ<br>umap0=%{x}<br>umap1=%{y}<extra></extra>",
         "legendgroup": "SKNDZ",
         "marker": {
          "color": "#00A08B",
          "symbol": "circle"
         },
         "mode": "markers",
         "name": "SKNDZ",
         "showlegend": true,
         "type": "scattergl",
         "x": {
          "bdata": "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",
          "dtype": "f4"
         },
         "xaxis": "x",
         "y": {
          "bdata": "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",
          "dtype": "f4"
         },
         "yaxis": "y"
        },
        {
         "hovertemplate": "Metadata_cell_line=SKNMC<br>umap0=%{x}<br>umap1=%{y}<extra></extra>",
         "legendgroup": "SKNMC",
         "marker": {
          "color": "#FB00D1",
          "symbol": "circle"
         },
         "mode": "markers",
         "name": "SKNMC",
         "showlegend": true,
         "type": "scattergl",
         "x": {
          "bdata": "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",
          "dtype": "f4"
         },
         "xaxis": "x",
         "y": {
          "bdata": "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",
          "dtype": "f4"
         },
         "yaxis": "y"
        },
        {
         "hovertemplate": "Metadata_cell_line=U2-OS<br>umap0=%{x}<br>umap1=%{y}<extra></extra>",
         "legendgroup": "U2-OS",
         "marker": {
          "color": "#FC0080",
          "symbol": "circle"
         },
         "mode": "markers",
         "name": "U2-OS",
         "showlegend": true,
         "type": "scattergl",
         "x": {
          "bdata": "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",
          "dtype": "f4"
         },
         "xaxis": "x",
         "y": {
          "bdata": "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",
          "dtype": "f4"
         },
         "yaxis": "y"
        }
       ],
       "layout": {
        "legend": {
         "title": {
          "text": "Metadata_cell_line"
         },
         "tracegroupgap": 0
        },
        "template": {
         "data": {
          "bar": [
           {
            "error_x": {
             "color": "#2a3f5f"
            },
            "error_y": {
             "color": "#2a3f5f"
            },
            "marker": {
             "line": {
              "color": "#E5ECF6",
              "width": 0.5
             },
             "pattern": {
              "fillmode": "overlay",
              "size": 10,
              "solidity": 0.2
             }
            },
            "type": "bar"
           }
          ],
          "barpolar": [
           {
            "marker": {
             "line": {
              "color": "#E5ECF6",
              "width": 0.5
             },
             "pattern": {
              "fillmode": "overlay",
              "size": 10,
              "solidity": 0.2
             }
            },
            "type": "barpolar"
           }
          ],
          "carpet": [
           {
            "aaxis": {
             "endlinecolor": "#2a3f5f",
             "gridcolor": "white",
             "linecolor": "white",
             "minorgridcolor": "white",
             "startlinecolor": "#2a3f5f"
            },
            "baxis": {
             "endlinecolor": "#2a3f5f",
             "gridcolor": "white",
             "linecolor": "white",
             "minorgridcolor": "white",
             "startlinecolor": "#2a3f5f"
            },
            "type": "carpet"
           }
          ],
          "choropleth": [
           {
            "colorbar": {
             "outlinewidth": 0,
             "ticks": ""
            },
            "type": "choropleth"
           }
          ],
          "contour": [
           {
            "colorbar": {
             "outlinewidth": 0,
             "ticks": ""
            },
            "colorscale": [
             [
              0.0,
              "#0d0887"
             ],
             [
              0.1111111111111111,
              "#46039f"
             ],
             [
              0.2222222222222222,
              "#7201a8"
             ],
             [
              0.3333333333333333,
              "#9c179e"
             ],
             [
              0.4444444444444444,
              "#bd3786"
             ],
             [
              0.5555555555555556,
              "#d8576b"
             ],
             [
              0.6666666666666666,
              "#ed7953"
             ],
             [
              0.7777777777777778,
              "#fb9f3a"
             ],
             [
              0.8888888888888888,
              "#fdca26"
             ],
             [
              1.0,
              "#f0f921"
             ]
            ],
            "type": "contour"
           }
          ],
          "contourcarpet": [
           {
            "colorbar": {
             "outlinewidth": 0,
             "ticks": ""
            },
            "type": "contourcarpet"
           }
          ],
          "heatmap": [
           {
            "colorbar": {
             "outlinewidth": 0,
             "ticks": ""
            },
            "colorscale": [
             [
              0.0,
              "#0d0887"
             ],
             [
              0.1111111111111111,
              "#46039f"
             ],
             [
              0.2222222222222222,
              "#7201a8"
             ],
             [
              0.3333333333333333,
              "#9c179e"
             ],
             [
              0.4444444444444444,
              "#bd3786"
             ],
             [
              0.5555555555555556,
              "#d8576b"
             ],
             [
              0.6666666666666666,
              "#ed7953"
             ],
             [
              0.7777777777777778,
              "#fb9f3a"
             ],
             [
              0.8888888888888888,
              "#fdca26"
             ],
             [
              1.0,
              "#f0f921"
             ]
            ],
            "type": "heatmap"
           }
          ],
          "histogram": [
           {
            "marker": {
             "pattern": {
              "fillmode": "overlay",
              "size": 10,
              "solidity": 0.2
             }
            },
            "type": "histogram"
           }
          ],
          "histogram2d": [
           {
            "colorbar": {
             "outlinewidth": 0,
             "ticks": ""
            },
            "colorscale": [
             [
              0.0,
              "#0d0887"
             ],
             [
              0.1111111111111111,
              "#46039f"
             ],
             [
              0.2222222222222222,
              "#7201a8"
             ],
             [
              0.3333333333333333,
              "#9c179e"
             ],
             [
              0.4444444444444444,
              "#bd3786"
             ],
             [
              0.5555555555555556,
              "#d8576b"
             ],
             [
              0.6666666666666666,
              "#ed7953"
             ],
             [
              0.7777777777777778,
              "#fb9f3a"
             ],
             [
              0.8888888888888888,
              "#fdca26"
             ],
             [
              1.0,
              "#f0f921"
             ]
            ],
            "type": "histogram2d"
           }
          ],
          "histogram2dcontour": [
           {
            "colorbar": {
             "outlinewidth": 0,
             "ticks": ""
            },
            "colorscale": [
             [
              0.0,
              "#0d0887"
             ],
             [
              0.1111111111111111,
              "#46039f"
             ],
             [
              0.2222222222222222,
              "#7201a8"
             ],
             [
              0.3333333333333333,
              "#9c179e"
             ],
             [
              0.4444444444444444,
              "#bd3786"
             ],
             [
              0.5555555555555556,
              "#d8576b"
             ],
             [
              0.6666666666666666,
              "#ed7953"
             ],
             [
              0.7777777777777778,
              "#fb9f3a"
             ],
             [
              0.8888888888888888,
              "#fdca26"
             ],
             [
              1.0,
              "#f0f921"
             ]
            ],
            "type": "histogram2dcontour"
           }
          ],
          "mesh3d": [
           {
            "colorbar": {
             "outlinewidth": 0,
             "ticks": ""
            },
            "type": "mesh3d"
           }
          ],
          "parcoords": [
           {
            "line": {
             "colorbar": {
              "outlinewidth": 0,
              "ticks": ""
             }
            },
            "type": "parcoords"
           }
          ],
          "pie": [
           {
            "automargin": true,
            "type": "pie"
           }
          ],
          "scatter": [
           {
            "fillpattern": {
             "fillmode": "overlay",
             "size": 10,
             "solidity": 0.2
            },
            "type": "scatter"
           }
          ],
          "scatter3d": [
           {
            "line": {
             "colorbar": {
              "outlinewidth": 0,
              "ticks": ""
             }
            },
            "marker": {
             "colorbar": {
              "outlinewidth": 0,
              "ticks": ""
             }
            },
            "type": "scatter3d"
           }
          ],
          "scattercarpet": [
           {
            "marker": {
             "colorbar": {
              "outlinewidth": 0,
              "ticks": ""
             }
            },
            "type": "scattercarpet"
           }
          ],
          "scattergeo": [
           {
            "marker": {
             "colorbar": {
              "outlinewidth": 0,
              "ticks": ""
             }
            },
            "type": "scattergeo"
           }
          ],
          "scattergl": [
           {
            "marker": {
             "colorbar": {
              "outlinewidth": 0,
              "ticks": ""
             }
            },
            "type": "scattergl"
           }
          ],
          "scattermap": [
           {
            "marker": {
             "colorbar": {
              "outlinewidth": 0,
              "ticks": ""
             }
            },
            "type": "scattermap"
           }
          ],
          "scattermapbox": [
           {
            "marker": {
             "colorbar": {
              "outlinewidth": 0,
              "ticks": ""
             }
            },
            "type": "scattermapbox"
           }
          ],
          "scatterpolar": [
           {
            "marker": {
             "colorbar": {
              "outlinewidth": 0,
              "ticks": ""
             }
            },
            "type": "scatterpolar"
           }
          ],
          "scatterpolargl": [
           {
            "marker": {
             "colorbar": {
              "outlinewidth": 0,
              "ticks": ""
             }
            },
            "type": "scatterpolargl"
           }
          ],
          "scatterternary": [
           {
            "marker": {
             "colorbar": {
              "outlinewidth": 0,
              "ticks": ""
             }
            },
            "type": "scatterternary"
           }
          ],
          "surface": [
           {
            "colorbar": {
             "outlinewidth": 0,
             "ticks": ""
            },
            "colorscale": [
             [
              0.0,
              "#0d0887"
             ],
             [
              0.1111111111111111,
              "#46039f"
             ],
             [
              0.2222222222222222,
              "#7201a8"
             ],
             [
              0.3333333333333333,
              "#9c179e"
             ],
             [
              0.4444444444444444,
              "#bd3786"
             ],
             [
              0.5555555555555556,
              "#d8576b"
             ],
             [
              0.6666666666666666,
              "#ed7953"
             ],
             [
              0.7777777777777778,
              "#fb9f3a"
             ],
             [
              0.8888888888888888,
              "#fdca26"
             ],
             [
              1.0,
              "#f0f921"
             ]
            ],
            "type": "surface"
           }
          ],
          "table": [
           {
            "cells": {
             "fill": {
              "color": "#EBF0F8"
             },
             "line": {
              "color": "white"
             }
            },
            "header": {
             "fill": {
              "color": "#C8D4E3"
             },
             "line": {
              "color": "white"
             }
            },
            "type": "table"
           }
          ]
         },
         "layout": {
          "annotationdefaults": {
           "arrowcolor": "#2a3f5f",
           "arrowhead": 0,
           "arrowwidth": 1
          },
          "autotypenumbers": "strict",
          "coloraxis": {
           "colorbar": {
            "outlinewidth": 0,
            "ticks": ""
           }
          },
          "colorscale": {
           "diverging": [
            [
             0,
             "#8e0152"
            ],
            [
             0.1,
             "#c51b7d"
            ],
            [
             0.2,
             "#de77ae"
            ],
            [
             0.3,
             "#f1b6da"
            ],
            [
             0.4,
             "#fde0ef"
            ],
            [
             0.5,
             "#f7f7f7"
            ],
            [
             0.6,
             "#e6f5d0"
            ],
            [
             0.7,
             "#b8e186"
            ],
            [
             0.8,
             "#7fbc41"
            ],
            [
             0.9,
             "#4d9221"
            ],
            [
             1,
             "#276419"
            ]
           ],
           "sequential": [
            [
             0.0,
             "#0d0887"
            ],
            [
             0.1111111111111111,
             "#46039f"
            ],
            [
             0.2222222222222222,
             "#7201a8"
            ],
            [
             0.3333333333333333,
             "#9c179e"
            ],
            [
             0.4444444444444444,
             "#bd3786"
            ],
            [
             0.5555555555555556,
             "#d8576b"
            ],
            [
             0.6666666666666666,
             "#ed7953"
            ],
            [
             0.7777777777777778,
             "#fb9f3a"
            ],
            [
             0.8888888888888888,
             "#fdca26"
            ],
            [
             1.0,
             "#f0f921"
            ]
           ],
           "sequentialminus": [
            [
             0.0,
             "#0d0887"
            ],
            [
             0.1111111111111111,
             "#46039f"
            ],
            [
             0.2222222222222222,
             "#7201a8"
            ],
            [
             0.3333333333333333,
             "#9c179e"
            ],
            [
             0.4444444444444444,
             "#bd3786"
            ],
            [
             0.5555555555555556,
             "#d8576b"
            ],
            [
             0.6666666666666666,
             "#ed7953"
            ],
            [
             0.7777777777777778,
             "#fb9f3a"
            ],
            [
             0.8888888888888888,
             "#fdca26"
            ],
            [
             1.0,
             "#f0f921"
            ]
           ]
          },
          "colorway": [
           "#636efa",
           "#EF553B",
           "#00cc96",
           "#ab63fa",
           "#FFA15A",
           "#19d3f3",
           "#FF6692",
           "#B6E880",
           "#FF97FF",
           "#FECB52"
          ],
          "font": {
           "color": "#2a3f5f"
          },
          "geo": {
           "bgcolor": "white",
           "lakecolor": "white",
           "landcolor": "#E5ECF6",
           "showlakes": true,
           "showland": true,
           "subunitcolor": "white"
          },
          "hoverlabel": {
           "align": "left"
          },
          "hovermode": "closest",
          "mapbox": {
           "style": "light"
          },
          "paper_bgcolor": "white",
          "plot_bgcolor": "#E5ECF6",
          "polar": {
           "angularaxis": {
            "gridcolor": "white",
            "linecolor": "white",
            "ticks": ""
           },
           "bgcolor": "#E5ECF6",
           "radialaxis": {
            "gridcolor": "white",
            "linecolor": "white",
            "ticks": ""
           }
          },
          "scene": {
           "xaxis": {
            "backgroundcolor": "#E5ECF6",
            "gridcolor": "white",
            "gridwidth": 2,
            "linecolor": "white",
            "showbackground": true,
            "ticks": "",
            "zerolinecolor": "white"
           },
           "yaxis": {
            "backgroundcolor": "#E5ECF6",
            "gridcolor": "white",
            "gridwidth": 2,
            "linecolor": "white",
            "showbackground": true,
            "ticks": "",
            "zerolinecolor": "white"
           },
           "zaxis": {
            "backgroundcolor": "#E5ECF6",
            "gridcolor": "white",
            "gridwidth": 2,
            "linecolor": "white",
            "showbackground": true,
            "ticks": "",
            "zerolinecolor": "white"
           }
          },
          "shapedefaults": {
           "line": {
            "color": "#2a3f5f"
           }
          },
          "ternary": {
           "aaxis": {
            "gridcolor": "white",
            "linecolor": "white",
            "ticks": ""
           },
           "baxis": {
            "gridcolor": "white",
            "linecolor": "white",
            "ticks": ""
           },
           "bgcolor": "#E5ECF6",
           "caxis": {
            "gridcolor": "white",
            "linecolor": "white",
            "ticks": ""
           }
          },
          "title": {
           "x": 0.05
          },
          "xaxis": {
           "automargin": true,
           "gridcolor": "white",
           "linecolor": "white",
           "ticks": "",
           "title": {
            "standoff": 15
           },
           "zerolinecolor": "white",
           "zerolinewidth": 2
          },
          "yaxis": {
           "automargin": true,
           "gridcolor": "white",
           "linecolor": "white",
           "ticks": "",
           "title": {
            "standoff": 15
           },
           "zerolinecolor": "white",
           "zerolinewidth": 2
          }
         }
        },
        "title": {
         "text": "UMAP by Cell Line"
        },
        "xaxis": {
         "anchor": "y",
         "domain": [
          0.0,
          1.0
         ],
         "title": {
          "text": "umap0"
         }
        },
        "yaxis": {
         "anchor": "x",
         "domain": [
          0.0,
          1.0
         ],
         "title": {
          "text": "umap1"
         }
        }
       }
      }
     },
     "metadata": {},
     "output_type": "display_data"
    }
   ],
   "source": [
    "fig = px.scatter(\n",
    "    umapdf,\n",
    "    x=\"umap0\",\n",
    "    y=\"umap1\",\n",
    "    color=\"Metadata_cell_line\",\n",
    "    title=\"UMAP by Cell Line\",\n",
    "    color_discrete_sequence=px.colors.qualitative.Dark24,\n",
    ")\n",
    "\n",
    "fig.show()\n",
    "fig.write_image(\n",
    "    static_figure_path / \"round1_cell_line_umap.png\", width=2000, height=1200\n",
    ")\n",
    "fig.write_html(\n",
    "    int_figure_path / \"round1_cell_line_umap.html\",\n",
    "    full_html=True,\n",
    "    include_plotlyjs=\"embed\",\n",
    ")"
   ]
  },
  {
   "cell_type": "code",
   "execution_count": 18,
   "metadata": {
    "execution": {
     "iopub.execute_input": "2025-07-03T22:09:56.363388Z",
     "iopub.status.busy": "2025-07-03T22:09:56.363257Z",
     "iopub.status.idle": "2025-07-03T22:09:58.861322Z",
     "shell.execute_reply": "2025-07-03T22:09:58.860967Z"
    },
    "jukit_cell_id": "XjfIInxjNN"
   },
   "outputs": [
    {
     "data": {
      "application/vnd.plotly.v1+json": {
       "config": {
        "plotlyServerURL": "https://plot.ly"
       },
       "data": [
        {
         "hovertemplate": "Metadata_seeding_density=1000<br>umap0=%{x}<br>umap1=%{y}<extra></extra>",
         "legendgroup": "1000",
         "marker": {
          "color": "#edf8fb",
          "symbol": "circle"
         },
         "mode": "markers",
         "name": "1000",
         "showlegend": true,
         "type": "scattergl",
         "x": {
          "bdata": "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",
          "dtype": "f4"
         },
         "xaxis": "x",
         "y": {
          "bdata": "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",
          "dtype": "f4"
         },
         "yaxis": "y"
        },
        {
         "hovertemplate": "Metadata_seeding_density=2000<br>umap0=%{x}<br>umap1=%{y}<extra></extra>",
         "legendgroup": "2000",
         "marker": {
          "color": "#b2e2e2",
          "symbol": "circle"
         },
         "mode": "markers",
         "name": "2000",
         "showlegend": true,
         "type": "scattergl",
         "x": {
          "bdata": "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",
          "dtype": "f4"
         },
         "xaxis": "x",
         "y": {
          "bdata": "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",
          "dtype": "f4"
         },
         "yaxis": "y"
        },
        {
         "hovertemplate": "Metadata_seeding_density=4000<br>umap0=%{x}<br>umap1=%{y}<extra></extra>",
         "legendgroup": "4000",
         "marker": {
          "color": "#66c2a4",
          "symbol": "circle"
         },
         "mode": "markers",
         "name": "4000",
         "showlegend": true,
         "type": "scattergl",
         "x": {
          "bdata": "TrjiwDmd7MCNccDAJwfswJF0qcC3I6/AsazvwMXZn8CQvb/Au8vLwJpbkMALtOrAtE/dwJYnu8Dm+M3ADIH2wENt48Cz+7fAsdn+wDy888AwevHAwkfTwB1eo8A5LNTAOJ3iwAWX5sBiRe3AWSfawOsbyMAgbpzArM+iwAqPDsHtnA3Bc8GRwECLlsDdVJ7A7EOPwLZE48DYHv/ACZ3rwMtB9MC/HYbA8R68wHvC78BjVNDAyem0wOp3/MDg7tbAt//9wBVDyMCAwtXAnKAMwYxE88DVEtHAV573wK0emcB+o/rAEawFwbCBtMBsh8fAFaQCwc/p2cBa3/vAs5z4wB4d7cDlLpnAqsLAwM7w0MBTzJHAZB3iwPr0ocAKTqPAeK3vwEOHAMEi7KHAvAi2wKnpt8C7Ga7A0+/kwOWluMCu+f7Ad/afwLTPycCX3gTBFRScwCRn28CK1QDBb4mzwHxQ48AXMMXAsncDwQkm28BLlerAdEC4wJNvwMD+2gbBALTjwBE1wMCPSozAjvG6wOhmB8EokbzAHgj+wMea3sCcCvPAenHRwEUduMDp3gDB4/evwK3ywcCLl63AkvT6wBQH08CELxnBHvHTwP9f7MAnmffAHUP4wNKnwsCJtNPAS9zDwNtG+sB488DAP5TvwABhtMCY6QzBvmDawEGL3MCcUtTAa9SZwNhw8sAaw7nAigjZwE2J9sAQogbBdXirwAsZ8sDdJ+HA9+e0wPE/3MBuLwfBktKPwCcCzsB1fPHA+B7gwKaaosAcydHAT3sGwQ45xcASebvAGGqQwFp6zcB4CJDAT6oAwW1Ir8CNoMLAZ0kNwfFrtMC0/6jAwdwAwZpKqsDyxujA4FbCwPRy9sBYaJrAgxKtwPcErMBRzKzARaTPwNhV5MA2LOHAOOWHwBgRscDXTMHAD4aHwOW60MBf8gHB61+awGjl/MB7RQvB7F27wHl/q8Dr5MTA4GDAwGU/tsDjKPnATHqGwNeqI0HUbJLAvY/1wJFIAME1YiNBtyyswEGlmMBzW8TAwS7DwAB79MC9nKPAfTelwBeZ4MCxHeLACJ3hwC7p6cA5k53AYobRwDwQAsF3UwDBcvXnwPXk1cBubq7AGly0wL/Xh8BaIu/A/D4CwYVo0sDlacjAzKPKwP2b+cDKuwXB1vP5wEtQC8FGuMTA9QCmwGBt6MDKJ/HADI3rwEUOA8HZc7XAmZcPwcW+lcDKIpDAF70DwXwXusD2aPTAKUsDwVdt98DiycbAJFzzwM088sCx/prAIIYCwYMB5cApC+DAVFkEwb/g0cCe37nA3V+zwDgw7cA4NY/AkMDswOjxy8C5zfDAdwXAwCi3wsACatPA0s4AwVK19cBQwPrAUXwOwZ3aDcHWir/A89fXwFMkx8AKAr7AJ0OPwGGUmsDVVNfA/oHLwEDd8cDLz+DAQmsAwZ/DDMHPyevA2pTcwNTp4cC7fPLAy378wKTWDcGrhQXBlAq8wCkk9cB2+QvBBP3zwMFa78D1T/HAdnDBwAuU78DtiAfBJ7QHwQgD/cDjqgbBnMSowBR208CwGArBKYa8wEfJzMCjM/rADlKUwPzmpcCJGwPBQWPiwEmqosDzm/PA1QijwAdBk8BwjtTAWwfuwIu69sBeeIrAubzowFguicBCVfHAipLvwJOjzcCgvfPA4ncAwVca48Aka5TAnUHnwF46bMCMigTB8nTswGbBCsFJya7ARhyuwH2r8MB/TPDAP60bQQe90MBZj5TA5viPwKjs6MAVYCNBsk3pwN6OIkHiCOfAAnjtwEq77cDmgovAAibawF5g8cBGFoTAzPnwwKFIz8D6raXAdtdzwHvr7sBmY+DAsJ3wwN0818DIT4LAU12TwJwI68Di/X3A98nCwLRw+8CdLATBwmQLwRhz6sCi9gbBAIW1wCtMjcBKR3nApI3qwKT4oMADOMLA1VEAwY3j0MDBosnAxjOBwBPYpMBwDbjAYnuLwPYL+cCu+//A2qUNwZxvwsCWE+/ATGSgwJAKl8BPoMbACSjpwKONgMCokejA3O/dwMCtAsF6hY7A9U4EwS/RAsG0yuXA+UsCwbXaxMAxNmnAJrLkwD/XqcDJF+LAWaefwOPsA8Fk2sjArI7UwBXJ28BP2fDAyecAwRJNmsD/mOTALgCBwGIylcCe/MbANdmswPZj3MCw1pvAQcHXwHJJu8BYkg3BEgr/wMg06sD/EuDAyG/QwFj658CGytrA5ox5wG/m5MCNQtLAdc3YwHvX9cA/DrjA2WfqwL9z88D9hujAH92BwPUMf8DYygvBOY/jwCvnrMCF2w7BibviwFhf4sDAjwHBc8DiwJS7ysC0FqbAvp3DwHAMgMD2EKjAiIn1wKYXrcD7xLTAhw+twEypm8A3+w3BDH6awK5CAMFt6KTA9OWwwFHeocB23ZHABK+HwHQ9rsD2MpXALCzJwCXdncB48Y3A5fC3wIVTvMBIuJnA9ey9wH5b8cBxpo3AT+zgwGFFusBPrMjA7lqewHin/8BFW43AXnmfwMLImcCnyKbAACOiwC3va8A5YZfAOmSUwLR/r8A+jqDANEuOwL82j8CiOo/A3L2MwLYVm8DRvI7AEZKrwN0uj8Cjo53AFG/iwHBW0MAOV4PAmEOPwOZeoMAmWZ/AWN6UwOBsysDJeAvBmM4FwW8T8cDJQojA682wwGUmCsG5BL/AaTfzwEsmxMBUCWjAkjvOwLNNnMAawM3Asf6wwCg2ncD2doXAse63wAd9e8AfygPB9FV9wNqSA8HCRpHALQi0wBa55cAVT3XAKP+kwNfErcCbB8DAW3jswEsx8sAzHJ/AeDabwPjNk8DlqpDAhHDEwBa+ucAAZ9LAod6iwD3prsCLw5/Ao46fwDoEjsANssPAB8jiwItykMBOlpDAMnqDwGTLvcDtQ47Auuu5wMYwzsCFBpHA0Du9wKDng8DU37DAXtifwMHijsBqdr3ADM/8wE4C2cBbnX3AMjCpwKaBfsDqU5fAzYGtwPrXjcDWh6TAiTjGwEX/hcDY/s7ASFGiwHrrqsCASbTAXUjDwOVyeMA3YcLAV/rTwGyZn8DLDILASpwDwY4cicCr68vAusX9wDFUr8DPtL/Az/G6wDxIrcAOSKDAMyP7wGmeh8CgDJXAJHDuwGd9rMBSStrA57TEwOEppcCv12jATAvMwESvxMAKa9PARbipwMLu7MCmt93Ayk+owGCn08BorAjBlKAPwQ1h3MCCZ7nACFDdwIbi5cC7X9TAbADFwOYM6MDmLd/AcxOCwLecycDIuNnArKj7wDEvqMCWMuHAK+mewMXQv8CRf93AQSWUwC6IhMDh1dzALqngwCSRzsAKxdTAZX+jwP1jj8Dq+9vAUHrUwLW+zMCGEQrB+3blwLBB8MCgu9rAYJfXwN/T0cB9LYbAsQGBwD727sAKZCRBhznbwMq/28CnJZ/ANrsDwcgr3sCJ2Q7BWQPNwAlfycCsQZjA5X8Owcm77cAT3onA9w2SwAICDMEVgrDAYNDowK81tcAJ7ujAFBSgwMeH18C2NgzBUaKCwGfclMCN+QrB2QZ3wIP8AsFZUt3ADNCwwJ21d8Cjt+vA6dp8wJC788CD8YbAGoWQwFGaD8Hvi5nA9PT/wCiCo8B4RgjBG1qUwDQIAsEFKA3B/wt+wERdnMAc2ZrAnbYEwXz+Z8CBzA7BNMDfwLLnmsC0iQzBYI8Cwfxqk8AphJPAyEEBwWAvkcCGp7vArvOqwK62rMCXaNzAsOcBwSac+MAcSMXAzEGiwJlPAMEhb5bAP0e8wHVDyMDFkIzATmeNwN6k8MBUo43AG1mrwGzlk8CyR5zA5TGnwKue9sB1+8TAy22TwPftv8DNv5bA/uakwEEHBsHWXLjAGzvwwDqdi8BjPY3APu9owBHgwMAVyu3AZWfTwI5n7MAdy5bAEYXtwB8LzcAcOZ3ASf66wMgK+cC3p7fArb2nwMGzl8Cn4LjANSbnwIRBlsAQWMLADPbAwHuf/cBluM7AITHvwHSv/sBjfOnAQebCwNeVxMC2lPfAvs65wPWcBMEM2OTA08GawJ+p/cARz+TA5o/7wFILvsCkfbvAQKjlwCDXscBnjADBmH/IwBlU9sDGviRBSJkkQUQIwsCIiAvBTzbtwNrC0MDu7wrBFaMkQT4/CMHvFu3AXX0gQe+o98C8X9/AFKQEwRnVJEGPBLHAjWKuwLP+CsGORvHAmf4BwQii3sC7gbHA3AfIwLu878BLHfnA22EMwUfyG0FHO+LA3wUIwb2gA8FkJ+LA7FK9wGaqyMD9rO/AVbULwZ2lDMHaZ/vAukgGwSHy3cBhBvvAyj/2wOvU3cBS8QrBmvDYwLZ/DMGEY+TAi+0Kwbs1/sBQ59bA/aITwVFwBMGrMp3An1sKwVtr3sDfnM7Ar5ogQavTDMHoTYDA6dviwLu+nMDFoLzALGgTwb1b9cCSzh9BGp8GwQux6sAWbgPBZPbywBV33MAgkBPBRKgbQS2gE8EnSQPBZjHEwMbmCsFn3lrAH5XPwA2BrMBf3QTBa+gJweY3CMEfWLPAnqQAwePkD8F86AvB+H0MwQyKBsFjIAjBXhSfwGZHCcHAIgnByOf1wP/N8MAr4+fAgR6/wIgZCcFoXuDA4l4Bwb74A8EwEAbBJEQLwT6oCsEnFPfAmM7vwEI19sC9XPPAmn8IwXQ6/MB5iwvBcsXgwByCyMBszabAllYFwf55CMFilO7AoHW+wNzWAsFITg3B+MoKwVYldsCAvAPBhVYIwYZRDMGoaAbBqNrGwFRGCMFpuI/Ai7vTwAxv28AejKfAsUzywIdGjsDFO5rANdvEwCGH3cAz9ebAxKapwDnExMDcyJPAwIAKweQvj8AIJILASkffwONTtMAQaMHAl7LnwAD24cC/yNjAkjm3wPyF5MCUS8PA3YQCwUmy9MBrPNPAFKwBwXqyqcBeqwDBfcLUwH+UusCEKe7AbSPTwIqSBsFsCenA2pvewLBU/8Cmx8/Ay0PCwIcbnsAnK8nAwN7MwJk/1cDnWePA0EEFwatf4MA++brAW2QDwTGEzcCfMejAGdoCwWG98cCoPtrAzi78wHleE8H4AO3AFInMwHESwcCcTw7BF/+twGoSAMHqAbfAxH0MwZwBp8Ce//vAzkvrwIVqC8G+q/nA/D0GwQVz8cBDbwLBrsoAwe8R+cBWm+/AXgLlwJzw2MDvYNTAxrwCwXZRqcC2EO/AWL/VwKOIB8EgsQTBWBTjwGOPBMFLT/TA2soOwT2MAsF32c7A98oAwRlp6cBe4QbBUr/vwHBt6cA/4QHBCIqzwJ6Z2MDkKQnBmHqqwB2T2sDHcw/BFBfrwNOqvMAlpQ/Be6HpwJ0y/MCbUffAuz3+wH5I9cAC+vfAuj/OwIakB8HHnPvA7+DZwBj45cC25/3AvTsBwZ5tBMFsBrTAnGwSwb5m0cB01dbAPbrCwLxA0cCCu8vAKZ/+wC4hEMHptu/AjLbxwJYV5cAQZAbBR6PrwD5sw8BYvLDAhc3/wIwQ98CkzuDAVPgHwWoc3MB+M/zAz1UGwTEHBME3GwXB0zvBwLRWDMEz8QnBRroGwbXPBsGCXcrAlEALwbNdvsDOU8nAc+WcwJQ4AcEJhPXAwS8PwbTKh8B1nwXBJ5D2wEOIc8BTfJbAIE7OwCIY08C3JdrAF/aVwPhUk8AQH5rAhqmSwDH+g8CLff7ARdGpwJ9wrcDAKdLAgxGGwAA3sMDiLZjA1AzlwNi9y8Affw7B1au6wATfocC5kYDA2KkOwS93D8HpxffAljGEwDPr28BwFhDB5DCawPCr7MDqJRHB0RHtwF8c3sCY/YvAtn3UwJJC4cBhrtjAHYMLwbOlwsCfGf7AgqncwNplBcH6Aq7AC24GwRJMqsAOdQjBA/wKwWWDm8COVPvAw3gEwUzJzsDTQQHB4Jr7wMBCBMGvQgXBzQmWwLx6r8As9OPAAXKWwF47EsEuTL/A0sXuwMgexsC9srTAtR8BwVcC9sCQ3ATBrawNwZBx+8D47o3A9YYAwR8+ycD5pvXAdpoCwdyu/MBowP/A08+bwIxHxMCvTQHBlbnGwFZwysBQLenApELkwGEOCsEH4L3Ae2riwK6FDcGNfwzBBNmbwCyB6MBLgqvAubXowKfB/MB1NJTA5ywDwW1UA8Gra8jA8+PwwHCYwcDMsQPBQaXDwCwkk8Ad+N/A3voEwZORjMCKIIfAVtLJwJaHAMFJtvvAmVEHwbhqB8HqmQXBKf3ZwBSTncBZO5jATEWPwJuPAsELOPjA/iDRwDYWp8DZzb7AeTjpwIR73sBB8efA6KoIwcSRjcBC9o3ALvjpwM8MBsHT62/AsRD1wOYzw8C2vrXAEscAwdcX4cCA9PPAlTvXwFzj5MASiMvAjoYQwc+f9sDKWvjAt1XjwHuAvMCvTq/A5hvawJ5kEcGRGNnA23n5wH/o98CSOdnA+fzjwG8G2cCMDRHBXDYTwWbu28CbnO7AZ8ETwfNKAMENMu3Ak1gNwb9/2cCAkrHA3Ni5wLtBEcED8QPBruHdwLjF2sC2vdTA/3D5wOUM8MCPTgfB8iQCwTcp28DYIqHA4sEIwa/S1cA+wATB7VbywPOZ1MDDbtLAEuzfwDHUEMHNHPPAvC7uwHPrvsDJT+jAZxP1wLt94MCxEvXADePDwH3t+cBKcwHBYW3ywEEg88DZGALBRbsGwWvbAsFPQ+DAcOwAwflDBMG3VAfB150DwRijBMEI+/3AXVsDwQnzA8HKoNzALRX5wAPD8cBe4wHBDe4PwZ0QBMHEGAHBJeHXwKvExsCPOdLAyE8EwczjBcFzrAbBHOQAwX4ZwcADowXBhr/8wDnpAsEIKvjAPXkIwa0ECMGNwPjAL8fpwNVM4sByjwTBJh8KwQj1AcGAiwPBAW0AwQxptcALk/zAj+QDwf0OzMAx4+XARN7EwMq9nsD1nMvA8qEJwQHQ48Ae2tDAdzXbwFsv1cAAsZnA+9GywJ3xAMEEUATBPVEKwZnM7MAUI7bAHLoBwU0VmsC7MarAKF3QwOPbAMH8GQbBE+DlwPE7rsAuvanA1GkCwWlI6cCOrvzAq4/GwL0X58BaKpjA+BadwNl0+8DrxwXBkMvEwHD26cBdsa/A/Rj5wIi16MAY7u3AP8ebwEIQCsFWaPnASZnswLyJCsEVeuTAFMrXwCd94sCXY8vAun65wCftzsDZA7vAq2bIwEp8vsCbzuHARO2GwIbr+8AjGM3Agah5wFF1lsCcDvfAmabIwJw0/sCsc6LAzrzEwEiOtMDrK8HAOXW/wGq+8sBRWcfAj6q5wMpp78ADrbrAENzFwIzn38B81bXA3Ku7wNtvxMA0hH3ANWWgwD5+osAUpsXA0xu+wHMTccBa3b7AuPO1wB7b/cAtnaTAHGWTwN9Z6sCtg9PAFkTrwIv9AcEKoNzA2ibUwJwX9sBkBsHAfnACwToFnMBtNY7AnS8SwQEN6sBP7QjBf/HAwA71kcBeTszAa/6swCrvjsAGNeXAFh0AwTX4h8AuBQfBL1jIwECXnMAiNK7Atim+wPTJtsBiosLACrbvwBNfmcBKmdHAhwOzwOX93MDs9pzAdyKqwD5KAsHkOu/ArOGNwNIZ8sB5DwzBzAgNwTu8l8AHO7DAWKvwwNY2uMBTZsTADhqrwPS3uMB4UpnAcs/twLzaD8Elo93A2nDjwMdV5sD5G+bAUJrSwMf1icDPsOXAFXaxwDMTx8AMoq/AhdizwHaSq8AP0QzBIzmhwE+3lsBmFILAM8GKwCacC8HfWY/A/uKpwCywmMChzbDAI2aMwOd7q8AcsfTA0sTDwEv/DsFPHoLAjW70wJTg1MCJNZ7ATce+wKWBn8AEH5/AvAm6wCTBpcBrMvLAoZYMwXchBsFio+vAzS6CwLBIhcCvs6zA7e7kwKv6x8CEyYbAa67owNQi48DNRa7ANRXawIFfncBWE5vAdbsJwdY3lcD6y63ATneLwCLjmcB/tNfAnZAGwYi4osBXcJTArHmvwO0hiMAJLsDApVzwwOd3wsCBN63AAC2uwPkrn8CQgNvA/WC7wHDSwsB1gevAPFHJwJeLvMDkpNjA71nMwF8/y8CnHs3AsJXNwBfolsDH6sbAn72uwL34zcDhqg7BRITkwPKUvsCoEAPBYeqLwBysksAZZqbA43fQwPkT+cAAv77AoUUJwTKxnMD948bAgJuiwK+/ysDbOMfApBjawHnY/8BCDdnAjCfdwOo+zcBS4dPA99TVwOLrccBlf7fAnLzgwC0XtcDfDr7Ao46RwFIix8AY1NLAZvT6wFs7psDd5QfBBimGwLDY4MDWGxLBQFAHwQDXBMGhQYfA3G8HwRwg5cCVXPLAnuXLwG+ivMCiJb/Amw6dwGjmksCsFeLABe6uwKQtycCxO4LA1s7TwIUkBcENmMLAodSzwMYb4cCi7AzBj8HPwKsJDMH7vMfAaMLSwN2G7MB7UJDAeRvDwJeqtMAOy9HAx+nzwKV/EcFpfe3AoxAPwdrP48DGvanA2N6rwC+668CzAAXBwCDrwEjYlsARRALB16P9wMR25cCm8dzAMjL8wCmQB8Eibv7ASvP1wHcxBcHl+wPB8NLxwA9IAcGQXdrABOT+wHlwjsDwpwHBui+rwDqXAcFGiYfA0AfkwNtDDsHWquTAuZ8AwRGW/MCZnfHAqBTDwOiG6MDYFYTAXlHhwO7a+8CQh3vAIfkKwT4llsDGP/HAGDIFweInA8H/OQLBwWuOwASt4sDn5NjAUnQZwdnfA8EOZ8HAvt/ZwJK0AcFkOgLBa11+wIey08D3wvrA+1f2wAhV18AblgzBI/2fwDk+6MCkGtLAJqMQwUQmCcFomRHBkPuhwDtPAcH00uvA+IQOwaqgy8BnYerAu6bkwKbo7MDzKwHBIFvIwF1WAcFtafHA7irNwPtC58CMN63AQ/AKwW2/8cDYmbjA4kcNwRG5EcEKJvvA3JjwwFbqscB4fMrAN/fTwFZ0DsHUPM/Ad13cwNGJ9MCCygfBtYf1wDKP7MCx9unAuPMNwbIWDME3vOnAmUjqwHip68B8/b3AGmCmwECUCcGRyKPAOiS4wAxllsD3yujAwZezwCGl1MAgQO3AmfbuwEzgAMGLWPrA/BzFwA4Jr8A44t3AHJbtwGI6XMAzbt3AvvcAwYhG9MAaqMzArCXywNdsxMD2+P/Awem0wOn5tMBqdQHBCC3/wE3kzMBrhJHAVHOrwMu1psAEHwPB7+mCwDCJxsDdLgLBgojqwMc09cBAGAbBIOO7wOKawcANrqzAV1mZwDigxsCPU//A+hy0wCJWuMAcp/jAaRDVwO4hAsFhfazAXJTTwOxbosA14KXAh8jEwI2lr8Co46LAwqfYwPFG6sChhcXANjLqwFOJBcFALKDAz0nzwKchkcDfevDAl0+ewOmu8cAnyqrAVQaowIWJt8APL5nAF3WuwD+QzcBa2JrAbH+wwDWAtsCGm6bA7tuwwB4Xu8Cx+QbBGUDhwITrqsDUR9TAwTiVwFbNA8GmB+3AEx+1wKj22sA6Aq/AWl4CwYxUksCW5aHACaflwKtZscAo9LPAQbfzwA9HrMByeN7AljaJwD0CCMEndfPAEIEGwazKyMBcj6XA6VidwHFA6sDi8fTATwzIwPIK2MCT1MHAL631wDAP8MC89PbAIf31wOG9BsGrGabABU+fwCpl88AhdejA6kzIwJmm4cAJEvbAQQ3zwMhk78AWRqbA2IfkwD2+2cBCiATBN9z1wDwQ2sCkwcXAPyb7wINkr8AMx9TA3EHewP3P5MAjx/bAfIbXwKLH1MCJtLvAIZLdwAKU/sC16d7ANL7CwCsvCsEDUOXAeq2OwDyQzcCpwonAIYwMwVBW8sCf3/HADiwOwZNOCMGuHpPAaEqXwEB6k8B2XfzAqSXuwPvRrcDYoo7And0CwYMXpMDR0gHBsCEQwUIm9MAG/BHBKMaFwOA4+sDEbwHBjmSVwJLGCcHTm9/AnuAQwZdL+sBXEQDBLDT7wILJucC7tAbBd0ELwRXU6MAMCAfBh4PywNx5u8DkUgLBK3SIwOqFCMF4defA+V6awMnqr8BJ/JTABQSBwJ44rcAsgYvAtbaTwPeJlMBv0YzAUI/bwPwqnMD9hd/ACQHQwGS2AcHNONzA6aCHwAs1x8CejInA/ECUwJzgfsCZ+nfAoFOYwJXSosDiDf/ADRTOwOwCEsG5k7DAmbWIwMEfp8CXlvfAx3y6wD2Ji8Ch14/ARDGNwMRV8sBbVYzAE1mywI3z+cAJXbjARn6ZwOwyjsA6vYvAJKWiwCTVgMBfPonA3BbiwM1tl8A1Z6nAvk2cwCNlBsFQmNvAoqzLwBbstcABVGzA8YiywLhMAcEGtXDA/xqGwKeh9sDajs3A",
          "dtype": "f4"
         },
         "xaxis": "x",
         "y": {
          "bdata": "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",
          "dtype": "f4"
         },
         "yaxis": "y"
        },
        {
         "hovertemplate": "Metadata_seeding_density=8000<br>umap0=%{x}<br>umap1=%{y}<extra></extra>",
         "legendgroup": "8000",
         "marker": {
          "color": "#2ca25f",
          "symbol": "circle"
         },
         "mode": "markers",
         "name": "8000",
         "showlegend": true,
         "type": "scattergl",
         "x": {
          "bdata": "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",
          "dtype": "f4"
         },
         "xaxis": "x",
         "y": {
          "bdata": "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",
          "dtype": "f4"
         },
         "yaxis": "y"
        },
        {
         "hovertemplate": "Metadata_seeding_density=12000<br>umap0=%{x}<br>umap1=%{y}<extra></extra>",
         "legendgroup": "12000",
         "marker": {
          "color": "#006d2c",
          "symbol": "circle"
         },
         "mode": "markers",
         "name": "12000",
         "showlegend": true,
         "type": "scattergl",
         "x": {
          "bdata": "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",
          "dtype": "f4"
         },
         "xaxis": "x",
         "y": {
          "bdata": "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",
          "dtype": "f4"
         },
         "yaxis": "y"
        }
       ],
       "layout": {
        "legend": {
         "title": {
          "text": "Metadata_seeding_density"
         },
         "tracegroupgap": 0
        },
        "template": {
         "data": {
          "bar": [
           {
            "error_x": {
             "color": "#2a3f5f"
            },
            "error_y": {
             "color": "#2a3f5f"
            },
            "marker": {
             "line": {
              "color": "#E5ECF6",
              "width": 0.5
             },
             "pattern": {
              "fillmode": "overlay",
              "size": 10,
              "solidity": 0.2
             }
            },
            "type": "bar"
           }
          ],
          "barpolar": [
           {
            "marker": {
             "line": {
              "color": "#E5ECF6",
              "width": 0.5
             },
             "pattern": {
              "fillmode": "overlay",
              "size": 10,
              "solidity": 0.2
             }
            },
            "type": "barpolar"
           }
          ],
          "carpet": [
           {
            "aaxis": {
             "endlinecolor": "#2a3f5f",
             "gridcolor": "white",
             "linecolor": "white",
             "minorgridcolor": "white",
             "startlinecolor": "#2a3f5f"
            },
            "baxis": {
             "endlinecolor": "#2a3f5f",
             "gridcolor": "white",
             "linecolor": "white",
             "minorgridcolor": "white",
             "startlinecolor": "#2a3f5f"
            },
            "type": "carpet"
           }
          ],
          "choropleth": [
           {
            "colorbar": {
             "outlinewidth": 0,
             "ticks": ""
            },
            "type": "choropleth"
           }
          ],
          "contour": [
           {
            "colorbar": {
             "outlinewidth": 0,
             "ticks": ""
            },
            "colorscale": [
             [
              0.0,
              "#0d0887"
             ],
             [
              0.1111111111111111,
              "#46039f"
             ],
             [
              0.2222222222222222,
              "#7201a8"
             ],
             [
              0.3333333333333333,
              "#9c179e"
             ],
             [
              0.4444444444444444,
              "#bd3786"
             ],
             [
              0.5555555555555556,
              "#d8576b"
             ],
             [
              0.6666666666666666,
              "#ed7953"
             ],
             [
              0.7777777777777778,
              "#fb9f3a"
             ],
             [
              0.8888888888888888,
              "#fdca26"
             ],
             [
              1.0,
              "#f0f921"
             ]
            ],
            "type": "contour"
           }
          ],
          "contourcarpet": [
           {
            "colorbar": {
             "outlinewidth": 0,
             "ticks": ""
            },
            "type": "contourcarpet"
           }
          ],
          "heatmap": [
           {
            "colorbar": {
             "outlinewidth": 0,
             "ticks": ""
            },
            "colorscale": [
             [
              0.0,
              "#0d0887"
             ],
             [
              0.1111111111111111,
              "#46039f"
             ],
             [
              0.2222222222222222,
              "#7201a8"
             ],
             [
              0.3333333333333333,
              "#9c179e"
             ],
             [
              0.4444444444444444,
              "#bd3786"
             ],
             [
              0.5555555555555556,
              "#d8576b"
             ],
             [
              0.6666666666666666,
              "#ed7953"
             ],
             [
              0.7777777777777778,
              "#fb9f3a"
             ],
             [
              0.8888888888888888,
              "#fdca26"
             ],
             [
              1.0,
              "#f0f921"
             ]
            ],
            "type": "heatmap"
           }
          ],
          "histogram": [
           {
            "marker": {
             "pattern": {
              "fillmode": "overlay",
              "size": 10,
              "solidity": 0.2
             }
            },
            "type": "histogram"
           }
          ],
          "histogram2d": [
           {
            "colorbar": {
             "outlinewidth": 0,
             "ticks": ""
            },
            "colorscale": [
             [
              0.0,
              "#0d0887"
             ],
             [
              0.1111111111111111,
              "#46039f"
             ],
             [
              0.2222222222222222,
              "#7201a8"
             ],
             [
              0.3333333333333333,
              "#9c179e"
             ],
             [
              0.4444444444444444,
              "#bd3786"
             ],
             [
              0.5555555555555556,
              "#d8576b"
             ],
             [
              0.6666666666666666,
              "#ed7953"
             ],
             [
              0.7777777777777778,
              "#fb9f3a"
             ],
             [
              0.8888888888888888,
              "#fdca26"
             ],
             [
              1.0,
              "#f0f921"
             ]
            ],
            "type": "histogram2d"
           }
          ],
          "histogram2dcontour": [
           {
            "colorbar": {
             "outlinewidth": 0,
             "ticks": ""
            },
            "colorscale": [
             [
              0.0,
              "#0d0887"
             ],
             [
              0.1111111111111111,
              "#46039f"
             ],
             [
              0.2222222222222222,
              "#7201a8"
             ],
             [
              0.3333333333333333,
              "#9c179e"
             ],
             [
              0.4444444444444444,
              "#bd3786"
             ],
             [
              0.5555555555555556,
              "#d8576b"
             ],
             [
              0.6666666666666666,
              "#ed7953"
             ],
             [
              0.7777777777777778,
              "#fb9f3a"
             ],
             [
              0.8888888888888888,
              "#fdca26"
             ],
             [
              1.0,
              "#f0f921"
             ]
            ],
            "type": "histogram2dcontour"
           }
          ],
          "mesh3d": [
           {
            "colorbar": {
             "outlinewidth": 0,
             "ticks": ""
            },
            "type": "mesh3d"
           }
          ],
          "parcoords": [
           {
            "line": {
             "colorbar": {
              "outlinewidth": 0,
              "ticks": ""
             }
            },
            "type": "parcoords"
           }
          ],
          "pie": [
           {
            "automargin": true,
            "type": "pie"
           }
          ],
          "scatter": [
           {
            "fillpattern": {
             "fillmode": "overlay",
             "size": 10,
             "solidity": 0.2
            },
            "type": "scatter"
           }
          ],
          "scatter3d": [
           {
            "line": {
             "colorbar": {
              "outlinewidth": 0,
              "ticks": ""
             }
            },
            "marker": {
             "colorbar": {
              "outlinewidth": 0,
              "ticks": ""
             }
            },
            "type": "scatter3d"
           }
          ],
          "scattercarpet": [
           {
            "marker": {
             "colorbar": {
              "outlinewidth": 0,
              "ticks": ""
             }
            },
            "type": "scattercarpet"
           }
          ],
          "scattergeo": [
           {
            "marker": {
             "colorbar": {
              "outlinewidth": 0,
              "ticks": ""
             }
            },
            "type": "scattergeo"
           }
          ],
          "scattergl": [
           {
            "marker": {
             "colorbar": {
              "outlinewidth": 0,
              "ticks": ""
             }
            },
            "type": "scattergl"
           }
          ],
          "scattermap": [
           {
            "marker": {
             "colorbar": {
              "outlinewidth": 0,
              "ticks": ""
             }
            },
            "type": "scattermap"
           }
          ],
          "scattermapbox": [
           {
            "marker": {
             "colorbar": {
              "outlinewidth": 0,
              "ticks": ""
             }
            },
            "type": "scattermapbox"
           }
          ],
          "scatterpolar": [
           {
            "marker": {
             "colorbar": {
              "outlinewidth": 0,
              "ticks": ""
             }
            },
            "type": "scatterpolar"
           }
          ],
          "scatterpolargl": [
           {
            "marker": {
             "colorbar": {
              "outlinewidth": 0,
              "ticks": ""
             }
            },
            "type": "scatterpolargl"
           }
          ],
          "scatterternary": [
           {
            "marker": {
             "colorbar": {
              "outlinewidth": 0,
              "ticks": ""
             }
            },
            "type": "scatterternary"
           }
          ],
          "surface": [
           {
            "colorbar": {
             "outlinewidth": 0,
             "ticks": ""
            },
            "colorscale": [
             [
              0.0,
              "#0d0887"
             ],
             [
              0.1111111111111111,
              "#46039f"
             ],
             [
              0.2222222222222222,
              "#7201a8"
             ],
             [
              0.3333333333333333,
              "#9c179e"
             ],
             [
              0.4444444444444444,
              "#bd3786"
             ],
             [
              0.5555555555555556,
              "#d8576b"
             ],
             [
              0.6666666666666666,
              "#ed7953"
             ],
             [
              0.7777777777777778,
              "#fb9f3a"
             ],
             [
              0.8888888888888888,
              "#fdca26"
             ],
             [
              1.0,
              "#f0f921"
             ]
            ],
            "type": "surface"
           }
          ],
          "table": [
           {
            "cells": {
             "fill": {
              "color": "#EBF0F8"
             },
             "line": {
              "color": "white"
             }
            },
            "header": {
             "fill": {
              "color": "#C8D4E3"
             },
             "line": {
              "color": "white"
             }
            },
            "type": "table"
           }
          ]
         },
         "layout": {
          "annotationdefaults": {
           "arrowcolor": "#2a3f5f",
           "arrowhead": 0,
           "arrowwidth": 1
          },
          "autotypenumbers": "strict",
          "coloraxis": {
           "colorbar": {
            "outlinewidth": 0,
            "ticks": ""
           }
          },
          "colorscale": {
           "diverging": [
            [
             0,
             "#8e0152"
            ],
            [
             0.1,
             "#c51b7d"
            ],
            [
             0.2,
             "#de77ae"
            ],
            [
             0.3,
             "#f1b6da"
            ],
            [
             0.4,
             "#fde0ef"
            ],
            [
             0.5,
             "#f7f7f7"
            ],
            [
             0.6,
             "#e6f5d0"
            ],
            [
             0.7,
             "#b8e186"
            ],
            [
             0.8,
             "#7fbc41"
            ],
            [
             0.9,
             "#4d9221"
            ],
            [
             1,
             "#276419"
            ]
           ],
           "sequential": [
            [
             0.0,
             "#0d0887"
            ],
            [
             0.1111111111111111,
             "#46039f"
            ],
            [
             0.2222222222222222,
             "#7201a8"
            ],
            [
             0.3333333333333333,
             "#9c179e"
            ],
            [
             0.4444444444444444,
             "#bd3786"
            ],
            [
             0.5555555555555556,
             "#d8576b"
            ],
            [
             0.6666666666666666,
             "#ed7953"
            ],
            [
             0.7777777777777778,
             "#fb9f3a"
            ],
            [
             0.8888888888888888,
             "#fdca26"
            ],
            [
             1.0,
             "#f0f921"
            ]
           ],
           "sequentialminus": [
            [
             0.0,
             "#0d0887"
            ],
            [
             0.1111111111111111,
             "#46039f"
            ],
            [
             0.2222222222222222,
             "#7201a8"
            ],
            [
             0.3333333333333333,
             "#9c179e"
            ],
            [
             0.4444444444444444,
             "#bd3786"
            ],
            [
             0.5555555555555556,
             "#d8576b"
            ],
            [
             0.6666666666666666,
             "#ed7953"
            ],
            [
             0.7777777777777778,
             "#fb9f3a"
            ],
            [
             0.8888888888888888,
             "#fdca26"
            ],
            [
             1.0,
             "#f0f921"
            ]
           ]
          },
          "colorway": [
           "#636efa",
           "#EF553B",
           "#00cc96",
           "#ab63fa",
           "#FFA15A",
           "#19d3f3",
           "#FF6692",
           "#B6E880",
           "#FF97FF",
           "#FECB52"
          ],
          "font": {
           "color": "#2a3f5f"
          },
          "geo": {
           "bgcolor": "white",
           "lakecolor": "white",
           "landcolor": "#E5ECF6",
           "showlakes": true,
           "showland": true,
           "subunitcolor": "white"
          },
          "hoverlabel": {
           "align": "left"
          },
          "hovermode": "closest",
          "mapbox": {
           "style": "light"
          },
          "paper_bgcolor": "white",
          "plot_bgcolor": "#E5ECF6",
          "polar": {
           "angularaxis": {
            "gridcolor": "white",
            "linecolor": "white",
            "ticks": ""
           },
           "bgcolor": "#E5ECF6",
           "radialaxis": {
            "gridcolor": "white",
            "linecolor": "white",
            "ticks": ""
           }
          },
          "scene": {
           "xaxis": {
            "backgroundcolor": "#E5ECF6",
            "gridcolor": "white",
            "gridwidth": 2,
            "linecolor": "white",
            "showbackground": true,
            "ticks": "",
            "zerolinecolor": "white"
           },
           "yaxis": {
            "backgroundcolor": "#E5ECF6",
            "gridcolor": "white",
            "gridwidth": 2,
            "linecolor": "white",
            "showbackground": true,
            "ticks": "",
            "zerolinecolor": "white"
           },
           "zaxis": {
            "backgroundcolor": "#E5ECF6",
            "gridcolor": "white",
            "gridwidth": 2,
            "linecolor": "white",
            "showbackground": true,
            "ticks": "",
            "zerolinecolor": "white"
           }
          },
          "shapedefaults": {
           "line": {
            "color": "#2a3f5f"
           }
          },
          "ternary": {
           "aaxis": {
            "gridcolor": "white",
            "linecolor": "white",
            "ticks": ""
           },
           "baxis": {
            "gridcolor": "white",
            "linecolor": "white",
            "ticks": ""
           },
           "bgcolor": "#E5ECF6",
           "caxis": {
            "gridcolor": "white",
            "linecolor": "white",
            "ticks": ""
           }
          },
          "title": {
           "x": 0.05
          },
          "xaxis": {
           "automargin": true,
           "gridcolor": "white",
           "linecolor": "white",
           "ticks": "",
           "title": {
            "standoff": 15
           },
           "zerolinecolor": "white",
           "zerolinewidth": 2
          },
          "yaxis": {
           "automargin": true,
           "gridcolor": "white",
           "linecolor": "white",
           "ticks": "",
           "title": {
            "standoff": 15
           },
           "zerolinecolor": "white",
           "zerolinewidth": 2
          }
         }
        },
        "title": {
         "text": "UMAP by Seeding Density"
        },
        "xaxis": {
         "anchor": "y",
         "domain": [
          0.0,
          1.0
         ],
         "title": {
          "text": "umap0"
         }
        },
        "yaxis": {
         "anchor": "x",
         "domain": [
          0.0,
          1.0
         ],
         "title": {
          "text": "umap1"
         }
        }
       }
      }
     },
     "metadata": {},
     "output_type": "display_data"
    }
   ],
   "source": [
    "blue_green_colors = [\"#edf8fb\", \"#b2e2e2\", \"#66c2a4\", \"#2ca25f\", \"#006d2c\"]\n",
    "\n",
    "fig = px.scatter(\n",
    "    umapdf,\n",
    "    x=\"umap0\",\n",
    "    y=\"umap1\",\n",
    "    color=\"Metadata_seeding_density\",\n",
    "    title=\"UMAP by Seeding Density\",\n",
    "    color_discrete_sequence=blue_green_colors,\n",
    ")\n",
    "\n",
    "fig.show()\n",
    "fig.write_image(\n",
    "    static_figure_path / \"round1_seeding_density_umap.png\", width=2000, height=1200\n",
    ")\n",
    "fig.write_html(\n",
    "    int_figure_path / \"round1_seeding_density_umap.html\",\n",
    "    full_html=True,\n",
    "    include_plotlyjs=\"embed\",\n",
    ")"
   ]
  },
  {
   "cell_type": "code",
   "execution_count": 19,
   "metadata": {
    "execution": {
     "iopub.execute_input": "2025-07-03T22:09:58.862762Z",
     "iopub.status.busy": "2025-07-03T22:09:58.862659Z",
     "iopub.status.idle": "2025-07-03T22:10:01.460791Z",
     "shell.execute_reply": "2025-07-03T22:10:01.460428Z"
    },
    "jukit_cell_id": "xfvHhoGCg7"
   },
   "outputs": [
    {
     "data": {
      "application/vnd.plotly.v1+json": {
       "config": {
        "plotlyServerURL": "https://plot.ly"
       },
       "data": [
        {
         "hovertemplate": "Metadata_time_point=24<br>umap0=%{x}<br>umap1=%{y}<extra></extra>",
         "legendgroup": "24",
         "marker": {
          "color": "#edf8fb",
          "symbol": "circle"
         },
         "mode": "markers",
         "name": "24",
         "showlegend": true,
         "type": "scattergl",
         "x": {
          "bdata": "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",
          "dtype": "f4"
         },
         "xaxis": "x",
         "y": {
          "bdata": "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",
          "dtype": "f4"
         },
         "yaxis": "y"
        },
        {
         "hovertemplate": "Metadata_time_point=48<br>umap0=%{x}<br>umap1=%{y}<extra></extra>",
         "legendgroup": "48",
         "marker": {
          "color": "#99d8c9",
          "symbol": "circle"
         },
         "mode": "markers",
         "name": "48",
         "showlegend": true,
         "type": "scattergl",
         "x": {
          "bdata": "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",
          "dtype": "f4"
         },
         "xaxis": "x",
         "y": {
          "bdata": "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",
          "dtype": "f4"
         },
         "yaxis": "y"
        },
        {
         "hovertemplate": "Metadata_time_point=72<br>umap0=%{x}<br>umap1=%{y}<extra></extra>",
         "legendgroup": "72",
         "marker": {
          "color": "#2ca25f",
          "symbol": "circle"
         },
         "mode": "markers",
         "name": "72",
         "showlegend": true,
         "type": "scattergl",
         "x": {
          "bdata": "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",
          "dtype": "f4"
         },
         "xaxis": "x",
         "y": {
          "bdata": "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",
          "dtype": "f4"
         },
         "yaxis": "y"
        }
       ],
       "layout": {
        "legend": {
         "title": {
          "text": "Metadata_time_point"
         },
         "tracegroupgap": 0
        },
        "template": {
         "data": {
          "bar": [
           {
            "error_x": {
             "color": "#2a3f5f"
            },
            "error_y": {
             "color": "#2a3f5f"
            },
            "marker": {
             "line": {
              "color": "#E5ECF6",
              "width": 0.5
             },
             "pattern": {
              "fillmode": "overlay",
              "size": 10,
              "solidity": 0.2
             }
            },
            "type": "bar"
           }
          ],
          "barpolar": [
           {
            "marker": {
             "line": {
              "color": "#E5ECF6",
              "width": 0.5
             },
             "pattern": {
              "fillmode": "overlay",
              "size": 10,
              "solidity": 0.2
             }
            },
            "type": "barpolar"
           }
          ],
          "carpet": [
           {
            "aaxis": {
             "endlinecolor": "#2a3f5f",
             "gridcolor": "white",
             "linecolor": "white",
             "minorgridcolor": "white",
             "startlinecolor": "#2a3f5f"
            },
            "baxis": {
             "endlinecolor": "#2a3f5f",
             "gridcolor": "white",
             "linecolor": "white",
             "minorgridcolor": "white",
             "startlinecolor": "#2a3f5f"
            },
            "type": "carpet"
           }
          ],
          "choropleth": [
           {
            "colorbar": {
             "outlinewidth": 0,
             "ticks": ""
            },
            "type": "choropleth"
           }
          ],
          "contour": [
           {
            "colorbar": {
             "outlinewidth": 0,
             "ticks": ""
            },
            "colorscale": [
             [
              0.0,
              "#0d0887"
             ],
             [
              0.1111111111111111,
              "#46039f"
             ],
             [
              0.2222222222222222,
              "#7201a8"
             ],
             [
              0.3333333333333333,
              "#9c179e"
             ],
             [
              0.4444444444444444,
              "#bd3786"
             ],
             [
              0.5555555555555556,
              "#d8576b"
             ],
             [
              0.6666666666666666,
              "#ed7953"
             ],
             [
              0.7777777777777778,
              "#fb9f3a"
             ],
             [
              0.8888888888888888,
              "#fdca26"
             ],
             [
              1.0,
              "#f0f921"
             ]
            ],
            "type": "contour"
           }
          ],
          "contourcarpet": [
           {
            "colorbar": {
             "outlinewidth": 0,
             "ticks": ""
            },
            "type": "contourcarpet"
           }
          ],
          "heatmap": [
           {
            "colorbar": {
             "outlinewidth": 0,
             "ticks": ""
            },
            "colorscale": [
             [
              0.0,
              "#0d0887"
             ],
             [
              0.1111111111111111,
              "#46039f"
             ],
             [
              0.2222222222222222,
              "#7201a8"
             ],
             [
              0.3333333333333333,
              "#9c179e"
             ],
             [
              0.4444444444444444,
              "#bd3786"
             ],
             [
              0.5555555555555556,
              "#d8576b"
             ],
             [
              0.6666666666666666,
              "#ed7953"
             ],
             [
              0.7777777777777778,
              "#fb9f3a"
             ],
             [
              0.8888888888888888,
              "#fdca26"
             ],
             [
              1.0,
              "#f0f921"
             ]
            ],
            "type": "heatmap"
           }
          ],
          "histogram": [
           {
            "marker": {
             "pattern": {
              "fillmode": "overlay",
              "size": 10,
              "solidity": 0.2
             }
            },
            "type": "histogram"
           }
          ],
          "histogram2d": [
           {
            "colorbar": {
             "outlinewidth": 0,
             "ticks": ""
            },
            "colorscale": [
             [
              0.0,
              "#0d0887"
             ],
             [
              0.1111111111111111,
              "#46039f"
             ],
             [
              0.2222222222222222,
              "#7201a8"
             ],
             [
              0.3333333333333333,
              "#9c179e"
             ],
             [
              0.4444444444444444,
              "#bd3786"
             ],
             [
              0.5555555555555556,
              "#d8576b"
             ],
             [
              0.6666666666666666,
              "#ed7953"
             ],
             [
              0.7777777777777778,
              "#fb9f3a"
             ],
             [
              0.8888888888888888,
              "#fdca26"
             ],
             [
              1.0,
              "#f0f921"
             ]
            ],
            "type": "histogram2d"
           }
          ],
          "histogram2dcontour": [
           {
            "colorbar": {
             "outlinewidth": 0,
             "ticks": ""
            },
            "colorscale": [
             [
              0.0,
              "#0d0887"
             ],
             [
              0.1111111111111111,
              "#46039f"
             ],
             [
              0.2222222222222222,
              "#7201a8"
             ],
             [
              0.3333333333333333,
              "#9c179e"
             ],
             [
              0.4444444444444444,
              "#bd3786"
             ],
             [
              0.5555555555555556,
              "#d8576b"
             ],
             [
              0.6666666666666666,
              "#ed7953"
             ],
             [
              0.7777777777777778,
              "#fb9f3a"
             ],
             [
              0.8888888888888888,
              "#fdca26"
             ],
             [
              1.0,
              "#f0f921"
             ]
            ],
            "type": "histogram2dcontour"
           }
          ],
          "mesh3d": [
           {
            "colorbar": {
             "outlinewidth": 0,
             "ticks": ""
            },
            "type": "mesh3d"
           }
          ],
          "parcoords": [
           {
            "line": {
             "colorbar": {
              "outlinewidth": 0,
              "ticks": ""
             }
            },
            "type": "parcoords"
           }
          ],
          "pie": [
           {
            "automargin": true,
            "type": "pie"
           }
          ],
          "scatter": [
           {
            "fillpattern": {
             "fillmode": "overlay",
             "size": 10,
             "solidity": 0.2
            },
            "type": "scatter"
           }
          ],
          "scatter3d": [
           {
            "line": {
             "colorbar": {
              "outlinewidth": 0,
              "ticks": ""
             }
            },
            "marker": {
             "colorbar": {
              "outlinewidth": 0,
              "ticks": ""
             }
            },
            "type": "scatter3d"
           }
          ],
          "scattercarpet": [
           {
            "marker": {
             "colorbar": {
              "outlinewidth": 0,
              "ticks": ""
             }
            },
            "type": "scattercarpet"
           }
          ],
          "scattergeo": [
           {
            "marker": {
             "colorbar": {
              "outlinewidth": 0,
              "ticks": ""
             }
            },
            "type": "scattergeo"
           }
          ],
          "scattergl": [
           {
            "marker": {
             "colorbar": {
              "outlinewidth": 0,
              "ticks": ""
             }
            },
            "type": "scattergl"
           }
          ],
          "scattermap": [
           {
            "marker": {
             "colorbar": {
              "outlinewidth": 0,
              "ticks": ""
             }
            },
            "type": "scattermap"
           }
          ],
          "scattermapbox": [
           {
            "marker": {
             "colorbar": {
              "outlinewidth": 0,
              "ticks": ""
             }
            },
            "type": "scattermapbox"
           }
          ],
          "scatterpolar": [
           {
            "marker": {
             "colorbar": {
              "outlinewidth": 0,
              "ticks": ""
             }
            },
            "type": "scatterpolar"
           }
          ],
          "scatterpolargl": [
           {
            "marker": {
             "colorbar": {
              "outlinewidth": 0,
              "ticks": ""
             }
            },
            "type": "scatterpolargl"
           }
          ],
          "scatterternary": [
           {
            "marker": {
             "colorbar": {
              "outlinewidth": 0,
              "ticks": ""
             }
            },
            "type": "scatterternary"
           }
          ],
          "surface": [
           {
            "colorbar": {
             "outlinewidth": 0,
             "ticks": ""
            },
            "colorscale": [
             [
              0.0,
              "#0d0887"
             ],
             [
              0.1111111111111111,
              "#46039f"
             ],
             [
              0.2222222222222222,
              "#7201a8"
             ],
             [
              0.3333333333333333,
              "#9c179e"
             ],
             [
              0.4444444444444444,
              "#bd3786"
             ],
             [
              0.5555555555555556,
              "#d8576b"
             ],
             [
              0.6666666666666666,
              "#ed7953"
             ],
             [
              0.7777777777777778,
              "#fb9f3a"
             ],
             [
              0.8888888888888888,
              "#fdca26"
             ],
             [
              1.0,
              "#f0f921"
             ]
            ],
            "type": "surface"
           }
          ],
          "table": [
           {
            "cells": {
             "fill": {
              "color": "#EBF0F8"
             },
             "line": {
              "color": "white"
             }
            },
            "header": {
             "fill": {
              "color": "#C8D4E3"
             },
             "line": {
              "color": "white"
             }
            },
            "type": "table"
           }
          ]
         },
         "layout": {
          "annotationdefaults": {
           "arrowcolor": "#2a3f5f",
           "arrowhead": 0,
           "arrowwidth": 1
          },
          "autotypenumbers": "strict",
          "coloraxis": {
           "colorbar": {
            "outlinewidth": 0,
            "ticks": ""
           }
          },
          "colorscale": {
           "diverging": [
            [
             0,
             "#8e0152"
            ],
            [
             0.1,
             "#c51b7d"
            ],
            [
             0.2,
             "#de77ae"
            ],
            [
             0.3,
             "#f1b6da"
            ],
            [
             0.4,
             "#fde0ef"
            ],
            [
             0.5,
             "#f7f7f7"
            ],
            [
             0.6,
             "#e6f5d0"
            ],
            [
             0.7,
             "#b8e186"
            ],
            [
             0.8,
             "#7fbc41"
            ],
            [
             0.9,
             "#4d9221"
            ],
            [
             1,
             "#276419"
            ]
           ],
           "sequential": [
            [
             0.0,
             "#0d0887"
            ],
            [
             0.1111111111111111,
             "#46039f"
            ],
            [
             0.2222222222222222,
             "#7201a8"
            ],
            [
             0.3333333333333333,
             "#9c179e"
            ],
            [
             0.4444444444444444,
             "#bd3786"
            ],
            [
             0.5555555555555556,
             "#d8576b"
            ],
            [
             0.6666666666666666,
             "#ed7953"
            ],
            [
             0.7777777777777778,
             "#fb9f3a"
            ],
            [
             0.8888888888888888,
             "#fdca26"
            ],
            [
             1.0,
             "#f0f921"
            ]
           ],
           "sequentialminus": [
            [
             0.0,
             "#0d0887"
            ],
            [
             0.1111111111111111,
             "#46039f"
            ],
            [
             0.2222222222222222,
             "#7201a8"
            ],
            [
             0.3333333333333333,
             "#9c179e"
            ],
            [
             0.4444444444444444,
             "#bd3786"
            ],
            [
             0.5555555555555556,
             "#d8576b"
            ],
            [
             0.6666666666666666,
             "#ed7953"
            ],
            [
             0.7777777777777778,
             "#fb9f3a"
            ],
            [
             0.8888888888888888,
             "#fdca26"
            ],
            [
             1.0,
             "#f0f921"
            ]
           ]
          },
          "colorway": [
           "#636efa",
           "#EF553B",
           "#00cc96",
           "#ab63fa",
           "#FFA15A",
           "#19d3f3",
           "#FF6692",
           "#B6E880",
           "#FF97FF",
           "#FECB52"
          ],
          "font": {
           "color": "#2a3f5f"
          },
          "geo": {
           "bgcolor": "white",
           "lakecolor": "white",
           "landcolor": "#E5ECF6",
           "showlakes": true,
           "showland": true,
           "subunitcolor": "white"
          },
          "hoverlabel": {
           "align": "left"
          },
          "hovermode": "closest",
          "mapbox": {
           "style": "light"
          },
          "paper_bgcolor": "white",
          "plot_bgcolor": "#E5ECF6",
          "polar": {
           "angularaxis": {
            "gridcolor": "white",
            "linecolor": "white",
            "ticks": ""
           },
           "bgcolor": "#E5ECF6",
           "radialaxis": {
            "gridcolor": "white",
            "linecolor": "white",
            "ticks": ""
           }
          },
          "scene": {
           "xaxis": {
            "backgroundcolor": "#E5ECF6",
            "gridcolor": "white",
            "gridwidth": 2,
            "linecolor": "white",
            "showbackground": true,
            "ticks": "",
            "zerolinecolor": "white"
           },
           "yaxis": {
            "backgroundcolor": "#E5ECF6",
            "gridcolor": "white",
            "gridwidth": 2,
            "linecolor": "white",
            "showbackground": true,
            "ticks": "",
            "zerolinecolor": "white"
           },
           "zaxis": {
            "backgroundcolor": "#E5ECF6",
            "gridcolor": "white",
            "gridwidth": 2,
            "linecolor": "white",
            "showbackground": true,
            "ticks": "",
            "zerolinecolor": "white"
           }
          },
          "shapedefaults": {
           "line": {
            "color": "#2a3f5f"
           }
          },
          "ternary": {
           "aaxis": {
            "gridcolor": "white",
            "linecolor": "white",
            "ticks": ""
           },
           "baxis": {
            "gridcolor": "white",
            "linecolor": "white",
            "ticks": ""
           },
           "bgcolor": "#E5ECF6",
           "caxis": {
            "gridcolor": "white",
            "linecolor": "white",
            "ticks": ""
           }
          },
          "title": {
           "x": 0.05
          },
          "xaxis": {
           "automargin": true,
           "gridcolor": "white",
           "linecolor": "white",
           "ticks": "",
           "title": {
            "standoff": 15
           },
           "zerolinecolor": "white",
           "zerolinewidth": 2
          },
          "yaxis": {
           "automargin": true,
           "gridcolor": "white",
           "linecolor": "white",
           "ticks": "",
           "title": {
            "standoff": 15
           },
           "zerolinecolor": "white",
           "zerolinewidth": 2
          }
         }
        },
        "title": {
         "text": "UMAP by Time Point"
        },
        "xaxis": {
         "anchor": "y",
         "domain": [
          0.0,
          1.0
         ],
         "title": {
          "text": "umap0"
         }
        },
        "yaxis": {
         "anchor": "x",
         "domain": [
          0.0,
          1.0
         ],
         "title": {
          "text": "umap1"
         }
        }
       }
      }
     },
     "metadata": {},
     "output_type": "display_data"
    }
   ],
   "source": [
    "blue_green_short_colors = [\"#edf8fb\", \"#99d8c9\", \"#2ca25f\"]\n",
    "\n",
    "fig = px.scatter(\n",
    "    umapdf,\n",
    "    x=\"umap0\",\n",
    "    y=\"umap1\",\n",
    "    color=\"Metadata_time_point\",\n",
    "    title=\"UMAP by Time Point\",\n",
    "    color_discrete_sequence=blue_green_short_colors,\n",
    ")\n",
    "\n",
    "fig.show()\n",
    "fig.write_image(\n",
    "    static_figure_path / \"round1_time_point_umap.png\", width=2000, height=1200\n",
    ")\n",
    "fig.write_html(\n",
    "    int_figure_path / \"round1_time_point_umap.html\",\n",
    "    full_html=True,\n",
    "    include_plotlyjs=\"embed\",\n",
    ")"
   ]
  },
  {
   "cell_type": "markdown",
   "metadata": {
    "jukit_cell_id": "VjOBxwWwuA"
   },
   "source": [
    "# Treemap Cell Count Figures"
   ]
  },
  {
   "cell_type": "code",
   "execution_count": 20,
   "metadata": {
    "execution": {
     "iopub.execute_input": "2025-07-03T22:10:01.462988Z",
     "iopub.status.busy": "2025-07-03T22:10:01.462757Z",
     "iopub.status.idle": "2025-07-03T22:10:03.143804Z",
     "shell.execute_reply": "2025-07-03T22:10:03.143448Z"
    },
    "jukit_cell_id": "F6Ya6sNQvW"
   },
   "outputs": [
    {
     "data": {
      "application/vnd.plotly.v1+json": {
       "config": {
        "plotlyServerURL": "https://plot.ly"
       },
       "data": [
        {
         "branchvalues": "total",
         "domain": {
          "x": [
           0.0,
           1.0
          ],
          "y": [
           0.0,
           1.0
          ]
         },
         "hovertemplate": "labels=%{label}<br>count=%{value}<br>parent=%{parent}<br>id=%{id}<extra></extra>",
         "ids": [
          "U2-OS/12000/48",
          "U2-OS/4000/72",
          "U2-OS/8000/48",
          "U2-OS/12000/72",
          "U2-OS/8000/72",
          "U2-OS/4000/48",
          "U2-OS/2000/72",
          "U2-OS/12000/24",
          "CHLA-10/12000/72",
          "A-673/8000/72",
          "U2-OS/8000/24",
          "CHLA-10/8000/72",
          "A-673/12000/48",
          "CHP-212/12000/72",
          "U2-OS/1000/72",
          "A-673/4000/72",
          "CHP-212/8000/72",
          "A-673/8000/48",
          "U2-OS/2000/48",
          "U2-OS/4000/24",
          "CHLA-10/4000/72",
          "NB-1/12000/72",
          "CHLA-10/12000/48",
          "CHP-212/12000/24",
          "CHP-212/12000/48",
          "CHLA-200/12000/72",
          "NB-1/8000/72",
          "CHP-212/4000/72",
          "SHSY5Y/12000/48",
          "CHLA-200/12000/48",
          "CHLA-200/12000/24",
          "CHLA-200/8000/72",
          "SKNMC/8000/72",
          "NB-1/12000/24",
          "KPNYN/12000/24",
          "U2-OS/1000/48",
          "CHLA-200/8000/48",
          "SKNMC/4000/72",
          "NB-1/4000/72",
          "SHSY5Y/12000/72",
          "SKNMC/12000/72",
          "A-673/2000/72",
          "CHLA-200/8000/24",
          "CHLA-10/2000/72",
          "CHLA-10/8000/48",
          "CHP-212/8000/24",
          "SHSY5Y/8000/48",
          "U2-OS/2000/24",
          "A-673/4000/48",
          "CHLA-200/4000/72",
          "KPNYN/8000/72",
          "SHSY5Y/8000/72",
          "KPNYN/12000/72",
          "KPNYN/8000/24",
          "NB-1/2000/72",
          "CHP-212/2000/72",
          "KPNYN/4000/72",
          "CHLA-10/1000/72",
          "CHLA-200/4000/48",
          "SKNMC/12000/48",
          "A-673/1000/72",
          "CHLA-10/12000/24",
          "SHSY5Y/4000/48",
          "CHP-212/4000/24",
          "U2-OS/1000/24",
          "NB-1/8000/24",
          "SHSY5Y/4000/72",
          "A-673/4000/24",
          "CHLA-218/8000/72",
          "CHLA-218/12000/72",
          "CHLA-200/2000/72",
          "A-673/2000/48",
          "CHLA-200/4000/24",
          "CHLA-25/12000/24",
          "NB-1/2000/48",
          "KPNYN/4000/24",
          "CHLA-10/4000/48",
          "CHP-212/1000/72",
          "KPNYN/2000/72",
          "CHLA-25/8000/72",
          "CHP-212/4000/48",
          "NB-1/1000/72",
          "CHLA-25/8000/24",
          "SKNMC/2000/72",
          "CHLA-200/2000/48",
          "KPNYN/4000/48",
          "CHLA-200/1000/72",
          "CHLA-25/4000/72",
          "SHSY5Y/2000/48",
          "SHSY5Y/2000/72",
          "A-673/2000/24",
          "CHP-212/2000/24",
          "CHLA-113/12000/24",
          "SKNDZ/4000/72",
          "SHSY5Y/12000/24",
          "CHP-212/2000/48",
          "A-673/1000/48",
          "CHLA-200/1000/48",
          "CHLA-10/2000/48",
          "CHLA-10/8000/24",
          "CHP-212/8000/48",
          "SHSY5Y/8000/24",
          "KPNYN/2000/48",
          "KPNYN/2000/24",
          "CHLA-113/8000/24",
          "SKNDZ/2000/72",
          "SKNDZ/8000/72",
          "NB-1/4000/24",
          "A-673/12000/72",
          "NB-1/1000/48",
          "A-673/1000/24",
          "SKNDZ/12000/72",
          "CHLA-218/4000/72",
          "CHLA-113/12000/72",
          "CHLA-25/2000/72",
          "SKNMC/8000/48",
          "CHLA-200/2000/24",
          "KPNYN/1000/72",
          "CHLA-25/4000/24",
          "CHLA-113/8000/72",
          "CHLA-25/12000/48",
          "CHP-212/1000/48",
          "CHLA-218/12000/24",
          "SKNDZ/1000/72",
          "SHSY5Y/4000/24",
          "CHLA-218/8000/24",
          "CHLA-113/4000/72",
          "SHSY5Y/1000/72",
          "CHLA-200/1000/24",
          "CHLA-218/8000/48",
          "KPNYN/8000/48",
          "CHLA-218/2000/72",
          "CHLA-10/1000/48",
          "CHLA-113/4000/24",
          "NB-1/2000/24",
          "CHLA-10/4000/24",
          "KPNYN/1000/24",
          "CHLA-25/2000/24",
          "CHP-212/1000/24",
          "SKNDZ/12000/48",
          "KPNYN/1000/48",
          "CHLA-25/1000/72",
          "CHLA-113/2000/72",
          "SKNDZ/8000/24",
          "SKNMC/1000/72",
          "CHLA-113/1000/24",
          "SKNDZ/8000/48",
          "SHSY5Y/2000/24",
          "CHLA-218/4000/48",
          "CHLA-113/1000/72",
          "SHSY5Y/1000/48",
          "CHLA-218/4000/24",
          "CHLA-25/4000/48",
          "SKNDZ/4000/24",
          "CHLA-218/1000/72",
          "CHLA-218/12000/48",
          "CHLA-218/2000/24",
          "CHLA-25/8000/48",
          "SHSY5Y/1000/24",
          "SKNDZ/12000/24",
          "CHLA-10/2000/24",
          "CHLA-113/2000/24",
          "NB-1/1000/24",
          "CHLA-25/1000/24",
          "CHLA-113/2000/48",
          "CHLA-218/2000/48",
          "NB-1/12000/48",
          "CHLA-218/1000/24",
          "CHLA-25/2000/48",
          "SKNDZ/4000/48",
          "SKNDZ/2000/24",
          "SKNDZ/2000/48",
          "CHLA-218/1000/48",
          "CHLA-113/8000/48",
          "SKNDZ/1000/48",
          "SKNMC/4000/48",
          "CHLA-113/1000/48",
          "CHLA-113/12000/48",
          "CHLA-10/1000/24",
          "CHLA-25/1000/48",
          "CHLA-25/12000/72",
          "SKNDZ/1000/24",
          "SKNMC/1000/24",
          "CHLA-113/4000/48",
          "SKNMC/4000/24",
          "NB-1/4000/48",
          "SKNMC/1000/48",
          "SKNMC/2000/24",
          "SKNMC/2000/48",
          "U2-OS/12000",
          "U2-OS/4000",
          "U2-OS/8000",
          "U2-OS/2000",
          "CHLA-10/12000",
          "A-673/8000",
          "CHLA-10/8000",
          "A-673/12000",
          "CHP-212/12000",
          "U2-OS/1000",
          "A-673/4000",
          "CHP-212/8000",
          "CHLA-10/4000",
          "NB-1/12000",
          "CHLA-200/12000",
          "NB-1/8000",
          "CHP-212/4000",
          "SHSY5Y/12000",
          "CHLA-200/8000",
          "SKNMC/8000",
          "KPNYN/12000",
          "SKNMC/4000",
          "NB-1/4000",
          "SKNMC/12000",
          "A-673/2000",
          "CHLA-10/2000",
          "SHSY5Y/8000",
          "CHLA-200/4000",
          "KPNYN/8000",
          "NB-1/2000",
          "CHP-212/2000",
          "KPNYN/4000",
          "CHLA-10/1000",
          "A-673/1000",
          "SHSY5Y/4000",
          "CHLA-218/8000",
          "CHLA-218/12000",
          "CHLA-200/2000",
          "CHLA-25/12000",
          "CHP-212/1000",
          "KPNYN/2000",
          "CHLA-25/8000",
          "NB-1/1000",
          "SKNMC/2000",
          "CHLA-200/1000",
          "CHLA-25/4000",
          "SHSY5Y/2000",
          "CHLA-113/12000",
          "SKNDZ/4000",
          "CHLA-113/8000",
          "SKNDZ/2000",
          "SKNDZ/8000",
          "SKNDZ/12000",
          "CHLA-218/4000",
          "CHLA-25/2000",
          "KPNYN/1000",
          "SKNDZ/1000",
          "CHLA-113/4000",
          "SHSY5Y/1000",
          "CHLA-218/2000",
          "CHLA-25/1000",
          "CHLA-113/2000",
          "SKNMC/1000",
          "CHLA-113/1000",
          "CHLA-218/1000",
          "U2-OS",
          "CHLA-10",
          "A-673",
          "CHP-212",
          "NB-1",
          "CHLA-200",
          "SHSY5Y",
          "SKNMC",
          "KPNYN",
          "CHLA-218",
          "CHLA-25",
          "CHLA-113",
          "SKNDZ"
         ],
         "labels": [
          "48",
          "72",
          "48",
          "72",
          "72",
          "48",
          "72",
          "24",
          "72",
          "72",
          "24",
          "72",
          "48",
          "72",
          "72",
          "72",
          "72",
          "48",
          "48",
          "24",
          "72",
          "72",
          "48",
          "24",
          "48",
          "72",
          "72",
          "72",
          "48",
          "48",
          "24",
          "72",
          "72",
          "24",
          "24",
          "48",
          "48",
          "72",
          "72",
          "72",
          "72",
          "72",
          "24",
          "72",
          "48",
          "24",
          "48",
          "24",
          "48",
          "72",
          "72",
          "72",
          "72",
          "24",
          "72",
          "72",
          "72",
          "72",
          "48",
          "48",
          "72",
          "24",
          "48",
          "24",
          "24",
          "24",
          "72",
          "24",
          "72",
          "72",
          "72",
          "48",
          "24",
          "24",
          "48",
          "24",
          "48",
          "72",
          "72",
          "72",
          "48",
          "72",
          "24",
          "72",
          "48",
          "48",
          "72",
          "72",
          "48",
          "72",
          "24",
          "24",
          "24",
          "72",
          "24",
          "48",
          "48",
          "48",
          "48",
          "24",
          "48",
          "24",
          "48",
          "24",
          "24",
          "72",
          "72",
          "24",
          "72",
          "48",
          "24",
          "72",
          "72",
          "72",
          "72",
          "48",
          "24",
          "72",
          "24",
          "72",
          "48",
          "48",
          "24",
          "72",
          "24",
          "24",
          "72",
          "72",
          "24",
          "48",
          "48",
          "72",
          "48",
          "24",
          "24",
          "24",
          "24",
          "24",
          "24",
          "48",
          "48",
          "72",
          "72",
          "24",
          "72",
          "24",
          "48",
          "24",
          "48",
          "72",
          "48",
          "24",
          "48",
          "24",
          "72",
          "48",
          "24",
          "48",
          "24",
          "24",
          "24",
          "24",
          "24",
          "24",
          "48",
          "48",
          "48",
          "24",
          "48",
          "48",
          "24",
          "48",
          "48",
          "48",
          "48",
          "48",
          "48",
          "48",
          "24",
          "48",
          "72",
          "24",
          "24",
          "48",
          "24",
          "48",
          "48",
          "24",
          "48",
          "12000",
          "4000",
          "8000",
          "2000",
          "12000",
          "8000",
          "8000",
          "12000",
          "12000",
          "1000",
          "4000",
          "8000",
          "4000",
          "12000",
          "12000",
          "8000",
          "4000",
          "12000",
          "8000",
          "8000",
          "12000",
          "4000",
          "4000",
          "12000",
          "2000",
          "2000",
          "8000",
          "4000",
          "8000",
          "2000",
          "2000",
          "4000",
          "1000",
          "1000",
          "4000",
          "8000",
          "12000",
          "2000",
          "12000",
          "1000",
          "2000",
          "8000",
          "1000",
          "2000",
          "1000",
          "4000",
          "2000",
          "12000",
          "4000",
          "8000",
          "2000",
          "8000",
          "12000",
          "4000",
          "2000",
          "1000",
          "1000",
          "4000",
          "1000",
          "2000",
          "1000",
          "2000",
          "1000",
          "1000",
          "1000",
          "U2-OS",
          "CHLA-10",
          "A-673",
          "CHP-212",
          "NB-1",
          "CHLA-200",
          "SHSY5Y",
          "SKNMC",
          "KPNYN",
          "CHLA-218",
          "CHLA-25",
          "CHLA-113",
          "SKNDZ"
         ],
         "name": "",
         "parents": [
          "U2-OS/12000",
          "U2-OS/4000",
          "U2-OS/8000",
          "U2-OS/12000",
          "U2-OS/8000",
          "U2-OS/4000",
          "U2-OS/2000",
          "U2-OS/12000",
          "CHLA-10/12000",
          "A-673/8000",
          "U2-OS/8000",
          "CHLA-10/8000",
          "A-673/12000",
          "CHP-212/12000",
          "U2-OS/1000",
          "A-673/4000",
          "CHP-212/8000",
          "A-673/8000",
          "U2-OS/2000",
          "U2-OS/4000",
          "CHLA-10/4000",
          "NB-1/12000",
          "CHLA-10/12000",
          "CHP-212/12000",
          "CHP-212/12000",
          "CHLA-200/12000",
          "NB-1/8000",
          "CHP-212/4000",
          "SHSY5Y/12000",
          "CHLA-200/12000",
          "CHLA-200/12000",
          "CHLA-200/8000",
          "SKNMC/8000",
          "NB-1/12000",
          "KPNYN/12000",
          "U2-OS/1000",
          "CHLA-200/8000",
          "SKNMC/4000",
          "NB-1/4000",
          "SHSY5Y/12000",
          "SKNMC/12000",
          "A-673/2000",
          "CHLA-200/8000",
          "CHLA-10/2000",
          "CHLA-10/8000",
          "CHP-212/8000",
          "SHSY5Y/8000",
          "U2-OS/2000",
          "A-673/4000",
          "CHLA-200/4000",
          "KPNYN/8000",
          "SHSY5Y/8000",
          "KPNYN/12000",
          "KPNYN/8000",
          "NB-1/2000",
          "CHP-212/2000",
          "KPNYN/4000",
          "CHLA-10/1000",
          "CHLA-200/4000",
          "SKNMC/12000",
          "A-673/1000",
          "CHLA-10/12000",
          "SHSY5Y/4000",
          "CHP-212/4000",
          "U2-OS/1000",
          "NB-1/8000",
          "SHSY5Y/4000",
          "A-673/4000",
          "CHLA-218/8000",
          "CHLA-218/12000",
          "CHLA-200/2000",
          "A-673/2000",
          "CHLA-200/4000",
          "CHLA-25/12000",
          "NB-1/2000",
          "KPNYN/4000",
          "CHLA-10/4000",
          "CHP-212/1000",
          "KPNYN/2000",
          "CHLA-25/8000",
          "CHP-212/4000",
          "NB-1/1000",
          "CHLA-25/8000",
          "SKNMC/2000",
          "CHLA-200/2000",
          "KPNYN/4000",
          "CHLA-200/1000",
          "CHLA-25/4000",
          "SHSY5Y/2000",
          "SHSY5Y/2000",
          "A-673/2000",
          "CHP-212/2000",
          "CHLA-113/12000",
          "SKNDZ/4000",
          "SHSY5Y/12000",
          "CHP-212/2000",
          "A-673/1000",
          "CHLA-200/1000",
          "CHLA-10/2000",
          "CHLA-10/8000",
          "CHP-212/8000",
          "SHSY5Y/8000",
          "KPNYN/2000",
          "KPNYN/2000",
          "CHLA-113/8000",
          "SKNDZ/2000",
          "SKNDZ/8000",
          "NB-1/4000",
          "A-673/12000",
          "NB-1/1000",
          "A-673/1000",
          "SKNDZ/12000",
          "CHLA-218/4000",
          "CHLA-113/12000",
          "CHLA-25/2000",
          "SKNMC/8000",
          "CHLA-200/2000",
          "KPNYN/1000",
          "CHLA-25/4000",
          "CHLA-113/8000",
          "CHLA-25/12000",
          "CHP-212/1000",
          "CHLA-218/12000",
          "SKNDZ/1000",
          "SHSY5Y/4000",
          "CHLA-218/8000",
          "CHLA-113/4000",
          "SHSY5Y/1000",
          "CHLA-200/1000",
          "CHLA-218/8000",
          "KPNYN/8000",
          "CHLA-218/2000",
          "CHLA-10/1000",
          "CHLA-113/4000",
          "NB-1/2000",
          "CHLA-10/4000",
          "KPNYN/1000",
          "CHLA-25/2000",
          "CHP-212/1000",
          "SKNDZ/12000",
          "KPNYN/1000",
          "CHLA-25/1000",
          "CHLA-113/2000",
          "SKNDZ/8000",
          "SKNMC/1000",
          "CHLA-113/1000",
          "SKNDZ/8000",
          "SHSY5Y/2000",
          "CHLA-218/4000",
          "CHLA-113/1000",
          "SHSY5Y/1000",
          "CHLA-218/4000",
          "CHLA-25/4000",
          "SKNDZ/4000",
          "CHLA-218/1000",
          "CHLA-218/12000",
          "CHLA-218/2000",
          "CHLA-25/8000",
          "SHSY5Y/1000",
          "SKNDZ/12000",
          "CHLA-10/2000",
          "CHLA-113/2000",
          "NB-1/1000",
          "CHLA-25/1000",
          "CHLA-113/2000",
          "CHLA-218/2000",
          "NB-1/12000",
          "CHLA-218/1000",
          "CHLA-25/2000",
          "SKNDZ/4000",
          "SKNDZ/2000",
          "SKNDZ/2000",
          "CHLA-218/1000",
          "CHLA-113/8000",
          "SKNDZ/1000",
          "SKNMC/4000",
          "CHLA-113/1000",
          "CHLA-113/12000",
          "CHLA-10/1000",
          "CHLA-25/1000",
          "CHLA-25/12000",
          "SKNDZ/1000",
          "SKNMC/1000",
          "CHLA-113/4000",
          "SKNMC/4000",
          "NB-1/4000",
          "SKNMC/1000",
          "SKNMC/2000",
          "SKNMC/2000",
          "U2-OS",
          "U2-OS",
          "U2-OS",
          "U2-OS",
          "CHLA-10",
          "A-673",
          "CHLA-10",
          "A-673",
          "CHP-212",
          "U2-OS",
          "A-673",
          "CHP-212",
          "CHLA-10",
          "NB-1",
          "CHLA-200",
          "NB-1",
          "CHP-212",
          "SHSY5Y",
          "CHLA-200",
          "SKNMC",
          "KPNYN",
          "SKNMC",
          "NB-1",
          "SKNMC",
          "A-673",
          "CHLA-10",
          "SHSY5Y",
          "CHLA-200",
          "KPNYN",
          "NB-1",
          "CHP-212",
          "KPNYN",
          "CHLA-10",
          "A-673",
          "SHSY5Y",
          "CHLA-218",
          "CHLA-218",
          "CHLA-200",
          "CHLA-25",
          "CHP-212",
          "KPNYN",
          "CHLA-25",
          "NB-1",
          "SKNMC",
          "CHLA-200",
          "CHLA-25",
          "SHSY5Y",
          "CHLA-113",
          "SKNDZ",
          "CHLA-113",
          "SKNDZ",
          "SKNDZ",
          "SKNDZ",
          "CHLA-218",
          "CHLA-25",
          "KPNYN",
          "SKNDZ",
          "CHLA-113",
          "SHSY5Y",
          "CHLA-218",
          "CHLA-25",
          "CHLA-113",
          "SKNMC",
          "CHLA-113",
          "CHLA-218",
          "",
          "",
          "",
          "",
          "",
          "",
          "",
          "",
          "",
          "",
          "",
          "",
          ""
         ],
         "type": "treemap",
         "values": {
          "bdata": "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",
          "dtype": "f8"
         }
        }
       ],
       "layout": {
        "legend": {
         "tracegroupgap": 0
        },
        "template": {
         "data": {
          "bar": [
           {
            "error_x": {
             "color": "#2a3f5f"
            },
            "error_y": {
             "color": "#2a3f5f"
            },
            "marker": {
             "line": {
              "color": "#E5ECF6",
              "width": 0.5
             },
             "pattern": {
              "fillmode": "overlay",
              "size": 10,
              "solidity": 0.2
             }
            },
            "type": "bar"
           }
          ],
          "barpolar": [
           {
            "marker": {
             "line": {
              "color": "#E5ECF6",
              "width": 0.5
             },
             "pattern": {
              "fillmode": "overlay",
              "size": 10,
              "solidity": 0.2
             }
            },
            "type": "barpolar"
           }
          ],
          "carpet": [
           {
            "aaxis": {
             "endlinecolor": "#2a3f5f",
             "gridcolor": "white",
             "linecolor": "white",
             "minorgridcolor": "white",
             "startlinecolor": "#2a3f5f"
            },
            "baxis": {
             "endlinecolor": "#2a3f5f",
             "gridcolor": "white",
             "linecolor": "white",
             "minorgridcolor": "white",
             "startlinecolor": "#2a3f5f"
            },
            "type": "carpet"
           }
          ],
          "choropleth": [
           {
            "colorbar": {
             "outlinewidth": 0,
             "ticks": ""
            },
            "type": "choropleth"
           }
          ],
          "contour": [
           {
            "colorbar": {
             "outlinewidth": 0,
             "ticks": ""
            },
            "colorscale": [
             [
              0.0,
              "#0d0887"
             ],
             [
              0.1111111111111111,
              "#46039f"
             ],
             [
              0.2222222222222222,
              "#7201a8"
             ],
             [
              0.3333333333333333,
              "#9c179e"
             ],
             [
              0.4444444444444444,
              "#bd3786"
             ],
             [
              0.5555555555555556,
              "#d8576b"
             ],
             [
              0.6666666666666666,
              "#ed7953"
             ],
             [
              0.7777777777777778,
              "#fb9f3a"
             ],
             [
              0.8888888888888888,
              "#fdca26"
             ],
             [
              1.0,
              "#f0f921"
             ]
            ],
            "type": "contour"
           }
          ],
          "contourcarpet": [
           {
            "colorbar": {
             "outlinewidth": 0,
             "ticks": ""
            },
            "type": "contourcarpet"
           }
          ],
          "heatmap": [
           {
            "colorbar": {
             "outlinewidth": 0,
             "ticks": ""
            },
            "colorscale": [
             [
              0.0,
              "#0d0887"
             ],
             [
              0.1111111111111111,
              "#46039f"
             ],
             [
              0.2222222222222222,
              "#7201a8"
             ],
             [
              0.3333333333333333,
              "#9c179e"
             ],
             [
              0.4444444444444444,
              "#bd3786"
             ],
             [
              0.5555555555555556,
              "#d8576b"
             ],
             [
              0.6666666666666666,
              "#ed7953"
             ],
             [
              0.7777777777777778,
              "#fb9f3a"
             ],
             [
              0.8888888888888888,
              "#fdca26"
             ],
             [
              1.0,
              "#f0f921"
             ]
            ],
            "type": "heatmap"
           }
          ],
          "histogram": [
           {
            "marker": {
             "pattern": {
              "fillmode": "overlay",
              "size": 10,
              "solidity": 0.2
             }
            },
            "type": "histogram"
           }
          ],
          "histogram2d": [
           {
            "colorbar": {
             "outlinewidth": 0,
             "ticks": ""
            },
            "colorscale": [
             [
              0.0,
              "#0d0887"
             ],
             [
              0.1111111111111111,
              "#46039f"
             ],
             [
              0.2222222222222222,
              "#7201a8"
             ],
             [
              0.3333333333333333,
              "#9c179e"
             ],
             [
              0.4444444444444444,
              "#bd3786"
             ],
             [
              0.5555555555555556,
              "#d8576b"
             ],
             [
              0.6666666666666666,
              "#ed7953"
             ],
             [
              0.7777777777777778,
              "#fb9f3a"
             ],
             [
              0.8888888888888888,
              "#fdca26"
             ],
             [
              1.0,
              "#f0f921"
             ]
            ],
            "type": "histogram2d"
           }
          ],
          "histogram2dcontour": [
           {
            "colorbar": {
             "outlinewidth": 0,
             "ticks": ""
            },
            "colorscale": [
             [
              0.0,
              "#0d0887"
             ],
             [
              0.1111111111111111,
              "#46039f"
             ],
             [
              0.2222222222222222,
              "#7201a8"
             ],
             [
              0.3333333333333333,
              "#9c179e"
             ],
             [
              0.4444444444444444,
              "#bd3786"
             ],
             [
              0.5555555555555556,
              "#d8576b"
             ],
             [
              0.6666666666666666,
              "#ed7953"
             ],
             [
              0.7777777777777778,
              "#fb9f3a"
             ],
             [
              0.8888888888888888,
              "#fdca26"
             ],
             [
              1.0,
              "#f0f921"
             ]
            ],
            "type": "histogram2dcontour"
           }
          ],
          "mesh3d": [
           {
            "colorbar": {
             "outlinewidth": 0,
             "ticks": ""
            },
            "type": "mesh3d"
           }
          ],
          "parcoords": [
           {
            "line": {
             "colorbar": {
              "outlinewidth": 0,
              "ticks": ""
             }
            },
            "type": "parcoords"
           }
          ],
          "pie": [
           {
            "automargin": true,
            "type": "pie"
           }
          ],
          "scatter": [
           {
            "fillpattern": {
             "fillmode": "overlay",
             "size": 10,
             "solidity": 0.2
            },
            "type": "scatter"
           }
          ],
          "scatter3d": [
           {
            "line": {
             "colorbar": {
              "outlinewidth": 0,
              "ticks": ""
             }
            },
            "marker": {
             "colorbar": {
              "outlinewidth": 0,
              "ticks": ""
             }
            },
            "type": "scatter3d"
           }
          ],
          "scattercarpet": [
           {
            "marker": {
             "colorbar": {
              "outlinewidth": 0,
              "ticks": ""
             }
            },
            "type": "scattercarpet"
           }
          ],
          "scattergeo": [
           {
            "marker": {
             "colorbar": {
              "outlinewidth": 0,
              "ticks": ""
             }
            },
            "type": "scattergeo"
           }
          ],
          "scattergl": [
           {
            "marker": {
             "colorbar": {
              "outlinewidth": 0,
              "ticks": ""
             }
            },
            "type": "scattergl"
           }
          ],
          "scattermap": [
           {
            "marker": {
             "colorbar": {
              "outlinewidth": 0,
              "ticks": ""
             }
            },
            "type": "scattermap"
           }
          ],
          "scattermapbox": [
           {
            "marker": {
             "colorbar": {
              "outlinewidth": 0,
              "ticks": ""
             }
            },
            "type": "scattermapbox"
           }
          ],
          "scatterpolar": [
           {
            "marker": {
             "colorbar": {
              "outlinewidth": 0,
              "ticks": ""
             }
            },
            "type": "scatterpolar"
           }
          ],
          "scatterpolargl": [
           {
            "marker": {
             "colorbar": {
              "outlinewidth": 0,
              "ticks": ""
             }
            },
            "type": "scatterpolargl"
           }
          ],
          "scatterternary": [
           {
            "marker": {
             "colorbar": {
              "outlinewidth": 0,
              "ticks": ""
             }
            },
            "type": "scatterternary"
           }
          ],
          "surface": [
           {
            "colorbar": {
             "outlinewidth": 0,
             "ticks": ""
            },
            "colorscale": [
             [
              0.0,
              "#0d0887"
             ],
             [
              0.1111111111111111,
              "#46039f"
             ],
             [
              0.2222222222222222,
              "#7201a8"
             ],
             [
              0.3333333333333333,
              "#9c179e"
             ],
             [
              0.4444444444444444,
              "#bd3786"
             ],
             [
              0.5555555555555556,
              "#d8576b"
             ],
             [
              0.6666666666666666,
              "#ed7953"
             ],
             [
              0.7777777777777778,
              "#fb9f3a"
             ],
             [
              0.8888888888888888,
              "#fdca26"
             ],
             [
              1.0,
              "#f0f921"
             ]
            ],
            "type": "surface"
           }
          ],
          "table": [
           {
            "cells": {
             "fill": {
              "color": "#EBF0F8"
             },
             "line": {
              "color": "white"
             }
            },
            "header": {
             "fill": {
              "color": "#C8D4E3"
             },
             "line": {
              "color": "white"
             }
            },
            "type": "table"
           }
          ]
         },
         "layout": {
          "annotationdefaults": {
           "arrowcolor": "#2a3f5f",
           "arrowhead": 0,
           "arrowwidth": 1
          },
          "autotypenumbers": "strict",
          "coloraxis": {
           "colorbar": {
            "outlinewidth": 0,
            "ticks": ""
           }
          },
          "colorscale": {
           "diverging": [
            [
             0,
             "#8e0152"
            ],
            [
             0.1,
             "#c51b7d"
            ],
            [
             0.2,
             "#de77ae"
            ],
            [
             0.3,
             "#f1b6da"
            ],
            [
             0.4,
             "#fde0ef"
            ],
            [
             0.5,
             "#f7f7f7"
            ],
            [
             0.6,
             "#e6f5d0"
            ],
            [
             0.7,
             "#b8e186"
            ],
            [
             0.8,
             "#7fbc41"
            ],
            [
             0.9,
             "#4d9221"
            ],
            [
             1,
             "#276419"
            ]
           ],
           "sequential": [
            [
             0.0,
             "#0d0887"
            ],
            [
             0.1111111111111111,
             "#46039f"
            ],
            [
             0.2222222222222222,
             "#7201a8"
            ],
            [
             0.3333333333333333,
             "#9c179e"
            ],
            [
             0.4444444444444444,
             "#bd3786"
            ],
            [
             0.5555555555555556,
             "#d8576b"
            ],
            [
             0.6666666666666666,
             "#ed7953"
            ],
            [
             0.7777777777777778,
             "#fb9f3a"
            ],
            [
             0.8888888888888888,
             "#fdca26"
            ],
            [
             1.0,
             "#f0f921"
            ]
           ],
           "sequentialminus": [
            [
             0.0,
             "#0d0887"
            ],
            [
             0.1111111111111111,
             "#46039f"
            ],
            [
             0.2222222222222222,
             "#7201a8"
            ],
            [
             0.3333333333333333,
             "#9c179e"
            ],
            [
             0.4444444444444444,
             "#bd3786"
            ],
            [
             0.5555555555555556,
             "#d8576b"
            ],
            [
             0.6666666666666666,
             "#ed7953"
            ],
            [
             0.7777777777777778,
             "#fb9f3a"
            ],
            [
             0.8888888888888888,
             "#fdca26"
            ],
            [
             1.0,
             "#f0f921"
            ]
           ]
          },
          "colorway": [
           "#636efa",
           "#EF553B",
           "#00cc96",
           "#ab63fa",
           "#FFA15A",
           "#19d3f3",
           "#FF6692",
           "#B6E880",
           "#FF97FF",
           "#FECB52"
          ],
          "font": {
           "color": "#2a3f5f"
          },
          "geo": {
           "bgcolor": "white",
           "lakecolor": "white",
           "landcolor": "#E5ECF6",
           "showlakes": true,
           "showland": true,
           "subunitcolor": "white"
          },
          "hoverlabel": {
           "align": "left"
          },
          "hovermode": "closest",
          "mapbox": {
           "style": "light"
          },
          "paper_bgcolor": "white",
          "plot_bgcolor": "#E5ECF6",
          "polar": {
           "angularaxis": {
            "gridcolor": "white",
            "linecolor": "white",
            "ticks": ""
           },
           "bgcolor": "#E5ECF6",
           "radialaxis": {
            "gridcolor": "white",
            "linecolor": "white",
            "ticks": ""
           }
          },
          "scene": {
           "xaxis": {
            "backgroundcolor": "#E5ECF6",
            "gridcolor": "white",
            "gridwidth": 2,
            "linecolor": "white",
            "showbackground": true,
            "ticks": "",
            "zerolinecolor": "white"
           },
           "yaxis": {
            "backgroundcolor": "#E5ECF6",
            "gridcolor": "white",
            "gridwidth": 2,
            "linecolor": "white",
            "showbackground": true,
            "ticks": "",
            "zerolinecolor": "white"
           },
           "zaxis": {
            "backgroundcolor": "#E5ECF6",
            "gridcolor": "white",
            "gridwidth": 2,
            "linecolor": "white",
            "showbackground": true,
            "ticks": "",
            "zerolinecolor": "white"
           }
          },
          "shapedefaults": {
           "line": {
            "color": "#2a3f5f"
           }
          },
          "ternary": {
           "aaxis": {
            "gridcolor": "white",
            "linecolor": "white",
            "ticks": ""
           },
           "baxis": {
            "gridcolor": "white",
            "linecolor": "white",
            "ticks": ""
           },
           "bgcolor": "#E5ECF6",
           "caxis": {
            "gridcolor": "white",
            "linecolor": "white",
            "ticks": ""
           }
          },
          "title": {
           "x": 0.05
          },
          "xaxis": {
           "automargin": true,
           "gridcolor": "white",
           "linecolor": "white",
           "ticks": "",
           "title": {
            "standoff": 15
           },
           "zerolinecolor": "white",
           "zerolinewidth": 2
          },
          "yaxis": {
           "automargin": true,
           "gridcolor": "white",
           "linecolor": "white",
           "ticks": "",
           "title": {
            "standoff": 15
           },
           "zerolinecolor": "white",
           "zerolinewidth": 2
          }
         }
        },
        "title": {
         "text": "Treemap of Category Combinations"
        }
       }
      }
     },
     "metadata": {},
     "output_type": "display_data"
    }
   ],
   "source": [
    "cellcountdf = (\n",
    "    round2df[[\"Metadata_cell_line\", \"Metadata_seeding_density\", \"Metadata_time_point\"]]\n",
    "    .value_counts()\n",
    "    .reset_index(name=\"count\")\n",
    ")\n",
    "\n",
    "fig = px.treemap(\n",
    "    cellcountdf,\n",
    "    path=[\"Metadata_cell_line\", \"Metadata_seeding_density\", \"Metadata_time_point\"],\n",
    "    values=\"count\",\n",
    "    title=\"Treemap of Category Combinations\",\n",
    ")\n",
    "\n",
    "fig.show()\n",
    "fig.write_image(static_figure_path / \"cell_count_treemap.png\", width=2000, height=1200)\n",
    "fig.write_html(\n",
    "    int_figure_path / \"cell_count_treemap.html\",\n",
    "    full_html=True,\n",
    "    include_plotlyjs=\"embed\",\n",
    ")"
   ]
  }
 ],
 "metadata": {
  "anaconda-cloud": {},
  "kernelspec": {
   "display_name": "python",
   "language": "python",
   "name": "python3"
  },
  "language_info": {
   "codemirror_mode": {
    "name": "ipython",
    "version": 3
   },
   "file_extension": ".py",
   "mimetype": "text/x-python",
   "name": "python",
   "nbconvert_exporter": "python",
   "pygments_lexer": "ipython3",
   "version": "3.11.0rc1"
  }
 },
 "nbformat": 4,
 "nbformat_minor": 4
}
