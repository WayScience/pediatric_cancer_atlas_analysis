{
 "cells": [
  {
   "cell_type": "markdown",
   "metadata": {
    "jukit_cell_id": "lM8dYQPBT5"
   },
   "source": [
    "# Explore Round 2 Data Patterns\n",
    "An exploration of the round 2 data to understand prominent patterns."
   ]
  },
  {
   "cell_type": "code",
   "execution_count": 1,
   "metadata": {
    "execution": {
     "iopub.execute_input": "2025-07-14T18:41:03.757694Z",
     "iopub.status.busy": "2025-07-14T18:41:03.757439Z",
     "iopub.status.idle": "2025-07-14T18:41:06.592086Z",
     "shell.execute_reply": "2025-07-14T18:41:06.591685Z"
    },
    "jukit_cell_id": "chKOlruhvo"
   },
   "outputs": [
    {
     "name": "stderr",
     "output_type": "stream",
     "text": [
      "/home/camo/projects/pediatric_cancer_atlas_analysis/1.exploratory_data_analysis/.venv/lib/python3.11/site-packages/tqdm/auto.py:21: TqdmWarning: IProgress not found. Please update jupyter and ipywidgets. See https://ipywidgets.readthedocs.io/en/stable/user_install.html\n",
      "  from .autonotebook import tqdm as notebook_tqdm\n"
     ]
    }
   ],
   "source": [
    "import pathlib\n",
    "\n",
    "import kaleido\n",
    "import pandas as pd\n",
    "import plotly.express as px\n",
    "import plotly.io as pio\n",
    "import pyarrow.parquet as pq\n",
    "from umap import UMAP"
   ]
  },
  {
   "cell_type": "markdown",
   "metadata": {
    "jukit_cell_id": "fodzHP9szp"
   },
   "source": [
    "## Find the root of the git repo on the host system"
   ]
  },
  {
   "cell_type": "code",
   "execution_count": 2,
   "metadata": {
    "execution": {
     "iopub.execute_input": "2025-07-14T18:41:06.593803Z",
     "iopub.status.busy": "2025-07-14T18:41:06.593592Z",
     "iopub.status.idle": "2025-07-14T18:41:06.596505Z",
     "shell.execute_reply": "2025-07-14T18:41:06.596162Z"
    },
    "jukit_cell_id": "RPnfSxTAVa"
   },
   "outputs": [],
   "source": [
    "# Get the current working directory\n",
    "cwd = pathlib.Path.cwd()\n",
    "\n",
    "if (cwd / \".git\").is_dir():\n",
    "    root_dir = cwd\n",
    "\n",
    "else:\n",
    "    root_dir = None\n",
    "    for parent in cwd.parents:\n",
    "        if (parent / \".git\").is_dir():\n",
    "            root_dir = parent\n",
    "            break\n",
    "\n",
    "# Check if a Git root directory was found\n",
    "if root_dir is None:\n",
    "    raise FileNotFoundError(\"No Git root directory found.\")"
   ]
  },
  {
   "cell_type": "markdown",
   "metadata": {
    "jukit_cell_id": "UzvLnM8utC"
   },
   "source": [
    "# Inputs"
   ]
  },
  {
   "cell_type": "code",
   "execution_count": 3,
   "metadata": {
    "execution": {
     "iopub.execute_input": "2025-07-14T18:41:06.597529Z",
     "iopub.status.busy": "2025-07-14T18:41:06.597419Z",
     "iopub.status.idle": "2025-07-14T18:41:10.491573Z",
     "shell.execute_reply": "2025-07-14T18:41:10.491072Z"
    },
    "jukit_cell_id": "hploOEYYGN"
   },
   "outputs": [],
   "source": [
    "pilot_path = root_dir / \"big_drive/alsf/ALSF_pilot_data\"\n",
    "\n",
    "round2_profiles_path = (\n",
    "    pilot_path / \"preprocessed_profiles_Round_2_data/Round_2_data\"\n",
    ").resolve(strict=True)\n",
    "\n",
    "common_cols = None\n",
    "\n",
    "for pq_file in list(round2_profiles_path.rglob(\"*feature_selected.parquet\")):\n",
    "    cols = pq.read_schema(pq_file).names\n",
    "    if common_cols is None:\n",
    "        common_cols = set(cols)\n",
    "\n",
    "    else:\n",
    "        common_cols &= set(cols)\n",
    "\n",
    "round2df = pd.concat(\n",
    "    [\n",
    "        pd.read_parquet(pq_file, columns=common_cols)\n",
    "        for pq_file in round2_profiles_path.rglob(\"*feature_selected.parquet\")\n",
    "    ],\n",
    "    axis=0,\n",
    ")"
   ]
  },
  {
   "cell_type": "code",
   "execution_count": 4,
   "metadata": {
    "execution": {
     "iopub.execute_input": "2025-07-14T18:41:10.493108Z",
     "iopub.status.busy": "2025-07-14T18:41:10.492972Z",
     "iopub.status.idle": "2025-07-14T18:41:10.495461Z",
     "shell.execute_reply": "2025-07-14T18:41:10.495117Z"
    },
    "jukit_cell_id": "aVI8vugmwG"
   },
   "outputs": [],
   "source": [
    "round2_figure_path = pathlib.Path(\"round2_figures\")\n",
    "\n",
    "int_figure_path = round2_figure_path / \"interactive_figures\"\n",
    "int_figure_path.mkdir(parents=True, exist_ok=True)\n",
    "\n",
    "static_figure_path = round2_figure_path / \"static_figures\"\n",
    "static_figure_path.mkdir(parents=True, exist_ok=True)"
   ]
  },
  {
   "cell_type": "markdown",
   "metadata": {
    "jukit_cell_id": "LoSAqYPOTT"
   },
   "source": [
    "# High-Level Data Characteristics"
   ]
  },
  {
   "cell_type": "code",
   "execution_count": 5,
   "metadata": {
    "execution": {
     "iopub.execute_input": "2025-07-14T18:41:10.496516Z",
     "iopub.status.busy": "2025-07-14T18:41:10.496399Z",
     "iopub.status.idle": "2025-07-14T18:41:10.498520Z",
     "shell.execute_reply": "2025-07-14T18:41:10.498213Z"
    },
    "jukit_cell_id": "sW5ZMw6kqN"
   },
   "outputs": [
    {
     "name": "stdout",
     "output_type": "stream",
     "text": [
      "(1050944, 445)\n"
     ]
    }
   ],
   "source": [
    "print(round2df.shape)"
   ]
  },
  {
   "cell_type": "code",
   "execution_count": 6,
   "metadata": {
    "execution": {
     "iopub.execute_input": "2025-07-14T18:41:10.499532Z",
     "iopub.status.busy": "2025-07-14T18:41:10.499423Z",
     "iopub.status.idle": "2025-07-14T18:41:10.852536Z",
     "shell.execute_reply": "2025-07-14T18:41:10.852127Z"
    },
    "jukit_cell_id": "QGVlS1LFBd"
   },
   "outputs": [
    {
     "name": "stdout",
     "output_type": "stream",
     "text": [
      "Are there any NaN entries?\n"
     ]
    },
    {
     "name": "stdout",
     "output_type": "stream",
     "text": [
      "Answer: False\n"
     ]
    }
   ],
   "source": [
    "print(\"Are there any NaN entries?\")\n",
    "print(f\"Answer: {round2df.isna().any().any()}\")"
   ]
  },
  {
   "cell_type": "markdown",
   "metadata": {
    "jukit_cell_id": "BiLzGTCOop"
   },
   "source": [
    "## Metadata Exploration"
   ]
  },
  {
   "cell_type": "code",
   "execution_count": 7,
   "metadata": {
    "execution": {
     "iopub.execute_input": "2025-07-14T18:41:10.853884Z",
     "iopub.status.busy": "2025-07-14T18:41:10.853666Z",
     "iopub.status.idle": "2025-07-14T18:41:10.885442Z",
     "shell.execute_reply": "2025-07-14T18:41:10.885144Z"
    },
    "jukit_cell_id": "bkvItDJtwz"
   },
   "outputs": [
    {
     "data": {
      "text/plain": [
       "array(['BR00145438', 'BR00145440', 'BR00145439', 'BR00145818',\n",
       "       'BR00145817', 'BR00145816'], dtype=object)"
      ]
     },
     "execution_count": 7,
     "metadata": {},
     "output_type": "execute_result"
    }
   ],
   "source": [
    "round2df[\"Metadata_Plate\"].unique()"
   ]
  },
  {
   "cell_type": "code",
   "execution_count": 8,
   "metadata": {
    "execution": {
     "iopub.execute_input": "2025-07-14T18:41:10.886493Z",
     "iopub.status.busy": "2025-07-14T18:41:10.886372Z",
     "iopub.status.idle": "2025-07-14T18:41:10.891621Z",
     "shell.execute_reply": "2025-07-14T18:41:10.891311Z"
    },
    "jukit_cell_id": "u1vbFm46Nk"
   },
   "outputs": [
    {
     "data": {
      "text/plain": [
       "array([24, 72, 48])"
      ]
     },
     "execution_count": 8,
     "metadata": {},
     "output_type": "execute_result"
    }
   ],
   "source": [
    "round2df[\"Metadata_time_point\"].unique()"
   ]
  },
  {
   "cell_type": "code",
   "execution_count": 9,
   "metadata": {
    "execution": {
     "iopub.execute_input": "2025-07-14T18:41:10.892624Z",
     "iopub.status.busy": "2025-07-14T18:41:10.892508Z",
     "iopub.status.idle": "2025-07-14T18:41:10.958797Z",
     "shell.execute_reply": "2025-07-14T18:41:10.958307Z"
    },
    "jukit_cell_id": "FD0QX97dxp"
   },
   "outputs": [
    {
     "name": "stdout",
     "output_type": "stream",
     "text": [
      "\n",
      "Unique timepoints per plate:\n",
      "  Metadata_Plate  Metadata_time_point\n",
      "0     BR00145438                   24\n",
      "0     BR00145440                   72\n",
      "0     BR00145439                   48\n",
      "0     BR00145818                   72\n",
      "0     BR00145817                   48\n",
      "0     BR00145816                   24\n"
     ]
    }
   ],
   "source": [
    "print(\"\\nUnique timepoints per plate:\")\n",
    "print(round2df[[\"Metadata_Plate\", \"Metadata_time_point\"]].drop_duplicates())"
   ]
  },
  {
   "cell_type": "code",
   "execution_count": 10,
   "metadata": {
    "execution": {
     "iopub.execute_input": "2025-07-14T18:41:10.959971Z",
     "iopub.status.busy": "2025-07-14T18:41:10.959830Z",
     "iopub.status.idle": "2025-07-14T18:41:10.965646Z",
     "shell.execute_reply": "2025-07-14T18:41:10.965264Z"
    },
    "jukit_cell_id": "bQ8nuxMNiR"
   },
   "outputs": [
    {
     "name": "stdout",
     "output_type": "stream",
     "text": [
      "\n",
      "Unique Seeding Densities:\n"
     ]
    },
    {
     "data": {
      "text/plain": [
       "array([ 1000,  2000,  4000,  8000, 12000])"
      ]
     },
     "execution_count": 10,
     "metadata": {},
     "output_type": "execute_result"
    }
   ],
   "source": [
    "print(\"\\nUnique Seeding Densities:\")\n",
    "round2df[\"Metadata_seeding_density\"].unique()"
   ]
  },
  {
   "cell_type": "code",
   "execution_count": 11,
   "metadata": {
    "execution": {
     "iopub.execute_input": "2025-07-14T18:41:10.966624Z",
     "iopub.status.busy": "2025-07-14T18:41:10.966518Z",
     "iopub.status.idle": "2025-07-14T18:41:10.971903Z",
     "shell.execute_reply": "2025-07-14T18:41:10.971656Z"
    },
    "jukit_cell_id": "4gr4EFd0uD"
   },
   "outputs": [
    {
     "data": {
      "text/plain": [
       "Metadata_seeding_density\n",
       "12000    353135\n",
       "8000     301038\n",
       "4000     211533\n",
       "2000     119399\n",
       "1000      65839\n",
       "Name: count, dtype: int64"
      ]
     },
     "execution_count": 11,
     "metadata": {},
     "output_type": "execute_result"
    }
   ],
   "source": [
    "round2df[\"Metadata_seeding_density\"].value_counts()"
   ]
  },
  {
   "cell_type": "code",
   "execution_count": 12,
   "metadata": {
    "execution": {
     "iopub.execute_input": "2025-07-14T18:41:10.972793Z",
     "iopub.status.busy": "2025-07-14T18:41:10.972693Z",
     "iopub.status.idle": "2025-07-14T18:41:11.000712Z",
     "shell.execute_reply": "2025-07-14T18:41:11.000448Z"
    },
    "jukit_cell_id": "ApqdsLAWPX"
   },
   "outputs": [
    {
     "data": {
      "text/plain": [
       "array(['A-673', 'SKNMC', 'CHP-212', 'NB-1', 'KPNYN', 'SHSY5Y', 'U2-OS',\n",
       "       'SKNDZ', 'CHLA-10', 'CHLA-25', 'CHLA-113', 'CHLA-200', 'CHLA-218'],\n",
       "      dtype=object)"
      ]
     },
     "execution_count": 12,
     "metadata": {},
     "output_type": "execute_result"
    }
   ],
   "source": [
    "round2df[\"Metadata_cell_line\"].unique()"
   ]
  },
  {
   "cell_type": "code",
   "execution_count": 13,
   "metadata": {
    "execution": {
     "iopub.execute_input": "2025-07-14T18:41:11.001660Z",
     "iopub.status.busy": "2025-07-14T18:41:11.001558Z",
     "iopub.status.idle": "2025-07-14T18:41:11.006519Z",
     "shell.execute_reply": "2025-07-14T18:41:11.006271Z"
    },
    "jukit_cell_id": "qrhKm33V6n"
   },
   "outputs": [
    {
     "data": {
      "text/plain": [
       "844"
      ]
     },
     "execution_count": 13,
     "metadata": {},
     "output_type": "execute_result"
    }
   ],
   "source": [
    "round2df[\"Metadata_Image_Count_Cells\"].nunique()"
   ]
  },
  {
   "cell_type": "code",
   "execution_count": 14,
   "metadata": {
    "execution": {
     "iopub.execute_input": "2025-07-14T18:41:11.007408Z",
     "iopub.status.busy": "2025-07-14T18:41:11.007302Z",
     "iopub.status.idle": "2025-07-14T18:41:11.038632Z",
     "shell.execute_reply": "2025-07-14T18:41:11.038378Z"
    },
    "jukit_cell_id": "003J5TqTgq"
   },
   "outputs": [
    {
     "data": {
      "text/plain": [
       "Metadata_Plate\n",
       "BR00145440    387332\n",
       "BR00145439    225179\n",
       "BR00145818    155145\n",
       "BR00145438    137004\n",
       "BR00145817     82987\n",
       "BR00145816     63297\n",
       "Name: count, dtype: int64"
      ]
     },
     "execution_count": 14,
     "metadata": {},
     "output_type": "execute_result"
    }
   ],
   "source": [
    "round2df[\"Metadata_Plate\"].value_counts()"
   ]
  },
  {
   "cell_type": "markdown",
   "metadata": {
    "jukit_cell_id": "4wuYOqL58c"
   },
   "source": [
    "# UMAP Morphology Figures\n",
    "Sampled to show morphology relationships between experimental conditions"
   ]
  },
  {
   "cell_type": "code",
   "execution_count": 15,
   "metadata": {
    "execution": {
     "iopub.execute_input": "2025-07-14T18:41:11.039647Z",
     "iopub.status.busy": "2025-07-14T18:41:11.039538Z",
     "iopub.status.idle": "2025-07-14T18:41:30.600929Z",
     "shell.execute_reply": "2025-07-14T18:41:30.600549Z"
    },
    "jukit_cell_id": "L34lE7aARC"
   },
   "outputs": [
    {
     "name": "stderr",
     "output_type": "stream",
     "text": [
      "/home/camo/projects/pediatric_cancer_atlas_analysis/1.exploratory_data_analysis/.venv/lib/python3.11/site-packages/umap/umap_.py:1952: UserWarning: n_jobs value 1 overridden to 1 by setting random_state. Use no seed for parallelism.\n",
      "  warn(\n"
     ]
    }
   ],
   "source": [
    "vdf = round2df.groupby(\n",
    "    [\n",
    "        \"Metadata_Plate\",\n",
    "        \"Metadata_cell_line\",\n",
    "        \"Metadata_seeding_density\",\n",
    "        \"Metadata_time_point\",\n",
    "    ]\n",
    ").sample(n=25, random_state=0)\n",
    "\n",
    "umap_obj = UMAP(random_state=0)\n",
    "umapdf = umap_obj.fit_transform(\n",
    "    vdf.loc[:, ~vdf.columns.str.contains(\"metadata\", case=False)]\n",
    ")\n",
    "umapdf = pd.DataFrame(umapdf, columns=[\"umap0\", \"umap1\"])\n",
    "umapdf = umapdf.assign(\n",
    "    Metadata_Plate=vdf[\"Metadata_Plate\"].reset_index(drop=True),\n",
    "    Metadata_cell_line=vdf[\"Metadata_cell_line\"].reset_index(drop=True),\n",
    "    Metadata_seeding_density=vdf[\"Metadata_seeding_density\"].reset_index(drop=True),\n",
    "    Metadata_time_point=vdf[\"Metadata_time_point\"].reset_index(drop=True),\n",
    ")\n",
    "umapdf[\"Metadata_seeding_density\"] = umapdf[\"Metadata_seeding_density\"].astype(str)\n",
    "umapdf[\"Metadata_time_point\"] = umapdf[\"Metadata_time_point\"].astype(str)"
   ]
  },
  {
   "cell_type": "code",
   "execution_count": 16,
   "metadata": {
    "execution": {
     "iopub.execute_input": "2025-07-14T18:41:30.602247Z",
     "iopub.status.busy": "2025-07-14T18:41:30.602142Z",
     "iopub.status.idle": "2025-07-14T18:41:34.553511Z",
     "shell.execute_reply": "2025-07-14T18:41:34.553099Z"
    },
    "jukit_cell_id": "ieSDyFKFQC"
   },
   "outputs": [
    {
     "data": {
      "text/plain": [
       "PosixPath('/home/camo/projects/pediatric_cancer_atlas_analysis/1.exploratory_data_analysis/.venv/lib/python3.11/site-packages/choreographer/cli/browser_exe/chrome-linux64/chrome')"
      ]
     },
     "execution_count": 16,
     "metadata": {},
     "output_type": "execute_result"
    }
   ],
   "source": [
    "# Needed to display in chrome (if not installed)\n",
    "kaleido.get_chrome_sync()"
   ]
  },
  {
   "cell_type": "code",
   "execution_count": 17,
   "metadata": {
    "execution": {
     "iopub.execute_input": "2025-07-14T18:41:34.554616Z",
     "iopub.status.busy": "2025-07-14T18:41:34.554486Z",
     "iopub.status.idle": "2025-07-14T18:41:37.198238Z",
     "shell.execute_reply": "2025-07-14T18:41:37.197775Z"
    },
    "jukit_cell_id": "gfNPrkHpDa"
   },
   "outputs": [
    {
     "data": {
      "application/vnd.plotly.v1+json": {
       "config": {
        "plotlyServerURL": "https://plot.ly"
       },
       "data": [
        {
         "hovertemplate": "Metadata_Plate=BR00145438<br>umap0=%{x}<br>umap1=%{y}<extra></extra>",
         "legendgroup": "BR00145438",
         "marker": {
          "color": "#ffffb2",
          "symbol": "circle"
         },
         "mode": "markers",
         "name": "BR00145438",
         "showlegend": true,
         "type": "scattergl",
         "x": {
          "bdata": "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",
          "dtype": "f4"
         },
         "xaxis": "x",
         "y": {
          "bdata": "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",
          "dtype": "f4"
         },
         "yaxis": "y"
        },
        {
         "alignmentgroup": "True",
         "hovertemplate": "Metadata_Plate=BR00145438<br>umap0=%{x}<extra></extra>",
         "legendgroup": "BR00145438",
         "marker": {
          "color": "#ffffb2",
          "symbol": "circle"
         },
         "name": "BR00145438",
         "offsetgroup": "BR00145438",
         "scalegroup": "x",
         "showlegend": false,
         "type": "violin",
         "x": {
          "bdata": "e129QPA32kAzTK1AZCrvQOCc4UD3ktZA96PZQLHrm0BNHLJAv4nSQLtu3kCGHsBAEKbZQOT64kAEpLFAILjEQGndy0ADc95Av9a+QEQry0DG9N9A8JalQEMp1UDowoFAmg7GQCHktkCrKdJAAGpZQBJls0Aamc9A1EGmQI6JtkCyJ8BAzGTRQCVSuEBXp8FAwFS4QBJ63kDd88hAGVnXQBMCl0AEbtVAcjXlQOHIoEA+CLRAmNvOQBV1v0AcFKNA12rcQLDc1EC2LKxARIWlQCW8wECP96ZAEDrWQANRmUCWyMpALrHRQO0mw0DRJ6tArUjAQJMYwUDM9c9A9EeRQELKy0DSNNlAnvHkQHTTtEApPOdAF6rNQFlhzkCzLp5A9gLRQL9s00Cn085Ae+ivQG/Xy0DwcbhAdTfHQH3zvUCsSbFAhzrGQDYUyUCEM4dAjacEQab4pkBsLulAJlvMQMDRwECvu8BAXgjIQBkVtkBJzs9AdpquQFKDq0DaatRAxfvCQClbUUDEYaVAtzfbQN/ApkCPlHtB7ZXSQDzrukDadc5AQa95Qbjid0Hw6q9AKvp4QV+QtECT0b9AaCHBQDi51UAz83tB52/cQIHlCUErgLJAyfcKQczKd0H1R3lBvbfJQNf4Y0G44HdBXbTRQLObA0GLSb1A1x93QeN4c0Fwf3JBYllyQenaakFIrnJBM2h4Qc/NdkEaWs1AqB5lQYxqc0FvnXJBKUF6QYn3ZEF7pWRBUSl5QfdPykDm0nZBhQt3QR6ocUESuXFBv4V2QQR0oUAorXFBbPVzQbICc0F4AnNBxZB0QRi83ED7g2VBggu+QCoq2UDuPXVBbytzQZmdc0GJIXNBwp5zQRJjc0EasnNBlPJzQRMpc0EC8nNBEI1zQSyIc0G9eHRBlp90QRSWakFVqApBpwZ0QaGXc0H3u3RBDlRzQQAizEAJUXRBNXx0QQqNS0Do3HNB2gTdQI7R2kBnVnRBYzJ0QZ7Ic0Hi5XNBPxhzQT9Hc0FFA3VBy8t0QTBRdEEHFXNBTrJ0QeACdEHpKZVAaTNpQYOUdEEGIM1AUNLZQELLdkEQhnhBqEN4QWQ2pUBFWnZBLB5lQQ3ld0EW+85ATm55QelsekGLKDNA3Od7Qe9/e0FmWXpB/LJ3QeAye0H/cHdBvme2QDSVZ0BiY3tBrR55Qesxd0HwpnBATjZ3QRvr1UDqM/FAtwNnQEki9EDHN/FAzieyQBlatkCW8NJAHoLKQHPD0EB2j2hBvJ1JQFMJzUBtCNdA4IGLQHcO7EAT24dAa3raQJbK8UAOUe9ADjftQPAJ70DQe/FARp/rQDpbDkF/HYxA9Gi/QJQFy0Att3dB1f/aQN4DZUEombJARuV3QbQ2CkF0EHxBIrLWQIynwUB+drhAHsfEQKnGd0HofHtBvtCzQFexd0FO2HdBCCoLQffWe0HOCelANOe9QOSydECe8d1A3z6yQGp7X0Djur9Aa+aMQAkOj0CnnKpAt5mWQGFIt0DeE85AYEeYQNyGlEBQCapAcNuzQOEItkBJoe9AceZeQPgswkAvlaJAJtG3QOS68UAD0rJAiMSuQIwnqEAv6vNAqjyeQC71gED8MqRAMBfDQP5irkAAgv1AWu3qQDW7t0CPj8dAVWnDQCdD3EDrONRAwcLkQFNpsUAdueNAUz3PQK5LxUCVznpAE9KJQMuCpUC5oNBAq+zTQGohp0DKeYtApLkDQf5/rUC/3WdAhIayQPnBtkANbq9AslvIQEICpUCyaJlAfJ9HQFcQP0CwdpFAnyejQDGZl0DXPopAPb6ZQFSCmUAsjdZAEAJ3QDokdEDNr41ADaB1QC79eEBHwUBAC0g7QIqKyUBdzy5APiAzQAOOWUC9g5BAK7mXQAehREBLwppAUkeKQBqykUD/y5xAc0GpQD9vg0CvVKpAY4iDQFDlNkCml65Alk+QQLkwlEDJ/6NAHTqqQPDIakAKXGtAok8wQNQvzkABvXRAN2J1QG8mkEBUzKpAK4OCQGMW0UBxvghBDjt0QHlxyUBtSKxAYMWfQL0llEBTi5JAc7nDQHS1pUDBa6dAlGeHQMxhlECa6W9AaCJ4QHkemUDzpY1AAr2PQPNL6EAv945AUg+5QG+YrUDUGKlA88+3QGWiZkAixcdANxiDQAuLskB4pqZAUJZpQFILtEBVj71AO7bpQMx/gUDRo7xAa4nHQCvV3EBhKKRAIom9QF9Cr0AXK59AFJt2QEMUq0CCcuJAMUDAQIT8j0BhfrdABJ+oQLLlsUCHYs9A25zEQPKx5EDrtZtA7vCeQOQpuUDzxatANq7ZQO/XrUBLGa5ALWG/QJT4r0CaUoVAE3aWQJNWyUBj4q9AHKePQBKEv0Bxn65Az8PnQDzHnkBFLeJAfG92QV2NeUGOINhAatQLQTPIQEBu43dBvAp4QUH3CUGUhndBpfSCQCrEY0Et1zJATDN6QQqRd0GaDHtB00V5QRRe3kBT4QNBFGEMQfdeCkFNyXZBEfxWQUoBd0HQXnpB8sjLQKO10UC2J3pBo0BlQAjIZkFhgOlAqweiQG5vZEAKw3tB3/pmQPjhj0BtNwxBaEmZQDIA10DmR7lAB/DyQM5YyEAtw2JBP4TMQNfy3kDX+JlAAep5QbQGjkAl15JAWLPjQNPr0kC1qHlBmbU/QKzC6UCi899AWX2nQF28QUABYsRASMiZQBWaq0DmJmZA3I01QKy3kkDeGU5ALrumQEBye0AtOntBpc2pQAANvUCp2qhAbC2jQDaB5UCa6DlA+0mcQCyQ4ECyCnVBajGoQLxbpUC59IVAxDmWQPhW4UDU949AaaO1QMlLx0Ci7NxAPmupQLPLwUAVyYZAPFbdQPgG2EDrYuVA0nyOQH7+v0De1cJAHWx7QGiIlkCDL6BAR6K3QAQJQEDZQZhAh7WbQAyv7UClHQpBUUR0QdwAdEF00sBAlHRzQb5MZkFeVWFBI8mtQO2ldEEfVatAZtRzQRhaX0CiqG5BeeebQDhnc0HEUHNBLBPZQAr8u0B2M3RBjRh1QSgZzECSDL9AlmKaQOMjsEATwHpBVhR5QS/uZEFX4MFAIKd3QRnaeEFKmXdBwHfuQDPCd0GuPXdBVax5QRvoeEGwg3pBYHLnQDMmeEE9KXlBDxd4Qa6/dkEOZGVBCOF0QdvIY0GRFHpBhfl2QVXAeEHX1ndBkyh3QRJ1e0G6p3hBbxh6Qe/LdkFrYGRBxbV2QbnFAkEn8ctAWKh3QQXedkEzrHtB9814QYsGe0FLu3lBLKB5Qct3eUFxgb5AAYJ6QVb6AkHHo3lBAjt4QX0Yd0FzymdB9pl5QeGs8ECFoHNB8I/SQJwad0FPkNBA8ZnaQMLv+UDNHGRBTmx7Qb/N8EAJ4HJBimN0QcZi/kAFf/FA+4d0QT0KekG4EHFBB2BzQS0QeEEpvHpBFXTgQMJB20B62nNBZ/HuQEBzckGOrQVBDn39QGa47UBhqnZBGyuWQD9E9EAnGOlAzBHvQIxucUG17dNARpLxQNpqckHyJPRAAZLfQGM/dEEJgtlAQ41iQYde6EAlUnRBYGt0QaEh9UB2CXJBrBN4QBO68UAnpXNBjZJzQeG+70DP2/ZAA+IHQUHE50DI8XRBqeftQEtMdEE9ztNAdnrzQPuddEGUe3RBAkliQXwbdUEHDHRBUv9zQdn8dEG+I7tAtwhwQeJD40CW0XJBkjvIQBjaCUFNEnRB6bHwQJkryEBXR8ZAgUfJQJ8OxEC/6J9A+6XHQO1XxEBFI89AfuTDQGnMx0AUntNAUEi0QFvdyEDATeVA7qDTQGpGyUDxd/tAWtLGQApXzEC1JaBAz1bMQDfqy0BeS+hA+57DQBH2z0B5fMZApM29QGrnr0CRLZdA55ahQAMNh0BnE7JAKAi0QEAbp0DTocFArBjHQEVBx0C6xcVABfTSQJSYn0CfxadAIzPAQKVap0BCSbhA5lKxQFEtiEAFgcVAQAa6QOmpsEAHtr5AzrurQMi5sUDJAM9ATnqaQAw7tkA9zINAtsetQKr/nEAqT85A6HqbQLdnrkBaYLFA3amvQCCXsUBmwb5A4XW7QDLvo0DAmrpAlGuGQBtOhUAjmuJA68GkQIZEo0CwOLhAre63QFisqEAgiIlAu8jGQOeOv0BLWqJAwmOTQNOrx0ALFINAehnGQCJ1iUCWtbJAhvvYQKNYzkCZfa5A94u4QDp21UDKAs1AhbjWQHrhxEAhELZAXoFhQP/LtEDAGsFAoSO+QNK0rUDC55ZAnkrbQHtrp0A0xaVA5WiHQMp43EDnML5ALLO/QLdJnUCOscRAXi2FQOpSwEBQsptASOCHQL0swkCPlJ1ABYG5QG1Bx0Dq34JAn+2iQFmc20Con8BA2U7LQDWUokB40KBAAtWxQHpM2EB/bs9AUJdkQM6cu0A99bNANVLTQKcC90Cj4pxAgBIOQekK9kDxAAdBkqzCQC5j6UBsLOhAddLSQLAxz0B2loJAqGqVQHJbrUBYFOlAtfG4QGWP0kB5l4JAUQy4QMEMp0CeANFAPPR+QE7hwEAroPtAtCHlQLQ/q0BxivBAGKn+QCPIokB9jaFAdEHuQGbZ2kBybLNAzWLrQHSPuUBD3GFAbufsQKcTrUDBwNpAUmmNQIjbDEGJnNlAMk7MQA063UDQHqRAjG+NQFc8ikA/mApBNiyNQG2F/0CsurVAGOjGQHO1gUA1bq9AeQrjQA3pA0H5ApdAGUbUQO+WsUAK+HNAwiGxQPOMx0AyaHxAv7S4QOz/60BKQKdALNHBQJcmAEGu6rNASav5QEjffEB0PX9AyDmIQIkZoEDJFOpAMN4IQbmLrECwZAZBzzqnQAtcqUBxVvtAL5MJQVX8/0DIa4xAVUuNQE0l6EBVgedAfn/FQGYSxEAzWb9AUZgLQXQcm0DZewNBhDh/QEPVD0FQmdpAXh+TQE+EC0EQ05pASpADQVtv+EBpfblAtku6QL1hj0AhF8ZA3+OfQCDEnUAyxqFA4seiQDU7aUBeNwZBEQWeQC2nk0CJSo9AImz2QIvxg0DUA2FA780BQUT/oUATN7VAdaPIQOTvu0AVLYVATF+2QO1ju0AecMRADe+1QJgJzkCul4ZAPenMQIIwrkCpftxA8kXMQElknECgcbJAfRa5QE+UtkBdKc5AGsCtQCFUqUBhP7ZAPOSiQBWtskDAvn5A8ve4QLUYv0CPSOZAPuDWQPEcs0Co/JFAzELLQJSod0Cj085AJoHZQJ9ltUAnXpJAKaCzQHDqn0BMPPVAW5ymQChDs0Akr6ZA00mtQDlr20Cw6OpAcmLTQA+auUDYW6ZAOem2QOtguEAjG6VAr37TQIc0gUA6bZVAFjt3QP2st0Bkss1AvMkEQWiSm0C1Z7RANj3JQFJmoUBnPs1A35eCQFyyvkBDN9FAB+F6QECBoEDv6p1AE/mpQI2YqEC9x51AJiu0QD9ghkCDW61AJeucQOB8okCG+pxAGJamQF+dmUDTWLJAj2jsQE0b60AGF6ZACASnQDOw4UCxFJxAl9ifQN6BgUC33adAX2uEQFgyq0DvdplABAmjQLHtckAEW59A1afOQHNZoUBm94JAnXmlQMlAmUC9RLRAZD2pQEDeoUCMPJpAYr+WQP+3mUAnVaNAfPWtQLf76kBlgeFAQ52TQIx67UC1Aq5AM0KFQGX6qkCJ3bNAD5+2QC5t0kB/F6VAzzyrQGsWqEBmPp5A/8ymQG7abkBzbp9A8XKlQAZf7EDLyaNAcHXiQPFR8kCqkKhASubtQNRwbEDzsU5AhZxiQGDRcUA0tY1Au2a1QDfSt0AxiqlA+suDQNLcCUFvPWpByQ1yQPky6kDMOOVACGRcQErefkC0MdtANtC0QPvRlUAR/89A8d2hQHEpDkGx65FA3o6bQHX4tECnO51A+RecQM+mk0DL5J9AG6GcQAC0sUCPSphAQgCeQFuR6EAJU95APPjBQHPKtkBt5Z5AOXO/QD621kAxUoBA8JCtQMLn50BVGvBAHBmfQA7o2kDpTOBAdYvGQCbe1kAJwGdAAmGxQAYDwEC7QdBAlsCnQKwg0EDSVq1AgIKaQJSykUBEQvZAkPmOQL/vkECfaJ5AoRKkQJtGxUA9fLdAbnkCQaDHz0CcXN1AY8m1QED92kCeYoJAn5GxQGjX2UD/oJhA1v2fQI+54kD7odFAIeHDQAMa5ECVRqRAOZyxQBWBnkCBDmpAt4KQQPHHqUB4oJBAtfncQJ7w8ED08eVAJHNDQF3Ey0C2G/RAyMPNQDah2UD879VAKKnLQLT/sEAng8dAC3K0QJC33EBHrrJAocPtQM+M1EDLULpAabzSQHZBjUBcCthAx5+9QIBzpEAX3sRAi8ixQBApxkDlmMdALKCbQMg7iECy67FAUQyYQFpUvUBypdxAUBTQQPh5+kARL9RAYqt3QYRy1kDEDNJAtYDZQE+rdUG9ynRB5gvjQOo3+UAdLrtAQ6bcQB9I4ECEFt5ACCXSQElMt0AVUNRAf1XYQIFEyECJrrJAvi/CQGUR10CV68pAboG4QFSllUDAHaZA2HX5QJ82vkCl5J1A6riOQOLF0UB+jP1ACM7CQPd0YECQOLVAyrmnQBE+v0A0TN1A1DTSQBo/uECaIQpBqmK8QKF6q0B2LK1A6vfaQN6A4EALFt1AFeHgQA7y00AhNrNA/Ry3QKqm1EAluZRAv2fXQNO9vkDA+MZACTHDQLwWukCC+spA/ZNeQDN05kDANNJA9sKDQGSdnkBYIWNA6HSEQPlZzkAoQYVAYiCKQPP3ZkB3Fs1AY+ylQIxv30CzaJlAgSOuQKovuUCGpmtAeI7HQEJ+oUAvvqlADwSPQEJwwkDCi8pAIMSgQCCvaEDnTNlAuEDXQHcC5EC8K89ANZ7BQCPJZ0BF899AoQLhQN8qfECuU5hAyMTKQA95w0Cykw1BzqLcQBsCqkAQPN9AzXTnQKxQvkB9D6tAihi1QEw37UDSjI1ApX/1QAPD2kC1Us1ABKGLQA5D90CQkbRA0VyXQOmj2UD6KMVA28bJQHrx1kDanfpAZRiaQASGCUF54dZA1mfSQNxlxkDnhOJA8nCxQId/0EByVs9AtyTEQARAtEC0htlAPYzKQCSq5UCAfd9AYRWZQKASo0CZy8tAVWGSQDzXkECQp55AFDfyQP+A1EDl2Z5ApWLPQJBHwUCtcQpBEEPRQJ0e10BvTNVAfczYQAWXokBREMVAsurVQMBwXEAQuNBAjRLJQBDhuUBfsr9A9TLXQLNBmUBaCLtAzArMQFrDikB4m+RAGk/HQDI35UBndclALZLMQPPZ00BZNcJAv/vCQCyUukD6Z49AoK6wQD3vlEC3fdtA6QfYQPVf7kD+065AC7SNQDTq0UDXRrZAFkeaQCZKt0AcLrBA6s3LQFIGyEAWLbhA+rSzQJOd30BIw9hA2rrAQCr4skBebMhARzahQBtbskBCyNlAO46dQHsM1EDhwuVA7kXVQIMgzkD8/wpBv9niQDHi4UCnsdZAUDDdQK1l9kAJgsxAWrzGQAI610CT7LBAelrvQD/z20CeIa1ABsegQPEE1kCOQ+pALZvaQJP+z0AfO9BA3ErZQAIE+EA6AMxAn2jHQNZO3kCa29ZA7YnaQBWI5EBvFOJAQnnHQDf00UAps+dAXvveQN+E0EDfZNJANDDbQEjP4UAFg8xAH+DpQPHH1UCyRdhA8ubYQJ+I4UCuY+5AUVrUQKbs70BMRsdAYN7SQKq92EAl6exATvTmQAzA3kBk09pAJt/eQJ5y5EBRdN9Ai+vLQKW96EA07vJAxS7gQP7n6kBNOe1AoYwGQXkQqUDNIc9AgX7DQOIr9kByEf9AeW61QFyQ5kBcWwBBOcLnQJrk60C7AwBBZTEKQeex/UBMEQJBjZcBQYK990D+JwhBhHH1QDoH20CIyv9AY/DYQBEB7EAaMgJBcTsCQaWCAUGYbARBkUPSQPoixkD3aZpAIFUCQYMPskB/bdlAO5vJQI2xv0DyfwtBIw0EQVMU50Ba7t1AmPanQEf4DUGjrQhBGwQFQV/ly0A0oc1AEZPjQFJzxUC+VAdBDOMBQW01+EADYwlBOyXhQEadzUDX7/9AQTwHQa1sukB9VwlBe+7qQA==",
          "dtype": "f4"
         },
         "xaxis": "x3",
         "yaxis": "y3"
        },
        {
         "alignmentgroup": "True",
         "hovertemplate": "Metadata_Plate=BR00145438<br>umap1=%{y}<extra></extra>",
         "legendgroup": "BR00145438",
         "marker": {
          "color": "#ffffb2",
          "symbol": "circle"
         },
         "name": "BR00145438",
         "offsetgroup": "BR00145438",
         "scalegroup": "y",
         "showlegend": false,
         "type": "violin",
         "xaxis": "x2",
         "y": {
          "bdata": "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",
          "dtype": "f4"
         },
         "yaxis": "y2"
        },
        {
         "hovertemplate": "Metadata_Plate=BR00145439<br>umap0=%{x}<br>umap1=%{y}<extra></extra>",
         "legendgroup": "BR00145439",
         "marker": {
          "color": "#fed976",
          "symbol": "circle"
         },
         "mode": "markers",
         "name": "BR00145439",
         "showlegend": true,
         "type": "scattergl",
         "x": {
          "bdata": "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",
          "dtype": "f4"
         },
         "xaxis": "x",
         "y": {
          "bdata": "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",
          "dtype": "f4"
         },
         "yaxis": "y"
        },
        {
         "alignmentgroup": "True",
         "hovertemplate": "Metadata_Plate=BR00145439<br>umap0=%{x}<extra></extra>",
         "legendgroup": "BR00145439",
         "marker": {
          "color": "#fed976",
          "symbol": "circle"
         },
         "name": "BR00145439",
         "offsetgroup": "BR00145439",
         "scalegroup": "x",
         "showlegend": false,
         "type": "violin",
         "x": {
          "bdata": "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",
          "dtype": "f4"
         },
         "xaxis": "x3",
         "yaxis": "y3"
        },
        {
         "alignmentgroup": "True",
         "hovertemplate": "Metadata_Plate=BR00145439<br>umap1=%{y}<extra></extra>",
         "legendgroup": "BR00145439",
         "marker": {
          "color": "#fed976",
          "symbol": "circle"
         },
         "name": "BR00145439",
         "offsetgroup": "BR00145439",
         "scalegroup": "y",
         "showlegend": false,
         "type": "violin",
         "xaxis": "x2",
         "y": {
          "bdata": "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",
          "dtype": "f4"
         },
         "yaxis": "y2"
        },
        {
         "hovertemplate": "Metadata_Plate=BR00145440<br>umap0=%{x}<br>umap1=%{y}<extra></extra>",
         "legendgroup": "BR00145440",
         "marker": {
          "color": "#feb24c",
          "symbol": "circle"
         },
         "mode": "markers",
         "name": "BR00145440",
         "showlegend": true,
         "type": "scattergl",
         "x": {
          "bdata": "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",
          "dtype": "f4"
         },
         "xaxis": "x",
         "y": {
          "bdata": "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",
          "dtype": "f4"
         },
         "yaxis": "y"
        },
        {
         "alignmentgroup": "True",
         "hovertemplate": "Metadata_Plate=BR00145440<br>umap0=%{x}<extra></extra>",
         "legendgroup": "BR00145440",
         "marker": {
          "color": "#feb24c",
          "symbol": "circle"
         },
         "name": "BR00145440",
         "offsetgroup": "BR00145440",
         "scalegroup": "x",
         "showlegend": false,
         "type": "violin",
         "x": {
          "bdata": "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",
          "dtype": "f4"
         },
         "xaxis": "x3",
         "yaxis": "y3"
        },
        {
         "alignmentgroup": "True",
         "hovertemplate": "Metadata_Plate=BR00145440<br>umap1=%{y}<extra></extra>",
         "legendgroup": "BR00145440",
         "marker": {
          "color": "#feb24c",
          "symbol": "circle"
         },
         "name": "BR00145440",
         "offsetgroup": "BR00145440",
         "scalegroup": "y",
         "showlegend": false,
         "type": "violin",
         "xaxis": "x2",
         "y": {
          "bdata": "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",
          "dtype": "f4"
         },
         "yaxis": "y2"
        },
        {
         "hovertemplate": "Metadata_Plate=BR00145816<br>umap0=%{x}<br>umap1=%{y}<extra></extra>",
         "legendgroup": "BR00145816",
         "marker": {
          "color": "#fd8d3c",
          "symbol": "circle"
         },
         "mode": "markers",
         "name": "BR00145816",
         "showlegend": true,
         "type": "scattergl",
         "x": {
          "bdata": "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",
          "dtype": "f4"
         },
         "xaxis": "x",
         "y": {
          "bdata": "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",
          "dtype": "f4"
         },
         "yaxis": "y"
        },
        {
         "alignmentgroup": "True",
         "hovertemplate": "Metadata_Plate=BR00145816<br>umap0=%{x}<extra></extra>",
         "legendgroup": "BR00145816",
         "marker": {
          "color": "#fd8d3c",
          "symbol": "circle"
         },
         "name": "BR00145816",
         "offsetgroup": "BR00145816",
         "scalegroup": "x",
         "showlegend": false,
         "type": "violin",
         "x": {
          "bdata": "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",
          "dtype": "f4"
         },
         "xaxis": "x3",
         "yaxis": "y3"
        },
        {
         "alignmentgroup": "True",
         "hovertemplate": "Metadata_Plate=BR00145816<br>umap1=%{y}<extra></extra>",
         "legendgroup": "BR00145816",
         "marker": {
          "color": "#fd8d3c",
          "symbol": "circle"
         },
         "name": "BR00145816",
         "offsetgroup": "BR00145816",
         "scalegroup": "y",
         "showlegend": false,
         "type": "violin",
         "xaxis": "x2",
         "y": {
          "bdata": "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",
          "dtype": "f4"
         },
         "yaxis": "y2"
        },
        {
         "hovertemplate": "Metadata_Plate=BR00145817<br>umap0=%{x}<br>umap1=%{y}<extra></extra>",
         "legendgroup": "BR00145817",
         "marker": {
          "color": "#f03b20",
          "symbol": "circle"
         },
         "mode": "markers",
         "name": "BR00145817",
         "showlegend": true,
         "type": "scattergl",
         "x": {
          "bdata": "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",
          "dtype": "f4"
         },
         "xaxis": "x",
         "y": {
          "bdata": "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",
          "dtype": "f4"
         },
         "yaxis": "y"
        },
        {
         "alignmentgroup": "True",
         "hovertemplate": "Metadata_Plate=BR00145817<br>umap0=%{x}<extra></extra>",
         "legendgroup": "BR00145817",
         "marker": {
          "color": "#f03b20",
          "symbol": "circle"
         },
         "name": "BR00145817",
         "offsetgroup": "BR00145817",
         "scalegroup": "x",
         "showlegend": false,
         "type": "violin",
         "x": {
          "bdata": "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",
          "dtype": "f4"
         },
         "xaxis": "x3",
         "yaxis": "y3"
        },
        {
         "alignmentgroup": "True",
         "hovertemplate": "Metadata_Plate=BR00145817<br>umap1=%{y}<extra></extra>",
         "legendgroup": "BR00145817",
         "marker": {
          "color": "#f03b20",
          "symbol": "circle"
         },
         "name": "BR00145817",
         "offsetgroup": "BR00145817",
         "scalegroup": "y",
         "showlegend": false,
         "type": "violin",
         "xaxis": "x2",
         "y": {
          "bdata": "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",
          "dtype": "f4"
         },
         "yaxis": "y2"
        },
        {
         "hovertemplate": "Metadata_Plate=BR00145818<br>umap0=%{x}<br>umap1=%{y}<extra></extra>",
         "legendgroup": "BR00145818",
         "marker": {
          "color": "#bd0026",
          "symbol": "circle"
         },
         "mode": "markers",
         "name": "BR00145818",
         "showlegend": true,
         "type": "scattergl",
         "x": {
          "bdata": "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",
          "dtype": "f4"
         },
         "xaxis": "x",
         "y": {
          "bdata": "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",
          "dtype": "f4"
         },
         "yaxis": "y"
        },
        {
         "alignmentgroup": "True",
         "hovertemplate": "Metadata_Plate=BR00145818<br>umap0=%{x}<extra></extra>",
         "legendgroup": "BR00145818",
         "marker": {
          "color": "#bd0026",
          "symbol": "circle"
         },
         "name": "BR00145818",
         "offsetgroup": "BR00145818",
         "scalegroup": "x",
         "showlegend": false,
         "type": "violin",
         "x": {
          "bdata": "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",
          "dtype": "f4"
         },
         "xaxis": "x3",
         "yaxis": "y3"
        },
        {
         "alignmentgroup": "True",
         "hovertemplate": "Metadata_Plate=BR00145818<br>umap1=%{y}<extra></extra>",
         "legendgroup": "BR00145818",
         "marker": {
          "color": "#bd0026",
          "symbol": "circle"
         },
         "name": "BR00145818",
         "offsetgroup": "BR00145818",
         "scalegroup": "y",
         "showlegend": false,
         "type": "violin",
         "xaxis": "x2",
         "y": {
          "bdata": "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",
          "dtype": "f4"
         },
         "yaxis": "y2"
        }
       ],
       "layout": {
        "font": {
         "color": "black",
         "size": 22
        },
        "legend": {
         "font": {
          "size": 20
         },
         "title": {
          "text": "Metadata_Plate"
         },
         "tracegroupgap": 0
        },
        "template": {
         "data": {
          "bar": [
           {
            "error_x": {
             "color": "#2a3f5f"
            },
            "error_y": {
             "color": "#2a3f5f"
            },
            "marker": {
             "line": {
              "color": "#E5ECF6",
              "width": 0.5
             },
             "pattern": {
              "fillmode": "overlay",
              "size": 10,
              "solidity": 0.2
             }
            },
            "type": "bar"
           }
          ],
          "barpolar": [
           {
            "marker": {
             "line": {
              "color": "#E5ECF6",
              "width": 0.5
             },
             "pattern": {
              "fillmode": "overlay",
              "size": 10,
              "solidity": 0.2
             }
            },
            "type": "barpolar"
           }
          ],
          "carpet": [
           {
            "aaxis": {
             "endlinecolor": "#2a3f5f",
             "gridcolor": "white",
             "linecolor": "white",
             "minorgridcolor": "white",
             "startlinecolor": "#2a3f5f"
            },
            "baxis": {
             "endlinecolor": "#2a3f5f",
             "gridcolor": "white",
             "linecolor": "white",
             "minorgridcolor": "white",
             "startlinecolor": "#2a3f5f"
            },
            "type": "carpet"
           }
          ],
          "choropleth": [
           {
            "colorbar": {
             "outlinewidth": 0,
             "ticks": ""
            },
            "type": "choropleth"
           }
          ],
          "contour": [
           {
            "colorbar": {
             "outlinewidth": 0,
             "ticks": ""
            },
            "colorscale": [
             [
              0.0,
              "#0d0887"
             ],
             [
              0.1111111111111111,
              "#46039f"
             ],
             [
              0.2222222222222222,
              "#7201a8"
             ],
             [
              0.3333333333333333,
              "#9c179e"
             ],
             [
              0.4444444444444444,
              "#bd3786"
             ],
             [
              0.5555555555555556,
              "#d8576b"
             ],
             [
              0.6666666666666666,
              "#ed7953"
             ],
             [
              0.7777777777777778,
              "#fb9f3a"
             ],
             [
              0.8888888888888888,
              "#fdca26"
             ],
             [
              1.0,
              "#f0f921"
             ]
            ],
            "type": "contour"
           }
          ],
          "contourcarpet": [
           {
            "colorbar": {
             "outlinewidth": 0,
             "ticks": ""
            },
            "type": "contourcarpet"
           }
          ],
          "heatmap": [
           {
            "colorbar": {
             "outlinewidth": 0,
             "ticks": ""
            },
            "colorscale": [
             [
              0.0,
              "#0d0887"
             ],
             [
              0.1111111111111111,
              "#46039f"
             ],
             [
              0.2222222222222222,
              "#7201a8"
             ],
             [
              0.3333333333333333,
              "#9c179e"
             ],
             [
              0.4444444444444444,
              "#bd3786"
             ],
             [
              0.5555555555555556,
              "#d8576b"
             ],
             [
              0.6666666666666666,
              "#ed7953"
             ],
             [
              0.7777777777777778,
              "#fb9f3a"
             ],
             [
              0.8888888888888888,
              "#fdca26"
             ],
             [
              1.0,
              "#f0f921"
             ]
            ],
            "type": "heatmap"
           }
          ],
          "histogram": [
           {
            "marker": {
             "pattern": {
              "fillmode": "overlay",
              "size": 10,
              "solidity": 0.2
             }
            },
            "type": "histogram"
           }
          ],
          "histogram2d": [
           {
            "colorbar": {
             "outlinewidth": 0,
             "ticks": ""
            },
            "colorscale": [
             [
              0.0,
              "#0d0887"
             ],
             [
              0.1111111111111111,
              "#46039f"
             ],
             [
              0.2222222222222222,
              "#7201a8"
             ],
             [
              0.3333333333333333,
              "#9c179e"
             ],
             [
              0.4444444444444444,
              "#bd3786"
             ],
             [
              0.5555555555555556,
              "#d8576b"
             ],
             [
              0.6666666666666666,
              "#ed7953"
             ],
             [
              0.7777777777777778,
              "#fb9f3a"
             ],
             [
              0.8888888888888888,
              "#fdca26"
             ],
             [
              1.0,
              "#f0f921"
             ]
            ],
            "type": "histogram2d"
           }
          ],
          "histogram2dcontour": [
           {
            "colorbar": {
             "outlinewidth": 0,
             "ticks": ""
            },
            "colorscale": [
             [
              0.0,
              "#0d0887"
             ],
             [
              0.1111111111111111,
              "#46039f"
             ],
             [
              0.2222222222222222,
              "#7201a8"
             ],
             [
              0.3333333333333333,
              "#9c179e"
             ],
             [
              0.4444444444444444,
              "#bd3786"
             ],
             [
              0.5555555555555556,
              "#d8576b"
             ],
             [
              0.6666666666666666,
              "#ed7953"
             ],
             [
              0.7777777777777778,
              "#fb9f3a"
             ],
             [
              0.8888888888888888,
              "#fdca26"
             ],
             [
              1.0,
              "#f0f921"
             ]
            ],
            "type": "histogram2dcontour"
           }
          ],
          "mesh3d": [
           {
            "colorbar": {
             "outlinewidth": 0,
             "ticks": ""
            },
            "type": "mesh3d"
           }
          ],
          "parcoords": [
           {
            "line": {
             "colorbar": {
              "outlinewidth": 0,
              "ticks": ""
             }
            },
            "type": "parcoords"
           }
          ],
          "pie": [
           {
            "automargin": true,
            "type": "pie"
           }
          ],
          "scatter": [
           {
            "fillpattern": {
             "fillmode": "overlay",
             "size": 10,
             "solidity": 0.2
            },
            "type": "scatter"
           }
          ],
          "scatter3d": [
           {
            "line": {
             "colorbar": {
              "outlinewidth": 0,
              "ticks": ""
             }
            },
            "marker": {
             "colorbar": {
              "outlinewidth": 0,
              "ticks": ""
             }
            },
            "type": "scatter3d"
           }
          ],
          "scattercarpet": [
           {
            "marker": {
             "colorbar": {
              "outlinewidth": 0,
              "ticks": ""
             }
            },
            "type": "scattercarpet"
           }
          ],
          "scattergeo": [
           {
            "marker": {
             "colorbar": {
              "outlinewidth": 0,
              "ticks": ""
             }
            },
            "type": "scattergeo"
           }
          ],
          "scattergl": [
           {
            "marker": {
             "colorbar": {
              "outlinewidth": 0,
              "ticks": ""
             }
            },
            "type": "scattergl"
           }
          ],
          "scattermap": [
           {
            "marker": {
             "colorbar": {
              "outlinewidth": 0,
              "ticks": ""
             }
            },
            "type": "scattermap"
           }
          ],
          "scattermapbox": [
           {
            "marker": {
             "colorbar": {
              "outlinewidth": 0,
              "ticks": ""
             }
            },
            "type": "scattermapbox"
           }
          ],
          "scatterpolar": [
           {
            "marker": {
             "colorbar": {
              "outlinewidth": 0,
              "ticks": ""
             }
            },
            "type": "scatterpolar"
           }
          ],
          "scatterpolargl": [
           {
            "marker": {
             "colorbar": {
              "outlinewidth": 0,
              "ticks": ""
             }
            },
            "type": "scatterpolargl"
           }
          ],
          "scatterternary": [
           {
            "marker": {
             "colorbar": {
              "outlinewidth": 0,
              "ticks": ""
             }
            },
            "type": "scatterternary"
           }
          ],
          "surface": [
           {
            "colorbar": {
             "outlinewidth": 0,
             "ticks": ""
            },
            "colorscale": [
             [
              0.0,
              "#0d0887"
             ],
             [
              0.1111111111111111,
              "#46039f"
             ],
             [
              0.2222222222222222,
              "#7201a8"
             ],
             [
              0.3333333333333333,
              "#9c179e"
             ],
             [
              0.4444444444444444,
              "#bd3786"
             ],
             [
              0.5555555555555556,
              "#d8576b"
             ],
             [
              0.6666666666666666,
              "#ed7953"
             ],
             [
              0.7777777777777778,
              "#fb9f3a"
             ],
             [
              0.8888888888888888,
              "#fdca26"
             ],
             [
              1.0,
              "#f0f921"
             ]
            ],
            "type": "surface"
           }
          ],
          "table": [
           {
            "cells": {
             "fill": {
              "color": "#EBF0F8"
             },
             "line": {
              "color": "white"
             }
            },
            "header": {
             "fill": {
              "color": "#C8D4E3"
             },
             "line": {
              "color": "white"
             }
            },
            "type": "table"
           }
          ]
         },
         "layout": {
          "annotationdefaults": {
           "arrowcolor": "#2a3f5f",
           "arrowhead": 0,
           "arrowwidth": 1
          },
          "autotypenumbers": "strict",
          "coloraxis": {
           "colorbar": {
            "outlinewidth": 0,
            "ticks": ""
           }
          },
          "colorscale": {
           "diverging": [
            [
             0,
             "#8e0152"
            ],
            [
             0.1,
             "#c51b7d"
            ],
            [
             0.2,
             "#de77ae"
            ],
            [
             0.3,
             "#f1b6da"
            ],
            [
             0.4,
             "#fde0ef"
            ],
            [
             0.5,
             "#f7f7f7"
            ],
            [
             0.6,
             "#e6f5d0"
            ],
            [
             0.7,
             "#b8e186"
            ],
            [
             0.8,
             "#7fbc41"
            ],
            [
             0.9,
             "#4d9221"
            ],
            [
             1,
             "#276419"
            ]
           ],
           "sequential": [
            [
             0.0,
             "#0d0887"
            ],
            [
             0.1111111111111111,
             "#46039f"
            ],
            [
             0.2222222222222222,
             "#7201a8"
            ],
            [
             0.3333333333333333,
             "#9c179e"
            ],
            [
             0.4444444444444444,
             "#bd3786"
            ],
            [
             0.5555555555555556,
             "#d8576b"
            ],
            [
             0.6666666666666666,
             "#ed7953"
            ],
            [
             0.7777777777777778,
             "#fb9f3a"
            ],
            [
             0.8888888888888888,
             "#fdca26"
            ],
            [
             1.0,
             "#f0f921"
            ]
           ],
           "sequentialminus": [
            [
             0.0,
             "#0d0887"
            ],
            [
             0.1111111111111111,
             "#46039f"
            ],
            [
             0.2222222222222222,
             "#7201a8"
            ],
            [
             0.3333333333333333,
             "#9c179e"
            ],
            [
             0.4444444444444444,
             "#bd3786"
            ],
            [
             0.5555555555555556,
             "#d8576b"
            ],
            [
             0.6666666666666666,
             "#ed7953"
            ],
            [
             0.7777777777777778,
             "#fb9f3a"
            ],
            [
             0.8888888888888888,
             "#fdca26"
            ],
            [
             1.0,
             "#f0f921"
            ]
           ]
          },
          "colorway": [
           "#636efa",
           "#EF553B",
           "#00cc96",
           "#ab63fa",
           "#FFA15A",
           "#19d3f3",
           "#FF6692",
           "#B6E880",
           "#FF97FF",
           "#FECB52"
          ],
          "font": {
           "color": "#2a3f5f"
          },
          "geo": {
           "bgcolor": "white",
           "lakecolor": "white",
           "landcolor": "#E5ECF6",
           "showlakes": true,
           "showland": true,
           "subunitcolor": "white"
          },
          "hoverlabel": {
           "align": "left"
          },
          "hovermode": "closest",
          "mapbox": {
           "style": "light"
          },
          "paper_bgcolor": "white",
          "plot_bgcolor": "#E5ECF6",
          "polar": {
           "angularaxis": {
            "gridcolor": "white",
            "linecolor": "white",
            "ticks": ""
           },
           "bgcolor": "#E5ECF6",
           "radialaxis": {
            "gridcolor": "white",
            "linecolor": "white",
            "ticks": ""
           }
          },
          "scene": {
           "xaxis": {
            "backgroundcolor": "#E5ECF6",
            "gridcolor": "white",
            "gridwidth": 2,
            "linecolor": "white",
            "showbackground": true,
            "ticks": "",
            "zerolinecolor": "white"
           },
           "yaxis": {
            "backgroundcolor": "#E5ECF6",
            "gridcolor": "white",
            "gridwidth": 2,
            "linecolor": "white",
            "showbackground": true,
            "ticks": "",
            "zerolinecolor": "white"
           },
           "zaxis": {
            "backgroundcolor": "#E5ECF6",
            "gridcolor": "white",
            "gridwidth": 2,
            "linecolor": "white",
            "showbackground": true,
            "ticks": "",
            "zerolinecolor": "white"
           }
          },
          "shapedefaults": {
           "line": {
            "color": "#2a3f5f"
           }
          },
          "ternary": {
           "aaxis": {
            "gridcolor": "white",
            "linecolor": "white",
            "ticks": ""
           },
           "baxis": {
            "gridcolor": "white",
            "linecolor": "white",
            "ticks": ""
           },
           "bgcolor": "#E5ECF6",
           "caxis": {
            "gridcolor": "white",
            "linecolor": "white",
            "ticks": ""
           }
          },
          "title": {
           "x": 0.05
          },
          "xaxis": {
           "automargin": true,
           "gridcolor": "white",
           "linecolor": "white",
           "ticks": "",
           "title": {
            "standoff": 15
           },
           "zerolinecolor": "white",
           "zerolinewidth": 2
          },
          "yaxis": {
           "automargin": true,
           "gridcolor": "white",
           "linecolor": "white",
           "ticks": "",
           "title": {
            "standoff": 15
           },
           "zerolinecolor": "white",
           "zerolinewidth": 2
          }
         }
        },
        "title": {
         "text": "UMAP by Plate"
        },
        "xaxis": {
         "anchor": "y",
         "domain": [
          0.0,
          0.7363
         ],
         "tickfont": {
          "size": 16
         },
         "title": {
          "font": {
           "size": 20
          },
          "text": "umap0"
         }
        },
        "xaxis2": {
         "anchor": "y2",
         "domain": [
          0.7413,
          1.0
         ],
         "matches": "x2",
         "showgrid": false,
         "showline": false,
         "showticklabels": false,
         "ticks": ""
        },
        "xaxis3": {
         "anchor": "y3",
         "domain": [
          0.0,
          0.7363
         ],
         "matches": "x",
         "showgrid": true,
         "showticklabels": false
        },
        "xaxis4": {
         "anchor": "y4",
         "domain": [
          0.7413,
          1.0
         ],
         "matches": "x2",
         "showgrid": false,
         "showline": false,
         "showticklabels": false,
         "ticks": ""
        },
        "yaxis": {
         "anchor": "x",
         "domain": [
          0.0,
          0.7326
         ],
         "tickfont": {
          "size": 16
         },
         "title": {
          "font": {
           "size": 20
          },
          "text": "umap1"
         }
        },
        "yaxis2": {
         "anchor": "x2",
         "domain": [
          0.0,
          0.7326
         ],
         "matches": "y",
         "showgrid": true,
         "showticklabels": false
        },
        "yaxis3": {
         "anchor": "x3",
         "domain": [
          0.7426,
          1.0
         ],
         "matches": "y3",
         "showgrid": false,
         "showline": false,
         "showticklabels": false,
         "ticks": ""
        },
        "yaxis4": {
         "anchor": "x4",
         "domain": [
          0.7426,
          1.0
         ],
         "matches": "y3",
         "showgrid": true,
         "showline": false,
         "showticklabels": false,
         "ticks": ""
        }
       }
      }
     },
     "metadata": {},
     "output_type": "display_data"
    }
   ],
   "source": [
    "red_yellow_colors = [\"#ffffb2\", \"#fed976\", \"#feb24c\", \"#fd8d3c\", \"#f03b20\", \"#bd0026\"]\n",
    "\n",
    "fig = px.scatter(\n",
    "    umapdf,\n",
    "    x=\"umap0\",\n",
    "    y=\"umap1\",\n",
    "    color=\"Metadata_Plate\",\n",
    "    title=\"UMAP by Plate\",\n",
    "    color_discrete_sequence=red_yellow_colors,\n",
    "    marginal_x=\"violin\",\n",
    "    marginal_y=\"violin\",\n",
    ")\n",
    "\n",
    "fig.update_layout(\n",
    "    font=dict(size=22, color=\"black\"),\n",
    "    legend=dict(font=dict(size=20)),\n",
    "    xaxis=dict(\n",
    "        title_font=dict(size=20),\n",
    "        tickfont=dict(size=16),\n",
    "    ),\n",
    "    yaxis=dict(\n",
    "        title_font=dict(size=20),\n",
    "        tickfont=dict(size=16),\n",
    "    ),\n",
    ")\n",
    "\n",
    "fig.show()\n",
    "fig.write_image(static_figure_path / \"round1_plate_umap.png\", width=2000, height=1200)\n",
    "fig.write_html(\n",
    "    int_figure_path / \"round1_plate_umap.html\",\n",
    "    full_html=True,\n",
    "    include_plotlyjs=\"embed\",\n",
    ")"
   ]
  },
  {
   "cell_type": "code",
   "execution_count": 18,
   "metadata": {
    "execution": {
     "iopub.execute_input": "2025-07-14T18:41:37.199726Z",
     "iopub.status.busy": "2025-07-14T18:41:37.199589Z",
     "iopub.status.idle": "2025-07-14T18:41:39.554759Z",
     "shell.execute_reply": "2025-07-14T18:41:39.554333Z"
    },
    "jukit_cell_id": "OZ5YdxJEuG"
   },
   "outputs": [
    {
     "data": {
      "application/vnd.plotly.v1+json": {
       "config": {
        "plotlyServerURL": "https://plot.ly"
       },
       "data": [
        {
         "hovertemplate": "Metadata_cell_line=A-673<br>umap0=%{x}<br>umap1=%{y}<extra></extra>",
         "legendgroup": "A-673",
         "marker": {
          "color": "#2E91E5",
          "symbol": "circle"
         },
         "mode": "markers",
         "name": "A-673",
         "showlegend": true,
         "type": "scattergl",
         "x": {
          "bdata": "e129QPA32kAzTK1AZCrvQOCc4UD3ktZA96PZQLHrm0BNHLJAv4nSQLtu3kCGHsBAEKbZQOT64kAEpLFAILjEQGndy0ADc95Av9a+QEQry0DG9N9A8JalQEMp1UDowoFAmg7GQCHktkCrKdJAAGpZQBJls0Aamc9A1EGmQI6JtkCyJ8BAzGTRQCVSuEBXp8FAwFS4QBJ63kDd88hAGVnXQBMCl0AEbtVAcjXlQOHIoEA+CLRAmNvOQBV1v0AcFKNA12rcQLDc1EC2LKxARIWlQCW8wECP96ZAEDrWQANRmUCWyMpALrHRQO0mw0DRJ6tArUjAQJMYwUDM9c9A9EeRQELKy0DSNNlAnvHkQHTTtEApPOdAF6rNQFlhzkCzLp5A9gLRQL9s00Cn085AfVO0QN3XjEDBmtZAUsOPQB/LokAS4txAFr/cQP5GlUB+OMtAhAfZQCT1kUDHNbtApn+2QGzcnEDygbVAQQugQJzmikC23aJAH725QCN+oUBtk41A6FirQB2OpECCO69AkVKlQP2DrEBpnLFAt8K1QFyM2UAxC6NAAuz0QFgc4UCgtM5AfDbDQBQRk0Dzi7lAweeRQEeUlkBndqlADlOZQEkIzED9irlA+lDaQJOCuEA4TYFAKFSmQPlTxUCYBJZA+lmDQAaj2kBzjNxAioOXQN69zEBN4dlA9PWCQEkK7EAXpd5AbwJoQDDo1EDuVJNASzi3QLEumEBRBrhAQhO1QE8rukCMnLlAhb2gQD0DzUDSoZFAfkaIQKuCxECQiM9AM48MQdYWmkAZ2OpAH6LOQE4dg0A3QLBA7DPYQIrjCkEDiJVAgBjQQMCEmECqDOBAeFzKQLr1qECS8a5AFifpQO1Vr0ABKOdAtpXgQCuNmkD+H91ABBYLQX3juUCm259Apr/IQIO1mUCsk7pARIq5QM332kDpWvVAF5zQQGKZ/kA0EAxBBKqzQNSvqUDYq99ADjvKQPPVgUBHq5FAs6L+QDKE6UDT0AtBHva0QOL4DEE2p+pA8ADDQDc1DEE6RdlAMbjHQGTKAUEHFcZApbvQQMmQ3EDCO/JAe27rQBGmmEBYi3ZA0xOyQPlB3EDkgrZATrusQF8ppUCDa6VA88LnQKDT5EA1b55ABKDWQAh8x0ARZYVA4Au/QIl9wUAhvJhAFZCKQIxDq0DlppZAaqS/QIY3xkAQCbRAAotrQGHe40A2rfZAeUmoQCZ7rUD127lAExaSQFaC4kCAfZhAlfCfQOcB0EDI1MlAZ1PGQJYFwUAj3olA2aqYQG3i8kDPa/RAth30QLmknUATL6VATPTEQNVffEBISqRAn9KdQPtEsEBjFrhAE03dQEZZ4kCUF61A/p+ZQBIt4UA4F81AKcDiQCxrmkDroNZAtDmzQGng5ED4Q6tAlCToQCgCxkB28gpB2+7gQEW0uEDUmsZAUpjuQOw41UBhzMlAf6+0QCk1o0Cy56pALeG1QNYvn0ClD95A3cbvQAMkDUGF1a9A/hu4QO1e00Ac3gtBDR+8QHx10UDvTJ9AZMLLQAJK8EApi9pAzS+nQKJ/nUDUOrpAWzXZQI9G6UCbsQBBwoPPQJaRDUELj8dAIVMQQX3uuUAHMWVArczSQIFIDEEipdRAr4YFQVI4vkBBLQxBOoIPQfMs+0BltLxAUNO7QCAzEEH477hAUtANQew+DUFV/oRAH24OQYLPD0G0lg5BHWUMQTRmEEHWpRBBr1kQQQ==",
          "dtype": "f4"
         },
         "xaxis": "x",
         "y": {
          "bdata": "CpHKQN06g0CGkhxAiUGhQFWrjkC9I5e+s6J8vlBg3UCWTF9A9sOaQFlwyb4STCRAK78gO+xW0r4r5zhAMM73P3pdtT5fC6pAbNtxQGyfxUBdgpRACIvFQKJOm74X3eFAODu2QF4f3ECW0Kq+D9nTQG4wJEB6aIdAVM6XQO3BQj8yV5k/MSt3P4Hbyz8Z8NJA2wfVQIYFGUCk2Y2+d16gvoVDbkBxM6S+az6eQNlfWkD8mtRAVN+jPBL20z9vn2ZA9pOGQKe0ir73+wZAsmleQNTSUUBKvK9AAz9nQJYloEByoWBAsF19QGTGZkAg94ZAUpjEQEaSlEB13kG+YO+vQC/MZT4GdplAh+01QES1TUBo1H1AF70fvrhpir6+uOtAu96PQCHcxb4XDq4/8evGQG/WxEAuL6i+lCj1QACA40CZso1AEQYbQHXpR0DF+qBAm0RdQOyz6z9fGUBA75YfQMdy4kCtN+0/JmXxP75FLUANglhAW0hrvk0/7UDUPjtAmCiQQL0MukAnGaZAclyJQBsGakDuvmM/Fx4Kvr9Rq0AGFOBAxGaQQKCqzL7LzYFATfgQvj/MVUBviIe+MZTtP2KF0kA8NYk/oBZuQBoWgkD0bla+SYJOQANuXUC9DaFAFpzaP3SPikCTRJVAq5g4QG03ZUDBSF1AMqZiQKoclUBXzIpAo5J3QC/dj0DOHAxAqX2iQArZT0Ap27Y+kGOyQM2xWUBdgYpABi0yvrhFTUBsHYhAImBlQPr5gUDkKnlAlauAQFa9PUAj9mdAXAsEQdFxiECxqX9ACupNQL1OYECI3Rc/NiIlQIx6BEFNqIBAisCNQCjqf0AYnJ1ABSqEQMw2tEAhXB1AB+mNQPexXkAek2NAmZBWQD0vpEAr2IRAzcMEQfH0h0B+roFAVblPQDfslkCh1508+5FGQJMlWUDhCWVAJpJdQGzuEEDjVgRB9NKsQGWuq0AjWUVAlgKOQLbGXUBivopAmt9BQLrTkECaCgJABw4jQKGwA0EQtg5AJhNsQND5A0HdGDJADGyNQEndNEAyJTZAYS1wQFTURUDABaNA7x2gQFjplkAk7blAdFk5QLzXtUC7LdNAmGW4QD+uT0CQoQ4/KAehQDMCpkBvj9ZALHadQLVxw0DsbfRA+i9AQCCIrkCPLiZA7EraQPQjX0DdmrxAKLRDQBs+3kB7cJRA3MlqQCJzlEBi4aRAk3TNQAKw4UBvHCtAaRiGQBH1qUAAaJNAR85OQBDbxL7HVB5AaCJLQFg4R0BO73BA6HT/QKmFokCCpKpA6hyeQD2YqkDVRnM/HHnaQKoBeEDoQtdAPInAP+3DpECHIs9AUdWmQKbzNUBX65ZANyGtQOzjS0BE+i9AdBtEQJqxUkAoGrZA7kfeQOS5ZEDq3FRAqSSVQIAgRj/5IgRBy+qiQHlQikBwoC9AYyeTQGUKu0BXuhdAbzIVQE2M3kDaD1JAt57FQAc/hUCvW0dAlPtAQKqP/z+2X4RA2dyCQC1CRkBgvPs/dYx9QBrTMUAozmVAta1eQDGMK0DQby5Ao1FhQHnBy0AUA3FA7700QBi7MkCckCdAKY4/QDnW6z8/ej1AvEAJQPLuRkD+Nl1AmCtdQEZNBEFWWGBA3S8ZQKKuPEB0aQJADZURQNzULEALdzpAW6U7QDo/C0CmmzdAuZ0HQMg5A0BVx5hAy0nyPzZ1CUD2ZQVAFJgFQGUyDUANsAxANssIQA==",
          "dtype": "f4"
         },
         "yaxis": "y"
        },
        {
         "hovertemplate": "Metadata_cell_line=CHLA-10<br>umap0=%{x}<br>umap1=%{y}<extra></extra>",
         "legendgroup": "CHLA-10",
         "marker": {
          "color": "#E15F99",
          "symbol": "circle"
         },
         "mode": "markers",
         "name": "CHLA-10",
         "showlegend": true,
         "type": "scattergl",
         "x": {
          "bdata": "e+ivQG/Xy0DwcbhAdTfHQH3zvUCsSbFAhzrGQDYUyUCEM4dAjacEQab4pkBsLulAJlvMQMDRwECvu8BAXgjIQBkVtkBJzs9AdpquQFKDq0DaatRAxfvCQClbUUDEYaVAtzfbQN/ApkCPlHtB7ZXSQDzrukDadc5AQa95Qbjid0Hw6q9AKvp4QV+QtECT0b9AaCHBQDi51UAz83tB52/cQIHlCUErgLJAyfcKQczKd0H1R3lBvbfJQNf4Y0G44HdBXbTRQLObA0GLSb1A1x93QeN4c0Fwf3JBYllyQenaakFIrnJBM2h4Qc/NdkEaWs1AqB5lQYxqc0FvnXJBKUF6QYn3ZEF7pWRBUSl5QfdPykDm0nZBhQt3QR6ocUESuXFBv4V2QQR0oUAorXFBbPVzQbICc0F4AnNBxZB0QRi83ED7g2VBggu+QCoq2UDuPXVBbytzQZmdc0GJIXNBwp5zQRJjc0EasnNBlPJzQRMpc0EC8nNBEI1zQSyIc0G9eHRBlp90QRSWakFVqApBpwZ0QaGXc0H3u3RBDlRzQQAizEAJUXRBNXx0QQqNS0Do3HNB2gTdQI7R2kBnVnRBYzJ0QZ7Ic0Hi5XNBPxhzQT9Hc0FFA3VBy8t0QTBRdEEHFXNBTrJ0QeACdEHpKZVAaTNpQYOUdEFrCqxA9AzyQAROwUBEOJJArjzVQD8X7UCQguVAULOBQN0ruUB0P5pAz6nGQDEz4EDo9blAlmzAQNXrrEDqgOpAUPfdQKkN30CCs6dAdYDZQH3ai0CyJsBApP+oQE/z2UDVoHtAgtq8QMN/pkD6+wFBfIDbQB7FnUA3SphALlfLQEbPf0DKEZlAzXrrQDpSvUA7BrlARsXGQNCdzkDXjIpAWT6gQBAhj0A78rhAVzjsQF2Gs0AOg9FAIgG8QF86B0H/IghBvkHsQCp92UAzg41AgKTRQBQ+6UC1grpAxBHqQC7AukAnXLFAfSW4QIAd0EB2dMdA2hzfQP8KyUAkxeRA8ykJQYN4nkBYRgRBVvL2QEOqnUDWAaZABq7NQAlb4UDoMK5A74aqQP73uUDCvwZB81wKQerOv0Dfsr9AtfmAQKLB2EAbbelAmpwHQSXS8EAXqNhAyibPQCph1EB38QNB6a3sQDYe9UAx8wZB/mbnQG5yj0COIrBAsh6rQJhp10A1Uw1BX8vHQJGQ30C3cs5Aim/4QHz3u0DwtAVBmzfUQH5ynUB3xtBAmtr+QCU1yUBBjc9AGOjIQDJL/UDtZ8hA5H6/QNPQm0BZMdZAXOOzQEjmpkB6bMVA5Q/bQCFozkAKm6xA2m7RQACnp0AxY+VAJQvOQAPhkUDIp+pAUOunQCPeskDIBuxAf/7FQD/yz0B3k9xAoGOLQLmLjkAutehA7GbeQJ7N80DcrARBbVC+QMIsyECu+dhARtaoQA2UqkCY8flA35i6QDU48kBZbZ9AakWNQKMi7EA5Rs9A5GXYQH1q9kABKMNAJXWjQJjNu0B76p1AclHRQOrmpkAD28VAFDPoQMv32kCZOMVAfPqpQHFiBEGd69VAKOjFQK09AEEHnd1AJbD0QNyPy0DUDeZAXxH6QL5e7kDZ6a5AyXObQEMJ/EBohMRACQm1QPkZykDv48FAmxu8QO39zEDmh7hAcpwFQSnp50AJ/tdAfUsBQQKH8kBkK9FAL0nqQNHM6UD9GOZAV+GmQKGO0UDdde9AR6J5QMuyx0B5wt1Aghv+QCkhhkDPctFAc+zOQGQMuEAreeJAC1PfQJYL9UCKa5RASijgQLtX3UAZngJB5TWbQDj/C0Hy0/NAFgX3QL0l6kBI9NlAfobOQOHD6kDtRNtATjrfQGFCAUGZ/ApBVXEOQWSRk0Ao36tAv7u0QByBq0AozQZBfg/ZQHHvBUFhTgJBVPXhQOxmBEH90MNAZmfaQOCO6EDEtbxA1o7uQCGAoUBN2t1AzU4DQUB/00B+eMlA1V/oQFkR7kCb+etAcwwDQTtO50AebAJBUeKnQBc5lUDSYY5ABNGTQJUCdkAAxwtBeJGLQJYGlkD4dExAZaqjQHfQjUDWN5tAE9mZQCRQt0CmnMVAT6u8QFWICUGtyltAJQSjQKE7LkDkBKhAs+/gQFUhj0DtyahAiFbAQKfy3kDk46dAMkvRQL5c40CdO3pAFO6oQKJFoEDcYIFA/I/TQBlovUAYWo5AK1ZqQLJ8qUA+AqtAWt6qQPqxoUBneWpAZUfKQBMkl0DFhrVA1tiQQPW3f0BD6qZAn4KOQA0/0ECCKbtACR6WQD3PoUBcwnhAgpJ3QBnt6kD25Y5AyJWgQFR8oUDosa5Ai1W4QDNBx0Dui5dAaaKeQJyEykCg8cpALdSuQMjz5EAyIbVAQF/sQGr+zUBvZtZA1wGXQIhD7EDmm7xAxlHQQAuCz0CPfN5A2HuOQIVekEB6d8ZAOWXTQFcd6kCz8lNAK7S9QAS7wEBhmblAAVW8QOXd60BRKIlAZwW3QNjtuEBefa5A1+6FQBMBvkAoZopAlq+jQI3QtkCje7VAEHunQP6ivEBbX7BANKrMQB7b00Dv2lxAgUWXQFROt0AS55xAoxEFQfXEBUHdKt5AazDZQM4PDEEZu9dAP2jXQMEQ5kBRtc1Aj5KXQE2RmUDsNdBAMDTUQGgZ2ECw5LJAAGfaQOKttECLIYJAxWdsQEk+5kCIllxA2jHVQCBHsUA6SmFAN7fMQFT5xUDBDLtA7ZGzQEpWgkC6QrlAy4mCQLNeCkHQb7xAKd3uQM2L3UCuYtpAyoykQF9akUBlXpFAJlG2QKVy30Dfcs1AYtSeQLCzwkBqrdtAfHGTQIpA30CDXrRAjxbLQIxLpUDEte5AEZTdQLtnrkAtHKhA6BZFQIe1j0BRsrhA//vIQFiryUD3l+5AZQzVQJqkqEDM15ZAymELQdfeiUDkqo5AJXDoQA41zkBeEZVAEt3AQF6TsUASGuRA2oy1QKAC9kBW/s5ArIO+QO/tkkCn8KBAUJ3WQJ6z2kCRSdFAAxYLQYJktEBYZMJA2CzxQMqwukBv+tFAZ1zHQHKl2UAkn4dAsHjNQE6MikAVINNAXX68QDVUukDpkdZAdBOjQLGJ80BjiMlALBTWQNN8zEC48tFATI6LQAEHx0BZZ4dAlULHQC6R4EAK85pAv9LiQE33iECbYPJATWXRQKF22UDspcpA6TPgQM7zCEFDNuBA+6GuQJPXCkE0nLZAIGviQJewmkAch7lA11G7QCIp9UBbC7BApQDuQJqj0EAYyNRAt/e8QMIazkB/7cxAkpnqQATSuEC3tMVA8OG6QMxW40BHBMxATYvPQGgvA0HPWddAKVejQK5K1EDBidtARKoKQRXE00AIUOhAI3bVQDCI8EChjvJAnJDpQPQO70DD+NhAVy+5QH/Y80BGCudAovvyQKoHdEBH2q5ApJiuQHtP90AQ4tlApffgQKX95UBf4sBADwH3QKwkykDjXb5AN/P3QA0R2UAgpulASxrvQJhS9UBpcPVA5FiTQJ8lC0EVquFAh7jAQMrNC0GdKddAkhHHQC112UAgB/VA3OMLQTeY8kA01thAmfqmQP9810CLzL5AFhvKQODOtUCq3gxBuq+IQK631kD7ktxAsjXpQEUx7EADn8ZAfFLZQN6XvEDlxtlAG3TkQAuB2UBVYwxB+F6aQM0PlEDXsclAH77HQBoJz0DL2+JA2rDdQIxI1UDTWOtA67jJQLkjDEFkSOVAdFTyQKE99UAnJe9AbZ3iQHvazUAb4b1A2IDCQAvEyUAuvgxBeoIMQSIy/kBd1JdADo/3QIF43kAxzuJA9iQDQT6D+0AMar1AY2vHQKEa00Ag6+JAh6rjQBLYsUDQnt9AGk4OQYYRDUHsDN1AiBnYQLTfrEA8+d5AANv9QF5XtED47QFB9p4JQaGb9kAksbFAj8zFQHCg5kBeKQJBEWLJQB894ED21ItAaQ6/QBi4y0Cb2MFAOkbAQAGA2kCIrwxBbj+tQL4q6EBsPLBA",
          "dtype": "f4"
         },
         "xaxis": "x",
         "y": {
          "bdata": "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",
          "dtype": "f4"
         },
         "yaxis": "y"
        },
        {
         "hovertemplate": "Metadata_cell_line=CHLA-113<br>umap0=%{x}<br>umap1=%{y}<extra></extra>",
         "legendgroup": "CHLA-113",
         "marker": {
          "color": "#1CA71C",
          "symbol": "circle"
         },
         "mode": "markers",
         "name": "CHLA-113",
         "showlegend": true,
         "type": "scattergl",
         "x": {
          "bdata": "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",
          "dtype": "f4"
         },
         "xaxis": "x",
         "y": {
          "bdata": "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",
          "dtype": "f4"
         },
         "yaxis": "y"
        },
        {
         "hovertemplate": "Metadata_cell_line=CHLA-200<br>umap0=%{x}<br>umap1=%{y}<extra></extra>",
         "legendgroup": "CHLA-200",
         "marker": {
          "color": "#FB0D0D",
          "symbol": "circle"
         },
         "mode": "markers",
         "name": "CHLA-200",
         "showlegend": true,
         "type": "scattergl",
         "x": {
          "bdata": "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",
          "dtype": "f4"
         },
         "xaxis": "x",
         "y": {
          "bdata": "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",
          "dtype": "f4"
         },
         "yaxis": "y"
        },
        {
         "hovertemplate": "Metadata_cell_line=CHLA-218<br>umap0=%{x}<br>umap1=%{y}<extra></extra>",
         "legendgroup": "CHLA-218",
         "marker": {
          "color": "#DA16FF",
          "symbol": "circle"
         },
         "mode": "markers",
         "name": "CHLA-218",
         "showlegend": true,
         "type": "scattergl",
         "x": {
          "bdata": "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",
          "dtype": "f4"
         },
         "xaxis": "x",
         "y": {
          "bdata": "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",
          "dtype": "f4"
         },
         "yaxis": "y"
        },
        {
         "hovertemplate": "Metadata_cell_line=CHLA-25<br>umap0=%{x}<br>umap1=%{y}<extra></extra>",
         "legendgroup": "CHLA-25",
         "marker": {
          "color": "#222A2A",
          "symbol": "circle"
         },
         "mode": "markers",
         "name": "CHLA-25",
         "showlegend": true,
         "type": "scattergl",
         "x": {
          "bdata": "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",
          "dtype": "f4"
         },
         "xaxis": "x",
         "y": {
          "bdata": "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",
          "dtype": "f4"
         },
         "yaxis": "y"
        },
        {
         "hovertemplate": "Metadata_cell_line=CHP-212<br>umap0=%{x}<br>umap1=%{y}<extra></extra>",
         "legendgroup": "CHP-212",
         "marker": {
          "color": "#B68100",
          "symbol": "circle"
         },
         "mode": "markers",
         "name": "CHP-212",
         "showlegend": true,
         "type": "scattergl",
         "x": {
          "bdata": "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",
          "dtype": "f4"
         },
         "xaxis": "x",
         "y": {
          "bdata": "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",
          "dtype": "f4"
         },
         "yaxis": "y"
        },
        {
         "hovertemplate": "Metadata_cell_line=KPNYN<br>umap0=%{x}<br>umap1=%{y}<extra></extra>",
         "legendgroup": "KPNYN",
         "marker": {
          "color": "#750D86",
          "symbol": "circle"
         },
         "mode": "markers",
         "name": "KPNYN",
         "showlegend": true,
         "type": "scattergl",
         "x": {
          "bdata": "AtWxQHpM2EB/bs9AUJdkQM6cu0A99bNANVLTQKcC90Cj4pxAgBIOQekK9kDxAAdBkqzCQC5j6UBsLOhAddLSQLAxz0B2loJAqGqVQHJbrUBYFOlAtfG4QGWP0kB5l4JAUQy4QMEMp0CeANFAPPR+QE7hwEAroPtAtCHlQLQ/q0BxivBAGKn+QCPIokB9jaFAdEHuQGbZ2kBybLNAzWLrQHSPuUBD3GFAbufsQKcTrUDBwNpAUmmNQIjbDEGJnNlAMk7MQA063UDQHqRAjG+NQFc8ikA/mApBNiyNQG2F/0CsurVAGOjGQHO1gUA1bq9AeQrjQA3pA0H5ApdAGUbUQO+WsUAK+HNAwiGxQPOMx0AyaHxAv7S4QOz/60BKQKdALNHBQJcmAEGu6rNASav5QEjffEB0PX9AyDmIQIkZoEDJFOpAMN4IQbmLrECwZAZBzzqnQAtcqUBxVvtAL5MJQVX8/0DIa4xAVUuNQE0l6EBVgedAfn/FQGYSxEAzWb9AUZgLQXQcm0DZewNBhDh/QEPVD0FQmdpAXh+TQE+EC0EQ05pASpADQVtv+EBpfblAtku6QL1hj0AhF8ZA3+OfQCDEnUAyxqFA4seiQDU7aUBeNwZBEQWeQC2nk0CJSo9AImz2QIvxg0DUA2FA780BQUT/oUAKU7pARbyeQD4PxECKqZVAVCacQCj+pkAvEe5AnfzMQCEH5UAyYJVAAbWlQCbOkkCo6a5AsMvxQCoahUCiC7JAUuC+QBm2m0D6WqRAXuDEQJKruUAVsHZAP9G4QB3Y5UBcQeNAnbNmQOoAtEAlXI5AAg6nQGeGgUBUUWpANPmXQP43wUCgHWtAaGr/QICJnUBS85NApcaVQDWovUDqo6ZAShvWQDWWs0Dryb5AuGqJQDs+s0A0n49AOemZQBPhtEBpG4VAKzO6QM8JmEAUv45AjbSAQAOAeUDrc4NAk3KUQALx40DgL45ArHzgQEU8ckBqgtNA1jigQPngekBubplANIm1QG8Z2kBZ9bhAx3GjQCNsiUAhsZpAjsmhQLjamkCoEH9AephgQGC8kEDLRZ1AKDCEQBFOgkAOB5pAiIvKQLfht0BXsY1AYAajQFCRgEBQeYBACty4QMt6mkDz4ZZA1waaQFZu2kCU2rVAkZuWQOkngUDFlQBBA9GsQJ5bdkC+QZVAnfwNQfIo6kA4dNFASmuBQGSMlUBNHslAVuPAQEeLtkBnIYBA+rx2QPBNzUAsv9VArsOTQBStjECqxX5AO72PQKm8wUB6/5JA6cOwQNuNlkBkHJFA4FvwQLgSw0AtI3BA//bxQEXgiUBuJ9dA6o67QEgmzEAXbFpAXCnKQNWSwkCOMQ9BeykNQdqdykBw9ZZADwaSQAxIu0BkDY9A6yKdQGByjkBO+YBAJY2KQJtclEBo9MxA3557QD8qqEBL/a5Ap1vsQCp6c0CSf/xAhCJqQFUEvEDmzWhA0XeFQJgViUAL039A6W0IQXzAoUCnINtAqYGfQLeI0UBpAQdBESfmQG/6mkD917dAMc6DQM8KDEHQMu1AVxrQQKTs2EDvU4VAJVmGQAhFlEARdLhAWMu/QG3hiEBV2QFBvzPUQEQZnUCeEKhAXPWXQEO8ykCA87FAxToNQUBC4kCUjqRAAkWpQIcUuUDPLaVAik3RQO8biUARSpNAPQB2QFUCBkHjEKhAKYe5QG7z2UDpqJBA7OioQDHli0DWkMlAFcm/QKXL9kBTRtJA8w+eQIhwDUGre6JAoqa5QJeCqUDCc/NA/PnBQIJJs0BHsJhAkHrkQPaiCUHmLqZAs4+MQGhFvkDSdrpA2VwKQUSQmUAL75BALcEMQTK8iUDJb59APaeXQMaxlEA=",
          "dtype": "f4"
         },
         "xaxis": "x",
         "y": {
          "bdata": "rlnwPwgGLkBCJtY/sQqjQA6bd0BJVIM/lsQ3QLXRBkAu75xA5aXTPwBqokBuZWFAifC0QEjhAED9wfa91JbJPxOY0z867qtAk5SZQEmxOT//gDtAS5YPvdON7T+h+8FAl5CrQMxUSz6G4l1A80ixQFi7JUDPa/s/IDQ/QI/gNT25cYJAGkoWQOc7FD4PEiY+Oe8dQHDznkDxWCS+klOiQM6djEDDWrJAtzQqQDrznz5KHZRA3O1aQIdQNECmGltA3MctQJXoS77eWz0+x67WQE+jSUBFeQhAbRoTQFq+DkBBt01A5KPOPySxRUD5sa5AnTEdQAC3FkDdt0NAjGh/P7Q2JT/eELBAF+StQCA2yz/wi3FAUZufQOw4lkAwLBk/bnjxP1o5GkAmQ0o/cqAqQC5Tq0DPHChAy281QGOpnkCCYHtAOkxAQBp4k0CqwgpAXgUMPjk1K0AtGUdA/awNQK8OUkDaFhhAWZt3QH9w7T/K+x5AmGrnPwmOYEBURHpAu/wCQfEzij58fxhAyn48QMAGGUB6eBpAc+uRQB8hJEDpa1s+EhkTQG+JPECUuiFA8GPpP7V3J0AsLqk/KTHhPpRnbT6r92Q+3z2LPnUtYUBttTFAhvqRQIH8ekBkPaY/qXoWQONvrkB+Vr9A4DEVQGgf6D7MkaU/iIeeQLPkjUB6oAQ/mlmHPsDTUkBacdFAm0lwvhmZUkCTMA0/7L8AP8uzSj8xamY/XEqyQNFoTEBGsTE/++aZvtPmlz9pIS5ATQs0va7b+z9RmVVAI9HfQCY5N0A1IZxALYnpQDJWR0ChuRE/t2rRPw5Ixz9zdmBA5ryLQEwxHkDzfWFACoklQKeQAUC2QKw/b7BvQEECdkDfDNVAwjoiP8ovmECQGc0/x2uyPyvxN0B50MU/zzitPloYe76YvDU/35RRvsXus0CxNP4/MhHZQF5Yu0BR0Rk/43utPjE6P0BF9IVAlRW1QO4vX0DcFKhAYZYHP+Jxhz8vSQ0/jWxovs80875t7ps+a0AgP8rP9z6WMr1AVT1KP+UW5j9Y3is/rBeTQCr9rz49+yVAaoXbP2BhmD8fmeU/dNRxP99ckUAJAlBAlvY2QGRBlj+V4FM/MRMwQJqaWkB4kZRAoINoQE7KnkDnWGRAA8wGP8OPSUCRzvs/YSKVQL3RZUBj8ZE/H3ADQAwFQED25ctAHYEUP10bkT6e6ohAwBoUPyTzgT8PbBI/yyaTQF7yxr6y2N9AfsGQP3KmBz93mSlApiM2P4R0ML5YHz4/sNuwQEiPET9NUEc/wg62QLInDr5FElpAfZtJQNKboj+e4iRAp2aJP+8CRT/bfZFAQ6GAQC0nPD5cWSdAlLVBQFILwb7DHQJB5vgoP1VRHb7L7rk+4+bZPkcnGD+C5Qg/k3FbQHzelj8X/6dARbwtPx2gKkD9VZU/wRM2QPRbkECFj3RAfhJfQMy3mkCiroxAfm64QEoguj4JhKw/UKYEQXVQIUABKypANenWPy8Qg0CA22BA/UKQQG1FAUDZO4JAw7UuQPI3BEFoPC1AhwP0PyETuUCUIx0/l/kCQBaHlkDXv39A627BQKDFckBgkSxAPetAQH1VgECr7nlAYI6pQODye0CGaYlA378DQTihYEAAoKdAJxdbQHb/JEDxDShA+uhNQCn7zD8HMe4/4JlWQCNyEkBuClxAgTl6QEZTIkBv1x5AKt4jPxZYgD/o5B9ACNNiQFPXNUCUrDNATYUKP0fkA0E0Rj9ATxJFQJFHMkDL9hlAkmMXQAeOb0CTNXxAi4cfQITpAkEpx08/KiZwQGcETEA9pEhAV8QEQQ3IQEAfIHFA0S0CQRovsUDAJmlAb4EWQJK9gEA=",
          "dtype": "f4"
         },
         "yaxis": "y"
        },
        {
         "hovertemplate": "Metadata_cell_line=NB-1<br>umap0=%{x}<br>umap1=%{y}<extra></extra>",
         "legendgroup": "NB-1",
         "marker": {
          "color": "#EB663B",
          "symbol": "circle"
         },
         "mode": "markers",
         "name": "NB-1",
         "showlegend": true,
         "type": "scattergl",
         "x": {
          "bdata": "Eze1QHWjyEDk77tAFS2FQExftkDtY7tAHnDEQA3vtUCYCc5ArpeGQD3pzECCMK5AqX7cQPJFzEBJZJxAoHGyQH0WuUBPlLZAXSnOQBrArUAhVKlAYT+2QDzkokAVrbJAwL5+QPL3uEC1GL9Aj0jmQD7g1kDxHLNAqPyRQMxCy0CUqHdAo9POQCaB2UCfZbVAJ16SQCmgs0Bw6p9ATDz1QFucpkAoQ7NAJK+mQNNJrUA5a9tAsOjqQHJi00APmrlA2FumQDnptkDrYLhAIxulQK9+00CHNIFAOm2VQBY7d0D9rLdAZLLNQLzJBEFokptAtWe0QDY9yUBSZqFAZz7NQN+XgkBcsr5AQzfRQAfhekBAgaBA7+qdQBP5qUCNmKhAvcedQCYrtEA/YIZAg1utQCXrnEDgfKJAhvqcQBiWpkBfnZlA01iyQI9o7EBNG+tABhemQAgEp0AzsOFAsRScQJfYn0DegYFAt92nQF9rhEBYMqtA73aZQAQJo0Cx7XJABFufQNWnzkBzWaFAZveCQJ15pUDJQJlAvUS0QGQ9qUBA3qFAjDyaQGK/lkD/t5lAJ1WjQHz1rUC3++pAZYHhQEOdk0CMeu1AtQKuQDNChUBl+qpAid2zQA+ftkAubdJAfxelQM88q0BrFqhAZj6eQP/MpkDgxp9AhfGiQFKvt0Bvh8BAifGsQBnElED4Ja1AMausQK9YoEDkTqlAYRmTQCy3t0CPQLpAShiQQLGkrUBew5lAfXLcQGnQsECGzJhA0Pe6QPq6nUBwO6BAZInQQCGvl0B7EJNA736SQBDYt0CmQodA4KmJQBhagUAOS3tAsM6JQCCjgECh0ntA1B6nQJ+Jg0Alc8RAp+qPQFzhe0Aq8IlAjxiAQNRWpUA3MaJA2B6VQJ0bk0BKIXxAsiStQAcgn0CHaYRAO16JQENgjkDIi8BAnEiFQCM7mEBRuKFAQsCHQNJgmUBrAIhAtdCDQLScl0CG/IhA3fqjQFIEoUArFYZAhJGsQJaptUAD4JFAAGONQEzeokAVcrJAnHmSQNVXnUD8J7xAY7uaQJbimUBvMrZA8iqPQKS6l0CEKpZA06eZQG7IxUAaSbRAHJPYQFlmmUBix6ZAEFqWQCwXuEDmOwpBdkl3QHeoqUDhzKhATNGYQILYl0CiRo5AG96YQL4NxEA34adAfty2QDOOp0DPRIxAoa+FQJ0Bh0ByN9JAsFfTQArEuUARe4hAw9+5QOrwkkB9x5NAeA+tQDY1t0B0Q4tA70GuQA8S3kCCXdlAgqPLQOQZrkBMJplAbV2uQD6opUDGFIZAIAqaQLW2ukBunYJAH/uZQE9riUDvMblAWsKSQKavt0ADE9ZAgiaMQAb0rEDSwbpAdzi1QKjHpUCC8ItAlcGtQJemu0AlbJJAz2yqQEllqED6HpxAZ0idQC7Nh0DZhIJAcyGCQA18mECZ/odAHEyZQP+7hUBHpcpADsK5QCTO5UARErBAb02cQEUAxEB6R7BAI3CPQJWkjEDsvJRARBjEQOQegkCWpd9AMDuJQIDJqUC52ZNAOqKTQGI6r0BXCadA4LJ3QAQCjEANM6FAJYCKQA4ss0DXKplAv9+LQDwUCUHeGQRBI97CQI/GyUAkCQtBY+CKQKT7lEBvh+BAgH6/QICq4kBZKr1A6AWwQCh7x0DE0L5A1aejQI/DrkBU+cdAx/jBQBuYlUD+PcpA/qiKQCIYvkBhc4xAH0sLQU33rkCMEPpATUP4QOps0EA4LwdBBerHQKb/yUD/rNRABVjRQLw+uUCfKrxAOBDKQDju90CA5oZAzx2+QME+4EDSxrpAlk+RQNBTwECSaqxAnwcNQY2nCkFsS9VADXmGQADbx0A=",
          "dtype": "f4"
         },
         "xaxis": "x",
         "y": {
          "bdata": "2B98P7WImUBmhOc/QQZvQKoDkb6A2us/MKXhP4Sflb7xb7M/44qtQM5XJ0Aym5k+qFrjP5k9HUCI129ATc3EPMWCX0B9PgVAXp7jP99D8D118cm802UPvt9DKECOtUxA0+aHQNOSxD+ewpg89PggQM/u+D9Pd+U/W2S/QC8eCkCZx15Aj6QSQMhI5z9UNO8/9AO4QBr+E0AOB/U/CNT8P/1NUz/8tXo/tyQjPnRXaT3x6QBAWu3tP5IP4D/zJQVAb81IPjQOBEA6vhVAgMWrPjbah0BDsT5Afr60P4yyQ0Dc6LQ/WY8HQKtvYkCsAXY+OSq4PybUQ0Dklug+HMj1P/hNZ0CPlANAju70P+YzckAwjvQ/zUd0PmyS2j7lNDE/PrrQPZ7O6T+0xzxAU6AIP/UBFUCTYQI+XcX2P6QNpT5WLs8+1hIdQKl2LECoTDJAFwH9PulgMz6xJSZAQDQrPgDdQj5vYrBAmW4EP+SGRECj7/o/IS9KPn7mTUDJ5T9AIl9OPsdtF0DCpdE+8DobQEvuHD+/CV0+lREQQKFAhD1ohxRAsnljPumWiT4wCh8/GNiGPlFrCUB5hSFA5Tz5P/+/MECGLEpATff8PxbpDkBOVRNA5KXfPzAGXT/FFi5AFhodQASTNj80j5U93s//PbFbvj8qNKk/EwAmPw/aPb7BBea8r1XYQKopoD+rXd4/llCOP4/xyz9Un40/9Cw0Pwi6fkD3ZUO+jFYjPwfA0T+hLmo/Ic2lQBZ7uD9QBl4/WzEzviz7YD8JKhJAe54CQDuddz8CmT8/O3ESQAT1uT+E2S0/uCL+P3u0DD8icns/XhXPPpSpVUABaX8/XSO2vf4hPT+Onna+p5a2PkMPFT8mxQ8/0DNNPzYbPD/1PIY+PPZ/Py2OwUAXs40/fKkpQFZEjz8tDHw/Tw3oPkxbtD6jIhk+8YnEP0vSHUAIzAVAGNU8QCno5j8jYhZABSUEPx8Eij8QHwRA31YXQLt9uD+ykL4/xS00O9CORkCLdvE/ERCzP6g+DUCyhwE/Yl+kP8/G+z4pcJJAK3t0P0sK+j6CTg5A/LweQH3YJEAnW1RAJKV9QKTTb0CSUFtAyGsNQBjwbT83hAhA/06nQBHMLUCw5QNBNFh+QISTjz/bU3FAu5wLQAiji0CH6ug/eE4MQLENOkC8EDpAWytCPzzLHkChhXBA3YfSP9eQkD91fKi+KzrKP8eVXD+DYUQ/5JuSP/OlJEDbxVJA/cwyPl3DRj92ydE+rR5IQBbs9z8ns88/jst3vMyxLkAdUUNA2G2MPyctxz8Ya4s/oCa7PlcsGL5OFLM/SZb4P9szFD8ekw9A3e6/QAcUnD6HA6dAkLn1P9opQD9s8BtAIwXNPldUxT7woUQ/0DsOPz7Rxz98GC0/rc1+P6bukD9Qle4/YzLtP0iZP0Byzpk/0TmwPyfQt0DOGMU/qS7lPrMeb0DWSEFAJteKQI8da0DyVi1A95iAQL/lWEDwASFA6oKYQPqEcz+jGwJApgKkQH+d7j/KfwpAjNp4QJ2maEBY15BAG+ttQNoBMEBovvI/PLqFQPThVkBe8zZA7Ky+P9qF8r1ub21AXKHZPiWEBUEuBvVA8GeWQJykdkAfAQRBu0+DQMB0nUCYfHRAmKyPQF90fkC4k1BAWs5aQOnZpUCMXpZAfi4NQBtDQEA6yWFAGZCUQH3JvD8JRz5AhFl2QGG7V0BY4UJAXYADQUBBiEDoESJAfO8oQP+xkEDP4f9A+OeUQPgsbkCJUwBACEZ+QPEVZUB0gIJAOctUQOoPUkC+l6BAtKp4QPKrhkDjxJNAaNOLQGrsPUDj8oJAEmwDQfFLBEE6iFZABRKaQNGqGUA=",
          "dtype": "f4"
         },
         "yaxis": "y"
        },
        {
         "hovertemplate": "Metadata_cell_line=SHSY5Y<br>umap0=%{x}<br>umap1=%{y}<extra></extra>",
         "legendgroup": "SHSY5Y",
         "marker": {
          "color": "#511CFB",
          "symbol": "circle"
         },
         "mode": "markers",
         "name": "SHSY5Y",
         "showlegend": true,
         "type": "scattergl",
         "x": {
          "bdata": "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",
          "dtype": "f4"
         },
         "xaxis": "x",
         "y": {
          "bdata": "7eWOQIwf3ECPSM1AkgxjQFALkEBdsGdAtubJQCU7XUDC1Q9AOy/IQPx40kBwlpxAmm5jQAErAUGpZ6JA4pfHQCfayEAqn9xAdwqGP1pJ+710CbJAQTykQO5pokBMhaNA8tCjQMbb00AVk5RAOPWjQEfuuUDFyIJAaFGwP704xUAqy4dAN9Z/QPf6ukDX++hAPAJvQBSYlEAW+8FAyol/QHEkuECG14xA3O0FQDbpjUBuMSpARK+wQFE960DZjgRA+/DNQMaF10CvEJJA0m4IQCe3Y0Bnf5tATfPdQIHE1UD7xZ1Ay+m/QHyszEDhU+lAG2R9QPjsjEC4EL9A/reAQA8fe0DnM4BA86O0QD0mJEByd6BAu3q8QDuemUASD4VA7sinQKGZkUB3pBNAO/6fQCPixkBf2YdAYDugQL49ykB5ro1A2PyXQK+oAEF4OqhAr7fLQJP54EBlCX1AqqxAQEVEmECMOZJA989UQMZp3kCbM9JAz+KPQKdgnkBcG9JA2c94QO79CED2hN9AeCWSQFfEP0BOsuQ/oPG2QNs60EArBJ1A+laIQEEmmUAjRr9A1QKMQF+FqkCij59Anm+XQBc9gEBVG0VA2it1QDocr0DPf4xAoumrQPSyc0DQsrBALQjCQMHhyEBywJFAq8qCQH2LdUC0xQNArdoUQCgMdEDPQ5FADtX0QOnSZ0C05KpAjkunQElRuz/tUhtAcCsOQHA9Q0CYdIxAwut2QOMyNkAoPLxAcAO7QOMy3EC/EdVAn8FCQCWfukA6j9tAhsWhQAguoEAosOZAl5oRQJabHECqkIVAOFiyQOQkVUA+ICJAMWylQLlgf0BbKKhAfEtqQEhKLEA85MdAJF9JQN3+Y0Cla4dAFlXxQCKI20AL2GxAPrxiQJ+SkECMJ8RAjg9IQFKMHEBJmJpAFha5QBfxd0CTr1JAt2vOQIRwgkAJMbZABwlTQHdyYEC3LRlAor2RQNyTgkA+nbFAMFFOQETUgEDSgwVBNtndQOg3n0CyC31AJZ5WQB/ytEBt/n9Az0wqQDfpPEC9uKBAFAe/QFetsUAbMW9Ae0u9QCh7nUAFwe9AfYk0QNMHW0B7haFAMVTaQGG0d0AL2oJAPU1bQKFWH0DynSRAtNOYQF0XJECaTopANVmZQC4qZkAbtqRAcE2hQGJ5WkAbcXFAMI/TQExwwEBPtWFAOTqYQFOYlkBBaxBAoUfIQCOKC0CQBmtA0io8QAkHc0D6FmRAlf2XQK6QSUASZ4hAK/4NQPT/p0D/HR5AkPADQQqrGEByc19AfN0TQAhqakAM1yNAcOilQDHjR0ArOahAFZWaQFQqBUGMOQlAL+mMQGWEzECerMlArNC5QJFXtEC/pRJAwEQyQOBnHkALB6xANbCPQMcYZD7K7eVASGMVQNUuvEDpSzNAa7PDQGkIrUAB4s9A8fiGQHHPJEAAANpAvsAMQONxcECbDT9ATeQwQHXTjEAuhLVANFJSQBOjXUDeRM5AC/44QJ6YhkB3KM1Af2hVQLObUkCFhKZAb+MVQLhYdEBzR45Ai51JQK4qbEBUGpFABVLqPxany0BKuq1A65jiQOrwykAmzF1Ast8DQaFmdUCq1aJAcFpZQElYsECXZ19AZ3IrQBFd6z7XDU1AZ3ebQF74lkDAQaNAnDdRQGpIJ0By0NhAMBcnQFjLsj/wAbNAJpprQNrCcEANBGtADspJQGzfhEAo+6VAqbM+QLIKRkAk6oZAChhnQAiNJEBSzkxAg2YxQJmCiEClj4VALigXQPdrpEBfoipAG1WEQN3bl0AjvyI/Hrt0QAoCAUBg2jNAlkIwQGPve0DWzzJA7qBvQPxCiEBnIqtADWGSQALQA0E+80VA1a40QNqjjkCYcBJAdxRyQFvJJEBhsyi+WWBbQB7vckCIpnxA+bgJQD54ZUAayYpAYFCIQJIsX0BkRaBAO0mBQBjgdz9O64RAU1GLQIsakUB+KmBA3TGKQGvWi0A/BIRA",
          "dtype": "f4"
         },
         "yaxis": "y"
        },
        {
         "hovertemplate": "Metadata_cell_line=SKNDZ<br>umap0=%{x}<br>umap1=%{y}<extra></extra>",
         "legendgroup": "SKNDZ",
         "marker": {
          "color": "#00A08B",
          "symbol": "circle"
         },
         "mode": "markers",
         "name": "SKNDZ",
         "showlegend": true,
         "type": "scattergl",
         "x": {
          "bdata": "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",
          "dtype": "f4"
         },
         "xaxis": "x",
         "y": {
          "bdata": "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",
          "dtype": "f4"
         },
         "yaxis": "y"
        },
        {
         "hovertemplate": "Metadata_cell_line=SKNMC<br>umap0=%{x}<br>umap1=%{y}<extra></extra>",
         "legendgroup": "SKNMC",
         "marker": {
          "color": "#FB00D1",
          "symbol": "circle"
         },
         "mode": "markers",
         "name": "SKNMC",
         "showlegend": true,
         "type": "scattergl",
         "x": {
          "bdata": "eeHWQNZn0kDcZcZA54TiQPJwsUCHf9BAclbPQLckxEAEQLRAtIbZQD2MykAkquVAgH3fQGEVmUCgEqNAmcvLQFVhkkA815BAkKeeQBQ38kD/gNRA5dmeQKViz0CQR8FArXEKQRBD0UCdHtdAb0zVQH3M2EAFl6JAURDFQLLq1UDAcFxAELjQQI0SyUAQ4blAX7K/QPUy10CzQZlAWgi7QMwKzEBaw4pAeJvkQBpPx0AyN+VAZ3XJQC2SzEDz2dNAWTXCQL/7wkAslLpA+mePQKCusEA975RAt33bQOkH2ED1X+5A/tOuQAu0jUA06tFA10a2QBZHmkAmSrdAHC6wQOrNy0BSBshAFi24QPq0s0CTnd9ASMPYQNq6wEAq+LJAXmzIQEc2oUAbW7JAqd6/QGM8sECLtHxAk7W4QBQgXUA8cqxAcyeIQOjun0CDSdFAAiywQMFakUCyJ5FAbuB8QMhmgUARIIJAVGzIQENUpUCDBExAmf+cQK0KkUD4FIlAyXiSQPzujUD5va9AEn2LQFhAu0Dlxp1A1h20QMpunUBy8cRAulGbQBY7tkA8EbVAPZ6OQH5izkAgNYtAoazvQCp2rkCnHNJARJvQQLK4q0BiIaxA/m/MQMjXgEC5/c5APty7QKExiUDepwxB7xOCQD4uhUDqsbhAtaDaQBUPl0DRa59AF6TSQCinCEE7bPVAA5HCQF1cgkD5gYZAc96HQIt/3kA+EchAepfWQCdFtkC/YL5Ah2O4QLJ0zkAZLqtAlo6+QA9bskD1c45A/Q2dQELZi0BQ0ZRAp9/CQKtf5EAY8AxBtJH0QB2Es0CpxqxAuN7OQFJvrEDByJpAD+oKQSh/z0D0au1AvQW8QG3OzkCtcNhAR5LhQFCHm0Cn/5FADvSWQEw68UDJ5IxAtWSFQAV0vED2va1AMoilQN6/+0DOqOdAbYmSQH1P3EBfh85A6iMLQeZ93EBs57xAMqbHQBAZ80CQObBAbUa2QIpK5EA0761AHBv+QAdg40CX+fNAhePXQNE+rEB1ndtA2ymcQP2Q2kAaPuFAkUIHQYHrrkA957dA36++QJ5MrEBb+6tAmdAJQXX6V0D+Z81A0MvGQG3ymUCKnspAqnjXQL1tm0DSurRArzaxQBxqmEAA6HBAJKppQIlufUBOyZZAF+AMQfH/70A5o6hAfwV/QMjZCUEJsZ5AT/3DQGQPukDYcrpAJky1QL+atkCBq7BAdV3KQFwR1UA+wa1AMYDxQGa91UCj4bZAuVrpQEL6jEBuwfxAiUrFQGOB1EDZEJtA7c2HQETtj0AQoIVAbjPXQIPAhECxwY5AJRF6QCGXDUFIso1AdiCYQB3RfUAJdvxA3/jfQE372UD+65RAhK+/QKPgmUCGYNZAX2n+QOLGw0B0zQtBbD2rQMOom0ClupJAgysMQR2T60AcIL5AxJ6TQCl3AUGtU8ZAo2iHQDbq30AliQpBuLLMQMta2UB/NrVAvxgNQQKttkCxL4xAJWGIQBlJBkGAaQVBRV/tQH/g8EAFF+FAAWquQE1R5UDzWsFAAqe5QErZCkF3Y9dA3weBQCdsCUG1j9xAzFrkQOCpuECGvsBA0nQMQdCkCUF28dxAIF8MQQ/r2UBwf5dA7wT5QH/IC0F/jddApKe+QBaYDEHAcABBVTWgQL933UBIztdAY5rPQMXh2UBVR9BAlZ8FQfEd3UCVjA9BFCjmQDqZBEGR9gpBndULQQ==",
          "dtype": "f4"
         },
         "xaxis": "x",
         "y": {
          "bdata": "aoaPQKPWEr7hJgVAv/yaQMoLsECqhHY/Om6svsDvO76TaV5A17jFvoX7YL4f5xhAMQuhQCLXU0BNeaBA6IE8PnY+1ECe7GRAK3NOQPlHZUBWg29A0u+FQMloR76+215AX851P76Eej7OmVa+yqmhQP6Cqb42MMVAtNkzQBoMnECivZFAKL0QvuouK0BtTXtAA3FbPs+U3b7ymIxAMXN7QA8cH74qwF8/jJ+lQIKdXT/xNopARQ7/vUgvTkBwKa0+ZweQP94C3D8/DnBAVsd0QO/raUAK5VFAPSgIQBbUZ0CRuTNASsmGQKo4s0ASCQo+zfKJQG49UkBcGC5Aq8AFQHIRQL5qyWRABnahP2qrIkA77sa+W6oiQMfngz++RYFAvn6BPxe/Q0AB4I5ACOHkPxrGfkAnYHlAZ50FQO/+kEC2HS5AfOVTQLYO7T57qKJAIkfGQP2ok0DzDaJAzQLcQKWnB0DzSHVAsNmrQF4MYj9xJ+VAXU3JQLt77UALnP8+cdC6QHLVU0BMxcJAIGDJP1YBP77EWR9AWOIevkVuoECl50tARHxjQGKmukCmaZhAhR/AQFD0YEAclp9AO+OnQNshSz/eq4lAEqyNQBw7M0DIfGxAAnFDQEpYf0C1AJRAuIV5QBknXkBCIQRBLLlvPze/gUAyHKBAdHYqQIFEl0CCPWNAwImFQGdyZkAtwjdAg1dfQPiwl0C0q4ZAbzJ1QEsScUDhjXVANiZ1QJO+mkDe5i29yPYmQHckRUD+N4I/ke6EQOM1W0A26C5ApFjKQG2wf0DzgkpAqENIQCAdNkDpvANBguxVQLblOEDOo4RAJ+uQQHZBFUDq/TNAa4UEQUfKPkDEAnNAYYlYQJMYQkBjR1BA6oA7QKdhn0AnHp1AjaSrPy9jY0DcJbFAiddiQE4uikChboJA8rmYQHSRNUDaTTBA5b6IQAiUR0C1/GVAdIYCQeNCEkDP1pNAyitqQL9mU0CGY3ZA375XQCcrvT/7p4hAO0RyQNiEdEBi3WZA4R9OQHHAhEAgbShAErSMQD89RkDY4JlAcRsDQQ8uTkBr0uU/ppBRQNojdb0BFrI/DFI1QCg7k0AYvrFAlDXgvlAcdz67zp9AczKyQMEOFEAWvMpAzso9QJyNEkB3qttAFPaAQEiuXECS4IBA3YgDQVczq0B21A9AnRxXQOKuAkFW97g/A8dMQMulu77nFcFA1AHQQE0MMEBv7Z5A8QudQJazl0CYLaFAw/M+QPYvp0AyMVxAVr59QFnit0CNzX9AYiZtQNS+ZUB7Q45AiguZQOBun0CXELVAZ8lhQOle20CzTZNAudiBQN3MA0HPUMdA8DrpP6P/fUApRkpACjc0QBMZrEAOVa5AZZyxQFB+ZkCvjphAHEx5QBGPRkCszgNBf6SgQGpzSkBq25JADihFQKH5jUCNSYZAjHx9QKL9OED3qYBA4rPaQHgeekDbLg1Az5xXQFUrWkBjML8/HIAFQABSkUBeaMlAyTWaQG/mTkAT1vY/SXk4QLfiMEAyonBArwqjQAH7OEAHbkRACp+ZQBFMAUClFJdAlx5aQGd9BEGJHHpAHE9AQBdKQEAOdoBAHtYiQAjy9z9MLVNAJ6PzP42mlUD19ItA4q4yQBm5+D/CnVBAiqGcQDBa8z9PvTBAffZwQPhlj0DBQVlA8wGmQPupmEDrbk1AYt8qQOdUV0D8zSZAmI9vQNbQM0A0vQNA67b/Pw==",
          "dtype": "f4"
         },
         "yaxis": "y"
        },
        {
         "hovertemplate": "Metadata_cell_line=U2-OS<br>umap0=%{x}<br>umap1=%{y}<extra></extra>",
         "legendgroup": "U2-OS",
         "marker": {
          "color": "#FC0080",
          "symbol": "circle"
         },
         "mode": "markers",
         "name": "U2-OS",
         "showlegend": true,
         "type": "scattergl",
         "x": {
          "bdata": "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",
          "dtype": "f4"
         },
         "xaxis": "x",
         "y": {
          "bdata": "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",
          "dtype": "f4"
         },
         "yaxis": "y"
        }
       ],
       "layout": {
        "font": {
         "color": "black",
         "size": 22
        },
        "legend": {
         "font": {
          "size": 20
         },
         "title": {
          "text": "Metadata_cell_line"
         },
         "tracegroupgap": 0
        },
        "template": {
         "data": {
          "bar": [
           {
            "error_x": {
             "color": "#2a3f5f"
            },
            "error_y": {
             "color": "#2a3f5f"
            },
            "marker": {
             "line": {
              "color": "#E5ECF6",
              "width": 0.5
             },
             "pattern": {
              "fillmode": "overlay",
              "size": 10,
              "solidity": 0.2
             }
            },
            "type": "bar"
           }
          ],
          "barpolar": [
           {
            "marker": {
             "line": {
              "color": "#E5ECF6",
              "width": 0.5
             },
             "pattern": {
              "fillmode": "overlay",
              "size": 10,
              "solidity": 0.2
             }
            },
            "type": "barpolar"
           }
          ],
          "carpet": [
           {
            "aaxis": {
             "endlinecolor": "#2a3f5f",
             "gridcolor": "white",
             "linecolor": "white",
             "minorgridcolor": "white",
             "startlinecolor": "#2a3f5f"
            },
            "baxis": {
             "endlinecolor": "#2a3f5f",
             "gridcolor": "white",
             "linecolor": "white",
             "minorgridcolor": "white",
             "startlinecolor": "#2a3f5f"
            },
            "type": "carpet"
           }
          ],
          "choropleth": [
           {
            "colorbar": {
             "outlinewidth": 0,
             "ticks": ""
            },
            "type": "choropleth"
           }
          ],
          "contour": [
           {
            "colorbar": {
             "outlinewidth": 0,
             "ticks": ""
            },
            "colorscale": [
             [
              0.0,
              "#0d0887"
             ],
             [
              0.1111111111111111,
              "#46039f"
             ],
             [
              0.2222222222222222,
              "#7201a8"
             ],
             [
              0.3333333333333333,
              "#9c179e"
             ],
             [
              0.4444444444444444,
              "#bd3786"
             ],
             [
              0.5555555555555556,
              "#d8576b"
             ],
             [
              0.6666666666666666,
              "#ed7953"
             ],
             [
              0.7777777777777778,
              "#fb9f3a"
             ],
             [
              0.8888888888888888,
              "#fdca26"
             ],
             [
              1.0,
              "#f0f921"
             ]
            ],
            "type": "contour"
           }
          ],
          "contourcarpet": [
           {
            "colorbar": {
             "outlinewidth": 0,
             "ticks": ""
            },
            "type": "contourcarpet"
           }
          ],
          "heatmap": [
           {
            "colorbar": {
             "outlinewidth": 0,
             "ticks": ""
            },
            "colorscale": [
             [
              0.0,
              "#0d0887"
             ],
             [
              0.1111111111111111,
              "#46039f"
             ],
             [
              0.2222222222222222,
              "#7201a8"
             ],
             [
              0.3333333333333333,
              "#9c179e"
             ],
             [
              0.4444444444444444,
              "#bd3786"
             ],
             [
              0.5555555555555556,
              "#d8576b"
             ],
             [
              0.6666666666666666,
              "#ed7953"
             ],
             [
              0.7777777777777778,
              "#fb9f3a"
             ],
             [
              0.8888888888888888,
              "#fdca26"
             ],
             [
              1.0,
              "#f0f921"
             ]
            ],
            "type": "heatmap"
           }
          ],
          "histogram": [
           {
            "marker": {
             "pattern": {
              "fillmode": "overlay",
              "size": 10,
              "solidity": 0.2
             }
            },
            "type": "histogram"
           }
          ],
          "histogram2d": [
           {
            "colorbar": {
             "outlinewidth": 0,
             "ticks": ""
            },
            "colorscale": [
             [
              0.0,
              "#0d0887"
             ],
             [
              0.1111111111111111,
              "#46039f"
             ],
             [
              0.2222222222222222,
              "#7201a8"
             ],
             [
              0.3333333333333333,
              "#9c179e"
             ],
             [
              0.4444444444444444,
              "#bd3786"
             ],
             [
              0.5555555555555556,
              "#d8576b"
             ],
             [
              0.6666666666666666,
              "#ed7953"
             ],
             [
              0.7777777777777778,
              "#fb9f3a"
             ],
             [
              0.8888888888888888,
              "#fdca26"
             ],
             [
              1.0,
              "#f0f921"
             ]
            ],
            "type": "histogram2d"
           }
          ],
          "histogram2dcontour": [
           {
            "colorbar": {
             "outlinewidth": 0,
             "ticks": ""
            },
            "colorscale": [
             [
              0.0,
              "#0d0887"
             ],
             [
              0.1111111111111111,
              "#46039f"
             ],
             [
              0.2222222222222222,
              "#7201a8"
             ],
             [
              0.3333333333333333,
              "#9c179e"
             ],
             [
              0.4444444444444444,
              "#bd3786"
             ],
             [
              0.5555555555555556,
              "#d8576b"
             ],
             [
              0.6666666666666666,
              "#ed7953"
             ],
             [
              0.7777777777777778,
              "#fb9f3a"
             ],
             [
              0.8888888888888888,
              "#fdca26"
             ],
             [
              1.0,
              "#f0f921"
             ]
            ],
            "type": "histogram2dcontour"
           }
          ],
          "mesh3d": [
           {
            "colorbar": {
             "outlinewidth": 0,
             "ticks": ""
            },
            "type": "mesh3d"
           }
          ],
          "parcoords": [
           {
            "line": {
             "colorbar": {
              "outlinewidth": 0,
              "ticks": ""
             }
            },
            "type": "parcoords"
           }
          ],
          "pie": [
           {
            "automargin": true,
            "type": "pie"
           }
          ],
          "scatter": [
           {
            "fillpattern": {
             "fillmode": "overlay",
             "size": 10,
             "solidity": 0.2
            },
            "type": "scatter"
           }
          ],
          "scatter3d": [
           {
            "line": {
             "colorbar": {
              "outlinewidth": 0,
              "ticks": ""
             }
            },
            "marker": {
             "colorbar": {
              "outlinewidth": 0,
              "ticks": ""
             }
            },
            "type": "scatter3d"
           }
          ],
          "scattercarpet": [
           {
            "marker": {
             "colorbar": {
              "outlinewidth": 0,
              "ticks": ""
             }
            },
            "type": "scattercarpet"
           }
          ],
          "scattergeo": [
           {
            "marker": {
             "colorbar": {
              "outlinewidth": 0,
              "ticks": ""
             }
            },
            "type": "scattergeo"
           }
          ],
          "scattergl": [
           {
            "marker": {
             "colorbar": {
              "outlinewidth": 0,
              "ticks": ""
             }
            },
            "type": "scattergl"
           }
          ],
          "scattermap": [
           {
            "marker": {
             "colorbar": {
              "outlinewidth": 0,
              "ticks": ""
             }
            },
            "type": "scattermap"
           }
          ],
          "scattermapbox": [
           {
            "marker": {
             "colorbar": {
              "outlinewidth": 0,
              "ticks": ""
             }
            },
            "type": "scattermapbox"
           }
          ],
          "scatterpolar": [
           {
            "marker": {
             "colorbar": {
              "outlinewidth": 0,
              "ticks": ""
             }
            },
            "type": "scatterpolar"
           }
          ],
          "scatterpolargl": [
           {
            "marker": {
             "colorbar": {
              "outlinewidth": 0,
              "ticks": ""
             }
            },
            "type": "scatterpolargl"
           }
          ],
          "scatterternary": [
           {
            "marker": {
             "colorbar": {
              "outlinewidth": 0,
              "ticks": ""
             }
            },
            "type": "scatterternary"
           }
          ],
          "surface": [
           {
            "colorbar": {
             "outlinewidth": 0,
             "ticks": ""
            },
            "colorscale": [
             [
              0.0,
              "#0d0887"
             ],
             [
              0.1111111111111111,
              "#46039f"
             ],
             [
              0.2222222222222222,
              "#7201a8"
             ],
             [
              0.3333333333333333,
              "#9c179e"
             ],
             [
              0.4444444444444444,
              "#bd3786"
             ],
             [
              0.5555555555555556,
              "#d8576b"
             ],
             [
              0.6666666666666666,
              "#ed7953"
             ],
             [
              0.7777777777777778,
              "#fb9f3a"
             ],
             [
              0.8888888888888888,
              "#fdca26"
             ],
             [
              1.0,
              "#f0f921"
             ]
            ],
            "type": "surface"
           }
          ],
          "table": [
           {
            "cells": {
             "fill": {
              "color": "#EBF0F8"
             },
             "line": {
              "color": "white"
             }
            },
            "header": {
             "fill": {
              "color": "#C8D4E3"
             },
             "line": {
              "color": "white"
             }
            },
            "type": "table"
           }
          ]
         },
         "layout": {
          "annotationdefaults": {
           "arrowcolor": "#2a3f5f",
           "arrowhead": 0,
           "arrowwidth": 1
          },
          "autotypenumbers": "strict",
          "coloraxis": {
           "colorbar": {
            "outlinewidth": 0,
            "ticks": ""
           }
          },
          "colorscale": {
           "diverging": [
            [
             0,
             "#8e0152"
            ],
            [
             0.1,
             "#c51b7d"
            ],
            [
             0.2,
             "#de77ae"
            ],
            [
             0.3,
             "#f1b6da"
            ],
            [
             0.4,
             "#fde0ef"
            ],
            [
             0.5,
             "#f7f7f7"
            ],
            [
             0.6,
             "#e6f5d0"
            ],
            [
             0.7,
             "#b8e186"
            ],
            [
             0.8,
             "#7fbc41"
            ],
            [
             0.9,
             "#4d9221"
            ],
            [
             1,
             "#276419"
            ]
           ],
           "sequential": [
            [
             0.0,
             "#0d0887"
            ],
            [
             0.1111111111111111,
             "#46039f"
            ],
            [
             0.2222222222222222,
             "#7201a8"
            ],
            [
             0.3333333333333333,
             "#9c179e"
            ],
            [
             0.4444444444444444,
             "#bd3786"
            ],
            [
             0.5555555555555556,
             "#d8576b"
            ],
            [
             0.6666666666666666,
             "#ed7953"
            ],
            [
             0.7777777777777778,
             "#fb9f3a"
            ],
            [
             0.8888888888888888,
             "#fdca26"
            ],
            [
             1.0,
             "#f0f921"
            ]
           ],
           "sequentialminus": [
            [
             0.0,
             "#0d0887"
            ],
            [
             0.1111111111111111,
             "#46039f"
            ],
            [
             0.2222222222222222,
             "#7201a8"
            ],
            [
             0.3333333333333333,
             "#9c179e"
            ],
            [
             0.4444444444444444,
             "#bd3786"
            ],
            [
             0.5555555555555556,
             "#d8576b"
            ],
            [
             0.6666666666666666,
             "#ed7953"
            ],
            [
             0.7777777777777778,
             "#fb9f3a"
            ],
            [
             0.8888888888888888,
             "#fdca26"
            ],
            [
             1.0,
             "#f0f921"
            ]
           ]
          },
          "colorway": [
           "#636efa",
           "#EF553B",
           "#00cc96",
           "#ab63fa",
           "#FFA15A",
           "#19d3f3",
           "#FF6692",
           "#B6E880",
           "#FF97FF",
           "#FECB52"
          ],
          "font": {
           "color": "#2a3f5f"
          },
          "geo": {
           "bgcolor": "white",
           "lakecolor": "white",
           "landcolor": "#E5ECF6",
           "showlakes": true,
           "showland": true,
           "subunitcolor": "white"
          },
          "hoverlabel": {
           "align": "left"
          },
          "hovermode": "closest",
          "mapbox": {
           "style": "light"
          },
          "paper_bgcolor": "white",
          "plot_bgcolor": "#E5ECF6",
          "polar": {
           "angularaxis": {
            "gridcolor": "white",
            "linecolor": "white",
            "ticks": ""
           },
           "bgcolor": "#E5ECF6",
           "radialaxis": {
            "gridcolor": "white",
            "linecolor": "white",
            "ticks": ""
           }
          },
          "scene": {
           "xaxis": {
            "backgroundcolor": "#E5ECF6",
            "gridcolor": "white",
            "gridwidth": 2,
            "linecolor": "white",
            "showbackground": true,
            "ticks": "",
            "zerolinecolor": "white"
           },
           "yaxis": {
            "backgroundcolor": "#E5ECF6",
            "gridcolor": "white",
            "gridwidth": 2,
            "linecolor": "white",
            "showbackground": true,
            "ticks": "",
            "zerolinecolor": "white"
           },
           "zaxis": {
            "backgroundcolor": "#E5ECF6",
            "gridcolor": "white",
            "gridwidth": 2,
            "linecolor": "white",
            "showbackground": true,
            "ticks": "",
            "zerolinecolor": "white"
           }
          },
          "shapedefaults": {
           "line": {
            "color": "#2a3f5f"
           }
          },
          "ternary": {
           "aaxis": {
            "gridcolor": "white",
            "linecolor": "white",
            "ticks": ""
           },
           "baxis": {
            "gridcolor": "white",
            "linecolor": "white",
            "ticks": ""
           },
           "bgcolor": "#E5ECF6",
           "caxis": {
            "gridcolor": "white",
            "linecolor": "white",
            "ticks": ""
           }
          },
          "title": {
           "x": 0.05
          },
          "xaxis": {
           "automargin": true,
           "gridcolor": "white",
           "linecolor": "white",
           "ticks": "",
           "title": {
            "standoff": 15
           },
           "zerolinecolor": "white",
           "zerolinewidth": 2
          },
          "yaxis": {
           "automargin": true,
           "gridcolor": "white",
           "linecolor": "white",
           "ticks": "",
           "title": {
            "standoff": 15
           },
           "zerolinecolor": "white",
           "zerolinewidth": 2
          }
         }
        },
        "title": {
         "text": "UMAP by Cell Line"
        },
        "xaxis": {
         "anchor": "y",
         "domain": [
          0.0,
          1.0
         ],
         "tickfont": {
          "size": 16
         },
         "title": {
          "font": {
           "size": 20
          },
          "text": "umap0"
         }
        },
        "yaxis": {
         "anchor": "x",
         "domain": [
          0.0,
          1.0
         ],
         "tickfont": {
          "size": 16
         },
         "title": {
          "font": {
           "size": 20
          },
          "text": "umap1"
         }
        }
       }
      }
     },
     "metadata": {},
     "output_type": "display_data"
    }
   ],
   "source": [
    "fig = px.scatter(\n",
    "    umapdf,\n",
    "    x=\"umap0\",\n",
    "    y=\"umap1\",\n",
    "    color=\"Metadata_cell_line\",\n",
    "    title=\"UMAP by Cell Line\",\n",
    "    color_discrete_sequence=px.colors.qualitative.Dark24,\n",
    ")\n",
    "\n",
    "fig.update_layout(\n",
    "    font=dict(size=22, color=\"black\"),\n",
    "    legend=dict(font=dict(size=20)),\n",
    "    xaxis=dict(\n",
    "        title_font=dict(size=20),\n",
    "        tickfont=dict(size=16),\n",
    "    ),\n",
    "    yaxis=dict(\n",
    "        title_font=dict(size=20),\n",
    "        tickfont=dict(size=16),\n",
    "    ),\n",
    ")\n",
    "\n",
    "fig.show()\n",
    "fig.write_image(\n",
    "    static_figure_path / \"round1_cell_line_umap.png\", width=2000, height=1200\n",
    ")\n",
    "fig.write_html(\n",
    "    int_figure_path / \"round1_cell_line_umap.html\",\n",
    "    full_html=True,\n",
    "    include_plotlyjs=\"embed\",\n",
    ")"
   ]
  },
  {
   "cell_type": "code",
   "execution_count": 19,
   "metadata": {
    "execution": {
     "iopub.execute_input": "2025-07-14T18:41:39.556235Z",
     "iopub.status.busy": "2025-07-14T18:41:39.556127Z",
     "iopub.status.idle": "2025-07-14T18:41:41.922991Z",
     "shell.execute_reply": "2025-07-14T18:41:41.922553Z"
    },
    "jukit_cell_id": "XjfIInxjNN"
   },
   "outputs": [
    {
     "data": {
      "application/vnd.plotly.v1+json": {
       "config": {
        "plotlyServerURL": "https://plot.ly"
       },
       "data": [
        {
         "hovertemplate": "Metadata_seeding_density=1000<br>umap0=%{x}<br>umap1=%{y}<extra></extra>",
         "legendgroup": "1000",
         "marker": {
          "color": "#ffffcc",
          "symbol": "circle"
         },
         "mode": "markers",
         "name": "1000",
         "showlegend": true,
         "type": "scattergl",
         "x": {
          "bdata": "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",
          "dtype": "f4"
         },
         "xaxis": "x",
         "y": {
          "bdata": "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",
          "dtype": "f4"
         },
         "yaxis": "y"
        },
        {
         "alignmentgroup": "True",
         "hovertemplate": "Metadata_seeding_density=1000<br>umap0=%{x}<extra></extra>",
         "legendgroup": "1000",
         "marker": {
          "color": "#ffffcc",
          "symbol": "circle"
         },
         "name": "1000",
         "offsetgroup": "1000",
         "scalegroup": "x",
         "showlegend": false,
         "type": "violin",
         "x": {
          "bdata": "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",
          "dtype": "f4"
         },
         "xaxis": "x3",
         "yaxis": "y3"
        },
        {
         "alignmentgroup": "True",
         "hovertemplate": "Metadata_seeding_density=1000<br>umap1=%{y}<extra></extra>",
         "legendgroup": "1000",
         "marker": {
          "color": "#ffffcc",
          "symbol": "circle"
         },
         "name": "1000",
         "offsetgroup": "1000",
         "scalegroup": "y",
         "showlegend": false,
         "type": "violin",
         "xaxis": "x2",
         "y": {
          "bdata": "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",
          "dtype": "f4"
         },
         "yaxis": "y2"
        },
        {
         "hovertemplate": "Metadata_seeding_density=2000<br>umap0=%{x}<br>umap1=%{y}<extra></extra>",
         "legendgroup": "2000",
         "marker": {
          "color": "#c2e699",
          "symbol": "circle"
         },
         "mode": "markers",
         "name": "2000",
         "showlegend": true,
         "type": "scattergl",
         "x": {
          "bdata": "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",
          "dtype": "f4"
         },
         "xaxis": "x",
         "y": {
          "bdata": "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",
          "dtype": "f4"
         },
         "yaxis": "y"
        },
        {
         "alignmentgroup": "True",
         "hovertemplate": "Metadata_seeding_density=2000<br>umap0=%{x}<extra></extra>",
         "legendgroup": "2000",
         "marker": {
          "color": "#c2e699",
          "symbol": "circle"
         },
         "name": "2000",
         "offsetgroup": "2000",
         "scalegroup": "x",
         "showlegend": false,
         "type": "violin",
         "x": {
          "bdata": "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",
          "dtype": "f4"
         },
         "xaxis": "x3",
         "yaxis": "y3"
        },
        {
         "alignmentgroup": "True",
         "hovertemplate": "Metadata_seeding_density=2000<br>umap1=%{y}<extra></extra>",
         "legendgroup": "2000",
         "marker": {
          "color": "#c2e699",
          "symbol": "circle"
         },
         "name": "2000",
         "offsetgroup": "2000",
         "scalegroup": "y",
         "showlegend": false,
         "type": "violin",
         "xaxis": "x2",
         "y": {
          "bdata": "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",
          "dtype": "f4"
         },
         "yaxis": "y2"
        },
        {
         "hovertemplate": "Metadata_seeding_density=4000<br>umap0=%{x}<br>umap1=%{y}<extra></extra>",
         "legendgroup": "4000",
         "marker": {
          "color": "#78c679",
          "symbol": "circle"
         },
         "mode": "markers",
         "name": "4000",
         "showlegend": true,
         "type": "scattergl",
         "x": {
          "bdata": "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",
          "dtype": "f4"
         },
         "xaxis": "x",
         "y": {
          "bdata": "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",
          "dtype": "f4"
         },
         "yaxis": "y"
        },
        {
         "alignmentgroup": "True",
         "hovertemplate": "Metadata_seeding_density=4000<br>umap0=%{x}<extra></extra>",
         "legendgroup": "4000",
         "marker": {
          "color": "#78c679",
          "symbol": "circle"
         },
         "name": "4000",
         "offsetgroup": "4000",
         "scalegroup": "x",
         "showlegend": false,
         "type": "violin",
         "x": {
          "bdata": "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",
          "dtype": "f4"
         },
         "xaxis": "x3",
         "yaxis": "y3"
        },
        {
         "alignmentgroup": "True",
         "hovertemplate": "Metadata_seeding_density=4000<br>umap1=%{y}<extra></extra>",
         "legendgroup": "4000",
         "marker": {
          "color": "#78c679",
          "symbol": "circle"
         },
         "name": "4000",
         "offsetgroup": "4000",
         "scalegroup": "y",
         "showlegend": false,
         "type": "violin",
         "xaxis": "x2",
         "y": {
          "bdata": "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",
          "dtype": "f4"
         },
         "yaxis": "y2"
        },
        {
         "hovertemplate": "Metadata_seeding_density=8000<br>umap0=%{x}<br>umap1=%{y}<extra></extra>",
         "legendgroup": "8000",
         "marker": {
          "color": "#31a354",
          "symbol": "circle"
         },
         "mode": "markers",
         "name": "8000",
         "showlegend": true,
         "type": "scattergl",
         "x": {
          "bdata": "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",
          "dtype": "f4"
         },
         "xaxis": "x",
         "y": {
          "bdata": "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",
          "dtype": "f4"
         },
         "yaxis": "y"
        },
        {
         "alignmentgroup": "True",
         "hovertemplate": "Metadata_seeding_density=8000<br>umap0=%{x}<extra></extra>",
         "legendgroup": "8000",
         "marker": {
          "color": "#31a354",
          "symbol": "circle"
         },
         "name": "8000",
         "offsetgroup": "8000",
         "scalegroup": "x",
         "showlegend": false,
         "type": "violin",
         "x": {
          "bdata": "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",
          "dtype": "f4"
         },
         "xaxis": "x3",
         "yaxis": "y3"
        },
        {
         "alignmentgroup": "True",
         "hovertemplate": "Metadata_seeding_density=8000<br>umap1=%{y}<extra></extra>",
         "legendgroup": "8000",
         "marker": {
          "color": "#31a354",
          "symbol": "circle"
         },
         "name": "8000",
         "offsetgroup": "8000",
         "scalegroup": "y",
         "showlegend": false,
         "type": "violin",
         "xaxis": "x2",
         "y": {
          "bdata": "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",
          "dtype": "f4"
         },
         "yaxis": "y2"
        },
        {
         "hovertemplate": "Metadata_seeding_density=12000<br>umap0=%{x}<br>umap1=%{y}<extra></extra>",
         "legendgroup": "12000",
         "marker": {
          "color": "#006837",
          "symbol": "circle"
         },
         "mode": "markers",
         "name": "12000",
         "showlegend": true,
         "type": "scattergl",
         "x": {
          "bdata": "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",
          "dtype": "f4"
         },
         "xaxis": "x",
         "y": {
          "bdata": "4LHPPjxC+T4VYdI+FaXfQPw56z7gSP0+0lLWQPuG3D6hWqNAr+VCQMq/zz4iRuI+2UTdPoS83D5nrso+HL7OPmntAD/mXQE/0S3qPnfKyT74pfc+3fDEPsre3UA4VkK+9p3yPiJa8kDaA8VA7tyoQB9mdD+vEdtAgkUjPzlyKT/f6VZAQHaYP5lQtECYaUNAMlJoQFaphEDIMYFA7opWQMNY6z7q9LhAl0LJQKp72EB06NVAk7OuP/TNmT4ii0pA5CbTQDLHJ0ACndZA2AS3QKGusEBEjH5AVzmgQBxYpUD/vt1A6+POQBip2kC8679Anum1QDMY10BaJuZAOkPVQHff4kC9M9VAt2zqQJn3sEBwP81AVgjDQAYA0kCG07JANxGUQCjy4EAwJZJAwgYLQJj2P0BKK/E+VljdPp+dwECZ3+k+wR2ovg2W0b52wIhAyNDrPiD52ECnu9o+L0rHQKyIBT4zbfBAQoHUPux20T7i/sA/PpZ9QNIc3j5lGgI/kAn4P5MygUAgBtBApwzQQMHA2T58sYA/AfQHvTrzjz9Gcoo/2I77Poszkz/wkfA+b7mYPyw5LD8HyvI+mb/xPund5L69cv8+FKbrPhmp3T4rzKk+vRZmQM5GXj5LWII/dbfCPuQuzz+9LG8/QbjhPuk3VrtKRn9AbVo0QG0OekB3XDhAUX0eQFAcrj/R5ShA0a2QQCHlSEDW3ZFAbhUsQAxdSEAG3oJArd5ZQIQgHkBXsY9AZRpiQJ48dEAsWJVAYjx8QCiHOEAL7GJAggU0QAgEa0At1ZZAwAYZQHp4GkBz65FAHyEkQOlrWz4SGRNAb4k8QJS6IUDwY+k/tXcnQCwuqT8pMeE+lGdtPqv3ZD7fPYs+dS1hQG21MUCG+pFAgfx6QGQ9pj+pehZA42+uQH5Wv0DgMRVAaB/oPkvuHD+/CV0+lREQQKFAhD1ohxRAsnljPumWiT4wCh8/GNiGPlFrCUB5hSFA5Tz5P/+/MECGLEpATff8PxbpDkBOVRNA5KXfPzAGXT/FFi5AFhodQASTNj80j5U93s//PbFbvj9XxD9ATrLkP6DxtkDbOtBAKwSdQPpWiEBBJplAI0a/QNUCjEBfhapAoo+fQJ5vl0AXPYBAVRtFQNordUA6HK9Az3+MQKLpq0D0snNA0LKwQC0IwkDB4chAcsCRQKvKgkB9i3VApS9EQJNN2j9ZIrRAGfycQISegEBQQAlAKtE+QEBzm0ChZbZABQGhQH2d40DxH3NA7UAyQNGuoEB57OlAfe24vW6ok0BVitRA5sdzQHYwhT+XObdAb63TvqmGF77OxOpAyozwP6cnnECaXYFAYmP/PwyyTkChCItASJeMQDr5mkDsiew/dinKP8M/OUDOjJJAq2ipQO5Ag0DwYYlATThIQBb+NkCLKkZANCQNQLG0gUDg9IdAbsg9QKhMKUBPIq1AIfdCQOQPWkCTJVlA4QllQCaSXUBs7hBA41YEQfTSrEBlrqtAI1lFQJYCjkC2xl1AYr6KQJrfQUC605BAmgoCQAcOI0ChsANBELYOQCYTbEDQ+QNB3RgyQAxsjUBJ3TRAMiU2QGEtcEBU1EVAK8ZYQDBUVUApgkBAkg+cQOx7qEBdo3BAt6ZqQAHKmED+TINA5/aYQF2oLkCiwoFAh2ayQGAvnUC8CJpAPJqEQP4nq0CTbJJA+qujQDQen0DvILZASJSSQMv3okCsMHJAvbeVQNwXvUAr6rVAeDIXvtKYHUAiM8JATQO9vWNrmb0Dc3NAbsW+QHW6ZECl6xhAoJVAQCeYikB1lF1Aj+OQQAzjBD/PHCdATSLoQI7WikDDDq9AlswwvuHXBkCzBmJAr3yMQO7JKUDEOqNAsU2XQDaOyECqTq1AdCjoQO0VykBQsolA3uLBP3xGnUCoCJlAJebbQL4c5UCavMJAlIn4QH7xxkBPOz5AHZ/rQH3dgEC1MetAVDrAQCoo8EAjJfRA+aG/QOgYX0Cv2eZAakf/PuWCK74IMWRAday8vkg4ib950dc/TaQJQJ4DPkBU1bBAV3IovjgCl0CKHB9A+NFRQL9/1T9/ajY+LhitvrwEjz9pdNFAUn05QBe/uEAUzEBAvbusQPbMzj6c36ZAErslQMjhYD/brnW/z+jvvmIGhb9ZxP0/HsOsvmtN6T+sX7ZAR7LUP5NY0T8OTSFAmtqiQJTkrz+zS0u+jkqhP18Jfb+Tr4y/gxWMP8OBm0ALEwRAou0IQPisYT9iMURAu8zxP5Z2jT+Y/2dA59KRQDI9UEDHN0hAEQibQOiHO0DKeLpAp2CZQNXUl0BE6c5AvoNsQMAzb0AfpGdA++QcQHmWi0AhhWI/MJNEQHh+WUDSi7pA94SaQE2ulEC0UNNAYlWGQBbPUUDCTCVAgk4OQPy8HkB92CRAJ1tUQCSlfUCk029AklBbQMhrDUAY8G0/N4QIQP9Op0ARzC1AsOUDQTRYfkCEk48/21NxQLucC0AIo4tAh+roP3hODECxDTpAvBA6QFsrQj88yx5AoYVwQDk6mEBTmJZAQWsQQKFHyEAjigtAkAZrQNIqPEAJB3NA+hZkQJX9l0CukElAEmeIQCv+DUD0/6dA/x0eQJDwA0EKqxhAcnNfQHzdE0AIampADNcjQHDopUAx40dAKzmoQBWVmkCmGVhAc5dJQK9MAkFYUrxAyfgAQDRfZ0BBfTlA2lRwQMxCNUDPj1FAPnImvnGRWkDJFMk/8JEYQDn9u0BJ4yVAytYzQEhnaEAXcaJAAG9QQDjqN0DLwyFAglccQM3JeEBJpbBAdJE1QNpNMEDlvohACJRHQLX8ZUB0hgJB40ISQM/Wk0DKK2pAv2ZTQIZjdkDfvldAJyu9P/uniEA7RHJA2IR0QGLdZkDhH05AccCEQCBtKEAStIxAPz1GQNjgmUBxGwNBDy5OQNqlBEGBz0pAEiB6QHTjW0CpeD1AnpSkQM1KtECaUS9AXTY7QHVWSUADX5NAw9Z0QKakMkDPlEZA81UDQdDtK0B9YGhAUNJlQMi3FEDWz0RAQy1dQI8gqz/rRpBAQ9lnQPESL0C8QAlA8u5GQP42XUCYK11ARk0EQVZYYEDdLxlAoq48QHRpAkANlRFA3NQsQAt3OkBbpTtAOj8LQKabN0C5nQdAyDkDQFXHmEDLSfI/NnUJQPZlBUAUmAVAZTINQA2wDEA2ywhAPXGAQItPnkAbzYFA4OwCQYyinEAflExAbiNgQDlTYkBTgUFA0COVQO+sgkDqDYBAkMabQA3QJUB+FpRAtXFdQMTjLkCBC8S+I0SFQFroq0D3BUlANKRAQMwvJEBjEHdAyTgZQAAyq0Bpdg8/LG7hPs1OTUAqw7U+CcGiP6UksUCH7vlAsKzoP0AdDr7MNh5ANnw5vsOhyEDW0Sy+Qpn6O474Ur7sXEpAm0zivanc2kCS5rFABLlmQPi7uD9CT3w/0XouQEk5NEBAgVVAGZmNQIMvfkBOPANA0fC9QHFSxUBi8MJA/9urQFtOxEAmG3pAGc6RQD4DtkDjAtRAD+nTQEJoh0AecepAH/PGQAN1jECz0MdAmM2QQAcU0EAwl+RAQirBQIxciUAAqrZAyOmMvhdB9z/Be09AfbfEP+S/sEDNxfVA/R8WQGyLrz/yc2dA3tnVP8cYOUClE3O+LBI3QLkfgUDakEtAespaQEVn+j7MIgRAhSCzQHwRdr6Q9nw/63LoQC5ABUAtmHFAj4c2QFQ0er8szKM+OiO5PsfRHb4MgVC//JCfP3VyaD97iYq8Od95vl9Sqz5MvFs/UvyLP4LFVD/Q0JpAj3usP51ruj+JvpS7nLeKP6AdpT5d/nK/rdZuPlWDSj8QK2u/A7jXP18onD/t5EJAbA+DQKRrRUBknHpA9gRnQJ+QEUAYPo1AsF2kQIUnbkAMIlRAQr2LQAnlrkDgdTdAIfVNQLYkpECrXF9A+/pbQLwrbEDehmBA0xCvQIQxgECyPmpAfLJHQD93A0FPsAxAU9c1QJSsM0BNhQo/R+QDQTRGP0BPEkVAkUcyQMv2GUCSYxdAB45vQJM1fECLhx9AhOkCQSnHTz8qJnBAZwRMQD2kSEBXxARBDchAQB8gcUDRLQJBGi+xQMAmaUBvgRZAkr2AQEBBiEDoESJAfO8oQP+xkEDP4f9A+OeUQPgsbkCJUwBACEZ+QPEVZUB0gIJAOctUQOoPUkC+l6BAtKp4QPKrhkDjxJNAaNOLQGrsPUDj8oJAEmwDQfFLBEE6iFZABRKaQNGqGUA+80VA1a40QNqjjkCYcBJAdxRyQFvJJEBhsyi+WWBbQB7vckCIpnxA+bgJQD54ZUAayYpAYFCIQJIsX0BkRaBAO0mBQBjgdz9O64RAU1GLQIsakUB+KmBA3TGKQGvWi0A/BIRATmaXQO82b0CidN1AKRoHv/5AWEAz/go/lnM0QNEQ0EACsNBAcLnDPynA7D4GUyFAYiBJQJGhGD9F9VtAH2W8QJfntT8pZQa/qpztvuVzf0A+qCRAcsOxQGn2ykAnLutASW5+Ph7WIkAI8vc/TC1TQCej8z+NppVA9fSLQOKuMkAZufg/wp1QQIqhnEAwWvM/T70wQH32cED4ZY9AwUFZQPMBpkD7qZhA625NQGLfKkDnVFdA/M0mQJiPb0DW0DNANL0DQOu2/z90YWZANvtGQL2/BEGLEz1AXPX4PyA6KEB0SmhAz02JQGVa5j95rENAj1mvQIJTJEAuMgdA2WFfQPLBxEDoVV1ASyqxQG+qgEDdzU9ARvhFQB4FMECctwVAxf3yP+lOTUC18fg/3VqoQNSfp0Azq2JAqLW6QBsu4UA4yZ1A4zZLQH+XsEA2f0JAADv7QCI/sUAV8ZlAe0QDQZ73W0CRs5NAMgaJQJhbq0D+S3dA8dl4QH4+YUCDBYxAcIpsQPXuokC6WJBAHruvQJ/ztT8eLFNARLSmP7bEXECS63Y/ALK3QHQhSEB+IYo/GtNhQN1MAUH1asRARcBYQJ97uj98PU4/qY3EP7pVE0AZQW6+nvq8P6YL1D+cw0FATQHDPxo3Mj/wLvA+AOzZQOKZuD/avjpAvKVmQE2H30C5IQlAjAjmQIr/WUDc4MtA0n2MQAHftz/Uy+RArn7BQI545z/ZeUlAE4NVQP5/y0DGV0BAg8irQMSQvEAa6wVASuNMQErZP0Ach+1Awj/TQCUYxkCGkQRAIEgjQFpIqkB6jWFApi+KQGSo9T+XJvI/PC1dQHIo5j9O0aNAV6FRQCrjskACHARAv5pPQOc/3z+rkc8/1I03vo9LBkDa3SFAVz0cQCrx/z9NPTdAGMGNQMGZLUBol5Y/Tm5AQPITjUCe+V1AXS0ZQNIbT0CyvjpAz904QNUSBUBl5jlAgs0RQIa3IECoEExAuESLQIfH7D9bwSJAESaZQJSAeEBBEEBAlcyVQI8XFz8IgYFAw6ogQJm0gkBDXY5ALQeAQFw5d0Ce/2FA7coDQceOg0A2o7dAeOVqQNv4d0DFmaJAv0iNQHTrxEDr4olAihOsQGJknUAwAGRA5nOcQPSdN0Doh55Ap+RRQGfWokBtH4NAuT59QDd9W0DLwq5AQIxBQN47ukDHbLdAyZhJQPC83EDQk/w/uheRQMZY/z9iu4s//Vw2QDAimUDwHXtAw2+kQETqMUAgV4o/XotzQLWUDUA7zIJAmCbwP0v+NUD77M++QnBDQPVeTb6GY7ZAdeuEQC1VlkDEqiy+1VwHPkDBhUAN1nxAKCfbP9XorT+0ogBABknhQOcyRUBeHgVBlYuBQOnaqkCQ8YVAkK3rP1/vkEAFVQ5ApOmiQMP+h74D4ChA9PNaQC9NVEC2cLFAOPfRQMHC5UC/MshA+RvDQGUhCkCi7/w/jjgFQNR8D0BfrilAtfuqQIP9EkBWcS8/jPlhQFDsiT8dDcE/oGMdP6Nrhz8MJpdAH3mtP6FmG0DPdDg/F4BiQB5rIUDxdiJAZCbCP4Uv8D9Q1IdArN1IQPzTBUCD43o/0mFlQFAfnEBXry9AqNUpQA9EA0DS7nZAvN4JQAhAikAOujdAqfb/P9A+NEAjYBpAj+U3QOUtXkBM0WRADrmBQFqrRUCMFBhAMGa/QE6SHEDRGC9A1VMoQFZvmkCRlodAbpSDQPblO0ABzohA1gCDQOgDRkCVGUxAK3KAQFNXBEDQ3gJBJxw/QDJfh0DhpIFAIfGSQHVqYUADd3pAED02QEr80ECLdaFApUu/QNw83EC84o9ANyy0QOwc9D8Jid9AReSWQIZQAUCm3QFAZSDeQGQPvT/WfpQ+mbkNQMzxZkAuyulAowT7P1m9I0DhGzFAB4p2QNFNrT+54tQ/xb8nQO3OhUB6Y4lAMKWAQDj2cUCZJZZAfWHnPw1+U0BmVPC+S8Z+QCNbX0B6g9c/vUqqQKtdvz/215pADjLoQP+elkBKJ6xABSWwQAHVx0CB2HpAj/fevuASmT8dr5pAauz7P+OUVUBiqYhACeJcQISzC0BjlFlAex9KQCsX4EDAn6hA8wm4QOqi3kDRIYhAU9KeQPF2D0AYcThAK/eTP7eRWEAzjIY/f8rDQFoRqUAk6ek/003BQG5aC0A/EAZApaMsPzUTcED3PCJAOnPDP3O6SkCaTes/Z7xjQLyluT8QvndAeQ79P8TQAUDnc2I/sJgNQMXC+D99FWlAehkqQK0LfUDWToZA6fF7QE3xj0B6V/o/JXAaQPeUdUCAIx9Aw8keQL9hM0D1zpFAEjzpP0JuRUCvmU1AqDs4QLtchkALRCBAhOw2QJg0K0BmgYVAvCYvQD8Ch0A46zJA",
          "dtype": "f4"
         },
         "yaxis": "y"
        },
        {
         "alignmentgroup": "True",
         "hovertemplate": "Metadata_seeding_density=12000<br>umap0=%{x}<extra></extra>",
         "legendgroup": "12000",
         "marker": {
          "color": "#006837",
          "symbol": "circle"
         },
         "name": "12000",
         "offsetgroup": "12000",
         "scalegroup": "x",
         "showlegend": false,
         "type": "violin",
         "x": {
          "bdata": "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",
          "dtype": "f4"
         },
         "xaxis": "x3",
         "yaxis": "y3"
        },
        {
         "alignmentgroup": "True",
         "hovertemplate": "Metadata_seeding_density=12000<br>umap1=%{y}<extra></extra>",
         "legendgroup": "12000",
         "marker": {
          "color": "#006837",
          "symbol": "circle"
         },
         "name": "12000",
         "offsetgroup": "12000",
         "scalegroup": "y",
         "showlegend": false,
         "type": "violin",
         "xaxis": "x2",
         "y": {
          "bdata": "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",
          "dtype": "f4"
         },
         "yaxis": "y2"
        }
       ],
       "layout": {
        "font": {
         "color": "black",
         "size": 22
        },
        "legend": {
         "font": {
          "size": 20
         },
         "title": {
          "text": "Metadata_seeding_density"
         },
         "tracegroupgap": 0
        },
        "template": {
         "data": {
          "bar": [
           {
            "error_x": {
             "color": "#2a3f5f"
            },
            "error_y": {
             "color": "#2a3f5f"
            },
            "marker": {
             "line": {
              "color": "#E5ECF6",
              "width": 0.5
             },
             "pattern": {
              "fillmode": "overlay",
              "size": 10,
              "solidity": 0.2
             }
            },
            "type": "bar"
           }
          ],
          "barpolar": [
           {
            "marker": {
             "line": {
              "color": "#E5ECF6",
              "width": 0.5
             },
             "pattern": {
              "fillmode": "overlay",
              "size": 10,
              "solidity": 0.2
             }
            },
            "type": "barpolar"
           }
          ],
          "carpet": [
           {
            "aaxis": {
             "endlinecolor": "#2a3f5f",
             "gridcolor": "white",
             "linecolor": "white",
             "minorgridcolor": "white",
             "startlinecolor": "#2a3f5f"
            },
            "baxis": {
             "endlinecolor": "#2a3f5f",
             "gridcolor": "white",
             "linecolor": "white",
             "minorgridcolor": "white",
             "startlinecolor": "#2a3f5f"
            },
            "type": "carpet"
           }
          ],
          "choropleth": [
           {
            "colorbar": {
             "outlinewidth": 0,
             "ticks": ""
            },
            "type": "choropleth"
           }
          ],
          "contour": [
           {
            "colorbar": {
             "outlinewidth": 0,
             "ticks": ""
            },
            "colorscale": [
             [
              0.0,
              "#0d0887"
             ],
             [
              0.1111111111111111,
              "#46039f"
             ],
             [
              0.2222222222222222,
              "#7201a8"
             ],
             [
              0.3333333333333333,
              "#9c179e"
             ],
             [
              0.4444444444444444,
              "#bd3786"
             ],
             [
              0.5555555555555556,
              "#d8576b"
             ],
             [
              0.6666666666666666,
              "#ed7953"
             ],
             [
              0.7777777777777778,
              "#fb9f3a"
             ],
             [
              0.8888888888888888,
              "#fdca26"
             ],
             [
              1.0,
              "#f0f921"
             ]
            ],
            "type": "contour"
           }
          ],
          "contourcarpet": [
           {
            "colorbar": {
             "outlinewidth": 0,
             "ticks": ""
            },
            "type": "contourcarpet"
           }
          ],
          "heatmap": [
           {
            "colorbar": {
             "outlinewidth": 0,
             "ticks": ""
            },
            "colorscale": [
             [
              0.0,
              "#0d0887"
             ],
             [
              0.1111111111111111,
              "#46039f"
             ],
             [
              0.2222222222222222,
              "#7201a8"
             ],
             [
              0.3333333333333333,
              "#9c179e"
             ],
             [
              0.4444444444444444,
              "#bd3786"
             ],
             [
              0.5555555555555556,
              "#d8576b"
             ],
             [
              0.6666666666666666,
              "#ed7953"
             ],
             [
              0.7777777777777778,
              "#fb9f3a"
             ],
             [
              0.8888888888888888,
              "#fdca26"
             ],
             [
              1.0,
              "#f0f921"
             ]
            ],
            "type": "heatmap"
           }
          ],
          "histogram": [
           {
            "marker": {
             "pattern": {
              "fillmode": "overlay",
              "size": 10,
              "solidity": 0.2
             }
            },
            "type": "histogram"
           }
          ],
          "histogram2d": [
           {
            "colorbar": {
             "outlinewidth": 0,
             "ticks": ""
            },
            "colorscale": [
             [
              0.0,
              "#0d0887"
             ],
             [
              0.1111111111111111,
              "#46039f"
             ],
             [
              0.2222222222222222,
              "#7201a8"
             ],
             [
              0.3333333333333333,
              "#9c179e"
             ],
             [
              0.4444444444444444,
              "#bd3786"
             ],
             [
              0.5555555555555556,
              "#d8576b"
             ],
             [
              0.6666666666666666,
              "#ed7953"
             ],
             [
              0.7777777777777778,
              "#fb9f3a"
             ],
             [
              0.8888888888888888,
              "#fdca26"
             ],
             [
              1.0,
              "#f0f921"
             ]
            ],
            "type": "histogram2d"
           }
          ],
          "histogram2dcontour": [
           {
            "colorbar": {
             "outlinewidth": 0,
             "ticks": ""
            },
            "colorscale": [
             [
              0.0,
              "#0d0887"
             ],
             [
              0.1111111111111111,
              "#46039f"
             ],
             [
              0.2222222222222222,
              "#7201a8"
             ],
             [
              0.3333333333333333,
              "#9c179e"
             ],
             [
              0.4444444444444444,
              "#bd3786"
             ],
             [
              0.5555555555555556,
              "#d8576b"
             ],
             [
              0.6666666666666666,
              "#ed7953"
             ],
             [
              0.7777777777777778,
              "#fb9f3a"
             ],
             [
              0.8888888888888888,
              "#fdca26"
             ],
             [
              1.0,
              "#f0f921"
             ]
            ],
            "type": "histogram2dcontour"
           }
          ],
          "mesh3d": [
           {
            "colorbar": {
             "outlinewidth": 0,
             "ticks": ""
            },
            "type": "mesh3d"
           }
          ],
          "parcoords": [
           {
            "line": {
             "colorbar": {
              "outlinewidth": 0,
              "ticks": ""
             }
            },
            "type": "parcoords"
           }
          ],
          "pie": [
           {
            "automargin": true,
            "type": "pie"
           }
          ],
          "scatter": [
           {
            "fillpattern": {
             "fillmode": "overlay",
             "size": 10,
             "solidity": 0.2
            },
            "type": "scatter"
           }
          ],
          "scatter3d": [
           {
            "line": {
             "colorbar": {
              "outlinewidth": 0,
              "ticks": ""
             }
            },
            "marker": {
             "colorbar": {
              "outlinewidth": 0,
              "ticks": ""
             }
            },
            "type": "scatter3d"
           }
          ],
          "scattercarpet": [
           {
            "marker": {
             "colorbar": {
              "outlinewidth": 0,
              "ticks": ""
             }
            },
            "type": "scattercarpet"
           }
          ],
          "scattergeo": [
           {
            "marker": {
             "colorbar": {
              "outlinewidth": 0,
              "ticks": ""
             }
            },
            "type": "scattergeo"
           }
          ],
          "scattergl": [
           {
            "marker": {
             "colorbar": {
              "outlinewidth": 0,
              "ticks": ""
             }
            },
            "type": "scattergl"
           }
          ],
          "scattermap": [
           {
            "marker": {
             "colorbar": {
              "outlinewidth": 0,
              "ticks": ""
             }
            },
            "type": "scattermap"
           }
          ],
          "scattermapbox": [
           {
            "marker": {
             "colorbar": {
              "outlinewidth": 0,
              "ticks": ""
             }
            },
            "type": "scattermapbox"
           }
          ],
          "scatterpolar": [
           {
            "marker": {
             "colorbar": {
              "outlinewidth": 0,
              "ticks": ""
             }
            },
            "type": "scatterpolar"
           }
          ],
          "scatterpolargl": [
           {
            "marker": {
             "colorbar": {
              "outlinewidth": 0,
              "ticks": ""
             }
            },
            "type": "scatterpolargl"
           }
          ],
          "scatterternary": [
           {
            "marker": {
             "colorbar": {
              "outlinewidth": 0,
              "ticks": ""
             }
            },
            "type": "scatterternary"
           }
          ],
          "surface": [
           {
            "colorbar": {
             "outlinewidth": 0,
             "ticks": ""
            },
            "colorscale": [
             [
              0.0,
              "#0d0887"
             ],
             [
              0.1111111111111111,
              "#46039f"
             ],
             [
              0.2222222222222222,
              "#7201a8"
             ],
             [
              0.3333333333333333,
              "#9c179e"
             ],
             [
              0.4444444444444444,
              "#bd3786"
             ],
             [
              0.5555555555555556,
              "#d8576b"
             ],
             [
              0.6666666666666666,
              "#ed7953"
             ],
             [
              0.7777777777777778,
              "#fb9f3a"
             ],
             [
              0.8888888888888888,
              "#fdca26"
             ],
             [
              1.0,
              "#f0f921"
             ]
            ],
            "type": "surface"
           }
          ],
          "table": [
           {
            "cells": {
             "fill": {
              "color": "#EBF0F8"
             },
             "line": {
              "color": "white"
             }
            },
            "header": {
             "fill": {
              "color": "#C8D4E3"
             },
             "line": {
              "color": "white"
             }
            },
            "type": "table"
           }
          ]
         },
         "layout": {
          "annotationdefaults": {
           "arrowcolor": "#2a3f5f",
           "arrowhead": 0,
           "arrowwidth": 1
          },
          "autotypenumbers": "strict",
          "coloraxis": {
           "colorbar": {
            "outlinewidth": 0,
            "ticks": ""
           }
          },
          "colorscale": {
           "diverging": [
            [
             0,
             "#8e0152"
            ],
            [
             0.1,
             "#c51b7d"
            ],
            [
             0.2,
             "#de77ae"
            ],
            [
             0.3,
             "#f1b6da"
            ],
            [
             0.4,
             "#fde0ef"
            ],
            [
             0.5,
             "#f7f7f7"
            ],
            [
             0.6,
             "#e6f5d0"
            ],
            [
             0.7,
             "#b8e186"
            ],
            [
             0.8,
             "#7fbc41"
            ],
            [
             0.9,
             "#4d9221"
            ],
            [
             1,
             "#276419"
            ]
           ],
           "sequential": [
            [
             0.0,
             "#0d0887"
            ],
            [
             0.1111111111111111,
             "#46039f"
            ],
            [
             0.2222222222222222,
             "#7201a8"
            ],
            [
             0.3333333333333333,
             "#9c179e"
            ],
            [
             0.4444444444444444,
             "#bd3786"
            ],
            [
             0.5555555555555556,
             "#d8576b"
            ],
            [
             0.6666666666666666,
             "#ed7953"
            ],
            [
             0.7777777777777778,
             "#fb9f3a"
            ],
            [
             0.8888888888888888,
             "#fdca26"
            ],
            [
             1.0,
             "#f0f921"
            ]
           ],
           "sequentialminus": [
            [
             0.0,
             "#0d0887"
            ],
            [
             0.1111111111111111,
             "#46039f"
            ],
            [
             0.2222222222222222,
             "#7201a8"
            ],
            [
             0.3333333333333333,
             "#9c179e"
            ],
            [
             0.4444444444444444,
             "#bd3786"
            ],
            [
             0.5555555555555556,
             "#d8576b"
            ],
            [
             0.6666666666666666,
             "#ed7953"
            ],
            [
             0.7777777777777778,
             "#fb9f3a"
            ],
            [
             0.8888888888888888,
             "#fdca26"
            ],
            [
             1.0,
             "#f0f921"
            ]
           ]
          },
          "colorway": [
           "#636efa",
           "#EF553B",
           "#00cc96",
           "#ab63fa",
           "#FFA15A",
           "#19d3f3",
           "#FF6692",
           "#B6E880",
           "#FF97FF",
           "#FECB52"
          ],
          "font": {
           "color": "#2a3f5f"
          },
          "geo": {
           "bgcolor": "white",
           "lakecolor": "white",
           "landcolor": "#E5ECF6",
           "showlakes": true,
           "showland": true,
           "subunitcolor": "white"
          },
          "hoverlabel": {
           "align": "left"
          },
          "hovermode": "closest",
          "mapbox": {
           "style": "light"
          },
          "paper_bgcolor": "white",
          "plot_bgcolor": "#E5ECF6",
          "polar": {
           "angularaxis": {
            "gridcolor": "white",
            "linecolor": "white",
            "ticks": ""
           },
           "bgcolor": "#E5ECF6",
           "radialaxis": {
            "gridcolor": "white",
            "linecolor": "white",
            "ticks": ""
           }
          },
          "scene": {
           "xaxis": {
            "backgroundcolor": "#E5ECF6",
            "gridcolor": "white",
            "gridwidth": 2,
            "linecolor": "white",
            "showbackground": true,
            "ticks": "",
            "zerolinecolor": "white"
           },
           "yaxis": {
            "backgroundcolor": "#E5ECF6",
            "gridcolor": "white",
            "gridwidth": 2,
            "linecolor": "white",
            "showbackground": true,
            "ticks": "",
            "zerolinecolor": "white"
           },
           "zaxis": {
            "backgroundcolor": "#E5ECF6",
            "gridcolor": "white",
            "gridwidth": 2,
            "linecolor": "white",
            "showbackground": true,
            "ticks": "",
            "zerolinecolor": "white"
           }
          },
          "shapedefaults": {
           "line": {
            "color": "#2a3f5f"
           }
          },
          "ternary": {
           "aaxis": {
            "gridcolor": "white",
            "linecolor": "white",
            "ticks": ""
           },
           "baxis": {
            "gridcolor": "white",
            "linecolor": "white",
            "ticks": ""
           },
           "bgcolor": "#E5ECF6",
           "caxis": {
            "gridcolor": "white",
            "linecolor": "white",
            "ticks": ""
           }
          },
          "title": {
           "x": 0.05
          },
          "xaxis": {
           "automargin": true,
           "gridcolor": "white",
           "linecolor": "white",
           "ticks": "",
           "title": {
            "standoff": 15
           },
           "zerolinecolor": "white",
           "zerolinewidth": 2
          },
          "yaxis": {
           "automargin": true,
           "gridcolor": "white",
           "linecolor": "white",
           "ticks": "",
           "title": {
            "standoff": 15
           },
           "zerolinecolor": "white",
           "zerolinewidth": 2
          }
         }
        },
        "title": {
         "text": "UMAP by Seeding Density"
        },
        "xaxis": {
         "anchor": "y",
         "domain": [
          0.0,
          0.7363
         ],
         "tickfont": {
          "size": 16
         },
         "title": {
          "font": {
           "size": 20
          },
          "text": "umap0"
         }
        },
        "xaxis2": {
         "anchor": "y2",
         "domain": [
          0.7413,
          1.0
         ],
         "matches": "x2",
         "showgrid": false,
         "showline": false,
         "showticklabels": false,
         "ticks": ""
        },
        "xaxis3": {
         "anchor": "y3",
         "domain": [
          0.0,
          0.7363
         ],
         "matches": "x",
         "showgrid": true,
         "showticklabels": false
        },
        "xaxis4": {
         "anchor": "y4",
         "domain": [
          0.7413,
          1.0
         ],
         "matches": "x2",
         "showgrid": false,
         "showline": false,
         "showticklabels": false,
         "ticks": ""
        },
        "yaxis": {
         "anchor": "x",
         "domain": [
          0.0,
          0.7326
         ],
         "tickfont": {
          "size": 16
         },
         "title": {
          "font": {
           "size": 20
          },
          "text": "umap1"
         }
        },
        "yaxis2": {
         "anchor": "x2",
         "domain": [
          0.0,
          0.7326
         ],
         "matches": "y",
         "showgrid": true,
         "showticklabels": false
        },
        "yaxis3": {
         "anchor": "x3",
         "domain": [
          0.7426,
          1.0
         ],
         "matches": "y3",
         "showgrid": false,
         "showline": false,
         "showticklabels": false,
         "ticks": ""
        },
        "yaxis4": {
         "anchor": "x4",
         "domain": [
          0.7426,
          1.0
         ],
         "matches": "y3",
         "showgrid": true,
         "showline": false,
         "showticklabels": false,
         "ticks": ""
        }
       }
      }
     },
     "metadata": {},
     "output_type": "display_data"
    }
   ],
   "source": [
    "yellow_green_colors = [\"#ffffcc\", \"#c2e699\", \"#78c679\", \"#31a354\", \"#006837\"]\n",
    "\n",
    "fig = px.scatter(\n",
    "    umapdf,\n",
    "    x=\"umap0\",\n",
    "    y=\"umap1\",\n",
    "    color=\"Metadata_seeding_density\",\n",
    "    title=\"UMAP by Seeding Density\",\n",
    "    color_discrete_sequence=yellow_green_colors,\n",
    "    marginal_x=\"violin\",\n",
    "    marginal_y=\"violin\",\n",
    ")\n",
    "\n",
    "fig.update_layout(\n",
    "    font=dict(size=22, color=\"black\"),\n",
    "    legend=dict(font=dict(size=20)),\n",
    "    xaxis=dict(\n",
    "        title_font=dict(size=20),\n",
    "        tickfont=dict(size=16),\n",
    "    ),\n",
    "    yaxis=dict(\n",
    "        title_font=dict(size=20),\n",
    "        tickfont=dict(size=16),\n",
    "    ),\n",
    ")\n",
    "\n",
    "fig.show()\n",
    "fig.write_image(\n",
    "    static_figure_path / \"round1_seeding_density_umap.png\", width=2000, height=1200\n",
    ")\n",
    "fig.write_html(\n",
    "    int_figure_path / \"round1_seeding_density_umap.html\",\n",
    "    full_html=True,\n",
    "    include_plotlyjs=\"embed\",\n",
    ")"
   ]
  },
  {
   "cell_type": "code",
   "execution_count": 20,
   "metadata": {
    "execution": {
     "iopub.execute_input": "2025-07-14T18:41:41.924705Z",
     "iopub.status.busy": "2025-07-14T18:41:41.924571Z",
     "iopub.status.idle": "2025-07-14T18:41:44.280829Z",
     "shell.execute_reply": "2025-07-14T18:41:44.280379Z"
    },
    "jukit_cell_id": "xfvHhoGCg7"
   },
   "outputs": [
    {
     "data": {
      "application/vnd.plotly.v1+json": {
       "config": {
        "plotlyServerURL": "https://plot.ly"
       },
       "data": [
        {
         "hovertemplate": "Metadata_time_point=24<br>umap0=%{x}<br>umap1=%{y}<extra></extra>",
         "legendgroup": "24",
         "marker": {
          "color": "#ffeda0",
          "symbol": "circle"
         },
         "mode": "markers",
         "name": "24",
         "showlegend": true,
         "type": "scattergl",
         "x": {
          "bdata": "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",
          "dtype": "f4"
         },
         "xaxis": "x",
         "y": {
          "bdata": "CpHKQN06g0CGkhxAiUGhQFWrjkC9I5e+s6J8vlBg3UCWTF9A9sOaQFlwyb4STCRAK78gO+xW0r4r5zhAMM73P3pdtT5fC6pAbNtxQGyfxUBdgpRACIvFQKJOm74X3eFAODu2QF4f3ECW0Kq+D9nTQG4wJEB6aIdAVM6XQO3BQj8yV5k/MSt3P4Hbyz8Z8NJA2wfVQIYFGUCk2Y2+d16gvoVDbkBxM6S+az6eQNlfWkD8mtRAVN+jPBL20z9vn2ZA9pOGQKe0ir73+wZAsmleQNTSUUBKvK9AAz9nQJYloEByoWBAsF19QGTGZkAg94ZAUpjEQEaSlEB13kG+YO+vQC/MZT4GdplAh+01QES1TUBo1H1AF70fvrhpir6+uOtAu96PQCHcxb4XDq4/xQRuQDQSlT+M+z5Av/XLQHwlpUD38GxA/q+IPmz1xUAWSP5AAc8BQamP9UD5NaFAICSkPp8WxUCsq7pAaajAQJmGoUD1ML9ANGCmQGqVk0Ada4O9SjaBPx261kDfmntASvz4vbtu6UC4spW/6v3WQAR4sUDEhNY98xejv91Uvr93gcVA96WsvwRsKkCC+JxAZcq+QFvpxEC8D5e/4DmaQKr5YD92mcxA2ZeUP/B8sb/lULO/vhL3P9Rk5b7e07i/dzXvP91bcD7RNo5AYAbAvxfZwb/6M8S/ST/Bv+gcOL9hK8O/DI3BvzeSu7887tpAU7Povkjev79hA8S/yQifv91w7r63Muu+BhCmv+1wxUB5yLu/+Sq9v3oNxL+qvcK/RNi/v30EoUCx3sC/fi/jPkV/xz67S8c+wSLzPqAKCb5w2uK+oxJ2QLr/Ib0S7gM/b3rMPjFR3T7Mkcw+Mb7lPl7L0j4sZN0+CAzuPjkSzD5J5+M+0bXaPvjj0T7hRfQ+5bbxPiVv+70dqFQ/eEPnPuCxzz48Qvk+FWHSPhWl30D8Oes+4Ej9PtJS1kD7htw+oVqjQK/lQkDKv88+IkbiPtlE3T6EvNw+Z67KPhy+zj5p7QA/5l0BP9Et6j53ysk++KX3Pt3wxD7K3t1AOFZCvvad8j4R6rZAlGG8vYbQvL/Dr66/vK+ev/2RgUBTBcK/LzTkvju8t79ORIpAScahvwYUoL9btd1A/vGbv8xtlr+2Va2/m5K5vz3flb/EVbW/RzUzQJs31kB/uZe/TMqnv4xruL+woL1AH6e8v0bfj72o1jw/x7bXQA4EIj8bJFU/fo9kQHYAjUAdL7S+RviCP6UgaT8TvxS/HGbWQImaFT6XOhe+ICTUQPWClD+hwfhATcWFP70MKD+i+4c/oQCRP6kRhT9UBy0/B8mTP3YLnj9ovABBymNvQKojtkBCWbW/cMQgQB0x4r5YFLxAdkCzv0ouZz/3b5e/S78QvhCOtUB5RLtAiLa0QAgrub/TeJW/8pXnQNejvL/mr72/g++uPxdsmL9AsJE/MhGHP16i10AvpplAVxFkQPnu7ECA171AvxyyQC2My0AZGZBAxXe3QK/31D9q4Mk+CU8BQUGYwUDwZPhAi6KMQEJNXUCw0Hw/Ol7tQLRoaUAp68dAzV+TQJ15RD/1NVZAp4KTQAeDv0BKERS+IlryQNoDxUDu3KhAH2Z0P68R20CCRSM/OXIpP9/pVkBAdpg/mVC0QJhpQ0AyUmhAVqmEQMgxgUDuilZAw1jrPur0uECXQslAqnvYQHTo1UCTs64/9M2ZPiKLSkDkJtNAMscnQIYb4kBz/8lAYprNQJ+w4EB8nM1A72s+QKIQ20CUvvhAL/TXQJJ62kCez+1A6Of5QM/v5UA12uZA0YTAQKrq7kD8W9RA/UrvQIgf70B+7/RAIuTyQF/Q6UB9StpATSrbQLMZ0UCqhd9AXbreQKnhzkBMAvVASvruQLL+2EBQPPlAKSnBQNAR+EA9XfNAA3jzQNju60AGfOpAGBjmQJRs3UDj6OJArIDwQBsF6kBAHPxAw7P2QAFB8kDn5vFAfaveQMtA4kAqndBAKiPVQEko70BeOOxA0tbxQHkSqj87c8E/shrzQF394kAcafBA2VG3QFhg6UARudhAGDvbQCJ2+UCQm+pA8JrnQFkvz0C1Y/BAlqzZQDpR9kBRw+1A0M/tQHVHpUAgqvtAcmrZQOWo1kCHMN1A0dvZQF3jy0DcvrdAZIrZQHs940DDjtdAY9HFQMCy1kAmA8xAwkiKQHNy2kAszdhAjoejQNpSsUBcLbZAW263QNigqUCH9cJAtIXlQIUT7kAIi2VA/vFPQIGg9kACndZA2AS3QKGusEBEjH5AVzmgQBxYpUD/vt1A6+POQBip2kC8679Anum1QDMY10BaJuZAOkPVQHff4kC9M9VAt2zqQJn3sEBwP81AVgjDQAYA0kCG07JANxGUQCjy4EAwJZJAW6i5v7b2sr9xfapAcEE+P9x63EC+ErC/RuG1v+xPVz8Z57e/+lfBQMKn4b7svNxAZWSwv69ksr/JC52/QaWhvyNr4T1w73Y+GSmoP2g0qD/HcLS/029yvwKCur/TTp2/X+zgQIL45UA3/7a/7cjpQD+wA7+EzjU/H1rvQNY+5kBKZJO/DeSMQEAIAEEOZQRAf9ToQOwdzb5zdMRAzGWzPgYElj+DEOy+pAPbQAg6oUCnjvtAkcGtv10GAUHNPt1A6YgAQKDHlD54OLu/hGTZQBFFij+jcg0+TAqEQP3h2kBe64pAS3ABQXNI9UBoUslAav7cQOD2/0Dh49ZAJXD/QLbe7EDs5pe/xNd9QLYbF0A7rs5AWI/2QANO1j/CbNtAMVIAQez7r0Dye30+hiOjQHJG5kCGauhAcqj4QEowW0AFdAJBxADqQO6g9T8mzQdALq6BQFXZyUC/lbpASx+jQCXWyj/BMqG+zcP/QE7spECvUxVAmYD0QE1W+EB/0pJAZxmoQKAt2kBOzeZAZVPCQMIGC0CY9j9ASivxPlZY3T6fncBAmd/pPsEdqL4NltG+dsCIQMjQ6z4g+dhAp7vaPi9Kx0CsiAU+M23wQEKB1D7sdtE+4v7APz6WfUDSHN4+ZRoCP5AJ+D+TMoFAIAbQQKcM0EDq6q+/1g+5vyOx775vtGs/tki5v+TwuL8dNL2/FUl9P+PKtL+qdbq/HoOov6H3rr+2bp6/5y5qP+22qb9/ybW/q/G9v+5nv79bTPe+ze2uvyRV4b7FlaG/Jc+6vxaBt79QI7K/lPm8v+BYn7+ALbW/54ehv3M6eL9dmt++4U+9v9NRIj793I4+BmO7v17YuL8WLJa/9Vusv8nllr+ZJra/4E7Dv0JJp7+zKE0/WRqfv8vQVT5twqO/Ssizv3sVvr9E4wq/Viytv6J9TD8iAsS/1e6XPquNtb/DO6U/fbavQLvuIr4dCOG+dWyXv/65Kj/ER8O/dtrCv/C0aj0O4zE/eAnDv9ahob+rScS/cZjCv0UBur+jjpq/8s6TvoJEEr7P+sG/8QqJP2aOxL/JuJs/rdxTvbkKkj9rfcG//V1/QOGAJj9SuYg/o2t4P8QXwb8bORBAjrkrP5RtxL/ByCQ/fDQHvu4S7D5Pt5U/KLHnvvoJkD8htes+vj3kPvcNLT/kGsO/okO0QHaaGj/r+8G/wcDZPnyxgD8B9Ae9OvOPP0Zyij/Yjvs+izOTP/CR8D5vuZg/LDksPwfK8j6Zv/E+6d3kvr1y/z4Upus+GandPivMqT69FmZAzkZePktYgj91t8I+5C7PP70sbz9BuOE+6TdWuw8B2j9aNZw/Dam2P/hsXkDQFtNAj5eQPxQVcT/errA/yom2QDNkvD89E0i9HQWLQNB62T+QmJ5ArOQnvgvDpD/T3a1ALk6fP+wGoD9ks7JARlaeQD+Aoj/KLKxAfzS0P7subD6c021Arf5fP3mwoz5A8OlAhujyQPdKakALuaw/V5y1QGFbWECEV3M/ekYBQBzSdkAMJFVAA2jGP6MFxEB1BrM/cvWuQOENdj+Fh4pAWriJP8rzaEDHNbY/kgI9QIQXR0B1/7RA08tvP6WDqD+lhzpArP2EQOwwakD39qBAvQiuQGNyT0AZ9WZA2J5qQCZJY0D40ERAeKxaP3XKwz64dQFAtoajQDZpPEBqls0/XB2PQBAjXEDwujdAQBnWPzshw0CZ03JAkexDQHdQSEBiMFpAl45PQA/eo0Dz1l1AUb+JQK5ugUDehF1AsUNrQEsvUEC+a8s/dVM4QN5cW0AEFog/tHkTQGhuBEAApExAr6ZbQFSMP0Apz2dAFTueQAisHUB/XZJAP26vQKIBMEBKRn9AbVo0QG0OekB3XDhAUX0eQFAcrj/R5ShA0a2QQCHlSEDW3ZFAbhUsQAxdSEAG3oJArd5ZQIQgHkBXsY9AZRpiQJ48dEAsWJVAYjx8QCiHOEAL7GJAggU0QAgEa0At1ZZArlnwPwgGLkBCJtY/sQqjQA6bd0BJVIM/lsQ3QLXRBkAu75xA5aXTPwBqokBuZWFAifC0QEjhAED9wfa91JbJPxOY0z867qtAk5SZQEmxOT//gDtAS5YPvdON7T+h+8FAl5CrQMxUSz6G4l1A80ixQFi7JUDPa/s/IDQ/QI/gNT25cYJAGkoWQOc7FD4PEiY+Oe8dQHDznkDxWCS+klOiQM6djEDDWrJAtzQqQDrznz5KHZRA3O1aQIdQNECmGltA3MctQJXoS77eWz0+x67WQE+jSUBFeQhAbRoTQFq+DkBBt01A5KPOPySxRUD5sa5AnTEdQAC3FkDdt0NAjGh/P7Q2JT/eELBAF+StQCA2yz/wi3FAUZufQOw4lkAwLBk/bnjxP1o5GkAmQ0o/cqAqQC5Tq0DPHChAy281QGOpnkCCYHtAOkxAQBp4k0CqwgpAXgUMPjk1K0AtGUdA/awNQK8OUkDaFhhAWZt3QH9w7T/K+x5AmGrnPwmOYEBURHpAu/wCQfEzij58fxhAyn48QMAGGUB6eBpAc+uRQB8hJEDpa1s+EhkTQG+JPECUuiFA8GPpP7V3J0AsLqk/KTHhPpRnbT6r92Q+3z2LPnUtYUBttTFAhvqRQIH8ekBkPaY/qXoWQONvrkB+Vr9A4DEVQGgf6D7YH3w/tYiZQGaE5z9BBm9AqgORvoDa6z8wpeE/hJ+VvvFvsz/jiq1AzlcnQDKbmT6oWuM/mT0dQIjXb0BNzcQ8xYJfQH0+BUBenuM/30PwPXXxybzTZQ++30MoQI61TEDT5odA05LEP57CmDz0+CBAz+74P0935T9bZL9ALx4KQJnHXkCPpBJAyEjnP1Q07z/0A7hAGv4TQA4H9T8I1Pw//U1TP/y1ej+3JCM+dFdpPfHpAEBa7e0/kg/gP/MlBUBvzUg+NA4EQDq+FUCAxas+NtqHQEOxPkB+vrQ/jLJDQNzotD9ZjwdAq29iQKwBdj45Krg/JtRDQOSW6D4cyPU/+E1nQI+UA0CO7vQ/5jNyQDCO9D/NR3Q+bJLaPuU0MT8+utA9ns7pP7THPEBToAg/9QEVQJNhAj5dxfY/pA2lPlYuzz7WEh1AqXYsQKhMMkAXAf0+6WAzPrElJkBANCs+AN1CPm9isECZbgQ/5IZEQKPv+j8hL0o+fuZNQMnlP0AiX04+x20XQMKl0T7wOhtAS+4cP78JXT6VERBAoUCEPWiHFECyeWM+6ZaJPjAKHz8Y2IY+UWsJQHmFIUDlPPk//78wQIYsSkBN9/w/FukOQE5VE0Dkpd8/MAZdP8UWLkAWGh1ABJM2PzSPlT3ez/89sVu+P+3ljkCMH9xAj0jNQJIMY0BQC5BAXbBnQLbmyUAlO11AwtUPQDsvyED8eNJAcJacQJpuY0ABKwFBqWeiQOKXx0An2shAKp/cQHcKhj9aSfu9dAmyQEE8pEDuaaJATIWjQPLQo0DG29NAFZOUQDj1o0BH7rlAxciCQGhRsD+9OMVAKsuHQDfWf0D3+rpA1/voQDwCb0AUmJRAFvvBQMqJf0BxJLhAhteMQNztBUA26Y1AbjEqQESvsEBRPetA2Y4EQPvwzUDGhddArxCSQNJuCEAnt2NAZ3+bQE3z3UCBxNVA+8WdQMvpv0B8rMxA4VPpQBtkfUD47IxAuBC/QP63gEAPH3tA5zOAQPOjtEA9JiRAcnegQLt6vEA7nplAEg+FQO7Ip0ChmZFAd6QTQDv+n0Aj4sZAX9mHQGA7oEC+PcpAea6NQNj8l0CvqABBeDqoQK+3y0CT+eBAZQl9QKqsQEBFRJhAjDmSQPfPVEDGad5AmzPSQM/ij0CnYJ5AXBvSQNnPeEDu/QhA9oTfQHglkkBXxD9ATrLkP6DxtkDbOtBAKwSdQPpWiEBBJplAI0a/QNUCjEBfhapAoo+fQJ5vl0AXPYBAVRtFQNordUA6HK9Az3+MQKLpq0D0snNA0LKwQC0IwkDB4chAcsCRQKvKgkB9i3VAzm+IQEGEgEAJsXtAJNmAQJn19L16zW9A2Tarv2V7XUClrLu+5tOeQN3fqb/TSay/WtjiP3mrIUBHEyRAlW52QAQzZj+dBiRAFKqQP5mpikA7eJZAzR8fQAyYfEAX54dAC8s+QK3Wl0AVlINAUK11P5kT30AlsKhAJZpAQJ/lgEBEVa1A88K5QIgAg0CVSWRAc6phQM+hx0BbnHpARfzrQG1YZkDg1GJAZWB/P8cvX0AW7vU/zdQ6QKGbZ0DeWnNA4WYtQNs5Jz3WGE5AaIqjQCjqakCGelVAXIWCQIOkgEDw0KtA62prQP+CqkAWr6hAhudJQJBJpEAJi3NAjorCQN47SECKHJFAcd2yQLpdq0Bd/LlAfbuVQHmRgEBpFIZAFpPeQCcewUA5FpJA77dzQPMcb0DVAJ1AMZJyQDWqskDkQdBAVmVKQPtOf0DD8YtAUvDJQL7EskDp45xAThDJQEb55UDFJT1AIAi7P85qXEBxkZNAn/wjQH+co0CvKlpAe73aP9enu0ApGIhAGMuaQKUvRECTTdo/WSK0QBn8nECEnoBAUEAJQCrRPkBAc5tAoWW2QAUBoUB9neNA8R9zQO1AMkDRrqBAeezpQH3tuL1uqJNAVYrUQObHc0B2MIU/lzm3QG+t076phhe+zsTqQMqM8D9qho9Ao9YSvuEmBUC//JpAyguwQKqEdj86bqy+wO87vpNpXkDXuMW+hftgvh/nGEAxC6FAItdTQE15oEDogTw+dj7UQJ7sZEArc05A+UdlQFaDb0DS74VAyWhHvr7bXkBfznU/voR6Ps6ZVr7KqaFA/oKpvjYwxUC02TNAGgycQKK9kUAovRC+6i4rQG1Ne0ADcVs+z5TdvvKYjEAxc3tADxwfvirAXz+Mn6VAgp1dP/E2ikBFDv+9SC9OQHAprT5nB5A/3gLcPz8OcEBWx3RA7+tpQArlUUA9KAhAFtRnQJG5M0BKyYZAqjizQBIJCj7N8olAbj1SQFwYLkCrwAVAchFAvmrJZEAGdqE/aqsiQDvuxr5bqiJAx+eDP75FgUC+foE/F79DQAHgjkA3SspA2ev2QKMUx0AvrdRA4ePlQGLY5ECF5ZI/rRKyQNXb2EADo+NALVnAQIePqUC3AehAlkvvQAsf5kBTftBAR0jAQFQgwkDY3PhAOMjwQN955kBbQNVAvtTeQKkA6kApBOBASDnnQP/nmUCD/+NAKSDkQKAl1kDfdOJARnPgQNBq2UByOMtAM57hQM8y50B2NdNA3vLaQPv+y0CjCupAYv22QB8PyL52/MJAxY3VQNsF5EBCgOFAIWrnQNw40kCMp81Ai7vqQP/pu0Buw5JAGnk3QANGr0B3OIBA4KXMQHqouEDt5bJA9RHKQLh7qkD2Id1Ar92/QPQQVUBj7HhAs3OrQN1ijkDJw75Avto3QDnruUB+Rdk/QuJ5QGDmdUAsjj5Av/WzQCfEuEAyemtA8B2KQCJMXUCEWT5AxuMCQA9jZ0AJUz1Ak2RXQFGGcEAcbi5AjwpqQLMafkDXdzFAUzmyQPp8VkBbWTJAqgUqQCAjPEBPeCFAhKysQJqJqkBiWrRAENw3QH/At0BUsmNApyecQJpdgUBiY/8/DLJOQKEIi0BIl4xAOvmaQOyJ7D92Kco/wz85QM6MkkCraKlA7kCDQPBhiUBNOEhAFv42QIsqRkA0JA1AsbSBQOD0h0BuyD1AqEwpQE8irUAh90JA5A9aQHFOlD9OHeVAbX3LQByVFkAEythATeADQTpiEkDGcEdAOyrYQGR9wkCK/tRAIcEDQHV59kDL6KlA43WqO/SUqkALwJE/y6ffQFjwBEABWuBA2KRZQIWjnkAGRdFAMPjdQC3NDz9gA4xAbWDOQKRGzED7F6pALjqjQO8RyEBAHYJAgESpQMV4wkAxsydA84GKQIEbwUAZy29A2KC6QMvdEUC3KKRAGabXQFkPRkD2pMpA6cVhQIcl8kC4ZoJAo9fFQBqZ7kB/cNRAPaGBQMhU8UDKf45A6MjlQGiw1kCmwYRAw3boQK9/lEBXJ51A7jC3QBlipEAliwxAaguoQJNqbEAfYZZAUyF/QLeFTEAAxoFA8FmMQOgyl0BgUWRAiBtxQP08+kAZ54BAa5jTQIojUEAPb1NAgWh2QMGEZkBAo3VA139GQHzzlkA3qaBAjo6WQJIJv0DjQHhAHEdNQDg0oEC9ZpNAeTjIP39elEAlvFpAUre+QOsa4EA689BAb/jAQDcNcUD02tlAmSB4QI7Zp0DdWqhA1J+nQDOrYkCotbpAGy7hQDjJnUDjNktAf5ewQDZ/QkAAO/tAIj+xQBXxmUB7RANBnvdbQJGzk0AyBolAmFurQP5Ld0Dx2XhAfj5hQIMFjEBwimxA9e6iQLpYkEAeu69ADgfSQJBY5EDn7h8/fqiOPwF0yEDSS7S+baCdP6fqWUCmKtlAL8PkQAFewUDM4XU/pw2tPvav4kCTxcJAvrsdvrshqr6gULBAEjKLPzGZur5thdJAG9fDvkgZnj9LmL5A2w6qQFJXxEB0ftNA4ss0P435lUC5S71Apn0NQMQ7oD/Vx1NAq5E6P6D7oEDD1OlAjNalQDMzskAUv8JAAJd3QCB2hz/zgOJA52qGP0y9bkCmot5A9haHvstWOr70Uwe+SVPfQDsrq0DDck9A87+hvraGIj/dPyNAXytVQGomJEDMDIw/fIPXPgFBk70xVuRA4Wu7P4+RNUDmGG1AWElRQGaDPD8JDa8/cxLcQHnUXkBWaztAtdIxQFSeEkDYY65A3+xFQP8oWEC8v8RAsiK3PxY9vUBZQL8/04qmP/A2zkDZ2Z9ASJhEQBzbwUASZxNA8xdzP5jAVkD7PwA/Iu2TQJnzbkAbcW1Alh9FQHWrZT08hMk/jPtKQMTQT0BrUoRAkm4KQOfd3kBEXVNAHqYWP5/ztT8eLFNARLSmP7bEXECS63Y/ALK3QHQhSEB+IYo/GtNhQN1MAUH1asRARcBYQJ97uj98PU4/qY3EP7pVE0AZQW6+nvq8P6YL1D+cw0FATQHDPxo3Mj/wLvA+AOzZQOKZuD/0xcM/puyIvnWoHUB2fSRAu4G0QBNThz8Azt5A+I5KP6LWkz8hO59AW3CzP6uBIECVg9pAOUKcQB+cjD+5dZM/lfksQCsEwkC2wWS9FAlIQN2q50Dkb00/zsbeQOIEBECO/6VAndo2QN0Nq0DGkf0/eytbP9E43kDFba0/06HnPxkM6kBk1t5AJcxfQDmq9UCRwu9AqaDJQFshJD9dkbZAD5nCQEqHkb7YUORAHDbhQEstdz88Gy9AwgfxQNNmzUADirFAi7LhQCAYp0AmC3NASzBCQFooU757UCBA0iKxQNgl5UApL4s/oOfrQDJ09D9wxHK9BbA0vqOI7D/5jb5AnEi7QArqLkArBA8+nEkdQAQIT0DqyzxAa1yZP+OaIUBfecA/I9Kqvl8X5ECJF7Q/Q6GMP/DW8T9VRUu+DoRVQKzALUABluhAKWrwP56mDEBLr5w+1NZDQIhUuz/MkgpABm7tQBYKhj8WEs0/XLyUQNOmgD9dP05AeIgqQLDYd0AGteFAqZgUQNDB6UCwZNI/2r46QLylZkBNh99AuSEJQIwI5kCK/1lA3ODLQNJ9jEAB37c/1MvkQK5+wUCOeOc/2XlJQBODVUD+f8tAxldAQIPIq0DEkLxAGusFQErjTEBK2T9AHIftQMI/00AlGMZAhpEEQHUP+T4pLuM/FZvNP0oL/EBUhpZAEoDiPRgL3ECIaf0/gm4CQOMAfD/0ldRAzO2PQHw2TD8hh5M/lsKaQHbiF0BaytZA79LxP5p3HT9GebZA8Q6evRsn7z+jibY/gqvdPwKb2T8NLY8/4bclPy6BgUBswwRAZLcavggFFUC9fyRAZDyMQG3Uiz/ObDc/DxOjQCTIub2nRDxAWilLQOJkGUDJHMW9CGIwQI74SkDKfta+eBwpQFC6mz9ZrT4/fHtqQIuUoD1vPdRA/QX6P1DqsEA2O6I/rPcCQFOpmEAElIdAYajivsyoFUA8Y2lAJ4DYP2m+x0AmYQRAjunZPgzKIEC6JK1AfFnNPxJEyj8Z6d0/o3+bQOl93L2MW+8/8KEcQAQZ8z9HnnlAEjUcQEEQXb4qHwVAVCvgP5tb8j/FviJAfyQUQED5mD/lOyBAY4hTQPy1ikDlauc+c16HQFulDUBe/BJAkLWDQJCuNr5Q5KZA0rgSQM73rT9QhJRAmI/DQGm0Jj9idqs/xOJwQNmoWUAgSCNAWkiqQHqNYUCmL4pAZKj1P5cm8j88LV1AcijmP07Ro0BXoVFAKuOyQAIcBEC/mk9A5z/fP6uRzz/UjTe+j0sGQNrdIUBXPRxAKvH/P009N0AYwY1AwZktQGiXlj9ObkBAvevdQD9Y0EAsyddAotzwQHTj50AyUeZAwQDpQDQG5kD8ZfVAcRzpQPli7EDlpN1A15vkQAnSx0DNLulAMiD1QF5N40AVOvdAm4e5QEie30Cdc+ZACITwQNLw1UB8ZLhA+W60QNI6+UBnxN5A4aDpQHPf00BnSuJAkAPZQD605kAkOdpAoxbrQBRy6EAHispAzYbqQPLFwUD+neZA2h3nQL+D70AuY8hA72DVQLbw30DcJ+9AASXUQFFu0ECErdhAtwDfQDtR4UCLSOFAporZQJaDrEB27+1AZNBkQEgYHkCSKbVAtELuQAcKP0AEBbRAusvJQKRR00DiLdZA9TO2QOcWmkDOk+xAsi2PQC1xpEALOZZApdXUQBLIuEBs8ag/7FuTQOC860D88IdA1Uo9QJKOYkBtzRxA9NZqQA1Ea0ASucVALndCQMQkX0D9dYVAkyclQOZTfkAoEw5AGAocQDQwn0DFGGBAMAjrP9QzH0B8LEZAXqFiQM6MLkBxMGxAecfhQFSpF0Cb6eQ/6cojQPITjUCe+V1AXS0ZQNIbT0CyvjpAz904QNUSBUBl5jlAgs0RQIa3IECoEExAuESLQIfH7D9bwSJAESaZQJSAeEBBEEBAlcyVQI8XFz8IgYFAw6ogQJm0gkBDXY5ALQeAQFw5d0A=",
          "dtype": "f4"
         },
         "yaxis": "y"
        },
        {
         "alignmentgroup": "True",
         "hovertemplate": "Metadata_time_point=24<br>umap0=%{x}<extra></extra>",
         "legendgroup": "24",
         "marker": {
          "color": "#ffeda0",
          "symbol": "circle"
         },
         "name": "24",
         "offsetgroup": "24",
         "scalegroup": "x",
         "showlegend": false,
         "type": "violin",
         "x": {
          "bdata": "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",
          "dtype": "f4"
         },
         "xaxis": "x3",
         "yaxis": "y3"
        },
        {
         "alignmentgroup": "True",
         "hovertemplate": "Metadata_time_point=24<br>umap1=%{y}<extra></extra>",
         "legendgroup": "24",
         "marker": {
          "color": "#ffeda0",
          "symbol": "circle"
         },
         "name": "24",
         "offsetgroup": "24",
         "scalegroup": "y",
         "showlegend": false,
         "type": "violin",
         "xaxis": "x2",
         "y": {
          "bdata": "CpHKQN06g0CGkhxAiUGhQFWrjkC9I5e+s6J8vlBg3UCWTF9A9sOaQFlwyb4STCRAK78gO+xW0r4r5zhAMM73P3pdtT5fC6pAbNtxQGyfxUBdgpRACIvFQKJOm74X3eFAODu2QF4f3ECW0Kq+D9nTQG4wJEB6aIdAVM6XQO3BQj8yV5k/MSt3P4Hbyz8Z8NJA2wfVQIYFGUCk2Y2+d16gvoVDbkBxM6S+az6eQNlfWkD8mtRAVN+jPBL20z9vn2ZA9pOGQKe0ir73+wZAsmleQNTSUUBKvK9AAz9nQJYloEByoWBAsF19QGTGZkAg94ZAUpjEQEaSlEB13kG+YO+vQC/MZT4GdplAh+01QES1TUBo1H1AF70fvrhpir6+uOtAu96PQCHcxb4XDq4/xQRuQDQSlT+M+z5Av/XLQHwlpUD38GxA/q+IPmz1xUAWSP5AAc8BQamP9UD5NaFAICSkPp8WxUCsq7pAaajAQJmGoUD1ML9ANGCmQGqVk0Ada4O9SjaBPx261kDfmntASvz4vbtu6UC4spW/6v3WQAR4sUDEhNY98xejv91Uvr93gcVA96WsvwRsKkCC+JxAZcq+QFvpxEC8D5e/4DmaQKr5YD92mcxA2ZeUP/B8sb/lULO/vhL3P9Rk5b7e07i/dzXvP91bcD7RNo5AYAbAvxfZwb/6M8S/ST/Bv+gcOL9hK8O/DI3BvzeSu7887tpAU7Povkjev79hA8S/yQifv91w7r63Muu+BhCmv+1wxUB5yLu/+Sq9v3oNxL+qvcK/RNi/v30EoUCx3sC/fi/jPkV/xz67S8c+wSLzPqAKCb5w2uK+oxJ2QLr/Ib0S7gM/b3rMPjFR3T7Mkcw+Mb7lPl7L0j4sZN0+CAzuPjkSzD5J5+M+0bXaPvjj0T7hRfQ+5bbxPiVv+70dqFQ/eEPnPuCxzz48Qvk+FWHSPhWl30D8Oes+4Ej9PtJS1kD7htw+oVqjQK/lQkDKv88+IkbiPtlE3T6EvNw+Z67KPhy+zj5p7QA/5l0BP9Et6j53ysk++KX3Pt3wxD7K3t1AOFZCvvad8j4R6rZAlGG8vYbQvL/Dr66/vK+ev/2RgUBTBcK/LzTkvju8t79ORIpAScahvwYUoL9btd1A/vGbv8xtlr+2Va2/m5K5vz3flb/EVbW/RzUzQJs31kB/uZe/TMqnv4xruL+woL1AH6e8v0bfj72o1jw/x7bXQA4EIj8bJFU/fo9kQHYAjUAdL7S+RviCP6UgaT8TvxS/HGbWQImaFT6XOhe+ICTUQPWClD+hwfhATcWFP70MKD+i+4c/oQCRP6kRhT9UBy0/B8mTP3YLnj9ovABBymNvQKojtkBCWbW/cMQgQB0x4r5YFLxAdkCzv0ouZz/3b5e/S78QvhCOtUB5RLtAiLa0QAgrub/TeJW/8pXnQNejvL/mr72/g++uPxdsmL9AsJE/MhGHP16i10AvpplAVxFkQPnu7ECA171AvxyyQC2My0AZGZBAxXe3QK/31D9q4Mk+CU8BQUGYwUDwZPhAi6KMQEJNXUCw0Hw/Ol7tQLRoaUAp68dAzV+TQJ15RD/1NVZAp4KTQAeDv0BKERS+IlryQNoDxUDu3KhAH2Z0P68R20CCRSM/OXIpP9/pVkBAdpg/mVC0QJhpQ0AyUmhAVqmEQMgxgUDuilZAw1jrPur0uECXQslAqnvYQHTo1UCTs64/9M2ZPiKLSkDkJtNAMscnQIYb4kBz/8lAYprNQJ+w4EB8nM1A72s+QKIQ20CUvvhAL/TXQJJ62kCez+1A6Of5QM/v5UA12uZA0YTAQKrq7kD8W9RA/UrvQIgf70B+7/RAIuTyQF/Q6UB9StpATSrbQLMZ0UCqhd9AXbreQKnhzkBMAvVASvruQLL+2EBQPPlAKSnBQNAR+EA9XfNAA3jzQNju60AGfOpAGBjmQJRs3UDj6OJArIDwQBsF6kBAHPxAw7P2QAFB8kDn5vFAfaveQMtA4kAqndBAKiPVQEko70BeOOxA0tbxQHkSqj87c8E/shrzQF394kAcafBA2VG3QFhg6UARudhAGDvbQCJ2+UCQm+pA8JrnQFkvz0C1Y/BAlqzZQDpR9kBRw+1A0M/tQHVHpUAgqvtAcmrZQOWo1kCHMN1A0dvZQF3jy0DcvrdAZIrZQHs940DDjtdAY9HFQMCy1kAmA8xAwkiKQHNy2kAszdhAjoejQNpSsUBcLbZAW263QNigqUCH9cJAtIXlQIUT7kAIi2VA/vFPQIGg9kACndZA2AS3QKGusEBEjH5AVzmgQBxYpUD/vt1A6+POQBip2kC8679Anum1QDMY10BaJuZAOkPVQHff4kC9M9VAt2zqQJn3sEBwP81AVgjDQAYA0kCG07JANxGUQCjy4EAwJZJAW6i5v7b2sr9xfapAcEE+P9x63EC+ErC/RuG1v+xPVz8Z57e/+lfBQMKn4b7svNxAZWSwv69ksr/JC52/QaWhvyNr4T1w73Y+GSmoP2g0qD/HcLS/029yvwKCur/TTp2/X+zgQIL45UA3/7a/7cjpQD+wA7+EzjU/H1rvQNY+5kBKZJO/DeSMQEAIAEEOZQRAf9ToQOwdzb5zdMRAzGWzPgYElj+DEOy+pAPbQAg6oUCnjvtAkcGtv10GAUHNPt1A6YgAQKDHlD54OLu/hGTZQBFFij+jcg0+TAqEQP3h2kBe64pAS3ABQXNI9UBoUslAav7cQOD2/0Dh49ZAJXD/QLbe7EDs5pe/xNd9QLYbF0A7rs5AWI/2QANO1j/CbNtAMVIAQez7r0Dye30+hiOjQHJG5kCGauhAcqj4QEowW0AFdAJBxADqQO6g9T8mzQdALq6BQFXZyUC/lbpASx+jQCXWyj/BMqG+zcP/QE7spECvUxVAmYD0QE1W+EB/0pJAZxmoQKAt2kBOzeZAZVPCQMIGC0CY9j9ASivxPlZY3T6fncBAmd/pPsEdqL4NltG+dsCIQMjQ6z4g+dhAp7vaPi9Kx0CsiAU+M23wQEKB1D7sdtE+4v7APz6WfUDSHN4+ZRoCP5AJ+D+TMoFAIAbQQKcM0EDq6q+/1g+5vyOx775vtGs/tki5v+TwuL8dNL2/FUl9P+PKtL+qdbq/HoOov6H3rr+2bp6/5y5qP+22qb9/ybW/q/G9v+5nv79bTPe+ze2uvyRV4b7FlaG/Jc+6vxaBt79QI7K/lPm8v+BYn7+ALbW/54ehv3M6eL9dmt++4U+9v9NRIj793I4+BmO7v17YuL8WLJa/9Vusv8nllr+ZJra/4E7Dv0JJp7+zKE0/WRqfv8vQVT5twqO/Ssizv3sVvr9E4wq/Viytv6J9TD8iAsS/1e6XPquNtb/DO6U/fbavQLvuIr4dCOG+dWyXv/65Kj/ER8O/dtrCv/C0aj0O4zE/eAnDv9ahob+rScS/cZjCv0UBur+jjpq/8s6TvoJEEr7P+sG/8QqJP2aOxL/JuJs/rdxTvbkKkj9rfcG//V1/QOGAJj9SuYg/o2t4P8QXwb8bORBAjrkrP5RtxL/ByCQ/fDQHvu4S7D5Pt5U/KLHnvvoJkD8htes+vj3kPvcNLT/kGsO/okO0QHaaGj/r+8G/wcDZPnyxgD8B9Ae9OvOPP0Zyij/Yjvs+izOTP/CR8D5vuZg/LDksPwfK8j6Zv/E+6d3kvr1y/z4Upus+GandPivMqT69FmZAzkZePktYgj91t8I+5C7PP70sbz9BuOE+6TdWuw8B2j9aNZw/Dam2P/hsXkDQFtNAj5eQPxQVcT/errA/yom2QDNkvD89E0i9HQWLQNB62T+QmJ5ArOQnvgvDpD/T3a1ALk6fP+wGoD9ks7JARlaeQD+Aoj/KLKxAfzS0P7subD6c021Arf5fP3mwoz5A8OlAhujyQPdKakALuaw/V5y1QGFbWECEV3M/ekYBQBzSdkAMJFVAA2jGP6MFxEB1BrM/cvWuQOENdj+Fh4pAWriJP8rzaEDHNbY/kgI9QIQXR0B1/7RA08tvP6WDqD+lhzpArP2EQOwwakD39qBAvQiuQGNyT0AZ9WZA2J5qQCZJY0D40ERAeKxaP3XKwz64dQFAtoajQDZpPEBqls0/XB2PQBAjXEDwujdAQBnWPzshw0CZ03JAkexDQHdQSEBiMFpAl45PQA/eo0Dz1l1AUb+JQK5ugUDehF1AsUNrQEsvUEC+a8s/dVM4QN5cW0AEFog/tHkTQGhuBEAApExAr6ZbQFSMP0Apz2dAFTueQAisHUB/XZJAP26vQKIBMEBKRn9AbVo0QG0OekB3XDhAUX0eQFAcrj/R5ShA0a2QQCHlSEDW3ZFAbhUsQAxdSEAG3oJArd5ZQIQgHkBXsY9AZRpiQJ48dEAsWJVAYjx8QCiHOEAL7GJAggU0QAgEa0At1ZZArlnwPwgGLkBCJtY/sQqjQA6bd0BJVIM/lsQ3QLXRBkAu75xA5aXTPwBqokBuZWFAifC0QEjhAED9wfa91JbJPxOY0z867qtAk5SZQEmxOT//gDtAS5YPvdON7T+h+8FAl5CrQMxUSz6G4l1A80ixQFi7JUDPa/s/IDQ/QI/gNT25cYJAGkoWQOc7FD4PEiY+Oe8dQHDznkDxWCS+klOiQM6djEDDWrJAtzQqQDrznz5KHZRA3O1aQIdQNECmGltA3MctQJXoS77eWz0+x67WQE+jSUBFeQhAbRoTQFq+DkBBt01A5KPOPySxRUD5sa5AnTEdQAC3FkDdt0NAjGh/P7Q2JT/eELBAF+StQCA2yz/wi3FAUZufQOw4lkAwLBk/bnjxP1o5GkAmQ0o/cqAqQC5Tq0DPHChAy281QGOpnkCCYHtAOkxAQBp4k0CqwgpAXgUMPjk1K0AtGUdA/awNQK8OUkDaFhhAWZt3QH9w7T/K+x5AmGrnPwmOYEBURHpAu/wCQfEzij58fxhAyn48QMAGGUB6eBpAc+uRQB8hJEDpa1s+EhkTQG+JPECUuiFA8GPpP7V3J0AsLqk/KTHhPpRnbT6r92Q+3z2LPnUtYUBttTFAhvqRQIH8ekBkPaY/qXoWQONvrkB+Vr9A4DEVQGgf6D7YH3w/tYiZQGaE5z9BBm9AqgORvoDa6z8wpeE/hJ+VvvFvsz/jiq1AzlcnQDKbmT6oWuM/mT0dQIjXb0BNzcQ8xYJfQH0+BUBenuM/30PwPXXxybzTZQ++30MoQI61TEDT5odA05LEP57CmDz0+CBAz+74P0935T9bZL9ALx4KQJnHXkCPpBJAyEjnP1Q07z/0A7hAGv4TQA4H9T8I1Pw//U1TP/y1ej+3JCM+dFdpPfHpAEBa7e0/kg/gP/MlBUBvzUg+NA4EQDq+FUCAxas+NtqHQEOxPkB+vrQ/jLJDQNzotD9ZjwdAq29iQKwBdj45Krg/JtRDQOSW6D4cyPU/+E1nQI+UA0CO7vQ/5jNyQDCO9D/NR3Q+bJLaPuU0MT8+utA9ns7pP7THPEBToAg/9QEVQJNhAj5dxfY/pA2lPlYuzz7WEh1AqXYsQKhMMkAXAf0+6WAzPrElJkBANCs+AN1CPm9isECZbgQ/5IZEQKPv+j8hL0o+fuZNQMnlP0AiX04+x20XQMKl0T7wOhtAS+4cP78JXT6VERBAoUCEPWiHFECyeWM+6ZaJPjAKHz8Y2IY+UWsJQHmFIUDlPPk//78wQIYsSkBN9/w/FukOQE5VE0Dkpd8/MAZdP8UWLkAWGh1ABJM2PzSPlT3ez/89sVu+P+3ljkCMH9xAj0jNQJIMY0BQC5BAXbBnQLbmyUAlO11AwtUPQDsvyED8eNJAcJacQJpuY0ABKwFBqWeiQOKXx0An2shAKp/cQHcKhj9aSfu9dAmyQEE8pEDuaaJATIWjQPLQo0DG29NAFZOUQDj1o0BH7rlAxciCQGhRsD+9OMVAKsuHQDfWf0D3+rpA1/voQDwCb0AUmJRAFvvBQMqJf0BxJLhAhteMQNztBUA26Y1AbjEqQESvsEBRPetA2Y4EQPvwzUDGhddArxCSQNJuCEAnt2NAZ3+bQE3z3UCBxNVA+8WdQMvpv0B8rMxA4VPpQBtkfUD47IxAuBC/QP63gEAPH3tA5zOAQPOjtEA9JiRAcnegQLt6vEA7nplAEg+FQO7Ip0ChmZFAd6QTQDv+n0Aj4sZAX9mHQGA7oEC+PcpAea6NQNj8l0CvqABBeDqoQK+3y0CT+eBAZQl9QKqsQEBFRJhAjDmSQPfPVEDGad5AmzPSQM/ij0CnYJ5AXBvSQNnPeEDu/QhA9oTfQHglkkBXxD9ATrLkP6DxtkDbOtBAKwSdQPpWiEBBJplAI0a/QNUCjEBfhapAoo+fQJ5vl0AXPYBAVRtFQNordUA6HK9Az3+MQKLpq0D0snNA0LKwQC0IwkDB4chAcsCRQKvKgkB9i3VAzm+IQEGEgEAJsXtAJNmAQJn19L16zW9A2Tarv2V7XUClrLu+5tOeQN3fqb/TSay/WtjiP3mrIUBHEyRAlW52QAQzZj+dBiRAFKqQP5mpikA7eJZAzR8fQAyYfEAX54dAC8s+QK3Wl0AVlINAUK11P5kT30AlsKhAJZpAQJ/lgEBEVa1A88K5QIgAg0CVSWRAc6phQM+hx0BbnHpARfzrQG1YZkDg1GJAZWB/P8cvX0AW7vU/zdQ6QKGbZ0DeWnNA4WYtQNs5Jz3WGE5AaIqjQCjqakCGelVAXIWCQIOkgEDw0KtA62prQP+CqkAWr6hAhudJQJBJpEAJi3NAjorCQN47SECKHJFAcd2yQLpdq0Bd/LlAfbuVQHmRgEBpFIZAFpPeQCcewUA5FpJA77dzQPMcb0DVAJ1AMZJyQDWqskDkQdBAVmVKQPtOf0DD8YtAUvDJQL7EskDp45xAThDJQEb55UDFJT1AIAi7P85qXEBxkZNAn/wjQH+co0CvKlpAe73aP9enu0ApGIhAGMuaQKUvRECTTdo/WSK0QBn8nECEnoBAUEAJQCrRPkBAc5tAoWW2QAUBoUB9neNA8R9zQO1AMkDRrqBAeezpQH3tuL1uqJNAVYrUQObHc0B2MIU/lzm3QG+t076phhe+zsTqQMqM8D9qho9Ao9YSvuEmBUC//JpAyguwQKqEdj86bqy+wO87vpNpXkDXuMW+hftgvh/nGEAxC6FAItdTQE15oEDogTw+dj7UQJ7sZEArc05A+UdlQFaDb0DS74VAyWhHvr7bXkBfznU/voR6Ps6ZVr7KqaFA/oKpvjYwxUC02TNAGgycQKK9kUAovRC+6i4rQG1Ne0ADcVs+z5TdvvKYjEAxc3tADxwfvirAXz+Mn6VAgp1dP/E2ikBFDv+9SC9OQHAprT5nB5A/3gLcPz8OcEBWx3RA7+tpQArlUUA9KAhAFtRnQJG5M0BKyYZAqjizQBIJCj7N8olAbj1SQFwYLkCrwAVAchFAvmrJZEAGdqE/aqsiQDvuxr5bqiJAx+eDP75FgUC+foE/F79DQAHgjkA3SspA2ev2QKMUx0AvrdRA4ePlQGLY5ECF5ZI/rRKyQNXb2EADo+NALVnAQIePqUC3AehAlkvvQAsf5kBTftBAR0jAQFQgwkDY3PhAOMjwQN955kBbQNVAvtTeQKkA6kApBOBASDnnQP/nmUCD/+NAKSDkQKAl1kDfdOJARnPgQNBq2UByOMtAM57hQM8y50B2NdNA3vLaQPv+y0CjCupAYv22QB8PyL52/MJAxY3VQNsF5EBCgOFAIWrnQNw40kCMp81Ai7vqQP/pu0Buw5JAGnk3QANGr0B3OIBA4KXMQHqouEDt5bJA9RHKQLh7qkD2Id1Ar92/QPQQVUBj7HhAs3OrQN1ijkDJw75Avto3QDnruUB+Rdk/QuJ5QGDmdUAsjj5Av/WzQCfEuEAyemtA8B2KQCJMXUCEWT5AxuMCQA9jZ0AJUz1Ak2RXQFGGcEAcbi5AjwpqQLMafkDXdzFAUzmyQPp8VkBbWTJAqgUqQCAjPEBPeCFAhKysQJqJqkBiWrRAENw3QH/At0BUsmNApyecQJpdgUBiY/8/DLJOQKEIi0BIl4xAOvmaQOyJ7D92Kco/wz85QM6MkkCraKlA7kCDQPBhiUBNOEhAFv42QIsqRkA0JA1AsbSBQOD0h0BuyD1AqEwpQE8irUAh90JA5A9aQHFOlD9OHeVAbX3LQByVFkAEythATeADQTpiEkDGcEdAOyrYQGR9wkCK/tRAIcEDQHV59kDL6KlA43WqO/SUqkALwJE/y6ffQFjwBEABWuBA2KRZQIWjnkAGRdFAMPjdQC3NDz9gA4xAbWDOQKRGzED7F6pALjqjQO8RyEBAHYJAgESpQMV4wkAxsydA84GKQIEbwUAZy29A2KC6QMvdEUC3KKRAGabXQFkPRkD2pMpA6cVhQIcl8kC4ZoJAo9fFQBqZ7kB/cNRAPaGBQMhU8UDKf45A6MjlQGiw1kCmwYRAw3boQK9/lEBXJ51A7jC3QBlipEAliwxAaguoQJNqbEAfYZZAUyF/QLeFTEAAxoFA8FmMQOgyl0BgUWRAiBtxQP08+kAZ54BAa5jTQIojUEAPb1NAgWh2QMGEZkBAo3VA139GQHzzlkA3qaBAjo6WQJIJv0DjQHhAHEdNQDg0oEC9ZpNAeTjIP39elEAlvFpAUre+QOsa4EA689BAb/jAQDcNcUD02tlAmSB4QI7Zp0DdWqhA1J+nQDOrYkCotbpAGy7hQDjJnUDjNktAf5ewQDZ/QkAAO/tAIj+xQBXxmUB7RANBnvdbQJGzk0AyBolAmFurQP5Ld0Dx2XhAfj5hQIMFjEBwimxA9e6iQLpYkEAeu69ADgfSQJBY5EDn7h8/fqiOPwF0yEDSS7S+baCdP6fqWUCmKtlAL8PkQAFewUDM4XU/pw2tPvav4kCTxcJAvrsdvrshqr6gULBAEjKLPzGZur5thdJAG9fDvkgZnj9LmL5A2w6qQFJXxEB0ftNA4ss0P435lUC5S71Apn0NQMQ7oD/Vx1NAq5E6P6D7oEDD1OlAjNalQDMzskAUv8JAAJd3QCB2hz/zgOJA52qGP0y9bkCmot5A9haHvstWOr70Uwe+SVPfQDsrq0DDck9A87+hvraGIj/dPyNAXytVQGomJEDMDIw/fIPXPgFBk70xVuRA4Wu7P4+RNUDmGG1AWElRQGaDPD8JDa8/cxLcQHnUXkBWaztAtdIxQFSeEkDYY65A3+xFQP8oWEC8v8RAsiK3PxY9vUBZQL8/04qmP/A2zkDZ2Z9ASJhEQBzbwUASZxNA8xdzP5jAVkD7PwA/Iu2TQJnzbkAbcW1Alh9FQHWrZT08hMk/jPtKQMTQT0BrUoRAkm4KQOfd3kBEXVNAHqYWP5/ztT8eLFNARLSmP7bEXECS63Y/ALK3QHQhSEB+IYo/GtNhQN1MAUH1asRARcBYQJ97uj98PU4/qY3EP7pVE0AZQW6+nvq8P6YL1D+cw0FATQHDPxo3Mj/wLvA+AOzZQOKZuD/0xcM/puyIvnWoHUB2fSRAu4G0QBNThz8Azt5A+I5KP6LWkz8hO59AW3CzP6uBIECVg9pAOUKcQB+cjD+5dZM/lfksQCsEwkC2wWS9FAlIQN2q50Dkb00/zsbeQOIEBECO/6VAndo2QN0Nq0DGkf0/eytbP9E43kDFba0/06HnPxkM6kBk1t5AJcxfQDmq9UCRwu9AqaDJQFshJD9dkbZAD5nCQEqHkb7YUORAHDbhQEstdz88Gy9AwgfxQNNmzUADirFAi7LhQCAYp0AmC3NASzBCQFooU757UCBA0iKxQNgl5UApL4s/oOfrQDJ09D9wxHK9BbA0vqOI7D/5jb5AnEi7QArqLkArBA8+nEkdQAQIT0DqyzxAa1yZP+OaIUBfecA/I9Kqvl8X5ECJF7Q/Q6GMP/DW8T9VRUu+DoRVQKzALUABluhAKWrwP56mDEBLr5w+1NZDQIhUuz/MkgpABm7tQBYKhj8WEs0/XLyUQNOmgD9dP05AeIgqQLDYd0AGteFAqZgUQNDB6UCwZNI/2r46QLylZkBNh99AuSEJQIwI5kCK/1lA3ODLQNJ9jEAB37c/1MvkQK5+wUCOeOc/2XlJQBODVUD+f8tAxldAQIPIq0DEkLxAGusFQErjTEBK2T9AHIftQMI/00AlGMZAhpEEQHUP+T4pLuM/FZvNP0oL/EBUhpZAEoDiPRgL3ECIaf0/gm4CQOMAfD/0ldRAzO2PQHw2TD8hh5M/lsKaQHbiF0BaytZA79LxP5p3HT9GebZA8Q6evRsn7z+jibY/gqvdPwKb2T8NLY8/4bclPy6BgUBswwRAZLcavggFFUC9fyRAZDyMQG3Uiz/ObDc/DxOjQCTIub2nRDxAWilLQOJkGUDJHMW9CGIwQI74SkDKfta+eBwpQFC6mz9ZrT4/fHtqQIuUoD1vPdRA/QX6P1DqsEA2O6I/rPcCQFOpmEAElIdAYajivsyoFUA8Y2lAJ4DYP2m+x0AmYQRAjunZPgzKIEC6JK1AfFnNPxJEyj8Z6d0/o3+bQOl93L2MW+8/8KEcQAQZ8z9HnnlAEjUcQEEQXb4qHwVAVCvgP5tb8j/FviJAfyQUQED5mD/lOyBAY4hTQPy1ikDlauc+c16HQFulDUBe/BJAkLWDQJCuNr5Q5KZA0rgSQM73rT9QhJRAmI/DQGm0Jj9idqs/xOJwQNmoWUAgSCNAWkiqQHqNYUCmL4pAZKj1P5cm8j88LV1AcijmP07Ro0BXoVFAKuOyQAIcBEC/mk9A5z/fP6uRzz/UjTe+j0sGQNrdIUBXPRxAKvH/P009N0AYwY1AwZktQGiXlj9ObkBAvevdQD9Y0EAsyddAotzwQHTj50AyUeZAwQDpQDQG5kD8ZfVAcRzpQPli7EDlpN1A15vkQAnSx0DNLulAMiD1QF5N40AVOvdAm4e5QEie30Cdc+ZACITwQNLw1UB8ZLhA+W60QNI6+UBnxN5A4aDpQHPf00BnSuJAkAPZQD605kAkOdpAoxbrQBRy6EAHispAzYbqQPLFwUD+neZA2h3nQL+D70AuY8hA72DVQLbw30DcJ+9AASXUQFFu0ECErdhAtwDfQDtR4UCLSOFAporZQJaDrEB27+1AZNBkQEgYHkCSKbVAtELuQAcKP0AEBbRAusvJQKRR00DiLdZA9TO2QOcWmkDOk+xAsi2PQC1xpEALOZZApdXUQBLIuEBs8ag/7FuTQOC860D88IdA1Uo9QJKOYkBtzRxA9NZqQA1Ea0ASucVALndCQMQkX0D9dYVAkyclQOZTfkAoEw5AGAocQDQwn0DFGGBAMAjrP9QzH0B8LEZAXqFiQM6MLkBxMGxAecfhQFSpF0Cb6eQ/6cojQPITjUCe+V1AXS0ZQNIbT0CyvjpAz904QNUSBUBl5jlAgs0RQIa3IECoEExAuESLQIfH7D9bwSJAESaZQJSAeEBBEEBAlcyVQI8XFz8IgYFAw6ogQJm0gkBDXY5ALQeAQFw5d0A=",
          "dtype": "f4"
         },
         "yaxis": "y2"
        },
        {
         "hovertemplate": "Metadata_time_point=48<br>umap0=%{x}<br>umap1=%{y}<extra></extra>",
         "legendgroup": "48",
         "marker": {
          "color": "#feb24c",
          "symbol": "circle"
         },
         "mode": "markers",
         "name": "48",
         "showlegend": true,
         "type": "scattergl",
         "x": {
          "bdata": "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",
          "dtype": "f4"
         },
         "xaxis": "x",
         "y": {
          "bdata": "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",
          "dtype": "f4"
         },
         "yaxis": "y"
        },
        {
         "alignmentgroup": "True",
         "hovertemplate": "Metadata_time_point=48<br>umap0=%{x}<extra></extra>",
         "legendgroup": "48",
         "marker": {
          "color": "#feb24c",
          "symbol": "circle"
         },
         "name": "48",
         "offsetgroup": "48",
         "scalegroup": "x",
         "showlegend": false,
         "type": "violin",
         "x": {
          "bdata": "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",
          "dtype": "f4"
         },
         "xaxis": "x3",
         "yaxis": "y3"
        },
        {
         "alignmentgroup": "True",
         "hovertemplate": "Metadata_time_point=48<br>umap1=%{y}<extra></extra>",
         "legendgroup": "48",
         "marker": {
          "color": "#feb24c",
          "symbol": "circle"
         },
         "name": "48",
         "offsetgroup": "48",
         "scalegroup": "y",
         "showlegend": false,
         "type": "violin",
         "xaxis": "x2",
         "y": {
          "bdata": "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",
          "dtype": "f4"
         },
         "yaxis": "y2"
        },
        {
         "hovertemplate": "Metadata_time_point=72<br>umap0=%{x}<br>umap1=%{y}<extra></extra>",
         "legendgroup": "72",
         "marker": {
          "color": "#f03b20",
          "symbol": "circle"
         },
         "mode": "markers",
         "name": "72",
         "showlegend": true,
         "type": "scattergl",
         "x": {
          "bdata": "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",
          "dtype": "f4"
         },
         "xaxis": "x",
         "y": {
          "bdata": "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",
          "dtype": "f4"
         },
         "yaxis": "y"
        },
        {
         "alignmentgroup": "True",
         "hovertemplate": "Metadata_time_point=72<br>umap0=%{x}<extra></extra>",
         "legendgroup": "72",
         "marker": {
          "color": "#f03b20",
          "symbol": "circle"
         },
         "name": "72",
         "offsetgroup": "72",
         "scalegroup": "x",
         "showlegend": false,
         "type": "violin",
         "x": {
          "bdata": "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",
          "dtype": "f4"
         },
         "xaxis": "x3",
         "yaxis": "y3"
        },
        {
         "alignmentgroup": "True",
         "hovertemplate": "Metadata_time_point=72<br>umap1=%{y}<extra></extra>",
         "legendgroup": "72",
         "marker": {
          "color": "#f03b20",
          "symbol": "circle"
         },
         "name": "72",
         "offsetgroup": "72",
         "scalegroup": "y",
         "showlegend": false,
         "type": "violin",
         "xaxis": "x2",
         "y": {
          "bdata": "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",
          "dtype": "f4"
         },
         "yaxis": "y2"
        }
       ],
       "layout": {
        "font": {
         "color": "black",
         "size": 22
        },
        "legend": {
         "font": {
          "size": 20
         },
         "title": {
          "text": "Metadata_time_point"
         },
         "tracegroupgap": 0
        },
        "template": {
         "data": {
          "bar": [
           {
            "error_x": {
             "color": "#2a3f5f"
            },
            "error_y": {
             "color": "#2a3f5f"
            },
            "marker": {
             "line": {
              "color": "#E5ECF6",
              "width": 0.5
             },
             "pattern": {
              "fillmode": "overlay",
              "size": 10,
              "solidity": 0.2
             }
            },
            "type": "bar"
           }
          ],
          "barpolar": [
           {
            "marker": {
             "line": {
              "color": "#E5ECF6",
              "width": 0.5
             },
             "pattern": {
              "fillmode": "overlay",
              "size": 10,
              "solidity": 0.2
             }
            },
            "type": "barpolar"
           }
          ],
          "carpet": [
           {
            "aaxis": {
             "endlinecolor": "#2a3f5f",
             "gridcolor": "white",
             "linecolor": "white",
             "minorgridcolor": "white",
             "startlinecolor": "#2a3f5f"
            },
            "baxis": {
             "endlinecolor": "#2a3f5f",
             "gridcolor": "white",
             "linecolor": "white",
             "minorgridcolor": "white",
             "startlinecolor": "#2a3f5f"
            },
            "type": "carpet"
           }
          ],
          "choropleth": [
           {
            "colorbar": {
             "outlinewidth": 0,
             "ticks": ""
            },
            "type": "choropleth"
           }
          ],
          "contour": [
           {
            "colorbar": {
             "outlinewidth": 0,
             "ticks": ""
            },
            "colorscale": [
             [
              0.0,
              "#0d0887"
             ],
             [
              0.1111111111111111,
              "#46039f"
             ],
             [
              0.2222222222222222,
              "#7201a8"
             ],
             [
              0.3333333333333333,
              "#9c179e"
             ],
             [
              0.4444444444444444,
              "#bd3786"
             ],
             [
              0.5555555555555556,
              "#d8576b"
             ],
             [
              0.6666666666666666,
              "#ed7953"
             ],
             [
              0.7777777777777778,
              "#fb9f3a"
             ],
             [
              0.8888888888888888,
              "#fdca26"
             ],
             [
              1.0,
              "#f0f921"
             ]
            ],
            "type": "contour"
           }
          ],
          "contourcarpet": [
           {
            "colorbar": {
             "outlinewidth": 0,
             "ticks": ""
            },
            "type": "contourcarpet"
           }
          ],
          "heatmap": [
           {
            "colorbar": {
             "outlinewidth": 0,
             "ticks": ""
            },
            "colorscale": [
             [
              0.0,
              "#0d0887"
             ],
             [
              0.1111111111111111,
              "#46039f"
             ],
             [
              0.2222222222222222,
              "#7201a8"
             ],
             [
              0.3333333333333333,
              "#9c179e"
             ],
             [
              0.4444444444444444,
              "#bd3786"
             ],
             [
              0.5555555555555556,
              "#d8576b"
             ],
             [
              0.6666666666666666,
              "#ed7953"
             ],
             [
              0.7777777777777778,
              "#fb9f3a"
             ],
             [
              0.8888888888888888,
              "#fdca26"
             ],
             [
              1.0,
              "#f0f921"
             ]
            ],
            "type": "heatmap"
           }
          ],
          "histogram": [
           {
            "marker": {
             "pattern": {
              "fillmode": "overlay",
              "size": 10,
              "solidity": 0.2
             }
            },
            "type": "histogram"
           }
          ],
          "histogram2d": [
           {
            "colorbar": {
             "outlinewidth": 0,
             "ticks": ""
            },
            "colorscale": [
             [
              0.0,
              "#0d0887"
             ],
             [
              0.1111111111111111,
              "#46039f"
             ],
             [
              0.2222222222222222,
              "#7201a8"
             ],
             [
              0.3333333333333333,
              "#9c179e"
             ],
             [
              0.4444444444444444,
              "#bd3786"
             ],
             [
              0.5555555555555556,
              "#d8576b"
             ],
             [
              0.6666666666666666,
              "#ed7953"
             ],
             [
              0.7777777777777778,
              "#fb9f3a"
             ],
             [
              0.8888888888888888,
              "#fdca26"
             ],
             [
              1.0,
              "#f0f921"
             ]
            ],
            "type": "histogram2d"
           }
          ],
          "histogram2dcontour": [
           {
            "colorbar": {
             "outlinewidth": 0,
             "ticks": ""
            },
            "colorscale": [
             [
              0.0,
              "#0d0887"
             ],
             [
              0.1111111111111111,
              "#46039f"
             ],
             [
              0.2222222222222222,
              "#7201a8"
             ],
             [
              0.3333333333333333,
              "#9c179e"
             ],
             [
              0.4444444444444444,
              "#bd3786"
             ],
             [
              0.5555555555555556,
              "#d8576b"
             ],
             [
              0.6666666666666666,
              "#ed7953"
             ],
             [
              0.7777777777777778,
              "#fb9f3a"
             ],
             [
              0.8888888888888888,
              "#fdca26"
             ],
             [
              1.0,
              "#f0f921"
             ]
            ],
            "type": "histogram2dcontour"
           }
          ],
          "mesh3d": [
           {
            "colorbar": {
             "outlinewidth": 0,
             "ticks": ""
            },
            "type": "mesh3d"
           }
          ],
          "parcoords": [
           {
            "line": {
             "colorbar": {
              "outlinewidth": 0,
              "ticks": ""
             }
            },
            "type": "parcoords"
           }
          ],
          "pie": [
           {
            "automargin": true,
            "type": "pie"
           }
          ],
          "scatter": [
           {
            "fillpattern": {
             "fillmode": "overlay",
             "size": 10,
             "solidity": 0.2
            },
            "type": "scatter"
           }
          ],
          "scatter3d": [
           {
            "line": {
             "colorbar": {
              "outlinewidth": 0,
              "ticks": ""
             }
            },
            "marker": {
             "colorbar": {
              "outlinewidth": 0,
              "ticks": ""
             }
            },
            "type": "scatter3d"
           }
          ],
          "scattercarpet": [
           {
            "marker": {
             "colorbar": {
              "outlinewidth": 0,
              "ticks": ""
             }
            },
            "type": "scattercarpet"
           }
          ],
          "scattergeo": [
           {
            "marker": {
             "colorbar": {
              "outlinewidth": 0,
              "ticks": ""
             }
            },
            "type": "scattergeo"
           }
          ],
          "scattergl": [
           {
            "marker": {
             "colorbar": {
              "outlinewidth": 0,
              "ticks": ""
             }
            },
            "type": "scattergl"
           }
          ],
          "scattermap": [
           {
            "marker": {
             "colorbar": {
              "outlinewidth": 0,
              "ticks": ""
             }
            },
            "type": "scattermap"
           }
          ],
          "scattermapbox": [
           {
            "marker": {
             "colorbar": {
              "outlinewidth": 0,
              "ticks": ""
             }
            },
            "type": "scattermapbox"
           }
          ],
          "scatterpolar": [
           {
            "marker": {
             "colorbar": {
              "outlinewidth": 0,
              "ticks": ""
             }
            },
            "type": "scatterpolar"
           }
          ],
          "scatterpolargl": [
           {
            "marker": {
             "colorbar": {
              "outlinewidth": 0,
              "ticks": ""
             }
            },
            "type": "scatterpolargl"
           }
          ],
          "scatterternary": [
           {
            "marker": {
             "colorbar": {
              "outlinewidth": 0,
              "ticks": ""
             }
            },
            "type": "scatterternary"
           }
          ],
          "surface": [
           {
            "colorbar": {
             "outlinewidth": 0,
             "ticks": ""
            },
            "colorscale": [
             [
              0.0,
              "#0d0887"
             ],
             [
              0.1111111111111111,
              "#46039f"
             ],
             [
              0.2222222222222222,
              "#7201a8"
             ],
             [
              0.3333333333333333,
              "#9c179e"
             ],
             [
              0.4444444444444444,
              "#bd3786"
             ],
             [
              0.5555555555555556,
              "#d8576b"
             ],
             [
              0.6666666666666666,
              "#ed7953"
             ],
             [
              0.7777777777777778,
              "#fb9f3a"
             ],
             [
              0.8888888888888888,
              "#fdca26"
             ],
             [
              1.0,
              "#f0f921"
             ]
            ],
            "type": "surface"
           }
          ],
          "table": [
           {
            "cells": {
             "fill": {
              "color": "#EBF0F8"
             },
             "line": {
              "color": "white"
             }
            },
            "header": {
             "fill": {
              "color": "#C8D4E3"
             },
             "line": {
              "color": "white"
             }
            },
            "type": "table"
           }
          ]
         },
         "layout": {
          "annotationdefaults": {
           "arrowcolor": "#2a3f5f",
           "arrowhead": 0,
           "arrowwidth": 1
          },
          "autotypenumbers": "strict",
          "coloraxis": {
           "colorbar": {
            "outlinewidth": 0,
            "ticks": ""
           }
          },
          "colorscale": {
           "diverging": [
            [
             0,
             "#8e0152"
            ],
            [
             0.1,
             "#c51b7d"
            ],
            [
             0.2,
             "#de77ae"
            ],
            [
             0.3,
             "#f1b6da"
            ],
            [
             0.4,
             "#fde0ef"
            ],
            [
             0.5,
             "#f7f7f7"
            ],
            [
             0.6,
             "#e6f5d0"
            ],
            [
             0.7,
             "#b8e186"
            ],
            [
             0.8,
             "#7fbc41"
            ],
            [
             0.9,
             "#4d9221"
            ],
            [
             1,
             "#276419"
            ]
           ],
           "sequential": [
            [
             0.0,
             "#0d0887"
            ],
            [
             0.1111111111111111,
             "#46039f"
            ],
            [
             0.2222222222222222,
             "#7201a8"
            ],
            [
             0.3333333333333333,
             "#9c179e"
            ],
            [
             0.4444444444444444,
             "#bd3786"
            ],
            [
             0.5555555555555556,
             "#d8576b"
            ],
            [
             0.6666666666666666,
             "#ed7953"
            ],
            [
             0.7777777777777778,
             "#fb9f3a"
            ],
            [
             0.8888888888888888,
             "#fdca26"
            ],
            [
             1.0,
             "#f0f921"
            ]
           ],
           "sequentialminus": [
            [
             0.0,
             "#0d0887"
            ],
            [
             0.1111111111111111,
             "#46039f"
            ],
            [
             0.2222222222222222,
             "#7201a8"
            ],
            [
             0.3333333333333333,
             "#9c179e"
            ],
            [
             0.4444444444444444,
             "#bd3786"
            ],
            [
             0.5555555555555556,
             "#d8576b"
            ],
            [
             0.6666666666666666,
             "#ed7953"
            ],
            [
             0.7777777777777778,
             "#fb9f3a"
            ],
            [
             0.8888888888888888,
             "#fdca26"
            ],
            [
             1.0,
             "#f0f921"
            ]
           ]
          },
          "colorway": [
           "#636efa",
           "#EF553B",
           "#00cc96",
           "#ab63fa",
           "#FFA15A",
           "#19d3f3",
           "#FF6692",
           "#B6E880",
           "#FF97FF",
           "#FECB52"
          ],
          "font": {
           "color": "#2a3f5f"
          },
          "geo": {
           "bgcolor": "white",
           "lakecolor": "white",
           "landcolor": "#E5ECF6",
           "showlakes": true,
           "showland": true,
           "subunitcolor": "white"
          },
          "hoverlabel": {
           "align": "left"
          },
          "hovermode": "closest",
          "mapbox": {
           "style": "light"
          },
          "paper_bgcolor": "white",
          "plot_bgcolor": "#E5ECF6",
          "polar": {
           "angularaxis": {
            "gridcolor": "white",
            "linecolor": "white",
            "ticks": ""
           },
           "bgcolor": "#E5ECF6",
           "radialaxis": {
            "gridcolor": "white",
            "linecolor": "white",
            "ticks": ""
           }
          },
          "scene": {
           "xaxis": {
            "backgroundcolor": "#E5ECF6",
            "gridcolor": "white",
            "gridwidth": 2,
            "linecolor": "white",
            "showbackground": true,
            "ticks": "",
            "zerolinecolor": "white"
           },
           "yaxis": {
            "backgroundcolor": "#E5ECF6",
            "gridcolor": "white",
            "gridwidth": 2,
            "linecolor": "white",
            "showbackground": true,
            "ticks": "",
            "zerolinecolor": "white"
           },
           "zaxis": {
            "backgroundcolor": "#E5ECF6",
            "gridcolor": "white",
            "gridwidth": 2,
            "linecolor": "white",
            "showbackground": true,
            "ticks": "",
            "zerolinecolor": "white"
           }
          },
          "shapedefaults": {
           "line": {
            "color": "#2a3f5f"
           }
          },
          "ternary": {
           "aaxis": {
            "gridcolor": "white",
            "linecolor": "white",
            "ticks": ""
           },
           "baxis": {
            "gridcolor": "white",
            "linecolor": "white",
            "ticks": ""
           },
           "bgcolor": "#E5ECF6",
           "caxis": {
            "gridcolor": "white",
            "linecolor": "white",
            "ticks": ""
           }
          },
          "title": {
           "x": 0.05
          },
          "xaxis": {
           "automargin": true,
           "gridcolor": "white",
           "linecolor": "white",
           "ticks": "",
           "title": {
            "standoff": 15
           },
           "zerolinecolor": "white",
           "zerolinewidth": 2
          },
          "yaxis": {
           "automargin": true,
           "gridcolor": "white",
           "linecolor": "white",
           "ticks": "",
           "title": {
            "standoff": 15
           },
           "zerolinecolor": "white",
           "zerolinewidth": 2
          }
         }
        },
        "title": {
         "text": "UMAP by Time Point"
        },
        "xaxis": {
         "anchor": "y",
         "domain": [
          0.0,
          0.7363
         ],
         "tickfont": {
          "size": 16
         },
         "title": {
          "font": {
           "size": 20
          },
          "text": "umap0"
         }
        },
        "xaxis2": {
         "anchor": "y2",
         "domain": [
          0.7413,
          1.0
         ],
         "matches": "x2",
         "showgrid": false,
         "showline": false,
         "showticklabels": false,
         "ticks": ""
        },
        "xaxis3": {
         "anchor": "y3",
         "domain": [
          0.0,
          0.7363
         ],
         "matches": "x",
         "showgrid": true,
         "showticklabels": false
        },
        "xaxis4": {
         "anchor": "y4",
         "domain": [
          0.7413,
          1.0
         ],
         "matches": "x2",
         "showgrid": false,
         "showline": false,
         "showticklabels": false,
         "ticks": ""
        },
        "yaxis": {
         "anchor": "x",
         "domain": [
          0.0,
          0.7326
         ],
         "tickfont": {
          "size": 16
         },
         "title": {
          "font": {
           "size": 20
          },
          "text": "umap1"
         }
        },
        "yaxis2": {
         "anchor": "x2",
         "domain": [
          0.0,
          0.7326
         ],
         "matches": "y",
         "showgrid": true,
         "showticklabels": false
        },
        "yaxis3": {
         "anchor": "x3",
         "domain": [
          0.7426,
          1.0
         ],
         "matches": "y3",
         "showgrid": false,
         "showline": false,
         "showticklabels": false,
         "ticks": ""
        },
        "yaxis4": {
         "anchor": "x4",
         "domain": [
          0.7426,
          1.0
         ],
         "matches": "y3",
         "showgrid": true,
         "showline": false,
         "showticklabels": false,
         "ticks": ""
        }
       }
      }
     },
     "metadata": {},
     "output_type": "display_data"
    }
   ],
   "source": [
    "yellow_green_short_colors = [\"#ffeda0\", \"#feb24c\", \"#f03b20\"]\n",
    "\n",
    "fig = px.scatter(\n",
    "    umapdf,\n",
    "    x=\"umap0\",\n",
    "    y=\"umap1\",\n",
    "    color=\"Metadata_time_point\",\n",
    "    title=\"UMAP by Time Point\",\n",
    "    color_discrete_sequence=yellow_green_short_colors,\n",
    "    marginal_x=\"violin\",\n",
    "    marginal_y=\"violin\",\n",
    ")\n",
    "\n",
    "fig.update_layout(\n",
    "    font=dict(size=22, color=\"black\"),\n",
    "    legend=dict(font=dict(size=20)),\n",
    "    xaxis=dict(\n",
    "        title_font=dict(size=20),\n",
    "        tickfont=dict(size=16),\n",
    "    ),\n",
    "    yaxis=dict(\n",
    "        title_font=dict(size=20),\n",
    "        tickfont=dict(size=16),\n",
    "    ),\n",
    ")\n",
    "\n",
    "fig.show()\n",
    "fig.write_image(\n",
    "    static_figure_path / \"round1_time_point_umap.png\", width=2000, height=1200\n",
    ")\n",
    "fig.write_html(\n",
    "    int_figure_path / \"round1_time_point_umap.html\",\n",
    "    full_html=True,\n",
    "    include_plotlyjs=\"embed\",\n",
    ")"
   ]
  },
  {
   "cell_type": "markdown",
   "metadata": {
    "jukit_cell_id": "tgYeYFhJb6"
   },
   "source": [
    "# Visualize Cell Counts per Plate and Well"
   ]
  },
  {
   "cell_type": "code",
   "execution_count": 21,
   "metadata": {
    "execution": {
     "iopub.execute_input": "2025-07-14T18:41:44.282407Z",
     "iopub.status.busy": "2025-07-14T18:41:44.282271Z",
     "iopub.status.idle": "2025-07-14T18:41:53.138540Z",
     "shell.execute_reply": "2025-07-14T18:41:53.138155Z"
    },
    "jukit_cell_id": "F6Ya6sNQvW"
   },
   "outputs": [
    {
     "data": {
      "application/vnd.plotly.v1+json": {
       "config": {
        "plotlyServerURL": "https://plot.ly"
       },
       "data": [
        {
         "customdata": [
          [
           1000,
           "A-673",
           24
          ],
          [
           1000,
           "A-673",
           24
          ],
          [
           2000,
           "A-673",
           24
          ],
          [
           2000,
           "A-673",
           24
          ],
          [
           4000,
           "A-673",
           24
          ],
          [
           4000,
           "A-673",
           24
          ],
          [
           1000,
           "SKNDZ",
           24
          ],
          [
           1000,
           "SKNDZ",
           24
          ],
          [
           2000,
           "SKNDZ",
           24
          ],
          [
           2000,
           "SKNDZ",
           24
          ],
          [
           4000,
           "SKNDZ",
           24
          ],
          [
           4000,
           "SKNDZ",
           24
          ],
          [
           8000,
           "SKNDZ",
           24
          ],
          [
           8000,
           "SKNDZ",
           24
          ],
          [
           12000,
           "SKNDZ",
           24
          ],
          [
           12000,
           "SKNDZ",
           24
          ],
          [
           1000,
           "A-673",
           24
          ],
          [
           1000,
           "A-673",
           24
          ],
          [
           2000,
           "A-673",
           24
          ],
          [
           2000,
           "A-673",
           24
          ],
          [
           4000,
           "A-673",
           24
          ],
          [
           4000,
           "A-673",
           24
          ],
          [
           1000,
           "SKNDZ",
           24
          ],
          [
           1000,
           "SKNDZ",
           24
          ],
          [
           2000,
           "SKNDZ",
           24
          ],
          [
           2000,
           "SKNDZ",
           24
          ],
          [
           4000,
           "SKNDZ",
           24
          ],
          [
           4000,
           "SKNDZ",
           24
          ],
          [
           8000,
           "SKNDZ",
           24
          ],
          [
           8000,
           "SKNDZ",
           24
          ],
          [
           12000,
           "SKNDZ",
           24
          ],
          [
           1000,
           "SKNMC",
           24
          ],
          [
           1000,
           "SKNMC",
           24
          ],
          [
           2000,
           "SKNMC",
           24
          ],
          [
           2000,
           "SKNMC",
           24
          ],
          [
           4000,
           "SKNMC",
           24
          ],
          [
           4000,
           "SKNMC",
           24
          ],
          [
           1000,
           "CHLA-10",
           24
          ],
          [
           1000,
           "CHLA-10",
           24
          ],
          [
           2000,
           "CHLA-10",
           24
          ],
          [
           2000,
           "CHLA-10",
           24
          ],
          [
           4000,
           "CHLA-10",
           24
          ],
          [
           4000,
           "CHLA-10",
           24
          ],
          [
           8000,
           "CHLA-10",
           24
          ],
          [
           8000,
           "CHLA-10",
           24
          ],
          [
           12000,
           "CHLA-10",
           24
          ],
          [
           12000,
           "CHLA-10",
           24
          ],
          [
           1000,
           "SKNMC",
           24
          ],
          [
           1000,
           "SKNMC",
           24
          ],
          [
           2000,
           "SKNMC",
           24
          ],
          [
           2000,
           "SKNMC",
           24
          ],
          [
           4000,
           "SKNMC",
           24
          ],
          [
           4000,
           "SKNMC",
           24
          ],
          [
           1000,
           "CHLA-10",
           24
          ],
          [
           1000,
           "CHLA-10",
           24
          ],
          [
           2000,
           "CHLA-10",
           24
          ],
          [
           2000,
           "CHLA-10",
           24
          ],
          [
           4000,
           "CHLA-10",
           24
          ],
          [
           4000,
           "CHLA-10",
           24
          ],
          [
           8000,
           "CHLA-10",
           24
          ],
          [
           8000,
           "CHLA-10",
           24
          ],
          [
           12000,
           "CHLA-10",
           24
          ],
          [
           1000,
           "CHP-212",
           24
          ],
          [
           1000,
           "CHP-212",
           24
          ],
          [
           2000,
           "CHP-212",
           24
          ],
          [
           2000,
           "CHP-212",
           24
          ],
          [
           4000,
           "CHP-212",
           24
          ],
          [
           4000,
           "CHP-212",
           24
          ],
          [
           8000,
           "CHP-212",
           24
          ],
          [
           8000,
           "CHP-212",
           24
          ],
          [
           12000,
           "CHP-212",
           24
          ],
          [
           12000,
           "CHP-212",
           24
          ],
          [
           1000,
           "CHLA-25",
           24
          ],
          [
           1000,
           "CHLA-25",
           24
          ],
          [
           2000,
           "CHLA-25",
           24
          ],
          [
           2000,
           "CHLA-25",
           24
          ],
          [
           4000,
           "CHLA-25",
           24
          ],
          [
           4000,
           "CHLA-25",
           24
          ],
          [
           8000,
           "CHLA-25",
           24
          ],
          [
           8000,
           "CHLA-25",
           24
          ],
          [
           12000,
           "CHLA-25",
           24
          ],
          [
           12000,
           "CHLA-25",
           24
          ],
          [
           1000,
           "CHP-212",
           24
          ],
          [
           1000,
           "CHP-212",
           24
          ],
          [
           2000,
           "CHP-212",
           24
          ],
          [
           2000,
           "CHP-212",
           24
          ],
          [
           4000,
           "CHP-212",
           24
          ],
          [
           4000,
           "CHP-212",
           24
          ],
          [
           8000,
           "CHP-212",
           24
          ],
          [
           8000,
           "CHP-212",
           24
          ],
          [
           12000,
           "CHP-212",
           24
          ],
          [
           12000,
           "CHP-212",
           24
          ],
          [
           1000,
           "CHLA-25",
           24
          ],
          [
           1000,
           "CHLA-25",
           24
          ],
          [
           2000,
           "CHLA-25",
           24
          ],
          [
           2000,
           "CHLA-25",
           24
          ],
          [
           4000,
           "CHLA-25",
           24
          ],
          [
           4000,
           "CHLA-25",
           24
          ],
          [
           8000,
           "CHLA-25",
           24
          ],
          [
           8000,
           "CHLA-25",
           24
          ],
          [
           12000,
           "CHLA-25",
           24
          ],
          [
           12000,
           "CHLA-25",
           24
          ],
          [
           1000,
           "NB-1",
           24
          ],
          [
           1000,
           "NB-1",
           24
          ],
          [
           2000,
           "NB-1",
           24
          ],
          [
           2000,
           "NB-1",
           24
          ],
          [
           4000,
           "NB-1",
           24
          ],
          [
           4000,
           "NB-1",
           24
          ],
          [
           8000,
           "NB-1",
           24
          ],
          [
           8000,
           "NB-1",
           24
          ],
          [
           12000,
           "NB-1",
           24
          ],
          [
           12000,
           "NB-1",
           24
          ],
          [
           1000,
           "CHLA-113",
           24
          ],
          [
           1000,
           "CHLA-113",
           24
          ],
          [
           2000,
           "CHLA-113",
           24
          ],
          [
           2000,
           "CHLA-113",
           24
          ],
          [
           4000,
           "CHLA-113",
           24
          ],
          [
           4000,
           "CHLA-113",
           24
          ],
          [
           8000,
           "CHLA-113",
           24
          ],
          [
           8000,
           "CHLA-113",
           24
          ],
          [
           12000,
           "CHLA-113",
           24
          ],
          [
           12000,
           "CHLA-113",
           24
          ],
          [
           1000,
           "NB-1",
           24
          ],
          [
           1000,
           "NB-1",
           24
          ],
          [
           2000,
           "NB-1",
           24
          ],
          [
           2000,
           "NB-1",
           24
          ],
          [
           4000,
           "NB-1",
           24
          ],
          [
           4000,
           "NB-1",
           24
          ],
          [
           8000,
           "NB-1",
           24
          ],
          [
           8000,
           "NB-1",
           24
          ],
          [
           12000,
           "NB-1",
           24
          ],
          [
           12000,
           "NB-1",
           24
          ],
          [
           1000,
           "CHLA-113",
           24
          ],
          [
           1000,
           "CHLA-113",
           24
          ],
          [
           2000,
           "CHLA-113",
           24
          ],
          [
           2000,
           "CHLA-113",
           24
          ],
          [
           4000,
           "CHLA-113",
           24
          ],
          [
           4000,
           "CHLA-113",
           24
          ],
          [
           8000,
           "CHLA-113",
           24
          ],
          [
           8000,
           "CHLA-113",
           24
          ],
          [
           12000,
           "CHLA-113",
           24
          ],
          [
           12000,
           "CHLA-113",
           24
          ],
          [
           1000,
           "KPNYN",
           24
          ],
          [
           1000,
           "KPNYN",
           24
          ],
          [
           2000,
           "KPNYN",
           24
          ],
          [
           2000,
           "KPNYN",
           24
          ],
          [
           4000,
           "KPNYN",
           24
          ],
          [
           4000,
           "KPNYN",
           24
          ],
          [
           8000,
           "KPNYN",
           24
          ],
          [
           8000,
           "KPNYN",
           24
          ],
          [
           12000,
           "KPNYN",
           24
          ],
          [
           12000,
           "KPNYN",
           24
          ],
          [
           1000,
           "CHLA-200",
           24
          ],
          [
           1000,
           "CHLA-200",
           24
          ],
          [
           2000,
           "CHLA-200",
           24
          ],
          [
           2000,
           "CHLA-200",
           24
          ],
          [
           4000,
           "CHLA-200",
           24
          ],
          [
           4000,
           "CHLA-200",
           24
          ],
          [
           8000,
           "CHLA-200",
           24
          ],
          [
           8000,
           "CHLA-200",
           24
          ],
          [
           12000,
           "CHLA-200",
           24
          ],
          [
           12000,
           "CHLA-200",
           24
          ],
          [
           1000,
           "KPNYN",
           24
          ],
          [
           1000,
           "KPNYN",
           24
          ],
          [
           2000,
           "KPNYN",
           24
          ],
          [
           2000,
           "KPNYN",
           24
          ],
          [
           4000,
           "KPNYN",
           24
          ],
          [
           4000,
           "KPNYN",
           24
          ],
          [
           8000,
           "KPNYN",
           24
          ],
          [
           8000,
           "KPNYN",
           24
          ],
          [
           12000,
           "KPNYN",
           24
          ],
          [
           12000,
           "KPNYN",
           24
          ],
          [
           1000,
           "CHLA-200",
           24
          ],
          [
           1000,
           "CHLA-200",
           24
          ],
          [
           2000,
           "CHLA-200",
           24
          ],
          [
           2000,
           "CHLA-200",
           24
          ],
          [
           4000,
           "CHLA-200",
           24
          ],
          [
           4000,
           "CHLA-200",
           24
          ],
          [
           8000,
           "CHLA-200",
           24
          ],
          [
           8000,
           "CHLA-200",
           24
          ],
          [
           12000,
           "CHLA-200",
           24
          ],
          [
           12000,
           "CHLA-200",
           24
          ],
          [
           1000,
           "SHSY5Y",
           24
          ],
          [
           1000,
           "SHSY5Y",
           24
          ],
          [
           2000,
           "SHSY5Y",
           24
          ],
          [
           2000,
           "SHSY5Y",
           24
          ],
          [
           4000,
           "SHSY5Y",
           24
          ],
          [
           4000,
           "SHSY5Y",
           24
          ],
          [
           8000,
           "SHSY5Y",
           24
          ],
          [
           8000,
           "SHSY5Y",
           24
          ],
          [
           12000,
           "SHSY5Y",
           24
          ],
          [
           12000,
           "SHSY5Y",
           24
          ],
          [
           1000,
           "CHLA-218",
           24
          ],
          [
           1000,
           "CHLA-218",
           24
          ],
          [
           2000,
           "CHLA-218",
           24
          ],
          [
           2000,
           "CHLA-218",
           24
          ],
          [
           4000,
           "CHLA-218",
           24
          ],
          [
           4000,
           "CHLA-218",
           24
          ],
          [
           8000,
           "CHLA-218",
           24
          ],
          [
           8000,
           "CHLA-218",
           24
          ],
          [
           12000,
           "CHLA-218",
           24
          ],
          [
           12000,
           "CHLA-218",
           24
          ],
          [
           1000,
           "SHSY5Y",
           24
          ],
          [
           1000,
           "SHSY5Y",
           24
          ],
          [
           2000,
           "SHSY5Y",
           24
          ],
          [
           2000,
           "SHSY5Y",
           24
          ],
          [
           4000,
           "SHSY5Y",
           24
          ],
          [
           4000,
           "SHSY5Y",
           24
          ],
          [
           8000,
           "SHSY5Y",
           24
          ],
          [
           8000,
           "SHSY5Y",
           24
          ],
          [
           12000,
           "SHSY5Y",
           24
          ],
          [
           12000,
           "SHSY5Y",
           24
          ],
          [
           1000,
           "CHLA-218",
           24
          ],
          [
           1000,
           "CHLA-218",
           24
          ],
          [
           2000,
           "CHLA-218",
           24
          ],
          [
           2000,
           "CHLA-218",
           24
          ],
          [
           4000,
           "CHLA-218",
           24
          ],
          [
           4000,
           "CHLA-218",
           24
          ],
          [
           8000,
           "CHLA-218",
           24
          ],
          [
           8000,
           "CHLA-218",
           24
          ],
          [
           12000,
           "CHLA-218",
           24
          ],
          [
           12000,
           "CHLA-218",
           24
          ],
          [
           1000,
           "U2-OS",
           24
          ],
          [
           1000,
           "U2-OS",
           24
          ],
          [
           2000,
           "U2-OS",
           24
          ],
          [
           2000,
           "U2-OS",
           24
          ],
          [
           4000,
           "U2-OS",
           24
          ],
          [
           4000,
           "U2-OS",
           24
          ],
          [
           8000,
           "U2-OS",
           24
          ],
          [
           8000,
           "U2-OS",
           24
          ],
          [
           12000,
           "U2-OS",
           24
          ],
          [
           1000,
           "U2-OS",
           24
          ],
          [
           1000,
           "U2-OS",
           24
          ],
          [
           2000,
           "U2-OS",
           24
          ],
          [
           2000,
           "U2-OS",
           24
          ],
          [
           4000,
           "U2-OS",
           24
          ],
          [
           4000,
           "U2-OS",
           24
          ],
          [
           8000,
           "U2-OS",
           24
          ],
          [
           8000,
           "U2-OS",
           24
          ],
          [
           12000,
           "U2-OS",
           24
          ],
          [
           12000,
           "U2-OS",
           24
          ],
          [
           1000,
           "U2-OS",
           24
          ],
          [
           1000,
           "U2-OS",
           24
          ],
          [
           2000,
           "U2-OS",
           24
          ],
          [
           2000,
           "U2-OS",
           24
          ],
          [
           4000,
           "U2-OS",
           24
          ],
          [
           4000,
           "U2-OS",
           24
          ],
          [
           8000,
           "U2-OS",
           24
          ],
          [
           8000,
           "U2-OS",
           24
          ],
          [
           12000,
           "U2-OS",
           24
          ],
          [
           12000,
           "U2-OS",
           24
          ],
          [
           1000,
           "U2-OS",
           24
          ],
          [
           1000,
           "U2-OS",
           24
          ],
          [
           2000,
           "U2-OS",
           24
          ],
          [
           2000,
           "U2-OS",
           24
          ],
          [
           4000,
           "U2-OS",
           24
          ],
          [
           4000,
           "U2-OS",
           24
          ],
          [
           8000,
           "U2-OS",
           24
          ],
          [
           8000,
           "U2-OS",
           24
          ],
          [
           12000,
           "U2-OS",
           24
          ],
          [
           12000,
           "U2-OS",
           24
          ]
         ],
         "hovertemplate": "Well=%{x}<br>count=%{y}<br>Seeding Density=%{customdata[0]}<br>Cell Line=%{customdata[1]}<br>Time Point=%{customdata[2]}<extra></extra>",
         "legendgroup": "",
         "marker": {
          "color": "#636efa",
          "pattern": {
           "shape": ""
          }
         },
         "name": "",
         "orientation": "v",
         "showlegend": false,
         "textposition": "auto",
         "type": "bar",
         "x": [
          "C03",
          "C04",
          "C05",
          "C06",
          "C07",
          "C08",
          "C13",
          "C14",
          "C15",
          "C16",
          "C17",
          "C18",
          "C19",
          "C20",
          "C21",
          "C22",
          "D03",
          "D04",
          "D05",
          "D06",
          "D07",
          "D08",
          "D13",
          "D14",
          "D15",
          "D16",
          "D17",
          "D18",
          "D19",
          "D20",
          "D22",
          "E03",
          "E04",
          "E05",
          "E06",
          "E07",
          "E08",
          "E13",
          "E14",
          "E15",
          "E16",
          "E17",
          "E18",
          "E19",
          "E20",
          "E21",
          "E22",
          "F03",
          "F04",
          "F05",
          "F06",
          "F07",
          "F08",
          "F13",
          "F14",
          "F15",
          "F16",
          "F17",
          "F18",
          "F19",
          "F20",
          "F22",
          "G03",
          "G04",
          "G05",
          "G06",
          "G07",
          "G08",
          "G09",
          "G10",
          "G11",
          "G12",
          "G13",
          "G14",
          "G15",
          "G16",
          "G17",
          "G18",
          "G19",
          "G20",
          "G21",
          "G22",
          "H03",
          "H04",
          "H05",
          "H06",
          "H07",
          "H08",
          "H09",
          "H10",
          "H11",
          "H12",
          "H13",
          "H14",
          "H15",
          "H16",
          "H17",
          "H18",
          "H19",
          "H20",
          "H21",
          "H22",
          "I03",
          "I04",
          "I05",
          "I06",
          "I07",
          "I08",
          "I09",
          "I10",
          "I11",
          "I12",
          "I13",
          "I14",
          "I15",
          "I16",
          "I17",
          "I18",
          "I19",
          "I20",
          "I21",
          "I22",
          "J03",
          "J04",
          "J05",
          "J06",
          "J07",
          "J08",
          "J09",
          "J10",
          "J11",
          "J12",
          "J13",
          "J14",
          "J15",
          "J16",
          "J17",
          "J18",
          "J19",
          "J20",
          "J21",
          "J22",
          "K03",
          "K04",
          "K05",
          "K06",
          "K07",
          "K08",
          "K09",
          "K10",
          "K11",
          "K12",
          "K13",
          "K14",
          "K15",
          "K16",
          "K17",
          "K18",
          "K19",
          "K20",
          "K21",
          "K22",
          "L03",
          "L04",
          "L05",
          "L06",
          "L07",
          "L08",
          "L09",
          "L10",
          "L11",
          "L12",
          "L13",
          "L14",
          "L15",
          "L16",
          "L17",
          "L18",
          "L19",
          "L20",
          "L21",
          "L22",
          "M03",
          "M04",
          "M05",
          "M06",
          "M07",
          "M08",
          "M09",
          "M10",
          "M11",
          "M12",
          "M13",
          "M14",
          "M15",
          "M16",
          "M17",
          "M18",
          "M19",
          "M20",
          "M21",
          "M22",
          "N03",
          "N04",
          "N05",
          "N06",
          "N07",
          "N08",
          "N09",
          "N10",
          "N11",
          "N12",
          "N13",
          "N14",
          "N15",
          "N16",
          "N17",
          "N18",
          "N19",
          "N20",
          "N21",
          "N22",
          "O03",
          "O04",
          "O05",
          "O06",
          "O07",
          "O08",
          "O09",
          "O10",
          "O12",
          "O13",
          "O14",
          "O15",
          "O16",
          "O17",
          "O18",
          "O19",
          "O20",
          "O21",
          "O22",
          "P03",
          "P04",
          "P05",
          "P06",
          "P07",
          "P08",
          "P09",
          "P10",
          "P11",
          "P12",
          "P13",
          "P14",
          "P15",
          "P16",
          "P17",
          "P18",
          "P19",
          "P20",
          "P21",
          "P22"
         ],
         "xaxis": "x",
         "y": {
          "bdata": "EwFUAW4BpQEfA90CQQA0AEEASgCQAHAAzgBYAH8A4gAkAR4BsQGnAYIChANAACoAawBaALAAVQDbAGgAagA+AAsAKQALAC4AJQAKAAkAGwASABwAGQASAB8AEAAeAD4ALgAbAA4AKgAvAAkADwAdAAYACwAWAAkAEQAkAHsAvQBzAYsBVQMuA6sGDgYZC/8LFQANAAgABgACAAwAFwAfAFYAEQCVAAoBUgHDAZ4DRAMxBgEGbgzeCwwAEQAOAAcADwAcABoAKQAIACYAdABlALQA1gAnARQBqQI6A+MH7wc1ABYAEgARABwAJgA1AB8AHQAzAHsAZQCuALUATgE8AVgDBQRCCDYILgAUACQAEgAYABEAOAAsACgAJgDGAKUAWQEDATYCSAJ0BJ8FNAfeBgQB+gBxAUsBXwKKAvYFxQbTBzwItgDAAIABJwGWAjcCCQVoBAEICwiTAKQAkgDBAAEDxwLzBlIGYAl5CHAAhQB5AJkA4QDhAFcBSAGtAH8BFAAdAAIABAAMAA4AGgAvABMAGQB2AG0ApgB8AO0AngACAYMBHgKoAQoADgADAB4AFgAPADYAIAAWAC0AAwEKAVkB3gHXAxcELQhYA/kG3ACqACkBlgHvA8sEhAgJCdgIHg0GARUBkgG8AS4EZQRbATUD6AheDyEBEwGVAa8BSwRUBD8JiAjiDAEK",
          "dtype": "i2"
         },
         "yaxis": "y"
        }
       ],
       "layout": {
        "barmode": "relative",
        "font": {
         "color": "black",
         "size": 18
        },
        "legend": {
         "tracegroupgap": 0
        },
        "template": {
         "data": {
          "bar": [
           {
            "error_x": {
             "color": "#2a3f5f"
            },
            "error_y": {
             "color": "#2a3f5f"
            },
            "marker": {
             "line": {
              "color": "#E5ECF6",
              "width": 0.5
             },
             "pattern": {
              "fillmode": "overlay",
              "size": 10,
              "solidity": 0.2
             }
            },
            "type": "bar"
           }
          ],
          "barpolar": [
           {
            "marker": {
             "line": {
              "color": "#E5ECF6",
              "width": 0.5
             },
             "pattern": {
              "fillmode": "overlay",
              "size": 10,
              "solidity": 0.2
             }
            },
            "type": "barpolar"
           }
          ],
          "carpet": [
           {
            "aaxis": {
             "endlinecolor": "#2a3f5f",
             "gridcolor": "white",
             "linecolor": "white",
             "minorgridcolor": "white",
             "startlinecolor": "#2a3f5f"
            },
            "baxis": {
             "endlinecolor": "#2a3f5f",
             "gridcolor": "white",
             "linecolor": "white",
             "minorgridcolor": "white",
             "startlinecolor": "#2a3f5f"
            },
            "type": "carpet"
           }
          ],
          "choropleth": [
           {
            "colorbar": {
             "outlinewidth": 0,
             "ticks": ""
            },
            "type": "choropleth"
           }
          ],
          "contour": [
           {
            "colorbar": {
             "outlinewidth": 0,
             "ticks": ""
            },
            "colorscale": [
             [
              0.0,
              "#0d0887"
             ],
             [
              0.1111111111111111,
              "#46039f"
             ],
             [
              0.2222222222222222,
              "#7201a8"
             ],
             [
              0.3333333333333333,
              "#9c179e"
             ],
             [
              0.4444444444444444,
              "#bd3786"
             ],
             [
              0.5555555555555556,
              "#d8576b"
             ],
             [
              0.6666666666666666,
              "#ed7953"
             ],
             [
              0.7777777777777778,
              "#fb9f3a"
             ],
             [
              0.8888888888888888,
              "#fdca26"
             ],
             [
              1.0,
              "#f0f921"
             ]
            ],
            "type": "contour"
           }
          ],
          "contourcarpet": [
           {
            "colorbar": {
             "outlinewidth": 0,
             "ticks": ""
            },
            "type": "contourcarpet"
           }
          ],
          "heatmap": [
           {
            "colorbar": {
             "outlinewidth": 0,
             "ticks": ""
            },
            "colorscale": [
             [
              0.0,
              "#0d0887"
             ],
             [
              0.1111111111111111,
              "#46039f"
             ],
             [
              0.2222222222222222,
              "#7201a8"
             ],
             [
              0.3333333333333333,
              "#9c179e"
             ],
             [
              0.4444444444444444,
              "#bd3786"
             ],
             [
              0.5555555555555556,
              "#d8576b"
             ],
             [
              0.6666666666666666,
              "#ed7953"
             ],
             [
              0.7777777777777778,
              "#fb9f3a"
             ],
             [
              0.8888888888888888,
              "#fdca26"
             ],
             [
              1.0,
              "#f0f921"
             ]
            ],
            "type": "heatmap"
           }
          ],
          "histogram": [
           {
            "marker": {
             "pattern": {
              "fillmode": "overlay",
              "size": 10,
              "solidity": 0.2
             }
            },
            "type": "histogram"
           }
          ],
          "histogram2d": [
           {
            "colorbar": {
             "outlinewidth": 0,
             "ticks": ""
            },
            "colorscale": [
             [
              0.0,
              "#0d0887"
             ],
             [
              0.1111111111111111,
              "#46039f"
             ],
             [
              0.2222222222222222,
              "#7201a8"
             ],
             [
              0.3333333333333333,
              "#9c179e"
             ],
             [
              0.4444444444444444,
              "#bd3786"
             ],
             [
              0.5555555555555556,
              "#d8576b"
             ],
             [
              0.6666666666666666,
              "#ed7953"
             ],
             [
              0.7777777777777778,
              "#fb9f3a"
             ],
             [
              0.8888888888888888,
              "#fdca26"
             ],
             [
              1.0,
              "#f0f921"
             ]
            ],
            "type": "histogram2d"
           }
          ],
          "histogram2dcontour": [
           {
            "colorbar": {
             "outlinewidth": 0,
             "ticks": ""
            },
            "colorscale": [
             [
              0.0,
              "#0d0887"
             ],
             [
              0.1111111111111111,
              "#46039f"
             ],
             [
              0.2222222222222222,
              "#7201a8"
             ],
             [
              0.3333333333333333,
              "#9c179e"
             ],
             [
              0.4444444444444444,
              "#bd3786"
             ],
             [
              0.5555555555555556,
              "#d8576b"
             ],
             [
              0.6666666666666666,
              "#ed7953"
             ],
             [
              0.7777777777777778,
              "#fb9f3a"
             ],
             [
              0.8888888888888888,
              "#fdca26"
             ],
             [
              1.0,
              "#f0f921"
             ]
            ],
            "type": "histogram2dcontour"
           }
          ],
          "mesh3d": [
           {
            "colorbar": {
             "outlinewidth": 0,
             "ticks": ""
            },
            "type": "mesh3d"
           }
          ],
          "parcoords": [
           {
            "line": {
             "colorbar": {
              "outlinewidth": 0,
              "ticks": ""
             }
            },
            "type": "parcoords"
           }
          ],
          "pie": [
           {
            "automargin": true,
            "type": "pie"
           }
          ],
          "scatter": [
           {
            "fillpattern": {
             "fillmode": "overlay",
             "size": 10,
             "solidity": 0.2
            },
            "type": "scatter"
           }
          ],
          "scatter3d": [
           {
            "line": {
             "colorbar": {
              "outlinewidth": 0,
              "ticks": ""
             }
            },
            "marker": {
             "colorbar": {
              "outlinewidth": 0,
              "ticks": ""
             }
            },
            "type": "scatter3d"
           }
          ],
          "scattercarpet": [
           {
            "marker": {
             "colorbar": {
              "outlinewidth": 0,
              "ticks": ""
             }
            },
            "type": "scattercarpet"
           }
          ],
          "scattergeo": [
           {
            "marker": {
             "colorbar": {
              "outlinewidth": 0,
              "ticks": ""
             }
            },
            "type": "scattergeo"
           }
          ],
          "scattergl": [
           {
            "marker": {
             "colorbar": {
              "outlinewidth": 0,
              "ticks": ""
             }
            },
            "type": "scattergl"
           }
          ],
          "scattermap": [
           {
            "marker": {
             "colorbar": {
              "outlinewidth": 0,
              "ticks": ""
             }
            },
            "type": "scattermap"
           }
          ],
          "scattermapbox": [
           {
            "marker": {
             "colorbar": {
              "outlinewidth": 0,
              "ticks": ""
             }
            },
            "type": "scattermapbox"
           }
          ],
          "scatterpolar": [
           {
            "marker": {
             "colorbar": {
              "outlinewidth": 0,
              "ticks": ""
             }
            },
            "type": "scatterpolar"
           }
          ],
          "scatterpolargl": [
           {
            "marker": {
             "colorbar": {
              "outlinewidth": 0,
              "ticks": ""
             }
            },
            "type": "scatterpolargl"
           }
          ],
          "scatterternary": [
           {
            "marker": {
             "colorbar": {
              "outlinewidth": 0,
              "ticks": ""
             }
            },
            "type": "scatterternary"
           }
          ],
          "surface": [
           {
            "colorbar": {
             "outlinewidth": 0,
             "ticks": ""
            },
            "colorscale": [
             [
              0.0,
              "#0d0887"
             ],
             [
              0.1111111111111111,
              "#46039f"
             ],
             [
              0.2222222222222222,
              "#7201a8"
             ],
             [
              0.3333333333333333,
              "#9c179e"
             ],
             [
              0.4444444444444444,
              "#bd3786"
             ],
             [
              0.5555555555555556,
              "#d8576b"
             ],
             [
              0.6666666666666666,
              "#ed7953"
             ],
             [
              0.7777777777777778,
              "#fb9f3a"
             ],
             [
              0.8888888888888888,
              "#fdca26"
             ],
             [
              1.0,
              "#f0f921"
             ]
            ],
            "type": "surface"
           }
          ],
          "table": [
           {
            "cells": {
             "fill": {
              "color": "#EBF0F8"
             },
             "line": {
              "color": "white"
             }
            },
            "header": {
             "fill": {
              "color": "#C8D4E3"
             },
             "line": {
              "color": "white"
             }
            },
            "type": "table"
           }
          ]
         },
         "layout": {
          "annotationdefaults": {
           "arrowcolor": "#2a3f5f",
           "arrowhead": 0,
           "arrowwidth": 1
          },
          "autotypenumbers": "strict",
          "coloraxis": {
           "colorbar": {
            "outlinewidth": 0,
            "ticks": ""
           }
          },
          "colorscale": {
           "diverging": [
            [
             0,
             "#8e0152"
            ],
            [
             0.1,
             "#c51b7d"
            ],
            [
             0.2,
             "#de77ae"
            ],
            [
             0.3,
             "#f1b6da"
            ],
            [
             0.4,
             "#fde0ef"
            ],
            [
             0.5,
             "#f7f7f7"
            ],
            [
             0.6,
             "#e6f5d0"
            ],
            [
             0.7,
             "#b8e186"
            ],
            [
             0.8,
             "#7fbc41"
            ],
            [
             0.9,
             "#4d9221"
            ],
            [
             1,
             "#276419"
            ]
           ],
           "sequential": [
            [
             0.0,
             "#0d0887"
            ],
            [
             0.1111111111111111,
             "#46039f"
            ],
            [
             0.2222222222222222,
             "#7201a8"
            ],
            [
             0.3333333333333333,
             "#9c179e"
            ],
            [
             0.4444444444444444,
             "#bd3786"
            ],
            [
             0.5555555555555556,
             "#d8576b"
            ],
            [
             0.6666666666666666,
             "#ed7953"
            ],
            [
             0.7777777777777778,
             "#fb9f3a"
            ],
            [
             0.8888888888888888,
             "#fdca26"
            ],
            [
             1.0,
             "#f0f921"
            ]
           ],
           "sequentialminus": [
            [
             0.0,
             "#0d0887"
            ],
            [
             0.1111111111111111,
             "#46039f"
            ],
            [
             0.2222222222222222,
             "#7201a8"
            ],
            [
             0.3333333333333333,
             "#9c179e"
            ],
            [
             0.4444444444444444,
             "#bd3786"
            ],
            [
             0.5555555555555556,
             "#d8576b"
            ],
            [
             0.6666666666666666,
             "#ed7953"
            ],
            [
             0.7777777777777778,
             "#fb9f3a"
            ],
            [
             0.8888888888888888,
             "#fdca26"
            ],
            [
             1.0,
             "#f0f921"
            ]
           ]
          },
          "colorway": [
           "#636efa",
           "#EF553B",
           "#00cc96",
           "#ab63fa",
           "#FFA15A",
           "#19d3f3",
           "#FF6692",
           "#B6E880",
           "#FF97FF",
           "#FECB52"
          ],
          "font": {
           "color": "#2a3f5f"
          },
          "geo": {
           "bgcolor": "white",
           "lakecolor": "white",
           "landcolor": "#E5ECF6",
           "showlakes": true,
           "showland": true,
           "subunitcolor": "white"
          },
          "hoverlabel": {
           "align": "left"
          },
          "hovermode": "closest",
          "mapbox": {
           "style": "light"
          },
          "paper_bgcolor": "white",
          "plot_bgcolor": "#E5ECF6",
          "polar": {
           "angularaxis": {
            "gridcolor": "white",
            "linecolor": "white",
            "ticks": ""
           },
           "bgcolor": "#E5ECF6",
           "radialaxis": {
            "gridcolor": "white",
            "linecolor": "white",
            "ticks": ""
           }
          },
          "scene": {
           "xaxis": {
            "backgroundcolor": "#E5ECF6",
            "gridcolor": "white",
            "gridwidth": 2,
            "linecolor": "white",
            "showbackground": true,
            "ticks": "",
            "zerolinecolor": "white"
           },
           "yaxis": {
            "backgroundcolor": "#E5ECF6",
            "gridcolor": "white",
            "gridwidth": 2,
            "linecolor": "white",
            "showbackground": true,
            "ticks": "",
            "zerolinecolor": "white"
           },
           "zaxis": {
            "backgroundcolor": "#E5ECF6",
            "gridcolor": "white",
            "gridwidth": 2,
            "linecolor": "white",
            "showbackground": true,
            "ticks": "",
            "zerolinecolor": "white"
           }
          },
          "shapedefaults": {
           "line": {
            "color": "#2a3f5f"
           }
          },
          "ternary": {
           "aaxis": {
            "gridcolor": "white",
            "linecolor": "white",
            "ticks": ""
           },
           "baxis": {
            "gridcolor": "white",
            "linecolor": "white",
            "ticks": ""
           },
           "bgcolor": "#E5ECF6",
           "caxis": {
            "gridcolor": "white",
            "linecolor": "white",
            "ticks": ""
           }
          },
          "title": {
           "x": 0.05
          },
          "xaxis": {
           "automargin": true,
           "gridcolor": "white",
           "linecolor": "white",
           "ticks": "",
           "title": {
            "standoff": 15
           },
           "zerolinecolor": "white",
           "zerolinewidth": 2
          },
          "yaxis": {
           "automargin": true,
           "gridcolor": "white",
           "linecolor": "white",
           "ticks": "",
           "title": {
            "standoff": 15
           },
           "zerolinecolor": "white",
           "zerolinewidth": 2
          }
         }
        },
        "title": {
         "text": "Cell Count per Well - Plate BR00145438"
        },
        "xaxis": {
         "anchor": "y",
         "domain": [
          0.0,
          1.0
         ],
         "tickangle": -45,
         "title": {
          "text": "Well"
         }
        },
        "yaxis": {
         "anchor": "x",
         "domain": [
          0.0,
          1.0
         ],
         "range": [
          0,
          8224.65
         ],
         "title": {
          "text": "count"
         }
        }
       }
      }
     },
     "metadata": {},
     "output_type": "display_data"
    },
    {
     "data": {
      "application/vnd.plotly.v1+json": {
       "config": {
        "plotlyServerURL": "https://plot.ly"
       },
       "data": [
        {
         "customdata": [
          [
           1000,
           "A-673",
           72
          ],
          [
           1000,
           "A-673",
           72
          ],
          [
           2000,
           "A-673",
           72
          ],
          [
           2000,
           "A-673",
           72
          ],
          [
           4000,
           "A-673",
           72
          ],
          [
           4000,
           "A-673",
           72
          ],
          [
           8000,
           "A-673",
           72
          ],
          [
           8000,
           "A-673",
           72
          ],
          [
           1000,
           "SKNDZ",
           72
          ],
          [
           1000,
           "SKNDZ",
           72
          ],
          [
           2000,
           "SKNDZ",
           72
          ],
          [
           2000,
           "SKNDZ",
           72
          ],
          [
           4000,
           "SKNDZ",
           72
          ],
          [
           4000,
           "SKNDZ",
           72
          ],
          [
           8000,
           "SKNDZ",
           72
          ],
          [
           8000,
           "SKNDZ",
           72
          ],
          [
           12000,
           "SKNDZ",
           72
          ],
          [
           12000,
           "SKNDZ",
           72
          ],
          [
           1000,
           "A-673",
           72
          ],
          [
           1000,
           "A-673",
           72
          ],
          [
           2000,
           "A-673",
           72
          ],
          [
           2000,
           "A-673",
           72
          ],
          [
           4000,
           "A-673",
           72
          ],
          [
           4000,
           "A-673",
           72
          ],
          [
           8000,
           "A-673",
           72
          ],
          [
           8000,
           "A-673",
           72
          ],
          [
           12000,
           "A-673",
           72
          ],
          [
           1000,
           "SKNDZ",
           72
          ],
          [
           1000,
           "SKNDZ",
           72
          ],
          [
           2000,
           "SKNDZ",
           72
          ],
          [
           2000,
           "SKNDZ",
           72
          ],
          [
           4000,
           "SKNDZ",
           72
          ],
          [
           4000,
           "SKNDZ",
           72
          ],
          [
           8000,
           "SKNDZ",
           72
          ],
          [
           8000,
           "SKNDZ",
           72
          ],
          [
           12000,
           "SKNDZ",
           72
          ],
          [
           12000,
           "SKNDZ",
           72
          ],
          [
           1000,
           "SKNMC",
           72
          ],
          [
           1000,
           "SKNMC",
           72
          ],
          [
           2000,
           "SKNMC",
           72
          ],
          [
           2000,
           "SKNMC",
           72
          ],
          [
           4000,
           "SKNMC",
           72
          ],
          [
           4000,
           "SKNMC",
           72
          ],
          [
           8000,
           "SKNMC",
           72
          ],
          [
           8000,
           "SKNMC",
           72
          ],
          [
           1000,
           "CHLA-10",
           72
          ],
          [
           1000,
           "CHLA-10",
           72
          ],
          [
           2000,
           "CHLA-10",
           72
          ],
          [
           2000,
           "CHLA-10",
           72
          ],
          [
           4000,
           "CHLA-10",
           72
          ],
          [
           4000,
           "CHLA-10",
           72
          ],
          [
           8000,
           "CHLA-10",
           72
          ],
          [
           8000,
           "CHLA-10",
           72
          ],
          [
           12000,
           "CHLA-10",
           72
          ],
          [
           12000,
           "CHLA-10",
           72
          ],
          [
           1000,
           "SKNMC",
           72
          ],
          [
           1000,
           "SKNMC",
           72
          ],
          [
           2000,
           "SKNMC",
           72
          ],
          [
           2000,
           "SKNMC",
           72
          ],
          [
           4000,
           "SKNMC",
           72
          ],
          [
           4000,
           "SKNMC",
           72
          ],
          [
           8000,
           "SKNMC",
           72
          ],
          [
           8000,
           "SKNMC",
           72
          ],
          [
           12000,
           "SKNMC",
           72
          ],
          [
           12000,
           "SKNMC",
           72
          ],
          [
           1000,
           "CHLA-10",
           72
          ],
          [
           1000,
           "CHLA-10",
           72
          ],
          [
           2000,
           "CHLA-10",
           72
          ],
          [
           2000,
           "CHLA-10",
           72
          ],
          [
           4000,
           "CHLA-10",
           72
          ],
          [
           4000,
           "CHLA-10",
           72
          ],
          [
           8000,
           "CHLA-10",
           72
          ],
          [
           8000,
           "CHLA-10",
           72
          ],
          [
           12000,
           "CHLA-10",
           72
          ],
          [
           12000,
           "CHLA-10",
           72
          ],
          [
           1000,
           "CHP-212",
           72
          ],
          [
           1000,
           "CHP-212",
           72
          ],
          [
           2000,
           "CHP-212",
           72
          ],
          [
           2000,
           "CHP-212",
           72
          ],
          [
           4000,
           "CHP-212",
           72
          ],
          [
           4000,
           "CHP-212",
           72
          ],
          [
           8000,
           "CHP-212",
           72
          ],
          [
           8000,
           "CHP-212",
           72
          ],
          [
           12000,
           "CHP-212",
           72
          ],
          [
           12000,
           "CHP-212",
           72
          ],
          [
           1000,
           "CHLA-25",
           72
          ],
          [
           1000,
           "CHLA-25",
           72
          ],
          [
           2000,
           "CHLA-25",
           72
          ],
          [
           2000,
           "CHLA-25",
           72
          ],
          [
           4000,
           "CHLA-25",
           72
          ],
          [
           4000,
           "CHLA-25",
           72
          ],
          [
           8000,
           "CHLA-25",
           72
          ],
          [
           8000,
           "CHLA-25",
           72
          ],
          [
           12000,
           "CHLA-25",
           72
          ],
          [
           12000,
           "CHLA-25",
           72
          ],
          [
           1000,
           "CHP-212",
           72
          ],
          [
           1000,
           "CHP-212",
           72
          ],
          [
           2000,
           "CHP-212",
           72
          ],
          [
           2000,
           "CHP-212",
           72
          ],
          [
           4000,
           "CHP-212",
           72
          ],
          [
           4000,
           "CHP-212",
           72
          ],
          [
           8000,
           "CHP-212",
           72
          ],
          [
           8000,
           "CHP-212",
           72
          ],
          [
           12000,
           "CHP-212",
           72
          ],
          [
           12000,
           "CHP-212",
           72
          ],
          [
           1000,
           "CHLA-25",
           72
          ],
          [
           1000,
           "CHLA-25",
           72
          ],
          [
           2000,
           "CHLA-25",
           72
          ],
          [
           2000,
           "CHLA-25",
           72
          ],
          [
           4000,
           "CHLA-25",
           72
          ],
          [
           4000,
           "CHLA-25",
           72
          ],
          [
           8000,
           "CHLA-25",
           72
          ],
          [
           8000,
           "CHLA-25",
           72
          ],
          [
           12000,
           "CHLA-25",
           72
          ],
          [
           12000,
           "CHLA-25",
           72
          ],
          [
           1000,
           "NB-1",
           72
          ],
          [
           1000,
           "NB-1",
           72
          ],
          [
           2000,
           "NB-1",
           72
          ],
          [
           2000,
           "NB-1",
           72
          ],
          [
           4000,
           "NB-1",
           72
          ],
          [
           4000,
           "NB-1",
           72
          ],
          [
           8000,
           "NB-1",
           72
          ],
          [
           8000,
           "NB-1",
           72
          ],
          [
           12000,
           "NB-1",
           72
          ],
          [
           12000,
           "NB-1",
           72
          ],
          [
           1000,
           "CHLA-113",
           72
          ],
          [
           1000,
           "CHLA-113",
           72
          ],
          [
           2000,
           "CHLA-113",
           72
          ],
          [
           2000,
           "CHLA-113",
           72
          ],
          [
           4000,
           "CHLA-113",
           72
          ],
          [
           4000,
           "CHLA-113",
           72
          ],
          [
           8000,
           "CHLA-113",
           72
          ],
          [
           8000,
           "CHLA-113",
           72
          ],
          [
           12000,
           "CHLA-113",
           72
          ],
          [
           1000,
           "NB-1",
           72
          ],
          [
           1000,
           "NB-1",
           72
          ],
          [
           2000,
           "NB-1",
           72
          ],
          [
           2000,
           "NB-1",
           72
          ],
          [
           4000,
           "NB-1",
           72
          ],
          [
           4000,
           "NB-1",
           72
          ],
          [
           8000,
           "NB-1",
           72
          ],
          [
           8000,
           "NB-1",
           72
          ],
          [
           12000,
           "NB-1",
           72
          ],
          [
           12000,
           "NB-1",
           72
          ],
          [
           1000,
           "CHLA-113",
           72
          ],
          [
           1000,
           "CHLA-113",
           72
          ],
          [
           2000,
           "CHLA-113",
           72
          ],
          [
           2000,
           "CHLA-113",
           72
          ],
          [
           4000,
           "CHLA-113",
           72
          ],
          [
           4000,
           "CHLA-113",
           72
          ],
          [
           12000,
           "CHLA-113",
           72
          ],
          [
           12000,
           "CHLA-113",
           72
          ],
          [
           1000,
           "KPNYN",
           72
          ],
          [
           1000,
           "KPNYN",
           72
          ],
          [
           2000,
           "KPNYN",
           72
          ],
          [
           2000,
           "KPNYN",
           72
          ],
          [
           4000,
           "KPNYN",
           72
          ],
          [
           4000,
           "KPNYN",
           72
          ],
          [
           8000,
           "KPNYN",
           72
          ],
          [
           8000,
           "KPNYN",
           72
          ],
          [
           12000,
           "KPNYN",
           72
          ],
          [
           12000,
           "KPNYN",
           72
          ],
          [
           1000,
           "CHLA-200",
           72
          ],
          [
           1000,
           "CHLA-200",
           72
          ],
          [
           2000,
           "CHLA-200",
           72
          ],
          [
           2000,
           "CHLA-200",
           72
          ],
          [
           4000,
           "CHLA-200",
           72
          ],
          [
           4000,
           "CHLA-200",
           72
          ],
          [
           8000,
           "CHLA-200",
           72
          ],
          [
           8000,
           "CHLA-200",
           72
          ],
          [
           12000,
           "CHLA-200",
           72
          ],
          [
           12000,
           "CHLA-200",
           72
          ],
          [
           1000,
           "KPNYN",
           72
          ],
          [
           1000,
           "KPNYN",
           72
          ],
          [
           2000,
           "KPNYN",
           72
          ],
          [
           2000,
           "KPNYN",
           72
          ],
          [
           4000,
           "KPNYN",
           72
          ],
          [
           4000,
           "KPNYN",
           72
          ],
          [
           8000,
           "KPNYN",
           72
          ],
          [
           8000,
           "KPNYN",
           72
          ],
          [
           12000,
           "KPNYN",
           72
          ],
          [
           12000,
           "KPNYN",
           72
          ],
          [
           1000,
           "CHLA-200",
           72
          ],
          [
           1000,
           "CHLA-200",
           72
          ],
          [
           2000,
           "CHLA-200",
           72
          ],
          [
           2000,
           "CHLA-200",
           72
          ],
          [
           4000,
           "CHLA-200",
           72
          ],
          [
           4000,
           "CHLA-200",
           72
          ],
          [
           8000,
           "CHLA-200",
           72
          ],
          [
           8000,
           "CHLA-200",
           72
          ],
          [
           12000,
           "CHLA-200",
           72
          ],
          [
           12000,
           "CHLA-200",
           72
          ],
          [
           1000,
           "SHSY5Y",
           72
          ],
          [
           1000,
           "SHSY5Y",
           72
          ],
          [
           2000,
           "SHSY5Y",
           72
          ],
          [
           2000,
           "SHSY5Y",
           72
          ],
          [
           4000,
           "SHSY5Y",
           72
          ],
          [
           4000,
           "SHSY5Y",
           72
          ],
          [
           8000,
           "SHSY5Y",
           72
          ],
          [
           8000,
           "SHSY5Y",
           72
          ],
          [
           12000,
           "SHSY5Y",
           72
          ],
          [
           12000,
           "SHSY5Y",
           72
          ],
          [
           1000,
           "CHLA-218",
           72
          ],
          [
           1000,
           "CHLA-218",
           72
          ],
          [
           2000,
           "CHLA-218",
           72
          ],
          [
           2000,
           "CHLA-218",
           72
          ],
          [
           4000,
           "CHLA-218",
           72
          ],
          [
           4000,
           "CHLA-218",
           72
          ],
          [
           8000,
           "CHLA-218",
           72
          ],
          [
           12000,
           "CHLA-218",
           72
          ],
          [
           12000,
           "CHLA-218",
           72
          ],
          [
           1000,
           "SHSY5Y",
           72
          ],
          [
           1000,
           "SHSY5Y",
           72
          ],
          [
           2000,
           "SHSY5Y",
           72
          ],
          [
           2000,
           "SHSY5Y",
           72
          ],
          [
           4000,
           "SHSY5Y",
           72
          ],
          [
           4000,
           "SHSY5Y",
           72
          ],
          [
           8000,
           "SHSY5Y",
           72
          ],
          [
           8000,
           "SHSY5Y",
           72
          ],
          [
           12000,
           "SHSY5Y",
           72
          ],
          [
           12000,
           "SHSY5Y",
           72
          ],
          [
           1000,
           "CHLA-218",
           72
          ],
          [
           1000,
           "CHLA-218",
           72
          ],
          [
           2000,
           "CHLA-218",
           72
          ],
          [
           2000,
           "CHLA-218",
           72
          ],
          [
           4000,
           "CHLA-218",
           72
          ],
          [
           4000,
           "CHLA-218",
           72
          ],
          [
           8000,
           "CHLA-218",
           72
          ],
          [
           8000,
           "CHLA-218",
           72
          ],
          [
           12000,
           "CHLA-218",
           72
          ],
          [
           12000,
           "CHLA-218",
           72
          ],
          [
           1000,
           "U2-OS",
           72
          ],
          [
           1000,
           "U2-OS",
           72
          ],
          [
           2000,
           "U2-OS",
           72
          ],
          [
           2000,
           "U2-OS",
           72
          ],
          [
           4000,
           "U2-OS",
           72
          ],
          [
           4000,
           "U2-OS",
           72
          ],
          [
           8000,
           "U2-OS",
           72
          ],
          [
           8000,
           "U2-OS",
           72
          ],
          [
           12000,
           "U2-OS",
           72
          ],
          [
           12000,
           "U2-OS",
           72
          ],
          [
           1000,
           "U2-OS",
           72
          ],
          [
           1000,
           "U2-OS",
           72
          ],
          [
           2000,
           "U2-OS",
           72
          ],
          [
           2000,
           "U2-OS",
           72
          ],
          [
           4000,
           "U2-OS",
           72
          ],
          [
           4000,
           "U2-OS",
           72
          ],
          [
           8000,
           "U2-OS",
           72
          ],
          [
           8000,
           "U2-OS",
           72
          ],
          [
           12000,
           "U2-OS",
           72
          ],
          [
           1000,
           "U2-OS",
           72
          ],
          [
           1000,
           "U2-OS",
           72
          ],
          [
           2000,
           "U2-OS",
           72
          ],
          [
           2000,
           "U2-OS",
           72
          ],
          [
           4000,
           "U2-OS",
           72
          ],
          [
           4000,
           "U2-OS",
           72
          ],
          [
           8000,
           "U2-OS",
           72
          ],
          [
           8000,
           "U2-OS",
           72
          ],
          [
           12000,
           "U2-OS",
           72
          ],
          [
           12000,
           "U2-OS",
           72
          ],
          [
           1000,
           "U2-OS",
           72
          ],
          [
           1000,
           "U2-OS",
           72
          ],
          [
           2000,
           "U2-OS",
           72
          ],
          [
           2000,
           "U2-OS",
           72
          ],
          [
           4000,
           "U2-OS",
           72
          ],
          [
           4000,
           "U2-OS",
           72
          ],
          [
           8000,
           "U2-OS",
           72
          ],
          [
           8000,
           "U2-OS",
           72
          ],
          [
           12000,
           "U2-OS",
           72
          ]
         ],
         "hovertemplate": "Well=%{x}<br>count=%{y}<br>Seeding Density=%{customdata[0]}<br>Cell Line=%{customdata[1]}<br>Time Point=%{customdata[2]}<extra></extra>",
         "legendgroup": "",
         "marker": {
          "color": "#636efa",
          "pattern": {
           "shape": ""
          }
         },
         "name": "",
         "orientation": "v",
         "showlegend": false,
         "textposition": "auto",
         "type": "bar",
         "x": [
          "C03",
          "C04",
          "C05",
          "C06",
          "C07",
          "C08",
          "C09",
          "C10",
          "C13",
          "C14",
          "C15",
          "C16",
          "C17",
          "C18",
          "C19",
          "C20",
          "C21",
          "C22",
          "D03",
          "D04",
          "D05",
          "D06",
          "D07",
          "D08",
          "D09",
          "D10",
          "D11",
          "D13",
          "D14",
          "D15",
          "D16",
          "D17",
          "D18",
          "D19",
          "D20",
          "D21",
          "D22",
          "E03",
          "E04",
          "E05",
          "E06",
          "E07",
          "E08",
          "E09",
          "E10",
          "E13",
          "E14",
          "E15",
          "E16",
          "E17",
          "E18",
          "E19",
          "E20",
          "E21",
          "E22",
          "F03",
          "F04",
          "F05",
          "F06",
          "F07",
          "F08",
          "F09",
          "F10",
          "F11",
          "F12",
          "F13",
          "F14",
          "F15",
          "F16",
          "F17",
          "F18",
          "F19",
          "F20",
          "F21",
          "F22",
          "G03",
          "G04",
          "G05",
          "G06",
          "G07",
          "G08",
          "G09",
          "G10",
          "G11",
          "G12",
          "G13",
          "G14",
          "G15",
          "G16",
          "G17",
          "G18",
          "G19",
          "G20",
          "G21",
          "G22",
          "H03",
          "H04",
          "H05",
          "H06",
          "H07",
          "H08",
          "H09",
          "H10",
          "H11",
          "H12",
          "H13",
          "H14",
          "H15",
          "H16",
          "H17",
          "H18",
          "H19",
          "H20",
          "H21",
          "H22",
          "I03",
          "I04",
          "I05",
          "I06",
          "I07",
          "I08",
          "I09",
          "I10",
          "I11",
          "I12",
          "I13",
          "I14",
          "I15",
          "I16",
          "I17",
          "I18",
          "I19",
          "I20",
          "I22",
          "J03",
          "J04",
          "J05",
          "J06",
          "J07",
          "J08",
          "J09",
          "J10",
          "J11",
          "J12",
          "J13",
          "J14",
          "J15",
          "J16",
          "J17",
          "J18",
          "J21",
          "J22",
          "K03",
          "K04",
          "K05",
          "K06",
          "K07",
          "K08",
          "K09",
          "K10",
          "K11",
          "K12",
          "K13",
          "K14",
          "K15",
          "K16",
          "K17",
          "K18",
          "K19",
          "K20",
          "K21",
          "K22",
          "L03",
          "L04",
          "L05",
          "L06",
          "L07",
          "L08",
          "L09",
          "L10",
          "L11",
          "L12",
          "L13",
          "L14",
          "L15",
          "L16",
          "L17",
          "L18",
          "L19",
          "L20",
          "L21",
          "L22",
          "M03",
          "M04",
          "M05",
          "M06",
          "M07",
          "M08",
          "M09",
          "M10",
          "M11",
          "M12",
          "M13",
          "M14",
          "M15",
          "M16",
          "M17",
          "M18",
          "M20",
          "M21",
          "M22",
          "N03",
          "N04",
          "N05",
          "N06",
          "N07",
          "N08",
          "N09",
          "N10",
          "N11",
          "N12",
          "N13",
          "N14",
          "N15",
          "N16",
          "N17",
          "N18",
          "N19",
          "N20",
          "N21",
          "N22",
          "O03",
          "O04",
          "O05",
          "O06",
          "O07",
          "O08",
          "O09",
          "O10",
          "O11",
          "O12",
          "O13",
          "O14",
          "O15",
          "O16",
          "O17",
          "O18",
          "O19",
          "O20",
          "O22",
          "P03",
          "P04",
          "P05",
          "P06",
          "P07",
          "P08",
          "P09",
          "P10",
          "P11",
          "P12",
          "P13",
          "P14",
          "P15",
          "P16",
          "P17",
          "P18",
          "P19",
          "P20",
          "P22"
         ],
         "xaxis": "x",
         "y": {
          "bdata": "lAOyAw8HhQaPEjAUmR4NHs4AzQBSAQsB+QFuAU8BywG5APQAhgOOAzYGNQe6FPsUQBqiGr4ExwDuAE4BRAE5AWMB1wDgAC0BqAHYANYAjgJdAkgLOQo4BKYIXgHNATQCRAFhA2oBbAoyBvQMrw9dAFEAcwFpAe8EygKXCjQJUQ70Dc0B1gEdAoIBmgO0AuIINAjtDDAOJgLbAmcEVQNjCDkHaxImEyAYSRgMAAkAEAAUAAoADgAHACcACgAEAGICoAGTBP8DdQwHCR4U9BFJF5UVCAAFAA0ADAAaAAMAGgAGAAMAFwANAk8CBwSxBKAHFwXhCHcKggy2CxUAIQATAAkAGwAQADoAHQADAP8B5gFRA0EF9Ae+B/IKqwn0DeILEgAPABoADgAXAA8ADAANAB4BCwE3AkIC1QMkAxsGvQQeBIIHcAG5AagCxAIkBa0FKQhuB4AKtQidADoBTwKrAX8EcATVBsYDhAfVAQwCyAHDAtwCfQWJBW8IqgifCkwKCAHrAJUBsQGZA+QB5wSKBLkGNgULAAQAGAATABwALwAmADEAKQCSAL8A3wGBASwERQNYBWoG/ghgBxQABgAKABIAFgAsACsATgAFACoALwcpB5ANlA5fBVUVKQuPBdEM+QTgB3EIiwz8DQQFQgpQBXoF5QeQB58Hkg2vDoENMBijBYAQwRRADEcIlwiADiAOVAWJBxAFgA1KBQ==",
          "dtype": "i2"
         },
         "yaxis": "y"
        }
       ],
       "layout": {
        "barmode": "relative",
        "font": {
         "color": "black",
         "size": 18
        },
        "legend": {
         "tracegroupgap": 0
        },
        "template": {
         "data": {
          "bar": [
           {
            "error_x": {
             "color": "#2a3f5f"
            },
            "error_y": {
             "color": "#2a3f5f"
            },
            "marker": {
             "line": {
              "color": "#E5ECF6",
              "width": 0.5
             },
             "pattern": {
              "fillmode": "overlay",
              "size": 10,
              "solidity": 0.2
             }
            },
            "type": "bar"
           }
          ],
          "barpolar": [
           {
            "marker": {
             "line": {
              "color": "#E5ECF6",
              "width": 0.5
             },
             "pattern": {
              "fillmode": "overlay",
              "size": 10,
              "solidity": 0.2
             }
            },
            "type": "barpolar"
           }
          ],
          "carpet": [
           {
            "aaxis": {
             "endlinecolor": "#2a3f5f",
             "gridcolor": "white",
             "linecolor": "white",
             "minorgridcolor": "white",
             "startlinecolor": "#2a3f5f"
            },
            "baxis": {
             "endlinecolor": "#2a3f5f",
             "gridcolor": "white",
             "linecolor": "white",
             "minorgridcolor": "white",
             "startlinecolor": "#2a3f5f"
            },
            "type": "carpet"
           }
          ],
          "choropleth": [
           {
            "colorbar": {
             "outlinewidth": 0,
             "ticks": ""
            },
            "type": "choropleth"
           }
          ],
          "contour": [
           {
            "colorbar": {
             "outlinewidth": 0,
             "ticks": ""
            },
            "colorscale": [
             [
              0.0,
              "#0d0887"
             ],
             [
              0.1111111111111111,
              "#46039f"
             ],
             [
              0.2222222222222222,
              "#7201a8"
             ],
             [
              0.3333333333333333,
              "#9c179e"
             ],
             [
              0.4444444444444444,
              "#bd3786"
             ],
             [
              0.5555555555555556,
              "#d8576b"
             ],
             [
              0.6666666666666666,
              "#ed7953"
             ],
             [
              0.7777777777777778,
              "#fb9f3a"
             ],
             [
              0.8888888888888888,
              "#fdca26"
             ],
             [
              1.0,
              "#f0f921"
             ]
            ],
            "type": "contour"
           }
          ],
          "contourcarpet": [
           {
            "colorbar": {
             "outlinewidth": 0,
             "ticks": ""
            },
            "type": "contourcarpet"
           }
          ],
          "heatmap": [
           {
            "colorbar": {
             "outlinewidth": 0,
             "ticks": ""
            },
            "colorscale": [
             [
              0.0,
              "#0d0887"
             ],
             [
              0.1111111111111111,
              "#46039f"
             ],
             [
              0.2222222222222222,
              "#7201a8"
             ],
             [
              0.3333333333333333,
              "#9c179e"
             ],
             [
              0.4444444444444444,
              "#bd3786"
             ],
             [
              0.5555555555555556,
              "#d8576b"
             ],
             [
              0.6666666666666666,
              "#ed7953"
             ],
             [
              0.7777777777777778,
              "#fb9f3a"
             ],
             [
              0.8888888888888888,
              "#fdca26"
             ],
             [
              1.0,
              "#f0f921"
             ]
            ],
            "type": "heatmap"
           }
          ],
          "histogram": [
           {
            "marker": {
             "pattern": {
              "fillmode": "overlay",
              "size": 10,
              "solidity": 0.2
             }
            },
            "type": "histogram"
           }
          ],
          "histogram2d": [
           {
            "colorbar": {
             "outlinewidth": 0,
             "ticks": ""
            },
            "colorscale": [
             [
              0.0,
              "#0d0887"
             ],
             [
              0.1111111111111111,
              "#46039f"
             ],
             [
              0.2222222222222222,
              "#7201a8"
             ],
             [
              0.3333333333333333,
              "#9c179e"
             ],
             [
              0.4444444444444444,
              "#bd3786"
             ],
             [
              0.5555555555555556,
              "#d8576b"
             ],
             [
              0.6666666666666666,
              "#ed7953"
             ],
             [
              0.7777777777777778,
              "#fb9f3a"
             ],
             [
              0.8888888888888888,
              "#fdca26"
             ],
             [
              1.0,
              "#f0f921"
             ]
            ],
            "type": "histogram2d"
           }
          ],
          "histogram2dcontour": [
           {
            "colorbar": {
             "outlinewidth": 0,
             "ticks": ""
            },
            "colorscale": [
             [
              0.0,
              "#0d0887"
             ],
             [
              0.1111111111111111,
              "#46039f"
             ],
             [
              0.2222222222222222,
              "#7201a8"
             ],
             [
              0.3333333333333333,
              "#9c179e"
             ],
             [
              0.4444444444444444,
              "#bd3786"
             ],
             [
              0.5555555555555556,
              "#d8576b"
             ],
             [
              0.6666666666666666,
              "#ed7953"
             ],
             [
              0.7777777777777778,
              "#fb9f3a"
             ],
             [
              0.8888888888888888,
              "#fdca26"
             ],
             [
              1.0,
              "#f0f921"
             ]
            ],
            "type": "histogram2dcontour"
           }
          ],
          "mesh3d": [
           {
            "colorbar": {
             "outlinewidth": 0,
             "ticks": ""
            },
            "type": "mesh3d"
           }
          ],
          "parcoords": [
           {
            "line": {
             "colorbar": {
              "outlinewidth": 0,
              "ticks": ""
             }
            },
            "type": "parcoords"
           }
          ],
          "pie": [
           {
            "automargin": true,
            "type": "pie"
           }
          ],
          "scatter": [
           {
            "fillpattern": {
             "fillmode": "overlay",
             "size": 10,
             "solidity": 0.2
            },
            "type": "scatter"
           }
          ],
          "scatter3d": [
           {
            "line": {
             "colorbar": {
              "outlinewidth": 0,
              "ticks": ""
             }
            },
            "marker": {
             "colorbar": {
              "outlinewidth": 0,
              "ticks": ""
             }
            },
            "type": "scatter3d"
           }
          ],
          "scattercarpet": [
           {
            "marker": {
             "colorbar": {
              "outlinewidth": 0,
              "ticks": ""
             }
            },
            "type": "scattercarpet"
           }
          ],
          "scattergeo": [
           {
            "marker": {
             "colorbar": {
              "outlinewidth": 0,
              "ticks": ""
             }
            },
            "type": "scattergeo"
           }
          ],
          "scattergl": [
           {
            "marker": {
             "colorbar": {
              "outlinewidth": 0,
              "ticks": ""
             }
            },
            "type": "scattergl"
           }
          ],
          "scattermap": [
           {
            "marker": {
             "colorbar": {
              "outlinewidth": 0,
              "ticks": ""
             }
            },
            "type": "scattermap"
           }
          ],
          "scattermapbox": [
           {
            "marker": {
             "colorbar": {
              "outlinewidth": 0,
              "ticks": ""
             }
            },
            "type": "scattermapbox"
           }
          ],
          "scatterpolar": [
           {
            "marker": {
             "colorbar": {
              "outlinewidth": 0,
              "ticks": ""
             }
            },
            "type": "scatterpolar"
           }
          ],
          "scatterpolargl": [
           {
            "marker": {
             "colorbar": {
              "outlinewidth": 0,
              "ticks": ""
             }
            },
            "type": "scatterpolargl"
           }
          ],
          "scatterternary": [
           {
            "marker": {
             "colorbar": {
              "outlinewidth": 0,
              "ticks": ""
             }
            },
            "type": "scatterternary"
           }
          ],
          "surface": [
           {
            "colorbar": {
             "outlinewidth": 0,
             "ticks": ""
            },
            "colorscale": [
             [
              0.0,
              "#0d0887"
             ],
             [
              0.1111111111111111,
              "#46039f"
             ],
             [
              0.2222222222222222,
              "#7201a8"
             ],
             [
              0.3333333333333333,
              "#9c179e"
             ],
             [
              0.4444444444444444,
              "#bd3786"
             ],
             [
              0.5555555555555556,
              "#d8576b"
             ],
             [
              0.6666666666666666,
              "#ed7953"
             ],
             [
              0.7777777777777778,
              "#fb9f3a"
             ],
             [
              0.8888888888888888,
              "#fdca26"
             ],
             [
              1.0,
              "#f0f921"
             ]
            ],
            "type": "surface"
           }
          ],
          "table": [
           {
            "cells": {
             "fill": {
              "color": "#EBF0F8"
             },
             "line": {
              "color": "white"
             }
            },
            "header": {
             "fill": {
              "color": "#C8D4E3"
             },
             "line": {
              "color": "white"
             }
            },
            "type": "table"
           }
          ]
         },
         "layout": {
          "annotationdefaults": {
           "arrowcolor": "#2a3f5f",
           "arrowhead": 0,
           "arrowwidth": 1
          },
          "autotypenumbers": "strict",
          "coloraxis": {
           "colorbar": {
            "outlinewidth": 0,
            "ticks": ""
           }
          },
          "colorscale": {
           "diverging": [
            [
             0,
             "#8e0152"
            ],
            [
             0.1,
             "#c51b7d"
            ],
            [
             0.2,
             "#de77ae"
            ],
            [
             0.3,
             "#f1b6da"
            ],
            [
             0.4,
             "#fde0ef"
            ],
            [
             0.5,
             "#f7f7f7"
            ],
            [
             0.6,
             "#e6f5d0"
            ],
            [
             0.7,
             "#b8e186"
            ],
            [
             0.8,
             "#7fbc41"
            ],
            [
             0.9,
             "#4d9221"
            ],
            [
             1,
             "#276419"
            ]
           ],
           "sequential": [
            [
             0.0,
             "#0d0887"
            ],
            [
             0.1111111111111111,
             "#46039f"
            ],
            [
             0.2222222222222222,
             "#7201a8"
            ],
            [
             0.3333333333333333,
             "#9c179e"
            ],
            [
             0.4444444444444444,
             "#bd3786"
            ],
            [
             0.5555555555555556,
             "#d8576b"
            ],
            [
             0.6666666666666666,
             "#ed7953"
            ],
            [
             0.7777777777777778,
             "#fb9f3a"
            ],
            [
             0.8888888888888888,
             "#fdca26"
            ],
            [
             1.0,
             "#f0f921"
            ]
           ],
           "sequentialminus": [
            [
             0.0,
             "#0d0887"
            ],
            [
             0.1111111111111111,
             "#46039f"
            ],
            [
             0.2222222222222222,
             "#7201a8"
            ],
            [
             0.3333333333333333,
             "#9c179e"
            ],
            [
             0.4444444444444444,
             "#bd3786"
            ],
            [
             0.5555555555555556,
             "#d8576b"
            ],
            [
             0.6666666666666666,
             "#ed7953"
            ],
            [
             0.7777777777777778,
             "#fb9f3a"
            ],
            [
             0.8888888888888888,
             "#fdca26"
            ],
            [
             1.0,
             "#f0f921"
            ]
           ]
          },
          "colorway": [
           "#636efa",
           "#EF553B",
           "#00cc96",
           "#ab63fa",
           "#FFA15A",
           "#19d3f3",
           "#FF6692",
           "#B6E880",
           "#FF97FF",
           "#FECB52"
          ],
          "font": {
           "color": "#2a3f5f"
          },
          "geo": {
           "bgcolor": "white",
           "lakecolor": "white",
           "landcolor": "#E5ECF6",
           "showlakes": true,
           "showland": true,
           "subunitcolor": "white"
          },
          "hoverlabel": {
           "align": "left"
          },
          "hovermode": "closest",
          "mapbox": {
           "style": "light"
          },
          "paper_bgcolor": "white",
          "plot_bgcolor": "#E5ECF6",
          "polar": {
           "angularaxis": {
            "gridcolor": "white",
            "linecolor": "white",
            "ticks": ""
           },
           "bgcolor": "#E5ECF6",
           "radialaxis": {
            "gridcolor": "white",
            "linecolor": "white",
            "ticks": ""
           }
          },
          "scene": {
           "xaxis": {
            "backgroundcolor": "#E5ECF6",
            "gridcolor": "white",
            "gridwidth": 2,
            "linecolor": "white",
            "showbackground": true,
            "ticks": "",
            "zerolinecolor": "white"
           },
           "yaxis": {
            "backgroundcolor": "#E5ECF6",
            "gridcolor": "white",
            "gridwidth": 2,
            "linecolor": "white",
            "showbackground": true,
            "ticks": "",
            "zerolinecolor": "white"
           },
           "zaxis": {
            "backgroundcolor": "#E5ECF6",
            "gridcolor": "white",
            "gridwidth": 2,
            "linecolor": "white",
            "showbackground": true,
            "ticks": "",
            "zerolinecolor": "white"
           }
          },
          "shapedefaults": {
           "line": {
            "color": "#2a3f5f"
           }
          },
          "ternary": {
           "aaxis": {
            "gridcolor": "white",
            "linecolor": "white",
            "ticks": ""
           },
           "baxis": {
            "gridcolor": "white",
            "linecolor": "white",
            "ticks": ""
           },
           "bgcolor": "#E5ECF6",
           "caxis": {
            "gridcolor": "white",
            "linecolor": "white",
            "ticks": ""
           }
          },
          "title": {
           "x": 0.05
          },
          "xaxis": {
           "automargin": true,
           "gridcolor": "white",
           "linecolor": "white",
           "ticks": "",
           "title": {
            "standoff": 15
           },
           "zerolinecolor": "white",
           "zerolinewidth": 2
          },
          "yaxis": {
           "automargin": true,
           "gridcolor": "white",
           "linecolor": "white",
           "ticks": "",
           "title": {
            "standoff": 15
           },
           "zerolinecolor": "white",
           "zerolinewidth": 2
          }
         }
        },
        "title": {
         "text": "Cell Count per Well - Plate BR00145440"
        },
        "xaxis": {
         "anchor": "y",
         "domain": [
          0.0,
          1.0
         ],
         "tickangle": -45,
         "title": {
          "text": "Well"
         }
        },
        "yaxis": {
         "anchor": "x",
         "domain": [
          0.0,
          1.0
         ],
         "range": [
          0,
          8224.65
         ],
         "title": {
          "text": "count"
         }
        }
       }
      }
     },
     "metadata": {},
     "output_type": "display_data"
    },
    {
     "data": {
      "application/vnd.plotly.v1+json": {
       "config": {
        "plotlyServerURL": "https://plot.ly"
       },
       "data": [
        {
         "customdata": [
          [
           1000,
           "A-673",
           48
          ],
          [
           1000,
           "A-673",
           48
          ],
          [
           2000,
           "A-673",
           48
          ],
          [
           2000,
           "A-673",
           48
          ],
          [
           4000,
           "A-673",
           48
          ],
          [
           4000,
           "A-673",
           48
          ],
          [
           8000,
           "A-673",
           48
          ],
          [
           8000,
           "A-673",
           48
          ],
          [
           12000,
           "A-673",
           48
          ],
          [
           12000,
           "A-673",
           48
          ],
          [
           1000,
           "SKNDZ",
           48
          ],
          [
           1000,
           "SKNDZ",
           48
          ],
          [
           2000,
           "SKNDZ",
           48
          ],
          [
           2000,
           "SKNDZ",
           48
          ],
          [
           4000,
           "SKNDZ",
           48
          ],
          [
           4000,
           "SKNDZ",
           48
          ],
          [
           8000,
           "SKNDZ",
           48
          ],
          [
           8000,
           "SKNDZ",
           48
          ],
          [
           12000,
           "SKNDZ",
           48
          ],
          [
           12000,
           "SKNDZ",
           48
          ],
          [
           1000,
           "A-673",
           48
          ],
          [
           1000,
           "A-673",
           48
          ],
          [
           2000,
           "A-673",
           48
          ],
          [
           2000,
           "A-673",
           48
          ],
          [
           4000,
           "A-673",
           48
          ],
          [
           4000,
           "A-673",
           48
          ],
          [
           8000,
           "A-673",
           48
          ],
          [
           8000,
           "A-673",
           48
          ],
          [
           12000,
           "A-673",
           48
          ],
          [
           12000,
           "A-673",
           48
          ],
          [
           1000,
           "SKNDZ",
           48
          ],
          [
           1000,
           "SKNDZ",
           48
          ],
          [
           2000,
           "SKNDZ",
           48
          ],
          [
           4000,
           "SKNDZ",
           48
          ],
          [
           4000,
           "SKNDZ",
           48
          ],
          [
           8000,
           "SKNDZ",
           48
          ],
          [
           8000,
           "SKNDZ",
           48
          ],
          [
           12000,
           "SKNDZ",
           48
          ],
          [
           12000,
           "SKNDZ",
           48
          ],
          [
           1000,
           "SKNMC",
           48
          ],
          [
           1000,
           "SKNMC",
           48
          ],
          [
           2000,
           "SKNMC",
           48
          ],
          [
           2000,
           "SKNMC",
           48
          ],
          [
           4000,
           "SKNMC",
           48
          ],
          [
           8000,
           "SKNMC",
           48
          ],
          [
           8000,
           "SKNMC",
           48
          ],
          [
           12000,
           "SKNMC",
           48
          ],
          [
           12000,
           "SKNMC",
           48
          ],
          [
           1000,
           "CHLA-10",
           48
          ],
          [
           1000,
           "CHLA-10",
           48
          ],
          [
           2000,
           "CHLA-10",
           48
          ],
          [
           2000,
           "CHLA-10",
           48
          ],
          [
           4000,
           "CHLA-10",
           48
          ],
          [
           4000,
           "CHLA-10",
           48
          ],
          [
           8000,
           "CHLA-10",
           48
          ],
          [
           8000,
           "CHLA-10",
           48
          ],
          [
           12000,
           "CHLA-10",
           48
          ],
          [
           12000,
           "CHLA-10",
           48
          ],
          [
           1000,
           "SKNMC",
           48
          ],
          [
           1000,
           "SKNMC",
           48
          ],
          [
           2000,
           "SKNMC",
           48
          ],
          [
           4000,
           "SKNMC",
           48
          ],
          [
           8000,
           "SKNMC",
           48
          ],
          [
           8000,
           "SKNMC",
           48
          ],
          [
           12000,
           "SKNMC",
           48
          ],
          [
           12000,
           "SKNMC",
           48
          ],
          [
           1000,
           "CHLA-10",
           48
          ],
          [
           2000,
           "CHLA-10",
           48
          ],
          [
           2000,
           "CHLA-10",
           48
          ],
          [
           4000,
           "CHLA-10",
           48
          ],
          [
           4000,
           "CHLA-10",
           48
          ],
          [
           8000,
           "CHLA-10",
           48
          ],
          [
           8000,
           "CHLA-10",
           48
          ],
          [
           12000,
           "CHLA-10",
           48
          ],
          [
           12000,
           "CHLA-10",
           48
          ],
          [
           1000,
           "CHP-212",
           48
          ],
          [
           1000,
           "CHP-212",
           48
          ],
          [
           2000,
           "CHP-212",
           48
          ],
          [
           2000,
           "CHP-212",
           48
          ],
          [
           4000,
           "CHP-212",
           48
          ],
          [
           4000,
           "CHP-212",
           48
          ],
          [
           8000,
           "CHP-212",
           48
          ],
          [
           8000,
           "CHP-212",
           48
          ],
          [
           12000,
           "CHP-212",
           48
          ],
          [
           1000,
           "CHLA-25",
           48
          ],
          [
           1000,
           "CHLA-25",
           48
          ],
          [
           2000,
           "CHLA-25",
           48
          ],
          [
           2000,
           "CHLA-25",
           48
          ],
          [
           4000,
           "CHLA-25",
           48
          ],
          [
           4000,
           "CHLA-25",
           48
          ],
          [
           8000,
           "CHLA-25",
           48
          ],
          [
           8000,
           "CHLA-25",
           48
          ],
          [
           12000,
           "CHLA-25",
           48
          ],
          [
           12000,
           "CHLA-25",
           48
          ],
          [
           1000,
           "CHP-212",
           48
          ],
          [
           1000,
           "CHP-212",
           48
          ],
          [
           2000,
           "CHP-212",
           48
          ],
          [
           2000,
           "CHP-212",
           48
          ],
          [
           4000,
           "CHP-212",
           48
          ],
          [
           4000,
           "CHP-212",
           48
          ],
          [
           8000,
           "CHP-212",
           48
          ],
          [
           12000,
           "CHP-212",
           48
          ],
          [
           12000,
           "CHP-212",
           48
          ],
          [
           1000,
           "CHLA-25",
           48
          ],
          [
           1000,
           "CHLA-25",
           48
          ],
          [
           2000,
           "CHLA-25",
           48
          ],
          [
           2000,
           "CHLA-25",
           48
          ],
          [
           4000,
           "CHLA-25",
           48
          ],
          [
           4000,
           "CHLA-25",
           48
          ],
          [
           8000,
           "CHLA-25",
           48
          ],
          [
           8000,
           "CHLA-25",
           48
          ],
          [
           12000,
           "CHLA-25",
           48
          ],
          [
           12000,
           "CHLA-25",
           48
          ],
          [
           1000,
           "NB-1",
           48
          ],
          [
           1000,
           "NB-1",
           48
          ],
          [
           2000,
           "NB-1",
           48
          ],
          [
           2000,
           "NB-1",
           48
          ],
          [
           4000,
           "NB-1",
           48
          ],
          [
           12000,
           "NB-1",
           48
          ],
          [
           1000,
           "CHLA-113",
           48
          ],
          [
           1000,
           "CHLA-113",
           48
          ],
          [
           2000,
           "CHLA-113",
           48
          ],
          [
           2000,
           "CHLA-113",
           48
          ],
          [
           4000,
           "CHLA-113",
           48
          ],
          [
           8000,
           "CHLA-113",
           48
          ],
          [
           8000,
           "CHLA-113",
           48
          ],
          [
           12000,
           "CHLA-113",
           48
          ],
          [
           12000,
           "CHLA-113",
           48
          ],
          [
           1000,
           "NB-1",
           48
          ],
          [
           1000,
           "NB-1",
           48
          ],
          [
           2000,
           "NB-1",
           48
          ],
          [
           2000,
           "NB-1",
           48
          ],
          [
           1000,
           "CHLA-113",
           48
          ],
          [
           1000,
           "CHLA-113",
           48
          ],
          [
           2000,
           "CHLA-113",
           48
          ],
          [
           2000,
           "CHLA-113",
           48
          ],
          [
           4000,
           "CHLA-113",
           48
          ],
          [
           4000,
           "CHLA-113",
           48
          ],
          [
           8000,
           "CHLA-113",
           48
          ],
          [
           8000,
           "CHLA-113",
           48
          ],
          [
           12000,
           "CHLA-113",
           48
          ],
          [
           12000,
           "CHLA-113",
           48
          ],
          [
           1000,
           "KPNYN",
           48
          ],
          [
           1000,
           "KPNYN",
           48
          ],
          [
           2000,
           "KPNYN",
           48
          ],
          [
           2000,
           "KPNYN",
           48
          ],
          [
           4000,
           "KPNYN",
           48
          ],
          [
           4000,
           "KPNYN",
           48
          ],
          [
           8000,
           "KPNYN",
           48
          ],
          [
           1000,
           "CHLA-200",
           48
          ],
          [
           1000,
           "CHLA-200",
           48
          ],
          [
           2000,
           "CHLA-200",
           48
          ],
          [
           2000,
           "CHLA-200",
           48
          ],
          [
           4000,
           "CHLA-200",
           48
          ],
          [
           4000,
           "CHLA-200",
           48
          ],
          [
           8000,
           "CHLA-200",
           48
          ],
          [
           8000,
           "CHLA-200",
           48
          ],
          [
           12000,
           "CHLA-200",
           48
          ],
          [
           12000,
           "CHLA-200",
           48
          ],
          [
           1000,
           "KPNYN",
           48
          ],
          [
           1000,
           "KPNYN",
           48
          ],
          [
           2000,
           "KPNYN",
           48
          ],
          [
           2000,
           "KPNYN",
           48
          ],
          [
           4000,
           "KPNYN",
           48
          ],
          [
           4000,
           "KPNYN",
           48
          ],
          [
           8000,
           "KPNYN",
           48
          ],
          [
           8000,
           "KPNYN",
           48
          ],
          [
           1000,
           "CHLA-200",
           48
          ],
          [
           1000,
           "CHLA-200",
           48
          ],
          [
           2000,
           "CHLA-200",
           48
          ],
          [
           2000,
           "CHLA-200",
           48
          ],
          [
           4000,
           "CHLA-200",
           48
          ],
          [
           4000,
           "CHLA-200",
           48
          ],
          [
           8000,
           "CHLA-200",
           48
          ],
          [
           8000,
           "CHLA-200",
           48
          ],
          [
           12000,
           "CHLA-200",
           48
          ],
          [
           12000,
           "CHLA-200",
           48
          ],
          [
           1000,
           "SHSY5Y",
           48
          ],
          [
           1000,
           "SHSY5Y",
           48
          ],
          [
           2000,
           "SHSY5Y",
           48
          ],
          [
           2000,
           "SHSY5Y",
           48
          ],
          [
           4000,
           "SHSY5Y",
           48
          ],
          [
           4000,
           "SHSY5Y",
           48
          ],
          [
           8000,
           "SHSY5Y",
           48
          ],
          [
           8000,
           "SHSY5Y",
           48
          ],
          [
           12000,
           "SHSY5Y",
           48
          ],
          [
           12000,
           "SHSY5Y",
           48
          ],
          [
           1000,
           "CHLA-218",
           48
          ],
          [
           1000,
           "CHLA-218",
           48
          ],
          [
           2000,
           "CHLA-218",
           48
          ],
          [
           2000,
           "CHLA-218",
           48
          ],
          [
           4000,
           "CHLA-218",
           48
          ],
          [
           4000,
           "CHLA-218",
           48
          ],
          [
           8000,
           "CHLA-218",
           48
          ],
          [
           8000,
           "CHLA-218",
           48
          ],
          [
           12000,
           "CHLA-218",
           48
          ],
          [
           12000,
           "CHLA-218",
           48
          ],
          [
           1000,
           "SHSY5Y",
           48
          ],
          [
           1000,
           "SHSY5Y",
           48
          ],
          [
           2000,
           "SHSY5Y",
           48
          ],
          [
           2000,
           "SHSY5Y",
           48
          ],
          [
           4000,
           "SHSY5Y",
           48
          ],
          [
           4000,
           "SHSY5Y",
           48
          ],
          [
           8000,
           "SHSY5Y",
           48
          ],
          [
           8000,
           "SHSY5Y",
           48
          ],
          [
           12000,
           "SHSY5Y",
           48
          ],
          [
           12000,
           "SHSY5Y",
           48
          ],
          [
           1000,
           "CHLA-218",
           48
          ],
          [
           1000,
           "CHLA-218",
           48
          ],
          [
           2000,
           "CHLA-218",
           48
          ],
          [
           2000,
           "CHLA-218",
           48
          ],
          [
           4000,
           "CHLA-218",
           48
          ],
          [
           4000,
           "CHLA-218",
           48
          ],
          [
           8000,
           "CHLA-218",
           48
          ],
          [
           8000,
           "CHLA-218",
           48
          ],
          [
           12000,
           "CHLA-218",
           48
          ],
          [
           12000,
           "CHLA-218",
           48
          ],
          [
           1000,
           "U2-OS",
           48
          ],
          [
           1000,
           "U2-OS",
           48
          ],
          [
           2000,
           "U2-OS",
           48
          ],
          [
           2000,
           "U2-OS",
           48
          ],
          [
           4000,
           "U2-OS",
           48
          ],
          [
           4000,
           "U2-OS",
           48
          ],
          [
           8000,
           "U2-OS",
           48
          ],
          [
           8000,
           "U2-OS",
           48
          ],
          [
           12000,
           "U2-OS",
           48
          ],
          [
           12000,
           "U2-OS",
           48
          ],
          [
           1000,
           "U2-OS",
           48
          ],
          [
           1000,
           "U2-OS",
           48
          ],
          [
           2000,
           "U2-OS",
           48
          ],
          [
           2000,
           "U2-OS",
           48
          ],
          [
           4000,
           "U2-OS",
           48
          ],
          [
           4000,
           "U2-OS",
           48
          ],
          [
           8000,
           "U2-OS",
           48
          ],
          [
           8000,
           "U2-OS",
           48
          ],
          [
           12000,
           "U2-OS",
           48
          ],
          [
           12000,
           "U2-OS",
           48
          ],
          [
           1000,
           "U2-OS",
           48
          ],
          [
           1000,
           "U2-OS",
           48
          ],
          [
           2000,
           "U2-OS",
           48
          ],
          [
           2000,
           "U2-OS",
           48
          ],
          [
           4000,
           "U2-OS",
           48
          ],
          [
           4000,
           "U2-OS",
           48
          ],
          [
           8000,
           "U2-OS",
           48
          ],
          [
           8000,
           "U2-OS",
           48
          ],
          [
           12000,
           "U2-OS",
           48
          ],
          [
           12000,
           "U2-OS",
           48
          ],
          [
           1000,
           "U2-OS",
           48
          ],
          [
           1000,
           "U2-OS",
           48
          ],
          [
           2000,
           "U2-OS",
           48
          ],
          [
           2000,
           "U2-OS",
           48
          ],
          [
           4000,
           "U2-OS",
           48
          ],
          [
           4000,
           "U2-OS",
           48
          ],
          [
           8000,
           "U2-OS",
           48
          ],
          [
           8000,
           "U2-OS",
           48
          ],
          [
           12000,
           "U2-OS",
           48
          ],
          [
           12000,
           "U2-OS",
           48
          ]
         ],
         "hovertemplate": "Well=%{x}<br>count=%{y}<br>Seeding Density=%{customdata[0]}<br>Cell Line=%{customdata[1]}<br>Time Point=%{customdata[2]}<extra></extra>",
         "legendgroup": "",
         "marker": {
          "color": "#636efa",
          "pattern": {
           "shape": ""
          }
         },
         "name": "",
         "orientation": "v",
         "showlegend": false,
         "textposition": "auto",
         "type": "bar",
         "x": [
          "C03",
          "C04",
          "C05",
          "C06",
          "C07",
          "C08",
          "C09",
          "C10",
          "C11",
          "C12",
          "C13",
          "C14",
          "C15",
          "C16",
          "C17",
          "C18",
          "C19",
          "C20",
          "C21",
          "C22",
          "D03",
          "D04",
          "D05",
          "D06",
          "D07",
          "D08",
          "D09",
          "D10",
          "D11",
          "D12",
          "D13",
          "D14",
          "D15",
          "D17",
          "D18",
          "D19",
          "D20",
          "D21",
          "D22",
          "E03",
          "E04",
          "E05",
          "E06",
          "E07",
          "E09",
          "E10",
          "E11",
          "E12",
          "E13",
          "E14",
          "E15",
          "E16",
          "E17",
          "E18",
          "E19",
          "E20",
          "E21",
          "E22",
          "F03",
          "F04",
          "F06",
          "F07",
          "F09",
          "F10",
          "F11",
          "F12",
          "F13",
          "F15",
          "F16",
          "F17",
          "F18",
          "F19",
          "F20",
          "F21",
          "F22",
          "G03",
          "G04",
          "G05",
          "G06",
          "G07",
          "G08",
          "G09",
          "G10",
          "G12",
          "G13",
          "G14",
          "G15",
          "G16",
          "G17",
          "G18",
          "G19",
          "G20",
          "G21",
          "G22",
          "H03",
          "H04",
          "H05",
          "H06",
          "H07",
          "H08",
          "H10",
          "H11",
          "H12",
          "H13",
          "H14",
          "H15",
          "H16",
          "H17",
          "H18",
          "H19",
          "H20",
          "H21",
          "H22",
          "I03",
          "I04",
          "I05",
          "I06",
          "I07",
          "I12",
          "I13",
          "I14",
          "I15",
          "I16",
          "I18",
          "I19",
          "I20",
          "I21",
          "I22",
          "J03",
          "J04",
          "J05",
          "J06",
          "J13",
          "J14",
          "J15",
          "J16",
          "J17",
          "J18",
          "J19",
          "J20",
          "J21",
          "J22",
          "K03",
          "K04",
          "K05",
          "K06",
          "K07",
          "K08",
          "K09",
          "K13",
          "K14",
          "K15",
          "K16",
          "K17",
          "K18",
          "K19",
          "K20",
          "K21",
          "K22",
          "L03",
          "L04",
          "L05",
          "L06",
          "L07",
          "L08",
          "L09",
          "L10",
          "L13",
          "L14",
          "L15",
          "L16",
          "L17",
          "L18",
          "L19",
          "L20",
          "L21",
          "L22",
          "M03",
          "M04",
          "M05",
          "M06",
          "M07",
          "M08",
          "M09",
          "M10",
          "M11",
          "M12",
          "M13",
          "M14",
          "M15",
          "M16",
          "M17",
          "M18",
          "M19",
          "M20",
          "M21",
          "M22",
          "N03",
          "N04",
          "N05",
          "N06",
          "N07",
          "N08",
          "N09",
          "N10",
          "N11",
          "N12",
          "N13",
          "N14",
          "N15",
          "N16",
          "N17",
          "N18",
          "N19",
          "N20",
          "N21",
          "N22",
          "O03",
          "O04",
          "O05",
          "O06",
          "O07",
          "O08",
          "O09",
          "O10",
          "O11",
          "O12",
          "O13",
          "O14",
          "O15",
          "O16",
          "O17",
          "O18",
          "O19",
          "O20",
          "O21",
          "O22",
          "P03",
          "P04",
          "P05",
          "P06",
          "P07",
          "P08",
          "P09",
          "P10",
          "P11",
          "P12",
          "P13",
          "P14",
          "P15",
          "P16",
          "P17",
          "P18",
          "P19",
          "P20",
          "P21",
          "P22"
         ],
         "xaxis": "x",
         "y": {
          "bdata": "XgGqAXgCSQMlBZUFUg9eEG8YoRpSAFIA1QA7AE4AOAA6AMwA3QBJAAgBsQEuAhUDXgXpBYAROhENGiMaPwA2ACwAkwBTALUAeQBcADkBIQAlACwADgCXAPYBkQA6A9cDTQAQAGkAMABvAGUAXQD8APQD9gYPACIAHAB6AGUAPgGHAwUEYgCpAFMAoAA9AI4DqgAnAoUH4AAiAZEB5ACsBIABWQF8AdoLBAAEAB8ACAALABMAEAAPAAUAFQDCAMgA/QBhArwAgwFSAm4PJxEFAA8ABwAKAAMACQAjAAsAGwAPANsAQwEaAt8CmACGAREAEwA6AAMAEAArAEAACAA6AD8BXAHEAcoCHQAVABYAGwARAAkAJAAiAAwALgDDALsAawEnAeYB8AG/AEABOwEIAgYCuQPsA5UHwQbWCOUHlACjADIBSAE9Ae0B0gCWAXoBlgGzAfgB5wPhA3sHqgcRCR4IcADFAKEBKwEzBNACWAa6BroJJwgGAAwAIAAWABcAGwAqAEgAJwAUAI0AVwD5AewBJwM+A4cGsQQDB+kJDgAFABMAGAAOABwANQBCABIADgAyAr8CTARyBbUNdw3PB8cN7wIuDb4CsALtBEkFjAwEDUASTw6ODV8FlAKQAhUF2gUpDVQOEwiBCEYHjQWeA/cC9QXxBCcNnwz2BC0HsgoKFA==",
          "dtype": "i2"
         },
         "yaxis": "y"
        }
       ],
       "layout": {
        "barmode": "relative",
        "font": {
         "color": "black",
         "size": 18
        },
        "legend": {
         "tracegroupgap": 0
        },
        "template": {
         "data": {
          "bar": [
           {
            "error_x": {
             "color": "#2a3f5f"
            },
            "error_y": {
             "color": "#2a3f5f"
            },
            "marker": {
             "line": {
              "color": "#E5ECF6",
              "width": 0.5
             },
             "pattern": {
              "fillmode": "overlay",
              "size": 10,
              "solidity": 0.2
             }
            },
            "type": "bar"
           }
          ],
          "barpolar": [
           {
            "marker": {
             "line": {
              "color": "#E5ECF6",
              "width": 0.5
             },
             "pattern": {
              "fillmode": "overlay",
              "size": 10,
              "solidity": 0.2
             }
            },
            "type": "barpolar"
           }
          ],
          "carpet": [
           {
            "aaxis": {
             "endlinecolor": "#2a3f5f",
             "gridcolor": "white",
             "linecolor": "white",
             "minorgridcolor": "white",
             "startlinecolor": "#2a3f5f"
            },
            "baxis": {
             "endlinecolor": "#2a3f5f",
             "gridcolor": "white",
             "linecolor": "white",
             "minorgridcolor": "white",
             "startlinecolor": "#2a3f5f"
            },
            "type": "carpet"
           }
          ],
          "choropleth": [
           {
            "colorbar": {
             "outlinewidth": 0,
             "ticks": ""
            },
            "type": "choropleth"
           }
          ],
          "contour": [
           {
            "colorbar": {
             "outlinewidth": 0,
             "ticks": ""
            },
            "colorscale": [
             [
              0.0,
              "#0d0887"
             ],
             [
              0.1111111111111111,
              "#46039f"
             ],
             [
              0.2222222222222222,
              "#7201a8"
             ],
             [
              0.3333333333333333,
              "#9c179e"
             ],
             [
              0.4444444444444444,
              "#bd3786"
             ],
             [
              0.5555555555555556,
              "#d8576b"
             ],
             [
              0.6666666666666666,
              "#ed7953"
             ],
             [
              0.7777777777777778,
              "#fb9f3a"
             ],
             [
              0.8888888888888888,
              "#fdca26"
             ],
             [
              1.0,
              "#f0f921"
             ]
            ],
            "type": "contour"
           }
          ],
          "contourcarpet": [
           {
            "colorbar": {
             "outlinewidth": 0,
             "ticks": ""
            },
            "type": "contourcarpet"
           }
          ],
          "heatmap": [
           {
            "colorbar": {
             "outlinewidth": 0,
             "ticks": ""
            },
            "colorscale": [
             [
              0.0,
              "#0d0887"
             ],
             [
              0.1111111111111111,
              "#46039f"
             ],
             [
              0.2222222222222222,
              "#7201a8"
             ],
             [
              0.3333333333333333,
              "#9c179e"
             ],
             [
              0.4444444444444444,
              "#bd3786"
             ],
             [
              0.5555555555555556,
              "#d8576b"
             ],
             [
              0.6666666666666666,
              "#ed7953"
             ],
             [
              0.7777777777777778,
              "#fb9f3a"
             ],
             [
              0.8888888888888888,
              "#fdca26"
             ],
             [
              1.0,
              "#f0f921"
             ]
            ],
            "type": "heatmap"
           }
          ],
          "histogram": [
           {
            "marker": {
             "pattern": {
              "fillmode": "overlay",
              "size": 10,
              "solidity": 0.2
             }
            },
            "type": "histogram"
           }
          ],
          "histogram2d": [
           {
            "colorbar": {
             "outlinewidth": 0,
             "ticks": ""
            },
            "colorscale": [
             [
              0.0,
              "#0d0887"
             ],
             [
              0.1111111111111111,
              "#46039f"
             ],
             [
              0.2222222222222222,
              "#7201a8"
             ],
             [
              0.3333333333333333,
              "#9c179e"
             ],
             [
              0.4444444444444444,
              "#bd3786"
             ],
             [
              0.5555555555555556,
              "#d8576b"
             ],
             [
              0.6666666666666666,
              "#ed7953"
             ],
             [
              0.7777777777777778,
              "#fb9f3a"
             ],
             [
              0.8888888888888888,
              "#fdca26"
             ],
             [
              1.0,
              "#f0f921"
             ]
            ],
            "type": "histogram2d"
           }
          ],
          "histogram2dcontour": [
           {
            "colorbar": {
             "outlinewidth": 0,
             "ticks": ""
            },
            "colorscale": [
             [
              0.0,
              "#0d0887"
             ],
             [
              0.1111111111111111,
              "#46039f"
             ],
             [
              0.2222222222222222,
              "#7201a8"
             ],
             [
              0.3333333333333333,
              "#9c179e"
             ],
             [
              0.4444444444444444,
              "#bd3786"
             ],
             [
              0.5555555555555556,
              "#d8576b"
             ],
             [
              0.6666666666666666,
              "#ed7953"
             ],
             [
              0.7777777777777778,
              "#fb9f3a"
             ],
             [
              0.8888888888888888,
              "#fdca26"
             ],
             [
              1.0,
              "#f0f921"
             ]
            ],
            "type": "histogram2dcontour"
           }
          ],
          "mesh3d": [
           {
            "colorbar": {
             "outlinewidth": 0,
             "ticks": ""
            },
            "type": "mesh3d"
           }
          ],
          "parcoords": [
           {
            "line": {
             "colorbar": {
              "outlinewidth": 0,
              "ticks": ""
             }
            },
            "type": "parcoords"
           }
          ],
          "pie": [
           {
            "automargin": true,
            "type": "pie"
           }
          ],
          "scatter": [
           {
            "fillpattern": {
             "fillmode": "overlay",
             "size": 10,
             "solidity": 0.2
            },
            "type": "scatter"
           }
          ],
          "scatter3d": [
           {
            "line": {
             "colorbar": {
              "outlinewidth": 0,
              "ticks": ""
             }
            },
            "marker": {
             "colorbar": {
              "outlinewidth": 0,
              "ticks": ""
             }
            },
            "type": "scatter3d"
           }
          ],
          "scattercarpet": [
           {
            "marker": {
             "colorbar": {
              "outlinewidth": 0,
              "ticks": ""
             }
            },
            "type": "scattercarpet"
           }
          ],
          "scattergeo": [
           {
            "marker": {
             "colorbar": {
              "outlinewidth": 0,
              "ticks": ""
             }
            },
            "type": "scattergeo"
           }
          ],
          "scattergl": [
           {
            "marker": {
             "colorbar": {
              "outlinewidth": 0,
              "ticks": ""
             }
            },
            "type": "scattergl"
           }
          ],
          "scattermap": [
           {
            "marker": {
             "colorbar": {
              "outlinewidth": 0,
              "ticks": ""
             }
            },
            "type": "scattermap"
           }
          ],
          "scattermapbox": [
           {
            "marker": {
             "colorbar": {
              "outlinewidth": 0,
              "ticks": ""
             }
            },
            "type": "scattermapbox"
           }
          ],
          "scatterpolar": [
           {
            "marker": {
             "colorbar": {
              "outlinewidth": 0,
              "ticks": ""
             }
            },
            "type": "scatterpolar"
           }
          ],
          "scatterpolargl": [
           {
            "marker": {
             "colorbar": {
              "outlinewidth": 0,
              "ticks": ""
             }
            },
            "type": "scatterpolargl"
           }
          ],
          "scatterternary": [
           {
            "marker": {
             "colorbar": {
              "outlinewidth": 0,
              "ticks": ""
             }
            },
            "type": "scatterternary"
           }
          ],
          "surface": [
           {
            "colorbar": {
             "outlinewidth": 0,
             "ticks": ""
            },
            "colorscale": [
             [
              0.0,
              "#0d0887"
             ],
             [
              0.1111111111111111,
              "#46039f"
             ],
             [
              0.2222222222222222,
              "#7201a8"
             ],
             [
              0.3333333333333333,
              "#9c179e"
             ],
             [
              0.4444444444444444,
              "#bd3786"
             ],
             [
              0.5555555555555556,
              "#d8576b"
             ],
             [
              0.6666666666666666,
              "#ed7953"
             ],
             [
              0.7777777777777778,
              "#fb9f3a"
             ],
             [
              0.8888888888888888,
              "#fdca26"
             ],
             [
              1.0,
              "#f0f921"
             ]
            ],
            "type": "surface"
           }
          ],
          "table": [
           {
            "cells": {
             "fill": {
              "color": "#EBF0F8"
             },
             "line": {
              "color": "white"
             }
            },
            "header": {
             "fill": {
              "color": "#C8D4E3"
             },
             "line": {
              "color": "white"
             }
            },
            "type": "table"
           }
          ]
         },
         "layout": {
          "annotationdefaults": {
           "arrowcolor": "#2a3f5f",
           "arrowhead": 0,
           "arrowwidth": 1
          },
          "autotypenumbers": "strict",
          "coloraxis": {
           "colorbar": {
            "outlinewidth": 0,
            "ticks": ""
           }
          },
          "colorscale": {
           "diverging": [
            [
             0,
             "#8e0152"
            ],
            [
             0.1,
             "#c51b7d"
            ],
            [
             0.2,
             "#de77ae"
            ],
            [
             0.3,
             "#f1b6da"
            ],
            [
             0.4,
             "#fde0ef"
            ],
            [
             0.5,
             "#f7f7f7"
            ],
            [
             0.6,
             "#e6f5d0"
            ],
            [
             0.7,
             "#b8e186"
            ],
            [
             0.8,
             "#7fbc41"
            ],
            [
             0.9,
             "#4d9221"
            ],
            [
             1,
             "#276419"
            ]
           ],
           "sequential": [
            [
             0.0,
             "#0d0887"
            ],
            [
             0.1111111111111111,
             "#46039f"
            ],
            [
             0.2222222222222222,
             "#7201a8"
            ],
            [
             0.3333333333333333,
             "#9c179e"
            ],
            [
             0.4444444444444444,
             "#bd3786"
            ],
            [
             0.5555555555555556,
             "#d8576b"
            ],
            [
             0.6666666666666666,
             "#ed7953"
            ],
            [
             0.7777777777777778,
             "#fb9f3a"
            ],
            [
             0.8888888888888888,
             "#fdca26"
            ],
            [
             1.0,
             "#f0f921"
            ]
           ],
           "sequentialminus": [
            [
             0.0,
             "#0d0887"
            ],
            [
             0.1111111111111111,
             "#46039f"
            ],
            [
             0.2222222222222222,
             "#7201a8"
            ],
            [
             0.3333333333333333,
             "#9c179e"
            ],
            [
             0.4444444444444444,
             "#bd3786"
            ],
            [
             0.5555555555555556,
             "#d8576b"
            ],
            [
             0.6666666666666666,
             "#ed7953"
            ],
            [
             0.7777777777777778,
             "#fb9f3a"
            ],
            [
             0.8888888888888888,
             "#fdca26"
            ],
            [
             1.0,
             "#f0f921"
            ]
           ]
          },
          "colorway": [
           "#636efa",
           "#EF553B",
           "#00cc96",
           "#ab63fa",
           "#FFA15A",
           "#19d3f3",
           "#FF6692",
           "#B6E880",
           "#FF97FF",
           "#FECB52"
          ],
          "font": {
           "color": "#2a3f5f"
          },
          "geo": {
           "bgcolor": "white",
           "lakecolor": "white",
           "landcolor": "#E5ECF6",
           "showlakes": true,
           "showland": true,
           "subunitcolor": "white"
          },
          "hoverlabel": {
           "align": "left"
          },
          "hovermode": "closest",
          "mapbox": {
           "style": "light"
          },
          "paper_bgcolor": "white",
          "plot_bgcolor": "#E5ECF6",
          "polar": {
           "angularaxis": {
            "gridcolor": "white",
            "linecolor": "white",
            "ticks": ""
           },
           "bgcolor": "#E5ECF6",
           "radialaxis": {
            "gridcolor": "white",
            "linecolor": "white",
            "ticks": ""
           }
          },
          "scene": {
           "xaxis": {
            "backgroundcolor": "#E5ECF6",
            "gridcolor": "white",
            "gridwidth": 2,
            "linecolor": "white",
            "showbackground": true,
            "ticks": "",
            "zerolinecolor": "white"
           },
           "yaxis": {
            "backgroundcolor": "#E5ECF6",
            "gridcolor": "white",
            "gridwidth": 2,
            "linecolor": "white",
            "showbackground": true,
            "ticks": "",
            "zerolinecolor": "white"
           },
           "zaxis": {
            "backgroundcolor": "#E5ECF6",
            "gridcolor": "white",
            "gridwidth": 2,
            "linecolor": "white",
            "showbackground": true,
            "ticks": "",
            "zerolinecolor": "white"
           }
          },
          "shapedefaults": {
           "line": {
            "color": "#2a3f5f"
           }
          },
          "ternary": {
           "aaxis": {
            "gridcolor": "white",
            "linecolor": "white",
            "ticks": ""
           },
           "baxis": {
            "gridcolor": "white",
            "linecolor": "white",
            "ticks": ""
           },
           "bgcolor": "#E5ECF6",
           "caxis": {
            "gridcolor": "white",
            "linecolor": "white",
            "ticks": ""
           }
          },
          "title": {
           "x": 0.05
          },
          "xaxis": {
           "automargin": true,
           "gridcolor": "white",
           "linecolor": "white",
           "ticks": "",
           "title": {
            "standoff": 15
           },
           "zerolinecolor": "white",
           "zerolinewidth": 2
          },
          "yaxis": {
           "automargin": true,
           "gridcolor": "white",
           "linecolor": "white",
           "ticks": "",
           "title": {
            "standoff": 15
           },
           "zerolinecolor": "white",
           "zerolinewidth": 2
          }
         }
        },
        "title": {
         "text": "Cell Count per Well - Plate BR00145439"
        },
        "xaxis": {
         "anchor": "y",
         "domain": [
          0.0,
          1.0
         ],
         "tickangle": -45,
         "title": {
          "text": "Well"
         }
        },
        "yaxis": {
         "anchor": "x",
         "domain": [
          0.0,
          1.0
         ],
         "range": [
          0,
          8224.65
         ],
         "title": {
          "text": "count"
         }
        }
       }
      }
     },
     "metadata": {},
     "output_type": "display_data"
    },
    {
     "data": {
      "application/vnd.plotly.v1+json": {
       "config": {
        "plotlyServerURL": "https://plot.ly"
       },
       "data": [
        {
         "customdata": [
          [
           1000,
           "CHLA-10",
           72
          ],
          [
           1000,
           "CHLA-10",
           72
          ],
          [
           2000,
           "CHLA-10",
           72
          ],
          [
           2000,
           "CHLA-10",
           72
          ],
          [
           4000,
           "CHLA-10",
           72
          ],
          [
           4000,
           "CHLA-10",
           72
          ],
          [
           8000,
           "CHLA-10",
           72
          ],
          [
           8000,
           "CHLA-10",
           72
          ],
          [
           12000,
           "CHLA-10",
           72
          ],
          [
           12000,
           "CHLA-10",
           72
          ],
          [
           1000,
           "CHLA-10",
           72
          ],
          [
           1000,
           "CHLA-10",
           72
          ],
          [
           2000,
           "CHLA-10",
           72
          ],
          [
           2000,
           "CHLA-10",
           72
          ],
          [
           4000,
           "CHLA-10",
           72
          ],
          [
           4000,
           "CHLA-10",
           72
          ],
          [
           8000,
           "CHLA-10",
           72
          ],
          [
           8000,
           "CHLA-10",
           72
          ],
          [
           12000,
           "CHLA-10",
           72
          ],
          [
           12000,
           "CHLA-10",
           72
          ],
          [
           1000,
           "CHLA-25",
           72
          ],
          [
           1000,
           "CHLA-25",
           72
          ],
          [
           2000,
           "CHLA-25",
           72
          ],
          [
           2000,
           "CHLA-25",
           72
          ],
          [
           4000,
           "CHLA-25",
           72
          ],
          [
           4000,
           "CHLA-25",
           72
          ],
          [
           8000,
           "CHLA-25",
           72
          ],
          [
           8000,
           "CHLA-25",
           72
          ],
          [
           1000,
           "CHLA-25",
           72
          ],
          [
           1000,
           "CHLA-25",
           72
          ],
          [
           2000,
           "CHLA-25",
           72
          ],
          [
           2000,
           "CHLA-25",
           72
          ],
          [
           4000,
           "CHLA-25",
           72
          ],
          [
           4000,
           "CHLA-25",
           72
          ],
          [
           8000,
           "CHLA-25",
           72
          ],
          [
           8000,
           "CHLA-25",
           72
          ],
          [
           12000,
           "CHLA-25",
           72
          ],
          [
           12000,
           "CHLA-25",
           72
          ],
          [
           1000,
           "CHLA-113",
           72
          ],
          [
           1000,
           "CHLA-113",
           72
          ],
          [
           2000,
           "CHLA-113",
           72
          ],
          [
           2000,
           "CHLA-113",
           72
          ],
          [
           4000,
           "CHLA-113",
           72
          ],
          [
           4000,
           "CHLA-113",
           72
          ],
          [
           8000,
           "CHLA-113",
           72
          ],
          [
           8000,
           "CHLA-113",
           72
          ],
          [
           12000,
           "CHLA-113",
           72
          ],
          [
           12000,
           "CHLA-113",
           72
          ],
          [
           1000,
           "CHLA-113",
           72
          ],
          [
           1000,
           "CHLA-113",
           72
          ],
          [
           2000,
           "CHLA-113",
           72
          ],
          [
           2000,
           "CHLA-113",
           72
          ],
          [
           4000,
           "CHLA-113",
           72
          ],
          [
           4000,
           "CHLA-113",
           72
          ],
          [
           8000,
           "CHLA-113",
           72
          ],
          [
           8000,
           "CHLA-113",
           72
          ],
          [
           12000,
           "CHLA-113",
           72
          ],
          [
           12000,
           "CHLA-113",
           72
          ],
          [
           1000,
           "CHLA-218",
           72
          ],
          [
           1000,
           "CHLA-218",
           72
          ],
          [
           2000,
           "CHLA-218",
           72
          ],
          [
           2000,
           "CHLA-218",
           72
          ],
          [
           4000,
           "CHLA-218",
           72
          ],
          [
           4000,
           "CHLA-218",
           72
          ],
          [
           8000,
           "CHLA-218",
           72
          ],
          [
           8000,
           "CHLA-218",
           72
          ],
          [
           12000,
           "CHLA-218",
           72
          ],
          [
           12000,
           "CHLA-218",
           72
          ],
          [
           1000,
           "CHLA-218",
           72
          ],
          [
           1000,
           "CHLA-218",
           72
          ],
          [
           2000,
           "CHLA-218",
           72
          ],
          [
           2000,
           "CHLA-218",
           72
          ],
          [
           4000,
           "CHLA-218",
           72
          ],
          [
           4000,
           "CHLA-218",
           72
          ],
          [
           8000,
           "CHLA-218",
           72
          ],
          [
           8000,
           "CHLA-218",
           72
          ],
          [
           12000,
           "CHLA-218",
           72
          ],
          [
           12000,
           "CHLA-218",
           72
          ],
          [
           1000,
           "U2-OS",
           72
          ],
          [
           1000,
           "U2-OS",
           72
          ],
          [
           2000,
           "U2-OS",
           72
          ],
          [
           2000,
           "U2-OS",
           72
          ],
          [
           4000,
           "U2-OS",
           72
          ],
          [
           4000,
           "U2-OS",
           72
          ],
          [
           8000,
           "U2-OS",
           72
          ],
          [
           8000,
           "U2-OS",
           72
          ],
          [
           12000,
           "U2-OS",
           72
          ],
          [
           12000,
           "U2-OS",
           72
          ],
          [
           1000,
           "U2-OS",
           72
          ],
          [
           1000,
           "U2-OS",
           72
          ],
          [
           2000,
           "U2-OS",
           72
          ],
          [
           2000,
           "U2-OS",
           72
          ],
          [
           4000,
           "U2-OS",
           72
          ],
          [
           4000,
           "U2-OS",
           72
          ],
          [
           8000,
           "U2-OS",
           72
          ],
          [
           8000,
           "U2-OS",
           72
          ],
          [
           12000,
           "U2-OS",
           72
          ],
          [
           12000,
           "U2-OS",
           72
          ]
         ],
         "hovertemplate": "Well=%{x}<br>count=%{y}<br>Seeding Density=%{customdata[0]}<br>Cell Line=%{customdata[1]}<br>Time Point=%{customdata[2]}<extra></extra>",
         "legendgroup": "",
         "marker": {
          "color": "#636efa",
          "pattern": {
           "shape": ""
          }
         },
         "name": "",
         "orientation": "v",
         "showlegend": false,
         "textposition": "auto",
         "type": "bar",
         "x": [
          "B03",
          "B04",
          "B05",
          "B06",
          "B07",
          "B08",
          "B09",
          "B10",
          "B11",
          "B12",
          "C03",
          "C04",
          "C05",
          "C06",
          "C07",
          "C08",
          "C09",
          "C10",
          "C11",
          "C12",
          "D03",
          "D04",
          "D05",
          "D06",
          "D07",
          "D08",
          "D09",
          "D10",
          "E03",
          "E04",
          "E05",
          "E06",
          "E07",
          "E08",
          "E09",
          "E10",
          "E11",
          "E12",
          "F03",
          "F04",
          "F05",
          "F06",
          "F07",
          "F08",
          "F09",
          "F10",
          "F11",
          "F12",
          "G03",
          "G04",
          "G05",
          "G06",
          "G07",
          "G08",
          "G09",
          "G10",
          "G11",
          "G12",
          "H03",
          "H04",
          "H05",
          "H06",
          "H07",
          "H08",
          "H09",
          "H10",
          "H11",
          "H12",
          "I03",
          "I04",
          "I05",
          "I06",
          "I07",
          "I08",
          "I09",
          "I10",
          "I11",
          "I12",
          "J03",
          "J04",
          "J05",
          "J06",
          "J07",
          "J08",
          "J09",
          "J10",
          "J11",
          "J12",
          "K03",
          "K04",
          "K05",
          "K06",
          "K07",
          "K08",
          "K09",
          "K10",
          "K11",
          "K12"
         ],
         "xaxis": "x",
         "y": {
          "bdata": "yALTAa8ETATKChIKxxOOElQW3xQXAjcCDARgBZUIkwpHEW4R2hbcFaoAkAAnAe8AZAGtAX4BAgKLALEA5AAgAYgB7gEgAYADhwA6AGoATACbAF8AqwDZAMQAxwAtAfwAjQCCAKEAlwDAALQA5gAdAU4B1ACsAKIAKwEnAZEBQAGSAtsCkAKQAksAQgAZAFUAigCNABAD4wIOAxEDcAVOBGMKVQg+FLgNQRbvFFoXmRd/BfgE0QnhCoETvxIjFbYUmxZ0Fw==",
          "dtype": "i2"
         },
         "yaxis": "y"
        }
       ],
       "layout": {
        "barmode": "relative",
        "font": {
         "color": "black",
         "size": 18
        },
        "legend": {
         "tracegroupgap": 0
        },
        "template": {
         "data": {
          "bar": [
           {
            "error_x": {
             "color": "#2a3f5f"
            },
            "error_y": {
             "color": "#2a3f5f"
            },
            "marker": {
             "line": {
              "color": "#E5ECF6",
              "width": 0.5
             },
             "pattern": {
              "fillmode": "overlay",
              "size": 10,
              "solidity": 0.2
             }
            },
            "type": "bar"
           }
          ],
          "barpolar": [
           {
            "marker": {
             "line": {
              "color": "#E5ECF6",
              "width": 0.5
             },
             "pattern": {
              "fillmode": "overlay",
              "size": 10,
              "solidity": 0.2
             }
            },
            "type": "barpolar"
           }
          ],
          "carpet": [
           {
            "aaxis": {
             "endlinecolor": "#2a3f5f",
             "gridcolor": "white",
             "linecolor": "white",
             "minorgridcolor": "white",
             "startlinecolor": "#2a3f5f"
            },
            "baxis": {
             "endlinecolor": "#2a3f5f",
             "gridcolor": "white",
             "linecolor": "white",
             "minorgridcolor": "white",
             "startlinecolor": "#2a3f5f"
            },
            "type": "carpet"
           }
          ],
          "choropleth": [
           {
            "colorbar": {
             "outlinewidth": 0,
             "ticks": ""
            },
            "type": "choropleth"
           }
          ],
          "contour": [
           {
            "colorbar": {
             "outlinewidth": 0,
             "ticks": ""
            },
            "colorscale": [
             [
              0.0,
              "#0d0887"
             ],
             [
              0.1111111111111111,
              "#46039f"
             ],
             [
              0.2222222222222222,
              "#7201a8"
             ],
             [
              0.3333333333333333,
              "#9c179e"
             ],
             [
              0.4444444444444444,
              "#bd3786"
             ],
             [
              0.5555555555555556,
              "#d8576b"
             ],
             [
              0.6666666666666666,
              "#ed7953"
             ],
             [
              0.7777777777777778,
              "#fb9f3a"
             ],
             [
              0.8888888888888888,
              "#fdca26"
             ],
             [
              1.0,
              "#f0f921"
             ]
            ],
            "type": "contour"
           }
          ],
          "contourcarpet": [
           {
            "colorbar": {
             "outlinewidth": 0,
             "ticks": ""
            },
            "type": "contourcarpet"
           }
          ],
          "heatmap": [
           {
            "colorbar": {
             "outlinewidth": 0,
             "ticks": ""
            },
            "colorscale": [
             [
              0.0,
              "#0d0887"
             ],
             [
              0.1111111111111111,
              "#46039f"
             ],
             [
              0.2222222222222222,
              "#7201a8"
             ],
             [
              0.3333333333333333,
              "#9c179e"
             ],
             [
              0.4444444444444444,
              "#bd3786"
             ],
             [
              0.5555555555555556,
              "#d8576b"
             ],
             [
              0.6666666666666666,
              "#ed7953"
             ],
             [
              0.7777777777777778,
              "#fb9f3a"
             ],
             [
              0.8888888888888888,
              "#fdca26"
             ],
             [
              1.0,
              "#f0f921"
             ]
            ],
            "type": "heatmap"
           }
          ],
          "histogram": [
           {
            "marker": {
             "pattern": {
              "fillmode": "overlay",
              "size": 10,
              "solidity": 0.2
             }
            },
            "type": "histogram"
           }
          ],
          "histogram2d": [
           {
            "colorbar": {
             "outlinewidth": 0,
             "ticks": ""
            },
            "colorscale": [
             [
              0.0,
              "#0d0887"
             ],
             [
              0.1111111111111111,
              "#46039f"
             ],
             [
              0.2222222222222222,
              "#7201a8"
             ],
             [
              0.3333333333333333,
              "#9c179e"
             ],
             [
              0.4444444444444444,
              "#bd3786"
             ],
             [
              0.5555555555555556,
              "#d8576b"
             ],
             [
              0.6666666666666666,
              "#ed7953"
             ],
             [
              0.7777777777777778,
              "#fb9f3a"
             ],
             [
              0.8888888888888888,
              "#fdca26"
             ],
             [
              1.0,
              "#f0f921"
             ]
            ],
            "type": "histogram2d"
           }
          ],
          "histogram2dcontour": [
           {
            "colorbar": {
             "outlinewidth": 0,
             "ticks": ""
            },
            "colorscale": [
             [
              0.0,
              "#0d0887"
             ],
             [
              0.1111111111111111,
              "#46039f"
             ],
             [
              0.2222222222222222,
              "#7201a8"
             ],
             [
              0.3333333333333333,
              "#9c179e"
             ],
             [
              0.4444444444444444,
              "#bd3786"
             ],
             [
              0.5555555555555556,
              "#d8576b"
             ],
             [
              0.6666666666666666,
              "#ed7953"
             ],
             [
              0.7777777777777778,
              "#fb9f3a"
             ],
             [
              0.8888888888888888,
              "#fdca26"
             ],
             [
              1.0,
              "#f0f921"
             ]
            ],
            "type": "histogram2dcontour"
           }
          ],
          "mesh3d": [
           {
            "colorbar": {
             "outlinewidth": 0,
             "ticks": ""
            },
            "type": "mesh3d"
           }
          ],
          "parcoords": [
           {
            "line": {
             "colorbar": {
              "outlinewidth": 0,
              "ticks": ""
             }
            },
            "type": "parcoords"
           }
          ],
          "pie": [
           {
            "automargin": true,
            "type": "pie"
           }
          ],
          "scatter": [
           {
            "fillpattern": {
             "fillmode": "overlay",
             "size": 10,
             "solidity": 0.2
            },
            "type": "scatter"
           }
          ],
          "scatter3d": [
           {
            "line": {
             "colorbar": {
              "outlinewidth": 0,
              "ticks": ""
             }
            },
            "marker": {
             "colorbar": {
              "outlinewidth": 0,
              "ticks": ""
             }
            },
            "type": "scatter3d"
           }
          ],
          "scattercarpet": [
           {
            "marker": {
             "colorbar": {
              "outlinewidth": 0,
              "ticks": ""
             }
            },
            "type": "scattercarpet"
           }
          ],
          "scattergeo": [
           {
            "marker": {
             "colorbar": {
              "outlinewidth": 0,
              "ticks": ""
             }
            },
            "type": "scattergeo"
           }
          ],
          "scattergl": [
           {
            "marker": {
             "colorbar": {
              "outlinewidth": 0,
              "ticks": ""
             }
            },
            "type": "scattergl"
           }
          ],
          "scattermap": [
           {
            "marker": {
             "colorbar": {
              "outlinewidth": 0,
              "ticks": ""
             }
            },
            "type": "scattermap"
           }
          ],
          "scattermapbox": [
           {
            "marker": {
             "colorbar": {
              "outlinewidth": 0,
              "ticks": ""
             }
            },
            "type": "scattermapbox"
           }
          ],
          "scatterpolar": [
           {
            "marker": {
             "colorbar": {
              "outlinewidth": 0,
              "ticks": ""
             }
            },
            "type": "scatterpolar"
           }
          ],
          "scatterpolargl": [
           {
            "marker": {
             "colorbar": {
              "outlinewidth": 0,
              "ticks": ""
             }
            },
            "type": "scatterpolargl"
           }
          ],
          "scatterternary": [
           {
            "marker": {
             "colorbar": {
              "outlinewidth": 0,
              "ticks": ""
             }
            },
            "type": "scatterternary"
           }
          ],
          "surface": [
           {
            "colorbar": {
             "outlinewidth": 0,
             "ticks": ""
            },
            "colorscale": [
             [
              0.0,
              "#0d0887"
             ],
             [
              0.1111111111111111,
              "#46039f"
             ],
             [
              0.2222222222222222,
              "#7201a8"
             ],
             [
              0.3333333333333333,
              "#9c179e"
             ],
             [
              0.4444444444444444,
              "#bd3786"
             ],
             [
              0.5555555555555556,
              "#d8576b"
             ],
             [
              0.6666666666666666,
              "#ed7953"
             ],
             [
              0.7777777777777778,
              "#fb9f3a"
             ],
             [
              0.8888888888888888,
              "#fdca26"
             ],
             [
              1.0,
              "#f0f921"
             ]
            ],
            "type": "surface"
           }
          ],
          "table": [
           {
            "cells": {
             "fill": {
              "color": "#EBF0F8"
             },
             "line": {
              "color": "white"
             }
            },
            "header": {
             "fill": {
              "color": "#C8D4E3"
             },
             "line": {
              "color": "white"
             }
            },
            "type": "table"
           }
          ]
         },
         "layout": {
          "annotationdefaults": {
           "arrowcolor": "#2a3f5f",
           "arrowhead": 0,
           "arrowwidth": 1
          },
          "autotypenumbers": "strict",
          "coloraxis": {
           "colorbar": {
            "outlinewidth": 0,
            "ticks": ""
           }
          },
          "colorscale": {
           "diverging": [
            [
             0,
             "#8e0152"
            ],
            [
             0.1,
             "#c51b7d"
            ],
            [
             0.2,
             "#de77ae"
            ],
            [
             0.3,
             "#f1b6da"
            ],
            [
             0.4,
             "#fde0ef"
            ],
            [
             0.5,
             "#f7f7f7"
            ],
            [
             0.6,
             "#e6f5d0"
            ],
            [
             0.7,
             "#b8e186"
            ],
            [
             0.8,
             "#7fbc41"
            ],
            [
             0.9,
             "#4d9221"
            ],
            [
             1,
             "#276419"
            ]
           ],
           "sequential": [
            [
             0.0,
             "#0d0887"
            ],
            [
             0.1111111111111111,
             "#46039f"
            ],
            [
             0.2222222222222222,
             "#7201a8"
            ],
            [
             0.3333333333333333,
             "#9c179e"
            ],
            [
             0.4444444444444444,
             "#bd3786"
            ],
            [
             0.5555555555555556,
             "#d8576b"
            ],
            [
             0.6666666666666666,
             "#ed7953"
            ],
            [
             0.7777777777777778,
             "#fb9f3a"
            ],
            [
             0.8888888888888888,
             "#fdca26"
            ],
            [
             1.0,
             "#f0f921"
            ]
           ],
           "sequentialminus": [
            [
             0.0,
             "#0d0887"
            ],
            [
             0.1111111111111111,
             "#46039f"
            ],
            [
             0.2222222222222222,
             "#7201a8"
            ],
            [
             0.3333333333333333,
             "#9c179e"
            ],
            [
             0.4444444444444444,
             "#bd3786"
            ],
            [
             0.5555555555555556,
             "#d8576b"
            ],
            [
             0.6666666666666666,
             "#ed7953"
            ],
            [
             0.7777777777777778,
             "#fb9f3a"
            ],
            [
             0.8888888888888888,
             "#fdca26"
            ],
            [
             1.0,
             "#f0f921"
            ]
           ]
          },
          "colorway": [
           "#636efa",
           "#EF553B",
           "#00cc96",
           "#ab63fa",
           "#FFA15A",
           "#19d3f3",
           "#FF6692",
           "#B6E880",
           "#FF97FF",
           "#FECB52"
          ],
          "font": {
           "color": "#2a3f5f"
          },
          "geo": {
           "bgcolor": "white",
           "lakecolor": "white",
           "landcolor": "#E5ECF6",
           "showlakes": true,
           "showland": true,
           "subunitcolor": "white"
          },
          "hoverlabel": {
           "align": "left"
          },
          "hovermode": "closest",
          "mapbox": {
           "style": "light"
          },
          "paper_bgcolor": "white",
          "plot_bgcolor": "#E5ECF6",
          "polar": {
           "angularaxis": {
            "gridcolor": "white",
            "linecolor": "white",
            "ticks": ""
           },
           "bgcolor": "#E5ECF6",
           "radialaxis": {
            "gridcolor": "white",
            "linecolor": "white",
            "ticks": ""
           }
          },
          "scene": {
           "xaxis": {
            "backgroundcolor": "#E5ECF6",
            "gridcolor": "white",
            "gridwidth": 2,
            "linecolor": "white",
            "showbackground": true,
            "ticks": "",
            "zerolinecolor": "white"
           },
           "yaxis": {
            "backgroundcolor": "#E5ECF6",
            "gridcolor": "white",
            "gridwidth": 2,
            "linecolor": "white",
            "showbackground": true,
            "ticks": "",
            "zerolinecolor": "white"
           },
           "zaxis": {
            "backgroundcolor": "#E5ECF6",
            "gridcolor": "white",
            "gridwidth": 2,
            "linecolor": "white",
            "showbackground": true,
            "ticks": "",
            "zerolinecolor": "white"
           }
          },
          "shapedefaults": {
           "line": {
            "color": "#2a3f5f"
           }
          },
          "ternary": {
           "aaxis": {
            "gridcolor": "white",
            "linecolor": "white",
            "ticks": ""
           },
           "baxis": {
            "gridcolor": "white",
            "linecolor": "white",
            "ticks": ""
           },
           "bgcolor": "#E5ECF6",
           "caxis": {
            "gridcolor": "white",
            "linecolor": "white",
            "ticks": ""
           }
          },
          "title": {
           "x": 0.05
          },
          "xaxis": {
           "automargin": true,
           "gridcolor": "white",
           "linecolor": "white",
           "ticks": "",
           "title": {
            "standoff": 15
           },
           "zerolinecolor": "white",
           "zerolinewidth": 2
          },
          "yaxis": {
           "automargin": true,
           "gridcolor": "white",
           "linecolor": "white",
           "ticks": "",
           "title": {
            "standoff": 15
           },
           "zerolinecolor": "white",
           "zerolinewidth": 2
          }
         }
        },
        "title": {
         "text": "Cell Count per Well - Plate BR00145818"
        },
        "xaxis": {
         "anchor": "y",
         "domain": [
          0.0,
          1.0
         ],
         "tickangle": -45,
         "title": {
          "text": "Well"
         }
        },
        "yaxis": {
         "anchor": "x",
         "domain": [
          0.0,
          1.0
         ],
         "range": [
          0,
          8224.65
         ],
         "title": {
          "text": "count"
         }
        }
       }
      }
     },
     "metadata": {},
     "output_type": "display_data"
    },
    {
     "data": {
      "application/vnd.plotly.v1+json": {
       "config": {
        "plotlyServerURL": "https://plot.ly"
       },
       "data": [
        {
         "customdata": [
          [
           1000,
           "CHLA-10",
           48
          ],
          [
           1000,
           "CHLA-10",
           48
          ],
          [
           2000,
           "CHLA-10",
           48
          ],
          [
           2000,
           "CHLA-10",
           48
          ],
          [
           4000,
           "CHLA-10",
           48
          ],
          [
           4000,
           "CHLA-10",
           48
          ],
          [
           8000,
           "CHLA-10",
           48
          ],
          [
           8000,
           "CHLA-10",
           48
          ],
          [
           12000,
           "CHLA-10",
           48
          ],
          [
           12000,
           "CHLA-10",
           48
          ],
          [
           1000,
           "CHLA-10",
           48
          ],
          [
           1000,
           "CHLA-10",
           48
          ],
          [
           2000,
           "CHLA-10",
           48
          ],
          [
           2000,
           "CHLA-10",
           48
          ],
          [
           4000,
           "CHLA-10",
           48
          ],
          [
           4000,
           "CHLA-10",
           48
          ],
          [
           8000,
           "CHLA-10",
           48
          ],
          [
           8000,
           "CHLA-10",
           48
          ],
          [
           12000,
           "CHLA-10",
           48
          ],
          [
           12000,
           "CHLA-10",
           48
          ],
          [
           1000,
           "CHLA-25",
           48
          ],
          [
           1000,
           "CHLA-25",
           48
          ],
          [
           2000,
           "CHLA-25",
           48
          ],
          [
           2000,
           "CHLA-25",
           48
          ],
          [
           4000,
           "CHLA-25",
           48
          ],
          [
           4000,
           "CHLA-25",
           48
          ],
          [
           8000,
           "CHLA-25",
           48
          ],
          [
           8000,
           "CHLA-25",
           48
          ],
          [
           12000,
           "CHLA-25",
           48
          ],
          [
           12000,
           "CHLA-25",
           48
          ],
          [
           1000,
           "CHLA-25",
           48
          ],
          [
           1000,
           "CHLA-25",
           48
          ],
          [
           2000,
           "CHLA-25",
           48
          ],
          [
           2000,
           "CHLA-25",
           48
          ],
          [
           4000,
           "CHLA-25",
           48
          ],
          [
           4000,
           "CHLA-25",
           48
          ],
          [
           8000,
           "CHLA-25",
           48
          ],
          [
           8000,
           "CHLA-25",
           48
          ],
          [
           12000,
           "CHLA-25",
           48
          ],
          [
           12000,
           "CHLA-25",
           48
          ],
          [
           1000,
           "CHLA-113",
           48
          ],
          [
           1000,
           "CHLA-113",
           48
          ],
          [
           2000,
           "CHLA-113",
           48
          ],
          [
           2000,
           "CHLA-113",
           48
          ],
          [
           4000,
           "CHLA-113",
           48
          ],
          [
           4000,
           "CHLA-113",
           48
          ],
          [
           8000,
           "CHLA-113",
           48
          ],
          [
           8000,
           "CHLA-113",
           48
          ],
          [
           12000,
           "CHLA-113",
           48
          ],
          [
           12000,
           "CHLA-113",
           48
          ],
          [
           1000,
           "CHLA-113",
           48
          ],
          [
           1000,
           "CHLA-113",
           48
          ],
          [
           2000,
           "CHLA-113",
           48
          ],
          [
           2000,
           "CHLA-113",
           48
          ],
          [
           4000,
           "CHLA-113",
           48
          ],
          [
           4000,
           "CHLA-113",
           48
          ],
          [
           8000,
           "CHLA-113",
           48
          ],
          [
           8000,
           "CHLA-113",
           48
          ],
          [
           12000,
           "CHLA-113",
           48
          ],
          [
           12000,
           "CHLA-113",
           48
          ],
          [
           1000,
           "CHLA-218",
           48
          ],
          [
           1000,
           "CHLA-218",
           48
          ],
          [
           2000,
           "CHLA-218",
           48
          ],
          [
           2000,
           "CHLA-218",
           48
          ],
          [
           4000,
           "CHLA-218",
           48
          ],
          [
           4000,
           "CHLA-218",
           48
          ],
          [
           8000,
           "CHLA-218",
           48
          ],
          [
           8000,
           "CHLA-218",
           48
          ],
          [
           12000,
           "CHLA-218",
           48
          ],
          [
           1000,
           "CHLA-218",
           48
          ],
          [
           1000,
           "CHLA-218",
           48
          ],
          [
           2000,
           "CHLA-218",
           48
          ],
          [
           2000,
           "CHLA-218",
           48
          ],
          [
           4000,
           "CHLA-218",
           48
          ],
          [
           4000,
           "CHLA-218",
           48
          ],
          [
           8000,
           "CHLA-218",
           48
          ],
          [
           8000,
           "CHLA-218",
           48
          ],
          [
           12000,
           "CHLA-218",
           48
          ],
          [
           12000,
           "CHLA-218",
           48
          ],
          [
           1000,
           "U2-OS",
           48
          ],
          [
           1000,
           "U2-OS",
           48
          ],
          [
           2000,
           "U2-OS",
           48
          ],
          [
           2000,
           "U2-OS",
           48
          ],
          [
           4000,
           "U2-OS",
           48
          ],
          [
           4000,
           "U2-OS",
           48
          ],
          [
           8000,
           "U2-OS",
           48
          ],
          [
           8000,
           "U2-OS",
           48
          ],
          [
           12000,
           "U2-OS",
           48
          ],
          [
           12000,
           "U2-OS",
           48
          ],
          [
           1000,
           "U2-OS",
           48
          ],
          [
           1000,
           "U2-OS",
           48
          ],
          [
           2000,
           "U2-OS",
           48
          ],
          [
           2000,
           "U2-OS",
           48
          ],
          [
           4000,
           "U2-OS",
           48
          ],
          [
           4000,
           "U2-OS",
           48
          ],
          [
           8000,
           "U2-OS",
           48
          ],
          [
           8000,
           "U2-OS",
           48
          ],
          [
           12000,
           "U2-OS",
           48
          ],
          [
           12000,
           "U2-OS",
           48
          ]
         ],
         "hovertemplate": "Well=%{x}<br>count=%{y}<br>Seeding Density=%{customdata[0]}<br>Cell Line=%{customdata[1]}<br>Time Point=%{customdata[2]}<extra></extra>",
         "legendgroup": "",
         "marker": {
          "color": "#636efa",
          "pattern": {
           "shape": ""
          }
         },
         "name": "",
         "orientation": "v",
         "showlegend": false,
         "textposition": "auto",
         "type": "bar",
         "x": [
          "B03",
          "B04",
          "B05",
          "B06",
          "B07",
          "B08",
          "B09",
          "B10",
          "B11",
          "B12",
          "C03",
          "C04",
          "C05",
          "C06",
          "C07",
          "C08",
          "C09",
          "C10",
          "C11",
          "C12",
          "D03",
          "D04",
          "D05",
          "D06",
          "D07",
          "D08",
          "D09",
          "D10",
          "D11",
          "D12",
          "E03",
          "E04",
          "E05",
          "E06",
          "E07",
          "E08",
          "E09",
          "E10",
          "E11",
          "E12",
          "F03",
          "F04",
          "F05",
          "F06",
          "F07",
          "F08",
          "F09",
          "F10",
          "F11",
          "F12",
          "G03",
          "G04",
          "G05",
          "G06",
          "G07",
          "G08",
          "G09",
          "G10",
          "G11",
          "G12",
          "H03",
          "H04",
          "H05",
          "H06",
          "H07",
          "H08",
          "H09",
          "H10",
          "H12",
          "I03",
          "I04",
          "I05",
          "I06",
          "I07",
          "I08",
          "I09",
          "I10",
          "I11",
          "I12",
          "J03",
          "J04",
          "J05",
          "J06",
          "J07",
          "J08",
          "J09",
          "J10",
          "J11",
          "J12",
          "K03",
          "K04",
          "K05",
          "K06",
          "K07",
          "K08",
          "K09",
          "K10",
          "K11",
          "K12"
         ],
         "xaxis": "x",
         "y": {
          "bdata": "cwCOAEIBvgAvAXYBugTCBGgH2gbKAHIAoABVAcwC8wGcBZYEqgY9BzQAIwBGACkAZABUACEAsgDhAPoARAA6AIMATgB3ALkAGgCgABsAhQEwACQAVgAuADIAHQAVABgAIAAhADAAKwBMAF4AIQAaACMAHgAIADkAUABCACUAbwCCAHUAZACqAFQAQQAwAEYATgBbAHcAkgCeAEIADgEjAoMB8gTCBN8KRgu2E+YT8RWqFRsCAwKEBYsFlgv/C2AUHhTgFbYW",
          "dtype": "i2"
         },
         "yaxis": "y"
        }
       ],
       "layout": {
        "barmode": "relative",
        "font": {
         "color": "black",
         "size": 18
        },
        "legend": {
         "tracegroupgap": 0
        },
        "template": {
         "data": {
          "bar": [
           {
            "error_x": {
             "color": "#2a3f5f"
            },
            "error_y": {
             "color": "#2a3f5f"
            },
            "marker": {
             "line": {
              "color": "#E5ECF6",
              "width": 0.5
             },
             "pattern": {
              "fillmode": "overlay",
              "size": 10,
              "solidity": 0.2
             }
            },
            "type": "bar"
           }
          ],
          "barpolar": [
           {
            "marker": {
             "line": {
              "color": "#E5ECF6",
              "width": 0.5
             },
             "pattern": {
              "fillmode": "overlay",
              "size": 10,
              "solidity": 0.2
             }
            },
            "type": "barpolar"
           }
          ],
          "carpet": [
           {
            "aaxis": {
             "endlinecolor": "#2a3f5f",
             "gridcolor": "white",
             "linecolor": "white",
             "minorgridcolor": "white",
             "startlinecolor": "#2a3f5f"
            },
            "baxis": {
             "endlinecolor": "#2a3f5f",
             "gridcolor": "white",
             "linecolor": "white",
             "minorgridcolor": "white",
             "startlinecolor": "#2a3f5f"
            },
            "type": "carpet"
           }
          ],
          "choropleth": [
           {
            "colorbar": {
             "outlinewidth": 0,
             "ticks": ""
            },
            "type": "choropleth"
           }
          ],
          "contour": [
           {
            "colorbar": {
             "outlinewidth": 0,
             "ticks": ""
            },
            "colorscale": [
             [
              0.0,
              "#0d0887"
             ],
             [
              0.1111111111111111,
              "#46039f"
             ],
             [
              0.2222222222222222,
              "#7201a8"
             ],
             [
              0.3333333333333333,
              "#9c179e"
             ],
             [
              0.4444444444444444,
              "#bd3786"
             ],
             [
              0.5555555555555556,
              "#d8576b"
             ],
             [
              0.6666666666666666,
              "#ed7953"
             ],
             [
              0.7777777777777778,
              "#fb9f3a"
             ],
             [
              0.8888888888888888,
              "#fdca26"
             ],
             [
              1.0,
              "#f0f921"
             ]
            ],
            "type": "contour"
           }
          ],
          "contourcarpet": [
           {
            "colorbar": {
             "outlinewidth": 0,
             "ticks": ""
            },
            "type": "contourcarpet"
           }
          ],
          "heatmap": [
           {
            "colorbar": {
             "outlinewidth": 0,
             "ticks": ""
            },
            "colorscale": [
             [
              0.0,
              "#0d0887"
             ],
             [
              0.1111111111111111,
              "#46039f"
             ],
             [
              0.2222222222222222,
              "#7201a8"
             ],
             [
              0.3333333333333333,
              "#9c179e"
             ],
             [
              0.4444444444444444,
              "#bd3786"
             ],
             [
              0.5555555555555556,
              "#d8576b"
             ],
             [
              0.6666666666666666,
              "#ed7953"
             ],
             [
              0.7777777777777778,
              "#fb9f3a"
             ],
             [
              0.8888888888888888,
              "#fdca26"
             ],
             [
              1.0,
              "#f0f921"
             ]
            ],
            "type": "heatmap"
           }
          ],
          "histogram": [
           {
            "marker": {
             "pattern": {
              "fillmode": "overlay",
              "size": 10,
              "solidity": 0.2
             }
            },
            "type": "histogram"
           }
          ],
          "histogram2d": [
           {
            "colorbar": {
             "outlinewidth": 0,
             "ticks": ""
            },
            "colorscale": [
             [
              0.0,
              "#0d0887"
             ],
             [
              0.1111111111111111,
              "#46039f"
             ],
             [
              0.2222222222222222,
              "#7201a8"
             ],
             [
              0.3333333333333333,
              "#9c179e"
             ],
             [
              0.4444444444444444,
              "#bd3786"
             ],
             [
              0.5555555555555556,
              "#d8576b"
             ],
             [
              0.6666666666666666,
              "#ed7953"
             ],
             [
              0.7777777777777778,
              "#fb9f3a"
             ],
             [
              0.8888888888888888,
              "#fdca26"
             ],
             [
              1.0,
              "#f0f921"
             ]
            ],
            "type": "histogram2d"
           }
          ],
          "histogram2dcontour": [
           {
            "colorbar": {
             "outlinewidth": 0,
             "ticks": ""
            },
            "colorscale": [
             [
              0.0,
              "#0d0887"
             ],
             [
              0.1111111111111111,
              "#46039f"
             ],
             [
              0.2222222222222222,
              "#7201a8"
             ],
             [
              0.3333333333333333,
              "#9c179e"
             ],
             [
              0.4444444444444444,
              "#bd3786"
             ],
             [
              0.5555555555555556,
              "#d8576b"
             ],
             [
              0.6666666666666666,
              "#ed7953"
             ],
             [
              0.7777777777777778,
              "#fb9f3a"
             ],
             [
              0.8888888888888888,
              "#fdca26"
             ],
             [
              1.0,
              "#f0f921"
             ]
            ],
            "type": "histogram2dcontour"
           }
          ],
          "mesh3d": [
           {
            "colorbar": {
             "outlinewidth": 0,
             "ticks": ""
            },
            "type": "mesh3d"
           }
          ],
          "parcoords": [
           {
            "line": {
             "colorbar": {
              "outlinewidth": 0,
              "ticks": ""
             }
            },
            "type": "parcoords"
           }
          ],
          "pie": [
           {
            "automargin": true,
            "type": "pie"
           }
          ],
          "scatter": [
           {
            "fillpattern": {
             "fillmode": "overlay",
             "size": 10,
             "solidity": 0.2
            },
            "type": "scatter"
           }
          ],
          "scatter3d": [
           {
            "line": {
             "colorbar": {
              "outlinewidth": 0,
              "ticks": ""
             }
            },
            "marker": {
             "colorbar": {
              "outlinewidth": 0,
              "ticks": ""
             }
            },
            "type": "scatter3d"
           }
          ],
          "scattercarpet": [
           {
            "marker": {
             "colorbar": {
              "outlinewidth": 0,
              "ticks": ""
             }
            },
            "type": "scattercarpet"
           }
          ],
          "scattergeo": [
           {
            "marker": {
             "colorbar": {
              "outlinewidth": 0,
              "ticks": ""
             }
            },
            "type": "scattergeo"
           }
          ],
          "scattergl": [
           {
            "marker": {
             "colorbar": {
              "outlinewidth": 0,
              "ticks": ""
             }
            },
            "type": "scattergl"
           }
          ],
          "scattermap": [
           {
            "marker": {
             "colorbar": {
              "outlinewidth": 0,
              "ticks": ""
             }
            },
            "type": "scattermap"
           }
          ],
          "scattermapbox": [
           {
            "marker": {
             "colorbar": {
              "outlinewidth": 0,
              "ticks": ""
             }
            },
            "type": "scattermapbox"
           }
          ],
          "scatterpolar": [
           {
            "marker": {
             "colorbar": {
              "outlinewidth": 0,
              "ticks": ""
             }
            },
            "type": "scatterpolar"
           }
          ],
          "scatterpolargl": [
           {
            "marker": {
             "colorbar": {
              "outlinewidth": 0,
              "ticks": ""
             }
            },
            "type": "scatterpolargl"
           }
          ],
          "scatterternary": [
           {
            "marker": {
             "colorbar": {
              "outlinewidth": 0,
              "ticks": ""
             }
            },
            "type": "scatterternary"
           }
          ],
          "surface": [
           {
            "colorbar": {
             "outlinewidth": 0,
             "ticks": ""
            },
            "colorscale": [
             [
              0.0,
              "#0d0887"
             ],
             [
              0.1111111111111111,
              "#46039f"
             ],
             [
              0.2222222222222222,
              "#7201a8"
             ],
             [
              0.3333333333333333,
              "#9c179e"
             ],
             [
              0.4444444444444444,
              "#bd3786"
             ],
             [
              0.5555555555555556,
              "#d8576b"
             ],
             [
              0.6666666666666666,
              "#ed7953"
             ],
             [
              0.7777777777777778,
              "#fb9f3a"
             ],
             [
              0.8888888888888888,
              "#fdca26"
             ],
             [
              1.0,
              "#f0f921"
             ]
            ],
            "type": "surface"
           }
          ],
          "table": [
           {
            "cells": {
             "fill": {
              "color": "#EBF0F8"
             },
             "line": {
              "color": "white"
             }
            },
            "header": {
             "fill": {
              "color": "#C8D4E3"
             },
             "line": {
              "color": "white"
             }
            },
            "type": "table"
           }
          ]
         },
         "layout": {
          "annotationdefaults": {
           "arrowcolor": "#2a3f5f",
           "arrowhead": 0,
           "arrowwidth": 1
          },
          "autotypenumbers": "strict",
          "coloraxis": {
           "colorbar": {
            "outlinewidth": 0,
            "ticks": ""
           }
          },
          "colorscale": {
           "diverging": [
            [
             0,
             "#8e0152"
            ],
            [
             0.1,
             "#c51b7d"
            ],
            [
             0.2,
             "#de77ae"
            ],
            [
             0.3,
             "#f1b6da"
            ],
            [
             0.4,
             "#fde0ef"
            ],
            [
             0.5,
             "#f7f7f7"
            ],
            [
             0.6,
             "#e6f5d0"
            ],
            [
             0.7,
             "#b8e186"
            ],
            [
             0.8,
             "#7fbc41"
            ],
            [
             0.9,
             "#4d9221"
            ],
            [
             1,
             "#276419"
            ]
           ],
           "sequential": [
            [
             0.0,
             "#0d0887"
            ],
            [
             0.1111111111111111,
             "#46039f"
            ],
            [
             0.2222222222222222,
             "#7201a8"
            ],
            [
             0.3333333333333333,
             "#9c179e"
            ],
            [
             0.4444444444444444,
             "#bd3786"
            ],
            [
             0.5555555555555556,
             "#d8576b"
            ],
            [
             0.6666666666666666,
             "#ed7953"
            ],
            [
             0.7777777777777778,
             "#fb9f3a"
            ],
            [
             0.8888888888888888,
             "#fdca26"
            ],
            [
             1.0,
             "#f0f921"
            ]
           ],
           "sequentialminus": [
            [
             0.0,
             "#0d0887"
            ],
            [
             0.1111111111111111,
             "#46039f"
            ],
            [
             0.2222222222222222,
             "#7201a8"
            ],
            [
             0.3333333333333333,
             "#9c179e"
            ],
            [
             0.4444444444444444,
             "#bd3786"
            ],
            [
             0.5555555555555556,
             "#d8576b"
            ],
            [
             0.6666666666666666,
             "#ed7953"
            ],
            [
             0.7777777777777778,
             "#fb9f3a"
            ],
            [
             0.8888888888888888,
             "#fdca26"
            ],
            [
             1.0,
             "#f0f921"
            ]
           ]
          },
          "colorway": [
           "#636efa",
           "#EF553B",
           "#00cc96",
           "#ab63fa",
           "#FFA15A",
           "#19d3f3",
           "#FF6692",
           "#B6E880",
           "#FF97FF",
           "#FECB52"
          ],
          "font": {
           "color": "#2a3f5f"
          },
          "geo": {
           "bgcolor": "white",
           "lakecolor": "white",
           "landcolor": "#E5ECF6",
           "showlakes": true,
           "showland": true,
           "subunitcolor": "white"
          },
          "hoverlabel": {
           "align": "left"
          },
          "hovermode": "closest",
          "mapbox": {
           "style": "light"
          },
          "paper_bgcolor": "white",
          "plot_bgcolor": "#E5ECF6",
          "polar": {
           "angularaxis": {
            "gridcolor": "white",
            "linecolor": "white",
            "ticks": ""
           },
           "bgcolor": "#E5ECF6",
           "radialaxis": {
            "gridcolor": "white",
            "linecolor": "white",
            "ticks": ""
           }
          },
          "scene": {
           "xaxis": {
            "backgroundcolor": "#E5ECF6",
            "gridcolor": "white",
            "gridwidth": 2,
            "linecolor": "white",
            "showbackground": true,
            "ticks": "",
            "zerolinecolor": "white"
           },
           "yaxis": {
            "backgroundcolor": "#E5ECF6",
            "gridcolor": "white",
            "gridwidth": 2,
            "linecolor": "white",
            "showbackground": true,
            "ticks": "",
            "zerolinecolor": "white"
           },
           "zaxis": {
            "backgroundcolor": "#E5ECF6",
            "gridcolor": "white",
            "gridwidth": 2,
            "linecolor": "white",
            "showbackground": true,
            "ticks": "",
            "zerolinecolor": "white"
           }
          },
          "shapedefaults": {
           "line": {
            "color": "#2a3f5f"
           }
          },
          "ternary": {
           "aaxis": {
            "gridcolor": "white",
            "linecolor": "white",
            "ticks": ""
           },
           "baxis": {
            "gridcolor": "white",
            "linecolor": "white",
            "ticks": ""
           },
           "bgcolor": "#E5ECF6",
           "caxis": {
            "gridcolor": "white",
            "linecolor": "white",
            "ticks": ""
           }
          },
          "title": {
           "x": 0.05
          },
          "xaxis": {
           "automargin": true,
           "gridcolor": "white",
           "linecolor": "white",
           "ticks": "",
           "title": {
            "standoff": 15
           },
           "zerolinecolor": "white",
           "zerolinewidth": 2
          },
          "yaxis": {
           "automargin": true,
           "gridcolor": "white",
           "linecolor": "white",
           "ticks": "",
           "title": {
            "standoff": 15
           },
           "zerolinecolor": "white",
           "zerolinewidth": 2
          }
         }
        },
        "title": {
         "text": "Cell Count per Well - Plate BR00145817"
        },
        "xaxis": {
         "anchor": "y",
         "domain": [
          0.0,
          1.0
         ],
         "tickangle": -45,
         "title": {
          "text": "Well"
         }
        },
        "yaxis": {
         "anchor": "x",
         "domain": [
          0.0,
          1.0
         ],
         "range": [
          0,
          8224.65
         ],
         "title": {
          "text": "count"
         }
        }
       }
      }
     },
     "metadata": {},
     "output_type": "display_data"
    },
    {
     "data": {
      "application/vnd.plotly.v1+json": {
       "config": {
        "plotlyServerURL": "https://plot.ly"
       },
       "data": [
        {
         "customdata": [
          [
           1000,
           "CHLA-10",
           24
          ],
          [
           1000,
           "CHLA-10",
           24
          ],
          [
           2000,
           "CHLA-10",
           24
          ],
          [
           2000,
           "CHLA-10",
           24
          ],
          [
           4000,
           "CHLA-10",
           24
          ],
          [
           4000,
           "CHLA-10",
           24
          ],
          [
           8000,
           "CHLA-10",
           24
          ],
          [
           12000,
           "CHLA-10",
           24
          ],
          [
           12000,
           "CHLA-10",
           24
          ],
          [
           1000,
           "CHLA-10",
           24
          ],
          [
           1000,
           "CHLA-10",
           24
          ],
          [
           2000,
           "CHLA-10",
           24
          ],
          [
           2000,
           "CHLA-10",
           24
          ],
          [
           4000,
           "CHLA-10",
           24
          ],
          [
           4000,
           "CHLA-10",
           24
          ],
          [
           8000,
           "CHLA-10",
           24
          ],
          [
           8000,
           "CHLA-10",
           24
          ],
          [
           12000,
           "CHLA-10",
           24
          ],
          [
           12000,
           "CHLA-10",
           24
          ],
          [
           1000,
           "CHLA-25",
           24
          ],
          [
           1000,
           "CHLA-25",
           24
          ],
          [
           2000,
           "CHLA-25",
           24
          ],
          [
           2000,
           "CHLA-25",
           24
          ],
          [
           4000,
           "CHLA-25",
           24
          ],
          [
           4000,
           "CHLA-25",
           24
          ],
          [
           8000,
           "CHLA-25",
           24
          ],
          [
           8000,
           "CHLA-25",
           24
          ],
          [
           12000,
           "CHLA-25",
           24
          ],
          [
           12000,
           "CHLA-25",
           24
          ],
          [
           1000,
           "CHLA-25",
           24
          ],
          [
           1000,
           "CHLA-25",
           24
          ],
          [
           2000,
           "CHLA-25",
           24
          ],
          [
           2000,
           "CHLA-25",
           24
          ],
          [
           4000,
           "CHLA-25",
           24
          ],
          [
           4000,
           "CHLA-25",
           24
          ],
          [
           8000,
           "CHLA-25",
           24
          ],
          [
           8000,
           "CHLA-25",
           24
          ],
          [
           12000,
           "CHLA-25",
           24
          ],
          [
           12000,
           "CHLA-25",
           24
          ],
          [
           1000,
           "CHLA-113",
           24
          ],
          [
           1000,
           "CHLA-113",
           24
          ],
          [
           2000,
           "CHLA-113",
           24
          ],
          [
           2000,
           "CHLA-113",
           24
          ],
          [
           4000,
           "CHLA-113",
           24
          ],
          [
           4000,
           "CHLA-113",
           24
          ],
          [
           8000,
           "CHLA-113",
           24
          ],
          [
           8000,
           "CHLA-113",
           24
          ],
          [
           12000,
           "CHLA-113",
           24
          ],
          [
           1000,
           "CHLA-113",
           24
          ],
          [
           1000,
           "CHLA-113",
           24
          ],
          [
           2000,
           "CHLA-113",
           24
          ],
          [
           2000,
           "CHLA-113",
           24
          ],
          [
           4000,
           "CHLA-113",
           24
          ],
          [
           4000,
           "CHLA-113",
           24
          ],
          [
           8000,
           "CHLA-113",
           24
          ],
          [
           8000,
           "CHLA-113",
           24
          ],
          [
           12000,
           "CHLA-113",
           24
          ],
          [
           12000,
           "CHLA-113",
           24
          ],
          [
           1000,
           "CHLA-218",
           24
          ],
          [
           1000,
           "CHLA-218",
           24
          ],
          [
           2000,
           "CHLA-218",
           24
          ],
          [
           2000,
           "CHLA-218",
           24
          ],
          [
           4000,
           "CHLA-218",
           24
          ],
          [
           4000,
           "CHLA-218",
           24
          ],
          [
           8000,
           "CHLA-218",
           24
          ],
          [
           8000,
           "CHLA-218",
           24
          ],
          [
           12000,
           "CHLA-218",
           24
          ],
          [
           12000,
           "CHLA-218",
           24
          ],
          [
           1000,
           "CHLA-218",
           24
          ],
          [
           1000,
           "CHLA-218",
           24
          ],
          [
           2000,
           "CHLA-218",
           24
          ],
          [
           2000,
           "CHLA-218",
           24
          ],
          [
           4000,
           "CHLA-218",
           24
          ],
          [
           4000,
           "CHLA-218",
           24
          ],
          [
           8000,
           "CHLA-218",
           24
          ],
          [
           8000,
           "CHLA-218",
           24
          ],
          [
           12000,
           "CHLA-218",
           24
          ],
          [
           12000,
           "CHLA-218",
           24
          ],
          [
           1000,
           "U2-OS",
           24
          ],
          [
           1000,
           "U2-OS",
           24
          ],
          [
           2000,
           "U2-OS",
           24
          ],
          [
           2000,
           "U2-OS",
           24
          ],
          [
           4000,
           "U2-OS",
           24
          ],
          [
           4000,
           "U2-OS",
           24
          ],
          [
           8000,
           "U2-OS",
           24
          ],
          [
           8000,
           "U2-OS",
           24
          ],
          [
           12000,
           "U2-OS",
           24
          ],
          [
           12000,
           "U2-OS",
           24
          ],
          [
           1000,
           "U2-OS",
           24
          ],
          [
           1000,
           "U2-OS",
           24
          ],
          [
           2000,
           "U2-OS",
           24
          ],
          [
           2000,
           "U2-OS",
           24
          ],
          [
           4000,
           "U2-OS",
           24
          ],
          [
           4000,
           "U2-OS",
           24
          ],
          [
           8000,
           "U2-OS",
           24
          ],
          [
           8000,
           "U2-OS",
           24
          ],
          [
           12000,
           "U2-OS",
           24
          ],
          [
           12000,
           "U2-OS",
           24
          ]
         ],
         "hovertemplate": "Well=%{x}<br>count=%{y}<br>Seeding Density=%{customdata[0]}<br>Cell Line=%{customdata[1]}<br>Time Point=%{customdata[2]}<extra></extra>",
         "legendgroup": "",
         "marker": {
          "color": "#636efa",
          "pattern": {
           "shape": ""
          }
         },
         "name": "",
         "orientation": "v",
         "showlegend": false,
         "textposition": "auto",
         "type": "bar",
         "x": [
          "B03",
          "B04",
          "B05",
          "B06",
          "B07",
          "B08",
          "B09",
          "B11",
          "B12",
          "C03",
          "C04",
          "C05",
          "C06",
          "C07",
          "C08",
          "C09",
          "C10",
          "C11",
          "C12",
          "D03",
          "D04",
          "D05",
          "D06",
          "D07",
          "D08",
          "D09",
          "D10",
          "D11",
          "D12",
          "E03",
          "E04",
          "E05",
          "E06",
          "E07",
          "E08",
          "E09",
          "E10",
          "E11",
          "E12",
          "F03",
          "F04",
          "F05",
          "F06",
          "F07",
          "F08",
          "F09",
          "F10",
          "F12",
          "G03",
          "G04",
          "G05",
          "G06",
          "G07",
          "G08",
          "G09",
          "G10",
          "G11",
          "G12",
          "H03",
          "H04",
          "H05",
          "H06",
          "H07",
          "H08",
          "H09",
          "H10",
          "H11",
          "H12",
          "I03",
          "I04",
          "I05",
          "I06",
          "I07",
          "I08",
          "I09",
          "I10",
          "I11",
          "I12",
          "J03",
          "J04",
          "J05",
          "J06",
          "J07",
          "J08",
          "J09",
          "J10",
          "J11",
          "J12",
          "K03",
          "K04",
          "K05",
          "K06",
          "K07",
          "K08",
          "K09",
          "K10",
          "K11",
          "K12"
         ],
         "xaxis": "x",
         "y": {
          "bdata": "MgBLADgASwBnANIABgLcA9cCIwAoAIUAcwC8AJwAJQGyAakD+gJ6AGYAswC4AMwAwQDhASYCfgITAUwATACyAJsAAQEpAWYB4gFaAnYDUgBFACkATgB6AG8A4gCIALQAgACUAG0AiADoALgAoQE6AXkCPQI3AGkAdQCaAGgATwCwAN8A4wCwAFMARwBtAFkAdACtAK8AbgC0AMcAegElAV0DpQJbCB0GAxAzDdgTrRBxAVMBuQKNAiQGjAZIDiUNZhFSEw==",
          "dtype": "i2"
         },
         "yaxis": "y"
        }
       ],
       "layout": {
        "barmode": "relative",
        "font": {
         "color": "black",
         "size": 18
        },
        "legend": {
         "tracegroupgap": 0
        },
        "template": {
         "data": {
          "bar": [
           {
            "error_x": {
             "color": "#2a3f5f"
            },
            "error_y": {
             "color": "#2a3f5f"
            },
            "marker": {
             "line": {
              "color": "#E5ECF6",
              "width": 0.5
             },
             "pattern": {
              "fillmode": "overlay",
              "size": 10,
              "solidity": 0.2
             }
            },
            "type": "bar"
           }
          ],
          "barpolar": [
           {
            "marker": {
             "line": {
              "color": "#E5ECF6",
              "width": 0.5
             },
             "pattern": {
              "fillmode": "overlay",
              "size": 10,
              "solidity": 0.2
             }
            },
            "type": "barpolar"
           }
          ],
          "carpet": [
           {
            "aaxis": {
             "endlinecolor": "#2a3f5f",
             "gridcolor": "white",
             "linecolor": "white",
             "minorgridcolor": "white",
             "startlinecolor": "#2a3f5f"
            },
            "baxis": {
             "endlinecolor": "#2a3f5f",
             "gridcolor": "white",
             "linecolor": "white",
             "minorgridcolor": "white",
             "startlinecolor": "#2a3f5f"
            },
            "type": "carpet"
           }
          ],
          "choropleth": [
           {
            "colorbar": {
             "outlinewidth": 0,
             "ticks": ""
            },
            "type": "choropleth"
           }
          ],
          "contour": [
           {
            "colorbar": {
             "outlinewidth": 0,
             "ticks": ""
            },
            "colorscale": [
             [
              0.0,
              "#0d0887"
             ],
             [
              0.1111111111111111,
              "#46039f"
             ],
             [
              0.2222222222222222,
              "#7201a8"
             ],
             [
              0.3333333333333333,
              "#9c179e"
             ],
             [
              0.4444444444444444,
              "#bd3786"
             ],
             [
              0.5555555555555556,
              "#d8576b"
             ],
             [
              0.6666666666666666,
              "#ed7953"
             ],
             [
              0.7777777777777778,
              "#fb9f3a"
             ],
             [
              0.8888888888888888,
              "#fdca26"
             ],
             [
              1.0,
              "#f0f921"
             ]
            ],
            "type": "contour"
           }
          ],
          "contourcarpet": [
           {
            "colorbar": {
             "outlinewidth": 0,
             "ticks": ""
            },
            "type": "contourcarpet"
           }
          ],
          "heatmap": [
           {
            "colorbar": {
             "outlinewidth": 0,
             "ticks": ""
            },
            "colorscale": [
             [
              0.0,
              "#0d0887"
             ],
             [
              0.1111111111111111,
              "#46039f"
             ],
             [
              0.2222222222222222,
              "#7201a8"
             ],
             [
              0.3333333333333333,
              "#9c179e"
             ],
             [
              0.4444444444444444,
              "#bd3786"
             ],
             [
              0.5555555555555556,
              "#d8576b"
             ],
             [
              0.6666666666666666,
              "#ed7953"
             ],
             [
              0.7777777777777778,
              "#fb9f3a"
             ],
             [
              0.8888888888888888,
              "#fdca26"
             ],
             [
              1.0,
              "#f0f921"
             ]
            ],
            "type": "heatmap"
           }
          ],
          "histogram": [
           {
            "marker": {
             "pattern": {
              "fillmode": "overlay",
              "size": 10,
              "solidity": 0.2
             }
            },
            "type": "histogram"
           }
          ],
          "histogram2d": [
           {
            "colorbar": {
             "outlinewidth": 0,
             "ticks": ""
            },
            "colorscale": [
             [
              0.0,
              "#0d0887"
             ],
             [
              0.1111111111111111,
              "#46039f"
             ],
             [
              0.2222222222222222,
              "#7201a8"
             ],
             [
              0.3333333333333333,
              "#9c179e"
             ],
             [
              0.4444444444444444,
              "#bd3786"
             ],
             [
              0.5555555555555556,
              "#d8576b"
             ],
             [
              0.6666666666666666,
              "#ed7953"
             ],
             [
              0.7777777777777778,
              "#fb9f3a"
             ],
             [
              0.8888888888888888,
              "#fdca26"
             ],
             [
              1.0,
              "#f0f921"
             ]
            ],
            "type": "histogram2d"
           }
          ],
          "histogram2dcontour": [
           {
            "colorbar": {
             "outlinewidth": 0,
             "ticks": ""
            },
            "colorscale": [
             [
              0.0,
              "#0d0887"
             ],
             [
              0.1111111111111111,
              "#46039f"
             ],
             [
              0.2222222222222222,
              "#7201a8"
             ],
             [
              0.3333333333333333,
              "#9c179e"
             ],
             [
              0.4444444444444444,
              "#bd3786"
             ],
             [
              0.5555555555555556,
              "#d8576b"
             ],
             [
              0.6666666666666666,
              "#ed7953"
             ],
             [
              0.7777777777777778,
              "#fb9f3a"
             ],
             [
              0.8888888888888888,
              "#fdca26"
             ],
             [
              1.0,
              "#f0f921"
             ]
            ],
            "type": "histogram2dcontour"
           }
          ],
          "mesh3d": [
           {
            "colorbar": {
             "outlinewidth": 0,
             "ticks": ""
            },
            "type": "mesh3d"
           }
          ],
          "parcoords": [
           {
            "line": {
             "colorbar": {
              "outlinewidth": 0,
              "ticks": ""
             }
            },
            "type": "parcoords"
           }
          ],
          "pie": [
           {
            "automargin": true,
            "type": "pie"
           }
          ],
          "scatter": [
           {
            "fillpattern": {
             "fillmode": "overlay",
             "size": 10,
             "solidity": 0.2
            },
            "type": "scatter"
           }
          ],
          "scatter3d": [
           {
            "line": {
             "colorbar": {
              "outlinewidth": 0,
              "ticks": ""
             }
            },
            "marker": {
             "colorbar": {
              "outlinewidth": 0,
              "ticks": ""
             }
            },
            "type": "scatter3d"
           }
          ],
          "scattercarpet": [
           {
            "marker": {
             "colorbar": {
              "outlinewidth": 0,
              "ticks": ""
             }
            },
            "type": "scattercarpet"
           }
          ],
          "scattergeo": [
           {
            "marker": {
             "colorbar": {
              "outlinewidth": 0,
              "ticks": ""
             }
            },
            "type": "scattergeo"
           }
          ],
          "scattergl": [
           {
            "marker": {
             "colorbar": {
              "outlinewidth": 0,
              "ticks": ""
             }
            },
            "type": "scattergl"
           }
          ],
          "scattermap": [
           {
            "marker": {
             "colorbar": {
              "outlinewidth": 0,
              "ticks": ""
             }
            },
            "type": "scattermap"
           }
          ],
          "scattermapbox": [
           {
            "marker": {
             "colorbar": {
              "outlinewidth": 0,
              "ticks": ""
             }
            },
            "type": "scattermapbox"
           }
          ],
          "scatterpolar": [
           {
            "marker": {
             "colorbar": {
              "outlinewidth": 0,
              "ticks": ""
             }
            },
            "type": "scatterpolar"
           }
          ],
          "scatterpolargl": [
           {
            "marker": {
             "colorbar": {
              "outlinewidth": 0,
              "ticks": ""
             }
            },
            "type": "scatterpolargl"
           }
          ],
          "scatterternary": [
           {
            "marker": {
             "colorbar": {
              "outlinewidth": 0,
              "ticks": ""
             }
            },
            "type": "scatterternary"
           }
          ],
          "surface": [
           {
            "colorbar": {
             "outlinewidth": 0,
             "ticks": ""
            },
            "colorscale": [
             [
              0.0,
              "#0d0887"
             ],
             [
              0.1111111111111111,
              "#46039f"
             ],
             [
              0.2222222222222222,
              "#7201a8"
             ],
             [
              0.3333333333333333,
              "#9c179e"
             ],
             [
              0.4444444444444444,
              "#bd3786"
             ],
             [
              0.5555555555555556,
              "#d8576b"
             ],
             [
              0.6666666666666666,
              "#ed7953"
             ],
             [
              0.7777777777777778,
              "#fb9f3a"
             ],
             [
              0.8888888888888888,
              "#fdca26"
             ],
             [
              1.0,
              "#f0f921"
             ]
            ],
            "type": "surface"
           }
          ],
          "table": [
           {
            "cells": {
             "fill": {
              "color": "#EBF0F8"
             },
             "line": {
              "color": "white"
             }
            },
            "header": {
             "fill": {
              "color": "#C8D4E3"
             },
             "line": {
              "color": "white"
             }
            },
            "type": "table"
           }
          ]
         },
         "layout": {
          "annotationdefaults": {
           "arrowcolor": "#2a3f5f",
           "arrowhead": 0,
           "arrowwidth": 1
          },
          "autotypenumbers": "strict",
          "coloraxis": {
           "colorbar": {
            "outlinewidth": 0,
            "ticks": ""
           }
          },
          "colorscale": {
           "diverging": [
            [
             0,
             "#8e0152"
            ],
            [
             0.1,
             "#c51b7d"
            ],
            [
             0.2,
             "#de77ae"
            ],
            [
             0.3,
             "#f1b6da"
            ],
            [
             0.4,
             "#fde0ef"
            ],
            [
             0.5,
             "#f7f7f7"
            ],
            [
             0.6,
             "#e6f5d0"
            ],
            [
             0.7,
             "#b8e186"
            ],
            [
             0.8,
             "#7fbc41"
            ],
            [
             0.9,
             "#4d9221"
            ],
            [
             1,
             "#276419"
            ]
           ],
           "sequential": [
            [
             0.0,
             "#0d0887"
            ],
            [
             0.1111111111111111,
             "#46039f"
            ],
            [
             0.2222222222222222,
             "#7201a8"
            ],
            [
             0.3333333333333333,
             "#9c179e"
            ],
            [
             0.4444444444444444,
             "#bd3786"
            ],
            [
             0.5555555555555556,
             "#d8576b"
            ],
            [
             0.6666666666666666,
             "#ed7953"
            ],
            [
             0.7777777777777778,
             "#fb9f3a"
            ],
            [
             0.8888888888888888,
             "#fdca26"
            ],
            [
             1.0,
             "#f0f921"
            ]
           ],
           "sequentialminus": [
            [
             0.0,
             "#0d0887"
            ],
            [
             0.1111111111111111,
             "#46039f"
            ],
            [
             0.2222222222222222,
             "#7201a8"
            ],
            [
             0.3333333333333333,
             "#9c179e"
            ],
            [
             0.4444444444444444,
             "#bd3786"
            ],
            [
             0.5555555555555556,
             "#d8576b"
            ],
            [
             0.6666666666666666,
             "#ed7953"
            ],
            [
             0.7777777777777778,
             "#fb9f3a"
            ],
            [
             0.8888888888888888,
             "#fdca26"
            ],
            [
             1.0,
             "#f0f921"
            ]
           ]
          },
          "colorway": [
           "#636efa",
           "#EF553B",
           "#00cc96",
           "#ab63fa",
           "#FFA15A",
           "#19d3f3",
           "#FF6692",
           "#B6E880",
           "#FF97FF",
           "#FECB52"
          ],
          "font": {
           "color": "#2a3f5f"
          },
          "geo": {
           "bgcolor": "white",
           "lakecolor": "white",
           "landcolor": "#E5ECF6",
           "showlakes": true,
           "showland": true,
           "subunitcolor": "white"
          },
          "hoverlabel": {
           "align": "left"
          },
          "hovermode": "closest",
          "mapbox": {
           "style": "light"
          },
          "paper_bgcolor": "white",
          "plot_bgcolor": "#E5ECF6",
          "polar": {
           "angularaxis": {
            "gridcolor": "white",
            "linecolor": "white",
            "ticks": ""
           },
           "bgcolor": "#E5ECF6",
           "radialaxis": {
            "gridcolor": "white",
            "linecolor": "white",
            "ticks": ""
           }
          },
          "scene": {
           "xaxis": {
            "backgroundcolor": "#E5ECF6",
            "gridcolor": "white",
            "gridwidth": 2,
            "linecolor": "white",
            "showbackground": true,
            "ticks": "",
            "zerolinecolor": "white"
           },
           "yaxis": {
            "backgroundcolor": "#E5ECF6",
            "gridcolor": "white",
            "gridwidth": 2,
            "linecolor": "white",
            "showbackground": true,
            "ticks": "",
            "zerolinecolor": "white"
           },
           "zaxis": {
            "backgroundcolor": "#E5ECF6",
            "gridcolor": "white",
            "gridwidth": 2,
            "linecolor": "white",
            "showbackground": true,
            "ticks": "",
            "zerolinecolor": "white"
           }
          },
          "shapedefaults": {
           "line": {
            "color": "#2a3f5f"
           }
          },
          "ternary": {
           "aaxis": {
            "gridcolor": "white",
            "linecolor": "white",
            "ticks": ""
           },
           "baxis": {
            "gridcolor": "white",
            "linecolor": "white",
            "ticks": ""
           },
           "bgcolor": "#E5ECF6",
           "caxis": {
            "gridcolor": "white",
            "linecolor": "white",
            "ticks": ""
           }
          },
          "title": {
           "x": 0.05
          },
          "xaxis": {
           "automargin": true,
           "gridcolor": "white",
           "linecolor": "white",
           "ticks": "",
           "title": {
            "standoff": 15
           },
           "zerolinecolor": "white",
           "zerolinewidth": 2
          },
          "yaxis": {
           "automargin": true,
           "gridcolor": "white",
           "linecolor": "white",
           "ticks": "",
           "title": {
            "standoff": 15
           },
           "zerolinecolor": "white",
           "zerolinewidth": 2
          }
         }
        },
        "title": {
         "text": "Cell Count per Well - Plate BR00145816"
        },
        "xaxis": {
         "anchor": "y",
         "domain": [
          0.0,
          1.0
         ],
         "tickangle": -45,
         "title": {
          "text": "Well"
         }
        },
        "yaxis": {
         "anchor": "x",
         "domain": [
          0.0,
          1.0
         ],
         "range": [
          0,
          8224.65
         ],
         "title": {
          "text": "count"
         }
        }
       }
      }
     },
     "metadata": {},
     "output_type": "display_data"
    }
   ],
   "source": [
    "global_max = round2df.groupby([\"Metadata_Plate\", \"Metadata_Well\"]).size().max()\n",
    "\n",
    "for plate in round2df[\"Metadata_Plate\"].unique():\n",
    "    plate_df = round2df[round2df[\"Metadata_Plate\"] == plate]\n",
    "\n",
    "    well_counts = plate_df[[\"Metadata_Well\"]].value_counts().reset_index(name=\"count\")\n",
    "\n",
    "    meta_per_well = (\n",
    "        plate_df.groupby(\"Metadata_Well\")[\n",
    "            [\"Metadata_seeding_density\", \"Metadata_cell_line\", \"Metadata_time_point\"]\n",
    "        ]\n",
    "        .first()\n",
    "        .reset_index()\n",
    "    )\n",
    "\n",
    "    meta_per_well = meta_per_well.rename(\n",
    "        columns={\n",
    "            \"Metadata_seeding_density\": \"Seeding Density\",\n",
    "            \"Metadata_cell_line\": \"Cell Line\",\n",
    "            \"Metadata_time_point\": \"Time Point\",\n",
    "        }\n",
    "    )\n",
    "\n",
    "    well_counts = well_counts.merge(meta_per_well, on=\"Metadata_Well\").sort_values(\n",
    "        \"Metadata_Well\"\n",
    "    )\n",
    "\n",
    "    fig = px.bar(\n",
    "        well_counts,\n",
    "        x=\"Metadata_Well\",\n",
    "        y=\"count\",\n",
    "        hover_data=[\"Seeding Density\", \"Cell Line\", \"Time Point\"],\n",
    "        title=f\"Cell Count per Well - Plate {plate}\",\n",
    "        labels={\n",
    "            \"Metadata_Well\": \"Well\",\n",
    "        },\n",
    "    )\n",
    "\n",
    "    fig.update_layout(\n",
    "        font=dict(size=18, color=\"black\"),\n",
    "        xaxis_tickangle=-45,\n",
    "        yaxis_range=[0, global_max * 1.05],\n",
    "    )\n",
    "\n",
    "    fig.show()\n",
    "\n",
    "    fig.write_image(\n",
    "        static_figure_path / f\"{plate}_well_cell_count.png\",\n",
    "        width=2000,\n",
    "        height=1200,\n",
    "    )\n",
    "\n",
    "    fig.write_html(\n",
    "        int_figure_path / f\"{plate}_well_cell_count.html\",\n",
    "        full_html=True,\n",
    "        include_plotlyjs=\"embed\",\n",
    "    )"
   ]
  }
 ],
 "metadata": {
  "anaconda-cloud": {},
  "kernelspec": {
   "display_name": "python",
   "language": "python",
   "name": "python3"
  },
  "language_info": {
   "codemirror_mode": {
    "name": "ipython",
    "version": 3
   },
   "file_extension": ".py",
   "mimetype": "text/x-python",
   "name": "python",
   "nbconvert_exporter": "python",
   "pygments_lexer": "ipython3",
   "version": "3.11.0rc1"
  }
 },
 "nbformat": 4,
 "nbformat_minor": 4
}
