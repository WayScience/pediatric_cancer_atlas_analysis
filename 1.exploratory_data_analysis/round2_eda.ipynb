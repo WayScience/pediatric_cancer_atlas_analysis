{
 "cells": [
  {
   "cell_type": "markdown",
   "metadata": {
    "jukit_cell_id": "lM8dYQPBT5"
   },
   "source": [
    "# Explore Round 2 Data Patterns\n",
    "An exploration of the round 2 data to understand prominent patterns."
   ]
  },
  {
   "cell_type": "code",
   "execution_count": 1,
   "metadata": {
    "execution": {
     "iopub.execute_input": "2025-07-03T22:23:27.945040Z",
     "iopub.status.busy": "2025-07-03T22:23:27.944759Z",
     "iopub.status.idle": "2025-07-03T22:23:30.789015Z",
     "shell.execute_reply": "2025-07-03T22:23:30.788635Z"
    },
    "jukit_cell_id": "chKOlruhvo"
   },
   "outputs": [
    {
     "name": "stderr",
     "output_type": "stream",
     "text": [
      "/home/camo/projects/pediatric_cancer_atlas_analysis/1.exploratory_data_analysis/.venv/lib/python3.11/site-packages/tqdm/auto.py:21: TqdmWarning: IProgress not found. Please update jupyter and ipywidgets. See https://ipywidgets.readthedocs.io/en/stable/user_install.html\n",
      "  from .autonotebook import tqdm as notebook_tqdm\n"
     ]
    }
   ],
   "source": [
    "import pathlib\n",
    "\n",
    "import kaleido\n",
    "import pandas as pd\n",
    "import plotly.express as px\n",
    "import plotly.io as pio\n",
    "from umap import UMAP"
   ]
  },
  {
   "cell_type": "markdown",
   "metadata": {
    "jukit_cell_id": "fodzHP9szp"
   },
   "source": [
    "## Find the root of the git repo on the host system"
   ]
  },
  {
   "cell_type": "code",
   "execution_count": 2,
   "metadata": {
    "execution": {
     "iopub.execute_input": "2025-07-03T22:23:30.790628Z",
     "iopub.status.busy": "2025-07-03T22:23:30.790445Z",
     "iopub.status.idle": "2025-07-03T22:23:30.792893Z",
     "shell.execute_reply": "2025-07-03T22:23:30.792637Z"
    },
    "jukit_cell_id": "RPnfSxTAVa"
   },
   "outputs": [],
   "source": [
    "# Get the current working directory\n",
    "cwd = pathlib.Path.cwd()\n",
    "\n",
    "if (cwd / \".git\").is_dir():\n",
    "    root_dir = cwd\n",
    "\n",
    "else:\n",
    "    root_dir = None\n",
    "    for parent in cwd.parents:\n",
    "        if (parent / \".git\").is_dir():\n",
    "            root_dir = parent\n",
    "            break\n",
    "\n",
    "# Check if a Git root directory was found\n",
    "if root_dir is None:\n",
    "    raise FileNotFoundError(\"No Git root directory found.\")"
   ]
  },
  {
   "cell_type": "markdown",
   "metadata": {
    "jukit_cell_id": "UzvLnM8utC"
   },
   "source": [
    "# Inputs"
   ]
  },
  {
   "cell_type": "code",
   "execution_count": 3,
   "metadata": {
    "execution": {
     "iopub.execute_input": "2025-07-03T22:23:30.793977Z",
     "iopub.status.busy": "2025-07-03T22:23:30.793881Z",
     "iopub.status.idle": "2025-07-03T22:23:39.599667Z",
     "shell.execute_reply": "2025-07-03T22:23:39.599292Z"
    },
    "jukit_cell_id": "hploOEYYGN"
   },
   "outputs": [],
   "source": [
    "pilot_path = root_dir / \"big_drive/alsf/ALSF_pilot_data\"\n",
    "\n",
    "round2_profiles_path = (\n",
    "    pilot_path / \"preprocessed_profiles_Round_2_data/Round_2_data\"\n",
    ").resolve(strict=True)\n",
    "\n",
    "common_cols = None\n",
    "\n",
    "for pq_file in list(round2_profiles_path.rglob(\"*feature_selected.parquet\")):\n",
    "    cols = pd.read_parquet(pq_file).columns\n",
    "    if common_cols is None:\n",
    "        common_cols = set(cols)\n",
    "\n",
    "    else:\n",
    "        common_cols &= set(cols)\n",
    "\n",
    "round2df = pd.concat(\n",
    "    [\n",
    "        pd.read_parquet(pq_file, columns=common_cols)\n",
    "        for pq_file in round2_profiles_path.rglob(\"*feature_selected.parquet\")\n",
    "    ],\n",
    "    axis=0,\n",
    ")"
   ]
  },
  {
   "cell_type": "code",
   "execution_count": 4,
   "metadata": {
    "execution": {
     "iopub.execute_input": "2025-07-03T22:23:39.601190Z",
     "iopub.status.busy": "2025-07-03T22:23:39.601063Z",
     "iopub.status.idle": "2025-07-03T22:23:39.603356Z",
     "shell.execute_reply": "2025-07-03T22:23:39.603094Z"
    },
    "jukit_cell_id": "aVI8vugmwG"
   },
   "outputs": [],
   "source": [
    "round2_figure_path = pathlib.Path(\"round2_figures\")\n",
    "\n",
    "int_figure_path = round2_figure_path / \"interactive_figures\"\n",
    "int_figure_path.mkdir(parents=True, exist_ok=True)\n",
    "\n",
    "static_figure_path = round2_figure_path / \"static_figures\"\n",
    "static_figure_path.mkdir(parents=True, exist_ok=True)"
   ]
  },
  {
   "cell_type": "markdown",
   "metadata": {
    "jukit_cell_id": "LoSAqYPOTT"
   },
   "source": [
    "# High-Level Data Characteristics"
   ]
  },
  {
   "cell_type": "code",
   "execution_count": 5,
   "metadata": {
    "execution": {
     "iopub.execute_input": "2025-07-03T22:23:39.604450Z",
     "iopub.status.busy": "2025-07-03T22:23:39.604239Z",
     "iopub.status.idle": "2025-07-03T22:23:39.606128Z",
     "shell.execute_reply": "2025-07-03T22:23:39.605877Z"
    },
    "jukit_cell_id": "sW5ZMw6kqN"
   },
   "outputs": [
    {
     "name": "stdout",
     "output_type": "stream",
     "text": [
      "(1050944, 445)\n"
     ]
    }
   ],
   "source": [
    "print(round2df.shape)"
   ]
  },
  {
   "cell_type": "code",
   "execution_count": 6,
   "metadata": {
    "execution": {
     "iopub.execute_input": "2025-07-03T22:23:39.607153Z",
     "iopub.status.busy": "2025-07-03T22:23:39.606974Z",
     "iopub.status.idle": "2025-07-03T22:23:39.956130Z",
     "shell.execute_reply": "2025-07-03T22:23:39.955803Z"
    },
    "jukit_cell_id": "QGVlS1LFBd"
   },
   "outputs": [
    {
     "name": "stdout",
     "output_type": "stream",
     "text": [
      "Are there any NaN entries?\n"
     ]
    },
    {
     "name": "stdout",
     "output_type": "stream",
     "text": [
      "Answer: False\n"
     ]
    }
   ],
   "source": [
    "print(\"Are there any NaN entries?\")\n",
    "print(f\"Answer: {round2df.isna().any().any()}\")"
   ]
  },
  {
   "cell_type": "markdown",
   "metadata": {
    "jukit_cell_id": "BiLzGTCOop"
   },
   "source": [
    "## Metadata Exploration"
   ]
  },
  {
   "cell_type": "code",
   "execution_count": 7,
   "metadata": {
    "execution": {
     "iopub.execute_input": "2025-07-03T22:23:39.957223Z",
     "iopub.status.busy": "2025-07-03T22:23:39.957106Z",
     "iopub.status.idle": "2025-07-03T22:23:39.988988Z",
     "shell.execute_reply": "2025-07-03T22:23:39.988601Z"
    },
    "jukit_cell_id": "bkvItDJtwz"
   },
   "outputs": [
    {
     "data": {
      "text/plain": [
       "array(['BR00145438', 'BR00145440', 'BR00145439', 'BR00145818',\n",
       "       'BR00145817', 'BR00145816'], dtype=object)"
      ]
     },
     "execution_count": 7,
     "metadata": {},
     "output_type": "execute_result"
    }
   ],
   "source": [
    "round2df[\"Metadata_Plate\"].unique()"
   ]
  },
  {
   "cell_type": "code",
   "execution_count": 8,
   "metadata": {
    "execution": {
     "iopub.execute_input": "2025-07-03T22:23:39.990098Z",
     "iopub.status.busy": "2025-07-03T22:23:39.989946Z",
     "iopub.status.idle": "2025-07-03T22:23:39.996217Z",
     "shell.execute_reply": "2025-07-03T22:23:39.995920Z"
    },
    "jukit_cell_id": "u1vbFm46Nk"
   },
   "outputs": [
    {
     "data": {
      "text/plain": [
       "array([24, 72, 48])"
      ]
     },
     "execution_count": 8,
     "metadata": {},
     "output_type": "execute_result"
    }
   ],
   "source": [
    "round2df[\"Metadata_time_point\"].unique()"
   ]
  },
  {
   "cell_type": "code",
   "execution_count": 9,
   "metadata": {
    "execution": {
     "iopub.execute_input": "2025-07-03T22:23:39.997108Z",
     "iopub.status.busy": "2025-07-03T22:23:39.997009Z",
     "iopub.status.idle": "2025-07-03T22:23:40.002171Z",
     "shell.execute_reply": "2025-07-03T22:23:40.001892Z"
    },
    "jukit_cell_id": "FD0QX97dxp"
   },
   "outputs": [
    {
     "name": "stdout",
     "output_type": "stream",
     "text": [
      "\n",
      "Unique timepoints:\n"
     ]
    },
    {
     "data": {
      "text/plain": [
       "array([24, 72, 48])"
      ]
     },
     "execution_count": 9,
     "metadata": {},
     "output_type": "execute_result"
    }
   ],
   "source": [
    "print(\"\\nUnique timepoints:\")\n",
    "round2df[\"Metadata_time_point\"].unique()"
   ]
  },
  {
   "cell_type": "code",
   "execution_count": 10,
   "metadata": {
    "execution": {
     "iopub.execute_input": "2025-07-03T22:23:40.003181Z",
     "iopub.status.busy": "2025-07-03T22:23:40.002976Z",
     "iopub.status.idle": "2025-07-03T22:23:40.008240Z",
     "shell.execute_reply": "2025-07-03T22:23:40.007960Z"
    },
    "jukit_cell_id": "bQ8nuxMNiR"
   },
   "outputs": [
    {
     "name": "stdout",
     "output_type": "stream",
     "text": [
      "\n",
      "Unique Seeding Densities:\n"
     ]
    },
    {
     "data": {
      "text/plain": [
       "array([ 1000,  2000,  4000,  8000, 12000])"
      ]
     },
     "execution_count": 10,
     "metadata": {},
     "output_type": "execute_result"
    }
   ],
   "source": [
    "print(\"\\nUnique Seeding Densities:\")\n",
    "round2df[\"Metadata_seeding_density\"].unique()"
   ]
  },
  {
   "cell_type": "code",
   "execution_count": 11,
   "metadata": {
    "execution": {
     "iopub.execute_input": "2025-07-03T22:23:40.009134Z",
     "iopub.status.busy": "2025-07-03T22:23:40.009038Z",
     "iopub.status.idle": "2025-07-03T22:23:40.014509Z",
     "shell.execute_reply": "2025-07-03T22:23:40.014212Z"
    },
    "jukit_cell_id": "4gr4EFd0uD"
   },
   "outputs": [
    {
     "data": {
      "text/plain": [
       "Metadata_seeding_density\n",
       "12000    353135\n",
       "8000     301038\n",
       "4000     211533\n",
       "2000     119399\n",
       "1000      65839\n",
       "Name: count, dtype: int64"
      ]
     },
     "execution_count": 11,
     "metadata": {},
     "output_type": "execute_result"
    }
   ],
   "source": [
    "round2df[\"Metadata_seeding_density\"].value_counts()"
   ]
  },
  {
   "cell_type": "code",
   "execution_count": 12,
   "metadata": {
    "execution": {
     "iopub.execute_input": "2025-07-03T22:23:40.015336Z",
     "iopub.status.busy": "2025-07-03T22:23:40.015247Z",
     "iopub.status.idle": "2025-07-03T22:23:40.040537Z",
     "shell.execute_reply": "2025-07-03T22:23:40.040234Z"
    },
    "jukit_cell_id": "ApqdsLAWPX"
   },
   "outputs": [
    {
     "data": {
      "text/plain": [
       "array(['A-673', 'SKNMC', 'CHP-212', 'NB-1', 'KPNYN', 'SHSY5Y', 'U2-OS',\n",
       "       'SKNDZ', 'CHLA-10', 'CHLA-25', 'CHLA-113', 'CHLA-200', 'CHLA-218'],\n",
       "      dtype=object)"
      ]
     },
     "execution_count": 12,
     "metadata": {},
     "output_type": "execute_result"
    }
   ],
   "source": [
    "round2df[\"Metadata_cell_line\"].unique()"
   ]
  },
  {
   "cell_type": "code",
   "execution_count": 13,
   "metadata": {
    "execution": {
     "iopub.execute_input": "2025-07-03T22:23:40.041611Z",
     "iopub.status.busy": "2025-07-03T22:23:40.041416Z",
     "iopub.status.idle": "2025-07-03T22:23:40.048261Z",
     "shell.execute_reply": "2025-07-03T22:23:40.047996Z"
    },
    "jukit_cell_id": "qrhKm33V6n"
   },
   "outputs": [
    {
     "data": {
      "text/plain": [
       "844"
      ]
     },
     "execution_count": 13,
     "metadata": {},
     "output_type": "execute_result"
    }
   ],
   "source": [
    "round2df[\"Metadata_Image_Count_Cells\"].nunique()"
   ]
  },
  {
   "cell_type": "code",
   "execution_count": 14,
   "metadata": {
    "execution": {
     "iopub.execute_input": "2025-07-03T22:23:40.049152Z",
     "iopub.status.busy": "2025-07-03T22:23:40.049055Z",
     "iopub.status.idle": "2025-07-03T22:23:40.080986Z",
     "shell.execute_reply": "2025-07-03T22:23:40.080713Z"
    },
    "jukit_cell_id": "003J5TqTgq"
   },
   "outputs": [
    {
     "data": {
      "text/plain": [
       "Metadata_Plate\n",
       "BR00145440    387332\n",
       "BR00145439    225179\n",
       "BR00145818    155145\n",
       "BR00145438    137004\n",
       "BR00145817     82987\n",
       "BR00145816     63297\n",
       "Name: count, dtype: int64"
      ]
     },
     "execution_count": 14,
     "metadata": {},
     "output_type": "execute_result"
    }
   ],
   "source": [
    "round2df[\"Metadata_Plate\"].value_counts()"
   ]
  },
  {
   "cell_type": "markdown",
   "metadata": {
    "jukit_cell_id": "4wuYOqL58c"
   },
   "source": [
    "# UMAP Figures"
   ]
  },
  {
   "cell_type": "code",
   "execution_count": 15,
   "metadata": {
    "execution": {
     "iopub.execute_input": "2025-07-03T22:23:40.082066Z",
     "iopub.status.busy": "2025-07-03T22:23:40.081880Z",
     "iopub.status.idle": "2025-07-03T22:24:02.032634Z",
     "shell.execute_reply": "2025-07-03T22:24:02.032281Z"
    },
    "jukit_cell_id": "L34lE7aARC"
   },
   "outputs": [
    {
     "name": "stderr",
     "output_type": "stream",
     "text": [
      "/home/camo/projects/pediatric_cancer_atlas_analysis/1.exploratory_data_analysis/.venv/lib/python3.11/site-packages/umap/umap_.py:1952: UserWarning: n_jobs value 1 overridden to 1 by setting random_state. Use no seed for parallelism.\n",
      "  warn(\n"
     ]
    }
   ],
   "source": [
    "vdf = round2df.groupby(\n",
    "    [\"Metadata_cell_line\", \"Metadata_seeding_density\", \"Metadata_time_point\"]\n",
    ").sample(n=50, random_state=0)\n",
    "\n",
    "umap_obj = UMAP(random_state=0)\n",
    "umapdf = umap_obj.fit_transform(\n",
    "    vdf.loc[:, ~vdf.columns.str.contains(\"metadata\", case=False)]\n",
    ")\n",
    "umapdf = pd.DataFrame(umapdf, columns=[\"umap0\", \"umap1\"])\n",
    "umapdf = umapdf.assign(\n",
    "    Metadata_cell_line=vdf[\"Metadata_cell_line\"].reset_index(drop=True),\n",
    "    Metadata_seeding_density=vdf[\"Metadata_seeding_density\"].reset_index(drop=True),\n",
    "    Metadata_time_point=vdf[\"Metadata_time_point\"].reset_index(drop=True),\n",
    ")\n",
    "umapdf[\"Metadata_seeding_density\"] = umapdf[\"Metadata_seeding_density\"].astype(str)\n",
    "umapdf[\"Metadata_time_point\"] = umapdf[\"Metadata_time_point\"].astype(str)"
   ]
  },
  {
   "cell_type": "code",
   "execution_count": 16,
   "metadata": {
    "execution": {
     "iopub.execute_input": "2025-07-03T22:24:02.034127Z",
     "iopub.status.busy": "2025-07-03T22:24:02.033844Z",
     "iopub.status.idle": "2025-07-03T22:24:05.890612Z",
     "shell.execute_reply": "2025-07-03T22:24:05.890228Z"
    },
    "jukit_cell_id": "ieSDyFKFQC"
   },
   "outputs": [
    {
     "data": {
      "text/plain": [
       "PosixPath('/home/camo/projects/pediatric_cancer_atlas_analysis/1.exploratory_data_analysis/.venv/lib/python3.11/site-packages/choreographer/cli/browser_exe/chrome-linux64/chrome')"
      ]
     },
     "execution_count": 16,
     "metadata": {},
     "output_type": "execute_result"
    }
   ],
   "source": [
    "# Needed to display in chrome\n",
    "kaleido.get_chrome_sync()"
   ]
  },
  {
   "cell_type": "code",
   "execution_count": 17,
   "metadata": {
    "execution": {
     "iopub.execute_input": "2025-07-03T22:24:05.891844Z",
     "iopub.status.busy": "2025-07-03T22:24:05.891737Z",
     "iopub.status.idle": "2025-07-03T22:24:08.802016Z",
     "shell.execute_reply": "2025-07-03T22:24:08.801615Z"
    },
    "jukit_cell_id": "OZ5YdxJEuG"
   },
   "outputs": [
    {
     "data": {
      "application/vnd.plotly.v1+json": {
       "config": {
        "plotlyServerURL": "https://plot.ly"
       },
       "data": [
        {
         "hovertemplate": "Metadata_cell_line=A-673<br>umap0=%{x}<br>umap1=%{y}<extra></extra>",
         "legendgroup": "A-673",
         "marker": {
          "color": "#2E91E5",
          "symbol": "circle"
         },
         "mode": "markers",
         "name": "A-673",
         "showlegend": true,
         "type": "scattergl",
         "x": {
          "bdata": "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",
          "dtype": "f4"
         },
         "xaxis": "x",
         "y": {
          "bdata": "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",
          "dtype": "f4"
         },
         "yaxis": "y"
        },
        {
         "hovertemplate": "Metadata_cell_line=CHLA-10<br>umap0=%{x}<br>umap1=%{y}<extra></extra>",
         "legendgroup": "CHLA-10",
         "marker": {
          "color": "#E15F99",
          "symbol": "circle"
         },
         "mode": "markers",
         "name": "CHLA-10",
         "showlegend": true,
         "type": "scattergl",
         "x": {
          "bdata": "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",
          "dtype": "f4"
         },
         "xaxis": "x",
         "y": {
          "bdata": "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",
          "dtype": "f4"
         },
         "yaxis": "y"
        },
        {
         "hovertemplate": "Metadata_cell_line=CHLA-113<br>umap0=%{x}<br>umap1=%{y}<extra></extra>",
         "legendgroup": "CHLA-113",
         "marker": {
          "color": "#1CA71C",
          "symbol": "circle"
         },
         "mode": "markers",
         "name": "CHLA-113",
         "showlegend": true,
         "type": "scattergl",
         "x": {
          "bdata": "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",
          "dtype": "f4"
         },
         "xaxis": "x",
         "y": {
          "bdata": "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",
          "dtype": "f4"
         },
         "yaxis": "y"
        },
        {
         "hovertemplate": "Metadata_cell_line=CHLA-200<br>umap0=%{x}<br>umap1=%{y}<extra></extra>",
         "legendgroup": "CHLA-200",
         "marker": {
          "color": "#FB0D0D",
          "symbol": "circle"
         },
         "mode": "markers",
         "name": "CHLA-200",
         "showlegend": true,
         "type": "scattergl",
         "x": {
          "bdata": "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",
          "dtype": "f4"
         },
         "xaxis": "x",
         "y": {
          "bdata": "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",
          "dtype": "f4"
         },
         "yaxis": "y"
        },
        {
         "hovertemplate": "Metadata_cell_line=CHLA-218<br>umap0=%{x}<br>umap1=%{y}<extra></extra>",
         "legendgroup": "CHLA-218",
         "marker": {
          "color": "#DA16FF",
          "symbol": "circle"
         },
         "mode": "markers",
         "name": "CHLA-218",
         "showlegend": true,
         "type": "scattergl",
         "x": {
          "bdata": "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",
          "dtype": "f4"
         },
         "xaxis": "x",
         "y": {
          "bdata": "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",
          "dtype": "f4"
         },
         "yaxis": "y"
        },
        {
         "hovertemplate": "Metadata_cell_line=CHLA-25<br>umap0=%{x}<br>umap1=%{y}<extra></extra>",
         "legendgroup": "CHLA-25",
         "marker": {
          "color": "#222A2A",
          "symbol": "circle"
         },
         "mode": "markers",
         "name": "CHLA-25",
         "showlegend": true,
         "type": "scattergl",
         "x": {
          "bdata": "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",
          "dtype": "f4"
         },
         "xaxis": "x",
         "y": {
          "bdata": "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",
          "dtype": "f4"
         },
         "yaxis": "y"
        },
        {
         "hovertemplate": "Metadata_cell_line=CHP-212<br>umap0=%{x}<br>umap1=%{y}<extra></extra>",
         "legendgroup": "CHP-212",
         "marker": {
          "color": "#B68100",
          "symbol": "circle"
         },
         "mode": "markers",
         "name": "CHP-212",
         "showlegend": true,
         "type": "scattergl",
         "x": {
          "bdata": "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",
          "dtype": "f4"
         },
         "xaxis": "x",
         "y": {
          "bdata": "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",
          "dtype": "f4"
         },
         "yaxis": "y"
        },
        {
         "hovertemplate": "Metadata_cell_line=KPNYN<br>umap0=%{x}<br>umap1=%{y}<extra></extra>",
         "legendgroup": "KPNYN",
         "marker": {
          "color": "#750D86",
          "symbol": "circle"
         },
         "mode": "markers",
         "name": "KPNYN",
         "showlegend": true,
         "type": "scattergl",
         "x": {
          "bdata": "lUWJwJrg1cAW65fA3b3OwHMvg8DVOIzAWjyuwPGLwMBWycbAbj7UwGDWjsAheo/AjCHrwImwn8BkIMfA7SHawAKiqcDEUQ/BPCnWwHYNjcB1XNHAl93pwIVaE8HlCJPAxzOSwAPE9MCjru3AXdYHwaEjysCsxpjA2HGKwLYLhMC/FdrAj4KHwJ7AwMBisbjATDDewI85n8ARSqjA8oX+wAJAosDHYJrAa/T/wDa7vMBLu5rAX+ASwauLB8HsvNTAAxEEwW1Qs8BH+ODAUw4DwY3aDsH6yuDAAej6wB6ywMDPlaTAx1GuwMXVEcFmawHBFLvvwI5HAMEHuxfB5ZcXwfCr4MAUjQTBwU//wLvDusAYj/zAzLkXwYw458CnpA3BNG7jwI/I3cBFmZ/A7QTNwDnmqcCLPffAuKv7wDEmr8DRDK3A8PYBwbyTF8F5Os3AF/PgwFWhBcFp+QTBz38CwUZ2CcE9+ADBg+wGwc3qp8Dh6O/ARWujwPVkwcDxkBfBuO3vwJSMn8AgTOnAyVMCwfc6y8DBl5PAHmP+wJlLu8AH//rA54exwJpdn8BxNt/AC5ICwT0hrMCPi/jAtbYLwUnDu8BQUOjAK/yuwI9qA8FwTbHAZMkIwSUsFcH2PvzA/U0KwRy96sBsYs/AzjLkwASwxMBZmbTAGI7nwAkF78Aed8nAwVrUwGxr/8AM39PACNUIwUgMmsDqUgnBlGPEwJCvvcAW0wLBLE7kwCWRCMHse6bA41AHwbcf/sC4KeDA5Ub7wFnd+MCFUqLA6z7IwFKS7sD9JofAuj7cwI6NrsAwsqzAGGunwIA2gsCSFMnAC5GdwH3pksBOyd3AcSKRwJwpqcA8mYfAAKCwwKGbo8A3LArBOUICwUUjvsAWC5vAUnyrwP8+9cCaaw/BbhUAwVVe78A8RIXAxXWTwHkGA8G5gArBumHqwHKWAsEwq9TAhGTwwLd6jMCpWNPAjEoSwVCGoMAQnqjAtN6IwOIQgcByt7rApi+ZwAaAh8AdXanA6DiOwBMTD8HPEpvA0RifwC22gMBr7aXAs+fywM41m8BAa/LAe2z7wHS8ssBULPTACZ7qwB2iAMEULuLAFOXowEko2sBDQ+vAxqfCwPnBscCFR+TAKiz6wMRF4cCJXHbAKFf0wOD8AMEmXwbBGrj8wJDC+sD38wbBJgqTwB58hcAiYNnALmDrwM8C3sA2lADBM3LfwIelB8GZqffAuFXVwPtWAcH8rNjAKRznwD+A+MAmOcrAP1CmwP4lncBr4ubAG4wKwRpG3cDD4P/ALKPKwJi+48DlX4vAFKuBwJR388B4ltrApR7kwO4h28D0lvzA7SkEwQSuBMGQatHA7qX2wDyK+MCBxZjAwMvuwIyu/MCkSvPAn4O1wN8fzsAMwAfBh6DcwNBWwsB3cufAB0mwwC1YAsFqyPvAsM2WwGo+9cDQQf3ArVbMwEYjhcCreOjAFwcAwZ8AA8HbpwDBj4cLwW5yA8GJgMbAUcPjwFH28sBSJwLByNHDwCOJ98AkrwHBYmqmwOCJ9cDDh/rAIuuVwKsgr8DpttHAN43pwJ0bEMHAzufAQSHtwP5/A8GfVhHB+ksNwYUHwcDIaMzAYa2iwKWu+cBEwvLAby4Swd1Ei8BB1QvBoizuwO8KfcAju53AaQnTwIgdx8AXuufA4q+dwKzUmsDWeaPAcOWWwDAUiMCup/zAWTrAwLIxtsDxjMnA+bKIwELgsMDl1JrABGrZwOZj0MBNohDB3dy7wGDWqcA6pHzAppgQwfwxE8GjRPTAO8+MwHO308D48BLByzKZwCmS/8C7bhTBy7rwwANj18Bmi5HA6P3mwPkr3sBcCM3AMYkPwY36xcAdifnANVTywIOsBMFPGLDAFaoEwakavcCBbwPB83sGwdWSpMBYperA5Bj8wJT51sCJ0vjAEaftwAGMAMFBrP3AkcugwKPjscBY2t/ARwGrwKWrE8EbB8PAZ/zzwL99wcBkU7/ARUT7wBKp48C2MgLBlKkIwboa68CBmJbABwQGwbtQyMCyBu3AXsjzwKZnBcFbdfTAon2swPIzw8D52vXAUejIwO0cycDhNvHAhVPVwCJnBMFWxb7AebfbwNSGD8EMzgbBnSqrwH/U58Dr0rXA1jT0wFtgAMHE1qPAlwQBwV1m+sAru8bAG2vywBapxsBZbfvAuRTTwNQ5m8BMRt/Ap2ECwXytksDo+o7AZ6LWwB8S/cCfZ/bAZdQDwRwfBcGiEgTBHQ/fwHkjoMDlkqDAFfePwKRS+8DpuOvAPQDSwL/9rcBzB8vAclfZwF1R3cDhX+jAoskDwff/l8CBA5rAWqHqwDqyCsGD14TAlYjnwN5JxMB3X7rAqxgAwQfE4sBf0fLAeyzSwHAK6MDcRNbAO+vAwIJTeMDT+wvB9grUwHhCg8CPIHzAWKHqwKYvasAfXg/BD3vtwDG7DsGS55fAO8bmwP8V4sDNK+vArWDqwKdu2sDD/9nAnivnwOjz4cDQIqPACgeSwA84jMClbpLAJ0niwISw2MDvueTAYbbPwHVwk8DBJ5LAgL2ZwHIahsBz0YDAc4XWwIv+hcBeTI3AoHzMwFnws8BPh43AUbOCwD3068Df1BLBIMCAwJmrecAVd8fAvUr0wH4OkMBtlpbAUt3owLRjlsCr09XAbpnEwOASAME3/P7A8JrkwMmPsMDCLvfAn9KBwOl24sCWXQHB2nDmwLzF98BlDqXAViTXwImu8cC1lwPBDAQEwe/V+sApAODAufbGwLYpwMCIJrTA6b63wCD808DoDP3AbAYNwYPU5sARS97A3PKMwMVy9sAkRujA/SyDwIw/+MC4gQTBX2KQwMDWBMHBuajAs87xwF6/rcDIpOjAx57ywJVizMATiQXBKgvmwPKIpMAR3vfAZ4T1wPCGtsBhxZ/AJYf4wIO1vsAoNs/A8yjUwPykv8DQOp3AJuIBwcWQ9cDyGt3AXj34wKgx08D5/NbAqST6wF4h5cDCgaPAV76mwLMzqMAG/YLADkmwwJ2qwcCZKPDAHmLawC9iAMGBAu/AeU+zwHpN0MA/HQHB3nGfwCP74cAwRbDADjHmwEk8t8A+DPnA9lD7wHDqCMHLec/AwtXvwMxA7sDwhgPBskjHwMoY0sAdU7zArIrFwF++AMGanAXBttrcwCUMv8CL3HXA+ODbwI9UgsBM7HvAbF6ewE9rzcAHSObAKrHWwB9HE8EroOjAagCSwKLUjMDpFuTAMsbpwPS/8sAkF+LAPneGwKTFpsAil73AQz6CwPQK58CCe4vAj0TTwDZ0xcD7epjAsM2hwGnA1sBuDczAv/aQwOhH2MAIqvPALlvSwCpurMCG+JvAuHXZwGKmrMDOh8jATq2MwGfjtcAB7YfAJ/KlwK+SisA9p37A5ECCwC4q38C0nIXA/1RswC+y6cApx+HAyPPjwO1w7cCg6JjAx+q9wO3c0sCQVPjA5lSywLfH1sDrw/3AzfWkwJxa5sC/ooTA+57DwOQq5cBfQXPAnm3hwL9a1sAgPPzAFRO8wNHY0sAoFdjAcrirwAuWpsBLcgTBnHnswFM2rsCGcOjAGG2vwAQW9sAScdPAzNcQwdtAocBen+jAkzrJwIC41cCI9nnAEMacwPfM4MDzvt3AKKMCweir2MBBdrrALi7jwMiN68Dw/YXAOvQQwQ5hwcCAd73A/kn3wChq38BVJuzAnveqwJ6e9MCsisHAW8jKwA==",
          "dtype": "f4"
         },
         "xaxis": "x",
         "y": {
          "bdata": "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",
          "dtype": "f4"
         },
         "yaxis": "y"
        },
        {
         "hovertemplate": "Metadata_cell_line=NB-1<br>umap0=%{x}<br>umap1=%{y}<extra></extra>",
         "legendgroup": "NB-1",
         "marker": {
          "color": "#EB663B",
          "symbol": "circle"
         },
         "mode": "markers",
         "name": "NB-1",
         "showlegend": true,
         "type": "scattergl",
         "x": {
          "bdata": "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",
          "dtype": "f4"
         },
         "xaxis": "x",
         "y": {
          "bdata": "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",
          "dtype": "f4"
         },
         "yaxis": "y"
        },
        {
         "hovertemplate": "Metadata_cell_line=SHSY5Y<br>umap0=%{x}<br>umap1=%{y}<extra></extra>",
         "legendgroup": "SHSY5Y",
         "marker": {
          "color": "#511CFB",
          "symbol": "circle"
         },
         "mode": "markers",
         "name": "SHSY5Y",
         "showlegend": true,
         "type": "scattergl",
         "x": {
          "bdata": "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",
          "dtype": "f4"
         },
         "xaxis": "x",
         "y": {
          "bdata": "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",
          "dtype": "f4"
         },
         "yaxis": "y"
        },
        {
         "hovertemplate": "Metadata_cell_line=SKNDZ<br>umap0=%{x}<br>umap1=%{y}<extra></extra>",
         "legendgroup": "SKNDZ",
         "marker": {
          "color": "#00A08B",
          "symbol": "circle"
         },
         "mode": "markers",
         "name": "SKNDZ",
         "showlegend": true,
         "type": "scattergl",
         "x": {
          "bdata": "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",
          "dtype": "f4"
         },
         "xaxis": "x",
         "y": {
          "bdata": "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",
          "dtype": "f4"
         },
         "yaxis": "y"
        },
        {
         "hovertemplate": "Metadata_cell_line=SKNMC<br>umap0=%{x}<br>umap1=%{y}<extra></extra>",
         "legendgroup": "SKNMC",
         "marker": {
          "color": "#FB00D1",
          "symbol": "circle"
         },
         "mode": "markers",
         "name": "SKNMC",
         "showlegend": true,
         "type": "scattergl",
         "x": {
          "bdata": "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",
          "dtype": "f4"
         },
         "xaxis": "x",
         "y": {
          "bdata": "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",
          "dtype": "f4"
         },
         "yaxis": "y"
        },
        {
         "hovertemplate": "Metadata_cell_line=U2-OS<br>umap0=%{x}<br>umap1=%{y}<extra></extra>",
         "legendgroup": "U2-OS",
         "marker": {
          "color": "#FC0080",
          "symbol": "circle"
         },
         "mode": "markers",
         "name": "U2-OS",
         "showlegend": true,
         "type": "scattergl",
         "x": {
          "bdata": "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",
          "dtype": "f4"
         },
         "xaxis": "x",
         "y": {
          "bdata": "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",
          "dtype": "f4"
         },
         "yaxis": "y"
        }
       ],
       "layout": {
        "legend": {
         "title": {
          "text": "Metadata_cell_line"
         },
         "tracegroupgap": 0
        },
        "template": {
         "data": {
          "bar": [
           {
            "error_x": {
             "color": "#2a3f5f"
            },
            "error_y": {
             "color": "#2a3f5f"
            },
            "marker": {
             "line": {
              "color": "#E5ECF6",
              "width": 0.5
             },
             "pattern": {
              "fillmode": "overlay",
              "size": 10,
              "solidity": 0.2
             }
            },
            "type": "bar"
           }
          ],
          "barpolar": [
           {
            "marker": {
             "line": {
              "color": "#E5ECF6",
              "width": 0.5
             },
             "pattern": {
              "fillmode": "overlay",
              "size": 10,
              "solidity": 0.2
             }
            },
            "type": "barpolar"
           }
          ],
          "carpet": [
           {
            "aaxis": {
             "endlinecolor": "#2a3f5f",
             "gridcolor": "white",
             "linecolor": "white",
             "minorgridcolor": "white",
             "startlinecolor": "#2a3f5f"
            },
            "baxis": {
             "endlinecolor": "#2a3f5f",
             "gridcolor": "white",
             "linecolor": "white",
             "minorgridcolor": "white",
             "startlinecolor": "#2a3f5f"
            },
            "type": "carpet"
           }
          ],
          "choropleth": [
           {
            "colorbar": {
             "outlinewidth": 0,
             "ticks": ""
            },
            "type": "choropleth"
           }
          ],
          "contour": [
           {
            "colorbar": {
             "outlinewidth": 0,
             "ticks": ""
            },
            "colorscale": [
             [
              0.0,
              "#0d0887"
             ],
             [
              0.1111111111111111,
              "#46039f"
             ],
             [
              0.2222222222222222,
              "#7201a8"
             ],
             [
              0.3333333333333333,
              "#9c179e"
             ],
             [
              0.4444444444444444,
              "#bd3786"
             ],
             [
              0.5555555555555556,
              "#d8576b"
             ],
             [
              0.6666666666666666,
              "#ed7953"
             ],
             [
              0.7777777777777778,
              "#fb9f3a"
             ],
             [
              0.8888888888888888,
              "#fdca26"
             ],
             [
              1.0,
              "#f0f921"
             ]
            ],
            "type": "contour"
           }
          ],
          "contourcarpet": [
           {
            "colorbar": {
             "outlinewidth": 0,
             "ticks": ""
            },
            "type": "contourcarpet"
           }
          ],
          "heatmap": [
           {
            "colorbar": {
             "outlinewidth": 0,
             "ticks": ""
            },
            "colorscale": [
             [
              0.0,
              "#0d0887"
             ],
             [
              0.1111111111111111,
              "#46039f"
             ],
             [
              0.2222222222222222,
              "#7201a8"
             ],
             [
              0.3333333333333333,
              "#9c179e"
             ],
             [
              0.4444444444444444,
              "#bd3786"
             ],
             [
              0.5555555555555556,
              "#d8576b"
             ],
             [
              0.6666666666666666,
              "#ed7953"
             ],
             [
              0.7777777777777778,
              "#fb9f3a"
             ],
             [
              0.8888888888888888,
              "#fdca26"
             ],
             [
              1.0,
              "#f0f921"
             ]
            ],
            "type": "heatmap"
           }
          ],
          "histogram": [
           {
            "marker": {
             "pattern": {
              "fillmode": "overlay",
              "size": 10,
              "solidity": 0.2
             }
            },
            "type": "histogram"
           }
          ],
          "histogram2d": [
           {
            "colorbar": {
             "outlinewidth": 0,
             "ticks": ""
            },
            "colorscale": [
             [
              0.0,
              "#0d0887"
             ],
             [
              0.1111111111111111,
              "#46039f"
             ],
             [
              0.2222222222222222,
              "#7201a8"
             ],
             [
              0.3333333333333333,
              "#9c179e"
             ],
             [
              0.4444444444444444,
              "#bd3786"
             ],
             [
              0.5555555555555556,
              "#d8576b"
             ],
             [
              0.6666666666666666,
              "#ed7953"
             ],
             [
              0.7777777777777778,
              "#fb9f3a"
             ],
             [
              0.8888888888888888,
              "#fdca26"
             ],
             [
              1.0,
              "#f0f921"
             ]
            ],
            "type": "histogram2d"
           }
          ],
          "histogram2dcontour": [
           {
            "colorbar": {
             "outlinewidth": 0,
             "ticks": ""
            },
            "colorscale": [
             [
              0.0,
              "#0d0887"
             ],
             [
              0.1111111111111111,
              "#46039f"
             ],
             [
              0.2222222222222222,
              "#7201a8"
             ],
             [
              0.3333333333333333,
              "#9c179e"
             ],
             [
              0.4444444444444444,
              "#bd3786"
             ],
             [
              0.5555555555555556,
              "#d8576b"
             ],
             [
              0.6666666666666666,
              "#ed7953"
             ],
             [
              0.7777777777777778,
              "#fb9f3a"
             ],
             [
              0.8888888888888888,
              "#fdca26"
             ],
             [
              1.0,
              "#f0f921"
             ]
            ],
            "type": "histogram2dcontour"
           }
          ],
          "mesh3d": [
           {
            "colorbar": {
             "outlinewidth": 0,
             "ticks": ""
            },
            "type": "mesh3d"
           }
          ],
          "parcoords": [
           {
            "line": {
             "colorbar": {
              "outlinewidth": 0,
              "ticks": ""
             }
            },
            "type": "parcoords"
           }
          ],
          "pie": [
           {
            "automargin": true,
            "type": "pie"
           }
          ],
          "scatter": [
           {
            "fillpattern": {
             "fillmode": "overlay",
             "size": 10,
             "solidity": 0.2
            },
            "type": "scatter"
           }
          ],
          "scatter3d": [
           {
            "line": {
             "colorbar": {
              "outlinewidth": 0,
              "ticks": ""
             }
            },
            "marker": {
             "colorbar": {
              "outlinewidth": 0,
              "ticks": ""
             }
            },
            "type": "scatter3d"
           }
          ],
          "scattercarpet": [
           {
            "marker": {
             "colorbar": {
              "outlinewidth": 0,
              "ticks": ""
             }
            },
            "type": "scattercarpet"
           }
          ],
          "scattergeo": [
           {
            "marker": {
             "colorbar": {
              "outlinewidth": 0,
              "ticks": ""
             }
            },
            "type": "scattergeo"
           }
          ],
          "scattergl": [
           {
            "marker": {
             "colorbar": {
              "outlinewidth": 0,
              "ticks": ""
             }
            },
            "type": "scattergl"
           }
          ],
          "scattermap": [
           {
            "marker": {
             "colorbar": {
              "outlinewidth": 0,
              "ticks": ""
             }
            },
            "type": "scattermap"
           }
          ],
          "scattermapbox": [
           {
            "marker": {
             "colorbar": {
              "outlinewidth": 0,
              "ticks": ""
             }
            },
            "type": "scattermapbox"
           }
          ],
          "scatterpolar": [
           {
            "marker": {
             "colorbar": {
              "outlinewidth": 0,
              "ticks": ""
             }
            },
            "type": "scatterpolar"
           }
          ],
          "scatterpolargl": [
           {
            "marker": {
             "colorbar": {
              "outlinewidth": 0,
              "ticks": ""
             }
            },
            "type": "scatterpolargl"
           }
          ],
          "scatterternary": [
           {
            "marker": {
             "colorbar": {
              "outlinewidth": 0,
              "ticks": ""
             }
            },
            "type": "scatterternary"
           }
          ],
          "surface": [
           {
            "colorbar": {
             "outlinewidth": 0,
             "ticks": ""
            },
            "colorscale": [
             [
              0.0,
              "#0d0887"
             ],
             [
              0.1111111111111111,
              "#46039f"
             ],
             [
              0.2222222222222222,
              "#7201a8"
             ],
             [
              0.3333333333333333,
              "#9c179e"
             ],
             [
              0.4444444444444444,
              "#bd3786"
             ],
             [
              0.5555555555555556,
              "#d8576b"
             ],
             [
              0.6666666666666666,
              "#ed7953"
             ],
             [
              0.7777777777777778,
              "#fb9f3a"
             ],
             [
              0.8888888888888888,
              "#fdca26"
             ],
             [
              1.0,
              "#f0f921"
             ]
            ],
            "type": "surface"
           }
          ],
          "table": [
           {
            "cells": {
             "fill": {
              "color": "#EBF0F8"
             },
             "line": {
              "color": "white"
             }
            },
            "header": {
             "fill": {
              "color": "#C8D4E3"
             },
             "line": {
              "color": "white"
             }
            },
            "type": "table"
           }
          ]
         },
         "layout": {
          "annotationdefaults": {
           "arrowcolor": "#2a3f5f",
           "arrowhead": 0,
           "arrowwidth": 1
          },
          "autotypenumbers": "strict",
          "coloraxis": {
           "colorbar": {
            "outlinewidth": 0,
            "ticks": ""
           }
          },
          "colorscale": {
           "diverging": [
            [
             0,
             "#8e0152"
            ],
            [
             0.1,
             "#c51b7d"
            ],
            [
             0.2,
             "#de77ae"
            ],
            [
             0.3,
             "#f1b6da"
            ],
            [
             0.4,
             "#fde0ef"
            ],
            [
             0.5,
             "#f7f7f7"
            ],
            [
             0.6,
             "#e6f5d0"
            ],
            [
             0.7,
             "#b8e186"
            ],
            [
             0.8,
             "#7fbc41"
            ],
            [
             0.9,
             "#4d9221"
            ],
            [
             1,
             "#276419"
            ]
           ],
           "sequential": [
            [
             0.0,
             "#0d0887"
            ],
            [
             0.1111111111111111,
             "#46039f"
            ],
            [
             0.2222222222222222,
             "#7201a8"
            ],
            [
             0.3333333333333333,
             "#9c179e"
            ],
            [
             0.4444444444444444,
             "#bd3786"
            ],
            [
             0.5555555555555556,
             "#d8576b"
            ],
            [
             0.6666666666666666,
             "#ed7953"
            ],
            [
             0.7777777777777778,
             "#fb9f3a"
            ],
            [
             0.8888888888888888,
             "#fdca26"
            ],
            [
             1.0,
             "#f0f921"
            ]
           ],
           "sequentialminus": [
            [
             0.0,
             "#0d0887"
            ],
            [
             0.1111111111111111,
             "#46039f"
            ],
            [
             0.2222222222222222,
             "#7201a8"
            ],
            [
             0.3333333333333333,
             "#9c179e"
            ],
            [
             0.4444444444444444,
             "#bd3786"
            ],
            [
             0.5555555555555556,
             "#d8576b"
            ],
            [
             0.6666666666666666,
             "#ed7953"
            ],
            [
             0.7777777777777778,
             "#fb9f3a"
            ],
            [
             0.8888888888888888,
             "#fdca26"
            ],
            [
             1.0,
             "#f0f921"
            ]
           ]
          },
          "colorway": [
           "#636efa",
           "#EF553B",
           "#00cc96",
           "#ab63fa",
           "#FFA15A",
           "#19d3f3",
           "#FF6692",
           "#B6E880",
           "#FF97FF",
           "#FECB52"
          ],
          "font": {
           "color": "#2a3f5f"
          },
          "geo": {
           "bgcolor": "white",
           "lakecolor": "white",
           "landcolor": "#E5ECF6",
           "showlakes": true,
           "showland": true,
           "subunitcolor": "white"
          },
          "hoverlabel": {
           "align": "left"
          },
          "hovermode": "closest",
          "mapbox": {
           "style": "light"
          },
          "paper_bgcolor": "white",
          "plot_bgcolor": "#E5ECF6",
          "polar": {
           "angularaxis": {
            "gridcolor": "white",
            "linecolor": "white",
            "ticks": ""
           },
           "bgcolor": "#E5ECF6",
           "radialaxis": {
            "gridcolor": "white",
            "linecolor": "white",
            "ticks": ""
           }
          },
          "scene": {
           "xaxis": {
            "backgroundcolor": "#E5ECF6",
            "gridcolor": "white",
            "gridwidth": 2,
            "linecolor": "white",
            "showbackground": true,
            "ticks": "",
            "zerolinecolor": "white"
           },
           "yaxis": {
            "backgroundcolor": "#E5ECF6",
            "gridcolor": "white",
            "gridwidth": 2,
            "linecolor": "white",
            "showbackground": true,
            "ticks": "",
            "zerolinecolor": "white"
           },
           "zaxis": {
            "backgroundcolor": "#E5ECF6",
            "gridcolor": "white",
            "gridwidth": 2,
            "linecolor": "white",
            "showbackground": true,
            "ticks": "",
            "zerolinecolor": "white"
           }
          },
          "shapedefaults": {
           "line": {
            "color": "#2a3f5f"
           }
          },
          "ternary": {
           "aaxis": {
            "gridcolor": "white",
            "linecolor": "white",
            "ticks": ""
           },
           "baxis": {
            "gridcolor": "white",
            "linecolor": "white",
            "ticks": ""
           },
           "bgcolor": "#E5ECF6",
           "caxis": {
            "gridcolor": "white",
            "linecolor": "white",
            "ticks": ""
           }
          },
          "title": {
           "x": 0.05
          },
          "xaxis": {
           "automargin": true,
           "gridcolor": "white",
           "linecolor": "white",
           "ticks": "",
           "title": {
            "standoff": 15
           },
           "zerolinecolor": "white",
           "zerolinewidth": 2
          },
          "yaxis": {
           "automargin": true,
           "gridcolor": "white",
           "linecolor": "white",
           "ticks": "",
           "title": {
            "standoff": 15
           },
           "zerolinecolor": "white",
           "zerolinewidth": 2
          }
         }
        },
        "title": {
         "text": "UMAP by Cell Line"
        },
        "xaxis": {
         "anchor": "y",
         "domain": [
          0.0,
          1.0
         ],
         "title": {
          "text": "umap0"
         }
        },
        "yaxis": {
         "anchor": "x",
         "domain": [
          0.0,
          1.0
         ],
         "title": {
          "text": "umap1"
         }
        }
       }
      }
     },
     "metadata": {},
     "output_type": "display_data"
    }
   ],
   "source": [
    "fig = px.scatter(\n",
    "    umapdf,\n",
    "    x=\"umap0\",\n",
    "    y=\"umap1\",\n",
    "    color=\"Metadata_cell_line\",\n",
    "    title=\"UMAP by Cell Line\",\n",
    "    color_discrete_sequence=px.colors.qualitative.Dark24,\n",
    ")\n",
    "\n",
    "fig.show()\n",
    "fig.write_image(\n",
    "    static_figure_path / \"round1_cell_line_umap.png\", width=2000, height=1200\n",
    ")\n",
    "fig.write_html(\n",
    "    int_figure_path / \"round1_cell_line_umap.html\",\n",
    "    full_html=True,\n",
    "    include_plotlyjs=\"embed\",\n",
    ")"
   ]
  },
  {
   "cell_type": "code",
   "execution_count": 18,
   "metadata": {
    "execution": {
     "iopub.execute_input": "2025-07-03T22:24:08.803610Z",
     "iopub.status.busy": "2025-07-03T22:24:08.803455Z",
     "iopub.status.idle": "2025-07-03T22:24:11.380829Z",
     "shell.execute_reply": "2025-07-03T22:24:11.380475Z"
    },
    "jukit_cell_id": "XjfIInxjNN"
   },
   "outputs": [
    {
     "data": {
      "application/vnd.plotly.v1+json": {
       "config": {
        "plotlyServerURL": "https://plot.ly"
       },
       "data": [
        {
         "hovertemplate": "Metadata_seeding_density=1000<br>umap0=%{x}<br>umap1=%{y}<extra></extra>",
         "legendgroup": "1000",
         "marker": {
          "color": "#edf8fb",
          "symbol": "circle"
         },
         "mode": "markers",
         "name": "1000",
         "showlegend": true,
         "type": "scattergl",
         "x": {
          "bdata": "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",
          "dtype": "f4"
         },
         "xaxis": "x",
         "y": {
          "bdata": "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",
          "dtype": "f4"
         },
         "yaxis": "y"
        },
        {
         "hovertemplate": "Metadata_seeding_density=2000<br>umap0=%{x}<br>umap1=%{y}<extra></extra>",
         "legendgroup": "2000",
         "marker": {
          "color": "#b2e2e2",
          "symbol": "circle"
         },
         "mode": "markers",
         "name": "2000",
         "showlegend": true,
         "type": "scattergl",
         "x": {
          "bdata": "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",
          "dtype": "f4"
         },
         "xaxis": "x",
         "y": {
          "bdata": "gbcAQFk9/EBw1M5A5i3Ev0qzZkBkJPs/zRJvP1Duub9x4SNAvp6lQCiDOUAnilpAIkXiQPgaikD6kH4/Eb0YQFcYDkAqbLC/MDyKQAEwyEDOorBALDXZv/E/5j8lmJNAr0jRQCrFJkBcopW/+ryivwV5nUBi2JZAVsmuQEWo07+Na32/chycvyUmnr9KMRBAPzfQv3v3xr+NzJG/bwPDvwFpOEAFV4m/j4FqQCFjbz9D895AomBqQG1s5EATu+NAf3yuQMNCWkAadDxALPL+viPeBUAONYJAtEy+QGKnfEADZcFAURrMPxSfkEDvmci/GoRoQMV78D9L/jhANGhbQObD075RAoNAi1Z+QG5UbkASaopAIU5kv5peg0C07cG+O26ZQCqiwUCWf6k/zg2YQPoPIEBGheg/DFOIQMwu+UCt0EBAERCQQMgXZkAd/aS/sBEVQMNKe0Asl2C/tl3wP237jz9lcRpAPhSNQEr/uUAm6co/hDi5P/fJQ0CY4uo/57dFQM11jUBH6VNAyuqEQFcezkAKABNAK0hKQBXPQEAyQihAD6yMQLBkvkDJU7xAfsOWQF7Cuj+snsBAYRa5QAkvZ0D9QUpAJ3HCQMJHOL9WwcpAoUKoQONzkkBxRyxAHObdP8/PTEDu3v8/oRvNPzDXoUAr26JAO3aKQODO30DAyYlAAd9WQDrbl0Bw24tAoAnHQDcZXb+uxddAjj2BQLDAuUCSDTVAcse2QAV3ZT5VwBNAxY2UQMoH2kBz51pAgSshQIaIxEC6TiFA3+UNQA5IsEC5Eq9Af2FEQLiqQUAG0rhAPMDLQHak3UBxX9M/LdqoQFKDiUDco3ZACdD0QNFiDEHdRbC/k9b4P+kv2EBLA9lAZtibQLCN/kAlqiNAkWmCQNaXiEDzhM5As02dQDbInEAcG85AM5irQICBXkBFqyFAr2iEQHspsEBfi0RASxXxQFCcn0CpYIhAZYiPQDf6fr8K3B5AaI1sQOD8NEAEItpAQGubQJTJh0BTu/I/n9YAQUrKw0DIDbZA0Bm9QL909kADFk5A93KzQOEUQkB4+RRBWJqlQFfFzUCLZ6hAxluEQOVuFUEsLlhAgxmRQJschUB+YopA79imQExgkUB8DlJA8hLhQEtvJkCl98ZAAuEZQIhasz8fnrFAFTlqQIuzyEBLVL9AwNqvQGFsE0HvznZA0pWcQNC6DEFDaNNAMKuqQDKXvz9/irRAHs2yQJIzk0DnAkJAcVXJQLxfsT+Lnd0/FOqjQALiuEDG7cNA6VSgQEKtoECPv5ZAKyqWQO1XnECMmZtARQWcQM/M3UDwmsFASyxpQCm7r0ADoDBArZSGQKpZkEAAWalA8JSuQN3IfkAxe7RAolWrQEtT1kAEiHlA0IWqQCKEo0CGVRJBZVahQJyGnkBxpJ1A8kC2QKe8v0BSoUdArpG1QOlLl0B8JrtAHTWfQJ3GzUDlBLJACfCLQEVdDkEcra9AUzGpQA+VKEDH6JVAvZbCQN6VtUCag2dAWJaVQPIWhkBelLVAYelMP1QujECSRZ5AS0mOQJIzo0DBdqdA6wWzQLEqg0Bewu0/EQ+zQBQttEDOEo1AwevCv1s5E7/AO91A+IOkPyHp9kAPFyxA+xpjv73o0EDJvOZAdgPzP423FUCRRRe/49PJQIoQmT/TeUFAykSCP8Zam79bEdJAWcO+P89Ox0AMLOc/uuavP2UsDUAbgj1ABJ5FQKmJvUAxfDNA5ww9QNKUkj8FZmtAtwnkP+iuwL8mU8S/KP8oP5FeH0C8SK+/Zg58v3MtyD+YZrg/m9CcP8AOar8+56A+Z6qFQEZJN7/+5qK/sYKNvxoCRkAjMik+d6GWP7kAXL+huLw/vBfIvzVMyD9aFetAZJK0QOqdKkBQf9JAAQy3P91z8j8US8E/hKQFQHoc+D/+bbQ/IUK2P3JOtkA1yClA/svcQNVWAkHWAsdAmt2lQODEhr9rUcm/ke3vQDwfV79DV3ZAMAVDQM1dQr3pBitAUNPUPx7pkECL/MtAUkyzP17QtECiiYU/4euqP4GMiEBbRcg/Y4q9PxJGlL9a1MJA7n95QJ8Z+j+u2bc/1GuEv56E9L4yFk1A3SFcQO78SUBPXi1AVm38PQz20ED1Ep5A6V6VP9ZCnUBbS5tAl2A2Pw6POD+s44JAzEHRQBYGOkB1Ac9Aw8v0P7hfyD+XWMs/8L9aQMgq5UB5yhVAuaMrQHy5tEC7fU9A+t+dP1J/0EBshHBAlLWhQGGyID6uy4tAxXyyQHRxLECoPANAEHbQP3GOvD/ap8hAUdVcv+St10CU0eI/gNh6P/jF4z8w0hFBmyHPP/T8SECSv4dA3v3+QBqJlkADeYNAGqinQAFYwkAwSkxACcqaQE+y1z+v9qdA0tTgQL0zxED7jQJBbAX9QF3WnkBLzOtA5LygQJzLwkBfRcZAkyT/QG6D6kCwH6dAFaDlQMtWAUG0xuNAKV7uQEln+0BHPgVB0THtQNWQpUDzpKlAOX3sQB2w6kDW7ABBdlzxQMvNnEAxgfFAcAq4QN5N6UDBCehAft8CQZfOxEACueBA2SXdQNmMsUDzgfZA/Q/iQDPgp0Ar7uhAszvnQMxy+0BslOZAns/2QM5IAkHmjexAjcjhQIpF6kCM/PNAjp/nQDXu3UArVetA98XFQFnr3ECq4N5Ad4QAQatZ5kAZquVAL4v5QGT+3UAI6vNA4JDaQKiO6UAvkt1A85HyQAZ+1UD318Q/A7HWQPoLz0AP4dpAarfcQGi54kAvNOVAePjpQKI/80Cb0txAOQfxQN7I1UBbANpAZ+CNQHAt10CeXNxA4YPtQNMw5EB+XoZABf/qQBcX40CRL79A25LbQBOe4UBBjFxAtYYAQf7kbUBcD95ABw7pQPhoTb5XgehAqL/pQF+S40DUDOpAfI68QGaGuUAxh85Arp0DQRhT50D0j8dAyQjrQNB3oUBYR+lAxxvFQABF20DpUfJAJbffQD3u3kASkOlAcifoQOjmuUC9iNlAf5WLQHAahECG0MZAEonXQDOh5UBoIc1AsZ6+QPsT4kDW1OVAQAX/QLxW60Dac9pARVDDQPFj0ECPu9dA1amxQOfisUCNP7xALBd/QA9uxkDpquNAsMrWQMY48kDAHsRAyF3GQM0d20DQT7JAko+VQDNNtkDHmd5ASdsoQKi7eUCsn7xAR+9rQDf24kDP5Zi/CIwdPS9md7/hjpq+sjxHQJQdRkB2Mt5AZBjmvQvby0C7pWdAZUbaQNyA3UDsFUFAS0+mQFLi6z8A/te+BitEQMtnlEDjfMQ/EGquQPBOvj8zSbxAH5lXvxjj3j8LT10/GMT3QGalBEBJiIFA9KfbQAem6b6mAA8/WOvwQISstj9ictk/KybiQMvqwkCvFLJAv1W/QKGI/UAlhutADAPUP57Wmb+iq+pAqXSxQBsAv0CR+95AZmbFQNwlvUAed7xAciSdP875zj/ukI8/TQ7FP4xKwD9CVdVAgufWQGtj6EAbtCZA0FykQD7y1UDOipw+oo21QIkEvkAAKiE9s+I9P4daxUA/Dfo953MPP8etqkDYkTE/AG0oQCh9xEAtDKJAIVLkQP4CykAzoBhBzX7xQDsusUCjgbm+7DwDQUq3qz/PHVO+iIQBQdisJ0DNF+dAev7PQAlrIkDMZ6k/rLxaPqWwIkCj2g6/lcsHvzVriUCMq2y9AWIiQAbDyUBctNVAXw/8vgdeND/AT71ASrDMPxmLwEBsKtRAfKikQJxuwEDpFJ9A+F+2QC1G1kA/6q5AfHyoQIKEx7+lGcVAsYiSQOOFgECjsa5AhPiuQDiOqkCIacdAlzPJQNN3IUAEI4NAQhq3P0fy70BzxHlA4RefQB+Kj7+0SaBAVld/v4y+20DZQ7ZA7imfQMBs10AhnStA4SmzQKnxsj8L2OdAdGKwQO33UUBDi8lAKMdGQPmK00BlGahAvkwXQBr9ZECLW8RAHojJPHJAsECr2o++iNidQMdYNEAXyJU/9NmPPYL210Cpdzs+EiWXQNOmhz9xahdAoMpYP5Xdvj8wp+4/XfzPQOXDlT/DBrw/yzvePyAlRkCrTdQ/JlL5P2eq7zvwRqtAzSC8QJyNRD6yqJ1AjDh9PzUxkUBRHnA/oMJFQGd5yr79m38+R1VBQMQ3ZT7Lrj8/XWhSv4+4Nj7khyRAOvSXvkdiHUBcvTU/RhwIQLlgDEBXpHQ8OXD9vqhdekDX/2Y+OeasP6vjRT3TPhxAWoaDPzNRFUBJHKM+5choP1GkEEA1ly5AN/5SvmK4Dz8Ijlk/yValQLUBjz7sVvQ+UOyNP8HrGj8Oo/i+jqsSP0T4LED229NANoGTQATOwkBLgCE+Tz5QPwfxDz+5fbC+EtcJQB9e5D9KUhg/JB+wP1ae27srT4s/Rf7WQGGGIEAif+0/GzSWvpupFj8hEK1ABPsbQHGqtED8drU/Q+erP9r/9T2O46Y/+YnsP1sgzj+XcMM/G7WKQFWFjz98oqlAK5KDQMa3pj/Pgqy9+NQXP7x9Pz/nY5E/ebyjvmoGyL/HmrNArRYHP1worUC0o6ZAKyNeQCdgEUGKNZBAmnYAP4ZvyT/7hJE/kse0QOSAnz9XG5hA6h6PQLEIrL2B41c+5BcGQEwNkDwceE6+YoaGPxpM3T+6bYk+p+YDQBdHwT/tw20+to+IPwXw0kBlSBJATpykPOIw8r24ztk/56orPr3V0T+Y7wi+4iNGQDy9AEDmVGxAQh8mQIILAEA4wzo/6AUSQIcPTD597TpArQeLPnk9lz2oM3Q/o30zQOgsSUAaip5AzzaMQP//fr9hMtQ+pherv1MGQUDlVqxAn1E1QKM6AEASU8M/er+lQHLZNEAndM1AJTrJP7nzSEBZhiJASh0CvzRXtkDIB8FAljlcQEXumEAaK4JAaI7rP613A0AVooJAY2a5QO4ssz9SHLVAx7trQPMhz77SpkW/jOa5QPICgUCU/B5A6gHPQAGxV0AxS6g/K6YMQCtFw0At4aJAqhVAQFcYFECDO5dAzAsZQDqCNEBmNMNAqAYfQCWGOUAqy5BAwdtiP8MGyD9mum1Aizj4P6vKp0CF70NAwxO5P1cRQL4BsL1Aw385QF4bwECAlx1Ap+cvQG8BqUBdOLo/9ccvQEaumEBb2dBAbD0GQLlzBUCygKBAdgTzPwmYFUAyqCBAzwO7P2rf4j9H3SpAQ6TTQILjvUA/5cQ/7q6iQLdvlD9G3kg/F8igP9Ic2z+ZhMQ/9w6cPwVdXj/JlqlAYjrFQCamA0BPgr1AhU4NQAmgC0BCI5tAxq/KQE2Cq0ArgytAgzfLQINnRUCJhHFA8hbDQAfqq0DRZ4ZAoxO9QBeLLUB45zhAc0gTQBIVU0Ajw2dAK1bAQMJqu0BsgrhAIF3BQDFFVUByDK1ANa2tv6AllkDhXKJA1GkFQJ/JgEDO8xlAH0WeQGRDsUCD1rVAThZHQIpRYkBA4KtAAVMjQAVLmkD9ca0/rzO2QK88O0DUxJVAwZmYQMlYsUDuTbxAgMynQJSJUUDZ4LZAvJ8DQFSlh0CvaqtAu7S0QE3wp0CHZ7tAHdWBQMIIZEBf+ZtAcMm1vbf7KUAaxTS/41DSPwepIEBq9ae+Fp8IQE3bMkB6D32+eikaQPTW+z+MLjdAAqKbQAm4wj8c0QNAtIB+QARYj78mNBlAzHvNP8Zlrj8rk0ZAaXZgQMJNgEAvxClAGOYBQLP58z/95YlAk02tQC+qcEDEbvk8y/DtP9pR0T+tp12/i2ItQEi0TUDd+Ns/v1RwQDkrVUCpe5C/HGUEQKUAjkCh/uQ/O50uQGTJLUAvFEpAJ5Z1QDimR0B2xqVA1j1APwYtGkDdehdAcw+VPk19JkAoG45AtxRNvxWfiz46X6w/XXxrv34jn7/2TXS/0I4EQNNO7j96taS///PbvALa3z+Mrvs/Tn0qQMfunkDKVge/PSvwvnTe4b6d5M2+cDe5QCiBT0DIKL2/1NLdvnVxtz/Anaw/I1GXQCACGr4hLQe/B6DIv1nyGL/w1jM/s7fBQHYw4r4/5jVAwTP5P7uQ+T+8diC/zPifQOYNt79TJQe/MpljQHo/lkAsXh9A2T4kQK9ljz8S+5y/HFedQKVrhkDRrFa/PgjMPnAMQj9JWBxAuVn5P/0VRb/HRV1ADNnLQJNv3D3g66E/30EhQHOet79qZrxASBAuQEcprz9I9Yi/ADoQQKB57j5auKe+jeAHQEVjIL/ZPJw/fu6wQFABnkAu6HO/ySo6vyeKxz44TpBA5Ta7QKd1oD5FhxhApzQwP5ZEub7kqV4/ONwEQEFNt0Dc5q4+/wCyQDbtpD/aNo4+8g/IQMyaJUBH2IU/fk3RPx2CYUAMENY/IUSIvxRAcT/Q8TJA1fn4vd3wo0AXrbM/DWPCP1ZmC0AsDipA5eOPQNG9DL+cP2I9j67JPugUID6Yzxg/MMFqvlf38D3X9Lg/SZTUP1mVbD7maF1ASGDCQPAcjb5Hf1I88nNnQJYmQr/tQ44/PhAAQN1cuz/K8AU+IHqTQBoqlz6TjyNAp9PGP+pRAD9LiKy8tnSxvsjWw0BmHlRAXSczv/Ikwz84hGA/wNgKP7iuOb70584/IjZAvajI0j+DksK9ZXjoPwIOvz9eNbe9PmMlP8IJ7z6BIgC/TOi0P8Uqh7+AsHY/FXQ0P1j6dT5kv1o/weY4P5mwMz0TBMw+3G6xve8KhL6h7hm/POb6vqUNkT/NyW8/DkmZPwkVs71kkA6//b0kP6U8Fr6LRxU/Oc9qPkveAj9v7OQ/y4NHP1uVjb80Soq/2BwCv/JVm70O/Sa+oC8Nv4ousT8W0C2/Tzqbv1q8CkDRWME/bRVwv1VFU78nUWG/SazJP94Ir75knZtA6x1kP+/dFT8+nYy+mdQ7vpyBqz99u0E+i5SJv5TsCT+vCWM9SaEvP8MmbECK61JAXC4mPoTCvT1sT+a+Ft1svi3kjb+kGPo/o2/ZP43ku0CvYeo/lfsoQImwFD7Q63g/ZusKQHZKar6Juik/Z1bEvGCiVL+AYUy/EJNQP7cq+D+UezM//nGAQLYsCkDk5ga/EVFuP2iJoEBsaHJABd55QC0nTD0SPo9AeitMQJNx1z9L4XQ/jA6+P5+De0D3X5k/4DotP1m5Qz5v/RY/kD7WPy/ID0D/nv4+4egnv4XhaT+txRlAGf/zQDTrjUDTApdA+31lQMCiyEAJa7xAJ5RPQKuX+kA2CONAtATGQJ1uvUBWP9ZAw1GRQMs/IkAVjYJAFSOEQACjq0C0P7a/19XoP9Xq9D+R+H1Aan2aQD3kz0DPsadAw7SlQIMhjEBV3/JATW+xQOJ8wEA7M6y/a0yAQNmiQ0DM/Ku/bM2zQCEopEDUKIRAQLjCQDZKiUAfpuo/a4/CQP+sx0DfCkFAxD6MQIy39EBStr9A0uxyQMGwVUBv3+xArK+7QP84/T97cANArJQaQNYRh0CHWPc/U474Pz7KEkBEpcNAXMPVQFZmYUDi2NZANIuQQHBxTUAEdCpA0La5QK4Np0CVZXNAz2CFQA7PXkBFe8VA3SadQKygi0A7aXtAPgfLQFmij0DnHtZAob0GQHxvUUAPSTVA+awnQCUpxkBARApANESmQEOVOkARqrRApNVEQGcLoUCjWH5A+boDQP0ohUBI7DxA2IKkQFiPDkDhg9RAzs6TQHgWTUAn07xAodOUQBb5yUDa5rlACarDQBJax0Ceii9ASy1YQBRjjUBC4IhAx3agQIUdIUCTA7xAO/myQHN6HUCJmIpA3HKZQNLC/UBGbLRAWKYdQGUvXECY8zdAVdNYQHPkg0AcEZ5ArqqJQFq6rEBdb19AAl8yQPou/T8Fo8NAS66AQAJeZ0AGq2VAB6zKQJAvxkDf5x5AUx+BQNP8TUDiJUBAPCAvQEYFpUAKaQdAUH6uQOHcKkBJn/U/Dc4gQP4OoEC95rBAf0vTPzEwzEAGArtAhKeRQKgWbkA1jJZA9i49QObnG78ag4tAJh+cQIGRo0Adj5ZAPuWAQPLuR0A4ZBJAVNOeQJVOh0B8oTdAFxqOv362MEAzx2pAflZEQCzSk0CzjjZARW0NQCO5k0Bewj9A9sp8QJMqjkCyHVpABlXoP9GSdkDgPWhAWAfOQHkGtb8004JAc5mTQIqbmUAmk6JAqBk8QOPIK0BRJXdAiB2tQPcbYECAeqlAmT+RQNgNpr8/ZEa/UHWaQFtogkBjSFFA9LYGQDiR/UAmNZJAiYhAQFoFSEBEQPU/RHaeQPsPD0BqLHpAcuNlQFaLp0CctZpAJ/uEQICwikA8dHe/igqGQOWRuECSO6hA31eFQFFmkUDNXYxA5B+wQBI4IUC21opAHtVsQD0ldkAOpxZASSGOQASlhECoXoZAsMGRQAYtHED2b4hANgdjQNT0gEB60YZA1BCJQNQXWEB7vX1Aqb52QP5pIUBrN35ADjEfv0K8O0A1gbhAGuEkQCMmzECj8I1AP5d3QIDrh0Atfa9AoTtaQHCakkBbWn5AtsScQA50q0C0S5xA/naoQLG5vkCiKatAE7T6vlrL7kBWy55AMMCyQI4njkAo4LY/ht5TQJCEiEDEWqtAljChQBKZ3kAhfZFAiLKrQJ/rpUACT/w/ilSiQBtKsEA1UbhAl5SwQNS+LkCpf7RARLCvQALCsEAnhKhAF9fMQLf4oECOAhBAGA3LQE7+qT8ZpHy/xmiYQAEoukAVUgu/E2HNQCeVXz8PkCQ/PynBQFIpu0DGTY9AM/uzQPKWzUAV2LI/E4mrQM0eukCtgmG/Dc/GP59/b7+R6SRAplm1v05Y1D+hU7a/PqcOQBIHG0DBKF8/j0Chv1vUnL8dA2VA6Q8OQMmOvj8QpDC/KqCGv1BqkkDJ9JRA6p6aQAH8m0DvjVdAREDdPyANREBbuYI/54dfQKXylr9YtlU/ruXyP8VYQEBgB52/khKwv605SUB5f6m/P156v3i6mz+F8BVA2TDuP9hFOUDzrg9ACL+aQBc+MUCei4q/EaY6QDRzlEB9G8y/GzC2v3lX/z/SvWhAoJSrv3Bvo78UhxhB0b5nQDFHgkBDrRNA1gt+QNX/8j8q6n1A6vo9QAESM0CpC4hAkOJ5QN5EkL67mLG+evQdQEiTXkDRNbA/QWaKQKIuU0BG4w1BofEpQAp0wz9mzBhBRoWSQBxSk0ARQ4lAzXyTQNfMkEAuKJBAwZ59QOd6K0AtUlZAGMjMQKSyij9AADFANhcYQeFILb/nGXtAVJ2/P1EhV0APlKlAe9mNQM8LYkD5UNU/nomVv61vpUAZuIhAG9E4QKN5mkAOZpRAN8E8viZZWEA0JBdBtWVCQMhjT0DzU4JAkvaiQMF8sEAlOvE/alQOQEAtk0ChL/c/t58eQKLiYUBrzLlAI6OxQMM9ZEBADkdADRNMQAXntEBRuxdB2GZTQFsnUUBN3i1AvI0XQSBzdkC2ifw/v2OPQAYZFkHU5XhAYvx+QPg5P7+lRe4/tm1hQAIpEED5Ge8/7PKDQPszzT+kXm9AQXRqQNqWj0Cf/VlAWnswQFxuZUBR6c0/t8V8PyqRpEDDX/1AbwgcQA8Rh0D79YZA2eXDQJRmx0DKEMtAwIbIQNnk2kDBqM5AWF3OQOmu00B49BdAdHHXQMqH2UDfYsdArDPEQCuR2kDYnMZA2m/MQAJozUBglcpA81fAQDIq0kCX9cpAFLvGQEYqy0BkPNNAZRTMQFxR1ECifdFAWabHQI20yEBRct5AJ3fXQH0bwEChVcFAoIvPQHCOyEBFuLpAkQDOQO5IzEBa39dAfsLTQOMh1kA0lb5AcFXMQNnIy0CgN9ZAzRLFQOmiz0CX7sdAXLvJQAuPykAmH6BAWEBnQJTU0EC8jYFA7GmZQJ5DK0BKjJi/lzaSQCF8yEAHrJBA73DDQL37n0A0q2BAZpKGQA8MdEDlYv1A6TqDQKZ9o0BjH7dA2WDBQL5Sw0B4hB1A0AXIQAoj0UA0gppAD22zQHTkVUCtf6FAd4rJQFH0m0D0BsdAjNqvQL1YmEDakyVAYM6MQMAPOUBuzo1AhiDTQBgC1EBf1IhAoROUQIyByUCw6tRAt1HTQG//T0Dvh6NAYTLLQJ1JtUD+f99AkfYzQIxNEUEVO49AKXBVQGXVhkDV5RdA5vfCPzFwhUCiTXVAG3uZQM0+JkDjPIdAhNKYQMIOjkBrV3BA6S+hvxl+rT80sIBAaFPYQCondEBYiVlAmoXlP2TZaUCLxmZA0nNeQHFTfUBFjB1AiSNjQJo+WECG4XpAtKuIQPYDg0C8mi9ASAyOQHuQnEAWurVA1MGtQCosX0DofblAr8eAQFXuN0CaATBAq93kP/XEjUC2EnZAiJXnPx3kXkC+GXxAcRQDQJIxd0AccSBA",
          "dtype": "f4"
         },
         "yaxis": "y"
        },
        {
         "hovertemplate": "Metadata_seeding_density=4000<br>umap0=%{x}<br>umap1=%{y}<extra></extra>",
         "legendgroup": "4000",
         "marker": {
          "color": "#66c2a4",
          "symbol": "circle"
         },
         "mode": "markers",
         "name": "4000",
         "showlegend": true,
         "type": "scattergl",
         "x": {
          "bdata": "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",
          "dtype": "f4"
         },
         "xaxis": "x",
         "y": {
          "bdata": "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",
          "dtype": "f4"
         },
         "yaxis": "y"
        },
        {
         "hovertemplate": "Metadata_seeding_density=8000<br>umap0=%{x}<br>umap1=%{y}<extra></extra>",
         "legendgroup": "8000",
         "marker": {
          "color": "#2ca25f",
          "symbol": "circle"
         },
         "mode": "markers",
         "name": "8000",
         "showlegend": true,
         "type": "scattergl",
         "x": {
          "bdata": "L6QJwSgLgcDbMr7Av/nnwARQCcF0zfnAIb/kwLMZvsB6zqvAFpXrwPUWBcEH2NLAXvzKwDbB88BkIgnBw/fUwM6VA8HPLd/AA2UFwUgEysAMSerAf4utwHfYvcDgz8PAu+28wIayAME0rsPAA2UFwaAp4sCfcwLB9NbOwKk65sBZPvLADQzywDAL48DbUuXAMvUFwdggAcFfZwjBTPMKwYCL6cA1tPDAHILuwIA08cAF59DA8FUCwdkOAsHXorbAhcS9wJ5s3MD9YbDA6hCmwMcmhsCcAKPADAMEwfjuBMFhfA3BWDEIwdLcC8H2gorA35LNwNx4nMC+uJ7AVxwDwfgrlcBzQ5XAfeoDwatH4MDTNAjB694FwdbgdMB0ddzAP1WSwPUz38A9Ce/AcHsGwQTWB8F1mpfAMmQEwXHdd8DYX43Au8TlwO30BMEBJcHAN12uwPuovMB0SMPAB4nrwLSG28CYYQbBL6zZwBj35MAOC77ANZrCwET0g8AUXgrBfANzwKrp7cCzYqrAuc4BwXJKz8BmeAbBCAzuwIjE4cC/CcTA5k3rwHGkycBOl8PAZPqwwHgjrcD2zxtB6PAdQewtHkE8ANXAa77QwBRIA8GqjQvBWKydwKSqvsDBPpzADoHcwFzK/cBZhgDBQ3LhwFgIHkFOCOTA+fPOwNHt3sCjbJHA3VHXwLutBsHV4vzADrTVwMpK48CXWPfAfqoFwb6Q/cDIeuDAmIi7wHy90cAIBtHA5zH2wMb6p8CVG+3A0brYwBlOtcBXEB5Bh9HAwGse4MDtmbPAsybtwIbK7cAUzrXAnW7/wChW/cBWdvPA1I6vwIX+5sAFcAnBgE4EwbC5y8Aqi9HAxinGwFYYA8FxCAjB3UvWwGQ118CqcuHA14jqwLrvzcB5ngDBudTkwEXlqsAEmP7AID/SwPRZAcHy3+bAXPHrwNS13MDZyeHA1EcVwZD/6MCZ4cHAMD4IwRELF8EDAAXBjozLwB5lDMH7ePXAS4jkwCNX+MAZwQfBPzPOwMAcxcAqGenAg/rrwCzP8sAcV+DA/mUDwQXj+8BKAgzBOaSSwMyp3cCGEYbA9fHiwEND9sChLHLAB8XXwHE1BsEiPO3AOmYEwd/gxcBo//7AVlEDwbHPCcGlrePAPckPwXg9icChmwzBOHGkwDbWjcAOxNXAPzqQwD1oBMHhuQHBEfcNwdMyBcEhmQnBNCrWwNbLkMDQHBPB2H4PwaRl0sCaQdXARv7hwAuMvcCkU7TA+qoMwQvLBsFf0f3A5zP/wKn4B8ERywLBwavowNjzE8HtUPrAgYGRwIpmkcDd7OTAQO75wPKPwMDH2eLA0T7lwA272cB2L+zAZHTawCTP4MDdydjA+5n5wEKm48CjuLnAdTblwPDk7cD6ItbA0izTwKyi5MAUlOnAs0n+wK7oAsGTZpzAqw/QwNVx5sBWX7/Asp3cwDDYl8CoMenATeipwHu/tsDEG7TAofvjwI6D6MCEyufAxuS3wLf7tMBJitnAFH0MwQaD68DaAYbAF+fkwLsH6sD1HN7AdBbmwFTc0MDlxOjA3UniwGc72sAdT+fAlI7YwBA5l8AWkOfAw0r3wPJJ7cDc+wLB++PRwKihosDoEs/A0BbjwMOs1cBM7sXAEVCawPZjlMCX48XAEtKmwP998cAxyv3AHsbWwNoTjcD0yKnAJ3q/wFKtBcFLNAHBD7dfwDMIu8A7m5rAyQKwwOutYsCf+2LAHQ7gwAGcm8BhatTA0Ey+wH0CC8HE4tzAfwXfwDYw6cCO8+fA2gpfwHUE1sDGXOHAeRimwByCscCP7K/A3hacwJb8m8BOfvjACtiMwLn6BcG/afzAum/UwOzM1cA1BufAsLG4wJ4r78DP4NzAtrzjwBa038A4x9DALwjawO1b4cC4+eTAAUvswJvO5cC4m+nA3t21wB/nmsBKdNTAGa+NwI4f2sCAqvjA65fvwH75ssCVHcjAdTXkwBakyMC38tvAFe65wPapisDpw5LAqCfVwCud2sANR8TAmn74wOwQBsGmvILARBL3wCndg8C8k9/AhccOwbWqB8FOx+zAlBbbwC5X4cDoUsPAc3nZwKhr/cBPDeXAxnLawNUsj8DJseTAtAPrwNwZlsAEZLHAc6bhwL2V4MCZNb3AerjgwN/Ir8BUVcPA972UwFOKsMDg0d3AOXC5wLPP1sA5BqjAcQ2VwPvNtsCXO/fA9RegwOx2ysBO6bfAVYmswG1r/cCTWJLAy3W7wIjKxcAE5anAA07PwHPfGcHqW6bA9DaiwLoYrMCngafAAy6lwEQ7tsCFaszAvw3IwPLosMAMRJXA8YeuwERvlMDpX4nAvtrawCnhxMCOh77AIfkNwRnCycBiTMDAHZPnwFn4lMA4wdzARPjQwD9i+MAlWdvA27IHwRrP3cCZ94jAyo3GwOYXqMAVDAvBxCPMwJxHw8BZ88vA556nwDmF28AH+/LAQCS8wOeG6sApv87AxXWuwNU6lsBm3snAWigCwWITtsAY+YTAygCSwPXBC8HFbezA2mDZwBC3k8BQw6bAsj+mwDFJ88A6+bvAjyHswMad+sA7veHA7cXHwFXH8cAEBOnAH86kwMQ7uMA6H5jAS3TbwJV22sCP6ufA+LXwwD4e+MDkrePA7LjrwNT1wMADZK/AqN2cwONgucAeJwfBr+fKwLBJgcB5dbnA2IKDwEiFosBTLfjA/GvqwBhT7cBP5dXAEM/jwKjuzcD1f8PA/hoHwULPu8AEtLHATjf9wCnR18A1fsnAuPemwEEsscCfc7jA4sUOwSCx6sB3nQfB2B0QwZKtmcBzmdLAJGPXwGDjp8BSfqLAo1zfwLgXlMCW/5DAOdCfwEN6BMGSaKHAvpbjwFmo0MCfXgTBDtwGwdsLy8COxtDAf6TJwCBJ98AIFf/Ajwu6wOJk/8BU5Z/AvxnjwKmyucDc0MLAEHmVwG/Q5MDxu+fA58LTwBUN5sDGuubAeKmYwIXt0MDTcgbBB93gwEK29cCw1LfAQd3KwMO/usD52+rA3OepwJ9EvcA4prPAGY6bwCv2lMB10JvAb6DZwK3QAcE6gLPAl4iLwAAf6sDSkdnA0hLXwC39xMBiQJjA/Na6wGJk+cB95ajAn9KrwBLKw8ACpNjAo6ASwR1z28DABsDAxs/AwG1Oy8BcE7fAE82JwAt6zMBMcpXAuRe/wIPLrcAlBJzA3mTMwCN+EcETjfnAmpkFwU1SrcC32r/AMDGmwJdbosABWbvAmPXQwCzJDsEHmYvA267GwMjR+cByvQLB5qcEwR/DDME49u3A7YkAwZ8ODsFDDabArZHzwC543cDv767ABUKnwMSqtMBWh7rAk0bcwDsAv8DD9//ASWezwNZ7vsCFcwbBjz6wwEqn1sCBwLHApBbGwP8R2cAae7vANiOnwEuf0MByGQnBv6INwbzl2MDdafjAUBnGwLNwosDEPLbAx6CUwK+A8MDVeKXAYHvgwF8O4MDEHNHABAGewEVX1MCH0BXBgOz7wLSsicDpHdvA5qOHwEecBsFNZ+fAWZSVwBoM/cA+5drAZECNwHTpx8CbWLXA07L4wEOKusBgIcfAsQ+2wEhT08AfEpvAhQrkwCuUzsAUysnAUrkSwdASAMELQrHATAjQwDODBcE36ODAZBy+wA+cuMBHkurAm0K9wOVYBcFpD+jAPEeMwBWy7MD4S/XAE5KvwFHpD8HgEKPAE7bDwIS5CcE/lrLAhOsLwdTD/8AsivbAzTO5wFd0/MCBm/LAHdKcwFaw78AXfdbAcCKRwCyTqMAuPLbA1Mq7wAo6+cCYDP/A9vS9wNVEAMERAarAiXf/wKJPC8GJzBxByee6wDSQ48C9yM3Awn2nwFJQ4sBDtgzB9ejkwLNECMH7Q8fANdP7wFWi5sDPMsnAz4f2wEK8zMBY5/vASXwPwcnx48A4t/DAKS/YwMj44sDJNPvAvU0Awf4Y6sDXuQXBeigbQbXhy8ABLO/ALLsCwWRUBsFW7QPBfE/awPR3zcB7VMvA23rkwEui38Db6eTAUsG3wKnJ48BdCZ/Aez3+wIEv7MAhU7zAFP0FwU2uu8CY4NDAE76mwFfKCMFJ5PLAx/MFwWktDsHBIxXB9zXpwKLEBMHCqBLBClfrwOCl7cDYIu3AhW0JwZS1EMEevAbBkEoQwdFdCcHtVALBobm3wKNmFMEGmczAhukNwe4tssB7AM/AtxO6wLawssCO3wbBKKMHwTa5DsHukcvAkIMWwejn98CU8gbBIYwTwX8hC8FGIgrB6ZvkwGrD7MDTE/rAVKPhwGL3/cCH497ApgzdwDT6FcEAYwPB9On5wF3r48Cw0wjBj/vJwP8i6MCpxRfBIi7vwPD+HkFapP/AF1wIwZ4SEsFYUgLBxlEWwdXo9cDSNQnB/RIAwX911MD4z6vA8FT9wBx3CsGINu3A7NPXwLMjEsGVnb/AKTPIwFGKCsGZ4wbBEbvzwFx76sAfiuvA1RcVwbz3pcAqBwDBNSPrwC6CBcGnJw3Bk5e/wBZj8sCFPRPBCI8QwTXW98A/GgnBrZfxwEiz8cDbSQbBEJEBwbmA3sBYQczA/YXXwNbju8BGfMrAdkbpwKTh68B/hejAEhbEwAQixsCsHtrA0MLdwHpm08AxMQfB/PfzwNUft8CFAADBuXHPwN7Vz8D3y+DAbkfKwBO5qcB2EwXBqwrUwI4e8MA2WsLAJhf1wDSqD8GLS8XAuUzlwMp7BcGWj6/A7mXuwCqA3MC3GdjA3U7AwHW688CREADBVcHOwIGaBsEA2hLBbJ2+wO9ABMG6qQ3BhgLPwAeSAcHy2wXBaobxwKQF98BI8ObASnTiwBJjrcDhptjAz5q6wLlr4cClp+zAXHbuwMBc78Dbp8rAPHsGwWd+AcG5A9rApvrNwLnxCsGoIsLA91zLwJAgqcDydAnB51v6wIDL2MAMhgTBEuv4wKdwCcF90+DAgGv0wPh8BcEa9QrBxGHSwNN9ysCxu+vAvx3bwKecz8DX5gDBUgXvwCEL58BEp/fAo3nZwFPN+8C1ieHAKgXowPVJ7sCNiwDBhwG/wF0398CETQfBmaoDwW+N08APeYfAasgFwZfc/8CZPQzBwgnuwPf9BMEz4tHAtXMBwZap38B2uqLAanTFwMSN6cDAswjBNV/YwJxQ9cDdSP/A27QIwaBH7cDpUeXAcMeJwP5EucAKvP7AZTiqwEe9x8CYTQ/BgjafwMphFMHoMfHAd7fUwOeh5sC4AwjBtLrzwGkizcCgUM3AahkRwdaP6cBHYQ/Bj735wLJoBcENiPjAkvgJwYPE/MDv6eLAyZb2wDvrwMCCU3jA0/sLwfYK1MB4QoPAjyB8wFih6sCmL2rAH14PwQ977cAxuw7BkueXwDvG5sD/FeLAzSvrwK1g6sCnbtrAw//ZwJ4r58Do8+HA0CKjwAoHksAPOIzApW6SwCdJ4sCEsNjA77nkwGG2z8B1cJPAwSeSwIC9mcByGobAc9GAwHOF1sCL/oXAXkyNwKB8zMBZ8LPAT4eNwFGzgsA99OvA39QSwSDAgMCZq3nAFXfHwL1K9MB+DpDAbZaWwFLd6MC0Y5bAq9PVwG6ZxMDgEgDBN/z+wPCa5MDJj7DAwi73wJ/SgcDpduLAll0Bwdpw5sC8xffAZQ6lwFYk18CJrvHAtZcDwQwEBMHv1frAKQDgwLn2xsC2KcDAiCa0wOm+t8Ag/NPA6Az9wGwGDcGD1ObAEUvewNzyjMDFcvbAJEbowP0sg8CMP/jAuIEEwV9ikMDA1gTBwbmowLPO8cBev63AyKTowMee8sCVYszAE4kFwSoL5sDyiKTAEd73wGeE9cDwhrbAYcWfwCWH+MCDtb7AKDbPwPMo1MD8pL/A0DqdwCbiAcHFkPXA8hrdwF49+MCoMdPA+fzWwKkk+sBeIeXAwoGjwFe+psCzM6jABv2CwA5JsMCdqsHAmSjwwB5i2sAvYgDBgQLvwHlPs8B6TdDAPx0Bwd5xn8Aj++HAMEWwwA4x5sBJPLfAPgz5wPZQ+8Bw6gjBy3nPwMLV78DMQO7A8IYDwbJIx8DKGNLAHVO8wKyKxcBfvgDBmpwFwbba3MAlDL/Ai9x1wPjg28CPVILATOx7wOGCx8DjxMjAuefLwE990cA/TbnAqAgNwcHvz8BscMnANB68wP2P2cA0xM3AThruwLEzuMAaTeXAkQDhwPXt1cAHZc3A9nrNwDnzCsHHN8zADyXdwFsMB8GfOuPAvJLNwNstzcA0Y97AcirOwG131sCiNrbALnzRwMMg38AgLc3ABz7UwPFy5MCV8PrA2Z+pwEr6y8CKIN3A7+j0wCCAncCXx/XAIludwJqs2cADiuzAWvHuwD+27sChAs/AEhjPwK+x8MAu9PTAeG7XwJAC1cD7SPvADJPzwNYuE8HTE4LA0DwIwcrL8cBGd63AfSbpwI2f8MA8YurA6XTywLUs7sCLMK/ALVbywOMMCMGk0uXAz+zWwM5D18DfDfbAamvnwNxqpMCds97ANSUFwSeWssB0j+XAjTf4wFyJC8GSYtHAMDvZwFMuu8B2vfTAJ/bBwNbsBcHh6uXAtqLRwF6iBsEpYvTAdzzuwMpS/8Bd2uXAQWfbwCNc28CM/+rAO8+pwJYovsDkRtbABvP0wOOs5cAjmfXAtPeZwMCl/sDRnQHBAoXdwAcwycDPEejAyCQIwZFy4sBpMvfABFYCwVAOD8EHdA3BdQ2fwEuo28A9A9rA+5rnwG4r/sDRsZrAwEjUwD77rsBi/uXAFYAFwc0rAsGduvLAjZ7AwGe86cCZheHAfeeNwME+1MCBz8fAZGjbwIdA6cDJTfzAAlfdwKAB18AE7MDA51n9wNEKr8A55KjA8R3iwAsi+8BjYtrAPrjFwGUStMCx3NjANl3BwFz/xMAia9nAa4+vwHygt8D2TbfAyty0wAP7EMG8A7DAiaeqwFHL0MByFtLAi0DKwMljmsDFPt/AbSS/wMiflcDadOHA9MnJwJZaucA5hwXB5TPhwEis3sDJlvXAHXoPwXNR0MCRRsvA8m8BwfdPq8BpvpHAXOzEwOlitcAaWb/AVy24wNCJkcCr7JjAgT7QwPuMtsB1QaLAEVCywKY74MBlqOLAvTO9wEN8uMCSj6/AZdvvwI+WrMB16wLB+RQAwVpjmsC03rbAy+SGwPbdpsA97K7A/3uiwHRhrcAfjw/BaWafwDd24sAtVs/Ah5WMwEzIhsDO2uTATOfCwL9E0sA7Xa7AersQwbwYosBaGrjAMyqUwGdm2cD74ajA3KgCwQp9o8DHbgDBOEwMweSSsMAlU4DAvjuRwJb9tcDcEp7AyavMwB/Wq8AZCgXBrvaRwE7qmMCNzqjAjsCwwOLvz8Bh3bPAMSK9wOu0C8Fr/6XA1KGDwJaGCsH3vdfAWTHTwHLXi8CMTbHAvPC1wNU+r8B8H73ApQXgwOS7nMD+hOXAnD7fwK8eCcFOHBHBPwIHwX7TucBtx9jARrHuwDqMpsAXnrjAL4K3wIi3msAe5fzANdThwMYsrMBVxuLAGUUMwa552MDPlgLBcNenwH6Ut8CVSQvBqcwMwVeps8A+ednA3H7WwNfLzMADfI3A4TyTwJqTBsEZr9rAOlr7wKVaBMEkcAjBi2m9wBPBusDQPrrA3cAJwW9rdMAfFLvARcYMwUTYx8A0wuPAU5rWwMit1MDo0c7ApqZrwDaRxMA7L5rAoaAIwUyY3cAtwn7AkRaWwDCGm8C9NrrA1fbxwMP8v8Bgnu7ANkUVwfGzFcFk2hDBzJDWwCDJusBvpWDAAi7dwPCnosDR06jAYcadwNUuEsHVahHBU/0FwTbGt8AFmhPBWRzQwMA+FsGtKu/AwtavwBjvFsFeuRDBtO2DwO5F2cAk/vPAttWqwPhEusBK7PjAGdACwWbKmMC8oBLBTdHYwImHFsHGYADBxiMSwYGS5cBDLRbBo07nwD7eqsDjvObAiGifwLrFCsHxLsTAqYumwE4v7cBlBebABjT4wNazeMAbN9DAvjq0wM5HtsBxFfzAouwCwSUG/cBIrInADqf8wC306sDerBnB22juwCDGDcHyYPHA16C1wLd+GcGW17nAwMIEwSkY3sBfavjArhEYwYRU4MAFrbHASx3PwOu7AcHunAzBPOHLwNTsxsDpacbA34EHwZ4u+MD+OhnBe2apwJ4zA8GOD+TARL2pwOTf3cCihsfAo9zmwMJo78BR9uTAK6y2wN5CyMDSUcjA42TewHFtD8EZCvHAR0HFwHgL6cBiSOnAsn3PwHzu4MCHf+3Ax+TJwCOQu8AJ7HLAnQfowKGwssC2CsTAbmX6wKU6pcDXT+TAcSSnwDJvEMHtTZzADeblwKQg1MCtUL3AZrQAwXvexcA2gPPAHueswOZt5MACg9nAtkrnwGfH7cBJz8TAn9S2wH79+cDa1NHA07y7wNkW7MBfx7PAfB72wPXL9MATicfANXqhwLAO0MA3ONTA5OTLwBGtxMDMCd/AOnDGwF0RFcGRSurACnXZwFa+osCTrgbBJdWiwIKvgMCx1uXAFZbbwDkdk8CdT/DAIebiwNFI3cDHcerAnmL8wDop7cCyqr/AtB/+wMVysMBcKsjA2OSSwPpWB8GFc6bAjFr7wH00i8AUL7PALtTQwCxj3cAMG4rAqk2cwHRX58BgM/nA0+wJwdMdmsD8QMvADu5zwHGNjMC7P+rACw0SwSdFl8Ar6/7AiruWwAPU78BJxGzAfnINwTwG6sACLQnBpDB7wIbqpMDXPsrAR8zhwNrQFMH/dQHBWC6bwGEQl8Bg6o7A4Q6cwNoppMDQrXzA/9yYwFJUqsAI8P7AoqGlwJRpkMCyS5bAQ7kDwTgelMAUj4fAU7jiwB1ABMEtJMPAlA8CwRq3DcHea4/ACY3gwLDJDsHo54/Ah8GRwM0sx8CtgpLAnAiKwLR1xcBbag/Bru5xwCG7mcCwJQDB94aKwHhhD8Ft5RLB7eXDwE4QCsFE6ATB4PigwGu1hMA4KPbAc/8JwdN2gMBDUgXBd0uQwD7B08CzgI3ABdC+wLKGksAXuJLANzkRwaYtAMHxDNDAPzN1wIxNiMBRcAPBuRjfwK2+c8DFbczAH56VwF5WwsDX54HAgGy0wFGtAcEGt5TAwGJ6wF04w8DT6rTAr7L3wO1PAMFfwgrBMdrXwAJBqsBLlZvAhC/8wKMa98DgGnvAjDTwwO5kj8DTRqfAvtDDwNIEi8CfH5vAc5i+wCP+BMFhhQbB1gKawJcZD8G59vLAGMcHwXaWA8FHCMzAFnrlwE/S7sB2+hDB2m/ewCgQicAPdpHAzUQIwSwGlMBxOnrA9lqpwEOToMCtYZnAXS10wKuDn8BOfbzAUgW1wJ6tDsE3MtXAM7gJwQDkk8DAsPrAJC3mwK3y1sCkFM/AP5OcwCC2AsGhAqvAXFh1wN1TrcDMpXrAoAsRwRmoEMGfmRPBl09zwMxibcAjl4bA7rWWwC1tbcD7fqHA7u7/wLHP7MAxBqjAofh0wH+jlsDfjtLA8qOtwIHx1cBv94zAWhd4wC8T5sCzSsbAQc2bwHzetMA+vYfAx0/twIpocsDAyfzA",
          "dtype": "f4"
         },
         "xaxis": "x",
         "y": {
          "bdata": "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",
          "dtype": "f4"
         },
         "yaxis": "y"
        },
        {
         "hovertemplate": "Metadata_seeding_density=12000<br>umap0=%{x}<br>umap1=%{y}<extra></extra>",
         "legendgroup": "12000",
         "marker": {
          "color": "#006d2c",
          "symbol": "circle"
         },
         "mode": "markers",
         "name": "12000",
         "showlegend": true,
         "type": "scattergl",
         "x": {
          "bdata": "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",
          "dtype": "f4"
         },
         "xaxis": "x",
         "y": {
          "bdata": "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",
          "dtype": "f4"
         },
         "yaxis": "y"
        }
       ],
       "layout": {
        "legend": {
         "title": {
          "text": "Metadata_seeding_density"
         },
         "tracegroupgap": 0
        },
        "template": {
         "data": {
          "bar": [
           {
            "error_x": {
             "color": "#2a3f5f"
            },
            "error_y": {
             "color": "#2a3f5f"
            },
            "marker": {
             "line": {
              "color": "#E5ECF6",
              "width": 0.5
             },
             "pattern": {
              "fillmode": "overlay",
              "size": 10,
              "solidity": 0.2
             }
            },
            "type": "bar"
           }
          ],
          "barpolar": [
           {
            "marker": {
             "line": {
              "color": "#E5ECF6",
              "width": 0.5
             },
             "pattern": {
              "fillmode": "overlay",
              "size": 10,
              "solidity": 0.2
             }
            },
            "type": "barpolar"
           }
          ],
          "carpet": [
           {
            "aaxis": {
             "endlinecolor": "#2a3f5f",
             "gridcolor": "white",
             "linecolor": "white",
             "minorgridcolor": "white",
             "startlinecolor": "#2a3f5f"
            },
            "baxis": {
             "endlinecolor": "#2a3f5f",
             "gridcolor": "white",
             "linecolor": "white",
             "minorgridcolor": "white",
             "startlinecolor": "#2a3f5f"
            },
            "type": "carpet"
           }
          ],
          "choropleth": [
           {
            "colorbar": {
             "outlinewidth": 0,
             "ticks": ""
            },
            "type": "choropleth"
           }
          ],
          "contour": [
           {
            "colorbar": {
             "outlinewidth": 0,
             "ticks": ""
            },
            "colorscale": [
             [
              0.0,
              "#0d0887"
             ],
             [
              0.1111111111111111,
              "#46039f"
             ],
             [
              0.2222222222222222,
              "#7201a8"
             ],
             [
              0.3333333333333333,
              "#9c179e"
             ],
             [
              0.4444444444444444,
              "#bd3786"
             ],
             [
              0.5555555555555556,
              "#d8576b"
             ],
             [
              0.6666666666666666,
              "#ed7953"
             ],
             [
              0.7777777777777778,
              "#fb9f3a"
             ],
             [
              0.8888888888888888,
              "#fdca26"
             ],
             [
              1.0,
              "#f0f921"
             ]
            ],
            "type": "contour"
           }
          ],
          "contourcarpet": [
           {
            "colorbar": {
             "outlinewidth": 0,
             "ticks": ""
            },
            "type": "contourcarpet"
           }
          ],
          "heatmap": [
           {
            "colorbar": {
             "outlinewidth": 0,
             "ticks": ""
            },
            "colorscale": [
             [
              0.0,
              "#0d0887"
             ],
             [
              0.1111111111111111,
              "#46039f"
             ],
             [
              0.2222222222222222,
              "#7201a8"
             ],
             [
              0.3333333333333333,
              "#9c179e"
             ],
             [
              0.4444444444444444,
              "#bd3786"
             ],
             [
              0.5555555555555556,
              "#d8576b"
             ],
             [
              0.6666666666666666,
              "#ed7953"
             ],
             [
              0.7777777777777778,
              "#fb9f3a"
             ],
             [
              0.8888888888888888,
              "#fdca26"
             ],
             [
              1.0,
              "#f0f921"
             ]
            ],
            "type": "heatmap"
           }
          ],
          "histogram": [
           {
            "marker": {
             "pattern": {
              "fillmode": "overlay",
              "size": 10,
              "solidity": 0.2
             }
            },
            "type": "histogram"
           }
          ],
          "histogram2d": [
           {
            "colorbar": {
             "outlinewidth": 0,
             "ticks": ""
            },
            "colorscale": [
             [
              0.0,
              "#0d0887"
             ],
             [
              0.1111111111111111,
              "#46039f"
             ],
             [
              0.2222222222222222,
              "#7201a8"
             ],
             [
              0.3333333333333333,
              "#9c179e"
             ],
             [
              0.4444444444444444,
              "#bd3786"
             ],
             [
              0.5555555555555556,
              "#d8576b"
             ],
             [
              0.6666666666666666,
              "#ed7953"
             ],
             [
              0.7777777777777778,
              "#fb9f3a"
             ],
             [
              0.8888888888888888,
              "#fdca26"
             ],
             [
              1.0,
              "#f0f921"
             ]
            ],
            "type": "histogram2d"
           }
          ],
          "histogram2dcontour": [
           {
            "colorbar": {
             "outlinewidth": 0,
             "ticks": ""
            },
            "colorscale": [
             [
              0.0,
              "#0d0887"
             ],
             [
              0.1111111111111111,
              "#46039f"
             ],
             [
              0.2222222222222222,
              "#7201a8"
             ],
             [
              0.3333333333333333,
              "#9c179e"
             ],
             [
              0.4444444444444444,
              "#bd3786"
             ],
             [
              0.5555555555555556,
              "#d8576b"
             ],
             [
              0.6666666666666666,
              "#ed7953"
             ],
             [
              0.7777777777777778,
              "#fb9f3a"
             ],
             [
              0.8888888888888888,
              "#fdca26"
             ],
             [
              1.0,
              "#f0f921"
             ]
            ],
            "type": "histogram2dcontour"
           }
          ],
          "mesh3d": [
           {
            "colorbar": {
             "outlinewidth": 0,
             "ticks": ""
            },
            "type": "mesh3d"
           }
          ],
          "parcoords": [
           {
            "line": {
             "colorbar": {
              "outlinewidth": 0,
              "ticks": ""
             }
            },
            "type": "parcoords"
           }
          ],
          "pie": [
           {
            "automargin": true,
            "type": "pie"
           }
          ],
          "scatter": [
           {
            "fillpattern": {
             "fillmode": "overlay",
             "size": 10,
             "solidity": 0.2
            },
            "type": "scatter"
           }
          ],
          "scatter3d": [
           {
            "line": {
             "colorbar": {
              "outlinewidth": 0,
              "ticks": ""
             }
            },
            "marker": {
             "colorbar": {
              "outlinewidth": 0,
              "ticks": ""
             }
            },
            "type": "scatter3d"
           }
          ],
          "scattercarpet": [
           {
            "marker": {
             "colorbar": {
              "outlinewidth": 0,
              "ticks": ""
             }
            },
            "type": "scattercarpet"
           }
          ],
          "scattergeo": [
           {
            "marker": {
             "colorbar": {
              "outlinewidth": 0,
              "ticks": ""
             }
            },
            "type": "scattergeo"
           }
          ],
          "scattergl": [
           {
            "marker": {
             "colorbar": {
              "outlinewidth": 0,
              "ticks": ""
             }
            },
            "type": "scattergl"
           }
          ],
          "scattermap": [
           {
            "marker": {
             "colorbar": {
              "outlinewidth": 0,
              "ticks": ""
             }
            },
            "type": "scattermap"
           }
          ],
          "scattermapbox": [
           {
            "marker": {
             "colorbar": {
              "outlinewidth": 0,
              "ticks": ""
             }
            },
            "type": "scattermapbox"
           }
          ],
          "scatterpolar": [
           {
            "marker": {
             "colorbar": {
              "outlinewidth": 0,
              "ticks": ""
             }
            },
            "type": "scatterpolar"
           }
          ],
          "scatterpolargl": [
           {
            "marker": {
             "colorbar": {
              "outlinewidth": 0,
              "ticks": ""
             }
            },
            "type": "scatterpolargl"
           }
          ],
          "scatterternary": [
           {
            "marker": {
             "colorbar": {
              "outlinewidth": 0,
              "ticks": ""
             }
            },
            "type": "scatterternary"
           }
          ],
          "surface": [
           {
            "colorbar": {
             "outlinewidth": 0,
             "ticks": ""
            },
            "colorscale": [
             [
              0.0,
              "#0d0887"
             ],
             [
              0.1111111111111111,
              "#46039f"
             ],
             [
              0.2222222222222222,
              "#7201a8"
             ],
             [
              0.3333333333333333,
              "#9c179e"
             ],
             [
              0.4444444444444444,
              "#bd3786"
             ],
             [
              0.5555555555555556,
              "#d8576b"
             ],
             [
              0.6666666666666666,
              "#ed7953"
             ],
             [
              0.7777777777777778,
              "#fb9f3a"
             ],
             [
              0.8888888888888888,
              "#fdca26"
             ],
             [
              1.0,
              "#f0f921"
             ]
            ],
            "type": "surface"
           }
          ],
          "table": [
           {
            "cells": {
             "fill": {
              "color": "#EBF0F8"
             },
             "line": {
              "color": "white"
             }
            },
            "header": {
             "fill": {
              "color": "#C8D4E3"
             },
             "line": {
              "color": "white"
             }
            },
            "type": "table"
           }
          ]
         },
         "layout": {
          "annotationdefaults": {
           "arrowcolor": "#2a3f5f",
           "arrowhead": 0,
           "arrowwidth": 1
          },
          "autotypenumbers": "strict",
          "coloraxis": {
           "colorbar": {
            "outlinewidth": 0,
            "ticks": ""
           }
          },
          "colorscale": {
           "diverging": [
            [
             0,
             "#8e0152"
            ],
            [
             0.1,
             "#c51b7d"
            ],
            [
             0.2,
             "#de77ae"
            ],
            [
             0.3,
             "#f1b6da"
            ],
            [
             0.4,
             "#fde0ef"
            ],
            [
             0.5,
             "#f7f7f7"
            ],
            [
             0.6,
             "#e6f5d0"
            ],
            [
             0.7,
             "#b8e186"
            ],
            [
             0.8,
             "#7fbc41"
            ],
            [
             0.9,
             "#4d9221"
            ],
            [
             1,
             "#276419"
            ]
           ],
           "sequential": [
            [
             0.0,
             "#0d0887"
            ],
            [
             0.1111111111111111,
             "#46039f"
            ],
            [
             0.2222222222222222,
             "#7201a8"
            ],
            [
             0.3333333333333333,
             "#9c179e"
            ],
            [
             0.4444444444444444,
             "#bd3786"
            ],
            [
             0.5555555555555556,
             "#d8576b"
            ],
            [
             0.6666666666666666,
             "#ed7953"
            ],
            [
             0.7777777777777778,
             "#fb9f3a"
            ],
            [
             0.8888888888888888,
             "#fdca26"
            ],
            [
             1.0,
             "#f0f921"
            ]
           ],
           "sequentialminus": [
            [
             0.0,
             "#0d0887"
            ],
            [
             0.1111111111111111,
             "#46039f"
            ],
            [
             0.2222222222222222,
             "#7201a8"
            ],
            [
             0.3333333333333333,
             "#9c179e"
            ],
            [
             0.4444444444444444,
             "#bd3786"
            ],
            [
             0.5555555555555556,
             "#d8576b"
            ],
            [
             0.6666666666666666,
             "#ed7953"
            ],
            [
             0.7777777777777778,
             "#fb9f3a"
            ],
            [
             0.8888888888888888,
             "#fdca26"
            ],
            [
             1.0,
             "#f0f921"
            ]
           ]
          },
          "colorway": [
           "#636efa",
           "#EF553B",
           "#00cc96",
           "#ab63fa",
           "#FFA15A",
           "#19d3f3",
           "#FF6692",
           "#B6E880",
           "#FF97FF",
           "#FECB52"
          ],
          "font": {
           "color": "#2a3f5f"
          },
          "geo": {
           "bgcolor": "white",
           "lakecolor": "white",
           "landcolor": "#E5ECF6",
           "showlakes": true,
           "showland": true,
           "subunitcolor": "white"
          },
          "hoverlabel": {
           "align": "left"
          },
          "hovermode": "closest",
          "mapbox": {
           "style": "light"
          },
          "paper_bgcolor": "white",
          "plot_bgcolor": "#E5ECF6",
          "polar": {
           "angularaxis": {
            "gridcolor": "white",
            "linecolor": "white",
            "ticks": ""
           },
           "bgcolor": "#E5ECF6",
           "radialaxis": {
            "gridcolor": "white",
            "linecolor": "white",
            "ticks": ""
           }
          },
          "scene": {
           "xaxis": {
            "backgroundcolor": "#E5ECF6",
            "gridcolor": "white",
            "gridwidth": 2,
            "linecolor": "white",
            "showbackground": true,
            "ticks": "",
            "zerolinecolor": "white"
           },
           "yaxis": {
            "backgroundcolor": "#E5ECF6",
            "gridcolor": "white",
            "gridwidth": 2,
            "linecolor": "white",
            "showbackground": true,
            "ticks": "",
            "zerolinecolor": "white"
           },
           "zaxis": {
            "backgroundcolor": "#E5ECF6",
            "gridcolor": "white",
            "gridwidth": 2,
            "linecolor": "white",
            "showbackground": true,
            "ticks": "",
            "zerolinecolor": "white"
           }
          },
          "shapedefaults": {
           "line": {
            "color": "#2a3f5f"
           }
          },
          "ternary": {
           "aaxis": {
            "gridcolor": "white",
            "linecolor": "white",
            "ticks": ""
           },
           "baxis": {
            "gridcolor": "white",
            "linecolor": "white",
            "ticks": ""
           },
           "bgcolor": "#E5ECF6",
           "caxis": {
            "gridcolor": "white",
            "linecolor": "white",
            "ticks": ""
           }
          },
          "title": {
           "x": 0.05
          },
          "xaxis": {
           "automargin": true,
           "gridcolor": "white",
           "linecolor": "white",
           "ticks": "",
           "title": {
            "standoff": 15
           },
           "zerolinecolor": "white",
           "zerolinewidth": 2
          },
          "yaxis": {
           "automargin": true,
           "gridcolor": "white",
           "linecolor": "white",
           "ticks": "",
           "title": {
            "standoff": 15
           },
           "zerolinecolor": "white",
           "zerolinewidth": 2
          }
         }
        },
        "title": {
         "text": "UMAP by Seeding Density"
        },
        "xaxis": {
         "anchor": "y",
         "domain": [
          0.0,
          1.0
         ],
         "title": {
          "text": "umap0"
         }
        },
        "yaxis": {
         "anchor": "x",
         "domain": [
          0.0,
          1.0
         ],
         "title": {
          "text": "umap1"
         }
        }
       }
      }
     },
     "metadata": {},
     "output_type": "display_data"
    }
   ],
   "source": [
    "blue_green_colors = [\"#edf8fb\", \"#b2e2e2\", \"#66c2a4\", \"#2ca25f\", \"#006d2c\"]\n",
    "\n",
    "fig = px.scatter(\n",
    "    umapdf,\n",
    "    x=\"umap0\",\n",
    "    y=\"umap1\",\n",
    "    color=\"Metadata_seeding_density\",\n",
    "    title=\"UMAP by Seeding Density\",\n",
    "    color_discrete_sequence=blue_green_colors,\n",
    ")\n",
    "\n",
    "fig.show()\n",
    "fig.write_image(\n",
    "    static_figure_path / \"round1_seeding_density_umap.png\", width=2000, height=1200\n",
    ")\n",
    "fig.write_html(\n",
    "    int_figure_path / \"round1_seeding_density_umap.html\",\n",
    "    full_html=True,\n",
    "    include_plotlyjs=\"embed\",\n",
    ")"
   ]
  },
  {
   "cell_type": "code",
   "execution_count": 19,
   "metadata": {
    "execution": {
     "iopub.execute_input": "2025-07-03T22:24:11.382743Z",
     "iopub.status.busy": "2025-07-03T22:24:11.382398Z",
     "iopub.status.idle": "2025-07-03T22:24:13.870371Z",
     "shell.execute_reply": "2025-07-03T22:24:13.869953Z"
    },
    "jukit_cell_id": "xfvHhoGCg7"
   },
   "outputs": [
    {
     "data": {
      "application/vnd.plotly.v1+json": {
       "config": {
        "plotlyServerURL": "https://plot.ly"
       },
       "data": [
        {
         "hovertemplate": "Metadata_time_point=24<br>umap0=%{x}<br>umap1=%{y}<extra></extra>",
         "legendgroup": "24",
         "marker": {
          "color": "#edf8fb",
          "symbol": "circle"
         },
         "mode": "markers",
         "name": "24",
         "showlegend": true,
         "type": "scattergl",
         "x": {
          "bdata": "R/zYwF5x/MA2u/PAQ7gKwfJU/MBCodfAe1HRwMB2ocBg88vA/Nb7wDGjzsCHX+fAiXTbwGlpyMCSvfrAOZURwbro3sBgGfvAB+i4wIuY7sDuL/7Af67AwKwf1cAcUq3AkKfewG4lEcGIQgjBM776wCUkBsFU+tXA27DwwLL4x8CZS9rAzSqXwFeLxcAIBQjBtr/dwM8C48B9W9vAdk3zwLgfrMCUoeTAsobDwASKrcAR59PAeLkBwb0E2cBuzcvA+hDbwNnsAME/fw/B9BXBwGlvncArvtTAkSv9wOhaCcGTRw3BXe3TwA5bC8GzPJjA+D7IwMPE/cBz6K3AFX/FwM2mDcGRCfnAWcnZwHlf2cDHDwXBt8+gwCAersB4ZtfAkKsBwUkVx8At7p3AORC0wCvn2cALX93AQ9nDwPPmycAC7bvAJYbYwD+l3cADUeDAoYfZwOunDcHizdnAWpLXwL4h3cCfqtvAKHDjwGz/2MD2FfjAIBUNwUPqkcCe16rAE3+7wDpPocCe6K/AhAvpwOsQ0MALtt3ALy/NwDkN4MCI5KnAtBfKwF1Q38C017DAFfnHwO/vzsB1Q6LAdX/bwNcvzMCK58DAlnXXwG9zEMH23+vApt/CwFykBME9YuTA8aLzwEpF5MDyHrHAUy/jwF6p68CoDtjA9+XmwOCj4MDWWMrAQ6ikwN78tMCcdBDBBCAQwVykocAPxpnA53GpwEJzncBCfOzAv8QGwbn12cDvwOjAdUGVwK3syMB79eTAspjWwM9zu8AmKv7At8PowMlQBcEHF9TASFrowLBFx8Alp93Aqyq7wGx2z8D0sP/A17DEwDxgv8D9DLfAAJ/2wDdbtcAGitvAA9HswNm57sAz29TACd6pwMpjuMDRRf3A6cOuwHTFvsARr/DADlPDwMTnpsCn973A5KDXwEPu0cAMrNrANQbtwJqY1MCIKgfBiUXZwAW6vsCcHILAghmiwLQN3sBlPMPAEkruwCAp18CWVOfAeR+OwOrezcB0Y+fAvvjjwBZ8t8DCr/fAVufhwCS6w8AnqcnAktqywBqsAMHmoRtBJvWtwHeq08Bpm9jAjGfIwCup4cChQOnA62sMwUvImcARJLLACSnfwATXzsD6nvDAERGvwLzo1MCTbNPA1bW3wFzf4cCE/uzA316owEAu1MB8yOHAYrOvwBW8ocCxlPvAWPqxwG1KwsBskA3BVubKwEDSG0FaGbPA+nDIwJ21+8D2SdzAt7W1wEEpDsFV/pfAqf6vwIBAu8CrobLAVBa9wFOnAcFwnbHAGSTFwILu88BkTtTAydK/wGIsrsCsJrXABFsBwR4Hn8Du9dzAvri9wEzTA8E/5L3A69/awHQZEsFHltDAkaizwOTEBcFAJbrANoL2wEaB18AI0wbBWlmiwLj+uMANlsHARU/owJj718BtBu/AAJzowFBjssCE6L7Apc3XwA66msCDNN7AdgcJweOppsApggXBh2sNwQWkx8DZHOPAxI/QwAnqz8DZgc3A5WsBwcCPrcCUtxtBVdWkwH50/MCmKwPBM/YaQTYkxMBb9ajA/nrRwKeRysDlj+vAWGSzwC+Wt8DgyO/AckrPwGZ4BsEIDO7AiMThwL8JxMDmTevAcaTJwE6Xw8Bk+rDAeCOtwPbPG0Ho8B1B7C0eQTwA1cBrvtDAFEgDwaqNC8FYrJ3ApKq+wME+nMAOgdzAXMr9wFmGAMFDcuHAWAgeQU4I5MD5887A0e3ewKNskcDdUdfAu60GwdXi/MAOtNXAykrjwJdY98B+qgXBvpD9wMh64MCYiLvAfL3RwAgG0cDnMfbAxvqnwJUb7cDRutjAGU61wFcQHkGH0cDAax7gwO2Zs8Ahi+TA8j7VwIHiBMH8PfPAz1r0wADE5sCDC+TARLPUwJiUBMEUKQrBIlrawCa80sDRy8vAl1j4wIyS2sCMo8LA+gG6wISe8sBSFOrAWF/nwFfw6MB6NAfBEZ7xwIn2z8BE6eDAoHugwG5b+cAv8gTBAYvawEkS8MD+rMfA7XzuwDPy3sAzuejAH5nTwLYx4cB8oOjAe0DjwBv8BsHRtfzAlBnXwLY0CcHdHv7AhIbfwHRs98BF0sDA04PowKYwxMCA5B5BwsUUwV3EG0GuXeHAxTSbwHbmHEFYUufAFLAbQaBGGkHvAOTAD10YQfkvHEEv8unAnb2bwBdZ9MASHm3AJpjQwJPO4MD4dtfAqEIQwYYGHEEHY+jAJEXnwPVhn8DLktDAVer4wNZc9MBotdvAm7XiwCq5wMB7Md3AzgDUwPxyHEEmApvA0cWqwE4m3sDiZebAHNzowGpT58BH/P3AC1EcQeke0cCjoxxBJDjXwP+IG0E618nAZUTpwISz+cBIOe/A3aEcQc1Q28AImd7Aw8TSwCvr6MB0XaXAZ0T7wBo5xcAdhxhB7jXiwIh2kcD0lpTAEIn1wGvr0cBBxebAeaaswBMM9MCwbgTBJpzfwBSp1cBCvI3AspICwUTHmcAMRcTAWA/gwFRGAMHsI9rAro0cQUlCuMDjHtvAnZoIwa0EAcFJjKTAn83EwCz7zcATA9rA04DnwHPx1cDnJ+HAWqvhwBPoXsA1DeHAI+3uwOQk4cDwReXAjzf+wFyM3MDD3d/AWyPfwMxPHEGmC+rAMDPiwGSb4cDhCtXAOtKqwD/s5MAw3q7AsAPBwBts2cDcVPzA1i3swFOHosAFUePAWI6vwJYi58ADkOPATDnewIMH6MAxYv/AtTXiwNh9pMDIWOHAoGyKwK0KCsE2KNnAWpAQwQ39t8BrHLXAA4PnwD3W5cBqEhhBYqDTwCzdwMDvGJzAhhSbwAEGG0GgpOXAchAbQTvA48COutrAD6XlwKpCnsASReDAIXziwEaZbsC2tO7AUpXRwNv5ssC3sIXA8AHdwH6N0MBrK+fAhBvmwPKPwMDH2eLA0T7lwA272cB2L+zAZHTawCTP4MDdydjA+5n5wEKm48CjuLnAdTblwPDk7cD6ItbA0izTwKyi5MAUlOnAs0n+wK7oAsGTZpzAqw/QwNVx5sBWX7/Asp3cwDDYl8CoMenATeipwHu/tsDEG7TAofvjwI6D6MCEyufAxuS3wLf7tMBJitnAFH0MwQaD68DaAYbAF+fkwLsH6sD1HN7AdBbmwFTc0MDlxOjA3UniwGc72sAdT+fAlI7YwBA5l8AWkOfAJEujwNy2q8Dr08vAQrTswDIP6MCtyOTAvqvWwFAC58BMT+nAb6e4wNKj6MAZS+jA32njwH7X2sAGxe3AL7S9wLKY2cDHbuDAliucwEQB58C0/ufA+zOvwEXs5MCS+szA7cwAwUkH7MCOqdfAncwLwYZxr8Dam+zAJEbywIEV58AD9wTBmQ7BwJBl48CNJuLAfAjKwEchoMBLYOjA54HawC0Q7MARtuHAmjTTwHMI6MBUO8PA+PbowPgJy8CoC8bAszjswJQm3sC5M5DAHxeRwI7IssCgu8DA4GqUwNjWtsCiT5XA/mTmwMzukcA0bpDAEtakwDzfv8BJ8wfBDPKrwKDZuMAceL/AV665wNCUrcDGWdfAxUSywONRqcBGDKjAWpmUwAQZzMDBn9PANCu7wNCgrsAwcbrAetOvwE5liMDLWavAASK6wKnD1MCko7fAA+qSwNoAlcCUx7DAIFC9wJ/TmsBsndXAEByUwPaZscAhhbTAd5ORwCXrrMB0IqfAIgu+wI8U+sAD1KPAe5bMwNFY2cAyCZfALeO8wJtVw8DWGcrAl061wCAAt8DYbJ7AtmTowLP/usBwb6zAwwnmwNiissCUd77A3JKwwMjVwsAlx8LAI8m6wDElsMBRPQPB0XrkwKFilMCYeJTABdixwEJ6ucC9a97AZmC1wBjDmsB9X7LAxDOawNd4ucBWu5/AQIyMwB9jl8BoEX3ALbe0wPLyscCjdrvACUGqwJMxv8ARGr/AOjWrwLxSsMBn5L/AKqGjwOhFlMAjcbjAFCS0wGsQucCs1+HAMWepwEmSB8Fc1M3AtQ/EwEk6wMDMM6TAM6yewEoOq8CqNKfAFmDawDNeqcD/pqHAFR7EwEqlzcA9l67AXqLQwMCw/cBme53AU93xwKCcy8BJiN3APkerwP+RCMGKRqTAZXOtwBXFscDCu8LAErKvwKbbiMB746nAe8qkwCtFwcCBu7HAzCi1wOlOs8APsq7AlDSswO6+rcBQ5J/AZAC8wARzwsC/NMjA0wT7wIvi5sA/hJXAUjmewCdXvMCq77zA+iSkwErN4cDcGZbABGSxwHOm4cC9leDAmTW9wHq44MDfyK/AVFXDwPe9lMBTirDA4NHdwDlwucCzz9bAOQaowHENlcD7zbbAlzv3wPUXoMDsdsrATum3wFWJrMBta/3Ak1iSwMt1u8CIysXABOWpwANOz8Bz3xnB6lumwPQ2osC6GKzAp4GnwAMupcBEO7bAhWrMwL8NyMDy6LDADESVwPGHrsBEb5TA6V+JwL7a2sAp4cTAjoe+wCH5DcEZwsnAYkzAwB2T58BZ+JTAOMHcwMu6ncCjAOnA4lD8wGXX18A8obvAxaDKwF4ZvsA9/9bAaoLvwOzflcBJU5TA1xPDwDB0nMAizfzAnxQFwa0uuMDAEL7ABjkHwZqnusCyPAjB9sT+wGbwqcDzmeTA/Ib3wKI+ocAu5MrAGCi2wGiQ4sB9juXA8ivXwPkBncB0Nv3Axs6UwMsszcCv0MDABpWXwLYu0sCJOubARNeAwPnfsMDFpeDA2Ye9wIwz38Cbz8TAL4WnwGSX58Ci4KjAZkukwAnG/sB5MqrAHDIcQUjvtcA4bdDAkN0DwYkJ1MCivKLA2UjxwLJ5pcCRRdLAhSG2wNpWGEEJzr/A8dUcQcX/F0H8xArBv5CpwFCa0MASuafAFRXDwGBTtMCLhBxBGZW6wPUW28DaBh5BhJ/iwIZV88DL+gTBAJC9wHQZGEHnUOnAJ0TgwL9iHEESCfPADwm/wD6jksBrF/fAeFfiwMfQm8AGf7zAMAPPwDvfm8C78urAGkvDwJ3Kl8BteBxB7164wFAwuMAVG9XA78gbQdUpusBqEN3Ax+61wIuk0MBBwvfAqgDXwOuEzMBT9htBblsbQdkyvcAUUuvA3GgEwffM5cA2rKLARRrNwAO4GkEx/93AI/vIwIZo4sCnVRTBM1GlwK8A4cBcrZrArbEHwQ8oysAC08TA8U7wwHG92MDAFKHAX6AHwZTel8AEoZbA+1XfwCBwDMGX6LLAx6ruwKy3ycA0rYrAWk6gwFTBusAv753AbLe8wGyftsDGhOTA5zC9wMUwkMCJecjAq+uwwDgNisCWdqfAEz2bwPe+v8CUoebAL73MwBXRuMCkjN3AUnYHwa6PDMGigtfAWUjPwKx9zcD+7uDAssjlwCr7yMD4h+bAD77bwLf8h8A29MvAOL7bwJjn9sD4wKnAIoThwKgQscBKJMPA/D3ZwN/8usCJw5/AE5HcwOa74MB4iNDAAcnWwFI1t8DOhJ7A1vLNwFiZzcC26M3AF4IQwUGt3MBJCvXAZpXjwJx+xsC5CtXAIpGYwMhnkcB8NO/Aw0wcQVFw5MD+u9XA0UiowGSo/sDlv+XA4mT/wFTln8C/GePAqbK5wNzQwsAQeZXAb9DkwPG758DnwtPAFQ3mwMa65sB4qZjAhe3QwNNyBsEH3eDAQrb1wLDUt8BB3crAw7+6wPnb6sDc56nAn0S9wDims8AZjpvAK/aUwHXQm8BvoNnArdABwTqAs8CXiIvAAB/qwNKR2cDSEtfALf3EwGJAmMD81rrAYmT5wH3lqMCf0qvAEsrDwAKk2MCjoBLBHXPbwMAGwMDGz8DAbU7LwFwTt8ATzYnAC3rMwExylcAEBcfAg3LrwMew5cDrAqzACGrtwEdyHkGLN6zABBXGwIRO4MD1kePA6/UKwSD4isCuGt/A+1X5wAyw1sCqrh5BNpS6wOiv0cAIBJPALEz3wFGVv8Ck/cLAfvDMwGkQ3sACpv7ADhW/wIZi38AVOLzAIYS+wEIAw8CMDe3AwdWkwFDIosCDHcXAk4SxwDCQHkG+pMTAk+WgwGKr38B41ePAkKjwwLZA+sA+yR1BfhrQwBNJpcC1z4jA3QHRwPBSyMA/5PPABt0JwWWj2MAwXM7AUaABwapS38D7cevAmUmlwKq5tcBCHO3AqWrjwGNKnsAvL8PAh+H9wIUJvcCVgqrAlk0GwaVaA8E56xtBcb4YQbGcDcHMEw3BYI67wNmoBsHXdwLB1fanwHff7MC0jfzAbefuwGT308ConuzAQIutwEiHBsHT0QLBunLPwHMdDsFraufAGYO8wNgC7MDAt/LAc60YQZ/SBsHUHZvAaGwCwUtB28DI5vzAInv7wJLS3sBjg9LAOPMHwS0BHUGVWwfB7Z6awDMjAcFVe/vAEU4EwRBsncAI5/nA7IjEwIowAcFfcwPBkgILwTbPAcG7rsbA74+VwIKq+8Dhbg7BiWfRwCLOHEFWggbB5ZTGwB6fCcGFAsvAQqCvwHf/9MBpOs3A1PH3wJY7qcBxbAHBBWgcQagb3cDFb/rAInKiwBI/18BNIO/AFjG7wDPe9sD/3OXA56vWwFZ7zcB3HgjBSzHcwHhsAMFE3fTA5VbywOUTq8COm/rAIxQKwfE598BvlcfA9SDxwMWT78AgmL/AEan+wOm+1MDLKPHAORH7wO/V4MBFGsHAVRvFwDpz98BNab3ANxIGwcah1cDMGqvAnKb6wKLT4sAkU+vA1y3CwPRmwsAjfenACMnDwNMo/MBPk8jA1KX5wEtSHUF57hxB5c/EwOMHCMGdSd3AZxfRwJLsC8Fich1BmrkDwb5q7MDBPhpBQ0/8wM7x58DJqwfBX8EcQfJPx8Ad6cnA6U0MwS8Y78DRQQHBTe7ZwIENt8BkUcXA8QzrwKQN78BOiwbBzmsYQYS5CcE/lrLAhOsLwdTD/8AsivbAzTO5wFd0/MCBm/LAHdKcwFaw78AXfdbAcCKRwCyTqMAuPLbA1Mq7wAo6+cCYDP/A9vS9wNVEAMERAarAiXf/wKJPC8GJzBxByee6wDSQ48C9yM3Awn2nwFJQ4sBDtgzB9ejkwLNECMH7Q8fANdP7wFWi5sDPMsnAz4f2wEK8zMBY5/vASXwPwcnx48A4t/DAKS/YwMj44sDJNPvAvU0Awf4Y6sDXuQXBeigbQbXhy8ABLO/AlXTywERXsMDE8OTAUrMWwWLTFMG/dwDBfKQQwXD2AcEsO+LAXiHgwDL/vsCvSbfAorC+wFSrzcAiW/zAgkT+wJ5+u8ABmAfB9FjqwBtf4MBc69zAv4HIwGWR28B03NPAcYwBwbciB8GcnMvAJTukwAgC/sDuE8zAgeT0wKgD/MBW+Z/ASFMCwR+jzsAQifLA46viwMrk0cDpCt/ARPPzwKm+CMHx+cDA66vbwF8R/8CwjO7ALnf4wNyw5MCdE+jA+re5wBn6BsH8og/BH2kQwfwaAMEdXODAYtAPwTaRCcG1ZevAou7iwNFqB8G8pwLBoTQPwa8z2MDZgtLA+g7awOojCcGtSgjBin/AwC8jD8G30A3BmPHrwPMVEsHKUgLBMAD1wKXOBsGRkQ7BgWUOwc0u2cC0mAfBB8cNwWixC8FSmArBLSP/wEPZFMEAxQ7BAe0Nwc+OBMH4awvBGQDhwBB+CsEjXX/ALGILwTEC6sAYgv/AiU0QwZRr3cDIgBHBzkbYwEqR5MAPBcvAZiQPwZliBsHxzAnBpEMGwTz83sAJYdrA4MfzwI0H4sAAcv3ALqD3wORU4sCBtNnA6n8FwQ0s18A+WAfBu2+fwE/X/MB4tAjBiObKwF5+2MBYVMXAo/3OwDMs18BDCujAJ/DmwMcPCcHlbw7BGFz0wOYmvMDn5/fAC6nhwDuZvcAU3dbA7E3RwMKi3MCv+uXAyegVwaaeoMBwPRXBk6IAwZjB/sDCT6rAYtKmwKvUp8C9fQvBE0LywDZw9MBF2OzAsJLdwO+5+cCMcNHAunjVwPFc5cAeGa7ApPTzwBv/n8APpKbAh1fSwIa64cDsj+7A7Ny9wF130sCHpZzAb7gLwYTunMDdWJLA/1PhwA70w8AxHtTAQEr0wBhw6sCgFN7AfNK5wHG77cCcX8/APK0FwdI898AyvNfApdEBwQKjtMBxgQPB64zZwG+gz8B6IOHAqTfZwF9mB8HRB/TAk5jlwN2yBcHVUM3A9kDHwBT/psBwSs3AierVwJ+G5sDJGfHAo9MHwVHI5MACfczAQyQHwTTtwMAWY/LAhT0TwQiPEME11vfAPxoJwa2X8cBIs/HA20kGwRCRAcG5gN7AWEHMwP2F18DW47vARnzKwHZG6cCk4evAf4XowBIWxMAEIsbArB7awNDC3cB6ZtPAMTEHwfz388DVH7fAhQAAwblxz8De1c/A98vgwG5HysATuanAdhMFwasK1MCOHvDANlrCwCYX9cA0qg/Bi0vFwLlM5cDKewXBlo+vwO5l7sAqgNzAtxnYwN1OwMB1uvPAkRAAwVXBzsCBmgbBANoSwQg+z8COptzANsrfwJ008cA4+9bAZ7oHwcrhA8Hok8DA5UXzwMS8ysAsM7XAdLnmwBruAcGsrAvBb+kGwUjnA8EyycrAFUPuwMqD9sDopwnBkIQUwU2f4sB7Is/ADHb8wJm83MAER8fAqXrCwD5q4MCh3PbAZdqowLVmAsEvFwfBYC8FwRxpqMB7JPvA4IgLwVRf9sAmbsHAsz7AwI+95MCy457AHITJwHNS0sDg4sTA4Si7wEV4D8FNBgrBbt35wCDcAsFJ9sLAlUWJwJrg1cAW65fA3b3OwHMvg8DVOIzAWjyuwPGLwMBWycbAbj7UwGDWjsAheo/AjCHrwImwn8BkIMfA7SHawAKiqcDEUQ/BPCnWwHYNjcB1XNHAl93pwIVaE8HlCJPAxzOSwAPE9MCjru3AXdYHwaEjysCsxpjA2HGKwLYLhMC/FdrAj4KHwJ7AwMBisbjATDDewI85n8ARSqjA8oX+wAJAosDHYJrAa/T/wDa7vMBLu5rAX+ASwauLB8HsvNTAAxEEwW1Qs8C6PtzAjo2uwDCyrMAYa6fAgDaCwJIUycALkZ3AfemSwE7J3cBxIpHAnCmpwDyZh8AAoLDAoZujwDcsCsE5QgLBRSO+wBYLm8BSfKvA/z71wJprD8FuFQDBVV7vwDxEhcDFdZPAeQYDwbmACsG6YerAcpYCwTCr1MCEZPDAt3qMwKlY08CMShLBUIagwBCeqMC03ojA4hCBwHK3usCmL5nABoCHwB1dqcDoOI7AExMPwc8Sm8DRGJ/ALbaAwGvtpcCz5/LAzjWbwPpLDcGFB8HAyGjMwGGtosClrvnARMLywG8uEsHdRIvAQdULwaIs7sDvCn3AI7udwGkJ08CIHcfAF7rnwOKvncCs1JrA1nmjwHDllsAwFIjArqf8wFk6wMCyMbbA8YzJwPmyiMBC4LDA5dSawARq2cDmY9DATaIQwd3cu8Bg1qnAOqR8wKaYEMH8MRPBo0T0wDvPjMBzt9PA+PASwcsymcApkv/Au24Uwcu68MADY9fAZouRwOj95sD5K97AXAjNwDGJD8GN+sXAO+vAwIJTeMDT+wvB9grUwHhCg8CPIHzAWKHqwKYvasAfXg/BD3vtwDG7DsGS55fAO8bmwP8V4sDNK+vArWDqwKdu2sDD/9nAnivnwOjz4cDQIqPACgeSwA84jMClbpLAJ0niwISw2MDvueTAYbbPwHVwk8DBJ5LAgL2ZwHIahsBz0YDAc4XWwIv+hcBeTI3AoHzMwFnws8BPh43AUbOCwD3068Df1BLBIMCAwJmrecAVd8fAvUr0wH4OkMBtlpbAUt3owLRjlsBsXp7AT2vNwAdI5sAqsdbAH0cTwSug6MBqAJLAotSMwOkW5MAyxunA9L/ywCQX4sA+d4bApMWmwCKXvcBDPoLA9ArnwIJ7i8CPRNPANnTFwPt6mMCwzaHAacDWwG4NzMC/9pDA6EfYwAiq88AuW9LAKm6swIb4m8C4ddnAYqaswM6HyMBOrYzAZ+O1wAHth8An8qXAr5KKwD2nfsDkQILALirfwLSchcD/VGzAL7LpwCnH4cDI8+PA7XDtwKDomMDH6r3A7dzSwNy1ycB0qt3AcF+twPuo/sDPLdPAIH+wwPVaycAQ1tHA8DjQwI70AsEqQAbBMOwBwXMgCsEpUOPA4KcIwTYK6sAFXtjA38/9wAXl1MDGhxXBlbcBwaHA1sD3QeDAOmXiwMmVrcBT9gTB+h4WwVGbC8E/AMvAvIz8wGCNzMBgh9LAUbQFwe+X68DV+tLA31gWwSjIz8APtLfA1rjwwCOyEcErIvjABgMBwZBpBMFuVxHBOgTTwM5m1cD+pwzBpl4PwRbCAsF2o83AjxrMwM4r38DbvADBnvjwwL9nAsGPNxTBn6bCwO3hzMAGGdLABPHpwH4I4sAT3dXAY2vMwBhA0MA7+vfAYTQAwd9pzMDCtgDByyKRwJbE0MBtSujAsFgVwWV12cAR1MzAUsT0wLPI+cDAAcTA+ab+wDv02sDAQRTBQkz4wDM+ysDS1tHADvXLwDqp08DOY/PASzzQwPVi28AdnszAWsT4wOMt28AbCO3ATj3TwO4s/cAHi8PAAN8EwYxkvMCDNNbAVqPhwPNj8MAOmxDByA76wJAe+sBpE9nAfdi8wHWevMDfWc/AZUwUwUSKz8ABgPbAwpjvwDCp18BSV9vAFkTSwNicFMGDdxXBrkfYwDv858DozhbBs6gAwfRJ7MDbNRDB7TnPwIGCsMAN67/A2U0VwZ/8AMHWVdTA+NbRwNmkz8CndfvA5X3mwPY1BcEjIv/A+7LRwA+irMD+2gjBclzJwB7BDMFYVvLAicXSwPJkzcA52s/AqhgTwbqt7MDDhvPAw0jAwHEC5MC88vTAvyDcwOGCx8DjxMjAuefLwE990cA/TbnAqAgNwcHvz8BscMnANB68wP2P2cA0xM3AThruwLEzuMAaTeXAkQDhwPXt1cAHZc3A9nrNwDnzCsHHN8zADyXdwFsMB8GfOuPAvJLNwNstzcA0Y97AcirOwG131sCiNrbALnzRwMMg38AgLc3ABz7UwPFy5MCV8PrA2Z+pwEr6y8CKIN3A7+j0wCCAncCXx/XAIludwJqs2cADiuzAWvHuwD+27sChAs/AEhjPwK+x8MAu9PTA74fcwFcX1MDcTLvA/oUHwQlPwsDm0J/AOH7PwAMi68AlitnAE37OwA8wycBaLdDAkBzuwH87xcDkG/zA/tW5wHFws8Ce7uDAN+3MwL9oCMEN3OvASn/hwLFe0sA/7L3A1QypwE+s2cDLkMrAGmiowKbW3MAN46rAhG8Ewd00ysDzuMXApSvOwHUJ1cDSuNDA+YvlwE3zEsEA2NjAlTTTwGXNqcA9CM7AJZOZwHYLA8H8XsnA4kPKwB8eusC6d9PA4qPTwLQUBMHnkgjBLRa+wA3f1sBUHefAnl+DwEo2z8CS2PvAwELqwP6H/8CH7PrAOnrpwATywcDpcM7Ao/utwLZIlMDHLJ/Aq4OGwBMjAMFR4cnA9rzFwIa5o8AQ6cjA7gLCwORgi8CNK9LAmsLewAJpmsD8krHAIEzHwKnE/MBWgAPBM671wMZu/MDNeNPAnrX6wCYU6MC3CKvA5DWYwMxRsMDbKcvAGNWEwORB0MAth67AWXOYwOjZhsDBeAvBjoOlwPQRh8DQOqTAqhO+wBxTr8CA+KDAyz+3wMp988Cq3+DAASH1wCjnDMG1H83A+e+NwGZb4MBnvOjAv8qdwDl3+MDvyLDAcyXewD0v4MCsNs7ALETlwB62A8E22q7AZVflwM+wB8FTAMbAw4OzwFMWw8CSKL7AkNLLwMGO5cBCXLjA+CjjwFRtt8D+EMDAWwLlwFoK8cA/UcTA5xrcwJTa6sDEkLjAxtMNwUv3nMDr8JXAxVH5wCNzCsGJArXAlmzXwPaD4MAXrQvB1+ewwOP+yMC7lqnAWb/KwAxx4MCZcNDAXZTewC+J0cDcMenAWrmYwPJp/8AU4t3AcF2PwDEMp8C4bgbB6pTWwFK0CcESk6TA08fUwDqqx8AOP9fAX6XZwL4MA8HU8MzAobzCwGaT/8D1WazAefTRwC9S48AY2MbA5wzQwC2D1cB6nZTAvJyqwLT4pMA++dvAX1TLwEPyjMAzbtDAME/CwGDuBcFXcqXA5VrDwIeG/cDO4+bA2QTiwFYWCcFhVubAvBXqwDGoAcERUsvA2IQCwS7AyMAjmfXAtPeZwMCl/sDRnQHBAoXdwAcwycDPEejAyCQIwZFy4sBpMvfABFYCwVAOD8EHdA3BdQ2fwEuo28A9A9rA+5rnwG4r/sDRsZrAwEjUwD77rsBi/uXAFYAFwc0rAsGduvLAjZ7AwGe86cCZheHAfeeNwME+1MCBz8fAZGjbwIdA6cDJTfzAAlfdwKAB18AE7MDA51n9wNEKr8A55KjA8R3iwAsi+8BjYtrAPrjFwGUStMCx3NjANl3BwFz/xMAia9nAa4+vwCP2+sBSNPvAheoMwWP41MCvfqrA/hIEwfhm8sCmQ7jAaLrhwLyi6MBnwufA6qGCwL6swcBW/AXBhe3bwC1czsDT9OjATtsAwT/EDcG75rjAuzsFwXXKAsFIbdbAndQJwbjfq8BwdfbAbejqwJjU1MCCGdjAVHWswMzD1MBaWfnAqWeiwIX88cA2uMnAoL6ewAQ2z8DAv9/ALWDcwLBX8cAjQfLAf5rqwOKc0cArVPbADX7XwHiBxsDwePfAffnawO5jB8Eor8zAI92WwMokHkFK3dLA/aawwEoQrsDSHsDA8eG9wApCHUEuhxDBbKcIwcVP6cB9Oh1B+b4FwSgbuMADNpbAOL2ywDZX9MDSyJ7A7WbrwNHl5MDNGdbASC3lwLr+BMFtft3AX2PUwL5dHUGIGh5BkkLBwOMV0sB9wx1BhatowO0qHkHqgMXAc+3hwGkHCsErcgvBN2UGwYrq18DE8czAkXjTwHM61MC9A6nAra+xwLPcG0G/fO7ArJcdQTewEsFoDR5BRrsdQR/rqcC4kQrBiIOgwMXJ0sBezLfAUQbGwBoKwcDmxPrAW5zRwPwEFMGGl/rAxKW8wL6/DsFLTtrAGW6mwH3d28ChtrPAekPRwIfABMHhkM7ATb/EwGU36MATPe7AOEzEwDP11sA3YbPA3WzPwGekDMGcHtzAFAzQwJP/9sC5QtrARc+/wD4tnsDwqefAYhS1wJh21MCw8crAL4r5wE+s0sB1zdnAbenbwBKo3sBwjNrA5GUPwSPbqMBsat3ASsLBwBtj18DZctXA+LzVwAJd6cB+3KbAB/CdwEEFv8CUB5vAK7jRwPIq4MAettDApMy5wGLvvsC8jMPAV0TrwGwZzMAhxMXAL/XawErj08Dh3MfA6e3swJbe2MDFKs7A5azSwCK63MB5DKDA/BfbwI2Ju8A0r9rA39ISwbVa1MBUlsvA47kKwbQzk8BpFabAXV+wwKxD1cC4ZADByzbRwB7VC8E03MrA7yzLwF1Ar8Ck0NnANdjLwCGr4sDVnQXBfMzewNyF4sDOndDAdpDawNjf2cDxJIfA/oTlwJw+38CvHgnBThwRwT8CB8F+07nAbcfYwEax7sA6jKbAF564wC+Ct8CIt5rAHuX8wDXU4cDGLKzAVcbiwBlFDMGuedjAz5YCwXDXp8B+lLfAlUkLwanMDMFXqbPAPnnZwNx+1sDXy8zAA3yNwOE8k8CakwbBGa/awDpa+8ClWgTBJHAIwYtpvcATwbrA0D66wN3ACcFva3TAHxS7wEXGDMFE2MfANMLjwFOa1sDIrdTA6NHOwKama8A2kcTAOy+awKGgCMGkOQrB8hMCwVvhAsFA+sjAWKbVwJKMvcChZBHBsiDPwEOEosDCWM/AJDHnwCzVncDyAfDAso7KwOPE2MDACdbAA0WLwNl/C8EbA6nAghihwB033MCHe/TA18UCwbj908BecMLAg93AwF5m2sDjanPAo8oFwaFW0MClbcjA1AXlwFz99cByZQjBP2IRwcsoAMHv0tDAv4cLwd9gnMAP7rTAc7n1wGKxl8BGytjAdj/XwGDz3sAYKKPAnUTlwKG/AsF9MJDAU0vOwHxQ3MCCz9bAhIz1wC2p3cDRqt/AgAIBwduMC8GOtt7APPTQwDJKE8HHQA/Bz3TkwIqgDMFn6OrAOo7QwCDd3MCyH5nAg0bVwKZYxMBKGN7Ay9T3wKZdEMHkFMDAIyLcwBjg08DvvMfA8jrVwPt418AqfNXA00rtwNZo58CizNTABscUwYyXXsDthODAeYqJwEjL5cBDOA3BssbHwKXG5sAla8HAbGLhwAU/VsAvnNLAbS3OwFPR4sB16Z/A0XG6wPE52cBfbM/A4qrqwKlX0cDKJvzATcDjwJOACsHmfNPAvR7KwDlJFcEYfg3BqF7RwMis38AiLbLAggrPwHVk+MCfPurAA9DXwKwHEcEHwufAKjIKwXGq+cAQz+jAdZ8LwQGTDsE2QQvByEH5wLKz4sD+8A3BRDIJwVpxAMEfQNjAnyXlwIpmDsEgb+bAsRngwLv9A8ECE8TApYMKwS2QFMFTjwzBAnP6wJgjAMH+2trA+YQQwX+R58DLvM/Au1XlwBCiEsHdL+DA2t/gwAS118AT5ozAAU3lwOYa+8BUiOXAUqXXwHLoEMHQJa7ACE/XwKnK0cAQlhLBGzgIwa0gFsF0XLDAipYHwWL228BZYw/BlwHOwEcb2sC9+O7AcTvawDONA8FZVMrAg9IHwb3p4sD9/tnAuWfVwDIMuMBkBAvBgP/uwJu/x8DBXQvBKyQUwa0JAcGV//nAV9qxwI4F1MDdJt/A3PcMwRQS2MAUoOfAYBgAwS5FCcEXc+TAibjbwLkD3MBOOQ3B74ILwcp62cAYK9jABcrZwC6Y/cAY2tDA0QcGwXcp3sDJpAjBoDgHwfor4sDauvzA6I73wJQV88BhCeTANmXZwHtICcFbBAHBXljgwDKT28ASlP7AVRoAwacoBMF0NPLAtTwKwfpbCsGlwQrBU8PhwGnlCcFr6N3A+jXrwI3gqMA98QDBzMgDweS758Dz6AXBGaTuwBYj5MBVq/3AcQIJwc242sBEJ//Ar7QCwfDqBMHilwjB6RziwEGVBMFPoQbBDM8DwYnN/8BBTgPBioX7wPj68cByW+TALksAwV7i/8CpGQXBURkIwf4i48C5+/zAGt8AwRz+9sC0yADBII/vwImXncD6zOrA1BcBwbmm4sD1KALBPcoFwbISA8EBIgrBtvcHwSu89MB2cwPBXh4JwX1MA8Ev79/AAgYGwath5sArdvrAyDX8wJmUBsHIE+TAZrfvwOfMCcEHOPrA0Tj8wF3g4MDGbfrApWcGwVbjBMEvaeXAjo30wDnn8sDnhwjBkUQGwamWCMFoaK3Ar8AEwRWBBsFItf3Al9UIwZ/Kp8B9MZDAtYALwcavA8GbfgzB7OvgwLq6tsCeqqrATDb3wICIBMFuCtXAhKncwA632sDSCP3AsjL2wHppBMHZSQTB2nAMwf6Bx8Bd1KXA1zQFwVYfAMFMHtPAYWT4wOF4/sBvJAjBtwUDwUfessAUh/bAzO/wwKDiDMGqCADBfG3ewBnXzcCdLgHBoZO/wGiCz8BZbPLAQsP9wCxLBsHw7PHAmw3pwIfuqMDbCPfAitgEwe859cDvWcjAX2oLwc9L98D455LAXbzpwFgum8BhEJfAYOqOwOEOnMDaKaTA0K18wP/cmMBSVKrACPD+wKKhpcCUaZDAskuWwEO5A8E4HpTAFI+HwFO44sAdQATBLSTDwJQPAsEatw3B3muPwAmN4MCwyQ7B6OePwIfBkcDNLMfArYKSwJwIisC0dcXAW2oPwa7uccAhu5nAsCUAwfeGisB4YQ/BbeUSwe3lw8BOEArBROgEweD4oMBrtYTAOCj2wHP/CcHTdoDAQ1IFwXdLkMA+wdPAs4CNwAXQvsCyhpLAuwrWwCdCkMDzCwDBYuLwwDspzMAeSc7A05bowBbVmMDBK73AdfmNwPOtw8Dd1sfAJ//7wNuo3cBwgMLA8s52wMGC5MCLsW/AV60Nwfv4ksBIJ/7AUEKSwKpyvsC4/I7Aa2gGwZBljsAT2N7A8/D8wBphisBj4wLBKIsDwS+ZoMC0LdbA6Az5wJrskcA52BPBuwKQwEHfqMDMigTBSTuOwG1EqMBDjd/AM+SZwPYb1cC8/4jATeTAwHrlxsA2woTADoiJwEdljMA=",
          "dtype": "f4"
         },
         "xaxis": "x",
         "y": {
          "bdata": "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",
          "dtype": "f4"
         },
         "yaxis": "y"
        },
        {
         "hovertemplate": "Metadata_time_point=48<br>umap0=%{x}<br>umap1=%{y}<extra></extra>",
         "legendgroup": "48",
         "marker": {
          "color": "#99d8c9",
          "symbol": "circle"
         },
         "mode": "markers",
         "name": "48",
         "showlegend": true,
         "type": "scattergl",
         "x": {
          "bdata": "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",
          "dtype": "f4"
         },
         "xaxis": "x",
         "y": {
          "bdata": "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",
          "dtype": "f4"
         },
         "yaxis": "y"
        },
        {
         "hovertemplate": "Metadata_time_point=72<br>umap0=%{x}<br>umap1=%{y}<extra></extra>",
         "legendgroup": "72",
         "marker": {
          "color": "#2ca25f",
          "symbol": "circle"
         },
         "mode": "markers",
         "name": "72",
         "showlegend": true,
         "type": "scattergl",
         "x": {
          "bdata": "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",
          "dtype": "f4"
         },
         "xaxis": "x",
         "y": {
          "bdata": "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",
          "dtype": "f4"
         },
         "yaxis": "y"
        }
       ],
       "layout": {
        "legend": {
         "title": {
          "text": "Metadata_time_point"
         },
         "tracegroupgap": 0
        },
        "template": {
         "data": {
          "bar": [
           {
            "error_x": {
             "color": "#2a3f5f"
            },
            "error_y": {
             "color": "#2a3f5f"
            },
            "marker": {
             "line": {
              "color": "#E5ECF6",
              "width": 0.5
             },
             "pattern": {
              "fillmode": "overlay",
              "size": 10,
              "solidity": 0.2
             }
            },
            "type": "bar"
           }
          ],
          "barpolar": [
           {
            "marker": {
             "line": {
              "color": "#E5ECF6",
              "width": 0.5
             },
             "pattern": {
              "fillmode": "overlay",
              "size": 10,
              "solidity": 0.2
             }
            },
            "type": "barpolar"
           }
          ],
          "carpet": [
           {
            "aaxis": {
             "endlinecolor": "#2a3f5f",
             "gridcolor": "white",
             "linecolor": "white",
             "minorgridcolor": "white",
             "startlinecolor": "#2a3f5f"
            },
            "baxis": {
             "endlinecolor": "#2a3f5f",
             "gridcolor": "white",
             "linecolor": "white",
             "minorgridcolor": "white",
             "startlinecolor": "#2a3f5f"
            },
            "type": "carpet"
           }
          ],
          "choropleth": [
           {
            "colorbar": {
             "outlinewidth": 0,
             "ticks": ""
            },
            "type": "choropleth"
           }
          ],
          "contour": [
           {
            "colorbar": {
             "outlinewidth": 0,
             "ticks": ""
            },
            "colorscale": [
             [
              0.0,
              "#0d0887"
             ],
             [
              0.1111111111111111,
              "#46039f"
             ],
             [
              0.2222222222222222,
              "#7201a8"
             ],
             [
              0.3333333333333333,
              "#9c179e"
             ],
             [
              0.4444444444444444,
              "#bd3786"
             ],
             [
              0.5555555555555556,
              "#d8576b"
             ],
             [
              0.6666666666666666,
              "#ed7953"
             ],
             [
              0.7777777777777778,
              "#fb9f3a"
             ],
             [
              0.8888888888888888,
              "#fdca26"
             ],
             [
              1.0,
              "#f0f921"
             ]
            ],
            "type": "contour"
           }
          ],
          "contourcarpet": [
           {
            "colorbar": {
             "outlinewidth": 0,
             "ticks": ""
            },
            "type": "contourcarpet"
           }
          ],
          "heatmap": [
           {
            "colorbar": {
             "outlinewidth": 0,
             "ticks": ""
            },
            "colorscale": [
             [
              0.0,
              "#0d0887"
             ],
             [
              0.1111111111111111,
              "#46039f"
             ],
             [
              0.2222222222222222,
              "#7201a8"
             ],
             [
              0.3333333333333333,
              "#9c179e"
             ],
             [
              0.4444444444444444,
              "#bd3786"
             ],
             [
              0.5555555555555556,
              "#d8576b"
             ],
             [
              0.6666666666666666,
              "#ed7953"
             ],
             [
              0.7777777777777778,
              "#fb9f3a"
             ],
             [
              0.8888888888888888,
              "#fdca26"
             ],
             [
              1.0,
              "#f0f921"
             ]
            ],
            "type": "heatmap"
           }
          ],
          "histogram": [
           {
            "marker": {
             "pattern": {
              "fillmode": "overlay",
              "size": 10,
              "solidity": 0.2
             }
            },
            "type": "histogram"
           }
          ],
          "histogram2d": [
           {
            "colorbar": {
             "outlinewidth": 0,
             "ticks": ""
            },
            "colorscale": [
             [
              0.0,
              "#0d0887"
             ],
             [
              0.1111111111111111,
              "#46039f"
             ],
             [
              0.2222222222222222,
              "#7201a8"
             ],
             [
              0.3333333333333333,
              "#9c179e"
             ],
             [
              0.4444444444444444,
              "#bd3786"
             ],
             [
              0.5555555555555556,
              "#d8576b"
             ],
             [
              0.6666666666666666,
              "#ed7953"
             ],
             [
              0.7777777777777778,
              "#fb9f3a"
             ],
             [
              0.8888888888888888,
              "#fdca26"
             ],
             [
              1.0,
              "#f0f921"
             ]
            ],
            "type": "histogram2d"
           }
          ],
          "histogram2dcontour": [
           {
            "colorbar": {
             "outlinewidth": 0,
             "ticks": ""
            },
            "colorscale": [
             [
              0.0,
              "#0d0887"
             ],
             [
              0.1111111111111111,
              "#46039f"
             ],
             [
              0.2222222222222222,
              "#7201a8"
             ],
             [
              0.3333333333333333,
              "#9c179e"
             ],
             [
              0.4444444444444444,
              "#bd3786"
             ],
             [
              0.5555555555555556,
              "#d8576b"
             ],
             [
              0.6666666666666666,
              "#ed7953"
             ],
             [
              0.7777777777777778,
              "#fb9f3a"
             ],
             [
              0.8888888888888888,
              "#fdca26"
             ],
             [
              1.0,
              "#f0f921"
             ]
            ],
            "type": "histogram2dcontour"
           }
          ],
          "mesh3d": [
           {
            "colorbar": {
             "outlinewidth": 0,
             "ticks": ""
            },
            "type": "mesh3d"
           }
          ],
          "parcoords": [
           {
            "line": {
             "colorbar": {
              "outlinewidth": 0,
              "ticks": ""
             }
            },
            "type": "parcoords"
           }
          ],
          "pie": [
           {
            "automargin": true,
            "type": "pie"
           }
          ],
          "scatter": [
           {
            "fillpattern": {
             "fillmode": "overlay",
             "size": 10,
             "solidity": 0.2
            },
            "type": "scatter"
           }
          ],
          "scatter3d": [
           {
            "line": {
             "colorbar": {
              "outlinewidth": 0,
              "ticks": ""
             }
            },
            "marker": {
             "colorbar": {
              "outlinewidth": 0,
              "ticks": ""
             }
            },
            "type": "scatter3d"
           }
          ],
          "scattercarpet": [
           {
            "marker": {
             "colorbar": {
              "outlinewidth": 0,
              "ticks": ""
             }
            },
            "type": "scattercarpet"
           }
          ],
          "scattergeo": [
           {
            "marker": {
             "colorbar": {
              "outlinewidth": 0,
              "ticks": ""
             }
            },
            "type": "scattergeo"
           }
          ],
          "scattergl": [
           {
            "marker": {
             "colorbar": {
              "outlinewidth": 0,
              "ticks": ""
             }
            },
            "type": "scattergl"
           }
          ],
          "scattermap": [
           {
            "marker": {
             "colorbar": {
              "outlinewidth": 0,
              "ticks": ""
             }
            },
            "type": "scattermap"
           }
          ],
          "scattermapbox": [
           {
            "marker": {
             "colorbar": {
              "outlinewidth": 0,
              "ticks": ""
             }
            },
            "type": "scattermapbox"
           }
          ],
          "scatterpolar": [
           {
            "marker": {
             "colorbar": {
              "outlinewidth": 0,
              "ticks": ""
             }
            },
            "type": "scatterpolar"
           }
          ],
          "scatterpolargl": [
           {
            "marker": {
             "colorbar": {
              "outlinewidth": 0,
              "ticks": ""
             }
            },
            "type": "scatterpolargl"
           }
          ],
          "scatterternary": [
           {
            "marker": {
             "colorbar": {
              "outlinewidth": 0,
              "ticks": ""
             }
            },
            "type": "scatterternary"
           }
          ],
          "surface": [
           {
            "colorbar": {
             "outlinewidth": 0,
             "ticks": ""
            },
            "colorscale": [
             [
              0.0,
              "#0d0887"
             ],
             [
              0.1111111111111111,
              "#46039f"
             ],
             [
              0.2222222222222222,
              "#7201a8"
             ],
             [
              0.3333333333333333,
              "#9c179e"
             ],
             [
              0.4444444444444444,
              "#bd3786"
             ],
             [
              0.5555555555555556,
              "#d8576b"
             ],
             [
              0.6666666666666666,
              "#ed7953"
             ],
             [
              0.7777777777777778,
              "#fb9f3a"
             ],
             [
              0.8888888888888888,
              "#fdca26"
             ],
             [
              1.0,
              "#f0f921"
             ]
            ],
            "type": "surface"
           }
          ],
          "table": [
           {
            "cells": {
             "fill": {
              "color": "#EBF0F8"
             },
             "line": {
              "color": "white"
             }
            },
            "header": {
             "fill": {
              "color": "#C8D4E3"
             },
             "line": {
              "color": "white"
             }
            },
            "type": "table"
           }
          ]
         },
         "layout": {
          "annotationdefaults": {
           "arrowcolor": "#2a3f5f",
           "arrowhead": 0,
           "arrowwidth": 1
          },
          "autotypenumbers": "strict",
          "coloraxis": {
           "colorbar": {
            "outlinewidth": 0,
            "ticks": ""
           }
          },
          "colorscale": {
           "diverging": [
            [
             0,
             "#8e0152"
            ],
            [
             0.1,
             "#c51b7d"
            ],
            [
             0.2,
             "#de77ae"
            ],
            [
             0.3,
             "#f1b6da"
            ],
            [
             0.4,
             "#fde0ef"
            ],
            [
             0.5,
             "#f7f7f7"
            ],
            [
             0.6,
             "#e6f5d0"
            ],
            [
             0.7,
             "#b8e186"
            ],
            [
             0.8,
             "#7fbc41"
            ],
            [
             0.9,
             "#4d9221"
            ],
            [
             1,
             "#276419"
            ]
           ],
           "sequential": [
            [
             0.0,
             "#0d0887"
            ],
            [
             0.1111111111111111,
             "#46039f"
            ],
            [
             0.2222222222222222,
             "#7201a8"
            ],
            [
             0.3333333333333333,
             "#9c179e"
            ],
            [
             0.4444444444444444,
             "#bd3786"
            ],
            [
             0.5555555555555556,
             "#d8576b"
            ],
            [
             0.6666666666666666,
             "#ed7953"
            ],
            [
             0.7777777777777778,
             "#fb9f3a"
            ],
            [
             0.8888888888888888,
             "#fdca26"
            ],
            [
             1.0,
             "#f0f921"
            ]
           ],
           "sequentialminus": [
            [
             0.0,
             "#0d0887"
            ],
            [
             0.1111111111111111,
             "#46039f"
            ],
            [
             0.2222222222222222,
             "#7201a8"
            ],
            [
             0.3333333333333333,
             "#9c179e"
            ],
            [
             0.4444444444444444,
             "#bd3786"
            ],
            [
             0.5555555555555556,
             "#d8576b"
            ],
            [
             0.6666666666666666,
             "#ed7953"
            ],
            [
             0.7777777777777778,
             "#fb9f3a"
            ],
            [
             0.8888888888888888,
             "#fdca26"
            ],
            [
             1.0,
             "#f0f921"
            ]
           ]
          },
          "colorway": [
           "#636efa",
           "#EF553B",
           "#00cc96",
           "#ab63fa",
           "#FFA15A",
           "#19d3f3",
           "#FF6692",
           "#B6E880",
           "#FF97FF",
           "#FECB52"
          ],
          "font": {
           "color": "#2a3f5f"
          },
          "geo": {
           "bgcolor": "white",
           "lakecolor": "white",
           "landcolor": "#E5ECF6",
           "showlakes": true,
           "showland": true,
           "subunitcolor": "white"
          },
          "hoverlabel": {
           "align": "left"
          },
          "hovermode": "closest",
          "mapbox": {
           "style": "light"
          },
          "paper_bgcolor": "white",
          "plot_bgcolor": "#E5ECF6",
          "polar": {
           "angularaxis": {
            "gridcolor": "white",
            "linecolor": "white",
            "ticks": ""
           },
           "bgcolor": "#E5ECF6",
           "radialaxis": {
            "gridcolor": "white",
            "linecolor": "white",
            "ticks": ""
           }
          },
          "scene": {
           "xaxis": {
            "backgroundcolor": "#E5ECF6",
            "gridcolor": "white",
            "gridwidth": 2,
            "linecolor": "white",
            "showbackground": true,
            "ticks": "",
            "zerolinecolor": "white"
           },
           "yaxis": {
            "backgroundcolor": "#E5ECF6",
            "gridcolor": "white",
            "gridwidth": 2,
            "linecolor": "white",
            "showbackground": true,
            "ticks": "",
            "zerolinecolor": "white"
           },
           "zaxis": {
            "backgroundcolor": "#E5ECF6",
            "gridcolor": "white",
            "gridwidth": 2,
            "linecolor": "white",
            "showbackground": true,
            "ticks": "",
            "zerolinecolor": "white"
           }
          },
          "shapedefaults": {
           "line": {
            "color": "#2a3f5f"
           }
          },
          "ternary": {
           "aaxis": {
            "gridcolor": "white",
            "linecolor": "white",
            "ticks": ""
           },
           "baxis": {
            "gridcolor": "white",
            "linecolor": "white",
            "ticks": ""
           },
           "bgcolor": "#E5ECF6",
           "caxis": {
            "gridcolor": "white",
            "linecolor": "white",
            "ticks": ""
           }
          },
          "title": {
           "x": 0.05
          },
          "xaxis": {
           "automargin": true,
           "gridcolor": "white",
           "linecolor": "white",
           "ticks": "",
           "title": {
            "standoff": 15
           },
           "zerolinecolor": "white",
           "zerolinewidth": 2
          },
          "yaxis": {
           "automargin": true,
           "gridcolor": "white",
           "linecolor": "white",
           "ticks": "",
           "title": {
            "standoff": 15
           },
           "zerolinecolor": "white",
           "zerolinewidth": 2
          }
         }
        },
        "title": {
         "text": "UMAP by Time Point"
        },
        "xaxis": {
         "anchor": "y",
         "domain": [
          0.0,
          1.0
         ],
         "title": {
          "text": "umap0"
         }
        },
        "yaxis": {
         "anchor": "x",
         "domain": [
          0.0,
          1.0
         ],
         "title": {
          "text": "umap1"
         }
        }
       }
      }
     },
     "metadata": {},
     "output_type": "display_data"
    }
   ],
   "source": [
    "blue_green_short_colors = [\"#edf8fb\", \"#99d8c9\", \"#2ca25f\"]\n",
    "\n",
    "fig = px.scatter(\n",
    "    umapdf,\n",
    "    x=\"umap0\",\n",
    "    y=\"umap1\",\n",
    "    color=\"Metadata_time_point\",\n",
    "    title=\"UMAP by Time Point\",\n",
    "    color_discrete_sequence=blue_green_short_colors,\n",
    ")\n",
    "\n",
    "fig.show()\n",
    "fig.write_image(\n",
    "    static_figure_path / \"round1_time_point_umap.png\", width=2000, height=1200\n",
    ")\n",
    "fig.write_html(\n",
    "    int_figure_path / \"round1_time_point_umap.html\",\n",
    "    full_html=True,\n",
    "    include_plotlyjs=\"embed\",\n",
    ")"
   ]
  },
  {
   "cell_type": "markdown",
   "metadata": {
    "jukit_cell_id": "VjOBxwWwuA"
   },
   "source": [
    "# Treemap Cell Count Figures"
   ]
  },
  {
   "cell_type": "code",
   "execution_count": 20,
   "metadata": {
    "execution": {
     "iopub.execute_input": "2025-07-03T22:24:13.872037Z",
     "iopub.status.busy": "2025-07-03T22:24:13.871783Z",
     "iopub.status.idle": "2025-07-03T22:24:15.747489Z",
     "shell.execute_reply": "2025-07-03T22:24:15.747067Z"
    },
    "jukit_cell_id": "F6Ya6sNQvW"
   },
   "outputs": [
    {
     "data": {
      "application/vnd.plotly.v1+json": {
       "config": {
        "plotlyServerURL": "https://plot.ly"
       },
       "data": [
        {
         "branchvalues": "total",
         "domain": {
          "x": [
           0.0,
           1.0
          ],
          "y": [
           0.0,
           1.0
          ]
         },
         "hovertemplate": "labels=%{label}<br>count=%{value}<br>parent=%{parent}<br>id=%{id}<extra></extra>",
         "ids": [
          "U2-OS/12000/48",
          "U2-OS/4000/72",
          "U2-OS/8000/48",
          "U2-OS/12000/72",
          "U2-OS/8000/72",
          "U2-OS/4000/48",
          "U2-OS/2000/72",
          "U2-OS/12000/24",
          "CHLA-10/12000/72",
          "A-673/8000/72",
          "U2-OS/8000/24",
          "CHLA-10/8000/72",
          "A-673/12000/48",
          "CHP-212/12000/72",
          "U2-OS/1000/72",
          "A-673/4000/72",
          "CHP-212/8000/72",
          "A-673/8000/48",
          "U2-OS/2000/48",
          "U2-OS/4000/24",
          "CHLA-10/4000/72",
          "NB-1/12000/72",
          "CHLA-10/12000/48",
          "CHP-212/12000/24",
          "CHP-212/12000/48",
          "CHLA-200/12000/72",
          "NB-1/8000/72",
          "CHP-212/4000/72",
          "SHSY5Y/12000/48",
          "CHLA-200/12000/48",
          "CHLA-200/12000/24",
          "CHLA-200/8000/72",
          "SKNMC/8000/72",
          "NB-1/12000/24",
          "KPNYN/12000/24",
          "U2-OS/1000/48",
          "CHLA-200/8000/48",
          "SKNMC/4000/72",
          "NB-1/4000/72",
          "SHSY5Y/12000/72",
          "SKNMC/12000/72",
          "A-673/2000/72",
          "CHLA-200/8000/24",
          "CHLA-10/2000/72",
          "CHLA-10/8000/48",
          "CHP-212/8000/24",
          "SHSY5Y/8000/48",
          "U2-OS/2000/24",
          "A-673/4000/48",
          "CHLA-200/4000/72",
          "KPNYN/8000/72",
          "SHSY5Y/8000/72",
          "KPNYN/12000/72",
          "KPNYN/8000/24",
          "NB-1/2000/72",
          "CHP-212/2000/72",
          "KPNYN/4000/72",
          "CHLA-10/1000/72",
          "CHLA-200/4000/48",
          "SKNMC/12000/48",
          "A-673/1000/72",
          "CHLA-10/12000/24",
          "SHSY5Y/4000/48",
          "CHP-212/4000/24",
          "U2-OS/1000/24",
          "NB-1/8000/24",
          "SHSY5Y/4000/72",
          "A-673/4000/24",
          "CHLA-218/8000/72",
          "CHLA-218/12000/72",
          "CHLA-200/2000/72",
          "A-673/2000/48",
          "CHLA-200/4000/24",
          "CHLA-25/12000/24",
          "NB-1/2000/48",
          "KPNYN/4000/24",
          "CHLA-10/4000/48",
          "CHP-212/1000/72",
          "KPNYN/2000/72",
          "CHLA-25/8000/72",
          "CHP-212/4000/48",
          "NB-1/1000/72",
          "CHLA-25/8000/24",
          "SKNMC/2000/72",
          "CHLA-200/2000/48",
          "KPNYN/4000/48",
          "CHLA-200/1000/72",
          "CHLA-25/4000/72",
          "SHSY5Y/2000/48",
          "SHSY5Y/2000/72",
          "A-673/2000/24",
          "CHP-212/2000/24",
          "CHLA-113/12000/24",
          "SKNDZ/4000/72",
          "SHSY5Y/12000/24",
          "CHP-212/2000/48",
          "A-673/1000/48",
          "CHLA-200/1000/48",
          "CHLA-10/2000/48",
          "CHLA-10/8000/24",
          "CHP-212/8000/48",
          "SHSY5Y/8000/24",
          "KPNYN/2000/48",
          "KPNYN/2000/24",
          "CHLA-113/8000/24",
          "SKNDZ/2000/72",
          "SKNDZ/8000/72",
          "NB-1/4000/24",
          "A-673/12000/72",
          "NB-1/1000/48",
          "A-673/1000/24",
          "SKNDZ/12000/72",
          "CHLA-218/4000/72",
          "CHLA-113/12000/72",
          "CHLA-25/2000/72",
          "SKNMC/8000/48",
          "CHLA-200/2000/24",
          "KPNYN/1000/72",
          "CHLA-25/4000/24",
          "CHLA-113/8000/72",
          "CHLA-25/12000/48",
          "CHP-212/1000/48",
          "CHLA-218/12000/24",
          "SKNDZ/1000/72",
          "SHSY5Y/4000/24",
          "CHLA-218/8000/24",
          "CHLA-113/4000/72",
          "SHSY5Y/1000/72",
          "CHLA-200/1000/24",
          "CHLA-218/8000/48",
          "KPNYN/8000/48",
          "CHLA-218/2000/72",
          "CHLA-10/1000/48",
          "CHLA-113/4000/24",
          "NB-1/2000/24",
          "CHLA-10/4000/24",
          "KPNYN/1000/24",
          "CHLA-25/2000/24",
          "CHP-212/1000/24",
          "SKNDZ/12000/48",
          "KPNYN/1000/48",
          "CHLA-25/1000/72",
          "CHLA-113/2000/72",
          "SKNDZ/8000/24",
          "SKNMC/1000/72",
          "CHLA-113/1000/24",
          "SKNDZ/8000/48",
          "SHSY5Y/2000/24",
          "CHLA-218/4000/48",
          "CHLA-113/1000/72",
          "SHSY5Y/1000/48",
          "CHLA-218/4000/24",
          "CHLA-25/4000/48",
          "SKNDZ/4000/24",
          "CHLA-218/1000/72",
          "CHLA-218/12000/48",
          "CHLA-218/2000/24",
          "CHLA-25/8000/48",
          "SHSY5Y/1000/24",
          "SKNDZ/12000/24",
          "CHLA-10/2000/24",
          "CHLA-113/2000/24",
          "NB-1/1000/24",
          "CHLA-25/1000/24",
          "CHLA-113/2000/48",
          "CHLA-218/2000/48",
          "NB-1/12000/48",
          "CHLA-218/1000/24",
          "CHLA-25/2000/48",
          "SKNDZ/4000/48",
          "SKNDZ/2000/24",
          "SKNDZ/2000/48",
          "CHLA-218/1000/48",
          "CHLA-113/8000/48",
          "SKNDZ/1000/48",
          "SKNMC/4000/48",
          "CHLA-113/1000/48",
          "CHLA-113/12000/48",
          "CHLA-10/1000/24",
          "CHLA-25/1000/48",
          "CHLA-25/12000/72",
          "SKNDZ/1000/24",
          "SKNMC/1000/24",
          "CHLA-113/4000/48",
          "SKNMC/4000/24",
          "NB-1/4000/48",
          "SKNMC/1000/48",
          "SKNMC/2000/24",
          "SKNMC/2000/48",
          "U2-OS/12000",
          "U2-OS/4000",
          "U2-OS/8000",
          "U2-OS/2000",
          "CHLA-10/12000",
          "A-673/8000",
          "CHLA-10/8000",
          "A-673/12000",
          "CHP-212/12000",
          "U2-OS/1000",
          "A-673/4000",
          "CHP-212/8000",
          "CHLA-10/4000",
          "NB-1/12000",
          "CHLA-200/12000",
          "NB-1/8000",
          "CHP-212/4000",
          "SHSY5Y/12000",
          "CHLA-200/8000",
          "SKNMC/8000",
          "KPNYN/12000",
          "SKNMC/4000",
          "NB-1/4000",
          "SKNMC/12000",
          "A-673/2000",
          "CHLA-10/2000",
          "SHSY5Y/8000",
          "CHLA-200/4000",
          "KPNYN/8000",
          "NB-1/2000",
          "CHP-212/2000",
          "KPNYN/4000",
          "CHLA-10/1000",
          "A-673/1000",
          "SHSY5Y/4000",
          "CHLA-218/8000",
          "CHLA-218/12000",
          "CHLA-200/2000",
          "CHLA-25/12000",
          "CHP-212/1000",
          "KPNYN/2000",
          "CHLA-25/8000",
          "NB-1/1000",
          "SKNMC/2000",
          "CHLA-200/1000",
          "CHLA-25/4000",
          "SHSY5Y/2000",
          "CHLA-113/12000",
          "SKNDZ/4000",
          "CHLA-113/8000",
          "SKNDZ/2000",
          "SKNDZ/8000",
          "SKNDZ/12000",
          "CHLA-218/4000",
          "CHLA-25/2000",
          "KPNYN/1000",
          "SKNDZ/1000",
          "CHLA-113/4000",
          "SHSY5Y/1000",
          "CHLA-218/2000",
          "CHLA-25/1000",
          "CHLA-113/2000",
          "SKNMC/1000",
          "CHLA-113/1000",
          "CHLA-218/1000",
          "U2-OS",
          "CHLA-10",
          "A-673",
          "CHP-212",
          "NB-1",
          "CHLA-200",
          "SHSY5Y",
          "SKNMC",
          "KPNYN",
          "CHLA-218",
          "CHLA-25",
          "CHLA-113",
          "SKNDZ"
         ],
         "labels": [
          "48",
          "72",
          "48",
          "72",
          "72",
          "48",
          "72",
          "24",
          "72",
          "72",
          "24",
          "72",
          "48",
          "72",
          "72",
          "72",
          "72",
          "48",
          "48",
          "24",
          "72",
          "72",
          "48",
          "24",
          "48",
          "72",
          "72",
          "72",
          "48",
          "48",
          "24",
          "72",
          "72",
          "24",
          "24",
          "48",
          "48",
          "72",
          "72",
          "72",
          "72",
          "72",
          "24",
          "72",
          "48",
          "24",
          "48",
          "24",
          "48",
          "72",
          "72",
          "72",
          "72",
          "24",
          "72",
          "72",
          "72",
          "72",
          "48",
          "48",
          "72",
          "24",
          "48",
          "24",
          "24",
          "24",
          "72",
          "24",
          "72",
          "72",
          "72",
          "48",
          "24",
          "24",
          "48",
          "24",
          "48",
          "72",
          "72",
          "72",
          "48",
          "72",
          "24",
          "72",
          "48",
          "48",
          "72",
          "72",
          "48",
          "72",
          "24",
          "24",
          "24",
          "72",
          "24",
          "48",
          "48",
          "48",
          "48",
          "24",
          "48",
          "24",
          "48",
          "24",
          "24",
          "72",
          "72",
          "24",
          "72",
          "48",
          "24",
          "72",
          "72",
          "72",
          "72",
          "48",
          "24",
          "72",
          "24",
          "72",
          "48",
          "48",
          "24",
          "72",
          "24",
          "24",
          "72",
          "72",
          "24",
          "48",
          "48",
          "72",
          "48",
          "24",
          "24",
          "24",
          "24",
          "24",
          "24",
          "48",
          "48",
          "72",
          "72",
          "24",
          "72",
          "24",
          "48",
          "24",
          "48",
          "72",
          "48",
          "24",
          "48",
          "24",
          "72",
          "48",
          "24",
          "48",
          "24",
          "24",
          "24",
          "24",
          "24",
          "24",
          "48",
          "48",
          "48",
          "24",
          "48",
          "48",
          "24",
          "48",
          "48",
          "48",
          "48",
          "48",
          "48",
          "48",
          "24",
          "48",
          "72",
          "24",
          "24",
          "48",
          "24",
          "48",
          "48",
          "24",
          "48",
          "12000",
          "4000",
          "8000",
          "2000",
          "12000",
          "8000",
          "8000",
          "12000",
          "12000",
          "1000",
          "4000",
          "8000",
          "4000",
          "12000",
          "12000",
          "8000",
          "4000",
          "12000",
          "8000",
          "8000",
          "12000",
          "4000",
          "4000",
          "12000",
          "2000",
          "2000",
          "8000",
          "4000",
          "8000",
          "2000",
          "2000",
          "4000",
          "1000",
          "1000",
          "4000",
          "8000",
          "12000",
          "2000",
          "12000",
          "1000",
          "2000",
          "8000",
          "1000",
          "2000",
          "1000",
          "4000",
          "2000",
          "12000",
          "4000",
          "8000",
          "2000",
          "8000",
          "12000",
          "4000",
          "2000",
          "1000",
          "1000",
          "4000",
          "1000",
          "2000",
          "1000",
          "2000",
          "1000",
          "1000",
          "1000",
          "U2-OS",
          "CHLA-10",
          "A-673",
          "CHP-212",
          "NB-1",
          "CHLA-200",
          "SHSY5Y",
          "SKNMC",
          "KPNYN",
          "CHLA-218",
          "CHLA-25",
          "CHLA-113",
          "SKNDZ"
         ],
         "name": "",
         "parents": [
          "U2-OS/12000",
          "U2-OS/4000",
          "U2-OS/8000",
          "U2-OS/12000",
          "U2-OS/8000",
          "U2-OS/4000",
          "U2-OS/2000",
          "U2-OS/12000",
          "CHLA-10/12000",
          "A-673/8000",
          "U2-OS/8000",
          "CHLA-10/8000",
          "A-673/12000",
          "CHP-212/12000",
          "U2-OS/1000",
          "A-673/4000",
          "CHP-212/8000",
          "A-673/8000",
          "U2-OS/2000",
          "U2-OS/4000",
          "CHLA-10/4000",
          "NB-1/12000",
          "CHLA-10/12000",
          "CHP-212/12000",
          "CHP-212/12000",
          "CHLA-200/12000",
          "NB-1/8000",
          "CHP-212/4000",
          "SHSY5Y/12000",
          "CHLA-200/12000",
          "CHLA-200/12000",
          "CHLA-200/8000",
          "SKNMC/8000",
          "NB-1/12000",
          "KPNYN/12000",
          "U2-OS/1000",
          "CHLA-200/8000",
          "SKNMC/4000",
          "NB-1/4000",
          "SHSY5Y/12000",
          "SKNMC/12000",
          "A-673/2000",
          "CHLA-200/8000",
          "CHLA-10/2000",
          "CHLA-10/8000",
          "CHP-212/8000",
          "SHSY5Y/8000",
          "U2-OS/2000",
          "A-673/4000",
          "CHLA-200/4000",
          "KPNYN/8000",
          "SHSY5Y/8000",
          "KPNYN/12000",
          "KPNYN/8000",
          "NB-1/2000",
          "CHP-212/2000",
          "KPNYN/4000",
          "CHLA-10/1000",
          "CHLA-200/4000",
          "SKNMC/12000",
          "A-673/1000",
          "CHLA-10/12000",
          "SHSY5Y/4000",
          "CHP-212/4000",
          "U2-OS/1000",
          "NB-1/8000",
          "SHSY5Y/4000",
          "A-673/4000",
          "CHLA-218/8000",
          "CHLA-218/12000",
          "CHLA-200/2000",
          "A-673/2000",
          "CHLA-200/4000",
          "CHLA-25/12000",
          "NB-1/2000",
          "KPNYN/4000",
          "CHLA-10/4000",
          "CHP-212/1000",
          "KPNYN/2000",
          "CHLA-25/8000",
          "CHP-212/4000",
          "NB-1/1000",
          "CHLA-25/8000",
          "SKNMC/2000",
          "CHLA-200/2000",
          "KPNYN/4000",
          "CHLA-200/1000",
          "CHLA-25/4000",
          "SHSY5Y/2000",
          "SHSY5Y/2000",
          "A-673/2000",
          "CHP-212/2000",
          "CHLA-113/12000",
          "SKNDZ/4000",
          "SHSY5Y/12000",
          "CHP-212/2000",
          "A-673/1000",
          "CHLA-200/1000",
          "CHLA-10/2000",
          "CHLA-10/8000",
          "CHP-212/8000",
          "SHSY5Y/8000",
          "KPNYN/2000",
          "KPNYN/2000",
          "CHLA-113/8000",
          "SKNDZ/2000",
          "SKNDZ/8000",
          "NB-1/4000",
          "A-673/12000",
          "NB-1/1000",
          "A-673/1000",
          "SKNDZ/12000",
          "CHLA-218/4000",
          "CHLA-113/12000",
          "CHLA-25/2000",
          "SKNMC/8000",
          "CHLA-200/2000",
          "KPNYN/1000",
          "CHLA-25/4000",
          "CHLA-113/8000",
          "CHLA-25/12000",
          "CHP-212/1000",
          "CHLA-218/12000",
          "SKNDZ/1000",
          "SHSY5Y/4000",
          "CHLA-218/8000",
          "CHLA-113/4000",
          "SHSY5Y/1000",
          "CHLA-200/1000",
          "CHLA-218/8000",
          "KPNYN/8000",
          "CHLA-218/2000",
          "CHLA-10/1000",
          "CHLA-113/4000",
          "NB-1/2000",
          "CHLA-10/4000",
          "KPNYN/1000",
          "CHLA-25/2000",
          "CHP-212/1000",
          "SKNDZ/12000",
          "KPNYN/1000",
          "CHLA-25/1000",
          "CHLA-113/2000",
          "SKNDZ/8000",
          "SKNMC/1000",
          "CHLA-113/1000",
          "SKNDZ/8000",
          "SHSY5Y/2000",
          "CHLA-218/4000",
          "CHLA-113/1000",
          "SHSY5Y/1000",
          "CHLA-218/4000",
          "CHLA-25/4000",
          "SKNDZ/4000",
          "CHLA-218/1000",
          "CHLA-218/12000",
          "CHLA-218/2000",
          "CHLA-25/8000",
          "SHSY5Y/1000",
          "SKNDZ/12000",
          "CHLA-10/2000",
          "CHLA-113/2000",
          "NB-1/1000",
          "CHLA-25/1000",
          "CHLA-113/2000",
          "CHLA-218/2000",
          "NB-1/12000",
          "CHLA-218/1000",
          "CHLA-25/2000",
          "SKNDZ/4000",
          "SKNDZ/2000",
          "SKNDZ/2000",
          "CHLA-218/1000",
          "CHLA-113/8000",
          "SKNDZ/1000",
          "SKNMC/4000",
          "CHLA-113/1000",
          "CHLA-113/12000",
          "CHLA-10/1000",
          "CHLA-25/1000",
          "CHLA-25/12000",
          "SKNDZ/1000",
          "SKNMC/1000",
          "CHLA-113/4000",
          "SKNMC/4000",
          "NB-1/4000",
          "SKNMC/1000",
          "SKNMC/2000",
          "SKNMC/2000",
          "U2-OS",
          "U2-OS",
          "U2-OS",
          "U2-OS",
          "CHLA-10",
          "A-673",
          "CHLA-10",
          "A-673",
          "CHP-212",
          "U2-OS",
          "A-673",
          "CHP-212",
          "CHLA-10",
          "NB-1",
          "CHLA-200",
          "NB-1",
          "CHP-212",
          "SHSY5Y",
          "CHLA-200",
          "SKNMC",
          "KPNYN",
          "SKNMC",
          "NB-1",
          "SKNMC",
          "A-673",
          "CHLA-10",
          "SHSY5Y",
          "CHLA-200",
          "KPNYN",
          "NB-1",
          "CHP-212",
          "KPNYN",
          "CHLA-10",
          "A-673",
          "SHSY5Y",
          "CHLA-218",
          "CHLA-218",
          "CHLA-200",
          "CHLA-25",
          "CHP-212",
          "KPNYN",
          "CHLA-25",
          "NB-1",
          "SKNMC",
          "CHLA-200",
          "CHLA-25",
          "SHSY5Y",
          "CHLA-113",
          "SKNDZ",
          "CHLA-113",
          "SKNDZ",
          "SKNDZ",
          "SKNDZ",
          "CHLA-218",
          "CHLA-25",
          "KPNYN",
          "SKNDZ",
          "CHLA-113",
          "SHSY5Y",
          "CHLA-218",
          "CHLA-25",
          "CHLA-113",
          "SKNMC",
          "CHLA-113",
          "CHLA-218",
          "",
          "",
          "",
          "",
          "",
          "",
          "",
          "",
          "",
          "",
          "",
          "",
          ""
         ],
         "type": "treemap",
         "values": {
          "bdata": "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",
          "dtype": "f8"
         }
        }
       ],
       "layout": {
        "legend": {
         "tracegroupgap": 0
        },
        "template": {
         "data": {
          "bar": [
           {
            "error_x": {
             "color": "#2a3f5f"
            },
            "error_y": {
             "color": "#2a3f5f"
            },
            "marker": {
             "line": {
              "color": "#E5ECF6",
              "width": 0.5
             },
             "pattern": {
              "fillmode": "overlay",
              "size": 10,
              "solidity": 0.2
             }
            },
            "type": "bar"
           }
          ],
          "barpolar": [
           {
            "marker": {
             "line": {
              "color": "#E5ECF6",
              "width": 0.5
             },
             "pattern": {
              "fillmode": "overlay",
              "size": 10,
              "solidity": 0.2
             }
            },
            "type": "barpolar"
           }
          ],
          "carpet": [
           {
            "aaxis": {
             "endlinecolor": "#2a3f5f",
             "gridcolor": "white",
             "linecolor": "white",
             "minorgridcolor": "white",
             "startlinecolor": "#2a3f5f"
            },
            "baxis": {
             "endlinecolor": "#2a3f5f",
             "gridcolor": "white",
             "linecolor": "white",
             "minorgridcolor": "white",
             "startlinecolor": "#2a3f5f"
            },
            "type": "carpet"
           }
          ],
          "choropleth": [
           {
            "colorbar": {
             "outlinewidth": 0,
             "ticks": ""
            },
            "type": "choropleth"
           }
          ],
          "contour": [
           {
            "colorbar": {
             "outlinewidth": 0,
             "ticks": ""
            },
            "colorscale": [
             [
              0.0,
              "#0d0887"
             ],
             [
              0.1111111111111111,
              "#46039f"
             ],
             [
              0.2222222222222222,
              "#7201a8"
             ],
             [
              0.3333333333333333,
              "#9c179e"
             ],
             [
              0.4444444444444444,
              "#bd3786"
             ],
             [
              0.5555555555555556,
              "#d8576b"
             ],
             [
              0.6666666666666666,
              "#ed7953"
             ],
             [
              0.7777777777777778,
              "#fb9f3a"
             ],
             [
              0.8888888888888888,
              "#fdca26"
             ],
             [
              1.0,
              "#f0f921"
             ]
            ],
            "type": "contour"
           }
          ],
          "contourcarpet": [
           {
            "colorbar": {
             "outlinewidth": 0,
             "ticks": ""
            },
            "type": "contourcarpet"
           }
          ],
          "heatmap": [
           {
            "colorbar": {
             "outlinewidth": 0,
             "ticks": ""
            },
            "colorscale": [
             [
              0.0,
              "#0d0887"
             ],
             [
              0.1111111111111111,
              "#46039f"
             ],
             [
              0.2222222222222222,
              "#7201a8"
             ],
             [
              0.3333333333333333,
              "#9c179e"
             ],
             [
              0.4444444444444444,
              "#bd3786"
             ],
             [
              0.5555555555555556,
              "#d8576b"
             ],
             [
              0.6666666666666666,
              "#ed7953"
             ],
             [
              0.7777777777777778,
              "#fb9f3a"
             ],
             [
              0.8888888888888888,
              "#fdca26"
             ],
             [
              1.0,
              "#f0f921"
             ]
            ],
            "type": "heatmap"
           }
          ],
          "histogram": [
           {
            "marker": {
             "pattern": {
              "fillmode": "overlay",
              "size": 10,
              "solidity": 0.2
             }
            },
            "type": "histogram"
           }
          ],
          "histogram2d": [
           {
            "colorbar": {
             "outlinewidth": 0,
             "ticks": ""
            },
            "colorscale": [
             [
              0.0,
              "#0d0887"
             ],
             [
              0.1111111111111111,
              "#46039f"
             ],
             [
              0.2222222222222222,
              "#7201a8"
             ],
             [
              0.3333333333333333,
              "#9c179e"
             ],
             [
              0.4444444444444444,
              "#bd3786"
             ],
             [
              0.5555555555555556,
              "#d8576b"
             ],
             [
              0.6666666666666666,
              "#ed7953"
             ],
             [
              0.7777777777777778,
              "#fb9f3a"
             ],
             [
              0.8888888888888888,
              "#fdca26"
             ],
             [
              1.0,
              "#f0f921"
             ]
            ],
            "type": "histogram2d"
           }
          ],
          "histogram2dcontour": [
           {
            "colorbar": {
             "outlinewidth": 0,
             "ticks": ""
            },
            "colorscale": [
             [
              0.0,
              "#0d0887"
             ],
             [
              0.1111111111111111,
              "#46039f"
             ],
             [
              0.2222222222222222,
              "#7201a8"
             ],
             [
              0.3333333333333333,
              "#9c179e"
             ],
             [
              0.4444444444444444,
              "#bd3786"
             ],
             [
              0.5555555555555556,
              "#d8576b"
             ],
             [
              0.6666666666666666,
              "#ed7953"
             ],
             [
              0.7777777777777778,
              "#fb9f3a"
             ],
             [
              0.8888888888888888,
              "#fdca26"
             ],
             [
              1.0,
              "#f0f921"
             ]
            ],
            "type": "histogram2dcontour"
           }
          ],
          "mesh3d": [
           {
            "colorbar": {
             "outlinewidth": 0,
             "ticks": ""
            },
            "type": "mesh3d"
           }
          ],
          "parcoords": [
           {
            "line": {
             "colorbar": {
              "outlinewidth": 0,
              "ticks": ""
             }
            },
            "type": "parcoords"
           }
          ],
          "pie": [
           {
            "automargin": true,
            "type": "pie"
           }
          ],
          "scatter": [
           {
            "fillpattern": {
             "fillmode": "overlay",
             "size": 10,
             "solidity": 0.2
            },
            "type": "scatter"
           }
          ],
          "scatter3d": [
           {
            "line": {
             "colorbar": {
              "outlinewidth": 0,
              "ticks": ""
             }
            },
            "marker": {
             "colorbar": {
              "outlinewidth": 0,
              "ticks": ""
             }
            },
            "type": "scatter3d"
           }
          ],
          "scattercarpet": [
           {
            "marker": {
             "colorbar": {
              "outlinewidth": 0,
              "ticks": ""
             }
            },
            "type": "scattercarpet"
           }
          ],
          "scattergeo": [
           {
            "marker": {
             "colorbar": {
              "outlinewidth": 0,
              "ticks": ""
             }
            },
            "type": "scattergeo"
           }
          ],
          "scattergl": [
           {
            "marker": {
             "colorbar": {
              "outlinewidth": 0,
              "ticks": ""
             }
            },
            "type": "scattergl"
           }
          ],
          "scattermap": [
           {
            "marker": {
             "colorbar": {
              "outlinewidth": 0,
              "ticks": ""
             }
            },
            "type": "scattermap"
           }
          ],
          "scattermapbox": [
           {
            "marker": {
             "colorbar": {
              "outlinewidth": 0,
              "ticks": ""
             }
            },
            "type": "scattermapbox"
           }
          ],
          "scatterpolar": [
           {
            "marker": {
             "colorbar": {
              "outlinewidth": 0,
              "ticks": ""
             }
            },
            "type": "scatterpolar"
           }
          ],
          "scatterpolargl": [
           {
            "marker": {
             "colorbar": {
              "outlinewidth": 0,
              "ticks": ""
             }
            },
            "type": "scatterpolargl"
           }
          ],
          "scatterternary": [
           {
            "marker": {
             "colorbar": {
              "outlinewidth": 0,
              "ticks": ""
             }
            },
            "type": "scatterternary"
           }
          ],
          "surface": [
           {
            "colorbar": {
             "outlinewidth": 0,
             "ticks": ""
            },
            "colorscale": [
             [
              0.0,
              "#0d0887"
             ],
             [
              0.1111111111111111,
              "#46039f"
             ],
             [
              0.2222222222222222,
              "#7201a8"
             ],
             [
              0.3333333333333333,
              "#9c179e"
             ],
             [
              0.4444444444444444,
              "#bd3786"
             ],
             [
              0.5555555555555556,
              "#d8576b"
             ],
             [
              0.6666666666666666,
              "#ed7953"
             ],
             [
              0.7777777777777778,
              "#fb9f3a"
             ],
             [
              0.8888888888888888,
              "#fdca26"
             ],
             [
              1.0,
              "#f0f921"
             ]
            ],
            "type": "surface"
           }
          ],
          "table": [
           {
            "cells": {
             "fill": {
              "color": "#EBF0F8"
             },
             "line": {
              "color": "white"
             }
            },
            "header": {
             "fill": {
              "color": "#C8D4E3"
             },
             "line": {
              "color": "white"
             }
            },
            "type": "table"
           }
          ]
         },
         "layout": {
          "annotationdefaults": {
           "arrowcolor": "#2a3f5f",
           "arrowhead": 0,
           "arrowwidth": 1
          },
          "autotypenumbers": "strict",
          "coloraxis": {
           "colorbar": {
            "outlinewidth": 0,
            "ticks": ""
           }
          },
          "colorscale": {
           "diverging": [
            [
             0,
             "#8e0152"
            ],
            [
             0.1,
             "#c51b7d"
            ],
            [
             0.2,
             "#de77ae"
            ],
            [
             0.3,
             "#f1b6da"
            ],
            [
             0.4,
             "#fde0ef"
            ],
            [
             0.5,
             "#f7f7f7"
            ],
            [
             0.6,
             "#e6f5d0"
            ],
            [
             0.7,
             "#b8e186"
            ],
            [
             0.8,
             "#7fbc41"
            ],
            [
             0.9,
             "#4d9221"
            ],
            [
             1,
             "#276419"
            ]
           ],
           "sequential": [
            [
             0.0,
             "#0d0887"
            ],
            [
             0.1111111111111111,
             "#46039f"
            ],
            [
             0.2222222222222222,
             "#7201a8"
            ],
            [
             0.3333333333333333,
             "#9c179e"
            ],
            [
             0.4444444444444444,
             "#bd3786"
            ],
            [
             0.5555555555555556,
             "#d8576b"
            ],
            [
             0.6666666666666666,
             "#ed7953"
            ],
            [
             0.7777777777777778,
             "#fb9f3a"
            ],
            [
             0.8888888888888888,
             "#fdca26"
            ],
            [
             1.0,
             "#f0f921"
            ]
           ],
           "sequentialminus": [
            [
             0.0,
             "#0d0887"
            ],
            [
             0.1111111111111111,
             "#46039f"
            ],
            [
             0.2222222222222222,
             "#7201a8"
            ],
            [
             0.3333333333333333,
             "#9c179e"
            ],
            [
             0.4444444444444444,
             "#bd3786"
            ],
            [
             0.5555555555555556,
             "#d8576b"
            ],
            [
             0.6666666666666666,
             "#ed7953"
            ],
            [
             0.7777777777777778,
             "#fb9f3a"
            ],
            [
             0.8888888888888888,
             "#fdca26"
            ],
            [
             1.0,
             "#f0f921"
            ]
           ]
          },
          "colorway": [
           "#636efa",
           "#EF553B",
           "#00cc96",
           "#ab63fa",
           "#FFA15A",
           "#19d3f3",
           "#FF6692",
           "#B6E880",
           "#FF97FF",
           "#FECB52"
          ],
          "font": {
           "color": "#2a3f5f"
          },
          "geo": {
           "bgcolor": "white",
           "lakecolor": "white",
           "landcolor": "#E5ECF6",
           "showlakes": true,
           "showland": true,
           "subunitcolor": "white"
          },
          "hoverlabel": {
           "align": "left"
          },
          "hovermode": "closest",
          "mapbox": {
           "style": "light"
          },
          "paper_bgcolor": "white",
          "plot_bgcolor": "#E5ECF6",
          "polar": {
           "angularaxis": {
            "gridcolor": "white",
            "linecolor": "white",
            "ticks": ""
           },
           "bgcolor": "#E5ECF6",
           "radialaxis": {
            "gridcolor": "white",
            "linecolor": "white",
            "ticks": ""
           }
          },
          "scene": {
           "xaxis": {
            "backgroundcolor": "#E5ECF6",
            "gridcolor": "white",
            "gridwidth": 2,
            "linecolor": "white",
            "showbackground": true,
            "ticks": "",
            "zerolinecolor": "white"
           },
           "yaxis": {
            "backgroundcolor": "#E5ECF6",
            "gridcolor": "white",
            "gridwidth": 2,
            "linecolor": "white",
            "showbackground": true,
            "ticks": "",
            "zerolinecolor": "white"
           },
           "zaxis": {
            "backgroundcolor": "#E5ECF6",
            "gridcolor": "white",
            "gridwidth": 2,
            "linecolor": "white",
            "showbackground": true,
            "ticks": "",
            "zerolinecolor": "white"
           }
          },
          "shapedefaults": {
           "line": {
            "color": "#2a3f5f"
           }
          },
          "ternary": {
           "aaxis": {
            "gridcolor": "white",
            "linecolor": "white",
            "ticks": ""
           },
           "baxis": {
            "gridcolor": "white",
            "linecolor": "white",
            "ticks": ""
           },
           "bgcolor": "#E5ECF6",
           "caxis": {
            "gridcolor": "white",
            "linecolor": "white",
            "ticks": ""
           }
          },
          "title": {
           "x": 0.05
          },
          "xaxis": {
           "automargin": true,
           "gridcolor": "white",
           "linecolor": "white",
           "ticks": "",
           "title": {
            "standoff": 15
           },
           "zerolinecolor": "white",
           "zerolinewidth": 2
          },
          "yaxis": {
           "automargin": true,
           "gridcolor": "white",
           "linecolor": "white",
           "ticks": "",
           "title": {
            "standoff": 15
           },
           "zerolinecolor": "white",
           "zerolinewidth": 2
          }
         }
        },
        "title": {
         "text": "Treemap of Cell Counts"
        }
       }
      }
     },
     "metadata": {},
     "output_type": "display_data"
    }
   ],
   "source": [
    "cellcountdf = (\n",
    "    round2df[[\"Metadata_cell_line\", \"Metadata_seeding_density\", \"Metadata_time_point\"]]\n",
    "    .value_counts()\n",
    "    .reset_index(name=\"count\")\n",
    ")\n",
    "\n",
    "fig = px.treemap(\n",
    "    cellcountdf,\n",
    "    path=[\"Metadata_cell_line\", \"Metadata_seeding_density\", \"Metadata_time_point\"],\n",
    "    values=\"count\",\n",
    "    title=\"Treemap of Cell Counts\",\n",
    ")\n",
    "\n",
    "fig.show()\n",
    "fig.write_image(static_figure_path / \"round2_cell_count_treemap.png\", width=2000, height=1200)\n",
    "fig.write_html(\n",
    "    int_figure_path / \"round2_cell_count_treemap.html\",\n",
    "    full_html=True,\n",
    "    include_plotlyjs=\"embed\",\n",
    ")"
   ]
  }
 ],
 "metadata": {
  "anaconda-cloud": {},
  "kernelspec": {
   "display_name": "python",
   "language": "python",
   "name": "python3"
  },
  "language_info": {
   "codemirror_mode": {
    "name": "ipython",
    "version": 3
   },
   "file_extension": ".py",
   "mimetype": "text/x-python",
   "name": "python",
   "nbconvert_exporter": "python",
   "pygments_lexer": "ipython3",
   "version": "3.11.0rc1"
  }
 },
 "nbformat": 4,
 "nbformat_minor": 4
}
