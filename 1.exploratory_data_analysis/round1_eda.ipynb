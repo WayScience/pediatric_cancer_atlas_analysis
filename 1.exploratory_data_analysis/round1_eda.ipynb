{
 "cells": [
  {
   "cell_type": "markdown",
   "metadata": {
    "jukit_cell_id": "lM8dYQPBT5"
   },
   "source": [
    "# Explore Round 1 Data Patterns\n",
    "An exploration of the round 1 data to understand prominent patterns."
   ]
  },
  {
   "cell_type": "code",
   "execution_count": 1,
   "metadata": {
    "execution": {
     "iopub.execute_input": "2025-07-03T22:07:41.310945Z",
     "iopub.status.busy": "2025-07-03T22:07:41.310839Z",
     "iopub.status.idle": "2025-07-03T22:07:44.166526Z",
     "shell.execute_reply": "2025-07-03T22:07:44.166135Z"
    },
    "jukit_cell_id": "chKOlruhvo"
   },
   "outputs": [
    {
     "name": "stderr",
     "output_type": "stream",
     "text": [
      "/home/camo/projects/pediatric_cancer_atlas_analysis/1.exploratory_data_analysis/.venv/lib/python3.11/site-packages/tqdm/auto.py:21: TqdmWarning: IProgress not found. Please update jupyter and ipywidgets. See https://ipywidgets.readthedocs.io/en/stable/user_install.html\n",
      "  from .autonotebook import tqdm as notebook_tqdm\n"
     ]
    }
   ],
   "source": [
    "import pathlib\n",
    "\n",
    "import kaleido\n",
    "import pandas as pd\n",
    "import plotly.express as px\n",
    "import plotly.io as pio\n",
    "from umap import UMAP"
   ]
  },
  {
   "cell_type": "markdown",
   "metadata": {
    "jukit_cell_id": "fodzHP9szp"
   },
   "source": [
    "## Find the root of the git repo on the host system"
   ]
  },
  {
   "cell_type": "code",
   "execution_count": 2,
   "metadata": {
    "execution": {
     "iopub.execute_input": "2025-07-03T22:07:44.168206Z",
     "iopub.status.busy": "2025-07-03T22:07:44.167924Z",
     "iopub.status.idle": "2025-07-03T22:07:44.170589Z",
     "shell.execute_reply": "2025-07-03T22:07:44.170326Z"
    },
    "jukit_cell_id": "RPnfSxTAVa"
   },
   "outputs": [],
   "source": [
    "# Get the current working directory\n",
    "cwd = pathlib.Path.cwd()\n",
    "\n",
    "if (cwd / \".git\").is_dir():\n",
    "    root_dir = cwd\n",
    "\n",
    "else:\n",
    "    root_dir = None\n",
    "    for parent in cwd.parents:\n",
    "        if (parent / \".git\").is_dir():\n",
    "            root_dir = parent\n",
    "            break\n",
    "\n",
    "# Check if a Git root directory was found\n",
    "if root_dir is None:\n",
    "    raise FileNotFoundError(\"No Git root directory found.\")"
   ]
  },
  {
   "cell_type": "markdown",
   "metadata": {
    "jukit_cell_id": "UzvLnM8utC"
   },
   "source": [
    "# Inputs"
   ]
  },
  {
   "cell_type": "code",
   "execution_count": 3,
   "metadata": {
    "execution": {
     "iopub.execute_input": "2025-07-03T22:07:44.171562Z",
     "iopub.status.busy": "2025-07-03T22:07:44.171385Z",
     "iopub.status.idle": "2025-07-03T22:08:04.929876Z",
     "shell.execute_reply": "2025-07-03T22:08:04.929436Z"
    },
    "jukit_cell_id": "hploOEYYGN"
   },
   "outputs": [],
   "source": [
    "pilot_path = root_dir / \"big_drive/alsf/ALSF_pilot_data\"\n",
    "\n",
    "round1_profiles_path = (\n",
    "    pilot_path / \"preprocessed_profiles_SN0313537/single_cell_profiles\"\n",
    ").resolve(strict=True)\n",
    "\n",
    "common_cols = None\n",
    "\n",
    "for pq_file in list(round1_profiles_path.rglob(\"*feature_selected.parquet\")):\n",
    "    cols = pd.read_parquet(pq_file).columns\n",
    "    if common_cols is None:\n",
    "        common_cols = set(cols)\n",
    "\n",
    "    else:\n",
    "        common_cols &= set(cols)\n",
    "\n",
    "round1df = pd.concat(\n",
    "    [\n",
    "        pd.read_parquet(pq_file, columns=common_cols)\n",
    "        for pq_file in round1_profiles_path.rglob(\"*feature_selected.parquet\")\n",
    "    ],\n",
    "    axis=0,\n",
    ")"
   ]
  },
  {
   "cell_type": "code",
   "execution_count": 4,
   "metadata": {
    "execution": {
     "iopub.execute_input": "2025-07-03T22:08:04.931326Z",
     "iopub.status.busy": "2025-07-03T22:08:04.931214Z",
     "iopub.status.idle": "2025-07-03T22:08:04.933593Z",
     "shell.execute_reply": "2025-07-03T22:08:04.933291Z"
    },
    "jukit_cell_id": "aVI8vugmwG"
   },
   "outputs": [],
   "source": [
    "round1_figure_path = pathlib.Path(\"round1_figures_path\")\n",
    "\n",
    "int_figure_path = round1_figure_path / \"interactive_figures\"\n",
    "int_figure_path.mkdir(parents=True, exist_ok=True)\n",
    "\n",
    "static_figure_path = round1_figure_path / \"static_figures\"\n",
    "static_figure_path.mkdir(parents=True, exist_ok=True)"
   ]
  },
  {
   "cell_type": "markdown",
   "metadata": {
    "jukit_cell_id": "LoSAqYPOTT"
   },
   "source": [
    "# High-Level Data Characteristics"
   ]
  },
  {
   "cell_type": "code",
   "execution_count": 5,
   "metadata": {
    "execution": {
     "iopub.execute_input": "2025-07-03T22:08:04.934622Z",
     "iopub.status.busy": "2025-07-03T22:08:04.934473Z",
     "iopub.status.idle": "2025-07-03T22:08:04.936485Z",
     "shell.execute_reply": "2025-07-03T22:08:04.936180Z"
    },
    "jukit_cell_id": "sW5ZMw6kqN"
   },
   "outputs": [
    {
     "name": "stdout",
     "output_type": "stream",
     "text": [
      "(2271735, 555)\n"
     ]
    }
   ],
   "source": [
    "print(round1df.shape)"
   ]
  },
  {
   "cell_type": "code",
   "execution_count": 6,
   "metadata": {
    "execution": {
     "iopub.execute_input": "2025-07-03T22:08:04.937497Z",
     "iopub.status.busy": "2025-07-03T22:08:04.937316Z",
     "iopub.status.idle": "2025-07-03T22:08:05.710167Z",
     "shell.execute_reply": "2025-07-03T22:08:05.709741Z"
    },
    "jukit_cell_id": "QGVlS1LFBd"
   },
   "outputs": [
    {
     "name": "stdout",
     "output_type": "stream",
     "text": [
      "Are there any NaN entries?\n"
     ]
    },
    {
     "name": "stdout",
     "output_type": "stream",
     "text": [
      "Answer: False\n"
     ]
    }
   ],
   "source": [
    "print(\"Are there any NaN entries?\")\n",
    "print(f\"Answer: {round1df.isna().any().any()}\")"
   ]
  },
  {
   "cell_type": "markdown",
   "metadata": {
    "jukit_cell_id": "BiLzGTCOop"
   },
   "source": [
    "## Metadata Exploration"
   ]
  },
  {
   "cell_type": "code",
   "execution_count": 7,
   "metadata": {
    "execution": {
     "iopub.execute_input": "2025-07-03T22:08:05.711470Z",
     "iopub.status.busy": "2025-07-03T22:08:05.711350Z",
     "iopub.status.idle": "2025-07-03T22:08:05.773816Z",
     "shell.execute_reply": "2025-07-03T22:08:05.773481Z"
    },
    "jukit_cell_id": "bkvItDJtwz"
   },
   "outputs": [
    {
     "data": {
      "text/plain": [
       "<StringArray>\n",
       "['BR00143977', 'BR00143980', 'BR00143978', 'BR00143981', 'BR00143979',\n",
       " 'BR00143976']\n",
       "Length: 6, dtype: string"
      ]
     },
     "execution_count": 7,
     "metadata": {},
     "output_type": "execute_result"
    }
   ],
   "source": [
    "round1df[\"Metadata_Plate\"].unique()"
   ]
  },
  {
   "cell_type": "code",
   "execution_count": 8,
   "metadata": {
    "execution": {
     "iopub.execute_input": "2025-07-03T22:08:05.774884Z",
     "iopub.status.busy": "2025-07-03T22:08:05.774778Z",
     "iopub.status.idle": "2025-07-03T22:08:05.783085Z",
     "shell.execute_reply": "2025-07-03T22:08:05.782770Z"
    },
    "jukit_cell_id": "u1vbFm46Nk"
   },
   "outputs": [
    {
     "data": {
      "text/plain": [
       "array([24, 72, 48])"
      ]
     },
     "execution_count": 8,
     "metadata": {},
     "output_type": "execute_result"
    }
   ],
   "source": [
    "round1df[\"Metadata_time_point\"].unique()"
   ]
  },
  {
   "cell_type": "code",
   "execution_count": 9,
   "metadata": {
    "execution": {
     "iopub.execute_input": "2025-07-03T22:08:05.784144Z",
     "iopub.status.busy": "2025-07-03T22:08:05.783979Z",
     "iopub.status.idle": "2025-07-03T22:08:05.792392Z",
     "shell.execute_reply": "2025-07-03T22:08:05.792096Z"
    },
    "jukit_cell_id": "FD0QX97dxp"
   },
   "outputs": [
    {
     "name": "stdout",
     "output_type": "stream",
     "text": [
      "\n",
      "Unique timepoints:\n"
     ]
    },
    {
     "data": {
      "text/plain": [
       "array([24, 72, 48])"
      ]
     },
     "execution_count": 9,
     "metadata": {},
     "output_type": "execute_result"
    }
   ],
   "source": [
    "print(\"\\nUnique timepoints:\")\n",
    "round1df[\"Metadata_time_point\"].unique()"
   ]
  },
  {
   "cell_type": "code",
   "execution_count": 10,
   "metadata": {
    "execution": {
     "iopub.execute_input": "2025-07-03T22:08:05.793425Z",
     "iopub.status.busy": "2025-07-03T22:08:05.793238Z",
     "iopub.status.idle": "2025-07-03T22:08:05.801723Z",
     "shell.execute_reply": "2025-07-03T22:08:05.801385Z"
    },
    "jukit_cell_id": "bQ8nuxMNiR"
   },
   "outputs": [
    {
     "name": "stdout",
     "output_type": "stream",
     "text": [
      "\n",
      "Unique Seeding Densities:\n"
     ]
    },
    {
     "data": {
      "text/plain": [
       "array([ 1000,  2000,  4000,  8000, 12000])"
      ]
     },
     "execution_count": 10,
     "metadata": {},
     "output_type": "execute_result"
    }
   ],
   "source": [
    "print(\"\\nUnique Seeding Densities:\")\n",
    "round1df[\"Metadata_seeding_density\"].unique()"
   ]
  },
  {
   "cell_type": "code",
   "execution_count": 11,
   "metadata": {
    "execution": {
     "iopub.execute_input": "2025-07-03T22:08:05.802748Z",
     "iopub.status.busy": "2025-07-03T22:08:05.802578Z",
     "iopub.status.idle": "2025-07-03T22:08:05.811611Z",
     "shell.execute_reply": "2025-07-03T22:08:05.811231Z"
    },
    "jukit_cell_id": "4gr4EFd0uD"
   },
   "outputs": [
    {
     "data": {
      "text/plain": [
       "Metadata_seeding_density\n",
       "12000    741226\n",
       "8000     650241\n",
       "4000     460244\n",
       "2000     277229\n",
       "1000     142795\n",
       "Name: count, dtype: int64"
      ]
     },
     "execution_count": 11,
     "metadata": {},
     "output_type": "execute_result"
    }
   ],
   "source": [
    "round1df[\"Metadata_seeding_density\"].value_counts()"
   ]
  },
  {
   "cell_type": "code",
   "execution_count": 12,
   "metadata": {
    "execution": {
     "iopub.execute_input": "2025-07-03T22:08:05.812568Z",
     "iopub.status.busy": "2025-07-03T22:08:05.812367Z",
     "iopub.status.idle": "2025-07-03T22:08:05.864998Z",
     "shell.execute_reply": "2025-07-03T22:08:05.864648Z"
    },
    "jukit_cell_id": "ApqdsLAWPX"
   },
   "outputs": [
    {
     "data": {
      "text/plain": [
       "array(['KP-N-YN', 'NB-1', 'ONS-76', 'SJSA-1', 'SK-N-AS', 'KNS-42',\n",
       "       'U2-OS', 'DAOY', 'IMR32', 'PA1', 'SK-N-MC', 'CHP212', 'SH-SY5Y',\n",
       "       'A673', 'G292', 'G401', 'G402', 'Saos-2'], dtype=object)"
      ]
     },
     "execution_count": 12,
     "metadata": {},
     "output_type": "execute_result"
    }
   ],
   "source": [
    "round1df[\"Metadata_cell_line\"].unique()"
   ]
  },
  {
   "cell_type": "code",
   "execution_count": 13,
   "metadata": {
    "execution": {
     "iopub.execute_input": "2025-07-03T22:08:05.866082Z",
     "iopub.status.busy": "2025-07-03T22:08:05.865888Z",
     "iopub.status.idle": "2025-07-03T22:08:05.874198Z",
     "shell.execute_reply": "2025-07-03T22:08:05.873893Z"
    },
    "jukit_cell_id": "qrhKm33V6n"
   },
   "outputs": [
    {
     "data": {
      "text/plain": [
       "1016"
      ]
     },
     "execution_count": 13,
     "metadata": {},
     "output_type": "execute_result"
    }
   ],
   "source": [
    "round1df[\"Metadata_Image_Count_Cells\"].nunique()"
   ]
  },
  {
   "cell_type": "code",
   "execution_count": 14,
   "metadata": {
    "execution": {
     "iopub.execute_input": "2025-07-03T22:08:05.875333Z",
     "iopub.status.busy": "2025-07-03T22:08:05.875096Z",
     "iopub.status.idle": "2025-07-03T22:08:06.043305Z",
     "shell.execute_reply": "2025-07-03T22:08:06.042922Z"
    },
    "jukit_cell_id": "003J5TqTgq"
   },
   "outputs": [
    {
     "data": {
      "text/plain": [
       "Metadata_Plate\n",
       "BR00143980    560822\n",
       "BR00143981    444567\n",
       "BR00143978    439236\n",
       "BR00143979    308833\n",
       "BR00143976    263755\n",
       "BR00143977    254522\n",
       "Name: count, dtype: Int64"
      ]
     },
     "execution_count": 14,
     "metadata": {},
     "output_type": "execute_result"
    }
   ],
   "source": [
    "round1df[\"Metadata_Plate\"].value_counts()"
   ]
  },
  {
   "cell_type": "markdown",
   "metadata": {
    "jukit_cell_id": "4wuYOqL58c"
   },
   "source": [
    "# UMAP Figures"
   ]
  },
  {
   "cell_type": "code",
   "execution_count": 15,
   "metadata": {
    "execution": {
     "iopub.execute_input": "2025-07-03T22:08:06.044503Z",
     "iopub.status.busy": "2025-07-03T22:08:06.044270Z",
     "iopub.status.idle": "2025-07-03T22:08:27.020510Z",
     "shell.execute_reply": "2025-07-03T22:08:27.020066Z"
    },
    "jukit_cell_id": "L34lE7aARC"
   },
   "outputs": [
    {
     "name": "stderr",
     "output_type": "stream",
     "text": [
      "/home/camo/projects/pediatric_cancer_atlas_analysis/1.exploratory_data_analysis/.venv/lib/python3.11/site-packages/umap/umap_.py:1952: UserWarning: n_jobs value 1 overridden to 1 by setting random_state. Use no seed for parallelism.\n",
      "  warn(\n"
     ]
    }
   ],
   "source": [
    "vdf = round1df.groupby(\n",
    "    [\"Metadata_cell_line\", \"Metadata_seeding_density\", \"Metadata_time_point\"]\n",
    ").sample(n=50, random_state=0)\n",
    "\n",
    "umap_obj = UMAP(random_state=0)\n",
    "umapdf = umap_obj.fit_transform(\n",
    "    vdf.loc[:, ~vdf.columns.str.contains(\"metadata\", case=False)]\n",
    ")\n",
    "umapdf = pd.DataFrame(umapdf, columns=[\"umap0\", \"umap1\"])\n",
    "umapdf = umapdf.assign(\n",
    "    Metadata_cell_line=vdf[\"Metadata_cell_line\"].reset_index(drop=True),\n",
    "    Metadata_seeding_density=vdf[\"Metadata_seeding_density\"].reset_index(drop=True),\n",
    "    Metadata_time_point=vdf[\"Metadata_time_point\"].reset_index(drop=True),\n",
    ")\n",
    "umapdf[\"Metadata_seeding_density\"] = umapdf[\"Metadata_seeding_density\"].astype(str)\n",
    "umapdf[\"Metadata_time_point\"] = umapdf[\"Metadata_time_point\"].astype(str)"
   ]
  },
  {
   "cell_type": "code",
   "execution_count": 16,
   "metadata": {
    "execution": {
     "iopub.execute_input": "2025-07-03T22:08:27.021939Z",
     "iopub.status.busy": "2025-07-03T22:08:27.021834Z",
     "iopub.status.idle": "2025-07-03T22:08:30.958744Z",
     "shell.execute_reply": "2025-07-03T22:08:30.958309Z"
    },
    "jukit_cell_id": "ieSDyFKFQC"
   },
   "outputs": [
    {
     "data": {
      "text/plain": [
       "PosixPath('/home/camo/projects/pediatric_cancer_atlas_analysis/1.exploratory_data_analysis/.venv/lib/python3.11/site-packages/choreographer/cli/browser_exe/chrome-linux64/chrome')"
      ]
     },
     "execution_count": 16,
     "metadata": {},
     "output_type": "execute_result"
    }
   ],
   "source": [
    "# Needed to display in chrome\n",
    "kaleido.get_chrome_sync()"
   ]
  },
  {
   "cell_type": "code",
   "execution_count": 17,
   "metadata": {
    "execution": {
     "iopub.execute_input": "2025-07-03T22:08:30.960105Z",
     "iopub.status.busy": "2025-07-03T22:08:30.959900Z",
     "iopub.status.idle": "2025-07-03T22:08:34.254729Z",
     "shell.execute_reply": "2025-07-03T22:08:34.254299Z"
    },
    "jukit_cell_id": "OZ5YdxJEuG"
   },
   "outputs": [
    {
     "data": {
      "application/vnd.plotly.v1+json": {
       "config": {
        "plotlyServerURL": "https://plot.ly"
       },
       "data": [
        {
         "hovertemplate": "Metadata_cell_line=A673<br>umap0=%{x}<br>umap1=%{y}<extra></extra>",
         "legendgroup": "A673",
         "marker": {
          "color": "#2E91E5",
          "symbol": "circle"
         },
         "mode": "markers",
         "name": "A673",
         "showlegend": true,
         "type": "scattergl",
         "x": {
          "bdata": "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",
          "dtype": "f4"
         },
         "xaxis": "x",
         "y": {
          "bdata": "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",
          "dtype": "f4"
         },
         "yaxis": "y"
        },
        {
         "hovertemplate": "Metadata_cell_line=CHP212<br>umap0=%{x}<br>umap1=%{y}<extra></extra>",
         "legendgroup": "CHP212",
         "marker": {
          "color": "#E15F99",
          "symbol": "circle"
         },
         "mode": "markers",
         "name": "CHP212",
         "showlegend": true,
         "type": "scattergl",
         "x": {
          "bdata": "ninePpYzFD/Vw2O9FYKXvdYydz5/cbm9RoGGv4V69j5Cf2g/EesfP0GRMMBPGLc/1onDPtjQeb11gV6/BnROwIgM777Fy2O/FvRTwFtZGD86GVK/c8NRPvk0RL9Wj4k/YqqDwFZzfsC0PKU/d1TmPjGIMT422TY/DTMZPU5jur4CVPQ9RJnnPIz64D0DWzW/ThdMwGfv2j7TXi/AbkylvmfK6z4LVL0+9aOCwGyQg8AsCzbAOFjtP5F+lz5caDY96XdSv1xvWsARhhE/kv7Ev8q2cD6Zg1g+0CqpP5xFXD/RcxG+aSOUPvC5oz+jzkjAq3IwP6qLpT+v4qO/aWmSv55H8z6oEL8/GgVivm6jqD4InyA+bn8jPi9Dxz4n75w/C2jjPxEdVz/66co+R8OwPireEsAEnrQ+fFOtP4haAz+8p42/4ieWvYNTkD72IRrAHdVNP883Wj3a9oS/OPebvlQmbsBd7nU/DYSEP/N3Lz+i9gc/BiXEP6wnuj7eurY9OtNgPv937TwWhk4/EQ+pP+Ybxj21wLm8KTs5vbnhHcByEJo+1zSkPz+9DD2a18E+M3B1v9JnS7/YWJU/KlCYvsIlob/Wu7C+26IsP8kzoz8JFES/zDAivisUGMBi0Cm/1rQ1P+68DT8uDWO90Xvmvsojeb40EFM/saePPmF2L7/0jLM/H/WUP9OwpL+mlnS/bHzWPsBCH783XkQ/Nsi2PsD1gMBM1pu/+EmuvtEDEr/Hgwq/9QSdv0Q4MsAvwka8xyUrv1baqr1hjzE/YcuUP7aXmL04qMi/hPPLPrhRAz4na+Y+y4d9P/Ja8z0kn6o/zwswPs2nHb7D5ms/02gFPvGiaj4lN5M/0KslvkQAJz9xTzs/nJMWvraH3770yg8/XyKUP7pRlUCRidY//a62PspnbD56fOw8NXGhPfgJ9T45RRI/9YlOP7A0yLz9wHI/pKlNwHbywr2MpizAspZ+v4FlAruxLIE+w4e2PwXLtL6T6e0+G+R4vW0A3D2iT9A++VOgPvU6TT9J+2M7vnWBPt5gAr9xO7q95IIoPwWLPT8rHCY/Dq+Ev4Ulhz8sVa+9v6CbvU+jFT8UjY6/VW7WveZCNz7+xJI+EE1wvq+GJD9Qt5y/bd1+P+kmGj8IlcO/hvufPvgNoT9yaN+9xh5aP0H8gz6Rt1Q/myFjP8P+4729Hy8+ydTev5BYRjyZLCo/qLKBPtx16T1ixsU+9y21PxCWET+K6W4/ljv8vSVXyL1lVow+H78tvlgv8z5zaE4/pFebvsq9Z8A4glk/b6sEPmXVyD4JdIc+ibtlvghtD71sOD0/+rg1P4XUBj5qfUw/A9d4P/uYRT/odT4/1h6nPlBQlkDN64O/nMqvP95WSL9sPZ8/mSYDPs3KZr8NGyE/rru3Pqfour4a4KQ/sS9xP6rlkj/GbRm/knhDP2CbZz/E1qG+Z/q2vD4N8L/wrRM+Z1THPvi6tb2ydDk9pDrNv5PiQT+OMqW+seJcv7KpgL/FjcU+8Gqpv6s4PL6YsPY9fX5hvuXejj+iJFS/C0IOv+s3pr/gkwS/ciRuveD/yz7i0ZJAcv2Kvj2GPz1ZBAk/YetxP8LqiL/2Kkc+WvrEPjJEUb9Wr4s/R7DDPlnJBz/HcWA+gkeavAYNVb5qNCg/WoocP3x1uT7D2AE9RNA6vyGbvr7I+m4+gzyCPx5zrT6+goy/pjbQPuP7iL7Nq8i/4rAUPz6nLb0P734/7aaTvgQXWz+fWgI/gmVLP17xBb+PQRE/7cX7PXuibMDVfG3AoExJv/z9ZD6GXgy/VdP1vtg9Lz8qUy+/36m3PqObN79OgbE/YKGcPgJ4sz79lBY/fr+RQCoJMsC/p4c/O3uZv9dvq74lb7w/xGgvP18eCr+81TO+Iv2OP5K2773DCzE/go7qvgu48DyrGd69vxaDPhgJG8AW6zS+pxXCvb/aoD9JeBg/2IjePQyxL75UnBM/g06IO4FSQ75XGVE9AFeDvho1oD5fWPU+C5IZP/TCvz3OekM/xaEZvx/8JD8Qnz++l0orv5dVTL7d7QY/mF5VP1s+nz4l6oc9h1kKP63MQD+6UM8+g3GGPgIaKr4mBB6/yZypPof0pL05Ud8+NK9ZP/CXIz+PnFI/zBWYPnmPaz7jNwc+UlrcviXt3r6HGS6/Lm+bPpemlT9Fgd+8Sotjv3J0yb8u/gc/vOnEPniMoL/EnJi+okRzv5pYfr+cug0/xsq2vlQVG7/Lwp69th0RvgY7ZD/CLGs/w17lvZb0Yr8YF0A/x9yIPkZoqz+UE4++xhC6Pjccg7/9nai+ABd9P2AY6L5mq5E+SsaRv2OIxz9b8wK+ir5bPRuWh7+wdtg9RIIZv8FSpL5lCd0+N4GJPgg9Ir8wkVe/xSH0Pr5S7L48xge+UrqhvgvXMz+xlpm+giRcP8LVML+InfS92yRpv5BYzD/8gT0/EeZqvUEmnryXxpe+6xCmP4tRSD/xI+09Fikmv7WR6L6UZA6/+pxwPnY3h7+5e+Q/v3d/v+E3Ub9vqAs/EX9qv6Dznb6h9o0/wrMAPqf5tb659Ue/v+DovEfEWr98Yxm/jrqKvj8vmD87nqk/o6QUPxsMtD9H6Ek+JINtv5WQXr/lpEY+rjeZvoH61z5Aqno/ETQhv7OWsL/I5Ri/tLsQvx+XRL9r5H6+FhcdP4QUXT/3J8S+LQUMPmddLD+j7B4+irYVPx4tZD80gSk+YMT5voWaz74l3S0/VeguvwcxML8kEA2+BTOWvyJSMz853Ik+0pEQP3PQs75uWfy+jocIP6qy97ye0Wo/Dswhvy6zFL+2A+A+dUAjvXgTQz9bYs8/9oMLP8gGY790o45AL4Qav2bRBb+o5M4+Tygbv2EIXT998h4+lxsOv/hVeT/p8G/AnviAvwwhhr9uPIe/4j2AvxEQ3j1b1Ge+BYXhPQvbzz5Af36/hwgCPhfR0L8Jvbu/IsLOv7+Tx76/Yoo/1c63Pos2Bb8hcg6/wNqFv2nyQ7+8H8o+0Y00wFmpir9O5Sm/riOIv2/Khr5l+bC++WuzvwzCSr97+Ua+EvJEPxK3yL6zGV+9y7g4v78ymz8wsZm/mc07v89NVD6TRp2+M2Bsvyao/70PLSo+39U8v+m5hr9/WR8/AuixPw1PEb8i0VI+984LvySXi791zVW/10B8vrKlPD+6v4a/B+FYPgVxnr7A7lI/v5Hfvo11tb7HQKo/Q9GSvll3gL/Cq/2+LmiLvmywOz/Guae/Helhv+q5xD1Bisq/Mt9dv6TwDb/jhK8/VzQQv9vM0b/b4WC/U+JNvteksL+f1Ik/hxytP/35rT47IHM/t3htP+e5KT96R5I/cTyTQHmW/b2thDg/NFyBPmqtQL7jI60+V/TJvWfrKz9MLUi/1q1avtCAVsA+B4w+dd0yPwMMIr6R5QK/NQdIvxVdKb/p44O/jyzzPqicqD+U5Cq/AFCdv6zHYb7mqzg/dSmUQMDuhb5isDk+x3hjvy3HNb4FMEu//Jm4vxCjeD9ozW+/cC+Mv3x6Tb+4e4Y8+esXv9LzYL8qpB+/OUGEv+bNer+KA8G+K3kzvyllrr+hNy+/+JbLv1pTNL/mnly/1Fq/vihEML75+lK/BA+jv94Sbrwxsn6+xzqpvk0mpL5SHBE/gSmFv291aD/28Wk+LUkiPo7aeD9ykSm/NfSWPjKl/b5Mhdg+lz0+vtLGFr+7hYi/hiNdv9TY4r/q+wHAqpiXQFFyoj8GXYE+3Frnv4y5SL93bpJAneCTv57nqz7kWrG/zqmtvztTgr+1pn+/pzmNvzHLar+IZbK/qY+qvvbiFjwDvgW/9caMv7r0Lj8sttu+DsWnv4W0ML8eLxY/6mCHv2ujOL39E7y+7PmNQBOhlz+oK1S/+FVmvhAbu7+oZxa/fn6SvuTdxr4OuCg/Jn0Svxx0b78l6iG8RLQxvxbvnD9HPOg/lUWcv1+m9768BGC+XY8Kv9QSmD6rvS3A",
          "dtype": "f4"
         },
         "xaxis": "x",
         "y": {
          "bdata": "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",
          "dtype": "f4"
         },
         "yaxis": "y"
        },
        {
         "hovertemplate": "Metadata_cell_line=DAOY<br>umap0=%{x}<br>umap1=%{y}<extra></extra>",
         "legendgroup": "DAOY",
         "marker": {
          "color": "#1CA71C",
          "symbol": "circle"
         },
         "mode": "markers",
         "name": "DAOY",
         "showlegend": true,
         "type": "scattergl",
         "x": {
          "bdata": "LcIlwGtfqr+I4aa+roQOwG3C/r5Ke3vAqZmrPTXBK8DlkTfAdxoUwLjdiT6+ab6/xJR6wEDI777LFqy/KuHHvw9ydcCUSU+85VvyvwgUlrw9wXjAIT4dwDEPlr+wIri/mMSKv+0w3b/ljle/1to8wO1ytL9Z5Ky/fv0cwMVJNsB8xsi8UBcnwPPxOMCLfwa/c+KBPWycEMBlABnAzuK3v4CSDcCSEHe9g5g7v8jImj2dUH3AS7LWvaFA67/3u7o/J3JHPV/hjL8PlXM/wuqMv7FY67+Hao2/eywsvySduL/2frK/6I4KPy0G5b9a08u/18Tmv4cywL+pHsq+mfrRv6r6ab8z3qO/BTrlviG6e7/CZgXAN7Xwv8L1G7/vV6W/RMmrv+Nql78E08K/Z6HTvqkS077f9+O9njd/vxYV4b+bw2G+1GEAwMj+0b/kEJG+ocePvwqQAb9/aeK/t+64vyLApL9qFte/z9HXv5Qp378v4Oa/KbibvfQf3r9Trdm8NIgWvhC+VT+e3Oq9NUrKv1iPCcC6bOq/+jqAQHXwhr+6horAMXVpwM0aP7+W9InATa+JwEouyb8weZq/pAnvvq8k7r1SaCvAtkIUwL63D8AhvV/AS4w1wKOM8r/Y0TzAvTvWv+IW879234U/1uUcv59XJ8DPOLy/6rwJwPJGgT82zBTAwVzpvxJI1L7VF/G+llFpwLnr4j7rfjQ+P92nv2iYe8C73t+/1FOHvxOwI79JM6Y/Iagzv5bFgsAgWuy/Wevvv9wtgMAw34m/SmmIwNx85b8Y7Sy/VS4Cv/gLOcBLyzjAiF4tv2kkJMAYzDbAmvI3wN8y4b+qkzXAa2Bgv6bUN8AWBN+/WocGwA1KU7+1i8a/2F0xwLb4U8AYRjfAn0SQvaLFKsBDFgK9mTgxwNS3OcBvHTjA8g8SwGDKGL+AJSS/HjHnv5XFUsCXqTfAoD7rv39PQ8A3ATvA9TJSwBP9OMCwg969CR3EPtZCr78FbCTAU04ywNcyK8AcMzPADT5XwBOhPr73vqa+lqmdPrzgTcAssRu/UjeDPpwuCcDFRYk81iqFPzoX8r+AvTrAZtm2vyy72b88Moq/To26v11T97+Ci/y/t5unv5JvSL8gH1jAXlWMv9e5k79cEu++hXkIwPi23T7Q0He/ryyXu0yKjr0Cf/W/ckkBwNj/W8D9d0vAl2sYv3JoAsAJQa2+q6sgwDZhP8BmQ9a/TIQ6v1oQJsCTOsW/FvpcvzO4XsCfat6/YCyHv9TR6b+sXoXAsOzcvweNjcDwNIO/iziXv++hXz+hAWO/obzbv4Eoyr4O4Pa/JgyBv5klQsAfReW/z0CDwCqRvL+aco3A3MeDwCFrasC9FiTAw2AvwCzejj+8dQPAOVH8v1LXqb8oMNq/f0tjvyxIlL99GJNAoX7GvwtGTr+iOoHAY/0nwDs9iMAkUoLAjzo9wIaPa793NpC/jhu5v9Ye/b/e9oLALB7sv0CvPsAcuYvARslFwDW2GsDRDOW9zedYwCwKHcA73te/gFWMwHKoHcC6Qw3AJX3qvzy0IcD98um/L+jMv2ZSg7+ONlXAVcyyv2GgJ8AnAY3AJSQRvuI6gL8/LS7AcO84wPnb/7yOiTTASus4wECzF7+nwQzAw6vhv0FpOcAbaYc+m4u3v7FyNz+MYTjAD7E0wEGtIcAg5RnAPmtPwCV0/L89+9y/L25XP7Nfez9MpS7A5ihwwOw1NcCjazrA/4MtwJQE67+Jh1zA+iJePPo2GcBoAjTAdSXUP5N7Wb+aMFO+zjQ9P/XpeMDn6bU/Yvx+vfSSE8CMJ9m+RFMtwFdaE8A2hDLAXng6wHNARb8iAhrANRzJv/bXO8DSEdy/YcEMwBr/KsAAD4vA2Y8UwH2BhMC8KlLAlmURwMN4R8DXpsK/G92FP+N1uL8Unn/APls8wALmNMA6LnDAk5sdwNl0oj6gwpc/wzqMwI/AjsC4L3/AD9ptwEviisC8MH3AyLd8wP56hcC3yIbAwdsSwDPlR8CdT26//S8TwJbZUsCuJea/kCRgwDAPOr8GouO/xcuHwIvGgsBcXn/AdkfOv5yzAD/8z3rAzMRzwMVEU8DTgEXApYZZvyko7b+g2Ma/dvwOwME0OcC1biTAXtd2wDXENz+K6HTA/ltcwABT3D4VIjXAzOaCwIH1vr/Q9RrADb5qv8uIbsAykwLAnCrdv5RmScCtknLAgVP/v/yqKsDRfw3A+BKIvyTdQ8D5MUDA7LIVwAuf/L85gHzAvgSGwFLvlb9dBj3AjhqMwFYUNMCHGWjAHNUdwPgIDcDt0AvAkOmEQBBQeMCGju2/xhKIv5Px9r/AVqq/m+xpwJxUhMD+xnW/pGnbv6lrBMB4GYS/5JUPwGa3QMCpX3rA1KWyPl0mG8CgI5+/wmAVwB49OcBcKSPAs+gHwGsmU8BoQVy/pL8MwHrTgkBWg0S/hL/uv3n8M8ArEK6/EB46wK2kF8BaUny/Iv1vwE6job/5HRO/o6dOwM2EZMDPekrAMRGrPx1Zlr+LfMK/lxPjv73uz7/X+AHA09cRwEk2PsADhke+5QQ1wFAxOMBtbBPA54Ewv/+Dbz8DYD7AOfzfv02DQsD7iTrA0TvxvmWa5b8oS7i/XoI2wETnBMCGvQ/AGBCaP44EdsAgr27AYN2JwEgKOMCBoIvAcpg3wAz2X8AZmnjAaeOHv6+0Rz8jm/S/p9inv1NvAcAvbJ6+LFK/v4v+27+F5x/AfsCNwB0rN8Ael03AxWkhv82qKMCHO4LAq8F+v3kkqr9H6wjAz1GIv+KkO8DYdXTAEu2tvwBiRT/TQ4zAAhjpvr6a9782o/y/j+sCwLx6jsC5+Mo+xFFhP4HCq79oXIe/7k8qwIUKO7/be4o+HJ5fwBgbTMA8Dn/AgBhCwE0sM8ClTPe/t5SIwNw6T8DBP4HAJtaAwPfRF8AElXJAuZBxwC3B17+QSQnAcSsdwEf/eMCBwyrAvvjSv4mJYMBmdZK/+q5DwDpBecC/okDAeRFQwHqKYMAYFh7AquomwDTvhMBdDnTAh0d4wFNtPMCAmEfA00d8wDBEBsCSBX7AubeBQO6G0b/AkHHAaNOJwFLaB8DiVQHAlEiIwKTfgsDJWyTAUQMPwJ1v9L9x7VfAH99GwIUdTsB1DFDAcj+qv7SAZsAxSDDAyuJ7wPsuhsDmZYvAvk5Fv6KLvr+vCUM9LTAZwP4Aw70KI6m+STwSwLLmL8An+d2/dyZIwAC7Ob89tw2+PxKwvwIT5L/E1o2835btv8Zm8L8yKve/a0YrwFTbbz/+8bO+PTW6vxCGcL8M+Mg/b2xKvyVsl78Cqnk887jrvqLbe8ANOGK+WTOiP1vvG79nLxo/kfrov90LMsDl9v6/kGJbv+m197990F6/G3gBwER78z7Pw46/eh0JwIXF5b6ETlTAsITzvy8WGb+B7wzA4Q0Av/osqL/WjQHAtFANwD2OjcCWcuu/k+rBv6HuRL/hdE3AW007wBtN4b8IBIPA5Q2Rvx9YQcCuu2XAnsLSv4pXO79RTG/Alhc/wE6NccB4ttK+X0lSwOL9isCmLgy/fIKCv6qFTcD2tmW+ZkkswBUNwb8cVCvAJfkewMrPHD+aPY3Ak52MwB92YcBSQNU+t4zrvugqUcBmGIjAOf8AwMUNTb/i5QPAkXa5Pit80r9+bCY/b5GCwGW6UT/iq2HAA0FDwMb9jcAlAADAwZWGwP2pN8B7AA7ADy4CwPuGBsB/o/+/UwaDwFKRTcAXPnHAvdl5wKbJi8CwlB7ASkvEv3l1Z8AVIl3AEV9/QNYuC8A+tYLA5s9HwPIpYcCYvmvAlrx4wHsffcDiNp0/bMlmwGnQ+r9CU37AOyHev/P9lr8c94HAeVEcwJmhgsAx4IrAqNFMv/zE0b+yD07AyYVBwJyDd8AVsWDApGfyv7jvcMCMyiPA1ZlXwCQTHMCYujvAB3NiwBMVdcBv/3jAcLA7wJcCtz8yqmzA",
          "dtype": "f4"
         },
         "xaxis": "x",
         "y": {
          "bdata": "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",
          "dtype": "f4"
         },
         "yaxis": "y"
        },
        {
         "hovertemplate": "Metadata_cell_line=G292<br>umap0=%{x}<br>umap1=%{y}<extra></extra>",
         "legendgroup": "G292",
         "marker": {
          "color": "#FB0D0D",
          "symbol": "circle"
         },
         "mode": "markers",
         "name": "G292",
         "showlegend": true,
         "type": "scattergl",
         "x": {
          "bdata": "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",
          "dtype": "f4"
         },
         "xaxis": "x",
         "y": {
          "bdata": "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",
          "dtype": "f4"
         },
         "yaxis": "y"
        },
        {
         "hovertemplate": "Metadata_cell_line=G401<br>umap0=%{x}<br>umap1=%{y}<extra></extra>",
         "legendgroup": "G401",
         "marker": {
          "color": "#DA16FF",
          "symbol": "circle"
         },
         "mode": "markers",
         "name": "G401",
         "showlegend": true,
         "type": "scattergl",
         "x": {
          "bdata": "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",
          "dtype": "f4"
         },
         "xaxis": "x",
         "y": {
          "bdata": "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",
          "dtype": "f4"
         },
         "yaxis": "y"
        },
        {
         "hovertemplate": "Metadata_cell_line=G402<br>umap0=%{x}<br>umap1=%{y}<extra></extra>",
         "legendgroup": "G402",
         "marker": {
          "color": "#222A2A",
          "symbol": "circle"
         },
         "mode": "markers",
         "name": "G402",
         "showlegend": true,
         "type": "scattergl",
         "x": {
          "bdata": "+B6wP/TDxL/JSiY/qEfpv9SMGz84t/W9KFvvP19d4j+beNc/SUnvP/oL2T9fM9c/npFhwAoFg8CUZEjAF2phwB2Z178kpFXAFXN0wJMaCMCIzpo/c2FnwF4rsD/Xkd8/wMPeP1+6KsBNE6w/gBGiP7aR779ZlrC/FaAEwIw0EsDW9LY/wHulP76LzD9NKFXAFmzwPwVu0j8oOaQ/0frzv1ji5D/iXes/J7NPP9ys5T/v4tE/ITD7v+9WhT/qvwvAaHTBP+E9yj/W9rs/J2KQPwsOsT+BN+M/nuCWPiPJzT+Yp1fAQoq8P99w3j/iVts/agv4PyJntj+a9VPADhXtP0GxhT/N5P2/jGmZvgqw9z8UvfQ+XoCJP9zx4D8Wba6/gaJjwEbjqj/Aifk/W0nGP81x3T/hyivAtoBTwJMR1z/t6SrAJXfSP1bczz9JXUE/MS3bPyej/r+Vjtc/B+99wOadVz/iNeG/61D5PxLHOsDzp3w/v17kPzS94z9fdss/snktwL5c5j8195m/8UMnwJQvQMCNjzjAxc8/wNq09D9qlOe/g4e4P1A25z+CIT/AOabHP5eKQj9gwto/2Gh3wA69nz/F0LY/77YmwBijuD+qmeE/I3fZvQ4o/75DT+K/r+xWPx5BvD8AR7k/OitKP3zGV8Ap5Io/HKqnP9H+Hj+ilL2/luMwwNWOqD9NT00/jjUHP6Lbir9jjdY/ru3Xv6we9L+wXvg/05yjv7doxz+DpNk/9H+EP2Jmwz/yaBjAadt8wKKn27+5wlDAjM4SwEpeJMCrOuM/ERNWwOOvPsDhyqQ/28BeP2WOT8ByzBQ+IxARwM3KasDRZ2U9ykMbwKTFuT/pXts/sGKxv8ibrT/Zm0w/pmTVPxahNj+uScA/FEKIwGbc5j+wo64/LVMtwMpJxT97b1/AWEGHvXm5yz+7qzPAyn2BP9iNoT/mxuE/3tClPwXdEcBdoRfAS0wOP68Xmj80QcE/YZAqwKvZ678mktA/FfLQP3Q0vj9t5DvAGSGvP6/ksD+h6vw+P2sZwKmN0z7We4bA9StHwE+8wD/2RN0//bbhPyHG4D/S7uc+yz7WP73QmL8obiM/XKpmP+cjLsDjFc0/raTjP7YL6j+/EAjAglrYPwGhCsAv0fs/7DPcP/OPCz843HLA3JPePy4FgD+ksNI/Qh/bPsSl0z+XmOE/5rXtP20DH7/yrCo/SMxswINNlD+QGQfA+8iPP1l3VL7AeUs/HCsewFJOx785NJm/35vnP0Xp1D+yjf6/sbvxPoxFwr/rbQ7AmDvovwbIUj77pxrACYCqP1+aqr7Clu4/kvL7PwunXcAhnjq/fVi8P13jVsCG4Mm/qW8NwELqOD/JI+e/0OqsPwmZmz80/8k/X3A6wILFWcB/JAfA8nIuwIMi6j7dFlfARjZdP9qCDMBJ8wPA5UcjwH3kgb+7Wpw+QLlXwIamoT/NFCS+7w8SwNdaHj/BOmHA3J+lPu+D5L6V6lk/DGoOwGIzCcASp8Q/HKGgvw0hcsB3ysW//f5yv5l/yb+DyBjAyS2PvxkPJMBhk0vAjx3vvysdgMA48k7A+rcEwEx/gT7cd0TA0SawPnsHzz+Zxsc//8P+PpIRkr//Dtk/QoZTP0cWdj9hRDM/4v1Bv/lQwT/Wy6W/xqxgwHnHVMDPybW/b8ahP8nvoj+2p0rAyKucvw5B0j+oH6o/Jn2xP8dFUMBN7NU/wzeVP/+wNMDu2Zg/t2ChPxUuXcB18dY/NTQdPzpo2T4/Rs8/Je9fwC1Q0j82gRPA3B9WwB2CIcDFXma/uKXLP2M6R8AqaIM/9rDivzeqScDRXf+/9Lp9P0MzUz8F3WTAF3XIP6jZcL9tmNw/1X6xv/SD2z8Ax1g/SyIpP5WsKMBe082/IHjsPmr6LsAP/Zu/H+mDv71NJD5cVCDAS1j6v0jCC8C2Md69WcsRP3dEmj+4S0Q92vmFwCD/+r9UPZa/xwKZPzm3TsAStRTAsZbePitHxL9TkIq/sX9jP/sgHL/ba/+/L/ohwLnm179cRt4+asPVPi9dxj/UZrI/quk3wJs5Xz/xTBHA8FwWwN/9ub8RVBPAX7EEwMvRrT9yago8phfPv7GwPMASIizA26O8P8g5LsBUFn3Af8QxwNCILsBE3ty/VHiDP4IQK8A3uXjAw56Yv+u4I8BNJHjAKYuGwIG34j8q5V/AZVZnwEAGPsDa+jnA2SkowAMu5r8XZXbAnFktwHeJeT/i2XfAvChQwLm9oL+kaxLAocUUwMCSQMCWKZ2/mtSnPzA/LMBV3XnAJI91wOMjbMABTVzAvJoRwCmDMsAsDUrAuBy8P4T+SsAXiYRAgUlpwFGlhMAfJAzAI9AcwIFcE8A8h4FA4SEHwDArcsC0FITAG5Q+P5y2TMCk2wvAP0/0vz5qxT8xfwbAtjmVP9VIqT9eXg8/ntNUv3AMY8AHPpA/IuhRP26EE76gdS0+rC/uv6gRsD8VPNw+aAG/Py8sMsBUrPG/84BbvymkPT+bBi7A1cOuPy/OOb+tvNq/Xz4WwIB25L9RcLc+YIFPP2FJvD8C6LU/TDuMP1BD2j7C89w/bHLEPsGLET/1C94/058GwH9uxD+3roG+QntdwFfT3L+TNFHAewfJP7KaID8LUdc/kNM8wCKoOz+EWVHADxdAwEKOr79SyyXADcuZPwHwZsC/fhbA05yAwDG4ZsAYC2vA/6mCwJ1mEsB8+hTAiMFuP5GEBsBkeFrAwLNdv7a0CMBLYYHA6BQQwKF2tr9b0lo+7eZKwNY3CMAgEiTAT7K6v/SxgcDfj1rAgWBtwEY7qL9hx8C/zUnOv9NGM8DJLVHAwOUVwBw+SMDxjM+/C8hXwLa26b+XSmg//zMJwO7WoD/OwBHALfQVwD04dsBHP4HASyFwwExuEcC5eFM+ey3av1TVc8ARanHA66BmwAHzD8Cu1FfAwfmBwJoMHsBvllvAig9dwCT7ZMCaY3DAmytSwMXUQMByGIHA0uYXwNfFpj7okoXA7gIwwBpBUMA94kfA7PA3wOpWZ8DN/ijAs+4RwJ9kWsBO3X7AIBqCQBx7hMCBnG3AdpqEwLa4ccACrkrAyE0nwFQfZ8Cw2GjAnqFMwEMAYsDBOE7AnApqwByQLMB6ZlvAWZWEvw1CVMB3EWnAUf64vzrfdb+8GPq/l1JbwOs3gMCUxUnAWBlsvf+cQsDdvoLAMvk8wCIgM8DmpVPAOsmsP4OjFcBfABfAsmFOwFceZcAKoqy+wNn0vzWuRMDMsQvA9AAiwFRVTcAcUmfAknRuwBjCOMDFqinAZXv7v1+rL8DEOMc/G8BNwCQfHz82+tG/G+Plv7w0Gb/2Xl7AWYdpwMCeOMBSuh3A1KFyP0icX8AJtWjAhDcrwES1VsC6F17AKKRQP59wLsBro2HAYY+Mv5DQXMDwUCTAZilgwHKBQ8CI4SLA85cDwIGdLcChfVvAogRwwKf1a8AcnEnAFlRKwPIOPcDgYk3AhYEXwOwRW8D7L2vAJcJQwPKEP8AxpBXAJKqpvwyIecCusxfAm5IXwNbLbsCyVCPA1rqEwOa5L8Bfui7A3mZ8wLLVJsD99mw/Z3eFwAs4XcAKOS7AyqJIwBMggcCtShLAv+kSwHZ9b8DAbHrAG+1GwEcs5r9sMyPA9LQdwPFJf8A0ne+/IC+GQISsMcAnkXvAd5duwHGKbMAIzBXAriY7wNqDSsAAkVbAkW1FwALLGsDDQoS/oRDEPtT9gcCAyRfAHBFdwEEKkL+9pdq/pkt/wEBPOsC0uoDAcQ13wC0REsCPSoJA42cowDDog8BQK0zA6ud6wCrxb8AGjdy/q2GCwPl4vb+ZjX3A6Cnpv5WvcsA6RHfAHN5wwIbUgMD0RnvAUKmBQNlBFcBgNIHAKeBzwNKPLcDzdGbAKQPlv8DMa8BC3+u/Aqw/wFjJQcB2alzAupomwAvMEMBz8DfAab8MwD1BEMD9WRPAeG5UwGCJgsC4UnDA",
          "dtype": "f4"
         },
         "xaxis": "x",
         "y": {
          "bdata": "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",
          "dtype": "f4"
         },
         "yaxis": "y"
        },
        {
         "hovertemplate": "Metadata_cell_line=IMR32<br>umap0=%{x}<br>umap1=%{y}<extra></extra>",
         "legendgroup": "IMR32",
         "marker": {
          "color": "#B68100",
          "symbol": "circle"
         },
         "mode": "markers",
         "name": "IMR32",
         "showlegend": true,
         "type": "scattergl",
         "x": {
          "bdata": "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",
          "dtype": "f4"
         },
         "xaxis": "x",
         "y": {
          "bdata": "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",
          "dtype": "f4"
         },
         "yaxis": "y"
        },
        {
         "hovertemplate": "Metadata_cell_line=KNS-42<br>umap0=%{x}<br>umap1=%{y}<extra></extra>",
         "legendgroup": "KNS-42",
         "marker": {
          "color": "#750D86",
          "symbol": "circle"
         },
         "mode": "markers",
         "name": "KNS-42",
         "showlegend": true,
         "type": "scattergl",
         "x": {
          "bdata": "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",
          "dtype": "f4"
         },
         "xaxis": "x",
         "y": {
          "bdata": "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",
          "dtype": "f4"
         },
         "yaxis": "y"
        },
        {
         "hovertemplate": "Metadata_cell_line=KP-N-YN<br>umap0=%{x}<br>umap1=%{y}<extra></extra>",
         "legendgroup": "KP-N-YN",
         "marker": {
          "color": "#EB663B",
          "symbol": "circle"
         },
         "mode": "markers",
         "name": "KP-N-YN",
         "showlegend": true,
         "type": "scattergl",
         "x": {
          "bdata": "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",
          "dtype": "f4"
         },
         "xaxis": "x",
         "y": {
          "bdata": "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",
          "dtype": "f4"
         },
         "yaxis": "y"
        },
        {
         "hovertemplate": "Metadata_cell_line=NB-1<br>umap0=%{x}<br>umap1=%{y}<extra></extra>",
         "legendgroup": "NB-1",
         "marker": {
          "color": "#511CFB",
          "symbol": "circle"
         },
         "mode": "markers",
         "name": "NB-1",
         "showlegend": true,
         "type": "scattergl",
         "x": {
          "bdata": "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",
          "dtype": "f4"
         },
         "xaxis": "x",
         "y": {
          "bdata": "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",
          "dtype": "f4"
         },
         "yaxis": "y"
        },
        {
         "hovertemplate": "Metadata_cell_line=ONS-76<br>umap0=%{x}<br>umap1=%{y}<extra></extra>",
         "legendgroup": "ONS-76",
         "marker": {
          "color": "#00A08B",
          "symbol": "circle"
         },
         "mode": "markers",
         "name": "ONS-76",
         "showlegend": true,
         "type": "scattergl",
         "x": {
          "bdata": "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",
          "dtype": "f4"
         },
         "xaxis": "x",
         "y": {
          "bdata": "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",
          "dtype": "f4"
         },
         "yaxis": "y"
        },
        {
         "hovertemplate": "Metadata_cell_line=PA1<br>umap0=%{x}<br>umap1=%{y}<extra></extra>",
         "legendgroup": "PA1",
         "marker": {
          "color": "#FB00D1",
          "symbol": "circle"
         },
         "mode": "markers",
         "name": "PA1",
         "showlegend": true,
         "type": "scattergl",
         "x": {
          "bdata": "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",
          "dtype": "f4"
         },
         "xaxis": "x",
         "y": {
          "bdata": "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",
          "dtype": "f4"
         },
         "yaxis": "y"
        },
        {
         "hovertemplate": "Metadata_cell_line=SH-SY5Y<br>umap0=%{x}<br>umap1=%{y}<extra></extra>",
         "legendgroup": "SH-SY5Y",
         "marker": {
          "color": "#FC0080",
          "symbol": "circle"
         },
         "mode": "markers",
         "name": "SH-SY5Y",
         "showlegend": true,
         "type": "scattergl",
         "x": {
          "bdata": "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",
          "dtype": "f4"
         },
         "xaxis": "x",
         "y": {
          "bdata": "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",
          "dtype": "f4"
         },
         "yaxis": "y"
        },
        {
         "hovertemplate": "Metadata_cell_line=SJSA-1<br>umap0=%{x}<br>umap1=%{y}<extra></extra>",
         "legendgroup": "SJSA-1",
         "marker": {
          "color": "#B2828D",
          "symbol": "circle"
         },
         "mode": "markers",
         "name": "SJSA-1",
         "showlegend": true,
         "type": "scattergl",
         "x": {
          "bdata": "aM5UvxsqSMD2ZLs/SCWYP0vWJ77X4EC+l8Jjvckei79X8Ts+Zyu9vRNdi7/cz/s+n9iOv+RboL7dtcy+Jfebv5ebAb0EQIq/FbdmvUBV0T7RrVHAdUnePmQm9r5XD7I8/zNvvo+GecAgUTg+iKSKv3IGxr7sY3e/rhF4Plgdg79kKc6/RFnav0BQC7+griw/RswUv8eerj8o058/uPMVvwpPRr8yygE95hf1vz5zhb/mWFG+SoSpvgJ50L1CQTC9UKKPPxXOXcAFrEjAnnq0P1b+OsDr4bE/jKYZwL/+VL6psIq/cyJ1wBaEzL8RfJG/frsgPtKsKMCaXw/AUM2avQbgyr8OAEQ/rFMlvnb0K8DMOSo96aOSvHUysD9kAnnARJV2wGYzlT5FXCTAUa3+v6NW2L/J0pc/gk6Hvp0Nd8DrSGK+2uISwNAj2j9+3iXA/chUwCmoJ8C4Tum/ZRIJwKndf8Bs3WLAr+sUPkACfMA+StK9HMiEwMMqScBhwbm+4XxhvzTyAsAD3gA/NahSP1wK7bv79wXAnuSLwCmagcDFPiDAIOmpPrgBisCb/YrA/HMewNSqh8BpBYfAXMSFwKJ6iMAg2onAJzuKwPYZlL+zQoXAHMSuv02ikL9HmYrA7utqwKTRiMDnO2HAXZmKwC1/eMDIlqu/7bRzwNzShsABLo3AL+CGwI1CY8BRoYPAzqcRwFsrC8BOLnvAvdSLwLnPJ8B+3IvAgpd8wPJYacCV6L6//V19wGL7A8CX6ozA+AlDwIBii8DzkgnAnYOFwIsyesCMsv0+ieDxv3VuAsAJk92/0vrrvRAJWMCrGti/9fyHv65Unr+JQBA/XhgVwKegUz0O4Mq/L1dkwJ/RC8CyguS9JKuUvuKQLL9w44PA2cZGv4nIVDwY5KW/n/yAvl34i74Mlak+MBY7PIS36b6yRXnAdOakv/dyc8AumUW9PR6iPoXKPD9FNJ8/3v2du5xCb7+VAFW/wkqxvvf5aMCzwHPAPxZxwJJfccCQe22/HaObvj88p74qmA4/6YyIP3upML4DBLA+9eKLv2ufYz/Z4EO+S5lYwFVpYL+DA1W/ucePv2PkYj/a7CW/a88GwNWbMz0Urju+jxOFwDooFb9Sz5m+PrGiv7OKhsDWnxi/O71GwJ+Iur+N44Q+LH2GwJTzhMC8sNC/whebPTqiPL/KO4jARf43vbzFYMC2W2bAX4mIwBXkdMCCHyc+iooewAxbCsBTGwDAWDmFwOeEA8BsZ4LAAltkwNbcOr+SAl/AIk9Tv3kIicCn+Mq/IKcMPqX1GD/mm/q/smZ0wLmjhcAacRjAWf8YvDu0i79g0FPA2I9dwLijccB/Gn+/k684wAugLcBilYjADqGBwIjYTT+x/YjAv4IewP1g2L/zdOi/QtFDwMsxWj9tOkPAO8zMv3rTMMBEEyrArxHIv8hmisAhwl/AXvyWv7eNWMBXb1vAhqiIwAaA1b+rhWDAfZVXwJcgkr8canm/xFIEwIjD179sMQ/Ac943wE0/h8DVb2HApDGKwFDCAcA4rSHAcPERwC+Wkr/Gsl/AhhX5v3shfcBEKjbALUGQwGEV3L//22zAQ/S3v5OXzr4xZ1093bh4wN0pesAwQUe/pXBVvIAIgcAsBZI/LbGDwDT5cL1g4ES/0tPSPZtrOr8hK1E+Ho1kwDSYmb5zURDAQSRpwCZUCcB/8p+/c7lnwDKGI786/4DAN4czwMzuar9AVQU/SvZIwA8bGz4Ask++q/CQwMUfPMBCQQLABQ/OvnmTsr+aZzHANH97wOMsPMAUBmLAgQyXv+fob8BQQmLAFCxJwNFrCMBawg0/W9cnP5WIm7/llfM9FOT5Pvwax7/sGA7ApEOEwP8VGsAB5YG/wfVYwPdhTMDbk1HADe+DwFEGhMCmPQrA4o9ywJt1F8DMFxq/rtCtv5q9PcCUsTbAz9JDwCsYcL7uPoDA1Q8AwKHvNcAJ6YjAyLZ/wPUC4r8YyGu/mbQOwK2Nor+WnAzAHowTwHE4vL9RpGHAbBuFv6qJnb84E0LADmDlv+zlFcBPfIbA8Td3wKiAST6fjEnAfwKFwKoCVcDVYVfAFa6av3n8fMBq84bAd1aCwA6J178/HwPASB3hv2ukVsDIMSPA6plPwOm9GsCM3znAJN/Sv1lmXcC5cGa/qh9UwCi2B8CS2PK/5zBBwFRchcDifKC//AZ2wOJDM7+6DjbAZTZzwA0PIcBuZgbAhmYewOBWNMBXcoHANAWGwM2Kfr/jLB/AvWNcwH/vVcCuMhXAECyCwIMZd8Ahd2PAwosOwDWbUsDFjaS/I7EewN2kI8AIge+/ewEYwC2tPcATiy7AN75DwBFUc8DSvmPAXrcEwAZTgcBSR6q/N1jvv/LMJcBDm2LANsGJv6LFXL+8Ud+/kj5+wLbXib8CnGXA9F9bwB2RgsDrTjLAHcGGwFwzX8CwkQDAHShDwDQT7r/XRifAxsnlv71HEcAMcOq/yenZPs5UIsDHsXG/RnB+wEEjfsBCWjvAWEYYwHBxI8BrM+K/Yvx2wManZr/A//O/uxyKwNcZtr++hoTApe9CwMbqgsBxVFDATPlqwBVgasB6SXbAMtaIwHKwAMDtc8e/ZQQpwOLRCsCGng/ASHQVwIXbBr84n2fAHVTlvyOdEsCmKyHAWadSvxuQSMBMM7e/URliwLs+278nbxfALJBLwFUeNMCXnm3AA/BFwPf1K8D4dSvAem2BwHKnQ8DpqkjAQEYqwCEfXsDvbEHAPh9gwDB2XcCpcnDAmAkzwBvadcB1FwTANSlCwKQKZ8DpvSHAeCU7wFe6KcB2+xjASTs3wKVWRcDYVKS/vXD6v/drxL/EQgzA8csbwFiPHsA7RzE/iu2DwICBUMBaQhLAErY9wL9HKcDRkP+/2gJwwG8hEMDTEU3AamcCwM4cPcABYC7Ay01iwNqOg8CrHzbAUdY0wNI+asD7yuS/+p56wOCU+b9tXPy/CyJMwH5Ga8ALGwbAJwYswMwVP8C/LKS/wWNPwDRidUAtDV7AMiGOvwR46r8gzWjA+9uxv8ohhcByxzzArrhlwAzBMMDTORjAoZ39v7WDd8A0OBvAtFxyQFLHPsDRXx/AV67ev0YXc8ATcW9ArBsGwHsqCMDXl+q+Apl6wMXpd8BK0nLALbeLwOHlhsDctT3AWuVrwI3ft79uue6/5cvJPtPwN8ADH0fATZVfwJHoiMAiA1PA3eUKwLY/RcDaNUXA0ZVTv/GiFsBP1VTAVEcSwBxxE8Ao9YfA8zkfwPjLGcD/3j/AZ/d/QMSPIMDnJIzAszRXwMME8r+NwgbAfr/UvxjhD8Di2A3AunFov2P3asDnUiHATBFewNRjub9w0zrAKlR8wD2gM8A37W/AmBh+wMaZJ8Blyo6/Qtl2wFMhNcBOA9a/Ms9vwA+KCMBcSVjAzXqbvxO70L/ARi3AIMRzwEOhgMDrQD/A9xV8wHrQKcCO7EfAzL1nwM7IvL+FjDzA/eL3v/LgRMBVivG/7VRfwEx9asBDyy3AnsmAwPkcOcA7YndAYEGlv7JtSsBsbEfAEdNnwIozaMCWQte/ZiKAwG/UZcDKQU/AEGEdwOBKfcCklz/ARs1PwBHCIMCTbDXAOT0dwLBjfUAMBjDAlycqwF8/9b+MOF/AfXRWwCjbK8CNnBzAjjgqwKETBsDiRsC/8BoLwC59WcD6z27AzMdMwPWLFMDpiWjA+0SAwFf0LsAo8UvASEQnwOW3UMA+kL6/7hE+wFXYgMBpKSbABxLYv+bYwb/lhlTAsWIMwBC2acC3MhDAC7Hxv0RWOcDUyXjAeZ7Qv3DT8r/B0+i/2aAXwMe8b8AykP+/ZhETwKt/CMCNWgjA2GcGwBprEMA1uey/tZCiP6tJf8BmsxLAg4ErwCu6AcD9ofq/X84IwM/V+r8hz3fAe7gpwLl6YD9hI3XARrIYwDEz+79PUXPAs25+wFvgXcBMs27AGzsSwP+bL8D5Th7A",
          "dtype": "f4"
         },
         "xaxis": "x",
         "y": {
          "bdata": "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",
          "dtype": "f4"
         },
         "yaxis": "y"
        },
        {
         "hovertemplate": "Metadata_cell_line=SK-N-AS<br>umap0=%{x}<br>umap1=%{y}<extra></extra>",
         "legendgroup": "SK-N-AS",
         "marker": {
          "color": "#6C7C32",
          "symbol": "circle"
         },
         "mode": "markers",
         "name": "SK-N-AS",
         "showlegend": true,
         "type": "scattergl",
         "x": {
          "bdata": "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",
          "dtype": "f4"
         },
         "xaxis": "x",
         "y": {
          "bdata": "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",
          "dtype": "f4"
         },
         "yaxis": "y"
        },
        {
         "hovertemplate": "Metadata_cell_line=SK-N-MC<br>umap0=%{x}<br>umap1=%{y}<extra></extra>",
         "legendgroup": "SK-N-MC",
         "marker": {
          "color": "#778AAE",
          "symbol": "circle"
         },
         "mode": "markers",
         "name": "SK-N-MC",
         "showlegend": true,
         "type": "scattergl",
         "x": {
          "bdata": "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",
          "dtype": "f4"
         },
         "xaxis": "x",
         "y": {
          "bdata": "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",
          "dtype": "f4"
         },
         "yaxis": "y"
        },
        {
         "hovertemplate": "Metadata_cell_line=Saos-2<br>umap0=%{x}<br>umap1=%{y}<extra></extra>",
         "legendgroup": "Saos-2",
         "marker": {
          "color": "#862A16",
          "symbol": "circle"
         },
         "mode": "markers",
         "name": "Saos-2",
         "showlegend": true,
         "type": "scattergl",
         "x": {
          "bdata": "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",
          "dtype": "f4"
         },
         "xaxis": "x",
         "y": {
          "bdata": "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",
          "dtype": "f4"
         },
         "yaxis": "y"
        },
        {
         "hovertemplate": "Metadata_cell_line=U2-OS<br>umap0=%{x}<br>umap1=%{y}<extra></extra>",
         "legendgroup": "U2-OS",
         "marker": {
          "color": "#A777F1",
          "symbol": "circle"
         },
         "mode": "markers",
         "name": "U2-OS",
         "showlegend": true,
         "type": "scattergl",
         "x": {
          "bdata": "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",
          "dtype": "f4"
         },
         "xaxis": "x",
         "y": {
          "bdata": "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",
          "dtype": "f4"
         },
         "yaxis": "y"
        }
       ],
       "layout": {
        "legend": {
         "title": {
          "text": "Metadata_cell_line"
         },
         "tracegroupgap": 0
        },
        "template": {
         "data": {
          "bar": [
           {
            "error_x": {
             "color": "#2a3f5f"
            },
            "error_y": {
             "color": "#2a3f5f"
            },
            "marker": {
             "line": {
              "color": "#E5ECF6",
              "width": 0.5
             },
             "pattern": {
              "fillmode": "overlay",
              "size": 10,
              "solidity": 0.2
             }
            },
            "type": "bar"
           }
          ],
          "barpolar": [
           {
            "marker": {
             "line": {
              "color": "#E5ECF6",
              "width": 0.5
             },
             "pattern": {
              "fillmode": "overlay",
              "size": 10,
              "solidity": 0.2
             }
            },
            "type": "barpolar"
           }
          ],
          "carpet": [
           {
            "aaxis": {
             "endlinecolor": "#2a3f5f",
             "gridcolor": "white",
             "linecolor": "white",
             "minorgridcolor": "white",
             "startlinecolor": "#2a3f5f"
            },
            "baxis": {
             "endlinecolor": "#2a3f5f",
             "gridcolor": "white",
             "linecolor": "white",
             "minorgridcolor": "white",
             "startlinecolor": "#2a3f5f"
            },
            "type": "carpet"
           }
          ],
          "choropleth": [
           {
            "colorbar": {
             "outlinewidth": 0,
             "ticks": ""
            },
            "type": "choropleth"
           }
          ],
          "contour": [
           {
            "colorbar": {
             "outlinewidth": 0,
             "ticks": ""
            },
            "colorscale": [
             [
              0.0,
              "#0d0887"
             ],
             [
              0.1111111111111111,
              "#46039f"
             ],
             [
              0.2222222222222222,
              "#7201a8"
             ],
             [
              0.3333333333333333,
              "#9c179e"
             ],
             [
              0.4444444444444444,
              "#bd3786"
             ],
             [
              0.5555555555555556,
              "#d8576b"
             ],
             [
              0.6666666666666666,
              "#ed7953"
             ],
             [
              0.7777777777777778,
              "#fb9f3a"
             ],
             [
              0.8888888888888888,
              "#fdca26"
             ],
             [
              1.0,
              "#f0f921"
             ]
            ],
            "type": "contour"
           }
          ],
          "contourcarpet": [
           {
            "colorbar": {
             "outlinewidth": 0,
             "ticks": ""
            },
            "type": "contourcarpet"
           }
          ],
          "heatmap": [
           {
            "colorbar": {
             "outlinewidth": 0,
             "ticks": ""
            },
            "colorscale": [
             [
              0.0,
              "#0d0887"
             ],
             [
              0.1111111111111111,
              "#46039f"
             ],
             [
              0.2222222222222222,
              "#7201a8"
             ],
             [
              0.3333333333333333,
              "#9c179e"
             ],
             [
              0.4444444444444444,
              "#bd3786"
             ],
             [
              0.5555555555555556,
              "#d8576b"
             ],
             [
              0.6666666666666666,
              "#ed7953"
             ],
             [
              0.7777777777777778,
              "#fb9f3a"
             ],
             [
              0.8888888888888888,
              "#fdca26"
             ],
             [
              1.0,
              "#f0f921"
             ]
            ],
            "type": "heatmap"
           }
          ],
          "histogram": [
           {
            "marker": {
             "pattern": {
              "fillmode": "overlay",
              "size": 10,
              "solidity": 0.2
             }
            },
            "type": "histogram"
           }
          ],
          "histogram2d": [
           {
            "colorbar": {
             "outlinewidth": 0,
             "ticks": ""
            },
            "colorscale": [
             [
              0.0,
              "#0d0887"
             ],
             [
              0.1111111111111111,
              "#46039f"
             ],
             [
              0.2222222222222222,
              "#7201a8"
             ],
             [
              0.3333333333333333,
              "#9c179e"
             ],
             [
              0.4444444444444444,
              "#bd3786"
             ],
             [
              0.5555555555555556,
              "#d8576b"
             ],
             [
              0.6666666666666666,
              "#ed7953"
             ],
             [
              0.7777777777777778,
              "#fb9f3a"
             ],
             [
              0.8888888888888888,
              "#fdca26"
             ],
             [
              1.0,
              "#f0f921"
             ]
            ],
            "type": "histogram2d"
           }
          ],
          "histogram2dcontour": [
           {
            "colorbar": {
             "outlinewidth": 0,
             "ticks": ""
            },
            "colorscale": [
             [
              0.0,
              "#0d0887"
             ],
             [
              0.1111111111111111,
              "#46039f"
             ],
             [
              0.2222222222222222,
              "#7201a8"
             ],
             [
              0.3333333333333333,
              "#9c179e"
             ],
             [
              0.4444444444444444,
              "#bd3786"
             ],
             [
              0.5555555555555556,
              "#d8576b"
             ],
             [
              0.6666666666666666,
              "#ed7953"
             ],
             [
              0.7777777777777778,
              "#fb9f3a"
             ],
             [
              0.8888888888888888,
              "#fdca26"
             ],
             [
              1.0,
              "#f0f921"
             ]
            ],
            "type": "histogram2dcontour"
           }
          ],
          "mesh3d": [
           {
            "colorbar": {
             "outlinewidth": 0,
             "ticks": ""
            },
            "type": "mesh3d"
           }
          ],
          "parcoords": [
           {
            "line": {
             "colorbar": {
              "outlinewidth": 0,
              "ticks": ""
             }
            },
            "type": "parcoords"
           }
          ],
          "pie": [
           {
            "automargin": true,
            "type": "pie"
           }
          ],
          "scatter": [
           {
            "fillpattern": {
             "fillmode": "overlay",
             "size": 10,
             "solidity": 0.2
            },
            "type": "scatter"
           }
          ],
          "scatter3d": [
           {
            "line": {
             "colorbar": {
              "outlinewidth": 0,
              "ticks": ""
             }
            },
            "marker": {
             "colorbar": {
              "outlinewidth": 0,
              "ticks": ""
             }
            },
            "type": "scatter3d"
           }
          ],
          "scattercarpet": [
           {
            "marker": {
             "colorbar": {
              "outlinewidth": 0,
              "ticks": ""
             }
            },
            "type": "scattercarpet"
           }
          ],
          "scattergeo": [
           {
            "marker": {
             "colorbar": {
              "outlinewidth": 0,
              "ticks": ""
             }
            },
            "type": "scattergeo"
           }
          ],
          "scattergl": [
           {
            "marker": {
             "colorbar": {
              "outlinewidth": 0,
              "ticks": ""
             }
            },
            "type": "scattergl"
           }
          ],
          "scattermap": [
           {
            "marker": {
             "colorbar": {
              "outlinewidth": 0,
              "ticks": ""
             }
            },
            "type": "scattermap"
           }
          ],
          "scattermapbox": [
           {
            "marker": {
             "colorbar": {
              "outlinewidth": 0,
              "ticks": ""
             }
            },
            "type": "scattermapbox"
           }
          ],
          "scatterpolar": [
           {
            "marker": {
             "colorbar": {
              "outlinewidth": 0,
              "ticks": ""
             }
            },
            "type": "scatterpolar"
           }
          ],
          "scatterpolargl": [
           {
            "marker": {
             "colorbar": {
              "outlinewidth": 0,
              "ticks": ""
             }
            },
            "type": "scatterpolargl"
           }
          ],
          "scatterternary": [
           {
            "marker": {
             "colorbar": {
              "outlinewidth": 0,
              "ticks": ""
             }
            },
            "type": "scatterternary"
           }
          ],
          "surface": [
           {
            "colorbar": {
             "outlinewidth": 0,
             "ticks": ""
            },
            "colorscale": [
             [
              0.0,
              "#0d0887"
             ],
             [
              0.1111111111111111,
              "#46039f"
             ],
             [
              0.2222222222222222,
              "#7201a8"
             ],
             [
              0.3333333333333333,
              "#9c179e"
             ],
             [
              0.4444444444444444,
              "#bd3786"
             ],
             [
              0.5555555555555556,
              "#d8576b"
             ],
             [
              0.6666666666666666,
              "#ed7953"
             ],
             [
              0.7777777777777778,
              "#fb9f3a"
             ],
             [
              0.8888888888888888,
              "#fdca26"
             ],
             [
              1.0,
              "#f0f921"
             ]
            ],
            "type": "surface"
           }
          ],
          "table": [
           {
            "cells": {
             "fill": {
              "color": "#EBF0F8"
             },
             "line": {
              "color": "white"
             }
            },
            "header": {
             "fill": {
              "color": "#C8D4E3"
             },
             "line": {
              "color": "white"
             }
            },
            "type": "table"
           }
          ]
         },
         "layout": {
          "annotationdefaults": {
           "arrowcolor": "#2a3f5f",
           "arrowhead": 0,
           "arrowwidth": 1
          },
          "autotypenumbers": "strict",
          "coloraxis": {
           "colorbar": {
            "outlinewidth": 0,
            "ticks": ""
           }
          },
          "colorscale": {
           "diverging": [
            [
             0,
             "#8e0152"
            ],
            [
             0.1,
             "#c51b7d"
            ],
            [
             0.2,
             "#de77ae"
            ],
            [
             0.3,
             "#f1b6da"
            ],
            [
             0.4,
             "#fde0ef"
            ],
            [
             0.5,
             "#f7f7f7"
            ],
            [
             0.6,
             "#e6f5d0"
            ],
            [
             0.7,
             "#b8e186"
            ],
            [
             0.8,
             "#7fbc41"
            ],
            [
             0.9,
             "#4d9221"
            ],
            [
             1,
             "#276419"
            ]
           ],
           "sequential": [
            [
             0.0,
             "#0d0887"
            ],
            [
             0.1111111111111111,
             "#46039f"
            ],
            [
             0.2222222222222222,
             "#7201a8"
            ],
            [
             0.3333333333333333,
             "#9c179e"
            ],
            [
             0.4444444444444444,
             "#bd3786"
            ],
            [
             0.5555555555555556,
             "#d8576b"
            ],
            [
             0.6666666666666666,
             "#ed7953"
            ],
            [
             0.7777777777777778,
             "#fb9f3a"
            ],
            [
             0.8888888888888888,
             "#fdca26"
            ],
            [
             1.0,
             "#f0f921"
            ]
           ],
           "sequentialminus": [
            [
             0.0,
             "#0d0887"
            ],
            [
             0.1111111111111111,
             "#46039f"
            ],
            [
             0.2222222222222222,
             "#7201a8"
            ],
            [
             0.3333333333333333,
             "#9c179e"
            ],
            [
             0.4444444444444444,
             "#bd3786"
            ],
            [
             0.5555555555555556,
             "#d8576b"
            ],
            [
             0.6666666666666666,
             "#ed7953"
            ],
            [
             0.7777777777777778,
             "#fb9f3a"
            ],
            [
             0.8888888888888888,
             "#fdca26"
            ],
            [
             1.0,
             "#f0f921"
            ]
           ]
          },
          "colorway": [
           "#636efa",
           "#EF553B",
           "#00cc96",
           "#ab63fa",
           "#FFA15A",
           "#19d3f3",
           "#FF6692",
           "#B6E880",
           "#FF97FF",
           "#FECB52"
          ],
          "font": {
           "color": "#2a3f5f"
          },
          "geo": {
           "bgcolor": "white",
           "lakecolor": "white",
           "landcolor": "#E5ECF6",
           "showlakes": true,
           "showland": true,
           "subunitcolor": "white"
          },
          "hoverlabel": {
           "align": "left"
          },
          "hovermode": "closest",
          "mapbox": {
           "style": "light"
          },
          "paper_bgcolor": "white",
          "plot_bgcolor": "#E5ECF6",
          "polar": {
           "angularaxis": {
            "gridcolor": "white",
            "linecolor": "white",
            "ticks": ""
           },
           "bgcolor": "#E5ECF6",
           "radialaxis": {
            "gridcolor": "white",
            "linecolor": "white",
            "ticks": ""
           }
          },
          "scene": {
           "xaxis": {
            "backgroundcolor": "#E5ECF6",
            "gridcolor": "white",
            "gridwidth": 2,
            "linecolor": "white",
            "showbackground": true,
            "ticks": "",
            "zerolinecolor": "white"
           },
           "yaxis": {
            "backgroundcolor": "#E5ECF6",
            "gridcolor": "white",
            "gridwidth": 2,
            "linecolor": "white",
            "showbackground": true,
            "ticks": "",
            "zerolinecolor": "white"
           },
           "zaxis": {
            "backgroundcolor": "#E5ECF6",
            "gridcolor": "white",
            "gridwidth": 2,
            "linecolor": "white",
            "showbackground": true,
            "ticks": "",
            "zerolinecolor": "white"
           }
          },
          "shapedefaults": {
           "line": {
            "color": "#2a3f5f"
           }
          },
          "ternary": {
           "aaxis": {
            "gridcolor": "white",
            "linecolor": "white",
            "ticks": ""
           },
           "baxis": {
            "gridcolor": "white",
            "linecolor": "white",
            "ticks": ""
           },
           "bgcolor": "#E5ECF6",
           "caxis": {
            "gridcolor": "white",
            "linecolor": "white",
            "ticks": ""
           }
          },
          "title": {
           "x": 0.05
          },
          "xaxis": {
           "automargin": true,
           "gridcolor": "white",
           "linecolor": "white",
           "ticks": "",
           "title": {
            "standoff": 15
           },
           "zerolinecolor": "white",
           "zerolinewidth": 2
          },
          "yaxis": {
           "automargin": true,
           "gridcolor": "white",
           "linecolor": "white",
           "ticks": "",
           "title": {
            "standoff": 15
           },
           "zerolinecolor": "white",
           "zerolinewidth": 2
          }
         }
        },
        "title": {
         "text": "UMAP by Cell Line"
        },
        "xaxis": {
         "anchor": "y",
         "domain": [
          0.0,
          1.0
         ],
         "title": {
          "text": "umap0"
         }
        },
        "yaxis": {
         "anchor": "x",
         "domain": [
          0.0,
          1.0
         ],
         "title": {
          "text": "umap1"
         }
        }
       }
      }
     },
     "metadata": {},
     "output_type": "display_data"
    }
   ],
   "source": [
    "fig = px.scatter(\n",
    "    umapdf,\n",
    "    x=\"umap0\",\n",
    "    y=\"umap1\",\n",
    "    color=\"Metadata_cell_line\",\n",
    "    title=\"UMAP by Cell Line\",\n",
    "    color_discrete_sequence=px.colors.qualitative.Dark24,\n",
    ")\n",
    "\n",
    "fig.show()\n",
    "fig.write_image(\n",
    "    static_figure_path / \"round1_cell_line_umap.png\", width=2000, height=1200\n",
    ")\n",
    "fig.write_html(\n",
    "    int_figure_path / \"round1_cell_line_umap.html\",\n",
    "    full_html=True,\n",
    "    include_plotlyjs=\"embed\",\n",
    ")"
   ]
  },
  {
   "cell_type": "code",
   "execution_count": 18,
   "metadata": {
    "execution": {
     "iopub.execute_input": "2025-07-03T22:08:34.256656Z",
     "iopub.status.busy": "2025-07-03T22:08:34.256356Z",
     "iopub.status.idle": "2025-07-03T22:08:36.942527Z",
     "shell.execute_reply": "2025-07-03T22:08:36.942085Z"
    },
    "jukit_cell_id": "XjfIInxjNN"
   },
   "outputs": [
    {
     "data": {
      "application/vnd.plotly.v1+json": {
       "config": {
        "plotlyServerURL": "https://plot.ly"
       },
       "data": [
        {
         "hovertemplate": "Metadata_seeding_density=1000<br>umap0=%{x}<br>umap1=%{y}<extra></extra>",
         "legendgroup": "1000",
         "marker": {
          "color": "#edf8fb",
          "symbol": "circle"
         },
         "mode": "markers",
         "name": "1000",
         "showlegend": true,
         "type": "scattergl",
         "x": {
          "bdata": "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",
          "dtype": "f4"
         },
         "xaxis": "x",
         "y": {
          "bdata": "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",
          "dtype": "f4"
         },
         "yaxis": "y"
        },
        {
         "hovertemplate": "Metadata_seeding_density=2000<br>umap0=%{x}<br>umap1=%{y}<extra></extra>",
         "legendgroup": "2000",
         "marker": {
          "color": "#b2e2e2",
          "symbol": "circle"
         },
         "mode": "markers",
         "name": "2000",
         "showlegend": true,
         "type": "scattergl",
         "x": {
          "bdata": "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",
          "dtype": "f4"
         },
         "xaxis": "x",
         "y": {
          "bdata": "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",
          "dtype": "f4"
         },
         "yaxis": "y"
        },
        {
         "hovertemplate": "Metadata_seeding_density=4000<br>umap0=%{x}<br>umap1=%{y}<extra></extra>",
         "legendgroup": "4000",
         "marker": {
          "color": "#66c2a4",
          "symbol": "circle"
         },
         "mode": "markers",
         "name": "4000",
         "showlegend": true,
         "type": "scattergl",
         "x": {
          "bdata": "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",
          "dtype": "f4"
         },
         "xaxis": "x",
         "y": {
          "bdata": "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",
          "dtype": "f4"
         },
         "yaxis": "y"
        },
        {
         "hovertemplate": "Metadata_seeding_density=8000<br>umap0=%{x}<br>umap1=%{y}<extra></extra>",
         "legendgroup": "8000",
         "marker": {
          "color": "#2ca25f",
          "symbol": "circle"
         },
         "mode": "markers",
         "name": "8000",
         "showlegend": true,
         "type": "scattergl",
         "x": {
          "bdata": "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",
          "dtype": "f4"
         },
         "xaxis": "x",
         "y": {
          "bdata": "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",
          "dtype": "f4"
         },
         "yaxis": "y"
        },
        {
         "hovertemplate": "Metadata_seeding_density=12000<br>umap0=%{x}<br>umap1=%{y}<extra></extra>",
         "legendgroup": "12000",
         "marker": {
          "color": "#006d2c",
          "symbol": "circle"
         },
         "mode": "markers",
         "name": "12000",
         "showlegend": true,
         "type": "scattergl",
         "x": {
          "bdata": "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",
          "dtype": "f4"
         },
         "xaxis": "x",
         "y": {
          "bdata": "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",
          "dtype": "f4"
         },
         "yaxis": "y"
        }
       ],
       "layout": {
        "legend": {
         "title": {
          "text": "Metadata_seeding_density"
         },
         "tracegroupgap": 0
        },
        "template": {
         "data": {
          "bar": [
           {
            "error_x": {
             "color": "#2a3f5f"
            },
            "error_y": {
             "color": "#2a3f5f"
            },
            "marker": {
             "line": {
              "color": "#E5ECF6",
              "width": 0.5
             },
             "pattern": {
              "fillmode": "overlay",
              "size": 10,
              "solidity": 0.2
             }
            },
            "type": "bar"
           }
          ],
          "barpolar": [
           {
            "marker": {
             "line": {
              "color": "#E5ECF6",
              "width": 0.5
             },
             "pattern": {
              "fillmode": "overlay",
              "size": 10,
              "solidity": 0.2
             }
            },
            "type": "barpolar"
           }
          ],
          "carpet": [
           {
            "aaxis": {
             "endlinecolor": "#2a3f5f",
             "gridcolor": "white",
             "linecolor": "white",
             "minorgridcolor": "white",
             "startlinecolor": "#2a3f5f"
            },
            "baxis": {
             "endlinecolor": "#2a3f5f",
             "gridcolor": "white",
             "linecolor": "white",
             "minorgridcolor": "white",
             "startlinecolor": "#2a3f5f"
            },
            "type": "carpet"
           }
          ],
          "choropleth": [
           {
            "colorbar": {
             "outlinewidth": 0,
             "ticks": ""
            },
            "type": "choropleth"
           }
          ],
          "contour": [
           {
            "colorbar": {
             "outlinewidth": 0,
             "ticks": ""
            },
            "colorscale": [
             [
              0.0,
              "#0d0887"
             ],
             [
              0.1111111111111111,
              "#46039f"
             ],
             [
              0.2222222222222222,
              "#7201a8"
             ],
             [
              0.3333333333333333,
              "#9c179e"
             ],
             [
              0.4444444444444444,
              "#bd3786"
             ],
             [
              0.5555555555555556,
              "#d8576b"
             ],
             [
              0.6666666666666666,
              "#ed7953"
             ],
             [
              0.7777777777777778,
              "#fb9f3a"
             ],
             [
              0.8888888888888888,
              "#fdca26"
             ],
             [
              1.0,
              "#f0f921"
             ]
            ],
            "type": "contour"
           }
          ],
          "contourcarpet": [
           {
            "colorbar": {
             "outlinewidth": 0,
             "ticks": ""
            },
            "type": "contourcarpet"
           }
          ],
          "heatmap": [
           {
            "colorbar": {
             "outlinewidth": 0,
             "ticks": ""
            },
            "colorscale": [
             [
              0.0,
              "#0d0887"
             ],
             [
              0.1111111111111111,
              "#46039f"
             ],
             [
              0.2222222222222222,
              "#7201a8"
             ],
             [
              0.3333333333333333,
              "#9c179e"
             ],
             [
              0.4444444444444444,
              "#bd3786"
             ],
             [
              0.5555555555555556,
              "#d8576b"
             ],
             [
              0.6666666666666666,
              "#ed7953"
             ],
             [
              0.7777777777777778,
              "#fb9f3a"
             ],
             [
              0.8888888888888888,
              "#fdca26"
             ],
             [
              1.0,
              "#f0f921"
             ]
            ],
            "type": "heatmap"
           }
          ],
          "histogram": [
           {
            "marker": {
             "pattern": {
              "fillmode": "overlay",
              "size": 10,
              "solidity": 0.2
             }
            },
            "type": "histogram"
           }
          ],
          "histogram2d": [
           {
            "colorbar": {
             "outlinewidth": 0,
             "ticks": ""
            },
            "colorscale": [
             [
              0.0,
              "#0d0887"
             ],
             [
              0.1111111111111111,
              "#46039f"
             ],
             [
              0.2222222222222222,
              "#7201a8"
             ],
             [
              0.3333333333333333,
              "#9c179e"
             ],
             [
              0.4444444444444444,
              "#bd3786"
             ],
             [
              0.5555555555555556,
              "#d8576b"
             ],
             [
              0.6666666666666666,
              "#ed7953"
             ],
             [
              0.7777777777777778,
              "#fb9f3a"
             ],
             [
              0.8888888888888888,
              "#fdca26"
             ],
             [
              1.0,
              "#f0f921"
             ]
            ],
            "type": "histogram2d"
           }
          ],
          "histogram2dcontour": [
           {
            "colorbar": {
             "outlinewidth": 0,
             "ticks": ""
            },
            "colorscale": [
             [
              0.0,
              "#0d0887"
             ],
             [
              0.1111111111111111,
              "#46039f"
             ],
             [
              0.2222222222222222,
              "#7201a8"
             ],
             [
              0.3333333333333333,
              "#9c179e"
             ],
             [
              0.4444444444444444,
              "#bd3786"
             ],
             [
              0.5555555555555556,
              "#d8576b"
             ],
             [
              0.6666666666666666,
              "#ed7953"
             ],
             [
              0.7777777777777778,
              "#fb9f3a"
             ],
             [
              0.8888888888888888,
              "#fdca26"
             ],
             [
              1.0,
              "#f0f921"
             ]
            ],
            "type": "histogram2dcontour"
           }
          ],
          "mesh3d": [
           {
            "colorbar": {
             "outlinewidth": 0,
             "ticks": ""
            },
            "type": "mesh3d"
           }
          ],
          "parcoords": [
           {
            "line": {
             "colorbar": {
              "outlinewidth": 0,
              "ticks": ""
             }
            },
            "type": "parcoords"
           }
          ],
          "pie": [
           {
            "automargin": true,
            "type": "pie"
           }
          ],
          "scatter": [
           {
            "fillpattern": {
             "fillmode": "overlay",
             "size": 10,
             "solidity": 0.2
            },
            "type": "scatter"
           }
          ],
          "scatter3d": [
           {
            "line": {
             "colorbar": {
              "outlinewidth": 0,
              "ticks": ""
             }
            },
            "marker": {
             "colorbar": {
              "outlinewidth": 0,
              "ticks": ""
             }
            },
            "type": "scatter3d"
           }
          ],
          "scattercarpet": [
           {
            "marker": {
             "colorbar": {
              "outlinewidth": 0,
              "ticks": ""
             }
            },
            "type": "scattercarpet"
           }
          ],
          "scattergeo": [
           {
            "marker": {
             "colorbar": {
              "outlinewidth": 0,
              "ticks": ""
             }
            },
            "type": "scattergeo"
           }
          ],
          "scattergl": [
           {
            "marker": {
             "colorbar": {
              "outlinewidth": 0,
              "ticks": ""
             }
            },
            "type": "scattergl"
           }
          ],
          "scattermap": [
           {
            "marker": {
             "colorbar": {
              "outlinewidth": 0,
              "ticks": ""
             }
            },
            "type": "scattermap"
           }
          ],
          "scattermapbox": [
           {
            "marker": {
             "colorbar": {
              "outlinewidth": 0,
              "ticks": ""
             }
            },
            "type": "scattermapbox"
           }
          ],
          "scatterpolar": [
           {
            "marker": {
             "colorbar": {
              "outlinewidth": 0,
              "ticks": ""
             }
            },
            "type": "scatterpolar"
           }
          ],
          "scatterpolargl": [
           {
            "marker": {
             "colorbar": {
              "outlinewidth": 0,
              "ticks": ""
             }
            },
            "type": "scatterpolargl"
           }
          ],
          "scatterternary": [
           {
            "marker": {
             "colorbar": {
              "outlinewidth": 0,
              "ticks": ""
             }
            },
            "type": "scatterternary"
           }
          ],
          "surface": [
           {
            "colorbar": {
             "outlinewidth": 0,
             "ticks": ""
            },
            "colorscale": [
             [
              0.0,
              "#0d0887"
             ],
             [
              0.1111111111111111,
              "#46039f"
             ],
             [
              0.2222222222222222,
              "#7201a8"
             ],
             [
              0.3333333333333333,
              "#9c179e"
             ],
             [
              0.4444444444444444,
              "#bd3786"
             ],
             [
              0.5555555555555556,
              "#d8576b"
             ],
             [
              0.6666666666666666,
              "#ed7953"
             ],
             [
              0.7777777777777778,
              "#fb9f3a"
             ],
             [
              0.8888888888888888,
              "#fdca26"
             ],
             [
              1.0,
              "#f0f921"
             ]
            ],
            "type": "surface"
           }
          ],
          "table": [
           {
            "cells": {
             "fill": {
              "color": "#EBF0F8"
             },
             "line": {
              "color": "white"
             }
            },
            "header": {
             "fill": {
              "color": "#C8D4E3"
             },
             "line": {
              "color": "white"
             }
            },
            "type": "table"
           }
          ]
         },
         "layout": {
          "annotationdefaults": {
           "arrowcolor": "#2a3f5f",
           "arrowhead": 0,
           "arrowwidth": 1
          },
          "autotypenumbers": "strict",
          "coloraxis": {
           "colorbar": {
            "outlinewidth": 0,
            "ticks": ""
           }
          },
          "colorscale": {
           "diverging": [
            [
             0,
             "#8e0152"
            ],
            [
             0.1,
             "#c51b7d"
            ],
            [
             0.2,
             "#de77ae"
            ],
            [
             0.3,
             "#f1b6da"
            ],
            [
             0.4,
             "#fde0ef"
            ],
            [
             0.5,
             "#f7f7f7"
            ],
            [
             0.6,
             "#e6f5d0"
            ],
            [
             0.7,
             "#b8e186"
            ],
            [
             0.8,
             "#7fbc41"
            ],
            [
             0.9,
             "#4d9221"
            ],
            [
             1,
             "#276419"
            ]
           ],
           "sequential": [
            [
             0.0,
             "#0d0887"
            ],
            [
             0.1111111111111111,
             "#46039f"
            ],
            [
             0.2222222222222222,
             "#7201a8"
            ],
            [
             0.3333333333333333,
             "#9c179e"
            ],
            [
             0.4444444444444444,
             "#bd3786"
            ],
            [
             0.5555555555555556,
             "#d8576b"
            ],
            [
             0.6666666666666666,
             "#ed7953"
            ],
            [
             0.7777777777777778,
             "#fb9f3a"
            ],
            [
             0.8888888888888888,
             "#fdca26"
            ],
            [
             1.0,
             "#f0f921"
            ]
           ],
           "sequentialminus": [
            [
             0.0,
             "#0d0887"
            ],
            [
             0.1111111111111111,
             "#46039f"
            ],
            [
             0.2222222222222222,
             "#7201a8"
            ],
            [
             0.3333333333333333,
             "#9c179e"
            ],
            [
             0.4444444444444444,
             "#bd3786"
            ],
            [
             0.5555555555555556,
             "#d8576b"
            ],
            [
             0.6666666666666666,
             "#ed7953"
            ],
            [
             0.7777777777777778,
             "#fb9f3a"
            ],
            [
             0.8888888888888888,
             "#fdca26"
            ],
            [
             1.0,
             "#f0f921"
            ]
           ]
          },
          "colorway": [
           "#636efa",
           "#EF553B",
           "#00cc96",
           "#ab63fa",
           "#FFA15A",
           "#19d3f3",
           "#FF6692",
           "#B6E880",
           "#FF97FF",
           "#FECB52"
          ],
          "font": {
           "color": "#2a3f5f"
          },
          "geo": {
           "bgcolor": "white",
           "lakecolor": "white",
           "landcolor": "#E5ECF6",
           "showlakes": true,
           "showland": true,
           "subunitcolor": "white"
          },
          "hoverlabel": {
           "align": "left"
          },
          "hovermode": "closest",
          "mapbox": {
           "style": "light"
          },
          "paper_bgcolor": "white",
          "plot_bgcolor": "#E5ECF6",
          "polar": {
           "angularaxis": {
            "gridcolor": "white",
            "linecolor": "white",
            "ticks": ""
           },
           "bgcolor": "#E5ECF6",
           "radialaxis": {
            "gridcolor": "white",
            "linecolor": "white",
            "ticks": ""
           }
          },
          "scene": {
           "xaxis": {
            "backgroundcolor": "#E5ECF6",
            "gridcolor": "white",
            "gridwidth": 2,
            "linecolor": "white",
            "showbackground": true,
            "ticks": "",
            "zerolinecolor": "white"
           },
           "yaxis": {
            "backgroundcolor": "#E5ECF6",
            "gridcolor": "white",
            "gridwidth": 2,
            "linecolor": "white",
            "showbackground": true,
            "ticks": "",
            "zerolinecolor": "white"
           },
           "zaxis": {
            "backgroundcolor": "#E5ECF6",
            "gridcolor": "white",
            "gridwidth": 2,
            "linecolor": "white",
            "showbackground": true,
            "ticks": "",
            "zerolinecolor": "white"
           }
          },
          "shapedefaults": {
           "line": {
            "color": "#2a3f5f"
           }
          },
          "ternary": {
           "aaxis": {
            "gridcolor": "white",
            "linecolor": "white",
            "ticks": ""
           },
           "baxis": {
            "gridcolor": "white",
            "linecolor": "white",
            "ticks": ""
           },
           "bgcolor": "#E5ECF6",
           "caxis": {
            "gridcolor": "white",
            "linecolor": "white",
            "ticks": ""
           }
          },
          "title": {
           "x": 0.05
          },
          "xaxis": {
           "automargin": true,
           "gridcolor": "white",
           "linecolor": "white",
           "ticks": "",
           "title": {
            "standoff": 15
           },
           "zerolinecolor": "white",
           "zerolinewidth": 2
          },
          "yaxis": {
           "automargin": true,
           "gridcolor": "white",
           "linecolor": "white",
           "ticks": "",
           "title": {
            "standoff": 15
           },
           "zerolinecolor": "white",
           "zerolinewidth": 2
          }
         }
        },
        "title": {
         "text": "UMAP by Seeding Density"
        },
        "xaxis": {
         "anchor": "y",
         "domain": [
          0.0,
          1.0
         ],
         "title": {
          "text": "umap0"
         }
        },
        "yaxis": {
         "anchor": "x",
         "domain": [
          0.0,
          1.0
         ],
         "title": {
          "text": "umap1"
         }
        }
       }
      }
     },
     "metadata": {},
     "output_type": "display_data"
    }
   ],
   "source": [
    "blue_green_colors = [\"#edf8fb\", \"#b2e2e2\", \"#66c2a4\", \"#2ca25f\", \"#006d2c\"]\n",
    "\n",
    "fig = px.scatter(\n",
    "    umapdf,\n",
    "    x=\"umap0\",\n",
    "    y=\"umap1\",\n",
    "    color=\"Metadata_seeding_density\",\n",
    "    title=\"UMAP by Seeding Density\",\n",
    "    color_discrete_sequence=blue_green_colors,\n",
    ")\n",
    "\n",
    "fig.show()\n",
    "fig.write_image(\n",
    "    static_figure_path / \"round1_seeding_density_umap.png\", width=2000, height=1200\n",
    ")\n",
    "fig.write_html(\n",
    "    int_figure_path / \"round1_seeding_density_umap.html\",\n",
    "    full_html=True,\n",
    "    include_plotlyjs=\"embed\",\n",
    ")"
   ]
  },
  {
   "cell_type": "code",
   "execution_count": 19,
   "metadata": {
    "execution": {
     "iopub.execute_input": "2025-07-03T22:08:36.944119Z",
     "iopub.status.busy": "2025-07-03T22:08:36.944013Z",
     "iopub.status.idle": "2025-07-03T22:08:39.546831Z",
     "shell.execute_reply": "2025-07-03T22:08:39.546327Z"
    },
    "jukit_cell_id": "xfvHhoGCg7"
   },
   "outputs": [
    {
     "data": {
      "application/vnd.plotly.v1+json": {
       "config": {
        "plotlyServerURL": "https://plot.ly"
       },
       "data": [
        {
         "hovertemplate": "Metadata_time_point=24<br>umap0=%{x}<br>umap1=%{y}<extra></extra>",
         "legendgroup": "24",
         "marker": {
          "color": "#edf8fb",
          "symbol": "circle"
         },
         "mode": "markers",
         "name": "24",
         "showlegend": true,
         "type": "scattergl",
         "x": {
          "bdata": "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",
          "dtype": "f4"
         },
         "xaxis": "x",
         "y": {
          "bdata": "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",
          "dtype": "f4"
         },
         "yaxis": "y"
        },
        {
         "hovertemplate": "Metadata_time_point=48<br>umap0=%{x}<br>umap1=%{y}<extra></extra>",
         "legendgroup": "48",
         "marker": {
          "color": "#99d8c9",
          "symbol": "circle"
         },
         "mode": "markers",
         "name": "48",
         "showlegend": true,
         "type": "scattergl",
         "x": {
          "bdata": "igmKv+Dzmj/vAjO/J/aMv/ADTL2CePA++7pLwC2gaMCJKyi+bsybP/RtRb/Rw4w+uzqvP59PNMBi4h0/ouilPz0TKcCe3KU/qivHvw+xGMAugmfA399CwLk3ob8Q4qo/ej1dwNRNqb+dv/A7RKSjP1s8VD9M/aE/mdTFPfLIjMBGRAw/40eDP5BmicDJAmXALf+jv4Yh1z6KnmS+ly+fP0Fb27y1cYg+DSuTwJ6ktr4zTcA/ApWCP2QBT7zneYE/pXSUv1kUDMADZgk+ebppPLGdoj8uodw9d2OfQDIFOb4Er10/BlKMP2kO1T9LnGM/+nfVPPDHjz+ppyA/Cl02P9YIhj9Du6E/gZWxPz6SrL2dNjc92hvYP0t/q74RcYI9ZD+UQLarHT8thqA9AtXfP/emeD/r3aFA0N6IOwOEL7+inp++AKd2v8/zGj8RpGo+Pv5+v79Ytz/BKgM+bks1P6bkUj+su0C/vMRHvw8FZ74R7oY/JFdxPw0E775Zl48/7tF+P9ECH77Rpog/aFwmP4K9Wj+qu6I/NFaQQHR4jD/FasU/IiDvPsZwXj9fpjI/GjNbPxWylUDQdre9+A88P8b8Zb8rQX0/sLadQP6rxj+etAy+N2K2PnStmT4+2mq+N+8lvw/zWD+6CTW/1E1dPyAypTwuJqG+ul1vP0i2EL+eMEM/IPoJwFsdSr+gbiDA7WWVP6qWbj/o7aY/uUC3P7U9+r4U50U/r9mCPhv+lEC+2lQ/mHRlvhXLPr9KgJdAyz6NPhLSg79wAwm/Sw/evgGQcT/+9LA/U8mFP5/tl0Do1b6/IgBmPVF5HL8xoKq+y/Ezv7Qgvz8mYYO/+aM2v6tdsj/r6HS9u9WQQBMpEz89v5NAjGw/P+Kcqj7m+6K/yDVMv5QPgj4DUj2/YKiqv88N373rjZBA5NHUviKsnUCcXHM/R+cdv5CQuT0p5KJAyoiDPidcPj+4rw8/Kcervnq6nj8Ez6FA+3fJvW3lCr8A2Kg/pWJNPatXqT9jrqk/zSVAP1JFDT5m2hQ/4pypPz/OqUACYku+muXCPzS9qr7um6NAGiWhP5+qgj/uaTs/M2TsOy9tqL/1DRW/Juwbv+dCRb4VIkg/x2FqvyTl7760yQc/zEqbQAZKub8pHEC+jYOVQPTUgj+5OQe/8tOwv2W7VL8UPgG+UHlSvzqxLL6a0ppA6m9Dv6Pf4j4KIz6/cVrlv1l3JL+GwlK/yJYxvv2boj5x5ppAOZcWPzD7Fr88Qoa+dI0Av0GwlEAYJrK/B6EXQOgsFb9DH2g9ZKXyPFZHlEAtawq/NOyYQD3J0L2/eBC/sSOVPxGGET+S/sS/yrZwPpmDWD7QKqk/nEVcP9FzEb5pI5Q+8LmjP6POSMCrcjA/qoulP6/io79paZK/nkfzPqgQvz8aBWK+bqOoPgifID5ufyM+L0PHPifvnD8LaOM/ER1XP/rpyj5Hw7A+Kt4SwASetD58U60/iFoDP7ynjb/iJ5a9g1OQPvYhGsAd1U0/zzdaPdr2hL8495u+VCZuwF3udT8NhIQ/83cvP6L2Bz8GJcQ/rCe6Pt66tj0602A+/3ftPBaGTj8RD6k/KxwmPw6vhL+FJYc/LFWvvb+gm71PoxU/FI2Ov1Vu1r3mQjc+/sSSPhBNcL6vhiQ/ULecv23dfj/pJho/CJXDv4b7nz74DaE/cmjfvcYeWj9B/IM+kbdUP5shYz/D/uO9vR8vPsnU3r+QWEY8mSwqP6iygT7cdek9YsbFPvcttT8QlhE/iuluP5Y7/L0lV8i9ZVaMPh+/Lb5YL/M+c2hOP6RXm77KvWfAOIJZP2+rBD5l1cg+CXSHPom7Zb4IbQ+9bDg9P/q4NT+/p4c/O3uZv9dvq74lb7w/xGgvP18eCr+81TO+Iv2OP5K2773DCzE/go7qvgu48DyrGd69vxaDPhgJG8AW6zS+pxXCvb/aoD9JeBg/2IjePQyxL75UnBM/g06IO4FSQ75XGVE9AFeDvho1oD5fWPU+C5IZP/TCvz3OekM/xaEZvx/8JD8Qnz++l0orv5dVTL7d7QY/mF5VP1s+nz4l6oc9h1kKP63MQD+6UM8+g3GGPgIaKr4mBB6/yZypPof0pL05Ud8+NK9ZP8jlGL+0uxC/H5dEv2vkfr4WFx0/hBRdP/cnxL4tBQw+Z10sP6PsHj6KthU/Hi1kPzSBKT5gxPm+hZrPviXdLT9V6C6/BzEwvyQQDb4FM5a/IlIzPznciT7SkRA/c9Czvm5Z/L6Ohwg/qrL3vJ7Raj8OzCG/LrMUv7YD4D51QCO9eBNDP1tizz/2gws/yAZjv3SjjkAvhBq/ZtEFv6jkzj5PKBu/YQhdP33yHj6XGw6/+FV5P+nwb8Ce+IC/DCGGv248h7/iPYC/lOQqvwBQnb+sx2G+5qs4P3UplEDA7oW+YrA5Psd4Y78txzW+BTBLv/yZuL8Qo3g/aM1vv3AvjL98ek2/uHuGPPnrF7/S82C/KqQfvzlBhL/mzXq/igPBvit5M78pZa6/oTcvv/iWy79aUzS/5p5cv9Rav74oRDC++fpSvwQPo7/eEm68MbJ+vsc6qb5NJqS+UhwRP4Ephb9vdWg/9vFpPi1JIj6O2ng/cpEpvzX0lj4ypf2+TIXYPpc9Pr7Sxha/u4WIv4YjXb8PlXM/wuqMv7FY67+Hao2/eywsvySduL/2frK/6I4KPy0G5b9a08u/18Tmv4cywL+pHsq+mfrRv6r6ab8z3qO/BTrlviG6e7/CZgXAN7Xwv8L1G7/vV6W/RMmrv+Nql78E08K/Z6HTvqkS077f9+O9njd/vxYV4b+bw2G+1GEAwMj+0b/kEJG+ocePvwqQAb9/aeK/t+64vyLApL9qFte/z9HXv5Qp378v4Oa/KbibvfQf3r9Trdm8NIgWvhC+VT+e3Oq9NUrKv8VFiTzWKoU/Ohfyv4C9OsBm2ba/LLvZvzwyir9Ojbq/XVP3v4KL/L+3m6e/km9IvyAfWMBeVYy/17mTv1wS776FeQjA+LbdPtDQd7+vLJe7TIqOvQJ/9b9ySQHA2P9bwP13S8CXaxi/cmgCwAlBrb6rqyDANmE/wGZD1r9MhDq/WhAmwJM6xb8W+ly/M7hewJ9q3r9gLIe/1NHpv6xehcCw7Ny/B42NwPA0g7+LOJe/76FfP6EBY7+hvNu/gSjKvg7g9r8mDIG/0hHcv2HBDMAa/yrAAA+LwNmPFMB9gYTAvCpSwJZlEcDDeEfA16bCvxvdhT/jdbi/FJ5/wD5bPMAC5jTAOi5wwJObHcDZdKI+oMKXP8M6jMCPwI7AuC9/wA/abcBL4orAvDB9wMi3fMD+eoXAt8iGwMHbEsAz5UfAnU9uv/0vE8CW2VLAriXmv5AkYMAwDzq/BqLjv8XLh8CLxoLAXF5/wHZHzr+cswA//M96wMzEc8DFRFPA04BFwKWGWb8pKO2/oNjGv3b8DsAgr27AYN2JwEgKOMCBoIvAcpg3wAz2X8AZmnjAaeOHv6+0Rz8jm/S/p9inv1NvAcAvbJ6+LFK/v4v+27+F5x/AfsCNwB0rN8Ael03AxWkhv82qKMCHO4LAq8F+v3kkqr9H6wjAz1GIv+KkO8DYdXTAEu2tvwBiRT/TQ4zAAhjpvr6a9782o/y/j+sCwLx6jsC5+Mo+xFFhP4HCq79oXIe/7k8qwIUKO7/be4o+HJ5fwBgbTMA8Dn/AgBhCwE0sM8ClTPe/t5SIwNaNAcC0UA3APY6NwJZy67+T6sG/oe5Ev+F0TcBbTTvAG03hvwgEg8DlDZG/H1hBwK67ZcCewtK/ilc7v1FMb8CWFz/ATo1xwHi20r5fSVLA4v2KwKYuDL98goK/qoVNwPa2Zb5mSSzAFQ3BvxxUK8Al+R7Ays8cP5o9jcCTnYzAH3ZhwFJA1T63jOu+6CpRwGYYiMA5/wDAxQ1Nv+LlA8CRdrk+K3zSv35sJj9vkYLAZbpRP+KrYcADQUPAxv2NwCUAAMDBlYbAAVYMwJRoecABDUm/dhnIP8NfWr9aVBm/fu9xP9fRg8APlEC/9LVzPyGqsT+UFWXAswOFwNbmjT/TSzq/8o52QKe5Sr/tbpW/aNSLv7RXxj8yHxi/FFphv19wUL86UpQ/QRJoP9X80b2461jADU9Hv5sTwb80U7o/iPp6v0doU8CdMky/OwWovk9tZT8Drxu/EwIfvwkQOj9ykbI/VxvCv5+SL8BEu5Q/SXQcvw9Wzr98wkO/+mRQv6hxNL5lMI+/YrqYPehopT+NDYPAAbOFv/iWg784WDTAnBbWv0MTDb9Rl0M/AZYpvxVMZL/wyq8/7hZLv+DuTb9XS6U/ixibP9oXgsBeq5y+ExQhwEP1acBPw+g+qE6GP+QxlL4hLcq/AoJKv6xbYz+gCD+/RNlvvw/N1L72EEu/rhhVvyXIIL+P2IW/KOAzwAoTUr+67Gq/fdhQvzYncj+RQYa+4K2cvy4KUL9yHYjAttJ0wMqrE8D6+MS+b+6GwIlHt7+H8W4/jlLQvVWEAj+chGE/ESg9vz0oJr9iiGO+jPcHPSMWAr+Hsn+/WSbdv2Yz4z9Tgm8/+FgrvwIzXT+jP3DAIN0rwJrkzD831QnAsewKwE2Y0786nna/BEeTvZRlF7+eOAS/vdNZvzYCNr9lREC+rBsQvzDmFr/GuLy/HKk5v+nczL4le5W/nzOCQEM4ez/zWiK/+95rP5m0Ob+OCT2/kQ4iv0lW+b97tlvAjO/Nvzn3HMDWxI/AyYRYv5J+dMBziwm/e6I+wFw7n7/M/Va/EaH+vhjbLb8Svhe/ilq5vYSsnz2yWCTAQ6ifPq2he79jJlLAigy7v09xPMBPcwM/1Ykwv4RdEj6cxny/D9eVvk7E2b8len6/MnKdv2TRxT7oO12/ZdsYwEkYzb4qOjW/QIAWwCjVLr8skVO/m88Wv8yYGT8mEvW+i/2QvxCKW8Drz7I+TSY2wKPGMr8HJrE/WS+2v27QYsCuXdM/WpdAvwxJj7/elho/jiM4P9uCIb/CyE6/UVeAwC8nHb//cZA/lcKSv5Rel79C4w0/6/B4v3Y9lb4wi+a/A7cKwJLfAD8KhIG/l5scPnv2xjyS5kHA8NO3v6lGUL95+w/AWtINwIsALD6Wh7K/oQqMv4njOT/ZnQDAwLXwv93jIMDOrBjA0eWBvycHwL/rRgrADUwEwHD3DL+EEd2/XzPYvzLlaD9XUVA/cmqfv4Tn1r799f2/EbLFvm8bh0Azso2/4Gqgv8NPxL+mV02/kfk5vu9C1TzoeAfAqCfSvx/u+r+Am24/Sultv+9Wvr9MEoy/pkH7vkXrasCy8MW/uQjIvyrgkcDIDsC/lO/SvyR4nb7EITHA99qRwJcfyb6uhpi/wPS9Prm4QcB84sg+LYHhvl/2cr84Csy/HNTPv7WvdL+iuCfAQyGOwAhrAMB5KyvA1OxbvxIaB8Anbu8/uvRTvng0RD/N/qe//IrJv/yLO8B0/Gw/5Byuvy/uH8D9SjXAKmQsv4eRsL9giA7AdsJEv8Uwqb+a9R3AH9aev3e3Wb+Qb4FAcDdPv0h8k8BXbBC/yAizv16fyr9EJ9g+HzFEwPBSib/K9uW/hIyBv7oxf7/zL35A+5iHvpDQRsBURAHAxxGkvxy2Hr9bcQK/JYp3PjljSMDXMfq/zYjSv49LhD4LTom/N7PovwZgFMByAWPAH3nnPabXIsCcghnAdVDOv0jVhb+tvEXAP/1HwIOieL941nY/BpmBwPjMo7//Ttq93UgwwBswd8DsLfO/xjCYvjkw2r+BSh3AywVuP3Q+ob8ho5G/nsVWv+2f5r9qJcm/RVLwvpbXkz+OQq+/6ZjpvwK0Wr+PoGa/sgRhvyFNfr8R+gfAQyODwPiuCsCy/ArA56TRv5sxTMAm4jg/mvfbv3ZeLcBE/bG/QNkPwP9LOr/rQOm//hc8wHuecT9Kjuw/TrWhv3+ykL9RIyLAu6XCvpqWP8CZKyA/eTLpv3i4gL/CVw2/Vovxv65+CcBsWyvAGE+Svybtl7/xLYY+/aicv/IWD8Az6ju/yQBlQOKdq796GntAmnjLv9hWEsCdmey/S2KGwMBfaUBlJHRASM0ewCUm+77Gpl6/wT/3vS36Cr745kq/yDRWwCOzQcAvowDAK4QuwPFLHcBWuka/7BOrv4YzdMAYxDLAI5Y+v6Rmb8CdllnAsv/6v1QbY7/W+GtAd/p6v3PCdEBqeE/APQVAwNsM3b/qsLm/wKPYv0f957/G8h3ACRKLwEb9gUAUpivAAwLtv5HOQL8y7C/ANixZv5/vacA12ai/gvKCQIznNcDC6inAyUAzPzemQb9L2wnAqDNLwMQXTMCtPkTAU5Tlvz1YVcCRni2/E4vvv4Ghir47B2W/wNZJwC/KHsAIZmzAXBCDQFLIJsAkmwHAbI70v1wtwb+zXwHAi8Djv2++17/oZoFAlwopwLUr3L/kUw7Appfbvz4XOcD1jibAZuYTvxR5c0BmnJS/D1WBQBzUH8C1UlTACIJ1QK40NsCCjnHAPMP/vziDWcBvPXfAY2J3wMzRn7/IVb0/EQStvzb7XkCroDrA0gkPwD5gR8BxxNa/3hdPv/xDacAKZ5G/Y13gvwfjL8DJ5xnA0HgQwP+cFcCVDLq/W1lXwK4BJMBHmwPA+Ng6wPgDG8DW9rs/J2KQPwsOsT+BN+M/nuCWPiPJzT+Yp1fAQoq8P99w3j/iVts/agv4PyJntj+a9VPADhXtP0GxhT/N5P2/jGmZvgqw9z8UvfQ+XoCJP9zx4D8Wba6/gaJjwEbjqj/Aifk/W0nGP81x3T/hyivAtoBTwJMR1z/t6SrAJXfSP1bczz9JXUE/MS3bPyej/r+Vjtc/B+99wOadVz/iNeG/61D5PxLHOsDzp3w/v17kPzS94z9fdss/snktwL5c5j8195m/8UMnwPZE3T/9tuE/IcbgP9Lu5z7LPtY/vdCYvyhuIz9cqmY/5yMuwOMVzT+tpOM/tgvqP78QCMCCWtg/AaEKwC/R+z/sM9w/848LPzjccsDck94/LgWAP6Sw0j9CH9s+xKXTP5eY4T/mte0/bQMfv/KsKj9IzGzAg02UP5AZB8D7yI8/WXdUvsB5Sz8cKx7AUk7Hvzk0mb/fm+c/RenUP7KN/r+xu/E+jEXCv+ttDsCYO+i/BshSPvunGsAJgKo/X5qqvsKW7j+S8vs/bZjcP9V+sb/0g9s/AMdYP0siKT+VrCjAXtPNvyB47D5q+i7AD/2bvx/pg7+9TSQ+XFQgwEtY+r9IwgvAtjHevVnLET93RJo/uEtEPdr5hcAg//q/VD2Wv8cCmT85t07AErUUwLGW3j4rR8S/U5CKv7F/Yz/7IBy/22v/vy/6IcC55te/XEbePmrD1T4vXcY/1GayP6rpN8CbOV8/8UwRwPBcFsDf/bm/EVQTwF+xBMDL0a0/cmoKPKYXz7+xsDzAEiIswNujvD+EWVHADxdAwEKOr79SyyXADcuZPwHwZsC/fhbA05yAwDG4ZsAYC2vA/6mCwJ1mEsB8+hTAiMFuP5GEBsBkeFrAwLNdv7a0CMBLYYHA6BQQwKF2tr9b0lo+7eZKwNY3CMAgEiTAT7K6v/SxgcDfj1rAgWBtwEY7qL9hx8C/zUnOv9NGM8DJLVHAwOUVwBw+SMDxjM+/C8hXwLa26b+XSmg//zMJwO7WoD/OwBHALfQVwD04dsBHP4HASyFwwExuEcC5eFM+ey3av6F9W8CiBHDAp/VrwBycScAWVErA8g49wOBiTcCFgRfA7BFbwPsva8AlwlDA8oQ/wDGkFcAkqqm/DIh5wK6zF8CbkhfA1stuwLJUI8DWuoTA5rkvwF+6LsDeZnzAstUmwP32bD9nd4XACzhdwAo5LsDKokjAEyCBwK1KEsC/6RLAdn1vwMBsesAb7UbARyzmv2wzI8D0tB3A8Ul/wDSd778gL4ZAhKwxwCeRe8B3l27AcYpswAjMFcCuJjvA2oNKwACRVsCRbUXAoez1v2O977/QZve/rYMAwDh1db1pvaS/EHcAwIVe9b+JZFW/G8Pfv5Odg7/kCH7AOW0xvhW8eb8/qRo/bkACwPQlXsB/aN6/wDKYv2/ZBMAjdJ0/e42uP6b4sL/Zhoq/QCjlvwEX6r7+lX4+bhYZwM5UKLxJFC4/AYHpv+CJpL9OOLG/Fc2uv1s7Br+wEQbAPzUAwJdMiL9BanrAeg0xv5BVvb8kxAvArb2/vqzVgsAjmR/AiiBSv9yR879EtILAyDVAwPai5b/RFDLATy2DwIiEccAyQi3AdrFtvxY+ZsCOLnrApvmBwAp7aL9rQg3AkTG1vxWk9b5Uu6w+zBRgwGigmL9GzC/AKREKwJ8zhL/pIJa/JZJ1vtJgIcBBug3AgvOuvx3YisB2jtW/lIMMwDMMDsCmfVzAK8rcvxIzjb94ymbA1/+Qv/YNU8Agdv6/qz+aPh6FCcBAOCrAICAEwJpBAcCiWkHAgDrEvwFebMDSwDW/sqmGwCQXlj6Mi4TAtdXTvsvup78JChfAMIGMO+MMqb9YrLe/GtYuwGq2W8AqXd6/dZxhPxRiqb55+4DAn/VkwIvkhsAkEpQ/YNkdwHULJMAPSs+/GEHPvuimL8C6f4bA2ClMwCfTA8A0NzjAee7kv0CPy7+4NQPAEWTtv16Prb93Ck6/mxhTwAbvBcDDWTTAXWe3v/q1L8BwABPAfS5IwL4t/782bz3A1K4Lv4USDMBVPwW/L9KHwMzXnL4MZXvApM82wLPCHsDRMinAnKoov+sQi7+Wm0XApFxhv60Se8CWAVLADsjPv//4WsBpKPG/cx3Xvx8Njr+0XlDAxo8wv+vN4b+PbC/As4gvwDAEvL+iqh7AQh4gwC1Hc8C0chbAS7p+wGTpZsBf5x3AdTJUwLw7acBDCrA+akjtv1dhSr9RRMi/gyoUwIwM/7+J1xLAxo5kwKLJ7L+RZRPAr9vpv94wa8DWkwbAnJEBwCA6gMAG7j7Ah9wKwPznd8AY8i3Ad5ImwFNUesCDKpi/t5E4wLbxLMBrgH/AMBpIwAmeHMBNe0LApBaDvxj7LcBC933AzFeEwBEUfcC4P0jA5rz5v8aCGMBm8l/AZHxzwBYYf8DSnF+/1fo4wBaqbMBGWnvAGFyOvQP1V8B5VXDAC71EwAGbjb+2K4RAM99xwPWER8B/6njA7ySJwEUGQMCXSXvAxDcYwMZZcMCAgcS/EJxRwN9AesBmb2bAbr1VwDnaJ8Am7TXAcE0cwNEzEMA5xopAaYlowEOn1r/0gnrA7KIewMNhUsAVcFHA3yVgwHbjgsCNdTLAOJH5vzKOgr8elQ7AkdwmwIjczr4R34u/gMmfv+fcZj4Y37S/PuK3v5f7j8ATTo+/gJ5hveA6NL0CMGe+VquJvqi0GL415PG/EA0PPlC3lr8h1Be+JoW6v5rQ7b5pN8e/otzNvmAsMb7ZWZI+B9eOv7AsHr7oG8u/4d6Hv3+bvb/Nh7++c/e7vhFpp7/vByO+jPGzv6/nEr5ZYrO/D1Zyvo2Qs7/86Lm/wRAQvzBLxr6Kwj8+u4ZuPF1l875i/Ki/5ui8vc3u6b59VYW/JeW7v6TGnb7DCcK+SUPyvsHyYb5o/1o8P1javwV8kb4b2po9DWzIvb0Mk7+MN52/zK7Dvgp2JrqeIqe/u9eLP631sL/QT+q/ykPLvidlo78bw7K/ztS9v61YWMDKalW+QxOovnPliL8zvhm/3xewP+tOw7+mhpK+fUB3vjEqjb+MG5i/26/uP733V8B6ZwQ+VGW7P5/TD79H39i947Wbv9VK1L5ZtOi/hKz0vdzEBb4L3DI+nD6nPs2C+7+Bw7a/isksPi7Wqb/vMLa/1QKNvzVqyL9cr96/8YGIv6Gm0b/ibXy/IFUbPqvB9b5600C+HXXDPuWA+L4+3s2+7DaIv7KDNb7hgPK/XKgTvwAeHz4oKdE/CbT8vvKc+L8C5XA+iAkFwOFjQb+e5nK+ltcEwGucVz9PxTW/vjz1vl2jnb8OMHC/9MoBv4PkuL+g9AbA5NYTvx6grT1Vkca/JYC2vyeuL72ib9e+wTU+v6OaBb9Yaz6/KPWuv5wvWz3AHlO/i0yJv7mXPL9G6Ua+g4zKv7Zc0T3t+hG/7ZDTv6vUDr+4c7c/BXbRP4D+j79Ut3nAtbkSwI7fOr8qWpG/8xqYv/q/uL+bx7y/6ypgv1eVtL5fQm3AIYLXvlKHo78C0S2/g5gJv2G2Jb7uaNi9UiEFwFxOr75j3VM/NyFZv8TeY78S15y/s4jcv9G6sb/M8ZG/29mZPtyYc79BTBG/pasSPzGclb9LPo+/BTdav6fLID/++R+/Zal2wPf7jj9Xupq/1opovsdvgj4Cz2VAztL5vhXPlr81RgG/4XyEv61fCL/iVdy+amqOP2R7M78pfTA+Ks5fv4nnyb+JijK/XaJQPljoPb4//kO/y1lXv5mlUr+IfZ6/0BGHwJ4wnb5XsyS+/pnov1vhJb+YANW+UVYCwOevp78q3G6/tM9/vyBn4b5p552+OJjivgPTxL89y5K/7ZwhwEuX2L7IMcC+sn7Mvwxwjb82Hl/A8uwfvlG4dr8NkoO+kF/Yv+G8g7/V84XA8CGIwOix6r6RM2a/tpsQwD+Zf78I6JC+pHgRPiELTr+a/oG+Zc2bv2zmM8CmzYg9mqynvaSExj+H+ek/CNMCvvrQrz/5h6E9viJuPe68aT+dfqK++hcbPlGCWsCoIeK6coTEP2RTsz7zhbQ/2jkBPoM96z/fIHu9Rz56vZ7UZsDIKNc/xwp0PAKITj9uag4/rn3aP2DFvD3/VrW9Mo+/PmCN5j/XOAFA6iGkPwkN6T+PJVU/6jBUP5OTej9Ha+I6dJajvXj89D+H7ppAyf/pP32QEL9ajyvAcBm1PycfNj7mVaE/VpWrPuhHkT3TjBA/QKqkQLI2zz9owP0/x0k7ve6w7z9Lf+c/qsgHv9K+5z+dupw/XJYNv0Xsv71r6wHAPPB7vRIMlj5op7I/tqFIvRyDrD85/KZAlqV0P5LeqD/hqVLAU1gKP5y3mr5xTDM+KOdXPxlVrD86P5285v2lQDRgmT/sX9k/l3EUPnbvFj4Tj9s9qKu3Pg4Ymr4DsWi+oKcTP66Sij991QFAR3LcP3I0kz5qv2C+29/RP9HUn74qmhC/LDLgvDCDwz2y5/Q/u9wQv2WWnz8dMXe/Iz+xP07u0D8hCsY/zU9/v3+1yT+kqEm+uKZhvRPeebqDluu/AQeBPtDSlUDw2Fe90UmXviIYnT4Wycg/PJQYP+QFiT/Wsp5ANljxPy7Ec74nFBC+9j6pPy029z+WiN4/axafPvUrEL9D2kS+WtqEPYWGPD1ICJxA3+71P9nALz8DiZs/NI4hPrfH4T9xGXg/7+rvPwhYp0DuTHk/AZu7P6pEA0CW7dQ/M0jAvm+R6j3QjIg/zU53Ps0ZsL7GMKQ/vGi3viLFJz6XY07AozDYv+itcb8kj/6/ZPGRQOr8q7+i9+Q/TxdVvoqVB78F8Lc/tNaLvqn6+T8Oz3y+GYCyv34NXD/Zre2/TeqgQHA2ir9EmjY+V3dDPXaXH0A5aYW/ZIKiQNdslkCtTL+/jwbiv4uJf78007i/4NCav0X1nEAoH8S8ZLTdv9KEpEBL7zI9D8ybvvzkBT+DkWDAZzn5PdOZtb/0UVy/2VaUQMGFoL+M99i/OdCTQFhs6D/EcP2/wDyVQFA9Tj9vkn+/9cjOv++gnj4kXZ5ASofLvw8sRT+t3JVAXOqnQLT37r2H0p8/KPmeQGSdzb+Am44/f8LdP/ryU8DR9ptA4JPWv42Lk0AagcW/McOyvwf+oUBQyjDADILjvwM2yL8s5aw/zpCoP2MP9DyqkKlAH/N6v15Ywr9LqaBAinGuv91WpT4pYq2/qNHavr90qb9AWZNABlziP2dw27/JqRfAIDAIPbt5iz+kV72/LYSUQG4bYcD2HOW9HtdWwMg7OT+jLr6/l1SOQLfVjb95HzI/vMpfPzE79T8H/869ROcGvuiPkD8hhI0/5DcyP1XAFz/xPTs/6pWlP22CAz8XzQ0/sRIyP8aNVD/XEXQ/W2FRPyRVUj9pgOY/qOLFPkcuWD5ZPEs/xosJPx6zmz9e9L0+xRqAvrH/JT9M+jo/lXhZP1Emqj95tBI/ER/EPrQjgT7uy80+tz8GPyXwLz1l+Fs/yERyPwrypT/brP8+TabTPqW49z6qsdu+cK6PwJ/HTz9csEE/zVOBP+crPz8TcvS/Qm1GwHXoUj6hVJo/DGrgP96uIz8+T4I/baWtPsk6eD+JHju/FDrdPgsvTj+ysm0/mw5+P7DcmD82KIg/plk5P2j3oz/iKEa+odrQvSbnkT+0S/o+ZQQOwLBGGT+4o4w/2DNgwJ/UFT8mwsk/ISsvvxb/wrmnZlo/eIzBPvOF9T7bGGo/e4Mev2ME2z83XrY/SQQbvZmohT6zmp4+jC8dPzZSGj/U3zQ/ygIkPpq3Mz/PyVw/ywA9P3/0Jz+IUBQ/iIzEPutWJD88Ex0/QqY/P0k+Aj88hxA/EWZ1P2zbGj8oR38/stAZP4Ylz70rPgm/KMvSv3J0FT/+C1A/rkVUP6HCZz4bfSg/ux81P1waxD/pImQ/z8nTP/kSCz9Gpio/1FjoPxY9ST9RNDk/1b2xP/Y5ez9mVY0979rlPkCQST8iEW8/CVIoPi7Xjj/+e6s/y40rP6SeGD2UG6k+wYVcvzv8Uz8syhs/+LJCP3eGuT4TvLQ+TQSAP2aYzz6q26k/sD+EPxQZCT9aZQ0/bV50P5t+iD9S+Cq/Hq0TPsYZfD8lKIs/+Bb8PtOAnkANKxW/N/qGv7AYnj1mJSk/pLEyv6KvQD9fyC2+qjByP8khZT/DMJG/mdavvY3eGT+tgim9AxVSP0JQfD7TKeg9+mCkvpF6oL4QYzk/NiiDP9tAEz8pK5O/kgI0P2wRwz4PLaS+Z6OLv9P5GT8fjlG8PAiwv5chCz8HDPY+zvKFvpIUUT+F9KNAz84APxqgqD/zk76+2YD5PoJ9YL+n/go/rm1xP043cT8fNQm/ZnULPdhR4z5+HES/DD+ivzFCmj/ZAjY/7MPPvzBnkz/sqT4/aMl0vteFHj8vY3k/PxExP/WlPT/V0RE/wZQIP/FRAb8FHrs+oxBOP8BMxD+y9WQ+LzCov1/Ppb718v47y3BzP85qPD7/xpi9C3RvvsoO+L6a4Vu/WiDdve3qGj/Ebva+93xmPnZu375+nmo+bCpvP1Lqq0AKd1W9dh6Ovx6yZT/d/rk/YRlWvp4eCL4HcUE+D5gbv2xhyD5kMr67o0i9v8Nn7j5ukxy/ns+Dv6NHtD8WuHrAqKbmPxM6ZsBEebm/jU8cwOSKasBGis+/UTU0wLoVgz8sl2nAeepbwA7+pD8m7cW/DryOv/XZbMC5z17AQ8pHwGsrhr9LJog+9D6Vv8lrwL9yVEvAFk1bwMH8O8CidmzAxbcJwODp+b47tLa/ZxhowJKlVMAMPTzAatFFvkltUcBe6Wg/2XJHP16b6z/kQizA6qw9wHw7hsCqeEW/5C6PwFe3fMC1AQvAZe8dwA+KccDPT1XALtjMP7aBkL8PK8G/6HBpwMz65L8g1es+UWFWwFBS279VSYPA3+xewFqpKMBNWRjAO13fPUfMOsB0FpC/vq1VwEpxiMCSHV/AAvVcwAMuGMC1s23AhCtpwI+tTb517zXAcOhOwMFMdcBI1qC/LRpawPelh79w/XHAd8A3P6dkhcCpvuM/h9xywCz8WMAlwCjA2nQVvyNtR8DCgWjAhXBYwGJQ9b+bCse/dRBcwG7c3b/pEC7A/uBvwKbrZ8DEPFnArSFKwGHTbL9F2oY/iF0Yvy1oR8AlnPS/305ywP7vUMBRFQDAobyEwPNjZcB03wK/cpEQwJqqqL+tIHDA42JIwA5Wg8DPlI6/SYPRv2aHxr9TJ2PAgfEgwJZAYMD+XWu/DMFSwBMIhMApiX/AX1AKwIFZccARTHfATjAhwJ2uEMDCTXPA1Lp3wI3+ZsB6MP+/n1dxwOBNUMDYhk7As/yev7IFhcA5BFfAqfSsP/mrRcDvd4LAyTKCwOvjpL/0a82/+4phwPL3YsDTtn/AMP57wCj7a8DLplHADcFuwEKOVMC+dHjADkxqwH3QIsA2HHzA+xBUwFim7L9z+IJA/NwKwMKLg0AW2RLA8xpMwO26TMB6zvm+bx9iwM3Ma8DZDMa/UgtswIIiHsASfDrAaXY2v3McE8APqzvAB9rAv0P4/b9Ye0nAnC5cwKizR8DMQyvAaQNTwAW6YMDtPkrAnxf/v9IENsDqF4HAKkJowGOfgb8X5yDAI/JHwLCVTMDgSW/AqitGwGC4hMC8td6/5KABwKwRYMDvvAvAXy35v6yAh0B9JGnAX/btvzrMrb9mk3/AiTNxv0nwVMBV9EnAtBM7wHugX8CtbSfAFCXAv8Qk5b8NUSzAssMmwA/BY8C2oDPAA7z9v6LaQsA0mlrAPGJWwFxncMDRuUTAfFrYvw8kwb+8giHA8fJ/wGEjlL9O6nXAyRJWwCt8er8hfpK/mk5ywOcKPsAlfC7AfWBzwHQs+L/LegXA/LJFwPAh1r8S+CnAhoALwIX4m79haYLA2oMPwP17fcAek9m/I7VRv8CTZsB4h17AHBglwFPIRsBv1N2/dsoBwChb5b+9XLe+KwgvPumyLMD2E/y/wu1vvtcZDsBAz/6/MvMXwHGI0b/3RY8/ne82wJsZsD9c7GVAWPdSwAVNNMDIoke/4OM0wBcZ6L+a4Ge/AvMuwBy3+r/F1Iu/+Dh2wB8w5b/OawHALgOjv0Jv0z75ZFu/tkNPwCAXE8AH6GzAU102wGQzD8Cu8S3AsD2lv32wAsB1he6/EtX3vmNaQ8C9d2HAI5pQwIi9ur+DOxfA2/cJwG4/tr8IX3PAmFnfv0iX579PBkDAAmQYwD8UTMA4sYDA/ucnwEftFMCQDgvAXI88wNqih8CeT/S/3iQJwD8NgsBw+gfAHI99wEuYP8DZqzTAqDBKwLcYLsCVkAPAMD1IwJg607/51VHAVawXwHOxbMC6hCTAs7sSwBLD9L+jHSHARZyUv2wzFMAZIHbA+9BXwOeOSMBeWEbAhGxcwGyMe7/QmSI/sGkdwKYIMsCTVB7AnXkjwGCuNcCmxRrAR7xzwLKyTsDrbaK/DFodwOesMMBj/+S/OJNGwFawMMC5g8u//CQOwJJ8esAW3H9Atcx2wCMXRcBbij7A8xgDwCi5mb472da/WPEzwBRdXMD/lBrAaq6BQKr4jL/zUgvA70klwJmtX8D7BS/ATwo/wEj7SMDfyiDAm/V4QM6ozb8QIFbAfK9xwEHnOMCxwwPAHgdrwIrkO8DF+yvA/a8SwBSzAMAKDlvAmdkhwMwwYcDazVfA1VNuwKc/LcDvD3nA66YSwJaKScC2PBzAzBc1wACs/r+xyzzAq+V1wFnDMsDfSRLArMBgwAX4Q8BOvGfA7CB1QC+Je0CbWGPAb4f9v+dHdkDM1WVASeInwEWLbsB0N31ASYMbwF2Oc8CS92zAARp2wLAsEsBAUBLAtm1gwHYIe0DurCbARIRzQLnTacDPIuO/6b9gwMhrLsAgJXhAgEZrwP26pb8wtQDA/rcNwP3qa0BEe39ApKTfv1kmC8Bvq7u/fLohwKsZJ8DwkGPAtZM1wK8eKMAQl2fAszcQwIU8dcCX5jHA2otiwOviQMDgRmHAv7dkwE0HXb8JA4o/2w2+P4nSuj/PxGE/9AomP6Jj1b62XbA/C3CpQJxk7z5aI/g/oDyQPqPCj0CyVwQ/PuOqQDKR3D/dfS+/wWWuPngCKj9b9JDAxO/OP9Qgyj/tVNA+uRLWvnV/rT8fu84/x5zUP5HVvzxVw1c/tJM/P3jrAUD1mdk/GAGWQACHIj+yu9E/8NqUP1JKbT/0tY6+cBG4P3vW4T/Vcto/s9eZP3L4nUCRBtQ/o8LhvgwqxT9JyFq/YpzeP2feI8CA6JVAzEpcPzGvsT/ZBxS/BS/DvWLjXz9YnKZAbqclvr2r1jxJAIg7ADiRQOPF9j47brM/4Sa0PwmO1b5ZPX08vc16v2UYdz+W/tA/ElF8P6RnnL4+1SK/whYRPyqv7T/4+wA+hiKyP2iBmUD0xKtAzpWiQFhKqkDAJG6/MoJHvRpfpD/xFs8+gKYsP27QBb9aQti8lBNbPdYEoz9FWyA/ESNvv6gwsr+B2a2/BFDxP4Zvjz+FBsq/WE7pvw8bnkDB1DLADf5OP+8uxr6CN+O/qy4ZP9CBm79ybXc+dFYTPgQefj/Zsek/BiHNPzSvZD6+e2E/ubvhv3Q1XD6g2PI/j+LUP7+ZnkDFNb0//xerQDz6ID9QtC8/ewWpQA6tvz9z98k/8UzRP75tnj9+UYm+5mEgPjs6hD5fEaq+p/qIP6ycyL+Me7Q/dDmkv1RzmT9VjDS/fx71vldzP7+OsjS+AmfjPGp3U7/1r42/2hBOPyKW4T8xGcW/LkyEvuzd5j8gKQM/gBn5P387Vj6pg6A//V2YPhZnUcCSThM/ry+nQF0MCb8gQOy+xEyfv6EInD35wKlASzl3P0tQqkBKEVE9s5dCP1Fcdb5qhuE/XhJXv8p1pkDQx6hAo7Vgv4GTiD9uk82+lPnTv6hScj+nYpy/s+6Dv7VCzr89QWS/7QQnvtT95T+Iy8+/zKvyvijT2D5nvmK+nAKCPp17rD9BEPw/nR1PP4F21L/3/j2/oRnqPz3+qkCy6bG/FExDPfCrXb7ZZBO/SalhP61Yvb+HuH+/WBsdwONRN7+HNXI/FPpzPz0E+rwUdfs+eGhoP9jror7YD9O/URSZv6Usvj4e1sC+xCCMP1+7mr8xbd8/J7nwvi1Asj/LpSa/9FikQOduSr8ktwg91Es4vrxlp7/QWSTAK3mvv/H0UT/cOd2+7uDBPyX7pD/q7yM/ca2zvo56UD8kQak/uSoUv9bcHr8Pl4Q/CJumPy1Sl77ICUM/Avg/PyNlhT+FcnK/jk03wGpXoT95Vws+s7WmQI8gX79eIuO+9eOjv0HLMj+JKaI/h4USwFhVnr8FrEjAnnq0P1b+OsDr4bE/jKYZwL/+VL6psIq/cyJ1wBaEzL8RfJG/frsgPtKsKMCaXw/AUM2avQbgyr8OAEQ/rFMlvnb0K8DMOSo96aOSvHUysD9kAnnARJV2wGYzlT5FXCTAUa3+v6NW2L/J0pc/gk6Hvp0Nd8DrSGK+2uISwNAj2j9+3iXA/chUwCmoJ8C4Tum/ZRIJwKndf8Bs3WLAr+sUPkACfMA+StK9HMiEwMMqScBhwbm+4XxhvzTyAsAD3gA/NahSP9ngQ75LmVjAVWlgv4MDVb+5x4+/Y+RiP9rsJb9rzwbA1ZszPRSuO76PE4XAOigVv1LPmb4+saK/s4qGwNafGL87vUbAn4i6v43jhD4sfYbAlPOEwLyw0L/CF5s9OqI8v8o7iMBF/je9vMVgwLZbZsBfiYjAFeR0wIIfJz6Kih7ADFsKwFMbAMBYOYXA54QDwGxngsACW2TA1tw6v5ICX8AiT1O/eQiJwKf4yr8gpww+pfUYP+ab+r+yZnTAuaOFwBpxGMBZ/xi87BgOwKRDhMD/FRrAAeWBv8H1WMD3YUzA25NRwA3vg8BRBoTApj0KwOKPcsCbdRfAzBcav67Qrb+avT3AlLE2wM/SQ8ArGHC+7j6AwNUPAMCh7zXACemIwMi2f8D1AuK/GMhrv5m0DsCtjaK/lpwMwB6ME8BxOLy/UaRhwGwbhb+qiZ2/OBNCwA5g5b/s5RXAT3yGwPE3d8CogEk+n4xJwH8ChcCqAlXA1WFXwBWumr95/HzAavOGwHdWgsAOide/Px8DwEgd4b+mKyHAWadSvxuQSMBMM7e/URliwLs+278nbxfALJBLwFUeNMCXnm3AA/BFwPf1K8D4dSvAem2BwHKnQ8DpqkjAQEYqwCEfXsDvbEHAPh9gwDB2XcCpcnDAmAkzwBvadcB1FwTANSlCwKQKZ8DpvSHAeCU7wFe6KcB2+xjASTs3wKVWRcDYVKS/vXD6v/drxL/EQgzA8csbwFiPHsA7RzE/iu2DwICBUMBaQhLAErY9wL9HKcDRkP+/2gJwwG8hEMDTEU3AamcCwOtAP8D3FXzAetApwI7sR8DMvWfAzsi8v4WMPMD94ve/8uBEwFWK8b/tVF/ATH1qwEPLLcCeyYDA+Rw5wDtid0BgQaW/sm1KwGxsR8AR02fAijNowJZC179mIoDAb9RlwMpBT8AQYR3A4Ep9wKSXP8BGzU/AEcIgwJNsNcA5PR3AsGN9QAwGMMCXJyrAXz/1v4w4X8B9dFbAKNsrwI2cHMCOOCrAoRMGwOJGwL/wGgvALn1ZwPrPbsDMx0zA9YsUwOmJaMD7RIDAO9qyPzemMb7R28w+Xod9Pm3tdz8VVMu8dhTKv7484T5PaKw98sSsP04qLMBerGA+S3t9PhVx6T95HTI+InFePdc2j76oJqI/4n2cQM02pEA9neM/5ISePr9dkz3DPAvAYjrEPhE0Tj6nTmo+CXKdPhl1J78Rppy/po0EP8lZz7+jkia/H7sYv3/nj0A2/6g+1j0jP7mCsb84LGLAkAYSv9lrbj10NvM+qMoBP/QEBj9++T8/b4wGPm8xiz5itbg+9MtXPap6ej1gwGc/KoquP6zLiD594iE+jlhCv6x4q0DImuu/v4sqP/dc4z8dXgM+sY6YQAglsr4oR4O8Y8YRP2v85z5pQMM+bAtVPlN4kkD3npm/Vi7Gv1O4VD+0JTu/+CsUP0KNCz831yq/vmwFv1r95z52qBC+Tffbv5ltHT+wzik/+x+SPu0AJz/+3y0+1IsFwCumAD9OmuU+Qyufv1W/UL8ykCc/zf6XveYbDsC1FVq/dOW/vuwDa75Tai0/OPoOwHRXyj5SK4s9ZFfzvmJgjr8W0Ua+r+qWv6uWVMCdCSS+JaQjwF1Vnr6aVa2/Y8g8wBGDA8AhlOW/CdKEPiKUrb/QrfS/dKHwv2iTEb9Wupi/0JXjv+GQ/b46bn2/u7gqwBM3+b/zMam/9zS4v+ooIL/lvZO+iHy6v/Azcr+c09G/tn4KwMxbJ7/1neG/iHn6PJIErL/bEULArS2bv7d8CsCPII2/2n2nv8hzib+WUOm/lgGWQNlGKr7NKj7Ayi8XwImhr7/Lx6u+bh34v8kZVb8oMOe/7h9mwAf8rL/sMg3AhCvjvzGcD8D7kCPAUQASwGcTIMCuckm/6zkfwCUB87/EaKu/8GoawGQnH8ApOQXAghIAwJs4hb9iVA7AZbMfwL6r+r+MaBrAcZeyv8C1hb/UNpS/bJmnv5iLHsBnZxzAxobfv15wCsCLlMC/p/oqwBk4K8CMnx/AOEEavy6WF8A50A7A6cUBwDlAEsBgYhXAQ3bzvykdyb+1C8u//gENwKvDEsCAD3q/gtsQwHRbEcAn+wXAotrbvxLu5b/iCSXAg8MdwGoYeMCCNxnArxr+v5NCEMC9yxvA+MAZwKWAHsDfHR3A7ugHwJlFIsDHeh3Avh4SwFPfI8DpaXzAK74fwPs0G8C+kRvAeYQNwNYoY8BPLI0/FbkQwB3JFMCZXRPA7XsPwGY2E8AFtHnAXPKsPpl5IsCKCibAQrMewHlqf8CcSx/Ay6ggwHa7IcDPEx3AdmkewPZKF8AL0iHA5lIkwOQSIcCoJSLA5w8gwKmBH8CFRyPAS5QhwCjjIsDJGyfAo0FwwClcVcD62cI/X2RKv21ZisDStpC/WqhOP4B9zb2EPHU/2923Pj8Svj8rJmXAnMpPP5rmGj8rPwq+ZSWGwCz11z/k2gzAbYf/v3VaKb+0KNW/ie6SP7fXnz9YiUU/3FCtP/y8i7/vW7Y/AYwHP1Q57T4HBGjAGxTbv0UL0D9TlJY/uU0AvxPnjL/Jg4/AlDuDP9i4oj8L56a/C1KpP3vw5L+nHoTAAPm8P9F7sz9+BYo9ItM/wJpbfL/a8Tg/aQlQPu17lj8JYYnA6acRv86/nj5GurY/D5nIP/smLjyfE529ANjbP0B/gb6UD4C+5gzFP/FaTb7qsZQ/SZHcvzZMYj8sKGs/FDKFP70ZT8CtHKc//UshP5xaFL5keZM/fC2xP6tJYr+9iJw/i08iPxMcJj+FIDU/IbvOP1Xwkr6j+SA/NkyRQPRQd7644nm/VYdmPjSKAb8aEM4/bm0zP0m0Gz8FFsc/Be5fvZgpvz9AmXq92MeDP5eEk0CwoGU/g2hCPyDSlj/WE8c/UcLUPpuonr59Iik/EhqmQLPXWj+OmBQ/IZD/PmmSYj+L7ak/6CyVP3y6Pr//s6g9KeyUQEhzG79q355AN4qTv00Wr79bAjA/PoWPP0BFUb0gDUI/iYkRu1T9gL8BB6S+5zkbv6+fvj/sp1E/gxyNP5xJJD9LokE/azuZv/QVbr+WmZNAVEGDQAa4oD8kDEQ9lnjmv0jTtj8bdpNAHr2bPpnMlD+yTVc/fM2DPtkQhT46q1A9E9wXvaQNkkDkoCo8onb+PYujkUBz7KRAUmuKv+dBk0Cet5K/Xv7cvmIEz7000bK+GesCwJTdzDwZWZRAzXMIv5JJj0AP55W/DI2cv5eOjb6Jeku/rpgdPz7obr+tRkS/39CaQLi5KsAKAJJAeXeRP7B8UD9yJr6/q+stP7Y+5r/5iYa8/5YLvwVdir/FMDG/pbWfv8XSkEC+rva+5shewPagP74WSjrAc9uSQES8iL/gMmi/vAHYP520kEBzHJFAYT2SQMlslUB+vLu+8UL2vuuKir/f2ZBAn2KRQHtayr/maZk+XfKOv9UxTcAHzKu/myfwv7+CFz7nbq+/xp5pv1QTu7+YcSS+7QtXv60d4r9Jlsi/NVlYP3RY0r5m3Ks+gWvKv2bXmj5a/8G/Jqazvw617b+r9pxAEWrdvlF977+vOKe/bQi+v3c8VcDTPE3AUyfMv3ObXT5ZzLq+T/yevrBtkr8pHi8/f7JTwKnSm7/l6gI+zCyXv9VVO7/2cJm/gOtBwCfrtr8jZsG/Wm2TQO+vr78HW9a/F5h9v1Dbqb+FONc+KLcnwKnUrb+WrAe/prDUvy4aDL67eAq/zlcpPs1v5b8CR2i+P0Cev+X7pr6OJAW/GPmAPjnrLj+VI8W/bYqWvqJu77+MNP6/I3Bsvm4cmL7qn8e/xjfpPun9wz8ZstS9t8+oP76X3b9s5kC/cjJqwHwH4b/6Dw6/axBOv4Fovb9V7d6/YnbGvnER4L+0GYe/kksBwGaaer5+f22+WmLgPiZ6gr7GjJm/Wmr3v0Qc/b8vs6q+FfK1v+kPrb+/P0+/N5Smv2Or779qARu/pIgYv5Td0b9pYQXAgXT3vTN4878DThrAca/Dv84Xkb5GJEW/x3+Gv816C8A5P82/xd7bvzhJGz4f5f+/32JlvwEWzz5Ou7u/oFKzvw1Wfr/COqW/2AQrv5AyTL+ioiW/leafvmjdB8DzSdq+19Rcv6Ep1b8QTwa/ObnDvyCMzL+QCka+XCrWvii5/r9Th/+/iIDMvzzXRcAuGKC/qDMXwC8gvr5pu8S/oS3Pv/3i7b6udwvAWXzfv0s6AsBQDny+7LMPwJjKisBBFGvALTQEP90Fn78A7am+TMTCv6CmW78OPaK/9wtVvpwvlb9rPhLAGWoHv9Keyb82CwrAN0WVv9rMnb7OUli/yaRtPs72A8Cy+Pu/WsWMvyRdh75byAg/CsGivkrreb9RBPm/J6/NvmtcS7+9g0e+j5Yhv7ocbr+5/pe+3UYYwKx29j6R2hfAmkK/v0cuXcA18SS+r9Lnv26QB8DXK1G/G60Rv4l6tr3lp0+/E+7Zv/wLgb+M2+W/uU3VvqbQpz+bZP6+M5cUwHTpBj8I/jPAunsNwNRvDMDO/+C/iTCYv8yyBMARzIE+GX29PtdnFsCcaAfAlZl6wL15AcDDkGrA1GuQwKr/jb+aH1W+m1duv8R3Qr+efzLAkISMwDwQWb5a/hrA2EMbwNHOTj0W/5y/ANA2wAukcsAq+nLA018JwCfjRMA88i/AVJhxwDzC379/lsG+TmaFvweW+78ori3Aa8Fav5bikb8SfgPAoOWDwDJUzb/K3TW/TlIHwEV6ecDGEF7A2KJgv7O0Yj/iLZK/TiF4wOmZ/T5slUbA4fecv+87UL8ggHPAMKNdv2skX8BxvITAmOlewJI/c8CCrLy/mQPdv6eGhMChMCy/fj0DwO/yO8C621PAaOBzwMjfP8DBRGHA7YvevxwOgsBIaLe/mtn3vxk+9r4ehErAWY7tv2lyAMCOVTPA0O5YwPZpA8ABCoK/CsGrvwXtIcBieAnANIfZPhd2Vr/of/y/RwL7vw1cLcAsd0bA2SoHwAuSyb8Wl7W/hPIgwFWIdD/W23PARQI4wJk8DcDUg2PAP9Ojv7VCor4jhKc+gvIjwJFVHsD5Apm/G07bv9d3A8C0PZa/bPBPwPM8ob+cWoC/aFAAPVaKmr9G+T7AKTw/v+Noyr905P2/B1O+v6wshL9uFlnA73FIPgm7j76s+Cu/XVCov/hMBMB0UQLAqtIIwPOUQb/pC4m/w1Dev60/ej9hp3LAd7b1vBCKD8AhIMy+NJqIvx0Ns79HOt6/hBUHwL4BD8C0dj+/UbbXv5zeA8CRULg/NQSMv2Okb7+uTbe/UdfOP/90br5ZfUfATp4AwGwhKsAr/Y2/f1NdwIsxOMAbfmrABzervxDdAsBsw/u8RA7CvyhiHL8L1lG+k3OJwEJACL9X19a/cYDgv4XkAMBOz0rAeg1VPhJTJsDlRUHAAI2RwBdadsABa/y/AwUEwOR9WsD0rMy/wbkowIEEKMBPbHi/ccp0wG2fSj7Gvig/l1MCwHo11b8yRwfA9SdevwjRIcCCOTnA+TPgv0m5aT/MNnW/4qsZv8MrTcAcZR2/eDS+v8L3TL/DuMu/h8u2v8e8Uj0iOxvAwLddv0kutL9JRPc9eAdlwCQBtr84BmTAJCUdPwZuHcDLz47A9VXEvyEczb8KK+Q8taTyv10ug0CLe92/9F0TwItgC78/cl/AHFJiwK7UYb+qTaU8clw8wNGPhcCuUl3ARRBAwG3JPL0OLVXAc4ivPWLtbMCiV1PApfedvfVVMsAtNBQ/t+MXwERdOb9LpZTAIhEiwEf0XMCGoYI/ka+fPmSLi8ABTFbANotrwMr6M7/hAW4+qMVJwFU9g8Ao9o6/XRCSwA4Q27+NVm7AGvgqwCSs0L6ta8C+2VhqwPbuYMC9qEfAcuLwv/ko6L9s896+JnRiwEPQQcDKInnA/YIewGnjpL9D/YXALjkvPsqyjcDXF5DAIR4RwO4tKcDXKI3AlI5jwNMLaMAy6nDAJ5yBwOGJKsDhKyC/lwsUP2O5ecCJjyTAb56EwL7lesBGcIDACrA1wMl0gsDIQErAR81Pvo1DKMDKE7K/5DC5viBv8r8J61TAVWhdv4IzgL9l1WvAzTKAwGYrQcDf823A8sA0wG2PEsAkSUnAXHQ7wI1iGMBP53vAl/6RwDqLg8A/EYnAgT7uv8hVRj8JTEnASzs9Pbq2O8CvQITA3yhywNXLZsAtxMK/ekFawHB3X8DJtDrAWze4vwr3TMBF3hvAkNZywNiIP8Bqtfy/dhrGv8IT/b9btFzAR/lewAQVdcB/XnjAEMlbwN6jHsC85nfAVeF4wCHpgsAVjhLATQaDwGR/d8Db9d6/bMp+wJtk47+BVCzAWPlkwMxMJz4DmIDAh3UTwA==",
          "dtype": "f4"
         },
         "xaxis": "x",
         "y": {
          "bdata": "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",
          "dtype": "f4"
         },
         "yaxis": "y"
        },
        {
         "hovertemplate": "Metadata_time_point=72<br>umap0=%{x}<br>umap1=%{y}<extra></extra>",
         "legendgroup": "72",
         "marker": {
          "color": "#2ca25f",
          "symbol": "circle"
         },
         "mode": "markers",
         "name": "72",
         "showlegend": true,
         "type": "scattergl",
         "x": {
          "bdata": "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",
          "dtype": "f4"
         },
         "xaxis": "x",
         "y": {
          "bdata": "CPfuQGWXgkDsPapAnRtwQG6U9UBpYcpAUdHhQMsnL0Hgf9xAE4AmQdt3ukBgt+RA6bGzQN2/LUFCgR5B89ExQbwTDUFZAL9AW8n1QLU+ykBwFp9ABDvFQIGlxkC0UFtATZWaQLkoz0Dz/8ZAFLwLQXmyWEAmXCtAUoTaQA+kB0Guyt5AAZkmQbpVlUAe9d1ACHZCQDP7IEGCWxxBQCAhQOR6zEC1eApBzRG8QGl/GEEIJc5AO4QMQa6XMUE9wh1AXNbbQBPrzkBfi3tACUWrQH1i7EASmaRA4CoEQaFurUAQctBAN3rAQOJvFkCRwyJA/ZC8QLDm70B2FY9AQV9tQALZ4EASGrRASFG6QOBbjECvxvVACkQZQaub8kAPZjlAdPm0QDCX1kDj5pRAivO7QPdFvEA73p1Akq22QH6lfUBNHMxApUTmQMuktEA4pulAVtXrQGbT0UDzrvJAh4znQC0S5kC1XxRAuTz7QC1zA0HhgNNAEOfyQGJmEEF0Q8xAvS4ZQB9OykA6mxxBHNEUQSiczEDI7clAWnjMQPXc4UAbTeNAYunpQA298kDl+7JAfuYzQFNiA0FLFLFAadogQYvM0kC+EqtAIXhpQGp6s0BXNdxAcmuvQPedqUDLRbhAEmXWQJGoskCo3bZAwEDCQF8FGkHhI7FAiCaoQGGivkDAbqJAu8yzQC0r30BY/fFA7Ie0QGe5tEDTWJtAZqP3QLeowUARyO5A3bK1QHI9wEADHAhBmNryQA4urUADkyBB0fLUQL3X0EAUVMBAPuYXQamzwUAXOb5A0q+ZQGkS9UCSrKpARPveQAHz3UBbjbJAVea9QP1vsEAE/5tA4IKtQCKi0UBuratALwCiQFe1ukBvGcBA4I6qQLiLx0C+Jq1AvNjLQKtstkCorbNAf9SvQG018UAGSctA5y2cQIixzkDsifVAlZ2kQN3Rw0AazLZAZ+HDQHvu10C1pOxATfaZQB9rtkBYsctAOUXEQJ1a2EDqhr5AUb3IQGbWr0CehbNAjSPeQNoo10B/OMRAQa+uQApgGUHharhA0x6+QKY6IUHTpRtB0V3oQHTwq0DjF69Axpv3QNI99kCOlqpAgl22QHSm9kDOo6ZA0eixQO3+lkDTn85An5GtQFD8q0DmCapAWdKsQMj6z0C5L7FADCvuQH1W+EAvOc9AD5GgQJkvq0Ayq5tAsISuQGx2okC6NL5ARZmvQKCFtEA3p6xAfMKdQPtBzkA30MBAxsGwQNhgsEBbCKZAJeGoQLudoUDoas1A/l74QGfXoEB27aRAl4C6QHaHsEAjULhAFaOUQO5y90DFLLRAezy7QF0xDUGS9hdBDPTMQIzDtkBU2MJASFi5QNAs+0B0sMhAH3cEQffJK0E5tSRB21XrQOnONUGqFdRAW67OQGa3u0CqtyJBBorjQFNSHUGWrAFBLinwQJa94EA4iLJA7AozQS9p0kDGvuhA6RDhQEkBDEGOoCRBGxYtQG8QKUEI/hBB7mTeQL97BkGjwuFACUjNQGvDG0HZkgxBmpcoQSqYKkH/4s9A0Nc3QQUrGEF8WchAppMNQQWU7kDFzbxAFClGQMoSKEHfXzdBeIYNQQbf60AOENpAHCngQI2gx0BdAfJAJKr2QAcrJUEIzyRAWqPWQLOs1UBHLtFAD9QkQYGHxEAXUwhBiNDbQF19r0ATYdVAA2DfQFKxJ0EG5rpAFdnJQGNx/UDt1Q9BVE4wQS5B30BbGx1BFd3kQKrDBEGh5zhB9QfXQM8HykA2mM9AEY8VQWe27kDeGyRBUT3KQNlSDkG4BxBBqe4/QHWJHkH/zNFAzyYgQek8JkF5pdxAsbS4QH8g9UCg7AtB3kvcQNOe6kChM39APi1WQLleyUAgkbJAKiS6QCan2kAMQpxAa7/aQOkRrEC7sUNAL0/vQFCapUCR2rNAMFnAQBdB3EACPcBAKdDeQA7OpEDHwdNArVLmQH041UDky9RAZqifQBl7wUBp0q5AOlfcQNyz2UB1VslANVrlQKq33kAsKa5ACIrnQDmcrUCMMK5AvbjlQOawlEB4nuNAjrXoQEXYDUHpSslAbtjOQD7Uz0CoY79AUGflQK7T30AlFN1AjW6FQKA4LUHYPSdBuIAqQQBqzkCYa85AdOTGQPq1skDMbLxApszOQMOkF0GlbcFAMFSfQD+mpkAMAqdAeGnHQIUatUDW1rdAnybOQBU+tUBnDcBAmwoaQb5GuED0yKtAlTKuQMXgzEDFD79ATfuaQBydqEC7L41A4njVQE3QvUCRBOFAXEfKQHORvkBkP8JAePXsQFQF0kDIy8pAStPAQIQQh0DnLcFAsJeoQKS9uEBcKKhAbOSgQKp0w0B1SbdAp9+pQKiMxkCG4Z9ATd64QJYxR0DY3clATiKvQGuwy0DiZe1ARtzBQLj4hUAYGMFAELOcQFmO7UCceqpAsku0QCiIvEDuPbhA5hK5QImrpkB1t5hAOF2yQLoFwkCn0J1A02fWQNXljkD5NqFAjNvHQLf4uEBTUbNArEyeQIKCu0AflpxAqbbCQAFVpUBZhfpA7rNHQO3CzUB8H5FAlMa4QLZot0Cay8RACW+tQP2bxUDgaZxACOO0QKVT3EBKSMlA9MO6QLcZwUAlkqBAy+SpQDAj0kC+fsJAP4djQNJFxEA5jh1BvkUiQTQD+UBpKRJBMtraQCHk9kANoxVBAPPkQJE230Ajz/xAxtYTQWiSJUGBbh5BnHkFQdCSEUFANA1BfFUlQf241kBIoSFByILUQDccDUHmGCNBLmIoQVXDDUFqdxpB3KnuQH0rCkGSiytB3UbbQJ40HEFs+zJBZe4sQX201UBDrxJBjrcqQUSjDkGH2fNARJgUQRR+H0G3gipBXZMkQcyZFEH4m/RA8cEvQWHxEEH3kvZA64YOQRsSy0AnsfVAnicMQRGQHEF1pgxBbQHdQLpJ6EA6LuBAUlnVQKrl0UDVfA5BsaLaQLFqJEE0weZA6n3vQLHUHUEojPlAPFIvQa6fB0GHW+9AgzrwQF/tA0GbSe1ApIvoQFIT1kCIncFARM/PQDmSF0EpevRAN2QCQZOvD0E06NpA2XAcQTEp1EDFR9lAZ7jOQHKn+kD/hzNBx5HcQFKEFEF4TRdBm/jWQORp/UAH2d9AniMdQfmP50BK/gJBc+X+QO7EEkEbodxA/7jwQOfdBEExgdtA9CvUQJC9DkGAm7hAmb4aQYBi6ECtRcpA0cULQRnL5EDkfKZANjUYQcUhGkHDkf5A/7S4QMr++UBiQ/xAHOcKQaLovEB3dNZAZQATQQSGAUH+Sf1ALzTtQK2T00Av+vZA0OcKQYqOo0CTVNJANdX1QKwYz0Cw3NVA2BoCQXqfnkAZdPpAmrDkQFFF50Br/PxAZBXjQPSBAkGunA5BKTbkQIe7EEFHitVA3KjUQBTYDkGqYPtA9eH6QGp//0DKjvNAOIzqQMOM2EDi6BpBfC2oQLPE9EBeEQNBIjf5QLxx1ECGgQFBP6fzQMlb60CKW7FAXWPhQCptA0GHZ9NAkWjzQEni00AVg6FAINj2QEajBUHs0eFAPlIQQZkH4kAUC9hAy/OhQBF5nEBVTftAnjXuQPYFxEDGCBJB5sHKQI5m/kB52A1Bc/3SQLl22EAU0xFBI4fkQNRx0UB+at9AdbwAQXvaBEFwCv5AjyTbQBPr2kCv/8BAcbMNQclYAEHYSOZAWhQEQQWBn0DYJtBADHTUQD5D+ECo7vpA5f7lQNbG7EA/UfBAfg6oQNJG2ED6pMVA1GqzQCp910DRO/xAl33sQIGQvUBlpr9AP8z5QAUf0kCwIKtAqc7dQG0r3UCEvc1A1oeuQDKjnUCbqclA68PVQJda4UAF3adAsk8DQQG9+0DhBc9Ay0b7QCIW0EBhVNBAj7biQLJjBUFMzMhAR+oIQcNfpEAtROBAbCHtQKjAwUD0iAdBbnPyQEds+0DgteBAz3DFQJamskD4rbFA2gHGQJd0wkCLZthAln0dQaoLGkGGlBNBKdslQX2cE0GvXBFBzWEUQRj4HkFCShhBLckRQfQEGUH1gB9Bc3IcQb8MI0HPcB1BKjEHQZkHHkHKkRlBqJscQTNiJEGUCiVBIB0oQdBZF0FRuBBB6DApQd5oDEEKOiRBhOwMQRvcCEHB1R1BeMIiQRg/BUFMARtBlegaQRR0/0BkFhhBwG4YQQtMEkE+sBdB0NMoQbVIFkF2VyVBvzr8QANcF0FLqf1AstMLQQK7H0HhaSBBVyIYQc74HEGoFxdBQwccQYrmF0ER7R9BQMEQQeZ4FEF9ohdBqNYdQefN/UCFqydBdWQDQYCvCkFdZhpB+zwGQfmBIUEJATdBCD4gQR/qFEGf2glB2L0kQXObEEEKAxFBRtQMQQlrEkE8Kx5Ba0kbQaSbH0Fx0BhBUbIZQTZIHkF/rBxB1p8TQcoQAUHpiQBBgz8qQUh8GUFX4RhBYLQfQV2sD0HjqhtB2/CWQPPACUGBQh5BgK8lQQwjHEE0fxlBmMIcQU9HEUEeCyRBcwEIQYjRIUG6RSRBBiYnQc4IIkHSPyBBKwUmQVLKEUFFKBJByyEfQYPyIkGo/CJBb/UkQb9LHkGkLStBoSYNQZZ6IEFJORRB4IEeQWfjJEEVIgBBFrwmQQ1zKEFKdR5Bb30rQShqCUFjPCdBzRm0QLsTKUE1sxxBb6slQQGxMUEs8RlBeL0IQQ6P+kAKSyRBjYcbQbwqJkFr7gpBCgsJQdtzCUGPHApBVcg4QdzDGUFRzSZB4s8gQTENIEHjiiNBlGDVQFA/AkFuyRVBxiIrQQ4EJkEA8yVBq58kQQD5JUGGxwpBPBwuQWa3EUFSFyBBy3QJQQc3F0F0iihBTsoSQTTwHEEDBydBipUQQdlNHkEKVCFBM68sQeFoIEF26ilBBGEfQeMYJEEeaSNBnIkpQXXlJkG5/g5BnG0nQYLKMEEYNyJBplklQR1oCUGUUCVBiwYUQeNZHUFFRCtBORwjQZCbJkHs+CJBslElQbvMI0GaNB5Bkk8GQex2L0FiJSZBkbUjQas+GUEvhiVBG9UVQb/oJUGtAyZBWBj6QJXtJEHWayBBxYQsQZVwI0G7LCVBSM3oQASjJEF0XBNB3DsZQUp4EUGxsgdBpWwmQb14KEEKXRJBRd0jQaJt/UBThCdBuDwjQaZQKkHbOhtBqWEkQftRI0GAOR5BEfshQf4sLUEjtCVB2M0oQRA/LEFFNRZB4hApQa+LB0FA3iFB6m0nQbqbI0FxMiFBD84oQeWJHEHw5ClBjb8VQUBeKUHnCS1BFHAWQZT6KEFbliNBQw0KQfE4IUHOAi1BJfArQSHJAEHhYRhBaIQDQUc8B0GRogtBwegVQaOQDUHm/CVBxpH7QOBKCkHXqBlBLlEOQWnlG0GDDAZB2n0fQbpuGkEkGABBBSYhQZKtKUG/jyNBZPUJQe08HkGAav9At5T9QARTGkE7RQVBAGsvQXxoHkG/kAFBDIcGQS5yFkHuYxxBS+sSQbhiDkHgbAZBrk0cQY0lDUEMqP5AUUkfQRLmIEHbff9ADOwmQeb9D0HHihZBbZwKQQ5PIUEM2xxBXMMPQSH2/ECNEgdBd6wYQVtPB0FklR9BSzL5QEaZ/kBM0BVBTOAQQcwUBEGNahxBf1gLQdxmF0F/kQVB+t0ZQTL9EkHzihZBGw0gQSTWA0GW9B5BbA4NQblGJEEZtZhAo9MHQTrr/0AIkhlBmaggQcq8/0BGfwBBjCUEQd55DUFQdRlBW1wXQRQ0AkFYURlBkJ34QG13/0CMLCtBiy4cQTRsAkHa9Q1Be+wYQR/6AkH/9/xA3Kf+QHf5AEFY7yNBAioTQZd3CkHNQAFBwZwKQdcJGUH6sAJB4T/+QAfx/EDvwg1B6ZwDQd7FCUFGTQZBwDMFQerxBkEMYw5Bk8EAQX/z+kDIdPhAGL38QOao0kAgAARBIUkFQfLx/EDzaQZBYP8RQccPE0E0owZB7fgLQVR5A0Fe++9AJlv+QJjQAEHeBP1A2Vn8QFQ19EAwzA5B57MBQW4uA0H6RPhAKrn4QHRQ/UDBHRhBBhsXQV+JDEGpqvFA7JAKQYeRAEFsShlBy8oDQafy+kCt2wZB+d4XQfjEBUG2y+1ANlkRQQCUFkEUKxBBetUQQaGg6UBc4hhBsJsVQUqZ/kAt1ApBVvMdQdhhE0HUcQRBNAz1QBISFUHIT4NA30IKQYNICUHW0PxAANz2QIZdCkGQfPJAJ3YbQQ/MDEHXbxVBOMj/QItdCkGlMhlB56YPQVIOEEHI+gxBbsUBQfe5C0E/LgxB2TgYQQ52DEFj6xpB+AYSQc/L+ECvcP1AsYH3QF4dC0Hcs8hAR00HQal/7UDpPQpBpE8RQX2yIEGUI/lAcd+0QIMO0EBKNv1AAekCQRup8kBIBvFAp5jXQMTSE0HBUg1B8lDOQHWjnEC6WNxAVaoJQfpWAkFs8vdA3nPnQHyw9UD2zgRB98DcQGUu10BZfNdAP3XZQPxF/UCN9KJA4DLSQIeUBEEZkP9Az7L+QJI1/EDy551AXjIRQdopwEChcfhADEn4QFzqIUHoCfxAREzCQFIh80C5YhpBF04fQXyi+EAluRlBk+75QBui7kCCCRhB2THnQCf350DTSPpA0ybzQBw97UCUp79AfTj3QIuF9EDvjxZBbssdQeIjHEHPNCRB+bogQeb4IEFLRxxBSQofQfO2H0EznB1B6lUeQTH9HEHF2x9Bj9sbQVmlB0EyDB9B5JQeQZH7DkEREihBljwYQZPbHUHimhtBKMEgQV9lHEE9XiBBFl0lQUZCGkHTgBpB8EgqQYQOG0HDEyVBldQYQQeBFEEG7Q9BNqEcQZgGGEHJdhtBzUglQYOZGkG1fBpBocImQY9VI0GrCCJB4bwfQeduIEEVlhZBM+YiQbvfG0Hy6x1BM6QeQfXAIUHGXwxBxSYaQT+nuUB3xQZBxScNQeweH0GfsiFBK00kQd7wIEG4+iFBjkEPQUuo/EAVgxhBLMUWQZ75EkG13AZBih8nQetxGUG43RdBvMoaQZgLH0EzuCBBiVYZQSVTHkH67BpBSfffQOsQG0GR4PpAP8URQdFTCkE6byRBv23iQNPeFUEb+CBBPQUaQUWBAkFgOBpBuHsXQVpg8UBPcBBBANQEQUmXEUGgABdBjrIOQZmR4ECSE9RAEfsaQZVMBUGqlhdBDjsAQetq20B41gxBYxwJQdw+CUGFIhZBpQ8aQWpT7kBxRQJBEs0FQcx/2kB59+JAkUomQYf0DkHW+vZAnAb4QImwFUGmF/pA0pL1QHhB9kBaOPxA2lwVQRO15kARJPBAZon5QFPF6kDIP+JARkUDQaPsAUFQ+R1BZwz5QBdl50CyQexAOu/3QGqS7UALreNA6xXaQCg1/kAHuh5BVnkBQeKw/EAjjftA87eyQNAX4EBGietA31kKQeD1+ECP5+NAUioXQX/Y5kDxp6VAhNG9QO4UGEF7l/FAYg4PQaGP60AcqRZBq8gAQV5A+EDsjb1AB2DFQFYP2kBcG81Ag+jYQBpG3EDKmxFB7P7UQOXWykAHF/NAfrzfQHll7UBaj9NA9NDXQJwp7kCi9gFBjcanQPU7/EDOHOJAYGkVQbTr2kD21utARbDpQPAEBUFAZNlANDr1QC7x2UB+yMBALszzQFqtzkDGDghBBAPbQCGO/ED7YM5AG/CxQN7N7EAaYgZBsKvYQFLkEEH0mNBAcJQWQWSY1kBO3/tA8aeZQAJ+v0DhlOdAxSoMQV9d+0CbIApBNIzKQFes6kDOQ85Afs6eQFe77UBfTPtAA97OQLiQ0kAhv9lAdJ3iQLfe20CXs/1AboPQQE5TCUH6stxA0hagQMtLtUCokZ5AmNegQFhq3EAlX8lAdp/9QFeTAUFExLZAL0u3QJhP/kAbirRAPJv2QJ1u+kAvb/VAwmrsQPnV70AJOhNBUObnQJNI0UA1ffpASGTSQO3b80BjUPBAQzy/QMtb0UD1ybtAkREfQd5BCUEzht9Adt0ZQQVfGUEReyBBU1cYQd6hzkBK1SVBhXYgQY09D0HuQhVBBV/+QM0DH0GILfFA7T3kQIL04UAaNt9Adu4uQRiA00Ar4MxAqwQDQaSkt0Bsr+ZAnhD4QFrDCEHRrcBANyPyQA6wE0E7JhtBSmoSQdGfIUFZnP1AQNsWQSi400D6OhxBE6MZQbp/CkGoDgpBVfvbQKMvJkGxvihBW14KQRk6FUFvnCVB9unhQFc9IEEORSlBMCYTQV+NCEGXiglB0x76QOATw0CynORANiEIQXCcsEAKIglBa6b/QKbyvED/4xtBbbPUQDwt20A4dcJA7LgZQcbDzkC/rvlAnoTQQDj72kAbDwFBW07fQGX/8EDMYBZBsDDRQGlbD0GQW+1AB33oQB8U7UCl1BVBTv/YQGQJ30AmqAVB/Gv6QIiC90BpKvZAl4msQGwM10Dshs5A7uIDQSeTEkEmse1AI73tQCKFBkEqA9BAu57RQAxFAUEk4rFAe+wEQWKK+kAX3Z1AX3/7QBDD+0CbubpAWoTiQKHxBEFnEt9A4O0CQb+At0D6FBVB/2DKQP2vvEA8ZeVAnUPwQHEswUAUOgBBBZ23QFU/70DmOKhA3zbXQPM3lUAHQ6xA9GrbQEIpn0AlXP9AcerXQM7vvEDBl6VAOwTKQL312UCtghFBUCWsQNtZ/ED0FQNBIIufQERlFkGxCalA5gbGQE/QnEC8IQFBHVfeQMMy7UCeExFBYy4DQYOE/UCJhclANmDZQOpQ20BfsgBBSmnBQJiq1UADa9FAuHGoQG0m70DVKSBBKZcAQUzvoUBkwgRBq/flQAc+rUCY2OpAsFSuQLGW2kC6kOlAD8G6QNkBukCVjP9AIULaQGo5okAZydRACD7CQIP0AEHLzMtALvipQMJ79EBQBshA+pbsQIhN+UCzjA1BOIjxQCZevkAFA/pApJ/yQCtf20BNJv1A+Mn9QEcRtUDTWcpAJSnpQFfJ/kBUp91Ablr3QD+AokBPUehA93MFQeAY1kCpyK5AC2H6QNUytUDS6NBACbLwQJYm9EA9NqJAfGOrQDFV+kBUWxtBSoHnQBU2m0AkvhlBT7LgQMP6+EBQNwNBPGzoQJ3C3kDOQdpAkRCtQH/QAUEijg5BKcD8QLH79kD6m+5Aq/P5QNAP30D9G89A2vudQM1O7EDwH8JAsnWjQCAXoUBFSZpA1qruQM4L5UDHHKNAkeffQFYV1kB79u9AbWefQCnstUAAA8NAWhaiQBmetkDR/eJAgFD/QB5iAEEzMcFA48OyQEfCokBC5fFAaaPDQK2NqkAsBbFAowLSQJvaM0HN+CNBeK06Qdzo7UDapyFBYUUfQQ84FEHUbCZB0f8nQWRDKkEsCytBG5UlQeyuJkGAeCBBWXAUQSZbD0GXxSBBXc08QUrMMUBiIDhB7jAXQQriGUH2LQ9BysQhQWEUJUH9UyNBJIE8QQ7PN0FZ+DtBSasVQfVqEUEWoThBQCo1QT7CK0FNvyNBASUmQV7aKkEDDiVBnukhQaagNUHKxClBK7wdQejmIkGb9CVB/usqQTAiMkG/ix1B+kQ9Qc72G0FCeD1BjR4mQRQBHkH69v9Am9PuQM6rH0EN0iJB/hwpQR4bPUG/0B1Bmqc0Qfr7JkEG8SNB+rAjQTrEOUEunyFBLiMjQZy+F0FgaxhBim4pQbkHBUFd7iNBcLg4Qa1VKUEkoypBJZYjQcQ9J0H3MjpBelktQWZ7FEGfSTdBmjITQY2aFkE+SSFBZ+wiQa1mOkFX3yxBr5MoQWtrHkEtHyFBdz8hQfWOBEE1oglBVy4UQWimIEFiBrZAUe0lQbDKPUH6yRtB20zrQA23CkFk2L5AoF0eQTiNJUEai5pA6HEsQbQdGUEFxBZBbs9zQO7qOUHedxpB/tkYQRS+A0FUlBJBhxQoQfm8EUEijBhBvh/8QLXR1EAwdCJBpssWQVaoAEF3BhZByYj8QFTwGkF+Sh5BXzLQQMecFEGT5wtBHfAjQf1KBEGqwhhB3AkPQYd2IUFUqidB2bMQQYP7ykABCRVB8fUZQR6+HUHnBilBVucEQZTNG0HdoQ9BcCoYQd+XFkHdxwBB1DUCQTulN0GzIRZBVufWQEEcnkD/JdhASc3IQAIC4UDAlZRAVTjyQHK4n0CBvJhAaICoQEBFs0AvHppAap7cQHDHpUCBq+BARJSsQEZ9lEBuvtZAKvGgQMWeokA/xcZAShumQAdxsEC7W8JAdDj3QGq0sEA1MtNAjqvJQJ8E8UBdHMpAQvmsQP/exEAZsa1AuvesQMcAlkAl6rRANRuxQMOXnECrKLRA3vvoQCduBUFuh6FAt6OlQHVKoUBI1q9AsIq/QItb/UDQfNJAT8O/QIz8vkAzzrNAIlwsQToOzUChoMdAKg7oQEIAFEFlNblAUhjdQOqw6EByL6FAH+jrQKP180AVcRxBFBL7QEGl4EAXAp9AZCXIQO8QDUHhFMNAHrKjQKt/nkALNOdAhrrHQEqjH0EJfQ9BHLO9QDPczEB0ExlBqEanQLlelUAlcg9BGp/1QNWXr0D6BRxB30myQLPVBEEyiQVBp0ayQJB240DftN5AGHK+QIUM/kBrNdZAIvmsQMon70CzP7lACmbdQKiE30DblwFBfq4dQZcn5kBhUoRAdEDZQAOgxUDXmstAwmfiQMrj7UAVTepAD9FDQMRYlkBFDNhAtcaPQLc0OEHJC+ZAnYmjQK97OUAGgLRAKA2QQFowBUAju/BA1wqpQFLPyECmqutAhs5LQN9/HUATNbVAKMzfQNqlsECgxppAyFq5QF2Ak0AxxOdAFRnqQAiFmEACjr1ArDCtQBpaqUCfDOlAbwecQO0z7UDxsKJAkzHVQDADp0Bb1uBAdJYtQKzdrkBgxfJAKy3lQAG16EBxB/RAsDvQQKUEm0B0/jBA4s6lQPOYv0D0UpdATKe8QLicrUA3V5tA8ZMEQFMGOEAtkNdAoC7uQM/psUDECtNAMt/BQMO460B2z8BARR/PQPb5qkCFy6FAKpzkQIPmzkASI7VAU8OVQKU34kDmQfhAXcKaQEtdyEB+AyxBVbigQPtfo0BmLLpAR6/EQLcs20A9LP1AatnTQDQv5EBzIPBAZijwQE/Qt0AzQ7VAg3+zQITBgUCF3YlAAvuiQByjqECddqVAJKPoQP5g6EC7xMxAulmjQCKw5UAzDqpA//HnQFOtyUBgsKpAg3qUQMPIsUD6uLNA6WKtQO38pkBsZ4NAuOfZQC5dy0AEX49Az6PtQIFFyEBxK7lA4XovQTmzz0Do5u9AmSaqQP+jhUA9wvZALOCVQOzZr0B1Qp5Arh+JQH6QyUC7wKpAcN6KQLxMy0BFGbNAqXGsQFTevkCVFe1A4cfgQMmJr0D1SNdAE3mfQC7P50ADD55AOmSbQHhU10BeYqtATSihQAa1y0Dn0bNANVVFQLhhmEAc4qNAL3qoQBC5jkCs6bFACUSmQCh8tEA9ZfNAElqYQOr+rECw7IJAUO+yQBPZrEDg6aNAPLahQMHOmkAcdatAozt5QJZilECM9qxAbpyxQNeeTECQF41A/ZGjQHUToEDmY5lATjOaQJ7Y+UAJlaBAndC3QH32gUAO/rFAs5eYQAuT2UBfh59A9AG1QIZGmUALA/RArZWrQIgj4UCjbfNAJIn0QIB8GUCgMfhAVdWgQMzcuEB5ipVApeupQKCMzUBgYKtA5NiAQH0J6UB7NItA77HyQG95tkC6pvVAmW/rQNq9v0Arf+xAhqX6QJucl0AlI+xAfiTsQGU590CKy8dAPKnQQBJMpkCbevtAErGYQJgClUAGDJpAZdumQDr1rkAALpFA9Rv2QHXwl0Ao681AsVPpQPmto0C/Z41AsVXrQJuciUDAdvhAlfiLQPUZp0BTXKhAIIP0QAY7pUDqypxAbfWNQIYslEDCq5JAsi2pQPT9ukDrl/JAJuJaQAy2k0CQevdADxerQBGsp0DI+7VA0EZaQN0BY0CfJPdAF/9YQAgKukAwyO5AaBeOQBNVkkA+I8hAxAziQCogwkDqBr1AaIO/QNju1kBVE1JAqYwQQQJ3kEAORERAPsBxQIzaukC1YTVANcXAQAk450Dd/slAWibgQHlHXUCF7FVAXM6YQDesykA++7dAjbJ4QPWTNEDDbYhAFPEXQdhUb0CXXQdB1l49QOJpuUCZ5ItAZj28QNZBlkAdhkRAGr6QQJwt3kDgbtBAePS0QIxmv0Dek6lAAis9QNsWTUCFdwZBDem1QBjtU0AHdNRA6YKnQMk8vEBaCkRAhJtgQPEhTkCjwHZAz03IQHPSskDDqoNAE9+mQKpK2kCfYYtA/ApRQIWPykDR2axAlfeaQAJPSkDdBEdANQz3QODHuUA0k5dApFO/QBi1+UA5ldRAtBf4QE4ujEAGu6tAwfLSQEvbwkAlDetA2VqDQBzApkBPuqNAs0mNQHZVqUBt+PFAO8CAQA5Ts0BGce9Aj3DPQFTAvkCyf8RA4CqpQMMMwkBMyoNA/YCKQE++m0CU+qhAT/hGQKgkrkDMG9VAo3C1QKGnp0Asu6tACEjUQISUjECyIqJAvbO+QCXSV0DMzZNAu8H5QMVMsECiXspAf/fLQC8q/kBcQ8VA1LXOQDr3qECIuwBBL1yyQKq9n0DpbIpAwSSsQNUZo0BWUp9AY2WEQKflhkBf6olAt6OvQP14jEDuvs9AfBQfQUCHqUAlwdxABX9dQFqHbkBbkqlAkm61QLTFlkDU0rVAEM6tQLMLmkD0V/RABEiJQP2HlEA13ZdAJ0yOQCVepUD8vadANsysQM0AnUD43LxAHiaYQOYIsUBlLcpAEve3QLZfvkC0T+5AmzmmQK9OokAJsLJAqosBQU1Dm0BPBZxAF2z2QOUbq0Bq5bFAJFu3QJszs0BHzZxAMuq9QIywv0DLz0pA+8rYQAYN2kDOQZZAb/6zQDG3gED70PdAXxa/QNV8nECX46pAmpm7QBtuj0DpeYhACeR9QF+CkEC1kddAFOaNQFbY7UAiMK1AvwS2QOObmUD+FK1AY2LxQN8AokDw+ZVAv3azQDODiUCS2JVA9RPKQFrT7ECN3bRAIP2rQGO3p0Axsp9ATLbzQPx5o0C/05BAxUu3QEPnjUBHlqNAaoWWQB2tiUDsP6hAY2CRQMeag0DuFqJAJN6oQBlBjkCjyKFA2juZQEYtwUCA+LtA1B+iQJromkCCXqNAeS2rQN4xy0CHHJRAPbi+QAlIq0BOT5lAuIGeQHJJrkCAaq5AOtaWQGjkpEB1NJBAEoejQHayzkDT7rFAy4PsQMkRlUDgNaJAiTCfQJAoHEHjwvxAvJsfQTdYEUFoxCFBpq4ZQRcVCUGp3+1AJ8UbQTx8EEG1DxlBI7oYQRKYEUFAJQxBweThQGvLB0EkCQxBYfUoQd0oHkEmWCBBZL/AQHhzCUE+CBNBQN4EQfU1CUGmyyJB7uQFQeh4E0HmUgNBrZ4DQYc/2UAaJRtB2cYHQb64HkGL6R1BZ3EOQReKCkHaaQdBCo8MQfWbFEGxhfdAmdr8QId0E0FPEfFAv1omQWRqEEE59yRB4xgeQYhAGUEDXB5BM9DDQBn1BkGg4hxBAZMBQQww+UCARQ9BU7DyQBYRB0FoRQNBv2IWQSQgGUFEyfFAIN33QGUYEEFOFBxBSoQyQdZZBkGRgRJBpBICQcfWBEFv+dlABG3xQPBhAkGPcvZAkHO/QAqtAkFkByJBQoTVQPmLAEG0xvtAImQFQYY6+UBzAgdBfpv9QMFPCUEBVRFBzI/BQKUeEkHUsQpBFcwhQXRW+UA3fAFB0+YDQe5sEEEzXAFB3tIDQfyxAkEawvJAHIYMQQ5PEkEFYAhBTgkBQQMFtEDagOtAEmYJQa19y0BiUwRBLyrRQIQNEEF+BfhAZqQaQe3wHkGqsABB+krqQBsNCEGs7cZAkZH7QOpGAkHnsQBBzF33QMQMCUE45QRBbWocQV7nBkE1bcNALx76QBcf9kDn1wlBL3fhQBGSF0HBc6RADB4CQab2DEHaMgFBKUQMQZ8UAkEvlhBBa8wGQcFLBEFT0wJBdVUFQaUE+UAIKwJBqz0DQUK6AUGsRgxBHvAEQSNV6EBTushAryD2QFSP9EAjXwpB6Jn9QGm7/kDnygtBAvYJQTSGwUBz/aFAZhQhQSX/CUEhbARBR4ABQcr6F0EasKlAcXcSQfs8EEE93P1AWwmzQPzJD0FrXQhBOo0JQf3fEEGnl/tAsT78QMYg9ECUuwVBmhgAQTaDpUDGvelAkn4KQQ9xFUEo3/dAVb/5QJBmBUF8MflAyvsQQZtUDEEYdvdAdLIKQRG7AUEmJghB+ZMHQSSX10Dya/JAhQfmQHAc+0CY4fpA9GG9QNl6zUBGmBpB348hQT3uCkEAd9VAUWoLQY8b/0AC2aRA7nQRQZEP7UA3TvBAi84LQZ4s+0D+m8BA3aUIQaI/mUCPPaxAFrATQXD7G0E0VwlBZHmzQLkxD0GxQMhApf/yQEF3CEHOjAdBVrgKQfENyUA0mQpBlwkRQctN+ECk4slA+aELQcGnAkGHQK1AqmDRQMMDF0EmsxBBOSO7QC6J5UB4wKhAw9cHQVEmD0En4+FAil72QB/s/0BfkgNBt0nkQHUaAUEFBB1Bmfj6QHFr+0Bp3gBBYhn2QGeS+kCZNvtAA2jrQIXb+0CSbctAS8byQJ3YnUD1bu5AzXqnQFzO9kAXRRFB84ynQLXx/0DHktxAU7fdQFlQl0Bf8O9A/jz4QPfyBkHOItlA5yP6QEBh9kABZdpAbnXLQEqA7UCyAhtBWEnvQGI95EBRDOtAu4ffQBq02UAR3PZA/ZkHQR3l6UCNABhBGpTNQK1N5kAP2PtAYgHlQPWz8EAgDuRA/3b7QKLB20CM6M1ALXDsQKjXBkHXKfhA8goEQX4Y4UAHEqBAJFr6QDtU10DfJvtAFi+bQKLymUAgI8hA2zbwQPkh8UDLwPlASA/tQEZiwEDmRvlATcCcQPI33UC8AbtAbnXsQKJrqkDvN/BAQdLkQNJJ+0DgIupAhcrDQE046kCO9epAu3DvQLvo50BPUPFAUjH3QF/E+kBe7PRA43HRQCQB9UBCCddAvQTXQJC780CpnPlAv7zkQE2p00DeovVANJP5QLSN1kBDMvRApy3SQOb8nUBnP+hAuwj2QLPewEAtD+1AcdUOQb5Cu0DJIPNAK23kQNc7oEC0cwBBosSVQO+X1UByMt1AJEmcQHHo70D+Z+lAQCPtQOz560BE+vpAj+LiQMv+6UCdauRA7aX5QDC3/EAKiNNAYmrSQCsMn0CszPNA9gLzQP+U6EDWnABBFpXxQL1ss0A04exA8ILqQBX/A0Em5epAZeq8QE7B+EBxv81As5vDQJ1W80Au8epAdCzvQN5I00DmHdlAUviiQJIl/EDOlfRAj02eQJB2+UAPeQ5B+Ar9QDQl80CllZRAuhzpQLtq0EC/lqxAOOuYQFGKv0BZWOlABpzHQI3k5UBCHtRANlzMQJNW9kAKcsJA4RyVQIY6pkAOIbBAtWTHQImHxEAmw9hA8pmnQCl7qUBFz5hAB/HxQLKZ3EAOBLxARFXEQMWdnUAOD8NAEzSgQAwZ40BqRvNAG1/EQCTupEB2dMtAmCeSQDS9i0BuvrVAXf3CQJFdx0DYF7VAzHmiQFnWrkCADH9Alp2iQBlX6ECfwLtAKW2nQNd4pkADq6tAIJK7QEuiqEAtefBAQiNHQHZvtUARRulAZTeWQPNyxEDxCJpAgX25QPHNoEBegOxApmW0QGz99kBIWthA8i7EQGpBlkB6sL1A3lOtQEeJvkAck7JAkQ3xQO0H7EC2N55A3L2sQMFvqUAnG6pAAmaiQMUglUCsItJAbzL0QPFZp0Dlsp9ATMWKQO6YwkA0ie9AucGWQJBAx0Awi3JAyy6jQDLt5kA/1OlAG091QMSEnkCuXKRAKNjLQHzJwkDV3etA+XSGQNg/s0DMvbZAwZqeQFKqjUA83ZVAnd/1QIJXmkCRPZxAHjafQJsDokANgJJATPGLQJJci0DloIxAyR5uQM4u7kBsRp9AhzXtQOGRmUB3B7NAYGvsQLSXkEA0a+tAwL2gQMWxjUBhWj5AIGbNQNTK6ED5MIxAVsiKQI01m0CrurhAjOSKQLotjkBbUhJAUsjnQEKPjECDSJ1AwRCkQBs3j0Br/o5Acb+IQOg+kUD7+rdAmACRQJ7Kh0DY2JFATHpcQP2qvkCI8tFArgvvQOBQlEBCioVALLyDQGHRn0D/HZVApjeMQLj3jUBvSZhAjSp3QBYDjUDHMY9AYnrzQKgKkkDGsplAusuYQEYgaUDtzu1ArzuJQJ6vqUB5IexAkaOOQASthEAY2q5APi/uQCkg7EA43utAtS7uQG8O80DIsblAqRm7QHrHm0BtmJFAJImcQH4qG0D1VvNAQsuxQANk5kCCW4pATqagQP8Ig0C/W5FArLTsQCUskkAEPGhAoW7nQFvCiEBsVIBAuBGcQPNAhUCOaY9AO82KQMTWgUAnG5lAuZqgQKvXiUAS+O5AZaCvQOev6kBz2ZZAOBaPQG0CmEBae6BAkVyuQCW+k0A/f1tAeZ6FQNSUkEDFfopAqM1LQPF8iEDtzktAtTRBQA7BkEAUXOVAnUSXQAkTR0AcgO1ALeCPQF4woEDsuK9AWbOLQECf8kAGyoRAi9KJQHGPxEBknYVAVizqQF5qaUDSbIhARs2IQDaKjUCV36RAa7SRQLKTe0BnhF1AOsrqQFtBiECh42xA2buNQDIehkD1TKNApJ4aQW/mC0F15+hA2Lz1QHOAH0HoqidBdBnxQKLN6kDslBFBoUX0QJX18kClaOdAytT2QA5n6kDwm+hAEJgnQYFO+ECuvBlBXKLvQOid6ED06QBBl0vvQCLnI0FerehA9mMBQTuSF0EwTv1AiNbxQAsf8UCbBupAFtsDQR8K+ECpvx5BhwQVQbRr9kAJ1e9AyWgZQVWy8kBl/fxA1rMDQeQsFEGd2f5AGiUIQVC57EAndQpBZ7DqQLDIG0HA3+5AbSv9QAEOLkFFGvNAKNvrQB9u6kAtKf9AaKwLQV11DUGD8BRB6xroQMEo6UAApShBFIjpQJDHIUHA3AtB7ooDQVkRBEGKRidBKAQHQQ+CEEE2DBhBOnIWQf6gBUG+ZOpAyPD3QA8wL0GZ/MRAXQXzQC0E5UBn8/1Al8TyQADKA0Hdf/5ABFklQSlkD0EjbQlBrSgHQf4DCEFAW+5Ao2bhQFeY7EC03R1BjhccQVLqCkGHJABByiMNQWrxDEEW2vBA3QUNQT+58ECvUQZBG5LzQMS5y0DmUQlB1sPwQOkfBEEA/hhB7NP4QJ3eD0GwMgFBKQIPQW13BEGqhd9Aq6T+QEr74kDdAfRAe0uhQCGs+UBTawVBIiXEQFz61kDmsR9BuNUMQaHFCUH/lPFAX5fUQM/JBkG1FvNAyXTkQKC/8UDp4O1Aqb7lQE5A7kAo4BBBUOAFQYWw9kD9Qv1AYW4PQZNG9ECcqgtBOAUPQWBDB0Fe1u1At+IRQRsX0kD57tNAG9MBQT5b70C+au9A4IoPQdW08UCMjvVAP7r1QFhm/kA0tcBAGtekQPON40DVauVAObKsQGZg+kAO+8dA9HDsQLapDEG7UdJAKiboQEOq6UDk/u1AQ/PPQBYI70DpUctAoTH8QK/R5kAK6QNBtEACQVca2EA90+tAG66mQNi9DUHzPtVAuLUDQROj6EDQRfdAZTGaQG9e8EA7x/hAFmziQMAGAUFtMu5ANk+WQCuJ9kAbgglBpRroQB/OM0HEz71A9NehQJSppEDbYtlANny3QFH4FEGKMQBBuXUAQVZqCkHK6uhA6AzyQHDy2EB87uRAe7vqQGSA8EC+7p5ARTLoQELW7EBL4fNA2kS/QMgo8UBoRJZApOHhQBH47kBeqdlA8y+bQMdV8UA/QOVAICjoQNov3ECj5LZApzXpQPelHUEB9eBAsvb5QLEr8UDMJvJAzjHpQHpWEEGCrcNAV6nwQJcrAUE7IgNBRoPxQONHAEFkPedA19qcQJfO4EB+5RNBFpKWQAL/40AVNulAjzukQFWaoECQkcJAK0vdQG6J80AFqt9ASDIOQcbJ60Cmae1Am0sEQRydCUGqzvBA6Or3QF4VBEHFaQhBWyUKQaU7A0HEjflAWSfuQPBKpkA+iP1AVZEJQcQE6kAZhPtAnWsKQby1G0EXwAlBOzMDQc4VCkGrcPVAHHnyQN22BkEFpt9ADC/wQJwDA0GZxuNADokFQUAC5UAhoDBBWvsNQR5zB0G8/QNB41YGQTx9BkHirjFBYqjxQOQM8UAaNhxBAj75QGMI30ALBO1AAogZQShP+UD0wf9AUBn0QNGcq0BT4tFAz/+yQAwB50Def7RAQ+T5QNNwHUEluwZBUScOQTcatUCCgKlA7LD2QFyzsEDlkYtAEcXoQEF1ykCa4uNA9QjKQCGNE0FLaQFBstqtQKVy5ED6r75AGu4MQTamHEEuN+9Ax+YHQayFxkBclttAs1+nQGL7AkHSyiZBG2AQQfne20DU+yNBxeeqQKq2FUGa0gRBQvPoQLc3GkGqQxZBI9q4QJCo9ECm4BBBFcweQZLz3UAfUvdAUNQGQZq5pkDGYglBcdbQQJ+o90CZVQ9B7eXGQJ+ir0BcK/xAsKK1QJHdA0H9qrtAh/GyQL1mwUAGwwJBNKvWQNVvz0AgDLRAdC8SQdmDEkHt7LZAWWYXQR7VHUEg/AxBIia2QDJhtkBtAbRANWGzQFKo1UB/3OhA9+oeQelmw0AjqAVBhZq2QJTQDUGnixpBsDL3QK3rzUDSfMBAgHa2QAAo3EBb2Q1BeZYTQUGAlkAmsQtBCCKzQBNVIkFhzLdAopO7QKcD1UAN779AcfopQariGkGV5A5Bq7y1QDL2q0DBu7tAHRKrQBh4qkDDMrFAtZKwQHz5skBkN5ZAVy+bQLC9pUB5U6lAGFq3QA38k0AgGItA+EGWQNGWkkD9jaRARjuRQOs2rEAFBK9A522wQIHNrkDyQJtAVF2uQANMrkDXq7NAyT2XQH/ro0C2bLdAl/mzQPoalkD2kqNAw9GpQBO8tEDd65JAZkCqQEODpUCGtZFAEnivQPLIrEDlt5ZAE7qsQF/0tkBmopBAwB+2QMgwqkCQYbZAM+a3QEPorEC52LBAoN6lQBjAq0AkhalAS36TQF6utED7iqxA8LGxQF1Yk0D2h5xATOGxQBQQAkHSkpBA+CypQNdOqkCgweRAeJ6XQNB7pUBR2BZBbz+bQDsGqkArE+tAagugQLEUjEBYHbpArQTrQLu+rEAhgJ9ADwmPQH8hn0CxyZtASjqrQFzDsEBH0u9AKvyrQI6tlEAjyrNAC0CRQHRZqkCU+b5A2L20QM/uqEA7sItAUhiuQNTHkECToJ5AwZqSQCUUzkDxp6ZAbRe3QHtsr0Csgq9AqNCRQIQktUCh1/RAn4HAQO2k2EBppOJA6o7QQFwMqUBL5spAeWTzQK9ZiEDP69BA7DiYQPPB4EBcN9tAGbevQFZl10BFf8xAOYEvQDL+40DpjrtABsKiQAlp30DArbZANze8QB7krEDOs9FALeXJQP9kxUABGMpAHYXmQGySxUDqzCRBBjHYQJ86kUBcCrBASabNQP08gUCMn8BAlSvPQNJP7kD/pNRAOZ7OQNIxJEGngrRAwhCyQEEnyUB5SbZAtnnbQPKwukApaK9AeB/xQE1ztEDRreZAc5aEQDXGsEAgM7NAMHafQMUWy0Av1bBAN1XgQM1X3ECS3rpA0gWuQGwX80AacOtA1LrSQE0z9EAHAdNA+UBeQL+M5UBqQ6xAmR3mQGIM9UDacbZApjq5QAuw7UCRta1AufLuQEYrrEDaPKNAu7WQQEmpw0B3Q9JAA5+4QGRz80Cum4xAOzH1QCySrkAAGLpAL3vMQCR71ECLWMFAEJk7QOpMs0CJBbhAp+CwQKo9o0AShLZAFe6cQItPskDPPqFA8i2lQJgAtUC776dApHy6QNtf0EDrU7hA8U3LQPmdrkCGvLxABRLHQB8ZsUBy671AFMPJQDsa9kC62rFAIR+eQIxk+0DexJxAHMh2QHGjj0AL9KNAReujQHrax0CTHvVAOSP2QPdxr0CjOqBAHYO4QC39mkCVTslA5AzvQObyu0ApzLxAlkymQKOR7UByXdtAm2KxQFXmpkDh789ANUi3QJslrUAFV6FAlvjHQHQa1UCHKbFAoAA1QCs0y0CdNY9A4ueQQLrskkChvY1AIwWkQD2hjkAIppBAKKbsQC9NmkAq86VABV2mQClG90BUaqZAkdSqQLf4lECPVKZAH2SOQOh/kkCOu6hA3lWQQEVDokD/buxA08WfQECOokBhFKFAnkSmQBYzk0BHtJBAVC2TQLgnn0DG26JAkU7JQBrksUBV3JJAnM2eQAbSlkB0yZdABPWaQOj4j0D7rZJAwTalQPRJV0CvrOJARxqaQPHejECvKqJAqTyiQK3vmEBXh5RAzFGXQMJqkUA7XaVA3NShQEHboUBNBJlA2p+0QAZ5kECJEqRAJweZQCCGkkDoDpVA0M2aQCFndkDueKpAZqWTQEfvjkDesZpAWzSeQIopkUC+OotAVxG1QAhRkECA255AGV1oQNUFm0BRCqRAEEOVQMQ7qUDZqrBAkV+oQMjqjUCl5aFAQDeZQNedoUCS4+5A8w+jQI9Up0A2CJBA9i72QBJrmkABXpBACj2hQGaptkAC+bZAMo+oQBi7mUClwPRA1A+dQF8kxkB3r5JA/E8zQZ1fN0Gk5hFBlI0gQVR7NEFg6jBBjD8mQYjTEkES+S9BMsohQVX6NUFZfTtB2zk5QbvUOkEiTzVBzjc1QYlmOUECwTpB6QkxQSFxL0GySCpB5sE0QVCrNkHd2BRBycglQUltGkFQlSBBcUo1QbwoLUG8xy1B/EQrQRaqLUGmHDVBORokQVtvM0GOsDJBDKc1QUf5OUGkJCRBRnk3Qcv3PUGa7ChB1q8gQagko0CebBpB+pkeQZM7MUHmAzVB6QwrQXNfM0FmTTJBv/Y3QVHtMkG+QxhB8Uk6QUd+NEHSeyNBmWYxQRKJOEGv7DRBQSM7QXqvIUHwdDZBZ+w5QeG+J0HzUCZBGy0sQTxBBUEurjZB8Fo2QQqRJEHb1BlBrz0iQc6LJEFE2zBBoOMwQSu/HEGaMjVBQlctQaAZOEE4JDZBA2QjQfPYMkFGrBhBwAU5QasiOUEmqjZB/CgtQQf1E0HRiy5BZBYzQYuxGkECAC1BjWs0QVylLkHHOxxBXj0vQUnDIEGfcDZBqS8wQYiIMkHB5sRAL50xQWaNCkG99NBAXXQUQdlTJUEBLDNBDxIfQQ5//0A2Pi5ByoM0QeXEJ0HU8y5BOLgDQXTAJEHZVxFBiEAXQaXFMUH77f1AMjv7QJrwMkEDOx1BEuUyQSC7BkHsxgFBFBI3Qf44NkEsmfBANVX1QC9tAkGeditBe2U6Qc2lxEDycB5BRWXwQF2X1kAZqxBBTjQ1QWuAOkEbojJBjXwJQTp/x0Bl+C9ButgwQe4CFEHLliBBICwIQX0fBEG9wTNBCZUDQccY6EAsm/JAkHAdQaOiDkFI4TVBmWwXQXVEB0HVEuBAcp3hQOARIUGF1QxBalzJQFr7/UBJ6SJB/BzvQLhc60BlyjJBUsUGQTpL9UC1tLxAKZoyQYgxMEEwRPFAdxmbQPUk2kCpjeRAKKIoQdinOkHprANBtx8PQfhoB0ET3BZBse3TQCmxGEEbLjNBRrELQSip9UC6lDVBubMTQYbmGkHIKOxABt4vQY3jB0Gmxd9AhRwPQaMcAUEPBAlBWkQGQZrO8UB5OLtAkGv3QFLE4UDnmiBBSb7vQCnQBEHiUgFBt+PZQJlWH0GnHRVBmFboQCJ0DkFpngdB797pQBxmo0D2U7pAdkDSQCzvNUFbddxAr6rjQCYe7UD4YepABX6cQIukMEHo3K9ANdqzQFKwoECFsflAAM8mQSUQ6kDQy+5AfYT3QKxRDkF6u/NAEm4SQe/O9kAvQDBBI3TOQECG0kD7o+9AfMcQQY/T30DxeABB0yD9QJ02HEHm3DFBQEYWQaVnDUGrFrxAUXn9QEjiNUEtLORA9jbuQJxLNUHM5/ZAjbEeQRwiFkGPUSRBDKwGQRXaHkGw/C1BC9AmQYtIMUEY/vRA2FAyQcyWLkHHCCBBMHz5QC98KkGXQ/NAFI0mQQ5qMEEChypB/E4fQYTFHkEUShNBIP0WQTHZ9kCD4jRBYb8wQQvL8EBszSpBWiEIQfmaGUEHKCxBrbPAQM+e/kBhCDFBeF4oQYr4AkEVEwVB3dzwQIPrDUEsAhJBbzIyQbj3+EAwuxpBCIkNQVpL+EDcOwNBaxcjQT957EDafgtBilsoQR7U9kA2ci5BNJTzQFvQ/0AHXAhB61AsQamo/0BlsA9BdwsTQemINEGx7h9Bz5wQQVhY6EBr9tpA/dEPQfLhJEHsfOFAp7QGQWU7B0FvUBxBH+EEQSZsH0G5nzFBWXYdQZPMvkCQuOpAkdMXQU0A+0C8uBFBmc4lQdoJCkGixMRAllISQd8jM0G1+gtB6qEyQbavM0GFMiZBqKPrQHjqEkGGpRtBoksNQbRGtkC0XvlAkU7kQKu5LkHoXRJBanALQc2dAEF0cQBBGj8HQbQmDkGuiAFBBwzsQOOz60CLpAtBSVsIQVxR7UBL7QFB1x0MQdp9E0EWRPJAtgglQSU77UDVhe9AEUIIQXGfA0Gh0PNA4djnQCz/8kBljjBB+LQCQSe2CEH7rdBARhX7QA4q60A8OxVBWGoAQcPYrECmVCtB4Zn5QGelEEGhjvhAM9wHQRMYzECptd9AEzz4QHJxHkE4EfFAbI/9QLD0M0Gi0uVA9drCQJRoDUFm2gdBlQIWQefNE0EhlrBALYkKQQNK1kAjngJBhIy8QEEd8kBzpCdBhzzvQJE1EUHOEgpBOTfaQCBjDkFNgwFBudjlQAEh/kDwCQRBh7P5QEFTyECmaQpBa4ApQdFn/UC1d9BAd4QAQW0x8UC2hhRBbFAWQW6w0kBZtd1AvngrQdusIkEK58FA/v3uQAczI0ExGghByTXrQEhYA0Ggji1BbcroQPQH6kBZ/M9A7975QKzz6EDVR+lAa5AEQSGm40CGsw1BqLXpQKipBkG9GQFBR7TUQPCi00AJBb1ALm4PQfroDUHrFtJAn+j1QB/pmkA/haxAweIDQdbQ80DfHNRAjrIDQe0lzECPeeVApiMCQdzw40BwtONACysJQXZl2EAUWv9AsW/XQEjZo0Aw6PVAkxvBQE1Oz0B6IclAbaYDQZ4u7kCStKNARxH6QESM8UAs8gFBOV7hQHJF50AiB/NAYA8AQfro5EAVW+ZAS9HEQGaS+kAkbdhAZ5foQD7sDEF/ZqJAWcLOQHG05kAd3PlABR/9QOKH90A=",
          "dtype": "f4"
         },
         "yaxis": "y"
        }
       ],
       "layout": {
        "legend": {
         "title": {
          "text": "Metadata_time_point"
         },
         "tracegroupgap": 0
        },
        "template": {
         "data": {
          "bar": [
           {
            "error_x": {
             "color": "#2a3f5f"
            },
            "error_y": {
             "color": "#2a3f5f"
            },
            "marker": {
             "line": {
              "color": "#E5ECF6",
              "width": 0.5
             },
             "pattern": {
              "fillmode": "overlay",
              "size": 10,
              "solidity": 0.2
             }
            },
            "type": "bar"
           }
          ],
          "barpolar": [
           {
            "marker": {
             "line": {
              "color": "#E5ECF6",
              "width": 0.5
             },
             "pattern": {
              "fillmode": "overlay",
              "size": 10,
              "solidity": 0.2
             }
            },
            "type": "barpolar"
           }
          ],
          "carpet": [
           {
            "aaxis": {
             "endlinecolor": "#2a3f5f",
             "gridcolor": "white",
             "linecolor": "white",
             "minorgridcolor": "white",
             "startlinecolor": "#2a3f5f"
            },
            "baxis": {
             "endlinecolor": "#2a3f5f",
             "gridcolor": "white",
             "linecolor": "white",
             "minorgridcolor": "white",
             "startlinecolor": "#2a3f5f"
            },
            "type": "carpet"
           }
          ],
          "choropleth": [
           {
            "colorbar": {
             "outlinewidth": 0,
             "ticks": ""
            },
            "type": "choropleth"
           }
          ],
          "contour": [
           {
            "colorbar": {
             "outlinewidth": 0,
             "ticks": ""
            },
            "colorscale": [
             [
              0.0,
              "#0d0887"
             ],
             [
              0.1111111111111111,
              "#46039f"
             ],
             [
              0.2222222222222222,
              "#7201a8"
             ],
             [
              0.3333333333333333,
              "#9c179e"
             ],
             [
              0.4444444444444444,
              "#bd3786"
             ],
             [
              0.5555555555555556,
              "#d8576b"
             ],
             [
              0.6666666666666666,
              "#ed7953"
             ],
             [
              0.7777777777777778,
              "#fb9f3a"
             ],
             [
              0.8888888888888888,
              "#fdca26"
             ],
             [
              1.0,
              "#f0f921"
             ]
            ],
            "type": "contour"
           }
          ],
          "contourcarpet": [
           {
            "colorbar": {
             "outlinewidth": 0,
             "ticks": ""
            },
            "type": "contourcarpet"
           }
          ],
          "heatmap": [
           {
            "colorbar": {
             "outlinewidth": 0,
             "ticks": ""
            },
            "colorscale": [
             [
              0.0,
              "#0d0887"
             ],
             [
              0.1111111111111111,
              "#46039f"
             ],
             [
              0.2222222222222222,
              "#7201a8"
             ],
             [
              0.3333333333333333,
              "#9c179e"
             ],
             [
              0.4444444444444444,
              "#bd3786"
             ],
             [
              0.5555555555555556,
              "#d8576b"
             ],
             [
              0.6666666666666666,
              "#ed7953"
             ],
             [
              0.7777777777777778,
              "#fb9f3a"
             ],
             [
              0.8888888888888888,
              "#fdca26"
             ],
             [
              1.0,
              "#f0f921"
             ]
            ],
            "type": "heatmap"
           }
          ],
          "histogram": [
           {
            "marker": {
             "pattern": {
              "fillmode": "overlay",
              "size": 10,
              "solidity": 0.2
             }
            },
            "type": "histogram"
           }
          ],
          "histogram2d": [
           {
            "colorbar": {
             "outlinewidth": 0,
             "ticks": ""
            },
            "colorscale": [
             [
              0.0,
              "#0d0887"
             ],
             [
              0.1111111111111111,
              "#46039f"
             ],
             [
              0.2222222222222222,
              "#7201a8"
             ],
             [
              0.3333333333333333,
              "#9c179e"
             ],
             [
              0.4444444444444444,
              "#bd3786"
             ],
             [
              0.5555555555555556,
              "#d8576b"
             ],
             [
              0.6666666666666666,
              "#ed7953"
             ],
             [
              0.7777777777777778,
              "#fb9f3a"
             ],
             [
              0.8888888888888888,
              "#fdca26"
             ],
             [
              1.0,
              "#f0f921"
             ]
            ],
            "type": "histogram2d"
           }
          ],
          "histogram2dcontour": [
           {
            "colorbar": {
             "outlinewidth": 0,
             "ticks": ""
            },
            "colorscale": [
             [
              0.0,
              "#0d0887"
             ],
             [
              0.1111111111111111,
              "#46039f"
             ],
             [
              0.2222222222222222,
              "#7201a8"
             ],
             [
              0.3333333333333333,
              "#9c179e"
             ],
             [
              0.4444444444444444,
              "#bd3786"
             ],
             [
              0.5555555555555556,
              "#d8576b"
             ],
             [
              0.6666666666666666,
              "#ed7953"
             ],
             [
              0.7777777777777778,
              "#fb9f3a"
             ],
             [
              0.8888888888888888,
              "#fdca26"
             ],
             [
              1.0,
              "#f0f921"
             ]
            ],
            "type": "histogram2dcontour"
           }
          ],
          "mesh3d": [
           {
            "colorbar": {
             "outlinewidth": 0,
             "ticks": ""
            },
            "type": "mesh3d"
           }
          ],
          "parcoords": [
           {
            "line": {
             "colorbar": {
              "outlinewidth": 0,
              "ticks": ""
             }
            },
            "type": "parcoords"
           }
          ],
          "pie": [
           {
            "automargin": true,
            "type": "pie"
           }
          ],
          "scatter": [
           {
            "fillpattern": {
             "fillmode": "overlay",
             "size": 10,
             "solidity": 0.2
            },
            "type": "scatter"
           }
          ],
          "scatter3d": [
           {
            "line": {
             "colorbar": {
              "outlinewidth": 0,
              "ticks": ""
             }
            },
            "marker": {
             "colorbar": {
              "outlinewidth": 0,
              "ticks": ""
             }
            },
            "type": "scatter3d"
           }
          ],
          "scattercarpet": [
           {
            "marker": {
             "colorbar": {
              "outlinewidth": 0,
              "ticks": ""
             }
            },
            "type": "scattercarpet"
           }
          ],
          "scattergeo": [
           {
            "marker": {
             "colorbar": {
              "outlinewidth": 0,
              "ticks": ""
             }
            },
            "type": "scattergeo"
           }
          ],
          "scattergl": [
           {
            "marker": {
             "colorbar": {
              "outlinewidth": 0,
              "ticks": ""
             }
            },
            "type": "scattergl"
           }
          ],
          "scattermap": [
           {
            "marker": {
             "colorbar": {
              "outlinewidth": 0,
              "ticks": ""
             }
            },
            "type": "scattermap"
           }
          ],
          "scattermapbox": [
           {
            "marker": {
             "colorbar": {
              "outlinewidth": 0,
              "ticks": ""
             }
            },
            "type": "scattermapbox"
           }
          ],
          "scatterpolar": [
           {
            "marker": {
             "colorbar": {
              "outlinewidth": 0,
              "ticks": ""
             }
            },
            "type": "scatterpolar"
           }
          ],
          "scatterpolargl": [
           {
            "marker": {
             "colorbar": {
              "outlinewidth": 0,
              "ticks": ""
             }
            },
            "type": "scatterpolargl"
           }
          ],
          "scatterternary": [
           {
            "marker": {
             "colorbar": {
              "outlinewidth": 0,
              "ticks": ""
             }
            },
            "type": "scatterternary"
           }
          ],
          "surface": [
           {
            "colorbar": {
             "outlinewidth": 0,
             "ticks": ""
            },
            "colorscale": [
             [
              0.0,
              "#0d0887"
             ],
             [
              0.1111111111111111,
              "#46039f"
             ],
             [
              0.2222222222222222,
              "#7201a8"
             ],
             [
              0.3333333333333333,
              "#9c179e"
             ],
             [
              0.4444444444444444,
              "#bd3786"
             ],
             [
              0.5555555555555556,
              "#d8576b"
             ],
             [
              0.6666666666666666,
              "#ed7953"
             ],
             [
              0.7777777777777778,
              "#fb9f3a"
             ],
             [
              0.8888888888888888,
              "#fdca26"
             ],
             [
              1.0,
              "#f0f921"
             ]
            ],
            "type": "surface"
           }
          ],
          "table": [
           {
            "cells": {
             "fill": {
              "color": "#EBF0F8"
             },
             "line": {
              "color": "white"
             }
            },
            "header": {
             "fill": {
              "color": "#C8D4E3"
             },
             "line": {
              "color": "white"
             }
            },
            "type": "table"
           }
          ]
         },
         "layout": {
          "annotationdefaults": {
           "arrowcolor": "#2a3f5f",
           "arrowhead": 0,
           "arrowwidth": 1
          },
          "autotypenumbers": "strict",
          "coloraxis": {
           "colorbar": {
            "outlinewidth": 0,
            "ticks": ""
           }
          },
          "colorscale": {
           "diverging": [
            [
             0,
             "#8e0152"
            ],
            [
             0.1,
             "#c51b7d"
            ],
            [
             0.2,
             "#de77ae"
            ],
            [
             0.3,
             "#f1b6da"
            ],
            [
             0.4,
             "#fde0ef"
            ],
            [
             0.5,
             "#f7f7f7"
            ],
            [
             0.6,
             "#e6f5d0"
            ],
            [
             0.7,
             "#b8e186"
            ],
            [
             0.8,
             "#7fbc41"
            ],
            [
             0.9,
             "#4d9221"
            ],
            [
             1,
             "#276419"
            ]
           ],
           "sequential": [
            [
             0.0,
             "#0d0887"
            ],
            [
             0.1111111111111111,
             "#46039f"
            ],
            [
             0.2222222222222222,
             "#7201a8"
            ],
            [
             0.3333333333333333,
             "#9c179e"
            ],
            [
             0.4444444444444444,
             "#bd3786"
            ],
            [
             0.5555555555555556,
             "#d8576b"
            ],
            [
             0.6666666666666666,
             "#ed7953"
            ],
            [
             0.7777777777777778,
             "#fb9f3a"
            ],
            [
             0.8888888888888888,
             "#fdca26"
            ],
            [
             1.0,
             "#f0f921"
            ]
           ],
           "sequentialminus": [
            [
             0.0,
             "#0d0887"
            ],
            [
             0.1111111111111111,
             "#46039f"
            ],
            [
             0.2222222222222222,
             "#7201a8"
            ],
            [
             0.3333333333333333,
             "#9c179e"
            ],
            [
             0.4444444444444444,
             "#bd3786"
            ],
            [
             0.5555555555555556,
             "#d8576b"
            ],
            [
             0.6666666666666666,
             "#ed7953"
            ],
            [
             0.7777777777777778,
             "#fb9f3a"
            ],
            [
             0.8888888888888888,
             "#fdca26"
            ],
            [
             1.0,
             "#f0f921"
            ]
           ]
          },
          "colorway": [
           "#636efa",
           "#EF553B",
           "#00cc96",
           "#ab63fa",
           "#FFA15A",
           "#19d3f3",
           "#FF6692",
           "#B6E880",
           "#FF97FF",
           "#FECB52"
          ],
          "font": {
           "color": "#2a3f5f"
          },
          "geo": {
           "bgcolor": "white",
           "lakecolor": "white",
           "landcolor": "#E5ECF6",
           "showlakes": true,
           "showland": true,
           "subunitcolor": "white"
          },
          "hoverlabel": {
           "align": "left"
          },
          "hovermode": "closest",
          "mapbox": {
           "style": "light"
          },
          "paper_bgcolor": "white",
          "plot_bgcolor": "#E5ECF6",
          "polar": {
           "angularaxis": {
            "gridcolor": "white",
            "linecolor": "white",
            "ticks": ""
           },
           "bgcolor": "#E5ECF6",
           "radialaxis": {
            "gridcolor": "white",
            "linecolor": "white",
            "ticks": ""
           }
          },
          "scene": {
           "xaxis": {
            "backgroundcolor": "#E5ECF6",
            "gridcolor": "white",
            "gridwidth": 2,
            "linecolor": "white",
            "showbackground": true,
            "ticks": "",
            "zerolinecolor": "white"
           },
           "yaxis": {
            "backgroundcolor": "#E5ECF6",
            "gridcolor": "white",
            "gridwidth": 2,
            "linecolor": "white",
            "showbackground": true,
            "ticks": "",
            "zerolinecolor": "white"
           },
           "zaxis": {
            "backgroundcolor": "#E5ECF6",
            "gridcolor": "white",
            "gridwidth": 2,
            "linecolor": "white",
            "showbackground": true,
            "ticks": "",
            "zerolinecolor": "white"
           }
          },
          "shapedefaults": {
           "line": {
            "color": "#2a3f5f"
           }
          },
          "ternary": {
           "aaxis": {
            "gridcolor": "white",
            "linecolor": "white",
            "ticks": ""
           },
           "baxis": {
            "gridcolor": "white",
            "linecolor": "white",
            "ticks": ""
           },
           "bgcolor": "#E5ECF6",
           "caxis": {
            "gridcolor": "white",
            "linecolor": "white",
            "ticks": ""
           }
          },
          "title": {
           "x": 0.05
          },
          "xaxis": {
           "automargin": true,
           "gridcolor": "white",
           "linecolor": "white",
           "ticks": "",
           "title": {
            "standoff": 15
           },
           "zerolinecolor": "white",
           "zerolinewidth": 2
          },
          "yaxis": {
           "automargin": true,
           "gridcolor": "white",
           "linecolor": "white",
           "ticks": "",
           "title": {
            "standoff": 15
           },
           "zerolinecolor": "white",
           "zerolinewidth": 2
          }
         }
        },
        "title": {
         "text": "UMAP by Time Point"
        },
        "xaxis": {
         "anchor": "y",
         "domain": [
          0.0,
          1.0
         ],
         "title": {
          "text": "umap0"
         }
        },
        "yaxis": {
         "anchor": "x",
         "domain": [
          0.0,
          1.0
         ],
         "title": {
          "text": "umap1"
         }
        }
       }
      }
     },
     "metadata": {},
     "output_type": "display_data"
    }
   ],
   "source": [
    "blue_green_short_colors = [\"#edf8fb\", \"#99d8c9\", \"#2ca25f\"]\n",
    "\n",
    "fig = px.scatter(\n",
    "    umapdf,\n",
    "    x=\"umap0\",\n",
    "    y=\"umap1\",\n",
    "    color=\"Metadata_time_point\",\n",
    "    title=\"UMAP by Time Point\",\n",
    "    color_discrete_sequence=blue_green_short_colors,\n",
    ")\n",
    "\n",
    "fig.show()\n",
    "fig.write_image(\n",
    "    static_figure_path / \"round1_time_point_umap.png\", width=2000, height=1200\n",
    ")\n",
    "fig.write_html(\n",
    "    int_figure_path / \"round1_time_point_umap.html\",\n",
    "    full_html=True,\n",
    "    include_plotlyjs=\"embed\",\n",
    ")"
   ]
  },
  {
   "cell_type": "markdown",
   "metadata": {
    "jukit_cell_id": "VjOBxwWwuA"
   },
   "source": [
    "# Treemap Cell Count Figures"
   ]
  },
  {
   "cell_type": "code",
   "execution_count": 20,
   "metadata": {
    "execution": {
     "iopub.execute_input": "2025-07-03T22:08:39.548469Z",
     "iopub.status.busy": "2025-07-03T22:08:39.548347Z",
     "iopub.status.idle": "2025-07-03T22:08:41.495775Z",
     "shell.execute_reply": "2025-07-03T22:08:41.495360Z"
    },
    "jukit_cell_id": "F6Ya6sNQvW"
   },
   "outputs": [
    {
     "data": {
      "application/vnd.plotly.v1+json": {
       "config": {
        "plotlyServerURL": "https://plot.ly"
       },
       "data": [
        {
         "branchvalues": "total",
         "domain": {
          "x": [
           0.0,
           1.0
          ],
          "y": [
           0.0,
           1.0
          ]
         },
         "hovertemplate": "labels=%{label}<br>count=%{value}<br>parent=%{parent}<br>id=%{id}<extra></extra>",
         "ids": [
          "U2-OS/12000/72",
          "U2-OS/8000/72",
          "NB-1/12000/72",
          "U2-OS/12000/48",
          "PA1/4000/48",
          "KNS-42/8000/72",
          "PA1/2000/72",
          "SK-N-MC/8000/48",
          "CHP212/12000/72",
          "NB-1/12000/48",
          "SJSA-1/12000/48",
          "PA1/8000/24",
          "SK-N-AS/12000/24",
          "U2-OS/4000/72",
          "PA1/1000/72",
          "KNS-42/8000/48",
          "SJSA-1/8000/72",
          "SJSA-1/8000/48",
          "PA1/12000/24",
          "SJSA-1/4000/72",
          "CHP212/12000/48",
          "NB-1/8000/72",
          "G402/12000/48",
          "SJSA-1/12000/24",
          "CHP212/8000/72",
          "G402/8000/72",
          "SK-N-MC/4000/72",
          "PA1/2000/48",
          "SJSA-1/12000/72",
          "KNS-42/12000/72",
          "SK-N-AS/8000/24",
          "SK-N-AS/4000/72",
          "NB-1/12000/24",
          "KNS-42/8000/24",
          "IMR32/4000/72",
          "SK-N-MC/12000/24",
          "U2-OS/8000/48",
          "ONS-76/2000/72",
          "PA1/4000/72",
          "SJSA-1/2000/72",
          "SJSA-1/8000/24",
          "CHP212/8000/48",
          "ONS-76/8000/48",
          "NB-1/8000/48",
          "SJSA-1/4000/48",
          "ONS-76/4000/72",
          "CHP212/12000/24",
          "Saos-2/12000/72",
          "G402/8000/48",
          "G402/4000/72",
          "DAOY/12000/72",
          "ONS-76/12000/24",
          "U2-OS/12000/24",
          "G401/12000/48",
          "KNS-42/12000/48",
          "PA1/4000/24",
          "ONS-76/12000/72",
          "ONS-76/8000/72",
          "IMR32/2000/72",
          "G402/12000/24",
          "ONS-76/12000/48",
          "DAOY/8000/72",
          "SK-N-AS/12000/72",
          "KNS-42/12000/24",
          "IMR32/8000/48",
          "U2-OS/2000/72",
          "A673/8000/72",
          "IMR32/12000/48",
          "DAOY/4000/72",
          "ONS-76/4000/48",
          "NB-1/4000/72",
          "U2-OS/4000/48",
          "SK-N-MC/12000/48",
          "SK-N-AS/8000/72",
          "CHP212/4000/72",
          "IMR32/8000/72",
          "Saos-2/12000/48",
          "Saos-2/8000/72",
          "IMR32/12000/72",
          "G401/12000/72",
          "ONS-76/8000/24",
          "CHP212/8000/24",
          "NB-1/8000/24",
          "SK-N-AS/2000/72",
          "PA1/1000/48",
          "IMR32/4000/48",
          "SK-N-MC/4000/48",
          "SK-N-MC/8000/24",
          "SK-N-AS/4000/48",
          "G402/2000/72",
          "G401/4000/72",
          "KP-N-YN/12000/24",
          "Saos-2/8000/48",
          "G402/4000/48",
          "G401/8000/72",
          "SJSA-1/4000/24",
          "SH-SY5Y/12000/48",
          "U2-OS/8000/24",
          "DAOY/2000/72",
          "ONS-76/1000/72",
          "G401/12000/24",
          "A673/4000/72",
          "A673/12000/48",
          "SJSA-1/1000/72",
          "NB-1/2000/72",
          "SJSA-1/2000/48",
          "SK-N-MC/2000/72",
          "IMR32/1000/72",
          "DAOY/12000/48",
          "KP-N-YN/12000/48",
          "NB-1/4000/48",
          "SH-SY5Y/12000/72",
          "U2-OS/1000/72",
          "G402/12000/72",
          "SH-SY5Y/8000/48",
          "DAOY/8000/48",
          "Saos-2/12000/24",
          "G402/8000/24",
          "KP-N-YN/12000/72",
          "KP-N-YN/8000/24",
          "CHP212/4000/48",
          "Saos-2/4000/72",
          "G292/12000/72",
          "KP-N-YN/8000/48",
          "SH-SY5Y/4000/72",
          "G292/12000/48",
          "DAOY/4000/48",
          "U2-OS/2000/48",
          "SH-SY5Y/8000/72",
          "KNS-42/4000/72",
          "G401/8000/48",
          "ONS-76/2000/48",
          "ONS-76/4000/24",
          "IMR32/2000/48",
          "Saos-2/8000/24",
          "PA1/2000/24",
          "A673/12000/72",
          "SK-N-MC/8000/72",
          "DAOY/1000/72",
          "IMR32/12000/24",
          "CHP212/2000/72",
          "U2-OS/4000/24",
          "SH-SY5Y/4000/48",
          "KP-N-YN/8000/72",
          "NB-1/4000/24",
          "SH-SY5Y/12000/24",
          "IMR32/8000/24",
          "SH-SY5Y/2000/72",
          "NB-1/2000/48",
          "SK-N-AS/8000/48",
          "SK-N-MC/4000/24",
          "A673/8000/48",
          "G402/4000/24",
          "SK-N-AS/2000/48",
          "SJSA-1/2000/24",
          "SJSA-1/1000/48",
          "DAOY/2000/48",
          "IMR32/4000/24",
          "PA1/8000/48",
          "NB-1/1000/72",
          "SK-N-AS/4000/24",
          "SK-N-AS/1000/72",
          "SH-SY5Y/8000/24",
          "G401/4000/48",
          "G402/2000/48",
          "G401/8000/24",
          "SK-N-MC/2000/48",
          "KP-N-YN/4000/72",
          "CHP212/2000/48",
          "KNS-42/4000/48",
          "U2-OS/1000/48",
          "CHP212/4000/24",
          "SK-N-AS/12000/48",
          "G402/1000/72",
          "KP-N-YN/4000/24",
          "NB-1/2000/24",
          "Saos-2/4000/48",
          "IMR32/1000/48",
          "Saos-2/2000/72",
          "U2-OS/2000/24",
          "G292/8000/72",
          "KP-N-YN/4000/48",
          "G401/2000/72",
          "ONS-76/1000/48",
          "KNS-42/2000/72",
          "G292/12000/24",
          "SH-SY5Y/2000/48",
          "CHP212/1000/72",
          "A673/12000/24",
          "A673/4000/48",
          "A673/2000/72",
          "PA1/1000/24",
          "KNS-42/4000/24",
          "DAOY/1000/48",
          "NB-1/1000/48",
          "DAOY/8000/24",
          "DAOY/12000/24",
          "SK-N-MC/2000/24",
          "KP-N-YN/2000/72",
          "A673/8000/24",
          "SK-N-MC/1000/72",
          "SH-SY5Y/4000/24",
          "SK-N-AS/2000/24",
          "Saos-2/2000/48",
          "ONS-76/2000/24",
          "CHP212/2000/24",
          "G401/1000/72",
          "G292/4000/72",
          "DAOY/4000/24",
          "G402/2000/24",
          "IMR32/2000/24",
          "SJSA-1/1000/24",
          "G401/2000/48",
          "SH-SY5Y/1000/48",
          "KP-N-YN/2000/24",
          "KNS-42/2000/48",
          "Saos-2/1000/72",
          "KP-N-YN/2000/48",
          "A673/4000/24",
          "SK-N-AS/1000/48",
          "G292/8000/48",
          "SK-N-MC/12000/72",
          "Saos-2/4000/24",
          "CHP212/1000/48",
          "U2-OS/1000/24",
          "SK-N-MC/1000/48",
          "DAOY/2000/24",
          "NB-1/1000/24",
          "KNS-42/1000/72",
          "G402/1000/48",
          "Saos-2/1000/48",
          "Saos-2/2000/24",
          "G401/4000/24",
          "SK-N-MC/1000/24",
          "A673/2000/48",
          "IMR32/1000/24",
          "SH-SY5Y/2000/24",
          "G401/2000/24",
          "KNS-42/2000/24",
          "SH-SY5Y/1000/72",
          "A673/2000/24",
          "G292/2000/72",
          "A673/1000/72",
          "G401/1000/48",
          "SK-N-AS/1000/24",
          "G402/1000/24",
          "KNS-42/1000/48",
          "CHP212/1000/24",
          "KP-N-YN/1000/48",
          "G292/4000/48",
          "KP-N-YN/1000/72",
          "DAOY/1000/24",
          "KP-N-YN/1000/24",
          "Saos-2/1000/24",
          "A673/1000/24",
          "KNS-42/1000/24",
          "G292/1000/72",
          "G292/8000/24",
          "G401/1000/24",
          "G292/4000/24",
          "G292/2000/24",
          "SH-SY5Y/1000/24",
          "ONS-76/1000/24",
          "G292/1000/48",
          "G292/1000/24",
          "A673/1000/48",
          "G292/2000/48",
          "U2-OS/12000",
          "U2-OS/8000",
          "NB-1/12000",
          "PA1/4000",
          "KNS-42/8000",
          "PA1/2000",
          "SK-N-MC/8000",
          "CHP212/12000",
          "SJSA-1/12000",
          "PA1/8000",
          "SK-N-AS/12000",
          "U2-OS/4000",
          "PA1/1000",
          "SJSA-1/8000",
          "PA1/12000",
          "SJSA-1/4000",
          "NB-1/8000",
          "G402/12000",
          "CHP212/8000",
          "G402/8000",
          "SK-N-MC/4000",
          "KNS-42/12000",
          "SK-N-AS/8000",
          "SK-N-AS/4000",
          "IMR32/4000",
          "SK-N-MC/12000",
          "ONS-76/2000",
          "SJSA-1/2000",
          "ONS-76/8000",
          "ONS-76/4000",
          "Saos-2/12000",
          "G402/4000",
          "DAOY/12000",
          "ONS-76/12000",
          "G401/12000",
          "IMR32/2000",
          "DAOY/8000",
          "IMR32/8000",
          "U2-OS/2000",
          "A673/8000",
          "IMR32/12000",
          "DAOY/4000",
          "NB-1/4000",
          "CHP212/4000",
          "Saos-2/8000",
          "SK-N-AS/2000",
          "G402/2000",
          "G401/4000",
          "KP-N-YN/12000",
          "G401/8000",
          "SH-SY5Y/12000",
          "DAOY/2000",
          "ONS-76/1000",
          "A673/4000",
          "A673/12000",
          "SJSA-1/1000",
          "NB-1/2000",
          "SK-N-MC/2000",
          "IMR32/1000",
          "U2-OS/1000",
          "SH-SY5Y/8000",
          "KP-N-YN/8000",
          "Saos-2/4000",
          "G292/12000",
          "SH-SY5Y/4000",
          "KNS-42/4000",
          "DAOY/1000",
          "CHP212/2000",
          "SH-SY5Y/2000",
          "NB-1/1000",
          "SK-N-AS/1000",
          "KP-N-YN/4000",
          "G402/1000",
          "Saos-2/2000",
          "G292/8000",
          "G401/2000",
          "KNS-42/2000",
          "CHP212/1000",
          "A673/2000",
          "KP-N-YN/2000",
          "SK-N-MC/1000",
          "G401/1000",
          "G292/4000",
          "SH-SY5Y/1000",
          "Saos-2/1000",
          "KNS-42/1000",
          "G292/2000",
          "A673/1000",
          "KP-N-YN/1000",
          "G292/1000",
          "U2-OS",
          "NB-1",
          "PA1",
          "KNS-42",
          "SK-N-MC",
          "CHP212",
          "SJSA-1",
          "SK-N-AS",
          "G402",
          "IMR32",
          "ONS-76",
          "Saos-2",
          "DAOY",
          "G401",
          "A673",
          "KP-N-YN",
          "SH-SY5Y",
          "G292"
         ],
         "labels": [
          "72",
          "72",
          "72",
          "48",
          "48",
          "72",
          "72",
          "48",
          "72",
          "48",
          "48",
          "24",
          "24",
          "72",
          "72",
          "48",
          "72",
          "48",
          "24",
          "72",
          "48",
          "72",
          "48",
          "24",
          "72",
          "72",
          "72",
          "48",
          "72",
          "72",
          "24",
          "72",
          "24",
          "24",
          "72",
          "24",
          "48",
          "72",
          "72",
          "72",
          "24",
          "48",
          "48",
          "48",
          "48",
          "72",
          "24",
          "72",
          "48",
          "72",
          "72",
          "24",
          "24",
          "48",
          "48",
          "24",
          "72",
          "72",
          "72",
          "24",
          "48",
          "72",
          "72",
          "24",
          "48",
          "72",
          "72",
          "48",
          "72",
          "48",
          "72",
          "48",
          "48",
          "72",
          "72",
          "72",
          "48",
          "72",
          "72",
          "72",
          "24",
          "24",
          "24",
          "72",
          "48",
          "48",
          "48",
          "24",
          "48",
          "72",
          "72",
          "24",
          "48",
          "48",
          "72",
          "24",
          "48",
          "24",
          "72",
          "72",
          "24",
          "72",
          "48",
          "72",
          "72",
          "48",
          "72",
          "72",
          "48",
          "48",
          "48",
          "72",
          "72",
          "72",
          "48",
          "48",
          "24",
          "24",
          "72",
          "24",
          "48",
          "72",
          "72",
          "48",
          "72",
          "48",
          "48",
          "48",
          "72",
          "72",
          "48",
          "48",
          "24",
          "48",
          "24",
          "24",
          "72",
          "72",
          "72",
          "24",
          "72",
          "24",
          "48",
          "72",
          "24",
          "24",
          "24",
          "72",
          "48",
          "48",
          "24",
          "48",
          "24",
          "48",
          "24",
          "48",
          "48",
          "24",
          "48",
          "72",
          "24",
          "72",
          "24",
          "48",
          "48",
          "24",
          "48",
          "72",
          "48",
          "48",
          "48",
          "24",
          "48",
          "72",
          "24",
          "24",
          "48",
          "48",
          "72",
          "24",
          "72",
          "48",
          "72",
          "48",
          "72",
          "24",
          "48",
          "72",
          "24",
          "48",
          "72",
          "24",
          "24",
          "48",
          "48",
          "24",
          "24",
          "24",
          "72",
          "24",
          "72",
          "24",
          "24",
          "48",
          "24",
          "24",
          "72",
          "72",
          "24",
          "24",
          "24",
          "24",
          "48",
          "48",
          "24",
          "48",
          "72",
          "48",
          "24",
          "48",
          "48",
          "72",
          "24",
          "48",
          "24",
          "48",
          "24",
          "24",
          "72",
          "48",
          "48",
          "24",
          "24",
          "24",
          "48",
          "24",
          "24",
          "24",
          "24",
          "72",
          "24",
          "72",
          "72",
          "48",
          "24",
          "24",
          "48",
          "24",
          "48",
          "48",
          "72",
          "24",
          "24",
          "24",
          "24",
          "24",
          "72",
          "24",
          "24",
          "24",
          "24",
          "24",
          "24",
          "48",
          "24",
          "48",
          "48",
          "12000",
          "8000",
          "12000",
          "4000",
          "8000",
          "2000",
          "8000",
          "12000",
          "12000",
          "8000",
          "12000",
          "4000",
          "1000",
          "8000",
          "12000",
          "4000",
          "8000",
          "12000",
          "8000",
          "8000",
          "4000",
          "12000",
          "8000",
          "4000",
          "4000",
          "12000",
          "2000",
          "2000",
          "8000",
          "4000",
          "12000",
          "4000",
          "12000",
          "12000",
          "12000",
          "2000",
          "8000",
          "8000",
          "2000",
          "8000",
          "12000",
          "4000",
          "4000",
          "4000",
          "8000",
          "2000",
          "2000",
          "4000",
          "12000",
          "8000",
          "12000",
          "2000",
          "1000",
          "4000",
          "12000",
          "1000",
          "2000",
          "2000",
          "1000",
          "1000",
          "8000",
          "8000",
          "4000",
          "12000",
          "4000",
          "4000",
          "1000",
          "2000",
          "2000",
          "1000",
          "1000",
          "4000",
          "1000",
          "2000",
          "8000",
          "2000",
          "2000",
          "1000",
          "2000",
          "2000",
          "1000",
          "1000",
          "4000",
          "1000",
          "1000",
          "1000",
          "2000",
          "1000",
          "1000",
          "1000",
          "U2-OS",
          "NB-1",
          "PA1",
          "KNS-42",
          "SK-N-MC",
          "CHP212",
          "SJSA-1",
          "SK-N-AS",
          "G402",
          "IMR32",
          "ONS-76",
          "Saos-2",
          "DAOY",
          "G401",
          "A673",
          "KP-N-YN",
          "SH-SY5Y",
          "G292"
         ],
         "name": "",
         "parents": [
          "U2-OS/12000",
          "U2-OS/8000",
          "NB-1/12000",
          "U2-OS/12000",
          "PA1/4000",
          "KNS-42/8000",
          "PA1/2000",
          "SK-N-MC/8000",
          "CHP212/12000",
          "NB-1/12000",
          "SJSA-1/12000",
          "PA1/8000",
          "SK-N-AS/12000",
          "U2-OS/4000",
          "PA1/1000",
          "KNS-42/8000",
          "SJSA-1/8000",
          "SJSA-1/8000",
          "PA1/12000",
          "SJSA-1/4000",
          "CHP212/12000",
          "NB-1/8000",
          "G402/12000",
          "SJSA-1/12000",
          "CHP212/8000",
          "G402/8000",
          "SK-N-MC/4000",
          "PA1/2000",
          "SJSA-1/12000",
          "KNS-42/12000",
          "SK-N-AS/8000",
          "SK-N-AS/4000",
          "NB-1/12000",
          "KNS-42/8000",
          "IMR32/4000",
          "SK-N-MC/12000",
          "U2-OS/8000",
          "ONS-76/2000",
          "PA1/4000",
          "SJSA-1/2000",
          "SJSA-1/8000",
          "CHP212/8000",
          "ONS-76/8000",
          "NB-1/8000",
          "SJSA-1/4000",
          "ONS-76/4000",
          "CHP212/12000",
          "Saos-2/12000",
          "G402/8000",
          "G402/4000",
          "DAOY/12000",
          "ONS-76/12000",
          "U2-OS/12000",
          "G401/12000",
          "KNS-42/12000",
          "PA1/4000",
          "ONS-76/12000",
          "ONS-76/8000",
          "IMR32/2000",
          "G402/12000",
          "ONS-76/12000",
          "DAOY/8000",
          "SK-N-AS/12000",
          "KNS-42/12000",
          "IMR32/8000",
          "U2-OS/2000",
          "A673/8000",
          "IMR32/12000",
          "DAOY/4000",
          "ONS-76/4000",
          "NB-1/4000",
          "U2-OS/4000",
          "SK-N-MC/12000",
          "SK-N-AS/8000",
          "CHP212/4000",
          "IMR32/8000",
          "Saos-2/12000",
          "Saos-2/8000",
          "IMR32/12000",
          "G401/12000",
          "ONS-76/8000",
          "CHP212/8000",
          "NB-1/8000",
          "SK-N-AS/2000",
          "PA1/1000",
          "IMR32/4000",
          "SK-N-MC/4000",
          "SK-N-MC/8000",
          "SK-N-AS/4000",
          "G402/2000",
          "G401/4000",
          "KP-N-YN/12000",
          "Saos-2/8000",
          "G402/4000",
          "G401/8000",
          "SJSA-1/4000",
          "SH-SY5Y/12000",
          "U2-OS/8000",
          "DAOY/2000",
          "ONS-76/1000",
          "G401/12000",
          "A673/4000",
          "A673/12000",
          "SJSA-1/1000",
          "NB-1/2000",
          "SJSA-1/2000",
          "SK-N-MC/2000",
          "IMR32/1000",
          "DAOY/12000",
          "KP-N-YN/12000",
          "NB-1/4000",
          "SH-SY5Y/12000",
          "U2-OS/1000",
          "G402/12000",
          "SH-SY5Y/8000",
          "DAOY/8000",
          "Saos-2/12000",
          "G402/8000",
          "KP-N-YN/12000",
          "KP-N-YN/8000",
          "CHP212/4000",
          "Saos-2/4000",
          "G292/12000",
          "KP-N-YN/8000",
          "SH-SY5Y/4000",
          "G292/12000",
          "DAOY/4000",
          "U2-OS/2000",
          "SH-SY5Y/8000",
          "KNS-42/4000",
          "G401/8000",
          "ONS-76/2000",
          "ONS-76/4000",
          "IMR32/2000",
          "Saos-2/8000",
          "PA1/2000",
          "A673/12000",
          "SK-N-MC/8000",
          "DAOY/1000",
          "IMR32/12000",
          "CHP212/2000",
          "U2-OS/4000",
          "SH-SY5Y/4000",
          "KP-N-YN/8000",
          "NB-1/4000",
          "SH-SY5Y/12000",
          "IMR32/8000",
          "SH-SY5Y/2000",
          "NB-1/2000",
          "SK-N-AS/8000",
          "SK-N-MC/4000",
          "A673/8000",
          "G402/4000",
          "SK-N-AS/2000",
          "SJSA-1/2000",
          "SJSA-1/1000",
          "DAOY/2000",
          "IMR32/4000",
          "PA1/8000",
          "NB-1/1000",
          "SK-N-AS/4000",
          "SK-N-AS/1000",
          "SH-SY5Y/8000",
          "G401/4000",
          "G402/2000",
          "G401/8000",
          "SK-N-MC/2000",
          "KP-N-YN/4000",
          "CHP212/2000",
          "KNS-42/4000",
          "U2-OS/1000",
          "CHP212/4000",
          "SK-N-AS/12000",
          "G402/1000",
          "KP-N-YN/4000",
          "NB-1/2000",
          "Saos-2/4000",
          "IMR32/1000",
          "Saos-2/2000",
          "U2-OS/2000",
          "G292/8000",
          "KP-N-YN/4000",
          "G401/2000",
          "ONS-76/1000",
          "KNS-42/2000",
          "G292/12000",
          "SH-SY5Y/2000",
          "CHP212/1000",
          "A673/12000",
          "A673/4000",
          "A673/2000",
          "PA1/1000",
          "KNS-42/4000",
          "DAOY/1000",
          "NB-1/1000",
          "DAOY/8000",
          "DAOY/12000",
          "SK-N-MC/2000",
          "KP-N-YN/2000",
          "A673/8000",
          "SK-N-MC/1000",
          "SH-SY5Y/4000",
          "SK-N-AS/2000",
          "Saos-2/2000",
          "ONS-76/2000",
          "CHP212/2000",
          "G401/1000",
          "G292/4000",
          "DAOY/4000",
          "G402/2000",
          "IMR32/2000",
          "SJSA-1/1000",
          "G401/2000",
          "SH-SY5Y/1000",
          "KP-N-YN/2000",
          "KNS-42/2000",
          "Saos-2/1000",
          "KP-N-YN/2000",
          "A673/4000",
          "SK-N-AS/1000",
          "G292/8000",
          "SK-N-MC/12000",
          "Saos-2/4000",
          "CHP212/1000",
          "U2-OS/1000",
          "SK-N-MC/1000",
          "DAOY/2000",
          "NB-1/1000",
          "KNS-42/1000",
          "G402/1000",
          "Saos-2/1000",
          "Saos-2/2000",
          "G401/4000",
          "SK-N-MC/1000",
          "A673/2000",
          "IMR32/1000",
          "SH-SY5Y/2000",
          "G401/2000",
          "KNS-42/2000",
          "SH-SY5Y/1000",
          "A673/2000",
          "G292/2000",
          "A673/1000",
          "G401/1000",
          "SK-N-AS/1000",
          "G402/1000",
          "KNS-42/1000",
          "CHP212/1000",
          "KP-N-YN/1000",
          "G292/4000",
          "KP-N-YN/1000",
          "DAOY/1000",
          "KP-N-YN/1000",
          "Saos-2/1000",
          "A673/1000",
          "KNS-42/1000",
          "G292/1000",
          "G292/8000",
          "G401/1000",
          "G292/4000",
          "G292/2000",
          "SH-SY5Y/1000",
          "ONS-76/1000",
          "G292/1000",
          "G292/1000",
          "A673/1000",
          "G292/2000",
          "U2-OS",
          "U2-OS",
          "NB-1",
          "PA1",
          "KNS-42",
          "PA1",
          "SK-N-MC",
          "CHP212",
          "SJSA-1",
          "PA1",
          "SK-N-AS",
          "U2-OS",
          "PA1",
          "SJSA-1",
          "PA1",
          "SJSA-1",
          "NB-1",
          "G402",
          "CHP212",
          "G402",
          "SK-N-MC",
          "KNS-42",
          "SK-N-AS",
          "SK-N-AS",
          "IMR32",
          "SK-N-MC",
          "ONS-76",
          "SJSA-1",
          "ONS-76",
          "ONS-76",
          "Saos-2",
          "G402",
          "DAOY",
          "ONS-76",
          "G401",
          "IMR32",
          "DAOY",
          "IMR32",
          "U2-OS",
          "A673",
          "IMR32",
          "DAOY",
          "NB-1",
          "CHP212",
          "Saos-2",
          "SK-N-AS",
          "G402",
          "G401",
          "KP-N-YN",
          "G401",
          "SH-SY5Y",
          "DAOY",
          "ONS-76",
          "A673",
          "A673",
          "SJSA-1",
          "NB-1",
          "SK-N-MC",
          "IMR32",
          "U2-OS",
          "SH-SY5Y",
          "KP-N-YN",
          "Saos-2",
          "G292",
          "SH-SY5Y",
          "KNS-42",
          "DAOY",
          "CHP212",
          "SH-SY5Y",
          "NB-1",
          "SK-N-AS",
          "KP-N-YN",
          "G402",
          "Saos-2",
          "G292",
          "G401",
          "KNS-42",
          "CHP212",
          "A673",
          "KP-N-YN",
          "SK-N-MC",
          "G401",
          "G292",
          "SH-SY5Y",
          "Saos-2",
          "KNS-42",
          "G292",
          "A673",
          "KP-N-YN",
          "G292",
          "",
          "",
          "",
          "",
          "",
          "",
          "",
          "",
          "",
          "",
          "",
          "",
          "",
          "",
          "",
          "",
          "",
          ""
         ],
         "type": "treemap",
         "values": {
          "bdata": "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",
          "dtype": "f8"
         }
        }
       ],
       "layout": {
        "legend": {
         "tracegroupgap": 0
        },
        "template": {
         "data": {
          "bar": [
           {
            "error_x": {
             "color": "#2a3f5f"
            },
            "error_y": {
             "color": "#2a3f5f"
            },
            "marker": {
             "line": {
              "color": "#E5ECF6",
              "width": 0.5
             },
             "pattern": {
              "fillmode": "overlay",
              "size": 10,
              "solidity": 0.2
             }
            },
            "type": "bar"
           }
          ],
          "barpolar": [
           {
            "marker": {
             "line": {
              "color": "#E5ECF6",
              "width": 0.5
             },
             "pattern": {
              "fillmode": "overlay",
              "size": 10,
              "solidity": 0.2
             }
            },
            "type": "barpolar"
           }
          ],
          "carpet": [
           {
            "aaxis": {
             "endlinecolor": "#2a3f5f",
             "gridcolor": "white",
             "linecolor": "white",
             "minorgridcolor": "white",
             "startlinecolor": "#2a3f5f"
            },
            "baxis": {
             "endlinecolor": "#2a3f5f",
             "gridcolor": "white",
             "linecolor": "white",
             "minorgridcolor": "white",
             "startlinecolor": "#2a3f5f"
            },
            "type": "carpet"
           }
          ],
          "choropleth": [
           {
            "colorbar": {
             "outlinewidth": 0,
             "ticks": ""
            },
            "type": "choropleth"
           }
          ],
          "contour": [
           {
            "colorbar": {
             "outlinewidth": 0,
             "ticks": ""
            },
            "colorscale": [
             [
              0.0,
              "#0d0887"
             ],
             [
              0.1111111111111111,
              "#46039f"
             ],
             [
              0.2222222222222222,
              "#7201a8"
             ],
             [
              0.3333333333333333,
              "#9c179e"
             ],
             [
              0.4444444444444444,
              "#bd3786"
             ],
             [
              0.5555555555555556,
              "#d8576b"
             ],
             [
              0.6666666666666666,
              "#ed7953"
             ],
             [
              0.7777777777777778,
              "#fb9f3a"
             ],
             [
              0.8888888888888888,
              "#fdca26"
             ],
             [
              1.0,
              "#f0f921"
             ]
            ],
            "type": "contour"
           }
          ],
          "contourcarpet": [
           {
            "colorbar": {
             "outlinewidth": 0,
             "ticks": ""
            },
            "type": "contourcarpet"
           }
          ],
          "heatmap": [
           {
            "colorbar": {
             "outlinewidth": 0,
             "ticks": ""
            },
            "colorscale": [
             [
              0.0,
              "#0d0887"
             ],
             [
              0.1111111111111111,
              "#46039f"
             ],
             [
              0.2222222222222222,
              "#7201a8"
             ],
             [
              0.3333333333333333,
              "#9c179e"
             ],
             [
              0.4444444444444444,
              "#bd3786"
             ],
             [
              0.5555555555555556,
              "#d8576b"
             ],
             [
              0.6666666666666666,
              "#ed7953"
             ],
             [
              0.7777777777777778,
              "#fb9f3a"
             ],
             [
              0.8888888888888888,
              "#fdca26"
             ],
             [
              1.0,
              "#f0f921"
             ]
            ],
            "type": "heatmap"
           }
          ],
          "histogram": [
           {
            "marker": {
             "pattern": {
              "fillmode": "overlay",
              "size": 10,
              "solidity": 0.2
             }
            },
            "type": "histogram"
           }
          ],
          "histogram2d": [
           {
            "colorbar": {
             "outlinewidth": 0,
             "ticks": ""
            },
            "colorscale": [
             [
              0.0,
              "#0d0887"
             ],
             [
              0.1111111111111111,
              "#46039f"
             ],
             [
              0.2222222222222222,
              "#7201a8"
             ],
             [
              0.3333333333333333,
              "#9c179e"
             ],
             [
              0.4444444444444444,
              "#bd3786"
             ],
             [
              0.5555555555555556,
              "#d8576b"
             ],
             [
              0.6666666666666666,
              "#ed7953"
             ],
             [
              0.7777777777777778,
              "#fb9f3a"
             ],
             [
              0.8888888888888888,
              "#fdca26"
             ],
             [
              1.0,
              "#f0f921"
             ]
            ],
            "type": "histogram2d"
           }
          ],
          "histogram2dcontour": [
           {
            "colorbar": {
             "outlinewidth": 0,
             "ticks": ""
            },
            "colorscale": [
             [
              0.0,
              "#0d0887"
             ],
             [
              0.1111111111111111,
              "#46039f"
             ],
             [
              0.2222222222222222,
              "#7201a8"
             ],
             [
              0.3333333333333333,
              "#9c179e"
             ],
             [
              0.4444444444444444,
              "#bd3786"
             ],
             [
              0.5555555555555556,
              "#d8576b"
             ],
             [
              0.6666666666666666,
              "#ed7953"
             ],
             [
              0.7777777777777778,
              "#fb9f3a"
             ],
             [
              0.8888888888888888,
              "#fdca26"
             ],
             [
              1.0,
              "#f0f921"
             ]
            ],
            "type": "histogram2dcontour"
           }
          ],
          "mesh3d": [
           {
            "colorbar": {
             "outlinewidth": 0,
             "ticks": ""
            },
            "type": "mesh3d"
           }
          ],
          "parcoords": [
           {
            "line": {
             "colorbar": {
              "outlinewidth": 0,
              "ticks": ""
             }
            },
            "type": "parcoords"
           }
          ],
          "pie": [
           {
            "automargin": true,
            "type": "pie"
           }
          ],
          "scatter": [
           {
            "fillpattern": {
             "fillmode": "overlay",
             "size": 10,
             "solidity": 0.2
            },
            "type": "scatter"
           }
          ],
          "scatter3d": [
           {
            "line": {
             "colorbar": {
              "outlinewidth": 0,
              "ticks": ""
             }
            },
            "marker": {
             "colorbar": {
              "outlinewidth": 0,
              "ticks": ""
             }
            },
            "type": "scatter3d"
           }
          ],
          "scattercarpet": [
           {
            "marker": {
             "colorbar": {
              "outlinewidth": 0,
              "ticks": ""
             }
            },
            "type": "scattercarpet"
           }
          ],
          "scattergeo": [
           {
            "marker": {
             "colorbar": {
              "outlinewidth": 0,
              "ticks": ""
             }
            },
            "type": "scattergeo"
           }
          ],
          "scattergl": [
           {
            "marker": {
             "colorbar": {
              "outlinewidth": 0,
              "ticks": ""
             }
            },
            "type": "scattergl"
           }
          ],
          "scattermap": [
           {
            "marker": {
             "colorbar": {
              "outlinewidth": 0,
              "ticks": ""
             }
            },
            "type": "scattermap"
           }
          ],
          "scattermapbox": [
           {
            "marker": {
             "colorbar": {
              "outlinewidth": 0,
              "ticks": ""
             }
            },
            "type": "scattermapbox"
           }
          ],
          "scatterpolar": [
           {
            "marker": {
             "colorbar": {
              "outlinewidth": 0,
              "ticks": ""
             }
            },
            "type": "scatterpolar"
           }
          ],
          "scatterpolargl": [
           {
            "marker": {
             "colorbar": {
              "outlinewidth": 0,
              "ticks": ""
             }
            },
            "type": "scatterpolargl"
           }
          ],
          "scatterternary": [
           {
            "marker": {
             "colorbar": {
              "outlinewidth": 0,
              "ticks": ""
             }
            },
            "type": "scatterternary"
           }
          ],
          "surface": [
           {
            "colorbar": {
             "outlinewidth": 0,
             "ticks": ""
            },
            "colorscale": [
             [
              0.0,
              "#0d0887"
             ],
             [
              0.1111111111111111,
              "#46039f"
             ],
             [
              0.2222222222222222,
              "#7201a8"
             ],
             [
              0.3333333333333333,
              "#9c179e"
             ],
             [
              0.4444444444444444,
              "#bd3786"
             ],
             [
              0.5555555555555556,
              "#d8576b"
             ],
             [
              0.6666666666666666,
              "#ed7953"
             ],
             [
              0.7777777777777778,
              "#fb9f3a"
             ],
             [
              0.8888888888888888,
              "#fdca26"
             ],
             [
              1.0,
              "#f0f921"
             ]
            ],
            "type": "surface"
           }
          ],
          "table": [
           {
            "cells": {
             "fill": {
              "color": "#EBF0F8"
             },
             "line": {
              "color": "white"
             }
            },
            "header": {
             "fill": {
              "color": "#C8D4E3"
             },
             "line": {
              "color": "white"
             }
            },
            "type": "table"
           }
          ]
         },
         "layout": {
          "annotationdefaults": {
           "arrowcolor": "#2a3f5f",
           "arrowhead": 0,
           "arrowwidth": 1
          },
          "autotypenumbers": "strict",
          "coloraxis": {
           "colorbar": {
            "outlinewidth": 0,
            "ticks": ""
           }
          },
          "colorscale": {
           "diverging": [
            [
             0,
             "#8e0152"
            ],
            [
             0.1,
             "#c51b7d"
            ],
            [
             0.2,
             "#de77ae"
            ],
            [
             0.3,
             "#f1b6da"
            ],
            [
             0.4,
             "#fde0ef"
            ],
            [
             0.5,
             "#f7f7f7"
            ],
            [
             0.6,
             "#e6f5d0"
            ],
            [
             0.7,
             "#b8e186"
            ],
            [
             0.8,
             "#7fbc41"
            ],
            [
             0.9,
             "#4d9221"
            ],
            [
             1,
             "#276419"
            ]
           ],
           "sequential": [
            [
             0.0,
             "#0d0887"
            ],
            [
             0.1111111111111111,
             "#46039f"
            ],
            [
             0.2222222222222222,
             "#7201a8"
            ],
            [
             0.3333333333333333,
             "#9c179e"
            ],
            [
             0.4444444444444444,
             "#bd3786"
            ],
            [
             0.5555555555555556,
             "#d8576b"
            ],
            [
             0.6666666666666666,
             "#ed7953"
            ],
            [
             0.7777777777777778,
             "#fb9f3a"
            ],
            [
             0.8888888888888888,
             "#fdca26"
            ],
            [
             1.0,
             "#f0f921"
            ]
           ],
           "sequentialminus": [
            [
             0.0,
             "#0d0887"
            ],
            [
             0.1111111111111111,
             "#46039f"
            ],
            [
             0.2222222222222222,
             "#7201a8"
            ],
            [
             0.3333333333333333,
             "#9c179e"
            ],
            [
             0.4444444444444444,
             "#bd3786"
            ],
            [
             0.5555555555555556,
             "#d8576b"
            ],
            [
             0.6666666666666666,
             "#ed7953"
            ],
            [
             0.7777777777777778,
             "#fb9f3a"
            ],
            [
             0.8888888888888888,
             "#fdca26"
            ],
            [
             1.0,
             "#f0f921"
            ]
           ]
          },
          "colorway": [
           "#636efa",
           "#EF553B",
           "#00cc96",
           "#ab63fa",
           "#FFA15A",
           "#19d3f3",
           "#FF6692",
           "#B6E880",
           "#FF97FF",
           "#FECB52"
          ],
          "font": {
           "color": "#2a3f5f"
          },
          "geo": {
           "bgcolor": "white",
           "lakecolor": "white",
           "landcolor": "#E5ECF6",
           "showlakes": true,
           "showland": true,
           "subunitcolor": "white"
          },
          "hoverlabel": {
           "align": "left"
          },
          "hovermode": "closest",
          "mapbox": {
           "style": "light"
          },
          "paper_bgcolor": "white",
          "plot_bgcolor": "#E5ECF6",
          "polar": {
           "angularaxis": {
            "gridcolor": "white",
            "linecolor": "white",
            "ticks": ""
           },
           "bgcolor": "#E5ECF6",
           "radialaxis": {
            "gridcolor": "white",
            "linecolor": "white",
            "ticks": ""
           }
          },
          "scene": {
           "xaxis": {
            "backgroundcolor": "#E5ECF6",
            "gridcolor": "white",
            "gridwidth": 2,
            "linecolor": "white",
            "showbackground": true,
            "ticks": "",
            "zerolinecolor": "white"
           },
           "yaxis": {
            "backgroundcolor": "#E5ECF6",
            "gridcolor": "white",
            "gridwidth": 2,
            "linecolor": "white",
            "showbackground": true,
            "ticks": "",
            "zerolinecolor": "white"
           },
           "zaxis": {
            "backgroundcolor": "#E5ECF6",
            "gridcolor": "white",
            "gridwidth": 2,
            "linecolor": "white",
            "showbackground": true,
            "ticks": "",
            "zerolinecolor": "white"
           }
          },
          "shapedefaults": {
           "line": {
            "color": "#2a3f5f"
           }
          },
          "ternary": {
           "aaxis": {
            "gridcolor": "white",
            "linecolor": "white",
            "ticks": ""
           },
           "baxis": {
            "gridcolor": "white",
            "linecolor": "white",
            "ticks": ""
           },
           "bgcolor": "#E5ECF6",
           "caxis": {
            "gridcolor": "white",
            "linecolor": "white",
            "ticks": ""
           }
          },
          "title": {
           "x": 0.05
          },
          "xaxis": {
           "automargin": true,
           "gridcolor": "white",
           "linecolor": "white",
           "ticks": "",
           "title": {
            "standoff": 15
           },
           "zerolinecolor": "white",
           "zerolinewidth": 2
          },
          "yaxis": {
           "automargin": true,
           "gridcolor": "white",
           "linecolor": "white",
           "ticks": "",
           "title": {
            "standoff": 15
           },
           "zerolinecolor": "white",
           "zerolinewidth": 2
          }
         }
        },
        "title": {
         "text": "Treemap of Category Combinations"
        }
       }
      }
     },
     "metadata": {},
     "output_type": "display_data"
    }
   ],
   "source": [
    "cellcountdf = (\n",
    "    round1df[[\"Metadata_cell_line\", \"Metadata_seeding_density\", \"Metadata_time_point\"]]\n",
    "    .value_counts()\n",
    "    .reset_index(name=\"count\")\n",
    ")\n",
    "\n",
    "fig = px.treemap(\n",
    "    cellcountdf,\n",
    "    path=[\"Metadata_cell_line\", \"Metadata_seeding_density\", \"Metadata_time_point\"],\n",
    "    values=\"count\",\n",
    "    title=\"Treemap of Category Combinations\",\n",
    ")\n",
    "\n",
    "fig.show()\n",
    "fig.write_image(static_figure_path / \"cell_count_treemap.png\", width=2000, height=1200)\n",
    "fig.write_html(\n",
    "    int_figure_path / \"cell_count_treemap.html\",\n",
    "    full_html=True,\n",
    "    include_plotlyjs=\"embed\",\n",
    ")"
   ]
  }
 ],
 "metadata": {
  "anaconda-cloud": {},
  "kernelspec": {
   "display_name": "python",
   "language": "python",
   "name": "python3"
  },
  "language_info": {
   "codemirror_mode": {
    "name": "ipython",
    "version": 3
   },
   "file_extension": ".py",
   "mimetype": "text/x-python",
   "name": "python",
   "nbconvert_exporter": "python",
   "pygments_lexer": "ipython3",
   "version": "3.11.0rc1"
  }
 },
 "nbformat": 4,
 "nbformat_minor": 4
}
