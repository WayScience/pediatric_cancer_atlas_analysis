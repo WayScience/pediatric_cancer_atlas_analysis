{
 "cells": [
  {
   "cell_type": "markdown",
   "metadata": {
    "jukit_cell_id": "lM8dYQPBT5"
   },
   "source": [
    "# Explore Round 1 Data Patterns\n",
    "An exploration of the round 1 data to understand prominent patterns."
   ]
  },
  {
   "cell_type": "code",
   "execution_count": 1,
   "metadata": {
    "execution": {
     "iopub.execute_input": "2025-07-03T22:22:24.893575Z",
     "iopub.status.busy": "2025-07-03T22:22:24.893443Z",
     "iopub.status.idle": "2025-07-03T22:22:27.773577Z",
     "shell.execute_reply": "2025-07-03T22:22:27.773218Z"
    },
    "jukit_cell_id": "chKOlruhvo"
   },
   "outputs": [
    {
     "name": "stderr",
     "output_type": "stream",
     "text": [
      "/home/camo/projects/pediatric_cancer_atlas_analysis/1.exploratory_data_analysis/.venv/lib/python3.11/site-packages/tqdm/auto.py:21: TqdmWarning: IProgress not found. Please update jupyter and ipywidgets. See https://ipywidgets.readthedocs.io/en/stable/user_install.html\n",
      "  from .autonotebook import tqdm as notebook_tqdm\n"
     ]
    }
   ],
   "source": [
    "import pathlib\n",
    "\n",
    "import kaleido\n",
    "import pandas as pd\n",
    "import plotly.express as px\n",
    "import plotly.io as pio\n",
    "from umap import UMAP"
   ]
  },
  {
   "cell_type": "markdown",
   "metadata": {
    "jukit_cell_id": "fodzHP9szp"
   },
   "source": [
    "## Find the root of the git repo on the host system"
   ]
  },
  {
   "cell_type": "code",
   "execution_count": 2,
   "metadata": {
    "execution": {
     "iopub.execute_input": "2025-07-03T22:22:27.775388Z",
     "iopub.status.busy": "2025-07-03T22:22:27.775085Z",
     "iopub.status.idle": "2025-07-03T22:22:27.777765Z",
     "shell.execute_reply": "2025-07-03T22:22:27.777479Z"
    },
    "jukit_cell_id": "RPnfSxTAVa"
   },
   "outputs": [],
   "source": [
    "# Get the current working directory\n",
    "cwd = pathlib.Path.cwd()\n",
    "\n",
    "if (cwd / \".git\").is_dir():\n",
    "    root_dir = cwd\n",
    "\n",
    "else:\n",
    "    root_dir = None\n",
    "    for parent in cwd.parents:\n",
    "        if (parent / \".git\").is_dir():\n",
    "            root_dir = parent\n",
    "            break\n",
    "\n",
    "# Check if a Git root directory was found\n",
    "if root_dir is None:\n",
    "    raise FileNotFoundError(\"No Git root directory found.\")"
   ]
  },
  {
   "cell_type": "markdown",
   "metadata": {
    "jukit_cell_id": "UzvLnM8utC"
   },
   "source": [
    "# Inputs"
   ]
  },
  {
   "cell_type": "code",
   "execution_count": 3,
   "metadata": {
    "execution": {
     "iopub.execute_input": "2025-07-03T22:22:27.778980Z",
     "iopub.status.busy": "2025-07-03T22:22:27.778810Z",
     "iopub.status.idle": "2025-07-03T22:22:49.193837Z",
     "shell.execute_reply": "2025-07-03T22:22:49.193389Z"
    },
    "jukit_cell_id": "hploOEYYGN"
   },
   "outputs": [],
   "source": [
    "pilot_path = root_dir / \"big_drive/alsf/ALSF_pilot_data\"\n",
    "\n",
    "round1_profiles_path = (\n",
    "    pilot_path / \"preprocessed_profiles_SN0313537/single_cell_profiles\"\n",
    ").resolve(strict=True)\n",
    "\n",
    "common_cols = None\n",
    "\n",
    "for pq_file in list(round1_profiles_path.rglob(\"*feature_selected.parquet\")):\n",
    "    cols = pd.read_parquet(pq_file).columns\n",
    "    if common_cols is None:\n",
    "        common_cols = set(cols)\n",
    "\n",
    "    else:\n",
    "        common_cols &= set(cols)\n",
    "\n",
    "round1df = pd.concat(\n",
    "    [\n",
    "        pd.read_parquet(pq_file, columns=common_cols)\n",
    "        for pq_file in round1_profiles_path.rglob(\"*feature_selected.parquet\")\n",
    "    ],\n",
    "    axis=0,\n",
    ")"
   ]
  },
  {
   "cell_type": "code",
   "execution_count": 4,
   "metadata": {
    "execution": {
     "iopub.execute_input": "2025-07-03T22:22:49.195326Z",
     "iopub.status.busy": "2025-07-03T22:22:49.195213Z",
     "iopub.status.idle": "2025-07-03T22:22:49.197666Z",
     "shell.execute_reply": "2025-07-03T22:22:49.197305Z"
    },
    "jukit_cell_id": "aVI8vugmwG"
   },
   "outputs": [],
   "source": [
    "round1_figure_path = pathlib.Path(\"round1_figures\")\n",
    "\n",
    "int_figure_path = round1_figure_path / \"interactive_figures\"\n",
    "int_figure_path.mkdir(parents=True, exist_ok=True)\n",
    "\n",
    "static_figure_path = round1_figure_path / \"static_figures\"\n",
    "static_figure_path.mkdir(parents=True, exist_ok=True)"
   ]
  },
  {
   "cell_type": "markdown",
   "metadata": {
    "jukit_cell_id": "LoSAqYPOTT"
   },
   "source": [
    "# High-Level Data Characteristics"
   ]
  },
  {
   "cell_type": "code",
   "execution_count": 5,
   "metadata": {
    "execution": {
     "iopub.execute_input": "2025-07-03T22:22:49.198851Z",
     "iopub.status.busy": "2025-07-03T22:22:49.198670Z",
     "iopub.status.idle": "2025-07-03T22:22:49.200738Z",
     "shell.execute_reply": "2025-07-03T22:22:49.200407Z"
    },
    "jukit_cell_id": "sW5ZMw6kqN"
   },
   "outputs": [
    {
     "name": "stdout",
     "output_type": "stream",
     "text": [
      "(2271735, 555)\n"
     ]
    }
   ],
   "source": [
    "print(round1df.shape)"
   ]
  },
  {
   "cell_type": "code",
   "execution_count": 6,
   "metadata": {
    "execution": {
     "iopub.execute_input": "2025-07-03T22:22:49.201722Z",
     "iopub.status.busy": "2025-07-03T22:22:49.201626Z",
     "iopub.status.idle": "2025-07-03T22:22:49.980700Z",
     "shell.execute_reply": "2025-07-03T22:22:49.980269Z"
    },
    "jukit_cell_id": "QGVlS1LFBd"
   },
   "outputs": [
    {
     "name": "stdout",
     "output_type": "stream",
     "text": [
      "Are there any NaN entries?\n"
     ]
    },
    {
     "name": "stdout",
     "output_type": "stream",
     "text": [
      "Answer: False\n"
     ]
    }
   ],
   "source": [
    "print(\"Are there any NaN entries?\")\n",
    "print(f\"Answer: {round1df.isna().any().any()}\")"
   ]
  },
  {
   "cell_type": "markdown",
   "metadata": {
    "jukit_cell_id": "BiLzGTCOop"
   },
   "source": [
    "## Metadata Exploration"
   ]
  },
  {
   "cell_type": "code",
   "execution_count": 7,
   "metadata": {
    "execution": {
     "iopub.execute_input": "2025-07-03T22:22:49.981914Z",
     "iopub.status.busy": "2025-07-03T22:22:49.981811Z",
     "iopub.status.idle": "2025-07-03T22:22:50.048693Z",
     "shell.execute_reply": "2025-07-03T22:22:50.048245Z"
    },
    "jukit_cell_id": "bkvItDJtwz"
   },
   "outputs": [
    {
     "data": {
      "text/plain": [
       "<StringArray>\n",
       "['BR00143977', 'BR00143980', 'BR00143978', 'BR00143981', 'BR00143979',\n",
       " 'BR00143976']\n",
       "Length: 6, dtype: string"
      ]
     },
     "execution_count": 7,
     "metadata": {},
     "output_type": "execute_result"
    }
   ],
   "source": [
    "round1df[\"Metadata_Plate\"].unique()"
   ]
  },
  {
   "cell_type": "code",
   "execution_count": 8,
   "metadata": {
    "execution": {
     "iopub.execute_input": "2025-07-03T22:22:50.049942Z",
     "iopub.status.busy": "2025-07-03T22:22:50.049835Z",
     "iopub.status.idle": "2025-07-03T22:22:50.058341Z",
     "shell.execute_reply": "2025-07-03T22:22:50.058036Z"
    },
    "jukit_cell_id": "u1vbFm46Nk"
   },
   "outputs": [
    {
     "data": {
      "text/plain": [
       "array([24, 72, 48])"
      ]
     },
     "execution_count": 8,
     "metadata": {},
     "output_type": "execute_result"
    }
   ],
   "source": [
    "round1df[\"Metadata_time_point\"].unique()"
   ]
  },
  {
   "cell_type": "code",
   "execution_count": 9,
   "metadata": {
    "execution": {
     "iopub.execute_input": "2025-07-03T22:22:50.059396Z",
     "iopub.status.busy": "2025-07-03T22:22:50.059296Z",
     "iopub.status.idle": "2025-07-03T22:22:50.067640Z",
     "shell.execute_reply": "2025-07-03T22:22:50.067359Z"
    },
    "jukit_cell_id": "FD0QX97dxp"
   },
   "outputs": [
    {
     "name": "stdout",
     "output_type": "stream",
     "text": [
      "\n",
      "Unique timepoints:\n"
     ]
    },
    {
     "data": {
      "text/plain": [
       "array([24, 72, 48])"
      ]
     },
     "execution_count": 9,
     "metadata": {},
     "output_type": "execute_result"
    }
   ],
   "source": [
    "print(\"\\nUnique timepoints:\")\n",
    "round1df[\"Metadata_time_point\"].unique()"
   ]
  },
  {
   "cell_type": "code",
   "execution_count": 10,
   "metadata": {
    "execution": {
     "iopub.execute_input": "2025-07-03T22:22:50.068821Z",
     "iopub.status.busy": "2025-07-03T22:22:50.068557Z",
     "iopub.status.idle": "2025-07-03T22:22:50.077175Z",
     "shell.execute_reply": "2025-07-03T22:22:50.076871Z"
    },
    "jukit_cell_id": "bQ8nuxMNiR"
   },
   "outputs": [
    {
     "name": "stdout",
     "output_type": "stream",
     "text": [
      "\n",
      "Unique Seeding Densities:\n"
     ]
    },
    {
     "data": {
      "text/plain": [
       "array([ 1000,  2000,  4000,  8000, 12000])"
      ]
     },
     "execution_count": 10,
     "metadata": {},
     "output_type": "execute_result"
    }
   ],
   "source": [
    "print(\"\\nUnique Seeding Densities:\")\n",
    "round1df[\"Metadata_seeding_density\"].unique()"
   ]
  },
  {
   "cell_type": "code",
   "execution_count": 11,
   "metadata": {
    "execution": {
     "iopub.execute_input": "2025-07-03T22:22:50.078250Z",
     "iopub.status.busy": "2025-07-03T22:22:50.078152Z",
     "iopub.status.idle": "2025-07-03T22:22:50.086834Z",
     "shell.execute_reply": "2025-07-03T22:22:50.086533Z"
    },
    "jukit_cell_id": "4gr4EFd0uD"
   },
   "outputs": [
    {
     "data": {
      "text/plain": [
       "Metadata_seeding_density\n",
       "12000    741226\n",
       "8000     650241\n",
       "4000     460244\n",
       "2000     277229\n",
       "1000     142795\n",
       "Name: count, dtype: int64"
      ]
     },
     "execution_count": 11,
     "metadata": {},
     "output_type": "execute_result"
    }
   ],
   "source": [
    "round1df[\"Metadata_seeding_density\"].value_counts()"
   ]
  },
  {
   "cell_type": "code",
   "execution_count": 12,
   "metadata": {
    "execution": {
     "iopub.execute_input": "2025-07-03T22:22:50.087910Z",
     "iopub.status.busy": "2025-07-03T22:22:50.087710Z",
     "iopub.status.idle": "2025-07-03T22:22:50.139620Z",
     "shell.execute_reply": "2025-07-03T22:22:50.139259Z"
    },
    "jukit_cell_id": "ApqdsLAWPX"
   },
   "outputs": [
    {
     "data": {
      "text/plain": [
       "array(['KP-N-YN', 'NB-1', 'ONS-76', 'SJSA-1', 'SK-N-AS', 'KNS-42',\n",
       "       'U2-OS', 'DAOY', 'IMR32', 'PA1', 'SK-N-MC', 'CHP212', 'SH-SY5Y',\n",
       "       'A673', 'G292', 'G401', 'G402', 'Saos-2'], dtype=object)"
      ]
     },
     "execution_count": 12,
     "metadata": {},
     "output_type": "execute_result"
    }
   ],
   "source": [
    "round1df[\"Metadata_cell_line\"].unique()"
   ]
  },
  {
   "cell_type": "code",
   "execution_count": 13,
   "metadata": {
    "execution": {
     "iopub.execute_input": "2025-07-03T22:22:50.140778Z",
     "iopub.status.busy": "2025-07-03T22:22:50.140673Z",
     "iopub.status.idle": "2025-07-03T22:22:50.148977Z",
     "shell.execute_reply": "2025-07-03T22:22:50.148663Z"
    },
    "jukit_cell_id": "qrhKm33V6n"
   },
   "outputs": [
    {
     "data": {
      "text/plain": [
       "1016"
      ]
     },
     "execution_count": 13,
     "metadata": {},
     "output_type": "execute_result"
    }
   ],
   "source": [
    "round1df[\"Metadata_Image_Count_Cells\"].nunique()"
   ]
  },
  {
   "cell_type": "code",
   "execution_count": 14,
   "metadata": {
    "execution": {
     "iopub.execute_input": "2025-07-03T22:22:50.149999Z",
     "iopub.status.busy": "2025-07-03T22:22:50.149901Z",
     "iopub.status.idle": "2025-07-03T22:22:50.322448Z",
     "shell.execute_reply": "2025-07-03T22:22:50.322101Z"
    },
    "jukit_cell_id": "003J5TqTgq"
   },
   "outputs": [
    {
     "data": {
      "text/plain": [
       "Metadata_Plate\n",
       "BR00143980    560822\n",
       "BR00143981    444567\n",
       "BR00143978    439236\n",
       "BR00143979    308833\n",
       "BR00143976    263755\n",
       "BR00143977    254522\n",
       "Name: count, dtype: Int64"
      ]
     },
     "execution_count": 14,
     "metadata": {},
     "output_type": "execute_result"
    }
   ],
   "source": [
    "round1df[\"Metadata_Plate\"].value_counts()"
   ]
  },
  {
   "cell_type": "markdown",
   "metadata": {
    "jukit_cell_id": "4wuYOqL58c"
   },
   "source": [
    "# UMAP Figures"
   ]
  },
  {
   "cell_type": "code",
   "execution_count": 15,
   "metadata": {
    "execution": {
     "iopub.execute_input": "2025-07-03T22:22:50.323834Z",
     "iopub.status.busy": "2025-07-03T22:22:50.323641Z",
     "iopub.status.idle": "2025-07-03T22:23:11.427272Z",
     "shell.execute_reply": "2025-07-03T22:23:11.426869Z"
    },
    "jukit_cell_id": "L34lE7aARC"
   },
   "outputs": [
    {
     "name": "stderr",
     "output_type": "stream",
     "text": [
      "/home/camo/projects/pediatric_cancer_atlas_analysis/1.exploratory_data_analysis/.venv/lib/python3.11/site-packages/umap/umap_.py:1952: UserWarning: n_jobs value 1 overridden to 1 by setting random_state. Use no seed for parallelism.\n",
      "  warn(\n"
     ]
    }
   ],
   "source": [
    "vdf = round1df.groupby(\n",
    "    [\"Metadata_cell_line\", \"Metadata_seeding_density\", \"Metadata_time_point\"]\n",
    ").sample(n=50, random_state=0)\n",
    "\n",
    "umap_obj = UMAP(random_state=0)\n",
    "umapdf = umap_obj.fit_transform(\n",
    "    vdf.loc[:, ~vdf.columns.str.contains(\"metadata\", case=False)]\n",
    ")\n",
    "umapdf = pd.DataFrame(umapdf, columns=[\"umap0\", \"umap1\"])\n",
    "umapdf = umapdf.assign(\n",
    "    Metadata_cell_line=vdf[\"Metadata_cell_line\"].reset_index(drop=True),\n",
    "    Metadata_seeding_density=vdf[\"Metadata_seeding_density\"].reset_index(drop=True),\n",
    "    Metadata_time_point=vdf[\"Metadata_time_point\"].reset_index(drop=True),\n",
    ")\n",
    "umapdf[\"Metadata_seeding_density\"] = umapdf[\"Metadata_seeding_density\"].astype(str)\n",
    "umapdf[\"Metadata_time_point\"] = umapdf[\"Metadata_time_point\"].astype(str)"
   ]
  },
  {
   "cell_type": "code",
   "execution_count": 16,
   "metadata": {
    "execution": {
     "iopub.execute_input": "2025-07-03T22:23:11.428695Z",
     "iopub.status.busy": "2025-07-03T22:23:11.428587Z",
     "iopub.status.idle": "2025-07-03T22:23:15.234679Z",
     "shell.execute_reply": "2025-07-03T22:23:15.234228Z"
    },
    "jukit_cell_id": "ieSDyFKFQC"
   },
   "outputs": [
    {
     "data": {
      "text/plain": [
       "PosixPath('/home/camo/projects/pediatric_cancer_atlas_analysis/1.exploratory_data_analysis/.venv/lib/python3.11/site-packages/choreographer/cli/browser_exe/chrome-linux64/chrome')"
      ]
     },
     "execution_count": 16,
     "metadata": {},
     "output_type": "execute_result"
    }
   ],
   "source": [
    "# Needed to display in chrome\n",
    "kaleido.get_chrome_sync()"
   ]
  },
  {
   "cell_type": "code",
   "execution_count": 17,
   "metadata": {
    "execution": {
     "iopub.execute_input": "2025-07-03T22:23:15.235937Z",
     "iopub.status.busy": "2025-07-03T22:23:15.235713Z",
     "iopub.status.idle": "2025-07-03T22:23:18.124143Z",
     "shell.execute_reply": "2025-07-03T22:23:18.123720Z"
    },
    "jukit_cell_id": "OZ5YdxJEuG"
   },
   "outputs": [
    {
     "data": {
      "application/vnd.plotly.v1+json": {
       "config": {
        "plotlyServerURL": "https://plot.ly"
       },
       "data": [
        {
         "hovertemplate": "Metadata_cell_line=A673<br>umap0=%{x}<br>umap1=%{y}<extra></extra>",
         "legendgroup": "A673",
         "marker": {
          "color": "#2E91E5",
          "symbol": "circle"
         },
         "mode": "markers",
         "name": "A673",
         "showlegend": true,
         "type": "scattergl",
         "x": {
          "bdata": "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",
          "dtype": "f4"
         },
         "xaxis": "x",
         "y": {
          "bdata": "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",
          "dtype": "f4"
         },
         "yaxis": "y"
        },
        {
         "hovertemplate": "Metadata_cell_line=CHP212<br>umap0=%{x}<br>umap1=%{y}<extra></extra>",
         "legendgroup": "CHP212",
         "marker": {
          "color": "#E15F99",
          "symbol": "circle"
         },
         "mode": "markers",
         "name": "CHP212",
         "showlegend": true,
         "type": "scattergl",
         "x": {
          "bdata": "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",
          "dtype": "f4"
         },
         "xaxis": "x",
         "y": {
          "bdata": "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",
          "dtype": "f4"
         },
         "yaxis": "y"
        },
        {
         "hovertemplate": "Metadata_cell_line=DAOY<br>umap0=%{x}<br>umap1=%{y}<extra></extra>",
         "legendgroup": "DAOY",
         "marker": {
          "color": "#1CA71C",
          "symbol": "circle"
         },
         "mode": "markers",
         "name": "DAOY",
         "showlegend": true,
         "type": "scattergl",
         "x": {
          "bdata": "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",
          "dtype": "f4"
         },
         "xaxis": "x",
         "y": {
          "bdata": "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",
          "dtype": "f4"
         },
         "yaxis": "y"
        },
        {
         "hovertemplate": "Metadata_cell_line=G292<br>umap0=%{x}<br>umap1=%{y}<extra></extra>",
         "legendgroup": "G292",
         "marker": {
          "color": "#FB0D0D",
          "symbol": "circle"
         },
         "mode": "markers",
         "name": "G292",
         "showlegend": true,
         "type": "scattergl",
         "x": {
          "bdata": "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",
          "dtype": "f4"
         },
         "xaxis": "x",
         "y": {
          "bdata": "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",
          "dtype": "f4"
         },
         "yaxis": "y"
        },
        {
         "hovertemplate": "Metadata_cell_line=G401<br>umap0=%{x}<br>umap1=%{y}<extra></extra>",
         "legendgroup": "G401",
         "marker": {
          "color": "#DA16FF",
          "symbol": "circle"
         },
         "mode": "markers",
         "name": "G401",
         "showlegend": true,
         "type": "scattergl",
         "x": {
          "bdata": "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",
          "dtype": "f4"
         },
         "xaxis": "x",
         "y": {
          "bdata": "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",
          "dtype": "f4"
         },
         "yaxis": "y"
        },
        {
         "hovertemplate": "Metadata_cell_line=G402<br>umap0=%{x}<br>umap1=%{y}<extra></extra>",
         "legendgroup": "G402",
         "marker": {
          "color": "#222A2A",
          "symbol": "circle"
         },
         "mode": "markers",
         "name": "G402",
         "showlegend": true,
         "type": "scattergl",
         "x": {
          "bdata": "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",
          "dtype": "f4"
         },
         "xaxis": "x",
         "y": {
          "bdata": "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",
          "dtype": "f4"
         },
         "yaxis": "y"
        },
        {
         "hovertemplate": "Metadata_cell_line=IMR32<br>umap0=%{x}<br>umap1=%{y}<extra></extra>",
         "legendgroup": "IMR32",
         "marker": {
          "color": "#B68100",
          "symbol": "circle"
         },
         "mode": "markers",
         "name": "IMR32",
         "showlegend": true,
         "type": "scattergl",
         "x": {
          "bdata": "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",
          "dtype": "f4"
         },
         "xaxis": "x",
         "y": {
          "bdata": "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",
          "dtype": "f4"
         },
         "yaxis": "y"
        },
        {
         "hovertemplate": "Metadata_cell_line=KNS-42<br>umap0=%{x}<br>umap1=%{y}<extra></extra>",
         "legendgroup": "KNS-42",
         "marker": {
          "color": "#750D86",
          "symbol": "circle"
         },
         "mode": "markers",
         "name": "KNS-42",
         "showlegend": true,
         "type": "scattergl",
         "x": {
          "bdata": "Qq8Lv2uZ9T5gYKW/T+2Pvnk2mz5yMpO9YWlPwNM5I73s2Du/y0kaPkcE5b94dBM+DMuPvgFwkr9PLZI/T5L+PUeJor9dOGE/xtVWPT5J8z14lam//waIPS8Yn757TlHA/BEIvoS317+XAYa/maU1v63DMsAfXGO/tHs/PmJnmr8s2aq/MWu2voAoir88K+C+IkThvm46WL9tkbO/65K+vuTOzL3gC62/Yo2zu2k/qb/kRLC/5eWpPRF8sD9Qf02/ldMUv8d3I79wtW6+3S1ov8DHh78kK7w+1COmv+rqpb8ssZnAktN2v3tgXb3zRgM+vFdyvvrY5b1/+Ic8oLrtv6jU0j3553C/Fk5tvaRMtr99lMm+d6G2v4pUPb7R7Ay9irz1Prhuar8vZ4O+/eq6v5qTeL/n8qy/HRbAvibjgr6j/Zi/K8ljvafCqL/UnO+9wiOjv0WCFr7GlZ6/iLqov4ak4r5/g3a+QFd5PltL8D2pvsW+PPecv2gGjD0/FPO+PoF/v5hAq79XUjm+lOsavwKRb78GkZW/DdGav+Atlz8Ca4s8x98KPRsTwT9g7iM/LxWQPTFiJb/cYOW/PaWUvzIrfL4X7Dk+ccg0vrBnkL+5WAk76DKkv7wZXz+zm5O/HL8KwCEp0z/TuV+/AnePvtnWJsAvMmM9N1awvyo9cL8fSra/i9iLPq51970LD5O/0tpUv22wjr4xfRa+dqODvulcGj5jCwvASHOyvl9EXb89boc/JVEVvmZlwb0YXAY9B8ifvtf61Ds2NCq/0hyvvyonfL8yxKy/SqpZwO3Sp79cykM9E6aov1XSkT//83a/Er2/vYcdOr53bho7R/12PiaB77+P+ZM72xmePhE71L4hIj2/0mkawEby4r0v6Fg/aKDRvuMBNL7BQJ2+XX2HPqyIZj8u+TO/nPf0vwGNtb99WXO/Z7Qqv/HRpb5R3429JXCWO6NsEsCiXTq9u6PePZsMlb8IiFW+48qev4tDtL8xgNw8pX27P+XGBj+yXIG9GwLPvWVKhL+zopW/3U+sv2iCU75x7Fi/BsEgPi6DuD4Q8c2+po0bvkVvHr4gF9+/7iCFvtlzFj6rXoo9HZeJvyipiL9zNGu+rs2mPBWJoL+hAp0/V4+Sv1T12r8Vtts8f6eGv9Jwo79CIK6/KcZYwBJzNr12ZmS+1+uIv8cM2b4pDsg/DNvIvwLu6L0FDAG+KL1Uv/U4ib88hJ3A2oJZwBYaXz5vXsM/62L+vm3yOr3bNKG/yVekvn2x5L9XNJC8vUIuvrPnij4lCq4+aOPsvydbnb+zYbS+NVGbv60qo7+ht4G/l46rv8Z3Ub6QwyO9stJUvT8ejD9kZak+H6STPg3tlD7ghrG/hC/YP5/9or8TX9W+f7tnva+syL6naVC/1egovaVL27uBEE0/yGcIv8IX5L6fnTjAvRb0PdQ9cL/VKz++B9+nv2H1vr3JONK+2w5Zv5+Iub5vwl4/Leh0vxprI7+1N0q+wNFcvWM8Zb4ekLK/cF5mPrO54z4reILAsNQpveiJwD9IUeG/jsjlvzuGjz0qP8u9m0W5P3lLAL+GE6G/97sZvrMju78vQiXAPVFVwO6AmD61R1y/tAw2vg+UWz9GR42+Hxt0Pmiw4T41Bj+/9W+1v2zmab/fL2o/6P0+PpO9EMDNiFG9fnsWPpxuvT6jhJS/LOPFveKFML/uGgA+ldyUP25nBr4ZeNG/dFeRPjh2qr92gby/95BRwM2Tbb+9Zay+mCMqPyQchT0+UwTAplcgv+geBL3tm2i8XxJrvzlTgr82vZS/gINmv3MDDD93DbK/qyeMvzK54z4UQGS+qXetP1nrOL+i9RrA/Smiv0IX6L3YX7a/ZFt4v9Mpxb9yQn+/kmvMPb9pkL6mfku+7ZPBPlPP9r4h3Be/e8KDv+gmMr5tuOu/Jp4Av2nLxz5xhNA/rvcSvyGh6r9Gvq8+fuwFwHsCJL9OQ42+PkPuv0Glbj/5thy/guzHvsljjr9Cd0S/9NAKv4dyr7+/3gDA5WwCv8CPZT4XYr+/6fGpv0VG8zwwTf++3Vw1vzUS1r6EgR6/eF+dv2dpjz1HLlm/nmeWvx4MA79MJWe4G1+iv2DgTT6WqvO+YS/Ov16Zhj/PJ4S+/cF+vkDt0D/OQFS/0s+VP+Agcr8JxcA/PJpjv3/7VD+tyEW+HPNuvycYIT8UvC4/lcUPP7bMAsCy7BvAPlWwPsneET+Da7m+XrSNv5aDy78dhJ4+7pgXv59QqD6ptxw/e1ifPzkdIcCOfrK/AyRbvl9tQb72vpu/v36qvU5jxr5j17a+9LlwPkvlJb4+F9O+Bvw1vlhBt77VLuq9b2YOwA7HJz4fLyDAeBsQvoOOAT/g4/G/rFK/v5GCwL1WkO0+dGUgvyZMDj+P72TA7cmDPu6pKD+cHpO/F1ctv+tSVL/uh1/AejSZPqEMDsCf2Ye+U4T9vu07U8CO+4u/r+GAvpC6FsA+mvg+if2DPqO2GsBg/jK+2kJNv48boL9p5zDA4ktSwEN2eL2IK7W+P2o0wMrHbL/bcWTAq1cZP6hILsBT25O/8cUwPx+uMD97EkDAz+ABv/OpCMDmNGm+ApxdP5izL8CJ0Va/b9qrv6+xAL+CtTg/k7ySP1F4xL6f86W+honjv2/6zj0wr5O+RJO8P7Io5D8tPIq/Tp1zwKdQ/L+DDA2/ah2Dv7rdVL97bKW/e5eiv6qTPL+PbJy+TCVbwAu7br1P04O/8T7OvuZuKr5Acz0+HcFwPOe9778X7kS+mN1mP4R7Sb+gZDu/O7OOv7bZwb+g2J+/rKJzv7SYFj/hBh2/2/nIvgsyLj9xIIO/f4BYv5LhDb/V5lY//Z/Avl8WZ8A7L6c/iVeJvwCE6T3MiR4/YjWGQLWhg748c5a/caukvpueWr8gZ1W+7WVGvuwQmb8g6ou+uSMKwDs3371k5RPAkhWtvtzYmr9pSPW+/bsdP4Tmc8DhtEfAxPmyvlkXBj9VmhC+77Nvv4KfJsDRODXAFCN4vsOhSb+aKsu/KqmBv2N31T0qJCu/rMOfQCBBCb8V127ArM4hwD9eBcC8r4o+U3DLvtsBYcAYQJ2/6CN6wJzfFj8kMrA//SY+Pod7P8A3Rb4/nyI/vyC8ojwPLD3A8/v9vmKv4T/e+ik/JOZvv4tb370dNnY/rDt7Pd35FL/mz6W/7OHCvvpZQz+QchI+lT+xv5Ltgb5jT+W/Zgl9PjTGab802qU/aBpmv90HSMAuJljAztEdwDyIQr/L6t8+6dnRvYA8zr82DTu/NibsPxwHED/LAHHAW694P/VEScCqY96/UuOHP92Ej78Hjgq/e//1PsTA478zIeS+lAgVv1n1uL8Ae1q/ygJWvyEnf78O53y/3k4DwK3zB78fF1bAfyhAwOhdA8BzGni9YRYnPkI5AsB9rgi9VxRxPYXNAsDJBb8/cXdqv6xWB8DCjo8/7341v+s4xD6kp5m/+v6jvwg95L6ivN4+P1RIvjceib87A7W+RBsXv+l07L+664PAYXhZvEV3tb205Mm/6KAHv1PIP77D3gLAXRyXv/uLOr/5+4K/MnY9PfRb5Dx+0vO9fUyuv6uXfr8gCh7ALASuvjTtRL5Hqaq/I9h6v+vjVsBzu5G+JmZhv72zOr6T3Nq/ic53v7BcgMAub4XAYMBxvp20LL8HOxLAc11Rv/MjQL4xNbE9zTU+v9tsHj0kN2S/BVMkwPeUlb4mi2DAyQPtPiZmN7+rMsq/l3E9v5uia8BREyW/dcVjPgvcNr4KY1G/iPKlvyX5gr8FMRE/Nz5VwIPBvD77yPW/QOwdv3mPKj/AGWk/IdkJv8+jrT510QnAr49Mv809cb/QAZM+DTJavzDd2j/PPii/Z1vFv+FZu79zBD2/sOVQv3eP3TwXPPS/G0TCPmwDdD5HLBq/zi42vy0eKj+zNsq+M8gkv8EXmr/BVlS/H3ZUP1Hwab8GyGS/etugvUZPnj+Y/zi/",
          "dtype": "f4"
         },
         "xaxis": "x",
         "y": {
          "bdata": "HAk5Qf00J0GxLT1BYIk3QfB7MkFcmBxB0BgqQbkiFUG4Vi5BoN0rQQJYPUFfVSBB32gpQVPeMEG6KCxBkyctQVaILUHjFI1AJhMiQXHGJ0Fu6D9BlVYPQSbpIUFWgCZBwecyQarZJ0F4xzhBuhoxQfslMUEcbDxBVogTQRxxP0EctkBBgmIsQeQqOEEuWC1B9jAkQRpuLkHNAEBBEXwnQZq8I0FtzD9BbRkkQQxpPkEjij5B9lUrQc06VED4zSpBe2koQf8eOkG70SdBgoo4QcjJOkGqHytBHos7QRE6PUFC2g9B8f03QQ9jKEFEZipB/WsoQbL+JUG/lDBBbow0QWZFN0GETjVBklMhQV32OkHL3iZBxX5AQbHjEEHpsCtBnJ8xQePMNkHdjy9B/AFAQc5wNUEzVkBB74smQT4BPEH2Vz1BPDMbQW2mPkHUwydBJeg/QXvnIkFmyzxBtMU/Qaq7MUHFJypB47grQR/FKkGTvyZBMu49QQOcKUFxBihBpPs9Qc/APkHh7RxBJ4gyQeWuNUGb+SVB0oM+QZBE+EAHcCNB41chQXXCFkGhIypBsDsqQbvWL0HwRixB/7QnQQMtKkFyfSFBAlsWQQ7lF0HQkiNBD9Y/QYWaPkCSozpBB+8dQdomHkHgeRRBia8lQRl4KUH3EiVB5z5AQY7cOEFSEj9BrYMZQdzZFEGdGDxB3yk1QfrcL0FRCiZBRn8oQYkFLUF7QylBmP8jQbdvN0GYPC1BAwciQdS9JEETCShBWaktQVw/NUFeCiFBUBlAQcPJHkFJuEBBtX8rQb7pPkGlEh5BEnRAQa82K0EfHTdBm3giQSBvMkEG7SBBuRwrQf0cPUFJsCxBzmosQbXSHUGgPzdB6s8mQVlNLEGaxvdAQrEvQSS/I0Ec8SBBdBMjQdiRF0F9uTlBAxY9QVCAQEFbNChBUrMnQRC4EEGqLR9BS1QpQcr8LkFkdSpBhGssQep9NkFU4SRBw7Y6QRPhLUFCmh5BbDMbQSJuzEDVWSBB7QMwQSolPUEWmTZBoZM8QXzHG0HyPC1BpgkeQSAJK0HWyCpBrhwpQeFfLUG26zRBF9QnQXVaLUGhnRpB5NYoQaswLEFx8ihBumMrQf9eN0FA6R9BC8w8Qb1xM0HCLTFBInA1QUKYPkEByEBBk+snQe5aH0ELXRBBbMoxQaT6KkG+pCZBM2gnQQ1vJ0Ew5xpBxs8fQUe5G0E4ERJBrpUmQYAEH0HSYCtBcRk0QY4gJkHMWB9BVyorQRaOPkHmmwxBKMEbQdlxL0GCIi5B9q09QX7iNUH7OSFB6tAxQRiBPkEQTjZBCT49QamjJ0Hq8x9BYhwCQSjQ+ECIsiBBDyElQZcMLEE8JUFBVEwhQbZUOkEIPCZBgu0mQWYaJEHeOzxBXCUkQbsoJ0HgJhlBB5IaQV7WLEG0nQ1BYrUlQa34OkEhxCxBL+4pQZEVKEFRzCpB+mw9Qa/kL0ECMBdBawk5Qa7NFkHRpBtBbSElQdcDJEFoKD5BkL0tQRj4K0ERfB5BbTUjQTwxJkEQvf1A/VIKQSfoFUErgCVBQ+DAQM8sKEGP3kBBqukfQQvi70Bmvg1B1yAkQTyYJkHiHC9BgUcYQU0mF0EmhStB7QIeQfRlK0Hwfi5B/nFAQfs+NUFDN2ZAdMwoQcV0MkHd6RlBSCwhQTA+KkGrIjZB0xEwQfs3FkE2By9ByD+uQOjbKUFj9ipBMg4sQR31LEF4KzZBjDMdQQTfNEFdOjlBr3oVQYKrK0E6aiNBM7YvQV2pG0HTVC9BBfg1QXCeOkEV9ydB4GUOQUTXHkETbD5BRyQ9QZFEJEFjqRhBc3VYQHquJEHufCxBIZwhQSPeJ0G+eCFBGOMkQQAeK0FDlCtB+8wfQdZSH0ENvxNBFkgRQSDOLkFfzRdBiLUUQS1uK0HqliZBjIcuQfLQEUH+7iNBlmQhQYDLH0G6oyBBqaMYQSA3N0EFIhtBt34LQV0NF0HyohpBwWAgQbP+KkExwA9BWYImQcoFQEG6jTlBj9AvQbE/J0GjKzhBwEs/QbIiCEEOeixBzGouQQyaF0E7uDBBB7s/QZl2KkE5RR5BpoIUQTknEEH7kCFB2FQTQR/qEkELpwJBNUY0QWQrxEBGIiBBsLomQW/8pEDWnTFBmxIbQVnIG0HIEIVA1hk8QQHEHkGCrRxBwJIIQTF4FkF7YStBJxYSQQJ+HUHX0/5AMmDZQN3uJkFXuxpBysACQdpUGUGdgQNB6eocQZSjHkFp79RAXS8ZQaU8EEHLVCdBoFoHQXRPG0HXJBZBVmAmQZzpKUHa4BBBOlTSQKfwFkEthRxBVAEgQUdULEFDsgVBsX4hQUxzEkHe/RhBo5kcQYITA0E/uAhBoO87QVVzGEEZFd5An0YiQY6PwEATdhpBcT/EQG6cw0DnCOxA7ErvQEso4EDTvqRAyXuzQFx8AUFn+ctAav/uQKytHEHEROVAWDbsQKAM00BmpQZBoNfTQLQs70DuEgNB1pz7QKG6C0E0l/pAg6qyQOpuu0CvGABB17HtQFNJAEGHfCFB+XfNQM2XoUAB5qVARcKKQIqTsUBGSe5A5XXHQCQa50CwEgNBfA7tQDZW2kD9n/5AHUT+QN7A9kDjtcZAGW4bQcq20UD+VAtBxAyTQM051UD+YLZAyImwQFZavEBk7+BAcZjUQAI2C0E9ybRAyVO+QJQZmUBNkNBAbXSoQCn2xEAYhqBAzI3UQNdo1ECujZBAFoz3QO/q3UCWObFAkTeUQKxJCUE4CMBAIS/uQPAXuEAlstJAYLLlQEZKpkDlCLNAP0LDQDoS9kB0FJxAX4e8QJSC1EAhhbpAgyOoQMqPr0AIJbhA3HHBQANH0kCR88FAbW3cQMuM2UBXL7JA+g34QDVduECk2PBA0iDNQFC58UDhIKdAxvvKQP8JpUDqxN9A9lXOQNbp6EDc9phAChzyQOQ3pUDEwaJAykexQCedtEDYd5xAxDLlQA7jskC8NeZAkgKzQLH1mECEatxAVKWeQE8OrEAjz81AELysQPj9uEChHsZAuXYAQVzOu0D0XdZA313OQKzI5kBVn89AqK6tQMVSxkCV3rRA5kKtQEEen0C43MBA4469QHdNoEAbLr1A2i3xQIUkBkHqBKhAVwOsQN+CoUCBVrVAZvnFQPaMAUHflNdAJiHTQMVexEDtkrdA8Ru/QLtDFEFuVMZAV8QbQW0PIUEHufZAeKDTQCs5+0ASESFBuKYUQTEV7kCgLblAFO7KQLQh8EDwfcBAkB8EQfd8D0HELvtA+Si5QND5CEEU46FA5RYSQcl87EBUZflA1/AKQcSbG0FrWQNBG6HWQH4w90D6A9dAC30DQWQJpkCEffBAKLavQDvr+UBEHOxA6WAuQfs0/EArh+5AEEvaQLytBkG+fQxBZgrhQLBQLEF5k8tA003vQEzUJUE9PMBAFlL/QAJWBEFHCSpBKKPzQLFmJEFZVgZBh3bkQGeA6UBTdtdAccnBQKAYB0F04ctArsLsQGpSBkGKQtBAwIugQGqr60DCHs5A+4URQT4usEANnQlBqdUZQQGC7ECBPBlBLk7YQKzG3UCwmOlA5uzkQNju8UBHCBhBP4sCQRsBHEHPOBBB44TDQC5lpEDEXw9B5h7aQEjUAkFqVQFBJkDXQHpw00AIONBADxbEQI74ykBhpwxBv7nDQOIM6kD+G8tAKvXfQGQE20CwTLRA3hvOQMjeL0E04tFARrrRQMIU6kCbnxhBv1i9QNGg4kAba+5AS1elQKCB8EB3p/ZAs1McQZR8F0HqcNdAMdqhQGtuz0By5QxB6CjIQMKUsEAEB6RA+wntQDT60UAYtCZB+2MSQVRDxED23dRAEaAcQbVCsUBHPJ1AI2kRQUrj60ARm7NAUwntQKEMsUCTugRBNQoEQTvBuUDoQ/BAZuHZQFa9yEAR0QFBouPbQL33tUA5ofJAYiPEQIGcy0DfNe9Az/QDQedVIUHQrOZA",
          "dtype": "f4"
         },
         "yaxis": "y"
        },
        {
         "hovertemplate": "Metadata_cell_line=KP-N-YN<br>umap0=%{x}<br>umap1=%{y}<extra></extra>",
         "legendgroup": "KP-N-YN",
         "marker": {
          "color": "#EB663B",
          "symbol": "circle"
         },
         "mode": "markers",
         "name": "KP-N-YN",
         "showlegend": true,
         "type": "scattergl",
         "x": {
          "bdata": "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",
          "dtype": "f4"
         },
         "xaxis": "x",
         "y": {
          "bdata": "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",
          "dtype": "f4"
         },
         "yaxis": "y"
        },
        {
         "hovertemplate": "Metadata_cell_line=NB-1<br>umap0=%{x}<br>umap1=%{y}<extra></extra>",
         "legendgroup": "NB-1",
         "marker": {
          "color": "#511CFB",
          "symbol": "circle"
         },
         "mode": "markers",
         "name": "NB-1",
         "showlegend": true,
         "type": "scattergl",
         "x": {
          "bdata": "eyGwP7gPfT8GOrc/LpyWv7ezCj/lKSE/hcVePqWwZj9r6YQ/BTDxP4Ya4z9DlrI/3kQ7PTjXLz94Wkw/gwxiP1GNsD/ZcyI/pKCKPwGMtz9iYw0/bKW1PyQmtT/nwzs/nqqbP6opLj/RxWw/pzdvP20WUz4px9E/XIVOP864UsAzi3s/tO1hPyOYaj9Nxt0/E5YtP9eh5T6dS5s/dS2uPwpfiT8im6E/LeNpPwK4kz8qPE4/B4J5P2xIFz8/86E/sEmZP/52kz/rK6E/D4AJQICQAj52mIo+w+OnPwqelT/b42Y/KRlHP0NcbD/J0ME/8KdHP8W+RT80CYQ/mE2FP5jchT+qw3M/kc6KP44/nMCCKzc/uhenPklpTT9abCU/7gW0P8q6AT+XRtu9CPVUP84BYT8o3Xw/qzqpP+hMNj9F9h4/dppcPoPuFT+nlUE/KSEgPul7nz8m1Xs/ptC8P6pCNT+Bbx8/6B07P0awNr5C1ZrAGGV1P8ufZj9nYYg/8R9WPzyi3r8w9VXAJPOfPvMhRT/Mm54/s6yGvRTVmT+N2c0/EuUrP8z1qj9Tslc/jQgTPg7uXj8kMIY/5L4LP/706j0WeuQ+E6a3P2GkbMDlV9g/9CWlP9TvpT9AmQE/cT2XP4V6EL+EwG4/wU2JP2YXSz/EanQ/1BprP52lYz8aeku/mTLQPwO7vj8vi5w/7feDP+hVvT9S2JU/5Zt2v+nCvD9Kyc8/P/HzPzERsz9rb1w/9uK3P2VOSj/lFwQ+11yxP9JljT+3u8A/9/rsPw9npD+KYWk/3JWOP/g3/z6gWLe+z6EyP9DGsj+9pH0/7KaFP4GIxz/OJqU/3v1oP5QZcj/ZNkq+ePKDPsaQmT/qgT/AWSOvP0QVgj+c/JQ/a2+0P0es4b/ky3k/BgETP3qYrj/rXqg/jygOP6wwqT/zTsI/MUNOPjqw6j/KhYDA/pimPyjKtj/WEqI/B5KjP9CQsT8wB4E/PFzAP9Qiyj+AKJc/gz93P3n8lz8cAIQ/RmhmP8KPtT/xApg+s7pxP7OdsD9gWbM/X+KQPyCSnT8Yu7U/iSybwCDQaT+qdpg/FEL+Pp9ioj+q0M6+7JYaP3qcpT/9lYM/XKSpPxJkqT+lK4s/1P90P2flvT/sBwK79awcvUwvjz+xvE4/P7f2v/XofT/o+KM/2J5awCp0aT+UWuQ/6c4Dv+AgYT4nYbU/OWIHP4RlNT8Cy4o/T0X4vrCT7j95d8U/F6xjPdo/Ez9pXJg+M/ZeP144fD/5Qc0+pQSZPnqhmz+2pG4/CWaIP0UTOD/tgz0/zYgnP0cYgz9TKVg/GQqKP7IHoj4e7oA/HVK1P9PVrT6XUu6+nnrMP1xwwz8IhZY/2L7KPx+mtD+VwJk/Awa0P+7IdD/5/+M/I1vbPtJVcz8KmL4/W0RWP9XViD6MCNo+5inFP/towD8TbqdAXE7APxHQMz/ROVDAaoYLvztqhD/91Ss+H1l0P5b/eT4Mx2U/a2WpPz3yq0DJz4M/zG38PvVGyj8HuKk/q7ZxPpxHtEBXtLw/2qbBPpv1sEBG9vg+72Z3vnWc6T4ERmc/lfXHvsopuD+r+cY/3dmOPxgY9z84Gug+Tj4zP/VztD9cnZo/rc/MPu9InT9R3l8/VggEPyexoj8uaRs/C6m0P+JJXcDDMWg/jFEXP1POij+fFLY/ztKuP+HAgz+xxzI+CKJVP0sriD9RKVI/Ifd0P7XogD9G/wU/S/JbwCcBqD7Vfz4/NBayP/6UbD8VGME/n0xiP+qpmD+syao/A60iP4WNtj/WU6M/aXpEP+lZYz7N6vc/uewPP8OS9z5hj4Q/Im+8PwmNoj4oS7U+BJZnP8Dmdj8a8Rc/K/1UPwiIrD9O5kU/jLykPxzUUj/x8hQ+hHJbvd+uuL+CRZM/XnhlPyYvgT/9hJg+w09jP5lrXj/8+ds/SRfHP4En6z/bfSM/mBpQP0Oj9D9hBx4/WUxsP6M4xz+29JA/nNWIPrO/Az/Kzl4/EeKZPxiLWT4kd60/EF2JP48Viz+7XLg9FrHgPlQ1FL9hSr8/+e1eP8gGWz/a2Qo/QfkgP8WHij+FT34/sQbAP7Vosz89NBg/UaIbPxoalj+tqZs/etjbvp0VXb8PQ2G/NeDCP5kOPz+LTz++Fb8zP+DEj78kRXs/wEIZP78rrz867As/g6gMP7dsdD/4aGw+puuXQMs64r7qFAo/bJYkPxYhpr4hl3Q/f3g7PzSb5T/edmK/kGG1P0reTz+PSIU/b7w1P/hXA70z2Dw/ajQhPzTMoT8arac/MUFbPzllWT8gE0E/N5HOP5jSub4HQaC+uMhqP7BDYj+zXus/cGIlPiP5Cb65Eri+u5B8P8S5CD/3s7BABS4hPzgkdz4MCws/OYilP2tITz/pOz2/VT2nP4DnJb6cPys/g4+RP0r2PMBHNsw+dd1UPxP/qT+quDE/IOwVP3y3uT9WfbI/c7KCP5M8YD9bAEa9lbJfvgaIXz/rucY/OwKVP7XDtj7lZKo+LNZgvwI8tD9/XeA/tM61P8F4uT/WBaY/lTwhPw5WET96UF0+8FklP4leDr9nxxE/SBivP0nlyT9k4EM/Pc+7P41dmj+1JFXAXnUHvgmWKz+vwfg+diEZP1qriz89Nsc/DxuYP2LbWcCM6qQ+DOyFP4WDqj+x2FQ/1rq0QE975b7KYlS/8MS7PoEHKT9d8QO/+yRpP9WEqzq1E40/s8WMPwImbr/NrO49711ZPxqN2j6fuW4/DsC4Pv2DRT6eaJm9lyHQvWZubj9ELpc/A9VbP0WcZ78OqIE/s1HnPpW7+r0qn2a/uC9IP8hDPz4/xpu/29eJPxcLNj+PhBu+crCOP4mUukDIJlU/Eh+9P2baqr53/yo/tN4Zv2bpSD+ndJo/2IGgPwh9y75CKmg+niU2P17nND9BeAW/zfBDv2BzlT7RvZy+aJR8PwrKiD6yPmq+1/tUP06SnT8ifsO/WyO1QMiOEz8NbSq/hW4Hv+GsZL+IF3e/jkUYvGcmlUCGe3M+ggetPwpMnT+OxEA/4nqaP1eMfD+BBEw/JumcP24zU8BPiSc+IuwaP3C+oD4CYDI+WYavQJFjgT//4yM/DKGfPkEkKz9Q6CC/8duGP7B09j7oGLy+vdRhv12Cir+2M6pAyvxnvxOFAr9HEA2/VVJmPa1T075t1Vo/LQtvvnT7CD7tkYA/tapVwEW6R7+qOzW+gzdPP9t5db4Ey4U/zJSav8ZE1b9c5HA76c4sPzW5mr/yZuI/EHiNPh2FwD50Mt6/Pt80vdjMur/YKW8+vcbYPuXRMT+ViDQ/hIglP3AaVT+wgrxAXbSyP5T7vj9jOgE/MQYXPxmQET/KzbQ+Yv1RP+fIIz98Sp4+sOEIP1pL4r8MsW4/l6z5PE33/j5gp4O9frSdPpFmJb8txps/VPiLPzpvrL7n1fK+TuvdPr2LUb4ZoQm/+fOEv72EqT9JUVM/8WXHv4oznz/HKFw/FtnTPdQtOj8j4pM/uy5UP/oFhT97Ow8/y8MJP8dYwb476go/dU5vP+Pt2T+SkN4+tnqEv1rRNz5mMYM+pVyXP/iJtT5LF6M+LxVYvXL6pL608+m+6FWGPmTQPT9OwnK9haQTP8F5uL3RciE/RnzDPzIIwEAjq9I976Njvyr6xT/jS8w/I67fvcV4XD5yfSk/vnpPvp8UKD+RCJ4+8OSrv7+VND8oq2m+2oBTv+C1bL9NsAE/4j8rvmq0YL8uag7AxBeyQEj9p78dJTM/5Q1HvT2FnD73JK5A6pCTPrAQnr/3cDQ/GOrdvHIpj748vbq+Q/XqPgbLAz4NbRq/oW6qvjM2DL5tetw/Y1Kqv/CzoD0n1zS/bj6dPepJHz/Rzks/AzRrv1TGAb9/cGu+RsiPPmbyRL8PFnw/msM3P7Zcar/n7+I+4CBhP0Buqz+jz3W/M1urPyiZKsDqrGO+nGIIvu8fwT7ATrFA+m78vx8FrL5XXB0/",
          "dtype": "f4"
         },
         "xaxis": "x",
         "y": {
          "bdata": "Wf1LQF7TZEBIkX9AZGAIQffPhUBlxnlAKP/IQJgiaUDjiXhA73W9QGwW2kDoRVtAglKuQCDvg0AUWoJAJXCBQCOjRkB9EtRADHdrQAqveEB2snJAHtmGQCE8JUE2uIFAeMVKQHxW2ECQGHNA7kuVQOKJh0BJpJhABJmDQKWAG0FEi3RAYtR+QADDaEAUwKlAmoIaQc1WhkA6YdNAUQNPQPOyZkB96ZNAe0NrQKwSOEBGTYdAM9FzQFjhkUDsU1dAtyy9QOylXkBmhVRAxjmxQE05z0Blx6FAUOpwQOqo1UC6VNhAMrERQeUsdUDTzMdAhCl7QMYihUBPWGlAQRpqQGzqeUCE6hVBHvSQQO89EkFCjHdATV3WQCxrVkC0ILRAaJx8QE/peEAwZ+JAhdp9QOFAVUA1ncRAsahRQKVZhEBxx29AXxTeQIrwdkDlE51AxJzlQGXWT0D6dZ5AHYGKQBWJhED0k9FATVFtQNgUCUEoNhBBBmV0QJeYl0AT3uVAKsqdQMLHHUGWBPZAFw3QQJmtaED5n3NAIT34QKmya0C1ob1AAkv9QFZkmkACf5lARSXLQOHs6kDzCMVAH8vKQMAJz0CfrN5ATM1aQKVjGEE4oZlAvs5UQAAxf0CZQ8hAEnlDQP/OxkBU7O1AfDnRQGjV5UCsyWVA1rhjQLepokCfR9RASpe+QBYfhUD0eEJAalmPQC2iHEF/U39AZhQNQYCvUECuaMJAcA6TQFPVx0DULJ9Af0hUQF+omEDOAOZAqW/ZQBtmtUBL58ZA9gWyQAq6RECAiV5AHV9QQG3shEAT1slAqeV6QEz5W0DoN6FALjckQG4XIkGiKnVAD5mMQMAveEAxmddAdfesQDZytUB1xyBBaSJSQIIYbUCB6WNA8LpWQN7LsEDViSBAteiZQElgjEDCvL9A5GzKQC8oa0DEct1An2bHQAd7rEBOUBlB3lauQNNJTEA39OhAfhpyQFjYh0Db+aZA2ZFUQGdrq0AhdWBAWjhxQMEhekAlP2FAPi+9QBb3jkDHVIRAkAFEQPyfTkD/08NA945nQKbKbEBjn51A2a8QQfruq0Cm7T9A3piVQDOsQkDxmKRALXyCQPmIUUCTsrBAxslHQG3pwEB5CzxAuth8QJAmx0CzCcJA0G3mQNlplkAMtYdAgGj9QEEfYkC4N51ACkAfQeYEXEAQg59AR8HiQHqgrECd9VJAnJ6mQMruhUBj55BAWTX/QANou0Df3slA6+yzQC0/iEAkq89ABlR2QPAWh0CVA8tAcLy3QN4TcEAo4L1AMatyQFeLr0DHG35ASsV3QKYBW0ArJXJAhE5iQCh7CUFK0rxAsrVfQA2h1kAS7axAN3TEQMaLU0D76nNAQcddQIl1gkB2R81AeB3BQPKdiUAhCrFAbGfeQBCzk0DCWF9AZU7VQDL5tkCkF6JAxBBaQKtYX0Ch2P1AZyTEQHberEAYIMBAHhv7QEm/3EDRRgBBkiuRQBZ5qkB1UtlAfFDIQPwN9EAlOIdAemytQFIYr0DW65RAfKytQIdS/UAO7IhAM/G3QJP0+EAVWNdA/c7AQLJxykDYLb9AH6jLQJt2jkBQz5BAmMBXQFzjvkCFWIdAnPuJQNt9UEB6hYRARICIQKVuWUDwg5hA83mqQJa5RkBnkqNAuwzXQOXJyUCp0KVAvjiFQJ3xbkATJI5A4xhiQJuzc0AAQ5xA0TSxQKINTECNOoRAx+iWQIRCkEBtKYVAh33uQCYJ0EB5/4xA+jNLQMsxlkBB5lVA6l5HQFCqTUDdo7xApKSMQKpwTkClC0VA63uJQNl8skAqz5pA56SlQHGuekDGGaBAiYxWQO/yhEBNkJ5A04tgQLEPZkBAaB9Buu2HQKeeWUBm8pxAB+RHQA5ihEDi2ZBA6mKRQKjlq0BauGtA+Y6oQKBUkECctZZA8PO2QJzfmkBQY5pAvlpnQGyIsUBvpUVAOL2FQGS5nkAtKbZAfZfQQP5C10DdaLBAvT6tQFQT30AhzKJAoyWtQIBg30DdepVA1N0kQH2CZ0DqL8hAuwChQO7WxUAjYV9AEVOZQMVzwECBHZ1Ait6DQHrjokAyu3FAw7GNQAY7YUBhcNtAZvadQN/LsUBXsUBAknCbQAGaoUCCWKpAHuxeQArLtkAWMNxAJVK9QMPpq0Cc9LFA0W7XQLagk0Bq3rFAwQbAQO3bY0AwJJtAKpH/QJM9s0CkxtJAT1bVQLwHAUHVD85AwYHUQJ0AskBjwANBBHy7QPR9q0CG85FAU7y3QB81p0ArdqdAiR2OQLJ6kEDIIJFA4Vq8QENEjEAHJNVAGG4iQeucrUDuLOJAUXltQAASdkAoHLRADQPAQLewmkBBdbVA2Y64QGIuoEBkzPxACxCaQPzAnkAOuplAYaWLQANUtkAwVqdAo4JiQB9vi0Djko5A+R+vQIC3xEAc7qRArZ/AQHD4U0C0o7ZA4NGtQJzZj0AdmYpAw1dkQJoIPkCy7JRA0JiXQIiHi0BccppA/N/HQPVUlECRt69AtP+qQOG7UEC57K5ALYtaQFduhkCGhXBAuhKoQL81hkD5J8tANgunQHpnokD5bqFAmi9jQGLqbkDKtJxAsd9JQPU8ikB9velAJGWjQO2NcEARhHlAemCrQN8ym0CBJqRAbyZuQDwm6EBpOdNAqB+0QFrPjUBy8JtAee76QHYb+kCkdMBAkNx1QH3HR0DI+OVAWKXEQKNkrECiF79AHkdHQHB4o0Au3rlAyUKhQDlUvUCR3r9Ai+WjQEJooEAwqNhAoGunQIAksUCJlatAIDSvQA+znkBLj1RA123TQOlFskDZZc9AIcq2QDdprEAiZqlA0E1kQLVOqUBq7clANi6aQN/J/EDK/rJAtUKUQIvisUBZ+LpAAAC4QKIAqUAKRZpA8NGQQGhk7UADtr9Av2W/QI77mUB4e6ZA+NiwQIJitkClTZ9ALcTDQJmjn0DSO7lA2QzQQKTRvUDCkMhAK+r3QNthrUDV56dAABe6QJ2OAUGyaaRA6YulQK6G+kC6BrJA1ZC6QO9KvECHb7tAyFCjQEpVxUCSO8xAORleQI4v4ECYEOFA/e2gQGBouECH0oVAvhH/QCJiyUC+v6FAEcqsQBAov0BdaplAQMGNQD+iikAKnptANHHWQF8fk0Brr/ZAi86xQHlnuUD0iqBAV9eyQADp90CoDKhAtwmTQJZZh0BQb65AIpPSQHTqpUDuzp5AphhrQCB7lkCViolAuJykQK1Kp0BrzqJAJp+1QCOn4UAHabNABrifQIuih0DdTbJAr5KdQHtXpUAnc6hA+rSNQBhOqUDfTK9AgaWLQCZeXEC4/fVAfvqNQIOwU0BMzIFA76+MQMg0fkDG7YlAwiiyQNu8mEAhuaVAx7aLQB4oskAy5plAP2PjQMAcdED/879AqMueQPwFnECdGItAsVjHQM3flkCqnpJAaTisQD4bAUGsybhAf1WiQEWWsEC/JsVA2NDHQDFcpkBOYMdAFDawQKQmu0CY9bxAyCDAQHEFsUDL2LVA8NSlQAH4m0CUbatAghFvQIkA2kDcaLlANvvDQM7YrEC9rc9AC5uTQGaCqEAvpshARB2XQIDEq0B5+apAuEmLQHaMvkCR4rBArPawQMZhq0Ai05ZA+PlZQMSo+UADpeJAwyGiQHo1e0CZGM1AoK6iQGDgq0B+ErNAlXqyQH5u00B8OYBAMI2yQGKOz0C7/rhA86+pQNunnEDKULpAd8ORQAr+m0AhJNFAcef1QAv7vEC+erVAaZqtQLWKq0B0pflAOjGsQOZml0BfQrVAetWcQNmSqkCrA5tAVNWPQBrxrUDNmJVA/bWLQNP2qUASh7FAInGRQI+HqkB25J9ATljRQCptvUBIeaRA9N2kQDQ6q0AuzqVAMh3aQFvPmUDohMFAH8CuQM71m0DfGqVAbTOyQBEbs0C7CJ5AMMmyQE5ilEAySKtA2afXQB9dskBAZPRANqyZQD9EqkDYC6RA",
          "dtype": "f4"
         },
         "yaxis": "y"
        },
        {
         "hovertemplate": "Metadata_cell_line=ONS-76<br>umap0=%{x}<br>umap1=%{y}<extra></extra>",
         "legendgroup": "ONS-76",
         "marker": {
          "color": "#00A08B",
          "symbol": "circle"
         },
         "mode": "markers",
         "name": "ONS-76",
         "showlegend": true,
         "type": "scattergl",
         "x": {
          "bdata": "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",
          "dtype": "f4"
         },
         "xaxis": "x",
         "y": {
          "bdata": "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",
          "dtype": "f4"
         },
         "yaxis": "y"
        },
        {
         "hovertemplate": "Metadata_cell_line=PA1<br>umap0=%{x}<br>umap1=%{y}<extra></extra>",
         "legendgroup": "PA1",
         "marker": {
          "color": "#FB00D1",
          "symbol": "circle"
         },
         "mode": "markers",
         "name": "PA1",
         "showlegend": true,
         "type": "scattergl",
         "x": {
          "bdata": "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",
          "dtype": "f4"
         },
         "xaxis": "x",
         "y": {
          "bdata": "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",
          "dtype": "f4"
         },
         "yaxis": "y"
        },
        {
         "hovertemplate": "Metadata_cell_line=SH-SY5Y<br>umap0=%{x}<br>umap1=%{y}<extra></extra>",
         "legendgroup": "SH-SY5Y",
         "marker": {
          "color": "#FC0080",
          "symbol": "circle"
         },
         "mode": "markers",
         "name": "SH-SY5Y",
         "showlegend": true,
         "type": "scattergl",
         "x": {
          "bdata": "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",
          "dtype": "f4"
         },
         "xaxis": "x",
         "y": {
          "bdata": "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",
          "dtype": "f4"
         },
         "yaxis": "y"
        },
        {
         "hovertemplate": "Metadata_cell_line=SJSA-1<br>umap0=%{x}<br>umap1=%{y}<extra></extra>",
         "legendgroup": "SJSA-1",
         "marker": {
          "color": "#B2828D",
          "symbol": "circle"
         },
         "mode": "markers",
         "name": "SJSA-1",
         "showlegend": true,
         "type": "scattergl",
         "x": {
          "bdata": "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",
          "dtype": "f4"
         },
         "xaxis": "x",
         "y": {
          "bdata": "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",
          "dtype": "f4"
         },
         "yaxis": "y"
        },
        {
         "hovertemplate": "Metadata_cell_line=SK-N-AS<br>umap0=%{x}<br>umap1=%{y}<extra></extra>",
         "legendgroup": "SK-N-AS",
         "marker": {
          "color": "#6C7C32",
          "symbol": "circle"
         },
         "mode": "markers",
         "name": "SK-N-AS",
         "showlegend": true,
         "type": "scattergl",
         "x": {
          "bdata": "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",
          "dtype": "f4"
         },
         "xaxis": "x",
         "y": {
          "bdata": "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",
          "dtype": "f4"
         },
         "yaxis": "y"
        },
        {
         "hovertemplate": "Metadata_cell_line=SK-N-MC<br>umap0=%{x}<br>umap1=%{y}<extra></extra>",
         "legendgroup": "SK-N-MC",
         "marker": {
          "color": "#778AAE",
          "symbol": "circle"
         },
         "mode": "markers",
         "name": "SK-N-MC",
         "showlegend": true,
         "type": "scattergl",
         "x": {
          "bdata": "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",
          "dtype": "f4"
         },
         "xaxis": "x",
         "y": {
          "bdata": "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",
          "dtype": "f4"
         },
         "yaxis": "y"
        },
        {
         "hovertemplate": "Metadata_cell_line=Saos-2<br>umap0=%{x}<br>umap1=%{y}<extra></extra>",
         "legendgroup": "Saos-2",
         "marker": {
          "color": "#862A16",
          "symbol": "circle"
         },
         "mode": "markers",
         "name": "Saos-2",
         "showlegend": true,
         "type": "scattergl",
         "x": {
          "bdata": "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",
          "dtype": "f4"
         },
         "xaxis": "x",
         "y": {
          "bdata": "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",
          "dtype": "f4"
         },
         "yaxis": "y"
        },
        {
         "hovertemplate": "Metadata_cell_line=U2-OS<br>umap0=%{x}<br>umap1=%{y}<extra></extra>",
         "legendgroup": "U2-OS",
         "marker": {
          "color": "#A777F1",
          "symbol": "circle"
         },
         "mode": "markers",
         "name": "U2-OS",
         "showlegend": true,
         "type": "scattergl",
         "x": {
          "bdata": "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",
          "dtype": "f4"
         },
         "xaxis": "x",
         "y": {
          "bdata": "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",
          "dtype": "f4"
         },
         "yaxis": "y"
        }
       ],
       "layout": {
        "legend": {
         "title": {
          "text": "Metadata_cell_line"
         },
         "tracegroupgap": 0
        },
        "template": {
         "data": {
          "bar": [
           {
            "error_x": {
             "color": "#2a3f5f"
            },
            "error_y": {
             "color": "#2a3f5f"
            },
            "marker": {
             "line": {
              "color": "#E5ECF6",
              "width": 0.5
             },
             "pattern": {
              "fillmode": "overlay",
              "size": 10,
              "solidity": 0.2
             }
            },
            "type": "bar"
           }
          ],
          "barpolar": [
           {
            "marker": {
             "line": {
              "color": "#E5ECF6",
              "width": 0.5
             },
             "pattern": {
              "fillmode": "overlay",
              "size": 10,
              "solidity": 0.2
             }
            },
            "type": "barpolar"
           }
          ],
          "carpet": [
           {
            "aaxis": {
             "endlinecolor": "#2a3f5f",
             "gridcolor": "white",
             "linecolor": "white",
             "minorgridcolor": "white",
             "startlinecolor": "#2a3f5f"
            },
            "baxis": {
             "endlinecolor": "#2a3f5f",
             "gridcolor": "white",
             "linecolor": "white",
             "minorgridcolor": "white",
             "startlinecolor": "#2a3f5f"
            },
            "type": "carpet"
           }
          ],
          "choropleth": [
           {
            "colorbar": {
             "outlinewidth": 0,
             "ticks": ""
            },
            "type": "choropleth"
           }
          ],
          "contour": [
           {
            "colorbar": {
             "outlinewidth": 0,
             "ticks": ""
            },
            "colorscale": [
             [
              0.0,
              "#0d0887"
             ],
             [
              0.1111111111111111,
              "#46039f"
             ],
             [
              0.2222222222222222,
              "#7201a8"
             ],
             [
              0.3333333333333333,
              "#9c179e"
             ],
             [
              0.4444444444444444,
              "#bd3786"
             ],
             [
              0.5555555555555556,
              "#d8576b"
             ],
             [
              0.6666666666666666,
              "#ed7953"
             ],
             [
              0.7777777777777778,
              "#fb9f3a"
             ],
             [
              0.8888888888888888,
              "#fdca26"
             ],
             [
              1.0,
              "#f0f921"
             ]
            ],
            "type": "contour"
           }
          ],
          "contourcarpet": [
           {
            "colorbar": {
             "outlinewidth": 0,
             "ticks": ""
            },
            "type": "contourcarpet"
           }
          ],
          "heatmap": [
           {
            "colorbar": {
             "outlinewidth": 0,
             "ticks": ""
            },
            "colorscale": [
             [
              0.0,
              "#0d0887"
             ],
             [
              0.1111111111111111,
              "#46039f"
             ],
             [
              0.2222222222222222,
              "#7201a8"
             ],
             [
              0.3333333333333333,
              "#9c179e"
             ],
             [
              0.4444444444444444,
              "#bd3786"
             ],
             [
              0.5555555555555556,
              "#d8576b"
             ],
             [
              0.6666666666666666,
              "#ed7953"
             ],
             [
              0.7777777777777778,
              "#fb9f3a"
             ],
             [
              0.8888888888888888,
              "#fdca26"
             ],
             [
              1.0,
              "#f0f921"
             ]
            ],
            "type": "heatmap"
           }
          ],
          "histogram": [
           {
            "marker": {
             "pattern": {
              "fillmode": "overlay",
              "size": 10,
              "solidity": 0.2
             }
            },
            "type": "histogram"
           }
          ],
          "histogram2d": [
           {
            "colorbar": {
             "outlinewidth": 0,
             "ticks": ""
            },
            "colorscale": [
             [
              0.0,
              "#0d0887"
             ],
             [
              0.1111111111111111,
              "#46039f"
             ],
             [
              0.2222222222222222,
              "#7201a8"
             ],
             [
              0.3333333333333333,
              "#9c179e"
             ],
             [
              0.4444444444444444,
              "#bd3786"
             ],
             [
              0.5555555555555556,
              "#d8576b"
             ],
             [
              0.6666666666666666,
              "#ed7953"
             ],
             [
              0.7777777777777778,
              "#fb9f3a"
             ],
             [
              0.8888888888888888,
              "#fdca26"
             ],
             [
              1.0,
              "#f0f921"
             ]
            ],
            "type": "histogram2d"
           }
          ],
          "histogram2dcontour": [
           {
            "colorbar": {
             "outlinewidth": 0,
             "ticks": ""
            },
            "colorscale": [
             [
              0.0,
              "#0d0887"
             ],
             [
              0.1111111111111111,
              "#46039f"
             ],
             [
              0.2222222222222222,
              "#7201a8"
             ],
             [
              0.3333333333333333,
              "#9c179e"
             ],
             [
              0.4444444444444444,
              "#bd3786"
             ],
             [
              0.5555555555555556,
              "#d8576b"
             ],
             [
              0.6666666666666666,
              "#ed7953"
             ],
             [
              0.7777777777777778,
              "#fb9f3a"
             ],
             [
              0.8888888888888888,
              "#fdca26"
             ],
             [
              1.0,
              "#f0f921"
             ]
            ],
            "type": "histogram2dcontour"
           }
          ],
          "mesh3d": [
           {
            "colorbar": {
             "outlinewidth": 0,
             "ticks": ""
            },
            "type": "mesh3d"
           }
          ],
          "parcoords": [
           {
            "line": {
             "colorbar": {
              "outlinewidth": 0,
              "ticks": ""
             }
            },
            "type": "parcoords"
           }
          ],
          "pie": [
           {
            "automargin": true,
            "type": "pie"
           }
          ],
          "scatter": [
           {
            "fillpattern": {
             "fillmode": "overlay",
             "size": 10,
             "solidity": 0.2
            },
            "type": "scatter"
           }
          ],
          "scatter3d": [
           {
            "line": {
             "colorbar": {
              "outlinewidth": 0,
              "ticks": ""
             }
            },
            "marker": {
             "colorbar": {
              "outlinewidth": 0,
              "ticks": ""
             }
            },
            "type": "scatter3d"
           }
          ],
          "scattercarpet": [
           {
            "marker": {
             "colorbar": {
              "outlinewidth": 0,
              "ticks": ""
             }
            },
            "type": "scattercarpet"
           }
          ],
          "scattergeo": [
           {
            "marker": {
             "colorbar": {
              "outlinewidth": 0,
              "ticks": ""
             }
            },
            "type": "scattergeo"
           }
          ],
          "scattergl": [
           {
            "marker": {
             "colorbar": {
              "outlinewidth": 0,
              "ticks": ""
             }
            },
            "type": "scattergl"
           }
          ],
          "scattermap": [
           {
            "marker": {
             "colorbar": {
              "outlinewidth": 0,
              "ticks": ""
             }
            },
            "type": "scattermap"
           }
          ],
          "scattermapbox": [
           {
            "marker": {
             "colorbar": {
              "outlinewidth": 0,
              "ticks": ""
             }
            },
            "type": "scattermapbox"
           }
          ],
          "scatterpolar": [
           {
            "marker": {
             "colorbar": {
              "outlinewidth": 0,
              "ticks": ""
             }
            },
            "type": "scatterpolar"
           }
          ],
          "scatterpolargl": [
           {
            "marker": {
             "colorbar": {
              "outlinewidth": 0,
              "ticks": ""
             }
            },
            "type": "scatterpolargl"
           }
          ],
          "scatterternary": [
           {
            "marker": {
             "colorbar": {
              "outlinewidth": 0,
              "ticks": ""
             }
            },
            "type": "scatterternary"
           }
          ],
          "surface": [
           {
            "colorbar": {
             "outlinewidth": 0,
             "ticks": ""
            },
            "colorscale": [
             [
              0.0,
              "#0d0887"
             ],
             [
              0.1111111111111111,
              "#46039f"
             ],
             [
              0.2222222222222222,
              "#7201a8"
             ],
             [
              0.3333333333333333,
              "#9c179e"
             ],
             [
              0.4444444444444444,
              "#bd3786"
             ],
             [
              0.5555555555555556,
              "#d8576b"
             ],
             [
              0.6666666666666666,
              "#ed7953"
             ],
             [
              0.7777777777777778,
              "#fb9f3a"
             ],
             [
              0.8888888888888888,
              "#fdca26"
             ],
             [
              1.0,
              "#f0f921"
             ]
            ],
            "type": "surface"
           }
          ],
          "table": [
           {
            "cells": {
             "fill": {
              "color": "#EBF0F8"
             },
             "line": {
              "color": "white"
             }
            },
            "header": {
             "fill": {
              "color": "#C8D4E3"
             },
             "line": {
              "color": "white"
             }
            },
            "type": "table"
           }
          ]
         },
         "layout": {
          "annotationdefaults": {
           "arrowcolor": "#2a3f5f",
           "arrowhead": 0,
           "arrowwidth": 1
          },
          "autotypenumbers": "strict",
          "coloraxis": {
           "colorbar": {
            "outlinewidth": 0,
            "ticks": ""
           }
          },
          "colorscale": {
           "diverging": [
            [
             0,
             "#8e0152"
            ],
            [
             0.1,
             "#c51b7d"
            ],
            [
             0.2,
             "#de77ae"
            ],
            [
             0.3,
             "#f1b6da"
            ],
            [
             0.4,
             "#fde0ef"
            ],
            [
             0.5,
             "#f7f7f7"
            ],
            [
             0.6,
             "#e6f5d0"
            ],
            [
             0.7,
             "#b8e186"
            ],
            [
             0.8,
             "#7fbc41"
            ],
            [
             0.9,
             "#4d9221"
            ],
            [
             1,
             "#276419"
            ]
           ],
           "sequential": [
            [
             0.0,
             "#0d0887"
            ],
            [
             0.1111111111111111,
             "#46039f"
            ],
            [
             0.2222222222222222,
             "#7201a8"
            ],
            [
             0.3333333333333333,
             "#9c179e"
            ],
            [
             0.4444444444444444,
             "#bd3786"
            ],
            [
             0.5555555555555556,
             "#d8576b"
            ],
            [
             0.6666666666666666,
             "#ed7953"
            ],
            [
             0.7777777777777778,
             "#fb9f3a"
            ],
            [
             0.8888888888888888,
             "#fdca26"
            ],
            [
             1.0,
             "#f0f921"
            ]
           ],
           "sequentialminus": [
            [
             0.0,
             "#0d0887"
            ],
            [
             0.1111111111111111,
             "#46039f"
            ],
            [
             0.2222222222222222,
             "#7201a8"
            ],
            [
             0.3333333333333333,
             "#9c179e"
            ],
            [
             0.4444444444444444,
             "#bd3786"
            ],
            [
             0.5555555555555556,
             "#d8576b"
            ],
            [
             0.6666666666666666,
             "#ed7953"
            ],
            [
             0.7777777777777778,
             "#fb9f3a"
            ],
            [
             0.8888888888888888,
             "#fdca26"
            ],
            [
             1.0,
             "#f0f921"
            ]
           ]
          },
          "colorway": [
           "#636efa",
           "#EF553B",
           "#00cc96",
           "#ab63fa",
           "#FFA15A",
           "#19d3f3",
           "#FF6692",
           "#B6E880",
           "#FF97FF",
           "#FECB52"
          ],
          "font": {
           "color": "#2a3f5f"
          },
          "geo": {
           "bgcolor": "white",
           "lakecolor": "white",
           "landcolor": "#E5ECF6",
           "showlakes": true,
           "showland": true,
           "subunitcolor": "white"
          },
          "hoverlabel": {
           "align": "left"
          },
          "hovermode": "closest",
          "mapbox": {
           "style": "light"
          },
          "paper_bgcolor": "white",
          "plot_bgcolor": "#E5ECF6",
          "polar": {
           "angularaxis": {
            "gridcolor": "white",
            "linecolor": "white",
            "ticks": ""
           },
           "bgcolor": "#E5ECF6",
           "radialaxis": {
            "gridcolor": "white",
            "linecolor": "white",
            "ticks": ""
           }
          },
          "scene": {
           "xaxis": {
            "backgroundcolor": "#E5ECF6",
            "gridcolor": "white",
            "gridwidth": 2,
            "linecolor": "white",
            "showbackground": true,
            "ticks": "",
            "zerolinecolor": "white"
           },
           "yaxis": {
            "backgroundcolor": "#E5ECF6",
            "gridcolor": "white",
            "gridwidth": 2,
            "linecolor": "white",
            "showbackground": true,
            "ticks": "",
            "zerolinecolor": "white"
           },
           "zaxis": {
            "backgroundcolor": "#E5ECF6",
            "gridcolor": "white",
            "gridwidth": 2,
            "linecolor": "white",
            "showbackground": true,
            "ticks": "",
            "zerolinecolor": "white"
           }
          },
          "shapedefaults": {
           "line": {
            "color": "#2a3f5f"
           }
          },
          "ternary": {
           "aaxis": {
            "gridcolor": "white",
            "linecolor": "white",
            "ticks": ""
           },
           "baxis": {
            "gridcolor": "white",
            "linecolor": "white",
            "ticks": ""
           },
           "bgcolor": "#E5ECF6",
           "caxis": {
            "gridcolor": "white",
            "linecolor": "white",
            "ticks": ""
           }
          },
          "title": {
           "x": 0.05
          },
          "xaxis": {
           "automargin": true,
           "gridcolor": "white",
           "linecolor": "white",
           "ticks": "",
           "title": {
            "standoff": 15
           },
           "zerolinecolor": "white",
           "zerolinewidth": 2
          },
          "yaxis": {
           "automargin": true,
           "gridcolor": "white",
           "linecolor": "white",
           "ticks": "",
           "title": {
            "standoff": 15
           },
           "zerolinecolor": "white",
           "zerolinewidth": 2
          }
         }
        },
        "title": {
         "text": "UMAP by Cell Line"
        },
        "xaxis": {
         "anchor": "y",
         "domain": [
          0.0,
          1.0
         ],
         "title": {
          "text": "umap0"
         }
        },
        "yaxis": {
         "anchor": "x",
         "domain": [
          0.0,
          1.0
         ],
         "title": {
          "text": "umap1"
         }
        }
       }
      }
     },
     "metadata": {},
     "output_type": "display_data"
    }
   ],
   "source": [
    "fig = px.scatter(\n",
    "    umapdf,\n",
    "    x=\"umap0\",\n",
    "    y=\"umap1\",\n",
    "    color=\"Metadata_cell_line\",\n",
    "    title=\"UMAP by Cell Line\",\n",
    "    color_discrete_sequence=px.colors.qualitative.Dark24,\n",
    ")\n",
    "\n",
    "fig.show()\n",
    "fig.write_image(\n",
    "    static_figure_path / \"round1_cell_line_umap.png\", width=2000, height=1200\n",
    ")\n",
    "fig.write_html(\n",
    "    int_figure_path / \"round1_cell_line_umap.html\",\n",
    "    full_html=True,\n",
    "    include_plotlyjs=\"embed\",\n",
    ")"
   ]
  },
  {
   "cell_type": "code",
   "execution_count": 18,
   "metadata": {
    "execution": {
     "iopub.execute_input": "2025-07-03T22:23:18.125670Z",
     "iopub.status.busy": "2025-07-03T22:23:18.125572Z",
     "iopub.status.idle": "2025-07-03T22:23:20.920202Z",
     "shell.execute_reply": "2025-07-03T22:23:20.919776Z"
    },
    "jukit_cell_id": "XjfIInxjNN"
   },
   "outputs": [
    {
     "data": {
      "application/vnd.plotly.v1+json": {
       "config": {
        "plotlyServerURL": "https://plot.ly"
       },
       "data": [
        {
         "hovertemplate": "Metadata_seeding_density=1000<br>umap0=%{x}<br>umap1=%{y}<extra></extra>",
         "legendgroup": "1000",
         "marker": {
          "color": "#edf8fb",
          "symbol": "circle"
         },
         "mode": "markers",
         "name": "1000",
         "showlegend": true,
         "type": "scattergl",
         "x": {
          "bdata": "n4SFP5d3oD/4ao0/srmNwMV9hj/XH/0+hRKPP67T/z4palW+9lR4P3Droz+1Juc/cKvDPz91VD/tygJAdjhVP4V93z7dV4k/KSxLP09QwT8MhTc/28ABQIhqlT/8dI0/Y75hPxCwKcAf3ok/1Kb2Ptwnrj+1QVC+B1WjP2F1Zz8O3lU/NYuCP/Trbz/pSY4/dVpXP2LwIb7/M44/EdSJP2m1YD+wiWM/RVasP3I2iD/wv2w/nGD6vCUkPT9ag5A/M3N8PxEzYMAb94q/lNe1P5yuKr9unFbAmXM4PRxEBz/ifDvAoKZOwFSG7L2zv7A/keMrv1XgJD+TEIw/lZExwOHNUj9Sabw/0NIqwFpAjz+PAq6/yzccwKJOZMDifTfA1fijvwnHmD+kklzAPQ+yvznWYj4Rf1s/RyH9PnH0qz/H/1Q+85+MwIknUj+5fjY/Ut+IwJ3NUsD91Lu/m34OPyDZC7wlc68/sSzEPFp0pz5vR5rAqWUhvdxxyT9ZHl8//rqlPZq+Xj9feKq/d98BwNmDs0BqWVM/wp/KPwwvJj9ewq5AKBzXvoHXMD9PJF2/nT6DP6Y67r5yv98+rb51P8Gz+b+/s0s+bQNTv8MOX7/LbvC/lEQpPwXzsECMT6A/zkBZvQ2zoD0UkQg+k3uHP2wJWj94nMM/TPCOvk2Nrr9E87U/MnaKP6R5Dz+MjHc/pq5iPgiVFsAysc49o5JnwBV3jz+vAoO/vVuZv/smjD93VJ0/Pr7YPsuNBz4WQW09gY1uvxOfmj4WinG/YPGHP+CgfL5ACCs//1ItP+HwLD9dfZm9ORXDvTGWxT5NhCa9r4FJv2JwMj/DwYU/e6Q/P7IhIMCKXow/eLccP1s2Lj5Y9WS/qS1KwNQrsb7WDl6/GRABO8ytFT+qqym/jyaNPjb1fL8seZ0/9MOCwCxfdcCDcLk/MBj0PpItgT6Gj1c/sLh7Pmp1xL5cPFw+ZfgXPvSvpT5ktRG/gygdvv6lND+PzizAoz5hvgE6Pj86CMQ+18WBwE/DgsCLyS/AMxSdwJPVxj4ipnA+6Xlov7hhV8AJijQ/yMutv3+plT7xP8A+2k23P53FOT9duta7soDyPiKwuD+L3znAralFP1ZIvz/Nroq/CvqMv1voHz/tYd8/07UxvITi4z65/04+1ECKPpio9D7yIK8/g/r3P8SxYj/hBOs+stIYP4NLDsB8BMo+34XDP8KIGj+S8WC/LgSRPPi2nT7cLBrArCB5P9FLGT7j6oC/MReEvUlwa8B5F4k/ATOWP8NiXT9GtBk/96LWP9loDT+6jXI+oSfWPhfvKjz2Nyc/5HSPP7+O+z3/8Fk+9cU1PenxBsA3JA0/yCvCPwtcFD7ptRM/yMl8vxqvTL9vk6M/amHVvYMzj78G1kW+Dt0aP8UyrD+07wO/3uzZvdAsGcBmY4y+onVGPxMXKT+ljpM+MuThPlpZTL50bGk/7hG0PnyCI78ohrk/ayd0Pw40m78iiym/ipv+PjJpGL+6iWY/5XAFPzRBgMAXKZe/SOyCvuKF9b7YctO+cqqFv075JsChHXS9QQQlv636/zu7Z1A/PcJZP2KFBj07yLa/AMMfwIKwo7+KVpS+HH0SwKKSgb7H4HnAVHryPShZNcCBKTrA+1kLwPLcrz6SDsC/6vRrwOl6nL70g7S/VPa9v1o0d8BigV49xAXov++cjT3qPGXA6BQvwJJzjb8XsbG/coiOv8dt178wOCa/XkI2wIs5r7/GY7C/8JAxwLf+NsBHOBU+evsgwLYmO8A+Nd6+uFodPqiwCMDaURTAxJewv8DECMB7gZo9k/0TvxAGFj5hNXzArqD1PQCw4L8bnr8/PLISPo+sdL/G2GI/f6eWvzO86b+OQXC/aSQVv5Ghvr+t752/zn80P9FA5b+F98e/zrvXv8PzvL9Z4cO+aejWv9ctWb8GrI2/FMGivqY5WL/BHvm/h0Hgv0MyEL8Rf6K/JAq2v8Rvjr+jyMy/u1WfvhkZh76BdD09YApLv8X92r9Gfq88tGECwOkwxL/Zrpe+EI1Lv7r8i748vNG/kQvEv2BVi7/u7Mm/j0vJv+rA279kJtu/if4FPj9b1b/J45E9DnGivtr1Zj+TIRm8bsayvyuG+b/eN9W/B9KSQM6Bgr+56YHAYLdcwKr9J7+iZYXAcMiEwMB3x79PTFe/3Ngiv+fP4D732DXA9eUJwOPhBMCfymDAey0twASU279+ajrAZcHOv1917b+FnYc/G0cVv5HnI8AcP7O/NUgCwCzLhj+/AjDAdPrDvzI+mr70NCW/lhtnwMQF9D7j9j8+Ha6Lv1Drd8BW2cO/rIUmv+QfUr9okrQ/2r8rv0qAfsCi7uC/g+7gv5AxdcBcAj6/c6CDwDL5xr/4uxO/qB2LwBOsvr9Ifrq+7MSKv9cnmb8VVlfAzRBLwAD4+79jlgrAqNGAwBie4L6yBn3Aw5grP2sbXr9+Gzu/qWYmwJ8vcr/nzX+6bWaYPy1KSb9o+CrANjEowEUs8D4Ciqg+z3eFv3n5lT6A0n/AiaU1wF66BcD3W1+/2uaHv26mIsBEb4G/HO00v9NEX8AY8mO/W2F/wLfhSsBrw4Q/BK5tvvQhyD+kwBTAzTqFwJszTb8tk1nAT2VQv/HH2r8FSKK/rXrCvterub/pcQfA83B7wNJARL/hOtg/bStZv713Kb/OmoI/VR2EwBq6F7+Kdn8/4qK4P7zCVcAWvoTAvn+WP36f875LvotAbQxkv+Bolb8czS+/DC3UPxq7Eb8R0k2/o4Edvz4cmT84IoQ/8TZrPYenXcChwxC/6PKmv4Y6wT/9QIa/1yRSwMUdRL+x0qS+xVh8P/8OIL9PGNK+ettoP3TYxj9wa7q/Y0gwwPMhnD9PAnu+q1yyv6dkOr+vnXC/QAGrvcyVlr+s4Ji+XumjP1chOsAf1hjAgxQQv5Aahj+5m1s/JxsDP4LKLcCjenrAFniGvVgVmL/9TZu+AtXOv7KIHL9xeDI+IrYKP6rcF78YHHXAFksBwB50TMByvmg/Hrxxv4PG/7/1cw2/f0T6vvnVr7/0jCC/berVvzf3vb+K1Wi/cAtmwBjPqT/7GNu++7NIv/gAIsBpSI1AyIA9wCQQmT/HkCPApATXPzrDyr9t3JK+L9Gsv3qbk0Ay69S+NQmbQAGGAsAZ50c/x5eAwEUxgr4aH7O+5lBQwL3KEMAdr9C/hAeWvfxFIsAUzlvADNPZv7SaUb/aH8i/YPEOvxR0hMBi+SzAnRghwKIkgL+dEjG/JE6UwMqOvr/tnws9kKCdwAIkl78DwXLABegJwKVGtj+FP0TA0QkbwJh1tr6whIK/YbvLvyaGAL9EgjzA5SF+wNHxBMBnglDAfg0fwAqADsC7OJ7AcGgjPmkHZMDtyJK/8Lo4PgNhh8BIt3jAREcgP9xk9r8FwIw/sF4bwIKOjb+6H7W/Da2Fv7sj2L/71ZvA9pOjv4aHy78ktrW+lu4rwNROksDuVnW+HZadvwU30z5SNkLAHWHuPjSOTb/KR3y/yGjLvyBXyL/AWIC/+SIkwP58jsD2YgTAB3gnwItbQr/nbfq/YqqdwIRbAb71gkA/wGyuv+iSyr+FZEDAKLSKPxJCpb9JnQvAJBM+wGDoJ78Blee/jd4KwNdzP78fx5m/xqYhwKm6mr/yvk2/xDiSQGmGB78qtZjAXQnavlMIqL+nqMS/xQ8IP4O4R8BKTXu/XB/vv79bi0CmNc4+p0sSv4Ok7r4VgRzAQaNTwOQlPsDhJhnAGJiSQLLRx7/oN9O/EWgNPzAsK8D+cqm/d+IQwFLKur9appRAzpJRwFcuX7+TKqm/dDeEvzN5RcDitY5A+leVQIl5A8Az/ua+D5nyvnVItr95pFC/EszDvyy0L8DpNEvAkSHRvhsEIcDTzNq+PpAzwC46JL8pPZVAt7/YP4l73r9MPNq/NNupvxORcr4IWLm/4kV7vwPLOcDU8o2/BARbv7tblkDprgTAsP+2P+W/t78QE0w/TlDnv4FSOz8kWA87jw2ewKD+6D8ARuA/VJCewOqH2j9df98/doRewBA9gcBejjzALkVbwFpawr8KLkvApI9hwKA+FMBCtZ0/UsxnwDHmuT8z2uI/tGXiPzJgJ8B8PbQ/ezCvP7zuEcCRCKO/zqrwvyVqCMBKR8w/0YavP/fV0D/yPEjAo+n9P2Py2j++/qo/HTfzvx8l7j/u3vE/3mhmP2as7T+TRtk/5FsAwBZIgj/AnAHAey3IPxX8yz9qbMs/SECdP9Qcnz/qo/A/cYn+Pr075T+S4TfAC0rOP1u34z/A4/A/fz4DQDmLwD/ML1XAJgT2P/ANkj8OqPC/m505PggBAkB4y/A++3OjPzmE9D9Gvrm/A+dkwGdIwD8vCwFAnU/MP4Gf6D9PiTnAwHE7wEca4D/sRi7AGtnlP7bY3D8xI2Y/atfoP1nM6b9QEew/pA17wA3QQT+dSdW/FRoCQCbgPcA2+4M/NvjxP07O9T+Tgdw/BYI0wN6p7j+XJZK/5WQowNJQRsCv+jjAxsw/wK1I/D8goua/puyxP+yO8j8juDzAwHTJP6jAVT/IH+o/kdB6wJTCqD/FmcU/neAewLs7xz//MOw/pCJ0P2IXK77+C9S/zIZMP+Kiwj/jMb4/WB1FP8sJPcBVgaQ/ltKhP7SpRj92+6W/SVIxwDbWtj8ewlU/mWcUP3Fijr+QX+U/h+TRv7vx5r/+kgJAxw/Bv9iqzj+9/d8/JfeVP7DNzT/WoA/ARUB9wI8lt78cyE/AZjYLwPiXL8Ax2/k/P4UWwL/brz15/dC/K2PvvwWyRcCsZTrAzsCJv+4jCsDlrBE+mlspwNJsM79ko9y/fanDP45Tw7/3wTbAAhHKv1uGIb8Zp+M9sisQv4QKE7/ePwY+NVdAwB08tT/id6O//+zcv73XGL+UPprAtUtav705OsALowbAe85av/GiTsDmic+/IqYzwGPo6r1cqIu/cB7HvyrEFcDR8SfACkAwwPzp1b+bybC/WOavPtfypzsoIYq/5pMAwMgZOcCP0pO/LK+CwHS1FcDKCQHAFenCvyOf4L+rjvW/0G1XvQjyqL/za/e/M77uv+D4TsBfY86/B2Z0v5kYcMA1ApU8yKtev62XKz/2be2/wmxdwJy10r89Um+/RKLPvwlIoT9gFL4/gGXWvxUClr8hn9y/vdwVvyaZQT6Y9gjA/1saPugOMD+rJea/SvGZv+fjo7++ILO/qWWovtPx77/mRfm/WfuEv5efXcDeYEu/cUusv4xnB8Ddeqm+Hs57wGIPFMCZlDe/ES37v3m3ecBvbVTAhLLVv9Pbyb8p6AfAvx2HwE3qJ8CjqZ6/+ZBtv4Ax2r8HhILAAJxlwEIe/L9l4Mm/uq4gwAQy/b86Xi8/x1ASwGgsfMBFHxTAA7ZqwGMUk77aYIjAeLs7wMcR5r81GXbAsM9twJD2B8C+fK2/OgFJv3hlesBf9V6/P33pv3992r9dL3Q/C6FHv8KHF8CetEbAxH8iwBn8/r+3YmrAd5cSwGv7i8Di1aU/q46aPyHRAMCeyIM9Sp9dwKB1ZcArM9q/QC7Iv+70Hj5Bfpm/Qq8Lv2uZ9T5gYKW/T+2Pvnk2mz5yMpO9YWlPwNM5I73s2Du/y0kaPkcE5b94dBM+DMuPvgFwkr9PLZI/T5L+PUeJor9dOGE/xtVWPT5J8z14lam//waIPS8Yn757TlHA/BEIvoS317+XAYa/maU1v63DMsAfXGO/tHs/PmJnmr8s2aq/MWu2voAoir88K+C+IkThvm46WL9tkbO/65K+vuTOzL3gC62/Yo2zu2k/qb/kRLC/5eWpPRF8sD9Qf02/ldMUv8d3I79wtW6+3S1ov8DHh78kK7w+1COmv+rqpb8ssZnAktN2v3tgXb3zRgM+vFdyvvrY5b1/+Ic8oLrtv6jU0j3553C/Fk5tvaRMtr99lMm+d6G2v4pUPb7R7Ay9irz1Prhuar8vZ4O+/eq6v5qTeL/n8qy/HRbAvibjgr6j/Zi/K8ljvafCqL/UnO+9wiOjv0WCFr7GlZ6/iLqov4ak4r5/g3a+QFd5PltL8D2pvsW+PPecv2gGjD0/FPO+PoF/v5hAq79XUjm+lOsavwKRb78GkZW/DdGav+Atlz8Ca4s8x98KPRsTwT9g7iM/LxWQPTFiJb/cYOW/PaWUvzIrfL4X7Dk+ccg0vrBnkL+5WAk76DKkv7wZXz+zm5O/HL8KwCEp0z/TuV+/AnePvtnWJsAvMmM9N1awvyo9cL8fSra/i9iLPq51970LD5O/0tpUv22wjr4xfRa+dqODvulcGj5jCwvASHOyvl9EXb89boc/JVEVvmZlwb0YXAY9B8ifvtf61Ds2NCq/0hyvvyonfL8yxKy/9sGaPlnDeT9cbS++h03BPmodxz85XAFAw2W2Pm+uoD5d18w/I3oGv2v60T+kNJI/K+cbP5ySgT+3QFE/XZijPhSJvT9rpaA/ixMvP2UWFD92Kmg/o3TIPq3dUD9Z32HACqmYPordCEDmDbM/7JSXPzvPlj/91oY+ZkkCPzPyqT6A210+Ui1vPn0pzD8SqwY/d8fIPnOgHL67z/w/mMvcP4fU0j+wwfE/vn2FP0YnHD87Dve9VcaNP5WjwT+n/O4/3rFAPw3HtT63+B8+ugqhPXje3z/3tfo/zsUHPjTIxz+i/Su9BWl9PpCIkD9SLPa8OmGWPkSUTMB/Vg4+4DrOP6JI3j4W8Ic/Ao+jPhz+/T/dzd29LJeDPuo3XcBjcuw/4mlpPXvbhz+/5kw/LlbnP9OmhD5igqw+H+UKP6Gy/D+r9AZAAyyyP0KV/T+rjvk+W0aEP6FedT93oUA+sGf0PfwYAkCv0a1A40z/P69n4b4T9kjAA8qFP1rD7z6spXY/6DTDPtblTz5s0EM/yjy4QCSObj8P2QQ/V48ZPidLGz9WyYI/00oFP08Jqb2vAkc/OHfTPzXICj5YN4w/DWqlvwUzGz5NavE/1YSXP8e69z8rgQNAt5P1PjTYtUC8TiE+pjw3PXWWob2zLxQ/L4WRP4J6Iz8vYAvAxXIfPsLX4T8cx+w/kTyCP8OFacAzJSPATeftP8IuKT/Ud6o/QpsAQIE6p0ChRdc/z+SsQADOxT8Y/4o+DSnYPln9xT5v+5A/JxuqP4LA/z4mnlk/n3SrvX9Mr0Baz7W9eyGwP7gPfT8GOrc/LpyWv7ezCj/lKSE/hcVePqWwZj9r6YQ/BTDxP4Ya4z9DlrI/3kQ7PTjXLz94Wkw/gwxiP1GNsD/ZcyI/pKCKPwGMtz9iYw0/bKW1PyQmtT/nwzs/nqqbP6opLj/RxWw/pzdvP20WUz4px9E/XIVOP864UsAzi3s/tO1hPyOYaj9Nxt0/E5YtP9eh5T6dS5s/dS2uPwpfiT8im6E/LeNpPwK4kz8qPE4/B4J5P2xIFz8/86E/sEmZP/52kz/rK6E/D4AJQICQAj52mIo+w+OnPwqelT/b42Y/KRlHP0NcbD/J0ME/8KdHP8W+RT80CYQ/mE2FP5jchT+qw3M/kc6KP44/nMCCKzc/uhenPklpTT9abCU/7gW0P8q6AT+XRtu9CPVUP84BYT8o3Xw/qzqpP+hMNj9F9h4/dppcPoPuFT+nlUE/KSEgPul7nz8m1Xs/ptC8P6pCNT+Bbx8/6B07P0awNr5C1ZrAGGV1P8ufZj9nYYg/8R9WPzyi3r8w9VXAJPOfPvMhRT/Mm54/s6yGvRTVmT+N2c0/EuUrP8z1qj9Tslc/jQgTPg7uXj8kMIY/5L4LP/706j0WeuQ+E6a3P2GkbMDlV9g/9CWlP9TvpT9AmQE/cT2XP4V6EL+EwG4/wU2JP2YXSz/EanQ/1BprP52lYz8aeku/mTLQPwO7vj8vi5w/7feDP+hVvT9S2JU/5Zt2v+nCvD9Kyc8/P/HzPzERsz9rb1w/9uK3P2VOSj/lFwQ+11yxP9JljT+3u8A/9/rsPw9npD+KYWk/2KQjwD3iQMAPtwvAvCbnv0rqMsB3n5FAoPE0wMiXMsBZl17AIKi6v+StTcCXBlzA6K8ev2c8jb+zTNQ90MhKwECkWcC6/0DAer8Sv73wPsDCIT3AGV+sPkeV+L9IkGbAk2Q6wAeFgj+ZeJO+HG0OwNzi7b/j/UrALY5BwNIGdr9skhHAHVIBwIcJBj/vmxPAfppawBztHcCCtiW/FgAjwOAqR8Dy5OS/zF4UwE89QcD2aeC/UXIpwK1NRsBRC7q/ywllvz5pI8ByTYU/7Gh0wHg46z+vAmHAOWbsv/QwGMA4IWbAx93av6myOsA03Jo/x/powMiDWMBaPqE/MvXNv7oeh7/UyFzA+DhbwEzcOsDZdHa/IRX7vtoozb7kfcO/BuxCwBTuVcBcdDrA7K1uwLBg87+VCTq+lBm1v0kZYMAHj1rA9ugpwJgDHr6ntlLA5beIPy6zRT8aoe8/xcgfwMnbT8ALn4LAzvotvxbDjcBJ2HHAmloDwP3sGcDEP2bAj3JOwOqU0T+TaI2/TI3Iv5x5VsBfZtK/dDpPwAjUZMApig/AF0wZwL6RDMDF8kjAH60ywOh8W8ConoLA20owwHQ8zb+l/QC/VGB3wGdMN8Af2HDA0dwtwAc4UsBAnVC/AV5DwO5Yb8DOvM+/El1wv8wz6L9XtHG/QBiYv8QiScAbMirAPy8tv9YZg8BYNg/AeJ1CvxesDMAzRYfATr/yvy5pOsAURJe/ulFawOQgw7/E9XDAIg8jwLNfHsA8qXnAgHV5P0NRU8DeclbAJFkrwN1zfcCrX0DAnHwxvzZN4r6rtEy/Q3LHv8ApAL+OCfi/4pGEwGkrab/tFI6/Tw6Lv2jcgr8Su1w/ypWLOwujOD/qtNi+Rdpuvmq5vr/u3Bo+/r6Iv/ZUpb/M5Is/aUXDvz4K5r+eU4e/5CMYPkxQZcCI2pa/fVewv/ieOr0NygLAVBE/v9I+1r8/6Xi//IQdvA9AGj9wo/G/OS0OwEGhTr+bR4m/yyMcv/f9gsA8D46/2W1Bvz6c7b82GqY/W8yOPnKh8z5fgLK+Pa7EPrGYmb+fWs2/buMAwCWOzL8z8kq+LgwdPsRkPcCzfOq/bLp5vtE1CsCyL/O/j70FwEHyzb8Q8Zo/RSQywFp4sz8coo9AY/1UwFsWO8CuIi6/PUolwB7v5b+oVga/MsErwOvNAsB2kqO/PAd0wK0gzL/Y4fe/6rCXvx72DT/XkWW/dPVJwGLsDcDwXmPAAEcswH8xBsDC/yfA/z2lv9FE7r/etsq/svruvh+gQ8BI4VbA4dVJwLTorb/ilxrAGzELwJQawb8JgmjADtrgv2rFCMDKUUfAph+OQC9wJ8D1uiLAX6etv6uzVcDF5bW/NW9ywK2nAcCAanrAasTCv8zqy7+lIte/WsoWwAbXlr8pxS/AKj+sv9w8bsB2tr2/nOAzwPt/CsB90wbAzdf+vyNTb8ArNkXA8ioDwB53r7+fmOG/ywIqwBuHPMA1gQjAxkAdwPi4r79rygjAqvg9wMC5xr9uw3LAzhogwObdEMAejSDAp2UrwKmfesACgLW/sfVfwFtiM8CbFwHAHgsOwEfsikBOah7AHEejP8ULQL71GSe856TZu5To3z/iUu4+oNEbPwBGED+WXCc/XKDkP1oqvkAvzoc/ofoev84cvz7WU8FAWiHVPmH2BsCWn/k+7LFUwJgy8j+lwQfA0lGLP0ajvUDPk4Y/q9z3Pybq8T8BZ4Q/0+ZcwBkGsz/pdQBAcCUjPpeahMB4JLs/CXfePtjpuz6mnKtAQRTtvoeiY8D5oaw/T7qRvnpQIsB4knC/R6mxvcZMtEBqopC+8+q/QGdnrj+WPh+/yCW4QJLbRT8GFFa/DPOhPzHb1j965s0/hLKNP6vOdz8k5bO9Wp+/P2HiwEAKZOA+v/sEQAUpDz+vcqZAHmJMP4LAv0AkCOk/tEQOv12mLj+WZUk/9tSawAF23j82Jtg/wQ3tPmCilb7/8r4/Y5PjP95a6D8OX+48o9CIPxSEhD8TIwZA1MnuPxxGpkAEUkg/dF3pP8X4oj8sf5s/UwPXva+uwz+26PQ/UiPoPxEioT9m3LFAjrHgP4xgnL482MM/Wnppv5lw8j8g0hjACMmuQASm9j9ODdW9YvTjPp5X2T9rfcO/EVtaP9MGs0Ax+209sCK4QAQG1j9jqcE/NwGpQApRN73dZvI/UdPHvcOrXj8AsTw/L125P/7HpD4WMia/tPdFP7CmDUDG7LBAUwlhP1hns79vpd4/BGNuvi1V4z9exfc/IxEJP35/skCw9CE+/KMMQPVlGj8MzQvAFwqsPN7mfD+gaDs/wJt6vVy2xj6BTrA/z0mYv80YAj4JOUU/bTzBQJjP4j/MiwJAzWLSPyhB2r75qK2/0Okev5IXL8AUI8A/q/CjPzI7Ab4+fkO8IjuSPGd9e79uOhU+jQNYuAIabL9p5gE/EFibv8lKgb4aGY6+t+Shv4omiL0YYFa/EuZNPLXqxD6YezrAXUXvPihTxr483tG9rmtYvlQAecA49Ow9+PZmv6A9Jr6W12C/2brdPuQ6b78b76+/+ePLv5+fFr97X0I/Ibwnv0VLvD+OIbI/llrqvtXTI7/Tr/c9gqHhvyRdX79onEm+9xsdvgKK+byUMZW8r8yMP0o0XcC7c0bACgm5P0vpOMD4OMg/xcYQwEkqt71vzoW/WwdrwLQrub9/cWO/0/1OPnnpGsA9ugbAM5lYvWzmtL+h1S4/ozIdvsE8KsANpeQ9pmxmvU9zrD+p03LAfGJ0wCUsY8BnBSLADLgCwKoZzL/CbKI/e9njvi+PcsASPJO+aQIVwJ3y5D/S+yLAA11YwOvJCsAjs8y/rD0EwEHBe8CV7WXAQ7woPtGhd8Db2Xi8RtV+wMOATcCpLYq+Ho8uv0FD17+t2w0/qllmP0vPAD5EMNi/WC2EwJrufcDRdR3AskKTPnAwhcBUg4XASvIXwHkhhcDUzILAILiAwAUKiMC3joXAPwKFwAZ2bb/T1IHAvpjqvxu/bb/iS4bA3kJlwOunhcDsRWDAm1yFwPxpc8CPr8S+RgFqwOg/hMC/uofA7x6CwFDOXMCD64DAQVt5wIVmC8B3YXTA/Z+HwDhtKsAD6YTAbJd5wM2maMCvLOC/13t4wMU4BMANjIfAcRo+wD7rhsB5J9u/hqh/wFsCesDrcw8/4huLPmCsUj7CA4Q/jUQ0vgYdtj/60em8/vMAwFN9uD6ZPSXAaIyGvpJ3bb0816c+iqCWu/6CIsBsTg0/WQVzPkq9B77nGSPAMr4IPxMopz7efKA/geOlQEYjIz+feP8+AgW3P42+tD9ePr0/Zd0/vxZ6AT8MSJg92k8GP6qCET+RouI+46W3PfU8KMAurd29gTktwAtJI72q6tA+c8YeP71QR761Ego/jR97Pnum3L9Wu8E+aNtFPZ45ED+CrK6/6LUEP/vwPD+JP8A/Vbzevcw2AD/oJ50+bwKRP5IwFrzC5Li/FxXiPiXJlj4D06s/dCUkwOUo1z6vy8Q+K7yuPzcplj5Ir44+megNviJcrj/zz7NAgSW4QDQB/T/2n/0+yo21PSB+BcCqQ+8+qUhtPuE4kj7ozp0+wTYWv8YKg781wQ4/nyWbv8LFn77pnhS/STygQAho4D7gxjo/mYNcv2YtUsD666m++5MZPs5PBj+R9xU/PpAePyKMTz/oRhQ9hVWSPj07tT6SUt89LmMRPtdhlz5SpYw+1JpzPsDJCT/j96xArnGtP7Kxpr1P/TA/+Bd1Pj1tqT7h3atA8bi+PGqRGD/TwYQ+uEGlPpTAVT5LPQs/S1kGPtQVGsDjAWE+nXMIP+uelj72srY/EuqQP3AO2D2aSUG/4OwqP0EpAT9X2Tc/tMJLPq5DGL/k5I4+cm2JPtpALj7OHSM/kF2lPmI8iT76lQnAW213P+sxXD0e574/egpIPgWbY7+N9L1A4Ok4P19Eq0Aiqfk+KT2VP2ia4j8n+94/q6+YPxh1rD2EXpE/7dGhP9Mbm8AeqYLA+oqKPyIsgz9Cesw/qCmNwKRilz8SoIc/5DI5P5wXi8CjS43AJlOOPzFSuzyO74s/jk2sP/56az+fl4rA5HRZwOA6hcApY44/68hNP0oAmT89TZA/+wqXP50MqT8aWYXALbiVP7+xez/u97E/NXJ7P4rzpD8vR8g/1UNmP4+QSb7G6oXAao6DPwlalT9QZEA/m1WLwK3JKz9Jmj4/P5SsPy+7HD9L0T8/dnOKwOgTrD/rAU/Ao8niPzouAr9AyInAGPymv9a9kT+Yin4+tuKOP+MgED8j1tE/PZpQwFnLbD+qPjU/nzfXvUn9hsAEl/A/rg7ZvwJo5L/Lvwe/DWysv8CCnj/wJMI/e015P1Qr3j/VTk+/DrLAP55AQj8Svj8/njBbwIQkvr/eMOY/MgycP8mZAL87tT6/J92OwBizrz9XbrA/wLHxPtFikT9ixtG/1iWDwMuV1j89fsk/g0z2PY5yOcCUgH2/4RlvPxiW7z5MCLc/EVmIwCTP4TrejqU/g/C1P8BaZ7/aFBw/CyatPl7aLD9ndc8/WPrDPz2cSL9G3K9AHWS7P80b2j/Yz+0/FfoHP2WjIb+9DL0/Fd72vvZdnD+j8qE/xD6lPy3JwD+jntk/DfBzPw8lQz9pwGU/BEWBP516xr4ukak/YmbZP+tcTL+f0is9h8pyP9PZ7D8Inpa+jVOUPovR8D7hgpQ/w1W0Pq7XHzw8NiW/8orgPrTyfT653La8a0SZPyfNVr8kCYk/GPNMv87tJD4ftpK+uKQlv83UIMCr0J8/YHU/PtGLFb9vT3XAfPVbv9rPlr63/Qk+ktxFvg5p475I8mC+fJwFwHvhj8AVNDI++ir6v73P7T5RmC7AosLyPedO7D54lmK+AUewPpwgmr9hqCy/tHODwFnInb/d5dM/WzFlvhelk7/GqDK/OkWgP+cEG7+HCcK+uEJJv6vjSL9xZA6/QZoywO+1Lb/oZM29UzbdvzAhib+hOMe/iewqv0Nk+L6rpPK/2tOKv3G2WL+WvyXAfoXGvY52Qb5R4NK+DNO4vy1+rLzVN9K+THzCPjiXz79AxNO9P/Vvv/g1KL4vngu/03eUPqB7OT8ibaO/r8tbvkKy4r9xwd2/jJoJvWoUtL0V4bq/at73Pn5Zzz/PZpa9dW6sPypm27/hT5O/qJJdwAel278HJ4a+6/hPv0BCtr9YwcS/7vGXvoQQ07/jyWO/BL73v/JIsL2gY6S+nToSP2Vw1b2gNIy/SjLwv02W8L+zT12+wymbv5nvmb/XAU6/8p6Yv0XFyr+wE+++6QXfvqgeIb+0cge/r2LhPuqhSr35Vjm/wmypv6Ek278decM/vhmGvyAO2b5Svma/Q7NevyHCH79+xJa+6lf/PioPnr+lBS+/P/vVv1eKjL6pjfm9A3F+v1QAoL9fJQW8cwWCvh0tY8A65mi/unF0vRdV7r8AWj4/8FJRv+Gqm78B7GU+agdtv0TDYL9popO/umGUvn5mk703Vv6/5m5PwHLqh7//gZa/GbGrv6EREj6am8I9jYHkvivDhr6ru5a/4EfAvptTbT8zjQLAqw4CwF7Ulb7gNSm+P3KYP/M3A8CmFTLAfcDPvUAyvr82jym+84oevwc5rr+4rX+/ALc4v3jQ8r/Hcga/uVfkv/zjsb9/uoG/TFw0wKXxm79VVLs+6iCRvsWibz9/A5W/Uni8vpRceD4i4vU+V+XEvtHamb9qM22/Pyd5P+UtfT+Vt+U+1r9Pvxjg079t2i6/0kjqPpJcy7/FZ6U/4h4hwAFaLj9Iwoe/Dz/Qv9g8sb7u+rw/xgvSv3tcHcADW3M/XhcQv0PYgD/BM+C/YI21vvziwj5SBRjAudICwIHJdr9do+i/yg3wv1n3lr9xSU/AU0uUv0qBcb+sj0W8E5ujv3uKOcBOoCi/AI+4v7uYBMCrcdC/1kR6vzINUcBxb949nGkWvm/dFb+Qiqu/CN8EwBwi+r988ALAnF1/vwBUcr+BVe+/h5KCP3uJZ8Amx4I9zPALwCH5EL42I3a/Ho9xv3Wv4L8pEgTAZnwDwAxaXr8mftS/dw4FwHwY0D/veF2/CGvcv72Jsr/wTtA/zqUivoMsPLwwsj/Ao26NwNlebD6S8nrA3qOKv8tjWr5/lry/zqRXwKBUsD+HTrC+N9Shv2SaSb90AofAZ+0zv5j+Ob8TXfe/zaJ2wKakhb+JwIjAqV5xP1ZlR7/50lK+PvwowO7FFMAunnjArjlcvaG4cMAd0Ce/Xf2hv0h4i8AEcoU/fnNRwFXhRMDw5BO/78x9wLXhPr88lJ+/fi/BP8/uY8CGjWXA1JiMwCn0sb5CXQTA361Xv/Jff8AglIHADKCsvuzBecDp5l/A",
          "dtype": "f4"
         },
         "xaxis": "x",
         "y": {
          "bdata": "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",
          "dtype": "f4"
         },
         "yaxis": "y"
        },
        {
         "hovertemplate": "Metadata_seeding_density=2000<br>umap0=%{x}<br>umap1=%{y}<extra></extra>",
         "legendgroup": "2000",
         "marker": {
          "color": "#b2e2e2",
          "symbol": "circle"
         },
         "mode": "markers",
         "name": "2000",
         "showlegend": true,
         "type": "scattergl",
         "x": {
          "bdata": "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",
          "dtype": "f4"
         },
         "xaxis": "x",
         "y": {
          "bdata": "TGRHQEDsgkD6RplACHpuQA4dmEBkMMpAqK4gQMGptEBkB0FASYWtQJk/IEAGEChAJC1BQJDfyEBmhptAbLJMQGa3PkCe4p1AIZ48QJn+40AZ/pdA9eY8QFOWJEDYroxA7HYgQH4nrkBq45ZA+CYjQBDGnkCWtJpA+z04QHGAI0DlHbZAusMPQdYJT0B3rEtAjG2+QBKDb0Cew6hAFo0pQHBmH0AziGtATWwcQAm+HUBmlKNArYJKQGg8H0BR1JtAeLzXQIH9O0COXJFAfxfxQIf8z0D7VNRAdMv8QLdj0kDAcMlAf72OQCu7tUCC+rpAG333QDWRyUBZRHpA3whxQFgVVEBGay9AFyzPQMCHt0DlDhlBEWrRQF1IrUDvhaZAHB71QPzR40AwT/BA0NHHQEgyRkDY3fFAlRgVQY6h80DNYOBAq4i2QK8F00AWnzVBxIAfQQzurEB2C8NAr81+QCmQhEDXW9RAKyAtQV3I8kDZ06lAsY5iQCKU/0DaqYpA4MFCQHUJ3UB39epA8trVQPsEikBz2rRAn7D1QBFUr0A7zwdB3ia4QMk91EDm0r5AXqApQJeuKEAJ28JAjJ75QI8il0BogX5A7CbqQM2du0DIAMBA7WmRQIMh+0AURBlB58/6QG2OSkA5PrtAzL/XQA75nECbwcBAwpXCQIXbpUBjd7pAEiOJQBRp2UBA7OtAezS8QPE69kC8I/dAazjYQIf1+0CrH+9A6LDwQBAKJEAsvQNBmRIHQeiY3UBLzflACNcVQaIQ0kCerSdAI4/SQGN0IUF9jBZBh1H0QITZ00AW6KlA/nvWQJ0WjkApjk9ALJ7cQEEy9EBUtJ1Awt+zQM2oy0C1O4FAPN/TQGZVhEDjec5A55nbQGQV4UADyL1AQmwlQD3J/ED/8btAw4bWQLVkLUGbDOFAKmGUQD1lwEDVfnhAnAO7QCmezkC9wr5Ao6ojQVy50kBzVSdBkPHMQNnw5EB41ttAP6UgQQk+wECec65AeQfEQN4/qEB9TM5AOSPcQMUUpUAFcehAbAv7QHKizUA7L+VA+M/bQEbuYECfusRAKWrEQD0A6UC11QFB/jrQQPkU4EDD7xdBpyQKQSm57EBoMt5ACKrwQLzo3kDa3tlA+m/HQLk5AEGblCpBWsaQQNh+v0BnBeNAPgC+QOM+MkHa6H1AYXTCQOu8EUE+j9hApq03QaRpCUEG0/pA17oOQbeV7UA8pfxA2vq9QIFGHEFIle9AL0bxQIA52kAqOfJA12itQMRDw0Dm9bpAx1DXQG82H0FbiP1AWUTuQF533kDKj+pAymC7QEGGsUD2FdxAZFDbQNG3EkGg1PdAHFfkQCwP50Dpjc5ASzP4QOEZ/kC2GShBv0QsQAjW3kBR4dpAvEfaQBTrK0FUnshAnYMLQZt84kCoxrZAfAveQG6D6ECgUC1BM/q5QNNJpUBKKwJBU2gSQXU5MkFke+dA/cgeQWAd5EBwIgVBT9U8Qbsw20C25tBAH9vXQCc1GUGD2e5AozQkQQDpzEBtdhFB8bwOQeqWUkDN6x5BhHfYQCDsHkELvixBwhbhQKUzw0BwTvxAYaEQQdOS30AKLvNAR14hQe8KP0HzPTpBop8hQZahOkEasztBHMc8QWnUJUHrnztBM7ARQc+7PEE7bDBBrow1QeNBI0GVJTBBri89QRCFLEFmLzpBlh0YQR1TOUEQpRtBq1Y3QdCmPkESijlBsXIhQaPOFkF3SR1B0wEfQRcYI0FZ6T5BgfUoQUOYNUFwxjtB9r8rQarmPkFQyRtBeJckQb14J0H3WTtBtw48QbfeO0E34jxBJJMrQVQnBkE/MBhB33ksQdeKL0F/LCBBfDQVQdUNN0GoAh9ByfAmQZF4EkFQUt1Al+svQf4mEEEH9xpBqn8XQbJtFUE99NlAfsMqQXEdG0EcnedAO7cqQQ1rJUGHXyRBfmMkQSDVJ0GV1RFBF8IdQS9sGkG5cjRBwy8QQVJ1BUGvoddANesWQSisI0HM+jNBBxEbQad200AtjCxBRG0nQbTMB0HWlhJBe5QvQddqFkFcfx1BNwcoQfSrNUEXMdtAVuggQSvS4UDGdCZBpAgOQV4OJUHMixNBQm4vQW5BGUGv8TZBLAs0QQAQH0HUQwtBLNTfQM3F7kBMDuZAX/naQO0u1EAAbg5BqCXjQNYmKEHG1OxAelj0QEoMIEFsRQVB/EkzQZhCCkEJH/dAT9jyQE//CEHLHPhAQT/xQMZS2UCRQcRA33jSQOAfGUEhQvpAffcJQY1/DUF1FttAqtEfQVs72ECSA95AVEnRQALsAEFImjNB4YPlQBnvF0EKxxtBD4vZQM8p90D1hexAxZ0gQZOy7ECwFRNBDLEkQahJF0H09N1AYKL6QH+eBkHA9tlAfogNQfwmIkGaCh9Bv+AVQbUDnkAUWR9B9VEsQSbJIkHFCg1BmbEQQQ8ZD0HmgRdBC3giQUEMFEH4yzFBv6QoQQuzC0HoOCBBcFMhQVVeFUEv2QxBZNYKQT5yHkFLKzBBk34fQaAXIUG3eh5BXJIjQfnFFEEUvQ1BHAYfQRvFHkEe3TlBBjknQZglH0EWPCNBgAAqQb7gFEFnrTlB314vQfEXH0FFJDZBJk0nQRt0K0HEWAtBby+7QHrpD0EyfytBuogoQfw+DUGy8x9BVgsbQZWtCEFT+iBBL34nQamRDkFPiBpBUhALQWFGDkEnUCBBojQYQdBSIkGxwx1BJNQcQTulH0FhuhlB0IUqQVKGIUHWMhNBLmYgQcIUEEHoyxdBSVsHQU9LJkHwcBJBT3oRQUqIFUFAtxJB7GcKQa2JDEG/uBFBkwwgQebECkHcfRNBBTgVQVY7HEFsqxJBIxs3Qca9EEFx5SFB5vAcQSApIUFNRBpBFbohQawdJEHqnhlB20wgQd6ZFEH3JR9B0R8PQTHLGkEMxBtBp/wZQZV+IkH1rxFB7rMUQR4KGkFuzx5BuFgCQYWOKkGAhQVBbdwLQQ1rG0G2DgpBoLYmQaY6L0FXkyFBQsoXQeBdDEE9RyRBjjESQbBnFEHdDQ1BnkMTQYXFH0HCCB9BOgogQW8HHEEppRxBdp8fQQdoHkGtVRVBLOUCQazcAkG/SCxBazMdQat1HEEbmCJBH44SQcNXHkHbjZtAtBUNQZRSIkELqyhB5QIeQbN3GkFW7yBBO1UTQewxJ0GJ4QpBOOsRQWZZEkHCJClB99oYQVJPGkHtfhFBDosLQVecLUE3hyVBuH0iQWFoCkGg3hxBcq8UQeP5G0GA6RhBnb8mQeYWDEH4iAxBCpYiQeh0GUEwQRRBQCEKQTCCGUGTnCBBRVMKQauGFUH3TCdBZ/QdQYi4FUGpkiJBM5MeQU3/E0EZqxNBT28JQb85KEENyxFBPmEcQTXYKUFgqR1BNjk2QQsQD0GQOSBB+M4VQXorJkHUlBRBAcIgQUqpEkG7hiRBsrInQV3UHUGdYAVBt6YUQbHiAUFYsihB1k4lQT6pBkFelQtBnoEIQcpkE0FkqSVBZxIcQTwLDUHdPQlBMgAjQaDGGEEXOSlB0OAhQeDYF0HYCDtBfP0PQR+sFEHD5gpBw2AgQf4nJEHbkx5BhsgPQVxiJEEbSB1BKyIKQR+7EkG+iSNBa0eaQPVeHUExFhZBwRwUQbQGGkH2gRpBDiENQX34C0EEBQVBxEAVQeuWHEHaYRVBBMUZQXKfAkEu9xtBXC8GQTIJFkG54QVBYWYdQYR2GkEBFwxBS1YjQRpn/0A7KAJBO/wYQR9LEkE92wZBADMfQWQcEkHMSRpBf6UIQbl5G0EhuxZBEGkaQWoHI0GOtAZBlqsiQS2FEEHuMiNBeoSyQO4TCkE/0wJBs3MdQWTIIUFzdAJBv+8CQRavB0H8AxFBb2cdQeXuGUHSLAVBqR4dQSwIAEFYBAJBZEktQWEMHkFEpglBzU4RQSsnHEHudQlB1GQAQc8TBUFikQRBSzEmQTLEFUEHAg9BxQQDQd8zDkG9nRlB388gQS1vHUH/zyZB8SMdQTPxGkFw5iVBB/wbQbjPIEFmmCtBE94hQf2fHUGL1yhBJkwlQfW1I0H/ZyZBQHosQUitJ0G1oypBKW4hQSq5KkGaFiJBB34iQS+xKUFvix5B1vkoQWq0JkHeKR5BX5cmQWmkKkGjjiVBhVEpQb/IHUFWRhpBxOIfQYVcJkGhOSZBC4slQVO0IkGLayNBfqImQQ7PJEFUmR1BRaYqQattK0HJkyVBrGofQU6vKEFwKB9BtaAmQaKhJEEKtyhB4DMoQae0IkFz2SBBQ54gQbdpJ0E4vSVB8jwkQeK/EUFQLyZBkXshQecwK0EpsRhBBqUiQRaDGkH0HChBnkchQVlUHUHekSFBh9spQfImHEF0PidByJYeQeMyI0GPjSFBm9YkQabLCUGsWCNBKX0gQeoOLEFvOxpBHDQiQRSVEUE7KB5B4JgdQZKcHkHTciFBthYoQaK9IkEvgBtBS3ASQYxDJEGLUCdBZAwYQfHONEEZtxdBXogkQVOeE0GwmCdBhuMoQc6ZI0HrZw9BRDQfQezNvUBTqA5B7+cQQR/EIUEfOCJB21UoQWK5IUHUOSVBIMAOQetWAUG+xBxBV9MaQTcWGUHgzwZBDmsqQUYaG0G2HBlB/rwcQcMWKUFvGCRBp0EcQRTuIEH2/yJBEajlQNRzIEFpkgBBmb0XQZO290A/1SdB2NflQLLYGEFoKyRBtS0fQcNsB0EfRxpBN84aQUtb+0C0FRNBGzYKQWuHE0GsexlBG6MQQd8t40CEddxANdwdQTaxCUF+qBpBTaU5QU19NEFQnCtBjjAwQRUXLEFW0zFBvYY6QRz+O0F59gZBYAgmQeFyNUEV4ytBuyc7QUZtH0G35hxBvPglQYH5LkFnWT1BgwU7QcGhM0EbbThBEt08QTOANkHOLTpBVJwyQU1kOUF9PjhBGBYoQSJlNUHmwDVBWrM5QVC7GUEw7TlBBe8rQbOWLUHmUTdBpXU2QcKpL0ElKBJB6gI/QTbvG0Gi1jtBUlcZQSKHNkHt/T5BTcg6QcV8OUEH4zxBgAk2QS3dOkEULgJBpkmuQKPsB0Eu9h1BYO4rQSXaEkEboeFAgvHyQCVqFkEpjiFBctsEQXbYGkEIYTBBFykpQR/QJ0EtRwdBQtMdQeqUJUEB3BBBqxYmQTfdIkEc3AJBdA4PQeMR20BOcjJBIX0pQSNeBEE65SdBnQsXQTapG0Ef5vNARuMoQYuGJEFvBDNBzIcSQS3nLEGDQgFB0pwuQV8iEEEPkwlBvdkoQcXj3UBXXCdBeUrRQMz+IUFm+dJA5D4wQUcjI0HeCy1B6DcxQX+5DUGec/hAYWTGQF0x6EApdApBUKuzQPi6DEGufAJBK0fAQD3THkG6r9lAiw/dQLCDykAPUB1BYr7SQFmdAEFFn9VAz8zZQO72AkG5vOBAMAH3QLIeGUGjMdRAmIAPQWcM80BgCe1AxHv1QLR1GUH1udNA1J7gQEPQBkHFs/1AJLYAQfKP/kBjF61AzerhQDN600CpXwZBEXgWQXik7kDtcvRA0mQKQU5Uz0ChmdNAq1QBQbkot0BsbgVBslIAQRoHokAfX/1AtX8rQb7pPkGlEh5BEnRAQa82K0EfHTdBm3giQSBvMkEG7SBBuRwrQf0cPUFJsCxBzmosQbXSHUGgPzdB6s8mQVlNLEGaxvdAQrEvQSS/I0Ec8SBBdBMjQdiRF0F9uTlBAxY9QVCAQEFbNChBUrMnQRC4EEGqLR9BS1QpQcr8LkFkdSpBhGssQep9NkFU4SRBw7Y6QRPhLUFCmh5BbDMbQSJuzEDVWSBB7QMwQSolPUEWmTZBoZM8QXzHG0HyPC1BpgkeQSAJK0HWyCpBrhwpQeFfLUG26zRBF9QnQXVaLUGhnRpB5NYoQaswLEFx8ihBumMrQf9eN0FA6R9BC8w8Qb1xM0HCLTFBInA1QUKYPkEByEBBk+snQe5aH0ELXRBBbMoxQaT6KkG+pCZBM2gnQQ1vJ0Ew5xpBxs8fQUe5G0E4ERJBrpUmQYAEH0HSYCtBcRk0QY4gJkHMWB9BVyorQRaOPkHmmwxBKMEbQdlxL0GCIi5B9q09QX7iNUH7OSFB6tAxQRiBPkEQTjZBCT49QamjJ0Hq8x9BYhwCQSjQ+ECIsiBBDyElQZcMLEE8JUFBVEwhQbZUOkEIPCZBgu0mQWYaJEHeOzxBXCUkQbsoJ0HgJhlBB5IaQV7WLEG0nQ1BYrUlQa34OkEhxCxBL+4pQZEVKEFRzCpB+mw9Qa/kL0ECMBdBawk5Qa7NFkHRpBtBbSElQdcDJEFoKD5BkL0tQRj4K0ERfB5BbTUjQTwxJkEQvf1A/VIKQSfoFUErgCVBQ+DAQM8sKEGP3kBBqukfQQvi70Bmvg1BQPm6QNNhSkCNV5NAgH8jQAxlhUAV55tA5ySOQCiVikBcj59AZuCmQJE6n0BMrJtA4z2WQPGvm0AiiptAUlueQBCMnUC5P7VAestkQHggzUCMxC1Ao55SQM1bPUBWwjlBMUKpQKYUe0BjmqRAwuiIQMu6QkCVZ6ZA5h+nQPoZiEC47KJAG9OLQK2roECo8J9AFfuhQIJxhkACIFlAaD+kQG4qmUAOm6dAEIubQJVnn0DB1NpAd2qmQMuev0BxSpVAHNhVQBbtiUBmr7RAK8CkQNygk0DHQKRABK2lQOhcn0ABL6lAeVGxQHXcoEC+IZNAZ/n9QPH46UDMvNNAhCjTQMvC0UBAfbRA1qX7QCZgr0BW9oNAlJIjQZqLpkBVdqRA8aHxQOcWykAC+3FAKsisQIbI+kC26rBAPJ6pQOPawEDunKZAmsXEQMej8EAIi9xAAU6xQKpUn0AlLa1AQvCgQPtdqEAsuJFAdt6jQC1arEBetatAXoCuQF2woECqk71AMAGpQDLOnkDtwFlAQ1S8QEe+n0CzLzZADHirQGWpyEDyvplAt0nFQPfCt0DGCaNA3dUdQOcsQUAI291Awe3rQDtDu0AJNdZARkDJQNS4+UCgXMZAOn7YQNoitUCZFqlAu17rQP2J2UAt/LpAiyugQBSg6kAXJf9A4MekQHTwykBdHTBBd8GoQAS1qkCDB8dA8BHKQAFaKkHZW/xACPzcQLsr7UDlqPtAkcr7QAT6vkDSaMBAgnG+QCejh0Bo6YlAP3yqQD+1rkCwPLBAqgvoQDix70DjaNRAHV9QQG3shEAT1slAqeV6QEz5W0DoN6FALjckQG4XIkGiKnVAD5mMQMAveEAxmddAdfesQDZytUB1xyBBaSJSQIIYbUCB6WNA8LpWQN7LsEDViSBAteiZQElgjEDCvL9A5GzKQC8oa0DEct1An2bHQAd7rEBOUBlB3lauQNNJTEA39OhAfhpyQFjYh0Db+aZA2ZFUQGdrq0AhdWBAWjhxQMEhekAlP2FAPi+9QBb3jkDHVIRAkAFEQPyfTkD/08NA945nQKbKbEBjn51A2a8QQfruq0Cm7T9A3piVQDOsQkDxmKRALXyCQPmIUUCTsrBAxslHQG3pwEB5CzxAuth8QJAmx0CzCcJA0G3mQNlplkAMtYdAgGj9QEEfYkC4N51ACkAfQeYEXEAQg59AR8HiQHqgrECd9VJAnJ6mQMruhUBj55BAWTX/QANou0Df3slA6+yzQC0/iEAkq89ABlR2QPAWh0CVA8tAcLy3QN4TcEAo4L1AMatyQFeLr0DHG35ASsV3QKYBW0ArJXJAhE5iQCh7CUFK0rxAsrVfQA2h1kAS7axAN3TEQMaLU0D76nNAQcddQIl1gkB2R81AeB3BQPKdiUAhCrFAbGfeQBCzk0DCWF9AZU7VQDL5tkCkF6JAxBBaQKtYX0Ch2P1AZyTEQHberEAYIMBAHhv7QEm/3EDRRgBBkiuRQBZ5qkB1UtlAfFDIQPwN9EAlOIdAemytQFIYr0DW65RAfKytQIdS/UAO7IhAM/G3QJP0+EAVWNdA/c7AQLJxykDYLb9AH6jLQJt2jkBQz5BAavogQXseLUFXVSxBuQ0LQVovKEH0oiNB5BUqQT3tIUEB9R5B4PYpQWOsJEFAXDpByEodQc2OE0FF7iRBYJglQXYMLEHfhDVBFKYhQYdRD0GdFDVB9i4sQfPtMkGn4B1BJMYqQVDdFkEcTBdBOmQ2QeG3KkHh7ShBjTMXQfzaI0FXECpBw9AkQVfkOUEUmzpBLmg2QckwI0E/BiBBXPQ1QQDeKkEQ3wpB/3AiQUQuN0GePRxBfiIhQauHL0GDYzhBeI8fQUV1NEGkHAlBl7IaQWYCH0HK7CFBKcsQQdnRHkFG2gxBuE4cQb2sF0EmchZBZcUFQbwVHkHSLAVBQrTSQGFuIEEiSyFBnh4QQQmjF0HY5/dASG8VQWL5CUEPXSBBs34PQQg3DkE81wRByFIvQWQ89UDawB1BkCfSQNe6IUHz2AdBS2MbQUidG0FStwxBwhIZQW0CHEGtjiNBWtsLQelnC0F2IOhAoZgEQWolAkEfaxpBpOgZQR3TEkFjJxNBAAcOQQPOGEELhAdBfU0MQRK1v0CjRAtB3Q8hQQoXB0GxOv5A6oEQQeiG+0AgkAdBKEIIQVHWGUFIHRxBxVX8QD//+ECMcRVB8nceQVk6NEFMyAtB/m4VQb8ABUF9DAhBXpbhQBql8kBMQgRBAhv9QMO2xkAFIQdBYiEmQc7N2UAAHAJBzuYCQX9DBEEYgwBBMM0JQTJ9AUEkJxBBSFoSQUfywEC3fBVBD+MNQb9SJUHhufpACOcGQXLpBkENDRVBG8MAQblFB0EBHQNBL+j6QJW0DkG0ORVB8Kg0QdJ4BEGFFhlBhzMjQfiYHUG5lBhBLrUWQYytGEHouhVBgVsqQTNXAUFjzgpBoQImQegJIkEJERZBzQMwQTjjDkEaaBxBsRMkQTd7KEFNwyZB1b0cQcYPFUEQHxVB+2IXQcscCkFtAfJA6OgJQTswE0GdDQ9Bc8obQe7CIUGSG+BACGEvQT8mE0FoRydB+hARQcXHH0FaOC5Bb5AGQWD+DEGZLB5BZiMbQRT7IUF/sylB+zYYQfLREUE19y9BBM4MQdbKEkGvrgRBvrDgQCD8BEHeQ/ZA8tzlQJr1/kDzSehAUffpQIoM0ED4ztlADQ/1QIR56kBqy6RA40YFQRnRzEDcNupAMw8RQaVF/kAVBvBAl9v6QJql5kB/zfVAN+gMQZqz2EBA1sNAXcUJQdTYAUE9gv1A1UcGQdPW9UCVf/FA4HzOQJNo/kA19gFBQtbOQHafqUBPIAJBDOMaQRcr9EAlSfFA0ecDQbiA2ED38gJBxkbsQD/8rUAqWN9AAwEFQY882EBrG/RAgJUGQVcj6EBUH6JA66v9QK523UADrvtA3naeQEgmnEA96s9AQw/3QBRq+UA3IwBBo9vuQHQmx0Dhd/5Aey6fQEta4EB95cVAJLvzQL2psEDOqfdAHZHlQIIrA0H9ZO1A7F3KQBI07kDGkPRAETv3QIqN5ED+TvlAK1L7QBUwAEGuZfpAKl3PQEpL/UCjmONASirdQA029UBOovtARIvnQKMv3ECoMgJBKvD6QMTe20C+Nf5AU+7aQH5Lo0Ctze5AX+b5QFV1wUB/x/ZA2a+ZQBcZp0C3p7ZAd7rIQB9KrkA1zoxA54XHQKxomUAEIKNAYPuRQD7klkB+TMJALgKWQNV/k0DRkpFApGmpQHAwtkDbyJNAoDGdQNYBzUDwvZZA92uWQAofrkCDf6xAhaT1QBrykUDBlvZAQe3QQNL/nkDEfslAsTPBQCf+R0CxRY5AACNzQNUf9kDSe8RAEfvPQCzTlEC7maNAkt7KQDZNjUCLUIRANMWNQEozsECWBpRAVO2iQCxcMEDXe/pA6VezQAuY4UCe0cNAk+zBQPPWukB8K9pApZEpQJsY+kBA+5xAluqgQBfdyEBGKvJAUYDPQFAck0CHNqBAllagQH8zlkDuBthAwgekQInBn0DuFYZAiq2aQKL5mEDjcsdAcp6wQCvY8kCQyZdAz/z0QCsW90BUeftAEQr3QOCtmEDtLrFAQLSmQP89uUAhOrlAIvjFQDG3yUC2qJNA2D/YQEVQuUDFSpdAst2VQCArk0DdMJlAvkzPQMaankChIJxA743zQJgC70CQ9sFA90TLQJEkrUDwgfpAP4NVQNRDwEBbh/dAZhybQD2ky0A1EZxAXPDBQOrgpEDbavpAmFi7QD9G/EAPNuBA3o7LQDONmkAkGsFAHCOxQEThyUBahrVARv/5QIyp+kBNxqVArCa0QOTarEClVa9AmkypQLEVmEBz9NlAc8z+QJo5rECCuqdAPHyOQGTqzEAjUvtA9nycQPrOzUCJO4RAZ22oQIKH8EAP9PZA7iaDQIh7pkAvna1ALrHSQPbayUAns/pADiSNQDfKtkBPbb9Akvo1QZ0PJUF3LDBBA00wQSW1DEGOHyNBJ2gwQU8VKkHJ/jFBqWooQYhpKkHcAShBZ7zqQPpqIkFfzTRBtekrQZrJLUHeR/FA3MIbQdilM0E6wClBHlAsQRVbL0GXyTBBTcw6QZLMMUGOBQFBS98oQZrjAEFrqxlBh5EzQSY8LkEpLyVBDAEvQcIWGUFVTitBncYvQVf06kC/tAFB/nD7QOfGAUFydyRB3lwwQZYjLkEzmypBV9caQfO/MkFapTBBKnkhQesIL0GRES9BcWE1Qb60JUFelwZBwS8bQWXmLEEptSdBp/whQbaKMkESWTBB62X9QP0mHkH03h1BdvAXQW8g6kC89RhBC0TfQBOwCUEgQTBBFDTsQGGQ6kDTeB9BnBcyQR7zKEHU3PJAaI4yQZLvJUG1GgVBCc/hQMCYAkFjfgdB/XUvQUoCH0EhBAxBVYDpQMiELkGFpPhAuHACQaYYL0F+3ANBCOYPQSGE5kAliAZBdoQyQT+8LEFzLRxBDkDiQM6H+EB2FQtBwFMxQRMm+kBI8u1AwwrrQBXMAEEPXg1BC9cQQQ2zFUEbLutAI2rsQFA1K0Gqv+pA6sIkQQlyEkEJKANBGr8FQYfIK0EF+gxBdggUQSqoF0HnIxhB+iIHQe4T70D6RflAno0wQdf5xkDriflAJJjoQALfAUEiYPFACzcGQXSIAUFr5CVBJ2gNQVA2CUEUxAtBIb8PQeOR8ECXjuJAsrLvQLaSGkE05RxBv38NQZaEAUHurA9BlmURQbFb8kCguw1BK8zyQAjkCEGqqPlAHrMLQUXC30DhnQ1ByiIbQV34BUFaBwpBZHwmQdq1DUHT7gpBV1ctQKwn+0D1bAlBwfsKQeo2AEHfhgtBccyqQIVVCUGc4ApBo60QQaCYzkCEWA1B+jn/QJBgDEGfyglBGuctQfCCCEFNkgtBjzAAQZmbDUFUVA5B9nQcQbeDC0EMVxFBfFsEQSoNDEGg2MlAZxMKQVWtD0F2cwFBfyspQVPt1kA06wxBJZUnQWVADkG1KAlBx1UHQT1wOUGY2AxBPf4CQeZz/UBtqt5AQNnjQN4VEkEZAg9Bcb4IQayH90CIVBJBnFz1QPb1t0DdLQdB1KL+QLmX+EAaRwNBZx8IQYlgC0FqOcRAqjPwQM5TAEFx27NAWLImQSaCpUDqfwVB2UkIQTRCCEFUaAVBc84EQW4HCUHgNg9B3HMvQbha/0BEmgtBG3YLQc+OCUF8Ae5A970mQTC+DEGa4P9A2bwfQUoyBkES/AZBiarvQCgh10BVOhZBjHwOQelKEEHRSO1A3+kEQQw9+0Al2ydBTBnvQOIHu0DhWPNAENe8QJskAkG/yx9BAo8JQVmOEEGAb75AdKSuQPja/EAbbrpAtImRQLWB7kCev9NA6XPqQFQp0EDNVRZBFGADQZGdzECnTBJB+gXJQKI2EEEd3RlBRbMqQbPJDEHawMlACn7fQJx2rkD1wwBBawsmQfk9E0EM5uFAYIMhQX+Ks0AUzhdBXSAKQeR37kDuOR5BI9UZQQm/z0At7PxARX0SQR4mGkGzk+RAjGkAQaZ9CUGQh7RAmgwAQY+A1UAC5P5AmekwQL5woUC8Zp5AHUFFQDZ8mUAgjMJAA1+WQI/kPUCPmD9AhGFQQPJWrEAKZj5AK2GUQFqWzEB6gJZAVlaRQMvSvUBBuYRAi3J5QGJudkBUg21AF5K8QOgk30CT3rFAif8nQFu1K0DSAshA9e4uQCwMQ0ARFadABszUQCvTPECZpGtAjnw9QFdXrEDG8plA0s+aQLvKlEDuMKRA06SUQDQJY0AS/JxAnY9MQJZlJECbQytAdPuhQCJ6QUCOXm9ATEYgQA19zkBQBsdAbKH1QM8Om0DCb5xA4gnPQIHuykBrms5Ax8yvQPPzokDwZclATwLRQJwbm0Coo7xAHVHCQJ9JO0AvloxA3yTcQBhRI0Cz/sZA64vTQJoJ5kDeRFBAaYvNQON2YEBlZ79AX65zQNTppEAOFNtAU3e+QNIX6UDc4v5AtLS4QIf0u0CAxdJAgmSlQBi6okCjxJ1AIv/TQNfv3EC7Po5A6SWcQL2WwkCLND9AuIb1QKb8zkAod+hAZh2uQGF8l0CxYb9AVbPAQHm7v0AEbbdAkcH5QIaptkDPfvBAP+OQQKmTt0A6wLxATI6kQCCa0EDf9bdA1wnvQMMb4UBDI8FAfuuzQKeH+kAiQu9AzKHZQEm/+EBPqtpAFPJtQIFx7UCGubRAkXDuQLrp+EDhNLtAtELAQJJ/9ECxya5AsmX3QF3YskDbGqtAxXiaQNmQzECxadJAznfAQCKQ+UAjqpJArm/7QJy8tECENL5AZBLTQJD43kDDt8ZArTJJQB1ivEDw175AaZa5QFrYp0DTDsBA/tgxQUEUHUE+vS1B53ccQWg8MkEXTTJBTz4zQXKEMEHd3h1BWREcQQpAMkEaaB1Bu4QtQYDONkEtnTRBUPA0QXy/KUFeizBB5/0yQezsL0HpYzVBhxQxQdeVD0F6eDNBMLs1QVEiLUEEuRxB3Ro0QRxALkGVCDFByAw2QU4MNEHimRpBBwQzQZDrLEH2OBRBly40QQ9pLkGliipBBBY2QS6zLEGaLjBBWHUeQX/AL0FYZC1BYAExQaaNO0FAtDdBEHQzQdLANUETNTNB/Zg5Qd+sG0FOfDhByR4uQWMxK0GEvThB3BU9QTzsOEGcdS1BJC0mQYB8I0EEbRtBIgYxQaxzPUEUJiNB1okqQVlRNUGXjChBI3glQQzPIEHceDtBDAchQR7CM0ETfDpB2GceQY9ONEH9WzFBd10lQet0MkH0uzRBSocZQf85MUGzlTBB7qo7QRyxOUGkfSVBzGgjQZ6FOEGaMiNB6yQ9QS87LEGUkTZBRf4wQUJZN0E09DRBdisUQXAtNUEJ1SBBs+koQaEVNEG1OjpBRDYzQTsfHEE1lzxBc0Q4QVk7JkGknjJBXgA7QdvJNEFL0zxB75skQTN0OUFkMT1BhEcpQVNRK0GMii1BvA4GQYz5OEEvNThB/OgnQThjKEEz3iFBCyYoQe/LNEEFqTJBfZwaQVEZOUEyjDBBhcM5QfpmOEE7kSNBi1Y2QT91GEEyEj1Bs5s7QQ+uOEFFWTBBVfAVQVDzLkH6ZTJBWB4dQXy/MEH57TdB1AAxQVd+HUGJJDFBA+QkQaFSOEHLJzNBHXEdQcpoLkGEpTZB48Q6QbJhNUGg1xtBWRAlQVeSNUEHXh9BPXIrQfjxNEEJ+hxBysI0QSV2F0F9dTJB7gwyQXkLNEHdIzdBgFk2Qf6rCEFfaCdB8RwJQZimKkERYyBBuqwvQfUXHkFuJSxBFfEuQdwlC0Hwhg1Bd9s4Qa1QF0EBgyxBvuIiQf94I0G4KjFB9esbQcAuJUFEkSxBcH0pQQQsDkGReR1Bc101QX4+KkFUERJBa0Y3Qb/7M0HgFiBBqtE0QSQGCkEcQRVB6Q85QWLuIEET+TNBW7sGQX3XI0E5VyVBIrUyQaPsKkHUaxVBZzouQdrxNUHY2xlBtdb3QI0VMEGzwDdBDRAfQU7VFkECgBlB5ys2QesEIkHoCR1BTxfzQPxD/0C1ui9BzloCQT5XCUHRUjNBF3MIQf5kLUGz9DJBN5EHQb7jLEHc+TVBNVkqQVB2OEGJMBdBWrIzQSdJIUHUnBVBSTYlQRbAK0GiKzFBGz43QUERDEEhgytBHRvzQLhjIkHy/CBBzZYyQS12JEEU+OxAsEMRQUAdKUEO4/lApwwyQek190DzjgNBhmIIQbK/L0Hy9QBBUWcTQfbDE0HOcjdBWg8mQZKKEUHxfexAy/rtQFKoG0HKdSRBYEnkQAzvCkEM+gtB/mEfQfjjB0FJeCJBro8zQTlSH0H8279AOFztQDyQFkGNYABBquoVQf5/KEGQ2g5BlJ7LQGE7FEEmvjVBjo4NQQyyNUGKmTZB9IsqQQ3/7ECQ9xVBQoseQftfD0EBqLhAEPH6QIF46EDSsDJB",
          "dtype": "f4"
         },
         "yaxis": "y"
        },
        {
         "hovertemplate": "Metadata_seeding_density=4000<br>umap0=%{x}<br>umap1=%{y}<extra></extra>",
         "legendgroup": "4000",
         "marker": {
          "color": "#66c2a4",
          "symbol": "circle"
         },
         "mode": "markers",
         "name": "4000",
         "showlegend": true,
         "type": "scattergl",
         "x": {
          "bdata": "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",
          "dtype": "f4"
         },
         "xaxis": "x",
         "y": {
          "bdata": "HZvEQKBb4UDXY5xAnkAeQMBiU0DzoIhA9eNNQJ02YUDo5ypAHuepQMNskECPZXZAJaBAQGhOIEAHeE5AmOx7QO0YqECyNj9Ay9WnQOweiEBz84dAysQyQOOqR0DEBKNAQQ10QKmYekDwBlJAw8GyQNIIOkBXNsVAwmY0QFqppUBq/U5AOPzDQAnKZ0DEvl9As/yVQB2aJECT1SVAPHK2QBgMHUCpKIZANJNdQEQdzkBayLpAZn0iQL6KVUDR7LZA31dIQAi3s0B032FA4PCgQOOe/UCPSNRA1RbHQN2kiUA38jZAI7TPQAvHsEDGtfVAoQmnQFpWqUAu8KtADeRYQAjg80DuF6RAA9evQHh+lEBo28JAbdcIQeC1tkAIDGpALB20QAbi8UAdRbVA0JfJQPZiT0Dgqu1AMS2sQEmpwUCsz8dABGUXQSjIj0BMdUxAHwDHQOnMIECGUrJAOEOIQBtIz0Cza/VAIgxgQA8x4UAa2p9AAmn+QLGLjUCq1aBAnSXuQNkS60D/N6dAS7qSQOga00Ci9MJA/G7VQEM36kDwbOhAc2ntQE17/EB0FrhAqlNBQC01BkH4BsBAa9EjQfot10DVn7RAkB6AQHfuuEC/5eFAez6uQPSKrkDHB8BAYr3dQHWauEDxacBA2ADLQHXaGUFvHLtA1LewQIbMyUDbLLNARNHCQAjj4kDAG/pAHNS3QFrYvUAAkaFALAf9QMuix0A7JvdAJB+6QCOZw0DHBApBe6/7QPcqtkAjQyJBobTdQMwR2UBaishAgkQfQcMxyEBRZsZAFqEkQUShnEB2rsJAJ1+SQDEpwkCBsOZAYnJnQADV2EBEIdJATU/jQE/1vUDLUdVANBeFQI3vmUAVUNBAJcjRQF6ewkD2vN9A/VxBQNA5r0ASf7pA0diJQGya2EDjybxAaXaCQF8TzECqbTxAWzbbQAT03EAIgqhAWtlcQLv+JkFptIZA9PfmQFSL5ED2SvZA5RPLQMjIq0AKoLdApDPeQGCpqUDzja9AH8CLQMDYyUABNL9AvLjcQGLs80Da28lAiLz9QBdaIUHMw9VAmyi+QE1/ukCZ4ydBicrrQG88wkCMuQBBq9tCQJLK5kDeBtlAHi/aQJxOA0HEYuBALlbvQJZwLkEMRuBAEZPhQLn7qECvesVAdrwQQRYr00CywLRAI7UWQfVv1EB/R+pAkb/QQFlKz0BHowBBuEnXQDYNu0DEop5AJ9jJQCL24kCxPeRAa13kQHdty0AeOpdA077FQNcgBkGj1exATmeqQL102ECSeqRA89bqQM7d0UBP9spAgxexQDCl2EB04NhAYN+nQDu/hUDklV5AvX3SQOLOu0AshMVAnljdQAtopEDMdt5ACQmxQHPcTUD0R/RA3J2pQPCBukDwNaBAWhziQHHGw0BFDOFAjPGpQJ+y3EBSMO9A7LHdQL5Q3UD33KZA6CbDQHTvs0AUteNAbknrQKOWykBVRetAEb3oQMB7s0Abx/VAEAK3QDbItEAcQOdA5OuoQBYc6EBDJvBAfmcPQW+70EBRs9FA3bbVQPb+xkBve+tAlEvmQBgq40BWbotAyb8wQUxkLkEHpypBMOQZQZKPKEEkfjdBd2Y8QU9WHEFYVzhBPugnQfF7FEF1WzVBhsYXQXZrPUGxsSpB4QwvQVqjJUGJbjtBUHQ8QU3GOEHBrTlBNHwqQcYyNkHggzNBLOQXQfNsGEH1gTpBPRkoQe50P0FtATtB6So3QRBRNEGfOyRBGbsXQQRIOEHrSzxBRcYeQT+gDUE7Yi5BLYcrQaLb9UDYdidBbdcYQf7ENkGf6zlBaRA8QYcyN0GD+D1BXHM8QaZHI0EugTpBctQnQbhFPEEiwwJB2gQVQSGL4kCqsdlA0xUaQa7i90DTTPNAEmEDQVQoyEDxlQBBuhAXQXKKLkE2BtNAAo7jQKK/30D9S+tAfRvgQH/hH0FMLR5BHnvcQOcq30BdUs1ActQmQQ3v30Bb8QZB5ejiQKo+2UBsTdtAUTDtQEr91kAUXRNBO+4RQaS7CUHKeAlByjPFQMIRKUHnsDFBQp7gQFfD9UDBZbpAksn2QOcLLEFNmMJAGCHnQEWb1kA7ptJAyzYTQTzgIEHaei9BFE4LQV3S2EDSuA1BE5K8QFMQHkHNV+dAiv3RQOQtCUFwyupAoAapQO7LG0F1LxlBrJYDQWV+uEAiO/tAuUwBQaxrD0GREcJAFkfeQNLxFUFB2ANB5h4AQbUY8kA46tRAb2H/QCC8CkE10qNAg7HVQET0+0CMP9NACkXbQADNBEEhaKNAJxz/QNjo5UBH9f9APRsBQTDz6EAlowlBcIMMQUw060AxKRhBQePVQH+N3EA/1hBBbnP+QKXs/UBFJgJBbKP4QJ4n7UCu+dxAHH0gQX85HEEOzilByW4WQcqoF0Go+xtBKQ8KQUp1IEE007xASLcbQbFSIEHQYypBMssyQUQiDUFreiBBjKgfQUhHLEE3phlBrv8OQe0nF0EsjjBBaf4bQV4tDUHhgCFBKXEfQcQnIEFUoxhBWlEeQSslIUFcaS9BSiMXQSmXD0GNqh1Bo/UgQUNGF0GRuNBAlz0gQUqiIUGPQBxB0GIgQYfVH0GXXCBBhvgdQdP7BUHjagxBU9UxQQogDUHhNBVB8DYfQRyaEUFeuhxBhyESQYMjF0HR8x9BnYcoQZ3zJEEnpCtBcZ0kQRb7DUFoaR9BjJ8hQfXGJUFetx5BW1knQQ3/H0FcOB1B8MggQe9UFUFfByFBpochQUN1EkFZHR5Blm8WQcXVCkFPzwxBqZUcQQXPDEEw/ghBdgkXQehlAUEi0iFBurQUQXe6JUH01wtBwoMIQePFEkF1nxxBJdcfQfBCJUHudx5BU7MbQcOSB0GXwx9BqMwbQVuNFEFpxDVB9lMQQUwAHkH6vgxBOoogQYecJkHVmSZBj28oQTxMJUFmzSJBIicoQTHpE0HNRBNBQdAgQUgOJUG8OCZBzxInQfLwIkHEOypBRQsPQR2hIkESERVBgZMhQZmtJ0EnqQRBSIUpQdycKkF1zSFB2GMtQShbC0GhhilBNH28QEOyKkHpIiFBTHEmQXN0M0HJWx1BGNcJQU5m/0BaRihBdgEdQYRiI0F7jQtBcaENQfswD0ExBQ1B8kc7QUvZG0EehitB4fsjQfc6JEG32iZBVVLXQCVqBUHwSRlB8FkcQcKgJ0EEBhRBWXkMQXHlEUG3WxVBR7cfQfnAIEFQrxdBh4EcQcZ8GUGoexRBPHEkQXYwH0G8HQ5Bp/IfQWwYIUGTQA5BqqIVQWREC0FlQxZBPGkXQSp/HUGI2hlBWJsbQWmuDUH1OSJBIRUMQS/OEkFnkh1Bc3EPQR0DBUFj8yhBFWcLQfMKJEG6PxdB+vgaQQ+/FEGnHh5BCwcpQbh0FEHaKwxB1mYXQdhjHkGNGihB4HwNQQn5I0GbeRZBZmYIQc83JUHEPBxBU3EfQSI9FkE3DiBBFK8bQTa1HEFQuCBBqNgaQWQFHUGFQQZBkekbQbY9CEHkcxNBFOEgQducIkHNJSVBG40JQbwrB0G3Gx5BNpkUQb2zH0EivhlBjLMXQaXiFUE+KxJB06siQVo3IUHjKSNBIqoEQbjjEkEcth5BIEsGQdWxG0FlHCxBGhwaQa4FJkEwlwFBbHMQQR3IKEEMdBlBCg8dQae5AkE+MP9Avi8jQTyZEUHvsQhBc9cWQepuFUE98hVBB20gQeqYAUGyuQFBruz7QIK7EEFcogdBNTgOQbjHB0F7owdBOrIKQRbDEUGzIwJBxxQAQW5t/UCZZQFBUDbYQCZmA0FCzQVBrioCQfxgCkHdghJBgAoWQfanCkF+PQxBGlsGQaWs9kB4swFB73MEQTJxAUE48wBBonb4QOr0EUEqAhZBjKcGQZNw/EBSDP5AV/kCQTiQGkEqUhpBEL8PQe6X90BgCBBBX04EQR8UHEENgAZB41MAQX4LB0EnQRxBZdMIQYdM9EDLvBNBUZMeQb00JUHkRStBKPEbQcipDEFLWyhBf+QjQdkTI0ERoyZBoz8fQYmGI0E9qihBhSkfQeYOH0FFdRVBrPgiQSVxJEEkaSJBMa4lQfW+KkFd4idBygkpQUOAJ0EoQylBM9ooQYKuIUHYzSVB10MiQULAHUEMpytB9CwfQfCTIkGOMihBTlAYQaQZKEETJxVBBsolQTQgIkGZAC1BYd0mQc2bH0GSfSJBPJodQaTIHEGmZxhBtcwjQSzRJEET8x9BgxsnQabzB0EGWiFB9TsWQbYrKEGFvB5BfFgdQdjtIEHpoQxBRjQcQXTLB0HWISFBAwMUQad2KEH9iRJBlIATQTOfGkEmaShBwEEdQVx9JEE6ICdBALceQUf0F0E7fN5AKfwlQevXHkFR2R9BgF8fQX61D0FCYw1B1hMhQd6xBEGm+iFBOXMUQQzQD0HlcyBBzSkcQY2kH0EIiSRBmCoiQREnIUHnJhNBK2wGQUVQFkGKdAVBQVEgQb4lJkFjZydBaQL5QJ3VGkHHviVBh0AkQYzQAUFL7OFAhLQQQTDADkE3bw1Bdt0ZQex2HUH/XfJAKfYEQdggCEEx/N5AIg3oQP8EK0FYtxBBjMH7QDBeAEH+4xZBa231QNse/0A6gPtAkUMCQTmaGUGmFelAkbn0QGTc/0CXG+hAKQ3pQCn/B0ECyARBEmwjQR3MAEE6B+hAHjzwQDAz+kAkve5AhafjQLcU4UC2UgRBOm4iQQwNB0FKYwFB+hcAQQN4tkDc9OZAKzHvQNh3DkE/Af9AAS3mQHt7GkEZRulAKFAzQc9ZOkGIfjNBjS04Qfj4I0FA6TtB8a4nQanRHkEVYzlB7mMGQcPlA0GMNzpBagD8QItWOEG+0ShB2p46Qe5PIEFkN+RAn0sMQezJHkFk7hVBtKgmQVH3FEFmnPxADuslQUTBOEFX6jpBlt3rQB9TO0FJWzRBIJs6QUniGUGsMTtBfQkuQaTPN0F+ehJBrYgSQQkEOEELDwBBOgc8QdiBF0GVyTtBGnA6QSCsK0Ehq+xAlD4fQfUvP0HmPjRBceA4Qb4zNkHR7zBBEKYAQZi660BViOhAO+8UQTtqHUEw9ANBY033QP2p7EBFnNlArysoQUVw50A9yxlBGPT7QJqnH0GD3O5AucPZQFDV8UDTpRJBi1/RQIfdCUEBtgJBY2gCQUV+AkE6UQNBmI8ZQVmw7EAWEgVB568HQVuMAUGswdxAuBzqQHztCUHHSR5BvvP7QKkQE0EzgwdBvRQMQTVdz0A4ZBpBOjO4QFu310B8x+9ArkneQEBGMUFPBhNBs0P1QOCHCkG1zttANtQoQZhZAUE1C71AuJfnQGDaCEHrVORAlyIGQSe/uUDMzRZBS0vKQPbYv0ANCOxATZ30QO2sxkCOBwRB83m7QN/z80Afqa1Ae5HgQKCBmEAAg65A1wnhQISCokBQJQRBT1rbQH7wv0CPJ6hAfGLRQFhx4EDyKhZBdN6vQDqEAkFLogVBFnSjQDjLGUEky6pATbTGQMbbn0C80ANBB43oQDXK9EDa3BBBJ6gFQVroAUEiANBAchjfQNh93UD4gwJBBv7DQNTJ1EBuJdFA1yAkQTyYJkHiHC9BgUcYQU0mF0EmhStB7QIeQfRlK0Hwfi5B/nFAQfs+NUFDN2ZAdMwoQcV0MkHd6RlBSCwhQTA+KkGrIjZB0xEwQfs3FkE2By9ByD+uQOjbKUFj9ipBMg4sQR31LEF4KzZBjDMdQQTfNEFdOjlBr3oVQYKrK0E6aiNBM7YvQV2pG0HTVC9BBfg1QXCeOkEV9ydB4GUOQUTXHkETbD5BRyQ9QZFEJEFjqRhBc3VYQHquJEHufCxBIZwhQSPeJ0G+eCFBGOMkQQAeK0FDlCtB+8wfQdZSH0ENvxNBFkgRQSDOLkFfzRdBiLUUQS1uK0HqliZBjIcuQfLQEUH+7iNBlmQhQYDLH0G6oyBBqaMYQSA3N0EFIhtBt34LQV0NF0HyohpBwWAgQbP+KkExwA9BWYImQcoFQEG6jTlBj9AvQbE/J0GjKzhBwEs/QbIiCEEOeixBzGouQQyaF0E7uDBBB7s/QZl2KkE5RR5BpoIUQTknEEH7kCFB2FQTQR/qEkELpwJBNUY0QWQrxEBGIiBBsLomQW/8pEDWnTFBmxIbQVnIG0HIEIVA1hk8QQHEHkGCrRxBwJIIQTF4FkF7YStBJxYSQQJ+HUHX0/5AMmDZQN3uJkFXuxpBysACQdpUGUGdgQNB6eocQZSjHkFp79RAXS8ZQaU8EEHLVCdBoFoHQXRPG0HXJBZBVmAmQZzpKUHa4BBBOlTSQKfwFkEthRxBVAEgQUdULEFDsgVBsX4hQUxzEkHe/RhBo5kcQYITA0E/uAhBoO87QVVzGEEZFd5AUT+cQGIEn0BbFqBAAg6gQDHuHUDBIiVAISjIQNVaqEBBuJZA9Kq2QJijpkBVL6ZAzYybQP7jnECu9jRB01uqQFGWm0AqlcZAO9q8QN9zr0AbLGVAWzuvQPeLuUCT7ppAJWqCQLwfqECEY5dAbT2vQJJoqEAN2KpAiJFsQDBni0CKGpZAbDegQKKXo0BhJbBAcTmaQLYotEAXMkFANR2nQFuBekAqCaZASiiyQFcgvEBc1aJACOdTQMgtpUBoJZVAwKeOQC3+mUCJFo1Aa9+gQL+2sUCq7ptAC9fbQDqU30AVO7lAuEm3QGoys0D9ItVAxnX/QNde6UCRW6xAFl2uQB1YoUBBpLRAs8s5QAPK/UC9LKNAZtG8QBxLn0DoEcRAIBWaQCb0rUA9ErRAFk6JQKfwo0DBoK9A2JS1QBnf8kCBpqpANQ6sQB6nykCE2ARB36SdQFt7hEDqt6VA58v0QGnxxUBvJKlAP0OmQMOvqEDob6xAhEC6QDmiXkC+QeRA/EXgQL/bRUACp7hAJ6d2QA/mq0DfnOxAaR2vQGeU8kAHBMlAGPiwQIv4nECKDrpAEkO4QA5CtUBzbKhAXSeOQEh24UDwjNVAlQCQQEuy+UDeW8tAslDBQN3PM0Gj8dNAq437QMfVt0BUBIlAXkf7QDPZnECf7bpA2eakQOoEk0BXxc5AUc61QCcSk0CgpNhA5Hu5QNaUtkCQzsJA/FPvQCPx5kDuZ7pAylLcQARqnUDfqvRAvZaqQK02pUBFduBANwW0QCYQr0CfX89A7SC5QBvlSECZMqBAmMBXQFzjvkCFWIdAnPuJQNt9UEB6hYRARICIQKVuWUDwg5hA83mqQJa5RkBnkqNAuwzXQOXJyUCp0KVAvjiFQJ3xbkATJI5A4xhiQJuzc0AAQ5xA0TSxQKINTECNOoRAx+iWQIRCkEBtKYVAh33uQCYJ0EB5/4xA+jNLQMsxlkBB5lVA6l5HQFCqTUDdo7xApKSMQKpwTkClC0VA63uJQNl8skAqz5pA56SlQHGuekDGGaBAiYxWQO/yhEBNkJ5A04tgQLEPZkBAaB9Buu2HQKeeWUBm8pxAB+RHQA5ihEDi2ZBA6mKRQKjlq0BauGtA+Y6oQKBUkECctZZA8PO2QJzfmkBQY5pAvlpnQGyIsUBvpUVAOL2FQGS5nkAtKbZAfZfQQP5C10DdaLBAvT6tQFQT30AhzKJAoyWtQIBg30DdepVA1N0kQH2CZ0DqL8hAuwChQO7WxUAjYV9AEVOZQMVzwECBHZ1Ait6DQHrjokAyu3FAw7GNQAY7YUBhcNtAZvadQN/LsUBXsUBAknCbQAGaoUCCWKpAHuxeQArLtkAWMNxAJVK9QMPpq0Cc9LFA0W7XQLagk0Bq3rFAwQbAQO3bY0AwJJtAKpH/QJM9s0CkxtJAT1bVQLwHAUHVD85AwYHUQJ0AskBjwANBBHy7QPR9q0CG85FAU7y3QB81p0ArdqdAiR2OQLJ6kEDIIJFA4Vq8QENEjEAHJNVAGG4iQeucrUDuLOJAUXltQAASdkAoHLRADQPAQLewmkBBdbVA2Y64QGIuoEBkzPxACxCaQPzAnkAOuplAwokfQYQr/0A+rxtBXl8cQX/ZJkGtUQdBbxs1QQ7CIUFl4jNBHX0hQY97BEFOZAVBOBUHQU/sCkEVaAxBpdgxQVoOHkHf9wxB/3kaQQ52G0GB0TBBy781QXHINEF6jDJBNacaQf/ZE0H9HAdBVBY1QSgC+UB6YyFBktU1QX5D5UDUVgtBFUQXQbxaDEFibDBBKH4CQZFsB0E92h9BS13/QPwfB0GzkjRBdb8KQZnhB0GWxQ5BnNktQcEwCEGueCRBlaYRQZJEM0EQvQdBMHEFQe8aHEEwlANBySbMQMxnDUFBmgFBJRYEQZL+BkE4aMRAqDX7QOVBsUAjAghBr/YKQa2NA0EZFBpBEqQIQX6ZEUH5FwFBoMi3QMp4sECXlLVAUggGQUg82UC+7PVAM1UQQWKK4EBpafhA6xTZQCuDFUGsPwJBjZb/QKLCvUBzyf5AdJoFQeDSGkGeawlBal8WQWiOCEEoCq1AW3OlQPDYG0E4rQhB/9sBQXISGEEG8g9Bp2DVQNeQGUEk8e5AAQH3QDBTCkGPLAZBtwu4QON09UCurgtBfh7OQAeTCEEHkdBA+kkUQR8HAEHFhR5BmbMgQfi7AkFRzvVANdQMQXoszUDpl/9ApRMIQY0cBUF0ZP5Ao9gLQVRbB0GosCBB0R8LQSv+xkCW7QNBCTv+QNAaC0FhZuZAXs4aQQSqp0CbwwJBvCsSQcOUA0HewRFBwsUFQRc6E0HUYQhB4i8GQQpTBUG8qApBRB4AQc/BA0HADgFBXEkDQQ2LEEH7HQhBqYfrQJTBz0DGfABBPLsdQQN450Bi1gJB1m8kQXBr7EDThQNBdikOQe/6+EDqaQBB3n0gQWTND0HTd9dAJz/yQIkL6EBzyuBA5Ir3QEF0A0FsyfRAPInkQD39HEFoKuxAtknnQJma3kBdVAJB0+L6QHRV8UCdbPJAdXzgQN6WBUHCeB5BWYEBQTmM5UC0wN9AHqT+QD3VFUEvhQZBVswJQdoe6kAZgQZBenDbQMup+UCMzfNArzPZQOkC6kBf/d9AreTlQMes7ECT2N1A+7wZQYCr0UCm2w1BiT3hQD1C/kBMZP5ALoGbQFZ5AkHxgppAwDr6QOmK6UD/xgJBS2l3QA3w9EDFM+dAVRPRQHGG9kCRwQBBg4L5QF2O8UBgYe5AIwbdQP/B2EAekOpABuTUQP+38UCEAP9Aw/3yQBpvyUCxlMxA4eDaQM24AkHPlaJA8tbiQOAx9kC81fFASEv3QLv6zEAepNNAS/qeQGzpuEC9CcZAAjEAQWKepkAej/tAIrTYQG7BAUFDPNZAqW3uQHze40DWBZxAT/sFQax8EEGuqrxAc9f1QPGG6EDFZKVAkncFQahHmkDrDNhA6BDhQGHHoUCL9PVAH37tQCAA9kDj9PZAHQ8AQcpT7UCFpvdApU/pQA7w/0Cp5QBB0dXWQMwJ20AOO6BA1Pj2QGcG+UBU7e5AKyj/QJup9UBkP7pAg5LxQF6470AcpANBCm7wQIGPv0A/ov1A1FXQQI72xEBhiAFBHNXqQLTv30AxsNtAWPHeQCcNpkAd2ABBc2r6QN6MpEBda/xAzoYQQeW2+kArcPpAaS6dQLnN90ARTZhAwweWQJCE+EA4oatAGIOLQFbb+EA0zY5AKsaWQHpKtEA0P6xAqL75QNuSqECZYXxAOw2WQJgGkUCho5hA1ASaQDENl0AXzbtAW5CxQBgsjUBN5LZAvP33QPzj2EBva1tAqpE+QAwxskC74mBAMHKPQMIleUAZQPdAI/2cQHUnnkB4cJZAgiKMQEB2o0AFTKFA7HSWQP3Tj0A34JhAYe6TQDU8vUCbzK9AgPuoQOiRk0DHzLNAxmnzQEWdj0Dtw5pAKkOjQM00vUAELcNAnnOVQFTuyECyA61ALaehQHZVskCyfZFARWmfQEYapEDj45xAWQvXQFLY+0BS4LpATyf5QGa2e0DCYatAbyX8QDzznkCP/rxAQUTaQOLTokBdBqdALZWqQAGzvEDdJJhA7ZiqQFqpvUAbPZ5AOU6eQCx4rEDF/JdAlxmmQCy9lECMtJBATbCXQA4duUDk6cBAdRcyQJQ6w0Dai45A7uHYQMlSn0ASdJNAT/miQLekj0BInpZA3qqsQO+xpUC0Q5JA7TWYQFv0+0BXEKJAnhChQLgkp0A5jqNAejGWQCDzjkCsVJZA/NeUQJdveUA0iPtA/cqiQGyU+0DdxaFAw4a5QPH1+kCT9ZdA7Mb5QGYPqkAa2JNARulUQK8I1UAhkfZALn+UQCGIkEC7XZ9A6u69QEMLkUBtSJVAP5QrQJKn9EAsCJhAvf6kQKOxrEDJQJpAWKKVQN5XjUCkXpRAoNG4QLkWmEBB5I5ASY6aQNSkbkDAJcZAKsXaQAZA/EDjoppAhRUTQaHIKUGrezJBbMf+QEQLAUFxvSlBX2MtQVGa+ECiAC5BO+ACQeItM0G5SRdBd181QQwoKkGyEjVBcvYjQdl3KkFnWutAZcr8QNYhF0FhZBlBCgsBQSZQLEGmXPxAr2TjQAgrK0EmGiNBgPDVQPJ+KEHdAi5BwWHzQPw6CEFpjhxBpwAqQXzjB0FWoRJBDNT3QEtUBkG8xANBRrEUQafMAkHnJulA+v/iQDEZFUGyUi5BYNwwQe6tL0En6jBBwNYcQYAhGkH6XQJB3ZfoQHRu+EAQTydBkI3yQBbj+UATt+9AfZnhQFHX7EDKvApBlpLgQIbqIEHy/CZBtir4QGXD9UAEPAFBLxDfQKkRMEFs16BAENEqQZut/EDZ9dZAtvjSQIBfB0HyYQBBRODwQN6JBkEq3P9AcW8QQb9c/kCsJP5As3UIQdYyH0HqNgdB//D9QCal4ED7leVAScL3QAmmAEEukSZBpIDZQD208UD5K/ZA/40lQV525UBMod5AjQvkQBJmE0F+fh5BVFjuQK6gz0A6twpB9SvvQGueBUGaSxxB8f79QC1xEkFI+gNBb/oQQeVpBkGsBuVAfg0CQUd85UCXIfZA9EalQLbK/UC03QVBgGnJQF8o4UCfcB9BXZ0SQQYODUFz+fFA5lnWQNwpCkEV2fhA3BbiQFI78kDk4/RAlhPhQPML8kCVWhJBZoUGQSvU+kCxvQBB1MIRQWXKAEFK3QtBAeMOQaxMCUHBAfVAlwATQWmp1UDjedtAAW4DQWT570CUc/VAMvIPQSgv9kCUhfpAjObYQFOJC0GhLAVB0D8AQTwEEkEBoQhBIs0RQUxlBkGF++tArGXlQHZYqkACpNNAPdAGQckzwUCvfDhB0PLMQHqGCUEpGQJB1EYIQUNQK0H4/wlBZP77QK8kAUEiMfRAH24GQcVKCUGo4wNBz0S+QGnDC0FbsO5AUxQIQWQgu0BAygdBuzjhQIoGOEE9AMlAgeUFQcW5BUF5GMhAOu/SQOLyBUFnQQlBX8AuQbQZ1UAfyRBBMYscQR6KCkFf7eZAWCANQZu6rUDvtOJAHnglQeS0IEFsaCNBfkYOQXCbFkEu0uBA1sAnQSkiFkEUAh9BQ2EJQed4B0FUDyJBhPAeQTHGCUEKGcBAa1ggQePuJUFuM8ZAYgMlQTeADUEfJAxBpPkmQe3vJEGq5gFBE9vQQFo2JUE8ec9AhUQoQdRpFkHhGhxBFSXJQIZSFUEf4yBBVlEEQZSXzEC6gRRBp9sDQeyuG0FnziJBAlAbQU+S/kB9XPhAsWkaQcCGwEDbSCRBKvnlQJw2GkFN0uVAr0kvQSzL/kC9T8pAJ1W1QBcH/UCy8LVAClcKQeiSwECzA7pANjXEQK5X/kDmHtxA3IDWQBMIvEAw1RZBb1MUQRL/vUB21BZBpu0hQVEXD0FyuL5AbFy+QIGGu0BG2rtABePdQLL+7UAw6CNBzmK9QAVpA0FmA79Ab1wSQcYbIUFFTQBBCd3RQK1nykBo4b5AQmbmQLRoEUGn9RRBWoOaQK9vDkE4f7tAzGsjQQi5wUBI+MVA1VPcQOwtw0AmQixBC50dQaUzEUE77r5AmxWwQI2a90Byp7ZAiaK8QO6nzUAGn4hAPlqlQK+cskBIVLFAnpCSQCuBpUBeBaNACNe5QCnS+0BGsn5AyJScQKVQvECk2ylAVcq/QAWYyUDkqrRAL4CYQP7VqUBAqO5AXEqbQN6jlkDYnahA3NefQKo8cUAvKtFA3ViUQB56rEDh8ZpAXERYQLilo0C7iVBAv8k2QFvdq0CTfplAVVEvQGilqEAytJVA04HQQAdmiECyu6dA8Xq7QOzEqkDu8stAjNXSQPVIf0C6OqVA5nv7QEuCxkAq3KVAxa/BQOzmyEB2wJRAs4KbQIw9xUCxwrRA/D/+QH05rECPWv1APjivQK31t0AJELRAvrOwQLTWnEBNLbJAGaC0QC0OwEAXwKdAq4TdQN6Hn0A9429Ah/S0QDOyekACGL9AiRyWQJeLo0AiefpAOZb8QEj5fkC0IK1A3j6qQOS9nUBARvZA1LK1QCHyqkDF8XVAKZCZQAZIr0AJI6RA6uCzQNEv9EBU2o9Ah4HBQBn48kBm5/dAKsazQP4MpkBUGLRA0hqfQOkqrECGSb9AQhuxQGHDw0DJhdZANMS6QJoT0kDamLVAYsbCQC0zzkCebrdAN0DGQJhD0ECAV/xAF5u3QEwarEAJlAFBIIqhQLzZfkDDV5VAQwemQMnMqUDOHM5AkgT8QJoR/EBafbNAcQWjQBYIwEAZ4ptAysvQQKE59kADncVAOHfDQFZ2rEB4CvVAH0XjQPzHu0DHy6hA9zTWQCnkvkCN8rRAzDmsQEvry0AuudxAP4G4QNjvRED8btFAtT4dQeOkM0GAGyFBXv0xQdxBMEHR1ThBYlI2QcQvNkEIfBpB9nkxQZIKOEHCQDRBq1gxQVuQHkFnzzJB43wkQT8+GUEDOjVB+WEzQWDqM0Gv/DdBcyQ1QSmdLkFhbzRBsC03QYRTNEHbPjFBBuAzQaydHEHtNDtBVYQvQVJEHkG8TzpBu9UqQb89N0GJajVBQZQxQVx0HEHxmi1BtE0fQU45KkEbpTFB2qA1QVgeOkEr8BxBmQoeQUdjLkGNeTlB68Q4QUP8NUEFeRVBRCkwQeN2O0F93DZBunczQbnaKkFFbTtBZ+42QZK6LkEM1QxB8VQ0QR5COUFq3TNByLs6Qf8IM0G82jhBCtctQYh1NkExbTFB/VMcQcofN0HKlDxBnTc1QS47OEGcERlBUz4qQWlLLEGnYB5BNokzQbbxMEEKtDdBnpM3QYQgMUFH1y5B3lMoQTonHEEYGTtBk347QSdQOEGxJj1BsUY2QeW/NUGJJDVB1R45QSK/L0Fu0DlBy9ruQCxBPEHikDBBqGE4Qd2JNEErlL9AKlg1QWc3C0FsKNJA8gEYQV3hKEHm6jRBotkiQc6R/kDOZTBBmcc1QfHqJkHLrzBBPSUHQX8gJkGYnxRBl2IZQbj4NUEit/hARxQAQYaXNUFzoB1BNOs1QRkSDEFTVAFBe506QcWbOEFkwvpAbTr7QA9zA0E6+C9BYvE8QTIoxUB9wh5Bm8PsQCaN0ECWmRJB/Ps4QTSFO0FfHDZBu1QPQTxMx0BMtzFBSEkxQTthFUFjmidB4AwMQXsHBEG6rTdByxAdQdMOMEGWDDpBHoQ1QexAOEGMIglBkUs4QfmPHEHJADdB3xksQSI4NEFDFjFBkB4xQWmuMkEYaTFBKaIrQUwpPEHMwyFBjvc2Qcv1HkHZcDRBJFQuQflNLkHWEA9Bs1o2Qc48MUF3pBJBZswmQTPWLUFcEjFBsEU1QajtMUEiLhlBdzkhQbKpGUG4JS9B2+I2QW5gJUExoxRBQFUpQZOoKkEmXxVBFwIyQT/jK0HPgjxB6aQWQX9yHUEUrjNBeQUuQVnZNUFnby9BlFwmQUNkKUHKriJB5F43QWiHAkGI3xdBEBELQXB0M0Et5yZBb3rsQLoGHEESQyZBg9wzQYS7MEFOSgNBy64FQa00J0EWwydBLCb4QK6EEkFK5x5BPVM2QQmX1EAdOAVBP+8PQawUGEHL8DVBwH8HQdw+NkFXdQZBe4gIQdO5LEGN3PRAlYQwQaqhK0GKyCxBnUL1QIRjJ0F4VBZB6vARQcrZLkH3YudArYsGQX74B0FNeTpBQR83QeWMBUEf5QJBdcsrQSSMF0Huzw1BZ3YBQZGV/0DVkQlBIzAOQUE8BUHlRu5AJDH4QL3RDkELcQtB2UHwQCspB0FizQ5Ba8sUQbYY9kChSiBB6l70QC+38kCxxAdBQpsBQX0E80DsifNA86nzQFxgMEFU/wVB5iAKQQTQ0kCsG/tAgL/rQKM4GUGmkwNB1BGtQCbsLUFgNPlAbPcYQTO7/ECiMAlBzGzKQClT3UBd3/9AyQshQfSj9kDzogFBJ8w2QbhR7EBT08NAbXQOQdw3BUHmNBpB",
          "dtype": "f4"
         },
         "yaxis": "y"
        },
        {
         "hovertemplate": "Metadata_seeding_density=8000<br>umap0=%{x}<br>umap1=%{y}<extra></extra>",
         "legendgroup": "8000",
         "marker": {
          "color": "#2ca25f",
          "symbol": "circle"
         },
         "mode": "markers",
         "name": "8000",
         "showlegend": true,
         "type": "scattergl",
         "x": {
          "bdata": "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",
          "dtype": "f4"
         },
         "xaxis": "x",
         "y": {
          "bdata": "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",
          "dtype": "f4"
         },
         "yaxis": "y"
        },
        {
         "hovertemplate": "Metadata_seeding_density=12000<br>umap0=%{x}<br>umap1=%{y}<extra></extra>",
         "legendgroup": "12000",
         "marker": {
          "color": "#006d2c",
          "symbol": "circle"
         },
         "mode": "markers",
         "name": "12000",
         "showlegend": true,
         "type": "scattergl",
         "x": {
          "bdata": "NULZPZ1HnT/Jh6U/xe6vPyiMnz9f5yU+azbFP0Wpgz/wdsc9mummP/EVT79YQ6M+Ts9EP9wcND+7hbI/opGfPyOcccChPIs/9qEYPpREtUDkPU4/Ma1FP4h6JT/lMx0/z5oYP+Lv6z+t8TQ/W0hgv8FK0r6SEes+n3Cfv/uKjD+71KM/Asl4v/Xpkz8vNq1AfsPhP9uRiD80IMA+D8WaP63c/T5UyBs9GdNuP3FcO8Dz+aG/QeWzP9phoz+sNfY+2J96vnILDD//1rdAbumwP3bzPD+WBoc/qd+8PYESmL+zgtW+GV4Iv1attD189Hg/nRFVv+Tsgb7UyTg/JGCwQEPtr792jvQ9g7irQDt5lD/IFuC+67udv8gOLr8Iljm9NAMpvwTDfL0lmK5A4YgPvzhQIz+oQhu/Hx7Wvwmb274wSfq+tpfbPDgVGj9kZ65A0tVUP4Du9r7YBlG+eBiyvv+7p0AOtKy/NJAYQKS24b5kaP49HnsIP5vhqkDxH9G+b4iwQJ9ooD0R9fO+LyCrPwhAVL/frrRAQs1Av5Q0Mb90V6dAwjOqQFkyCT/qIsY9wyilQF3PgL9EEJc/CL6tv4USmz8bjte/OWFavyJlgL9yIXG/7/FNPgcAkTygIKZAaL6pQOsLqD45EZI+8neRvzq9gD9aJDU/9g8oPnCF/z5uJ6i/DiOrv7mnPz2/mbq/fMqYP5rUF7+9Wxq/ykEHwP8wO7+dW6W/BU7zvqg4d7/sIKZAp+OXPYYxL740vKa+uvcwv/oMU79rI5Q+cISiQNo/iL8nycM+ph5cPleVNr4NJ3s/hhV/vuHKGb6apbA/YMO7vdXPS7+L8pS+bn40vhcZRT+t/IG/y9g3v3bBGz5Oba6/VrMmv9/sg74ft88/riX7vgjlwb8P7TK/NlZ7vM54mb/2V1U/wJO+P341Hz9cH40/j56PP8SvXT+ejY4/nOKpQH2R+D2zun8/zQUHP11TnjzD6No+nJ1jPin1Pz8qQCO/IpsUvr31TcBZ0Og+lJKSPySVFz5zr2a+PqYqv3b5A79oJ3W/fVAcP2fLrD9TUdu+deCAv7CY4L1+xlw/CeuoQCX3Db0V2dg+r/I2vzFLHb2xJAG/z7qcvzHhfT/6+0S/hyh3v6xlEr/6paY+gALuvnoJUL/WD+O+E0J7vxE+PL/qwoa9yoB2vh2Fjr/3DOu+aM61v8DSz772pQy/ryIIvp/Qkr0gSxa/CBh9v1XVXb2RYNy8tWc7vXzIfb4APSc/l41fv5dbiT8LBsk+fZj/Pq7ilj/SrZy+GgUqP52rxL5oYxw/5TB0vVc1Ab8MAmm/ijgdv5yUt7/mbO+/ESWtQFYtsj/PxR8/1+7OvwWZML/L6KZAlNpQv47lyj76oFy/SoaMv+PXRL8tGTe/0GBEv2HhR7+4BJS/jfcuvp4vuj1Mz4G+35A/v2Q3Pj+/HZe+yMZ1vzIFML+QnUU/kftmv4mY3D0Gz/m98++gQAXvWj+8Lje/3LvRvOuuqL8oye2+/Cogvm7BPr6y1yQ/pYGVvrxkJr/aC4w+jtkPv4DEpj+rQfQ/aNiRvwCiSb44Gp48TrfBvup90j4Nuh/A5TMVv35mpb8WYBc+cNYQwFDM5j0Kwri+03MOwFn3M8AdVdO/zoVJwAxMOr9T5su90+ONv0TU17/T5+28gtvivwR5yL/Hfeq/B/QvwGOOeT8ye1m/CIazvzH0/773GrU/mKu9vlPXfr9dutw9rPGlvlPze8AHMdC9qea2P+RIFb8q/kM/xir1vypeNsDmo+i/bnkyv+Xe379efym/OInrv8VYGT95YH+/CpkCwHV8s77zwk7AOsDsv78a174nVwjAjs/Svkx5uL8jKeu/FYLmvx3OicD9O9W/3Oywv8HaSr9f+kDAxkUwwFjJxb/vaHjAdZ6Ev2J7OcB1zWjA6CTAv5b+8r6vLW3AZGs8wNJ2bcC8IB6/r+JFwK3MhcCcVzm/NyN+v0m4PcASw5i+SvsZwI+Xir9cSCnA8bcTwHFaPz98DIrA6SKHwLfGYMCiYO8+ot/pvqgHTsAUnITAhXr/v7v8Fr92TgbAznngPnoaob+KGz4/Tmh5wEE9VD8glV/AlqE4wJ/PiMATQum/jjKCwCbjNMALxArAcu0DwF8aAsDQlt+/dgh8wGUwOsDHsmfADJ9zwM0JiMAP6xXAgULDvyXbXMASkVTAPPWRQMpNBMA88XrAh188wGKDYcCagF7A2gdvwEaib8ACn68/Nc1ewA0S7r+zJnTACcDmv7KWhb87tn3AmfQTwG5VecAo4YTAVjJIv1KJwr8Kck7AgVBFwAAea8DBD1LA2Xzmv6IqY8AbDx3Aa0ZNwKMUEcDzQC3AxKNZwLj+asBWgm/Anhk4wIXaxz9mLmDAEFoEv/XTo79/csc+1ajav8AYD8CFqr6+8RN/v9JfAcCuowXAMEeCv74IUz4t0Lg9R9kHwPFnjr//iIC/TCZLvwdhLb1nYADAaJE8vzmQrb+XEW4/SpIJwAWPm76qFMy/bVk8vou6kL9J4rK/YPxPvXK52L9SzIC+MYiQP1Gvgr+AWVS/kUdSvm31mb8O9Km/tia/v3dAqL8FlMu/9VGiv+fgVr+3uRa/qaKovhjjaj/INeu/yStUv9YwRr9jlQe/8FbUvybODr55+8W/iSkEwPmoJT+DJle/7jbSPmMgqrx2LkjACAWwvxpGe782swrAklMLwPsmwT6G37m/5iWFv9FzUj9WEt6/9S3nv/A7HMDXVB3AHq1Iv2n+pb/+tgnA2lr+vxA87b5Ic96/+aTvv2ILYz9aHmM/Uzakv55wzL77uPW/ISOxvr/ilUCjy3i/hK6Ov+sbsb8Emhy/UHh1PcACnD3wpQnAL5fCvyrF778AWoQ/Sc9KvzSZtr/RA4i/OqrNvrbqZcAzpdG/v3K1vy2O0D9maoe/tOWtP+Z+EMAO3si/CXokwJetjj93zoHATf7CP5b18b+HQiDASAj7v8yHMr8v9Lm/tNpGvyQ0Nj7rM50/ke7dv0dCNz6xtdG/SPrQvvKPE8DJ1Tu/U+/Lv9ca0D9zhH0/vWROvzEDlb+Z7xLAxlGnv2p84L7IBfm/NyZJPrIA9z4GoqA/0kL3v6OpCsCikTo/+7gRwC15lL+DE7m+Ydyxv2qM5L89BYQ/Nd3TvwUxnb8swRC/zDvsvhyy7r+rpma/eIwYwKWgDb9Dw7m/SH3FvzGMRMDpNE/AHeu6v9lTrr/VKCnAcDskwPBdBMBQeKu/xQA2wLfwbsA5cwrA9sEpwLhXG8CyQx/AxPQawBaV079kre+/wqBZwGeBH8BkDZG/yPO2v+rMRMCBcQ3At1CYv3uwQMD3ARDAHZqzvyE+EL/ADtK/Uh0wwPhDtb8Yzh3AS+ezv/I1Vb/bXDrAXx/Gv9tjv789Rbm/ngK3PxlHAsAjBNi/SfBywCB8pr8YzK6/eqM1wK/QET93yJRA69QtwBYhCMCRV+u/dtDLv7WD87/BUNK/KwLgv48AmEC3CSbA24jHvwatCMAYNui/JbQywAd0JsBrGKG/UvCIQCoBi78lfZJAxksWwFn6UMD7tI1AxiA4wP9rXsBzhgTAv3FVwD8UbMDid2/Aj46Hvzb8xz8vF6C/FWeBQOOHLsAnuB7ACYFHwC2A4r8kfze/mPlMwB6zhb9pBee/1JIdwDguHMCyswrAD7cawNemlL+WlFnAV0ocwLGBAMAlWyjATBIgwJEXhL9Evpa/yNolwN2GfMCpvVDAdOwUwFdaPcB/D1HAEpZswJtdFsCC5TDAYQdcwLvYOcBiwCzAN/MewGrbdcBNWFTAhEh5wDdtR8AhK5JAgyBrwD2HRsBKt9m/A6wtv9NJBsDt2g3A/4Nuv8UuS8ASs1rAEfghwFzM3r/f8LO/7ueSQHyZY8DLpN6/+Zk6PyjLmz9B+gXA0MJfwFLykkDofe+/JRTWv7mOHsBBqxvAhPMUwNT3jUDZbFnArTJewDdPl0BbhGHAunx7PvUdOMArmX7AqY85wLhFLsD8wEzAKYyzPx0REMAq6AzAjdhNwITKXMB+kSa+wNEAwE54PcDy4wHALRAcwBr5PcBr/GLAxodxwDjeMsC8EynAjIIJwNFSKMApoNE/6eBDwF+vaz+7Nqi/1d34v0/AVr/lCVzAre5nwMVYOcBRZAzADbiEP540XcCL7GDAAU4owF5LTsDPL1PA75VaP+JbIMCRhVvA7UJZv3NVWMB7XB3AqBRewP+VRsDSlB3AmKP2vzhsOcCPXFTAo91twJgJZcBs2E/AWDREwA7LM8DIQknA4K8awOyST8A88mbAzAxDwFHbQ8D/KwvAwpibv1/aecBW/A3AH6cMwMkaasA2eynAsi59wDJ5KcCG1jXA+spxwIgqIMCQXpc/RV1/wDJfVcAoPDTAxRFDwPeFfMBYaAfALmYKwG5EY8DBl3fACyZBwC+eub/fLibAtfsQwJs6dsAaF/C/QOKVQEULKsB2rGzAhEtiwJe+ZMA6fxTAkpJGwBrkQsBnbUjAC4FFwGRCDsDgLGy/SbzVPveEd8B9wRfAl5RbwBedfr8+69i/15p9wHfJN8Bzw2/ApiFrwD0qEcDIc5JAGLkewAaDf8AHG0PAZhtuwCdvasCmbg7Af4WAwB6uwL+62WzAWzs0wN1ZZ8DZQWrAMc9iwHzHd8CzZXjAYvKRQPHDDsAGK3bA3dRlwBY8MMCCi1PAhMG2vxHpZsCwcdu/tq46wNU7TMCzMVrAdLcmwMoODcCahjPA0eoQwKpTF8DVqRHA0eBOwI8/gMAZeWjAaCu9v4sWAcACJRfARCFBwC6/gr9AMaC/LJDaPTb6Oj8se+O/3zMAv3vDyr+MHkzAWpmlv6feVT0v50a/qsTWvxVKD8CB+kzAmtKDv1l0er/HOYfAPDp+wJSgob+mrmzAK+DFv5HVw75XIW7AmFzQv5mnp79hIAnAk5yWPrv8tz/roD3APWs1v9RhAMCn/MC/Rorev7kCPcCoJhe/qbJXwCHknr/nys+/fG3Sv9s0ccBJtMW/hNHev7O8cD/1sI4/2HGkvw1SAMBWk2/AW46BwD5PdMCoMz3A8Czkv+1VBcDwJ0/AVexmwF0gecA/6z6/Qp81wA/rY8CrxG/AwWu0vbNWTsBBD2XAWsc7wOtxjb9/C5VANbhqwOBwRsCoJ2/A5L6EwFJ3OcCuqm3A6ZIPwAtKbsBNCsC//FdVwLZJa8BpbFnAG7lWwNkKHMBQZDLAm2sQwHtCHcDiQZ1A3BxiwG2axb/sk2zA/AgowIGFSsCygErA+jJYwIYec8C+rSvAhyHjv0lyk79J/xbAkHEiwB91dMAsjnjAQkCNQO4aS8C1wVvAhXpkwITFRsDXb/S/pWOMQPqmFMD4pSLAwWEbwGLDDsDEYXnAaMM5wONhZsB/MB/Ai/DVv+8sTcDkhYxAH5RlwAOfUcCMGmrAb5sGwHbjUMB69HHAZURowAwiZMBlujHAh5Tuv+jQcsAK9CjAFYdZwNH8ob8vz2HAhz1jwLFrWcC3bX3AuPFxwIMFV8DR5jHAOlx/v6jOVsDM+GfApRNjwC8slkB3BWLAtn58wKmVZMCHGgXA7OHCvvpZQz+QchI+lT+xv5Ltgb5jT+W/Zgl9PjTGab802qU/aBpmv90HSMAuJljAztEdwDyIQr/L6t8+6dnRvYA8zr82DTu/NibsPxwHED/LAHHAW694P/VEScCqY96/UuOHP92Ej78Hjgq/e//1PsTA478zIeS+lAgVv1n1uL8Ae1q/ygJWvyEnf78O53y/3k4DwK3zB78fF1bAfyhAwOhdA8BzGni9YRYnPkI5AsB9rgi9VxRxPYXNAsDJBb8/cXdqv6xWB8DCjo8/7341v+s4xD6kp5m/+v6jvwg95L6ivN4+P1RIvjceib87A7W+RBsXv+l07L+664PAYXhZvEV3tb205Mm/6KAHv1PIP77D3gLAXRyXv/uLOr/5+4K/MnY9PfRb5Dx+0vO9fUyuv6uXfr8gCh7ALASuvjTtRL5Hqaq/I9h6v+vjVsBzu5G+JmZhv72zOr6T3Nq/ic53v7BcgMAub4XAYMBxvp20LL8HOxLAc11Rv/MjQL4xNbE9zTU+v9tsHj0kN2S/BVMkwPeUlb4mi2DAyQPtPiZmN7+rMsq/l3E9v5uia8BREyW/dcVjPgvcNr4KY1G/iPKlvyX5gr8FMRE/Nz5VwIPBvD77yPW/QOwdv3mPKj/AGWk/IdkJv8+jrT510QnAr49Mv809cb/QAZM+DTJavzDd2j/PPii/Z1vFv+FZu79zBD2/sOVQv3eP3TwXPPS/G0TCPmwDdD5HLBq/zi42vy0eKj+zNsq+M8gkv8EXmr/BVlS/H3ZUP1Hwab8GyGS/etugvUZPnj+Y/zi/cN0IP1p9xj81OMBApiNZvwJWlz9grwO/O45TPmzpt0ClI8c/dcsgv2ebo78xeqi/O/2HvCthrz/Imco/6wuzQDabHr7lkYq/83IEQJNLir4aCTa9tVLSP5r3cz+CsJlANrKtQNZWtECNxGO/xmakQI6Vhb+OmwdAeeGXPxt8xj+isxI/2HKUvzXOtkB16rG/5MC3QIo0fj5CynPA+sFtP83L6D7dDRA+GwC2QEwomT8v35i/7OUFQBOaQMBg2Mi/KNnrP18Igz8XaRw/aoy0QKdWpL8Gv3Q/ig2pQG5kwkDr3hk+iPLEP/LPsUAR5Ky/WOGiP8mi+j/PcEbAsPaxQF1IAMDLPqpA9mDjv1vVn7/O2rZA9twRwH3hzr9E7aa/SZi6P+A1tD9h6YI+UH7AQI3RZL+/Gp+/nHe0QB1hh78h5ho/uZSSv27KX76r2Y+/GwmmQA8k9D8Gk7e/1lMGwBY9tz70+Jw/LCWcv9K0qEDdV1TAaI5GPnqyTcBUhKE/FH2ev0s/pUBo/Gm/26xzP5OPskCN3bs/fB20QFjb5D5fJaZAOKSqQBIYMb/ToLBAO1+lQEs3XT6V3r9AgP2tQFLypkBxzyQ/9WS7P+IT3j4ycaNAK5powBYqSb+nFOs9yIvCPwwTsb8qng/AFoGpQEGFVcAYwjLAtDq0QEKMVcBTXC2/Z1mxQMkbn79FQ6dA4RiRv1xFHz8jle4/QgSkQA4k+z/WsYc+0dnFv18rPr8tu56/+VjevzHChb+m3axAl7t3PnC0Hr8teKdAm/4Sv8THIz+/O4U/LQtvvnT7CD7tkYA/tapVwEW6R7+qOzW+gzdPP9t5db4Ey4U/zJSav8ZE1b9c5HA76c4sPzW5mr/yZuI/EHiNPh2FwD50Mt6/Pt80vdjMur/YKW8+vcbYPuXRMT+ViDQ/hIglP3AaVT+wgrxAXbSyP5T7vj9jOgE/MQYXPxmQET/KzbQ+Yv1RP+fIIz98Sp4+sOEIP1pL4r8MsW4/l6z5PE33/j5gp4O9frSdPpFmJb8txps/VPiLPzpvrL7n1fK+TuvdPr2LUb4ZoQm/+fOEv72EqT9JUVM/8WXHv4oznz/HKFw/FtnTPdQtOj8j4pM/uy5UP/oFhT97Ow8/y8MJP8dYwb476go/dU5vP+Pt2T+SkN4+tnqEv1rRNz5mMYM+pVyXP/iJtT5LF6M+LxVYvXL6pL608+m+6FWGPmTQPT9OwnK9haQTP8F5uL3RciE/RnzDPzIIwEAjq9I976Njvyr6xT/jS8w/I67fvcV4XD5yfSk/vnpPvp8UKD+RCJ4+8OSrv7+VND8oq2m+2oBTv+C1bL9NsAE/4j8rvmq0YL8uag7AxBeyQEj9p78dJTM/5Q1HvT2FnD73JK5A6pCTPrAQnr/3cDQ/GOrdvHIpj748vbq+Q/XqPgbLAz4NbRq/oW6qvjM2DL5tetw/Y1Kqv/CzoD0n1zS/bj6dPepJHz/Rzks/AzRrv1TGAb9/cGu+RsiPPmbyRL8PFnw/msM3P7Zcar/n7+I+4CBhP0Buqz+jz3W/M1urPyiZKsDqrGO+nGIIvu8fwT7ATrFA+m78vx8FrL5XXB0/E1pkwO+nM8ABS7q/CPwmwFK+YcAhyfO/6lFzwA3hYMCy6P2/X1YowMq/pj8LOELAa+ZRwGtaRcBteze/DsRkwK/CPMCVypo/5ctZwN6fR8CjiFfAwq9RwDrcNcDO8BnA1VD5vwyxYMC7e1DAftJ5wPVjIcB31se/CN0lwDawHMBAJX/AtoApwE5SLcBvBi7ACPVYwIdLc8B/wGbA5xxbwKWxW8Bd9xe/hakywOv8LcAZQgbAXLdyvzPCPMAeAizA315iwNm7vb9Dvta/AdW4v5czfcBdUJa/X15NwHqHP8CRwjXA4VBTwE3EH8BEfK2/LEHlv5x7L8B4JiHA8QxdwAOpK8CjkPi/Vh04wL41VsB6Tk3ARQhnwB2sRMDGX8K/CSK1v8ndGMCRaXTAU7WPvyCTbsD/9knApz9ovxy5ab/MWmvA4AE0wBX9J8DG2G3AXGMGwCIEEMDhqD3A6gXrv28WJcBBCAjAtRqXv1g4ecCtBA/AhvV7wJvnxL+VDl6/RsRXwOE8S8Aqhh7AOZw/wOkDlD9o4v2/Z6VRwP7BP8AghA/AUZx2wFxAB8B+YGHAWD5JwMCMHMASiyfA/g1LwL8mBcDshlnAo/ZwwPc+BMBOfLe/GXguwB9xXMBibBbAW9dXwOT3YMC7YGzAv3M3wNUaBcBDCXrA1lpQv0sFFT8PmhrA4o9HwKSfEMDxXNu/MHx8wHiqWMD+OjXASmxTwLceXcALojHAUZhvwNfO1r9Q1AHAFUxWwGhaBMCdCvS/7YoMv00SScALRALAtr0dwGjHkb+Ll5RAJA86wCLc/L8y0APAA/0kwND2ZMD0px3AD6WMQOdeCsBMMg3AGlxHwIZ4SMDcGh/AOg1dwCI6GcA0Yk7A+sxawHDIZMDUZk/AjJxYwIJLccC7aCDAe80jwONcDsC3p1bAmRtwwM4AJMBtv2DANmhPwKD8IMCxiVvA/PeMQBX5jkCnuyDAVBIKwM2//b+4LlXADYHivyNlV8BkalHAHhMVwBGoTsCJ0wvA8gsmwIbgBMANSz7AHWQJwGwgjUDdKOa/2aAowP7kXMD9Ub0/b4mbP3ie7z/QdEg/sUwjwPOR8j8v3LM/bVmHP6xIej9qJRq/5aLiP8fUNr6pzUe+qaIMv3HN7z498b9AuMIqvgjpHj9JXnO//5cCv+gmlb4/Z1M9IDWQv6dz7j9OPfe+G6CyvpeTXb7F0w4/ctK+QLBZ+z/Lnqa+DUA6vXjF1j9X8MG+v02uv5mIYb/DVx2/8PpzP711wkB0Pmk+TDDqP5Equz5vGu2+zoknP8llvT7Opb09Yt0/Pjw1vEDZKsE/6gPCQFUanj+a0K89ruc3P8d1mz9qbV29AxK9v/o7X78KLEs/YV4TvsQQqT/urHS/C4LxP9ZVkb6Qw98/OpzSvtrSvkBkgRq/ZgeePgMT1D2as5C/JAcWwMmYiL9Ea4k/KWlNvtCW1z/uKLU/Fj92P7/1b760o78/invJP5RC875bUoa+epafPzM+wz9WK608oJOFP/34lD9KEJs/Okk8vxR3KcCo0rQ/xNjMPq/pt0DHYQq/Q25lvpE/hb9eYSk/RkewP/HHCMDkknq/fv6/vusoGj6PbKm/8VemP8O7ukAUtJs/fly5QKQHjL+ofsI/eihivxcKjD935S4/Mj2uvsrhtj/kMxS/UuMYv065Cb+oerc/Bu8Gv8sQzz9I34Q+UBSJPy/0tkAi1N4/ssS7P5vkskAf7uU/Uar1Pv52lT/rHiw/X5G6QHOlH79GcL0/FS8YQJZeIL8jobxAzz6bP9aad78TMvG+QcreP1N3k7/3FDq/LSzgvPfVHT+g1btAiVrKP0cdoLy/cxW/288YP5HDBUA/Qr4+3gMxwNu+Q8BCE1XAw3iEwPyTS8AtXgDAAmQ+wD7gPMDuCuW+jJUOwHxJUMBfkQ3AVd4SwBQhg8Cz5xvAD3QbwMxxOcDli5FAtUwWwKukhMAIYU3ABO3zv92s9r+vnMy/W0ERwO9TBMCtP12/A+VnwJZBGsDoTFvAiLqov/UYNsDDfm7ASj8pwF3LZsArS3jAdR4gwD/gjb9ha3LA86guwIuN1L/wWmbAdaoEwIk1UsCH+4W/TxXFvze8KsCdm2TAWOhwwGxSR8BbDXHA7cUlwLJARMDdMF3AnynFv2qgN8CP4QLAzLBDwLeL5r8hjVPAVw5YwCuxJcDg5HbAXbEswImPjUCO76O/NR1FwDDMPcBNtl7AChlhwJvW479xn3HA8wxXwGZRSMAmgxTAroB8wJW9O8Cjzj/A9q8ZwFqNNMDVxRfAU6qPQHmSI8Cu3iXACPD0vzxQTcA16VbApbwrwP7yGcCK/iHAV48GwDJXsb+MPvW/H21SwOFkYcC6IT/A6mIawIp8XcCJr3HA+fkmwAmkQ8AUfCLAb0NEwLRlur++h0HAj31uwIWHG8DmL9G/COq9v+SiSMB8fijAmRBiwCU/CcDpK/m/tfsqwOpka8BRk9q/1UTxv+wl579sfAvAbKBowD/i9b/r6RTAbJD4vzRoFcDR4QPAhjAAwFK85b+30K4/Gf52wMwQGcByNSHA7ND4v5y6BsAneu+/YPDuv0flZcCUdyDA87WYP8eMZMDpygnASiwBwCl7asBZtnTAziFRwE8FaMBjDQ/AtdQawFfIHcA+h0XAlcijQJ1mE8B9z27Aq4uuv29Vb8CnQKG9e/cJwIxdZL90VTO/BiDcv0BV/7+5evK/yexdwLB5BsApAuq/kxuKv+jztb+ME8a/C5liwDPib8A2KQvAJnkfwEBzFMCKhQHAm0JtwH5pcMC2sBnAOkTyvyY9xb/YbSe/gFhDwFwG/7+vbCLArmWuv5PAGsDI3r+/aHU/P+YtaT6Ft0nAih/ov/ZLAMBDkLm/zsPiv8VuE8D+dmbAwSb5v3Zfb8CCR7+/9OD2v60HE8DWYwXA2gRpwEWuBcBU8e2/VW/2v2e0DMDXhgbAFo4MwCteDcAOt+y/UcMMwGCxB8AfK/+/2H4QwDqyb8CQ9g3APiYJwMpJC8DOGPa/NHtUwIaLTT+kNAPAEyb9v00NBMC/cPq/2h0CwIbzbcAvH/8+92ARwEk/EcCXmg3AFnVswEF6C8AN5w3A1CIRwCF+C8A9Ig3AfEkNwJm+EMAR4BHAhIwOwIDGDMCBEA7A56AMwAtCDsDFLw7Ac6QTwOd+FMCNvF7AX22BPtLlCcBQCaC/FpOiv6KT9b8nMN0/+emuv/PDMMCI5ZO/nTwGwFHF/7/7IUXA81UAwPw9Zb8z462/qiNxwNlDzb925+G/JJurv/p3fsChNLRAngeMvyK76b0sR4U/ZbKyQKE2kb/ndqq/n70kPPuOCr/BNyG/b0wCwOh7sr8AzLZA53QAwO5Ch79kOP2/8stQwFgUMr/PlfY+D376v1q5qL+m5uS/qlKcv8yosr8zTYa/TtFSwOJUCcCtQay/sOLlv/kLBcB1Eb4+1R3zvhsoo0DF1GI+fQ6OP1E71D3QO7u/kziVv7Ot0T65Bqi/ak6VviwZhL+bS2m/eO6hPtn4Pb9wpoc/UISiQADthb8+Xj4/zdx4v/vHN78XHpe/petmPyW8Yb/S8da++1AoPzzLU78QbXM/ecfmvid0sL8BSzq//wIvv2rzY77bEjM/SPWJPiljp73/EqQ+VPVNPFEnqj84e/O+brRvv7YKwb/akIq/hIu/P8AdBz+8wKC/i9cWvycEI78NFlS/RbOjvwCmcr/kET/AV71/v+Yoyr9HYa8+fMuKv3mfBb8EDJO/BbKIPq4oDb8BeZy/rdSfv1tjYT+WM0S9xBQrP7x+tL/qmUI/A2qiv0CRm79JDcm/M56xQIHxdz0vqNa/VxSIv+Cbqb+4MUnA8sg5wHRGpr8uD88+FZbdvRgiA77vEFm/434yP6IqSsDmM2m/ENYWP4u7Xb8BXOq+4Lt3v/PbNsCfgJO/04yjv71dpkCkuna/XSe6v+CLRL/btIW/hGBQPxfMFcBCh5O/22qFvz9bq79dVbu/V1vLv1ihU8CZnLm/VUE1wCJbjL8bbna/wVZLwHVN479469O/fQURP0t3UsA0cue/TWPVvjzij78hkxu/x29NwBd+6r93SZw/+PoqwBC3jb/xkoe99dWfvzz9l7+gwua/xEWFvwdQFz/AFZ6/F4bFvz5lxr+dq1DAYK2Rv7FOoUCoxIC/3yOXv1y6sz/9HKhAkyVVPtlvR8AT9Im/HvV6v4fpYb7TN4a/TAn0v40io0BUPaC/WPU0v2EX8b/lfm/AgEibvy2SA8DAHUfAbm6iPgOIVb/S7fW+bp/Qv+vt2L+fYya/KAVGvg8+bMDmDwi+icIxwIA5EMB5Fbi/dWh5PtaBo76Mmwu/FNJVvrk2YcAicwy+7500PswH1L+8Qj7A7EXZv54H0T15vJG+vadXwBP14b8RVxq/K6OKv4WhMb8DKoa+grRAvyeWUcBJDOm+cgYdwGNA6L6WbiO/XFiYv9MK4r+1VgLAt0YEwIVa8r+AK76+4/HBvwFdkT70ddO/AQh0PiD7Wz/LmTbAxZSQv6MNUb/QyGvAUg5av9xzXMDux4DAUehXwB39bsADrsi/JIahvwpGe8DgE8S+JIv9v0oQMcD1/kbAkaVnwJR0N8BeGErA3czhvyHjdsB5gcm/FdfKv3BT+L7qYUzALfj2v+qp6L8VtCnAiu5RwA6Z8r8A2mu/LZCXvyUTJ8Dbzv2/WCgBPwXL+77iuvO/cYrMv5aCH8A9szPAXp/qvyrQm78Ac6W/wKMVwAEXdT9S6XHAri4qwHS3AsDtOVzA2Rh5wApQl0DZvCzAYGo4v2d9NsDcIhTAtBxlvxI4bcB4oEi/sbALwAaZP8D2lY6/TCyKv+b8RcB9C23AZi94wACsb8CS0S6+UgRbwAZjgj5DK1bAR5c1wNLbaMD0Inq9QH5JwGv5gcCD2WLAneuUQLS1ZMD+XGTAGf9OwJ3El0DLKgfADgeSvxAERMAsU5C/uJgYPvZ1QMDHc9+/6ORkwBPhPsCV+0DAC73ev3Wtrb9m+JG/TTqAv7eQOj5iuv6//7JZwMFviL8MK5q+o0AZwJ5S0b7N6MC+qg9qwN+gTsADbXzApt2hv+YBasAzg1Q/OCJQwK8LnL4htG/ANVkRwMnlTsAGaZi/laJZwO8ZaMCyv/6/kPJPwLxTQr+11SS/+5P+vAlRg8DxMovAcs6GwPlxaj7bM2Y9ByiIv9AAMMANgnC/uMtRwOjVR8AjK4+/EtIkvx02p76z413AQHBbwD2SD8Cr/+O+BSkqwEMWf8BNZPe+6msgwB2xUMAGnGg+AbsxwFXib8Cc2yHAa2jkv85DXsAidCvATAASwLE7QMDG3TjAq6QowIFIccA0VIvAfgJ8wO1ThsCAhvG/HjZdP5KHN8DYjjg+Utw1wN0nesCCnWrAhy1IwLMjq7/S6k/A1j1XwIayHsCBz7C/Wok/wKnYHMDw/G/AXhEtwGze/r8szqi/KMsGwC9/UsAZA1rA5elqwIWmccCXBE3AyhUgwPd+b8De0HHApCGAwEhIEsApw4DAOk1zwGA21L+kqnbAvKO+v/TwKcBcClvADHJuPuvcc8BY+g3A1ARUwJUm/7+Mu5Y/adQjwIBeAsB37SLAvuLuvyvKZsDhNE/AP9xwv5CiiL/TRljA4B4EwJJOVcAdnFXAlV0gwDqSb8C5lB3AFaQ9wOKR27+3BtS/HMgNwOH5ZsC6pem/hn9hwBtBPMCi3mDADZggwNSQTcB392vACs9lv9B0ZMDhIoK/OpBKwNcuBsD6QRHARF4QwBErQcAhHE7A2p4ywARWO7+hgl3A8+1TwAg19r9NfGrAhlAfwBK2RcDXt2fAt1lhwEDLlEA=",
          "dtype": "f4"
         },
         "xaxis": "x",
         "y": {
          "bdata": "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",
          "dtype": "f4"
         },
         "yaxis": "y"
        }
       ],
       "layout": {
        "legend": {
         "title": {
          "text": "Metadata_seeding_density"
         },
         "tracegroupgap": 0
        },
        "template": {
         "data": {
          "bar": [
           {
            "error_x": {
             "color": "#2a3f5f"
            },
            "error_y": {
             "color": "#2a3f5f"
            },
            "marker": {
             "line": {
              "color": "#E5ECF6",
              "width": 0.5
             },
             "pattern": {
              "fillmode": "overlay",
              "size": 10,
              "solidity": 0.2
             }
            },
            "type": "bar"
           }
          ],
          "barpolar": [
           {
            "marker": {
             "line": {
              "color": "#E5ECF6",
              "width": 0.5
             },
             "pattern": {
              "fillmode": "overlay",
              "size": 10,
              "solidity": 0.2
             }
            },
            "type": "barpolar"
           }
          ],
          "carpet": [
           {
            "aaxis": {
             "endlinecolor": "#2a3f5f",
             "gridcolor": "white",
             "linecolor": "white",
             "minorgridcolor": "white",
             "startlinecolor": "#2a3f5f"
            },
            "baxis": {
             "endlinecolor": "#2a3f5f",
             "gridcolor": "white",
             "linecolor": "white",
             "minorgridcolor": "white",
             "startlinecolor": "#2a3f5f"
            },
            "type": "carpet"
           }
          ],
          "choropleth": [
           {
            "colorbar": {
             "outlinewidth": 0,
             "ticks": ""
            },
            "type": "choropleth"
           }
          ],
          "contour": [
           {
            "colorbar": {
             "outlinewidth": 0,
             "ticks": ""
            },
            "colorscale": [
             [
              0.0,
              "#0d0887"
             ],
             [
              0.1111111111111111,
              "#46039f"
             ],
             [
              0.2222222222222222,
              "#7201a8"
             ],
             [
              0.3333333333333333,
              "#9c179e"
             ],
             [
              0.4444444444444444,
              "#bd3786"
             ],
             [
              0.5555555555555556,
              "#d8576b"
             ],
             [
              0.6666666666666666,
              "#ed7953"
             ],
             [
              0.7777777777777778,
              "#fb9f3a"
             ],
             [
              0.8888888888888888,
              "#fdca26"
             ],
             [
              1.0,
              "#f0f921"
             ]
            ],
            "type": "contour"
           }
          ],
          "contourcarpet": [
           {
            "colorbar": {
             "outlinewidth": 0,
             "ticks": ""
            },
            "type": "contourcarpet"
           }
          ],
          "heatmap": [
           {
            "colorbar": {
             "outlinewidth": 0,
             "ticks": ""
            },
            "colorscale": [
             [
              0.0,
              "#0d0887"
             ],
             [
              0.1111111111111111,
              "#46039f"
             ],
             [
              0.2222222222222222,
              "#7201a8"
             ],
             [
              0.3333333333333333,
              "#9c179e"
             ],
             [
              0.4444444444444444,
              "#bd3786"
             ],
             [
              0.5555555555555556,
              "#d8576b"
             ],
             [
              0.6666666666666666,
              "#ed7953"
             ],
             [
              0.7777777777777778,
              "#fb9f3a"
             ],
             [
              0.8888888888888888,
              "#fdca26"
             ],
             [
              1.0,
              "#f0f921"
             ]
            ],
            "type": "heatmap"
           }
          ],
          "histogram": [
           {
            "marker": {
             "pattern": {
              "fillmode": "overlay",
              "size": 10,
              "solidity": 0.2
             }
            },
            "type": "histogram"
           }
          ],
          "histogram2d": [
           {
            "colorbar": {
             "outlinewidth": 0,
             "ticks": ""
            },
            "colorscale": [
             [
              0.0,
              "#0d0887"
             ],
             [
              0.1111111111111111,
              "#46039f"
             ],
             [
              0.2222222222222222,
              "#7201a8"
             ],
             [
              0.3333333333333333,
              "#9c179e"
             ],
             [
              0.4444444444444444,
              "#bd3786"
             ],
             [
              0.5555555555555556,
              "#d8576b"
             ],
             [
              0.6666666666666666,
              "#ed7953"
             ],
             [
              0.7777777777777778,
              "#fb9f3a"
             ],
             [
              0.8888888888888888,
              "#fdca26"
             ],
             [
              1.0,
              "#f0f921"
             ]
            ],
            "type": "histogram2d"
           }
          ],
          "histogram2dcontour": [
           {
            "colorbar": {
             "outlinewidth": 0,
             "ticks": ""
            },
            "colorscale": [
             [
              0.0,
              "#0d0887"
             ],
             [
              0.1111111111111111,
              "#46039f"
             ],
             [
              0.2222222222222222,
              "#7201a8"
             ],
             [
              0.3333333333333333,
              "#9c179e"
             ],
             [
              0.4444444444444444,
              "#bd3786"
             ],
             [
              0.5555555555555556,
              "#d8576b"
             ],
             [
              0.6666666666666666,
              "#ed7953"
             ],
             [
              0.7777777777777778,
              "#fb9f3a"
             ],
             [
              0.8888888888888888,
              "#fdca26"
             ],
             [
              1.0,
              "#f0f921"
             ]
            ],
            "type": "histogram2dcontour"
           }
          ],
          "mesh3d": [
           {
            "colorbar": {
             "outlinewidth": 0,
             "ticks": ""
            },
            "type": "mesh3d"
           }
          ],
          "parcoords": [
           {
            "line": {
             "colorbar": {
              "outlinewidth": 0,
              "ticks": ""
             }
            },
            "type": "parcoords"
           }
          ],
          "pie": [
           {
            "automargin": true,
            "type": "pie"
           }
          ],
          "scatter": [
           {
            "fillpattern": {
             "fillmode": "overlay",
             "size": 10,
             "solidity": 0.2
            },
            "type": "scatter"
           }
          ],
          "scatter3d": [
           {
            "line": {
             "colorbar": {
              "outlinewidth": 0,
              "ticks": ""
             }
            },
            "marker": {
             "colorbar": {
              "outlinewidth": 0,
              "ticks": ""
             }
            },
            "type": "scatter3d"
           }
          ],
          "scattercarpet": [
           {
            "marker": {
             "colorbar": {
              "outlinewidth": 0,
              "ticks": ""
             }
            },
            "type": "scattercarpet"
           }
          ],
          "scattergeo": [
           {
            "marker": {
             "colorbar": {
              "outlinewidth": 0,
              "ticks": ""
             }
            },
            "type": "scattergeo"
           }
          ],
          "scattergl": [
           {
            "marker": {
             "colorbar": {
              "outlinewidth": 0,
              "ticks": ""
             }
            },
            "type": "scattergl"
           }
          ],
          "scattermap": [
           {
            "marker": {
             "colorbar": {
              "outlinewidth": 0,
              "ticks": ""
             }
            },
            "type": "scattermap"
           }
          ],
          "scattermapbox": [
           {
            "marker": {
             "colorbar": {
              "outlinewidth": 0,
              "ticks": ""
             }
            },
            "type": "scattermapbox"
           }
          ],
          "scatterpolar": [
           {
            "marker": {
             "colorbar": {
              "outlinewidth": 0,
              "ticks": ""
             }
            },
            "type": "scatterpolar"
           }
          ],
          "scatterpolargl": [
           {
            "marker": {
             "colorbar": {
              "outlinewidth": 0,
              "ticks": ""
             }
            },
            "type": "scatterpolargl"
           }
          ],
          "scatterternary": [
           {
            "marker": {
             "colorbar": {
              "outlinewidth": 0,
              "ticks": ""
             }
            },
            "type": "scatterternary"
           }
          ],
          "surface": [
           {
            "colorbar": {
             "outlinewidth": 0,
             "ticks": ""
            },
            "colorscale": [
             [
              0.0,
              "#0d0887"
             ],
             [
              0.1111111111111111,
              "#46039f"
             ],
             [
              0.2222222222222222,
              "#7201a8"
             ],
             [
              0.3333333333333333,
              "#9c179e"
             ],
             [
              0.4444444444444444,
              "#bd3786"
             ],
             [
              0.5555555555555556,
              "#d8576b"
             ],
             [
              0.6666666666666666,
              "#ed7953"
             ],
             [
              0.7777777777777778,
              "#fb9f3a"
             ],
             [
              0.8888888888888888,
              "#fdca26"
             ],
             [
              1.0,
              "#f0f921"
             ]
            ],
            "type": "surface"
           }
          ],
          "table": [
           {
            "cells": {
             "fill": {
              "color": "#EBF0F8"
             },
             "line": {
              "color": "white"
             }
            },
            "header": {
             "fill": {
              "color": "#C8D4E3"
             },
             "line": {
              "color": "white"
             }
            },
            "type": "table"
           }
          ]
         },
         "layout": {
          "annotationdefaults": {
           "arrowcolor": "#2a3f5f",
           "arrowhead": 0,
           "arrowwidth": 1
          },
          "autotypenumbers": "strict",
          "coloraxis": {
           "colorbar": {
            "outlinewidth": 0,
            "ticks": ""
           }
          },
          "colorscale": {
           "diverging": [
            [
             0,
             "#8e0152"
            ],
            [
             0.1,
             "#c51b7d"
            ],
            [
             0.2,
             "#de77ae"
            ],
            [
             0.3,
             "#f1b6da"
            ],
            [
             0.4,
             "#fde0ef"
            ],
            [
             0.5,
             "#f7f7f7"
            ],
            [
             0.6,
             "#e6f5d0"
            ],
            [
             0.7,
             "#b8e186"
            ],
            [
             0.8,
             "#7fbc41"
            ],
            [
             0.9,
             "#4d9221"
            ],
            [
             1,
             "#276419"
            ]
           ],
           "sequential": [
            [
             0.0,
             "#0d0887"
            ],
            [
             0.1111111111111111,
             "#46039f"
            ],
            [
             0.2222222222222222,
             "#7201a8"
            ],
            [
             0.3333333333333333,
             "#9c179e"
            ],
            [
             0.4444444444444444,
             "#bd3786"
            ],
            [
             0.5555555555555556,
             "#d8576b"
            ],
            [
             0.6666666666666666,
             "#ed7953"
            ],
            [
             0.7777777777777778,
             "#fb9f3a"
            ],
            [
             0.8888888888888888,
             "#fdca26"
            ],
            [
             1.0,
             "#f0f921"
            ]
           ],
           "sequentialminus": [
            [
             0.0,
             "#0d0887"
            ],
            [
             0.1111111111111111,
             "#46039f"
            ],
            [
             0.2222222222222222,
             "#7201a8"
            ],
            [
             0.3333333333333333,
             "#9c179e"
            ],
            [
             0.4444444444444444,
             "#bd3786"
            ],
            [
             0.5555555555555556,
             "#d8576b"
            ],
            [
             0.6666666666666666,
             "#ed7953"
            ],
            [
             0.7777777777777778,
             "#fb9f3a"
            ],
            [
             0.8888888888888888,
             "#fdca26"
            ],
            [
             1.0,
             "#f0f921"
            ]
           ]
          },
          "colorway": [
           "#636efa",
           "#EF553B",
           "#00cc96",
           "#ab63fa",
           "#FFA15A",
           "#19d3f3",
           "#FF6692",
           "#B6E880",
           "#FF97FF",
           "#FECB52"
          ],
          "font": {
           "color": "#2a3f5f"
          },
          "geo": {
           "bgcolor": "white",
           "lakecolor": "white",
           "landcolor": "#E5ECF6",
           "showlakes": true,
           "showland": true,
           "subunitcolor": "white"
          },
          "hoverlabel": {
           "align": "left"
          },
          "hovermode": "closest",
          "mapbox": {
           "style": "light"
          },
          "paper_bgcolor": "white",
          "plot_bgcolor": "#E5ECF6",
          "polar": {
           "angularaxis": {
            "gridcolor": "white",
            "linecolor": "white",
            "ticks": ""
           },
           "bgcolor": "#E5ECF6",
           "radialaxis": {
            "gridcolor": "white",
            "linecolor": "white",
            "ticks": ""
           }
          },
          "scene": {
           "xaxis": {
            "backgroundcolor": "#E5ECF6",
            "gridcolor": "white",
            "gridwidth": 2,
            "linecolor": "white",
            "showbackground": true,
            "ticks": "",
            "zerolinecolor": "white"
           },
           "yaxis": {
            "backgroundcolor": "#E5ECF6",
            "gridcolor": "white",
            "gridwidth": 2,
            "linecolor": "white",
            "showbackground": true,
            "ticks": "",
            "zerolinecolor": "white"
           },
           "zaxis": {
            "backgroundcolor": "#E5ECF6",
            "gridcolor": "white",
            "gridwidth": 2,
            "linecolor": "white",
            "showbackground": true,
            "ticks": "",
            "zerolinecolor": "white"
           }
          },
          "shapedefaults": {
           "line": {
            "color": "#2a3f5f"
           }
          },
          "ternary": {
           "aaxis": {
            "gridcolor": "white",
            "linecolor": "white",
            "ticks": ""
           },
           "baxis": {
            "gridcolor": "white",
            "linecolor": "white",
            "ticks": ""
           },
           "bgcolor": "#E5ECF6",
           "caxis": {
            "gridcolor": "white",
            "linecolor": "white",
            "ticks": ""
           }
          },
          "title": {
           "x": 0.05
          },
          "xaxis": {
           "automargin": true,
           "gridcolor": "white",
           "linecolor": "white",
           "ticks": "",
           "title": {
            "standoff": 15
           },
           "zerolinecolor": "white",
           "zerolinewidth": 2
          },
          "yaxis": {
           "automargin": true,
           "gridcolor": "white",
           "linecolor": "white",
           "ticks": "",
           "title": {
            "standoff": 15
           },
           "zerolinecolor": "white",
           "zerolinewidth": 2
          }
         }
        },
        "title": {
         "text": "UMAP by Seeding Density"
        },
        "xaxis": {
         "anchor": "y",
         "domain": [
          0.0,
          1.0
         ],
         "title": {
          "text": "umap0"
         }
        },
        "yaxis": {
         "anchor": "x",
         "domain": [
          0.0,
          1.0
         ],
         "title": {
          "text": "umap1"
         }
        }
       }
      }
     },
     "metadata": {},
     "output_type": "display_data"
    }
   ],
   "source": [
    "blue_green_colors = [\"#edf8fb\", \"#b2e2e2\", \"#66c2a4\", \"#2ca25f\", \"#006d2c\"]\n",
    "\n",
    "fig = px.scatter(\n",
    "    umapdf,\n",
    "    x=\"umap0\",\n",
    "    y=\"umap1\",\n",
    "    color=\"Metadata_seeding_density\",\n",
    "    title=\"UMAP by Seeding Density\",\n",
    "    color_discrete_sequence=blue_green_colors,\n",
    ")\n",
    "\n",
    "fig.show()\n",
    "fig.write_image(\n",
    "    static_figure_path / \"round1_seeding_density_umap.png\", width=2000, height=1200\n",
    ")\n",
    "fig.write_html(\n",
    "    int_figure_path / \"round1_seeding_density_umap.html\",\n",
    "    full_html=True,\n",
    "    include_plotlyjs=\"embed\",\n",
    ")"
   ]
  },
  {
   "cell_type": "code",
   "execution_count": 19,
   "metadata": {
    "execution": {
     "iopub.execute_input": "2025-07-03T22:23:20.921624Z",
     "iopub.status.busy": "2025-07-03T22:23:20.921518Z",
     "iopub.status.idle": "2025-07-03T22:23:23.470229Z",
     "shell.execute_reply": "2025-07-03T22:23:23.469752Z"
    },
    "jukit_cell_id": "xfvHhoGCg7"
   },
   "outputs": [
    {
     "data": {
      "application/vnd.plotly.v1+json": {
       "config": {
        "plotlyServerURL": "https://plot.ly"
       },
       "data": [
        {
         "hovertemplate": "Metadata_time_point=24<br>umap0=%{x}<br>umap1=%{y}<extra></extra>",
         "legendgroup": "24",
         "marker": {
          "color": "#edf8fb",
          "symbol": "circle"
         },
         "mode": "markers",
         "name": "24",
         "showlegend": true,
         "type": "scattergl",
         "x": {
          "bdata": "n4SFP5d3oD/4ao0/srmNwMV9hj/XH/0+hRKPP67T/z4palW+9lR4P3Droz+1Juc/cKvDPz91VD/tygJAdjhVP4V93z7dV4k/KSxLP09QwT8MhTc/28ABQIhqlT/8dI0/Y75hPxCwKcAf3ok/1Kb2Ptwnrj+1QVC+B1WjP2F1Zz8O3lU/NYuCP/Trbz/pSY4/dVpXP2LwIb7/M44/EdSJP2m1YD+wiWM/RVasP3I2iD/wv2w/nGD6vCUkPT9ag5A/M3N8PxEzYMB2cVw/A3Y/Pxl5+z9zBpk/T2ntP3UMBsD9dos/Ykg1v9vPZD+IS8K/nvSLP9xinD9vwJk/X7ALwPxF9D+DcIg/44aJP+MaI76PM5I/pb5pwJPWsb/PP4M/bXSUPw4rwT9AQ1o/0Kx7vXR27D+5xo8/d0+LP0/a2D9Kk38/eimDP0vHMT/WhUHATu5WP4w3gD+qg6S/gzrhPubXHb5maTM/x0lqPw9Rmz+FB/s+jf8BP7/m6z9uD5c/PLaIP/6LAkAP8wY/LVx0PzjlJb838eS+UAZwwNkp+T4elk8/p3cNvRcgZT+MmI8/zyGEP/G4Ir8VAX8/lUidP4IxaT8ZKu0+ZBlQPz0Hnz/5sia/W6CePwg2RT8Tbn4/SxFZPyAFhD9vpJk/ChnfP4Gwez8pW3Q/ytKOP0RVhb80d50/B1C9P8J4iT9S5N8/LgOwP96LE8DD6KM/AIGYPwbklj+kO5Y/jsuGPxYf8z915v4+ILFOP33Tmj8yoIXA5GmOPYk1jD/7R4o/w8C2PhqYrD+DkHa8MFNZP9Lehj4Khko/6oJlPmcoM77Vvzc/pL83P+VvmL4i/F4/aqpKP1Cktz5nSWg8veNCPwQcnz7X30Y/90aPP3Gbhj+Oxr0/Cgm2P7fuyj/WvwQ/XQBUvwZbED9afAw+C257vs9Lkj96EZA9mWKyPwOt+z/oH6Y/18LzP+stjT9w9kS8TvuTPmo5bz6eW3s/6SpNPw7zhb8UsgXAjvNLPydyVz9sAto/ZLIDvwad9j9nFYY/iBEgP4u8mr5bjbG/BtdSP6BfMb81Qtk9nUedP8mHpT/F7q8/KIyfP1/nJT5rNsU/RamDP/B2xz2a6aY/8RVPv1hDoz5Oz0Q/3Bw0P7uFsj+ikZ8/I5xxwKE8iz/2oRg+lES1QOQ9Tj8xrUU/iHolP+UzHT/Pmhg/4u/rP63xND9bSGC/wUrSvpIR6z6fcJ+/+4qMP7vUoz8CyXi/9emTPy82rUB+w+E/25GIPzQgwD4PxZo/rdz9PlTIGz0Z024/cVw7wPP5ob9B5bM/2mGjP6w19j7Yn3q+cgsMP/9SLT/h8Cw/XX2ZvTkVw70xlsU+TYQmva+BSb9icDI/w8GFP3ukPz+yISDAil6MP3i3HD9bNi4+WPVkv6ktSsDUK7G+1g5evxkQATvMrRU/qqspv48mjT429Xy/LHmdP/TDgsAsX3XAg3C5PzAY9D6SLYE+ho9XP7C4ez5qdcS+XDxcPmX4Fz70r6U+ZLURv4MoHb7+pTQ/j84swKM+Yb4BOj4/OgjEPtfFgcBPw4LAi8kvwDMUncCT1cY+IqZwPul5aL+4YVfA+dsSP0o0iD52bwI/JKiEP0lSwj6BP44/t3BRPo7mLr5Hno4/ApK3PmYXjz4XDlc/Lytgvls0YT81ADE/aAYGvdaPkL4Cdk8/ROdeP5QDp0Abj+k/YOkMP888kj4hblY7Jc6BPvFZBT9UbT4/OXGEP6qWKT6GWpk/yBI/wFUdjzxdRSzAlSk7vw+0ID4Cud4+A17CPxKGRr4f+FY/9qbBPeaenj42c34/qLmzPrwcWz/ps6M9bIupPoC1qr6C9qu8e/ZkP4tBVz8SboM/apI4vxKWND7wOpU+rwctv1w/lT/6Tfk+zpvxPhwUtT6yT4Q9Ld2evap7RT/8+mg/Tj8KP3GnBD699Ry/10AEPt7Viz6nyaQ/URceP1DcZr+drAc/4+rwvSVVpr/Ha0g/CaVkvcyKeD8pKNO9Ha6DP7IyDT+PiK0/nMynvpvuWz/NgYI9fHtnwOdSacBrriO/pi+SPm7cub48wr2+5gZ7P2SInL7Qqc4+MQjMvki6tj+Ofag+7ni/PvVLOz+m56JA60oiwJ+2Mj+0uXG+XCDOPdCAzb7zR2A/oyUaPnwqrz9khRe/nuz1PH1uPr/dsdo/DOlcP0SlOjt0Rxs+hZzFPHpqsD9iu1g/0zmxPqcfEL/Za2i+piGXvi05BD/VnF2/ZDXzPxvpXr+n/EG/LRULP2g5Ub+lVgy9A1Q2P8yldz4nsGi+9508v9Q6PD4lSTW/2jLivug60b0V1K0+cV+3P95QQz+5dsI/7Vn6Pg00M79i+lC/HDDGPh9DN75L2wc/QcyfP6c8r74pb5a/ph5cPleVNr4NJ3s/hhV/vuHKGb6apbA/YMO7vdXPS7+L8pS+bn40vhcZRT+t/IG/y9g3v3bBGz5Oba6/VrMmv9/sg74ft88/riX7vgjlwb8P7TK/NlZ7vM54mb/2V1U/wJO+P341Hz9cH40/j56PP8SvXT+ejY4/nOKpQH2R+D2zun8/zQUHP11TnjzD6No+nJ1jPin1Pz8qQCO/IpsUvr31TcBZ0Og+lJKSPySVFz5zr2a+PqYqv3b5A79oJ3W/fVAcP2fLrD8Awx/AgrCjv4pWlL4cfRLAopKBvsfgecBUevI9KFk1wIEpOsD7WQvA8tyvPpIOwL/q9GvA6XqcvvSDtL9U9r2/WjR3wGKBXj3EBei/75yNPeo8ZcDoFC/AknONvxexsb9yiI6/x23XvzA4Jr9eQjbAizmvv8ZjsL/wkDHAt/42wEc4FT56+yDAtiY7wD413r64Wh0+qLAIwNpRFMDEl7C/wMQIwHuBmj2T/RO/EAYWPmE1fMCuoPU9ALDgvxuevz88shI+j6x0v4If8b5syDrAOII1wHSuCr/rthzAYiY1wOUAOMBvWNC/Fh80wI9sSL/zAjnAgs3gv76wA8BZKEK//Ee/vyORMcDnulfAKck3wArzoj2BIyPAWYXkPSpdMcAwhDrAtR45wHE0DcBmveW+vrUCv54SxL8Yk07AwXA6wDkx0r+4r0fA1ME0wHw/V8A90T3A/EuJO1O/zj7mVIW/at4jwPUeMcChOSnAFBYvwAIHUsCG6Wi+tQjKvVLhpT5wfUvAPt3IvpVq7T5QVATAIpToPBcUZ7+IQjDAUCY2wIAdlD3qZTbAqpU7wGS54b4owwjAtJS0vxQyOsBQLtI+5Rq1v9gFeT+5nDrAFR8wwMfBH8CqnBXAFW9VwJXN878IFNa/MpN1P+p2hz8qoCvAtBJ0wEiPN8BWSDvAsQYpwMKy5b/BA1rAZPwjPuQZE8AbrTbA8xnbP+HjOb8uYC2+u6o5P+M1bsCk3sI/cjYUvF4tDMCiFcy+5EUvwNO0CcCKkDbAFIA6wKnIHL/dGRXA7pKTvzNlN8BOQ+E+6nkWwEBcPb/5yhDA8V43wPTfHcBkignA1hZXwEIYEL+AowbAFOqTQCtYEL/Xs9+/gm4xwHtsvb9zdTvAjewPwGRzV79OdnHA18KGv4/uzL5SZ1rAftlcwBZvSsCOL6o/fMmLv4Hux7/aUca/fOevv6k8A8BDng/AwQE5wCLgO75qWDPAzUw1wNlvDMDTrSq/zFFqP87vOcBBDtC/YkpHwBR8OcD8ChG/HlvLvxREyL/8sDrAJFL3vzx1DMB7oKM/uFFwwOUzFb9+ZqW/FmAXPnDWEMBQzOY9CsK4vtNzDsBZ9zPAHVXTv86FScAMTDq/U+bLvdPjjb9E1Ne/0+ftvILb4r8Eeci/x33qvwf0L8Bjjnk/MntZvwiGs78x9P++9xq1P5irvb5T136/XbrcPazxpb5T83vABzHQvanmtj/kSBW/Kv5DP8Yq9b8qXjbA5qPov255Mr/l3t+/Xn8pvziJ67/FWBk/eWB/vwqZAsB1fLO+88JOwDrA7L+/Gte+J1cIwI7P0r5Mebi/qB2LwBOsvr9Ifrq+7MSKv9cnmb8VVlfAzRBLwAD4+79jlgrAqNGAwBie4L6yBn3Aw5grP2sbXr9+Gzu/qWYmwJ8vcr/nzX+6bWaYPy1KSb9o+CrANjEowEUs8D4Ciqg+z3eFv3n5lT6A0n/AiaU1wF66BcD3W1+/2uaHv26mIsBEb4G/HO00v9NEX8AY8mO/W2F/wLfhSsBrw4Q/BK5tvvQhyD+kwBTAzTqFwJszTb8tk1nAT2VQv/HH2r8FSKK/rXrCvterub+wTXC/GXBFwHjJicBhjDa/KNJmwDerfMAPahbA1l5awCTkOL+UgZ6/JWBavc8zXr/VJwQ/1Wgpv+27m79l8DTAmYqXvgf1hcAzwnHABPd0v1lqgr5Ckmy//PlwwM2BCMD47lrAl7hvwPd0ccBL/13AZwYpPuOTJb8ypJu/mwSIwH1LUr+hcdG/2EqIwHTOKcAIS5s/8KUGP5yjgL9vwCjAxVFRwHBUo7/4CT/ALsavP9f69b4Jh7g/b+hOvxj0yT+XzQnAIZWEvyW5Ij8vZIq/WPbuvwbcir4FWUK/LjuCv3P69r4OlEzAjGzHP1Ijc8ClAHXAqjCkv2HuLr7REg+/OzyJwLViiMAJNeO/SYc2P5BFHL8ImkvACsChv6miTr8/eBa/otFawLdLicCIanDAs2wtv/qSWsBb713A7tDSvx3w6r95Ygq/gpDoPpBUTMB8Em+/pHbyvvUFhMAAWFA/wWLfvwSOU8CgnYPA2uuDwKI1gMBJBDnAKPETvz9JhL/PU/m+A/KCv5uTX8DhpBu+Kcocv5LslT8B9Qu/LOuCvxeFF8BCvWrAxu/ovgbqzT9Eh0G/g5e7v13DjMCdPIK/fDQkvxtd17+Tk03AUnHsvl4+h76veSQ/w+rFPu3zxT4LLJq/6AolwD2rgcD5YCO/ckcQv0BNW78d+XrAbd2vP0sHTL+NLE3AJGSSv55XA79bwnG+jgF2vzEisj15v2O+C0VBv2K4eb+qxlfAL1qnvzABKsDA/SG/+ptnv4tnH78E+4jA+E8tP+AHjMB4Vru/Nwbavt6bJr8QWgS/9dOjv39yxz7VqNq/wBgPwIWqvr7xE3+/0l8BwK6jBcAwR4K/vghTPi3QuD1H2QfA8WeOv/+IgL9MJku/B2EtvWdgAMBokTy/OZCtv5cRbj9KkgnABY+bvqoUzL9tWTy+i7qQv0nisr9g/E+9crnYv1LMgL4xiJA/Ua+Cv4BZVL+RR1K+bfWZvw70qb+2Jr+/d0CovwWUy7/1UaK/5+BWv7e5Fr+poqi+GONqP8g167/JK1S/1jBGv2OVB7/wVtS/Js4OvuZQUMC9yhDAHa/Qv4QHlr38RSLAFM5bwAzT2b+0mlG/2h/Iv2DxDr8UdITAYvkswJ0YIcCiJIC/nRIxvyROlMDKjr6/7Z8LPZCgncACJJe/A8FywAXoCcClRrY/hT9EwNEJG8CYdba+sISCv2G7y78mhgC/RII8wOUhfsDR8QTAZ4JQwH4NH8AKgA7AuziewHBoIz5pB2TA7ciSv/C6OD4DYYfASLd4wERHID/cZPa/BcCMP7BeG8CCjo2/uh+1vw2thb+7I9i/xdK1v9Y0pr4gciPAkoxLwIoMgr922QrAYlqfv/+LI8D5tVHAi9Dav7Ejib9qAFfASlOXv4gKS8AndwU/uvHBv/4diL9d4LS/W9liP700QMDotErAAEogv4PXvL8/+lvAg7lVv8E5t7/Nxau/PoKlvvFSmcA5Z7e/T6ZTwDk3Ab+Bn0/AG5M3v6OtBcCqfLy/meXFv+Hfgj9OLRrAsZxKPpUqc77VjpO/R8Orv5F+S8DvprG+CjI9wMIb3L78AMW/Uvnbv9wxg8BdR3bAg2bDv6qNScDDa9u+IpuVv7W5T8B/5YHANM3nv28K+L7W44DAYtiyv8dfUMDAD5M/fjrGv10eZL/mBUPACB2eP/rGLj7x5jHA4IlHv17Ivb8VUKq/lmSNwE+CU8D1WWHAMljdvygblr9J1Ya+R69GwJ0U0bzZuaS/xJqev/LK678fNpS/3LKCv/im4r/F2BK/buwawIFwPD8J/Au8ca03wIggl74JqTPAWnTKv3OcG72MTJy/wUKAwBfrJMAuh5+/wtiPv7f1yr+WwxDAFusewI+RVb+QZ8W/fkDFvwnxMb+rc1u/cCC1v4UsGMAsy86/wKwQwGz+VMDZcX/At+0XwHFvub/8xp+/OacKwCOPXsAYzpe/1ahRwNtubsCX13XAI6wOvzUVr72pniM/xl9nv/wwC8CbkAzAUbaIv0Pwnr+GwZm/5ACbv74Zo78rBofAXyxiwFYWh0AumLO/I+qlvxq9B8D843E+LDg+wBpoZ79BUJ2/9aGzv56OE7+9MyXADCjzvtmqFb8e3TLAeIwYwKWgDb9Dw7m/SH3FvzGMRMDpNE/AHeu6v9lTrr/VKCnAcDskwPBdBMBQeKu/xQA2wLfwbsA5cwrA9sEpwLhXG8CyQx/AxPQawBaV079kre+/wqBZwGeBH8BkDZG/yPO2v+rMRMCBcQ3At1CYv3uwQMD3ARDAHZqzvyE+EL/ADtK/Uh0wwPhDtb8Yzh3AS+ezv/I1Vb/bXDrAXx/Gv9tjv789Rbm/ngK3PxlHAsAjBNi/SfBywCB8pr8YzK6/eqM1wK/QET+w/7Y/5b+3vxATTD9OUOe/gVI7PyRYDzuPDZ7AoP7oPwBG4D9UkJ7A6ofaP11/3z92hF7AED2BwF6OPMAuRVvAWlrCvwouS8Ckj2HAoD4UwEK1nT9SzGfAMea5PzPa4j+0ZeI/MmAnwHw9tD97MK8/vO4RwJEIo7/OqvC/JWoIwEpHzD/Rhq8/99XQP/I8SMCj6f0/Y/LaP77+qj8dN/O/HyXuP+7e8T/eaGY/ZqztP5NG2T/kWwDAFkiCP8CcAcB7Lcg/FfzLP5nZXsA0hjTA9Yu2P42WZT8RI1HArkF5PnrhEcAveW3Apxh8PVwwE8An874/4lXhP0yyob8TCrY/M8llP2912z8ye0Y/oOHGP269iMBENe0/VBu5P6JDLMA5y8w/gjlewIHsgb1RU9I/pjMpwA59kz891bg/MpDjP6GBqD/50wHAGVUdwABE9D6am7M/DJjNP/JkKMAFBu+/7RnZP7PP1D8h5L4/3w4vwJTkuz/Qhb0/YNQbP6nHAsB3y9A++YeGwPPhRMC3pcM/h+0hP/KA1T9578s/hm9dP3AQpr8MI9s/JrxqP/fKbz9Whl4/dmGKv+BDxj9g7Z6/fRdgwLJGTMB0o56/FCmuP/lbrz/CykjAkkqZv9eQ1j+Ew7A/Wxu8P7vRVMAsA9s/WNybP5LIKsCgP6E/80ewP0oIUcBMdds/6gYfPwYz1j4+Q9A/bcBjwNXo5D+uOBPAUcJXwKbKI8DkSEe/n83RP+syQsBl04M/P3Tev2kZSMA/APS/DGqDPxs+Yj+8c1vAhMXSPxY+Qb84Ol0/ghZKwErYAMB0p/i/pQnFPw4XB8Cot5o/rE+xP48fMD/Y+Ry/dCdfwJZZmD+VZGM/IbPdu1IM+T5Nb96/gY63P/BDFD8qNMU/VEY+wMjp4L8gRGG/G7tvP0O3L8C1lbY/oFFAvhR5cL/3WAzAi+Pqv5/d9D5/lFY/n6rLP4YwvD+KtpY/Y/AxP+wJ7T/jSSk/Kn4ePyuY2T8XdfW/VRHMP13RQ70EfE3AZoz2v5q1SMDlhcg/M91OP9zM5D/81DXA0u1RP7p8ez71HTjAK5l+wKmPOcC4RS7A/MBMwCmMsz8dERDAKugMwI3YTcCEylzAfpEmvsDRAMBOeD3A8uMBwC0QHMAa+T3Aa/xiwMaHccA43jLAvBMpwIyCCcDRUijAKaDRP+ngQ8Bfr2s/uzaov9Xd+L9PwFa/5QlcwK3uZ8DFWDnAUWQMwA24hD+eNF3Ai+xgwAFOKMBeS07Azy9TwO+VWj/iWyDAkYVbwO1CWb9zVVjAe1wdwKgUXsD/lUbA0pQdwJij9r84bDnAP4UWwL/brz15/dC/K2PvvwWyRcCsZTrAzsCJv+4jCsDlrBE+mlspwNJsM79ko9y/fanDP45Tw7/3wTbAAhHKv1uGIb8Zp+M9sisQv4QKE7/ePwY+NVdAwB08tT/id6O//+zcv73XGL+UPprAtUtav705OsALowbAe85av/GiTsDmic+/IqYzwGPo6r1cqIu/cB7HvyrEFcDR8SfACkAwwPzp1b+bybC/WOavPtfypzsoIYq/5pMAwMgZOcCP0pO/LK+CwHS1FcCcrDPAt0eGv5G/fL4u5ji+oZTGvodQt7+c1DjAecQ3wHpTSMCif9g9cbccwF6fsb+ycTrAny6Nv7VoesAHQwrAfK9Pv0cXM8C+pzXAp7KivyZhPcCTXjjA8OCfvy16M8AC3by/lis+wC5Uc78X4pk/8nH+v9axF7/73jXARiuMv+dfHsDR+Me/DtjBv1CKRcDr5Q/AJ2D2v0FdsL4mQDrABmv4OwxAOcB8X8G/xlJ+v2N/O8AXHzPATqU7wFZvMMB2p/u/S8kzwDpRhr/390DAq+RCwKNIR8Cib1G/KPkwwOYJxr/SxLy+NKVBwMU0nr+lbCnAXyZCwA9JPcBZaUbAOeIwv+hgP8CgTnu/Hz5qwGoy9b9Z6dS/CV4UwMqXcz8iNum/y9tGwB09NT5ZZT7AkYw1wAJVc8AVNjTA30RJwDE8O8Dk8t+/S5c8wIYugr5MhkzA6YrFv0obScDDYkXAkiV0wKmNOMAd0py/Mpw5wAarOcBtcL6+estYwHNLRD3ZozvAjixWwGjYRMDIPk7ASV36v3buLcAzI/W/CmB2wMBPTMCN7zjAr5I2wMKc1TrtZgY/aPpSwCKvTcDCuVbA3fhiwHyWc8AoH4I+kxpAwEwdeL5D18G/rq8EwE0Ma8BpBBLANNO1v23vTL9enV7AuF07wLaldsBdCUzALRo4wKaxRcDt/WDAMls5wF3Zg8AgkUbAfXkKwDHEGrxFOBDARec7wGmK9L+PFqO/vryGwGtw3r/3mIXArh5twF/fsb8uf+q/AYUzwLp8e78X9RG/AbopwJb9Rr9oK72/ixYBwAIlF8BEIUHALr+Cv0AxoL8skNo9Nvo6Pyx747/fMwC/e8PKv4weTMBamaW/p95VPS/nRr+qxNa/FUoPwIH6TMCa0oO/WXR6v8c5h8A8On7AlKChv6aubMAr4MW/kdXDvlchbsCYXNC/maenv2EgCcCTnJY+u/y3P+ugPcA9azW/1GEAwKf8wL9Git6/uQI9wKgmF7+pslfAIeSev+fKz798bdK/2zRxwEm0xb+E0d6/s7xwP/Wwjj/YcaS/DVIAwEKvC79rmfU+YGClv0/tj755Nps+cjKTvWFpT8DTOSO97Ng7v8tJGj5HBOW/eHQTPgzLj74BcJK/Ty2SP0+S/j1HiaK/XThhP8bVVj0+SfM9eJWpv/8GiD0vGJ++e05RwPwRCL6Et9e/lwGGv5mlNb+twzLAH1xjv7R7Pz5iZ5q/LNmqvzFrtr6AKIq/PCvgviJE4b5uOli/bZGzv+uSvr7kzsy94Autv2KNs7tpP6m/5ESwv+XlqT0RfLA/UH9Nv5XTFL/HdyO/SqpZwO3Sp79cykM9E6aov1XSkT//83a/Er2/vYcdOr53bho7R/12PiaB77+P+ZM72xmePhE71L4hIj2/0mkawEby4r0v6Fg/aKDRvuMBNL7BQJ2+XX2HPqyIZj8u+TO/nPf0vwGNtb99WXO/Z7Qqv/HRpb5R3429JXCWO6NsEsCiXTq9u6PePZsMlb8IiFW+48qev4tDtL8xgNw8pX27P+XGBj+yXIG9GwLPvWVKhL+zopW/3U+sv2iCU75x7Fi/BsEgPi6DuD49UVXA7oCYPrVHXL+0DDa+D5RbP0ZHjb4fG3Q+aLDhPjUGP7/1b7W/bOZpv98vaj/o/T4+k70QwM2IUb1+exY+nG69PqOElL8s48W94oUwv+4aAD6V3JQ/bmcGvhl40b90V5E+OHaqv3aBvL/3kFHAzZNtv71lrL6YIyo/JByFPT5TBMCmVyC/6B4Eve2baLxfEmu/OVOCvza9lL+Ag2a/cwMMP3cNsr+rJ4y/MrnjPhRAZL6pd60/Wes4v6L1GsD9KaK/QhfovXRlIL8mTA4/j+9kwO3Jgz7uqSg/nB6TvxdXLb/rUlS/7odfwHo0mT6hDA7An9mHvlOE/b7tO1PAjvuLv6/hgL6QuhbAPpr4Pon9gz6jthrAYP4yvtpCTb+PG6C/aecwwOJLUsBDdni9iCu1vj9qNMDKx2y/23FkwKtXGT+oSC7AU9uTv/HFMD8frjA/exJAwM/gAb/zqQjA5jRpvgKcXT+Ysy/AidFWv2/aq7+vsQC/grU4P5O8kj9ReMS+n/OlvoaJ479v+s497OHCvvpZQz+QchI+lT+xv5Ltgb5jT+W/Zgl9PjTGab802qU/aBpmv90HSMAuJljAztEdwDyIQr/L6t8+6dnRvYA8zr82DTu/NibsPxwHED/LAHHAW694P/VEScCqY96/UuOHP92Ej78Hjgq/e//1PsTA478zIeS+lAgVv1n1uL8Ae1q/ygJWvyEnf78O53y/3k4DwK3zB78fF1bAfyhAwOhdA8BzGni9YRYnPkI5AsB9rgi9VxRxPYXNAsDJBb8/cXdqv6xWB8D2wZo+WcN5P1xtL76HTcE+ah3HPzlcAUDDZbY+b66gPl3XzD8jega/a/rRP6Q0kj8r5xs/nJKBP7dAUT9dmKM+FIm9P2uloD+LEy8/ZRYUP3YqaD+jdMg+rd1QP1nfYcAKqZg+it0IQOYNsz/slJc/O8+WP/3Whj5mSQI/M/KpPoDbXT5SLW8+fSnMPxKrBj93x8g+c6AcvrvP/D+Yy9w/h9TSP7DB8T++fYU/RiccPzsO971Vxo0/laPBP6f87j/esUA/Dce1PsVE/z/jQ3E/mSKrPyzPCT8BN68/w1aovte0xD+bAbk/VcgCQF3c+T86bgVA5y4DQIrqo79FnsO98gs6P95Uvz+MwoW/KtGmP8qLkj+QXkE/fP5eP+s8bj+gA28/MkpDwIReBkCJBbQ/KEH2P9TPpj+Y1YI/QJ4BQBJWDkAZgZE/SIb5P1rfYz/3tQNAky/0P3GPBr5CkZ0/AJ2PP8rX8z9tjpC/1bkNQPFXA0DstwdAy5zdP7FZCkBnvNo/yMv+PwOGgT86Syk/wEkDQDabkT438LM/8rHcP/8Q9D5OKBM/9qKoPwlYDkA3Dwi/4lzHP4FqWD3sVw5AHBXeP1go/z8c3UzA1nMGQKe59T9kVtA/qehNP01A0D9hY4s/ytLuPyzT8D8uEFk/nR66P33+CUBJd5i/BqmqP3lxAkAYuGjAk2seP0WvwD8TFXQ/e+nWP5arfD6yZQxAI4D5P2B6Sr+GHUY/OAroPzryYj/bRQZAjF+yP+s4ZL5p7fw/UCyDP1Nuiz5qcuw/BOqnP4XUBEBv6ew/taYxwBx00j9WQAtAQnXdP12Qtz/Qm7JAWolTv85KMT/wkFY/CL71P8eqtkCyl+Y/cwOHwL32yj/lDea+r0Vzvy+Rrb5S9hi/Ae4Lv+mu0byhB6O+V2AwP7Zf3T8PkOc/9mNxv4OEND8wZ4O/ENqvPzbMxz63Eom/4BefP1rxgD8PvW46EBCzP4Yqo7998Li/zjIXvFcckb88AuE/vcZgPuLPkD80S8g+YDbrP7V1mz+kXZe/nVtrP5KkvUBv4gFA+8IBQHDdCD9afcY/NTjAQKYjWb8CVpc/YK8DvzuOUz5s6bdApSPHP3XLIL9nm6O/MXqovzv9h7wrYa8/yJnKP+sLs0A2mx6+5ZGKv/NyBECTS4q+Ggk2vbVS0j+a93M/grCZQDayrUDWVrRAjcRjv8ZmpECOlYW/jpsHQHnhlz8bfMY/orMSP9hylL81zrZAdeqxv+TAt0CKNH4+QspzwPrBbT/Ny+g+3Q0QPhsAtkBMKJk/L9+Yv+zlBUATmkDAYNjIvyjZ6z9fCIM/eyGwP7gPfT8GOrc/LpyWv7ezCj/lKSE/hcVePqWwZj9r6YQ/BTDxP4Ya4z9DlrI/3kQ7PTjXLz94Wkw/gwxiP1GNsD/ZcyI/pKCKPwGMtz9iYw0/bKW1PyQmtT/nwzs/nqqbP6opLj/RxWw/pzdvP20WUz4px9E/XIVOP864UsAzi3s/tO1hPyOYaj9Nxt0/E5YtP9eh5T6dS5s/dS2uPwpfiT8im6E/LeNpPwK4kz8qPE4/B4J5P2xIFz8/86E/sEmZP/52kz/clY4/+Df/PqBYt77PoTI/0MayP72kfT/spoU/gYjHP84mpT/e/Wg/lBlyP9k2Sr548oM+xpCZP+qBP8BZI68/RBWCP5z8lD9rb7Q/R6zhv+TLeT8GARM/epiuP+teqD+PKA4/rDCpP/NOwj8xQ04+OrDqP8qFgMD+mKY/KMq2P9YSoj8HkqM/0JCxPzAHgT88XMA/1CLKP4Aolz+DP3c/efyXPxwAhD9GaGY/wo+1P/ECmD6zunE/s52wP2BZsz9f4pA/IJKdP93Zjj8YGPc/OBroPk4+Mz/1c7Q/XJ2aP63PzD7vSJ0/Ud5fP1YIBD8nsaI/LmkbPwuptD/iSV3AwzFoP4xRFz9Tzoo/nxS2P87Srj/hwIM/sccyPgiiVT9LK4g/USlSPyH3dD+16IA/Rv8FP0vyW8AnAag+1X8+PzQWsj/+lGw/FRjBP59MYj/qqZg/rMmqPwOtIj+FjbY/1lOjP2l6RD/pWWM+zer3P7nsDz/Dkvc+YY+EPyJvvD8JjaI+KEu1PgSWZz/A5nY/OYilP2tITz/pOz2/VT2nP4DnJb6cPys/g4+RP0r2PMBHNsw+dd1UPxP/qT+quDE/IOwVP3y3uT9WfbI/c7KCP5M8YD9bAEa9lbJfvgaIXz/rucY/OwKVP7XDtj7lZKo+LNZgvwI8tD9/XeA/tM61P8F4uT/WBaY/lTwhPw5WET96UF0+8FklP4leDr9nxxE/SBivP0nlyT9k4EM/Pc+7P41dmj+1JFXAXnUHvgmWKz+vwfg+diEZP1qriz89Nsc/DxuYP2LbWcAtC2++dPsIPu2RgD+1qlXARbpHv6o7Nb6DN08/23l1vgTLhT/MlJq/xkTVv1zkcDvpziw/Nbmav/Jm4j8QeI0+HYXAPnQy3r8+3zS92My6v9gpbz69xtg+5dExP5WIND+EiCU/cBpVP7CCvEBdtLI/lPu+P2M6AT8xBhc/GZARP8rNtD5i/VE/58gjP3xKnj6w4Qg/Wkvivwyxbj+XrPk8Tff+PmCng71+tJ0+kWYlvy3Gmz9U+Is/Om+svufV8r5O690+vYtRvtikI8A94kDAD7cLwLwm579K6jLAd5+RQKDxNMDIlzLAWZdewCCour/krU3AlwZcwOivHr9nPI2/s0zUPdDISsBApFnAuv9AwHq/Er+98D7AwiE9wBlfrD5Hlfi/SJBmwJNkOsAHhYI/mXiTvhxtDsDc4u2/4/1KwC2OQcDSBna/bJIRwB1SAcCHCQY/75sTwH6aWsAc7R3AgrYlvxYAI8DgKkfA8uTkv8xeFMBPPUHA9mngv1FyKcCtTUbAUQu6v8sJZb8+aSPA82lkwC7PQsDYcBXABWYrvyuJI8BR+QrAzDLRvzbshT+o7xDAOtSWv6BaW8Dq4TvAkc6/P8aixL4fL0vALikRP8CaQsA6pEzA4fjTP6vQJcBFpT7A0lrnvyg6VsAEcl3AcQINwJWC279KbzXAuQQpwIUr3r+urTHA7CV/PkMxUsD5vALApAACwAPAMsC9+DfAGY5QwCeYfj9bn2rA1L1BwKwRWMCQETK/G2BLwNYkNMBGmKO/uZVpwFGbScBIlUHAKDWJwLrkQ8AC0mLAOvbAv+eUXMCQ01fAe69gwGsybcDGL0nAm855wIBWQcCe10jA94UxwP3FJ78p56G/u0FCwIHBbMCwmVvAjnxRwEI2NsBwnGHArZ6wv4WjXcAg1DfADYBMwPrrUsC1uUDAWRdawFK+W8AQyz/AL816wJElVcDXa0LAJtdMwH6yU8BSZGfAG191wK3wXsA+a8a/bYUxwNfsDcDA+4lAE7VdwJucQ8CFfE3AndhMwGVFYsAYeEnAz3lNwCKwKT8B5EnAMzJIwGYgIsDoX++/CBNnwNFdH8DcH6i/Igbrv8r5HMCCPlbArTYxwBlphL9LsfK/X+lhwB5SBz/H7GbADjRPwO7bF8AZXEXAACdxwDoMdMA3u03A339vwKbzCMCKsZE/0URjwBOBaMCdezHAZLtPwPykXMA0SYE/xXG3v9fiM8DlQiPA858owPWMbMAHtmrAAVo8wBQNPMCBDBTADexAwJr5bsDZe3HAbd9rwNt5PsBWdcG/jgNxwJLRGMBNzVbAxFqPQLCfT8Aj71zAE1pkwO+nM8ABS7q/CPwmwFK+YcAhyfO/6lFzwA3hYMCy6P2/X1YowMq/pj8LOELAa+ZRwGtaRcBteze/DsRkwK/CPMCVypo/5ctZwN6fR8CjiFfAwq9RwDrcNcDO8BnA1VD5vwyxYMC7e1DAftJ5wPVjIcB31se/CN0lwDawHMBAJX/AtoApwE5SLcBvBi7ACPVYwIdLc8B/wGbA5xxbwKWxW8Bd9xe/hakywOv8LcAZQgbAXLdyvzPCPMAeAizA315iwNm7vb+cfDG/Nk3ivqu0TL9Dcse/wCkAv44J+L/ikYTAaStpv+0Ujr9PDou/aNyCvxK7XD/KlYs7C6M4P+q02L5F2m6+arm+v+7cGj7+voi/9lSlv8zkiz9pRcO/Pgrmv55Th7/kIxg+TFBlwIjalr99V7C/+J46vQ3KAsBUET+/0j7Wvz/peL/8hB28D0AaP3Cj8b85LQ7AQaFOv5tHib/LIxy/9/2CwDwPjr/ZbUG/PpztvzYapj9bzI4+cqHzPl+Asr49rsQ+sZiZv90/hb63bhPAPzlAvxQfIT9+AU4/gSC9v2SYvb+kQZu/JRXtvyuHIsAxr5q/y94ywFWc8r9tWnK/0v2rv47Phr6SoMW/3v4jvpHsWb9rj+G/XFY1P8iB17+AKA0++Zyqv+zFY7/Q6iTAmfqZv5tBUL+G1KC9dqkbv40qKz+MBIw/3A99vxbG8L8pj6w/5evWPi/WDLwn7RK/I4Duv7cwf7+8JRK/lwSnv+YEzr+2BKm/LdjOvz8iGL6uR3+90gyQv1LA3L97y4y/giffv/SbSMCet/C/CfTlvwtPT8DbNCXA2DIzwPILl7/ozLq/+M2ov9JYCL+w+SrAJelQwEPDX8Bl+EzATtXtvzN1D8BFlwTATuZwwEsPOMDGNRjAYxAXwKwzQMDJuOu/eeQvwNK/MsAHnbm/M9tywIsFN8D/8/W/BzAzwAAtYsAD/CjAdXEvwOIMp7+gwETA2gUlwM7e/b/B4RnAK1odwBJMvr9WkT/AOHN/wDwTd8CtjTLA/qN1wBhKOcAXGWbAomv/PRcqTsA/ZxbAjdREwJ0HLMCW2ibA1zRiwLD8ZcChTv+/nFi8v2ZSk0BvPAXA5WQPwGsCNcATnjzA0K4/wGivkECbTF7AKakrwK5h3L4cyjbAInUYwAflHMAK8wTAKcuQQL/TBMCvjDrA88IOwDzBC8BR5UfAhXxRwPQMJMBz7TvA42AfwFRgkUB/ElnA/PotwP3qGsCvho5AhIAewB+hCMBXcCHA92tlwCCq179ZUAHAQIB0wFe8XsCwr3DAOvQ3wGbiikD5xQ3AuTIzwCQPOsAi3Py/MtADwAP9JMDQ9mTA9KcdwA+ljEDnXgrATDINwBpcR8CGeEjA3BofwDoNXcAiOhnANGJOwPrMWsBwyGTA1GZPwIycWMCCS3HAu2ggwHvNI8DjXA7At6dWwJkbcMDOACTAbb9gwDZoT8Cg/CDAsYlbwPz3jEAV+Y5Ap7sgwFQSCsDNv/2/uC5VwA2B4r8jZVfAZGpRwB4TFcARqE7AidMLwPILJsCG4ATADUs+wB1kCcBsII1A3Sjmv9mgKMD+5FzAHEejP8ULQL71GSe856TZu5To3z/iUu4+oNEbPwBGED+WXCc/XKDkP1oqvkAvzoc/ofoev84cvz7WU8FAWiHVPmH2BsCWn/k+7LFUwJgy8j+lwQfA0lGLP0ajvUDPk4Y/q9z3Pybq8T8BZ4Q/0+ZcwBkGsz/pdQBAcCUjPpeahMB4JLs/CXfePtjpuz6mnKtAQRTtvoeiY8D5oaw/T7qRvnpQIsB4knC/R6mxvcZMtEBqopC+8+q/QGdnrj+WPh+/yCW4QJLbRT9deNm+lC19vxNMjb7FXMM/RFBEP6xsQD8nuMW9E2u1PxGWWD89YGO/I3rHPxYRgz87yaa+oAfUvg4VwD/XGqe/PPbgP8nH1j+Jaki+zbbcPw4ENT/bM8g/NpXzP59Ru7/EoMBAcBKYvwSLw0BFoAE//2xvPp8a5z8fpBC/muc9Pytnl78g4rE/0mHAQOShzT+mqxw/uSHvvYXAAEB4/OA/pEgnP1DVuj/Kqam+4GKUPzKQYL9iUP++CIuaPx5GtkALQos/7f7CP4165z/xPr5A52aoPyVZDr9TIb1A1FZ9P3vPlD9Tk8BAD6/LvsSPQj/e2e4/N2K+P9dVwECceeU9qcSXPzqIm77PZsA/SSv1P9KB0b1NCt0/8TRIP/7Izz5F88w/OBlOP1qnwUBW1Os/TOq0P17dHT/fRfc/zyKdPxMZiz8HH1I/qkLBQK4OMMDSzhe/8lS8P9cHuT8ZIVrA5afqP6jEvD8xEi0/+zgtv1Ttbr72OGE/HX2TP5gykr2c8xG/iN35P4mUskB2Nwm+/+mTPwXgpj/Gqko/P7q+vggf+z2Ixeo/BVLMv9LB5j8Qj6g/aD39P7+Uhj+ZeKo/KPcawAXrrD2solXAxMcPP4f5676OsAg/c9/AQAgfjz9mUVw/94SNP3cAwUBR3J0/8FWjP1DYtkAjsLC+NT6nv0TDtr8ghb1ALwQcvtXVsz8EIBw/0viKv9UIBcC7WMBA/4GTP4AecL0isbxAAPwjwKzyKL912Iu+zWvFPsUtlj9X3tw+5weGP08+xz8gfl2/ThK5QI9rVL/9Ub0/b4mbP3ie7z/QdEg/sUwjwPOR8j8v3LM/bVmHP6xIej9qJRq/5aLiP8fUNr6pzUe+qaIMv3HN7z498b9AuMIqvgjpHj9JXnO//5cCv+gmlb4/Z1M9IDWQv6dz7j9OPfe+G6CyvpeTXb7F0w4/ctK+QLBZ+z/Lnqa+DUA6vXjF1j9X8MG+v02uv5mIYb/DVx2/8PpzP711wkB0Pmk+TDDqP5Equz5vGu2+zoknP8llvT7Opb09Yt0/Pjw1vEDZKsE/6gPCQNDpHr+SFy/AFCPAP6vwoz8yOwG+Pn5DvCI7kjxnfXu/bjoVPo0DWLgCGmy/aeYBPxBYm7/JSoG+GhmOvrfkob+KJoi9GGBWvxLmTTy16sQ+mHs6wF1F7z4oU8a+PN7Rva5rWL5UAHnAOPTsPfj2Zr+gPSa+ltdgv9m63T7kOm+/G++vv/njy7+fnxa/e19CPyG8J79FS7w/jiGyP5Za6r7V0yO/06/3PYKh4b8kXV+/aJxJvvcbHb4Civm8lDGVvK/MjD9KNF3A6mfcv57o0r9vo+G/QBSLvHJtR8A/R9S/wemAvx0Hjr+hiSI/A1IEwKtBpz2hnba/6/1UwH8jCcDjSC2918CnvsJBy76On37AKINAvxy48D0bwqK/fumYvojFjr4MWtI+kiQePi/os76WhnDAyZuhv4Z3bcDzab88IsvYPvP7ST++iLU/RtpPvbQ9ZL8NGUS/PKfEvtibYcDOJ2/AcT9nwP9zccAiG0i/qnW0vkQjwL4lYi0/jK6MP+/1RTyOptU+RDyCv2NKdD+28kO/jjDEvgijbz7YJHnA3PJvwKtMLL+UYQo9TpV+wKIxlz/HFnzAZLeKPURvHr/bKx8+NIBpv/t2xT4e3mfALSJ6vrtnCMCjBWrAgswIwH95gL9IllvAzvA9v453f8DwWRrAdR4qv7ZqAT8zVUHA28hbPtulHr6ixIrAm8RKwJhI+L8Ql5y+wXutv0GvPMB/znfAboE/wARzUcAo7I6/1v9swBaRXcAHuC/Af7fTvxsxHD9FrU8/SH1hvxY8zD0ANwE/wKmyv8ILd78kPyW/bi/Pvy3dasCJbYK/NNFbwM5kS8DltnrAz3UwwHxAg8C+ME/A1Hv9v4Z2QsC6O96//qkpwIr70r9R6w3A9BTTv4nJ5D7tARTApZgTv7HybMAeOHDAMpQUwHflCMDfWibAhJ7qv7qmZ8Cl312/pj7Yv7r4hMA9+bC/rgSAwJw9V8ABE3nARbNAwABYY8A0QWHAG2hwwO7QgcD23+i/2GSTvwKkEMB5pRTANT0CwEkeIsA0Bcq+bNBkwAnRy786/ATAP0K+Pt4DMcDbvkPAQhNVwMN4hMD8k0vALV4AwAJkPsA+4DzA7grlvoyVDsB8SVDAX5ENwFXeEsAUIYPAs+cbwA90G8DMcTnA5YuRQLVMFsCrpITACGFNwATt87/drPa/r5zMv1tBEcDvUwTArT9dvwPlZ8CWQRrA6ExbwIi6qL/1GDbAw35uwEo/KcBdy2bAK0t4wHUeIMA/4I2/YWtywPOoLsCLjdS/8FpmwHWqBMCJNVLAh/uFv08Vxb83vCrAnZtkwFjocMDiG4s+YKxSPsIDhD+NRDS+Bh22P/rR6bz+8wDAU324Ppk9JcBojIa+kndtvTzXpz6KoJa7/oIiwGxODT9ZBXM+Sr0HvucZI8Ayvgg/EyinPt58oD+B46VARiMjP594/z4CBbc/jb60P14+vT9l3T+/FnoBPwxImD3aTwY/qoIRP5Gi4j7jpbc99TwowC6t3b2BOS3AC0kjvarq0D5zxh4/vVBHvrUSCj+NH3s+e6bcv1a7wT5o20U9njkQP4Ksrr/otQQ/+/A8PyuEIj+QiZo/4S+8vleHvz+b2NA9qC+RPnri+L8lz2s/vMcBP6mmkz/2ga8/wG+wPrvH1D7eELA/3aoePj9X/T/uhaw+UT0BP9ILTz9S9NU/JKH/Phgrqz9kj9o+IavIPuMPVMAYJc0+9uyLPiAGwj6s5ag9LZEEP7j7Hj4l6L8+rOr0PlWzpj56J+o+fjWZP5r7GD9U2zA/KharP0mIVcD7b3c/8L74PrBZCsDGbvk+kh4KPtFRFT83p5K/asoCPxpW+z5VJrG+HyADvrjEFT9jVIE+/CYgP//NRj5THBc/EtHNPWECIT/cMkc+4Qw3P6G+5L5U3ku/XBSvPtj4vb5yUZq/W93cPypeBT9PtBY/qcIsPwwytb/lJxE/gumqQIBhBb77B8s9zh87P7ykJz9qKwI/HnGkP6U74D4JURS/SC6QPsEnGb/JVtU+fTO9PLjJor/9w9E/S0MyP1uNzD2Lc8M/bIEKvyjIRz8QPkc/+moAwDz7Lz963qM+T+muP6gQiT6yhaG9iMoOPjUCG75eyGE/jbwZwC9i/r+j8em+bh0DwIy5u78GDALA/ARtwJDJ9r+pdGzAAGPUvpAmyb/x+WfAE7ENwPesSMB9i7O/iwcIwCmJQ8B7C27AXuTovxSeIr88P8u/w4j+v2JzIcA4Tvu/GIoawBrb978O16i/9xE0wKYEiz5DN/2/JfFdwFPoLcDaaAfApfpUv33ZCMD1m1nAIVtgwE6Our9OAna+jN0JwCu8E8BwAZs+dHIRwEha9L9V2AzAG1L4v6YwbsBDWvK/Uqf/vz6HRcCVyKNAnWYTwH3PbsCri66/b1VvwKdAob179wnAjF1kv3RVM78GINy/QFX/v7l68r/J7F3AsHkGwCkC6r+TG4q/6PO1v4wTxr8LmWLAM+JvwDYpC8AmeR/AQHMUwIqFAcCbQm3AfmlwwLawGcA6RPK/Jj3Fv9htJ7+AWEPAXAb/v69sIsCuZa6/k8AawMjev79odT8/5i1pPoW3ScCKH+i/9ksAwEOQub/Ow+K/xW4TwP52ZsDBJvm/dl9vwIJHv7/04Pa/q6+YPxh1rD2EXpE/7dGhP9Mbm8AeqYLA+oqKPyIsgz9Cesw/qCmNwKRilz8SoIc/5DI5P5wXi8CjS43AJlOOPzFSuzyO74s/jk2sP/56az+fl4rA5HRZwOA6hcApY44/68hNP0oAmT89TZA/+wqXP50MqT8aWYXALbiVP7+xez/u97E/NXJ7P4rzpD8vR8g/1UNmP4+QSb7G6oXAao6DPwlalT9QZEA/m1WLwK3JKz9Jmj4/P5SsPy+7HD9L0T8/dnOKwOgTrD/eO18/gS63P+SBvz+AuaM/VdD0P6LujD/fyL4/J3eYP8p2lz9FYLM/ylYAQHcAoT9bmna9azLOP5p4kj4Ai6Q/GWhGvx15Ez+UkYM/B5hgP7SdlD9btNI/gFvSP0aiAUAip3o/2SyZPzeYYr+G+pQ/mFCdPzn+uD3iG18+hgVuPxA6mj9KiXs/5kXSPlh3ij+sdje/3qNMv/0zLz+dkMS9QPaFP2J/bT8geKE/BU9+PzZThT9isuA/AU1EP3JigT9PrpM/g9VyP3uDcb2FCrFAv/YYP0drEz8Wioc/r8ugP5+Tvz8lO5m+ms4HPxfkgD/4y5Y/XMEsP19rDT70KLVAQhCHPxqA9j/xBXo/oN9uPw2I8r4JUXw/jgaHP72FiL80Vrm/p2S3QLV1fb8MgfE/OS1Pv2yC/j/qXqI/E/olP4/9mb2xy0o9t6ERvq+xjD/rFHG/JPOjP5EImT/5rmM+Si8qv27ihT9oVcg/b+KqPxMhYD/giJk/x5FxPesar763fMU+gwG+vmq1Lr54YsQ/4FO7Pv7A/T7J8oY/n9anQB8hrj+qjN0+qI75PaL69L2+ylc/oKCAPs6+pj/E1qs/bphKv0IrjT83WcO+HtiyQAi7dT9a5aBAT+xRPh+xGT/qwXw/tiwkv0iCmL/bwmE/yWk5vyz8PD95opy/ZKWTv77ViT42lK9A1oNMPye9mz8a1PY+l8aTP2ZFKr+J6rU/WOpWP42UuD/K0/0/dciqQEbs4D8l8n6/8jazvgCAbL8D1RG+LMXWPLnbgj28Lb4/Ygmbv8iejr91Eb4+1R3zvhsoo0DF1GI+fQ6OP1E71D3QO7u/kziVv7Ot0T65Bqi/ak6VviwZhL+bS2m/eO6hPtn4Pb9wpoc/UISiQADthb8+Xj4/zdx4v/vHN78XHpe/petmPyW8Yb/S8da++1AoPzzLU78QbXM/ecfmvid0sL8BSzq//wIvv2rzY77bEjM/SPWJPiljp73/EqQ+VPVNPFEnqj84e/O+brRvv7YKwb/akIq/hIu/P8AdBz+8wKC/i9cWvycEI78NFlS/RbOjv7ikJb/N1CDAq9CfP2B1Pz7RixW/b091wHz1W7/az5a+t/0JPpLcRb4OaeO+SPJgvnycBcB74Y/AFTQyPvoq+r+9z+0+UZguwKLC8j3nTuw+eJZivgFHsD6cIJq/Yagsv7Rzg8BZyJ2/3eXTP1sxZb4XpZO/xqgyvzpFoD/nBBu/hwnCvrhCSb+r40i/cWQOv0GaMsDvtS2/6GTNvVM23b8wIYm/oTjHv4nsKr9DZPi+q6Tyv9rTir9xtli/lr8lwH6Fxr2OdkG+Uwn0v21kn777bKa/b1MLv/943b8vzQTAD6YIwGRZzb9GggG/cdrovsFyBsCu5Ke+uFncv/YPg7+bzki/3PUsv3KOCsDJ3Ne/MHuOvwQ89L+hIhjAhQu/v8ibR7+4p46/FAcIvum/AMBHWjfAu4/Ev1cBAMAjBba/83ptvcjKAr/BBxa+6lB0v4Tmwb8M/9i+KisMwJp/V7+rNCe/ZCPIv+/YTr8Yy9y/CZOCv3/l1L++Rnk/753Uv3nunj2iSb6/HJkNv0d2z790NJDAwnxXPxBLcr8DagLAaRAXwHrip7/xZxG/M2akPp6uk8Ar9OM977DtvrOiFcA/WwbAGKfavmStBcBIUSXAtN8fwLTI2L9odhzA4kkIwGtffL+wEQrAObXDv5nIV7/5XSa/0Vriv6HTG8DGxy+/HvYMvz+sYL63TIK+n/GFwO9sdb8oSbm/E5ejv/TqBsCP8pC/b6osv98fOb/uyie/H1wWwJgWBcCcwgfAYVTOvfmQFb+skxG/iGu5vy8KHT5qsvS/Ur5Jv7AH4r/f9QnAe35zwNQ16b9klhDAxWlLv8G6BsDV7cO/OvpOv04BWr+8leG/0/Gsv70pAMDCI+u/bwYnv0HaFb9T7v+/gYZ/PHH20L4Tn/m8UzLpvxSeVMC1723ALpmjv/cfEb/fQ7m/PCcHwJVxWb73cvG/VsiRv+aG0L+0bFi8+smIv2qbnr/xdnE9bcWPvyccLb9rcuu+LcUKwMI6Gr0BEQe/HeHXv5Mm1r/SxZK/eR9rv3u/ZD0tRgLAXs4Gv49vuL7/nO2+5X5vwIBIm78tkgPAwB1HwG5uoj4DiFW/0u31vm6f0L/r7di/n2MmvygFRr4PPmzA5g8IvonCMcCAORDAeRW4v3VoeT7WgaO+jJsLvxTSVb65NmHAInMMvu+dND7MB9S/vEI+wOxF2b+eB9E9ebyRvr2nV8AT9eG/EVcavyujir+FoTG/AyqGvoK0QL8nllHASQzpvnIGHcBjQOi+lm4jv1xYmL/TCuK/tVYCwLdGBMCFWvK/gCu+vuPxwb8BXZE+9HXTvwEIdD6rDgLAXtSVvuA1Kb4/cpg/8zcDwKYVMsB9wM+9QDK+vzaPKb7zih6/Bzmuv7itf78Atzi/eNDyv8dyBr+5V+S//OOxv3+6gb9MXDTApfGbv1VUuz7qIJG+xaJvP38Dlb9SeLy+lFx4PiLi9T5X5cS+0dqZv2ozbb8/J3k/5S19P5W35T7Wv0+/GODTv23aLr/SSOo+klzLv8VnpT/iHiHAAVouP0jCh78PP9C/2Dyxvu76vD/GC9K/e1wdwANbcz9eFxC/Q9iAP0eatL5AfsC/q+ePvmzHQb5BsgLAchxUv6yTScCGAfc91dDBvsE20z8Gg5u/cRHMvjb4CcC5Fo6/UpMQv4WnHr+Y7CC/C3BNv3uSA77xJHbA8OlxP/SvVMB6XhC/5ofuvl2okL+5kCe/IAgkv9WVlj41RAfAUQNiv0pV97/NMry/2N+0P6YcGL/S0mHA/cl3v9eaQT4ayfO/8sAHv/QFjT9phta/9dMSvvqd1T4WxwTAdXYAwJ2c0LxoPJu/av0lwK4P7b7rGtm/JmCQv+vD+L9c+GW+Mn+Qvi/3V78KaaO/NWQUv/bIjj+i+ES+Tp0gvyEZQr4Lq/O+0UlYP8BIlL/I4Dg/YiSbv0tC7L4IeT+/anbFv2Pnhb/CGw4/uKlKPtb+gT/TWH+/20cFwPQchb9c9lu/CgZLwOwlUz7Nx+W+d9I2v8ygpL9MBzLAmfH9v+6Zd79rwMq/FfFDPheUE79gQEPA6z0pwKGSGb9h5my+13/9vgJg47+mSqC86DU1wBAlisDK+Vm/KRZBv0NUbj4PvN6/lv8RwAgka79GGp+9/5RFv5fDIb6FyQrAVMJTPkd+Qr5m6GS/Vz8zvrx0W7471eC+5pIRvxsiw7/iCmG/KKvBvxF1Dz0QcTO+zvVcwKii4T5fCxC/YEFTvwP0a8BWK9a+NE4dP/VDnL+7foS/LbsUwDyCS8AvaYzAdNhavog0iL8eIgnART6Av0O+wj4bv8u/N/UHwDnHBMDLv2nAcDwIwNSGHL917hHAnaJQvyVBCb9V7BTAdSbfvjoyNcBVm+W8z7ZDvwwrmr6jQBnAnlLRvs3owL6qD2rA36BOwANtfMCm3aG/5gFqwDODVD84IlDArwucviG0b8A1WRHAyeVOwAZpmL+VolnA7xlowLK//r+Q8k/AvFNCv7XVJL/7k/68CVGDwPEyi8ByzobA+XFqPtszZj0HKIi/0AAwwA2CcL+4y1HA6NVHwCMrj78S0iS/HTanvrPjXcBAcFvAPZIPwKv/474FKSrAQxZ/wE1k977qayDAHbFQwAacaD4BuzHAVeJvwJzbIcBraOS/",
          "dtype": "f4"
         },
         "xaxis": "x",
         "y": {
          "bdata": "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",
          "dtype": "f4"
         },
         "yaxis": "y"
        },
        {
         "hovertemplate": "Metadata_time_point=48<br>umap0=%{x}<br>umap1=%{y}<extra></extra>",
         "legendgroup": "48",
         "marker": {
          "color": "#99d8c9",
          "symbol": "circle"
         },
         "mode": "markers",
         "name": "48",
         "showlegend": true,
         "type": "scattergl",
         "x": {
          "bdata": "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",
          "dtype": "f4"
         },
         "xaxis": "x",
         "y": {
          "bdata": "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",
          "dtype": "f4"
         },
         "yaxis": "y"
        },
        {
         "hovertemplate": "Metadata_time_point=72<br>umap0=%{x}<br>umap1=%{y}<extra></extra>",
         "legendgroup": "72",
         "marker": {
          "color": "#2ca25f",
          "symbol": "circle"
         },
         "mode": "markers",
         "name": "72",
         "showlegend": true,
         "type": "scattergl",
         "x": {
          "bdata": "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",
          "dtype": "f4"
         },
         "xaxis": "x",
         "y": {
          "bdata": "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",
          "dtype": "f4"
         },
         "yaxis": "y"
        }
       ],
       "layout": {
        "legend": {
         "title": {
          "text": "Metadata_time_point"
         },
         "tracegroupgap": 0
        },
        "template": {
         "data": {
          "bar": [
           {
            "error_x": {
             "color": "#2a3f5f"
            },
            "error_y": {
             "color": "#2a3f5f"
            },
            "marker": {
             "line": {
              "color": "#E5ECF6",
              "width": 0.5
             },
             "pattern": {
              "fillmode": "overlay",
              "size": 10,
              "solidity": 0.2
             }
            },
            "type": "bar"
           }
          ],
          "barpolar": [
           {
            "marker": {
             "line": {
              "color": "#E5ECF6",
              "width": 0.5
             },
             "pattern": {
              "fillmode": "overlay",
              "size": 10,
              "solidity": 0.2
             }
            },
            "type": "barpolar"
           }
          ],
          "carpet": [
           {
            "aaxis": {
             "endlinecolor": "#2a3f5f",
             "gridcolor": "white",
             "linecolor": "white",
             "minorgridcolor": "white",
             "startlinecolor": "#2a3f5f"
            },
            "baxis": {
             "endlinecolor": "#2a3f5f",
             "gridcolor": "white",
             "linecolor": "white",
             "minorgridcolor": "white",
             "startlinecolor": "#2a3f5f"
            },
            "type": "carpet"
           }
          ],
          "choropleth": [
           {
            "colorbar": {
             "outlinewidth": 0,
             "ticks": ""
            },
            "type": "choropleth"
           }
          ],
          "contour": [
           {
            "colorbar": {
             "outlinewidth": 0,
             "ticks": ""
            },
            "colorscale": [
             [
              0.0,
              "#0d0887"
             ],
             [
              0.1111111111111111,
              "#46039f"
             ],
             [
              0.2222222222222222,
              "#7201a8"
             ],
             [
              0.3333333333333333,
              "#9c179e"
             ],
             [
              0.4444444444444444,
              "#bd3786"
             ],
             [
              0.5555555555555556,
              "#d8576b"
             ],
             [
              0.6666666666666666,
              "#ed7953"
             ],
             [
              0.7777777777777778,
              "#fb9f3a"
             ],
             [
              0.8888888888888888,
              "#fdca26"
             ],
             [
              1.0,
              "#f0f921"
             ]
            ],
            "type": "contour"
           }
          ],
          "contourcarpet": [
           {
            "colorbar": {
             "outlinewidth": 0,
             "ticks": ""
            },
            "type": "contourcarpet"
           }
          ],
          "heatmap": [
           {
            "colorbar": {
             "outlinewidth": 0,
             "ticks": ""
            },
            "colorscale": [
             [
              0.0,
              "#0d0887"
             ],
             [
              0.1111111111111111,
              "#46039f"
             ],
             [
              0.2222222222222222,
              "#7201a8"
             ],
             [
              0.3333333333333333,
              "#9c179e"
             ],
             [
              0.4444444444444444,
              "#bd3786"
             ],
             [
              0.5555555555555556,
              "#d8576b"
             ],
             [
              0.6666666666666666,
              "#ed7953"
             ],
             [
              0.7777777777777778,
              "#fb9f3a"
             ],
             [
              0.8888888888888888,
              "#fdca26"
             ],
             [
              1.0,
              "#f0f921"
             ]
            ],
            "type": "heatmap"
           }
          ],
          "histogram": [
           {
            "marker": {
             "pattern": {
              "fillmode": "overlay",
              "size": 10,
              "solidity": 0.2
             }
            },
            "type": "histogram"
           }
          ],
          "histogram2d": [
           {
            "colorbar": {
             "outlinewidth": 0,
             "ticks": ""
            },
            "colorscale": [
             [
              0.0,
              "#0d0887"
             ],
             [
              0.1111111111111111,
              "#46039f"
             ],
             [
              0.2222222222222222,
              "#7201a8"
             ],
             [
              0.3333333333333333,
              "#9c179e"
             ],
             [
              0.4444444444444444,
              "#bd3786"
             ],
             [
              0.5555555555555556,
              "#d8576b"
             ],
             [
              0.6666666666666666,
              "#ed7953"
             ],
             [
              0.7777777777777778,
              "#fb9f3a"
             ],
             [
              0.8888888888888888,
              "#fdca26"
             ],
             [
              1.0,
              "#f0f921"
             ]
            ],
            "type": "histogram2d"
           }
          ],
          "histogram2dcontour": [
           {
            "colorbar": {
             "outlinewidth": 0,
             "ticks": ""
            },
            "colorscale": [
             [
              0.0,
              "#0d0887"
             ],
             [
              0.1111111111111111,
              "#46039f"
             ],
             [
              0.2222222222222222,
              "#7201a8"
             ],
             [
              0.3333333333333333,
              "#9c179e"
             ],
             [
              0.4444444444444444,
              "#bd3786"
             ],
             [
              0.5555555555555556,
              "#d8576b"
             ],
             [
              0.6666666666666666,
              "#ed7953"
             ],
             [
              0.7777777777777778,
              "#fb9f3a"
             ],
             [
              0.8888888888888888,
              "#fdca26"
             ],
             [
              1.0,
              "#f0f921"
             ]
            ],
            "type": "histogram2dcontour"
           }
          ],
          "mesh3d": [
           {
            "colorbar": {
             "outlinewidth": 0,
             "ticks": ""
            },
            "type": "mesh3d"
           }
          ],
          "parcoords": [
           {
            "line": {
             "colorbar": {
              "outlinewidth": 0,
              "ticks": ""
             }
            },
            "type": "parcoords"
           }
          ],
          "pie": [
           {
            "automargin": true,
            "type": "pie"
           }
          ],
          "scatter": [
           {
            "fillpattern": {
             "fillmode": "overlay",
             "size": 10,
             "solidity": 0.2
            },
            "type": "scatter"
           }
          ],
          "scatter3d": [
           {
            "line": {
             "colorbar": {
              "outlinewidth": 0,
              "ticks": ""
             }
            },
            "marker": {
             "colorbar": {
              "outlinewidth": 0,
              "ticks": ""
             }
            },
            "type": "scatter3d"
           }
          ],
          "scattercarpet": [
           {
            "marker": {
             "colorbar": {
              "outlinewidth": 0,
              "ticks": ""
             }
            },
            "type": "scattercarpet"
           }
          ],
          "scattergeo": [
           {
            "marker": {
             "colorbar": {
              "outlinewidth": 0,
              "ticks": ""
             }
            },
            "type": "scattergeo"
           }
          ],
          "scattergl": [
           {
            "marker": {
             "colorbar": {
              "outlinewidth": 0,
              "ticks": ""
             }
            },
            "type": "scattergl"
           }
          ],
          "scattermap": [
           {
            "marker": {
             "colorbar": {
              "outlinewidth": 0,
              "ticks": ""
             }
            },
            "type": "scattermap"
           }
          ],
          "scattermapbox": [
           {
            "marker": {
             "colorbar": {
              "outlinewidth": 0,
              "ticks": ""
             }
            },
            "type": "scattermapbox"
           }
          ],
          "scatterpolar": [
           {
            "marker": {
             "colorbar": {
              "outlinewidth": 0,
              "ticks": ""
             }
            },
            "type": "scatterpolar"
           }
          ],
          "scatterpolargl": [
           {
            "marker": {
             "colorbar": {
              "outlinewidth": 0,
              "ticks": ""
             }
            },
            "type": "scatterpolargl"
           }
          ],
          "scatterternary": [
           {
            "marker": {
             "colorbar": {
              "outlinewidth": 0,
              "ticks": ""
             }
            },
            "type": "scatterternary"
           }
          ],
          "surface": [
           {
            "colorbar": {
             "outlinewidth": 0,
             "ticks": ""
            },
            "colorscale": [
             [
              0.0,
              "#0d0887"
             ],
             [
              0.1111111111111111,
              "#46039f"
             ],
             [
              0.2222222222222222,
              "#7201a8"
             ],
             [
              0.3333333333333333,
              "#9c179e"
             ],
             [
              0.4444444444444444,
              "#bd3786"
             ],
             [
              0.5555555555555556,
              "#d8576b"
             ],
             [
              0.6666666666666666,
              "#ed7953"
             ],
             [
              0.7777777777777778,
              "#fb9f3a"
             ],
             [
              0.8888888888888888,
              "#fdca26"
             ],
             [
              1.0,
              "#f0f921"
             ]
            ],
            "type": "surface"
           }
          ],
          "table": [
           {
            "cells": {
             "fill": {
              "color": "#EBF0F8"
             },
             "line": {
              "color": "white"
             }
            },
            "header": {
             "fill": {
              "color": "#C8D4E3"
             },
             "line": {
              "color": "white"
             }
            },
            "type": "table"
           }
          ]
         },
         "layout": {
          "annotationdefaults": {
           "arrowcolor": "#2a3f5f",
           "arrowhead": 0,
           "arrowwidth": 1
          },
          "autotypenumbers": "strict",
          "coloraxis": {
           "colorbar": {
            "outlinewidth": 0,
            "ticks": ""
           }
          },
          "colorscale": {
           "diverging": [
            [
             0,
             "#8e0152"
            ],
            [
             0.1,
             "#c51b7d"
            ],
            [
             0.2,
             "#de77ae"
            ],
            [
             0.3,
             "#f1b6da"
            ],
            [
             0.4,
             "#fde0ef"
            ],
            [
             0.5,
             "#f7f7f7"
            ],
            [
             0.6,
             "#e6f5d0"
            ],
            [
             0.7,
             "#b8e186"
            ],
            [
             0.8,
             "#7fbc41"
            ],
            [
             0.9,
             "#4d9221"
            ],
            [
             1,
             "#276419"
            ]
           ],
           "sequential": [
            [
             0.0,
             "#0d0887"
            ],
            [
             0.1111111111111111,
             "#46039f"
            ],
            [
             0.2222222222222222,
             "#7201a8"
            ],
            [
             0.3333333333333333,
             "#9c179e"
            ],
            [
             0.4444444444444444,
             "#bd3786"
            ],
            [
             0.5555555555555556,
             "#d8576b"
            ],
            [
             0.6666666666666666,
             "#ed7953"
            ],
            [
             0.7777777777777778,
             "#fb9f3a"
            ],
            [
             0.8888888888888888,
             "#fdca26"
            ],
            [
             1.0,
             "#f0f921"
            ]
           ],
           "sequentialminus": [
            [
             0.0,
             "#0d0887"
            ],
            [
             0.1111111111111111,
             "#46039f"
            ],
            [
             0.2222222222222222,
             "#7201a8"
            ],
            [
             0.3333333333333333,
             "#9c179e"
            ],
            [
             0.4444444444444444,
             "#bd3786"
            ],
            [
             0.5555555555555556,
             "#d8576b"
            ],
            [
             0.6666666666666666,
             "#ed7953"
            ],
            [
             0.7777777777777778,
             "#fb9f3a"
            ],
            [
             0.8888888888888888,
             "#fdca26"
            ],
            [
             1.0,
             "#f0f921"
            ]
           ]
          },
          "colorway": [
           "#636efa",
           "#EF553B",
           "#00cc96",
           "#ab63fa",
           "#FFA15A",
           "#19d3f3",
           "#FF6692",
           "#B6E880",
           "#FF97FF",
           "#FECB52"
          ],
          "font": {
           "color": "#2a3f5f"
          },
          "geo": {
           "bgcolor": "white",
           "lakecolor": "white",
           "landcolor": "#E5ECF6",
           "showlakes": true,
           "showland": true,
           "subunitcolor": "white"
          },
          "hoverlabel": {
           "align": "left"
          },
          "hovermode": "closest",
          "mapbox": {
           "style": "light"
          },
          "paper_bgcolor": "white",
          "plot_bgcolor": "#E5ECF6",
          "polar": {
           "angularaxis": {
            "gridcolor": "white",
            "linecolor": "white",
            "ticks": ""
           },
           "bgcolor": "#E5ECF6",
           "radialaxis": {
            "gridcolor": "white",
            "linecolor": "white",
            "ticks": ""
           }
          },
          "scene": {
           "xaxis": {
            "backgroundcolor": "#E5ECF6",
            "gridcolor": "white",
            "gridwidth": 2,
            "linecolor": "white",
            "showbackground": true,
            "ticks": "",
            "zerolinecolor": "white"
           },
           "yaxis": {
            "backgroundcolor": "#E5ECF6",
            "gridcolor": "white",
            "gridwidth": 2,
            "linecolor": "white",
            "showbackground": true,
            "ticks": "",
            "zerolinecolor": "white"
           },
           "zaxis": {
            "backgroundcolor": "#E5ECF6",
            "gridcolor": "white",
            "gridwidth": 2,
            "linecolor": "white",
            "showbackground": true,
            "ticks": "",
            "zerolinecolor": "white"
           }
          },
          "shapedefaults": {
           "line": {
            "color": "#2a3f5f"
           }
          },
          "ternary": {
           "aaxis": {
            "gridcolor": "white",
            "linecolor": "white",
            "ticks": ""
           },
           "baxis": {
            "gridcolor": "white",
            "linecolor": "white",
            "ticks": ""
           },
           "bgcolor": "#E5ECF6",
           "caxis": {
            "gridcolor": "white",
            "linecolor": "white",
            "ticks": ""
           }
          },
          "title": {
           "x": 0.05
          },
          "xaxis": {
           "automargin": true,
           "gridcolor": "white",
           "linecolor": "white",
           "ticks": "",
           "title": {
            "standoff": 15
           },
           "zerolinecolor": "white",
           "zerolinewidth": 2
          },
          "yaxis": {
           "automargin": true,
           "gridcolor": "white",
           "linecolor": "white",
           "ticks": "",
           "title": {
            "standoff": 15
           },
           "zerolinecolor": "white",
           "zerolinewidth": 2
          }
         }
        },
        "title": {
         "text": "UMAP by Time Point"
        },
        "xaxis": {
         "anchor": "y",
         "domain": [
          0.0,
          1.0
         ],
         "title": {
          "text": "umap0"
         }
        },
        "yaxis": {
         "anchor": "x",
         "domain": [
          0.0,
          1.0
         ],
         "title": {
          "text": "umap1"
         }
        }
       }
      }
     },
     "metadata": {},
     "output_type": "display_data"
    }
   ],
   "source": [
    "blue_green_short_colors = [\"#edf8fb\", \"#99d8c9\", \"#2ca25f\"]\n",
    "\n",
    "fig = px.scatter(\n",
    "    umapdf,\n",
    "    x=\"umap0\",\n",
    "    y=\"umap1\",\n",
    "    color=\"Metadata_time_point\",\n",
    "    title=\"UMAP by Time Point\",\n",
    "    color_discrete_sequence=blue_green_short_colors,\n",
    ")\n",
    "\n",
    "fig.show()\n",
    "fig.write_image(\n",
    "    static_figure_path / \"round1_time_point_umap.png\", width=2000, height=1200\n",
    ")\n",
    "fig.write_html(\n",
    "    int_figure_path / \"round1_time_point_umap.html\",\n",
    "    full_html=True,\n",
    "    include_plotlyjs=\"embed\",\n",
    ")"
   ]
  },
  {
   "cell_type": "markdown",
   "metadata": {
    "jukit_cell_id": "VjOBxwWwuA"
   },
   "source": [
    "# Treemap Cell Count Figures"
   ]
  },
  {
   "cell_type": "code",
   "execution_count": 20,
   "metadata": {
    "execution": {
     "iopub.execute_input": "2025-07-03T22:23:23.471946Z",
     "iopub.status.busy": "2025-07-03T22:23:23.471710Z",
     "iopub.status.idle": "2025-07-03T22:23:25.335688Z",
     "shell.execute_reply": "2025-07-03T22:23:25.335227Z"
    },
    "jukit_cell_id": "F6Ya6sNQvW"
   },
   "outputs": [
    {
     "data": {
      "application/vnd.plotly.v1+json": {
       "config": {
        "plotlyServerURL": "https://plot.ly"
       },
       "data": [
        {
         "branchvalues": "total",
         "domain": {
          "x": [
           0.0,
           1.0
          ],
          "y": [
           0.0,
           1.0
          ]
         },
         "hovertemplate": "labels=%{label}<br>count=%{value}<br>parent=%{parent}<br>id=%{id}<extra></extra>",
         "ids": [
          "U2-OS/12000/72",
          "U2-OS/8000/72",
          "NB-1/12000/72",
          "U2-OS/12000/48",
          "PA1/4000/48",
          "KNS-42/8000/72",
          "PA1/2000/72",
          "SK-N-MC/8000/48",
          "CHP212/12000/72",
          "NB-1/12000/48",
          "SJSA-1/12000/48",
          "PA1/8000/24",
          "SK-N-AS/12000/24",
          "U2-OS/4000/72",
          "PA1/1000/72",
          "KNS-42/8000/48",
          "SJSA-1/8000/72",
          "SJSA-1/8000/48",
          "PA1/12000/24",
          "SJSA-1/4000/72",
          "CHP212/12000/48",
          "NB-1/8000/72",
          "G402/12000/48",
          "SJSA-1/12000/24",
          "CHP212/8000/72",
          "G402/8000/72",
          "SK-N-MC/4000/72",
          "PA1/2000/48",
          "SJSA-1/12000/72",
          "KNS-42/12000/72",
          "SK-N-AS/8000/24",
          "SK-N-AS/4000/72",
          "NB-1/12000/24",
          "KNS-42/8000/24",
          "IMR32/4000/72",
          "SK-N-MC/12000/24",
          "U2-OS/8000/48",
          "ONS-76/2000/72",
          "PA1/4000/72",
          "SJSA-1/2000/72",
          "SJSA-1/8000/24",
          "CHP212/8000/48",
          "ONS-76/8000/48",
          "NB-1/8000/48",
          "SJSA-1/4000/48",
          "ONS-76/4000/72",
          "CHP212/12000/24",
          "Saos-2/12000/72",
          "G402/8000/48",
          "G402/4000/72",
          "DAOY/12000/72",
          "ONS-76/12000/24",
          "U2-OS/12000/24",
          "G401/12000/48",
          "KNS-42/12000/48",
          "PA1/4000/24",
          "ONS-76/12000/72",
          "ONS-76/8000/72",
          "IMR32/2000/72",
          "G402/12000/24",
          "ONS-76/12000/48",
          "DAOY/8000/72",
          "SK-N-AS/12000/72",
          "KNS-42/12000/24",
          "IMR32/8000/48",
          "U2-OS/2000/72",
          "A673/8000/72",
          "IMR32/12000/48",
          "DAOY/4000/72",
          "ONS-76/4000/48",
          "NB-1/4000/72",
          "U2-OS/4000/48",
          "SK-N-MC/12000/48",
          "SK-N-AS/8000/72",
          "CHP212/4000/72",
          "IMR32/8000/72",
          "Saos-2/12000/48",
          "Saos-2/8000/72",
          "IMR32/12000/72",
          "G401/12000/72",
          "ONS-76/8000/24",
          "CHP212/8000/24",
          "NB-1/8000/24",
          "SK-N-AS/2000/72",
          "PA1/1000/48",
          "IMR32/4000/48",
          "SK-N-MC/4000/48",
          "SK-N-MC/8000/24",
          "SK-N-AS/4000/48",
          "G402/2000/72",
          "G401/4000/72",
          "KP-N-YN/12000/24",
          "Saos-2/8000/48",
          "G402/4000/48",
          "G401/8000/72",
          "SJSA-1/4000/24",
          "SH-SY5Y/12000/48",
          "U2-OS/8000/24",
          "DAOY/2000/72",
          "ONS-76/1000/72",
          "G401/12000/24",
          "A673/4000/72",
          "A673/12000/48",
          "SJSA-1/1000/72",
          "NB-1/2000/72",
          "SJSA-1/2000/48",
          "SK-N-MC/2000/72",
          "IMR32/1000/72",
          "DAOY/12000/48",
          "KP-N-YN/12000/48",
          "NB-1/4000/48",
          "SH-SY5Y/12000/72",
          "U2-OS/1000/72",
          "G402/12000/72",
          "SH-SY5Y/8000/48",
          "DAOY/8000/48",
          "Saos-2/12000/24",
          "G402/8000/24",
          "KP-N-YN/12000/72",
          "KP-N-YN/8000/24",
          "CHP212/4000/48",
          "Saos-2/4000/72",
          "G292/12000/72",
          "KP-N-YN/8000/48",
          "SH-SY5Y/4000/72",
          "G292/12000/48",
          "DAOY/4000/48",
          "U2-OS/2000/48",
          "SH-SY5Y/8000/72",
          "KNS-42/4000/72",
          "G401/8000/48",
          "ONS-76/2000/48",
          "ONS-76/4000/24",
          "IMR32/2000/48",
          "Saos-2/8000/24",
          "PA1/2000/24",
          "A673/12000/72",
          "SK-N-MC/8000/72",
          "DAOY/1000/72",
          "IMR32/12000/24",
          "CHP212/2000/72",
          "U2-OS/4000/24",
          "SH-SY5Y/4000/48",
          "KP-N-YN/8000/72",
          "NB-1/4000/24",
          "SH-SY5Y/12000/24",
          "IMR32/8000/24",
          "SH-SY5Y/2000/72",
          "NB-1/2000/48",
          "SK-N-AS/8000/48",
          "SK-N-MC/4000/24",
          "A673/8000/48",
          "G402/4000/24",
          "SK-N-AS/2000/48",
          "SJSA-1/2000/24",
          "SJSA-1/1000/48",
          "DAOY/2000/48",
          "IMR32/4000/24",
          "PA1/8000/48",
          "NB-1/1000/72",
          "SK-N-AS/4000/24",
          "SK-N-AS/1000/72",
          "SH-SY5Y/8000/24",
          "G401/4000/48",
          "G402/2000/48",
          "G401/8000/24",
          "SK-N-MC/2000/48",
          "KP-N-YN/4000/72",
          "CHP212/2000/48",
          "KNS-42/4000/48",
          "U2-OS/1000/48",
          "CHP212/4000/24",
          "SK-N-AS/12000/48",
          "G402/1000/72",
          "KP-N-YN/4000/24",
          "NB-1/2000/24",
          "Saos-2/4000/48",
          "IMR32/1000/48",
          "Saos-2/2000/72",
          "U2-OS/2000/24",
          "G292/8000/72",
          "KP-N-YN/4000/48",
          "G401/2000/72",
          "ONS-76/1000/48",
          "KNS-42/2000/72",
          "G292/12000/24",
          "SH-SY5Y/2000/48",
          "CHP212/1000/72",
          "A673/12000/24",
          "A673/4000/48",
          "A673/2000/72",
          "PA1/1000/24",
          "KNS-42/4000/24",
          "DAOY/1000/48",
          "NB-1/1000/48",
          "DAOY/8000/24",
          "DAOY/12000/24",
          "SK-N-MC/2000/24",
          "KP-N-YN/2000/72",
          "A673/8000/24",
          "SK-N-MC/1000/72",
          "SH-SY5Y/4000/24",
          "SK-N-AS/2000/24",
          "Saos-2/2000/48",
          "ONS-76/2000/24",
          "CHP212/2000/24",
          "G401/1000/72",
          "G292/4000/72",
          "DAOY/4000/24",
          "G402/2000/24",
          "IMR32/2000/24",
          "SJSA-1/1000/24",
          "G401/2000/48",
          "SH-SY5Y/1000/48",
          "KP-N-YN/2000/24",
          "KNS-42/2000/48",
          "Saos-2/1000/72",
          "KP-N-YN/2000/48",
          "A673/4000/24",
          "SK-N-AS/1000/48",
          "G292/8000/48",
          "SK-N-MC/12000/72",
          "Saos-2/4000/24",
          "CHP212/1000/48",
          "U2-OS/1000/24",
          "SK-N-MC/1000/48",
          "DAOY/2000/24",
          "NB-1/1000/24",
          "KNS-42/1000/72",
          "G402/1000/48",
          "Saos-2/1000/48",
          "Saos-2/2000/24",
          "G401/4000/24",
          "SK-N-MC/1000/24",
          "A673/2000/48",
          "IMR32/1000/24",
          "SH-SY5Y/2000/24",
          "G401/2000/24",
          "KNS-42/2000/24",
          "SH-SY5Y/1000/72",
          "A673/2000/24",
          "G292/2000/72",
          "A673/1000/72",
          "G401/1000/48",
          "SK-N-AS/1000/24",
          "G402/1000/24",
          "KNS-42/1000/48",
          "CHP212/1000/24",
          "KP-N-YN/1000/48",
          "G292/4000/48",
          "KP-N-YN/1000/72",
          "DAOY/1000/24",
          "KP-N-YN/1000/24",
          "Saos-2/1000/24",
          "A673/1000/24",
          "KNS-42/1000/24",
          "G292/1000/72",
          "G292/8000/24",
          "G401/1000/24",
          "G292/4000/24",
          "G292/2000/24",
          "SH-SY5Y/1000/24",
          "ONS-76/1000/24",
          "G292/1000/48",
          "G292/1000/24",
          "A673/1000/48",
          "G292/2000/48",
          "U2-OS/12000",
          "U2-OS/8000",
          "NB-1/12000",
          "PA1/4000",
          "KNS-42/8000",
          "PA1/2000",
          "SK-N-MC/8000",
          "CHP212/12000",
          "SJSA-1/12000",
          "PA1/8000",
          "SK-N-AS/12000",
          "U2-OS/4000",
          "PA1/1000",
          "SJSA-1/8000",
          "PA1/12000",
          "SJSA-1/4000",
          "NB-1/8000",
          "G402/12000",
          "CHP212/8000",
          "G402/8000",
          "SK-N-MC/4000",
          "KNS-42/12000",
          "SK-N-AS/8000",
          "SK-N-AS/4000",
          "IMR32/4000",
          "SK-N-MC/12000",
          "ONS-76/2000",
          "SJSA-1/2000",
          "ONS-76/8000",
          "ONS-76/4000",
          "Saos-2/12000",
          "G402/4000",
          "DAOY/12000",
          "ONS-76/12000",
          "G401/12000",
          "IMR32/2000",
          "DAOY/8000",
          "IMR32/8000",
          "U2-OS/2000",
          "A673/8000",
          "IMR32/12000",
          "DAOY/4000",
          "NB-1/4000",
          "CHP212/4000",
          "Saos-2/8000",
          "SK-N-AS/2000",
          "G402/2000",
          "G401/4000",
          "KP-N-YN/12000",
          "G401/8000",
          "SH-SY5Y/12000",
          "DAOY/2000",
          "ONS-76/1000",
          "A673/4000",
          "A673/12000",
          "SJSA-1/1000",
          "NB-1/2000",
          "SK-N-MC/2000",
          "IMR32/1000",
          "U2-OS/1000",
          "SH-SY5Y/8000",
          "KP-N-YN/8000",
          "Saos-2/4000",
          "G292/12000",
          "SH-SY5Y/4000",
          "KNS-42/4000",
          "DAOY/1000",
          "CHP212/2000",
          "SH-SY5Y/2000",
          "NB-1/1000",
          "SK-N-AS/1000",
          "KP-N-YN/4000",
          "G402/1000",
          "Saos-2/2000",
          "G292/8000",
          "G401/2000",
          "KNS-42/2000",
          "CHP212/1000",
          "A673/2000",
          "KP-N-YN/2000",
          "SK-N-MC/1000",
          "G401/1000",
          "G292/4000",
          "SH-SY5Y/1000",
          "Saos-2/1000",
          "KNS-42/1000",
          "G292/2000",
          "A673/1000",
          "KP-N-YN/1000",
          "G292/1000",
          "U2-OS",
          "NB-1",
          "PA1",
          "KNS-42",
          "SK-N-MC",
          "CHP212",
          "SJSA-1",
          "SK-N-AS",
          "G402",
          "IMR32",
          "ONS-76",
          "Saos-2",
          "DAOY",
          "G401",
          "A673",
          "KP-N-YN",
          "SH-SY5Y",
          "G292"
         ],
         "labels": [
          "72",
          "72",
          "72",
          "48",
          "48",
          "72",
          "72",
          "48",
          "72",
          "48",
          "48",
          "24",
          "24",
          "72",
          "72",
          "48",
          "72",
          "48",
          "24",
          "72",
          "48",
          "72",
          "48",
          "24",
          "72",
          "72",
          "72",
          "48",
          "72",
          "72",
          "24",
          "72",
          "24",
          "24",
          "72",
          "24",
          "48",
          "72",
          "72",
          "72",
          "24",
          "48",
          "48",
          "48",
          "48",
          "72",
          "24",
          "72",
          "48",
          "72",
          "72",
          "24",
          "24",
          "48",
          "48",
          "24",
          "72",
          "72",
          "72",
          "24",
          "48",
          "72",
          "72",
          "24",
          "48",
          "72",
          "72",
          "48",
          "72",
          "48",
          "72",
          "48",
          "48",
          "72",
          "72",
          "72",
          "48",
          "72",
          "72",
          "72",
          "24",
          "24",
          "24",
          "72",
          "48",
          "48",
          "48",
          "24",
          "48",
          "72",
          "72",
          "24",
          "48",
          "48",
          "72",
          "24",
          "48",
          "24",
          "72",
          "72",
          "24",
          "72",
          "48",
          "72",
          "72",
          "48",
          "72",
          "72",
          "48",
          "48",
          "48",
          "72",
          "72",
          "72",
          "48",
          "48",
          "24",
          "24",
          "72",
          "24",
          "48",
          "72",
          "72",
          "48",
          "72",
          "48",
          "48",
          "48",
          "72",
          "72",
          "48",
          "48",
          "24",
          "48",
          "24",
          "24",
          "72",
          "72",
          "72",
          "24",
          "72",
          "24",
          "48",
          "72",
          "24",
          "24",
          "24",
          "72",
          "48",
          "48",
          "24",
          "48",
          "24",
          "48",
          "24",
          "48",
          "48",
          "24",
          "48",
          "72",
          "24",
          "72",
          "24",
          "48",
          "48",
          "24",
          "48",
          "72",
          "48",
          "48",
          "48",
          "24",
          "48",
          "72",
          "24",
          "24",
          "48",
          "48",
          "72",
          "24",
          "72",
          "48",
          "72",
          "48",
          "72",
          "24",
          "48",
          "72",
          "24",
          "48",
          "72",
          "24",
          "24",
          "48",
          "48",
          "24",
          "24",
          "24",
          "72",
          "24",
          "72",
          "24",
          "24",
          "48",
          "24",
          "24",
          "72",
          "72",
          "24",
          "24",
          "24",
          "24",
          "48",
          "48",
          "24",
          "48",
          "72",
          "48",
          "24",
          "48",
          "48",
          "72",
          "24",
          "48",
          "24",
          "48",
          "24",
          "24",
          "72",
          "48",
          "48",
          "24",
          "24",
          "24",
          "48",
          "24",
          "24",
          "24",
          "24",
          "72",
          "24",
          "72",
          "72",
          "48",
          "24",
          "24",
          "48",
          "24",
          "48",
          "48",
          "72",
          "24",
          "24",
          "24",
          "24",
          "24",
          "72",
          "24",
          "24",
          "24",
          "24",
          "24",
          "24",
          "48",
          "24",
          "48",
          "48",
          "12000",
          "8000",
          "12000",
          "4000",
          "8000",
          "2000",
          "8000",
          "12000",
          "12000",
          "8000",
          "12000",
          "4000",
          "1000",
          "8000",
          "12000",
          "4000",
          "8000",
          "12000",
          "8000",
          "8000",
          "4000",
          "12000",
          "8000",
          "4000",
          "4000",
          "12000",
          "2000",
          "2000",
          "8000",
          "4000",
          "12000",
          "4000",
          "12000",
          "12000",
          "12000",
          "2000",
          "8000",
          "8000",
          "2000",
          "8000",
          "12000",
          "4000",
          "4000",
          "4000",
          "8000",
          "2000",
          "2000",
          "4000",
          "12000",
          "8000",
          "12000",
          "2000",
          "1000",
          "4000",
          "12000",
          "1000",
          "2000",
          "2000",
          "1000",
          "1000",
          "8000",
          "8000",
          "4000",
          "12000",
          "4000",
          "4000",
          "1000",
          "2000",
          "2000",
          "1000",
          "1000",
          "4000",
          "1000",
          "2000",
          "8000",
          "2000",
          "2000",
          "1000",
          "2000",
          "2000",
          "1000",
          "1000",
          "4000",
          "1000",
          "1000",
          "1000",
          "2000",
          "1000",
          "1000",
          "1000",
          "U2-OS",
          "NB-1",
          "PA1",
          "KNS-42",
          "SK-N-MC",
          "CHP212",
          "SJSA-1",
          "SK-N-AS",
          "G402",
          "IMR32",
          "ONS-76",
          "Saos-2",
          "DAOY",
          "G401",
          "A673",
          "KP-N-YN",
          "SH-SY5Y",
          "G292"
         ],
         "name": "",
         "parents": [
          "U2-OS/12000",
          "U2-OS/8000",
          "NB-1/12000",
          "U2-OS/12000",
          "PA1/4000",
          "KNS-42/8000",
          "PA1/2000",
          "SK-N-MC/8000",
          "CHP212/12000",
          "NB-1/12000",
          "SJSA-1/12000",
          "PA1/8000",
          "SK-N-AS/12000",
          "U2-OS/4000",
          "PA1/1000",
          "KNS-42/8000",
          "SJSA-1/8000",
          "SJSA-1/8000",
          "PA1/12000",
          "SJSA-1/4000",
          "CHP212/12000",
          "NB-1/8000",
          "G402/12000",
          "SJSA-1/12000",
          "CHP212/8000",
          "G402/8000",
          "SK-N-MC/4000",
          "PA1/2000",
          "SJSA-1/12000",
          "KNS-42/12000",
          "SK-N-AS/8000",
          "SK-N-AS/4000",
          "NB-1/12000",
          "KNS-42/8000",
          "IMR32/4000",
          "SK-N-MC/12000",
          "U2-OS/8000",
          "ONS-76/2000",
          "PA1/4000",
          "SJSA-1/2000",
          "SJSA-1/8000",
          "CHP212/8000",
          "ONS-76/8000",
          "NB-1/8000",
          "SJSA-1/4000",
          "ONS-76/4000",
          "CHP212/12000",
          "Saos-2/12000",
          "G402/8000",
          "G402/4000",
          "DAOY/12000",
          "ONS-76/12000",
          "U2-OS/12000",
          "G401/12000",
          "KNS-42/12000",
          "PA1/4000",
          "ONS-76/12000",
          "ONS-76/8000",
          "IMR32/2000",
          "G402/12000",
          "ONS-76/12000",
          "DAOY/8000",
          "SK-N-AS/12000",
          "KNS-42/12000",
          "IMR32/8000",
          "U2-OS/2000",
          "A673/8000",
          "IMR32/12000",
          "DAOY/4000",
          "ONS-76/4000",
          "NB-1/4000",
          "U2-OS/4000",
          "SK-N-MC/12000",
          "SK-N-AS/8000",
          "CHP212/4000",
          "IMR32/8000",
          "Saos-2/12000",
          "Saos-2/8000",
          "IMR32/12000",
          "G401/12000",
          "ONS-76/8000",
          "CHP212/8000",
          "NB-1/8000",
          "SK-N-AS/2000",
          "PA1/1000",
          "IMR32/4000",
          "SK-N-MC/4000",
          "SK-N-MC/8000",
          "SK-N-AS/4000",
          "G402/2000",
          "G401/4000",
          "KP-N-YN/12000",
          "Saos-2/8000",
          "G402/4000",
          "G401/8000",
          "SJSA-1/4000",
          "SH-SY5Y/12000",
          "U2-OS/8000",
          "DAOY/2000",
          "ONS-76/1000",
          "G401/12000",
          "A673/4000",
          "A673/12000",
          "SJSA-1/1000",
          "NB-1/2000",
          "SJSA-1/2000",
          "SK-N-MC/2000",
          "IMR32/1000",
          "DAOY/12000",
          "KP-N-YN/12000",
          "NB-1/4000",
          "SH-SY5Y/12000",
          "U2-OS/1000",
          "G402/12000",
          "SH-SY5Y/8000",
          "DAOY/8000",
          "Saos-2/12000",
          "G402/8000",
          "KP-N-YN/12000",
          "KP-N-YN/8000",
          "CHP212/4000",
          "Saos-2/4000",
          "G292/12000",
          "KP-N-YN/8000",
          "SH-SY5Y/4000",
          "G292/12000",
          "DAOY/4000",
          "U2-OS/2000",
          "SH-SY5Y/8000",
          "KNS-42/4000",
          "G401/8000",
          "ONS-76/2000",
          "ONS-76/4000",
          "IMR32/2000",
          "Saos-2/8000",
          "PA1/2000",
          "A673/12000",
          "SK-N-MC/8000",
          "DAOY/1000",
          "IMR32/12000",
          "CHP212/2000",
          "U2-OS/4000",
          "SH-SY5Y/4000",
          "KP-N-YN/8000",
          "NB-1/4000",
          "SH-SY5Y/12000",
          "IMR32/8000",
          "SH-SY5Y/2000",
          "NB-1/2000",
          "SK-N-AS/8000",
          "SK-N-MC/4000",
          "A673/8000",
          "G402/4000",
          "SK-N-AS/2000",
          "SJSA-1/2000",
          "SJSA-1/1000",
          "DAOY/2000",
          "IMR32/4000",
          "PA1/8000",
          "NB-1/1000",
          "SK-N-AS/4000",
          "SK-N-AS/1000",
          "SH-SY5Y/8000",
          "G401/4000",
          "G402/2000",
          "G401/8000",
          "SK-N-MC/2000",
          "KP-N-YN/4000",
          "CHP212/2000",
          "KNS-42/4000",
          "U2-OS/1000",
          "CHP212/4000",
          "SK-N-AS/12000",
          "G402/1000",
          "KP-N-YN/4000",
          "NB-1/2000",
          "Saos-2/4000",
          "IMR32/1000",
          "Saos-2/2000",
          "U2-OS/2000",
          "G292/8000",
          "KP-N-YN/4000",
          "G401/2000",
          "ONS-76/1000",
          "KNS-42/2000",
          "G292/12000",
          "SH-SY5Y/2000",
          "CHP212/1000",
          "A673/12000",
          "A673/4000",
          "A673/2000",
          "PA1/1000",
          "KNS-42/4000",
          "DAOY/1000",
          "NB-1/1000",
          "DAOY/8000",
          "DAOY/12000",
          "SK-N-MC/2000",
          "KP-N-YN/2000",
          "A673/8000",
          "SK-N-MC/1000",
          "SH-SY5Y/4000",
          "SK-N-AS/2000",
          "Saos-2/2000",
          "ONS-76/2000",
          "CHP212/2000",
          "G401/1000",
          "G292/4000",
          "DAOY/4000",
          "G402/2000",
          "IMR32/2000",
          "SJSA-1/1000",
          "G401/2000",
          "SH-SY5Y/1000",
          "KP-N-YN/2000",
          "KNS-42/2000",
          "Saos-2/1000",
          "KP-N-YN/2000",
          "A673/4000",
          "SK-N-AS/1000",
          "G292/8000",
          "SK-N-MC/12000",
          "Saos-2/4000",
          "CHP212/1000",
          "U2-OS/1000",
          "SK-N-MC/1000",
          "DAOY/2000",
          "NB-1/1000",
          "KNS-42/1000",
          "G402/1000",
          "Saos-2/1000",
          "Saos-2/2000",
          "G401/4000",
          "SK-N-MC/1000",
          "A673/2000",
          "IMR32/1000",
          "SH-SY5Y/2000",
          "G401/2000",
          "KNS-42/2000",
          "SH-SY5Y/1000",
          "A673/2000",
          "G292/2000",
          "A673/1000",
          "G401/1000",
          "SK-N-AS/1000",
          "G402/1000",
          "KNS-42/1000",
          "CHP212/1000",
          "KP-N-YN/1000",
          "G292/4000",
          "KP-N-YN/1000",
          "DAOY/1000",
          "KP-N-YN/1000",
          "Saos-2/1000",
          "A673/1000",
          "KNS-42/1000",
          "G292/1000",
          "G292/8000",
          "G401/1000",
          "G292/4000",
          "G292/2000",
          "SH-SY5Y/1000",
          "ONS-76/1000",
          "G292/1000",
          "G292/1000",
          "A673/1000",
          "G292/2000",
          "U2-OS",
          "U2-OS",
          "NB-1",
          "PA1",
          "KNS-42",
          "PA1",
          "SK-N-MC",
          "CHP212",
          "SJSA-1",
          "PA1",
          "SK-N-AS",
          "U2-OS",
          "PA1",
          "SJSA-1",
          "PA1",
          "SJSA-1",
          "NB-1",
          "G402",
          "CHP212",
          "G402",
          "SK-N-MC",
          "KNS-42",
          "SK-N-AS",
          "SK-N-AS",
          "IMR32",
          "SK-N-MC",
          "ONS-76",
          "SJSA-1",
          "ONS-76",
          "ONS-76",
          "Saos-2",
          "G402",
          "DAOY",
          "ONS-76",
          "G401",
          "IMR32",
          "DAOY",
          "IMR32",
          "U2-OS",
          "A673",
          "IMR32",
          "DAOY",
          "NB-1",
          "CHP212",
          "Saos-2",
          "SK-N-AS",
          "G402",
          "G401",
          "KP-N-YN",
          "G401",
          "SH-SY5Y",
          "DAOY",
          "ONS-76",
          "A673",
          "A673",
          "SJSA-1",
          "NB-1",
          "SK-N-MC",
          "IMR32",
          "U2-OS",
          "SH-SY5Y",
          "KP-N-YN",
          "Saos-2",
          "G292",
          "SH-SY5Y",
          "KNS-42",
          "DAOY",
          "CHP212",
          "SH-SY5Y",
          "NB-1",
          "SK-N-AS",
          "KP-N-YN",
          "G402",
          "Saos-2",
          "G292",
          "G401",
          "KNS-42",
          "CHP212",
          "A673",
          "KP-N-YN",
          "SK-N-MC",
          "G401",
          "G292",
          "SH-SY5Y",
          "Saos-2",
          "KNS-42",
          "G292",
          "A673",
          "KP-N-YN",
          "G292",
          "",
          "",
          "",
          "",
          "",
          "",
          "",
          "",
          "",
          "",
          "",
          "",
          "",
          "",
          "",
          "",
          "",
          ""
         ],
         "type": "treemap",
         "values": {
          "bdata": "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",
          "dtype": "f8"
         }
        }
       ],
       "layout": {
        "legend": {
         "tracegroupgap": 0
        },
        "template": {
         "data": {
          "bar": [
           {
            "error_x": {
             "color": "#2a3f5f"
            },
            "error_y": {
             "color": "#2a3f5f"
            },
            "marker": {
             "line": {
              "color": "#E5ECF6",
              "width": 0.5
             },
             "pattern": {
              "fillmode": "overlay",
              "size": 10,
              "solidity": 0.2
             }
            },
            "type": "bar"
           }
          ],
          "barpolar": [
           {
            "marker": {
             "line": {
              "color": "#E5ECF6",
              "width": 0.5
             },
             "pattern": {
              "fillmode": "overlay",
              "size": 10,
              "solidity": 0.2
             }
            },
            "type": "barpolar"
           }
          ],
          "carpet": [
           {
            "aaxis": {
             "endlinecolor": "#2a3f5f",
             "gridcolor": "white",
             "linecolor": "white",
             "minorgridcolor": "white",
             "startlinecolor": "#2a3f5f"
            },
            "baxis": {
             "endlinecolor": "#2a3f5f",
             "gridcolor": "white",
             "linecolor": "white",
             "minorgridcolor": "white",
             "startlinecolor": "#2a3f5f"
            },
            "type": "carpet"
           }
          ],
          "choropleth": [
           {
            "colorbar": {
             "outlinewidth": 0,
             "ticks": ""
            },
            "type": "choropleth"
           }
          ],
          "contour": [
           {
            "colorbar": {
             "outlinewidth": 0,
             "ticks": ""
            },
            "colorscale": [
             [
              0.0,
              "#0d0887"
             ],
             [
              0.1111111111111111,
              "#46039f"
             ],
             [
              0.2222222222222222,
              "#7201a8"
             ],
             [
              0.3333333333333333,
              "#9c179e"
             ],
             [
              0.4444444444444444,
              "#bd3786"
             ],
             [
              0.5555555555555556,
              "#d8576b"
             ],
             [
              0.6666666666666666,
              "#ed7953"
             ],
             [
              0.7777777777777778,
              "#fb9f3a"
             ],
             [
              0.8888888888888888,
              "#fdca26"
             ],
             [
              1.0,
              "#f0f921"
             ]
            ],
            "type": "contour"
           }
          ],
          "contourcarpet": [
           {
            "colorbar": {
             "outlinewidth": 0,
             "ticks": ""
            },
            "type": "contourcarpet"
           }
          ],
          "heatmap": [
           {
            "colorbar": {
             "outlinewidth": 0,
             "ticks": ""
            },
            "colorscale": [
             [
              0.0,
              "#0d0887"
             ],
             [
              0.1111111111111111,
              "#46039f"
             ],
             [
              0.2222222222222222,
              "#7201a8"
             ],
             [
              0.3333333333333333,
              "#9c179e"
             ],
             [
              0.4444444444444444,
              "#bd3786"
             ],
             [
              0.5555555555555556,
              "#d8576b"
             ],
             [
              0.6666666666666666,
              "#ed7953"
             ],
             [
              0.7777777777777778,
              "#fb9f3a"
             ],
             [
              0.8888888888888888,
              "#fdca26"
             ],
             [
              1.0,
              "#f0f921"
             ]
            ],
            "type": "heatmap"
           }
          ],
          "histogram": [
           {
            "marker": {
             "pattern": {
              "fillmode": "overlay",
              "size": 10,
              "solidity": 0.2
             }
            },
            "type": "histogram"
           }
          ],
          "histogram2d": [
           {
            "colorbar": {
             "outlinewidth": 0,
             "ticks": ""
            },
            "colorscale": [
             [
              0.0,
              "#0d0887"
             ],
             [
              0.1111111111111111,
              "#46039f"
             ],
             [
              0.2222222222222222,
              "#7201a8"
             ],
             [
              0.3333333333333333,
              "#9c179e"
             ],
             [
              0.4444444444444444,
              "#bd3786"
             ],
             [
              0.5555555555555556,
              "#d8576b"
             ],
             [
              0.6666666666666666,
              "#ed7953"
             ],
             [
              0.7777777777777778,
              "#fb9f3a"
             ],
             [
              0.8888888888888888,
              "#fdca26"
             ],
             [
              1.0,
              "#f0f921"
             ]
            ],
            "type": "histogram2d"
           }
          ],
          "histogram2dcontour": [
           {
            "colorbar": {
             "outlinewidth": 0,
             "ticks": ""
            },
            "colorscale": [
             [
              0.0,
              "#0d0887"
             ],
             [
              0.1111111111111111,
              "#46039f"
             ],
             [
              0.2222222222222222,
              "#7201a8"
             ],
             [
              0.3333333333333333,
              "#9c179e"
             ],
             [
              0.4444444444444444,
              "#bd3786"
             ],
             [
              0.5555555555555556,
              "#d8576b"
             ],
             [
              0.6666666666666666,
              "#ed7953"
             ],
             [
              0.7777777777777778,
              "#fb9f3a"
             ],
             [
              0.8888888888888888,
              "#fdca26"
             ],
             [
              1.0,
              "#f0f921"
             ]
            ],
            "type": "histogram2dcontour"
           }
          ],
          "mesh3d": [
           {
            "colorbar": {
             "outlinewidth": 0,
             "ticks": ""
            },
            "type": "mesh3d"
           }
          ],
          "parcoords": [
           {
            "line": {
             "colorbar": {
              "outlinewidth": 0,
              "ticks": ""
             }
            },
            "type": "parcoords"
           }
          ],
          "pie": [
           {
            "automargin": true,
            "type": "pie"
           }
          ],
          "scatter": [
           {
            "fillpattern": {
             "fillmode": "overlay",
             "size": 10,
             "solidity": 0.2
            },
            "type": "scatter"
           }
          ],
          "scatter3d": [
           {
            "line": {
             "colorbar": {
              "outlinewidth": 0,
              "ticks": ""
             }
            },
            "marker": {
             "colorbar": {
              "outlinewidth": 0,
              "ticks": ""
             }
            },
            "type": "scatter3d"
           }
          ],
          "scattercarpet": [
           {
            "marker": {
             "colorbar": {
              "outlinewidth": 0,
              "ticks": ""
             }
            },
            "type": "scattercarpet"
           }
          ],
          "scattergeo": [
           {
            "marker": {
             "colorbar": {
              "outlinewidth": 0,
              "ticks": ""
             }
            },
            "type": "scattergeo"
           }
          ],
          "scattergl": [
           {
            "marker": {
             "colorbar": {
              "outlinewidth": 0,
              "ticks": ""
             }
            },
            "type": "scattergl"
           }
          ],
          "scattermap": [
           {
            "marker": {
             "colorbar": {
              "outlinewidth": 0,
              "ticks": ""
             }
            },
            "type": "scattermap"
           }
          ],
          "scattermapbox": [
           {
            "marker": {
             "colorbar": {
              "outlinewidth": 0,
              "ticks": ""
             }
            },
            "type": "scattermapbox"
           }
          ],
          "scatterpolar": [
           {
            "marker": {
             "colorbar": {
              "outlinewidth": 0,
              "ticks": ""
             }
            },
            "type": "scatterpolar"
           }
          ],
          "scatterpolargl": [
           {
            "marker": {
             "colorbar": {
              "outlinewidth": 0,
              "ticks": ""
             }
            },
            "type": "scatterpolargl"
           }
          ],
          "scatterternary": [
           {
            "marker": {
             "colorbar": {
              "outlinewidth": 0,
              "ticks": ""
             }
            },
            "type": "scatterternary"
           }
          ],
          "surface": [
           {
            "colorbar": {
             "outlinewidth": 0,
             "ticks": ""
            },
            "colorscale": [
             [
              0.0,
              "#0d0887"
             ],
             [
              0.1111111111111111,
              "#46039f"
             ],
             [
              0.2222222222222222,
              "#7201a8"
             ],
             [
              0.3333333333333333,
              "#9c179e"
             ],
             [
              0.4444444444444444,
              "#bd3786"
             ],
             [
              0.5555555555555556,
              "#d8576b"
             ],
             [
              0.6666666666666666,
              "#ed7953"
             ],
             [
              0.7777777777777778,
              "#fb9f3a"
             ],
             [
              0.8888888888888888,
              "#fdca26"
             ],
             [
              1.0,
              "#f0f921"
             ]
            ],
            "type": "surface"
           }
          ],
          "table": [
           {
            "cells": {
             "fill": {
              "color": "#EBF0F8"
             },
             "line": {
              "color": "white"
             }
            },
            "header": {
             "fill": {
              "color": "#C8D4E3"
             },
             "line": {
              "color": "white"
             }
            },
            "type": "table"
           }
          ]
         },
         "layout": {
          "annotationdefaults": {
           "arrowcolor": "#2a3f5f",
           "arrowhead": 0,
           "arrowwidth": 1
          },
          "autotypenumbers": "strict",
          "coloraxis": {
           "colorbar": {
            "outlinewidth": 0,
            "ticks": ""
           }
          },
          "colorscale": {
           "diverging": [
            [
             0,
             "#8e0152"
            ],
            [
             0.1,
             "#c51b7d"
            ],
            [
             0.2,
             "#de77ae"
            ],
            [
             0.3,
             "#f1b6da"
            ],
            [
             0.4,
             "#fde0ef"
            ],
            [
             0.5,
             "#f7f7f7"
            ],
            [
             0.6,
             "#e6f5d0"
            ],
            [
             0.7,
             "#b8e186"
            ],
            [
             0.8,
             "#7fbc41"
            ],
            [
             0.9,
             "#4d9221"
            ],
            [
             1,
             "#276419"
            ]
           ],
           "sequential": [
            [
             0.0,
             "#0d0887"
            ],
            [
             0.1111111111111111,
             "#46039f"
            ],
            [
             0.2222222222222222,
             "#7201a8"
            ],
            [
             0.3333333333333333,
             "#9c179e"
            ],
            [
             0.4444444444444444,
             "#bd3786"
            ],
            [
             0.5555555555555556,
             "#d8576b"
            ],
            [
             0.6666666666666666,
             "#ed7953"
            ],
            [
             0.7777777777777778,
             "#fb9f3a"
            ],
            [
             0.8888888888888888,
             "#fdca26"
            ],
            [
             1.0,
             "#f0f921"
            ]
           ],
           "sequentialminus": [
            [
             0.0,
             "#0d0887"
            ],
            [
             0.1111111111111111,
             "#46039f"
            ],
            [
             0.2222222222222222,
             "#7201a8"
            ],
            [
             0.3333333333333333,
             "#9c179e"
            ],
            [
             0.4444444444444444,
             "#bd3786"
            ],
            [
             0.5555555555555556,
             "#d8576b"
            ],
            [
             0.6666666666666666,
             "#ed7953"
            ],
            [
             0.7777777777777778,
             "#fb9f3a"
            ],
            [
             0.8888888888888888,
             "#fdca26"
            ],
            [
             1.0,
             "#f0f921"
            ]
           ]
          },
          "colorway": [
           "#636efa",
           "#EF553B",
           "#00cc96",
           "#ab63fa",
           "#FFA15A",
           "#19d3f3",
           "#FF6692",
           "#B6E880",
           "#FF97FF",
           "#FECB52"
          ],
          "font": {
           "color": "#2a3f5f"
          },
          "geo": {
           "bgcolor": "white",
           "lakecolor": "white",
           "landcolor": "#E5ECF6",
           "showlakes": true,
           "showland": true,
           "subunitcolor": "white"
          },
          "hoverlabel": {
           "align": "left"
          },
          "hovermode": "closest",
          "mapbox": {
           "style": "light"
          },
          "paper_bgcolor": "white",
          "plot_bgcolor": "#E5ECF6",
          "polar": {
           "angularaxis": {
            "gridcolor": "white",
            "linecolor": "white",
            "ticks": ""
           },
           "bgcolor": "#E5ECF6",
           "radialaxis": {
            "gridcolor": "white",
            "linecolor": "white",
            "ticks": ""
           }
          },
          "scene": {
           "xaxis": {
            "backgroundcolor": "#E5ECF6",
            "gridcolor": "white",
            "gridwidth": 2,
            "linecolor": "white",
            "showbackground": true,
            "ticks": "",
            "zerolinecolor": "white"
           },
           "yaxis": {
            "backgroundcolor": "#E5ECF6",
            "gridcolor": "white",
            "gridwidth": 2,
            "linecolor": "white",
            "showbackground": true,
            "ticks": "",
            "zerolinecolor": "white"
           },
           "zaxis": {
            "backgroundcolor": "#E5ECF6",
            "gridcolor": "white",
            "gridwidth": 2,
            "linecolor": "white",
            "showbackground": true,
            "ticks": "",
            "zerolinecolor": "white"
           }
          },
          "shapedefaults": {
           "line": {
            "color": "#2a3f5f"
           }
          },
          "ternary": {
           "aaxis": {
            "gridcolor": "white",
            "linecolor": "white",
            "ticks": ""
           },
           "baxis": {
            "gridcolor": "white",
            "linecolor": "white",
            "ticks": ""
           },
           "bgcolor": "#E5ECF6",
           "caxis": {
            "gridcolor": "white",
            "linecolor": "white",
            "ticks": ""
           }
          },
          "title": {
           "x": 0.05
          },
          "xaxis": {
           "automargin": true,
           "gridcolor": "white",
           "linecolor": "white",
           "ticks": "",
           "title": {
            "standoff": 15
           },
           "zerolinecolor": "white",
           "zerolinewidth": 2
          },
          "yaxis": {
           "automargin": true,
           "gridcolor": "white",
           "linecolor": "white",
           "ticks": "",
           "title": {
            "standoff": 15
           },
           "zerolinecolor": "white",
           "zerolinewidth": 2
          }
         }
        },
        "title": {
         "text": "Treemap of Cell Counts"
        }
       }
      }
     },
     "metadata": {},
     "output_type": "display_data"
    }
   ],
   "source": [
    "cellcountdf = (\n",
    "    round1df[[\"Metadata_cell_line\", \"Metadata_seeding_density\", \"Metadata_time_point\"]]\n",
    "    .value_counts()\n",
    "    .reset_index(name=\"count\")\n",
    ")\n",
    "\n",
    "fig = px.treemap(\n",
    "    cellcountdf,\n",
    "    path=[\"Metadata_cell_line\", \"Metadata_seeding_density\", \"Metadata_time_point\"],\n",
    "    values=\"count\",\n",
    "    title=\"Treemap of Cell Counts\",\n",
    ")\n",
    "\n",
    "fig.show()\n",
    "fig.write_image(static_figure_path / \"round1_cell_count_treemap.png\", width=2000, height=1200)\n",
    "fig.write_html(\n",
    "    int_figure_path / \"round1_cell_count_treemap.html\",\n",
    "    full_html=True,\n",
    "    include_plotlyjs=\"embed\",\n",
    ")"
   ]
  }
 ],
 "metadata": {
  "anaconda-cloud": {},
  "kernelspec": {
   "display_name": "python",
   "language": "python",
   "name": "python3"
  },
  "language_info": {
   "codemirror_mode": {
    "name": "ipython",
    "version": 3
   },
   "file_extension": ".py",
   "mimetype": "text/x-python",
   "name": "python",
   "nbconvert_exporter": "python",
   "pygments_lexer": "ipython3",
   "version": "3.11.0rc1"
  }
 },
 "nbformat": 4,
 "nbformat_minor": 4
}
