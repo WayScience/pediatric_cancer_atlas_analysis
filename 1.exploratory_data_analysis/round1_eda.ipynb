{
  "cells": [
    {
      "cell_type": "markdown",
      "metadata": {
        "jukit_cell_id": "lM8dYQPBT5"
      },
      "source": [
        "# Explore Round 1 Data Patterns\n",
        "An exploration of the round 1 data to understand prominent patterns."
      ]
    },
    {
      "cell_type": "code",
      "metadata": {
        "jukit_cell_id": "chKOlruhvo"
      },
      "source": [
        "import pathlib\n",
        "\n",
        "import kaleido\n",
        "import pandas as pd\n",
        "import plotly.express as px\n",
        "import plotly.io as pio\n",
        "from umap import UMAP"
      ],
      "outputs": [],
      "execution_count": null
    },
    {
      "cell_type": "markdown",
      "metadata": {
        "jukit_cell_id": "fodzHP9szp"
      },
      "source": [
        "## Find the root of the git repo on the host system"
      ]
    },
    {
      "cell_type": "code",
      "metadata": {
        "jukit_cell_id": "RPnfSxTAVa"
      },
      "source": [
        "# Get the current working directory\n",
        "cwd = pathlib.Path.cwd()\n",
        "\n",
        "if (cwd / \".git\").is_dir():\n",
        "    root_dir = cwd\n",
        "\n",
        "else:\n",
        "    root_dir = None\n",
        "    for parent in cwd.parents:\n",
        "        if (parent / \".git\").is_dir():\n",
        "            root_dir = parent\n",
        "            break\n",
        "\n",
        "# Check if a Git root directory was found\n",
        "if root_dir is None:\n",
        "    raise FileNotFoundError(\"No Git root directory found.\")"
      ],
      "outputs": [],
      "execution_count": null
    },
    {
      "cell_type": "markdown",
      "metadata": {
        "jukit_cell_id": "UzvLnM8utC"
      },
      "source": [
        "# Inputs"
      ]
    },
    {
      "cell_type": "code",
      "metadata": {
        "jukit_cell_id": "hploOEYYGN"
      },
      "source": [
        "pilot_path = root_dir / \"big_drive/alsf/ALSF_pilot_data\"\n",
        "\n",
        "round1_profiles_path = (\n",
        "    pilot_path / \"preprocessed_profiles_SN0313537/single_cell_profiles\"\n",
        ").resolve(strict=True)\n",
        "\n",
        "common_cols = None\n",
        "\n",
        "for pq_file in list(round1_profiles_path.rglob(\"*feature_selected.parquet\")):\n",
        "    cols = pd.read_parquet(pq_file).columns\n",
        "    if common_cols is None:\n",
        "        common_cols = set(cols)\n",
        "\n",
        "    else:\n",
        "        common_cols &= set(cols)\n",
        "\n",
        "round1df = pd.concat(\n",
        "    [\n",
        "        pd.read_parquet(pq_file, columns=common_cols)\n",
        "        for pq_file in round1_profiles_path.rglob(\"*feature_selected.parquet\")\n",
        "    ],\n",
        "    axis=0,\n",
        ")"
      ],
      "outputs": [],
      "execution_count": null
    },
    {
      "cell_type": "code",
      "metadata": {
        "jukit_cell_id": "aVI8vugmwG"
      },
      "source": [
        "round1_figure_path = pathlib.Path(\"round1_figures_path\")\n",
        "\n",
        "int_figure_path = round1_figure_path / \"interactive_figures\"\n",
        "int_figure_path.mkdir(parents=True, exist_ok=True)\n",
        "\n",
        "static_figure_path = round1_figure_path / \"static_figures\"\n",
        "static_figure_path.mkdir(parents=True, exist_ok=True)"
      ],
      "outputs": [],
      "execution_count": null
    },
    {
      "cell_type": "markdown",
      "metadata": {
        "jukit_cell_id": "LoSAqYPOTT"
      },
      "source": [
        "# High-Level Data Characteristics"
      ]
    },
    {
      "cell_type": "code",
      "metadata": {
        "jukit_cell_id": "sW5ZMw6kqN"
      },
      "source": [
        "print(round1df.shape)"
      ],
      "outputs": [],
      "execution_count": null
    },
    {
      "cell_type": "code",
      "metadata": {
        "jukit_cell_id": "QGVlS1LFBd"
      },
      "source": [
        "print(\"Are there any NaN entries?\")\n",
        "print(f\"Answer: {round1df.isna().any().any()}\")"
      ],
      "outputs": [],
      "execution_count": null
    },
    {
      "cell_type": "markdown",
      "metadata": {
        "jukit_cell_id": "BiLzGTCOop"
      },
      "source": [
        "## Metadata Exploration"
      ]
    },
    {
      "cell_type": "code",
      "metadata": {
        "jukit_cell_id": "bkvItDJtwz"
      },
      "source": [
        "round1df[\"Metadata_Plate\"].unique()"
      ],
      "outputs": [],
      "execution_count": null
    },
    {
      "cell_type": "code",
      "metadata": {
        "jukit_cell_id": "u1vbFm46Nk"
      },
      "source": [
        "round1df[\"Metadata_time_point\"].unique()"
      ],
      "outputs": [],
      "execution_count": null
    },
    {
      "cell_type": "code",
      "metadata": {
        "jukit_cell_id": "FD0QX97dxp"
      },
      "source": [
        "print(\"\\nUnique timepoints:\")\n",
        "round1df[\"Metadata_time_point\"].unique()"
      ],
      "outputs": [],
      "execution_count": null
    },
    {
      "cell_type": "code",
      "metadata": {
        "jukit_cell_id": "bQ8nuxMNiR"
      },
      "source": [
        "print(\"\\nUnique Seeding Densities:\")\n",
        "round1df[\"Metadata_seeding_density\"].unique()"
      ],
      "outputs": [],
      "execution_count": null
    },
    {
      "cell_type": "code",
      "metadata": {
        "jukit_cell_id": "4gr4EFd0uD"
      },
      "source": [
        "round1df[\"Metadata_seeding_density\"].value_counts()"
      ],
      "outputs": [],
      "execution_count": null
    },
    {
      "cell_type": "code",
      "metadata": {
        "jukit_cell_id": "ApqdsLAWPX"
      },
      "source": [
        "round1df[\"Metadata_cell_line\"].unique()"
      ],
      "outputs": [],
      "execution_count": null
    },
    {
      "cell_type": "code",
      "metadata": {
        "jukit_cell_id": "qrhKm33V6n"
      },
      "source": [
        "round1df[\"Metadata_Image_Count_Cells\"].nunique()"
      ],
      "outputs": [],
      "execution_count": null
    },
    {
      "cell_type": "code",
      "metadata": {
        "jukit_cell_id": "003J5TqTgq"
      },
      "source": [
        "round1df[\"Metadata_Plate\"].value_counts()"
      ],
      "outputs": [],
      "execution_count": null
    },
    {
      "cell_type": "markdown",
      "metadata": {
        "jukit_cell_id": "4wuYOqL58c"
      },
      "source": [
        "# UMAP Figures"
      ]
    },
    {
      "cell_type": "code",
      "metadata": {
        "jukit_cell_id": "L34lE7aARC"
      },
      "source": [
        "vdf = round1df.groupby(\n",
        "    [\"Metadata_cell_line\", \"Metadata_seeding_density\", \"Metadata_time_point\"]\n",
        ").sample(n=50, random_state=0)\n",
        "\n",
        "umap_obj = UMAP(random_state=0)\n",
        "umapdf = umap_obj.fit_transform(\n",
        "    vdf.loc[:, ~vdf.columns.str.contains(\"metadata\", case=False)]\n",
        ")\n",
        "umapdf = pd.DataFrame(umapdf, columns=[\"umap0\", \"umap1\"])\n",
        "umapdf = umapdf.assign(\n",
        "    Metadata_cell_line=vdf[\"Metadata_cell_line\"].reset_index(drop=True),\n",
        "    Metadata_seeding_density=vdf[\"Metadata_seeding_density\"].reset_index(drop=True),\n",
        "    Metadata_time_point=vdf[\"Metadata_time_point\"].reset_index(drop=True),\n",
        ")\n",
        "umapdf[\"Metadata_seeding_density\"] = umapdf[\"Metadata_seeding_density\"].astype(str)\n",
        "umapdf[\"Metadata_time_point\"] = umapdf[\"Metadata_time_point\"].astype(str)"
      ],
      "outputs": [],
      "execution_count": null
    },
    {
      "cell_type": "code",
      "metadata": {
        "jukit_cell_id": "ieSDyFKFQC"
      },
      "source": [
        "# Needed to display in chrome\n",
        "kaleido.get_chrome_sync()"
      ],
      "outputs": [],
      "execution_count": null
    },
    {
      "cell_type": "code",
      "metadata": {
        "jukit_cell_id": "OZ5YdxJEuG"
      },
      "source": [
        "fig = px.scatter(\n",
        "    umapdf,\n",
        "    x=\"umap0\",\n",
        "    y=\"umap1\",\n",
        "    color=\"Metadata_cell_line\",\n",
        "    title=\"UMAP by Cell Line\",\n",
        "    color_discrete_sequence=px.colors.qualitative.Dark24,\n",
        ")\n",
        "\n",
        "fig.show()\n",
        "fig.write_image(\n",
        "    static_figure_path / \"round1_cell_line_umap.png\", width=2000, height=1200\n",
        ")\n",
        "fig.write_html(\n",
        "    int_figure_path / \"round1_cell_line_umap.html\",\n",
        "    full_html=True,\n",
        "    include_plotlyjs=\"embed\",\n",
        ")"
      ],
      "outputs": [],
      "execution_count": null
    },
    {
      "cell_type": "code",
      "metadata": {
        "jukit_cell_id": "XjfIInxjNN"
      },
      "source": [
        "blue_green_colors = [\"#edf8fb\", \"#b2e2e2\", \"#66c2a4\", \"#2ca25f\", \"#006d2c\"]\n",
        "\n",
        "fig = px.scatter(\n",
        "    umapdf,\n",
        "    x=\"umap0\",\n",
        "    y=\"umap1\",\n",
        "    color=\"Metadata_seeding_density\",\n",
        "    title=\"UMAP by Seeding Density\",\n",
        "    color_discrete_sequence=blue_green_colors,\n",
        ")\n",
        "\n",
        "fig.show()\n",
        "fig.write_image(\n",
        "    static_figure_path / \"round1_seeding_density_umap.png\", width=2000, height=1200\n",
        ")\n",
        "fig.write_html(\n",
        "    int_figure_path / \"round1_seeding_density_umap.html\",\n",
        "    full_html=True,\n",
        "    include_plotlyjs=\"embed\",\n",
        ")"
      ],
      "outputs": [],
      "execution_count": null
    },
    {
      "cell_type": "code",
      "metadata": {
        "jukit_cell_id": "xfvHhoGCg7"
      },
      "source": [
        "blue_green_short_colors = [\"#edf8fb\", \"#99d8c9\", \"#2ca25f\"]\n",
        "\n",
        "fig = px.scatter(\n",
        "    umapdf,\n",
        "    x=\"umap0\",\n",
        "    y=\"umap1\",\n",
        "    color=\"Metadata_time_point\",\n",
        "    title=\"UMAP by Time Point\",\n",
        "    color_discrete_sequence=blue_green_short_colors,\n",
        ")\n",
        "\n",
        "fig.show()\n",
        "fig.write_image(\n",
        "    static_figure_path / \"round1_time_point_umap.png\", width=2000, height=1200\n",
        ")\n",
        "fig.write_html(\n",
        "    int_figure_path / \"round1_time_point_umap.html\",\n",
        "    full_html=True,\n",
        "    include_plotlyjs=\"embed\",\n",
        ")"
      ],
      "outputs": [],
      "execution_count": null
    },
    {
      "cell_type": "markdown",
      "metadata": {
        "jukit_cell_id": "VjOBxwWwuA"
      },
      "source": [
        "# Treemap Cell Count Figures"
      ]
    },
    {
      "cell_type": "code",
      "metadata": {
        "jukit_cell_id": "F6Ya6sNQvW"
      },
      "source": [
        "cellcountdf = (\n",
        "    round1df[[\"Metadata_cell_line\", \"Metadata_seeding_density\", \"Metadata_time_point\"]]\n",
        "    .value_counts()\n",
        "    .reset_index(name=\"count\")\n",
        ")\n",
        "\n",
        "fig = px.treemap(\n",
        "    cellcountdf,\n",
        "    path=[\"Metadata_cell_line\", \"Metadata_seeding_density\", \"Metadata_time_point\"],\n",
        "    values=\"count\",\n",
        "    title=\"Treemap of Category Combinations\",\n",
        ")\n",
        "\n",
        "fig.show()\n",
        "fig.write_image(static_figure_path / \"cell_count_treemap.png\", width=2000, height=1200)\n",
        "fig.write_html(\n",
        "    int_figure_path / \"cell_count_treemap.html\",\n",
        "    full_html=True,\n",
        "    include_plotlyjs=\"embed\",\n",
        ")"
      ],
      "outputs": [],
      "execution_count": null
    }
  ],
  "metadata": {
    "anaconda-cloud": {},
    "kernelspec": {
      "display_name": "python",
      "language": "python",
      "name": "python3"
    }
  },
  "nbformat": 4,
  "nbformat_minor": 4
}