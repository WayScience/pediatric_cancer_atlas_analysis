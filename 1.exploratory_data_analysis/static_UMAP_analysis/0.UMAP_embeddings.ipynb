{
 "cells": [
  {
   "cell_type": "markdown",
   "metadata": {},
   "source": [
    "# Generate UMAP embeddings using the single-cell morphology space and plot\n",
    "\n",
    "Due to the large population of single-cells across each plate, we take a subsample of ~10,000 single-cells where we get equal number of samples per cell line that is stratified by seeding density.\n",
    "\n",
    "We then plot the UMAP embeddings per plate labelling by cell line.\n",
    "`U2-OS` cells are colored magenta across all plates to ensure consistency."
   ]
  },
  {
   "cell_type": "markdown",
   "metadata": {},
   "source": [
    "## Import libraries"
   ]
  },
  {
   "cell_type": "code",
   "execution_count": 1,
   "metadata": {},
   "outputs": [
    {
     "name": "stderr",
     "output_type": "stream",
     "text": [
      "/home/jenna/pediatric_cancer_atlas_analysis/.venv/lib/python3.11/site-packages/tqdm/auto.py:21: TqdmWarning: IProgress not found. Please update jupyter and ipywidgets. See https://ipywidgets.readthedocs.io/en/stable/user_install.html\n",
      "  from .autonotebook import tqdm as notebook_tqdm\n"
     ]
    }
   ],
   "source": [
    "import umap\n",
    "import pathlib\n",
    "import pandas as pd\n",
    "import matplotlib.pyplot as plt\n",
    "import seaborn as sns\n",
    "import random\n",
    "import warnings"
   ]
  },
  {
   "cell_type": "markdown",
   "metadata": {},
   "source": [
    "## Find the root of the git repo on the host system"
   ]
  },
  {
   "cell_type": "code",
   "execution_count": 2,
   "metadata": {},
   "outputs": [],
   "source": [
    "# Get the current working directory\n",
    "cwd = pathlib.Path.cwd()\n",
    "\n",
    "if (cwd / \".git\").is_dir():\n",
    "    root_dir = cwd\n",
    "\n",
    "else:\n",
    "    root_dir = None\n",
    "    for parent in cwd.parents:\n",
    "        if (parent / \".git\").is_dir():\n",
    "            root_dir = parent\n",
    "            break\n",
    "\n",
    "# Check if a Git root directory was found\n",
    "if root_dir is None:\n",
    "    raise FileNotFoundError(\"No Git root directory found.\")"
   ]
  },
  {
   "cell_type": "markdown",
   "metadata": {},
   "source": [
    "## Define paths to feature-selected single-cell profiles"
   ]
  },
  {
   "cell_type": "code",
   "execution_count": 3,
   "metadata": {},
   "outputs": [
    {
     "name": "stdout",
     "output_type": "stream",
     "text": [
      "/home/jenna/pediatric_cancer_atlas_profiling/3.preprocessing_features/data/single_cell_profiles/Round_2_data/BR00145817_sc_feature_selected.parquet\n",
      "/home/jenna/pediatric_cancer_atlas_profiling/3.preprocessing_features/data/single_cell_profiles/Round_2_data/BR00145440_sc_feature_selected.parquet\n",
      "/home/jenna/pediatric_cancer_atlas_profiling/3.preprocessing_features/data/single_cell_profiles/Round_2_data/BR00145816_sc_feature_selected.parquet\n",
      "/home/jenna/pediatric_cancer_atlas_profiling/3.preprocessing_features/data/single_cell_profiles/Round_2_data/BR00145439_sc_feature_selected.parquet\n",
      "/home/jenna/pediatric_cancer_atlas_profiling/3.preprocessing_features/data/single_cell_profiles/Round_2_data/BR00145818_sc_feature_selected.parquet\n",
      "/home/jenna/pediatric_cancer_atlas_profiling/3.preprocessing_features/data/single_cell_profiles/Round_2_data/BR00145438_sc_feature_selected.parquet\n"
     ]
    }
   ],
   "source": [
    "# Set the round ID for the current analysis\n",
    "round_id = \"Round_2_data\"\n",
    "\n",
    "# Create the directory for saving figures\n",
    "figures_dir = pathlib.Path(f\"./figures/{round_id}\")\n",
    "figures_dir.mkdir(exist_ok=True)\n",
    "\n",
    "# directory to the single-cell data (based on local system)\n",
    "data_dir = pathlib.Path(\n",
    "    f\"../../../pediatric_cancer_atlas_profiling/3.preprocessing_features/data/single_cell_profiles/{round_id}/\"\n",
    ").resolve(strict=True)\n",
    "\n",
    "# create a list of paths to each feature-selected profile\n",
    "feature_selected_files = list(data_dir.rglob(\"*_feature_selected.parquet\"))\n",
    "\n",
    "# print paths to validate\n",
    "for file in feature_selected_files:\n",
    "    print(file)"
   ]
  },
  {
   "cell_type": "markdown",
   "metadata": {},
   "source": [
    "## Collect subsample of single-cells from each plate\n",
    "\n",
    "NOTE: We are collecting approximately equal number of cells per cell line and stratified by the seeding density. By not using the whole datasets, we speed up computational expense as this code cell takes ~2 minutes to run."
   ]
  },
  {
   "cell_type": "code",
   "execution_count": 4,
   "metadata": {},
   "outputs": [
    {
     "name": "stdout",
     "output_type": "stream",
     "text": [
      "Processed plate: BR00145817 | Sampled data shape: (8340, 1169)\n",
      "Processed plate: BR00145440 | Sampled data shape: (8810, 822)\n",
      "Processed plate: BR00145816 | Sampled data shape: (9633, 1327)\n",
      "Processed plate: BR00145439 | Sampled data shape: (8771, 872)\n",
      "Processed plate: BR00145818 | Sampled data shape: (9793, 1164)\n",
      "Processed plate: BR00145438 | Sampled data shape: (8442, 570)\n"
     ]
    }
   ],
   "source": [
    "# set constants\n",
    "total_samples = 10000\n",
    "random_seed = 0\n",
    "\n",
    "# dictionary to store sampled data\n",
    "sampled_data_dict = {}\n",
    "\n",
    "# process each plate file\n",
    "for file_path in feature_selected_files:\n",
    "    # identify plate name from file path\n",
    "    plate_name = file_path.stem.split(\"_\")[0]\n",
    "\n",
    "    # read in only cell line column to determine sampling split (number of sample per cell line)\n",
    "    unique_cell_lines = pd.read_parquet(file_path, columns=[\"Metadata_cell_line\"])[\n",
    "        \"Metadata_cell_line\"\n",
    "    ].unique()\n",
    "    samples_per_cell_line = total_samples // len(unique_cell_lines)\n",
    "\n",
    "    all_samples = []\n",
    "\n",
    "    # process each cell line\n",
    "    for cell_line in unique_cell_lines:\n",
    "        # load only rows for the current cell line\n",
    "        cell_line_data = pd.read_parquet(\n",
    "            file_path, filters=[(\"Metadata_cell_line\", \"==\", cell_line)]\n",
    "        )\n",
    "\n",
    "        # Catch deprecation warning over keeping the seeding density column\n",
    "        # due to future changes in pandas\n",
    "        with warnings.catch_warnings():\n",
    "            warnings.simplefilter(\"ignore\", FutureWarning)\n",
    "\n",
    "            # perform stratified sampling within the cell line\n",
    "            stratified_samples = (\n",
    "                cell_line_data.groupby(\"Metadata_seeding_density\", group_keys=False)\n",
    "                .apply(\n",
    "                    lambda group: group.sample(\n",
    "                        n=min(\n",
    "                            samples_per_cell_line\n",
    "                            // len(cell_line_data[\"Metadata_seeding_density\"].unique()),\n",
    "                            len(group),\n",
    "                        ),\n",
    "                        random_state=random_seed,\n",
    "                    ),\n",
    "                    include_groups=True,  # Keep seeding density in the output\n",
    "                )\n",
    "                .reset_index(drop=True)\n",
    "            )\n",
    "\n",
    "        # add the stratified sampled data to list\n",
    "        all_samples.append(stratified_samples)\n",
    "\n",
    "    # combine all samples for the current plate\n",
    "    combined_samples = pd.concat(all_samples, ignore_index=True)\n",
    "\n",
    "    # adjust total number of samples\n",
    "    sampled_df = combined_samples.sample(\n",
    "        n=min(total_samples, len(combined_samples)),\n",
    "        random_state=random_seed,\n",
    "        replace=False,\n",
    "    )\n",
    "\n",
    "    # store results\n",
    "    sampled_data_dict[plate_name] = sampled_df\n",
    "    print(f\"Processed plate: {plate_name} | Sampled data shape: {sampled_df.shape}\")"
   ]
  },
  {
   "cell_type": "code",
   "execution_count": 5,
   "metadata": {},
   "outputs": [
    {
     "name": "stdout",
     "output_type": "stream",
     "text": [
      "Randomly selected plate: BR00145817\n",
      "Metadata_cell_line\n",
      "CHLA-10     2000\n",
      "U2-OS       2000\n",
      "CHLA-218    1755\n",
      "CHLA-25     1730\n",
      "CHLA-113     855\n",
      "Name: count, dtype: int64\n"
     ]
    }
   ],
   "source": [
    "# Select a random plate name from the sampled_data_dict\n",
    "random_plate_name = random.choice(list(sampled_data_dict.keys()))\n",
    "print(f\"Randomly selected plate: {random_plate_name}\")\n",
    "\n",
    "# Get the sampled dataframe for the selected plate\n",
    "sampled_df = sampled_data_dict[random_plate_name]\n",
    "\n",
    "# Count occurrences of each cell line in the sampled dataframe\n",
    "cell_line_counts = sampled_df[\"Metadata_cell_line\"].value_counts()\n",
    "print(cell_line_counts)"
   ]
  },
  {
   "cell_type": "markdown",
   "metadata": {},
   "source": [
    "## Generate UMAP embeddings per plate"
   ]
  },
  {
   "cell_type": "code",
   "execution_count": 6,
   "metadata": {},
   "outputs": [
    {
     "name": "stderr",
     "output_type": "stream",
     "text": [
      "/home/jenna/pediatric_cancer_atlas_analysis/.venv/lib/python3.11/site-packages/numba/np/ufunc/parallel.py:371: NumbaWarning: The TBB threading layer requires TBB version 2021 update 6 or later i.e., TBB_INTERFACE_VERSION >= 12060. Found TBB_INTERFACE_VERSION = 12050. The TBB threading layer is disabled.\n",
      "  warnings.warn(problem)\n"
     ]
    },
    {
     "name": "stdout",
     "output_type": "stream",
     "text": [
      "UMAP embeddings generated for plate: BR00145817\n",
      "Cleaned samples shape: (8340, 1169)\n",
      "Final shape with embeddings: (8340, 21)\n",
      "UMAP embeddings generated for plate: BR00145440\n",
      "Cleaned samples shape: (8810, 822)\n",
      "Final shape with embeddings: (8810, 21)\n",
      "UMAP embeddings generated for plate: BR00145816\n",
      "Cleaned samples shape: (9633, 1327)\n",
      "Final shape with embeddings: (9633, 21)\n",
      "UMAP embeddings generated for plate: BR00145439\n",
      "Cleaned samples shape: (8771, 872)\n",
      "Final shape with embeddings: (8771, 21)\n",
      "UMAP embeddings generated for plate: BR00145818\n",
      "Cleaned samples shape: (9793, 1164)\n",
      "Final shape with embeddings: (9793, 21)\n",
      "UMAP embeddings generated for plate: BR00145438\n",
      "Cleaned samples shape: (8442, 570)\n",
      "Final shape with embeddings: (8442, 21)\n"
     ]
    }
   ],
   "source": [
    "# UMAP configuration\n",
    "umap_components = 2\n",
    "random_seed = 0\n",
    "\n",
    "# dictionary to store UMAP results\n",
    "umap_results_dict = {}\n",
    "\n",
    "# process sampled data from the sampled_data dictionary\n",
    "for plate_name, sampled_df in sampled_data_dict.items():\n",
    "    # separate metadata and feature columns\n",
    "    metadata_columns = [\n",
    "        col for col in sampled_df.columns if col.startswith(\"Metadata_\")\n",
    "    ]\n",
    "    feature_columns = [\n",
    "        col for col in sampled_df.columns if not col.startswith(\"Metadata_\")\n",
    "    ]\n",
    "\n",
    "    # drop rows with NaN values in feature columns\n",
    "    cleaned_df = sampled_df.dropna(subset=feature_columns)\n",
    "\n",
    "    # perform UMAP embedding on the cleaned feature data\n",
    "    umap_model = umap.UMAP(\n",
    "        n_components=umap_components, random_state=random_seed, n_jobs=1\n",
    "    )\n",
    "    umap_embeddings = umap_model.fit_transform(cleaned_df[feature_columns])\n",
    "\n",
    "    # create a DataFrame for embeddings\n",
    "    umap_df = pd.DataFrame(\n",
    "        umap_embeddings,\n",
    "        columns=[f\"UMAP{i}\" for i in range(umap_components)],\n",
    "        index=cleaned_df.index,\n",
    "    )\n",
    "\n",
    "    # combine UMAP embeddings with metadata\n",
    "    final_df = pd.concat([cleaned_df[metadata_columns], umap_df], axis=1)\n",
    "\n",
    "    # store the result in the dictionary to use for outputting results\n",
    "    umap_results_dict[plate_name] = final_df\n",
    "\n",
    "    print(f\"UMAP embeddings generated for plate: {plate_name}\")\n",
    "    print(f\"Cleaned samples shape: {cleaned_df.shape}\")\n",
    "    print(f\"Final shape with embeddings: {final_df.shape}\")"
   ]
  },
  {
   "cell_type": "markdown",
   "metadata": {},
   "source": [
    "## Generate UMAP embeddings with all sampled plates merged"
   ]
  },
  {
   "cell_type": "code",
   "execution_count": 7,
   "metadata": {},
   "outputs": [
    {
     "name": "stdout",
     "output_type": "stream",
     "text": [
      "Merged UMAP embeddings shape: (53789, 21)\n"
     ]
    }
   ],
   "source": [
    "# Find common columns across all sampled dataframes\n",
    "common_cols = set.intersection(*(set(df.columns) for df in sampled_data_dict.values()))\n",
    "\n",
    "# Select only those columns in each dataframe and concatenate\n",
    "merged_sampled_df = pd.concat(\n",
    "    [df.loc[:, list(common_cols)] for df in sampled_data_dict.values()],\n",
    "    ignore_index=True,\n",
    ")\n",
    "\n",
    "# Separate metadata and feature columns\n",
    "metadata_columns = [\n",
    "    col for col in merged_sampled_df.columns if col.startswith(\"Metadata_\")\n",
    "]\n",
    "feature_columns = [\n",
    "    col for col in merged_sampled_df.columns if not col.startswith(\"Metadata_\")\n",
    "]\n",
    "\n",
    "# Drop rows with NaN values in feature columns\n",
    "cleaned_merged_df = merged_sampled_df.dropna(subset=feature_columns)\n",
    "\n",
    "# Perform UMAP embedding on the merged feature data\n",
    "umap_model_merged = umap.UMAP(\n",
    "    n_components=umap_components, random_state=random_seed, n_jobs=1\n",
    ")\n",
    "umap_embeddings_merged = umap_model_merged.fit_transform(\n",
    "    cleaned_merged_df[feature_columns]\n",
    ")\n",
    "\n",
    "# Create a DataFrame for embeddings\n",
    "umap_merged_df = pd.DataFrame(\n",
    "    umap_embeddings_merged,\n",
    "    columns=[f\"UMAP{i}\" for i in range(umap_components)],\n",
    "    index=cleaned_merged_df.index,\n",
    ")\n",
    "\n",
    "# Combine UMAP embeddings with metadata\n",
    "final_merged_df = pd.concat(\n",
    "    [cleaned_merged_df[metadata_columns], umap_merged_df], axis=1\n",
    ")\n",
    "\n",
    "print(f\"Merged UMAP embeddings shape: {final_merged_df.shape}\")"
   ]
  },
  {
   "cell_type": "markdown",
   "metadata": {},
   "source": [
    "## Create UMAP plots per plate labelling by the cell line"
   ]
  },
  {
   "cell_type": "code",
   "execution_count": 8,
   "metadata": {},
   "outputs": [
    {
     "name": "stdout",
     "output_type": "stream",
     "text": [
      "Saved plot for BR00145817 as figures/Round_2_data/BR00145817_UMAP.png\n",
      "Saved plot for BR00145440 as figures/Round_2_data/BR00145440_UMAP.png\n",
      "Saved plot for BR00145816 as figures/Round_2_data/BR00145816_UMAP.png\n",
      "Saved plot for BR00145439 as figures/Round_2_data/BR00145439_UMAP.png\n",
      "Saved plot for BR00145818 as figures/Round_2_data/BR00145818_UMAP.png\n",
      "Saved plot for BR00145438 as figures/Round_2_data/BR00145438_UMAP.png\n"
     ]
    }
   ],
   "source": [
    "# Define consistent color for U2-OS\n",
    "u2os_color = \"#9b0068\"  # Darker magenta color\n",
    "custom_palette = {}\n",
    "\n",
    "# Create scatterplots for each plate\n",
    "for plate_name, final_df in umap_results_dict.items():\n",
    "    # Get unique cell lines in the current DataFrame\n",
    "    cell_lines = final_df[\"Metadata_cell_line\"].unique()\n",
    "\n",
    "    # Get colors for non-U2-OS cell lines from the tab10 palette\n",
    "    remaining_colors = sns.color_palette(\"tab10\", n_colors=len(cell_lines) - 1)\n",
    "\n",
    "    # Assign pink to U2-OS\n",
    "    if \"U2-OS\" in cell_lines:\n",
    "        custom_palette[\"U2-OS\"] = u2os_color\n",
    "\n",
    "    # Assign the rest of the colors to the other cell lines\n",
    "    color_idx = 0\n",
    "    for cell_line in cell_lines:\n",
    "        if cell_line != \"U2-OS\":\n",
    "            custom_palette[cell_line] = remaining_colors[color_idx]\n",
    "            color_idx += 1\n",
    "\n",
    "    # Plot\n",
    "    plt.figure(figsize=(12, 8))\n",
    "    scatter = sns.scatterplot(\n",
    "        data=final_df,\n",
    "        x=\"UMAP0\",\n",
    "        y=\"UMAP1\",\n",
    "        hue=\"Metadata_cell_line\",\n",
    "        palette=custom_palette,  # Use custom palette\n",
    "        size=\"Metadata_seeding_density\",\n",
    "        alpha=0.2,\n",
    "    )\n",
    "\n",
    "    # Customize the plot\n",
    "    plt.title(f\"UMAP Embedding for Plate: {plate_name}\", fontsize=16, weight=\"bold\")\n",
    "    plt.xlabel(\"UMAP0\", fontsize=14)\n",
    "    plt.ylabel(\"UMAP1\", fontsize=14)\n",
    "\n",
    "    # Split legends manually\n",
    "    ax = plt.gca()\n",
    "\n",
    "    # Get handles and labels\n",
    "    handles, labels = ax.get_legend_handles_labels()\n",
    "\n",
    "    # Prepare sets for unique legends\n",
    "    cell_line_handles = []\n",
    "    cell_line_labels = []\n",
    "    seeding_handles = []\n",
    "    seeding_labels = []\n",
    "\n",
    "    # Use a set to track seen labels and avoid duplicates\n",
    "    seen_labels = set()\n",
    "\n",
    "    for handle, label in zip(handles, labels):\n",
    "        if label in seen_labels or label == \"\":\n",
    "            continue  # Skip duplicates and empty labels\n",
    "        seen_labels.add(label)\n",
    "\n",
    "        if label in final_df[\"Metadata_cell_line\"].unique():\n",
    "            cell_line_handles.append(handle)\n",
    "            cell_line_labels.append(label)\n",
    "        elif (\n",
    "            label.isdigit()\n",
    "        ):  # seeding densities are numeric strings like '1000', '2000', etc.\n",
    "            seeding_handles.append(handle)\n",
    "            seeding_labels.append(label)\n",
    "\n",
    "    # Remove the automatic legend\n",
    "    ax.legend_.remove()\n",
    "\n",
    "    # Dynamically set vertical position based on number of cell lines\n",
    "    if round_id == \"Round_2_data\" and len(cell_line_labels) > 7:\n",
    "        cell_line_legend_y = 0.90  # Higher position for Round_2 with many cell lines\n",
    "    elif len(cell_line_labels) > 7:\n",
    "        cell_line_legend_y = 0.85  # Higher position for many cell lines in other rounds\n",
    "    else:\n",
    "        cell_line_legend_y = 0.70  # Default position\n",
    "\n",
    "    # Add the cell line legend\n",
    "    legend1 = ax.legend(\n",
    "        cell_line_handles,\n",
    "        cell_line_labels,\n",
    "        title=\"Cell line\",\n",
    "        fontsize=10,\n",
    "        title_fontsize=12,\n",
    "        loc=\"upper left\",\n",
    "        bbox_to_anchor=(1.02, cell_line_legend_y),\n",
    "    )\n",
    "\n",
    "    # Add the seeding density legend directly below it\n",
    "    legend2 = ax.legend(\n",
    "        seeding_handles,\n",
    "        seeding_labels,\n",
    "        title=\"Seeding density\",\n",
    "        fontsize=10,\n",
    "        title_fontsize=12,\n",
    "        loc=\"upper left\",\n",
    "        bbox_to_anchor=(1.02, 0.45),  # Adjust this to move it up/down\n",
    "    )\n",
    "\n",
    "    # Make sure both legends are on the plot\n",
    "    ax.add_artist(legend1)\n",
    "\n",
    "    plt.grid(True, linestyle=\"--\", alpha=0.6)\n",
    "    plt.tight_layout()\n",
    "\n",
    "    # Save the plot\n",
    "    file_path = figures_dir / f\"{plate_name}_UMAP.png\"\n",
    "    plt.savefig(file_path, dpi=600)\n",
    "    plt.close()  # Close the plot to free memory\n",
    "\n",
    "    print(f\"Saved plot for {plate_name} as {file_path}\")"
   ]
  },
  {
   "cell_type": "code",
   "execution_count": 9,
   "metadata": {},
   "outputs": [
    {
     "name": "stdout",
     "output_type": "stream",
     "text": [
      "Saved merged UMAP plot as figures/Round_2_data/merged_UMAP_Round_2_data.png\n"
     ]
    }
   ],
   "source": [
    "# Define consistent color for U2-OS in merged plot\n",
    "u2os_color = \"#9b0068\"\n",
    "custom_palette_merged = {}\n",
    "\n",
    "# Get unique cell lines in the merged DataFrame\n",
    "merged_cell_lines = final_merged_df[\"Metadata_cell_line\"].unique()\n",
    "\n",
    "# Get colors for non-U2-OS cell lines from the tab10 palette\n",
    "remaining_colors_merged = sns.color_palette(\n",
    "    \"tab10\", n_colors=len(merged_cell_lines) - 1\n",
    ")\n",
    "\n",
    "# Assign magenta to U2-OS\n",
    "if \"U2-OS\" in merged_cell_lines:\n",
    "    custom_palette_merged[\"U2-OS\"] = u2os_color\n",
    "\n",
    "# Assign the rest of the colors to the other cell lines\n",
    "color_idx = 0\n",
    "for cell_line in merged_cell_lines:\n",
    "    if cell_line != \"U2-OS\":\n",
    "        custom_palette_merged[cell_line] = remaining_colors_merged[color_idx]\n",
    "        color_idx += 1\n",
    "\n",
    "# Plot merged UMAP\n",
    "plt.figure(figsize=(14, 10))\n",
    "sns.scatterplot(\n",
    "    data=final_merged_df,\n",
    "    x=\"UMAP0\",\n",
    "    y=\"UMAP1\",\n",
    "    hue=\"Metadata_cell_line\",\n",
    "    palette=custom_palette_merged,\n",
    "    size=\"Metadata_seeding_density\",\n",
    "    style=\"Metadata_time_point\",\n",
    "    alpha=0.2,\n",
    ")\n",
    "\n",
    "plt.title(\"UMAP Embedding (Merged Plates)\", fontsize=18, weight=\"bold\")\n",
    "plt.xlabel(\"UMAP0\", fontsize=14)\n",
    "plt.ylabel(\"UMAP1\", fontsize=14)\n",
    "plt.legend(\n",
    "    fontsize=10,\n",
    "    title_fontsize=12,\n",
    "    loc=\"center left\",\n",
    "    bbox_to_anchor=(1.02, 0.5),\n",
    "    ncol=1,\n",
    ")\n",
    "plt.grid(True, linestyle=\"--\", alpha=0.6)\n",
    "plt.tight_layout()\n",
    "\n",
    "# Save the merged plot\n",
    "merged_plot_path = figures_dir / f\"merged_UMAP_{round_id}.png\"\n",
    "plt.savefig(merged_plot_path, dpi=600)\n",
    "plt.close()\n",
    "\n",
    "print(f\"Saved merged UMAP plot as {merged_plot_path}\")"
   ]
  }
 ],
 "metadata": {
  "kernelspec": {
   "display_name": "pediatric_cancer_atlas_analysis",
   "language": "python",
   "name": "python3"
  },
  "language_info": {
   "codemirror_mode": {
    "name": "ipython",
    "version": 3
   },
   "file_extension": ".py",
   "mimetype": "text/x-python",
   "name": "python",
   "nbconvert_exporter": "python",
   "pygments_lexer": "ipython3",
   "version": "3.11.9"
  }
 },
 "nbformat": 4,
 "nbformat_minor": 2
}
